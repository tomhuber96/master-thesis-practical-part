{
 "cells": [
  {
   "metadata": {},
   "cell_type": "markdown",
   "source": [
    "# Ground Truth Creation for Retailrocket Embeddings\n",
    "\n",
    "\n",
    "### Imports     "
   ],
   "id": "bfb098c1726c93c6"
  },
  {
   "metadata": {
    "ExecuteTime": {
     "end_time": "2024-04-21T14:04:26.109113Z",
     "start_time": "2024-04-21T14:04:26.106759Z"
    }
   },
   "cell_type": "code",
   "source": [
    "import pandas as pd\n",
    "import numpy as np\n",
    "from scipy.sparse import lil_matrix\n",
    "from scipy.sparse import save_npz\n",
    "from scipy.sparse import load_npz\n",
    "import math"
   ],
   "id": "d423647a74adbdda",
   "outputs": [],
   "execution_count": 2
  },
  {
   "metadata": {},
   "cell_type": "markdown",
   "source": "### load dataset",
   "id": "f870f65f2f644623"
  },
  {
   "metadata": {
    "ExecuteTime": {
     "end_time": "2024-04-21T14:04:26.796399Z",
     "start_time": "2024-04-21T14:04:26.135594Z"
    }
   },
   "cell_type": "code",
   "source": [
    "basepath = '../../datasets/preprocessed_datasets/retailrocket/'\n",
    "product_data = pd.read_pickle(basepath +'item_data_extracted_10k.pkl')\n",
    "product_data = product_data.reset_index(drop=True)\n",
    "\n",
    "display(product_data)"
   ],
   "id": "14fd2249cb1ec368",
   "outputs": [
    {
     "data": {
      "text/plain": [
       "      itemid categoryid available  \\\n",
       "0     309858        799         0   \n",
       "1      89393        491         0   \n",
       "2      88277       1576         0   \n",
       "3      90911        179         0   \n",
       "4      72133       1694         0   \n",
       "...      ...        ...       ...   \n",
       "9995  171847        508         0   \n",
       "9996  271852        624         0   \n",
       "9997  206063        352         0   \n",
       "9998   99270       1355         0   \n",
       "9999  382713       1512         0   \n",
       "\n",
       "                                             properties  \\\n",
       "0     [1066, 112, 159, 202, 227, 283, 364, 384, 400,...   \n",
       "1     [0, 1036, 112, 159, 202, 208, 225, 227, 283, 3...   \n",
       "2     [1010, 1036, 1064, 112, 159, 202, 227, 252, 28...   \n",
       "3     [112, 159, 19, 202, 213, 227, 243, 28, 283, 36...   \n",
       "4     [1032, 1037, 1079, 1090, 112, 120, 159, 186, 1...   \n",
       "...                                                 ...   \n",
       "9995  [112, 159, 19, 202, 227, 243, 28, 283, 364, 38...   \n",
       "9996  [112, 119, 122, 141, 142, 159, 176, 202, 227, ...   \n",
       "9997  [1036, 112, 159, 202, 227, 283, 364, 6, 678, 6...   \n",
       "9998  [112, 159, 202, 227, 28, 283, 293, 30, 348, 36...   \n",
       "9999  [112, 159, 202, 283, 348, 364, 6, 660, 678, 68...   \n",
       "\n",
       "                                        property_values  \n",
       "0     [n1260.000 424566, 679677, 519769, 125782 n144...  \n",
       "1     [[n24.000 266119 768453 119932 754228 98606 63...  \n",
       "2     [769062, 575349, 664227 504513 79652, 679677, ...  \n",
       "3     [679677, 519769, n36.000 908104, 1071703 49150...  \n",
       "4     [769062, 769062, 769062, 769062, 679677, 76906...  \n",
       "...                                                 ...  \n",
       "9995  [679677, 519769, n216.000 309206, 535929, 6851...  \n",
       "9996  [679677, 150169 924913, 769062, n12.000, 76906...  \n",
       "9997  [431619, 679677, 519769, 1202958, 404632, 4046...  \n",
       "9998  [679677, 519769, 15252 n216.000 1043928 110382...  \n",
       "9999  [679677, 519769, 590248, 1171434 150169 55580 ...  \n",
       "\n",
       "[10000 rows x 5 columns]"
      ],
      "text/html": [
       "<div>\n",
       "<style scoped>\n",
       "    .dataframe tbody tr th:only-of-type {\n",
       "        vertical-align: middle;\n",
       "    }\n",
       "\n",
       "    .dataframe tbody tr th {\n",
       "        vertical-align: top;\n",
       "    }\n",
       "\n",
       "    .dataframe thead th {\n",
       "        text-align: right;\n",
       "    }\n",
       "</style>\n",
       "<table border=\"1\" class=\"dataframe\">\n",
       "  <thead>\n",
       "    <tr style=\"text-align: right;\">\n",
       "      <th></th>\n",
       "      <th>itemid</th>\n",
       "      <th>categoryid</th>\n",
       "      <th>available</th>\n",
       "      <th>properties</th>\n",
       "      <th>property_values</th>\n",
       "    </tr>\n",
       "  </thead>\n",
       "  <tbody>\n",
       "    <tr>\n",
       "      <th>0</th>\n",
       "      <td>309858</td>\n",
       "      <td>799</td>\n",
       "      <td>0</td>\n",
       "      <td>[1066, 112, 159, 202, 227, 283, 364, 384, 400,...</td>\n",
       "      <td>[n1260.000 424566, 679677, 519769, 125782 n144...</td>\n",
       "    </tr>\n",
       "    <tr>\n",
       "      <th>1</th>\n",
       "      <td>89393</td>\n",
       "      <td>491</td>\n",
       "      <td>0</td>\n",
       "      <td>[0, 1036, 112, 159, 202, 208, 225, 227, 283, 3...</td>\n",
       "      <td>[[n24.000 266119 768453 119932 754228 98606 63...</td>\n",
       "    </tr>\n",
       "    <tr>\n",
       "      <th>2</th>\n",
       "      <td>88277</td>\n",
       "      <td>1576</td>\n",
       "      <td>0</td>\n",
       "      <td>[1010, 1036, 1064, 112, 159, 202, 227, 252, 28...</td>\n",
       "      <td>[769062, 575349, 664227 504513 79652, 679677, ...</td>\n",
       "    </tr>\n",
       "    <tr>\n",
       "      <th>3</th>\n",
       "      <td>90911</td>\n",
       "      <td>179</td>\n",
       "      <td>0</td>\n",
       "      <td>[112, 159, 19, 202, 213, 227, 243, 28, 283, 36...</td>\n",
       "      <td>[679677, 519769, n36.000 908104, 1071703 49150...</td>\n",
       "    </tr>\n",
       "    <tr>\n",
       "      <th>4</th>\n",
       "      <td>72133</td>\n",
       "      <td>1694</td>\n",
       "      <td>0</td>\n",
       "      <td>[1032, 1037, 1079, 1090, 112, 120, 159, 186, 1...</td>\n",
       "      <td>[769062, 769062, 769062, 769062, 679677, 76906...</td>\n",
       "    </tr>\n",
       "    <tr>\n",
       "      <th>...</th>\n",
       "      <td>...</td>\n",
       "      <td>...</td>\n",
       "      <td>...</td>\n",
       "      <td>...</td>\n",
       "      <td>...</td>\n",
       "    </tr>\n",
       "    <tr>\n",
       "      <th>9995</th>\n",
       "      <td>171847</td>\n",
       "      <td>508</td>\n",
       "      <td>0</td>\n",
       "      <td>[112, 159, 19, 202, 227, 243, 28, 283, 364, 38...</td>\n",
       "      <td>[679677, 519769, n216.000 309206, 535929, 6851...</td>\n",
       "    </tr>\n",
       "    <tr>\n",
       "      <th>9996</th>\n",
       "      <td>271852</td>\n",
       "      <td>624</td>\n",
       "      <td>0</td>\n",
       "      <td>[112, 119, 122, 141, 142, 159, 176, 202, 227, ...</td>\n",
       "      <td>[679677, 150169 924913, 769062, n12.000, 76906...</td>\n",
       "    </tr>\n",
       "    <tr>\n",
       "      <th>9997</th>\n",
       "      <td>206063</td>\n",
       "      <td>352</td>\n",
       "      <td>0</td>\n",
       "      <td>[1036, 112, 159, 202, 227, 283, 364, 6, 678, 6...</td>\n",
       "      <td>[431619, 679677, 519769, 1202958, 404632, 4046...</td>\n",
       "    </tr>\n",
       "    <tr>\n",
       "      <th>9998</th>\n",
       "      <td>99270</td>\n",
       "      <td>1355</td>\n",
       "      <td>0</td>\n",
       "      <td>[112, 159, 202, 227, 28, 283, 293, 30, 348, 36...</td>\n",
       "      <td>[679677, 519769, 15252 n216.000 1043928 110382...</td>\n",
       "    </tr>\n",
       "    <tr>\n",
       "      <th>9999</th>\n",
       "      <td>382713</td>\n",
       "      <td>1512</td>\n",
       "      <td>0</td>\n",
       "      <td>[112, 159, 202, 283, 348, 364, 6, 660, 678, 68...</td>\n",
       "      <td>[679677, 519769, 590248, 1171434 150169 55580 ...</td>\n",
       "    </tr>\n",
       "  </tbody>\n",
       "</table>\n",
       "<p>10000 rows × 5 columns</p>\n",
       "</div>"
      ]
     },
     "metadata": {},
     "output_type": "display_data"
    }
   ],
   "execution_count": 3
  },
  {
   "metadata": {},
   "cell_type": "markdown",
   "source": "### Create Ground Truth",
   "id": "31ac67067b324b32"
  },
  {
   "metadata": {
    "ExecuteTime": {
     "end_time": "2024-04-21T14:04:26.801233Z",
     "start_time": "2024-04-21T14:04:26.797619Z"
    }
   },
   "cell_type": "code",
   "source": [
    "def convert_properties(prop_str):\n",
    "    return set(int(x) for x in prop_str.strip('[]').split(','))\n",
    "\n",
    "def calculate_properties_similarity(prop1, prop2, print_results=False):\n",
    "    prop1 = set(prop1)\n",
    "    prop2 = set(prop2)\n",
    "    intersection = prop1.intersection(prop2)\n",
    "    avg_len = (len(prop1) + len(prop2)) / 2\n",
    "    if(print_results):\n",
    "        display(len(intersection), avg_len)\n",
    "    return len(intersection) / avg_len # >= threshold\n",
    "\n",
    "def combinations(n, r):\n",
    "    return math.factorial(n) // (math.factorial(r) * math.factorial(n - r))\n",
    "\n",
    "def weighted_average(value1, weight1, value2, weight2):\n",
    "    return (value1 * weight1 + value2 * weight2) / (weight1 + weight2)"
   ],
   "id": "73be41b68ba335d4",
   "outputs": [],
   "execution_count": 4
  },
  {
   "metadata": {
    "ExecuteTime": {
     "end_time": "2024-04-21T14:04:26.806419Z",
     "start_time": "2024-04-21T14:04:26.802244Z"
    }
   },
   "cell_type": "code",
   "source": [
    "search_1_idx = 5\n",
    "search_2_idx = 3\n",
    "display(calculate_properties_similarity(product_data.loc[search_1_idx, 'properties'], product_data.loc[search_2_idx, 'properties'], False))\n",
    "display(len(product_data.loc[search_1_idx, 'properties']), len(product_data.loc[search_2_idx, 'properties']))\n",
    "# calculate_properties_similarity([0], [10], 0.005)"
   ],
   "id": "f5f79843d49778b",
   "outputs": [
    {
     "data": {
      "text/plain": [
       "0.8727272727272727"
      ]
     },
     "metadata": {},
     "output_type": "display_data"
    },
    {
     "data": {
      "text/plain": [
       "24"
      ]
     },
     "metadata": {},
     "output_type": "display_data"
    },
    {
     "data": {
      "text/plain": [
       "31"
      ]
     },
     "metadata": {},
     "output_type": "display_data"
    }
   ],
   "execution_count": 5
  },
  {
   "metadata": {
    "ExecuteTime": {
     "end_time": "2024-04-21T14:26:36.063805Z",
     "start_time": "2024-04-21T14:04:26.808332Z"
    }
   },
   "cell_type": "code",
   "source": [
    "\n",
    "treshold = 0.7\n",
    "df = product_data.copy()\n",
    "print_count = 1000\n",
    "similarity_matrix = lil_matrix((product_data.shape[0], product_data.shape[0]), dtype=bool)  # Sparse matrix\n",
    "for i in df.index:\n",
    "    for j in range(i + 1, df.shape[0]):\n",
    "        category_match = df.loc[i, 'categoryid'] == df.loc[j, 'categoryid']\n",
    "        # properties_match = calculate_properties_similarity(df.iloc[[i, j]], threshold)[0]\n",
    "        same_category = 1.0 if df.loc[i, 'categoryid'] == df.loc[j, 'categoryid'] else 0\n",
    "        property_sim = calculate_properties_similarity(df.loc[i, 'properties'], df.loc[j, 'properties'])\n",
    "        similarity_matrix[i, j] =  weighted_average(property_sim, 0.8,same_category, 0.2) >= treshold\n",
    "    if i+1 % print_count == 0:\n",
    "       print(\"done: \" + str(i+1) + \"/\" + str(df.shape[0]))\n",
    "print(str(similarity_matrix.count_nonzero()) + \" true pairs from possible \" + str(combinations(df.shape[0], 2)))\n",
    "# similarity_matrix = similarity_matrix"
   ],
   "id": "74a96572e7d75781",
   "outputs": [
    {
     "name": "stdout",
     "output_type": "stream",
     "text": [
      "2040299 true pairs from possible 49995000\n"
     ]
    }
   ],
   "execution_count": 6
  },
  {
   "metadata": {
    "ExecuteTime": {
     "end_time": "2024-04-21T14:26:36.066207Z",
     "start_time": "2024-04-21T14:26:36.064505Z"
    }
   },
   "cell_type": "code",
   "source": "# print(similarity_matrix)",
   "id": "703cee18687e3ab0",
   "outputs": [],
   "execution_count": 7
  },
  {
   "metadata": {
    "ExecuteTime": {
     "end_time": "2024-04-21T14:26:36.262767Z",
     "start_time": "2024-04-21T14:26:36.067086Z"
    }
   },
   "cell_type": "code",
   "source": "similarity_matrix_csr = similarity_matrix.tocsr()",
   "id": "ce5dbea67702a819",
   "outputs": [],
   "execution_count": 8
  },
  {
   "metadata": {
    "ExecuteTime": {
     "end_time": "2024-04-21T14:26:36.464349Z",
     "start_time": "2024-04-21T14:26:36.263568Z"
    }
   },
   "cell_type": "code",
   "source": [
    "filename = 'ground_truth/ground_truth_10k.npz'\n",
    "save_npz(basepath + filename, similarity_matrix_csr)"
   ],
   "id": "39e36e0f0144c648",
   "outputs": [],
   "execution_count": 9
  },
  {
   "metadata": {
    "ExecuteTime": {
     "end_time": "2024-04-21T14:37:47.084289Z",
     "start_time": "2024-04-21T14:37:47.063393Z"
    }
   },
   "cell_type": "code",
   "source": [
    "loaded_csr = load_npz(basepath + filename)\n",
    "display(loaded_csr[0,1])"
   ],
   "id": "147f308acdd1ded6",
   "outputs": [
    {
     "data": {
      "text/plain": [
       "False"
      ]
     },
     "metadata": {},
     "output_type": "display_data"
    }
   ],
   "execution_count": 13
  },
  {
   "metadata": {
    "ExecuteTime": {
     "end_time": "2024-04-21T14:26:36.485759Z",
     "start_time": "2024-04-21T14:26:36.484357Z"
    }
   },
   "cell_type": "code",
   "source": "",
   "id": "e00b7894ce0a583d",
   "outputs": [],
   "execution_count": 10
  }
 ],
 "metadata": {
  "kernelspec": {
   "display_name": "Python 3",
   "language": "python",
   "name": "python3"
  },
  "language_info": {
   "codemirror_mode": {
    "name": "ipython",
    "version": 2
   },
   "file_extension": ".py",
   "mimetype": "text/x-python",
   "name": "python",
   "nbconvert_exporter": "python",
   "pygments_lexer": "ipython2",
   "version": "2.7.6"
  }
 },
 "nbformat": 4,
 "nbformat_minor": 5
}
