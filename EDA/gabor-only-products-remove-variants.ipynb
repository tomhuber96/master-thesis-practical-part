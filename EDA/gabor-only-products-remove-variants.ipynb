{
 "cells": [
  {
   "cell_type": "markdown",
   "source": [
    "# Remove product variants\n",
    "\n"
   ],
   "metadata": {
    "collapsed": false
   },
   "id": "d1b652619028f19f"
  },
  {
   "cell_type": "code",
   "execution_count": 1,
   "outputs": [],
   "source": [
    "import os\n",
    "import pandas as pd\n",
    "import numpy as np"
   ],
   "metadata": {
    "collapsed": false,
    "ExecuteTime": {
     "end_time": "2023-07-27T08:09:19.084378Z",
     "start_time": "2023-07-27T08:09:19.082848Z"
    }
   },
   "id": "1bcd57f91c433dad"
  },
  {
   "cell_type": "code",
   "execution_count": 5,
   "outputs": [
    {
     "data": {
      "text/plain": "        product__id  productNumber  \\\n0            557559  4058394021466   \n30           551622  4054452768212   \n108          547193  4054452768427   \n205          549776  4059701687894   \n241          550599  4056067216898   \n...             ...            ...   \n648486     10587121  4065171087799   \n648487     10366497  4065171994493   \n648489     10227216  4065171789143   \n648490     10230388  4065171814074   \n648491     10227507  4065171373830   \n\n                                             productName productSizeEu  \\\n0               sportliche Ballerinas Glattleder schwarz          40.0   \n30                     elegante Pumps Glattleder schwarz          38.0   \n108                           Slipper Glattleder schwarz          42.0   \n205                            Sneaker low Rauleder blau          39.0   \n241                            Sneaker low Rauleder blau          42.5   \n...                                                  ...           ...   \n648486                            Slipper Rauleder beige          44.0   \n648487                Sneaker low Materialmix Leder weiß          43.0   \n648489  PG8000 Sneaker low Materialmix Leder/Textil grün          41.0   \n648490                    PG0460 Sneaker low Textil blau          44.5   \n648491    Sneaker low Materialmix Leder/Lederimitat rosa          39.0   \n\n       productColorName articleNumber  brand__id  mainCategory__id gender  \\\n0               schwarz     02.643.57    6590678            315571      w   \n30              schwarz     05.160.37    6590677            315573      w   \n108             schwarz     04.443.27    6590677            315576      w   \n205                blau     06.968.46    4997827            315567      w   \n241                blau     06.385.26    6590678            315567      w   \n...                 ...           ...        ...               ...    ...   \n648486            beige     25.212.12    6590677            315576      w   \n648487             weiß     26.478.51    6590678            315567      w   \n648489             grün    8000.14.15    4997827           3692261      m   \n648490             blau    0460.20.02    3692257           3692261      m   \n648491             rosa     26.897.35    4997827            315567      w   \n\n       originCountry  ...   shoeStyle  productType_y heelHeightGroup  sizeEu  \\\n0                 PT  ...  Ballerinas    Damenschuhe        bis 3 cm    40.0   \n30                PT  ...       Pumps    Damenschuhe     3 cm - 5 cm    38.0   \n108               SK  ...  Halbschuhe    Damenschuhe     3 cm - 5 cm    42.0   \n205               VN  ...     Sneaker    Damenschuhe     3 cm - 5 cm    39.0   \n241               VN  ...     Sneaker    Damenschuhe        bis 3 cm    42.5   \n...              ...  ...         ...            ...             ...     ...   \n648486            PT  ...  Halbschuhe    Damenschuhe        bis 3 cm    44.0   \n648487            PT  ...     Sneaker    Damenschuhe     3 cm - 5 cm    43.0   \n648489            CN  ...     Sneaker   Herrenschuhe     3 cm - 5 cm    41.0   \n648490            PT  ...     Sneaker   Herrenschuhe     3 cm - 5 cm    44.5   \n648491            CN  ...     Sneaker    Damenschuhe     3 cm - 5 cm    39.0   \n\n        sizeUk  sizeIndex  shaftLength__value       sole isTransferee  \\\n0          6.5       11.0                 0.0      Gummi          0.0   \n30         5.0        8.0                 0.0        EVA          0.0   \n108        8.0       14.0                 0.0     PU-TPU          0.0   \n205        6.0       10.0                 0.0  Gummi-EVA          0.0   \n241        8.5       15.0                 0.0  Gummi-EVA          0.0   \n...        ...        ...                 ...        ...          ...   \n648486     9.5       17.0                 0.0        TPU          0.0   \n648487     9.0       16.0                 0.0         TR          0.0   \n648489     7.5        6.0                 0.0  Gummi-EVA          0.0   \n648490    10.0       11.0                 0.0         TR          0.0   \n648491     6.0       10.0                 0.0  Gummi-EVA          1.0   \n\n       isSuccessor  \n0              0.0  \n30             0.0  \n108            0.0  \n205            0.0  \n241            0.0  \n...            ...  \n648486         0.0  \n648487         0.0  \n648489         0.0  \n648490         0.0  \n648491         1.0  \n\n[108777 rows x 55 columns]",
      "text/html": "<div>\n<style scoped>\n    .dataframe tbody tr th:only-of-type {\n        vertical-align: middle;\n    }\n\n    .dataframe tbody tr th {\n        vertical-align: top;\n    }\n\n    .dataframe thead th {\n        text-align: right;\n    }\n</style>\n<table border=\"1\" class=\"dataframe\">\n  <thead>\n    <tr style=\"text-align: right;\">\n      <th></th>\n      <th>product__id</th>\n      <th>productNumber</th>\n      <th>productName</th>\n      <th>productSizeEu</th>\n      <th>productColorName</th>\n      <th>articleNumber</th>\n      <th>brand__id</th>\n      <th>mainCategory__id</th>\n      <th>gender</th>\n      <th>originCountry</th>\n      <th>...</th>\n      <th>shoeStyle</th>\n      <th>productType_y</th>\n      <th>heelHeightGroup</th>\n      <th>sizeEu</th>\n      <th>sizeUk</th>\n      <th>sizeIndex</th>\n      <th>shaftLength__value</th>\n      <th>sole</th>\n      <th>isTransferee</th>\n      <th>isSuccessor</th>\n    </tr>\n  </thead>\n  <tbody>\n    <tr>\n      <th>0</th>\n      <td>557559</td>\n      <td>4058394021466</td>\n      <td>sportliche Ballerinas Glattleder schwarz</td>\n      <td>40.0</td>\n      <td>schwarz</td>\n      <td>02.643.57</td>\n      <td>6590678</td>\n      <td>315571</td>\n      <td>w</td>\n      <td>PT</td>\n      <td>...</td>\n      <td>Ballerinas</td>\n      <td>Damenschuhe</td>\n      <td>bis 3 cm</td>\n      <td>40.0</td>\n      <td>6.5</td>\n      <td>11.0</td>\n      <td>0.0</td>\n      <td>Gummi</td>\n      <td>0.0</td>\n      <td>0.0</td>\n    </tr>\n    <tr>\n      <th>30</th>\n      <td>551622</td>\n      <td>4054452768212</td>\n      <td>elegante Pumps Glattleder schwarz</td>\n      <td>38.0</td>\n      <td>schwarz</td>\n      <td>05.160.37</td>\n      <td>6590677</td>\n      <td>315573</td>\n      <td>w</td>\n      <td>PT</td>\n      <td>...</td>\n      <td>Pumps</td>\n      <td>Damenschuhe</td>\n      <td>3 cm - 5 cm</td>\n      <td>38.0</td>\n      <td>5.0</td>\n      <td>8.0</td>\n      <td>0.0</td>\n      <td>EVA</td>\n      <td>0.0</td>\n      <td>0.0</td>\n    </tr>\n    <tr>\n      <th>108</th>\n      <td>547193</td>\n      <td>4054452768427</td>\n      <td>Slipper Glattleder schwarz</td>\n      <td>42.0</td>\n      <td>schwarz</td>\n      <td>04.443.27</td>\n      <td>6590677</td>\n      <td>315576</td>\n      <td>w</td>\n      <td>SK</td>\n      <td>...</td>\n      <td>Halbschuhe</td>\n      <td>Damenschuhe</td>\n      <td>3 cm - 5 cm</td>\n      <td>42.0</td>\n      <td>8.0</td>\n      <td>14.0</td>\n      <td>0.0</td>\n      <td>PU-TPU</td>\n      <td>0.0</td>\n      <td>0.0</td>\n    </tr>\n    <tr>\n      <th>205</th>\n      <td>549776</td>\n      <td>4059701687894</td>\n      <td>Sneaker low Rauleder blau</td>\n      <td>39.0</td>\n      <td>blau</td>\n      <td>06.968.46</td>\n      <td>4997827</td>\n      <td>315567</td>\n      <td>w</td>\n      <td>VN</td>\n      <td>...</td>\n      <td>Sneaker</td>\n      <td>Damenschuhe</td>\n      <td>3 cm - 5 cm</td>\n      <td>39.0</td>\n      <td>6.0</td>\n      <td>10.0</td>\n      <td>0.0</td>\n      <td>Gummi-EVA</td>\n      <td>0.0</td>\n      <td>0.0</td>\n    </tr>\n    <tr>\n      <th>241</th>\n      <td>550599</td>\n      <td>4056067216898</td>\n      <td>Sneaker low Rauleder blau</td>\n      <td>42.5</td>\n      <td>blau</td>\n      <td>06.385.26</td>\n      <td>6590678</td>\n      <td>315567</td>\n      <td>w</td>\n      <td>VN</td>\n      <td>...</td>\n      <td>Sneaker</td>\n      <td>Damenschuhe</td>\n      <td>bis 3 cm</td>\n      <td>42.5</td>\n      <td>8.5</td>\n      <td>15.0</td>\n      <td>0.0</td>\n      <td>Gummi-EVA</td>\n      <td>0.0</td>\n      <td>0.0</td>\n    </tr>\n    <tr>\n      <th>...</th>\n      <td>...</td>\n      <td>...</td>\n      <td>...</td>\n      <td>...</td>\n      <td>...</td>\n      <td>...</td>\n      <td>...</td>\n      <td>...</td>\n      <td>...</td>\n      <td>...</td>\n      <td>...</td>\n      <td>...</td>\n      <td>...</td>\n      <td>...</td>\n      <td>...</td>\n      <td>...</td>\n      <td>...</td>\n      <td>...</td>\n      <td>...</td>\n      <td>...</td>\n      <td>...</td>\n    </tr>\n    <tr>\n      <th>648486</th>\n      <td>10587121</td>\n      <td>4065171087799</td>\n      <td>Slipper Rauleder beige</td>\n      <td>44.0</td>\n      <td>beige</td>\n      <td>25.212.12</td>\n      <td>6590677</td>\n      <td>315576</td>\n      <td>w</td>\n      <td>PT</td>\n      <td>...</td>\n      <td>Halbschuhe</td>\n      <td>Damenschuhe</td>\n      <td>bis 3 cm</td>\n      <td>44.0</td>\n      <td>9.5</td>\n      <td>17.0</td>\n      <td>0.0</td>\n      <td>TPU</td>\n      <td>0.0</td>\n      <td>0.0</td>\n    </tr>\n    <tr>\n      <th>648487</th>\n      <td>10366497</td>\n      <td>4065171994493</td>\n      <td>Sneaker low Materialmix Leder weiß</td>\n      <td>43.0</td>\n      <td>weiß</td>\n      <td>26.478.51</td>\n      <td>6590678</td>\n      <td>315567</td>\n      <td>w</td>\n      <td>PT</td>\n      <td>...</td>\n      <td>Sneaker</td>\n      <td>Damenschuhe</td>\n      <td>3 cm - 5 cm</td>\n      <td>43.0</td>\n      <td>9.0</td>\n      <td>16.0</td>\n      <td>0.0</td>\n      <td>TR</td>\n      <td>0.0</td>\n      <td>0.0</td>\n    </tr>\n    <tr>\n      <th>648489</th>\n      <td>10227216</td>\n      <td>4065171789143</td>\n      <td>PG8000 Sneaker low Materialmix Leder/Textil grün</td>\n      <td>41.0</td>\n      <td>grün</td>\n      <td>8000.14.15</td>\n      <td>4997827</td>\n      <td>3692261</td>\n      <td>m</td>\n      <td>CN</td>\n      <td>...</td>\n      <td>Sneaker</td>\n      <td>Herrenschuhe</td>\n      <td>3 cm - 5 cm</td>\n      <td>41.0</td>\n      <td>7.5</td>\n      <td>6.0</td>\n      <td>0.0</td>\n      <td>Gummi-EVA</td>\n      <td>0.0</td>\n      <td>0.0</td>\n    </tr>\n    <tr>\n      <th>648490</th>\n      <td>10230388</td>\n      <td>4065171814074</td>\n      <td>PG0460 Sneaker low Textil blau</td>\n      <td>44.5</td>\n      <td>blau</td>\n      <td>0460.20.02</td>\n      <td>3692257</td>\n      <td>3692261</td>\n      <td>m</td>\n      <td>PT</td>\n      <td>...</td>\n      <td>Sneaker</td>\n      <td>Herrenschuhe</td>\n      <td>3 cm - 5 cm</td>\n      <td>44.5</td>\n      <td>10.0</td>\n      <td>11.0</td>\n      <td>0.0</td>\n      <td>TR</td>\n      <td>0.0</td>\n      <td>0.0</td>\n    </tr>\n    <tr>\n      <th>648491</th>\n      <td>10227507</td>\n      <td>4065171373830</td>\n      <td>Sneaker low Materialmix Leder/Lederimitat rosa</td>\n      <td>39.0</td>\n      <td>rosa</td>\n      <td>26.897.35</td>\n      <td>4997827</td>\n      <td>315567</td>\n      <td>w</td>\n      <td>CN</td>\n      <td>...</td>\n      <td>Sneaker</td>\n      <td>Damenschuhe</td>\n      <td>3 cm - 5 cm</td>\n      <td>39.0</td>\n      <td>6.0</td>\n      <td>10.0</td>\n      <td>0.0</td>\n      <td>Gummi-EVA</td>\n      <td>1.0</td>\n      <td>1.0</td>\n    </tr>\n  </tbody>\n</table>\n<p>108777 rows × 55 columns</p>\n</div>"
     },
     "metadata": {},
     "output_type": "display_data"
    }
   ],
   "source": [
    "basepath = '../datasets/preprocessed_datasets/gabor/'\n",
    "product_data = pd.read_pickle(basepath +'only_products.pkl')\n",
    "\n",
    "# product_data = product_data.sample(n=1000, random_state=2).reset_index(drop=True)\n",
    "display(product_data)"
   ],
   "metadata": {
    "collapsed": false,
    "ExecuteTime": {
     "end_time": "2023-07-27T08:12:01.505435Z",
     "start_time": "2023-07-27T08:12:01.359187Z"
    }
   },
   "id": "6dcd5988bf1569e4"
  },
  {
   "cell_type": "code",
   "execution_count": 8,
   "outputs": [
    {
     "data": {
      "text/plain": "array(['sportliche Ballerinas Glattleder schwarz',\n       'elegante Pumps Glattleder schwarz', 'Slipper Glattleder schwarz',\n       ..., 'Shopper ANDIE blau', 'Elegante pumps Glad leer wit',\n       'Sandale compensée Daim beige'], dtype=object)"
     },
     "execution_count": 8,
     "metadata": {},
     "output_type": "execute_result"
    }
   ],
   "source": [
    "product_data.productName.unique()"
   ],
   "metadata": {
    "collapsed": false,
    "ExecuteTime": {
     "end_time": "2023-07-27T08:21:27.776117Z",
     "start_time": "2023-07-27T08:21:27.768903Z"
    }
   },
   "id": "28c228a460617646"
  },
  {
   "cell_type": "code",
   "execution_count": 7,
   "outputs": [
    {
     "data": {
      "text/plain": "        product__id  productNumber  \\\n0            557559  4058394021466   \n30           551622  4054452768212   \n108          547193  4054452768427   \n205          549776  4059701687894   \n281          550726  4054452851594   \n...             ...            ...   \n647923     10603553  4066558951733   \n648022     10442948  4065171827272   \n648195     10782704  4251234499207   \n648233     10679703  4066558303617   \n648288     10496278  4065171812513   \n\n                                              productName productSizeEu  \\\n0                sportliche Ballerinas Glattleder schwarz          40.0   \n30                      elegante Pumps Glattleder schwarz          38.0   \n108                            Slipper Glattleder schwarz          42.0   \n205                             Sneaker low Rauleder blau          39.0   \n281     elegante Ballerinas Materialmix Lederimitat sc...          37.5   \n...                                                   ...           ...   \n647923                Sandale met plateauzool Suède blauw          35.0   \n648022                    Mokassin Materialmix Leder pink          40.5   \n648195                                 Shopper ANDIE blau                 \n648233                       Elegante pumps Glad leer wit          35.0   \n648288                       Sandale compensée Daim beige          38.0   \n\n       productColorName articleNumber  brand__id  mainCategory__id gender  \\\n0               schwarz     02.643.57    6590678            315571      w   \n30              schwarz     05.160.37    6590677            315573      w   \n108             schwarz     04.443.27    6590677            315576      w   \n205                blau     06.968.46    4997827            315567      w   \n281             schwarz     06.102.67    6590678            315574      w   \n...                 ...           ...        ...               ...    ...   \n647923            blauw     24.764.36    6590677            315568      w   \n648022             pink     26.090.21    6590678            315590      w   \n648195             blau        921453     363013            363017      w   \n648233              wit     21.450.60    6590677            315573      w   \n648288            beige     24.645.14    6590677            315564      w   \n\n       originCountry  ...   shoeStyle  productType_y heelHeightGroup  sizeEu  \\\n0                 PT  ...  Ballerinas    Damenschuhe        bis 3 cm    40.0   \n30                PT  ...       Pumps    Damenschuhe     3 cm - 5 cm    38.0   \n108               SK  ...  Halbschuhe    Damenschuhe     3 cm - 5 cm    42.0   \n205               VN  ...     Sneaker    Damenschuhe     3 cm - 5 cm    39.0   \n281               SK  ...  Ballerinas    Damenschuhe        bis 3 cm    37.5   \n...              ...  ...         ...            ...             ...     ...   \n647923            SK  ...    Sandalen    Damenschuhe     5 cm - 8 cm    35.0   \n648022            PT  ...  Halbschuhe    Damenschuhe        bis 3 cm    40.5   \n648195            DE  ...         NaN            NaN             NaN     NaN   \n648233            PT  ...       Pumps    Damenschuhe     5 cm - 8 cm    35.0   \n648288            PT  ...    Sandalen    Damenschuhe     5 cm - 8 cm    38.0   \n\n        sizeUk  sizeIndex  shaftLength__value       sole isTransferee  \\\n0          6.5       11.0                 0.0      Gummi          0.0   \n30         5.0        8.0                 0.0        EVA          0.0   \n108        8.0       14.0                 0.0     PU-TPU          0.0   \n205        6.0       10.0                 0.0  Gummi-EVA          0.0   \n281        4.5        7.0                 0.0        EVA          0.0   \n...        ...        ...                 ...        ...          ...   \n647923     2.5        3.0                 0.0     PU-TPU          0.0   \n648022     7.0       12.0                 0.0      Gummi          0.0   \n648195     NaN        NaN                 NaN        NaN          NaN   \n648233     2.5        3.0                 0.0        TPU          0.0   \n648288     5.0        8.0                 0.0         TR          0.0   \n\n       isSuccessor  \n0              0.0  \n30             0.0  \n108            0.0  \n205            0.0  \n281            0.0  \n...            ...  \n647923         0.0  \n648022         0.0  \n648195         NaN  \n648233         0.0  \n648288         0.0  \n\n[3297 rows x 55 columns]",
      "text/html": "<div>\n<style scoped>\n    .dataframe tbody tr th:only-of-type {\n        vertical-align: middle;\n    }\n\n    .dataframe tbody tr th {\n        vertical-align: top;\n    }\n\n    .dataframe thead th {\n        text-align: right;\n    }\n</style>\n<table border=\"1\" class=\"dataframe\">\n  <thead>\n    <tr style=\"text-align: right;\">\n      <th></th>\n      <th>product__id</th>\n      <th>productNumber</th>\n      <th>productName</th>\n      <th>productSizeEu</th>\n      <th>productColorName</th>\n      <th>articleNumber</th>\n      <th>brand__id</th>\n      <th>mainCategory__id</th>\n      <th>gender</th>\n      <th>originCountry</th>\n      <th>...</th>\n      <th>shoeStyle</th>\n      <th>productType_y</th>\n      <th>heelHeightGroup</th>\n      <th>sizeEu</th>\n      <th>sizeUk</th>\n      <th>sizeIndex</th>\n      <th>shaftLength__value</th>\n      <th>sole</th>\n      <th>isTransferee</th>\n      <th>isSuccessor</th>\n    </tr>\n  </thead>\n  <tbody>\n    <tr>\n      <th>0</th>\n      <td>557559</td>\n      <td>4058394021466</td>\n      <td>sportliche Ballerinas Glattleder schwarz</td>\n      <td>40.0</td>\n      <td>schwarz</td>\n      <td>02.643.57</td>\n      <td>6590678</td>\n      <td>315571</td>\n      <td>w</td>\n      <td>PT</td>\n      <td>...</td>\n      <td>Ballerinas</td>\n      <td>Damenschuhe</td>\n      <td>bis 3 cm</td>\n      <td>40.0</td>\n      <td>6.5</td>\n      <td>11.0</td>\n      <td>0.0</td>\n      <td>Gummi</td>\n      <td>0.0</td>\n      <td>0.0</td>\n    </tr>\n    <tr>\n      <th>30</th>\n      <td>551622</td>\n      <td>4054452768212</td>\n      <td>elegante Pumps Glattleder schwarz</td>\n      <td>38.0</td>\n      <td>schwarz</td>\n      <td>05.160.37</td>\n      <td>6590677</td>\n      <td>315573</td>\n      <td>w</td>\n      <td>PT</td>\n      <td>...</td>\n      <td>Pumps</td>\n      <td>Damenschuhe</td>\n      <td>3 cm - 5 cm</td>\n      <td>38.0</td>\n      <td>5.0</td>\n      <td>8.0</td>\n      <td>0.0</td>\n      <td>EVA</td>\n      <td>0.0</td>\n      <td>0.0</td>\n    </tr>\n    <tr>\n      <th>108</th>\n      <td>547193</td>\n      <td>4054452768427</td>\n      <td>Slipper Glattleder schwarz</td>\n      <td>42.0</td>\n      <td>schwarz</td>\n      <td>04.443.27</td>\n      <td>6590677</td>\n      <td>315576</td>\n      <td>w</td>\n      <td>SK</td>\n      <td>...</td>\n      <td>Halbschuhe</td>\n      <td>Damenschuhe</td>\n      <td>3 cm - 5 cm</td>\n      <td>42.0</td>\n      <td>8.0</td>\n      <td>14.0</td>\n      <td>0.0</td>\n      <td>PU-TPU</td>\n      <td>0.0</td>\n      <td>0.0</td>\n    </tr>\n    <tr>\n      <th>205</th>\n      <td>549776</td>\n      <td>4059701687894</td>\n      <td>Sneaker low Rauleder blau</td>\n      <td>39.0</td>\n      <td>blau</td>\n      <td>06.968.46</td>\n      <td>4997827</td>\n      <td>315567</td>\n      <td>w</td>\n      <td>VN</td>\n      <td>...</td>\n      <td>Sneaker</td>\n      <td>Damenschuhe</td>\n      <td>3 cm - 5 cm</td>\n      <td>39.0</td>\n      <td>6.0</td>\n      <td>10.0</td>\n      <td>0.0</td>\n      <td>Gummi-EVA</td>\n      <td>0.0</td>\n      <td>0.0</td>\n    </tr>\n    <tr>\n      <th>281</th>\n      <td>550726</td>\n      <td>4054452851594</td>\n      <td>elegante Ballerinas Materialmix Lederimitat sc...</td>\n      <td>37.5</td>\n      <td>schwarz</td>\n      <td>06.102.67</td>\n      <td>6590678</td>\n      <td>315574</td>\n      <td>w</td>\n      <td>SK</td>\n      <td>...</td>\n      <td>Ballerinas</td>\n      <td>Damenschuhe</td>\n      <td>bis 3 cm</td>\n      <td>37.5</td>\n      <td>4.5</td>\n      <td>7.0</td>\n      <td>0.0</td>\n      <td>EVA</td>\n      <td>0.0</td>\n      <td>0.0</td>\n    </tr>\n    <tr>\n      <th>...</th>\n      <td>...</td>\n      <td>...</td>\n      <td>...</td>\n      <td>...</td>\n      <td>...</td>\n      <td>...</td>\n      <td>...</td>\n      <td>...</td>\n      <td>...</td>\n      <td>...</td>\n      <td>...</td>\n      <td>...</td>\n      <td>...</td>\n      <td>...</td>\n      <td>...</td>\n      <td>...</td>\n      <td>...</td>\n      <td>...</td>\n      <td>...</td>\n      <td>...</td>\n      <td>...</td>\n    </tr>\n    <tr>\n      <th>647923</th>\n      <td>10603553</td>\n      <td>4066558951733</td>\n      <td>Sandale met plateauzool Suède blauw</td>\n      <td>35.0</td>\n      <td>blauw</td>\n      <td>24.764.36</td>\n      <td>6590677</td>\n      <td>315568</td>\n      <td>w</td>\n      <td>SK</td>\n      <td>...</td>\n      <td>Sandalen</td>\n      <td>Damenschuhe</td>\n      <td>5 cm - 8 cm</td>\n      <td>35.0</td>\n      <td>2.5</td>\n      <td>3.0</td>\n      <td>0.0</td>\n      <td>PU-TPU</td>\n      <td>0.0</td>\n      <td>0.0</td>\n    </tr>\n    <tr>\n      <th>648022</th>\n      <td>10442948</td>\n      <td>4065171827272</td>\n      <td>Mokassin Materialmix Leder pink</td>\n      <td>40.5</td>\n      <td>pink</td>\n      <td>26.090.21</td>\n      <td>6590678</td>\n      <td>315590</td>\n      <td>w</td>\n      <td>PT</td>\n      <td>...</td>\n      <td>Halbschuhe</td>\n      <td>Damenschuhe</td>\n      <td>bis 3 cm</td>\n      <td>40.5</td>\n      <td>7.0</td>\n      <td>12.0</td>\n      <td>0.0</td>\n      <td>Gummi</td>\n      <td>0.0</td>\n      <td>0.0</td>\n    </tr>\n    <tr>\n      <th>648195</th>\n      <td>10782704</td>\n      <td>4251234499207</td>\n      <td>Shopper ANDIE blau</td>\n      <td></td>\n      <td>blau</td>\n      <td>921453</td>\n      <td>363013</td>\n      <td>363017</td>\n      <td>w</td>\n      <td>DE</td>\n      <td>...</td>\n      <td>NaN</td>\n      <td>NaN</td>\n      <td>NaN</td>\n      <td>NaN</td>\n      <td>NaN</td>\n      <td>NaN</td>\n      <td>NaN</td>\n      <td>NaN</td>\n      <td>NaN</td>\n      <td>NaN</td>\n    </tr>\n    <tr>\n      <th>648233</th>\n      <td>10679703</td>\n      <td>4066558303617</td>\n      <td>Elegante pumps Glad leer wit</td>\n      <td>35.0</td>\n      <td>wit</td>\n      <td>21.450.60</td>\n      <td>6590677</td>\n      <td>315573</td>\n      <td>w</td>\n      <td>PT</td>\n      <td>...</td>\n      <td>Pumps</td>\n      <td>Damenschuhe</td>\n      <td>5 cm - 8 cm</td>\n      <td>35.0</td>\n      <td>2.5</td>\n      <td>3.0</td>\n      <td>0.0</td>\n      <td>TPU</td>\n      <td>0.0</td>\n      <td>0.0</td>\n    </tr>\n    <tr>\n      <th>648288</th>\n      <td>10496278</td>\n      <td>4065171812513</td>\n      <td>Sandale compensée Daim beige</td>\n      <td>38.0</td>\n      <td>beige</td>\n      <td>24.645.14</td>\n      <td>6590677</td>\n      <td>315564</td>\n      <td>w</td>\n      <td>PT</td>\n      <td>...</td>\n      <td>Sandalen</td>\n      <td>Damenschuhe</td>\n      <td>5 cm - 8 cm</td>\n      <td>38.0</td>\n      <td>5.0</td>\n      <td>8.0</td>\n      <td>0.0</td>\n      <td>TR</td>\n      <td>0.0</td>\n      <td>0.0</td>\n    </tr>\n  </tbody>\n</table>\n<p>3297 rows × 55 columns</p>\n</div>"
     },
     "execution_count": 7,
     "metadata": {},
     "output_type": "execute_result"
    }
   ],
   "source": [
    "duplicates_mask = product_data.duplicated(subset=['productName', 'productColorName', 'mainCategory__id'], keep='first')\n",
    "df_no_duplicates = product_data[~duplicates_mask]\n",
    "df_no_duplicates"
   ],
   "metadata": {
    "collapsed": false,
    "ExecuteTime": {
     "end_time": "2023-07-27T08:18:01.488840Z",
     "start_time": "2023-07-27T08:18:01.450499Z"
    }
   },
   "id": "574d2c538e85cc48"
  },
  {
   "cell_type": "code",
   "execution_count": 9,
   "outputs": [],
   "source": [
    "df_no_duplicates.to_pickle(basepath + 'no_product_variants.pkl')"
   ],
   "metadata": {
    "collapsed": false,
    "ExecuteTime": {
     "end_time": "2023-07-27T08:21:53.621548Z",
     "start_time": "2023-07-27T08:21:53.607712Z"
    }
   },
   "id": "e4e878fee441e34b"
  }
 ],
 "metadata": {
  "kernelspec": {
   "display_name": "Python 3",
   "language": "python",
   "name": "python3"
  },
  "language_info": {
   "codemirror_mode": {
    "name": "ipython",
    "version": 2
   },
   "file_extension": ".py",
   "mimetype": "text/x-python",
   "name": "python",
   "nbconvert_exporter": "python",
   "pygments_lexer": "ipython2",
   "version": "2.7.6"
  }
 },
 "nbformat": 4,
 "nbformat_minor": 5
}
