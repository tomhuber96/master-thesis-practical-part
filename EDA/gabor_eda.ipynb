{
 "cells": [
  {
   "cell_type": "markdown",
   "source": [
    "# Gabor Dataset"
   ],
   "metadata": {
    "collapsed": false
   }
  },
  {
   "cell_type": "code",
   "execution_count": 1,
   "outputs": [],
   "source": [
    "import pandas as pd\n",
    "import seaborn as sns\n",
    "import numpy as np\n",
    "import matplotlib.pyplot as plt\n",
    "\n",
    "\n",
    "pd.set_option('display.max_columns', None)"
   ],
   "metadata": {
    "collapsed": false
   }
  },
  {
   "cell_type": "markdown",
   "source": [
    "## Read datasets"
   ],
   "metadata": {
    "collapsed": false
   }
  },
  {
   "cell_type": "code",
   "execution_count": 2,
   "outputs": [],
   "source": [
    "product_columns = [\n",
    "    \"o_id\", \"o_parentId\", \"articleNumber\", \"articleNumber2\", \"brand__id\", \"mainCategory__id\", \"name\", \"description\", \"gender\", \"deliveryTime\",\n",
    "    \"originCountry\", \"line\", \"b2cWebshopStatus\", \"b2cPrice\", \"b2cCurrency\", \"indicatorAdvertisement\", \"indicatorWedding\", \"indicatorSale\",\n",
    "    \"mainImage\", \"additionalImage1\", \"additionalImage2\", \"additionalImage3\", \"additionalImage4\", \"additionalImage5\",\n",
    "    \"weight__unit\", \"weight__value\", \"material\", \"materialPm\", \"color\", \"closure\",\n",
    "    \"relationsUpSelling\", \"relationsColors\"\n",
    "] # used for assign product values to new csv"
   ],
   "metadata": {
    "collapsed": false
   }
  },
  {
   "cell_type": "code",
   "execution_count": 3,
   "outputs": [],
   "source": [
    "def base_information_dataset(df):\n",
    "    print(df.shape)\n",
    "    display(df.head())\n",
    "    display(df.describe())\n",
    "    display(df.isnull().sum())"
   ],
   "metadata": {
    "collapsed": false
   }
  },
  {
   "cell_type": "markdown",
   "source": [
    "### Bag Data"
   ],
   "metadata": {
    "collapsed": false
   }
  },
  {
   "cell_type": "code",
   "execution_count": 4,
   "outputs": [
    {
     "name": "stdout",
     "output_type": "stream",
     "text": [
      "(252, 9)\n"
     ]
    },
    {
     "data": {
      "text/plain": "      o_id   fieldname  height__value  height__unit  length__value  \\\n0  9331625  attributes           10.5             1           17.0   \n1  9331626  attributes           10.5             1           17.0   \n2  9331649  attributes           23.5             1           25.0   \n3  9331650  attributes           23.5             1           25.0   \n4  9331652  attributes           23.5             1           25.0   \n\n   length__unit  width__value  width__unit  formGroup  \n0             1           3.0            1        NaN  \n1             1           3.0            1        NaN  \n2             1           6.5            1        NaN  \n3             1           6.5            1        NaN  \n4             1           6.5            1        NaN  ",
      "text/html": "<div>\n<style scoped>\n    .dataframe tbody tr th:only-of-type {\n        vertical-align: middle;\n    }\n\n    .dataframe tbody tr th {\n        vertical-align: top;\n    }\n\n    .dataframe thead th {\n        text-align: right;\n    }\n</style>\n<table border=\"1\" class=\"dataframe\">\n  <thead>\n    <tr style=\"text-align: right;\">\n      <th></th>\n      <th>o_id</th>\n      <th>fieldname</th>\n      <th>height__value</th>\n      <th>height__unit</th>\n      <th>length__value</th>\n      <th>length__unit</th>\n      <th>width__value</th>\n      <th>width__unit</th>\n      <th>formGroup</th>\n    </tr>\n  </thead>\n  <tbody>\n    <tr>\n      <th>0</th>\n      <td>9331625</td>\n      <td>attributes</td>\n      <td>10.5</td>\n      <td>1</td>\n      <td>17.0</td>\n      <td>1</td>\n      <td>3.0</td>\n      <td>1</td>\n      <td>NaN</td>\n    </tr>\n    <tr>\n      <th>1</th>\n      <td>9331626</td>\n      <td>attributes</td>\n      <td>10.5</td>\n      <td>1</td>\n      <td>17.0</td>\n      <td>1</td>\n      <td>3.0</td>\n      <td>1</td>\n      <td>NaN</td>\n    </tr>\n    <tr>\n      <th>2</th>\n      <td>9331649</td>\n      <td>attributes</td>\n      <td>23.5</td>\n      <td>1</td>\n      <td>25.0</td>\n      <td>1</td>\n      <td>6.5</td>\n      <td>1</td>\n      <td>NaN</td>\n    </tr>\n    <tr>\n      <th>3</th>\n      <td>9331650</td>\n      <td>attributes</td>\n      <td>23.5</td>\n      <td>1</td>\n      <td>25.0</td>\n      <td>1</td>\n      <td>6.5</td>\n      <td>1</td>\n      <td>NaN</td>\n    </tr>\n    <tr>\n      <th>4</th>\n      <td>9331652</td>\n      <td>attributes</td>\n      <td>23.5</td>\n      <td>1</td>\n      <td>25.0</td>\n      <td>1</td>\n      <td>6.5</td>\n      <td>1</td>\n      <td>NaN</td>\n    </tr>\n  </tbody>\n</table>\n</div>"
     },
     "metadata": {},
     "output_type": "display_data"
    },
    {
     "data": {
      "text/plain": "               o_id  height__value  height__unit  length__value  length__unit  \\\ncount  2.520000e+02     252.000000         252.0     252.000000         252.0   \nmean   1.046135e+07      24.070635           1.0      29.797222           1.0   \nstd    5.639794e+05       6.591677           0.0       8.570590           0.0   \nmin    9.331625e+06       7.700000           1.0      10.800000           1.0   \n25%    1.077090e+07      21.000000           1.0      24.000000           1.0   \n50%    1.078275e+07      25.000000           1.0      28.000000           1.0   \n75%    1.078282e+07      29.000000           1.0      36.000000           1.0   \nmax    1.078288e+07      41.000000           1.0      47.000000           1.0   \n\n       width__value  width__unit  formGroup  \ncount    252.000000        252.0        0.0  \nmean      10.289683          1.0        NaN  \nstd        4.517277          0.0        NaN  \nmin        2.500000          1.0        NaN  \n25%        7.000000          1.0        NaN  \n50%       11.000000          1.0        NaN  \n75%       13.625000          1.0        NaN  \nmax       18.500000          1.0        NaN  ",
      "text/html": "<div>\n<style scoped>\n    .dataframe tbody tr th:only-of-type {\n        vertical-align: middle;\n    }\n\n    .dataframe tbody tr th {\n        vertical-align: top;\n    }\n\n    .dataframe thead th {\n        text-align: right;\n    }\n</style>\n<table border=\"1\" class=\"dataframe\">\n  <thead>\n    <tr style=\"text-align: right;\">\n      <th></th>\n      <th>o_id</th>\n      <th>height__value</th>\n      <th>height__unit</th>\n      <th>length__value</th>\n      <th>length__unit</th>\n      <th>width__value</th>\n      <th>width__unit</th>\n      <th>formGroup</th>\n    </tr>\n  </thead>\n  <tbody>\n    <tr>\n      <th>count</th>\n      <td>2.520000e+02</td>\n      <td>252.000000</td>\n      <td>252.0</td>\n      <td>252.000000</td>\n      <td>252.0</td>\n      <td>252.000000</td>\n      <td>252.0</td>\n      <td>0.0</td>\n    </tr>\n    <tr>\n      <th>mean</th>\n      <td>1.046135e+07</td>\n      <td>24.070635</td>\n      <td>1.0</td>\n      <td>29.797222</td>\n      <td>1.0</td>\n      <td>10.289683</td>\n      <td>1.0</td>\n      <td>NaN</td>\n    </tr>\n    <tr>\n      <th>std</th>\n      <td>5.639794e+05</td>\n      <td>6.591677</td>\n      <td>0.0</td>\n      <td>8.570590</td>\n      <td>0.0</td>\n      <td>4.517277</td>\n      <td>0.0</td>\n      <td>NaN</td>\n    </tr>\n    <tr>\n      <th>min</th>\n      <td>9.331625e+06</td>\n      <td>7.700000</td>\n      <td>1.0</td>\n      <td>10.800000</td>\n      <td>1.0</td>\n      <td>2.500000</td>\n      <td>1.0</td>\n      <td>NaN</td>\n    </tr>\n    <tr>\n      <th>25%</th>\n      <td>1.077090e+07</td>\n      <td>21.000000</td>\n      <td>1.0</td>\n      <td>24.000000</td>\n      <td>1.0</td>\n      <td>7.000000</td>\n      <td>1.0</td>\n      <td>NaN</td>\n    </tr>\n    <tr>\n      <th>50%</th>\n      <td>1.078275e+07</td>\n      <td>25.000000</td>\n      <td>1.0</td>\n      <td>28.000000</td>\n      <td>1.0</td>\n      <td>11.000000</td>\n      <td>1.0</td>\n      <td>NaN</td>\n    </tr>\n    <tr>\n      <th>75%</th>\n      <td>1.078282e+07</td>\n      <td>29.000000</td>\n      <td>1.0</td>\n      <td>36.000000</td>\n      <td>1.0</td>\n      <td>13.625000</td>\n      <td>1.0</td>\n      <td>NaN</td>\n    </tr>\n    <tr>\n      <th>max</th>\n      <td>1.078288e+07</td>\n      <td>41.000000</td>\n      <td>1.0</td>\n      <td>47.000000</td>\n      <td>1.0</td>\n      <td>18.500000</td>\n      <td>1.0</td>\n      <td>NaN</td>\n    </tr>\n  </tbody>\n</table>\n</div>"
     },
     "metadata": {},
     "output_type": "display_data"
    },
    {
     "data": {
      "text/plain": "o_id               0\nfieldname          0\nheight__value      0\nheight__unit       0\nlength__value      0\nlength__unit       0\nwidth__value       0\nwidth__unit        0\nformGroup        252\ndtype: int64"
     },
     "metadata": {},
     "output_type": "display_data"
    }
   ],
   "source": [
    "df_bag_data = pd.read_csv('../datasets/gabor/Gabor_Bag_Data.csv')\n",
    "base_information_dataset(df_bag_data)"
   ],
   "metadata": {
    "collapsed": false
   }
  },
  {
   "cell_type": "markdown",
   "source": [
    "form group column can be deleted, every other column looks good\n",
    "\n"
   ],
   "metadata": {
    "collapsed": false
   }
  },
  {
   "cell_type": "code",
   "execution_count": 5,
   "outputs": [
    {
     "data": {
      "text/plain": "      o_id   fieldname  height__value  height__unit  length__value  \\\n0  9331625  attributes           10.5             1           17.0   \n1  9331626  attributes           10.5             1           17.0   \n2  9331649  attributes           23.5             1           25.0   \n3  9331650  attributes           23.5             1           25.0   \n4  9331652  attributes           23.5             1           25.0   \n\n   length__unit  width__value  width__unit  \n0             1           3.0            1  \n1             1           3.0            1  \n2             1           6.5            1  \n3             1           6.5            1  \n4             1           6.5            1  ",
      "text/html": "<div>\n<style scoped>\n    .dataframe tbody tr th:only-of-type {\n        vertical-align: middle;\n    }\n\n    .dataframe tbody tr th {\n        vertical-align: top;\n    }\n\n    .dataframe thead th {\n        text-align: right;\n    }\n</style>\n<table border=\"1\" class=\"dataframe\">\n  <thead>\n    <tr style=\"text-align: right;\">\n      <th></th>\n      <th>o_id</th>\n      <th>fieldname</th>\n      <th>height__value</th>\n      <th>height__unit</th>\n      <th>length__value</th>\n      <th>length__unit</th>\n      <th>width__value</th>\n      <th>width__unit</th>\n    </tr>\n  </thead>\n  <tbody>\n    <tr>\n      <th>0</th>\n      <td>9331625</td>\n      <td>attributes</td>\n      <td>10.5</td>\n      <td>1</td>\n      <td>17.0</td>\n      <td>1</td>\n      <td>3.0</td>\n      <td>1</td>\n    </tr>\n    <tr>\n      <th>1</th>\n      <td>9331626</td>\n      <td>attributes</td>\n      <td>10.5</td>\n      <td>1</td>\n      <td>17.0</td>\n      <td>1</td>\n      <td>3.0</td>\n      <td>1</td>\n    </tr>\n    <tr>\n      <th>2</th>\n      <td>9331649</td>\n      <td>attributes</td>\n      <td>23.5</td>\n      <td>1</td>\n      <td>25.0</td>\n      <td>1</td>\n      <td>6.5</td>\n      <td>1</td>\n    </tr>\n    <tr>\n      <th>3</th>\n      <td>9331650</td>\n      <td>attributes</td>\n      <td>23.5</td>\n      <td>1</td>\n      <td>25.0</td>\n      <td>1</td>\n      <td>6.5</td>\n      <td>1</td>\n    </tr>\n    <tr>\n      <th>4</th>\n      <td>9331652</td>\n      <td>attributes</td>\n      <td>23.5</td>\n      <td>1</td>\n      <td>25.0</td>\n      <td>1</td>\n      <td>6.5</td>\n      <td>1</td>\n    </tr>\n  </tbody>\n</table>\n</div>"
     },
     "execution_count": 5,
     "metadata": {},
     "output_type": "execute_result"
    }
   ],
   "source": [
    "df_bag_data = df_bag_data.drop(columns=['formGroup'])\n",
    "df_bag_data.head()"
   ],
   "metadata": {
    "collapsed": false
   }
  },
  {
   "cell_type": "markdown",
   "source": [
    "### Brand:"
   ],
   "metadata": {
    "collapsed": false
   }
  },
  {
   "cell_type": "code",
   "execution_count": 6,
   "outputs": [
    {
     "name": "stdout",
     "output_type": "stream",
     "text": [
      "(11, 3)\n"
     ]
    },
    {
     "data": {
      "text/plain": "   o_parentId  o_parentId.1           name\n0          11            11            NaN\n1         509           509          Gabor\n2         509           509  Gabor comfort\n3         509           509    rollingsoft\n4         509           509    Gabor Sport",
      "text/html": "<div>\n<style scoped>\n    .dataframe tbody tr th:only-of-type {\n        vertical-align: middle;\n    }\n\n    .dataframe tbody tr th {\n        vertical-align: top;\n    }\n\n    .dataframe thead th {\n        text-align: right;\n    }\n</style>\n<table border=\"1\" class=\"dataframe\">\n  <thead>\n    <tr style=\"text-align: right;\">\n      <th></th>\n      <th>o_parentId</th>\n      <th>o_parentId.1</th>\n      <th>name</th>\n    </tr>\n  </thead>\n  <tbody>\n    <tr>\n      <th>0</th>\n      <td>11</td>\n      <td>11</td>\n      <td>NaN</td>\n    </tr>\n    <tr>\n      <th>1</th>\n      <td>509</td>\n      <td>509</td>\n      <td>Gabor</td>\n    </tr>\n    <tr>\n      <th>2</th>\n      <td>509</td>\n      <td>509</td>\n      <td>Gabor comfort</td>\n    </tr>\n    <tr>\n      <th>3</th>\n      <td>509</td>\n      <td>509</td>\n      <td>rollingsoft</td>\n    </tr>\n    <tr>\n      <th>4</th>\n      <td>509</td>\n      <td>509</td>\n      <td>Gabor Sport</td>\n    </tr>\n  </tbody>\n</table>\n</div>"
     },
     "metadata": {},
     "output_type": "display_data"
    },
    {
     "data": {
      "text/plain": "       o_parentId  o_parentId.1\ncount   11.000000     11.000000\nmean   463.727273    463.727273\nstd    150.152650    150.152650\nmin     11.000000     11.000000\n25%    509.000000    509.000000\n50%    509.000000    509.000000\n75%    509.000000    509.000000\nmax    509.000000    509.000000",
      "text/html": "<div>\n<style scoped>\n    .dataframe tbody tr th:only-of-type {\n        vertical-align: middle;\n    }\n\n    .dataframe tbody tr th {\n        vertical-align: top;\n    }\n\n    .dataframe thead th {\n        text-align: right;\n    }\n</style>\n<table border=\"1\" class=\"dataframe\">\n  <thead>\n    <tr style=\"text-align: right;\">\n      <th></th>\n      <th>o_parentId</th>\n      <th>o_parentId.1</th>\n    </tr>\n  </thead>\n  <tbody>\n    <tr>\n      <th>count</th>\n      <td>11.000000</td>\n      <td>11.000000</td>\n    </tr>\n    <tr>\n      <th>mean</th>\n      <td>463.727273</td>\n      <td>463.727273</td>\n    </tr>\n    <tr>\n      <th>std</th>\n      <td>150.152650</td>\n      <td>150.152650</td>\n    </tr>\n    <tr>\n      <th>min</th>\n      <td>11.000000</td>\n      <td>11.000000</td>\n    </tr>\n    <tr>\n      <th>25%</th>\n      <td>509.000000</td>\n      <td>509.000000</td>\n    </tr>\n    <tr>\n      <th>50%</th>\n      <td>509.000000</td>\n      <td>509.000000</td>\n    </tr>\n    <tr>\n      <th>75%</th>\n      <td>509.000000</td>\n      <td>509.000000</td>\n    </tr>\n    <tr>\n      <th>max</th>\n      <td>509.000000</td>\n      <td>509.000000</td>\n    </tr>\n  </tbody>\n</table>\n</div>"
     },
     "metadata": {},
     "output_type": "display_data"
    },
    {
     "data": {
      "text/plain": "o_parentId      0\no_parentId.1    0\nname            1\ndtype: int64"
     },
     "metadata": {},
     "output_type": "display_data"
    }
   ],
   "source": [
    "# todo fix first parentid\n",
    "df_brand = pd.read_csv('../datasets/gabor/Gabor_Brand.csv')\n",
    "base_information_dataset(df_brand)"
   ],
   "metadata": {
    "collapsed": false
   }
  },
  {
   "cell_type": "markdown",
   "source": [
    "nothing to do, only base category is null\n"
   ],
   "metadata": {
    "collapsed": false
   }
  },
  {
   "cell_type": "markdown",
   "source": [
    "### Categories"
   ],
   "metadata": {
    "collapsed": false
   }
  },
  {
   "cell_type": "code",
   "execution_count": 7,
   "outputs": [
    {
     "name": "stdout",
     "output_type": "stream",
     "text": [
      "(73, 5)\n"
     ]
    },
    {
     "data": {
      "text/plain": "     o_id  o_parentId          name  description  \\\n0      19          12           NaN          NaN   \n1  315558          19         Shoes          NaN   \n2  315559      315558  Ladies shoes          NaN   \n3  315560      315559         Pumps          NaN   \n4  315561      315560  Buckle pumps          NaN   \n\n                                       gender  \n0                                         NaN  \n1                                         NaN  \n2  /System/Optionen/Produktattribute/gender/w  \n3  /System/Optionen/Produktattribute/gender/w  \n4  /System/Optionen/Produktattribute/gender/w  ",
      "text/html": "<div>\n<style scoped>\n    .dataframe tbody tr th:only-of-type {\n        vertical-align: middle;\n    }\n\n    .dataframe tbody tr th {\n        vertical-align: top;\n    }\n\n    .dataframe thead th {\n        text-align: right;\n    }\n</style>\n<table border=\"1\" class=\"dataframe\">\n  <thead>\n    <tr style=\"text-align: right;\">\n      <th></th>\n      <th>o_id</th>\n      <th>o_parentId</th>\n      <th>name</th>\n      <th>description</th>\n      <th>gender</th>\n    </tr>\n  </thead>\n  <tbody>\n    <tr>\n      <th>0</th>\n      <td>19</td>\n      <td>12</td>\n      <td>NaN</td>\n      <td>NaN</td>\n      <td>NaN</td>\n    </tr>\n    <tr>\n      <th>1</th>\n      <td>315558</td>\n      <td>19</td>\n      <td>Shoes</td>\n      <td>NaN</td>\n      <td>NaN</td>\n    </tr>\n    <tr>\n      <th>2</th>\n      <td>315559</td>\n      <td>315558</td>\n      <td>Ladies shoes</td>\n      <td>NaN</td>\n      <td>/System/Optionen/Produktattribute/gender/w</td>\n    </tr>\n    <tr>\n      <th>3</th>\n      <td>315560</td>\n      <td>315559</td>\n      <td>Pumps</td>\n      <td>NaN</td>\n      <td>/System/Optionen/Produktattribute/gender/w</td>\n    </tr>\n    <tr>\n      <th>4</th>\n      <td>315561</td>\n      <td>315560</td>\n      <td>Buckle pumps</td>\n      <td>NaN</td>\n      <td>/System/Optionen/Produktattribute/gender/w</td>\n    </tr>\n  </tbody>\n</table>\n</div>"
     },
     "metadata": {},
     "output_type": "display_data"
    },
    {
     "data": {
      "text/plain": "               o_id    o_parentId  description\ncount  7.300000e+01  7.300000e+01          0.0\nmean   2.019356e+06  1.323144e+06          NaN\nstd    2.883270e+06  2.143116e+06          NaN\nmin    1.900000e+01  1.200000e+01          NaN\n25%    3.155750e+05  3.155600e+05          NaN\n50%    3.155940e+05  3.155780e+05          NaN\n75%    3.692263e+06  3.630150e+05          NaN\nmax    1.064827e+07  8.756144e+06          NaN",
      "text/html": "<div>\n<style scoped>\n    .dataframe tbody tr th:only-of-type {\n        vertical-align: middle;\n    }\n\n    .dataframe tbody tr th {\n        vertical-align: top;\n    }\n\n    .dataframe thead th {\n        text-align: right;\n    }\n</style>\n<table border=\"1\" class=\"dataframe\">\n  <thead>\n    <tr style=\"text-align: right;\">\n      <th></th>\n      <th>o_id</th>\n      <th>o_parentId</th>\n      <th>description</th>\n    </tr>\n  </thead>\n  <tbody>\n    <tr>\n      <th>count</th>\n      <td>7.300000e+01</td>\n      <td>7.300000e+01</td>\n      <td>0.0</td>\n    </tr>\n    <tr>\n      <th>mean</th>\n      <td>2.019356e+06</td>\n      <td>1.323144e+06</td>\n      <td>NaN</td>\n    </tr>\n    <tr>\n      <th>std</th>\n      <td>2.883270e+06</td>\n      <td>2.143116e+06</td>\n      <td>NaN</td>\n    </tr>\n    <tr>\n      <th>min</th>\n      <td>1.900000e+01</td>\n      <td>1.200000e+01</td>\n      <td>NaN</td>\n    </tr>\n    <tr>\n      <th>25%</th>\n      <td>3.155750e+05</td>\n      <td>3.155600e+05</td>\n      <td>NaN</td>\n    </tr>\n    <tr>\n      <th>50%</th>\n      <td>3.155940e+05</td>\n      <td>3.155780e+05</td>\n      <td>NaN</td>\n    </tr>\n    <tr>\n      <th>75%</th>\n      <td>3.692263e+06</td>\n      <td>3.630150e+05</td>\n      <td>NaN</td>\n    </tr>\n    <tr>\n      <th>max</th>\n      <td>1.064827e+07</td>\n      <td>8.756144e+06</td>\n      <td>NaN</td>\n    </tr>\n  </tbody>\n</table>\n</div>"
     },
     "metadata": {},
     "output_type": "display_data"
    },
    {
     "data": {
      "text/plain": "o_id            0\no_parentId      0\nname            1\ndescription    73\ngender          2\ndtype: int64"
     },
     "metadata": {},
     "output_type": "display_data"
    }
   ],
   "source": [
    "df_categories = pd.read_csv('../datasets/gabor/Gabor_Categories.csv')\n",
    "base_information_dataset(df_categories)"
   ],
   "metadata": {
    "collapsed": false
   }
  },
  {
   "cell_type": "markdown",
   "source": [
    "first row can be deleted\n",
    "todo etwas mit leeren desciption values machen\n",
    "gender 2 mall null => evtl droppen oder als unisex bewerten\n",
    "\n"
   ],
   "metadata": {
    "collapsed": false
   }
  },
  {
   "cell_type": "code",
   "execution_count": 8,
   "outputs": [],
   "source": [
    "df_categories['gender'] = df_categories['gender'].map({'/System/Optionen/Produktattribute/gender/w': 'w', '/System/Optionen/Produktattribute/gender/m': 'm'})\n",
    "df_categories['gender'] = df_categories['gender'].fillna('u')\n",
    "df_categories['description'] = df_categories['description'].fillna('')"
   ],
   "metadata": {
    "collapsed": false
   }
  },
  {
   "cell_type": "code",
   "execution_count": 9,
   "outputs": [],
   "source": [
    "df_categories = df_categories.drop(0)"
   ],
   "metadata": {
    "collapsed": false
   }
  },
  {
   "cell_type": "code",
   "execution_count": 10,
   "outputs": [
    {
     "data": {
      "text/plain": "     o_id  o_parentId          name description gender\n1  315558          19         Shoes                  u\n2  315559      315558  Ladies shoes                  w\n3  315560      315559         Pumps                  w\n4  315561      315560  Buckle pumps                  w\n5  315562      315559       Sandals                  w",
      "text/html": "<div>\n<style scoped>\n    .dataframe tbody tr th:only-of-type {\n        vertical-align: middle;\n    }\n\n    .dataframe tbody tr th {\n        vertical-align: top;\n    }\n\n    .dataframe thead th {\n        text-align: right;\n    }\n</style>\n<table border=\"1\" class=\"dataframe\">\n  <thead>\n    <tr style=\"text-align: right;\">\n      <th></th>\n      <th>o_id</th>\n      <th>o_parentId</th>\n      <th>name</th>\n      <th>description</th>\n      <th>gender</th>\n    </tr>\n  </thead>\n  <tbody>\n    <tr>\n      <th>1</th>\n      <td>315558</td>\n      <td>19</td>\n      <td>Shoes</td>\n      <td></td>\n      <td>u</td>\n    </tr>\n    <tr>\n      <th>2</th>\n      <td>315559</td>\n      <td>315558</td>\n      <td>Ladies shoes</td>\n      <td></td>\n      <td>w</td>\n    </tr>\n    <tr>\n      <th>3</th>\n      <td>315560</td>\n      <td>315559</td>\n      <td>Pumps</td>\n      <td></td>\n      <td>w</td>\n    </tr>\n    <tr>\n      <th>4</th>\n      <td>315561</td>\n      <td>315560</td>\n      <td>Buckle pumps</td>\n      <td></td>\n      <td>w</td>\n    </tr>\n    <tr>\n      <th>5</th>\n      <td>315562</td>\n      <td>315559</td>\n      <td>Sandals</td>\n      <td></td>\n      <td>w</td>\n    </tr>\n  </tbody>\n</table>\n</div>"
     },
     "execution_count": 10,
     "metadata": {},
     "output_type": "execute_result"
    }
   ],
   "source": [
    "df_categories.head()"
   ],
   "metadata": {
    "collapsed": false
   }
  },
  {
   "cell_type": "markdown",
   "source": [
    "### Order items"
   ],
   "metadata": {
    "collapsed": false
   }
  },
  {
   "cell_type": "code",
   "execution_count": 11,
   "outputs": [
    {
     "name": "stdout",
     "output_type": "stream",
     "text": [
      "(672349, 11)\n"
     ]
    },
    {
     "data": {
      "text/plain": "      o_id orderState  product__id  productNumber  \\\n0  2516728  committed       557559  4058394021466   \n1  2516738  committed       551622  4054452768212   \n2  2516897  committed       547193  4054452768427   \n3  2517058  committed       549776  4059701687894   \n4  2517149  committed       550599  4056067216898   \n\n                                productName  amount  totalPrice  \\\n0  sportliche Ballerinas Glattleder schwarz       1       89.95   \n1         elegante Pumps Glattleder schwarz       1       79.95   \n2                Slipper Glattleder schwarz       1       69.95   \n3                 Sneaker low Rauleder blau       1      130.00   \n4                 Sneaker low Rauleder blau       1       99.95   \n\n   productSizeEu productColorName  baseUnitPrice  discountAmount  \n0           40.0          schwarz            NaN             NaN  \n1           38.0          schwarz            NaN             NaN  \n2           42.0          schwarz            NaN             NaN  \n3           39.0             blau            NaN             NaN  \n4           42.5             blau            NaN             NaN  ",
      "text/html": "<div>\n<style scoped>\n    .dataframe tbody tr th:only-of-type {\n        vertical-align: middle;\n    }\n\n    .dataframe tbody tr th {\n        vertical-align: top;\n    }\n\n    .dataframe thead th {\n        text-align: right;\n    }\n</style>\n<table border=\"1\" class=\"dataframe\">\n  <thead>\n    <tr style=\"text-align: right;\">\n      <th></th>\n      <th>o_id</th>\n      <th>orderState</th>\n      <th>product__id</th>\n      <th>productNumber</th>\n      <th>productName</th>\n      <th>amount</th>\n      <th>totalPrice</th>\n      <th>productSizeEu</th>\n      <th>productColorName</th>\n      <th>baseUnitPrice</th>\n      <th>discountAmount</th>\n    </tr>\n  </thead>\n  <tbody>\n    <tr>\n      <th>0</th>\n      <td>2516728</td>\n      <td>committed</td>\n      <td>557559</td>\n      <td>4058394021466</td>\n      <td>sportliche Ballerinas Glattleder schwarz</td>\n      <td>1</td>\n      <td>89.95</td>\n      <td>40.0</td>\n      <td>schwarz</td>\n      <td>NaN</td>\n      <td>NaN</td>\n    </tr>\n    <tr>\n      <th>1</th>\n      <td>2516738</td>\n      <td>committed</td>\n      <td>551622</td>\n      <td>4054452768212</td>\n      <td>elegante Pumps Glattleder schwarz</td>\n      <td>1</td>\n      <td>79.95</td>\n      <td>38.0</td>\n      <td>schwarz</td>\n      <td>NaN</td>\n      <td>NaN</td>\n    </tr>\n    <tr>\n      <th>2</th>\n      <td>2516897</td>\n      <td>committed</td>\n      <td>547193</td>\n      <td>4054452768427</td>\n      <td>Slipper Glattleder schwarz</td>\n      <td>1</td>\n      <td>69.95</td>\n      <td>42.0</td>\n      <td>schwarz</td>\n      <td>NaN</td>\n      <td>NaN</td>\n    </tr>\n    <tr>\n      <th>3</th>\n      <td>2517058</td>\n      <td>committed</td>\n      <td>549776</td>\n      <td>4059701687894</td>\n      <td>Sneaker low Rauleder blau</td>\n      <td>1</td>\n      <td>130.00</td>\n      <td>39.0</td>\n      <td>blau</td>\n      <td>NaN</td>\n      <td>NaN</td>\n    </tr>\n    <tr>\n      <th>4</th>\n      <td>2517149</td>\n      <td>committed</td>\n      <td>550599</td>\n      <td>4056067216898</td>\n      <td>Sneaker low Rauleder blau</td>\n      <td>1</td>\n      <td>99.95</td>\n      <td>42.5</td>\n      <td>blau</td>\n      <td>NaN</td>\n      <td>NaN</td>\n    </tr>\n  </tbody>\n</table>\n</div>"
     },
     "metadata": {},
     "output_type": "display_data"
    },
    {
     "data": {
      "text/plain": "               o_id   product__id  productNumber         amount  \\\ncount  6.723490e+05  6.723490e+05   6.723490e+05  672349.000000   \nmean   7.711935e+06  6.287516e+06   4.063618e+12       1.003110   \nstd    2.143101e+06  2.357284e+06   5.419267e+09       0.058086   \nmin    2.516728e+06  3.608240e+05   4.054453e+12       1.000000   \n25%    5.833031e+06  4.769551e+06   4.062863e+12       1.000000   \n50%    7.854362e+06  6.282501e+06   4.064032e+12       1.000000   \n75%    9.625975e+06  8.489278e+06   4.065171e+12       1.000000   \nmax    1.112813e+07  1.110352e+07   4.255620e+12       5.000000   \n\n          totalPrice  productSizeEu  baseUnitPrice  discountAmount  \ncount  672349.000000  671862.000000  460703.000000      353.000000  \nmean      107.947700      39.613114     115.924769       11.291360  \nstd        28.486357       2.180808      25.684321        9.508245  \nmin         0.000000      35.000000      35.990000       10.000000  \n25%        89.950000      38.000000      99.950000       10.000000  \n50%        99.950000      39.000000     115.000000       10.000000  \n75%       125.000000      41.000000     130.000000       10.000000  \nmax       500.000000      49.500000     270.000000      160.000000  ",
      "text/html": "<div>\n<style scoped>\n    .dataframe tbody tr th:only-of-type {\n        vertical-align: middle;\n    }\n\n    .dataframe tbody tr th {\n        vertical-align: top;\n    }\n\n    .dataframe thead th {\n        text-align: right;\n    }\n</style>\n<table border=\"1\" class=\"dataframe\">\n  <thead>\n    <tr style=\"text-align: right;\">\n      <th></th>\n      <th>o_id</th>\n      <th>product__id</th>\n      <th>productNumber</th>\n      <th>amount</th>\n      <th>totalPrice</th>\n      <th>productSizeEu</th>\n      <th>baseUnitPrice</th>\n      <th>discountAmount</th>\n    </tr>\n  </thead>\n  <tbody>\n    <tr>\n      <th>count</th>\n      <td>6.723490e+05</td>\n      <td>6.723490e+05</td>\n      <td>6.723490e+05</td>\n      <td>672349.000000</td>\n      <td>672349.000000</td>\n      <td>671862.000000</td>\n      <td>460703.000000</td>\n      <td>353.000000</td>\n    </tr>\n    <tr>\n      <th>mean</th>\n      <td>7.711935e+06</td>\n      <td>6.287516e+06</td>\n      <td>4.063618e+12</td>\n      <td>1.003110</td>\n      <td>107.947700</td>\n      <td>39.613114</td>\n      <td>115.924769</td>\n      <td>11.291360</td>\n    </tr>\n    <tr>\n      <th>std</th>\n      <td>2.143101e+06</td>\n      <td>2.357284e+06</td>\n      <td>5.419267e+09</td>\n      <td>0.058086</td>\n      <td>28.486357</td>\n      <td>2.180808</td>\n      <td>25.684321</td>\n      <td>9.508245</td>\n    </tr>\n    <tr>\n      <th>min</th>\n      <td>2.516728e+06</td>\n      <td>3.608240e+05</td>\n      <td>4.054453e+12</td>\n      <td>1.000000</td>\n      <td>0.000000</td>\n      <td>35.000000</td>\n      <td>35.990000</td>\n      <td>10.000000</td>\n    </tr>\n    <tr>\n      <th>25%</th>\n      <td>5.833031e+06</td>\n      <td>4.769551e+06</td>\n      <td>4.062863e+12</td>\n      <td>1.000000</td>\n      <td>89.950000</td>\n      <td>38.000000</td>\n      <td>99.950000</td>\n      <td>10.000000</td>\n    </tr>\n    <tr>\n      <th>50%</th>\n      <td>7.854362e+06</td>\n      <td>6.282501e+06</td>\n      <td>4.064032e+12</td>\n      <td>1.000000</td>\n      <td>99.950000</td>\n      <td>39.000000</td>\n      <td>115.000000</td>\n      <td>10.000000</td>\n    </tr>\n    <tr>\n      <th>75%</th>\n      <td>9.625975e+06</td>\n      <td>8.489278e+06</td>\n      <td>4.065171e+12</td>\n      <td>1.000000</td>\n      <td>125.000000</td>\n      <td>41.000000</td>\n      <td>130.000000</td>\n      <td>10.000000</td>\n    </tr>\n    <tr>\n      <th>max</th>\n      <td>1.112813e+07</td>\n      <td>1.110352e+07</td>\n      <td>4.255620e+12</td>\n      <td>5.000000</td>\n      <td>500.000000</td>\n      <td>49.500000</td>\n      <td>270.000000</td>\n      <td>160.000000</td>\n    </tr>\n  </tbody>\n</table>\n</div>"
     },
     "metadata": {},
     "output_type": "display_data"
    },
    {
     "data": {
      "text/plain": "o_id                     0\norderState           23838\nproduct__id              0\nproductNumber            0\nproductName              0\namount                   0\ntotalPrice               0\nproductSizeEu          487\nproductColorName      9821\nbaseUnitPrice       211646\ndiscountAmount      671996\ndtype: int64"
     },
     "metadata": {},
     "output_type": "display_data"
    }
   ],
   "source": [
    "df_orderitems = pd.read_csv('../datasets/gabor/Gabor_Orderitems.csv')\n",
    "base_information_dataset(df_orderitems)"
   ],
   "metadata": {
    "collapsed": false
   }
  },
  {
   "cell_type": "code",
   "execution_count": 12,
   "outputs": [
    {
     "data": {
      "text/plain": "            o_id orderState  product__id  productNumber  \\\n2588     3448466        NaN       360837  4054452742083   \n2669     3486561        NaN       550727  4054452851600   \n2688     3490997        NaN       589482  4056068820650   \n2782     3507939        NaN       360836  4054452742076   \n2783     3507944        NaN       360836  4054452742076   \n...          ...        ...          ...            ...   \n672314  11127898        NaN       553962  4054452768076   \n672337  11128067        NaN     10238971  4065171801067   \n672343  11128110        NaN     10238971  4065171801067   \n672345  11128123        NaN     10558727  4065171978462   \n672346  11128124        NaN     10325280  4065171911117   \n\n                                              productName  amount  totalPrice  \\\n2588                      Zehentrenner Glattleder schwarz       1       69.95   \n2669    Eleganter Ballerina Materialmix Lederimitat sc...       1       69.95   \n2688              Sportliche Ballerina Glattleder schwarz       1       79.95   \n2782                      Zehentrenner Glattleder schwarz       1       69.95   \n2783                      Zehentrenner Glattleder schwarz       1       69.95   \n...                                                   ...     ...         ...   \n672314                    Eleganter Pumps Glattleder Blau       1       89.95   \n672337                 Riemchensandale Glattleder schwarz       1       99.95   \n672343                 Riemchensandale Glattleder schwarz       1       99.95   \n672345                 Sneaker low Glattleder multicolour       2      280.00   \n672346     Sneaker low Materialmix Leder/Lederimitat blau       1       99.95   \n\n        productSizeEu productColorName  baseUnitPrice  discountAmount  \n2588             38.0          schwarz            NaN             NaN  \n2669             38.0          schwarz            NaN             NaN  \n2688             40.0          schwarz            NaN             NaN  \n2782             37.0          schwarz            NaN             NaN  \n2783             37.0          schwarz            NaN             NaN  \n...               ...              ...            ...             ...  \n672314           38.5             Blau          89.95             NaN  \n672337           43.0          schwarz          99.95             NaN  \n672343           43.0          schwarz          99.95             NaN  \n672345           38.5      multicolour         140.00             NaN  \n672346           38.5             blau          99.95             NaN  \n\n[23838 rows x 11 columns]",
      "text/html": "<div>\n<style scoped>\n    .dataframe tbody tr th:only-of-type {\n        vertical-align: middle;\n    }\n\n    .dataframe tbody tr th {\n        vertical-align: top;\n    }\n\n    .dataframe thead th {\n        text-align: right;\n    }\n</style>\n<table border=\"1\" class=\"dataframe\">\n  <thead>\n    <tr style=\"text-align: right;\">\n      <th></th>\n      <th>o_id</th>\n      <th>orderState</th>\n      <th>product__id</th>\n      <th>productNumber</th>\n      <th>productName</th>\n      <th>amount</th>\n      <th>totalPrice</th>\n      <th>productSizeEu</th>\n      <th>productColorName</th>\n      <th>baseUnitPrice</th>\n      <th>discountAmount</th>\n    </tr>\n  </thead>\n  <tbody>\n    <tr>\n      <th>2588</th>\n      <td>3448466</td>\n      <td>NaN</td>\n      <td>360837</td>\n      <td>4054452742083</td>\n      <td>Zehentrenner Glattleder schwarz</td>\n      <td>1</td>\n      <td>69.95</td>\n      <td>38.0</td>\n      <td>schwarz</td>\n      <td>NaN</td>\n      <td>NaN</td>\n    </tr>\n    <tr>\n      <th>2669</th>\n      <td>3486561</td>\n      <td>NaN</td>\n      <td>550727</td>\n      <td>4054452851600</td>\n      <td>Eleganter Ballerina Materialmix Lederimitat sc...</td>\n      <td>1</td>\n      <td>69.95</td>\n      <td>38.0</td>\n      <td>schwarz</td>\n      <td>NaN</td>\n      <td>NaN</td>\n    </tr>\n    <tr>\n      <th>2688</th>\n      <td>3490997</td>\n      <td>NaN</td>\n      <td>589482</td>\n      <td>4056068820650</td>\n      <td>Sportliche Ballerina Glattleder schwarz</td>\n      <td>1</td>\n      <td>79.95</td>\n      <td>40.0</td>\n      <td>schwarz</td>\n      <td>NaN</td>\n      <td>NaN</td>\n    </tr>\n    <tr>\n      <th>2782</th>\n      <td>3507939</td>\n      <td>NaN</td>\n      <td>360836</td>\n      <td>4054452742076</td>\n      <td>Zehentrenner Glattleder schwarz</td>\n      <td>1</td>\n      <td>69.95</td>\n      <td>37.0</td>\n      <td>schwarz</td>\n      <td>NaN</td>\n      <td>NaN</td>\n    </tr>\n    <tr>\n      <th>2783</th>\n      <td>3507944</td>\n      <td>NaN</td>\n      <td>360836</td>\n      <td>4054452742076</td>\n      <td>Zehentrenner Glattleder schwarz</td>\n      <td>1</td>\n      <td>69.95</td>\n      <td>37.0</td>\n      <td>schwarz</td>\n      <td>NaN</td>\n      <td>NaN</td>\n    </tr>\n    <tr>\n      <th>...</th>\n      <td>...</td>\n      <td>...</td>\n      <td>...</td>\n      <td>...</td>\n      <td>...</td>\n      <td>...</td>\n      <td>...</td>\n      <td>...</td>\n      <td>...</td>\n      <td>...</td>\n      <td>...</td>\n    </tr>\n    <tr>\n      <th>672314</th>\n      <td>11127898</td>\n      <td>NaN</td>\n      <td>553962</td>\n      <td>4054452768076</td>\n      <td>Eleganter Pumps Glattleder Blau</td>\n      <td>1</td>\n      <td>89.95</td>\n      <td>38.5</td>\n      <td>Blau</td>\n      <td>89.95</td>\n      <td>NaN</td>\n    </tr>\n    <tr>\n      <th>672337</th>\n      <td>11128067</td>\n      <td>NaN</td>\n      <td>10238971</td>\n      <td>4065171801067</td>\n      <td>Riemchensandale Glattleder schwarz</td>\n      <td>1</td>\n      <td>99.95</td>\n      <td>43.0</td>\n      <td>schwarz</td>\n      <td>99.95</td>\n      <td>NaN</td>\n    </tr>\n    <tr>\n      <th>672343</th>\n      <td>11128110</td>\n      <td>NaN</td>\n      <td>10238971</td>\n      <td>4065171801067</td>\n      <td>Riemchensandale Glattleder schwarz</td>\n      <td>1</td>\n      <td>99.95</td>\n      <td>43.0</td>\n      <td>schwarz</td>\n      <td>99.95</td>\n      <td>NaN</td>\n    </tr>\n    <tr>\n      <th>672345</th>\n      <td>11128123</td>\n      <td>NaN</td>\n      <td>10558727</td>\n      <td>4065171978462</td>\n      <td>Sneaker low Glattleder multicolour</td>\n      <td>2</td>\n      <td>280.00</td>\n      <td>38.5</td>\n      <td>multicolour</td>\n      <td>140.00</td>\n      <td>NaN</td>\n    </tr>\n    <tr>\n      <th>672346</th>\n      <td>11128124</td>\n      <td>NaN</td>\n      <td>10325280</td>\n      <td>4065171911117</td>\n      <td>Sneaker low Materialmix Leder/Lederimitat blau</td>\n      <td>1</td>\n      <td>99.95</td>\n      <td>38.5</td>\n      <td>blau</td>\n      <td>99.95</td>\n      <td>NaN</td>\n    </tr>\n  </tbody>\n</table>\n<p>23838 rows × 11 columns</p>\n</div>"
     },
     "execution_count": 12,
     "metadata": {},
     "output_type": "execute_result"
    }
   ],
   "source": [
    "df_orderitems[df_orderitems['productSizeEu'].isnull()] ## if product size == pocket # todo\n",
    "df_orderitems[df_orderitems['productColorName'].isnull()] ## change to empty value\n",
    "df_orderitems[df_orderitems['baseUnitPrice'].notnull()] ## delete column no real purpose\n",
    "df_orderitems[df_orderitems['discountAmount'].notnull()] ## just 350 entries => delete column\n",
    "df_orderitems[df_orderitems['orderState'].isnull()] ## delete entries => order state must be committed"
   ],
   "metadata": {
    "collapsed": false
   }
  },
  {
   "cell_type": "code",
   "execution_count": 13,
   "outputs": [],
   "source": [
    "df_orderitems = df_orderitems.dropna(subset=['orderState'])\n",
    "df_orderitems['productColorName'] = df_orderitems['productColorName'].fillna('')\n",
    "df_orderitems['productSizeEu'] = df_orderitems['productSizeEu'].fillna('')\n",
    "df_orderitems = df_orderitems.drop(columns=['baseUnitPrice', 'discountAmount'])"
   ],
   "metadata": {
    "collapsed": false
   }
  },
  {
   "cell_type": "code",
   "execution_count": 14,
   "outputs": [
    {
     "data": {
      "text/plain": "      o_id orderState  product__id  productNumber  \\\n0  2516728  committed       557559  4058394021466   \n1  2516738  committed       551622  4054452768212   \n2  2516897  committed       547193  4054452768427   \n3  2517058  committed       549776  4059701687894   \n4  2517149  committed       550599  4056067216898   \n\n                                productName  amount  totalPrice productSizeEu  \\\n0  sportliche Ballerinas Glattleder schwarz       1       89.95          40.0   \n1         elegante Pumps Glattleder schwarz       1       79.95          38.0   \n2                Slipper Glattleder schwarz       1       69.95          42.0   \n3                 Sneaker low Rauleder blau       1      130.00          39.0   \n4                 Sneaker low Rauleder blau       1       99.95          42.5   \n\n  productColorName  \n0          schwarz  \n1          schwarz  \n2          schwarz  \n3             blau  \n4             blau  ",
      "text/html": "<div>\n<style scoped>\n    .dataframe tbody tr th:only-of-type {\n        vertical-align: middle;\n    }\n\n    .dataframe tbody tr th {\n        vertical-align: top;\n    }\n\n    .dataframe thead th {\n        text-align: right;\n    }\n</style>\n<table border=\"1\" class=\"dataframe\">\n  <thead>\n    <tr style=\"text-align: right;\">\n      <th></th>\n      <th>o_id</th>\n      <th>orderState</th>\n      <th>product__id</th>\n      <th>productNumber</th>\n      <th>productName</th>\n      <th>amount</th>\n      <th>totalPrice</th>\n      <th>productSizeEu</th>\n      <th>productColorName</th>\n    </tr>\n  </thead>\n  <tbody>\n    <tr>\n      <th>0</th>\n      <td>2516728</td>\n      <td>committed</td>\n      <td>557559</td>\n      <td>4058394021466</td>\n      <td>sportliche Ballerinas Glattleder schwarz</td>\n      <td>1</td>\n      <td>89.95</td>\n      <td>40.0</td>\n      <td>schwarz</td>\n    </tr>\n    <tr>\n      <th>1</th>\n      <td>2516738</td>\n      <td>committed</td>\n      <td>551622</td>\n      <td>4054452768212</td>\n      <td>elegante Pumps Glattleder schwarz</td>\n      <td>1</td>\n      <td>79.95</td>\n      <td>38.0</td>\n      <td>schwarz</td>\n    </tr>\n    <tr>\n      <th>2</th>\n      <td>2516897</td>\n      <td>committed</td>\n      <td>547193</td>\n      <td>4054452768427</td>\n      <td>Slipper Glattleder schwarz</td>\n      <td>1</td>\n      <td>69.95</td>\n      <td>42.0</td>\n      <td>schwarz</td>\n    </tr>\n    <tr>\n      <th>3</th>\n      <td>2517058</td>\n      <td>committed</td>\n      <td>549776</td>\n      <td>4059701687894</td>\n      <td>Sneaker low Rauleder blau</td>\n      <td>1</td>\n      <td>130.00</td>\n      <td>39.0</td>\n      <td>blau</td>\n    </tr>\n    <tr>\n      <th>4</th>\n      <td>2517149</td>\n      <td>committed</td>\n      <td>550599</td>\n      <td>4056067216898</td>\n      <td>Sneaker low Rauleder blau</td>\n      <td>1</td>\n      <td>99.95</td>\n      <td>42.5</td>\n      <td>blau</td>\n    </tr>\n  </tbody>\n</table>\n</div>"
     },
     "execution_count": 14,
     "metadata": {},
     "output_type": "execute_result"
    }
   ],
   "source": [
    "df_orderitems.head()"
   ],
   "metadata": {
    "collapsed": false
   }
  },
  {
   "cell_type": "markdown",
   "source": [
    "discountAmount can be dropped\n"
   ],
   "metadata": {
    "collapsed": false
   }
  },
  {
   "cell_type": "markdown",
   "source": [
    "### Orders"
   ],
   "metadata": {
    "collapsed": false
   }
  },
  {
   "cell_type": "code",
   "execution_count": 15,
   "outputs": [
    {
     "name": "stdout",
     "output_type": "stream",
     "text": [
      "(687868, 6)\n"
     ]
    },
    {
     "data": {
      "text/plain": "      o_id   orderdate  totalPrice currency  customer__id  \\\n0   284686  1578023100      200.00      EUR           NaN   \n1  2516684  1577837740      120.00      EUR     2302078.0   \n2  2516686  1577844421      276.95      EUR     2188533.0   \n3  2516691  1577861367      120.00      EUR     2302081.0   \n4  2516693  1577864086      219.95      EUR     2302084.0   \n\n                               items  \n0             ,284715,284717,284776,  \n1                          ,2516685,  \n2  ,2516687,2516688,2516689,2516690,  \n3                          ,2516692,  \n4                  ,2516694,2516695,  ",
      "text/html": "<div>\n<style scoped>\n    .dataframe tbody tr th:only-of-type {\n        vertical-align: middle;\n    }\n\n    .dataframe tbody tr th {\n        vertical-align: top;\n    }\n\n    .dataframe thead th {\n        text-align: right;\n    }\n</style>\n<table border=\"1\" class=\"dataframe\">\n  <thead>\n    <tr style=\"text-align: right;\">\n      <th></th>\n      <th>o_id</th>\n      <th>orderdate</th>\n      <th>totalPrice</th>\n      <th>currency</th>\n      <th>customer__id</th>\n      <th>items</th>\n    </tr>\n  </thead>\n  <tbody>\n    <tr>\n      <th>0</th>\n      <td>284686</td>\n      <td>1578023100</td>\n      <td>200.00</td>\n      <td>EUR</td>\n      <td>NaN</td>\n      <td>,284715,284717,284776,</td>\n    </tr>\n    <tr>\n      <th>1</th>\n      <td>2516684</td>\n      <td>1577837740</td>\n      <td>120.00</td>\n      <td>EUR</td>\n      <td>2302078.0</td>\n      <td>,2516685,</td>\n    </tr>\n    <tr>\n      <th>2</th>\n      <td>2516686</td>\n      <td>1577844421</td>\n      <td>276.95</td>\n      <td>EUR</td>\n      <td>2188533.0</td>\n      <td>,2516687,2516688,2516689,2516690,</td>\n    </tr>\n    <tr>\n      <th>3</th>\n      <td>2516691</td>\n      <td>1577861367</td>\n      <td>120.00</td>\n      <td>EUR</td>\n      <td>2302081.0</td>\n      <td>,2516692,</td>\n    </tr>\n    <tr>\n      <th>4</th>\n      <td>2516693</td>\n      <td>1577864086</td>\n      <td>219.95</td>\n      <td>EUR</td>\n      <td>2302084.0</td>\n      <td>,2516694,2516695,</td>\n    </tr>\n  </tbody>\n</table>\n</div>"
     },
     "metadata": {},
     "output_type": "display_data"
    },
    {
     "data": {
      "text/plain": "               o_id     orderdate     totalPrice  customer__id\ncount  6.878680e+05  6.878680e+05  687868.000000  6.845660e+05\nmean   6.728457e+06  1.630554e+09     170.378086  5.861563e+06\nstd    2.511329e+06  2.843918e+07     111.284883  2.859958e+06\nmin    2.846860e+05  1.577838e+09       0.000000  1.940761e+06\n25%    4.656816e+06  1.605357e+09      99.950000  3.382538e+06\n50%    6.748230e+06  1.630666e+09     125.000000  5.754142e+06\n75%    8.921528e+06  1.655566e+09     200.000000  8.307013e+06\nmax    1.112814e+07  1.679568e+09    1124.660000  1.112815e+07",
      "text/html": "<div>\n<style scoped>\n    .dataframe tbody tr th:only-of-type {\n        vertical-align: middle;\n    }\n\n    .dataframe tbody tr th {\n        vertical-align: top;\n    }\n\n    .dataframe thead th {\n        text-align: right;\n    }\n</style>\n<table border=\"1\" class=\"dataframe\">\n  <thead>\n    <tr style=\"text-align: right;\">\n      <th></th>\n      <th>o_id</th>\n      <th>orderdate</th>\n      <th>totalPrice</th>\n      <th>customer__id</th>\n    </tr>\n  </thead>\n  <tbody>\n    <tr>\n      <th>count</th>\n      <td>6.878680e+05</td>\n      <td>6.878680e+05</td>\n      <td>687868.000000</td>\n      <td>6.845660e+05</td>\n    </tr>\n    <tr>\n      <th>mean</th>\n      <td>6.728457e+06</td>\n      <td>1.630554e+09</td>\n      <td>170.378086</td>\n      <td>5.861563e+06</td>\n    </tr>\n    <tr>\n      <th>std</th>\n      <td>2.511329e+06</td>\n      <td>2.843918e+07</td>\n      <td>111.284883</td>\n      <td>2.859958e+06</td>\n    </tr>\n    <tr>\n      <th>min</th>\n      <td>2.846860e+05</td>\n      <td>1.577838e+09</td>\n      <td>0.000000</td>\n      <td>1.940761e+06</td>\n    </tr>\n    <tr>\n      <th>25%</th>\n      <td>4.656816e+06</td>\n      <td>1.605357e+09</td>\n      <td>99.950000</td>\n      <td>3.382538e+06</td>\n    </tr>\n    <tr>\n      <th>50%</th>\n      <td>6.748230e+06</td>\n      <td>1.630666e+09</td>\n      <td>125.000000</td>\n      <td>5.754142e+06</td>\n    </tr>\n    <tr>\n      <th>75%</th>\n      <td>8.921528e+06</td>\n      <td>1.655566e+09</td>\n      <td>200.000000</td>\n      <td>8.307013e+06</td>\n    </tr>\n    <tr>\n      <th>max</th>\n      <td>1.112814e+07</td>\n      <td>1.679568e+09</td>\n      <td>1124.660000</td>\n      <td>1.112815e+07</td>\n    </tr>\n  </tbody>\n</table>\n</div>"
     },
     "metadata": {},
     "output_type": "display_data"
    },
    {
     "data": {
      "text/plain": "o_id               0\norderdate          0\ntotalPrice         0\ncurrency           0\ncustomer__id    3302\nitems           2327\ndtype: int64"
     },
     "metadata": {},
     "output_type": "display_data"
    }
   ],
   "source": [
    "df_orders = pd.read_csv('../datasets/gabor/Gabor_Orders.csv')\n",
    "base_information_dataset(df_orders)"
   ],
   "metadata": {
    "collapsed": false
   }
  },
  {
   "cell_type": "markdown",
   "source": [
    "orders without customer id and without bought items can be deleted => no value\n",
    "\n"
   ],
   "metadata": {
    "collapsed": false
   }
  },
  {
   "cell_type": "code",
   "execution_count": 16,
   "outputs": [],
   "source": [
    "df_orders = df_orders.dropna(subset=['customer__id'])\n",
    "df_orders = df_orders.dropna(subset=['items'])"
   ],
   "metadata": {
    "collapsed": false
   }
  },
  {
   "cell_type": "code",
   "execution_count": 17,
   "outputs": [
    {
     "data": {
      "text/plain": "      o_id   orderdate  totalPrice currency  customer__id  \\\n1  2516684  1577837740      120.00      EUR     2302078.0   \n2  2516686  1577844421      276.95      EUR     2188533.0   \n3  2516691  1577861367      120.00      EUR     2302081.0   \n4  2516693  1577864086      219.95      EUR     2302084.0   \n5  2516696  1577864233      339.00      EUR     2137627.0   \n\n                               items  \n1                          ,2516685,  \n2  ,2516687,2516688,2516689,2516690,  \n3                          ,2516692,  \n4                  ,2516694,2516695,  \n5          ,2516697,2516698,2516699,  ",
      "text/html": "<div>\n<style scoped>\n    .dataframe tbody tr th:only-of-type {\n        vertical-align: middle;\n    }\n\n    .dataframe tbody tr th {\n        vertical-align: top;\n    }\n\n    .dataframe thead th {\n        text-align: right;\n    }\n</style>\n<table border=\"1\" class=\"dataframe\">\n  <thead>\n    <tr style=\"text-align: right;\">\n      <th></th>\n      <th>o_id</th>\n      <th>orderdate</th>\n      <th>totalPrice</th>\n      <th>currency</th>\n      <th>customer__id</th>\n      <th>items</th>\n    </tr>\n  </thead>\n  <tbody>\n    <tr>\n      <th>1</th>\n      <td>2516684</td>\n      <td>1577837740</td>\n      <td>120.00</td>\n      <td>EUR</td>\n      <td>2302078.0</td>\n      <td>,2516685,</td>\n    </tr>\n    <tr>\n      <th>2</th>\n      <td>2516686</td>\n      <td>1577844421</td>\n      <td>276.95</td>\n      <td>EUR</td>\n      <td>2188533.0</td>\n      <td>,2516687,2516688,2516689,2516690,</td>\n    </tr>\n    <tr>\n      <th>3</th>\n      <td>2516691</td>\n      <td>1577861367</td>\n      <td>120.00</td>\n      <td>EUR</td>\n      <td>2302081.0</td>\n      <td>,2516692,</td>\n    </tr>\n    <tr>\n      <th>4</th>\n      <td>2516693</td>\n      <td>1577864086</td>\n      <td>219.95</td>\n      <td>EUR</td>\n      <td>2302084.0</td>\n      <td>,2516694,2516695,</td>\n    </tr>\n    <tr>\n      <th>5</th>\n      <td>2516696</td>\n      <td>1577864233</td>\n      <td>339.00</td>\n      <td>EUR</td>\n      <td>2137627.0</td>\n      <td>,2516697,2516698,2516699,</td>\n    </tr>\n  </tbody>\n</table>\n</div>"
     },
     "execution_count": 17,
     "metadata": {},
     "output_type": "execute_result"
    }
   ],
   "source": [
    "df_orders.head()"
   ],
   "metadata": {
    "collapsed": false
   }
  },
  {
   "cell_type": "markdown",
   "source": [
    "### Product Data"
   ],
   "metadata": {
    "collapsed": false
   }
  },
  {
   "cell_type": "code",
   "execution_count": 18,
   "outputs": [
    {
     "name": "stdout",
     "output_type": "stream",
     "text": [
      "(173723, 32)\n"
     ]
    },
    {
     "data": {
      "text/plain": "     o_id  o_parentId articleNumber articleNumber2  brand__id  \\\n0  315682      315607     26.063.48      26.063.48    6590678   \n1  315997      315611     81.530.12      81.530.12    6590677   \n2  316061      315689     62.642.35      62.642.35    6590678   \n3  316138      315640     06.210.16      06.210.16    6590678   \n4  316554      315640     92.221.47      92.221.47    6590678   \n\n   mainCategory__id                                    name description  \\\n0            315563   Strappy sandal Full-grain leather red         NaN   \n1            315565     Sling pump Full-grain leather beige         NaN   \n2            315588     Wedged pump Full-grain leather pink         NaN   \n3            315573    Elegant pumps Imitation leather blue         NaN   \n4            315573  Elegant pumps Full-grain leather black         NaN   \n\n                                       gender  deliveryTime originCountry  \\\n0  /System/Optionen/Produktattribute/gender/w           NaN            SK   \n1  /System/Optionen/Produktattribute/gender/w           NaN            PT   \n2  /System/Optionen/Produktattribute/gender/w           NaN            PT   \n3  /System/Optionen/Produktattribute/gender/w           NaN            SK   \n4  /System/Optionen/Produktattribute/gender/w           NaN            SK   \n\n                                         line  b2cWebshopStatus  b2cPrice  \\\n0  /System/Optionen/Produktattribute/line/F-S               1.0       NaN   \n1  /System/Optionen/Produktattribute/line/F-S               1.0       NaN   \n2  /System/Optionen/Produktattribute/line/F-S               0.0       NaN   \n3  /System/Optionen/Produktattribute/line/F-S               1.0       NaN   \n4  /System/Optionen/Produktattribute/line/H-W               1.0       NaN   \n\n  b2cCurrency  indicatorAdvertisement  indicatorWedding  indicatorSale  \\\n0         NaN                     0.0               0.0              0   \n1         NaN                     0.0               0.0              1   \n2         NaN                     0.0               0.0              1   \n3         NaN                     0.0               0.0              0   \n4         NaN                     0.0               0.0              1   \n\n   mainImage  additionalImage1  additionalImage2  additionalImage3  \\\n0   799175.0          799170.0          799171.0          799172.0   \n1   591149.0          591144.0          591145.0          591146.0   \n2   459559.0          459554.0          459555.0          459556.0   \n3   760209.0          760204.0          760205.0          760206.0   \n4   695154.0          695149.0          695150.0          695151.0   \n\n   additionalImage4  additionalImage5  weight__unit  weight__value  \\\n0          799173.0          799174.0             3           0.95   \n1          591147.0          591148.0             3           0.88   \n2          459557.0          459558.0             3           0.64   \n3          760207.0          760208.0             3           0.73   \n4          695152.0          695153.0             3           0.77   \n\n                                            material      materialPm  \\\n0  /System/Optionen/Produktattribute/material/Rau...      Soft Nubuk   \n1  /System/Optionen/Produktattribute/material/Rau...    Samtchevreau   \n2  /System/Optionen/Produktattribute/material/Rau...      Soft Nubuk   \n3  /System/Optionen/Produktattribute/material/Led...  Microvelour HT   \n4  /System/Optionen/Produktattribute/material/Rau...    Samtchevreau   \n\n                                             color  \\\n0      /System/Optionen/Produktattribute/color/rot   \n1    /System/Optionen/Produktattribute/color/beige   \n2     /System/Optionen/Produktattribute/color/rosa   \n3     /System/Optionen/Produktattribute/color/blau   \n4  /System/Optionen/Produktattribute/color/schwarz   \n\n                                             closure  \\\n0  /System/Optionen/Produktattribute/closure/Klet...   \n1  /System/Optionen/Produktattribute/closure/Gumm...   \n2                                                NaN   \n3                                                NaN   \n4                                                NaN   \n\n                     relationsUpSelling  \\\n0  ,587432,321286,321382,321506,330258,   \n1                             ,7895518,   \n2                             ,5077031,   \n3                      ,7870291,337153,   \n4                             ,8962773,   \n\n                                   relationsColors  \n0                   ,7588407,588156,587933,588370,  \n1  ,7992534,588425,7588504,320600,7951643,7588330,  \n2                   ,318080,320304,5335437,335087,  \n3                                 ,7870291,337153,  \n4                        ,9164918,8962807,7588350,  ",
      "text/html": "<div>\n<style scoped>\n    .dataframe tbody tr th:only-of-type {\n        vertical-align: middle;\n    }\n\n    .dataframe tbody tr th {\n        vertical-align: top;\n    }\n\n    .dataframe thead th {\n        text-align: right;\n    }\n</style>\n<table border=\"1\" class=\"dataframe\">\n  <thead>\n    <tr style=\"text-align: right;\">\n      <th></th>\n      <th>o_id</th>\n      <th>o_parentId</th>\n      <th>articleNumber</th>\n      <th>articleNumber2</th>\n      <th>brand__id</th>\n      <th>mainCategory__id</th>\n      <th>name</th>\n      <th>description</th>\n      <th>gender</th>\n      <th>deliveryTime</th>\n      <th>originCountry</th>\n      <th>line</th>\n      <th>b2cWebshopStatus</th>\n      <th>b2cPrice</th>\n      <th>b2cCurrency</th>\n      <th>indicatorAdvertisement</th>\n      <th>indicatorWedding</th>\n      <th>indicatorSale</th>\n      <th>mainImage</th>\n      <th>additionalImage1</th>\n      <th>additionalImage2</th>\n      <th>additionalImage3</th>\n      <th>additionalImage4</th>\n      <th>additionalImage5</th>\n      <th>weight__unit</th>\n      <th>weight__value</th>\n      <th>material</th>\n      <th>materialPm</th>\n      <th>color</th>\n      <th>closure</th>\n      <th>relationsUpSelling</th>\n      <th>relationsColors</th>\n    </tr>\n  </thead>\n  <tbody>\n    <tr>\n      <th>0</th>\n      <td>315682</td>\n      <td>315607</td>\n      <td>26.063.48</td>\n      <td>26.063.48</td>\n      <td>6590678</td>\n      <td>315563</td>\n      <td>Strappy sandal Full-grain leather red</td>\n      <td>NaN</td>\n      <td>/System/Optionen/Produktattribute/gender/w</td>\n      <td>NaN</td>\n      <td>SK</td>\n      <td>/System/Optionen/Produktattribute/line/F-S</td>\n      <td>1.0</td>\n      <td>NaN</td>\n      <td>NaN</td>\n      <td>0.0</td>\n      <td>0.0</td>\n      <td>0</td>\n      <td>799175.0</td>\n      <td>799170.0</td>\n      <td>799171.0</td>\n      <td>799172.0</td>\n      <td>799173.0</td>\n      <td>799174.0</td>\n      <td>3</td>\n      <td>0.95</td>\n      <td>/System/Optionen/Produktattribute/material/Rau...</td>\n      <td>Soft Nubuk</td>\n      <td>/System/Optionen/Produktattribute/color/rot</td>\n      <td>/System/Optionen/Produktattribute/closure/Klet...</td>\n      <td>,587432,321286,321382,321506,330258,</td>\n      <td>,7588407,588156,587933,588370,</td>\n    </tr>\n    <tr>\n      <th>1</th>\n      <td>315997</td>\n      <td>315611</td>\n      <td>81.530.12</td>\n      <td>81.530.12</td>\n      <td>6590677</td>\n      <td>315565</td>\n      <td>Sling pump Full-grain leather beige</td>\n      <td>NaN</td>\n      <td>/System/Optionen/Produktattribute/gender/w</td>\n      <td>NaN</td>\n      <td>PT</td>\n      <td>/System/Optionen/Produktattribute/line/F-S</td>\n      <td>1.0</td>\n      <td>NaN</td>\n      <td>NaN</td>\n      <td>0.0</td>\n      <td>0.0</td>\n      <td>1</td>\n      <td>591149.0</td>\n      <td>591144.0</td>\n      <td>591145.0</td>\n      <td>591146.0</td>\n      <td>591147.0</td>\n      <td>591148.0</td>\n      <td>3</td>\n      <td>0.88</td>\n      <td>/System/Optionen/Produktattribute/material/Rau...</td>\n      <td>Samtchevreau</td>\n      <td>/System/Optionen/Produktattribute/color/beige</td>\n      <td>/System/Optionen/Produktattribute/closure/Gumm...</td>\n      <td>,7895518,</td>\n      <td>,7992534,588425,7588504,320600,7951643,7588330,</td>\n    </tr>\n    <tr>\n      <th>2</th>\n      <td>316061</td>\n      <td>315689</td>\n      <td>62.642.35</td>\n      <td>62.642.35</td>\n      <td>6590678</td>\n      <td>315588</td>\n      <td>Wedged pump Full-grain leather pink</td>\n      <td>NaN</td>\n      <td>/System/Optionen/Produktattribute/gender/w</td>\n      <td>NaN</td>\n      <td>PT</td>\n      <td>/System/Optionen/Produktattribute/line/F-S</td>\n      <td>0.0</td>\n      <td>NaN</td>\n      <td>NaN</td>\n      <td>0.0</td>\n      <td>0.0</td>\n      <td>1</td>\n      <td>459559.0</td>\n      <td>459554.0</td>\n      <td>459555.0</td>\n      <td>459556.0</td>\n      <td>459557.0</td>\n      <td>459558.0</td>\n      <td>3</td>\n      <td>0.64</td>\n      <td>/System/Optionen/Produktattribute/material/Rau...</td>\n      <td>Soft Nubuk</td>\n      <td>/System/Optionen/Produktattribute/color/rosa</td>\n      <td>NaN</td>\n      <td>,5077031,</td>\n      <td>,318080,320304,5335437,335087,</td>\n    </tr>\n    <tr>\n      <th>3</th>\n      <td>316138</td>\n      <td>315640</td>\n      <td>06.210.16</td>\n      <td>06.210.16</td>\n      <td>6590678</td>\n      <td>315573</td>\n      <td>Elegant pumps Imitation leather blue</td>\n      <td>NaN</td>\n      <td>/System/Optionen/Produktattribute/gender/w</td>\n      <td>NaN</td>\n      <td>SK</td>\n      <td>/System/Optionen/Produktattribute/line/F-S</td>\n      <td>1.0</td>\n      <td>NaN</td>\n      <td>NaN</td>\n      <td>0.0</td>\n      <td>0.0</td>\n      <td>0</td>\n      <td>760209.0</td>\n      <td>760204.0</td>\n      <td>760205.0</td>\n      <td>760206.0</td>\n      <td>760207.0</td>\n      <td>760208.0</td>\n      <td>3</td>\n      <td>0.73</td>\n      <td>/System/Optionen/Produktattribute/material/Led...</td>\n      <td>Microvelour HT</td>\n      <td>/System/Optionen/Produktattribute/color/blau</td>\n      <td>NaN</td>\n      <td>,7870291,337153,</td>\n      <td>,7870291,337153,</td>\n    </tr>\n    <tr>\n      <th>4</th>\n      <td>316554</td>\n      <td>315640</td>\n      <td>92.221.47</td>\n      <td>92.221.47</td>\n      <td>6590678</td>\n      <td>315573</td>\n      <td>Elegant pumps Full-grain leather black</td>\n      <td>NaN</td>\n      <td>/System/Optionen/Produktattribute/gender/w</td>\n      <td>NaN</td>\n      <td>SK</td>\n      <td>/System/Optionen/Produktattribute/line/H-W</td>\n      <td>1.0</td>\n      <td>NaN</td>\n      <td>NaN</td>\n      <td>0.0</td>\n      <td>0.0</td>\n      <td>1</td>\n      <td>695154.0</td>\n      <td>695149.0</td>\n      <td>695150.0</td>\n      <td>695151.0</td>\n      <td>695152.0</td>\n      <td>695153.0</td>\n      <td>3</td>\n      <td>0.77</td>\n      <td>/System/Optionen/Produktattribute/material/Rau...</td>\n      <td>Samtchevreau</td>\n      <td>/System/Optionen/Produktattribute/color/schwarz</td>\n      <td>NaN</td>\n      <td>,8962773,</td>\n      <td>,9164918,8962807,7588350,</td>\n    </tr>\n  </tbody>\n</table>\n</div>"
     },
     "metadata": {},
     "output_type": "display_data"
    },
    {
     "data": {
      "text/plain": "               o_id    o_parentId     brand__id  mainCategory__id  \\\ncount  1.737230e+05  1.737230e+05  1.737230e+05      1.737230e+05   \nmean   7.088279e+06  5.985804e+06  6.305012e+06      9.057713e+05   \nstd    2.376942e+06  3.105705e+06  7.891150e+05      1.512729e+06   \nmin    3.156820e+05  3.156040e+05  3.630130e+05      3.155610e+05   \n25%    4.978064e+06  3.907614e+06  6.590677e+06      3.155670e+05   \n50%    7.593142e+06  6.406307e+06  6.590677e+06      3.155730e+05   \n75%    8.807220e+06  8.499437e+06  6.590678e+06      3.155870e+05   \nmax    1.111392e+07  1.111390e+07  6.590678e+06      1.064827e+07   \n\n       deliveryTime  b2cWebshopStatus       b2cPrice  indicatorAdvertisement  \\\ncount           0.0      11407.000000  162568.000000           173471.000000   \nmean            NaN          0.752433     115.360479                0.010221   \nstd             NaN          0.523921      23.952120                0.100580   \nmin             NaN          0.000000      35.990000                0.000000   \n25%             NaN          0.000000      99.950000                0.000000   \n50%             NaN          1.000000     110.000000                0.000000   \n75%             NaN          1.000000     130.000000                0.000000   \nmax             NaN          2.000000     270.000000                1.000000   \n\n       indicatorWedding  indicatorSale      mainImage  additionalImage1  \\\ncount     173471.000000  173723.000000  173290.000000     173290.000000   \nmean           0.001182       0.880828  593183.074447     593169.548860   \nstd            0.034356       0.323992  140494.436730     140503.987475   \nmin            0.000000       0.000000    1769.000000       1766.000000   \n25%            0.000000       1.000000  474587.000000     474582.000000   \n50%            0.000000       1.000000  599555.000000     599518.000000   \n75%            0.000000       1.000000  717720.000000     717747.000000   \nmax            1.000000       1.000000  813799.000000     813794.000000   \n\n       additionalImage2  additionalImage3  additionalImage4  additionalImage5  \\\ncount     173273.000000     173255.000000     172770.000000     172533.000000   \nmean      593174.123597     593145.668044     593242.255120     593170.120957   \nstd       140494.705945     140494.760606     140135.475389     140328.118989   \nmin         1768.000000       1767.000000       3953.000000       3954.000000   \n25%       474583.000000     474552.000000     474681.000000     474554.000000   \n50%       599519.000000     599520.000000     599585.000000     599522.000000   \n75%       717716.000000     717685.000000     717590.000000     717687.000000   \nmax       813795.000000     813796.000000     813797.000000     813798.000000   \n\n       weight__unit  weight__value  \ncount      173723.0  173723.000000  \nmean            3.0       0.861023  \nstd             0.0       0.306806  \nmin             3.0       0.000000  \n25%             3.0       0.630000  \n50%             3.0       0.810000  \n75%             3.0       1.060000  \nmax             3.0       2.070000  ",
      "text/html": "<div>\n<style scoped>\n    .dataframe tbody tr th:only-of-type {\n        vertical-align: middle;\n    }\n\n    .dataframe tbody tr th {\n        vertical-align: top;\n    }\n\n    .dataframe thead th {\n        text-align: right;\n    }\n</style>\n<table border=\"1\" class=\"dataframe\">\n  <thead>\n    <tr style=\"text-align: right;\">\n      <th></th>\n      <th>o_id</th>\n      <th>o_parentId</th>\n      <th>brand__id</th>\n      <th>mainCategory__id</th>\n      <th>deliveryTime</th>\n      <th>b2cWebshopStatus</th>\n      <th>b2cPrice</th>\n      <th>indicatorAdvertisement</th>\n      <th>indicatorWedding</th>\n      <th>indicatorSale</th>\n      <th>mainImage</th>\n      <th>additionalImage1</th>\n      <th>additionalImage2</th>\n      <th>additionalImage3</th>\n      <th>additionalImage4</th>\n      <th>additionalImage5</th>\n      <th>weight__unit</th>\n      <th>weight__value</th>\n    </tr>\n  </thead>\n  <tbody>\n    <tr>\n      <th>count</th>\n      <td>1.737230e+05</td>\n      <td>1.737230e+05</td>\n      <td>1.737230e+05</td>\n      <td>1.737230e+05</td>\n      <td>0.0</td>\n      <td>11407.000000</td>\n      <td>162568.000000</td>\n      <td>173471.000000</td>\n      <td>173471.000000</td>\n      <td>173723.000000</td>\n      <td>173290.000000</td>\n      <td>173290.000000</td>\n      <td>173273.000000</td>\n      <td>173255.000000</td>\n      <td>172770.000000</td>\n      <td>172533.000000</td>\n      <td>173723.0</td>\n      <td>173723.000000</td>\n    </tr>\n    <tr>\n      <th>mean</th>\n      <td>7.088279e+06</td>\n      <td>5.985804e+06</td>\n      <td>6.305012e+06</td>\n      <td>9.057713e+05</td>\n      <td>NaN</td>\n      <td>0.752433</td>\n      <td>115.360479</td>\n      <td>0.010221</td>\n      <td>0.001182</td>\n      <td>0.880828</td>\n      <td>593183.074447</td>\n      <td>593169.548860</td>\n      <td>593174.123597</td>\n      <td>593145.668044</td>\n      <td>593242.255120</td>\n      <td>593170.120957</td>\n      <td>3.0</td>\n      <td>0.861023</td>\n    </tr>\n    <tr>\n      <th>std</th>\n      <td>2.376942e+06</td>\n      <td>3.105705e+06</td>\n      <td>7.891150e+05</td>\n      <td>1.512729e+06</td>\n      <td>NaN</td>\n      <td>0.523921</td>\n      <td>23.952120</td>\n      <td>0.100580</td>\n      <td>0.034356</td>\n      <td>0.323992</td>\n      <td>140494.436730</td>\n      <td>140503.987475</td>\n      <td>140494.705945</td>\n      <td>140494.760606</td>\n      <td>140135.475389</td>\n      <td>140328.118989</td>\n      <td>0.0</td>\n      <td>0.306806</td>\n    </tr>\n    <tr>\n      <th>min</th>\n      <td>3.156820e+05</td>\n      <td>3.156040e+05</td>\n      <td>3.630130e+05</td>\n      <td>3.155610e+05</td>\n      <td>NaN</td>\n      <td>0.000000</td>\n      <td>35.990000</td>\n      <td>0.000000</td>\n      <td>0.000000</td>\n      <td>0.000000</td>\n      <td>1769.000000</td>\n      <td>1766.000000</td>\n      <td>1768.000000</td>\n      <td>1767.000000</td>\n      <td>3953.000000</td>\n      <td>3954.000000</td>\n      <td>3.0</td>\n      <td>0.000000</td>\n    </tr>\n    <tr>\n      <th>25%</th>\n      <td>4.978064e+06</td>\n      <td>3.907614e+06</td>\n      <td>6.590677e+06</td>\n      <td>3.155670e+05</td>\n      <td>NaN</td>\n      <td>0.000000</td>\n      <td>99.950000</td>\n      <td>0.000000</td>\n      <td>0.000000</td>\n      <td>1.000000</td>\n      <td>474587.000000</td>\n      <td>474582.000000</td>\n      <td>474583.000000</td>\n      <td>474552.000000</td>\n      <td>474681.000000</td>\n      <td>474554.000000</td>\n      <td>3.0</td>\n      <td>0.630000</td>\n    </tr>\n    <tr>\n      <th>50%</th>\n      <td>7.593142e+06</td>\n      <td>6.406307e+06</td>\n      <td>6.590677e+06</td>\n      <td>3.155730e+05</td>\n      <td>NaN</td>\n      <td>1.000000</td>\n      <td>110.000000</td>\n      <td>0.000000</td>\n      <td>0.000000</td>\n      <td>1.000000</td>\n      <td>599555.000000</td>\n      <td>599518.000000</td>\n      <td>599519.000000</td>\n      <td>599520.000000</td>\n      <td>599585.000000</td>\n      <td>599522.000000</td>\n      <td>3.0</td>\n      <td>0.810000</td>\n    </tr>\n    <tr>\n      <th>75%</th>\n      <td>8.807220e+06</td>\n      <td>8.499437e+06</td>\n      <td>6.590678e+06</td>\n      <td>3.155870e+05</td>\n      <td>NaN</td>\n      <td>1.000000</td>\n      <td>130.000000</td>\n      <td>0.000000</td>\n      <td>0.000000</td>\n      <td>1.000000</td>\n      <td>717720.000000</td>\n      <td>717747.000000</td>\n      <td>717716.000000</td>\n      <td>717685.000000</td>\n      <td>717590.000000</td>\n      <td>717687.000000</td>\n      <td>3.0</td>\n      <td>1.060000</td>\n    </tr>\n    <tr>\n      <th>max</th>\n      <td>1.111392e+07</td>\n      <td>1.111390e+07</td>\n      <td>6.590678e+06</td>\n      <td>1.064827e+07</td>\n      <td>NaN</td>\n      <td>2.000000</td>\n      <td>270.000000</td>\n      <td>1.000000</td>\n      <td>1.000000</td>\n      <td>1.000000</td>\n      <td>813799.000000</td>\n      <td>813794.000000</td>\n      <td>813795.000000</td>\n      <td>813796.000000</td>\n      <td>813797.000000</td>\n      <td>813798.000000</td>\n      <td>3.0</td>\n      <td>2.070000</td>\n    </tr>\n  </tbody>\n</table>\n</div>"
     },
     "metadata": {},
     "output_type": "display_data"
    },
    {
     "data": {
      "text/plain": "o_id                           0\no_parentId                     0\narticleNumber                  0\narticleNumber2                 0\nbrand__id                      0\nmainCategory__id               0\nname                           0\ndescription               173439\ngender                         0\ndeliveryTime              173723\noriginCountry                252\nline                           0\nb2cWebshopStatus          162316\nb2cPrice                   11155\nb2cCurrency                11155\nindicatorAdvertisement       252\nindicatorWedding             252\nindicatorSale                  0\nmainImage                    433\nadditionalImage1             433\nadditionalImage2             450\nadditionalImage3             468\nadditionalImage4             953\nadditionalImage5            1190\nweight__unit                   0\nweight__value                  0\nmaterial                       0\nmaterialPm                     0\ncolor                          0\nclosure                    29890\nrelationsUpSelling         13725\nrelationsColors            68460\ndtype: int64"
     },
     "metadata": {},
     "output_type": "display_data"
    }
   ],
   "source": [
    "df_product_data = pd.read_csv('../datasets/gabor/Gabor_Product_Data_new.csv', low_memory=False)\n",
    "base_information_dataset(df_product_data)"
   ],
   "metadata": {
    "collapsed": false
   }
  },
  {
   "cell_type": "markdown",
   "source": [
    "columns with to many null values or no information value:\n",
    "closure, relationsUpSelling, relationsColors, images, deliveryTime, description (most of the time null), b2cWebshopStatus\n",
    "\n",
    "rows wo null droppen:\n",
    "b2cPrice => drop rows where null, because it cannot be sold to regular customers without price, automatically drops b2cCurrency\n",
    "\n",
    "handle null values\n",
    "indicatorWedding indicatorAdvertisement: if null => is bag, if null fill with 0.0\n",
    "originCountry => nan to DE\n",
    "\n",
    "change values:\n",
    "line and gender: remove path\n",
    "description: fill null with empty # todo\n",
    "\n",
    "\n",
    "weiter anschauen:\n",
    "\n",
    "deliveryTime: evtl 0 oder max oder default setzen\n",
    "\n",
    "\n",
    "\n"
   ],
   "metadata": {
    "collapsed": false
   }
  },
  {
   "cell_type": "code",
   "execution_count": 19,
   "outputs": [
    {
     "data": {
      "text/plain": "array(['/System/Optionen/Produktattribute/material/Rauleder',\n       '/System/Optionen/Produktattribute/material/Lederimitat',\n       '/System/Optionen/Produktattribute/material/Glattleder',\n       '/System/Optionen/Produktattribute/material/Textil',\n       '/System/Optionen/Produktattribute/material/Effektleder',\n       '/System/Optionen/Produktattribute/material/Materialmix Leder',\n       '/System/Optionen/Produktattribute/material/Lackleder',\n       '/System/Optionen/Produktattribute/material/Materialmix Leder-Lederimitat',\n       '/System/Optionen/Produktattribute/material/Leder Reptiloptik',\n       '/System/Optionen/Produktattribute/material/Materialmix Lederimitat',\n       '/System/Optionen/Produktattribute/material/Materialmix Leder-Textil',\n       '/System/Optionen/Produktattribute/material/Wolle',\n       '/System/Optionen/Produktattribute/material/Kunstleder',\n       '/System/Optionen/Produktattribute/material/Canvas'], dtype=object)"
     },
     "execution_count": 19,
     "metadata": {},
     "output_type": "execute_result"
    }
   ],
   "source": [
    "#df_product_data.indicatorWedding.unique()\n",
    "df_product_data.b2cWebshopStatus.unique()\n",
    "df_product_data.line.unique()\n",
    "df_product_data.deliveryTime.unique()\n",
    "df_product_data.color.unique()\n",
    "df_product_data.material.unique()"
   ],
   "metadata": {
    "collapsed": false
   }
  },
  {
   "cell_type": "code",
   "execution_count": 20,
   "outputs": [
    {
     "data": {
      "text/plain": "            o_id  o_parentId articleNumber articleNumber2  brand__id  \\\n0         315682      315607     26.063.48      26.063.48    6590678   \n1         315997      315611     81.530.12      81.530.12    6590677   \n2         316061      315689     62.642.35      62.642.35    6590678   \n3         316138      315640     06.210.16      06.210.16    6590678   \n4         316554      315640     92.221.47      92.221.47    6590678   \n...          ...         ...           ...            ...        ...   \n173640  11103463      315616     22.862.57      22.862.57    6590678   \n173641  11103464      315609     22.813.50      22.813.50    6590678   \n173642  11103467      315679     23.160.32      23.160.32    6590677   \n173643  11103472      315607     21.781.69      21.781.69    6590677   \n173707  11113897      315607     22.734.50      22.734.50    6590678   \n\n        mainCategory__id                                     name description  \\\n0                 315563    Strappy sandal Full-grain leather red         NaN   \n1                 315565      Sling pump Full-grain leather beige         NaN   \n2                 315588      Wedged pump Full-grain leather pink         NaN   \n3                 315573     Elegant pumps Imitation leather blue         NaN   \n4                 315573   Elegant pumps Full-grain leather black         NaN   \n...                  ...                                      ...         ...   \n173640            315568     Platform sandal Smooth leather black         NaN   \n173641            315564        Wedge sandal Smooth leather white         NaN   \n173642            315586  High sneaker Material mix leather beige         NaN   \n173643            315563      Strappy sandal Effect leather green         NaN   \n173707            315563      Strappy sandal Smooth leather white         NaN   \n\n                                            gender  deliveryTime  \\\n0       /System/Optionen/Produktattribute/gender/w           NaN   \n1       /System/Optionen/Produktattribute/gender/w           NaN   \n2       /System/Optionen/Produktattribute/gender/w           NaN   \n3       /System/Optionen/Produktattribute/gender/w           NaN   \n4       /System/Optionen/Produktattribute/gender/w           NaN   \n...                                            ...           ...   \n173640  /System/Optionen/Produktattribute/gender/w           NaN   \n173641  /System/Optionen/Produktattribute/gender/w           NaN   \n173642  /System/Optionen/Produktattribute/gender/w           NaN   \n173643  /System/Optionen/Produktattribute/gender/w           NaN   \n173707  /System/Optionen/Produktattribute/gender/w           NaN   \n\n       originCountry                                        line  \\\n0                 SK  /System/Optionen/Produktattribute/line/F-S   \n1                 PT  /System/Optionen/Produktattribute/line/F-S   \n2                 PT  /System/Optionen/Produktattribute/line/F-S   \n3                 SK  /System/Optionen/Produktattribute/line/F-S   \n4                 SK  /System/Optionen/Produktattribute/line/H-W   \n...              ...                                         ...   \n173640            PT  /System/Optionen/Produktattribute/line/F-S   \n173641            SK  /System/Optionen/Produktattribute/line/F-S   \n173642            PT  /System/Optionen/Produktattribute/line/F-S   \n173643            PT  /System/Optionen/Produktattribute/line/F-S   \n173707            PT  /System/Optionen/Produktattribute/line/F-S   \n\n        b2cWebshopStatus  b2cPrice b2cCurrency  indicatorAdvertisement  \\\n0                    1.0       NaN         NaN                     0.0   \n1                    1.0       NaN         NaN                     0.0   \n2                    0.0       NaN         NaN                     0.0   \n3                    1.0       NaN         NaN                     0.0   \n4                    1.0       NaN         NaN                     0.0   \n...                  ...       ...         ...                     ...   \n173640               1.0       NaN         NaN                     0.0   \n173641               1.0       NaN         NaN                     0.0   \n173642               1.0       NaN         NaN                     0.0   \n173643               1.0       NaN         NaN                     0.0   \n173707               1.0       NaN         NaN                     0.0   \n\n        indicatorWedding  indicatorSale  mainImage  additionalImage1  \\\n0                    0.0              0   799175.0          799170.0   \n1                    0.0              1   591149.0          591144.0   \n2                    0.0              1   459559.0          459554.0   \n3                    0.0              0   760209.0          760204.0   \n4                    0.0              1   695154.0          695149.0   \n...                  ...            ...        ...               ...   \n173640               0.0              1   813717.0          813712.0   \n173641               0.0              1   813621.0          813616.0   \n173642               0.0              1   813685.0          813680.0   \n173643               0.0              1   813749.0          813744.0   \n173707               0.0              1   813799.0          813794.0   \n\n        additionalImage2  additionalImage3  additionalImage4  \\\n0               799171.0          799172.0          799173.0   \n1               591145.0          591146.0          591147.0   \n2               459555.0          459556.0          459557.0   \n3               760205.0          760206.0          760207.0   \n4               695150.0          695151.0          695152.0   \n...                  ...               ...               ...   \n173640          813713.0          813714.0          813715.0   \n173641          813617.0          813618.0          813619.0   \n173642          813681.0          813682.0          813683.0   \n173643          813745.0          813746.0          813747.0   \n173707          813795.0          813796.0          813797.0   \n\n        additionalImage5  weight__unit  weight__value  \\\n0               799174.0             3           0.95   \n1               591148.0             3           0.88   \n2               459558.0             3           0.64   \n3               760208.0             3           0.73   \n4               695153.0             3           0.77   \n...                  ...           ...            ...   \n173640          813716.0             3           1.12   \n173641          813620.0             3           0.96   \n173642          813684.0             3           1.02   \n173643          813748.0             3           0.84   \n173707          813798.0             3           0.95   \n\n                                                 material       materialPm  \\\n0       /System/Optionen/Produktattribute/material/Rau...       Soft Nubuk   \n1       /System/Optionen/Produktattribute/material/Rau...     Samtchevreau   \n2       /System/Optionen/Produktattribute/material/Rau...       Soft Nubuk   \n3       /System/Optionen/Produktattribute/material/Led...   Microvelour HT   \n4       /System/Optionen/Produktattribute/material/Rau...     Samtchevreau   \n...                                                   ...              ...   \n173640  /System/Optionen/Produktattribute/material/Gla...            Nappa   \n173641  /System/Optionen/Produktattribute/material/Gla...            Nappa   \n173642  /System/Optionen/Produktattribute/material/Mat...  Letter/LasVegas   \n173643  /System/Optionen/Produktattribute/material/Eff...      Metal Cervo   \n173707  /System/Optionen/Produktattribute/material/Gla...            Nappa   \n\n                                                  color  \\\n0           /System/Optionen/Produktattribute/color/rot   \n1         /System/Optionen/Produktattribute/color/beige   \n2          /System/Optionen/Produktattribute/color/rosa   \n3          /System/Optionen/Produktattribute/color/blau   \n4       /System/Optionen/Produktattribute/color/schwarz   \n...                                                 ...   \n173640  /System/Optionen/Produktattribute/color/schwarz   \n173641     /System/Optionen/Produktattribute/color/weiß   \n173642    /System/Optionen/Produktattribute/color/beige   \n173643     /System/Optionen/Produktattribute/color/grün   \n173707     /System/Optionen/Produktattribute/color/weiß   \n\n                                                  closure  \\\n0       /System/Optionen/Produktattribute/closure/Klet...   \n1       /System/Optionen/Produktattribute/closure/Gumm...   \n2                                                     NaN   \n3                                                     NaN   \n4                                                     NaN   \n...                                                   ...   \n173640  /System/Optionen/Produktattribute/closure/Klet...   \n173641  /System/Optionen/Produktattribute/closure/Klet...   \n173642  /System/Optionen/Produktattribute/closure/Reiß...   \n173643  /System/Optionen/Produktattribute/closure/Druc...   \n173707  /System/Optionen/Produktattribute/closure/Klet...   \n\n                                    relationsUpSelling  \\\n0                 ,587432,321286,321382,321506,330258,   \n1                                            ,7895518,   \n2                                            ,5077031,   \n3                                     ,7870291,337153,   \n4                                            ,8962773,   \n...                                                ...   \n173640  ,10365600,10359355,10359359,10501416,10459668,   \n173641  ,10459660,10459634,10359368,10451117,10558435,   \n173642  ,10223518,10501469,10223482,10310092,10223686,   \n173643  ,10558459,10238431,10740566,10764860,11103462,   \n173707  ,10365616,10365574,10324344,10365618,10365592,   \n\n                                        relationsColors  \n0                        ,7588407,588156,587933,588370,  \n1       ,7992534,588425,7588504,320600,7951643,7588330,  \n2                        ,318080,320304,5335437,335087,  \n3                                      ,7870291,337153,  \n4                             ,9164918,8962807,7588350,  \n...                                                 ...  \n173640                                              NaN  \n173641                                              NaN  \n173642                                              NaN  \n173643                                       ,11103462,  \n173707                                              NaN  \n\n[11407 rows x 32 columns]",
      "text/html": "<div>\n<style scoped>\n    .dataframe tbody tr th:only-of-type {\n        vertical-align: middle;\n    }\n\n    .dataframe tbody tr th {\n        vertical-align: top;\n    }\n\n    .dataframe thead th {\n        text-align: right;\n    }\n</style>\n<table border=\"1\" class=\"dataframe\">\n  <thead>\n    <tr style=\"text-align: right;\">\n      <th></th>\n      <th>o_id</th>\n      <th>o_parentId</th>\n      <th>articleNumber</th>\n      <th>articleNumber2</th>\n      <th>brand__id</th>\n      <th>mainCategory__id</th>\n      <th>name</th>\n      <th>description</th>\n      <th>gender</th>\n      <th>deliveryTime</th>\n      <th>originCountry</th>\n      <th>line</th>\n      <th>b2cWebshopStatus</th>\n      <th>b2cPrice</th>\n      <th>b2cCurrency</th>\n      <th>indicatorAdvertisement</th>\n      <th>indicatorWedding</th>\n      <th>indicatorSale</th>\n      <th>mainImage</th>\n      <th>additionalImage1</th>\n      <th>additionalImage2</th>\n      <th>additionalImage3</th>\n      <th>additionalImage4</th>\n      <th>additionalImage5</th>\n      <th>weight__unit</th>\n      <th>weight__value</th>\n      <th>material</th>\n      <th>materialPm</th>\n      <th>color</th>\n      <th>closure</th>\n      <th>relationsUpSelling</th>\n      <th>relationsColors</th>\n    </tr>\n  </thead>\n  <tbody>\n    <tr>\n      <th>0</th>\n      <td>315682</td>\n      <td>315607</td>\n      <td>26.063.48</td>\n      <td>26.063.48</td>\n      <td>6590678</td>\n      <td>315563</td>\n      <td>Strappy sandal Full-grain leather red</td>\n      <td>NaN</td>\n      <td>/System/Optionen/Produktattribute/gender/w</td>\n      <td>NaN</td>\n      <td>SK</td>\n      <td>/System/Optionen/Produktattribute/line/F-S</td>\n      <td>1.0</td>\n      <td>NaN</td>\n      <td>NaN</td>\n      <td>0.0</td>\n      <td>0.0</td>\n      <td>0</td>\n      <td>799175.0</td>\n      <td>799170.0</td>\n      <td>799171.0</td>\n      <td>799172.0</td>\n      <td>799173.0</td>\n      <td>799174.0</td>\n      <td>3</td>\n      <td>0.95</td>\n      <td>/System/Optionen/Produktattribute/material/Rau...</td>\n      <td>Soft Nubuk</td>\n      <td>/System/Optionen/Produktattribute/color/rot</td>\n      <td>/System/Optionen/Produktattribute/closure/Klet...</td>\n      <td>,587432,321286,321382,321506,330258,</td>\n      <td>,7588407,588156,587933,588370,</td>\n    </tr>\n    <tr>\n      <th>1</th>\n      <td>315997</td>\n      <td>315611</td>\n      <td>81.530.12</td>\n      <td>81.530.12</td>\n      <td>6590677</td>\n      <td>315565</td>\n      <td>Sling pump Full-grain leather beige</td>\n      <td>NaN</td>\n      <td>/System/Optionen/Produktattribute/gender/w</td>\n      <td>NaN</td>\n      <td>PT</td>\n      <td>/System/Optionen/Produktattribute/line/F-S</td>\n      <td>1.0</td>\n      <td>NaN</td>\n      <td>NaN</td>\n      <td>0.0</td>\n      <td>0.0</td>\n      <td>1</td>\n      <td>591149.0</td>\n      <td>591144.0</td>\n      <td>591145.0</td>\n      <td>591146.0</td>\n      <td>591147.0</td>\n      <td>591148.0</td>\n      <td>3</td>\n      <td>0.88</td>\n      <td>/System/Optionen/Produktattribute/material/Rau...</td>\n      <td>Samtchevreau</td>\n      <td>/System/Optionen/Produktattribute/color/beige</td>\n      <td>/System/Optionen/Produktattribute/closure/Gumm...</td>\n      <td>,7895518,</td>\n      <td>,7992534,588425,7588504,320600,7951643,7588330,</td>\n    </tr>\n    <tr>\n      <th>2</th>\n      <td>316061</td>\n      <td>315689</td>\n      <td>62.642.35</td>\n      <td>62.642.35</td>\n      <td>6590678</td>\n      <td>315588</td>\n      <td>Wedged pump Full-grain leather pink</td>\n      <td>NaN</td>\n      <td>/System/Optionen/Produktattribute/gender/w</td>\n      <td>NaN</td>\n      <td>PT</td>\n      <td>/System/Optionen/Produktattribute/line/F-S</td>\n      <td>0.0</td>\n      <td>NaN</td>\n      <td>NaN</td>\n      <td>0.0</td>\n      <td>0.0</td>\n      <td>1</td>\n      <td>459559.0</td>\n      <td>459554.0</td>\n      <td>459555.0</td>\n      <td>459556.0</td>\n      <td>459557.0</td>\n      <td>459558.0</td>\n      <td>3</td>\n      <td>0.64</td>\n      <td>/System/Optionen/Produktattribute/material/Rau...</td>\n      <td>Soft Nubuk</td>\n      <td>/System/Optionen/Produktattribute/color/rosa</td>\n      <td>NaN</td>\n      <td>,5077031,</td>\n      <td>,318080,320304,5335437,335087,</td>\n    </tr>\n    <tr>\n      <th>3</th>\n      <td>316138</td>\n      <td>315640</td>\n      <td>06.210.16</td>\n      <td>06.210.16</td>\n      <td>6590678</td>\n      <td>315573</td>\n      <td>Elegant pumps Imitation leather blue</td>\n      <td>NaN</td>\n      <td>/System/Optionen/Produktattribute/gender/w</td>\n      <td>NaN</td>\n      <td>SK</td>\n      <td>/System/Optionen/Produktattribute/line/F-S</td>\n      <td>1.0</td>\n      <td>NaN</td>\n      <td>NaN</td>\n      <td>0.0</td>\n      <td>0.0</td>\n      <td>0</td>\n      <td>760209.0</td>\n      <td>760204.0</td>\n      <td>760205.0</td>\n      <td>760206.0</td>\n      <td>760207.0</td>\n      <td>760208.0</td>\n      <td>3</td>\n      <td>0.73</td>\n      <td>/System/Optionen/Produktattribute/material/Led...</td>\n      <td>Microvelour HT</td>\n      <td>/System/Optionen/Produktattribute/color/blau</td>\n      <td>NaN</td>\n      <td>,7870291,337153,</td>\n      <td>,7870291,337153,</td>\n    </tr>\n    <tr>\n      <th>4</th>\n      <td>316554</td>\n      <td>315640</td>\n      <td>92.221.47</td>\n      <td>92.221.47</td>\n      <td>6590678</td>\n      <td>315573</td>\n      <td>Elegant pumps Full-grain leather black</td>\n      <td>NaN</td>\n      <td>/System/Optionen/Produktattribute/gender/w</td>\n      <td>NaN</td>\n      <td>SK</td>\n      <td>/System/Optionen/Produktattribute/line/H-W</td>\n      <td>1.0</td>\n      <td>NaN</td>\n      <td>NaN</td>\n      <td>0.0</td>\n      <td>0.0</td>\n      <td>1</td>\n      <td>695154.0</td>\n      <td>695149.0</td>\n      <td>695150.0</td>\n      <td>695151.0</td>\n      <td>695152.0</td>\n      <td>695153.0</td>\n      <td>3</td>\n      <td>0.77</td>\n      <td>/System/Optionen/Produktattribute/material/Rau...</td>\n      <td>Samtchevreau</td>\n      <td>/System/Optionen/Produktattribute/color/schwarz</td>\n      <td>NaN</td>\n      <td>,8962773,</td>\n      <td>,9164918,8962807,7588350,</td>\n    </tr>\n    <tr>\n      <th>...</th>\n      <td>...</td>\n      <td>...</td>\n      <td>...</td>\n      <td>...</td>\n      <td>...</td>\n      <td>...</td>\n      <td>...</td>\n      <td>...</td>\n      <td>...</td>\n      <td>...</td>\n      <td>...</td>\n      <td>...</td>\n      <td>...</td>\n      <td>...</td>\n      <td>...</td>\n      <td>...</td>\n      <td>...</td>\n      <td>...</td>\n      <td>...</td>\n      <td>...</td>\n      <td>...</td>\n      <td>...</td>\n      <td>...</td>\n      <td>...</td>\n      <td>...</td>\n      <td>...</td>\n      <td>...</td>\n      <td>...</td>\n      <td>...</td>\n      <td>...</td>\n      <td>...</td>\n      <td>...</td>\n    </tr>\n    <tr>\n      <th>173640</th>\n      <td>11103463</td>\n      <td>315616</td>\n      <td>22.862.57</td>\n      <td>22.862.57</td>\n      <td>6590678</td>\n      <td>315568</td>\n      <td>Platform sandal Smooth leather black</td>\n      <td>NaN</td>\n      <td>/System/Optionen/Produktattribute/gender/w</td>\n      <td>NaN</td>\n      <td>PT</td>\n      <td>/System/Optionen/Produktattribute/line/F-S</td>\n      <td>1.0</td>\n      <td>NaN</td>\n      <td>NaN</td>\n      <td>0.0</td>\n      <td>0.0</td>\n      <td>1</td>\n      <td>813717.0</td>\n      <td>813712.0</td>\n      <td>813713.0</td>\n      <td>813714.0</td>\n      <td>813715.0</td>\n      <td>813716.0</td>\n      <td>3</td>\n      <td>1.12</td>\n      <td>/System/Optionen/Produktattribute/material/Gla...</td>\n      <td>Nappa</td>\n      <td>/System/Optionen/Produktattribute/color/schwarz</td>\n      <td>/System/Optionen/Produktattribute/closure/Klet...</td>\n      <td>,10365600,10359355,10359359,10501416,10459668,</td>\n      <td>NaN</td>\n    </tr>\n    <tr>\n      <th>173641</th>\n      <td>11103464</td>\n      <td>315609</td>\n      <td>22.813.50</td>\n      <td>22.813.50</td>\n      <td>6590678</td>\n      <td>315564</td>\n      <td>Wedge sandal Smooth leather white</td>\n      <td>NaN</td>\n      <td>/System/Optionen/Produktattribute/gender/w</td>\n      <td>NaN</td>\n      <td>SK</td>\n      <td>/System/Optionen/Produktattribute/line/F-S</td>\n      <td>1.0</td>\n      <td>NaN</td>\n      <td>NaN</td>\n      <td>0.0</td>\n      <td>0.0</td>\n      <td>1</td>\n      <td>813621.0</td>\n      <td>813616.0</td>\n      <td>813617.0</td>\n      <td>813618.0</td>\n      <td>813619.0</td>\n      <td>813620.0</td>\n      <td>3</td>\n      <td>0.96</td>\n      <td>/System/Optionen/Produktattribute/material/Gla...</td>\n      <td>Nappa</td>\n      <td>/System/Optionen/Produktattribute/color/weiß</td>\n      <td>/System/Optionen/Produktattribute/closure/Klet...</td>\n      <td>,10459660,10459634,10359368,10451117,10558435,</td>\n      <td>NaN</td>\n    </tr>\n    <tr>\n      <th>173642</th>\n      <td>11103467</td>\n      <td>315679</td>\n      <td>23.160.32</td>\n      <td>23.160.32</td>\n      <td>6590677</td>\n      <td>315586</td>\n      <td>High sneaker Material mix leather beige</td>\n      <td>NaN</td>\n      <td>/System/Optionen/Produktattribute/gender/w</td>\n      <td>NaN</td>\n      <td>PT</td>\n      <td>/System/Optionen/Produktattribute/line/F-S</td>\n      <td>1.0</td>\n      <td>NaN</td>\n      <td>NaN</td>\n      <td>0.0</td>\n      <td>0.0</td>\n      <td>1</td>\n      <td>813685.0</td>\n      <td>813680.0</td>\n      <td>813681.0</td>\n      <td>813682.0</td>\n      <td>813683.0</td>\n      <td>813684.0</td>\n      <td>3</td>\n      <td>1.02</td>\n      <td>/System/Optionen/Produktattribute/material/Mat...</td>\n      <td>Letter/LasVegas</td>\n      <td>/System/Optionen/Produktattribute/color/beige</td>\n      <td>/System/Optionen/Produktattribute/closure/Reiß...</td>\n      <td>,10223518,10501469,10223482,10310092,10223686,</td>\n      <td>NaN</td>\n    </tr>\n    <tr>\n      <th>173643</th>\n      <td>11103472</td>\n      <td>315607</td>\n      <td>21.781.69</td>\n      <td>21.781.69</td>\n      <td>6590677</td>\n      <td>315563</td>\n      <td>Strappy sandal Effect leather green</td>\n      <td>NaN</td>\n      <td>/System/Optionen/Produktattribute/gender/w</td>\n      <td>NaN</td>\n      <td>PT</td>\n      <td>/System/Optionen/Produktattribute/line/F-S</td>\n      <td>1.0</td>\n      <td>NaN</td>\n      <td>NaN</td>\n      <td>0.0</td>\n      <td>0.0</td>\n      <td>1</td>\n      <td>813749.0</td>\n      <td>813744.0</td>\n      <td>813745.0</td>\n      <td>813746.0</td>\n      <td>813747.0</td>\n      <td>813748.0</td>\n      <td>3</td>\n      <td>0.84</td>\n      <td>/System/Optionen/Produktattribute/material/Eff...</td>\n      <td>Metal Cervo</td>\n      <td>/System/Optionen/Produktattribute/color/grün</td>\n      <td>/System/Optionen/Produktattribute/closure/Druc...</td>\n      <td>,10558459,10238431,10740566,10764860,11103462,</td>\n      <td>,11103462,</td>\n    </tr>\n    <tr>\n      <th>173707</th>\n      <td>11113897</td>\n      <td>315607</td>\n      <td>22.734.50</td>\n      <td>22.734.50</td>\n      <td>6590678</td>\n      <td>315563</td>\n      <td>Strappy sandal Smooth leather white</td>\n      <td>NaN</td>\n      <td>/System/Optionen/Produktattribute/gender/w</td>\n      <td>NaN</td>\n      <td>PT</td>\n      <td>/System/Optionen/Produktattribute/line/F-S</td>\n      <td>1.0</td>\n      <td>NaN</td>\n      <td>NaN</td>\n      <td>0.0</td>\n      <td>0.0</td>\n      <td>1</td>\n      <td>813799.0</td>\n      <td>813794.0</td>\n      <td>813795.0</td>\n      <td>813796.0</td>\n      <td>813797.0</td>\n      <td>813798.0</td>\n      <td>3</td>\n      <td>0.95</td>\n      <td>/System/Optionen/Produktattribute/material/Gla...</td>\n      <td>Nappa</td>\n      <td>/System/Optionen/Produktattribute/color/weiß</td>\n      <td>/System/Optionen/Produktattribute/closure/Klet...</td>\n      <td>,10365616,10365574,10324344,10365618,10365592,</td>\n      <td>NaN</td>\n    </tr>\n  </tbody>\n</table>\n<p>11407 rows × 32 columns</p>\n</div>"
     },
     "execution_count": 20,
     "metadata": {},
     "output_type": "execute_result"
    }
   ],
   "source": [
    "#df_product_data[df_product_data['productSizeEu'].isnull()]\n",
    "df_product_data[df_product_data['indicatorAdvertisement'].isnull()]\n",
    "df_product_data[df_product_data['b2cPrice'].isnull()]\n",
    "df_product_data[df_product_data['deliveryTime'].notnull()]\n",
    "df_product_data[df_product_data['description'].notnull()]\n",
    "df_product_data[df_product_data['b2cWebshopStatus'].notnull()]\n"
   ],
   "metadata": {
    "collapsed": false
   }
  },
  {
   "cell_type": "code",
   "execution_count": 21,
   "outputs": [],
   "source": [
    "df_product_data['productType'] = df_product_data['indicatorWedding'].apply(lambda x: 'shoe' if pd.notna(x) else 'bag') ## add column if is shoe or bag"
   ],
   "metadata": {
    "collapsed": false
   }
  },
  {
   "cell_type": "code",
   "execution_count": 22,
   "outputs": [],
   "source": [
    "df_product_data['indicatorWedding'] = df_product_data['indicatorWedding'].fillna(0.0)\n",
    "df_product_data['indicatorAdvertisement'] = df_product_data['indicatorAdvertisement'].fillna(0.0)\n",
    "df_product_data['originCountry'] = df_product_data['originCountry'].fillna('DE')\n",
    "df_product_data['description'] = df_product_data['description'].fillna('')\n",
    "\n",
    "df_product_data = df_product_data.drop(columns=['closure', 'relationsUpSelling', 'relationsColors', 'mainImage', 'additionalImage1','additionalImage2','additionalImage3','additionalImage4','additionalImage5', 'description', 'deliveryTime', 'b2cWebshopStatus'])\n",
    "df_product_data = df_product_data.dropna(subset=['b2cPrice']) # does drop all null b2cWebshopStatus too\n",
    "\n",
    "df_product_data['line'] = df_product_data['line'].map({\n",
    "    '/System/Optionen/Produktattribute/line/F-S': 'F-S',\n",
    "    '/System/Optionen/Produktattribute/line/H-W': 'H-W',\n",
    "    '/System/Optionen/Produktattribute/line/F-S|H-W': 'F-S|H-W'\n",
    "})\n",
    "df_product_data['gender'] = df_product_data['gender'].map({'/System/Optionen/Produktattribute/gender/w': 'w', '/System/Optionen/Produktattribute/gender/m': 'm'})\n",
    "df_product_data['color'] = df_product_data['color'].apply(lambda x: x.replace('/System/Optionen/Produktattribute/color/', ''))\n",
    "df_product_data['material'] = df_product_data['material'].apply(lambda x: x.replace('/System/Optionen/Produktattribute/material/', ''))\n"
   ],
   "metadata": {
    "collapsed": false
   }
  },
  {
   "cell_type": "code",
   "execution_count": 23,
   "outputs": [
    {
     "name": "stdout",
     "output_type": "stream",
     "text": [
      "(162568, 21)\n"
     ]
    },
    {
     "data": {
      "text/plain": "       o_id  o_parentId articleNumber articleNumber2  brand__id  \\\n503  360824      317091     03.700.13      03.700.13    6590677   \n504  360825      317091     03.700.13      03.700.13    6590677   \n505  360826      317091     03.700.13      03.700.13    6590677   \n506  360827      317091     03.700.13      03.700.13    6590677   \n507  360828      317091     03.700.13      03.700.13    6590677   \n\n     mainCategory__id                                    name gender  \\\n503            315594  Toe separator Full-grain leather brown      w   \n504            315594  Toe separator Full-grain leather brown      w   \n505            315594  Toe separator Full-grain leather brown      w   \n506            315594  Toe separator Full-grain leather brown      w   \n507            315594  Toe separator Full-grain leather brown      w   \n\n    originCountry line  b2cPrice b2cCurrency  indicatorAdvertisement  \\\n503            SK  F-S     79.95         EUR                     0.0   \n504            SK  F-S     79.95         EUR                     0.0   \n505            SK  F-S     79.95         EUR                     0.0   \n506            SK  F-S     79.95         EUR                     0.0   \n507            SK  F-S     79.95         EUR                     0.0   \n\n     indicatorWedding  indicatorSale  weight__unit  weight__value  material  \\\n503               0.0              0             3           0.57  Rauleder   \n504               0.0              0             3           0.57  Rauleder   \n505               0.0              0             3           0.57  Rauleder   \n506               0.0              0             3           0.57  Rauleder   \n507               0.0              0             3           0.57  Rauleder   \n\n       materialPm  color productType  \n503  Nubuk Lavato  braun        shoe  \n504  Nubuk Lavato  braun        shoe  \n505  Nubuk Lavato  braun        shoe  \n506  Nubuk Lavato  braun        shoe  \n507  Nubuk Lavato  braun        shoe  ",
      "text/html": "<div>\n<style scoped>\n    .dataframe tbody tr th:only-of-type {\n        vertical-align: middle;\n    }\n\n    .dataframe tbody tr th {\n        vertical-align: top;\n    }\n\n    .dataframe thead th {\n        text-align: right;\n    }\n</style>\n<table border=\"1\" class=\"dataframe\">\n  <thead>\n    <tr style=\"text-align: right;\">\n      <th></th>\n      <th>o_id</th>\n      <th>o_parentId</th>\n      <th>articleNumber</th>\n      <th>articleNumber2</th>\n      <th>brand__id</th>\n      <th>mainCategory__id</th>\n      <th>name</th>\n      <th>gender</th>\n      <th>originCountry</th>\n      <th>line</th>\n      <th>b2cPrice</th>\n      <th>b2cCurrency</th>\n      <th>indicatorAdvertisement</th>\n      <th>indicatorWedding</th>\n      <th>indicatorSale</th>\n      <th>weight__unit</th>\n      <th>weight__value</th>\n      <th>material</th>\n      <th>materialPm</th>\n      <th>color</th>\n      <th>productType</th>\n    </tr>\n  </thead>\n  <tbody>\n    <tr>\n      <th>503</th>\n      <td>360824</td>\n      <td>317091</td>\n      <td>03.700.13</td>\n      <td>03.700.13</td>\n      <td>6590677</td>\n      <td>315594</td>\n      <td>Toe separator Full-grain leather brown</td>\n      <td>w</td>\n      <td>SK</td>\n      <td>F-S</td>\n      <td>79.95</td>\n      <td>EUR</td>\n      <td>0.0</td>\n      <td>0.0</td>\n      <td>0</td>\n      <td>3</td>\n      <td>0.57</td>\n      <td>Rauleder</td>\n      <td>Nubuk Lavato</td>\n      <td>braun</td>\n      <td>shoe</td>\n    </tr>\n    <tr>\n      <th>504</th>\n      <td>360825</td>\n      <td>317091</td>\n      <td>03.700.13</td>\n      <td>03.700.13</td>\n      <td>6590677</td>\n      <td>315594</td>\n      <td>Toe separator Full-grain leather brown</td>\n      <td>w</td>\n      <td>SK</td>\n      <td>F-S</td>\n      <td>79.95</td>\n      <td>EUR</td>\n      <td>0.0</td>\n      <td>0.0</td>\n      <td>0</td>\n      <td>3</td>\n      <td>0.57</td>\n      <td>Rauleder</td>\n      <td>Nubuk Lavato</td>\n      <td>braun</td>\n      <td>shoe</td>\n    </tr>\n    <tr>\n      <th>505</th>\n      <td>360826</td>\n      <td>317091</td>\n      <td>03.700.13</td>\n      <td>03.700.13</td>\n      <td>6590677</td>\n      <td>315594</td>\n      <td>Toe separator Full-grain leather brown</td>\n      <td>w</td>\n      <td>SK</td>\n      <td>F-S</td>\n      <td>79.95</td>\n      <td>EUR</td>\n      <td>0.0</td>\n      <td>0.0</td>\n      <td>0</td>\n      <td>3</td>\n      <td>0.57</td>\n      <td>Rauleder</td>\n      <td>Nubuk Lavato</td>\n      <td>braun</td>\n      <td>shoe</td>\n    </tr>\n    <tr>\n      <th>506</th>\n      <td>360827</td>\n      <td>317091</td>\n      <td>03.700.13</td>\n      <td>03.700.13</td>\n      <td>6590677</td>\n      <td>315594</td>\n      <td>Toe separator Full-grain leather brown</td>\n      <td>w</td>\n      <td>SK</td>\n      <td>F-S</td>\n      <td>79.95</td>\n      <td>EUR</td>\n      <td>0.0</td>\n      <td>0.0</td>\n      <td>0</td>\n      <td>3</td>\n      <td>0.57</td>\n      <td>Rauleder</td>\n      <td>Nubuk Lavato</td>\n      <td>braun</td>\n      <td>shoe</td>\n    </tr>\n    <tr>\n      <th>507</th>\n      <td>360828</td>\n      <td>317091</td>\n      <td>03.700.13</td>\n      <td>03.700.13</td>\n      <td>6590677</td>\n      <td>315594</td>\n      <td>Toe separator Full-grain leather brown</td>\n      <td>w</td>\n      <td>SK</td>\n      <td>F-S</td>\n      <td>79.95</td>\n      <td>EUR</td>\n      <td>0.0</td>\n      <td>0.0</td>\n      <td>0</td>\n      <td>3</td>\n      <td>0.57</td>\n      <td>Rauleder</td>\n      <td>Nubuk Lavato</td>\n      <td>braun</td>\n      <td>shoe</td>\n    </tr>\n  </tbody>\n</table>\n</div>"
     },
     "metadata": {},
     "output_type": "display_data"
    },
    {
     "data": {
      "text/plain": "               o_id    o_parentId     brand__id  mainCategory__id  \\\ncount  1.625680e+05  1.625680e+05  1.625680e+05      1.625680e+05   \nmean   7.135803e+06  6.334273e+06  6.303828e+06      9.056657e+05   \nstd    2.332297e+06  2.873020e+06  7.920261e+05      1.511116e+06   \nmin    3.608240e+05  3.156820e+05  3.630130e+05      3.155610e+05   \n25%    4.978938e+06  4.113916e+06  6.590677e+06      3.155670e+05   \n50%    7.594346e+06  6.551835e+06  6.590677e+06      3.155730e+05   \n75%    8.807740e+06  8.629854e+06  6.590678e+06      3.155870e+05   \nmax    1.111392e+07  1.111390e+07  6.590678e+06      1.064827e+07   \n\n            b2cPrice  indicatorAdvertisement  indicatorWedding  indicatorSale  \\\ncount  162568.000000           162568.000000     162568.000000  162568.000000   \nmean      115.360479                0.010180          0.001169       0.881606   \nstd        23.952120                0.100383          0.034167       0.323075   \nmin        35.990000                0.000000          0.000000       0.000000   \n25%        99.950000                0.000000          0.000000       1.000000   \n50%       110.000000                0.000000          0.000000       1.000000   \n75%       130.000000                0.000000          0.000000       1.000000   \nmax       270.000000                1.000000          1.000000       1.000000   \n\n       weight__unit  weight__value  \ncount      162568.0  162568.000000  \nmean            3.0       0.848094  \nstd             0.0       0.303929  \nmin             3.0       0.000000  \n25%             3.0       0.620000  \n50%             3.0       0.790000  \n75%             3.0       1.050000  \nmax             3.0       2.070000  ",
      "text/html": "<div>\n<style scoped>\n    .dataframe tbody tr th:only-of-type {\n        vertical-align: middle;\n    }\n\n    .dataframe tbody tr th {\n        vertical-align: top;\n    }\n\n    .dataframe thead th {\n        text-align: right;\n    }\n</style>\n<table border=\"1\" class=\"dataframe\">\n  <thead>\n    <tr style=\"text-align: right;\">\n      <th></th>\n      <th>o_id</th>\n      <th>o_parentId</th>\n      <th>brand__id</th>\n      <th>mainCategory__id</th>\n      <th>b2cPrice</th>\n      <th>indicatorAdvertisement</th>\n      <th>indicatorWedding</th>\n      <th>indicatorSale</th>\n      <th>weight__unit</th>\n      <th>weight__value</th>\n    </tr>\n  </thead>\n  <tbody>\n    <tr>\n      <th>count</th>\n      <td>1.625680e+05</td>\n      <td>1.625680e+05</td>\n      <td>1.625680e+05</td>\n      <td>1.625680e+05</td>\n      <td>162568.000000</td>\n      <td>162568.000000</td>\n      <td>162568.000000</td>\n      <td>162568.000000</td>\n      <td>162568.0</td>\n      <td>162568.000000</td>\n    </tr>\n    <tr>\n      <th>mean</th>\n      <td>7.135803e+06</td>\n      <td>6.334273e+06</td>\n      <td>6.303828e+06</td>\n      <td>9.056657e+05</td>\n      <td>115.360479</td>\n      <td>0.010180</td>\n      <td>0.001169</td>\n      <td>0.881606</td>\n      <td>3.0</td>\n      <td>0.848094</td>\n    </tr>\n    <tr>\n      <th>std</th>\n      <td>2.332297e+06</td>\n      <td>2.873020e+06</td>\n      <td>7.920261e+05</td>\n      <td>1.511116e+06</td>\n      <td>23.952120</td>\n      <td>0.100383</td>\n      <td>0.034167</td>\n      <td>0.323075</td>\n      <td>0.0</td>\n      <td>0.303929</td>\n    </tr>\n    <tr>\n      <th>min</th>\n      <td>3.608240e+05</td>\n      <td>3.156820e+05</td>\n      <td>3.630130e+05</td>\n      <td>3.155610e+05</td>\n      <td>35.990000</td>\n      <td>0.000000</td>\n      <td>0.000000</td>\n      <td>0.000000</td>\n      <td>3.0</td>\n      <td>0.000000</td>\n    </tr>\n    <tr>\n      <th>25%</th>\n      <td>4.978938e+06</td>\n      <td>4.113916e+06</td>\n      <td>6.590677e+06</td>\n      <td>3.155670e+05</td>\n      <td>99.950000</td>\n      <td>0.000000</td>\n      <td>0.000000</td>\n      <td>1.000000</td>\n      <td>3.0</td>\n      <td>0.620000</td>\n    </tr>\n    <tr>\n      <th>50%</th>\n      <td>7.594346e+06</td>\n      <td>6.551835e+06</td>\n      <td>6.590677e+06</td>\n      <td>3.155730e+05</td>\n      <td>110.000000</td>\n      <td>0.000000</td>\n      <td>0.000000</td>\n      <td>1.000000</td>\n      <td>3.0</td>\n      <td>0.790000</td>\n    </tr>\n    <tr>\n      <th>75%</th>\n      <td>8.807740e+06</td>\n      <td>8.629854e+06</td>\n      <td>6.590678e+06</td>\n      <td>3.155870e+05</td>\n      <td>130.000000</td>\n      <td>0.000000</td>\n      <td>0.000000</td>\n      <td>1.000000</td>\n      <td>3.0</td>\n      <td>1.050000</td>\n    </tr>\n    <tr>\n      <th>max</th>\n      <td>1.111392e+07</td>\n      <td>1.111390e+07</td>\n      <td>6.590678e+06</td>\n      <td>1.064827e+07</td>\n      <td>270.000000</td>\n      <td>1.000000</td>\n      <td>1.000000</td>\n      <td>1.000000</td>\n      <td>3.0</td>\n      <td>2.070000</td>\n    </tr>\n  </tbody>\n</table>\n</div>"
     },
     "metadata": {},
     "output_type": "display_data"
    },
    {
     "data": {
      "text/plain": "o_id                      0\no_parentId                0\narticleNumber             0\narticleNumber2            0\nbrand__id                 0\nmainCategory__id          0\nname                      0\ngender                    0\noriginCountry             0\nline                      0\nb2cPrice                  0\nb2cCurrency               0\nindicatorAdvertisement    0\nindicatorWedding          0\nindicatorSale             0\nweight__unit              0\nweight__value             0\nmaterial                  0\nmaterialPm                0\ncolor                     0\nproductType               0\ndtype: int64"
     },
     "metadata": {},
     "output_type": "display_data"
    }
   ],
   "source": [
    "base_information_dataset(df_product_data)\n"
   ],
   "metadata": {
    "collapsed": false
   }
  },
  {
   "cell_type": "code",
   "execution_count": 24,
   "outputs": [],
   "source": [
    "### Shoe Data"
   ],
   "metadata": {
    "collapsed": false
   }
  },
  {
   "cell_type": "markdown",
   "source": [],
   "metadata": {
    "collapsed": false
   }
  },
  {
   "cell_type": "code",
   "execution_count": 25,
   "outputs": [
    {
     "name": "stdout",
     "output_type": "stream",
     "text": [
      "(173478, 29)\n"
     ]
    },
    {
     "data": {
      "text/plain": "     o_id   fieldname                                           heelForm  \\\n0  315682  attributes  /System/Optionen/Produktattribute/heel_form/fl...   \n1  315997  attributes  /System/Optionen/Produktattribute/heel_form/Bl...   \n2  316061  attributes  /System/Optionen/Produktattribute/heel_form/Ke...   \n3  316138  attributes  /System/Optionen/Produktattribute/heel_form/Bl...   \n4  316554  attributes  /System/Optionen/Produktattribute/heel_form/Bl...   \n\n                                         style  \\\n0  /System/Optionen/Produktattribute/style/SPC   \n1  /System/Optionen/Produktattribute/style/ELK   \n2  /System/Optionen/Produktattribute/style/SPC   \n3  /System/Optionen/Produktattribute/style/ELK   \n4  /System/Optionen/Produktattribute/style/ELK   \n\n                                            shoeTip shaftWidth  \\\n0   /System/Optionen/Produktattribute/shoe_tip/rund        NaN   \n1  /System/Optionen/Produktattribute/shoe_tip/spitz        NaN   \n2   /System/Optionen/Produktattribute/shoe_tip/rund        NaN   \n3   /System/Optionen/Produktattribute/shoe_tip/rund        NaN   \n4   /System/Optionen/Produktattribute/shoe_tip/rund        NaN   \n\n                                              lining  heelHeight__value  \\\n0  /System/Optionen/Produktattribute/lining/Micro...                3.0   \n1  /System/Optionen/Produktattribute/lining/Leder...                3.0   \n2  /System/Optionen/Produktattribute/lining/Texti...                4.0   \n3  /System/Optionen/Produktattribute/lining/Texti...                3.5   \n4  /System/Optionen/Produktattribute/lining/Leder...                4.0   \n\n   heelHeight__unit    liningPm                                      width  \\\n0               1.0  Microfaser  /System/Optionen/Produktattribute/width/G   \n1               1.0       Leder  /System/Optionen/Produktattribute/width/F   \n2               1.0       Vlies  /System/Optionen/Produktattribute/width/G   \n3               1.0   High Tech  /System/Optionen/Produktattribute/width/G   \n4               1.0       Leder  /System/Optionen/Produktattribute/width/G   \n\n   hasOwnAssortment                                           shoeType  \\\n0               0.0  /System/Optionen/Produktattribute/shoe_type/Ri...   \n1               0.0  /System/Optionen/Produktattribute/shoe_type/Sl...   \n2               0.0  /System/Optionen/Produktattribute/shoe_type/Ke...   \n3               0.0  /System/Optionen/Produktattribute/shoe_type/el...   \n4               0.0  /System/Optionen/Produktattribute/shoe_type/el...   \n\n  formGroup    model                                     specialOutfits  \\\n0      2606  26063.0  ,/System/Optionen/Produktattribute/special_out...   \n1      8153  81530.0                                                NaN   \n2      6264  62642.0  ,/System/Optionen/Produktattribute/special_out...   \n3      0621   6210.0  ,/System/Optionen/Produktattribute/special_out...   \n4      9222  92221.0  ,/System/Optionen/Produktattribute/special_out...   \n\n                                           shoeStyle  \\\n0  /System/Optionen/Produktattribute/shoe_style/S...   \n1  /System/Optionen/Produktattribute/shoe_style/P...   \n2  /System/Optionen/Produktattribute/shoe_style/P...   \n3  /System/Optionen/Produktattribute/shoe_style/P...   \n4  /System/Optionen/Produktattribute/shoe_style/P...   \n\n                                         productType productStickers  \\\n0  /System/Optionen/Produktattribute/product_type...             NaN   \n1  /System/Optionen/Produktattribute/product_type...             NaN   \n2  /System/Optionen/Produktattribute/product_type...             NaN   \n3  /System/Optionen/Produktattribute/product_type...             NaN   \n4  /System/Optionen/Produktattribute/product_type...             NaN   \n\n  heelHeightGroup  sizeEu  sizeUk  sizeIndex  shaftLength__value  \\\n0     3 cm - 5 cm     NaN     NaN        NaN                 NaN   \n1     3 cm - 5 cm     NaN     NaN        NaN                 NaN   \n2     3 cm - 5 cm     NaN     NaN        NaN                 NaN   \n3     3 cm - 5 cm     NaN     NaN        NaN                 NaN   \n4     3 cm - 5 cm     NaN     NaN        NaN                 NaN   \n\n   shaftLength__unit                                          sole  \\\n0                NaN  /System/Optionen/Produktattribute/sole/Gummi   \n1                NaN    /System/Optionen/Produktattribute/sole/TPU   \n2                NaN     /System/Optionen/Produktattribute/sole/TR   \n3                NaN    /System/Optionen/Produktattribute/sole/TPU   \n4                NaN  /System/Optionen/Produktattribute/sole/Gummi   \n\n   isTransferee specialMarks  isSuccessor  \n0           1.0          NaN          1.0  \n1           1.0          NaN          1.0  \n2           0.0          NaN          1.0  \n3           1.0          NaN          1.0  \n4           1.0          NaN          1.0  ",
      "text/html": "<div>\n<style scoped>\n    .dataframe tbody tr th:only-of-type {\n        vertical-align: middle;\n    }\n\n    .dataframe tbody tr th {\n        vertical-align: top;\n    }\n\n    .dataframe thead th {\n        text-align: right;\n    }\n</style>\n<table border=\"1\" class=\"dataframe\">\n  <thead>\n    <tr style=\"text-align: right;\">\n      <th></th>\n      <th>o_id</th>\n      <th>fieldname</th>\n      <th>heelForm</th>\n      <th>style</th>\n      <th>shoeTip</th>\n      <th>shaftWidth</th>\n      <th>lining</th>\n      <th>heelHeight__value</th>\n      <th>heelHeight__unit</th>\n      <th>liningPm</th>\n      <th>width</th>\n      <th>hasOwnAssortment</th>\n      <th>shoeType</th>\n      <th>formGroup</th>\n      <th>model</th>\n      <th>specialOutfits</th>\n      <th>shoeStyle</th>\n      <th>productType</th>\n      <th>productStickers</th>\n      <th>heelHeightGroup</th>\n      <th>sizeEu</th>\n      <th>sizeUk</th>\n      <th>sizeIndex</th>\n      <th>shaftLength__value</th>\n      <th>shaftLength__unit</th>\n      <th>sole</th>\n      <th>isTransferee</th>\n      <th>specialMarks</th>\n      <th>isSuccessor</th>\n    </tr>\n  </thead>\n  <tbody>\n    <tr>\n      <th>0</th>\n      <td>315682</td>\n      <td>attributes</td>\n      <td>/System/Optionen/Produktattribute/heel_form/fl...</td>\n      <td>/System/Optionen/Produktattribute/style/SPC</td>\n      <td>/System/Optionen/Produktattribute/shoe_tip/rund</td>\n      <td>NaN</td>\n      <td>/System/Optionen/Produktattribute/lining/Micro...</td>\n      <td>3.0</td>\n      <td>1.0</td>\n      <td>Microfaser</td>\n      <td>/System/Optionen/Produktattribute/width/G</td>\n      <td>0.0</td>\n      <td>/System/Optionen/Produktattribute/shoe_type/Ri...</td>\n      <td>2606</td>\n      <td>26063.0</td>\n      <td>,/System/Optionen/Produktattribute/special_out...</td>\n      <td>/System/Optionen/Produktattribute/shoe_style/S...</td>\n      <td>/System/Optionen/Produktattribute/product_type...</td>\n      <td>NaN</td>\n      <td>3 cm - 5 cm</td>\n      <td>NaN</td>\n      <td>NaN</td>\n      <td>NaN</td>\n      <td>NaN</td>\n      <td>NaN</td>\n      <td>/System/Optionen/Produktattribute/sole/Gummi</td>\n      <td>1.0</td>\n      <td>NaN</td>\n      <td>1.0</td>\n    </tr>\n    <tr>\n      <th>1</th>\n      <td>315997</td>\n      <td>attributes</td>\n      <td>/System/Optionen/Produktattribute/heel_form/Bl...</td>\n      <td>/System/Optionen/Produktattribute/style/ELK</td>\n      <td>/System/Optionen/Produktattribute/shoe_tip/spitz</td>\n      <td>NaN</td>\n      <td>/System/Optionen/Produktattribute/lining/Leder...</td>\n      <td>3.0</td>\n      <td>1.0</td>\n      <td>Leder</td>\n      <td>/System/Optionen/Produktattribute/width/F</td>\n      <td>0.0</td>\n      <td>/System/Optionen/Produktattribute/shoe_type/Sl...</td>\n      <td>8153</td>\n      <td>81530.0</td>\n      <td>NaN</td>\n      <td>/System/Optionen/Produktattribute/shoe_style/P...</td>\n      <td>/System/Optionen/Produktattribute/product_type...</td>\n      <td>NaN</td>\n      <td>3 cm - 5 cm</td>\n      <td>NaN</td>\n      <td>NaN</td>\n      <td>NaN</td>\n      <td>NaN</td>\n      <td>NaN</td>\n      <td>/System/Optionen/Produktattribute/sole/TPU</td>\n      <td>1.0</td>\n      <td>NaN</td>\n      <td>1.0</td>\n    </tr>\n    <tr>\n      <th>2</th>\n      <td>316061</td>\n      <td>attributes</td>\n      <td>/System/Optionen/Produktattribute/heel_form/Ke...</td>\n      <td>/System/Optionen/Produktattribute/style/SPC</td>\n      <td>/System/Optionen/Produktattribute/shoe_tip/rund</td>\n      <td>NaN</td>\n      <td>/System/Optionen/Produktattribute/lining/Texti...</td>\n      <td>4.0</td>\n      <td>1.0</td>\n      <td>Vlies</td>\n      <td>/System/Optionen/Produktattribute/width/G</td>\n      <td>0.0</td>\n      <td>/System/Optionen/Produktattribute/shoe_type/Ke...</td>\n      <td>6264</td>\n      <td>62642.0</td>\n      <td>,/System/Optionen/Produktattribute/special_out...</td>\n      <td>/System/Optionen/Produktattribute/shoe_style/P...</td>\n      <td>/System/Optionen/Produktattribute/product_type...</td>\n      <td>NaN</td>\n      <td>3 cm - 5 cm</td>\n      <td>NaN</td>\n      <td>NaN</td>\n      <td>NaN</td>\n      <td>NaN</td>\n      <td>NaN</td>\n      <td>/System/Optionen/Produktattribute/sole/TR</td>\n      <td>0.0</td>\n      <td>NaN</td>\n      <td>1.0</td>\n    </tr>\n    <tr>\n      <th>3</th>\n      <td>316138</td>\n      <td>attributes</td>\n      <td>/System/Optionen/Produktattribute/heel_form/Bl...</td>\n      <td>/System/Optionen/Produktattribute/style/ELK</td>\n      <td>/System/Optionen/Produktattribute/shoe_tip/rund</td>\n      <td>NaN</td>\n      <td>/System/Optionen/Produktattribute/lining/Texti...</td>\n      <td>3.5</td>\n      <td>1.0</td>\n      <td>High Tech</td>\n      <td>/System/Optionen/Produktattribute/width/G</td>\n      <td>0.0</td>\n      <td>/System/Optionen/Produktattribute/shoe_type/el...</td>\n      <td>0621</td>\n      <td>6210.0</td>\n      <td>,/System/Optionen/Produktattribute/special_out...</td>\n      <td>/System/Optionen/Produktattribute/shoe_style/P...</td>\n      <td>/System/Optionen/Produktattribute/product_type...</td>\n      <td>NaN</td>\n      <td>3 cm - 5 cm</td>\n      <td>NaN</td>\n      <td>NaN</td>\n      <td>NaN</td>\n      <td>NaN</td>\n      <td>NaN</td>\n      <td>/System/Optionen/Produktattribute/sole/TPU</td>\n      <td>1.0</td>\n      <td>NaN</td>\n      <td>1.0</td>\n    </tr>\n    <tr>\n      <th>4</th>\n      <td>316554</td>\n      <td>attributes</td>\n      <td>/System/Optionen/Produktattribute/heel_form/Bl...</td>\n      <td>/System/Optionen/Produktattribute/style/ELK</td>\n      <td>/System/Optionen/Produktattribute/shoe_tip/rund</td>\n      <td>NaN</td>\n      <td>/System/Optionen/Produktattribute/lining/Leder...</td>\n      <td>4.0</td>\n      <td>1.0</td>\n      <td>Leder</td>\n      <td>/System/Optionen/Produktattribute/width/G</td>\n      <td>0.0</td>\n      <td>/System/Optionen/Produktattribute/shoe_type/el...</td>\n      <td>9222</td>\n      <td>92221.0</td>\n      <td>,/System/Optionen/Produktattribute/special_out...</td>\n      <td>/System/Optionen/Produktattribute/shoe_style/P...</td>\n      <td>/System/Optionen/Produktattribute/product_type...</td>\n      <td>NaN</td>\n      <td>3 cm - 5 cm</td>\n      <td>NaN</td>\n      <td>NaN</td>\n      <td>NaN</td>\n      <td>NaN</td>\n      <td>NaN</td>\n      <td>/System/Optionen/Produktattribute/sole/Gummi</td>\n      <td>1.0</td>\n      <td>NaN</td>\n      <td>1.0</td>\n    </tr>\n  </tbody>\n</table>\n</div>"
     },
     "metadata": {},
     "output_type": "display_data"
    },
    {
     "data": {
      "text/plain": "               o_id  heelHeight__value  heelHeight__unit  hasOwnAssortment  \\\ncount  1.734780e+05      173471.000000          173471.0     173471.000000   \nmean   7.083288e+06           4.195220               1.0          0.117904   \nstd    2.375133e+06           1.350044               0.0          0.322496   \nmin    3.156820e+05           0.800000               1.0          0.000000   \n25%    4.977994e+06           3.500000               1.0          0.000000   \n50%    7.592998e+06           4.000000               1.0          0.000000   \n75%    8.807030e+06           5.000000               1.0          0.000000   \nmax    1.111392e+07           8.500000               1.0          1.000000   \n\n               model         sizeEu         sizeUk      sizeIndex  \\\ncount  173471.000000  162316.000000  162316.000000  162316.000000   \nmean    73252.319068      39.617287       6.246494       9.947294   \nstd     81144.234649       2.988861       2.341143       4.319587   \nmin      1260.000000      35.000000       2.500000       3.000000   \n25%     52792.000000      37.500000       4.500000       6.000000   \n50%     66827.000000      39.000000       6.000000      10.000000   \n75%     86465.000000      42.000000       8.000000      14.000000   \nmax    800550.000000      49.500000      14.000000      20.000000   \n\n       shaftLength__value  shaftLength__unit   isTransferee  isSuccessor  \ncount       166934.000000           166934.0  173471.000000      34214.0  \nmean             6.264470                1.0       0.144508          1.0  \nstd              9.768647                0.0       0.351605          0.0  \nmin              0.000000                1.0       0.000000          1.0  \n25%              0.000000                1.0       0.000000          1.0  \n50%              0.000000                1.0       0.000000          1.0  \n75%             13.000000                1.0       0.000000          1.0  \nmax             54.000000                1.0       1.000000          1.0  ",
      "text/html": "<div>\n<style scoped>\n    .dataframe tbody tr th:only-of-type {\n        vertical-align: middle;\n    }\n\n    .dataframe tbody tr th {\n        vertical-align: top;\n    }\n\n    .dataframe thead th {\n        text-align: right;\n    }\n</style>\n<table border=\"1\" class=\"dataframe\">\n  <thead>\n    <tr style=\"text-align: right;\">\n      <th></th>\n      <th>o_id</th>\n      <th>heelHeight__value</th>\n      <th>heelHeight__unit</th>\n      <th>hasOwnAssortment</th>\n      <th>model</th>\n      <th>sizeEu</th>\n      <th>sizeUk</th>\n      <th>sizeIndex</th>\n      <th>shaftLength__value</th>\n      <th>shaftLength__unit</th>\n      <th>isTransferee</th>\n      <th>isSuccessor</th>\n    </tr>\n  </thead>\n  <tbody>\n    <tr>\n      <th>count</th>\n      <td>1.734780e+05</td>\n      <td>173471.000000</td>\n      <td>173471.0</td>\n      <td>173471.000000</td>\n      <td>173471.000000</td>\n      <td>162316.000000</td>\n      <td>162316.000000</td>\n      <td>162316.000000</td>\n      <td>166934.000000</td>\n      <td>166934.0</td>\n      <td>173471.000000</td>\n      <td>34214.0</td>\n    </tr>\n    <tr>\n      <th>mean</th>\n      <td>7.083288e+06</td>\n      <td>4.195220</td>\n      <td>1.0</td>\n      <td>0.117904</td>\n      <td>73252.319068</td>\n      <td>39.617287</td>\n      <td>6.246494</td>\n      <td>9.947294</td>\n      <td>6.264470</td>\n      <td>1.0</td>\n      <td>0.144508</td>\n      <td>1.0</td>\n    </tr>\n    <tr>\n      <th>std</th>\n      <td>2.375133e+06</td>\n      <td>1.350044</td>\n      <td>0.0</td>\n      <td>0.322496</td>\n      <td>81144.234649</td>\n      <td>2.988861</td>\n      <td>2.341143</td>\n      <td>4.319587</td>\n      <td>9.768647</td>\n      <td>0.0</td>\n      <td>0.351605</td>\n      <td>0.0</td>\n    </tr>\n    <tr>\n      <th>min</th>\n      <td>3.156820e+05</td>\n      <td>0.800000</td>\n      <td>1.0</td>\n      <td>0.000000</td>\n      <td>1260.000000</td>\n      <td>35.000000</td>\n      <td>2.500000</td>\n      <td>3.000000</td>\n      <td>0.000000</td>\n      <td>1.0</td>\n      <td>0.000000</td>\n      <td>1.0</td>\n    </tr>\n    <tr>\n      <th>25%</th>\n      <td>4.977994e+06</td>\n      <td>3.500000</td>\n      <td>1.0</td>\n      <td>0.000000</td>\n      <td>52792.000000</td>\n      <td>37.500000</td>\n      <td>4.500000</td>\n      <td>6.000000</td>\n      <td>0.000000</td>\n      <td>1.0</td>\n      <td>0.000000</td>\n      <td>1.0</td>\n    </tr>\n    <tr>\n      <th>50%</th>\n      <td>7.592998e+06</td>\n      <td>4.000000</td>\n      <td>1.0</td>\n      <td>0.000000</td>\n      <td>66827.000000</td>\n      <td>39.000000</td>\n      <td>6.000000</td>\n      <td>10.000000</td>\n      <td>0.000000</td>\n      <td>1.0</td>\n      <td>0.000000</td>\n      <td>1.0</td>\n    </tr>\n    <tr>\n      <th>75%</th>\n      <td>8.807030e+06</td>\n      <td>5.000000</td>\n      <td>1.0</td>\n      <td>0.000000</td>\n      <td>86465.000000</td>\n      <td>42.000000</td>\n      <td>8.000000</td>\n      <td>14.000000</td>\n      <td>13.000000</td>\n      <td>1.0</td>\n      <td>0.000000</td>\n      <td>1.0</td>\n    </tr>\n    <tr>\n      <th>max</th>\n      <td>1.111392e+07</td>\n      <td>8.500000</td>\n      <td>1.0</td>\n      <td>1.000000</td>\n      <td>800550.000000</td>\n      <td>49.500000</td>\n      <td>14.000000</td>\n      <td>20.000000</td>\n      <td>54.000000</td>\n      <td>1.0</td>\n      <td>1.000000</td>\n      <td>1.0</td>\n    </tr>\n  </tbody>\n</table>\n</div>"
     },
     "metadata": {},
     "output_type": "display_data"
    },
    {
     "data": {
      "text/plain": "o_id                       0\nfieldname                  0\nheelForm                   7\nstyle                      7\nshoeTip                    7\nshaftWidth            167897\nlining                  8353\nheelHeight__value          7\nheelHeight__unit           7\nliningPm                2505\nwidth                   9849\nhasOwnAssortment           7\nshoeType                   7\nformGroup                  7\nmodel                      7\nspecialOutfits         15080\nshoeStyle                  7\nproductType                7\nproductStickers       173006\nheelHeightGroup            7\nsizeEu                 11162\nsizeUk                 11162\nsizeIndex              11162\nshaftLength__value      6544\nshaftLength__unit       6544\nsole                       7\nisTransferee               7\nspecialMarks          167234\nisSuccessor           139264\ndtype: int64"
     },
     "metadata": {},
     "output_type": "display_data"
    }
   ],
   "source": [
    "df_shoe_data = pd.read_csv('../datasets/gabor/Gabor_Shoe_Data.csv',low_memory=False)\n",
    "base_information_dataset(df_shoe_data)"
   ],
   "metadata": {
    "collapsed": false
   }
  },
  {
   "cell_type": "code",
   "execution_count": 26,
   "outputs": [
    {
     "data": {
      "text/plain": "array(['/System/Optionen/Produktattribute/shoe_type/Riemchensandalen',\n       '/System/Optionen/Produktattribute/shoe_type/Slingpumps',\n       '/System/Optionen/Produktattribute/shoe_type/Keilpumps',\n       '/System/Optionen/Produktattribute/shoe_type/elegante Pumps',\n       '/System/Optionen/Produktattribute/shoe_type/elegante Stiefeletten',\n       '/System/Optionen/Produktattribute/shoe_type/Spangenpumps',\n       '/System/Optionen/Produktattribute/shoe_type/Zehentrenner',\n       '/System/Optionen/Produktattribute/shoe_type/Sneaker low',\n       '/System/Optionen/Produktattribute/shoe_type/sportliche Ballerinas',\n       '/System/Optionen/Produktattribute/shoe_type/Schnürstiefeletten',\n       '/System/Optionen/Produktattribute/shoe_type/Mokassins',\n       '/System/Optionen/Produktattribute/shoe_type/Slipper',\n       '/System/Optionen/Produktattribute/shoe_type/Pantoletten',\n       '/System/Optionen/Produktattribute/shoe_type/elegante Ballerinas',\n       '/System/Optionen/Produktattribute/shoe_type/Plateau Stiefeletten',\n       '/System/Optionen/Produktattribute/shoe_type/Keilsandaletten',\n       '/System/Optionen/Produktattribute/shoe_type/Chelsea Boots',\n       '/System/Optionen/Produktattribute/shoe_type/Plateau Pumps',\n       '/System/Optionen/Produktattribute/shoe_type/Schnürpumps',\n       '/System/Optionen/Produktattribute/shoe_type/sportliche Stiefeletten',\n       '/System/Optionen/Produktattribute/shoe_type/elegante Stiefel',\n       '/System/Optionen/Produktattribute/shoe_type/Reiterstiefel',\n       '/System/Optionen/Produktattribute/shoe_type/Sneaker high',\n       '/System/Optionen/Produktattribute/shoe_type/Ankle Boots',\n       '/System/Optionen/Produktattribute/shoe_type/Winterstiefel',\n       '/System/Optionen/Produktattribute/shoe_type/Hochfrontpumps',\n       '/System/Optionen/Produktattribute/shoe_type/Schnürschuhe',\n       '/System/Optionen/Produktattribute/shoe_type/Winterstiefeletten',\n       '/System/Optionen/Produktattribute/shoe_type/Biker- und Combat Boots',\n       '/System/Optionen/Produktattribute/shoe_type/sportliche Stiefel',\n       '/System/Optionen/Produktattribute/shoe_type/Plateau Sandalen',\n       '/System/Optionen/Produktattribute/shoe_type/Trekkingsandalen',\n       '/System/Optionen/Produktattribute/shoe_type/Peeptoes',\n       '/System/Optionen/Produktattribute/shoe_type/Plateau Stiefel', nan,\n       '/System/Optionen/Produktattribute/shoe_type/Boots',\n       '/System/Optionen/Produktattribute/shoe_type/Clogs',\n       '/System/Optionen/Produktattribute/shoe_type/Klassische Hausschuhe',\n       '/System/Optionen/Produktattribute/shoe_type/Overknees',\n       '/System/Optionen/Produktattribute/shoe_type/Plüschhausschuhe'],\n      dtype=object)"
     },
     "execution_count": 26,
     "metadata": {},
     "output_type": "execute_result"
    }
   ],
   "source": [
    "df_shoe_data['shoeType'].unique()"
   ],
   "metadata": {
    "collapsed": false
   }
  },
  {
   "cell_type": "code",
   "execution_count": 27,
   "outputs": [
    {
     "data": {
      "text/plain": "            o_id   fieldname  \\\n97345    7789086  attributes   \n97385    7789126  attributes   \n99461    7791776  attributes   \n99462    7791777  attributes   \n99463    7791778  attributes   \n...          ...         ...   \n164989  10504341  attributes   \n164990  10504342  attributes   \n164991  10504343  attributes   \n164992  10504344  attributes   \n164993  10504345  attributes   \n\n                                                 heelForm  \\\n97345   /System/Optionen/Produktattribute/heel_form/Ke...   \n97385   /System/Optionen/Produktattribute/heel_form/fl...   \n99461   /System/Optionen/Produktattribute/heel_form/Ke...   \n99462   /System/Optionen/Produktattribute/heel_form/Ke...   \n99463   /System/Optionen/Produktattribute/heel_form/Ke...   \n...                                                   ...   \n164989  /System/Optionen/Produktattribute/heel_form/Bl...   \n164990  /System/Optionen/Produktattribute/heel_form/Bl...   \n164991  /System/Optionen/Produktattribute/heel_form/Bl...   \n164992  /System/Optionen/Produktattribute/heel_form/Bl...   \n164993  /System/Optionen/Produktattribute/heel_form/Bl...   \n\n                                              style  \\\n97345   /System/Optionen/Produktattribute/style/SPC   \n97385   /System/Optionen/Produktattribute/style/SPC   \n99461   /System/Optionen/Produktattribute/style/SPC   \n99462   /System/Optionen/Produktattribute/style/SPC   \n99463   /System/Optionen/Produktattribute/style/SPC   \n...                                             ...   \n164989  /System/Optionen/Produktattribute/style/ELK   \n164990  /System/Optionen/Produktattribute/style/ELK   \n164991  /System/Optionen/Produktattribute/style/ELK   \n164992  /System/Optionen/Produktattribute/style/ELK   \n164993  /System/Optionen/Produktattribute/style/ELK   \n\n                                                  shoeTip shaftWidth  \\\n97345   /System/Optionen/Produktattribute/shoe_tip/karree        NaN   \n97385     /System/Optionen/Produktattribute/shoe_tip/rund        NaN   \n99461   /System/Optionen/Produktattribute/shoe_tip/karree        NaN   \n99462   /System/Optionen/Produktattribute/shoe_tip/karree        NaN   \n99463   /System/Optionen/Produktattribute/shoe_tip/karree        NaN   \n...                                                   ...        ...   \n164989  /System/Optionen/Produktattribute/shoe_tip/karree        NaN   \n164990  /System/Optionen/Produktattribute/shoe_tip/karree        NaN   \n164991  /System/Optionen/Produktattribute/shoe_tip/karree        NaN   \n164992  /System/Optionen/Produktattribute/shoe_tip/karree        NaN   \n164993  /System/Optionen/Produktattribute/shoe_tip/karree        NaN   \n\n                                                   lining  heelHeight__value  \\\n97345   /System/Optionen/Produktattribute/lining/Texti...                7.0   \n97385   /System/Optionen/Produktattribute/lining/Leder...                4.0   \n99461   /System/Optionen/Produktattribute/lining/Texti...                7.0   \n99462   /System/Optionen/Produktattribute/lining/Texti...                7.0   \n99463   /System/Optionen/Produktattribute/lining/Texti...                7.0   \n...                                                   ...                ...   \n164989  /System/Optionen/Produktattribute/lining/Leder...                6.0   \n164990  /System/Optionen/Produktattribute/lining/Leder...                6.0   \n164991  /System/Optionen/Produktattribute/lining/Leder...                6.0   \n164992  /System/Optionen/Produktattribute/lining/Leder...                6.0   \n164993  /System/Optionen/Produktattribute/lining/Leder...                6.0   \n\n        heelHeight__unit   liningPm  \\\n97345                1.0  High Tech   \n97385                1.0      Leder   \n99461                1.0  High Tech   \n99462                1.0  High Tech   \n99463                1.0  High Tech   \n...                  ...        ...   \n164989               1.0      Leder   \n164990               1.0      Leder   \n164991               1.0      Leder   \n164992               1.0      Leder   \n164993               1.0      Leder   \n\n                                            width  hasOwnAssortment  \\\n97345   /System/Optionen/Produktattribute/width/F               0.0   \n97385   /System/Optionen/Produktattribute/width/G               0.0   \n99461   /System/Optionen/Produktattribute/width/F               0.0   \n99462   /System/Optionen/Produktattribute/width/F               0.0   \n99463   /System/Optionen/Produktattribute/width/F               0.0   \n...                                           ...               ...   \n164989  /System/Optionen/Produktattribute/width/G               0.0   \n164990  /System/Optionen/Produktattribute/width/G               0.0   \n164991  /System/Optionen/Produktattribute/width/G               0.0   \n164992  /System/Optionen/Produktattribute/width/G               0.0   \n164993  /System/Optionen/Produktattribute/width/G               0.0   \n\n                                                 shoeType formGroup    model  \\\n97345   /System/Optionen/Produktattribute/shoe_type/Pa...      8471  84710.0   \n97385   /System/Optionen/Produktattribute/shoe_type/Sn...      8636  86366.0   \n99461   /System/Optionen/Produktattribute/shoe_type/Pa...      8471  84710.0   \n99462   /System/Optionen/Produktattribute/shoe_type/Pa...      8471  84710.0   \n99463   /System/Optionen/Produktattribute/shoe_type/Pa...      8471  84710.0   \n...                                                   ...       ...      ...   \n164989  /System/Optionen/Produktattribute/shoe_type/Pl...      2293  22933.0   \n164990  /System/Optionen/Produktattribute/shoe_type/Pl...      2293  22933.0   \n164991  /System/Optionen/Produktattribute/shoe_type/Pl...      2293  22933.0   \n164992  /System/Optionen/Produktattribute/shoe_type/Pl...      2293  22933.0   \n164993  /System/Optionen/Produktattribute/shoe_type/Pl...      2293  22933.0   \n\n                                           specialOutfits  \\\n97345   ,/System/Optionen/Produktattribute/special_out...   \n97385   ,/System/Optionen/Produktattribute/special_out...   \n99461   ,/System/Optionen/Produktattribute/special_out...   \n99462   ,/System/Optionen/Produktattribute/special_out...   \n99463   ,/System/Optionen/Produktattribute/special_out...   \n...                                                   ...   \n164989  ,/System/Optionen/Produktattribute/special_out...   \n164990  ,/System/Optionen/Produktattribute/special_out...   \n164991  ,/System/Optionen/Produktattribute/special_out...   \n164992  ,/System/Optionen/Produktattribute/special_out...   \n164993  ,/System/Optionen/Produktattribute/special_out...   \n\n                                                shoeStyle  \\\n97345   /System/Optionen/Produktattribute/shoe_style/S...   \n97385   /System/Optionen/Produktattribute/shoe_style/S...   \n99461   /System/Optionen/Produktattribute/shoe_style/S...   \n99462   /System/Optionen/Produktattribute/shoe_style/S...   \n99463   /System/Optionen/Produktattribute/shoe_style/S...   \n...                                                   ...   \n164989  /System/Optionen/Produktattribute/shoe_style/S...   \n164990  /System/Optionen/Produktattribute/shoe_style/S...   \n164991  /System/Optionen/Produktattribute/shoe_style/S...   \n164992  /System/Optionen/Produktattribute/shoe_style/S...   \n164993  /System/Optionen/Produktattribute/shoe_style/S...   \n\n                                              productType  \\\n97345   /System/Optionen/Produktattribute/product_type...   \n97385   /System/Optionen/Produktattribute/product_type...   \n99461   /System/Optionen/Produktattribute/product_type...   \n99462   /System/Optionen/Produktattribute/product_type...   \n99463   /System/Optionen/Produktattribute/product_type...   \n...                                                   ...   \n164989  /System/Optionen/Produktattribute/product_type...   \n164990  /System/Optionen/Produktattribute/product_type...   \n164991  /System/Optionen/Produktattribute/product_type...   \n164992  /System/Optionen/Produktattribute/product_type...   \n164993  /System/Optionen/Produktattribute/product_type...   \n\n                                          productStickers heelHeightGroup  \\\n97345   ,/System/Optionen/Produktattribute/product_sti...     5 cm - 8 cm   \n97385   ,/System/Optionen/Produktattribute/product_sti...     3 cm - 5 cm   \n99461   ,/System/Optionen/Produktattribute/product_sti...     5 cm - 8 cm   \n99462   ,/System/Optionen/Produktattribute/product_sti...     5 cm - 8 cm   \n99463   ,/System/Optionen/Produktattribute/product_sti...     5 cm - 8 cm   \n...                                                   ...             ...   \n164989  ,/System/Optionen/Produktattribute/product_sti...     5 cm - 8 cm   \n164990  ,/System/Optionen/Produktattribute/product_sti...     5 cm - 8 cm   \n164991  ,/System/Optionen/Produktattribute/product_sti...     5 cm - 8 cm   \n164992  ,/System/Optionen/Produktattribute/product_sti...     5 cm - 8 cm   \n164993  ,/System/Optionen/Produktattribute/product_sti...     5 cm - 8 cm   \n\n        sizeEu  sizeUk  sizeIndex  shaftLength__value  shaftLength__unit  \\\n97345      NaN     NaN        NaN                 0.0                1.0   \n97385      NaN     NaN        NaN                 0.0                1.0   \n99461     35.0     2.5        3.0                 0.0                1.0   \n99462     35.5     3.0        4.0                 0.0                1.0   \n99463     36.0     3.5        5.0                 0.0                1.0   \n...        ...     ...        ...                 ...                ...   \n164989    41.0     7.5       13.0                 0.0                1.0   \n164990    42.0     8.0       14.0                 0.0                1.0   \n164991    42.5     8.5       15.0                 0.0                1.0   \n164992    43.0     9.0       16.0                 0.0                1.0   \n164993    44.0     9.5       17.0                 0.0                1.0   \n\n                                                 sole  isTransferee  \\\n97345   /System/Optionen/Produktattribute/sole/PU-TPU           0.0   \n97385   /System/Optionen/Produktattribute/sole/EVA-TR           0.0   \n99461   /System/Optionen/Produktattribute/sole/PU-TPU           0.0   \n99462   /System/Optionen/Produktattribute/sole/PU-TPU           0.0   \n99463   /System/Optionen/Produktattribute/sole/PU-TPU           0.0   \n...                                               ...           ...   \n164989      /System/Optionen/Produktattribute/sole/TR           0.0   \n164990      /System/Optionen/Produktattribute/sole/TR           0.0   \n164991      /System/Optionen/Produktattribute/sole/TR           0.0   \n164992      /System/Optionen/Produktattribute/sole/TR           0.0   \n164993      /System/Optionen/Produktattribute/sole/TR           0.0   \n\n                                             specialMarks  isSuccessor  \n97345   ,/System/Optionen/Produktattribute/special_mar...          NaN  \n97385   ,/System/Optionen/Produktattribute/special_mar...          NaN  \n99461   ,/System/Optionen/Produktattribute/special_mar...          NaN  \n99462   ,/System/Optionen/Produktattribute/special_mar...          NaN  \n99463   ,/System/Optionen/Produktattribute/special_mar...          NaN  \n...                                                   ...          ...  \n164989  ,/System/Optionen/Produktattribute/special_mar...          NaN  \n164990  ,/System/Optionen/Produktattribute/special_mar...          NaN  \n164991  ,/System/Optionen/Produktattribute/special_mar...          NaN  \n164992  ,/System/Optionen/Produktattribute/special_mar...          NaN  \n164993  ,/System/Optionen/Produktattribute/special_mar...          NaN  \n\n[472 rows x 29 columns]",
      "text/html": "<div>\n<style scoped>\n    .dataframe tbody tr th:only-of-type {\n        vertical-align: middle;\n    }\n\n    .dataframe tbody tr th {\n        vertical-align: top;\n    }\n\n    .dataframe thead th {\n        text-align: right;\n    }\n</style>\n<table border=\"1\" class=\"dataframe\">\n  <thead>\n    <tr style=\"text-align: right;\">\n      <th></th>\n      <th>o_id</th>\n      <th>fieldname</th>\n      <th>heelForm</th>\n      <th>style</th>\n      <th>shoeTip</th>\n      <th>shaftWidth</th>\n      <th>lining</th>\n      <th>heelHeight__value</th>\n      <th>heelHeight__unit</th>\n      <th>liningPm</th>\n      <th>width</th>\n      <th>hasOwnAssortment</th>\n      <th>shoeType</th>\n      <th>formGroup</th>\n      <th>model</th>\n      <th>specialOutfits</th>\n      <th>shoeStyle</th>\n      <th>productType</th>\n      <th>productStickers</th>\n      <th>heelHeightGroup</th>\n      <th>sizeEu</th>\n      <th>sizeUk</th>\n      <th>sizeIndex</th>\n      <th>shaftLength__value</th>\n      <th>shaftLength__unit</th>\n      <th>sole</th>\n      <th>isTransferee</th>\n      <th>specialMarks</th>\n      <th>isSuccessor</th>\n    </tr>\n  </thead>\n  <tbody>\n    <tr>\n      <th>97345</th>\n      <td>7789086</td>\n      <td>attributes</td>\n      <td>/System/Optionen/Produktattribute/heel_form/Ke...</td>\n      <td>/System/Optionen/Produktattribute/style/SPC</td>\n      <td>/System/Optionen/Produktattribute/shoe_tip/karree</td>\n      <td>NaN</td>\n      <td>/System/Optionen/Produktattribute/lining/Texti...</td>\n      <td>7.0</td>\n      <td>1.0</td>\n      <td>High Tech</td>\n      <td>/System/Optionen/Produktattribute/width/F</td>\n      <td>0.0</td>\n      <td>/System/Optionen/Produktattribute/shoe_type/Pa...</td>\n      <td>8471</td>\n      <td>84710.0</td>\n      <td>,/System/Optionen/Produktattribute/special_out...</td>\n      <td>/System/Optionen/Produktattribute/shoe_style/S...</td>\n      <td>/System/Optionen/Produktattribute/product_type...</td>\n      <td>,/System/Optionen/Produktattribute/product_sti...</td>\n      <td>5 cm - 8 cm</td>\n      <td>NaN</td>\n      <td>NaN</td>\n      <td>NaN</td>\n      <td>0.0</td>\n      <td>1.0</td>\n      <td>/System/Optionen/Produktattribute/sole/PU-TPU</td>\n      <td>0.0</td>\n      <td>,/System/Optionen/Produktattribute/special_mar...</td>\n      <td>NaN</td>\n    </tr>\n    <tr>\n      <th>97385</th>\n      <td>7789126</td>\n      <td>attributes</td>\n      <td>/System/Optionen/Produktattribute/heel_form/fl...</td>\n      <td>/System/Optionen/Produktattribute/style/SPC</td>\n      <td>/System/Optionen/Produktattribute/shoe_tip/rund</td>\n      <td>NaN</td>\n      <td>/System/Optionen/Produktattribute/lining/Leder...</td>\n      <td>4.0</td>\n      <td>1.0</td>\n      <td>Leder</td>\n      <td>/System/Optionen/Produktattribute/width/G</td>\n      <td>0.0</td>\n      <td>/System/Optionen/Produktattribute/shoe_type/Sn...</td>\n      <td>8636</td>\n      <td>86366.0</td>\n      <td>,/System/Optionen/Produktattribute/special_out...</td>\n      <td>/System/Optionen/Produktattribute/shoe_style/S...</td>\n      <td>/System/Optionen/Produktattribute/product_type...</td>\n      <td>,/System/Optionen/Produktattribute/product_sti...</td>\n      <td>3 cm - 5 cm</td>\n      <td>NaN</td>\n      <td>NaN</td>\n      <td>NaN</td>\n      <td>0.0</td>\n      <td>1.0</td>\n      <td>/System/Optionen/Produktattribute/sole/EVA-TR</td>\n      <td>0.0</td>\n      <td>,/System/Optionen/Produktattribute/special_mar...</td>\n      <td>NaN</td>\n    </tr>\n    <tr>\n      <th>99461</th>\n      <td>7791776</td>\n      <td>attributes</td>\n      <td>/System/Optionen/Produktattribute/heel_form/Ke...</td>\n      <td>/System/Optionen/Produktattribute/style/SPC</td>\n      <td>/System/Optionen/Produktattribute/shoe_tip/karree</td>\n      <td>NaN</td>\n      <td>/System/Optionen/Produktattribute/lining/Texti...</td>\n      <td>7.0</td>\n      <td>1.0</td>\n      <td>High Tech</td>\n      <td>/System/Optionen/Produktattribute/width/F</td>\n      <td>0.0</td>\n      <td>/System/Optionen/Produktattribute/shoe_type/Pa...</td>\n      <td>8471</td>\n      <td>84710.0</td>\n      <td>,/System/Optionen/Produktattribute/special_out...</td>\n      <td>/System/Optionen/Produktattribute/shoe_style/S...</td>\n      <td>/System/Optionen/Produktattribute/product_type...</td>\n      <td>,/System/Optionen/Produktattribute/product_sti...</td>\n      <td>5 cm - 8 cm</td>\n      <td>35.0</td>\n      <td>2.5</td>\n      <td>3.0</td>\n      <td>0.0</td>\n      <td>1.0</td>\n      <td>/System/Optionen/Produktattribute/sole/PU-TPU</td>\n      <td>0.0</td>\n      <td>,/System/Optionen/Produktattribute/special_mar...</td>\n      <td>NaN</td>\n    </tr>\n    <tr>\n      <th>99462</th>\n      <td>7791777</td>\n      <td>attributes</td>\n      <td>/System/Optionen/Produktattribute/heel_form/Ke...</td>\n      <td>/System/Optionen/Produktattribute/style/SPC</td>\n      <td>/System/Optionen/Produktattribute/shoe_tip/karree</td>\n      <td>NaN</td>\n      <td>/System/Optionen/Produktattribute/lining/Texti...</td>\n      <td>7.0</td>\n      <td>1.0</td>\n      <td>High Tech</td>\n      <td>/System/Optionen/Produktattribute/width/F</td>\n      <td>0.0</td>\n      <td>/System/Optionen/Produktattribute/shoe_type/Pa...</td>\n      <td>8471</td>\n      <td>84710.0</td>\n      <td>,/System/Optionen/Produktattribute/special_out...</td>\n      <td>/System/Optionen/Produktattribute/shoe_style/S...</td>\n      <td>/System/Optionen/Produktattribute/product_type...</td>\n      <td>,/System/Optionen/Produktattribute/product_sti...</td>\n      <td>5 cm - 8 cm</td>\n      <td>35.5</td>\n      <td>3.0</td>\n      <td>4.0</td>\n      <td>0.0</td>\n      <td>1.0</td>\n      <td>/System/Optionen/Produktattribute/sole/PU-TPU</td>\n      <td>0.0</td>\n      <td>,/System/Optionen/Produktattribute/special_mar...</td>\n      <td>NaN</td>\n    </tr>\n    <tr>\n      <th>99463</th>\n      <td>7791778</td>\n      <td>attributes</td>\n      <td>/System/Optionen/Produktattribute/heel_form/Ke...</td>\n      <td>/System/Optionen/Produktattribute/style/SPC</td>\n      <td>/System/Optionen/Produktattribute/shoe_tip/karree</td>\n      <td>NaN</td>\n      <td>/System/Optionen/Produktattribute/lining/Texti...</td>\n      <td>7.0</td>\n      <td>1.0</td>\n      <td>High Tech</td>\n      <td>/System/Optionen/Produktattribute/width/F</td>\n      <td>0.0</td>\n      <td>/System/Optionen/Produktattribute/shoe_type/Pa...</td>\n      <td>8471</td>\n      <td>84710.0</td>\n      <td>,/System/Optionen/Produktattribute/special_out...</td>\n      <td>/System/Optionen/Produktattribute/shoe_style/S...</td>\n      <td>/System/Optionen/Produktattribute/product_type...</td>\n      <td>,/System/Optionen/Produktattribute/product_sti...</td>\n      <td>5 cm - 8 cm</td>\n      <td>36.0</td>\n      <td>3.5</td>\n      <td>5.0</td>\n      <td>0.0</td>\n      <td>1.0</td>\n      <td>/System/Optionen/Produktattribute/sole/PU-TPU</td>\n      <td>0.0</td>\n      <td>,/System/Optionen/Produktattribute/special_mar...</td>\n      <td>NaN</td>\n    </tr>\n    <tr>\n      <th>...</th>\n      <td>...</td>\n      <td>...</td>\n      <td>...</td>\n      <td>...</td>\n      <td>...</td>\n      <td>...</td>\n      <td>...</td>\n      <td>...</td>\n      <td>...</td>\n      <td>...</td>\n      <td>...</td>\n      <td>...</td>\n      <td>...</td>\n      <td>...</td>\n      <td>...</td>\n      <td>...</td>\n      <td>...</td>\n      <td>...</td>\n      <td>...</td>\n      <td>...</td>\n      <td>...</td>\n      <td>...</td>\n      <td>...</td>\n      <td>...</td>\n      <td>...</td>\n      <td>...</td>\n      <td>...</td>\n      <td>...</td>\n      <td>...</td>\n    </tr>\n    <tr>\n      <th>164989</th>\n      <td>10504341</td>\n      <td>attributes</td>\n      <td>/System/Optionen/Produktattribute/heel_form/Bl...</td>\n      <td>/System/Optionen/Produktattribute/style/ELK</td>\n      <td>/System/Optionen/Produktattribute/shoe_tip/karree</td>\n      <td>NaN</td>\n      <td>/System/Optionen/Produktattribute/lining/Leder...</td>\n      <td>6.0</td>\n      <td>1.0</td>\n      <td>Leder</td>\n      <td>/System/Optionen/Produktattribute/width/G</td>\n      <td>0.0</td>\n      <td>/System/Optionen/Produktattribute/shoe_type/Pl...</td>\n      <td>2293</td>\n      <td>22933.0</td>\n      <td>,/System/Optionen/Produktattribute/special_out...</td>\n      <td>/System/Optionen/Produktattribute/shoe_style/S...</td>\n      <td>/System/Optionen/Produktattribute/product_type...</td>\n      <td>,/System/Optionen/Produktattribute/product_sti...</td>\n      <td>5 cm - 8 cm</td>\n      <td>41.0</td>\n      <td>7.5</td>\n      <td>13.0</td>\n      <td>0.0</td>\n      <td>1.0</td>\n      <td>/System/Optionen/Produktattribute/sole/TR</td>\n      <td>0.0</td>\n      <td>,/System/Optionen/Produktattribute/special_mar...</td>\n      <td>NaN</td>\n    </tr>\n    <tr>\n      <th>164990</th>\n      <td>10504342</td>\n      <td>attributes</td>\n      <td>/System/Optionen/Produktattribute/heel_form/Bl...</td>\n      <td>/System/Optionen/Produktattribute/style/ELK</td>\n      <td>/System/Optionen/Produktattribute/shoe_tip/karree</td>\n      <td>NaN</td>\n      <td>/System/Optionen/Produktattribute/lining/Leder...</td>\n      <td>6.0</td>\n      <td>1.0</td>\n      <td>Leder</td>\n      <td>/System/Optionen/Produktattribute/width/G</td>\n      <td>0.0</td>\n      <td>/System/Optionen/Produktattribute/shoe_type/Pl...</td>\n      <td>2293</td>\n      <td>22933.0</td>\n      <td>,/System/Optionen/Produktattribute/special_out...</td>\n      <td>/System/Optionen/Produktattribute/shoe_style/S...</td>\n      <td>/System/Optionen/Produktattribute/product_type...</td>\n      <td>,/System/Optionen/Produktattribute/product_sti...</td>\n      <td>5 cm - 8 cm</td>\n      <td>42.0</td>\n      <td>8.0</td>\n      <td>14.0</td>\n      <td>0.0</td>\n      <td>1.0</td>\n      <td>/System/Optionen/Produktattribute/sole/TR</td>\n      <td>0.0</td>\n      <td>,/System/Optionen/Produktattribute/special_mar...</td>\n      <td>NaN</td>\n    </tr>\n    <tr>\n      <th>164991</th>\n      <td>10504343</td>\n      <td>attributes</td>\n      <td>/System/Optionen/Produktattribute/heel_form/Bl...</td>\n      <td>/System/Optionen/Produktattribute/style/ELK</td>\n      <td>/System/Optionen/Produktattribute/shoe_tip/karree</td>\n      <td>NaN</td>\n      <td>/System/Optionen/Produktattribute/lining/Leder...</td>\n      <td>6.0</td>\n      <td>1.0</td>\n      <td>Leder</td>\n      <td>/System/Optionen/Produktattribute/width/G</td>\n      <td>0.0</td>\n      <td>/System/Optionen/Produktattribute/shoe_type/Pl...</td>\n      <td>2293</td>\n      <td>22933.0</td>\n      <td>,/System/Optionen/Produktattribute/special_out...</td>\n      <td>/System/Optionen/Produktattribute/shoe_style/S...</td>\n      <td>/System/Optionen/Produktattribute/product_type...</td>\n      <td>,/System/Optionen/Produktattribute/product_sti...</td>\n      <td>5 cm - 8 cm</td>\n      <td>42.5</td>\n      <td>8.5</td>\n      <td>15.0</td>\n      <td>0.0</td>\n      <td>1.0</td>\n      <td>/System/Optionen/Produktattribute/sole/TR</td>\n      <td>0.0</td>\n      <td>,/System/Optionen/Produktattribute/special_mar...</td>\n      <td>NaN</td>\n    </tr>\n    <tr>\n      <th>164992</th>\n      <td>10504344</td>\n      <td>attributes</td>\n      <td>/System/Optionen/Produktattribute/heel_form/Bl...</td>\n      <td>/System/Optionen/Produktattribute/style/ELK</td>\n      <td>/System/Optionen/Produktattribute/shoe_tip/karree</td>\n      <td>NaN</td>\n      <td>/System/Optionen/Produktattribute/lining/Leder...</td>\n      <td>6.0</td>\n      <td>1.0</td>\n      <td>Leder</td>\n      <td>/System/Optionen/Produktattribute/width/G</td>\n      <td>0.0</td>\n      <td>/System/Optionen/Produktattribute/shoe_type/Pl...</td>\n      <td>2293</td>\n      <td>22933.0</td>\n      <td>,/System/Optionen/Produktattribute/special_out...</td>\n      <td>/System/Optionen/Produktattribute/shoe_style/S...</td>\n      <td>/System/Optionen/Produktattribute/product_type...</td>\n      <td>,/System/Optionen/Produktattribute/product_sti...</td>\n      <td>5 cm - 8 cm</td>\n      <td>43.0</td>\n      <td>9.0</td>\n      <td>16.0</td>\n      <td>0.0</td>\n      <td>1.0</td>\n      <td>/System/Optionen/Produktattribute/sole/TR</td>\n      <td>0.0</td>\n      <td>,/System/Optionen/Produktattribute/special_mar...</td>\n      <td>NaN</td>\n    </tr>\n    <tr>\n      <th>164993</th>\n      <td>10504345</td>\n      <td>attributes</td>\n      <td>/System/Optionen/Produktattribute/heel_form/Bl...</td>\n      <td>/System/Optionen/Produktattribute/style/ELK</td>\n      <td>/System/Optionen/Produktattribute/shoe_tip/karree</td>\n      <td>NaN</td>\n      <td>/System/Optionen/Produktattribute/lining/Leder...</td>\n      <td>6.0</td>\n      <td>1.0</td>\n      <td>Leder</td>\n      <td>/System/Optionen/Produktattribute/width/G</td>\n      <td>0.0</td>\n      <td>/System/Optionen/Produktattribute/shoe_type/Pl...</td>\n      <td>2293</td>\n      <td>22933.0</td>\n      <td>,/System/Optionen/Produktattribute/special_out...</td>\n      <td>/System/Optionen/Produktattribute/shoe_style/S...</td>\n      <td>/System/Optionen/Produktattribute/product_type...</td>\n      <td>,/System/Optionen/Produktattribute/product_sti...</td>\n      <td>5 cm - 8 cm</td>\n      <td>44.0</td>\n      <td>9.5</td>\n      <td>17.0</td>\n      <td>0.0</td>\n      <td>1.0</td>\n      <td>/System/Optionen/Produktattribute/sole/TR</td>\n      <td>0.0</td>\n      <td>,/System/Optionen/Produktattribute/special_mar...</td>\n      <td>NaN</td>\n    </tr>\n  </tbody>\n</table>\n<p>472 rows × 29 columns</p>\n</div>"
     },
     "execution_count": 27,
     "metadata": {},
     "output_type": "execute_result"
    }
   ],
   "source": [
    "df_shoe_data[df_shoe_data['productStickers'].notnull()]"
   ],
   "metadata": {
    "collapsed": false
   }
  },
  {
   "cell_type": "markdown",
   "source": [
    "heel form/style/shoe tip/lining/liningPm/width/special_outfit/shoeStyle, specialMarks: remove path\n",
    "\n",
    "shaft width, shaftLength__unit, productStickers: droppen, mostly null or just one value\n",
    "\n",
    "if no shoe size, it is a parent and the size variants are a separate row, drop them\n",
    "\n",
    "heelHeight__value/heelHeight__unit: null werte anschauen\n",
    "\n"
   ],
   "metadata": {
    "collapsed": false
   }
  },
  {
   "cell_type": "code",
   "execution_count": 28,
   "outputs": [],
   "source": [
    "df_shoe_data = df_shoe_data.drop(columns=['shaftWidth', 'shaftLength__unit', 'productStickers', 'specialMarks'])\n",
    "df_shoe_data = df_shoe_data.dropna(subset=['sizeEu'])\n",
    "\n",
    "df_shoe_data['shaftLength__value'] = df_shoe_data['shaftLength__value'].fillna(0.0)\n",
    "df_shoe_data['lining'] = df_shoe_data['lining'].fillna('')\n",
    "df_shoe_data['width'] = df_shoe_data['width'].fillna('')\n",
    "df_shoe_data['specialOutfits'] = df_shoe_data['specialOutfits'].fillna('')\n",
    "df_shoe_data['shoeStyle'] = df_shoe_data['shoeStyle'].fillna('')\n",
    "df_shoe_data['liningPm'] = df_shoe_data['liningPm'].fillna('')\n",
    "df_shoe_data['isSuccessor'] = df_shoe_data['isSuccessor'].fillna(0)\n",
    "\n",
    "\n",
    "\n",
    "df_shoe_data['heelForm'] = df_shoe_data['heelForm'].apply(lambda x: x.replace('/System/Optionen/Produktattribute/heel_form/', ''))\n",
    "df_shoe_data['style'] = df_shoe_data['style'].apply(lambda x: x.replace('/System/Optionen/Produktattribute/style/', ''))\n",
    "df_shoe_data['shoeTip'] = df_shoe_data['shoeTip'].apply(lambda x: x.replace('/System/Optionen/Produktattribute/shoe_tip/', ''))\n",
    "df_shoe_data['lining'] = df_shoe_data['lining'].apply(lambda x: x.replace('/System/Optionen/Produktattribute/lining/', ''))\n",
    "df_shoe_data['width'] = df_shoe_data['width'].apply(lambda x: x.replace('/System/Optionen/Produktattribute/width/', ''))\n",
    "df_shoe_data['specialOutfits'] = df_shoe_data['specialOutfits'].apply(lambda x: x.replace('/System/Optionen/Produktattribute/special_outfit/', ''))\n",
    "df_shoe_data['shoeStyle'] = df_shoe_data['shoeStyle'].apply(lambda x: x.replace('/System/Optionen/Produktattribute/shoe_style/', ''))\n",
    "df_shoe_data['sole'] = df_shoe_data['sole'].apply(lambda x: x.replace('/System/Optionen/Produktattribute/sole/', ''))\n",
    "df_shoe_data['productType'] = df_shoe_data['productType'].apply(lambda x: x.replace('/System/Optionen/Produktattribute/product_type/', ''))\n",
    "df_shoe_data['shoeType'] = df_shoe_data['shoeType'].apply(lambda x: x.replace('/System/Optionen/Produktattribute/shoe_type/', ''))\n"
   ],
   "metadata": {
    "collapsed": false
   }
  },
  {
   "cell_type": "code",
   "execution_count": 29,
   "outputs": [
    {
     "name": "stdout",
     "output_type": "stream",
     "text": [
      "(162316, 25)\n"
     ]
    },
    {
     "data": {
      "text/plain": "       o_id   fieldname        heelForm style shoeTip       lining  \\\n503  360824  attributes  flacher Absatz   ELK    rund  Lederfutter   \n504  360825  attributes  flacher Absatz   ELK    rund  Lederfutter   \n505  360826  attributes  flacher Absatz   ELK    rund  Lederfutter   \n506  360827  attributes  flacher Absatz   ELK    rund  Lederfutter   \n507  360828  attributes  flacher Absatz   ELK    rund  Lederfutter   \n\n     heelHeight__value  heelHeight__unit liningPm width  hasOwnAssortment  \\\n503                2.0               1.0    Leder     F               0.0   \n504                2.0               1.0    Leder     F               0.0   \n505                2.0               1.0    Leder     F               0.0   \n506                2.0               1.0    Leder     F               0.0   \n507                2.0               1.0    Leder     F               0.0   \n\n         shoeType formGroup   model specialOutfits shoeStyle  productType  \\\n503  Zehentrenner      0370  3700.0         ,BEFI,  Sandalen  Damenschuhe   \n504  Zehentrenner      0370  3700.0         ,BEFI,  Sandalen  Damenschuhe   \n505  Zehentrenner      0370  3700.0         ,BEFI,  Sandalen  Damenschuhe   \n506  Zehentrenner      0370  3700.0         ,BEFI,  Sandalen  Damenschuhe   \n507  Zehentrenner      0370  3700.0         ,BEFI,  Sandalen  Damenschuhe   \n\n    heelHeightGroup  sizeEu  sizeUk  sizeIndex  shaftLength__value   sole  \\\n503        bis 3 cm    36.0     3.5        4.0                 0.0  Gummi   \n504        bis 3 cm    37.0     4.0        5.0                 0.0  Gummi   \n505        bis 3 cm    38.0     5.0        6.0                 0.0  Gummi   \n506        bis 3 cm    39.0     6.0        7.0                 0.0  Gummi   \n507        bis 3 cm    40.0     6.5        8.0                 0.0  Gummi   \n\n     isTransferee  isSuccessor  \n503           0.0          0.0  \n504           0.0          0.0  \n505           0.0          0.0  \n506           0.0          0.0  \n507           0.0          0.0  ",
      "text/html": "<div>\n<style scoped>\n    .dataframe tbody tr th:only-of-type {\n        vertical-align: middle;\n    }\n\n    .dataframe tbody tr th {\n        vertical-align: top;\n    }\n\n    .dataframe thead th {\n        text-align: right;\n    }\n</style>\n<table border=\"1\" class=\"dataframe\">\n  <thead>\n    <tr style=\"text-align: right;\">\n      <th></th>\n      <th>o_id</th>\n      <th>fieldname</th>\n      <th>heelForm</th>\n      <th>style</th>\n      <th>shoeTip</th>\n      <th>lining</th>\n      <th>heelHeight__value</th>\n      <th>heelHeight__unit</th>\n      <th>liningPm</th>\n      <th>width</th>\n      <th>hasOwnAssortment</th>\n      <th>shoeType</th>\n      <th>formGroup</th>\n      <th>model</th>\n      <th>specialOutfits</th>\n      <th>shoeStyle</th>\n      <th>productType</th>\n      <th>heelHeightGroup</th>\n      <th>sizeEu</th>\n      <th>sizeUk</th>\n      <th>sizeIndex</th>\n      <th>shaftLength__value</th>\n      <th>sole</th>\n      <th>isTransferee</th>\n      <th>isSuccessor</th>\n    </tr>\n  </thead>\n  <tbody>\n    <tr>\n      <th>503</th>\n      <td>360824</td>\n      <td>attributes</td>\n      <td>flacher Absatz</td>\n      <td>ELK</td>\n      <td>rund</td>\n      <td>Lederfutter</td>\n      <td>2.0</td>\n      <td>1.0</td>\n      <td>Leder</td>\n      <td>F</td>\n      <td>0.0</td>\n      <td>Zehentrenner</td>\n      <td>0370</td>\n      <td>3700.0</td>\n      <td>,BEFI,</td>\n      <td>Sandalen</td>\n      <td>Damenschuhe</td>\n      <td>bis 3 cm</td>\n      <td>36.0</td>\n      <td>3.5</td>\n      <td>4.0</td>\n      <td>0.0</td>\n      <td>Gummi</td>\n      <td>0.0</td>\n      <td>0.0</td>\n    </tr>\n    <tr>\n      <th>504</th>\n      <td>360825</td>\n      <td>attributes</td>\n      <td>flacher Absatz</td>\n      <td>ELK</td>\n      <td>rund</td>\n      <td>Lederfutter</td>\n      <td>2.0</td>\n      <td>1.0</td>\n      <td>Leder</td>\n      <td>F</td>\n      <td>0.0</td>\n      <td>Zehentrenner</td>\n      <td>0370</td>\n      <td>3700.0</td>\n      <td>,BEFI,</td>\n      <td>Sandalen</td>\n      <td>Damenschuhe</td>\n      <td>bis 3 cm</td>\n      <td>37.0</td>\n      <td>4.0</td>\n      <td>5.0</td>\n      <td>0.0</td>\n      <td>Gummi</td>\n      <td>0.0</td>\n      <td>0.0</td>\n    </tr>\n    <tr>\n      <th>505</th>\n      <td>360826</td>\n      <td>attributes</td>\n      <td>flacher Absatz</td>\n      <td>ELK</td>\n      <td>rund</td>\n      <td>Lederfutter</td>\n      <td>2.0</td>\n      <td>1.0</td>\n      <td>Leder</td>\n      <td>F</td>\n      <td>0.0</td>\n      <td>Zehentrenner</td>\n      <td>0370</td>\n      <td>3700.0</td>\n      <td>,BEFI,</td>\n      <td>Sandalen</td>\n      <td>Damenschuhe</td>\n      <td>bis 3 cm</td>\n      <td>38.0</td>\n      <td>5.0</td>\n      <td>6.0</td>\n      <td>0.0</td>\n      <td>Gummi</td>\n      <td>0.0</td>\n      <td>0.0</td>\n    </tr>\n    <tr>\n      <th>506</th>\n      <td>360827</td>\n      <td>attributes</td>\n      <td>flacher Absatz</td>\n      <td>ELK</td>\n      <td>rund</td>\n      <td>Lederfutter</td>\n      <td>2.0</td>\n      <td>1.0</td>\n      <td>Leder</td>\n      <td>F</td>\n      <td>0.0</td>\n      <td>Zehentrenner</td>\n      <td>0370</td>\n      <td>3700.0</td>\n      <td>,BEFI,</td>\n      <td>Sandalen</td>\n      <td>Damenschuhe</td>\n      <td>bis 3 cm</td>\n      <td>39.0</td>\n      <td>6.0</td>\n      <td>7.0</td>\n      <td>0.0</td>\n      <td>Gummi</td>\n      <td>0.0</td>\n      <td>0.0</td>\n    </tr>\n    <tr>\n      <th>507</th>\n      <td>360828</td>\n      <td>attributes</td>\n      <td>flacher Absatz</td>\n      <td>ELK</td>\n      <td>rund</td>\n      <td>Lederfutter</td>\n      <td>2.0</td>\n      <td>1.0</td>\n      <td>Leder</td>\n      <td>F</td>\n      <td>0.0</td>\n      <td>Zehentrenner</td>\n      <td>0370</td>\n      <td>3700.0</td>\n      <td>,BEFI,</td>\n      <td>Sandalen</td>\n      <td>Damenschuhe</td>\n      <td>bis 3 cm</td>\n      <td>40.0</td>\n      <td>6.5</td>\n      <td>8.0</td>\n      <td>0.0</td>\n      <td>Gummi</td>\n      <td>0.0</td>\n      <td>0.0</td>\n    </tr>\n  </tbody>\n</table>\n</div>"
     },
     "metadata": {},
     "output_type": "display_data"
    },
    {
     "data": {
      "text/plain": "               o_id  heelHeight__value  heelHeight__unit  hasOwnAssortment  \\\ncount  1.623160e+05      162316.000000          162316.0     162316.000000   \nmean   7.130640e+06           4.195830               1.0          0.117924   \nstd    2.330314e+06           1.348803               0.0          0.322519   \nmin    3.608240e+05           0.800000               1.0          0.000000   \n25%    4.978875e+06           3.500000               1.0          0.000000   \n50%    7.594190e+06           4.000000               1.0          0.000000   \n75%    8.807551e+06           5.000000               1.0          0.000000   \nmax    1.111392e+07           8.500000               1.0          1.000000   \n\n               model         sizeEu         sizeUk      sizeIndex  \\\ncount  162316.000000  162316.000000  162316.000000  162316.000000   \nmean    73233.691990      39.617287       6.246494       9.947294   \nstd     80986.572311       2.988861       2.341143       4.319587   \nmin      1260.000000      35.000000       2.500000       3.000000   \n25%     52792.000000      37.500000       4.500000       6.000000   \n50%     66827.000000      39.000000       6.000000      10.000000   \n75%     86465.000000      42.000000       8.000000      14.000000   \nmax    800550.000000      49.500000      14.000000      20.000000   \n\n       shaftLength__value   isTransferee    isSuccessor  \ncount       162316.000000  162316.000000  162316.000000  \nmean             6.037359       0.144564       0.197331  \nstd              9.661865       0.351661       0.397986  \nmin              0.000000       0.000000       0.000000  \n25%              0.000000       0.000000       0.000000  \n50%              0.000000       0.000000       0.000000  \n75%             13.000000       0.000000       0.000000  \nmax             54.000000       1.000000       1.000000  ",
      "text/html": "<div>\n<style scoped>\n    .dataframe tbody tr th:only-of-type {\n        vertical-align: middle;\n    }\n\n    .dataframe tbody tr th {\n        vertical-align: top;\n    }\n\n    .dataframe thead th {\n        text-align: right;\n    }\n</style>\n<table border=\"1\" class=\"dataframe\">\n  <thead>\n    <tr style=\"text-align: right;\">\n      <th></th>\n      <th>o_id</th>\n      <th>heelHeight__value</th>\n      <th>heelHeight__unit</th>\n      <th>hasOwnAssortment</th>\n      <th>model</th>\n      <th>sizeEu</th>\n      <th>sizeUk</th>\n      <th>sizeIndex</th>\n      <th>shaftLength__value</th>\n      <th>isTransferee</th>\n      <th>isSuccessor</th>\n    </tr>\n  </thead>\n  <tbody>\n    <tr>\n      <th>count</th>\n      <td>1.623160e+05</td>\n      <td>162316.000000</td>\n      <td>162316.0</td>\n      <td>162316.000000</td>\n      <td>162316.000000</td>\n      <td>162316.000000</td>\n      <td>162316.000000</td>\n      <td>162316.000000</td>\n      <td>162316.000000</td>\n      <td>162316.000000</td>\n      <td>162316.000000</td>\n    </tr>\n    <tr>\n      <th>mean</th>\n      <td>7.130640e+06</td>\n      <td>4.195830</td>\n      <td>1.0</td>\n      <td>0.117924</td>\n      <td>73233.691990</td>\n      <td>39.617287</td>\n      <td>6.246494</td>\n      <td>9.947294</td>\n      <td>6.037359</td>\n      <td>0.144564</td>\n      <td>0.197331</td>\n    </tr>\n    <tr>\n      <th>std</th>\n      <td>2.330314e+06</td>\n      <td>1.348803</td>\n      <td>0.0</td>\n      <td>0.322519</td>\n      <td>80986.572311</td>\n      <td>2.988861</td>\n      <td>2.341143</td>\n      <td>4.319587</td>\n      <td>9.661865</td>\n      <td>0.351661</td>\n      <td>0.397986</td>\n    </tr>\n    <tr>\n      <th>min</th>\n      <td>3.608240e+05</td>\n      <td>0.800000</td>\n      <td>1.0</td>\n      <td>0.000000</td>\n      <td>1260.000000</td>\n      <td>35.000000</td>\n      <td>2.500000</td>\n      <td>3.000000</td>\n      <td>0.000000</td>\n      <td>0.000000</td>\n      <td>0.000000</td>\n    </tr>\n    <tr>\n      <th>25%</th>\n      <td>4.978875e+06</td>\n      <td>3.500000</td>\n      <td>1.0</td>\n      <td>0.000000</td>\n      <td>52792.000000</td>\n      <td>37.500000</td>\n      <td>4.500000</td>\n      <td>6.000000</td>\n      <td>0.000000</td>\n      <td>0.000000</td>\n      <td>0.000000</td>\n    </tr>\n    <tr>\n      <th>50%</th>\n      <td>7.594190e+06</td>\n      <td>4.000000</td>\n      <td>1.0</td>\n      <td>0.000000</td>\n      <td>66827.000000</td>\n      <td>39.000000</td>\n      <td>6.000000</td>\n      <td>10.000000</td>\n      <td>0.000000</td>\n      <td>0.000000</td>\n      <td>0.000000</td>\n    </tr>\n    <tr>\n      <th>75%</th>\n      <td>8.807551e+06</td>\n      <td>5.000000</td>\n      <td>1.0</td>\n      <td>0.000000</td>\n      <td>86465.000000</td>\n      <td>42.000000</td>\n      <td>8.000000</td>\n      <td>14.000000</td>\n      <td>13.000000</td>\n      <td>0.000000</td>\n      <td>0.000000</td>\n    </tr>\n    <tr>\n      <th>max</th>\n      <td>1.111392e+07</td>\n      <td>8.500000</td>\n      <td>1.0</td>\n      <td>1.000000</td>\n      <td>800550.000000</td>\n      <td>49.500000</td>\n      <td>14.000000</td>\n      <td>20.000000</td>\n      <td>54.000000</td>\n      <td>1.000000</td>\n      <td>1.000000</td>\n    </tr>\n  </tbody>\n</table>\n</div>"
     },
     "metadata": {},
     "output_type": "display_data"
    },
    {
     "data": {
      "text/plain": "o_id                  0\nfieldname             0\nheelForm              0\nstyle                 0\nshoeTip               0\nlining                0\nheelHeight__value     0\nheelHeight__unit      0\nliningPm              0\nwidth                 0\nhasOwnAssortment      0\nshoeType              0\nformGroup             0\nmodel                 0\nspecialOutfits        0\nshoeStyle             0\nproductType           0\nheelHeightGroup       0\nsizeEu                0\nsizeUk                0\nsizeIndex             0\nshaftLength__value    0\nsole                  0\nisTransferee          0\nisSuccessor           0\ndtype: int64"
     },
     "metadata": {},
     "output_type": "display_data"
    }
   ],
   "source": [
    "base_information_dataset(df_shoe_data)"
   ],
   "metadata": {
    "collapsed": false
   }
  },
  {
   "cell_type": "code",
   "execution_count": 29,
   "outputs": [],
   "source": [],
   "metadata": {
    "collapsed": false
   }
  }
 ],
 "metadata": {
  "kernelspec": {
   "display_name": "Python 3",
   "language": "python",
   "name": "python3"
  },
  "language_info": {
   "codemirror_mode": {
    "name": "ipython",
    "version": 2
   },
   "file_extension": ".py",
   "mimetype": "text/x-python",
   "name": "python",
   "nbconvert_exporter": "python",
   "pygments_lexer": "ipython2",
   "version": "2.7.6"
  }
 },
 "nbformat": 4,
 "nbformat_minor": 0
}
