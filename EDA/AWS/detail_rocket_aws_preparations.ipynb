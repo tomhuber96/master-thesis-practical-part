{
 "cells": [
  {
   "cell_type": "code",
   "execution_count": 1,
   "metadata": {
    "collapsed": true,
    "ExecuteTime": {
     "end_time": "2023-12-13T11:24:44.992934Z",
     "start_time": "2023-12-13T11:24:44.767424Z"
    }
   },
   "outputs": [],
   "source": [
    "import pandas as pd\n",
    "from fastavro import writer, parse_schema, reader\n",
    "pd.set_option('display.max_columns', None)"
   ]
  },
  {
   "cell_type": "code",
   "execution_count": 2,
   "outputs": [
    {
     "data": {
      "text/plain": "         visitorid  products_viewed  num_views  num_add2cart  num_transaction\n0           693516                1          1             2                0\n1           829044                1          1             0                0\n2           652699                1          1             0                0\n3          1125936                1          1             0                0\n4          1149227                1          1             0                0\n...            ...              ...        ...           ...              ...\n1407575     998517                1          1             0                0\n1407576     472345                1          1             0                0\n1407577    1207677                1          1             0                0\n1407578     255126                1          1             0                0\n1407579     622226                1          1             0                0\n\n[1407580 rows x 5 columns]",
      "text/html": "<div>\n<style scoped>\n    .dataframe tbody tr th:only-of-type {\n        vertical-align: middle;\n    }\n\n    .dataframe tbody tr th {\n        vertical-align: top;\n    }\n\n    .dataframe thead th {\n        text-align: right;\n    }\n</style>\n<table border=\"1\" class=\"dataframe\">\n  <thead>\n    <tr style=\"text-align: right;\">\n      <th></th>\n      <th>visitorid</th>\n      <th>products_viewed</th>\n      <th>num_views</th>\n      <th>num_add2cart</th>\n      <th>num_transaction</th>\n    </tr>\n  </thead>\n  <tbody>\n    <tr>\n      <th>0</th>\n      <td>693516</td>\n      <td>1</td>\n      <td>1</td>\n      <td>2</td>\n      <td>0</td>\n    </tr>\n    <tr>\n      <th>1</th>\n      <td>829044</td>\n      <td>1</td>\n      <td>1</td>\n      <td>0</td>\n      <td>0</td>\n    </tr>\n    <tr>\n      <th>2</th>\n      <td>652699</td>\n      <td>1</td>\n      <td>1</td>\n      <td>0</td>\n      <td>0</td>\n    </tr>\n    <tr>\n      <th>3</th>\n      <td>1125936</td>\n      <td>1</td>\n      <td>1</td>\n      <td>0</td>\n      <td>0</td>\n    </tr>\n    <tr>\n      <th>4</th>\n      <td>1149227</td>\n      <td>1</td>\n      <td>1</td>\n      <td>0</td>\n      <td>0</td>\n    </tr>\n    <tr>\n      <th>...</th>\n      <td>...</td>\n      <td>...</td>\n      <td>...</td>\n      <td>...</td>\n      <td>...</td>\n    </tr>\n    <tr>\n      <th>1407575</th>\n      <td>998517</td>\n      <td>1</td>\n      <td>1</td>\n      <td>0</td>\n      <td>0</td>\n    </tr>\n    <tr>\n      <th>1407576</th>\n      <td>472345</td>\n      <td>1</td>\n      <td>1</td>\n      <td>0</td>\n      <td>0</td>\n    </tr>\n    <tr>\n      <th>1407577</th>\n      <td>1207677</td>\n      <td>1</td>\n      <td>1</td>\n      <td>0</td>\n      <td>0</td>\n    </tr>\n    <tr>\n      <th>1407578</th>\n      <td>255126</td>\n      <td>1</td>\n      <td>1</td>\n      <td>0</td>\n      <td>0</td>\n    </tr>\n    <tr>\n      <th>1407579</th>\n      <td>622226</td>\n      <td>1</td>\n      <td>1</td>\n      <td>0</td>\n      <td>0</td>\n    </tr>\n  </tbody>\n</table>\n<p>1407580 rows × 5 columns</p>\n</div>"
     },
     "execution_count": 2,
     "metadata": {},
     "output_type": "execute_result"
    }
   ],
   "source": [
    "basepath = '../../datasets/preprocessed_datasets/retailrocket/'\n",
    "customer_data = pd.read_pickle(basepath +'visitor_actions.pkl')\n",
    "customer_data"
   ],
   "metadata": {
    "collapsed": false,
    "ExecuteTime": {
     "end_time": "2023-12-13T11:24:45.014751Z",
     "start_time": "2023-12-13T11:24:44.992937Z"
    }
   }
  },
  {
   "cell_type": "code",
   "execution_count": 3,
   "outputs": [],
   "source": [
    "schema = {\n",
    "    \"type\": \"record\",\n",
    "    \"name\": \"Users\",\n",
    "    \"namespace\": \"com.amazonaws.personalize.schema\",\n",
    "    \"fields\": [\n",
    "        {\n",
    "            \"name\": \"USER_ID\",\n",
    "            \"type\": \"string\"\n",
    "        },\n",
    "        {\n",
    "            \"name\": \"IS_VISITOR\",\n",
    "            \"type\": \"boolean\"\n",
    "        }\n",
    "    ],\n",
    "    \"version\": \"1.0\"\n",
    "}\n",
    "parsed_schema = parse_schema(schema)"
   ],
   "metadata": {
    "collapsed": false,
    "ExecuteTime": {
     "end_time": "2023-12-13T11:23:38.024135Z",
     "start_time": "2023-12-13T11:23:38.014895Z"
    }
   }
  },
  {
   "cell_type": "code",
   "execution_count": 4,
   "outputs": [
    {
     "data": {
      "text/plain": "         USER_ID IS_VISITOR\n0         693516       true\n1         829044       true\n2         652699       true\n3        1125936       true\n4        1149227       true\n...          ...        ...\n1407575   998517       true\n1407576   472345       true\n1407577  1207677       true\n1407578   255126       true\n1407579   622226       true\n\n[1407580 rows x 2 columns]",
      "text/html": "<div>\n<style scoped>\n    .dataframe tbody tr th:only-of-type {\n        vertical-align: middle;\n    }\n\n    .dataframe tbody tr th {\n        vertical-align: top;\n    }\n\n    .dataframe thead th {\n        text-align: right;\n    }\n</style>\n<table border=\"1\" class=\"dataframe\">\n  <thead>\n    <tr style=\"text-align: right;\">\n      <th></th>\n      <th>USER_ID</th>\n      <th>IS_VISITOR</th>\n    </tr>\n  </thead>\n  <tbody>\n    <tr>\n      <th>0</th>\n      <td>693516</td>\n      <td>true</td>\n    </tr>\n    <tr>\n      <th>1</th>\n      <td>829044</td>\n      <td>true</td>\n    </tr>\n    <tr>\n      <th>2</th>\n      <td>652699</td>\n      <td>true</td>\n    </tr>\n    <tr>\n      <th>3</th>\n      <td>1125936</td>\n      <td>true</td>\n    </tr>\n    <tr>\n      <th>4</th>\n      <td>1149227</td>\n      <td>true</td>\n    </tr>\n    <tr>\n      <th>...</th>\n      <td>...</td>\n      <td>...</td>\n    </tr>\n    <tr>\n      <th>1407575</th>\n      <td>998517</td>\n      <td>true</td>\n    </tr>\n    <tr>\n      <th>1407576</th>\n      <td>472345</td>\n      <td>true</td>\n    </tr>\n    <tr>\n      <th>1407577</th>\n      <td>1207677</td>\n      <td>true</td>\n    </tr>\n    <tr>\n      <th>1407578</th>\n      <td>255126</td>\n      <td>true</td>\n    </tr>\n    <tr>\n      <th>1407579</th>\n      <td>622226</td>\n      <td>true</td>\n    </tr>\n  </tbody>\n</table>\n<p>1407580 rows × 2 columns</p>\n</div>"
     },
     "metadata": {},
     "output_type": "display_data"
    }
   ],
   "source": [
    "customer_data = customer_data.drop(['products_viewed', 'num_views', 'num_add2cart', 'num_transaction'], axis=1).rename({'visitorid': 'USER_ID'}, axis=1)\n",
    "customer_data['IS_VISITOR'] = 'true'\n",
    "customer_data['USER_ID'] = customer_data['USER_ID'].astype(int).astype(str)\n",
    "display(customer_data)"
   ],
   "metadata": {
    "collapsed": false,
    "ExecuteTime": {
     "end_time": "2023-12-13T06:22:37.295796Z",
     "start_time": "2023-12-13T06:22:37.028284Z"
    }
   }
  },
  {
   "cell_type": "code",
   "execution_count": 5,
   "outputs": [],
   "source": [
    "customer_data.to_csv(basepath + '/aws/customer_data.csv', index=False, header=True)"
   ],
   "metadata": {
    "collapsed": false,
    "ExecuteTime": {
     "end_time": "2023-12-13T06:22:38.881321Z",
     "start_time": "2023-12-13T06:22:38.117714Z"
    }
   }
  },
  {
   "cell_type": "code",
   "execution_count": 5,
   "outputs": [],
   "source": [],
   "metadata": {
    "collapsed": false,
    "ExecuteTime": {
     "end_time": "2023-12-13T06:22:39.558083Z",
     "start_time": "2023-12-13T06:22:39.549740Z"
    }
   }
  },
  {
   "cell_type": "code",
   "execution_count": 4,
   "outputs": [
    {
     "data": {
      "text/plain": "        itemid categoryid available  \\\n0            0        209         0   \n1            1       1114         1   \n2            2       1305         0   \n3            3       1171         0   \n4            4       1038         0   \n...        ...        ...       ...   \n417048  466862       1376         0   \n417049  466863        173         0   \n417050  466864        373         1   \n417051  466865        421         0   \n417052  466866       1164         0   \n\n                                               properties  \\\n0       [1036, 1056, 11, 112, 127, 139, 159, 177, 189,...   \n1       [0, 1036, 112, 159, 185, 202, 227, 238, 280, 2...   \n2       [1063, 112, 159, 202, 282, 283, 318, 332, 364,...   \n3       [1025, 1080, 112, 159, 202, 227, 250, 283, 30,...   \n4       [112, 115, 159, 202, 227, 28, 283, 33, 364, 59...   \n...                                                   ...   \n417048  [112, 139, 159, 186, 202, 227, 28, 283, 29, 34...   \n417049  [1014, 112, 159, 202, 227, 283, 364, 400, 47, ...   \n417050  [1036, 112, 152, 159, 202, 227, 230, 283, 348,...   \n417051  [1031, 112, 159, 202, 227, 277, 28, 283, 332, ...   \n417052  [112, 120, 128, 159, 202, 227, 28, 283, 320, 3...   \n\n                                          property_values  \n0       [1276750, n3.168 1144008, n15360.000 628176 n1...  \n1       [769062, 1154859, 679677, 519769, 769062, 1726...  \n2       [n396.000 145688, 679677, 519769, 648485 n6000...  \n3       [769062, 769062, 679677, 519769, 261419, 13057...  \n4       [679677, n24.000, 519769, 371058 71429, 588652...  \n...                                                   ...  \n417048  [679677, 769062, 519769, 575816 n432.000, 7173...  \n417049  [1075463, 679677, 519769, 1194687 550565 24255...  \n417050  [1154859, 679677, 1071492, 519769, 1262739 205...  \n417051  [1088309, 679677, 519769, 150169 780351 820477...  \n417052  [679677, 1057641, 590055 n24.000, 519769, 8924...  \n\n[417053 rows x 5 columns]",
      "text/html": "<div>\n<style scoped>\n    .dataframe tbody tr th:only-of-type {\n        vertical-align: middle;\n    }\n\n    .dataframe tbody tr th {\n        vertical-align: top;\n    }\n\n    .dataframe thead th {\n        text-align: right;\n    }\n</style>\n<table border=\"1\" class=\"dataframe\">\n  <thead>\n    <tr style=\"text-align: right;\">\n      <th></th>\n      <th>itemid</th>\n      <th>categoryid</th>\n      <th>available</th>\n      <th>properties</th>\n      <th>property_values</th>\n    </tr>\n  </thead>\n  <tbody>\n    <tr>\n      <th>0</th>\n      <td>0</td>\n      <td>209</td>\n      <td>0</td>\n      <td>[1036, 1056, 11, 112, 127, 139, 159, 177, 189,...</td>\n      <td>[1276750, n3.168 1144008, n15360.000 628176 n1...</td>\n    </tr>\n    <tr>\n      <th>1</th>\n      <td>1</td>\n      <td>1114</td>\n      <td>1</td>\n      <td>[0, 1036, 112, 159, 185, 202, 227, 238, 280, 2...</td>\n      <td>[769062, 1154859, 679677, 519769, 769062, 1726...</td>\n    </tr>\n    <tr>\n      <th>2</th>\n      <td>2</td>\n      <td>1305</td>\n      <td>0</td>\n      <td>[1063, 112, 159, 202, 282, 283, 318, 332, 364,...</td>\n      <td>[n396.000 145688, 679677, 519769, 648485 n6000...</td>\n    </tr>\n    <tr>\n      <th>3</th>\n      <td>3</td>\n      <td>1171</td>\n      <td>0</td>\n      <td>[1025, 1080, 112, 159, 202, 227, 250, 283, 30,...</td>\n      <td>[769062, 769062, 679677, 519769, 261419, 13057...</td>\n    </tr>\n    <tr>\n      <th>4</th>\n      <td>4</td>\n      <td>1038</td>\n      <td>0</td>\n      <td>[112, 115, 159, 202, 227, 28, 283, 33, 364, 59...</td>\n      <td>[679677, n24.000, 519769, 371058 71429, 588652...</td>\n    </tr>\n    <tr>\n      <th>...</th>\n      <td>...</td>\n      <td>...</td>\n      <td>...</td>\n      <td>...</td>\n      <td>...</td>\n    </tr>\n    <tr>\n      <th>417048</th>\n      <td>466862</td>\n      <td>1376</td>\n      <td>0</td>\n      <td>[112, 139, 159, 186, 202, 227, 28, 283, 29, 34...</td>\n      <td>[679677, 769062, 519769, 575816 n432.000, 7173...</td>\n    </tr>\n    <tr>\n      <th>417049</th>\n      <td>466863</td>\n      <td>173</td>\n      <td>0</td>\n      <td>[1014, 112, 159, 202, 227, 283, 364, 400, 47, ...</td>\n      <td>[1075463, 679677, 519769, 1194687 550565 24255...</td>\n    </tr>\n    <tr>\n      <th>417050</th>\n      <td>466864</td>\n      <td>373</td>\n      <td>1</td>\n      <td>[1036, 112, 152, 159, 202, 227, 230, 283, 348,...</td>\n      <td>[1154859, 679677, 1071492, 519769, 1262739 205...</td>\n    </tr>\n    <tr>\n      <th>417051</th>\n      <td>466865</td>\n      <td>421</td>\n      <td>0</td>\n      <td>[1031, 112, 159, 202, 227, 277, 28, 283, 332, ...</td>\n      <td>[1088309, 679677, 519769, 150169 780351 820477...</td>\n    </tr>\n    <tr>\n      <th>417052</th>\n      <td>466866</td>\n      <td>1164</td>\n      <td>0</td>\n      <td>[112, 120, 128, 159, 202, 227, 28, 283, 320, 3...</td>\n      <td>[679677, 1057641, 590055 n24.000, 519769, 8924...</td>\n    </tr>\n  </tbody>\n</table>\n<p>417053 rows × 5 columns</p>\n</div>"
     },
     "execution_count": 4,
     "metadata": {},
     "output_type": "execute_result"
    }
   ],
   "source": [
    "item_data = pd.read_pickle(basepath +'item_data_extracted.pkl')\n",
    "item_data"
   ],
   "metadata": {
    "collapsed": false,
    "ExecuteTime": {
     "end_time": "2023-12-13T11:24:10.349609Z",
     "start_time": "2023-12-13T11:23:43.075114Z"
    }
   }
  },
  {
   "cell_type": "code",
   "execution_count": 3,
   "outputs": [],
   "source": [
    "def list_to_pipe_string(lst):\n",
    "    return '|'.join(str(elem) for elem in lst)\n",
    "\n",
    "def convert_bool_to_string(element):\n",
    "    if element == 1 or element == '1':\n",
    "        return 'true'\n",
    "    else:\n",
    "        return 'false'\n",
    "\n",
    "\n",
    "def convert_event_type(element):\n",
    "    if element == 'view':\n",
    "        return 'watch'\n",
    "    elif element == 'addtocart':\n",
    "        return 'add_to_cart'\n",
    "    elif element == 'transaction':\n",
    "        return 'purchase' # needs to be called purchased for some recommenders like, bought togheter or bestsellers\n",
    "    else:\n",
    "        return 'VIEW'"
   ],
   "metadata": {
    "collapsed": false,
    "ExecuteTime": {
     "end_time": "2023-12-13T11:24:50.566250Z",
     "start_time": "2023-12-13T11:24:50.561826Z"
    }
   }
  },
  {
   "cell_type": "code",
   "execution_count": null,
   "outputs": [],
   "source": [
    "display(item_data)"
   ],
   "metadata": {
    "collapsed": false
   }
  },
  {
   "cell_type": "code",
   "execution_count": 5,
   "outputs": [
    {
     "ename": "NameError",
     "evalue": "name 'convert_bool_to_string' is not defined",
     "output_type": "error",
     "traceback": [
      "\u001B[0;31m---------------------------------------------------------------------------\u001B[0m",
      "\u001B[0;31mNameError\u001B[0m                                 Traceback (most recent call last)",
      "Cell \u001B[0;32mIn[5], line 7\u001B[0m\n\u001B[1;32m      5\u001B[0m item_data[\u001B[38;5;124m'\u001B[39m\u001B[38;5;124mITEM_ID\u001B[39m\u001B[38;5;124m'\u001B[39m] \u001B[38;5;241m=\u001B[39m item_data[\u001B[38;5;124m'\u001B[39m\u001B[38;5;124mITEM_ID\u001B[39m\u001B[38;5;124m'\u001B[39m]\u001B[38;5;241m.\u001B[39mastype(\u001B[38;5;28mstr\u001B[39m)\n\u001B[1;32m      6\u001B[0m item_data[\u001B[38;5;124m'\u001B[39m\u001B[38;5;124mCATEGORY_L1\u001B[39m\u001B[38;5;124m'\u001B[39m] \u001B[38;5;241m=\u001B[39m item_data[\u001B[38;5;124m'\u001B[39m\u001B[38;5;124mCATEGORY_L1\u001B[39m\u001B[38;5;124m'\u001B[39m]\u001B[38;5;241m.\u001B[39mastype(\u001B[38;5;28mstr\u001B[39m)\n\u001B[0;32m----> 7\u001B[0m item_data[\u001B[38;5;124m'\u001B[39m\u001B[38;5;124mAVAILABLE\u001B[39m\u001B[38;5;124m'\u001B[39m] \u001B[38;5;241m=\u001B[39m item_data[\u001B[38;5;124m'\u001B[39m\u001B[38;5;124mAVAILABLE\u001B[39m\u001B[38;5;124m'\u001B[39m]\u001B[38;5;241m.\u001B[39mapply(\u001B[43mconvert_bool_to_string\u001B[49m)\n\u001B[1;32m      8\u001B[0m item_data\u001B[38;5;241m.\u001B[39mdrop([\u001B[38;5;124m'\u001B[39m\u001B[38;5;124mPROPERTY_VALUE\u001B[39m\u001B[38;5;124m'\u001B[39m], axis\u001B[38;5;241m=\u001B[39m\u001B[38;5;241m1\u001B[39m, inplace\u001B[38;5;241m=\u001B[39m\u001B[38;5;28;01mTrue\u001B[39;00m)\n\u001B[1;32m      9\u001B[0m item_data[\u001B[38;5;124m'\u001B[39m\u001B[38;5;124mPROPERTY\u001B[39m\u001B[38;5;124m'\u001B[39m] \u001B[38;5;241m=\u001B[39m item_data[\u001B[38;5;124m'\u001B[39m\u001B[38;5;124mPROPERTY\u001B[39m\u001B[38;5;124m'\u001B[39m]\u001B[38;5;241m.\u001B[39mapply(list_to_pipe_string)\n",
      "\u001B[0;31mNameError\u001B[0m: name 'convert_bool_to_string' is not defined"
     ]
    }
   ],
   "source": [
    "item_data = item_data.rename({'itemid': 'ITEM_ID', 'properties': 'PROPERTY', 'property_values': 'PROPERTY_VALUE', 'categoryid': \"CATEGORY_L1\", 'available': 'AVAILABLE'}, axis=1)\n",
    "item_data['PRICE'] = 1.0\n",
    "#property values cannot be used, because they are too long (most of the time they are the same, but sometimes they are not, but for testing it does not matter much)\n",
    "#item_data['PROPERTY_VALUE'] = item_data['PROPERTY_VALUE'].apply(list_to_pipe_string)\n",
    "item_data['ITEM_ID'] = item_data['ITEM_ID'].astype(str)\n",
    "item_data['CATEGORY_L1'] = item_data['CATEGORY_L1'].astype(str)\n",
    "item_data['AVAILABLE'] = item_data['AVAILABLE'].apply(convert_bool_to_string)\n",
    "item_data.drop(['PROPERTY_VALUE'], axis=1, inplace=True)\n",
    "item_data['PROPERTY'] = item_data['PROPERTY'].apply(list_to_pipe_string)\n",
    "item_data"
   ],
   "metadata": {
    "collapsed": false,
    "ExecuteTime": {
     "end_time": "2023-12-13T11:24:10.566152Z",
     "start_time": "2023-12-13T11:24:10.348119Z"
    }
   }
  },
  {
   "cell_type": "code",
   "execution_count": 10,
   "outputs": [],
   "source": [
    "item_schema = {\n",
    "    \"type\": \"record\",\n",
    "    \"name\": \"Items\",\n",
    "    \"namespace\": \"com.amazonaws.personalize.schema\",\n",
    "    \"fields\": [\n",
    "        {\n",
    "            \"name\": \"ITEM_ID\",\n",
    "            \"type\": \"string\"\n",
    "        },\n",
    "        {\n",
    "            \"name\": \"PROPERTY\",\n",
    "            \"type\": \"string\",\n",
    "            \"categorical\": 'true'\n",
    "        },\n",
    "        {\n",
    "            \"name\": \"AVAILABLE\",\n",
    "            \"type\": \"boolean\"\n",
    "        },\n",
    "        {\n",
    "            \"name\": \"PRICE\",\n",
    "            \"type\": \"float\"\n",
    "        },\n",
    "        {\n",
    "            \"name\": \"CATEGORY_L1\",\n",
    "            \"type\": \"string\",\n",
    "            \"categorical\": 'true'\n",
    "\n",
    "        }\n",
    "    ],\n",
    "    \"version\": \"1.0\"\n",
    "}"
   ],
   "metadata": {
    "collapsed": false,
    "ExecuteTime": {
     "end_time": "2023-12-13T06:12:25.046129Z",
     "start_time": "2023-12-13T06:12:25.039734Z"
    }
   }
  },
  {
   "cell_type": "code",
   "execution_count": 11,
   "outputs": [],
   "source": [
    "item_data.to_csv(basepath + '/aws/item_data.csv', index=False, header=True)"
   ],
   "metadata": {
    "collapsed": false,
    "ExecuteTime": {
     "end_time": "2023-12-13T06:10:39.948693Z",
     "start_time": "2023-12-13T06:10:39.000226Z"
    }
   }
  },
  {
   "cell_type": "code",
   "execution_count": 4,
   "outputs": [
    {
     "data": {
      "text/plain": "             timestamp  visitorid event  itemid  transactionid  \\\n0        1433221332117     257597  view  355908            NaN   \n1        1433224214164     992329  view  248676            NaN   \n2        1433221999827     111016  view  318965            NaN   \n3        1433221955914     483717  view  253185            NaN   \n4        1433221337106     951259  view  367447            NaN   \n...                ...        ...   ...     ...            ...   \n2756096  1438398785939     591435  view  261427            NaN   \n2756097  1438399813142     762376  view  115946            NaN   \n2756098  1438397820527    1251746  view   78144            NaN   \n2756099  1438398530703    1184451  view  283392            NaN   \n2756100  1438400163914     199536  view  152913            NaN   \n\n                    datetime  \n0        2015-06-02 07:02:12  \n1        2015-06-02 07:50:14  \n2        2015-06-02 07:13:19  \n3        2015-06-02 07:12:35  \n4        2015-06-02 07:02:17  \n...                      ...  \n2756096  2015-08-01 05:13:05  \n2756097  2015-08-01 05:30:13  \n2756098  2015-08-01 04:57:00  \n2756099  2015-08-01 05:08:50  \n2756100  2015-08-01 05:36:03  \n\n[2755641 rows x 6 columns]",
      "text/html": "<div>\n<style scoped>\n    .dataframe tbody tr th:only-of-type {\n        vertical-align: middle;\n    }\n\n    .dataframe tbody tr th {\n        vertical-align: top;\n    }\n\n    .dataframe thead th {\n        text-align: right;\n    }\n</style>\n<table border=\"1\" class=\"dataframe\">\n  <thead>\n    <tr style=\"text-align: right;\">\n      <th></th>\n      <th>timestamp</th>\n      <th>visitorid</th>\n      <th>event</th>\n      <th>itemid</th>\n      <th>transactionid</th>\n      <th>datetime</th>\n    </tr>\n  </thead>\n  <tbody>\n    <tr>\n      <th>0</th>\n      <td>1433221332117</td>\n      <td>257597</td>\n      <td>view</td>\n      <td>355908</td>\n      <td>NaN</td>\n      <td>2015-06-02 07:02:12</td>\n    </tr>\n    <tr>\n      <th>1</th>\n      <td>1433224214164</td>\n      <td>992329</td>\n      <td>view</td>\n      <td>248676</td>\n      <td>NaN</td>\n      <td>2015-06-02 07:50:14</td>\n    </tr>\n    <tr>\n      <th>2</th>\n      <td>1433221999827</td>\n      <td>111016</td>\n      <td>view</td>\n      <td>318965</td>\n      <td>NaN</td>\n      <td>2015-06-02 07:13:19</td>\n    </tr>\n    <tr>\n      <th>3</th>\n      <td>1433221955914</td>\n      <td>483717</td>\n      <td>view</td>\n      <td>253185</td>\n      <td>NaN</td>\n      <td>2015-06-02 07:12:35</td>\n    </tr>\n    <tr>\n      <th>4</th>\n      <td>1433221337106</td>\n      <td>951259</td>\n      <td>view</td>\n      <td>367447</td>\n      <td>NaN</td>\n      <td>2015-06-02 07:02:17</td>\n    </tr>\n    <tr>\n      <th>...</th>\n      <td>...</td>\n      <td>...</td>\n      <td>...</td>\n      <td>...</td>\n      <td>...</td>\n      <td>...</td>\n    </tr>\n    <tr>\n      <th>2756096</th>\n      <td>1438398785939</td>\n      <td>591435</td>\n      <td>view</td>\n      <td>261427</td>\n      <td>NaN</td>\n      <td>2015-08-01 05:13:05</td>\n    </tr>\n    <tr>\n      <th>2756097</th>\n      <td>1438399813142</td>\n      <td>762376</td>\n      <td>view</td>\n      <td>115946</td>\n      <td>NaN</td>\n      <td>2015-08-01 05:30:13</td>\n    </tr>\n    <tr>\n      <th>2756098</th>\n      <td>1438397820527</td>\n      <td>1251746</td>\n      <td>view</td>\n      <td>78144</td>\n      <td>NaN</td>\n      <td>2015-08-01 04:57:00</td>\n    </tr>\n    <tr>\n      <th>2756099</th>\n      <td>1438398530703</td>\n      <td>1184451</td>\n      <td>view</td>\n      <td>283392</td>\n      <td>NaN</td>\n      <td>2015-08-01 05:08:50</td>\n    </tr>\n    <tr>\n      <th>2756100</th>\n      <td>1438400163914</td>\n      <td>199536</td>\n      <td>view</td>\n      <td>152913</td>\n      <td>NaN</td>\n      <td>2015-08-01 05:36:03</td>\n    </tr>\n  </tbody>\n</table>\n<p>2755641 rows × 6 columns</p>\n</div>"
     },
     "execution_count": 4,
     "metadata": {},
     "output_type": "execute_result"
    }
   ],
   "source": [
    "interaction_data = pd.read_pickle(basepath +'events.pkl')\n",
    "interaction_data"
   ],
   "metadata": {
    "collapsed": false,
    "ExecuteTime": {
     "end_time": "2023-12-13T11:24:59.188327Z",
     "start_time": "2023-12-13T11:24:58.971877Z"
    }
   }
  },
  {
   "cell_type": "code",
   "execution_count": 5,
   "outputs": [
    {
     "data": {
      "text/plain": "             TIMESTAMP  USER_ID EVENT_TYPE  ITEM_ID  TRANSACTION_ID\n0        1433221332117   257597      watch   355908               0\n1        1433224214164   992329      watch   248676               0\n2        1433221999827   111016      watch   318965               0\n3        1433221955914   483717      watch   253185               0\n4        1433221337106   951259      watch   367447               0\n...                ...      ...        ...      ...             ...\n2756096  1438398785939   591435      watch   261427               0\n2756097  1438399813142   762376      watch   115946               0\n2756098  1438397820527  1251746      watch    78144               0\n2756099  1438398530703  1184451      watch   283392               0\n2756100  1438400163914   199536      watch   152913               0\n\n[2755641 rows x 5 columns]",
      "text/html": "<div>\n<style scoped>\n    .dataframe tbody tr th:only-of-type {\n        vertical-align: middle;\n    }\n\n    .dataframe tbody tr th {\n        vertical-align: top;\n    }\n\n    .dataframe thead th {\n        text-align: right;\n    }\n</style>\n<table border=\"1\" class=\"dataframe\">\n  <thead>\n    <tr style=\"text-align: right;\">\n      <th></th>\n      <th>TIMESTAMP</th>\n      <th>USER_ID</th>\n      <th>EVENT_TYPE</th>\n      <th>ITEM_ID</th>\n      <th>TRANSACTION_ID</th>\n    </tr>\n  </thead>\n  <tbody>\n    <tr>\n      <th>0</th>\n      <td>1433221332117</td>\n      <td>257597</td>\n      <td>watch</td>\n      <td>355908</td>\n      <td>0</td>\n    </tr>\n    <tr>\n      <th>1</th>\n      <td>1433224214164</td>\n      <td>992329</td>\n      <td>watch</td>\n      <td>248676</td>\n      <td>0</td>\n    </tr>\n    <tr>\n      <th>2</th>\n      <td>1433221999827</td>\n      <td>111016</td>\n      <td>watch</td>\n      <td>318965</td>\n      <td>0</td>\n    </tr>\n    <tr>\n      <th>3</th>\n      <td>1433221955914</td>\n      <td>483717</td>\n      <td>watch</td>\n      <td>253185</td>\n      <td>0</td>\n    </tr>\n    <tr>\n      <th>4</th>\n      <td>1433221337106</td>\n      <td>951259</td>\n      <td>watch</td>\n      <td>367447</td>\n      <td>0</td>\n    </tr>\n    <tr>\n      <th>...</th>\n      <td>...</td>\n      <td>...</td>\n      <td>...</td>\n      <td>...</td>\n      <td>...</td>\n    </tr>\n    <tr>\n      <th>2756096</th>\n      <td>1438398785939</td>\n      <td>591435</td>\n      <td>watch</td>\n      <td>261427</td>\n      <td>0</td>\n    </tr>\n    <tr>\n      <th>2756097</th>\n      <td>1438399813142</td>\n      <td>762376</td>\n      <td>watch</td>\n      <td>115946</td>\n      <td>0</td>\n    </tr>\n    <tr>\n      <th>2756098</th>\n      <td>1438397820527</td>\n      <td>1251746</td>\n      <td>watch</td>\n      <td>78144</td>\n      <td>0</td>\n    </tr>\n    <tr>\n      <th>2756099</th>\n      <td>1438398530703</td>\n      <td>1184451</td>\n      <td>watch</td>\n      <td>283392</td>\n      <td>0</td>\n    </tr>\n    <tr>\n      <th>2756100</th>\n      <td>1438400163914</td>\n      <td>199536</td>\n      <td>watch</td>\n      <td>152913</td>\n      <td>0</td>\n    </tr>\n  </tbody>\n</table>\n<p>2755641 rows × 5 columns</p>\n</div>"
     },
     "execution_count": 5,
     "metadata": {},
     "output_type": "execute_result"
    }
   ],
   "source": [
    "interaction_data = interaction_data.drop(['datetime'], axis=1).rename({'visitorid': 'USER_ID', 'itemid': 'ITEM_ID', 'timestamp' : 'TIMESTAMP', 'event': 'EVENT_TYPE', 'transactionid': 'TRANSACTION_ID'}, axis=1)\n",
    "interaction_data['TRANSACTION_ID'] = interaction_data['TRANSACTION_ID'].fillna(0).astype(int)\n",
    "interaction_data['EVENT_TYPE'] = interaction_data['EVENT_TYPE'].apply(convert_event_type)\n",
    "\n",
    "interaction_data"
   ],
   "metadata": {
    "collapsed": false,
    "ExecuteTime": {
     "end_time": "2023-12-13T11:25:02.626860Z",
     "start_time": "2023-12-13T11:25:02.375795Z"
    }
   }
  },
  {
   "cell_type": "code",
   "execution_count": null,
   "outputs": [],
   "source": [
    "display(interaction_data)\n",
    "{\n",
    "\n",
    "    \"type\": \"record\",\n",
    "    \"name\": \"Interactions\",\n",
    "    \"namespace\": \"com.amazonaws.personalize.schema\",\n",
    "    \"fields\": [\n",
    "        {\n",
    "            \"name\": \"USER_ID\",\n",
    "            \"type\": \"string\"\n",
    "        },\n",
    "        {\n",
    "            \"name\": \"ITEM_ID\",\n",
    "            \"type\": \"string\"\n",
    "        },\n",
    "        {\n",
    "            \"name\": \"EVENT_TYPE\",\n",
    "            \"type\": \"string\"\n",
    "        },\n",
    "        {\n",
    "            \"name\": \"TIMESTAMP\",\n",
    "            \"type\": \"long\"\n",
    "        },\n",
    "        {\n",
    "            \"name\": \"TRANSACTION_ID\",\n",
    "            \"type\": \"long\"\n",
    "        }\n",
    "    ],\n",
    "    \"version\": \"1.0\"\n",
    "}"
   ],
   "metadata": {
    "collapsed": false
   }
  },
  {
   "cell_type": "code",
   "execution_count": 7,
   "outputs": [
    {
     "data": {
      "text/plain": "         TIMESTAMP  USER_ID EVENT_TYPE  ITEM_ID  TRANSACTION_ID\n130  1433222276276   599528   purchase   356475            4000\n304  1433193500981   121688   purchase    15335           11117\n418  1433193915008   552148   purchase    81345            5444\n814  1433176736375   102019   purchase   150318           13556\n843  1433174518180   189384   purchase   310791            7244",
      "text/html": "<div>\n<style scoped>\n    .dataframe tbody tr th:only-of-type {\n        vertical-align: middle;\n    }\n\n    .dataframe tbody tr th {\n        vertical-align: top;\n    }\n\n    .dataframe thead th {\n        text-align: right;\n    }\n</style>\n<table border=\"1\" class=\"dataframe\">\n  <thead>\n    <tr style=\"text-align: right;\">\n      <th></th>\n      <th>TIMESTAMP</th>\n      <th>USER_ID</th>\n      <th>EVENT_TYPE</th>\n      <th>ITEM_ID</th>\n      <th>TRANSACTION_ID</th>\n    </tr>\n  </thead>\n  <tbody>\n    <tr>\n      <th>130</th>\n      <td>1433222276276</td>\n      <td>599528</td>\n      <td>purchase</td>\n      <td>356475</td>\n      <td>4000</td>\n    </tr>\n    <tr>\n      <th>304</th>\n      <td>1433193500981</td>\n      <td>121688</td>\n      <td>purchase</td>\n      <td>15335</td>\n      <td>11117</td>\n    </tr>\n    <tr>\n      <th>418</th>\n      <td>1433193915008</td>\n      <td>552148</td>\n      <td>purchase</td>\n      <td>81345</td>\n      <td>5444</td>\n    </tr>\n    <tr>\n      <th>814</th>\n      <td>1433176736375</td>\n      <td>102019</td>\n      <td>purchase</td>\n      <td>150318</td>\n      <td>13556</td>\n    </tr>\n    <tr>\n      <th>843</th>\n      <td>1433174518180</td>\n      <td>189384</td>\n      <td>purchase</td>\n      <td>310791</td>\n      <td>7244</td>\n    </tr>\n  </tbody>\n</table>\n</div>"
     },
     "metadata": {},
     "output_type": "display_data"
    }
   ],
   "source": [
    "display(interaction_data[interaction_data['EVENT_TYPE'] == 'purchase'].head())"
   ],
   "metadata": {
    "collapsed": false,
    "ExecuteTime": {
     "end_time": "2023-12-13T11:25:19.580444Z",
     "start_time": "2023-12-13T11:25:19.572761Z"
    }
   }
  },
  {
   "cell_type": "code",
   "execution_count": null,
   "outputs": [],
   "source": [
    "display(item_data)"
   ],
   "metadata": {
    "collapsed": false
   }
  },
  {
   "cell_type": "code",
   "execution_count": 15,
   "outputs": [],
   "source": [
    "interaction_data.to_csv(basepath + '/aws/transaction_data.csv', index=False, header=True)"
   ],
   "metadata": {
    "collapsed": false,
    "ExecuteTime": {
     "end_time": "2023-12-13T06:10:43.563910Z",
     "start_time": "2023-12-13T06:10:40.575499Z"
    }
   }
  },
  {
   "cell_type": "code",
   "execution_count": null,
   "outputs": [],
   "source": [],
   "metadata": {
    "collapsed": false,
    "pycharm": {
     "is_executing": true
    }
   }
  },
  {
   "cell_type": "markdown",
   "source": [
    "results for best sellers, with user id 1233000\n",
    "461686\n",
    "213834\n",
    "119736\n",
    "312728\n",
    "7943\n",
    "445351\n",
    "48030\n",
    "248455\n",
    "420960\n",
    "17478\n",
    "320130\n",
    "409804\n",
    "416017\n",
    "46156\n",
    "369447\n",
    "268883\n",
    "257040\n",
    "334401\n",
    "441852\n",
    "37029\n",
    "318333\n",
    "9877\n",
    "546\n",
    "450082\n",
    "190000"
   ],
   "metadata": {
    "collapsed": false
   }
  },
  {
   "cell_type": "markdown",
   "source": [
    "## Evaluate Results"
   ],
   "metadata": {
    "collapsed": false
   }
  },
  {
   "cell_type": "code",
   "execution_count": 12,
   "outputs": [
    {
     "data": {
      "text/plain": "        itemid categoryid available  \\\n0            0        209         0   \n1            1       1114         1   \n2            2       1305         0   \n3            3       1171         0   \n4            4       1038         0   \n...        ...        ...       ...   \n417048  466862       1376         0   \n417049  466863        173         0   \n417050  466864        373         1   \n417051  466865        421         0   \n417052  466866       1164         0   \n\n                                               properties  \\\n0       [1036, 1056, 11, 112, 127, 139, 159, 177, 189,...   \n1       [0, 1036, 112, 159, 185, 202, 227, 238, 280, 2...   \n2       [1063, 112, 159, 202, 282, 283, 318, 332, 364,...   \n3       [1025, 1080, 112, 159, 202, 227, 250, 283, 30,...   \n4       [112, 115, 159, 202, 227, 28, 283, 33, 364, 59...   \n...                                                   ...   \n417048  [112, 139, 159, 186, 202, 227, 28, 283, 29, 34...   \n417049  [1014, 112, 159, 202, 227, 283, 364, 400, 47, ...   \n417050  [1036, 112, 152, 159, 202, 227, 230, 283, 348,...   \n417051  [1031, 112, 159, 202, 227, 277, 28, 283, 332, ...   \n417052  [112, 120, 128, 159, 202, 227, 28, 283, 320, 3...   \n\n                                          property_values  \n0       [1276750, n3.168 1144008, n15360.000 628176 n1...  \n1       [769062, 1154859, 679677, 519769, 769062, 1726...  \n2       [n396.000 145688, 679677, 519769, 648485 n6000...  \n3       [769062, 769062, 679677, 519769, 261419, 13057...  \n4       [679677, n24.000, 519769, 371058 71429, 588652...  \n...                                                   ...  \n417048  [679677, 769062, 519769, 575816 n432.000, 7173...  \n417049  [1075463, 679677, 519769, 1194687 550565 24255...  \n417050  [1154859, 679677, 1071492, 519769, 1262739 205...  \n417051  [1088309, 679677, 519769, 150169 780351 820477...  \n417052  [679677, 1057641, 590055 n24.000, 519769, 8924...  \n\n[417053 rows x 5 columns]",
      "text/html": "<div>\n<style scoped>\n    .dataframe tbody tr th:only-of-type {\n        vertical-align: middle;\n    }\n\n    .dataframe tbody tr th {\n        vertical-align: top;\n    }\n\n    .dataframe thead th {\n        text-align: right;\n    }\n</style>\n<table border=\"1\" class=\"dataframe\">\n  <thead>\n    <tr style=\"text-align: right;\">\n      <th></th>\n      <th>itemid</th>\n      <th>categoryid</th>\n      <th>available</th>\n      <th>properties</th>\n      <th>property_values</th>\n    </tr>\n  </thead>\n  <tbody>\n    <tr>\n      <th>0</th>\n      <td>0</td>\n      <td>209</td>\n      <td>0</td>\n      <td>[1036, 1056, 11, 112, 127, 139, 159, 177, 189,...</td>\n      <td>[1276750, n3.168 1144008, n15360.000 628176 n1...</td>\n    </tr>\n    <tr>\n      <th>1</th>\n      <td>1</td>\n      <td>1114</td>\n      <td>1</td>\n      <td>[0, 1036, 112, 159, 185, 202, 227, 238, 280, 2...</td>\n      <td>[769062, 1154859, 679677, 519769, 769062, 1726...</td>\n    </tr>\n    <tr>\n      <th>2</th>\n      <td>2</td>\n      <td>1305</td>\n      <td>0</td>\n      <td>[1063, 112, 159, 202, 282, 283, 318, 332, 364,...</td>\n      <td>[n396.000 145688, 679677, 519769, 648485 n6000...</td>\n    </tr>\n    <tr>\n      <th>3</th>\n      <td>3</td>\n      <td>1171</td>\n      <td>0</td>\n      <td>[1025, 1080, 112, 159, 202, 227, 250, 283, 30,...</td>\n      <td>[769062, 769062, 679677, 519769, 261419, 13057...</td>\n    </tr>\n    <tr>\n      <th>4</th>\n      <td>4</td>\n      <td>1038</td>\n      <td>0</td>\n      <td>[112, 115, 159, 202, 227, 28, 283, 33, 364, 59...</td>\n      <td>[679677, n24.000, 519769, 371058 71429, 588652...</td>\n    </tr>\n    <tr>\n      <th>...</th>\n      <td>...</td>\n      <td>...</td>\n      <td>...</td>\n      <td>...</td>\n      <td>...</td>\n    </tr>\n    <tr>\n      <th>417048</th>\n      <td>466862</td>\n      <td>1376</td>\n      <td>0</td>\n      <td>[112, 139, 159, 186, 202, 227, 28, 283, 29, 34...</td>\n      <td>[679677, 769062, 519769, 575816 n432.000, 7173...</td>\n    </tr>\n    <tr>\n      <th>417049</th>\n      <td>466863</td>\n      <td>173</td>\n      <td>0</td>\n      <td>[1014, 112, 159, 202, 227, 283, 364, 400, 47, ...</td>\n      <td>[1075463, 679677, 519769, 1194687 550565 24255...</td>\n    </tr>\n    <tr>\n      <th>417050</th>\n      <td>466864</td>\n      <td>373</td>\n      <td>1</td>\n      <td>[1036, 112, 152, 159, 202, 227, 230, 283, 348,...</td>\n      <td>[1154859, 679677, 1071492, 519769, 1262739 205...</td>\n    </tr>\n    <tr>\n      <th>417051</th>\n      <td>466865</td>\n      <td>421</td>\n      <td>0</td>\n      <td>[1031, 112, 159, 202, 227, 277, 28, 283, 332, ...</td>\n      <td>[1088309, 679677, 519769, 150169 780351 820477...</td>\n    </tr>\n    <tr>\n      <th>417052</th>\n      <td>466866</td>\n      <td>1164</td>\n      <td>0</td>\n      <td>[112, 120, 128, 159, 202, 227, 28, 283, 320, 3...</td>\n      <td>[679677, 1057641, 590055 n24.000, 519769, 8924...</td>\n    </tr>\n  </tbody>\n</table>\n<p>417053 rows × 5 columns</p>\n</div>"
     },
     "metadata": {},
     "output_type": "display_data"
    },
    {
     "data": {
      "text/plain": "             timestamp  visitorid event  itemid  transactionid  \\\n0        1433221332117     257597  view  355908            NaN   \n1        1433224214164     992329  view  248676            NaN   \n2        1433221999827     111016  view  318965            NaN   \n3        1433221955914     483717  view  253185            NaN   \n4        1433221337106     951259  view  367447            NaN   \n...                ...        ...   ...     ...            ...   \n2756096  1438398785939     591435  view  261427            NaN   \n2756097  1438399813142     762376  view  115946            NaN   \n2756098  1438397820527    1251746  view   78144            NaN   \n2756099  1438398530703    1184451  view  283392            NaN   \n2756100  1438400163914     199536  view  152913            NaN   \n\n                    datetime  \n0        2015-06-02 07:02:12  \n1        2015-06-02 07:50:14  \n2        2015-06-02 07:13:19  \n3        2015-06-02 07:12:35  \n4        2015-06-02 07:02:17  \n...                      ...  \n2756096  2015-08-01 05:13:05  \n2756097  2015-08-01 05:30:13  \n2756098  2015-08-01 04:57:00  \n2756099  2015-08-01 05:08:50  \n2756100  2015-08-01 05:36:03  \n\n[2755641 rows x 6 columns]",
      "text/html": "<div>\n<style scoped>\n    .dataframe tbody tr th:only-of-type {\n        vertical-align: middle;\n    }\n\n    .dataframe tbody tr th {\n        vertical-align: top;\n    }\n\n    .dataframe thead th {\n        text-align: right;\n    }\n</style>\n<table border=\"1\" class=\"dataframe\">\n  <thead>\n    <tr style=\"text-align: right;\">\n      <th></th>\n      <th>timestamp</th>\n      <th>visitorid</th>\n      <th>event</th>\n      <th>itemid</th>\n      <th>transactionid</th>\n      <th>datetime</th>\n    </tr>\n  </thead>\n  <tbody>\n    <tr>\n      <th>0</th>\n      <td>1433221332117</td>\n      <td>257597</td>\n      <td>view</td>\n      <td>355908</td>\n      <td>NaN</td>\n      <td>2015-06-02 07:02:12</td>\n    </tr>\n    <tr>\n      <th>1</th>\n      <td>1433224214164</td>\n      <td>992329</td>\n      <td>view</td>\n      <td>248676</td>\n      <td>NaN</td>\n      <td>2015-06-02 07:50:14</td>\n    </tr>\n    <tr>\n      <th>2</th>\n      <td>1433221999827</td>\n      <td>111016</td>\n      <td>view</td>\n      <td>318965</td>\n      <td>NaN</td>\n      <td>2015-06-02 07:13:19</td>\n    </tr>\n    <tr>\n      <th>3</th>\n      <td>1433221955914</td>\n      <td>483717</td>\n      <td>view</td>\n      <td>253185</td>\n      <td>NaN</td>\n      <td>2015-06-02 07:12:35</td>\n    </tr>\n    <tr>\n      <th>4</th>\n      <td>1433221337106</td>\n      <td>951259</td>\n      <td>view</td>\n      <td>367447</td>\n      <td>NaN</td>\n      <td>2015-06-02 07:02:17</td>\n    </tr>\n    <tr>\n      <th>...</th>\n      <td>...</td>\n      <td>...</td>\n      <td>...</td>\n      <td>...</td>\n      <td>...</td>\n      <td>...</td>\n    </tr>\n    <tr>\n      <th>2756096</th>\n      <td>1438398785939</td>\n      <td>591435</td>\n      <td>view</td>\n      <td>261427</td>\n      <td>NaN</td>\n      <td>2015-08-01 05:13:05</td>\n    </tr>\n    <tr>\n      <th>2756097</th>\n      <td>1438399813142</td>\n      <td>762376</td>\n      <td>view</td>\n      <td>115946</td>\n      <td>NaN</td>\n      <td>2015-08-01 05:30:13</td>\n    </tr>\n    <tr>\n      <th>2756098</th>\n      <td>1438397820527</td>\n      <td>1251746</td>\n      <td>view</td>\n      <td>78144</td>\n      <td>NaN</td>\n      <td>2015-08-01 04:57:00</td>\n    </tr>\n    <tr>\n      <th>2756099</th>\n      <td>1438398530703</td>\n      <td>1184451</td>\n      <td>view</td>\n      <td>283392</td>\n      <td>NaN</td>\n      <td>2015-08-01 05:08:50</td>\n    </tr>\n    <tr>\n      <th>2756100</th>\n      <td>1438400163914</td>\n      <td>199536</td>\n      <td>view</td>\n      <td>152913</td>\n      <td>NaN</td>\n      <td>2015-08-01 05:36:03</td>\n    </tr>\n  </tbody>\n</table>\n<p>2755641 rows × 6 columns</p>\n</div>"
     },
     "metadata": {},
     "output_type": "display_data"
    }
   ],
   "source": [
    "item_data = pd.read_pickle(basepath +'item_data_extracted.pkl')\n",
    "interaction_data = pd.read_pickle(basepath +'events.pkl')\n",
    "display(item_data, interaction_data)"
   ],
   "metadata": {
    "collapsed": false,
    "ExecuteTime": {
     "end_time": "2023-12-01T13:35:18.579332Z",
     "start_time": "2023-12-01T13:34:26.875201Z"
    }
   }
  },
  {
   "cell_type": "code",
   "execution_count": 4,
   "outputs": [],
   "source": [
    "best_sellers_for_1233000 = [\n",
    "    461686, 213834, 119736, 312728, 7943, 445351, 48030, 248455, 420960, 17478,\n",
    "    320130, 409804, 416017, 46156, 369447, 268883, 257040, 334401, 441852,\n",
    "    37029, 318333, 9877, 546, 450082, 190000\n",
    "]\n"
   ],
   "metadata": {
    "collapsed": false,
    "ExecuteTime": {
     "end_time": "2023-12-01T13:22:38.053455Z",
     "start_time": "2023-12-01T13:22:38.049124Z"
    }
   }
  },
  {
   "cell_type": "code",
   "execution_count": 10,
   "outputs": [],
   "source": [
    "bought_together_item_309858 =  [\n",
    "    461686, 213834, 119736, 312728, 7943, 445351, 48030, 248455, 420960, 17478,\n",
    "    320130, 409804, 416017, 46156, 369447, 268883, 334401, 257040, 441852,\n",
    "    37029, 318333, 9877, 546, 450082, 190000\n",
    "]"
   ],
   "metadata": {
    "collapsed": false,
    "ExecuteTime": {
     "end_time": "2023-12-01T13:28:20.292333Z",
     "start_time": "2023-12-01T13:28:20.289058Z"
    }
   }
  },
  {
   "cell_type": "code",
   "execution_count": 13,
   "outputs": [
    {
     "data": {
      "text/plain": "'user 1233000 bought following itmes'"
     },
     "metadata": {},
     "output_type": "display_data"
    },
    {
     "data": {
      "text/plain": "             timestamp  visitorid event  itemid  transactionid  \\\n1462976  1430622049851    1233000  view  396707            NaN   \n\n                    datetime  \n1462976  2015-05-03 05:00:49  ",
      "text/html": "<div>\n<style scoped>\n    .dataframe tbody tr th:only-of-type {\n        vertical-align: middle;\n    }\n\n    .dataframe tbody tr th {\n        vertical-align: top;\n    }\n\n    .dataframe thead th {\n        text-align: right;\n    }\n</style>\n<table border=\"1\" class=\"dataframe\">\n  <thead>\n    <tr style=\"text-align: right;\">\n      <th></th>\n      <th>timestamp</th>\n      <th>visitorid</th>\n      <th>event</th>\n      <th>itemid</th>\n      <th>transactionid</th>\n      <th>datetime</th>\n    </tr>\n  </thead>\n  <tbody>\n    <tr>\n      <th>1462976</th>\n      <td>1430622049851</td>\n      <td>1233000</td>\n      <td>view</td>\n      <td>396707</td>\n      <td>NaN</td>\n      <td>2015-05-03 05:00:49</td>\n    </tr>\n  </tbody>\n</table>\n</div>"
     },
     "metadata": {},
     "output_type": "display_data"
    },
    {
     "data": {
      "text/plain": "        itemid categoryid available  \\\n496        546       1349         1   \n7107      7943        398         1   \n8820      9877        858         1   \n15604    17478       1373         1   \n33069    37029       1483         1   \n41186    46156        720         1   \n42861    48030       1219         1   \n107040  119736         57         1   \n169813  190000          5         1   \n191082  213834       1163         1   \n222014  248455       1349         1   \n229649  257040        683         1   \n240243  268883       1529         1   \n279464  312728       1098         1   \n284486  318333       1293         1   \n286073  320130        707         1   \n298819  334401       1043         1   \n330129  369447         48         1   \n366148  409804       1191         1   \n371694  416017       1103         1   \n376104  420960       1529         1   \n394744  441852        959         1   \n397864  445351       1483         1   \n402071  450082       1205         1   \n412415  461686       1037         1   \n\n                                               properties  \\\n496     [112, 159, 202, 214, 227, 283, 364, 6, 678, 69...   \n7107    [1036, 112, 159, 202, 227, 28, 283, 364, 591, ...   \n8820    [112, 159, 19, 202, 227, 28, 283, 325, 364, 52...   \n15604   [112, 159, 19, 202, 227, 28, 283, 364, 521, 55...   \n33069   [1, 1032, 1036, 1037, 1079, 1090, 112, 120, 15...   \n41186   [112, 159, 202, 28, 283, 348, 364, 6, 678, 680...   \n42861   [112, 159, 202, 227, 283, 329, 364, 377, 415, ...   \n107040  [1081, 112, 159, 202, 227, 283, 364, 470, 6, 6...   \n169813  [1036, 1066, 112, 159, 202, 227, 230, 283, 307...   \n191082  [1036, 112, 113, 159, 202, 227, 279, 283, 364,...   \n222014  [112, 159, 202, 214, 227, 283, 364, 6, 678, 69...   \n229649  [1058, 1092, 112, 159, 202, 283, 348, 364, 461...   \n240243  [1036, 1066, 112, 159, 202, 227, 230, 283, 327...   \n279464  [1036, 112, 159, 202, 227, 283, 348, 364, 392,...   \n284486  [1064, 112, 159, 202, 227, 283, 364, 533, 571,...   \n286073  [1, 1032, 1036, 1037, 1079, 1090, 112, 120, 15...   \n298819  [112, 159, 202, 227, 233, 283, 364, 390, 569, ...   \n330129  [101, 1036, 1054, 1066, 107, 112, 159, 202, 20...   \n366148  [112, 124, 159, 202, 227, 283, 348, 364, 407, ...   \n371694  [1036, 112, 159, 202, 214, 227, 267, 283, 364,...   \n376104  [1036, 1066, 112, 159, 202, 227, 230, 283, 327...   \n394744  [1000, 1036, 112, 159, 202, 227, 230, 283, 324...   \n397864  [1, 1032, 1036, 1037, 1079, 1090, 112, 120, 15...   \n402071  [112, 159, 202, 283, 348, 364, 506, 551, 6, 67...   \n412415  [112, 159, 19, 202, 227, 28, 283, 364, 521, 55...   \n\n                                          property_values  \n496     [679677, 519769, 878840 1169762 283006 767591 ...  \n7107    [1154859, 679677, 519769, 538364, 588652 10914...  \n8820    [679677, 519769, 1297729 n60.000 350726 30603 ...  \n15604   [679677, 519769, 1297729 n36.000 350726 30603 ...  \n33069   [1021755, [703585 499075 1277894 1059922 98606...  \n41186   [679677, 519769, 309399, 266750, 998633 116584...  \n42861   [679677, 519769, 656309, 1324373, 1324373 8960...  \n107040  [769062, 679677, 519769, 1278980 n38496.000, 1...  \n169813  [616467, 1178208 n1200.000 424566, 679677, 519...  \n191082  [1154859, 679677, 426626 703408 1182787, 51976...  \n222014  [679677, 519769, 1267042 1169762 283006 767591...  \n229649  [n24.000, 1116693, 679677, 519769, 816922, 726...  \n240243  [1154859, n162.000 424566, 679677, 519769, 127...  \n279464  [1154859 86628, 679677, 519769, 441568, 117762...  \n284486  [769062, 679677, 519769, 586600, 741898 150169...  \n286073  [1021755, [703585 499075 464704 1277894 98606 ...  \n298819  [679677, 519769, 1294737 872268, 588652 562911...  \n330129  [1116693, 616467, n84.000 639502 n96.000, n240...  \n366148  [679677, 769062, 519769, 1048139 990317, 76759...  \n371694  [726612, 679677, 519769, 516199 n360.000, 1298...  \n376104  [1318567, n138.000 424566, 679677, 519769, 699...  \n394744  [871215 1022520, 726612, 679677, 519769, 40266...  \n397864  [1200832, [703585 499075 464704 1277894 849364...  \n402071  [679677, 519769, 260698 n8400.000 321194, 6685...  \n412415  [679677, 519769, 769062, 245814 237874 171308,...  ",
      "text/html": "<div>\n<style scoped>\n    .dataframe tbody tr th:only-of-type {\n        vertical-align: middle;\n    }\n\n    .dataframe tbody tr th {\n        vertical-align: top;\n    }\n\n    .dataframe thead th {\n        text-align: right;\n    }\n</style>\n<table border=\"1\" class=\"dataframe\">\n  <thead>\n    <tr style=\"text-align: right;\">\n      <th></th>\n      <th>itemid</th>\n      <th>categoryid</th>\n      <th>available</th>\n      <th>properties</th>\n      <th>property_values</th>\n    </tr>\n  </thead>\n  <tbody>\n    <tr>\n      <th>496</th>\n      <td>546</td>\n      <td>1349</td>\n      <td>1</td>\n      <td>[112, 159, 202, 214, 227, 283, 364, 6, 678, 69...</td>\n      <td>[679677, 519769, 878840 1169762 283006 767591 ...</td>\n    </tr>\n    <tr>\n      <th>7107</th>\n      <td>7943</td>\n      <td>398</td>\n      <td>1</td>\n      <td>[1036, 112, 159, 202, 227, 28, 283, 364, 591, ...</td>\n      <td>[1154859, 679677, 519769, 538364, 588652 10914...</td>\n    </tr>\n    <tr>\n      <th>8820</th>\n      <td>9877</td>\n      <td>858</td>\n      <td>1</td>\n      <td>[112, 159, 19, 202, 227, 28, 283, 325, 364, 52...</td>\n      <td>[679677, 519769, 1297729 n60.000 350726 30603 ...</td>\n    </tr>\n    <tr>\n      <th>15604</th>\n      <td>17478</td>\n      <td>1373</td>\n      <td>1</td>\n      <td>[112, 159, 19, 202, 227, 28, 283, 364, 521, 55...</td>\n      <td>[679677, 519769, 1297729 n36.000 350726 30603 ...</td>\n    </tr>\n    <tr>\n      <th>33069</th>\n      <td>37029</td>\n      <td>1483</td>\n      <td>1</td>\n      <td>[1, 1032, 1036, 1037, 1079, 1090, 112, 120, 15...</td>\n      <td>[1021755, [703585 499075 1277894 1059922 98606...</td>\n    </tr>\n    <tr>\n      <th>41186</th>\n      <td>46156</td>\n      <td>720</td>\n      <td>1</td>\n      <td>[112, 159, 202, 28, 283, 348, 364, 6, 678, 680...</td>\n      <td>[679677, 519769, 309399, 266750, 998633 116584...</td>\n    </tr>\n    <tr>\n      <th>42861</th>\n      <td>48030</td>\n      <td>1219</td>\n      <td>1</td>\n      <td>[112, 159, 202, 227, 283, 329, 364, 377, 415, ...</td>\n      <td>[679677, 519769, 656309, 1324373, 1324373 8960...</td>\n    </tr>\n    <tr>\n      <th>107040</th>\n      <td>119736</td>\n      <td>57</td>\n      <td>1</td>\n      <td>[1081, 112, 159, 202, 227, 283, 364, 470, 6, 6...</td>\n      <td>[769062, 679677, 519769, 1278980 n38496.000, 1...</td>\n    </tr>\n    <tr>\n      <th>169813</th>\n      <td>190000</td>\n      <td>5</td>\n      <td>1</td>\n      <td>[1036, 1066, 112, 159, 202, 227, 230, 283, 307...</td>\n      <td>[616467, 1178208 n1200.000 424566, 679677, 519...</td>\n    </tr>\n    <tr>\n      <th>191082</th>\n      <td>213834</td>\n      <td>1163</td>\n      <td>1</td>\n      <td>[1036, 112, 113, 159, 202, 227, 279, 283, 364,...</td>\n      <td>[1154859, 679677, 426626 703408 1182787, 51976...</td>\n    </tr>\n    <tr>\n      <th>222014</th>\n      <td>248455</td>\n      <td>1349</td>\n      <td>1</td>\n      <td>[112, 159, 202, 214, 227, 283, 364, 6, 678, 69...</td>\n      <td>[679677, 519769, 1267042 1169762 283006 767591...</td>\n    </tr>\n    <tr>\n      <th>229649</th>\n      <td>257040</td>\n      <td>683</td>\n      <td>1</td>\n      <td>[1058, 1092, 112, 159, 202, 283, 348, 364, 461...</td>\n      <td>[n24.000, 1116693, 679677, 519769, 816922, 726...</td>\n    </tr>\n    <tr>\n      <th>240243</th>\n      <td>268883</td>\n      <td>1529</td>\n      <td>1</td>\n      <td>[1036, 1066, 112, 159, 202, 227, 230, 283, 327...</td>\n      <td>[1154859, n162.000 424566, 679677, 519769, 127...</td>\n    </tr>\n    <tr>\n      <th>279464</th>\n      <td>312728</td>\n      <td>1098</td>\n      <td>1</td>\n      <td>[1036, 112, 159, 202, 227, 283, 348, 364, 392,...</td>\n      <td>[1154859 86628, 679677, 519769, 441568, 117762...</td>\n    </tr>\n    <tr>\n      <th>284486</th>\n      <td>318333</td>\n      <td>1293</td>\n      <td>1</td>\n      <td>[1064, 112, 159, 202, 227, 283, 364, 533, 571,...</td>\n      <td>[769062, 679677, 519769, 586600, 741898 150169...</td>\n    </tr>\n    <tr>\n      <th>286073</th>\n      <td>320130</td>\n      <td>707</td>\n      <td>1</td>\n      <td>[1, 1032, 1036, 1037, 1079, 1090, 112, 120, 15...</td>\n      <td>[1021755, [703585 499075 464704 1277894 98606 ...</td>\n    </tr>\n    <tr>\n      <th>298819</th>\n      <td>334401</td>\n      <td>1043</td>\n      <td>1</td>\n      <td>[112, 159, 202, 227, 233, 283, 364, 390, 569, ...</td>\n      <td>[679677, 519769, 1294737 872268, 588652 562911...</td>\n    </tr>\n    <tr>\n      <th>330129</th>\n      <td>369447</td>\n      <td>48</td>\n      <td>1</td>\n      <td>[101, 1036, 1054, 1066, 107, 112, 159, 202, 20...</td>\n      <td>[1116693, 616467, n84.000 639502 n96.000, n240...</td>\n    </tr>\n    <tr>\n      <th>366148</th>\n      <td>409804</td>\n      <td>1191</td>\n      <td>1</td>\n      <td>[112, 124, 159, 202, 227, 283, 348, 364, 407, ...</td>\n      <td>[679677, 769062, 519769, 1048139 990317, 76759...</td>\n    </tr>\n    <tr>\n      <th>371694</th>\n      <td>416017</td>\n      <td>1103</td>\n      <td>1</td>\n      <td>[1036, 112, 159, 202, 214, 227, 267, 283, 364,...</td>\n      <td>[726612, 679677, 519769, 516199 n360.000, 1298...</td>\n    </tr>\n    <tr>\n      <th>376104</th>\n      <td>420960</td>\n      <td>1529</td>\n      <td>1</td>\n      <td>[1036, 1066, 112, 159, 202, 227, 230, 283, 327...</td>\n      <td>[1318567, n138.000 424566, 679677, 519769, 699...</td>\n    </tr>\n    <tr>\n      <th>394744</th>\n      <td>441852</td>\n      <td>959</td>\n      <td>1</td>\n      <td>[1000, 1036, 112, 159, 202, 227, 230, 283, 324...</td>\n      <td>[871215 1022520, 726612, 679677, 519769, 40266...</td>\n    </tr>\n    <tr>\n      <th>397864</th>\n      <td>445351</td>\n      <td>1483</td>\n      <td>1</td>\n      <td>[1, 1032, 1036, 1037, 1079, 1090, 112, 120, 15...</td>\n      <td>[1200832, [703585 499075 464704 1277894 849364...</td>\n    </tr>\n    <tr>\n      <th>402071</th>\n      <td>450082</td>\n      <td>1205</td>\n      <td>1</td>\n      <td>[112, 159, 202, 283, 348, 364, 506, 551, 6, 67...</td>\n      <td>[679677, 519769, 260698 n8400.000 321194, 6685...</td>\n    </tr>\n    <tr>\n      <th>412415</th>\n      <td>461686</td>\n      <td>1037</td>\n      <td>1</td>\n      <td>[112, 159, 19, 202, 227, 28, 283, 364, 521, 55...</td>\n      <td>[679677, 519769, 769062, 245814 237874 171308,...</td>\n    </tr>\n  </tbody>\n</table>\n</div>"
     },
     "execution_count": 13,
     "metadata": {},
     "output_type": "execute_result"
    }
   ],
   "source": [
    "display('user 1233000 bought following itmes', interaction_data[interaction_data['visitorid'] == 1233000])\n",
    "\n",
    "\n",
    "item_data[item_data['itemid'].isin(best_sellers_for_1233000)]"
   ],
   "metadata": {
    "collapsed": false,
    "ExecuteTime": {
     "end_time": "2023-12-01T13:35:30.498489Z",
     "start_time": "2023-12-01T13:35:30.431073Z"
    }
   }
  },
  {
   "cell_type": "code",
   "execution_count": 11,
   "outputs": [
    {
     "data": {
      "text/plain": "        itemid categoryid available  \\\n276916  309858        799         0   \n\n                                               properties  \\\n276916  [1066, 112, 159, 202, 227, 283, 364, 384, 400,...   \n\n                                          property_values  \n276916  [n1260.000 424566, 679677, 519769, 125782 n144...  ",
      "text/html": "<div>\n<style scoped>\n    .dataframe tbody tr th:only-of-type {\n        vertical-align: middle;\n    }\n\n    .dataframe tbody tr th {\n        vertical-align: top;\n    }\n\n    .dataframe thead th {\n        text-align: right;\n    }\n</style>\n<table border=\"1\" class=\"dataframe\">\n  <thead>\n    <tr style=\"text-align: right;\">\n      <th></th>\n      <th>itemid</th>\n      <th>categoryid</th>\n      <th>available</th>\n      <th>properties</th>\n      <th>property_values</th>\n    </tr>\n  </thead>\n  <tbody>\n    <tr>\n      <th>276916</th>\n      <td>309858</td>\n      <td>799</td>\n      <td>0</td>\n      <td>[1066, 112, 159, 202, 227, 283, 364, 384, 400,...</td>\n      <td>[n1260.000 424566, 679677, 519769, 125782 n144...</td>\n    </tr>\n  </tbody>\n</table>\n</div>"
     },
     "metadata": {},
     "output_type": "display_data"
    },
    {
     "data": {
      "text/plain": "        itemid categoryid available  \\\n496        546       1349         1   \n7107      7943        398         1   \n8820      9877        858         1   \n15604    17478       1373         1   \n33069    37029       1483         1   \n41186    46156        720         1   \n42861    48030       1219         1   \n107040  119736         57         1   \n169813  190000          5         1   \n191082  213834       1163         1   \n222014  248455       1349         1   \n229649  257040        683         1   \n240243  268883       1529         1   \n279464  312728       1098         1   \n284486  318333       1293         1   \n286073  320130        707         1   \n298819  334401       1043         1   \n330129  369447         48         1   \n366148  409804       1191         1   \n371694  416017       1103         1   \n376104  420960       1529         1   \n394744  441852        959         1   \n397864  445351       1483         1   \n402071  450082       1205         1   \n412415  461686       1037         1   \n\n                                               properties  \\\n496     [112, 159, 202, 214, 227, 283, 364, 6, 678, 69...   \n7107    [1036, 112, 159, 202, 227, 28, 283, 364, 591, ...   \n8820    [112, 159, 19, 202, 227, 28, 283, 325, 364, 52...   \n15604   [112, 159, 19, 202, 227, 28, 283, 364, 521, 55...   \n33069   [1, 1032, 1036, 1037, 1079, 1090, 112, 120, 15...   \n41186   [112, 159, 202, 28, 283, 348, 364, 6, 678, 680...   \n42861   [112, 159, 202, 227, 283, 329, 364, 377, 415, ...   \n107040  [1081, 112, 159, 202, 227, 283, 364, 470, 6, 6...   \n169813  [1036, 1066, 112, 159, 202, 227, 230, 283, 307...   \n191082  [1036, 112, 113, 159, 202, 227, 279, 283, 364,...   \n222014  [112, 159, 202, 214, 227, 283, 364, 6, 678, 69...   \n229649  [1058, 1092, 112, 159, 202, 283, 348, 364, 461...   \n240243  [1036, 1066, 112, 159, 202, 227, 230, 283, 327...   \n279464  [1036, 112, 159, 202, 227, 283, 348, 364, 392,...   \n284486  [1064, 112, 159, 202, 227, 283, 364, 533, 571,...   \n286073  [1, 1032, 1036, 1037, 1079, 1090, 112, 120, 15...   \n298819  [112, 159, 202, 227, 233, 283, 364, 390, 569, ...   \n330129  [101, 1036, 1054, 1066, 107, 112, 159, 202, 20...   \n366148  [112, 124, 159, 202, 227, 283, 348, 364, 407, ...   \n371694  [1036, 112, 159, 202, 214, 227, 267, 283, 364,...   \n376104  [1036, 1066, 112, 159, 202, 227, 230, 283, 327...   \n394744  [1000, 1036, 112, 159, 202, 227, 230, 283, 324...   \n397864  [1, 1032, 1036, 1037, 1079, 1090, 112, 120, 15...   \n402071  [112, 159, 202, 283, 348, 364, 506, 551, 6, 67...   \n412415  [112, 159, 19, 202, 227, 28, 283, 364, 521, 55...   \n\n                                          property_values  \n496     [679677, 519769, 878840 1169762 283006 767591 ...  \n7107    [1154859, 679677, 519769, 538364, 588652 10914...  \n8820    [679677, 519769, 1297729 n60.000 350726 30603 ...  \n15604   [679677, 519769, 1297729 n36.000 350726 30603 ...  \n33069   [1021755, [703585 499075 1277894 1059922 98606...  \n41186   [679677, 519769, 309399, 266750, 998633 116584...  \n42861   [679677, 519769, 656309, 1324373, 1324373 8960...  \n107040  [769062, 679677, 519769, 1278980 n38496.000, 1...  \n169813  [616467, 1178208 n1200.000 424566, 679677, 519...  \n191082  [1154859, 679677, 426626 703408 1182787, 51976...  \n222014  [679677, 519769, 1267042 1169762 283006 767591...  \n229649  [n24.000, 1116693, 679677, 519769, 816922, 726...  \n240243  [1154859, n162.000 424566, 679677, 519769, 127...  \n279464  [1154859 86628, 679677, 519769, 441568, 117762...  \n284486  [769062, 679677, 519769, 586600, 741898 150169...  \n286073  [1021755, [703585 499075 464704 1277894 98606 ...  \n298819  [679677, 519769, 1294737 872268, 588652 562911...  \n330129  [1116693, 616467, n84.000 639502 n96.000, n240...  \n366148  [679677, 769062, 519769, 1048139 990317, 76759...  \n371694  [726612, 679677, 519769, 516199 n360.000, 1298...  \n376104  [1318567, n138.000 424566, 679677, 519769, 699...  \n394744  [871215 1022520, 726612, 679677, 519769, 40266...  \n397864  [1200832, [703585 499075 464704 1277894 849364...  \n402071  [679677, 519769, 260698 n8400.000 321194, 6685...  \n412415  [679677, 519769, 769062, 245814 237874 171308,...  ",
      "text/html": "<div>\n<style scoped>\n    .dataframe tbody tr th:only-of-type {\n        vertical-align: middle;\n    }\n\n    .dataframe tbody tr th {\n        vertical-align: top;\n    }\n\n    .dataframe thead th {\n        text-align: right;\n    }\n</style>\n<table border=\"1\" class=\"dataframe\">\n  <thead>\n    <tr style=\"text-align: right;\">\n      <th></th>\n      <th>itemid</th>\n      <th>categoryid</th>\n      <th>available</th>\n      <th>properties</th>\n      <th>property_values</th>\n    </tr>\n  </thead>\n  <tbody>\n    <tr>\n      <th>496</th>\n      <td>546</td>\n      <td>1349</td>\n      <td>1</td>\n      <td>[112, 159, 202, 214, 227, 283, 364, 6, 678, 69...</td>\n      <td>[679677, 519769, 878840 1169762 283006 767591 ...</td>\n    </tr>\n    <tr>\n      <th>7107</th>\n      <td>7943</td>\n      <td>398</td>\n      <td>1</td>\n      <td>[1036, 112, 159, 202, 227, 28, 283, 364, 591, ...</td>\n      <td>[1154859, 679677, 519769, 538364, 588652 10914...</td>\n    </tr>\n    <tr>\n      <th>8820</th>\n      <td>9877</td>\n      <td>858</td>\n      <td>1</td>\n      <td>[112, 159, 19, 202, 227, 28, 283, 325, 364, 52...</td>\n      <td>[679677, 519769, 1297729 n60.000 350726 30603 ...</td>\n    </tr>\n    <tr>\n      <th>15604</th>\n      <td>17478</td>\n      <td>1373</td>\n      <td>1</td>\n      <td>[112, 159, 19, 202, 227, 28, 283, 364, 521, 55...</td>\n      <td>[679677, 519769, 1297729 n36.000 350726 30603 ...</td>\n    </tr>\n    <tr>\n      <th>33069</th>\n      <td>37029</td>\n      <td>1483</td>\n      <td>1</td>\n      <td>[1, 1032, 1036, 1037, 1079, 1090, 112, 120, 15...</td>\n      <td>[1021755, [703585 499075 1277894 1059922 98606...</td>\n    </tr>\n    <tr>\n      <th>41186</th>\n      <td>46156</td>\n      <td>720</td>\n      <td>1</td>\n      <td>[112, 159, 202, 28, 283, 348, 364, 6, 678, 680...</td>\n      <td>[679677, 519769, 309399, 266750, 998633 116584...</td>\n    </tr>\n    <tr>\n      <th>42861</th>\n      <td>48030</td>\n      <td>1219</td>\n      <td>1</td>\n      <td>[112, 159, 202, 227, 283, 329, 364, 377, 415, ...</td>\n      <td>[679677, 519769, 656309, 1324373, 1324373 8960...</td>\n    </tr>\n    <tr>\n      <th>107040</th>\n      <td>119736</td>\n      <td>57</td>\n      <td>1</td>\n      <td>[1081, 112, 159, 202, 227, 283, 364, 470, 6, 6...</td>\n      <td>[769062, 679677, 519769, 1278980 n38496.000, 1...</td>\n    </tr>\n    <tr>\n      <th>169813</th>\n      <td>190000</td>\n      <td>5</td>\n      <td>1</td>\n      <td>[1036, 1066, 112, 159, 202, 227, 230, 283, 307...</td>\n      <td>[616467, 1178208 n1200.000 424566, 679677, 519...</td>\n    </tr>\n    <tr>\n      <th>191082</th>\n      <td>213834</td>\n      <td>1163</td>\n      <td>1</td>\n      <td>[1036, 112, 113, 159, 202, 227, 279, 283, 364,...</td>\n      <td>[1154859, 679677, 426626 703408 1182787, 51976...</td>\n    </tr>\n    <tr>\n      <th>222014</th>\n      <td>248455</td>\n      <td>1349</td>\n      <td>1</td>\n      <td>[112, 159, 202, 214, 227, 283, 364, 6, 678, 69...</td>\n      <td>[679677, 519769, 1267042 1169762 283006 767591...</td>\n    </tr>\n    <tr>\n      <th>229649</th>\n      <td>257040</td>\n      <td>683</td>\n      <td>1</td>\n      <td>[1058, 1092, 112, 159, 202, 283, 348, 364, 461...</td>\n      <td>[n24.000, 1116693, 679677, 519769, 816922, 726...</td>\n    </tr>\n    <tr>\n      <th>240243</th>\n      <td>268883</td>\n      <td>1529</td>\n      <td>1</td>\n      <td>[1036, 1066, 112, 159, 202, 227, 230, 283, 327...</td>\n      <td>[1154859, n162.000 424566, 679677, 519769, 127...</td>\n    </tr>\n    <tr>\n      <th>279464</th>\n      <td>312728</td>\n      <td>1098</td>\n      <td>1</td>\n      <td>[1036, 112, 159, 202, 227, 283, 348, 364, 392,...</td>\n      <td>[1154859 86628, 679677, 519769, 441568, 117762...</td>\n    </tr>\n    <tr>\n      <th>284486</th>\n      <td>318333</td>\n      <td>1293</td>\n      <td>1</td>\n      <td>[1064, 112, 159, 202, 227, 283, 364, 533, 571,...</td>\n      <td>[769062, 679677, 519769, 586600, 741898 150169...</td>\n    </tr>\n    <tr>\n      <th>286073</th>\n      <td>320130</td>\n      <td>707</td>\n      <td>1</td>\n      <td>[1, 1032, 1036, 1037, 1079, 1090, 112, 120, 15...</td>\n      <td>[1021755, [703585 499075 464704 1277894 98606 ...</td>\n    </tr>\n    <tr>\n      <th>298819</th>\n      <td>334401</td>\n      <td>1043</td>\n      <td>1</td>\n      <td>[112, 159, 202, 227, 233, 283, 364, 390, 569, ...</td>\n      <td>[679677, 519769, 1294737 872268, 588652 562911...</td>\n    </tr>\n    <tr>\n      <th>330129</th>\n      <td>369447</td>\n      <td>48</td>\n      <td>1</td>\n      <td>[101, 1036, 1054, 1066, 107, 112, 159, 202, 20...</td>\n      <td>[1116693, 616467, n84.000 639502 n96.000, n240...</td>\n    </tr>\n    <tr>\n      <th>366148</th>\n      <td>409804</td>\n      <td>1191</td>\n      <td>1</td>\n      <td>[112, 124, 159, 202, 227, 283, 348, 364, 407, ...</td>\n      <td>[679677, 769062, 519769, 1048139 990317, 76759...</td>\n    </tr>\n    <tr>\n      <th>371694</th>\n      <td>416017</td>\n      <td>1103</td>\n      <td>1</td>\n      <td>[1036, 112, 159, 202, 214, 227, 267, 283, 364,...</td>\n      <td>[726612, 679677, 519769, 516199 n360.000, 1298...</td>\n    </tr>\n    <tr>\n      <th>376104</th>\n      <td>420960</td>\n      <td>1529</td>\n      <td>1</td>\n      <td>[1036, 1066, 112, 159, 202, 227, 230, 283, 327...</td>\n      <td>[1318567, n138.000 424566, 679677, 519769, 699...</td>\n    </tr>\n    <tr>\n      <th>394744</th>\n      <td>441852</td>\n      <td>959</td>\n      <td>1</td>\n      <td>[1000, 1036, 112, 159, 202, 227, 230, 283, 324...</td>\n      <td>[871215 1022520, 726612, 679677, 519769, 40266...</td>\n    </tr>\n    <tr>\n      <th>397864</th>\n      <td>445351</td>\n      <td>1483</td>\n      <td>1</td>\n      <td>[1, 1032, 1036, 1037, 1079, 1090, 112, 120, 15...</td>\n      <td>[1200832, [703585 499075 464704 1277894 849364...</td>\n    </tr>\n    <tr>\n      <th>402071</th>\n      <td>450082</td>\n      <td>1205</td>\n      <td>1</td>\n      <td>[112, 159, 202, 283, 348, 364, 506, 551, 6, 67...</td>\n      <td>[679677, 519769, 260698 n8400.000 321194, 6685...</td>\n    </tr>\n    <tr>\n      <th>412415</th>\n      <td>461686</td>\n      <td>1037</td>\n      <td>1</td>\n      <td>[112, 159, 19, 202, 227, 28, 283, 364, 521, 55...</td>\n      <td>[679677, 519769, 769062, 245814 237874 171308,...</td>\n    </tr>\n  </tbody>\n</table>\n</div>"
     },
     "execution_count": 11,
     "metadata": {},
     "output_type": "execute_result"
    }
   ],
   "source": [
    "display(item_data[item_data['itemid'] == 309858])\n",
    "item_data[item_data['itemid'].isin(bought_together_item_309858)]"
   ],
   "metadata": {
    "collapsed": false,
    "ExecuteTime": {
     "end_time": "2023-12-01T13:28:22.668616Z",
     "start_time": "2023-12-01T13:28:22.584468Z"
    }
   }
  },
  {
   "cell_type": "code",
   "execution_count": null,
   "outputs": [],
   "source": [],
   "metadata": {
    "collapsed": false
   }
  }
 ],
 "metadata": {
  "kernelspec": {
   "display_name": "Python 3",
   "language": "python",
   "name": "python3"
  },
  "language_info": {
   "codemirror_mode": {
    "name": "ipython",
    "version": 2
   },
   "file_extension": ".py",
   "mimetype": "text/x-python",
   "name": "python",
   "nbconvert_exporter": "python",
   "pygments_lexer": "ipython2",
   "version": "2.7.6"
  }
 },
 "nbformat": 4,
 "nbformat_minor": 0
}
