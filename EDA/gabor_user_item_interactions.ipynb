{
 "cells": [
  {
   "cell_type": "code",
   "execution_count": 1,
   "id": "initial_id",
   "metadata": {
    "collapsed": true,
    "ExecuteTime": {
     "end_time": "2023-08-31T06:45:09.947100Z",
     "start_time": "2023-08-31T06:45:09.646801Z"
    }
   },
   "outputs": [],
   "source": [
    "import pandas as pd\n",
    "import numpy as np\n",
    "pd.set_option('display.max_colwidth', None)"
   ]
  },
  {
   "cell_type": "code",
   "execution_count": 2,
   "outputs": [
    {
     "data": {
      "text/plain": "        customer_id                                       order_ids  \\\n0         1940761.0  [5624878, 7011005, 7673667, 8888291, 11032470]   \n1         1940767.0                                       [5108369]   \n2         1940775.0                              [4962102, 6875196]   \n3         1940782.0                                       [7417330]   \n4         1940806.0                                      [10781348]   \n...             ...                                             ...   \n357774   11128024.0                                      [11128020]   \n357775   11128039.0                                      [11128051]   \n357776   11128082.0                                      [11128080]   \n357777   11128095.0                                      [11128092]   \n357778   11128129.0                                      [11128127]   \n\n                                                                                 product_ids  \\\n0       [[4839681, 4839682], [6596395], [6523930], [8642222, 8668342], [10227383, 10227384]]   \n1                                                                       [[3849255, 4822681]]   \n2                                                            [[3907778], [6556855, 6556856]]   \n3                                                                       [[6407177, 6435918]]   \n4                                                                                [[8642140]]   \n...                                                                                      ...   \n357774                                                                  [[589817, 10560958]]   \n357775                                                                          [[10451840]]   \n357776                                                                          [[10559336]]   \n357777                                                                          [[10504300]]   \n357778                                                                          [[10366497]]   \n\n                                                                                                                                                                                                                                                                                                            product_names  \\\n0       [[PG1018 Slipper Materialmix Leder/Textil grün, PG1018 Slipper Materialmix Leder/Textil grün], [7302 Hausschuhe Textil rot], [PG6000 Pantolette Textil blau], [Schnürstiefelette Glattleder schwarz, Winterstiefelette Glattleder schwarz], [PG8001 Sneaker low Rauleder grau, PG8001 Sneaker low Rauleder grau]]   \n1                                                                                                                                                                                                                                                              [[Spangenpumps Textil silber, Plateau Pumps Rauleder rot]]   \n2                                                                                                                                                                                                                                 [[Chelsea Boot Rauleder schwarz], [Slipper Rauleder schwarz, Slipper Rauleder schwarz]]   \n3                                                                                                                                                                                                                                       [[Elegante Stiefelette Glattleder schwarz, Winterstiefelette Glattleder schwarz]]   \n4                                                                                                                                                                                                                                                                                       [[Chelsea Boot Rauleder schwarz]]   \n...                                                                                                                                                                                                                                                                                                                   ...   \n357774                                                                                                                                                                                                                                            [[Eleganter Pumps Glattleder blau, Eleganter Pumps Glattleder schwarz]]   \n357775                                                                                                                                                                                                                                                                                      [[Sneaker low Rauleder pink]]   \n357776                                                                                                                                                                                                                                                                              [[Eleganter Pumps Effektleder beige]]   \n357777                                                                                                                                                                                                                                                                             [[Sneaker low Materialmix Leder pink]]   \n357778                                                                                                                                                                                                                                                                             [[Sneaker low Materialmix Leder weiß]]   \n\n                                   amounts  \\\n0       [[1, 1], [1], [1], [1, 1], [1, 1]]   \n1                                 [[1, 1]]   \n2                            [[1], [1, 1]]   \n3                                 [[1, 1]]   \n4                                    [[1]]   \n...                                    ...   \n357774                            [[1, 1]]   \n357775                               [[1]]   \n357776                               [[1]]   \n357777                               [[1]]   \n357778                               [[1]]   \n\n                                                              total_prices  \\\n0       [[62.65, 62.65], [51.77], [46.77], [96.69, 91.69], [86.69, 86.69]]   \n1                                                         [[99.95, 99.95]]   \n2                                                 [[69.0], [99.95, 99.95]]   \n3                                                         [[125.0, 99.95]]   \n4                                                                 [[69.0]]   \n...                                                                    ...   \n357774                                                    [[89.95, 99.95]]   \n357775                                                           [[120.0]]   \n357776                                                           [[110.0]]   \n357777                                                           [[115.0]]   \n357778                                                           [[140.0]]   \n\n                                                                                                       order_dates  \n0       [[1618487327, 1618487327], [1633324590], [1639662211], [1655121717, 1655121717], [1678768911, 1678768911]]  \n1                                                                                       [[1612878241, 1612878241]]  \n2                                                                         [[1611064682], [1632138724, 1632138724]]  \n3                                                                                       [[1636809128, 1636809128]]  \n4                                                                                                   [[1676378784]]  \n...                                                                                                            ...  \n357774                                                                                  [[1679567301, 1679567301]]  \n357775                                                                                              [[1679567402]]  \n357776                                                                                              [[1679567490]]  \n357777                                                                                              [[1679567542]]  \n357778                                                                                              [[1679567620]]  \n\n[357779 rows x 7 columns]",
      "text/html": "<div>\n<style scoped>\n    .dataframe tbody tr th:only-of-type {\n        vertical-align: middle;\n    }\n\n    .dataframe tbody tr th {\n        vertical-align: top;\n    }\n\n    .dataframe thead th {\n        text-align: right;\n    }\n</style>\n<table border=\"1\" class=\"dataframe\">\n  <thead>\n    <tr style=\"text-align: right;\">\n      <th></th>\n      <th>customer_id</th>\n      <th>order_ids</th>\n      <th>product_ids</th>\n      <th>product_names</th>\n      <th>amounts</th>\n      <th>total_prices</th>\n      <th>order_dates</th>\n    </tr>\n  </thead>\n  <tbody>\n    <tr>\n      <th>0</th>\n      <td>1940761.0</td>\n      <td>[5624878, 7011005, 7673667, 8888291, 11032470]</td>\n      <td>[[4839681, 4839682], [6596395], [6523930], [8642222, 8668342], [10227383, 10227384]]</td>\n      <td>[[PG1018 Slipper Materialmix Leder/Textil grün, PG1018 Slipper Materialmix Leder/Textil grün], [7302 Hausschuhe Textil rot], [PG6000 Pantolette Textil blau], [Schnürstiefelette Glattleder schwarz, Winterstiefelette Glattleder schwarz], [PG8001 Sneaker low Rauleder grau, PG8001 Sneaker low Rauleder grau]]</td>\n      <td>[[1, 1], [1], [1], [1, 1], [1, 1]]</td>\n      <td>[[62.65, 62.65], [51.77], [46.77], [96.69, 91.69], [86.69, 86.69]]</td>\n      <td>[[1618487327, 1618487327], [1633324590], [1639662211], [1655121717, 1655121717], [1678768911, 1678768911]]</td>\n    </tr>\n    <tr>\n      <th>1</th>\n      <td>1940767.0</td>\n      <td>[5108369]</td>\n      <td>[[3849255, 4822681]]</td>\n      <td>[[Spangenpumps Textil silber, Plateau Pumps Rauleder rot]]</td>\n      <td>[[1, 1]]</td>\n      <td>[[99.95, 99.95]]</td>\n      <td>[[1612878241, 1612878241]]</td>\n    </tr>\n    <tr>\n      <th>2</th>\n      <td>1940775.0</td>\n      <td>[4962102, 6875196]</td>\n      <td>[[3907778], [6556855, 6556856]]</td>\n      <td>[[Chelsea Boot Rauleder schwarz], [Slipper Rauleder schwarz, Slipper Rauleder schwarz]]</td>\n      <td>[[1], [1, 1]]</td>\n      <td>[[69.0], [99.95, 99.95]]</td>\n      <td>[[1611064682], [1632138724, 1632138724]]</td>\n    </tr>\n    <tr>\n      <th>3</th>\n      <td>1940782.0</td>\n      <td>[7417330]</td>\n      <td>[[6407177, 6435918]]</td>\n      <td>[[Elegante Stiefelette Glattleder schwarz, Winterstiefelette Glattleder schwarz]]</td>\n      <td>[[1, 1]]</td>\n      <td>[[125.0, 99.95]]</td>\n      <td>[[1636809128, 1636809128]]</td>\n    </tr>\n    <tr>\n      <th>4</th>\n      <td>1940806.0</td>\n      <td>[10781348]</td>\n      <td>[[8642140]]</td>\n      <td>[[Chelsea Boot Rauleder schwarz]]</td>\n      <td>[[1]]</td>\n      <td>[[69.0]]</td>\n      <td>[[1676378784]]</td>\n    </tr>\n    <tr>\n      <th>...</th>\n      <td>...</td>\n      <td>...</td>\n      <td>...</td>\n      <td>...</td>\n      <td>...</td>\n      <td>...</td>\n      <td>...</td>\n    </tr>\n    <tr>\n      <th>357774</th>\n      <td>11128024.0</td>\n      <td>[11128020]</td>\n      <td>[[589817, 10560958]]</td>\n      <td>[[Eleganter Pumps Glattleder blau, Eleganter Pumps Glattleder schwarz]]</td>\n      <td>[[1, 1]]</td>\n      <td>[[89.95, 99.95]]</td>\n      <td>[[1679567301, 1679567301]]</td>\n    </tr>\n    <tr>\n      <th>357775</th>\n      <td>11128039.0</td>\n      <td>[11128051]</td>\n      <td>[[10451840]]</td>\n      <td>[[Sneaker low Rauleder pink]]</td>\n      <td>[[1]]</td>\n      <td>[[120.0]]</td>\n      <td>[[1679567402]]</td>\n    </tr>\n    <tr>\n      <th>357776</th>\n      <td>11128082.0</td>\n      <td>[11128080]</td>\n      <td>[[10559336]]</td>\n      <td>[[Eleganter Pumps Effektleder beige]]</td>\n      <td>[[1]]</td>\n      <td>[[110.0]]</td>\n      <td>[[1679567490]]</td>\n    </tr>\n    <tr>\n      <th>357777</th>\n      <td>11128095.0</td>\n      <td>[11128092]</td>\n      <td>[[10504300]]</td>\n      <td>[[Sneaker low Materialmix Leder pink]]</td>\n      <td>[[1]]</td>\n      <td>[[115.0]]</td>\n      <td>[[1679567542]]</td>\n    </tr>\n    <tr>\n      <th>357778</th>\n      <td>11128129.0</td>\n      <td>[11128127]</td>\n      <td>[[10366497]]</td>\n      <td>[[Sneaker low Materialmix Leder weiß]]</td>\n      <td>[[1]]</td>\n      <td>[[140.0]]</td>\n      <td>[[1679567620]]</td>\n    </tr>\n  </tbody>\n</table>\n<p>357779 rows × 7 columns</p>\n</div>"
     },
     "metadata": {},
     "output_type": "display_data"
    }
   ],
   "source": [
    "basepath = '../datasets/preprocessed_datasets/gabor/'\n",
    "product_data = pd.read_pickle(basepath +'orders_and_products_by_customer.pkl')\n",
    "# product_data = product_data.sample(n=1000)\n",
    "display(product_data)"
   ],
   "metadata": {
    "collapsed": false,
    "ExecuteTime": {
     "end_time": "2023-08-31T06:45:11.435209Z",
     "start_time": "2023-08-31T06:45:09.947965Z"
    }
   },
   "id": "ebe1d578b0d92d90"
  },
  {
   "cell_type": "code",
   "execution_count": 3,
   "outputs": [],
   "source": [
    "interactions = []\n",
    "for _, row in product_data.iterrows():\n",
    "    customer_id = int(row['customer_id'])\n",
    "    order_ids = row['order_ids']\n",
    "    product_ids = row['product_ids']\n",
    "    amounts = row['amounts']\n",
    "\n",
    "    for order_id, product_ids2, amounts2 in zip(order_ids, product_ids, amounts):\n",
    "        count = 0\n",
    "        for product_id, amount in zip (product_ids2, amounts2):\n",
    "            interactions.append({'customer_id': customer_id, 'product_id': product_id, 'amount': amount})\n",
    "\n",
    "# Create user-item interaction DataFrame\n",
    "interaction_df = pd.DataFrame(interactions)\n",
    "# display(interaction_df, interaction_df[interaction_df['customer_id'] == 2156113.0])\n",
    "# Group by customer_id and product_id, summing up the amounts\n",
    "user_item_interaction = interaction_df.groupby(['customer_id', 'product_id'], as_index=False).sum()\n"
   ],
   "metadata": {
    "collapsed": false,
    "ExecuteTime": {
     "end_time": "2023-08-31T06:45:19.112665Z",
     "start_time": "2023-08-31T06:45:11.434787Z"
    }
   },
   "id": "e331950ff78ec21e"
  },
  {
   "cell_type": "code",
   "execution_count": 4,
   "outputs": [
    {
     "data": {
      "text/plain": "        customer_id  product_id  amount\n0           1940761     4839681       1\n1           1940761     4839682       1\n2           1940761     6523930       1\n3           1940761     6596395       1\n4           1940761     8642222       1\n...             ...         ...     ...\n644783     11128024    10560958       1\n644784     11128039    10451840       1\n644785     11128082    10559336       1\n644786     11128095    10504300       1\n644787     11128129    10366497       1\n\n[644788 rows x 3 columns]",
      "text/html": "<div>\n<style scoped>\n    .dataframe tbody tr th:only-of-type {\n        vertical-align: middle;\n    }\n\n    .dataframe tbody tr th {\n        vertical-align: top;\n    }\n\n    .dataframe thead th {\n        text-align: right;\n    }\n</style>\n<table border=\"1\" class=\"dataframe\">\n  <thead>\n    <tr style=\"text-align: right;\">\n      <th></th>\n      <th>customer_id</th>\n      <th>product_id</th>\n      <th>amount</th>\n    </tr>\n  </thead>\n  <tbody>\n    <tr>\n      <th>0</th>\n      <td>1940761</td>\n      <td>4839681</td>\n      <td>1</td>\n    </tr>\n    <tr>\n      <th>1</th>\n      <td>1940761</td>\n      <td>4839682</td>\n      <td>1</td>\n    </tr>\n    <tr>\n      <th>2</th>\n      <td>1940761</td>\n      <td>6523930</td>\n      <td>1</td>\n    </tr>\n    <tr>\n      <th>3</th>\n      <td>1940761</td>\n      <td>6596395</td>\n      <td>1</td>\n    </tr>\n    <tr>\n      <th>4</th>\n      <td>1940761</td>\n      <td>8642222</td>\n      <td>1</td>\n    </tr>\n    <tr>\n      <th>...</th>\n      <td>...</td>\n      <td>...</td>\n      <td>...</td>\n    </tr>\n    <tr>\n      <th>644783</th>\n      <td>11128024</td>\n      <td>10560958</td>\n      <td>1</td>\n    </tr>\n    <tr>\n      <th>644784</th>\n      <td>11128039</td>\n      <td>10451840</td>\n      <td>1</td>\n    </tr>\n    <tr>\n      <th>644785</th>\n      <td>11128082</td>\n      <td>10559336</td>\n      <td>1</td>\n    </tr>\n    <tr>\n      <th>644786</th>\n      <td>11128095</td>\n      <td>10504300</td>\n      <td>1</td>\n    </tr>\n    <tr>\n      <th>644787</th>\n      <td>11128129</td>\n      <td>10366497</td>\n      <td>1</td>\n    </tr>\n  </tbody>\n</table>\n<p>644788 rows × 3 columns</p>\n</div>"
     },
     "metadata": {},
     "output_type": "display_data"
    }
   ],
   "source": [
    "display(user_item_interaction)"
   ],
   "metadata": {
    "collapsed": false,
    "ExecuteTime": {
     "end_time": "2023-08-31T06:45:19.119385Z",
     "start_time": "2023-08-31T06:45:19.114727Z"
    }
   },
   "id": "41208d5a89930a34"
  },
  {
   "cell_type": "code",
   "execution_count": 5,
   "outputs": [],
   "source": [
    "user_item_interaction.to_pickle(basepath + 'user_item_interactions.pkl')\n"
   ],
   "metadata": {
    "collapsed": false,
    "ExecuteTime": {
     "end_time": "2023-08-31T06:45:19.126447Z",
     "start_time": "2023-08-31T06:45:19.119698Z"
    }
   },
   "id": "505878dfa20ee991"
  },
  {
   "cell_type": "markdown",
   "source": [
    "## create a table with only the main products"
   ],
   "metadata": {
    "collapsed": false
   },
   "id": "5bdf06270e848e98"
  },
  {
   "cell_type": "code",
   "execution_count": 6,
   "outputs": [
    {
     "data": {
      "text/plain": "      main_product_id  productNumber  \\\n0              557559  4058394021466   \n1              551622  4054452768212   \n2              547193  4054452768427   \n3              549776  4059701687894   \n4              550726  4054452851594   \n...               ...            ...   \n3292         10603553  4066558951733   \n3293         10442948  4065171827272   \n3294         10782704  4251234499207   \n3295         10679703  4066558303617   \n3296         10496278  4065171812513   \n\n                                              productName productColorName  \\\n0                sportliche Ballerinas Glattleder schwarz          schwarz   \n1                       elegante Pumps Glattleder schwarz          schwarz   \n2                              Slipper Glattleder schwarz          schwarz   \n3                               Sneaker low Rauleder blau             blau   \n4     elegante Ballerinas Materialmix Lederimitat schwarz          schwarz   \n...                                                   ...              ...   \n3292                  Sandale met plateauzool Suède blauw            blauw   \n3293                      Mokassin Materialmix Leder pink             pink   \n3294                                   Shopper ANDIE blau             blau   \n3295                         Elegante pumps Glad leer wit              wit   \n3296                         Sandale compensée Daim beige            beige   \n\n     articleNumber  brand__id  mainCategory__id gender originCountry     line  \\\n0        02.643.57    6590678            315571      w            PT  F-S|H-W   \n1        05.160.37    6590677            315573      w            PT  F-S|H-W   \n2        04.443.27    6590677            315576      w            SK  F-S|H-W   \n3        06.968.46    4997827            315567      w            VN  F-S|H-W   \n4        06.102.67    6590678            315574      w            SK  F-S|H-W   \n...            ...        ...               ...    ...           ...      ...   \n3292     24.764.36    6590677            315568      w            SK      F-S   \n3293     26.090.21    6590678            315590      w            PT      F-S   \n3294        921453     363013            363017      w            DE      F-S   \n3295     21.450.60    6590677            315573      w            PT      F-S   \n3296     24.645.14    6590677            315564      w            PT      F-S   \n\n      ...  heelHeightGroup sizeEu  sizeUk  sizeIndex  shaftLength__value  \\\n0     ...         bis 3 cm   40.0     6.5       11.0                 0.0   \n1     ...      3 cm - 5 cm   38.0     5.0        8.0                 0.0   \n2     ...      3 cm - 5 cm   42.0     8.0       14.0                 0.0   \n3     ...      3 cm - 5 cm   39.0     6.0       10.0                 0.0   \n4     ...         bis 3 cm   37.5     4.5        7.0                 0.0   \n...   ...              ...    ...     ...        ...                 ...   \n3292  ...      5 cm - 8 cm   35.0     2.5        3.0                 0.0   \n3293  ...         bis 3 cm   40.5     7.0       12.0                 0.0   \n3294  ...              NaN    NaN     NaN        NaN                 NaN   \n3295  ...      5 cm - 8 cm   35.0     2.5        3.0                 0.0   \n3296  ...      5 cm - 8 cm   38.0     5.0        8.0                 0.0   \n\n           sole  isTransferee isSuccessor  \\\n0         Gummi           0.0         0.0   \n1           EVA           0.0         0.0   \n2        PU-TPU           0.0         0.0   \n3     Gummi-EVA           0.0         0.0   \n4           EVA           0.0         0.0   \n...         ...           ...         ...   \n3292     PU-TPU           0.0         0.0   \n3293      Gummi           0.0         0.0   \n3294        NaN           NaN         NaN   \n3295        TPU           0.0         0.0   \n3296         TR           0.0         0.0   \n\n                                                                                                                                                                                                                                                                                                                                                                                                                                                                                                                                                                                                                                                                                                                                                                                                                                                                                                          duplicate_product__ids  \\\n0                                                                                                                                                                                                                                                                                                                                                                                                                                                                                                                                                                                                                                                                                                       [557559, 549733, 549734, 557553, 589488, 589480, 589481, 589486, 549735, 589489, 589477, 589490, 589483, 589479, 557556, 589485, 589482, 589478, 589475, 549732, 549729, 549730, 589484, 549738, 549731, 557561, 589487]   \n1                                                                                                                                                                                                                                                                                                                                                                                       [551622, 551505, 551510, 551509, 552973, 551621, 551501, 551503, 551502, 556960, 551628, 552970, 556954, 556964, 552966, 551500, 551629, 604774, 604773, 604772, 551508, 604776, 552972, 551617, 552969, 604771, 556958, 604778, 551630, 556952, 551620, 551627, 604782, 604775, 551504, 551506, 551619, 604769, 552975, 552974, 604768, 551507, 552971, 556956, 551623, 551511, 551626, 604780, 552964, 604779, 551631, 551624, 556953, 604777, 551512, 552968, 552963, 552962, 552976, 604770, 552967, 556951, 556961, 556955, 556950]   \n2     [547193, 547191, 547196, 547187, 547189, 547195, 547192, 547190, 547185, 547188, 547182, 547183, 547184, 547194, 547186, 3483121, 3483123, 3483120, 3554723, 3554724, 3554732, 3554725, 3554729, 3483124, 3483129, 3591864, 3591866, 3554731, 3483128, 3694614, 3694623, 3694616, 3554730, 3711336, 3483126, 3554733, 3694625, 3483133, 3711328, 3711335, 3592196, 3711332, 3554726, 3743383, 3592206, 3743385, 3694615, 3483127, 3694613, 3711737, 3743393, 3743384, 3591852, 3711337, 3592197, 3591857, 3591859, 3743382, 3743390, 3591865, 3483122, 3743388, 3591855, 3743387, 3483134, 3592199, 3592202, 3483125, 3694618, 3591860, 3743392, 3743389, 3592208, 3592198, 3483131, 3591853, 3694621, 3592207, 3592203, 3711330, 3554734, 3711334, 3743386, 3554728, 3694617, 4030773, 3694622, 3743391, 3711331, 3711329, 4093389, 3694612, 4093391, 4093397, 4030774, 3711324, 4030778, 4030777, 4093398, 4030776, ...]   \n3                  [549776, 550599, 550596, 550593, 550601, 549780, 549778, 549779, 550594, 550595, 549781, 550597, 550598, 549775, 550602, 549782, 550588, 549777, 549783, 549774, 549773, 550592, 550600, 550589, 550604, 549770, 549771, 550591, 3478987, 3505296, 3505294, 3479430, 3505289, 3479436, 3478986, 3555129, 3479431, 3479432, 3505288, 3591679, 3478985, 3591667, 3505293, 3479429, 3555125, 3591672, 3479434, 3591798, 3555126, 3591674, 3555130, 3591675, 3591668, 3555124, 3591797, 3591669, 3591803, 3591680, 3591681, 3478990, 3591793, 3591799, 3591796, 3505775, 3505292, 3504385, 3505768, 3479433, 3711254, 3479437, 3591673, 3711249, 3505771, 3555123, 3505769, 3505772, 3711248, 3478988, 3505776, 3505778, 3479435, 3692987, 3711244, 3711251, 3711257, 3711258, 3787796, 3479424, 3787792, 3845553, 3845549, 3845547, 3845546, 3847557, 3787799, 3847554, 3591671, 3479425, 3847731, 3591790, ...]   \n4                                                                                                                                                                                                                                                                                                                                                                                                                                                                                                                                                                                                                                                                                                                                                                                                                       [550726, 550736, 550735, 550732, 550728, 550722, 550729, 550731, 550727, 550733, 550734, 550730, 550725]   \n...                                                                                                                                                                                                                                                                                                                                                                                                                                                                                                                                                                                                                                                                                                                                                                                                                                                                                                                          ...   \n3292                                                                                                                                                                                                                                                                                                                                                                                                                                                                                                                                                                                                                                                                                                                                                                                                                                                                                                        [10603553, 10544662]   \n3293                                                                                                                                                                                                                                                                                                                                                                                                                                                                                                                                                                                                                                                                                                                                                                                                                                                                                                        [10442948, 10442949]   \n3294                                                                                                                                                                                                                                                                                                                                                                                                                                                                                                                                                                                                                                                                                                                                                                                                                                                                                                                  [10782704]   \n3295                                                                                                                                                                                                                                                                                                                                                                                                                                                                                                                                                                                                                                                                                                                                                                                                                                                                                                                  [10679703]   \n3296                                                                                                                                                                                                                                                                                                                                                                                                                                                                                                                                                                                                                                                                                                                                                                                                                                                                                                                  [10496278]   \n\n                                                                                               product_sizes  \n0           [35.5, 36.0, 37.0, 37.5, 38.0, 38.5, 39.0, 40.0, 40.5, 41.0, 42.0, 42.5, 43.0, 44.0, 44.5, 46.0]  \n1           [35.0, 35.5, 36.0, 37.0, 37.5, 38.0, 38.5, 39.0, 40.0, 40.5, 41.0, 42.0, 42.5, 43.0, 44.0, 44.5]  \n2                 [35.0, 35.5, 36.0, 37.0, 37.5, 38.0, 38.5, 39.0, 40.0, 40.5, 41.0, 42.0, 42.5, 43.0, 44.0]  \n3     [35.0, 35.5, 36.0, 37.0, 37.5, 38.0, 38.5, 39.0, 40.0, 40.5, 41.0, 42.0, 42.5, 43.0, 44.0, 44.5, 46.0]  \n4                             [35.0, 37.0, 37.5, 38.0, 38.5, 39.0, 40.0, 40.5, 41.0, 42.0, 42.5, 43.0, 44.0]  \n...                                                                                                      ...  \n3292                                                                                            [35.0, 37.0]  \n3293                                                                                            [40.5, 41.0]  \n3294                                                                                                      []  \n3295                                                                                                  [35.0]  \n3296                                                                                                  [38.0]  \n\n[3297 rows x 56 columns]",
      "text/html": "<div>\n<style scoped>\n    .dataframe tbody tr th:only-of-type {\n        vertical-align: middle;\n    }\n\n    .dataframe tbody tr th {\n        vertical-align: top;\n    }\n\n    .dataframe thead th {\n        text-align: right;\n    }\n</style>\n<table border=\"1\" class=\"dataframe\">\n  <thead>\n    <tr style=\"text-align: right;\">\n      <th></th>\n      <th>main_product_id</th>\n      <th>productNumber</th>\n      <th>productName</th>\n      <th>productColorName</th>\n      <th>articleNumber</th>\n      <th>brand__id</th>\n      <th>mainCategory__id</th>\n      <th>gender</th>\n      <th>originCountry</th>\n      <th>line</th>\n      <th>...</th>\n      <th>heelHeightGroup</th>\n      <th>sizeEu</th>\n      <th>sizeUk</th>\n      <th>sizeIndex</th>\n      <th>shaftLength__value</th>\n      <th>sole</th>\n      <th>isTransferee</th>\n      <th>isSuccessor</th>\n      <th>duplicate_product__ids</th>\n      <th>product_sizes</th>\n    </tr>\n  </thead>\n  <tbody>\n    <tr>\n      <th>0</th>\n      <td>557559</td>\n      <td>4058394021466</td>\n      <td>sportliche Ballerinas Glattleder schwarz</td>\n      <td>schwarz</td>\n      <td>02.643.57</td>\n      <td>6590678</td>\n      <td>315571</td>\n      <td>w</td>\n      <td>PT</td>\n      <td>F-S|H-W</td>\n      <td>...</td>\n      <td>bis 3 cm</td>\n      <td>40.0</td>\n      <td>6.5</td>\n      <td>11.0</td>\n      <td>0.0</td>\n      <td>Gummi</td>\n      <td>0.0</td>\n      <td>0.0</td>\n      <td>[557559, 549733, 549734, 557553, 589488, 589480, 589481, 589486, 549735, 589489, 589477, 589490, 589483, 589479, 557556, 589485, 589482, 589478, 589475, 549732, 549729, 549730, 589484, 549738, 549731, 557561, 589487]</td>\n      <td>[35.5, 36.0, 37.0, 37.5, 38.0, 38.5, 39.0, 40.0, 40.5, 41.0, 42.0, 42.5, 43.0, 44.0, 44.5, 46.0]</td>\n    </tr>\n    <tr>\n      <th>1</th>\n      <td>551622</td>\n      <td>4054452768212</td>\n      <td>elegante Pumps Glattleder schwarz</td>\n      <td>schwarz</td>\n      <td>05.160.37</td>\n      <td>6590677</td>\n      <td>315573</td>\n      <td>w</td>\n      <td>PT</td>\n      <td>F-S|H-W</td>\n      <td>...</td>\n      <td>3 cm - 5 cm</td>\n      <td>38.0</td>\n      <td>5.0</td>\n      <td>8.0</td>\n      <td>0.0</td>\n      <td>EVA</td>\n      <td>0.0</td>\n      <td>0.0</td>\n      <td>[551622, 551505, 551510, 551509, 552973, 551621, 551501, 551503, 551502, 556960, 551628, 552970, 556954, 556964, 552966, 551500, 551629, 604774, 604773, 604772, 551508, 604776, 552972, 551617, 552969, 604771, 556958, 604778, 551630, 556952, 551620, 551627, 604782, 604775, 551504, 551506, 551619, 604769, 552975, 552974, 604768, 551507, 552971, 556956, 551623, 551511, 551626, 604780, 552964, 604779, 551631, 551624, 556953, 604777, 551512, 552968, 552963, 552962, 552976, 604770, 552967, 556951, 556961, 556955, 556950]</td>\n      <td>[35.0, 35.5, 36.0, 37.0, 37.5, 38.0, 38.5, 39.0, 40.0, 40.5, 41.0, 42.0, 42.5, 43.0, 44.0, 44.5]</td>\n    </tr>\n    <tr>\n      <th>2</th>\n      <td>547193</td>\n      <td>4054452768427</td>\n      <td>Slipper Glattleder schwarz</td>\n      <td>schwarz</td>\n      <td>04.443.27</td>\n      <td>6590677</td>\n      <td>315576</td>\n      <td>w</td>\n      <td>SK</td>\n      <td>F-S|H-W</td>\n      <td>...</td>\n      <td>3 cm - 5 cm</td>\n      <td>42.0</td>\n      <td>8.0</td>\n      <td>14.0</td>\n      <td>0.0</td>\n      <td>PU-TPU</td>\n      <td>0.0</td>\n      <td>0.0</td>\n      <td>[547193, 547191, 547196, 547187, 547189, 547195, 547192, 547190, 547185, 547188, 547182, 547183, 547184, 547194, 547186, 3483121, 3483123, 3483120, 3554723, 3554724, 3554732, 3554725, 3554729, 3483124, 3483129, 3591864, 3591866, 3554731, 3483128, 3694614, 3694623, 3694616, 3554730, 3711336, 3483126, 3554733, 3694625, 3483133, 3711328, 3711335, 3592196, 3711332, 3554726, 3743383, 3592206, 3743385, 3694615, 3483127, 3694613, 3711737, 3743393, 3743384, 3591852, 3711337, 3592197, 3591857, 3591859, 3743382, 3743390, 3591865, 3483122, 3743388, 3591855, 3743387, 3483134, 3592199, 3592202, 3483125, 3694618, 3591860, 3743392, 3743389, 3592208, 3592198, 3483131, 3591853, 3694621, 3592207, 3592203, 3711330, 3554734, 3711334, 3743386, 3554728, 3694617, 4030773, 3694622, 3743391, 3711331, 3711329, 4093389, 3694612, 4093391, 4093397, 4030774, 3711324, 4030778, 4030777, 4093398, 4030776, ...]</td>\n      <td>[35.0, 35.5, 36.0, 37.0, 37.5, 38.0, 38.5, 39.0, 40.0, 40.5, 41.0, 42.0, 42.5, 43.0, 44.0]</td>\n    </tr>\n    <tr>\n      <th>3</th>\n      <td>549776</td>\n      <td>4059701687894</td>\n      <td>Sneaker low Rauleder blau</td>\n      <td>blau</td>\n      <td>06.968.46</td>\n      <td>4997827</td>\n      <td>315567</td>\n      <td>w</td>\n      <td>VN</td>\n      <td>F-S|H-W</td>\n      <td>...</td>\n      <td>3 cm - 5 cm</td>\n      <td>39.0</td>\n      <td>6.0</td>\n      <td>10.0</td>\n      <td>0.0</td>\n      <td>Gummi-EVA</td>\n      <td>0.0</td>\n      <td>0.0</td>\n      <td>[549776, 550599, 550596, 550593, 550601, 549780, 549778, 549779, 550594, 550595, 549781, 550597, 550598, 549775, 550602, 549782, 550588, 549777, 549783, 549774, 549773, 550592, 550600, 550589, 550604, 549770, 549771, 550591, 3478987, 3505296, 3505294, 3479430, 3505289, 3479436, 3478986, 3555129, 3479431, 3479432, 3505288, 3591679, 3478985, 3591667, 3505293, 3479429, 3555125, 3591672, 3479434, 3591798, 3555126, 3591674, 3555130, 3591675, 3591668, 3555124, 3591797, 3591669, 3591803, 3591680, 3591681, 3478990, 3591793, 3591799, 3591796, 3505775, 3505292, 3504385, 3505768, 3479433, 3711254, 3479437, 3591673, 3711249, 3505771, 3555123, 3505769, 3505772, 3711248, 3478988, 3505776, 3505778, 3479435, 3692987, 3711244, 3711251, 3711257, 3711258, 3787796, 3479424, 3787792, 3845553, 3845549, 3845547, 3845546, 3847557, 3787799, 3847554, 3591671, 3479425, 3847731, 3591790, ...]</td>\n      <td>[35.0, 35.5, 36.0, 37.0, 37.5, 38.0, 38.5, 39.0, 40.0, 40.5, 41.0, 42.0, 42.5, 43.0, 44.0, 44.5, 46.0]</td>\n    </tr>\n    <tr>\n      <th>4</th>\n      <td>550726</td>\n      <td>4054452851594</td>\n      <td>elegante Ballerinas Materialmix Lederimitat schwarz</td>\n      <td>schwarz</td>\n      <td>06.102.67</td>\n      <td>6590678</td>\n      <td>315574</td>\n      <td>w</td>\n      <td>SK</td>\n      <td>F-S|H-W</td>\n      <td>...</td>\n      <td>bis 3 cm</td>\n      <td>37.5</td>\n      <td>4.5</td>\n      <td>7.0</td>\n      <td>0.0</td>\n      <td>EVA</td>\n      <td>0.0</td>\n      <td>0.0</td>\n      <td>[550726, 550736, 550735, 550732, 550728, 550722, 550729, 550731, 550727, 550733, 550734, 550730, 550725]</td>\n      <td>[35.0, 37.0, 37.5, 38.0, 38.5, 39.0, 40.0, 40.5, 41.0, 42.0, 42.5, 43.0, 44.0]</td>\n    </tr>\n    <tr>\n      <th>...</th>\n      <td>...</td>\n      <td>...</td>\n      <td>...</td>\n      <td>...</td>\n      <td>...</td>\n      <td>...</td>\n      <td>...</td>\n      <td>...</td>\n      <td>...</td>\n      <td>...</td>\n      <td>...</td>\n      <td>...</td>\n      <td>...</td>\n      <td>...</td>\n      <td>...</td>\n      <td>...</td>\n      <td>...</td>\n      <td>...</td>\n      <td>...</td>\n      <td>...</td>\n      <td>...</td>\n    </tr>\n    <tr>\n      <th>3292</th>\n      <td>10603553</td>\n      <td>4066558951733</td>\n      <td>Sandale met plateauzool Suède blauw</td>\n      <td>blauw</td>\n      <td>24.764.36</td>\n      <td>6590677</td>\n      <td>315568</td>\n      <td>w</td>\n      <td>SK</td>\n      <td>F-S</td>\n      <td>...</td>\n      <td>5 cm - 8 cm</td>\n      <td>35.0</td>\n      <td>2.5</td>\n      <td>3.0</td>\n      <td>0.0</td>\n      <td>PU-TPU</td>\n      <td>0.0</td>\n      <td>0.0</td>\n      <td>[10603553, 10544662]</td>\n      <td>[35.0, 37.0]</td>\n    </tr>\n    <tr>\n      <th>3293</th>\n      <td>10442948</td>\n      <td>4065171827272</td>\n      <td>Mokassin Materialmix Leder pink</td>\n      <td>pink</td>\n      <td>26.090.21</td>\n      <td>6590678</td>\n      <td>315590</td>\n      <td>w</td>\n      <td>PT</td>\n      <td>F-S</td>\n      <td>...</td>\n      <td>bis 3 cm</td>\n      <td>40.5</td>\n      <td>7.0</td>\n      <td>12.0</td>\n      <td>0.0</td>\n      <td>Gummi</td>\n      <td>0.0</td>\n      <td>0.0</td>\n      <td>[10442948, 10442949]</td>\n      <td>[40.5, 41.0]</td>\n    </tr>\n    <tr>\n      <th>3294</th>\n      <td>10782704</td>\n      <td>4251234499207</td>\n      <td>Shopper ANDIE blau</td>\n      <td>blau</td>\n      <td>921453</td>\n      <td>363013</td>\n      <td>363017</td>\n      <td>w</td>\n      <td>DE</td>\n      <td>F-S</td>\n      <td>...</td>\n      <td>NaN</td>\n      <td>NaN</td>\n      <td>NaN</td>\n      <td>NaN</td>\n      <td>NaN</td>\n      <td>NaN</td>\n      <td>NaN</td>\n      <td>NaN</td>\n      <td>[10782704]</td>\n      <td>[]</td>\n    </tr>\n    <tr>\n      <th>3295</th>\n      <td>10679703</td>\n      <td>4066558303617</td>\n      <td>Elegante pumps Glad leer wit</td>\n      <td>wit</td>\n      <td>21.450.60</td>\n      <td>6590677</td>\n      <td>315573</td>\n      <td>w</td>\n      <td>PT</td>\n      <td>F-S</td>\n      <td>...</td>\n      <td>5 cm - 8 cm</td>\n      <td>35.0</td>\n      <td>2.5</td>\n      <td>3.0</td>\n      <td>0.0</td>\n      <td>TPU</td>\n      <td>0.0</td>\n      <td>0.0</td>\n      <td>[10679703]</td>\n      <td>[35.0]</td>\n    </tr>\n    <tr>\n      <th>3296</th>\n      <td>10496278</td>\n      <td>4065171812513</td>\n      <td>Sandale compensée Daim beige</td>\n      <td>beige</td>\n      <td>24.645.14</td>\n      <td>6590677</td>\n      <td>315564</td>\n      <td>w</td>\n      <td>PT</td>\n      <td>F-S</td>\n      <td>...</td>\n      <td>5 cm - 8 cm</td>\n      <td>38.0</td>\n      <td>5.0</td>\n      <td>8.0</td>\n      <td>0.0</td>\n      <td>TR</td>\n      <td>0.0</td>\n      <td>0.0</td>\n      <td>[10496278]</td>\n      <td>[38.0]</td>\n    </tr>\n  </tbody>\n</table>\n<p>3297 rows × 56 columns</p>\n</div>"
     },
     "metadata": {},
     "output_type": "display_data"
    }
   ],
   "source": [
    "product_data = pd.read_pickle(basepath + 'no_product_variants_with_duplicate_ids.pkl')\n",
    "display(product_data)"
   ],
   "metadata": {
    "collapsed": false,
    "ExecuteTime": {
     "end_time": "2023-08-31T06:45:19.203738Z",
     "start_time": "2023-08-31T06:45:19.126725Z"
    }
   },
   "id": "ea0ef3dde4b1c1ea"
  },
  {
   "cell_type": "code",
   "execution_count": 7,
   "outputs": [
    {
     "name": "stdout",
     "output_type": "stream",
     "text": [
      "is 7595481, mainproduct is: 4822559\n"
     ]
    },
    {
     "data": {
      "text/plain": "        customer_id  product_id  amount  main_product_id\n0           1940761     4839681       1          4839681\n1           1940761     4839682       1          4839681\n2           1940761     6523930       1          6523930\n3           1940761     6596395       1          6596395\n4           1940761     8642222       1          3696391\n...             ...         ...     ...              ...\n644783     11128024    10560958       1          3711313\n644784     11128039    10451840       1         10224959\n644785     11128082    10559336       1          4914111\n644786     11128095    10504300       1         10451987\n644787     11128129    10366497       1          4078046\n\n[644788 rows x 4 columns]",
      "text/html": "<div>\n<style scoped>\n    .dataframe tbody tr th:only-of-type {\n        vertical-align: middle;\n    }\n\n    .dataframe tbody tr th {\n        vertical-align: top;\n    }\n\n    .dataframe thead th {\n        text-align: right;\n    }\n</style>\n<table border=\"1\" class=\"dataframe\">\n  <thead>\n    <tr style=\"text-align: right;\">\n      <th></th>\n      <th>customer_id</th>\n      <th>product_id</th>\n      <th>amount</th>\n      <th>main_product_id</th>\n    </tr>\n  </thead>\n  <tbody>\n    <tr>\n      <th>0</th>\n      <td>1940761</td>\n      <td>4839681</td>\n      <td>1</td>\n      <td>4839681</td>\n    </tr>\n    <tr>\n      <th>1</th>\n      <td>1940761</td>\n      <td>4839682</td>\n      <td>1</td>\n      <td>4839681</td>\n    </tr>\n    <tr>\n      <th>2</th>\n      <td>1940761</td>\n      <td>6523930</td>\n      <td>1</td>\n      <td>6523930</td>\n    </tr>\n    <tr>\n      <th>3</th>\n      <td>1940761</td>\n      <td>6596395</td>\n      <td>1</td>\n      <td>6596395</td>\n    </tr>\n    <tr>\n      <th>4</th>\n      <td>1940761</td>\n      <td>8642222</td>\n      <td>1</td>\n      <td>3696391</td>\n    </tr>\n    <tr>\n      <th>...</th>\n      <td>...</td>\n      <td>...</td>\n      <td>...</td>\n      <td>...</td>\n    </tr>\n    <tr>\n      <th>644783</th>\n      <td>11128024</td>\n      <td>10560958</td>\n      <td>1</td>\n      <td>3711313</td>\n    </tr>\n    <tr>\n      <th>644784</th>\n      <td>11128039</td>\n      <td>10451840</td>\n      <td>1</td>\n      <td>10224959</td>\n    </tr>\n    <tr>\n      <th>644785</th>\n      <td>11128082</td>\n      <td>10559336</td>\n      <td>1</td>\n      <td>4914111</td>\n    </tr>\n    <tr>\n      <th>644786</th>\n      <td>11128095</td>\n      <td>10504300</td>\n      <td>1</td>\n      <td>10451987</td>\n    </tr>\n    <tr>\n      <th>644787</th>\n      <td>11128129</td>\n      <td>10366497</td>\n      <td>1</td>\n      <td>4078046</td>\n    </tr>\n  </tbody>\n</table>\n<p>644788 rows × 4 columns</p>\n</div>"
     },
     "metadata": {},
     "output_type": "display_data"
    },
    {
     "data": {
      "text/plain": "3297"
     },
     "metadata": {},
     "output_type": "display_data"
    },
    {
     "data": {
      "text/plain": "108777"
     },
     "metadata": {},
     "output_type": "display_data"
    }
   ],
   "source": [
    "product_map = {}\n",
    "for index, row in product_data.iterrows():\n",
    "    main_product_id = row['main_product_id']\n",
    "    for product_id in row['duplicate_product__ids']:\n",
    "        if product_id == 7595481:\n",
    "            print('is 7595481, mainproduct is: ' + str(main_product_id))\n",
    "        product_map[product_id] = main_product_id\n",
    "\n",
    "user_item_interaction['main_product_id'] = user_item_interaction['product_id'].apply(lambda x: product_map[x])\n",
    "display(user_item_interaction, len(user_item_interaction.main_product_id.unique()), len(user_item_interaction.product_id.unique()))"
   ],
   "metadata": {
    "collapsed": false,
    "ExecuteTime": {
     "end_time": "2023-08-31T06:45:19.497702Z",
     "start_time": "2023-08-31T06:45:19.165577Z"
    }
   },
   "id": "183c45913411ace8"
  },
  {
   "cell_type": "code",
   "execution_count": 8,
   "outputs": [
    {
     "data": {
      "text/plain": "        customer_id  main_product_id  amount\n0           1940761          3696391       1\n1           1940761          3850720       1\n2           1940761          4839681       2\n3           1940761          5015362       2\n4           1940761          6523930       1\n...             ...              ...     ...\n585121     11128024          3711313       1\n585122     11128039         10224959       1\n585123     11128082          4914111       1\n585124     11128095         10451987       1\n585125     11128129          4078046       1\n\n[585126 rows x 3 columns]",
      "text/html": "<div>\n<style scoped>\n    .dataframe tbody tr th:only-of-type {\n        vertical-align: middle;\n    }\n\n    .dataframe tbody tr th {\n        vertical-align: top;\n    }\n\n    .dataframe thead th {\n        text-align: right;\n    }\n</style>\n<table border=\"1\" class=\"dataframe\">\n  <thead>\n    <tr style=\"text-align: right;\">\n      <th></th>\n      <th>customer_id</th>\n      <th>main_product_id</th>\n      <th>amount</th>\n    </tr>\n  </thead>\n  <tbody>\n    <tr>\n      <th>0</th>\n      <td>1940761</td>\n      <td>3696391</td>\n      <td>1</td>\n    </tr>\n    <tr>\n      <th>1</th>\n      <td>1940761</td>\n      <td>3850720</td>\n      <td>1</td>\n    </tr>\n    <tr>\n      <th>2</th>\n      <td>1940761</td>\n      <td>4839681</td>\n      <td>2</td>\n    </tr>\n    <tr>\n      <th>3</th>\n      <td>1940761</td>\n      <td>5015362</td>\n      <td>2</td>\n    </tr>\n    <tr>\n      <th>4</th>\n      <td>1940761</td>\n      <td>6523930</td>\n      <td>1</td>\n    </tr>\n    <tr>\n      <th>...</th>\n      <td>...</td>\n      <td>...</td>\n      <td>...</td>\n    </tr>\n    <tr>\n      <th>585121</th>\n      <td>11128024</td>\n      <td>3711313</td>\n      <td>1</td>\n    </tr>\n    <tr>\n      <th>585122</th>\n      <td>11128039</td>\n      <td>10224959</td>\n      <td>1</td>\n    </tr>\n    <tr>\n      <th>585123</th>\n      <td>11128082</td>\n      <td>4914111</td>\n      <td>1</td>\n    </tr>\n    <tr>\n      <th>585124</th>\n      <td>11128095</td>\n      <td>10451987</td>\n      <td>1</td>\n    </tr>\n    <tr>\n      <th>585125</th>\n      <td>11128129</td>\n      <td>4078046</td>\n      <td>1</td>\n    </tr>\n  </tbody>\n</table>\n<p>585126 rows × 3 columns</p>\n</div>"
     },
     "execution_count": 8,
     "metadata": {},
     "output_type": "execute_result"
    }
   ],
   "source": [
    "interaction_data_reduced = user_item_interaction.groupby(['customer_id', 'main_product_id'])['amount'].sum().reset_index()\n",
    "interaction_data_reduced"
   ],
   "metadata": {
    "collapsed": false,
    "ExecuteTime": {
     "end_time": "2023-08-31T06:45:19.591954Z",
     "start_time": "2023-08-31T06:45:19.492924Z"
    }
   },
   "id": "137902bc989e3033"
  },
  {
   "cell_type": "code",
   "execution_count": 9,
   "outputs": [],
   "source": [
    "interaction_data_reduced.to_pickle(basepath + 'user_item_interactions_only_main_products.pkl')"
   ],
   "metadata": {
    "collapsed": false,
    "ExecuteTime": {
     "end_time": "2023-08-31T06:45:19.592140Z",
     "start_time": "2023-08-31T06:45:19.581495Z"
    }
   },
   "id": "44781b9c265b1881"
  }
 ],
 "metadata": {
  "kernelspec": {
   "display_name": "Python 3",
   "language": "python",
   "name": "python3"
  },
  "language_info": {
   "codemirror_mode": {
    "name": "ipython",
    "version": 2
   },
   "file_extension": ".py",
   "mimetype": "text/x-python",
   "name": "python",
   "nbconvert_exporter": "python",
   "pygments_lexer": "ipython2",
   "version": "2.7.6"
  }
 },
 "nbformat": 4,
 "nbformat_minor": 5
}
