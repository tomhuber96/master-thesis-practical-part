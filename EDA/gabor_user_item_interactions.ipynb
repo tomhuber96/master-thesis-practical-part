{
 "cells": [
  {
   "cell_type": "code",
   "execution_count": 1,
   "id": "initial_id",
   "metadata": {
    "collapsed": true,
    "ExecuteTime": {
     "end_time": "2023-08-14T08:11:46.666194Z",
     "start_time": "2023-08-14T08:11:46.650061Z"
    }
   },
   "outputs": [],
   "source": [
    "import pandas as pd\n",
    "import numpy as np\n",
    "pd.set_option('display.max_colwidth', None)"
   ]
  },
  {
   "cell_type": "code",
   "execution_count": 2,
   "outputs": [
    {
     "data": {
      "text/plain": "        customer_id                                       order_ids  \\\n0         1940761.0  [5624878, 7011005, 7673667, 8888291, 11032470]   \n1         1940767.0                                       [5108369]   \n2         1940775.0                              [4962102, 6875196]   \n3         1940782.0                                       [7417330]   \n4         1940806.0                                      [10781348]   \n...             ...                                             ...   \n357774   11128024.0                                      [11128020]   \n357775   11128039.0                                      [11128051]   \n357776   11128082.0                                      [11128080]   \n357777   11128095.0                                      [11128092]   \n357778   11128129.0                                      [11128127]   \n\n                                                                                 product_ids  \\\n0       [[4839681, 4839682], [6596395], [6523930], [8642222, 8668342], [10227383, 10227384]]   \n1                                                                       [[3849255, 4822681]]   \n2                                                            [[3907778], [6556855, 6556856]]   \n3                                                                       [[6407177, 6435918]]   \n4                                                                                [[8642140]]   \n...                                                                                      ...   \n357774                                                                  [[589817, 10560958]]   \n357775                                                                          [[10451840]]   \n357776                                                                          [[10559336]]   \n357777                                                                          [[10504300]]   \n357778                                                                          [[10366497]]   \n\n                                                                                                                                                                                                                                                                                                            product_names  \\\n0       [[PG1018 Slipper Materialmix Leder/Textil grün, PG1018 Slipper Materialmix Leder/Textil grün], [7302 Hausschuhe Textil rot], [PG6000 Pantolette Textil blau], [Schnürstiefelette Glattleder schwarz, Winterstiefelette Glattleder schwarz], [PG8001 Sneaker low Rauleder grau, PG8001 Sneaker low Rauleder grau]]   \n1                                                                                                                                                                                                                                                              [[Spangenpumps Textil silber, Plateau Pumps Rauleder rot]]   \n2                                                                                                                                                                                                                                 [[Chelsea Boot Rauleder schwarz], [Slipper Rauleder schwarz, Slipper Rauleder schwarz]]   \n3                                                                                                                                                                                                                                       [[Elegante Stiefelette Glattleder schwarz, Winterstiefelette Glattleder schwarz]]   \n4                                                                                                                                                                                                                                                                                       [[Chelsea Boot Rauleder schwarz]]   \n...                                                                                                                                                                                                                                                                                                                   ...   \n357774                                                                                                                                                                                                                                            [[Eleganter Pumps Glattleder blau, Eleganter Pumps Glattleder schwarz]]   \n357775                                                                                                                                                                                                                                                                                      [[Sneaker low Rauleder pink]]   \n357776                                                                                                                                                                                                                                                                              [[Eleganter Pumps Effektleder beige]]   \n357777                                                                                                                                                                                                                                                                             [[Sneaker low Materialmix Leder pink]]   \n357778                                                                                                                                                                                                                                                                             [[Sneaker low Materialmix Leder weiß]]   \n\n                                   amounts  \\\n0       [[1, 1], [1], [1], [1, 1], [1, 1]]   \n1                                 [[1, 1]]   \n2                            [[1], [1, 1]]   \n3                                 [[1, 1]]   \n4                                    [[1]]   \n...                                    ...   \n357774                            [[1, 1]]   \n357775                               [[1]]   \n357776                               [[1]]   \n357777                               [[1]]   \n357778                               [[1]]   \n\n                                                              total_prices  \\\n0       [[62.65, 62.65], [51.77], [46.77], [96.69, 91.69], [86.69, 86.69]]   \n1                                                         [[99.95, 99.95]]   \n2                                                 [[69.0], [99.95, 99.95]]   \n3                                                         [[125.0, 99.95]]   \n4                                                                 [[69.0]]   \n...                                                                    ...   \n357774                                                    [[89.95, 99.95]]   \n357775                                                           [[120.0]]   \n357776                                                           [[110.0]]   \n357777                                                           [[115.0]]   \n357778                                                           [[140.0]]   \n\n                                                                                                       order_dates  \n0       [[1618487327, 1618487327], [1633324590], [1639662211], [1655121717, 1655121717], [1678768911, 1678768911]]  \n1                                                                                       [[1612878241, 1612878241]]  \n2                                                                         [[1611064682], [1632138724, 1632138724]]  \n3                                                                                       [[1636809128, 1636809128]]  \n4                                                                                                   [[1676378784]]  \n...                                                                                                            ...  \n357774                                                                                  [[1679567301, 1679567301]]  \n357775                                                                                              [[1679567402]]  \n357776                                                                                              [[1679567490]]  \n357777                                                                                              [[1679567542]]  \n357778                                                                                              [[1679567620]]  \n\n[357779 rows x 7 columns]",
      "text/html": "<div>\n<style scoped>\n    .dataframe tbody tr th:only-of-type {\n        vertical-align: middle;\n    }\n\n    .dataframe tbody tr th {\n        vertical-align: top;\n    }\n\n    .dataframe thead th {\n        text-align: right;\n    }\n</style>\n<table border=\"1\" class=\"dataframe\">\n  <thead>\n    <tr style=\"text-align: right;\">\n      <th></th>\n      <th>customer_id</th>\n      <th>order_ids</th>\n      <th>product_ids</th>\n      <th>product_names</th>\n      <th>amounts</th>\n      <th>total_prices</th>\n      <th>order_dates</th>\n    </tr>\n  </thead>\n  <tbody>\n    <tr>\n      <th>0</th>\n      <td>1940761.0</td>\n      <td>[5624878, 7011005, 7673667, 8888291, 11032470]</td>\n      <td>[[4839681, 4839682], [6596395], [6523930], [8642222, 8668342], [10227383, 10227384]]</td>\n      <td>[[PG1018 Slipper Materialmix Leder/Textil grün, PG1018 Slipper Materialmix Leder/Textil grün], [7302 Hausschuhe Textil rot], [PG6000 Pantolette Textil blau], [Schnürstiefelette Glattleder schwarz, Winterstiefelette Glattleder schwarz], [PG8001 Sneaker low Rauleder grau, PG8001 Sneaker low Rauleder grau]]</td>\n      <td>[[1, 1], [1], [1], [1, 1], [1, 1]]</td>\n      <td>[[62.65, 62.65], [51.77], [46.77], [96.69, 91.69], [86.69, 86.69]]</td>\n      <td>[[1618487327, 1618487327], [1633324590], [1639662211], [1655121717, 1655121717], [1678768911, 1678768911]]</td>\n    </tr>\n    <tr>\n      <th>1</th>\n      <td>1940767.0</td>\n      <td>[5108369]</td>\n      <td>[[3849255, 4822681]]</td>\n      <td>[[Spangenpumps Textil silber, Plateau Pumps Rauleder rot]]</td>\n      <td>[[1, 1]]</td>\n      <td>[[99.95, 99.95]]</td>\n      <td>[[1612878241, 1612878241]]</td>\n    </tr>\n    <tr>\n      <th>2</th>\n      <td>1940775.0</td>\n      <td>[4962102, 6875196]</td>\n      <td>[[3907778], [6556855, 6556856]]</td>\n      <td>[[Chelsea Boot Rauleder schwarz], [Slipper Rauleder schwarz, Slipper Rauleder schwarz]]</td>\n      <td>[[1], [1, 1]]</td>\n      <td>[[69.0], [99.95, 99.95]]</td>\n      <td>[[1611064682], [1632138724, 1632138724]]</td>\n    </tr>\n    <tr>\n      <th>3</th>\n      <td>1940782.0</td>\n      <td>[7417330]</td>\n      <td>[[6407177, 6435918]]</td>\n      <td>[[Elegante Stiefelette Glattleder schwarz, Winterstiefelette Glattleder schwarz]]</td>\n      <td>[[1, 1]]</td>\n      <td>[[125.0, 99.95]]</td>\n      <td>[[1636809128, 1636809128]]</td>\n    </tr>\n    <tr>\n      <th>4</th>\n      <td>1940806.0</td>\n      <td>[10781348]</td>\n      <td>[[8642140]]</td>\n      <td>[[Chelsea Boot Rauleder schwarz]]</td>\n      <td>[[1]]</td>\n      <td>[[69.0]]</td>\n      <td>[[1676378784]]</td>\n    </tr>\n    <tr>\n      <th>...</th>\n      <td>...</td>\n      <td>...</td>\n      <td>...</td>\n      <td>...</td>\n      <td>...</td>\n      <td>...</td>\n      <td>...</td>\n    </tr>\n    <tr>\n      <th>357774</th>\n      <td>11128024.0</td>\n      <td>[11128020]</td>\n      <td>[[589817, 10560958]]</td>\n      <td>[[Eleganter Pumps Glattleder blau, Eleganter Pumps Glattleder schwarz]]</td>\n      <td>[[1, 1]]</td>\n      <td>[[89.95, 99.95]]</td>\n      <td>[[1679567301, 1679567301]]</td>\n    </tr>\n    <tr>\n      <th>357775</th>\n      <td>11128039.0</td>\n      <td>[11128051]</td>\n      <td>[[10451840]]</td>\n      <td>[[Sneaker low Rauleder pink]]</td>\n      <td>[[1]]</td>\n      <td>[[120.0]]</td>\n      <td>[[1679567402]]</td>\n    </tr>\n    <tr>\n      <th>357776</th>\n      <td>11128082.0</td>\n      <td>[11128080]</td>\n      <td>[[10559336]]</td>\n      <td>[[Eleganter Pumps Effektleder beige]]</td>\n      <td>[[1]]</td>\n      <td>[[110.0]]</td>\n      <td>[[1679567490]]</td>\n    </tr>\n    <tr>\n      <th>357777</th>\n      <td>11128095.0</td>\n      <td>[11128092]</td>\n      <td>[[10504300]]</td>\n      <td>[[Sneaker low Materialmix Leder pink]]</td>\n      <td>[[1]]</td>\n      <td>[[115.0]]</td>\n      <td>[[1679567542]]</td>\n    </tr>\n    <tr>\n      <th>357778</th>\n      <td>11128129.0</td>\n      <td>[11128127]</td>\n      <td>[[10366497]]</td>\n      <td>[[Sneaker low Materialmix Leder weiß]]</td>\n      <td>[[1]]</td>\n      <td>[[140.0]]</td>\n      <td>[[1679567620]]</td>\n    </tr>\n  </tbody>\n</table>\n<p>357779 rows × 7 columns</p>\n</div>"
     },
     "metadata": {},
     "output_type": "display_data"
    }
   ],
   "source": [
    "basepath = '../datasets/preprocessed_datasets/gabor/'\n",
    "product_data = pd.read_pickle(basepath +'orders_and_products_by_customer.pkl')\n",
    "# product_data = product_data.sample(n=1000)\n",
    "display(product_data)"
   ],
   "metadata": {
    "collapsed": false,
    "ExecuteTime": {
     "end_time": "2023-08-14T08:11:48.255862Z",
     "start_time": "2023-08-14T08:11:46.668758Z"
    }
   },
   "id": "ebe1d578b0d92d90"
  },
  {
   "cell_type": "code",
   "execution_count": 3,
   "outputs": [],
   "source": [
    "interactions = []\n",
    "for _, row in product_data.iterrows():\n",
    "    customer_id = int(row['customer_id'])\n",
    "    order_ids = row['order_ids']\n",
    "    product_ids = row['product_ids']\n",
    "    amounts = row['amounts']\n",
    "\n",
    "    for order_id, product_ids2, amounts2 in zip(order_ids, product_ids, amounts):\n",
    "        count = 0\n",
    "        for product_id, amount in zip (product_ids2, amounts2):\n",
    "            interactions.append({'customer_id': customer_id, 'product_id': product_id, 'amount': amount})\n",
    "\n",
    "# Create user-item interaction DataFrame\n",
    "interaction_df = pd.DataFrame(interactions)\n",
    "# display(interaction_df, interaction_df[interaction_df['customer_id'] == 2156113.0])\n",
    "# Group by customer_id and product_id, summing up the amounts\n",
    "user_item_interaction = interaction_df.groupby(['customer_id', 'product_id'], as_index=False).sum()\n"
   ],
   "metadata": {
    "collapsed": false,
    "ExecuteTime": {
     "end_time": "2023-08-14T08:11:55.822095Z",
     "start_time": "2023-08-14T08:11:48.292023Z"
    }
   },
   "id": "e331950ff78ec21e"
  },
  {
   "cell_type": "code",
   "execution_count": 4,
   "outputs": [
    {
     "data": {
      "text/plain": "        customer_id  product_id  amount\n0           1940761     4839681       1\n1           1940761     4839682       1\n2           1940761     6523930       1\n3           1940761     6596395       1\n4           1940761     8642222       1\n...             ...         ...     ...\n644783     11128024    10560958       1\n644784     11128039    10451840       1\n644785     11128082    10559336       1\n644786     11128095    10504300       1\n644787     11128129    10366497       1\n\n[644788 rows x 3 columns]",
      "text/html": "<div>\n<style scoped>\n    .dataframe tbody tr th:only-of-type {\n        vertical-align: middle;\n    }\n\n    .dataframe tbody tr th {\n        vertical-align: top;\n    }\n\n    .dataframe thead th {\n        text-align: right;\n    }\n</style>\n<table border=\"1\" class=\"dataframe\">\n  <thead>\n    <tr style=\"text-align: right;\">\n      <th></th>\n      <th>customer_id</th>\n      <th>product_id</th>\n      <th>amount</th>\n    </tr>\n  </thead>\n  <tbody>\n    <tr>\n      <th>0</th>\n      <td>1940761</td>\n      <td>4839681</td>\n      <td>1</td>\n    </tr>\n    <tr>\n      <th>1</th>\n      <td>1940761</td>\n      <td>4839682</td>\n      <td>1</td>\n    </tr>\n    <tr>\n      <th>2</th>\n      <td>1940761</td>\n      <td>6523930</td>\n      <td>1</td>\n    </tr>\n    <tr>\n      <th>3</th>\n      <td>1940761</td>\n      <td>6596395</td>\n      <td>1</td>\n    </tr>\n    <tr>\n      <th>4</th>\n      <td>1940761</td>\n      <td>8642222</td>\n      <td>1</td>\n    </tr>\n    <tr>\n      <th>...</th>\n      <td>...</td>\n      <td>...</td>\n      <td>...</td>\n    </tr>\n    <tr>\n      <th>644783</th>\n      <td>11128024</td>\n      <td>10560958</td>\n      <td>1</td>\n    </tr>\n    <tr>\n      <th>644784</th>\n      <td>11128039</td>\n      <td>10451840</td>\n      <td>1</td>\n    </tr>\n    <tr>\n      <th>644785</th>\n      <td>11128082</td>\n      <td>10559336</td>\n      <td>1</td>\n    </tr>\n    <tr>\n      <th>644786</th>\n      <td>11128095</td>\n      <td>10504300</td>\n      <td>1</td>\n    </tr>\n    <tr>\n      <th>644787</th>\n      <td>11128129</td>\n      <td>10366497</td>\n      <td>1</td>\n    </tr>\n  </tbody>\n</table>\n<p>644788 rows × 3 columns</p>\n</div>"
     },
     "metadata": {},
     "output_type": "display_data"
    }
   ],
   "source": [
    "display(user_item_interaction)"
   ],
   "metadata": {
    "collapsed": false,
    "ExecuteTime": {
     "end_time": "2023-08-14T08:11:55.827987Z",
     "start_time": "2023-08-14T08:11:55.824497Z"
    }
   },
   "id": "41208d5a89930a34"
  },
  {
   "cell_type": "code",
   "execution_count": null,
   "outputs": [
    {
     "name": "stderr",
     "output_type": "stream",
     "text": [
      "/var/folders/jp/3q1jwf6d5n11rx71jwtqcgv80000gn/T/ipykernel_31891/3649737873.py:1: PerformanceWarning: The following operation may generate 38918126283 cells in the resulting pandas object.\n",
      "  pivot_df = user_item_interaction.pivot_table(index='customer_id', columns='product_id', values='amount', aggfunc='sum', fill_value=0)\n"
     ]
    }
   ],
   "source": [
    "pivot_df = user_item_interaction.pivot_table(index='customer_id', columns='product_id', values='amount', aggfunc='sum', fill_value=0)\n",
    "display(pivot_df)"
   ],
   "metadata": {
    "collapsed": false,
    "is_executing": true,
    "ExecuteTime": {
     "start_time": "2023-08-14T08:11:55.829782Z"
    }
   },
   "id": "3aecfffa2b29d52"
  },
  {
   "cell_type": "code",
   "execution_count": null,
   "outputs": [],
   "source": [
    "pivot_df"
   ],
   "metadata": {
    "collapsed": false,
    "is_executing": true
   },
   "id": "9ed92e6a165bbe88"
  },
  {
   "cell_type": "code",
   "execution_count": null,
   "outputs": [],
   "source": [
    "user_item_interaction.to_pickle(basepath + 'user_item_interactions.pkl')\n"
   ],
   "metadata": {
    "collapsed": false,
    "is_executing": true
   },
   "id": "505878dfa20ee991"
  }
 ],
 "metadata": {
  "kernelspec": {
   "display_name": "Python 3",
   "language": "python",
   "name": "python3"
  },
  "language_info": {
   "codemirror_mode": {
    "name": "ipython",
    "version": 2
   },
   "file_extension": ".py",
   "mimetype": "text/x-python",
   "name": "python",
   "nbconvert_exporter": "python",
   "pygments_lexer": "ipython2",
   "version": "2.7.6"
  }
 },
 "nbformat": 4,
 "nbformat_minor": 5
}
