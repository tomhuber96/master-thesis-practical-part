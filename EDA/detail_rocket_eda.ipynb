{
 "cells": [
  {
   "cell_type": "markdown",
   "source": [
    "# Detail Rocket Deep Learning Recommendation System\n",
    "\n",
    "## Imports and installs"
   ],
   "metadata": {
    "collapsed": false
   }
  },
  {
   "cell_type": "code",
   "source": [
    "#%pip install pandas\n",
    "# %pip install seaborn\n",
    "#%pip install numpy"
   ],
   "metadata": {
    "collapsed": false,
    "ExecuteTime": {
     "end_time": "2024-05-29T11:36:52.353877Z",
     "start_time": "2024-05-29T11:36:52.352247Z"
    }
   },
   "outputs": [],
   "execution_count": 1
  },
  {
   "cell_type": "code",
   "source": [
    "import pandas as pd\n",
    "import seaborn as sns\n",
    "import numpy as np\n",
    "import matplotlib.pyplot as plt\n",
    "import operator\n",
    "import datetime\n",
    "\n",
    "color_green = \"#7f9949\"\n",
    "color_orange = \"#dea812\""
   ],
   "metadata": {
    "collapsed": false,
    "ExecuteTime": {
     "end_time": "2024-05-29T11:36:52.356438Z",
     "start_time": "2024-05-29T11:36:52.354428Z"
    }
   },
   "outputs": [],
   "execution_count": 2
  },
  {
   "cell_type": "markdown",
   "source": [],
   "metadata": {
    "collapsed": false
   }
  },
  {
   "cell_type": "markdown",
   "source": [
    "## Data Preprocessing"
   ],
   "metadata": {
    "collapsed": false
   }
  },
  {
   "cell_type": "code",
   "source": [
    "category_tree = pd.read_csv('../datasets/Retailrocket Recommender System Dataset/category_tree.csv')\n",
    "category_tree.head()"
   ],
   "metadata": {
    "collapsed": false,
    "ExecuteTime": {
     "end_time": "2024-05-29T11:36:52.364655Z",
     "start_time": "2024-05-29T11:36:52.357146Z"
    }
   },
   "outputs": [
    {
     "data": {
      "text/plain": [
       "   categoryid  parentid\n",
       "0        1016     213.0\n",
       "1         809     169.0\n",
       "2         570       9.0\n",
       "3        1691     885.0\n",
       "4         536    1691.0"
      ],
      "text/html": [
       "<div>\n",
       "<style scoped>\n",
       "    .dataframe tbody tr th:only-of-type {\n",
       "        vertical-align: middle;\n",
       "    }\n",
       "\n",
       "    .dataframe tbody tr th {\n",
       "        vertical-align: top;\n",
       "    }\n",
       "\n",
       "    .dataframe thead th {\n",
       "        text-align: right;\n",
       "    }\n",
       "</style>\n",
       "<table border=\"1\" class=\"dataframe\">\n",
       "  <thead>\n",
       "    <tr style=\"text-align: right;\">\n",
       "      <th></th>\n",
       "      <th>categoryid</th>\n",
       "      <th>parentid</th>\n",
       "    </tr>\n",
       "  </thead>\n",
       "  <tbody>\n",
       "    <tr>\n",
       "      <th>0</th>\n",
       "      <td>1016</td>\n",
       "      <td>213.0</td>\n",
       "    </tr>\n",
       "    <tr>\n",
       "      <th>1</th>\n",
       "      <td>809</td>\n",
       "      <td>169.0</td>\n",
       "    </tr>\n",
       "    <tr>\n",
       "      <th>2</th>\n",
       "      <td>570</td>\n",
       "      <td>9.0</td>\n",
       "    </tr>\n",
       "    <tr>\n",
       "      <th>3</th>\n",
       "      <td>1691</td>\n",
       "      <td>885.0</td>\n",
       "    </tr>\n",
       "    <tr>\n",
       "      <th>4</th>\n",
       "      <td>536</td>\n",
       "      <td>1691.0</td>\n",
       "    </tr>\n",
       "  </tbody>\n",
       "</table>\n",
       "</div>"
      ]
     },
     "execution_count": 3,
     "metadata": {},
     "output_type": "execute_result"
    }
   ],
   "execution_count": 3
  },
  {
   "cell_type": "code",
   "source": [
    "events = pd.read_csv('../datasets/Retailrocket Recommender System Dataset/events.csv')\n",
    "events.head()"
   ],
   "metadata": {
    "collapsed": false,
    "ExecuteTime": {
     "end_time": "2024-05-29T11:36:52.857062Z",
     "start_time": "2024-05-29T11:36:52.365507Z"
    }
   },
   "outputs": [
    {
     "data": {
      "text/plain": [
       "       timestamp  visitorid event  itemid  transactionid\n",
       "0  1433221332117     257597  view  355908            NaN\n",
       "1  1433224214164     992329  view  248676            NaN\n",
       "2  1433221999827     111016  view  318965            NaN\n",
       "3  1433221955914     483717  view  253185            NaN\n",
       "4  1433221337106     951259  view  367447            NaN"
      ],
      "text/html": [
       "<div>\n",
       "<style scoped>\n",
       "    .dataframe tbody tr th:only-of-type {\n",
       "        vertical-align: middle;\n",
       "    }\n",
       "\n",
       "    .dataframe tbody tr th {\n",
       "        vertical-align: top;\n",
       "    }\n",
       "\n",
       "    .dataframe thead th {\n",
       "        text-align: right;\n",
       "    }\n",
       "</style>\n",
       "<table border=\"1\" class=\"dataframe\">\n",
       "  <thead>\n",
       "    <tr style=\"text-align: right;\">\n",
       "      <th></th>\n",
       "      <th>timestamp</th>\n",
       "      <th>visitorid</th>\n",
       "      <th>event</th>\n",
       "      <th>itemid</th>\n",
       "      <th>transactionid</th>\n",
       "    </tr>\n",
       "  </thead>\n",
       "  <tbody>\n",
       "    <tr>\n",
       "      <th>0</th>\n",
       "      <td>1433221332117</td>\n",
       "      <td>257597</td>\n",
       "      <td>view</td>\n",
       "      <td>355908</td>\n",
       "      <td>NaN</td>\n",
       "    </tr>\n",
       "    <tr>\n",
       "      <th>1</th>\n",
       "      <td>1433224214164</td>\n",
       "      <td>992329</td>\n",
       "      <td>view</td>\n",
       "      <td>248676</td>\n",
       "      <td>NaN</td>\n",
       "    </tr>\n",
       "    <tr>\n",
       "      <th>2</th>\n",
       "      <td>1433221999827</td>\n",
       "      <td>111016</td>\n",
       "      <td>view</td>\n",
       "      <td>318965</td>\n",
       "      <td>NaN</td>\n",
       "    </tr>\n",
       "    <tr>\n",
       "      <th>3</th>\n",
       "      <td>1433221955914</td>\n",
       "      <td>483717</td>\n",
       "      <td>view</td>\n",
       "      <td>253185</td>\n",
       "      <td>NaN</td>\n",
       "    </tr>\n",
       "    <tr>\n",
       "      <th>4</th>\n",
       "      <td>1433221337106</td>\n",
       "      <td>951259</td>\n",
       "      <td>view</td>\n",
       "      <td>367447</td>\n",
       "      <td>NaN</td>\n",
       "    </tr>\n",
       "  </tbody>\n",
       "</table>\n",
       "</div>"
      ]
     },
     "execution_count": 4,
     "metadata": {},
     "output_type": "execute_result"
    }
   ],
   "execution_count": 4
  },
  {
   "cell_type": "code",
   "source": [
    "item_properties_p1 = pd.read_csv('../datasets/Retailrocket Recommender System Dataset/item_properties_part1.csv')\n",
    "item_properties_p2 = pd.read_csv('../datasets/Retailrocket Recommender System Dataset/item_properties_part2.csv')\n",
    "item_properties = pd.concat([item_properties_p1, item_properties_p2])\n",
    "item_properties.head()"
   ],
   "metadata": {
    "collapsed": false,
    "ExecuteTime": {
     "end_time": "2024-05-29T11:36:59.420467Z",
     "start_time": "2024-05-29T11:36:52.858198Z"
    }
   },
   "outputs": [
    {
     "data": {
      "text/plain": [
       "       timestamp  itemid    property                            value\n",
       "0  1435460400000  460429  categoryid                             1338\n",
       "1  1441508400000  206783         888          1116713 960601 n277.200\n",
       "2  1439089200000  395014         400  n552.000 639502 n720.000 424566\n",
       "3  1431226800000   59481         790                       n15360.000\n",
       "4  1431831600000  156781         917                           828513"
      ],
      "text/html": [
       "<div>\n",
       "<style scoped>\n",
       "    .dataframe tbody tr th:only-of-type {\n",
       "        vertical-align: middle;\n",
       "    }\n",
       "\n",
       "    .dataframe tbody tr th {\n",
       "        vertical-align: top;\n",
       "    }\n",
       "\n",
       "    .dataframe thead th {\n",
       "        text-align: right;\n",
       "    }\n",
       "</style>\n",
       "<table border=\"1\" class=\"dataframe\">\n",
       "  <thead>\n",
       "    <tr style=\"text-align: right;\">\n",
       "      <th></th>\n",
       "      <th>timestamp</th>\n",
       "      <th>itemid</th>\n",
       "      <th>property</th>\n",
       "      <th>value</th>\n",
       "    </tr>\n",
       "  </thead>\n",
       "  <tbody>\n",
       "    <tr>\n",
       "      <th>0</th>\n",
       "      <td>1435460400000</td>\n",
       "      <td>460429</td>\n",
       "      <td>categoryid</td>\n",
       "      <td>1338</td>\n",
       "    </tr>\n",
       "    <tr>\n",
       "      <th>1</th>\n",
       "      <td>1441508400000</td>\n",
       "      <td>206783</td>\n",
       "      <td>888</td>\n",
       "      <td>1116713 960601 n277.200</td>\n",
       "    </tr>\n",
       "    <tr>\n",
       "      <th>2</th>\n",
       "      <td>1439089200000</td>\n",
       "      <td>395014</td>\n",
       "      <td>400</td>\n",
       "      <td>n552.000 639502 n720.000 424566</td>\n",
       "    </tr>\n",
       "    <tr>\n",
       "      <th>3</th>\n",
       "      <td>1431226800000</td>\n",
       "      <td>59481</td>\n",
       "      <td>790</td>\n",
       "      <td>n15360.000</td>\n",
       "    </tr>\n",
       "    <tr>\n",
       "      <th>4</th>\n",
       "      <td>1431831600000</td>\n",
       "      <td>156781</td>\n",
       "      <td>917</td>\n",
       "      <td>828513</td>\n",
       "    </tr>\n",
       "  </tbody>\n",
       "</table>\n",
       "</div>"
      ]
     },
     "execution_count": 5,
     "metadata": {},
     "output_type": "execute_result"
    }
   ],
   "execution_count": 5
  },
  {
   "metadata": {
    "ExecuteTime": {
     "end_time": "2024-05-29T11:37:00.131223Z",
     "start_time": "2024-05-29T11:36:59.422618Z"
    }
   },
   "cell_type": "code",
   "source": "item_properties[item_properties['property'] == '400'].itemid.unique().shape",
   "outputs": [
    {
     "data": {
      "text/plain": [
       "(54823,)"
      ]
     },
     "execution_count": 6,
     "metadata": {},
     "output_type": "execute_result"
    }
   ],
   "execution_count": 6
  },
  {
   "cell_type": "markdown",
   "source": [
    "## EDA\n",
    "\n",
    "## Category Tree"
   ],
   "metadata": {
    "collapsed": false
   }
  },
  {
   "cell_type": "code",
   "source": [
    "category_tree.shape"
   ],
   "metadata": {
    "collapsed": false,
    "ExecuteTime": {
     "end_time": "2024-05-29T11:37:00.134241Z",
     "start_time": "2024-05-29T11:37:00.131954Z"
    }
   },
   "outputs": [
    {
     "data": {
      "text/plain": [
       "(1669, 2)"
      ]
     },
     "execution_count": 7,
     "metadata": {},
     "output_type": "execute_result"
    }
   ],
   "execution_count": 7
  },
  {
   "cell_type": "code",
   "source": [
    "category_tree.nunique()"
   ],
   "metadata": {
    "collapsed": false,
    "ExecuteTime": {
     "end_time": "2024-05-29T11:37:00.137932Z",
     "start_time": "2024-05-29T11:37:00.135032Z"
    }
   },
   "outputs": [
    {
     "data": {
      "text/plain": [
       "categoryid    1669\n",
       "parentid       362\n",
       "dtype: int64"
      ]
     },
     "execution_count": 8,
     "metadata": {},
     "output_type": "execute_result"
    }
   ],
   "execution_count": 8
  },
  {
   "cell_type": "markdown",
   "source": [
    "### events"
   ],
   "metadata": {
    "collapsed": false
   }
  },
  {
   "cell_type": "code",
   "source": [
    "events.shape"
   ],
   "metadata": {
    "collapsed": false,
    "ExecuteTime": {
     "end_time": "2024-05-29T11:37:00.140824Z",
     "start_time": "2024-05-29T11:37:00.138671Z"
    }
   },
   "outputs": [
    {
     "data": {
      "text/plain": [
       "(2756101, 5)"
      ]
     },
     "execution_count": 9,
     "metadata": {},
     "output_type": "execute_result"
    }
   ],
   "execution_count": 9
  },
  {
   "cell_type": "code",
   "source": [
    "events.itemid.unique().shape"
   ],
   "metadata": {
    "collapsed": false,
    "ExecuteTime": {
     "end_time": "2024-05-29T11:37:00.161797Z",
     "start_time": "2024-05-29T11:37:00.141561Z"
    }
   },
   "outputs": [
    {
     "data": {
      "text/plain": [
       "(235061,)"
      ]
     },
     "execution_count": 10,
     "metadata": {},
     "output_type": "execute_result"
    }
   ],
   "execution_count": 10
  },
  {
   "cell_type": "markdown",
   "source": [
    "#### Null values"
   ],
   "metadata": {
    "collapsed": false
   }
  },
  {
   "cell_type": "code",
   "source": [
    "# null values?\n",
    "null_counts = events.isnull().sum()\n",
    "\n",
    "print(null_counts)\n",
    "events[events['event'] != 'transaction'].count()"
   ],
   "metadata": {
    "collapsed": false,
    "ExecuteTime": {
     "end_time": "2024-05-29T11:37:00.413004Z",
     "start_time": "2024-05-29T11:37:00.162616Z"
    }
   },
   "outputs": [
    {
     "name": "stdout",
     "output_type": "stream",
     "text": [
      "timestamp              0\n",
      "visitorid              0\n",
      "event                  0\n",
      "itemid                 0\n",
      "transactionid    2733644\n",
      "dtype: int64\n"
     ]
    },
    {
     "data": {
      "text/plain": [
       "timestamp        2733644\n",
       "visitorid        2733644\n",
       "event            2733644\n",
       "itemid           2733644\n",
       "transactionid          0\n",
       "dtype: int64"
      ]
     },
     "execution_count": 11,
     "metadata": {},
     "output_type": "execute_result"
    }
   ],
   "execution_count": 11
  },
  {
   "cell_type": "code",
   "source": [
    "category_tree.isnull().sum() #only 25 null values in parent id, so we have 25 base categories."
   ],
   "metadata": {
    "collapsed": false,
    "ExecuteTime": {
     "end_time": "2024-05-29T11:37:00.416782Z",
     "start_time": "2024-05-29T11:37:00.413746Z"
    }
   },
   "outputs": [
    {
     "data": {
      "text/plain": [
       "categoryid     0\n",
       "parentid      25\n",
       "dtype: int64"
      ]
     },
     "execution_count": 12,
     "metadata": {},
     "output_type": "execute_result"
    }
   ],
   "execution_count": 12
  },
  {
   "cell_type": "code",
   "source": [
    "item_properties.isnull().sum() # no null values"
   ],
   "metadata": {
    "collapsed": false,
    "ExecuteTime": {
     "end_time": "2024-05-29T11:37:01.131645Z",
     "start_time": "2024-05-29T11:37:00.417486Z"
    }
   },
   "outputs": [
    {
     "data": {
      "text/plain": [
       "timestamp    0\n",
       "itemid       0\n",
       "property     0\n",
       "value        0\n",
       "dtype: int64"
      ]
     },
     "execution_count": 13,
     "metadata": {},
     "output_type": "execute_result"
    }
   ],
   "execution_count": 13
  },
  {
   "cell_type": "markdown",
   "source": [
    "### duplicate values"
   ],
   "metadata": {
    "collapsed": false
   }
  },
  {
   "cell_type": "code",
   "source": [
    "def remove_duplicates(df):\n",
    "    duplicated_df = df[df.duplicated(keep=False)]\n",
    "    count_duplicates = duplicated_df.shape[0]/2\n",
    "    print('there are: ' + str(count_duplicates) + ' duplicated values')\n",
    "    if count_duplicates > 0:\n",
    "        dropped_df = df.drop_duplicates()\n",
    "        print(str(df.shape[0] - dropped_df.shape[0]) + ' elements were dropped')\n",
    "        return dropped_df\n",
    "    else:\n",
    "        print('no duplicates, nothing dropped')\n",
    "        return df\n",
    "\n",
    "from datetime import datetime\n",
    "def convertTimestamp(df):\n",
    "    df.loc[:, 'datetime'] = df['timestamp'].apply(lambda x: datetime.fromtimestamp(x/1000).strftime('%Y-%m-%d %H:%M:%S'))\n",
    "    return df"
   ],
   "metadata": {
    "collapsed": false,
    "ExecuteTime": {
     "end_time": "2024-05-29T11:37:01.135428Z",
     "start_time": "2024-05-29T11:37:01.132405Z"
    }
   },
   "outputs": [],
   "execution_count": 14
  },
  {
   "cell_type": "markdown",
   "source": [
    "only null values in transaction id, what is ok, because we do not always have that"
   ],
   "metadata": {
    "collapsed": false
   }
  },
  {
   "cell_type": "code",
   "source": [
    "events = convertTimestamp(remove_duplicates(events))\n",
    "events"
   ],
   "metadata": {
    "collapsed": false,
    "ExecuteTime": {
     "end_time": "2024-05-29T11:37:07.592056Z",
     "start_time": "2024-05-29T11:37:01.136104Z"
    }
   },
   "outputs": [
    {
     "name": "stdout",
     "output_type": "stream",
     "text": [
      "there are: 459.0 duplicated values\n",
      "460 elements were dropped\n"
     ]
    },
    {
     "name": "stderr",
     "output_type": "stream",
     "text": [
      "/var/folders/jp/3q1jwf6d5n11rx71jwtqcgv80000gn/T/ipykernel_6923/3217510611.py:15: SettingWithCopyWarning: \n",
      "A value is trying to be set on a copy of a slice from a DataFrame.\n",
      "Try using .loc[row_indexer,col_indexer] = value instead\n",
      "\n",
      "See the caveats in the documentation: https://pandas.pydata.org/pandas-docs/stable/user_guide/indexing.html#returning-a-view-versus-a-copy\n",
      "  df.loc[:, 'datetime'] = df['timestamp'].apply(lambda x: datetime.fromtimestamp(x/1000).strftime('%Y-%m-%d %H:%M:%S'))\n"
     ]
    },
    {
     "data": {
      "text/plain": [
       "             timestamp  visitorid event  itemid  transactionid  \\\n",
       "0        1433221332117     257597  view  355908            NaN   \n",
       "1        1433224214164     992329  view  248676            NaN   \n",
       "2        1433221999827     111016  view  318965            NaN   \n",
       "3        1433221955914     483717  view  253185            NaN   \n",
       "4        1433221337106     951259  view  367447            NaN   \n",
       "...                ...        ...   ...     ...            ...   \n",
       "2756096  1438398785939     591435  view  261427            NaN   \n",
       "2756097  1438399813142     762376  view  115946            NaN   \n",
       "2756098  1438397820527    1251746  view   78144            NaN   \n",
       "2756099  1438398530703    1184451  view  283392            NaN   \n",
       "2756100  1438400163914     199536  view  152913            NaN   \n",
       "\n",
       "                    datetime  \n",
       "0        2015-06-02 07:02:12  \n",
       "1        2015-06-02 07:50:14  \n",
       "2        2015-06-02 07:13:19  \n",
       "3        2015-06-02 07:12:35  \n",
       "4        2015-06-02 07:02:17  \n",
       "...                      ...  \n",
       "2756096  2015-08-01 05:13:05  \n",
       "2756097  2015-08-01 05:30:13  \n",
       "2756098  2015-08-01 04:57:00  \n",
       "2756099  2015-08-01 05:08:50  \n",
       "2756100  2015-08-01 05:36:03  \n",
       "\n",
       "[2755641 rows x 6 columns]"
      ],
      "text/html": [
       "<div>\n",
       "<style scoped>\n",
       "    .dataframe tbody tr th:only-of-type {\n",
       "        vertical-align: middle;\n",
       "    }\n",
       "\n",
       "    .dataframe tbody tr th {\n",
       "        vertical-align: top;\n",
       "    }\n",
       "\n",
       "    .dataframe thead th {\n",
       "        text-align: right;\n",
       "    }\n",
       "</style>\n",
       "<table border=\"1\" class=\"dataframe\">\n",
       "  <thead>\n",
       "    <tr style=\"text-align: right;\">\n",
       "      <th></th>\n",
       "      <th>timestamp</th>\n",
       "      <th>visitorid</th>\n",
       "      <th>event</th>\n",
       "      <th>itemid</th>\n",
       "      <th>transactionid</th>\n",
       "      <th>datetime</th>\n",
       "    </tr>\n",
       "  </thead>\n",
       "  <tbody>\n",
       "    <tr>\n",
       "      <th>0</th>\n",
       "      <td>1433221332117</td>\n",
       "      <td>257597</td>\n",
       "      <td>view</td>\n",
       "      <td>355908</td>\n",
       "      <td>NaN</td>\n",
       "      <td>2015-06-02 07:02:12</td>\n",
       "    </tr>\n",
       "    <tr>\n",
       "      <th>1</th>\n",
       "      <td>1433224214164</td>\n",
       "      <td>992329</td>\n",
       "      <td>view</td>\n",
       "      <td>248676</td>\n",
       "      <td>NaN</td>\n",
       "      <td>2015-06-02 07:50:14</td>\n",
       "    </tr>\n",
       "    <tr>\n",
       "      <th>2</th>\n",
       "      <td>1433221999827</td>\n",
       "      <td>111016</td>\n",
       "      <td>view</td>\n",
       "      <td>318965</td>\n",
       "      <td>NaN</td>\n",
       "      <td>2015-06-02 07:13:19</td>\n",
       "    </tr>\n",
       "    <tr>\n",
       "      <th>3</th>\n",
       "      <td>1433221955914</td>\n",
       "      <td>483717</td>\n",
       "      <td>view</td>\n",
       "      <td>253185</td>\n",
       "      <td>NaN</td>\n",
       "      <td>2015-06-02 07:12:35</td>\n",
       "    </tr>\n",
       "    <tr>\n",
       "      <th>4</th>\n",
       "      <td>1433221337106</td>\n",
       "      <td>951259</td>\n",
       "      <td>view</td>\n",
       "      <td>367447</td>\n",
       "      <td>NaN</td>\n",
       "      <td>2015-06-02 07:02:17</td>\n",
       "    </tr>\n",
       "    <tr>\n",
       "      <th>...</th>\n",
       "      <td>...</td>\n",
       "      <td>...</td>\n",
       "      <td>...</td>\n",
       "      <td>...</td>\n",
       "      <td>...</td>\n",
       "      <td>...</td>\n",
       "    </tr>\n",
       "    <tr>\n",
       "      <th>2756096</th>\n",
       "      <td>1438398785939</td>\n",
       "      <td>591435</td>\n",
       "      <td>view</td>\n",
       "      <td>261427</td>\n",
       "      <td>NaN</td>\n",
       "      <td>2015-08-01 05:13:05</td>\n",
       "    </tr>\n",
       "    <tr>\n",
       "      <th>2756097</th>\n",
       "      <td>1438399813142</td>\n",
       "      <td>762376</td>\n",
       "      <td>view</td>\n",
       "      <td>115946</td>\n",
       "      <td>NaN</td>\n",
       "      <td>2015-08-01 05:30:13</td>\n",
       "    </tr>\n",
       "    <tr>\n",
       "      <th>2756098</th>\n",
       "      <td>1438397820527</td>\n",
       "      <td>1251746</td>\n",
       "      <td>view</td>\n",
       "      <td>78144</td>\n",
       "      <td>NaN</td>\n",
       "      <td>2015-08-01 04:57:00</td>\n",
       "    </tr>\n",
       "    <tr>\n",
       "      <th>2756099</th>\n",
       "      <td>1438398530703</td>\n",
       "      <td>1184451</td>\n",
       "      <td>view</td>\n",
       "      <td>283392</td>\n",
       "      <td>NaN</td>\n",
       "      <td>2015-08-01 05:08:50</td>\n",
       "    </tr>\n",
       "    <tr>\n",
       "      <th>2756100</th>\n",
       "      <td>1438400163914</td>\n",
       "      <td>199536</td>\n",
       "      <td>view</td>\n",
       "      <td>152913</td>\n",
       "      <td>NaN</td>\n",
       "      <td>2015-08-01 05:36:03</td>\n",
       "    </tr>\n",
       "  </tbody>\n",
       "</table>\n",
       "<p>2755641 rows × 6 columns</p>\n",
       "</div>"
      ]
     },
     "execution_count": 15,
     "metadata": {},
     "output_type": "execute_result"
    }
   ],
   "execution_count": 15
  },
  {
   "cell_type": "code",
   "source": [
    "events.visitorid.unique().shape"
   ],
   "metadata": {
    "collapsed": false,
    "ExecuteTime": {
     "end_time": "2024-05-29T11:37:07.631394Z",
     "start_time": "2024-05-29T11:37:07.593014Z"
    }
   },
   "outputs": [
    {
     "data": {
      "text/plain": [
       "(1407580,)"
      ]
     },
     "execution_count": 16,
     "metadata": {},
     "output_type": "execute_result"
    }
   ],
   "execution_count": 16
  },
  {
   "cell_type": "code",
   "source": [
    "item_properties = convertTimestamp(remove_duplicates(item_properties))\n",
    "item_properties"
   ],
   "metadata": {
    "collapsed": false,
    "ExecuteTime": {
     "end_time": "2024-05-29T11:37:52.768163Z",
     "start_time": "2024-05-29T11:37:07.632177Z"
    }
   },
   "outputs": [
    {
     "name": "stdout",
     "output_type": "stream",
     "text": [
      "there are: 0.0 duplicated values\n",
      "no duplicates, nothing dropped\n"
     ]
    },
    {
     "data": {
      "text/plain": [
       "             timestamp  itemid    property                             value  \\\n",
       "0        1435460400000  460429  categoryid                              1338   \n",
       "1        1441508400000  206783         888           1116713 960601 n277.200   \n",
       "2        1439089200000  395014         400   n552.000 639502 n720.000 424566   \n",
       "3        1431226800000   59481         790                        n15360.000   \n",
       "4        1431831600000  156781         917                            828513   \n",
       "...                ...     ...         ...                               ...   \n",
       "9275898  1433646000000  236931         929                           n12.000   \n",
       "9275899  1440903600000  455746           6                     150169 639134   \n",
       "9275900  1439694000000  347565         686                            610834   \n",
       "9275901  1433646000000  287231         867                            769062   \n",
       "9275902  1442113200000  275768         888  888666 n10800.000 746840 1318567   \n",
       "\n",
       "                    datetime  \n",
       "0        2015-06-28 05:00:00  \n",
       "1        2015-09-06 05:00:00  \n",
       "2        2015-08-09 05:00:00  \n",
       "3        2015-05-10 05:00:00  \n",
       "4        2015-05-17 05:00:00  \n",
       "...                      ...  \n",
       "9275898  2015-06-07 05:00:00  \n",
       "9275899  2015-08-30 05:00:00  \n",
       "9275900  2015-08-16 05:00:00  \n",
       "9275901  2015-06-07 05:00:00  \n",
       "9275902  2015-09-13 05:00:00  \n",
       "\n",
       "[20275902 rows x 5 columns]"
      ],
      "text/html": [
       "<div>\n",
       "<style scoped>\n",
       "    .dataframe tbody tr th:only-of-type {\n",
       "        vertical-align: middle;\n",
       "    }\n",
       "\n",
       "    .dataframe tbody tr th {\n",
       "        vertical-align: top;\n",
       "    }\n",
       "\n",
       "    .dataframe thead th {\n",
       "        text-align: right;\n",
       "    }\n",
       "</style>\n",
       "<table border=\"1\" class=\"dataframe\">\n",
       "  <thead>\n",
       "    <tr style=\"text-align: right;\">\n",
       "      <th></th>\n",
       "      <th>timestamp</th>\n",
       "      <th>itemid</th>\n",
       "      <th>property</th>\n",
       "      <th>value</th>\n",
       "      <th>datetime</th>\n",
       "    </tr>\n",
       "  </thead>\n",
       "  <tbody>\n",
       "    <tr>\n",
       "      <th>0</th>\n",
       "      <td>1435460400000</td>\n",
       "      <td>460429</td>\n",
       "      <td>categoryid</td>\n",
       "      <td>1338</td>\n",
       "      <td>2015-06-28 05:00:00</td>\n",
       "    </tr>\n",
       "    <tr>\n",
       "      <th>1</th>\n",
       "      <td>1441508400000</td>\n",
       "      <td>206783</td>\n",
       "      <td>888</td>\n",
       "      <td>1116713 960601 n277.200</td>\n",
       "      <td>2015-09-06 05:00:00</td>\n",
       "    </tr>\n",
       "    <tr>\n",
       "      <th>2</th>\n",
       "      <td>1439089200000</td>\n",
       "      <td>395014</td>\n",
       "      <td>400</td>\n",
       "      <td>n552.000 639502 n720.000 424566</td>\n",
       "      <td>2015-08-09 05:00:00</td>\n",
       "    </tr>\n",
       "    <tr>\n",
       "      <th>3</th>\n",
       "      <td>1431226800000</td>\n",
       "      <td>59481</td>\n",
       "      <td>790</td>\n",
       "      <td>n15360.000</td>\n",
       "      <td>2015-05-10 05:00:00</td>\n",
       "    </tr>\n",
       "    <tr>\n",
       "      <th>4</th>\n",
       "      <td>1431831600000</td>\n",
       "      <td>156781</td>\n",
       "      <td>917</td>\n",
       "      <td>828513</td>\n",
       "      <td>2015-05-17 05:00:00</td>\n",
       "    </tr>\n",
       "    <tr>\n",
       "      <th>...</th>\n",
       "      <td>...</td>\n",
       "      <td>...</td>\n",
       "      <td>...</td>\n",
       "      <td>...</td>\n",
       "      <td>...</td>\n",
       "    </tr>\n",
       "    <tr>\n",
       "      <th>9275898</th>\n",
       "      <td>1433646000000</td>\n",
       "      <td>236931</td>\n",
       "      <td>929</td>\n",
       "      <td>n12.000</td>\n",
       "      <td>2015-06-07 05:00:00</td>\n",
       "    </tr>\n",
       "    <tr>\n",
       "      <th>9275899</th>\n",
       "      <td>1440903600000</td>\n",
       "      <td>455746</td>\n",
       "      <td>6</td>\n",
       "      <td>150169 639134</td>\n",
       "      <td>2015-08-30 05:00:00</td>\n",
       "    </tr>\n",
       "    <tr>\n",
       "      <th>9275900</th>\n",
       "      <td>1439694000000</td>\n",
       "      <td>347565</td>\n",
       "      <td>686</td>\n",
       "      <td>610834</td>\n",
       "      <td>2015-08-16 05:00:00</td>\n",
       "    </tr>\n",
       "    <tr>\n",
       "      <th>9275901</th>\n",
       "      <td>1433646000000</td>\n",
       "      <td>287231</td>\n",
       "      <td>867</td>\n",
       "      <td>769062</td>\n",
       "      <td>2015-06-07 05:00:00</td>\n",
       "    </tr>\n",
       "    <tr>\n",
       "      <th>9275902</th>\n",
       "      <td>1442113200000</td>\n",
       "      <td>275768</td>\n",
       "      <td>888</td>\n",
       "      <td>888666 n10800.000 746840 1318567</td>\n",
       "      <td>2015-09-13 05:00:00</td>\n",
       "    </tr>\n",
       "  </tbody>\n",
       "</table>\n",
       "<p>20275902 rows × 5 columns</p>\n",
       "</div>"
      ]
     },
     "execution_count": 17,
     "metadata": {},
     "output_type": "execute_result"
    }
   ],
   "execution_count": 17
  },
  {
   "cell_type": "code",
   "source": [
    "category_tree = remove_duplicates(category_tree)"
   ],
   "metadata": {
    "collapsed": false,
    "ExecuteTime": {
     "end_time": "2024-05-29T11:37:52.771452Z",
     "start_time": "2024-05-29T11:37:52.768980Z"
    }
   },
   "outputs": [
    {
     "name": "stdout",
     "output_type": "stream",
     "text": [
      "there are: 0.0 duplicated values\n",
      "no duplicates, nothing dropped\n"
     ]
    }
   ],
   "execution_count": 18
  },
  {
   "cell_type": "code",
   "source": [
    "import matplotlib.ticker as ticker\n",
    "event_counts = events.event.value_counts()\n",
    "print(event_counts)\n",
    "\n",
    "plt.bar(event_counts.index, event_counts.values)\n",
    "plt.title('grouped number of events')\n",
    "plt.xlabel('event name')\n",
    "plt.ylabel('number of occurences')\n",
    "\n",
    "# plt.yticks(event_counts.values)\n",
    "plt.show()\n"
   ],
   "metadata": {
    "collapsed": false,
    "ExecuteTime": {
     "end_time": "2024-05-29T11:37:52.969090Z",
     "start_time": "2024-05-29T11:37:52.772213Z"
    }
   },
   "outputs": [
    {
     "name": "stdout",
     "output_type": "stream",
     "text": [
      "event\n",
      "view           2664218\n",
      "addtocart        68966\n",
      "transaction      22457\n",
      "Name: count, dtype: int64\n"
     ]
    },
    {
     "data": {
      "text/plain": [
       "<Figure size 640x480 with 1 Axes>"
      ],
      "image/png": "[encoded data removed]"
     },
     "metadata": {},
     "output_type": "display_data"
    }
   ],
   "execution_count": 19
  },
  {
   "cell_type": "code",
   "source": [
    "plt.bar(event_counts.index[1:], event_counts.values[1:])\n",
    "plt.title('number of addtocart and transaction events')\n",
    "plt.xlabel('event name')\n",
    "plt.ylabel('number of occurences')\n",
    "\n",
    "# plt.yticks(event_counts.values)\n",
    "plt.show()"
   ],
   "metadata": {
    "collapsed": false,
    "ExecuteTime": {
     "end_time": "2024-05-29T11:37:53.034796Z",
     "start_time": "2024-05-29T11:37:52.970119Z"
    }
   },
   "outputs": [
    {
     "data": {
      "text/plain": [
       "<Figure size 640x480 with 1 Axes>"
      ],
      "image/png": "[encoded data removed]"
     },
     "metadata": {},
     "output_type": "display_data"
    }
   ],
   "execution_count": 20
  },
  {
   "cell_type": "code",
   "source": [
    "def sort_array(array):\n",
    "    unique, counts = np.unique(array, return_counts=True)\n",
    "    count_view=dict(zip(unique, counts))\n",
    "    sorted_count_view =sorted(count_view.items(), key=operator.itemgetter(1),reverse=True)\n",
    "    x=[str(i[0]) for i in sorted_count_view]\n",
    "    y=[i[1] for i in sorted_count_view]\n",
    "    return x, y"
   ],
   "metadata": {
    "collapsed": false,
    "ExecuteTime": {
     "end_time": "2024-05-29T11:37:53.037849Z",
     "start_time": "2024-05-29T11:37:53.035410Z"
    }
   },
   "outputs": [],
   "execution_count": 21
  },
  {
   "cell_type": "code",
   "source": [
    "# source https://www.kaggle.com/code/himansh96/eda-e-commerce-dataset\n",
    "grouped=events.groupby('event')['itemid'].apply(list)\n",
    "\n",
    "#most viewed items\n",
    "views=grouped['view']\n",
    "x, y = sort_array(views)\n",
    "print(x[:5],y[:5])\n",
    "plt.bar(x[:5],y[:5], width=0.8)\n",
    "plt.title('Top 5: most viewed items')\n",
    "plt.xlabel('itemid')\n",
    "plt.ylabel('number of views')\n",
    "plt.show()"
   ],
   "metadata": {
    "collapsed": false,
    "ExecuteTime": {
     "end_time": "2024-05-29T11:37:53.786568Z",
     "start_time": "2024-05-29T11:37:53.038551Z"
    }
   },
   "outputs": [
    {
     "name": "stdout",
     "output_type": "stream",
     "text": [
      "['187946', '461686', '5411', '370653', '219512'] [3410, 2538, 2325, 1854, 1740]\n"
     ]
    },
    {
     "data": {
      "text/plain": [
       "<Figure size 640x480 with 1 Axes>"
      ],
      "image/png": "[encoded data removed]"
     },
     "metadata": {},
     "output_type": "display_data"
    }
   ],
   "execution_count": 22
  },
  {
   "cell_type": "code",
   "source": [
    "views=grouped['addtocart']\n",
    "x, y = sort_array(views)\n",
    "print(x[:5],y[:5])\n",
    "plt.bar(x[:5],y[:5], width=0.8)\n",
    "plt.title('Top 5: items most added to cart')\n",
    "plt.xlabel('itemid')\n",
    "plt.ylabel('number of add to cart')\n",
    "plt.show()"
   ],
   "metadata": {
    "collapsed": false,
    "ExecuteTime": {
     "end_time": "2024-05-29T11:37:53.889967Z",
     "start_time": "2024-05-29T11:37:53.787466Z"
    }
   },
   "outputs": [
    {
     "name": "stdout",
     "output_type": "stream",
     "text": [
      "['461686', '312728', '409804', '320130', '29196'] [304, 161, 152, 141, 135]\n"
     ]
    },
    {
     "data": {
      "text/plain": [
       "<Figure size 640x480 with 1 Axes>"
      ],
      "image/png": "[encoded data removed]"
     },
     "metadata": {},
     "output_type": "display_data"
    }
   ],
   "execution_count": 23
  },
  {
   "cell_type": "code",
   "source": [
    "views=grouped['transaction']\n",
    "x, y = sort_array(views)\n",
    "print(x[:5],y[:5])\n",
    "plt.bar(x[:5],y[:5], width=0.8)\n",
    "plt.title('Top 5: most bought items')\n",
    "plt.xlabel('itemid')\n",
    "plt.ylabel('number of transactions')\n",
    "plt.show()"
   ],
   "metadata": {
    "collapsed": false,
    "ExecuteTime": {
     "end_time": "2024-05-29T11:37:53.978859Z",
     "start_time": "2024-05-29T11:37:53.894375Z"
    }
   },
   "outputs": [
    {
     "name": "stdout",
     "output_type": "stream",
     "text": [
      "['461686', '119736', '213834', '7943', '312728'] [133, 97, 92, 46, 46]\n"
     ]
    },
    {
     "data": {
      "text/plain": [
       "<Figure size 640x480 with 1 Axes>"
      ],
      "image/png": "[encoded data removed]"
     },
     "metadata": {},
     "output_type": "display_data"
    }
   ],
   "execution_count": 24
  },
  {
   "cell_type": "code",
   "source": [
    "# source for following graphs https://www.kaggle.com/code/allanyiinai/recommmandation-find-similar-behavior\n",
    "import datetime\n",
    "events_copy = events.copy()\n",
    "events_copy['timestamp']=pd.to_datetime(events_copy['timestamp'],unit='ms')\n",
    "\n",
    "events_copy['hour'] = events_copy['timestamp'].dt.hour\n",
    "events_copy['date'] = events_copy['timestamp'].dt.date\n",
    "events_copy['cnt']=1.0\n",
    "print(events_copy['timestamp'].min(),events_copy['timestamp'].max())\n",
    "events_copy"
   ],
   "metadata": {
    "collapsed": false,
    "ExecuteTime": {
     "end_time": "2024-05-29T11:37:54.490846Z",
     "start_time": "2024-05-29T11:37:53.979730Z"
    }
   },
   "outputs": [
    {
     "name": "stdout",
     "output_type": "stream",
     "text": [
      "2015-05-03 03:00:04.384000 2015-09-18 02:59:47.788000\n"
     ]
    },
    {
     "data": {
      "text/plain": [
       "                      timestamp  visitorid event  itemid  transactionid  \\\n",
       "0       2015-06-02 05:02:12.117     257597  view  355908            NaN   \n",
       "1       2015-06-02 05:50:14.164     992329  view  248676            NaN   \n",
       "2       2015-06-02 05:13:19.827     111016  view  318965            NaN   \n",
       "3       2015-06-02 05:12:35.914     483717  view  253185            NaN   \n",
       "4       2015-06-02 05:02:17.106     951259  view  367447            NaN   \n",
       "...                         ...        ...   ...     ...            ...   \n",
       "2756096 2015-08-01 03:13:05.939     591435  view  261427            NaN   \n",
       "2756097 2015-08-01 03:30:13.142     762376  view  115946            NaN   \n",
       "2756098 2015-08-01 02:57:00.527    1251746  view   78144            NaN   \n",
       "2756099 2015-08-01 03:08:50.703    1184451  view  283392            NaN   \n",
       "2756100 2015-08-01 03:36:03.914     199536  view  152913            NaN   \n",
       "\n",
       "                    datetime  hour        date  cnt  \n",
       "0        2015-06-02 07:02:12     5  2015-06-02  1.0  \n",
       "1        2015-06-02 07:50:14     5  2015-06-02  1.0  \n",
       "2        2015-06-02 07:13:19     5  2015-06-02  1.0  \n",
       "3        2015-06-02 07:12:35     5  2015-06-02  1.0  \n",
       "4        2015-06-02 07:02:17     5  2015-06-02  1.0  \n",
       "...                      ...   ...         ...  ...  \n",
       "2756096  2015-08-01 05:13:05     3  2015-08-01  1.0  \n",
       "2756097  2015-08-01 05:30:13     3  2015-08-01  1.0  \n",
       "2756098  2015-08-01 04:57:00     2  2015-08-01  1.0  \n",
       "2756099  2015-08-01 05:08:50     3  2015-08-01  1.0  \n",
       "2756100  2015-08-01 05:36:03     3  2015-08-01  1.0  \n",
       "\n",
       "[2755641 rows x 9 columns]"
      ],
      "text/html": [
       "<div>\n",
       "<style scoped>\n",
       "    .dataframe tbody tr th:only-of-type {\n",
       "        vertical-align: middle;\n",
       "    }\n",
       "\n",
       "    .dataframe tbody tr th {\n",
       "        vertical-align: top;\n",
       "    }\n",
       "\n",
       "    .dataframe thead th {\n",
       "        text-align: right;\n",
       "    }\n",
       "</style>\n",
       "<table border=\"1\" class=\"dataframe\">\n",
       "  <thead>\n",
       "    <tr style=\"text-align: right;\">\n",
       "      <th></th>\n",
       "      <th>timestamp</th>\n",
       "      <th>visitorid</th>\n",
       "      <th>event</th>\n",
       "      <th>itemid</th>\n",
       "      <th>transactionid</th>\n",
       "      <th>datetime</th>\n",
       "      <th>hour</th>\n",
       "      <th>date</th>\n",
       "      <th>cnt</th>\n",
       "    </tr>\n",
       "  </thead>\n",
       "  <tbody>\n",
       "    <tr>\n",
       "      <th>0</th>\n",
       "      <td>2015-06-02 05:02:12.117</td>\n",
       "      <td>257597</td>\n",
       "      <td>view</td>\n",
       "      <td>355908</td>\n",
       "      <td>NaN</td>\n",
       "      <td>2015-06-02 07:02:12</td>\n",
       "      <td>5</td>\n",
       "      <td>2015-06-02</td>\n",
       "      <td>1.0</td>\n",
       "    </tr>\n",
       "    <tr>\n",
       "      <th>1</th>\n",
       "      <td>2015-06-02 05:50:14.164</td>\n",
       "      <td>992329</td>\n",
       "      <td>view</td>\n",
       "      <td>248676</td>\n",
       "      <td>NaN</td>\n",
       "      <td>2015-06-02 07:50:14</td>\n",
       "      <td>5</td>\n",
       "      <td>2015-06-02</td>\n",
       "      <td>1.0</td>\n",
       "    </tr>\n",
       "    <tr>\n",
       "      <th>2</th>\n",
       "      <td>2015-06-02 05:13:19.827</td>\n",
       "      <td>111016</td>\n",
       "      <td>view</td>\n",
       "      <td>318965</td>\n",
       "      <td>NaN</td>\n",
       "      <td>2015-06-02 07:13:19</td>\n",
       "      <td>5</td>\n",
       "      <td>2015-06-02</td>\n",
       "      <td>1.0</td>\n",
       "    </tr>\n",
       "    <tr>\n",
       "      <th>3</th>\n",
       "      <td>2015-06-02 05:12:35.914</td>\n",
       "      <td>483717</td>\n",
       "      <td>view</td>\n",
       "      <td>253185</td>\n",
       "      <td>NaN</td>\n",
       "      <td>2015-06-02 07:12:35</td>\n",
       "      <td>5</td>\n",
       "      <td>2015-06-02</td>\n",
       "      <td>1.0</td>\n",
       "    </tr>\n",
       "    <tr>\n",
       "      <th>4</th>\n",
       "      <td>2015-06-02 05:02:17.106</td>\n",
       "      <td>951259</td>\n",
       "      <td>view</td>\n",
       "      <td>367447</td>\n",
       "      <td>NaN</td>\n",
       "      <td>2015-06-02 07:02:17</td>\n",
       "      <td>5</td>\n",
       "      <td>2015-06-02</td>\n",
       "      <td>1.0</td>\n",
       "    </tr>\n",
       "    <tr>\n",
       "      <th>...</th>\n",
       "      <td>...</td>\n",
       "      <td>...</td>\n",
       "      <td>...</td>\n",
       "      <td>...</td>\n",
       "      <td>...</td>\n",
       "      <td>...</td>\n",
       "      <td>...</td>\n",
       "      <td>...</td>\n",
       "      <td>...</td>\n",
       "    </tr>\n",
       "    <tr>\n",
       "      <th>2756096</th>\n",
       "      <td>2015-08-01 03:13:05.939</td>\n",
       "      <td>591435</td>\n",
       "      <td>view</td>\n",
       "      <td>261427</td>\n",
       "      <td>NaN</td>\n",
       "      <td>2015-08-01 05:13:05</td>\n",
       "      <td>3</td>\n",
       "      <td>2015-08-01</td>\n",
       "      <td>1.0</td>\n",
       "    </tr>\n",
       "    <tr>\n",
       "      <th>2756097</th>\n",
       "      <td>2015-08-01 03:30:13.142</td>\n",
       "      <td>762376</td>\n",
       "      <td>view</td>\n",
       "      <td>115946</td>\n",
       "      <td>NaN</td>\n",
       "      <td>2015-08-01 05:30:13</td>\n",
       "      <td>3</td>\n",
       "      <td>2015-08-01</td>\n",
       "      <td>1.0</td>\n",
       "    </tr>\n",
       "    <tr>\n",
       "      <th>2756098</th>\n",
       "      <td>2015-08-01 02:57:00.527</td>\n",
       "      <td>1251746</td>\n",
       "      <td>view</td>\n",
       "      <td>78144</td>\n",
       "      <td>NaN</td>\n",
       "      <td>2015-08-01 04:57:00</td>\n",
       "      <td>2</td>\n",
       "      <td>2015-08-01</td>\n",
       "      <td>1.0</td>\n",
       "    </tr>\n",
       "    <tr>\n",
       "      <th>2756099</th>\n",
       "      <td>2015-08-01 03:08:50.703</td>\n",
       "      <td>1184451</td>\n",
       "      <td>view</td>\n",
       "      <td>283392</td>\n",
       "      <td>NaN</td>\n",
       "      <td>2015-08-01 05:08:50</td>\n",
       "      <td>3</td>\n",
       "      <td>2015-08-01</td>\n",
       "      <td>1.0</td>\n",
       "    </tr>\n",
       "    <tr>\n",
       "      <th>2756100</th>\n",
       "      <td>2015-08-01 03:36:03.914</td>\n",
       "      <td>199536</td>\n",
       "      <td>view</td>\n",
       "      <td>152913</td>\n",
       "      <td>NaN</td>\n",
       "      <td>2015-08-01 05:36:03</td>\n",
       "      <td>3</td>\n",
       "      <td>2015-08-01</td>\n",
       "      <td>1.0</td>\n",
       "    </tr>\n",
       "  </tbody>\n",
       "</table>\n",
       "<p>2755641 rows × 9 columns</p>\n",
       "</div>"
      ]
     },
     "execution_count": 25,
     "metadata": {},
     "output_type": "execute_result"
    }
   ],
   "execution_count": 25
  },
  {
   "cell_type": "code",
   "source": [
    "\n",
    "events_copy['cnt'] = events_copy['cnt'].astype(float)\n",
    "events_copy['hour'] = events_copy['hour'].astype(int)\n",
    "#grouped_date_event_no_views = grouped_date_event_no_views[grouped_date_event_no_views['event'] != 'view'].groupby(['date','event'])\n",
    "\n",
    "events_subset = events_copy[['date', 'event', 'cnt', 'hour']]\n",
    "events_subset"
   ],
   "metadata": {
    "collapsed": false,
    "ExecuteTime": {
     "end_time": "2024-05-29T11:37:54.540631Z",
     "start_time": "2024-05-29T11:37:54.491641Z"
    }
   },
   "outputs": [
    {
     "data": {
      "text/plain": [
       "               date event  cnt  hour\n",
       "0        2015-06-02  view  1.0     5\n",
       "1        2015-06-02  view  1.0     5\n",
       "2        2015-06-02  view  1.0     5\n",
       "3        2015-06-02  view  1.0     5\n",
       "4        2015-06-02  view  1.0     5\n",
       "...             ...   ...  ...   ...\n",
       "2756096  2015-08-01  view  1.0     3\n",
       "2756097  2015-08-01  view  1.0     3\n",
       "2756098  2015-08-01  view  1.0     2\n",
       "2756099  2015-08-01  view  1.0     3\n",
       "2756100  2015-08-01  view  1.0     3\n",
       "\n",
       "[2755641 rows x 4 columns]"
      ],
      "text/html": [
       "<div>\n",
       "<style scoped>\n",
       "    .dataframe tbody tr th:only-of-type {\n",
       "        vertical-align: middle;\n",
       "    }\n",
       "\n",
       "    .dataframe tbody tr th {\n",
       "        vertical-align: top;\n",
       "    }\n",
       "\n",
       "    .dataframe thead th {\n",
       "        text-align: right;\n",
       "    }\n",
       "</style>\n",
       "<table border=\"1\" class=\"dataframe\">\n",
       "  <thead>\n",
       "    <tr style=\"text-align: right;\">\n",
       "      <th></th>\n",
       "      <th>date</th>\n",
       "      <th>event</th>\n",
       "      <th>cnt</th>\n",
       "      <th>hour</th>\n",
       "    </tr>\n",
       "  </thead>\n",
       "  <tbody>\n",
       "    <tr>\n",
       "      <th>0</th>\n",
       "      <td>2015-06-02</td>\n",
       "      <td>view</td>\n",
       "      <td>1.0</td>\n",
       "      <td>5</td>\n",
       "    </tr>\n",
       "    <tr>\n",
       "      <th>1</th>\n",
       "      <td>2015-06-02</td>\n",
       "      <td>view</td>\n",
       "      <td>1.0</td>\n",
       "      <td>5</td>\n",
       "    </tr>\n",
       "    <tr>\n",
       "      <th>2</th>\n",
       "      <td>2015-06-02</td>\n",
       "      <td>view</td>\n",
       "      <td>1.0</td>\n",
       "      <td>5</td>\n",
       "    </tr>\n",
       "    <tr>\n",
       "      <th>3</th>\n",
       "      <td>2015-06-02</td>\n",
       "      <td>view</td>\n",
       "      <td>1.0</td>\n",
       "      <td>5</td>\n",
       "    </tr>\n",
       "    <tr>\n",
       "      <th>4</th>\n",
       "      <td>2015-06-02</td>\n",
       "      <td>view</td>\n",
       "      <td>1.0</td>\n",
       "      <td>5</td>\n",
       "    </tr>\n",
       "    <tr>\n",
       "      <th>...</th>\n",
       "      <td>...</td>\n",
       "      <td>...</td>\n",
       "      <td>...</td>\n",
       "      <td>...</td>\n",
       "    </tr>\n",
       "    <tr>\n",
       "      <th>2756096</th>\n",
       "      <td>2015-08-01</td>\n",
       "      <td>view</td>\n",
       "      <td>1.0</td>\n",
       "      <td>3</td>\n",
       "    </tr>\n",
       "    <tr>\n",
       "      <th>2756097</th>\n",
       "      <td>2015-08-01</td>\n",
       "      <td>view</td>\n",
       "      <td>1.0</td>\n",
       "      <td>3</td>\n",
       "    </tr>\n",
       "    <tr>\n",
       "      <th>2756098</th>\n",
       "      <td>2015-08-01</td>\n",
       "      <td>view</td>\n",
       "      <td>1.0</td>\n",
       "      <td>2</td>\n",
       "    </tr>\n",
       "    <tr>\n",
       "      <th>2756099</th>\n",
       "      <td>2015-08-01</td>\n",
       "      <td>view</td>\n",
       "      <td>1.0</td>\n",
       "      <td>3</td>\n",
       "    </tr>\n",
       "    <tr>\n",
       "      <th>2756100</th>\n",
       "      <td>2015-08-01</td>\n",
       "      <td>view</td>\n",
       "      <td>1.0</td>\n",
       "      <td>3</td>\n",
       "    </tr>\n",
       "  </tbody>\n",
       "</table>\n",
       "<p>2755641 rows × 4 columns</p>\n",
       "</div>"
      ]
     },
     "execution_count": 26,
     "metadata": {},
     "output_type": "execute_result"
    }
   ],
   "execution_count": 26
  },
  {
   "cell_type": "code",
   "source": [
    "fig, ax = plt.subplots(figsize=(15,7))\n",
    "plt.title('Interactions per day')\n",
    "ax.set_xlabel(\"date\")\n",
    "ax.set_ylabel(\"interactions\")\n",
    "labels = ['add-to-cart', 'transaction']\n",
    "events_subset[events_subset['event'] != 'view'].groupby(['date','event']).sum()['cnt'].unstack().plot(ax=ax, color=[color_green, color_orange])\n",
    "plt.legend(labels)\n",
    "plt.show()"
   ],
   "metadata": {
    "collapsed": false,
    "ExecuteTime": {
     "end_time": "2024-05-29T11:37:54.900764Z",
     "start_time": "2024-05-29T11:37:54.541526Z"
    }
   },
   "outputs": [
    {
     "data": {
      "text/plain": [
       "<Figure size 1500x700 with 1 Axes>"
      ],
      "image/png": "[encoded data removed]"
     },
     "metadata": {},
     "output_type": "display_data"
    }
   ],
   "execution_count": 27
  },
  {
   "cell_type": "code",
   "source": [
    "fig, ax = plt.subplots(figsize=(15,7))\n",
    "plt.title('Interactions per day (no views)')\n",
    "events_subset[events_subset['event'] != 'view'].groupby(['date','event']).sum()['cnt'].unstack().plot(ax=ax, color=[color_green, color_orange])"
   ],
   "metadata": {
    "collapsed": false,
    "ExecuteTime": {
     "end_time": "2024-05-29T11:37:55.292156Z",
     "start_time": "2024-05-29T11:37:54.901927Z"
    }
   },
   "outputs": [
    {
     "data": {
      "text/plain": [
       "<Axes: title={'center': 'Interactions per day (no views)'}, xlabel='date'>"
      ]
     },
     "execution_count": 28,
     "metadata": {},
     "output_type": "execute_result"
    },
    {
     "data": {
      "text/plain": [
       "<Figure size 1500x700 with 1 Axes>"
      ],
      "image/png": "[encoded data removed]"
     },
     "metadata": {},
     "output_type": "display_data"
    }
   ],
   "execution_count": 28
  },
  {
   "cell_type": "code",
   "source": [
    "temp_subset = events_subset[['hour', 'event', 'cnt']]\n",
    "grouped_hour_data = temp_subset.groupby(['hour', 'event']).sum()['cnt']\n",
    "\n",
    "fig, ax = plt.subplots(figsize=(15,7))\n",
    "plt.title('interaction by hour (no views)')\n",
    "grouped_hour_data.unstack().plot(ax=ax)"
   ],
   "metadata": {
    "collapsed": false,
    "ExecuteTime": {
     "end_time": "2024-05-29T11:37:55.591338Z",
     "start_time": "2024-05-29T11:37:55.292868Z"
    }
   },
   "outputs": [
    {
     "data": {
      "text/plain": [
       "<Axes: title={'center': 'interaction by hour (no views)'}, xlabel='hour'>"
      ]
     },
     "execution_count": 29,
     "metadata": {},
     "output_type": "execute_result"
    },
    {
     "data": {
      "text/plain": [
       "<Figure size 1500x700 with 1 Axes>"
      ],
      "image/png": "[encoded data removed]"
     },
     "metadata": {},
     "output_type": "display_data"
    }
   ],
   "execution_count": 29
  },
  {
   "cell_type": "code",
   "source": [
    "#events_copy[events_copy['event'] != 'view'].groupby(['date', 'event']).sum()['cnt'].unstack().plot(ax=ax)\n",
    "temp_subset = events_subset[['hour', 'event', 'cnt']]\n",
    "fig, ax = plt.subplots(figsize=(15, 7))\n",
    "plt.title('interaction by hour (no views)')\n",
    "temp_subset[temp_subset['event'] != 'view'].groupby(['hour', 'event']).sum()['cnt'].unstack().plot(ax=ax)"
   ],
   "metadata": {
    "collapsed": false,
    "ExecuteTime": {
     "end_time": "2024-05-29T11:37:55.855029Z",
     "start_time": "2024-05-29T11:37:55.592242Z"
    }
   },
   "outputs": [
    {
     "data": {
      "text/plain": [
       "<Axes: title={'center': 'interaction by hour (no views)'}, xlabel='hour'>"
      ]
     },
     "execution_count": 30,
     "metadata": {},
     "output_type": "execute_result"
    },
    {
     "data": {
      "text/plain": [
       "<Figure size 1500x700 with 1 Axes>"
      ],
      "image/png": "[encoded data removed]"
     },
     "metadata": {},
     "output_type": "display_data"
    }
   ],
   "execution_count": 30
  },
  {
   "cell_type": "code",
   "source": [
    "df1=events_copy.groupby(['hour','event','visitorid']).sum(['cnt'])\n",
    "df1"
   ],
   "metadata": {
    "collapsed": false,
    "ExecuteTime": {
     "end_time": "2024-05-29T11:37:56.694935Z",
     "start_time": "2024-05-29T11:37:55.855747Z"
    }
   },
   "outputs": [
    {
     "data": {
      "text/plain": [
       "                           itemid  transactionid  cnt\n",
       "hour event     visitorid                             \n",
       "0    addtocart 172          10034            0.0  1.0\n",
       "               745         246164            0.0  1.0\n",
       "               914         382946            0.0  1.0\n",
       "               1765        330469            0.0  1.0\n",
       "               2114        342264            0.0  1.0\n",
       "...                           ...            ...  ...\n",
       "23   view      1407412     238369            0.0  1.0\n",
       "               1407423     129764            0.0  3.0\n",
       "               1407424     584428            0.0  2.0\n",
       "               1407483     355595            0.0  1.0\n",
       "               1407527    1194526            0.0  6.0\n",
       "\n",
       "[1770629 rows x 3 columns]"
      ],
      "text/html": [
       "<div>\n",
       "<style scoped>\n",
       "    .dataframe tbody tr th:only-of-type {\n",
       "        vertical-align: middle;\n",
       "    }\n",
       "\n",
       "    .dataframe tbody tr th {\n",
       "        vertical-align: top;\n",
       "    }\n",
       "\n",
       "    .dataframe thead th {\n",
       "        text-align: right;\n",
       "    }\n",
       "</style>\n",
       "<table border=\"1\" class=\"dataframe\">\n",
       "  <thead>\n",
       "    <tr style=\"text-align: right;\">\n",
       "      <th></th>\n",
       "      <th></th>\n",
       "      <th></th>\n",
       "      <th>itemid</th>\n",
       "      <th>transactionid</th>\n",
       "      <th>cnt</th>\n",
       "    </tr>\n",
       "    <tr>\n",
       "      <th>hour</th>\n",
       "      <th>event</th>\n",
       "      <th>visitorid</th>\n",
       "      <th></th>\n",
       "      <th></th>\n",
       "      <th></th>\n",
       "    </tr>\n",
       "  </thead>\n",
       "  <tbody>\n",
       "    <tr>\n",
       "      <th rowspan=\"5\" valign=\"top\">0</th>\n",
       "      <th rowspan=\"5\" valign=\"top\">addtocart</th>\n",
       "      <th>172</th>\n",
       "      <td>10034</td>\n",
       "      <td>0.0</td>\n",
       "      <td>1.0</td>\n",
       "    </tr>\n",
       "    <tr>\n",
       "      <th>745</th>\n",
       "      <td>246164</td>\n",
       "      <td>0.0</td>\n",
       "      <td>1.0</td>\n",
       "    </tr>\n",
       "    <tr>\n",
       "      <th>914</th>\n",
       "      <td>382946</td>\n",
       "      <td>0.0</td>\n",
       "      <td>1.0</td>\n",
       "    </tr>\n",
       "    <tr>\n",
       "      <th>1765</th>\n",
       "      <td>330469</td>\n",
       "      <td>0.0</td>\n",
       "      <td>1.0</td>\n",
       "    </tr>\n",
       "    <tr>\n",
       "      <th>2114</th>\n",
       "      <td>342264</td>\n",
       "      <td>0.0</td>\n",
       "      <td>1.0</td>\n",
       "    </tr>\n",
       "    <tr>\n",
       "      <th>...</th>\n",
       "      <th>...</th>\n",
       "      <th>...</th>\n",
       "      <td>...</td>\n",
       "      <td>...</td>\n",
       "      <td>...</td>\n",
       "    </tr>\n",
       "    <tr>\n",
       "      <th rowspan=\"5\" valign=\"top\">23</th>\n",
       "      <th rowspan=\"5\" valign=\"top\">view</th>\n",
       "      <th>1407412</th>\n",
       "      <td>238369</td>\n",
       "      <td>0.0</td>\n",
       "      <td>1.0</td>\n",
       "    </tr>\n",
       "    <tr>\n",
       "      <th>1407423</th>\n",
       "      <td>129764</td>\n",
       "      <td>0.0</td>\n",
       "      <td>3.0</td>\n",
       "    </tr>\n",
       "    <tr>\n",
       "      <th>1407424</th>\n",
       "      <td>584428</td>\n",
       "      <td>0.0</td>\n",
       "      <td>2.0</td>\n",
       "    </tr>\n",
       "    <tr>\n",
       "      <th>1407483</th>\n",
       "      <td>355595</td>\n",
       "      <td>0.0</td>\n",
       "      <td>1.0</td>\n",
       "    </tr>\n",
       "    <tr>\n",
       "      <th>1407527</th>\n",
       "      <td>1194526</td>\n",
       "      <td>0.0</td>\n",
       "      <td>6.0</td>\n",
       "    </tr>\n",
       "  </tbody>\n",
       "</table>\n",
       "<p>1770629 rows × 3 columns</p>\n",
       "</div>"
      ]
     },
     "execution_count": 31,
     "metadata": {},
     "output_type": "execute_result"
    }
   ],
   "execution_count": 31
  },
  {
   "cell_type": "code",
   "source": [
    "#https://www.kaggle.com/code/niteshsahujhansi/product-recommendation-system\n",
    "customer_purchased = events[events.transactionid.notnull()].visitorid.unique()\n",
    "print('customers who bought something: ', customer_purchased.size)"
   ],
   "metadata": {
    "collapsed": false,
    "ExecuteTime": {
     "end_time": "2024-05-29T11:37:56.706795Z",
     "start_time": "2024-05-29T11:37:56.696092Z"
    }
   },
   "outputs": [
    {
     "name": "stdout",
     "output_type": "stream",
     "text": [
      "customers who bought something:  11719\n"
     ]
    }
   ],
   "execution_count": 32
  },
  {
   "cell_type": "code",
   "source": [
    "all_customers = events.visitorid.unique()\n",
    "\n",
    "customer_browsed = [x for x in all_customers if x not in customer_purchased]\n",
    "print('customers who bought nothing: ',len(customer_browsed))"
   ],
   "metadata": {
    "collapsed": false,
    "ExecuteTime": {
     "end_time": "2024-05-29T11:38:00.816373Z",
     "start_time": "2024-05-29T11:37:56.707448Z"
    }
   },
   "outputs": [
    {
     "name": "stdout",
     "output_type": "stream",
     "text": [
      "customers who bought nothing:  1395861\n"
     ]
    }
   ],
   "execution_count": 33
  },
  {
   "cell_type": "code",
   "source": [
    "# https://www.kaggle.com/code/shubhamb99/rajani-hackathon\n",
    "all_bought_events = events.loc[events['visitorid'].isin(customer_purchased)].sort_values('timestamp').reset_index(drop=True)\n",
    "display(all_bought_events)"
   ],
   "metadata": {
    "collapsed": false,
    "ExecuteTime": {
     "end_time": "2024-05-29T11:38:00.920523Z",
     "start_time": "2024-05-29T11:38:00.817269Z"
    }
   },
   "outputs": [
    {
     "data": {
      "text/plain": [
       "            timestamp  visitorid      event  itemid  transactionid  \\\n",
       "0       1430622200404      41386       view  340921            NaN   \n",
       "1       1430622568107     345781       view  438400            NaN   \n",
       "2       1430622693415     345781  addtocart  438400            NaN   \n",
       "3       1430622930536     560305       view   43939            NaN   \n",
       "4       1430623437020     266417       view  445106            NaN   \n",
       "...               ...        ...        ...     ...            ...   \n",
       "230601  1442544483164     152963       view  311082            NaN   \n",
       "230602  1442544492421     152963       view  311082            NaN   \n",
       "230603  1442544526605     152963       view  134455            NaN   \n",
       "230604  1442544701919     994820       view  440677            NaN   \n",
       "230605  1442544741219     994820       view   89323            NaN   \n",
       "\n",
       "                   datetime  \n",
       "0       2015-05-03 05:03:20  \n",
       "1       2015-05-03 05:09:28  \n",
       "2       2015-05-03 05:11:33  \n",
       "3       2015-05-03 05:15:30  \n",
       "4       2015-05-03 05:23:57  \n",
       "...                     ...  \n",
       "230601  2015-09-18 04:48:03  \n",
       "230602  2015-09-18 04:48:12  \n",
       "230603  2015-09-18 04:48:46  \n",
       "230604  2015-09-18 04:51:41  \n",
       "230605  2015-09-18 04:52:21  \n",
       "\n",
       "[230606 rows x 6 columns]"
      ],
      "text/html": [
       "<div>\n",
       "<style scoped>\n",
       "    .dataframe tbody tr th:only-of-type {\n",
       "        vertical-align: middle;\n",
       "    }\n",
       "\n",
       "    .dataframe tbody tr th {\n",
       "        vertical-align: top;\n",
       "    }\n",
       "\n",
       "    .dataframe thead th {\n",
       "        text-align: right;\n",
       "    }\n",
       "</style>\n",
       "<table border=\"1\" class=\"dataframe\">\n",
       "  <thead>\n",
       "    <tr style=\"text-align: right;\">\n",
       "      <th></th>\n",
       "      <th>timestamp</th>\n",
       "      <th>visitorid</th>\n",
       "      <th>event</th>\n",
       "      <th>itemid</th>\n",
       "      <th>transactionid</th>\n",
       "      <th>datetime</th>\n",
       "    </tr>\n",
       "  </thead>\n",
       "  <tbody>\n",
       "    <tr>\n",
       "      <th>0</th>\n",
       "      <td>1430622200404</td>\n",
       "      <td>41386</td>\n",
       "      <td>view</td>\n",
       "      <td>340921</td>\n",
       "      <td>NaN</td>\n",
       "      <td>2015-05-03 05:03:20</td>\n",
       "    </tr>\n",
       "    <tr>\n",
       "      <th>1</th>\n",
       "      <td>1430622568107</td>\n",
       "      <td>345781</td>\n",
       "      <td>view</td>\n",
       "      <td>438400</td>\n",
       "      <td>NaN</td>\n",
       "      <td>2015-05-03 05:09:28</td>\n",
       "    </tr>\n",
       "    <tr>\n",
       "      <th>2</th>\n",
       "      <td>1430622693415</td>\n",
       "      <td>345781</td>\n",
       "      <td>addtocart</td>\n",
       "      <td>438400</td>\n",
       "      <td>NaN</td>\n",
       "      <td>2015-05-03 05:11:33</td>\n",
       "    </tr>\n",
       "    <tr>\n",
       "      <th>3</th>\n",
       "      <td>1430622930536</td>\n",
       "      <td>560305</td>\n",
       "      <td>view</td>\n",
       "      <td>43939</td>\n",
       "      <td>NaN</td>\n",
       "      <td>2015-05-03 05:15:30</td>\n",
       "    </tr>\n",
       "    <tr>\n",
       "      <th>4</th>\n",
       "      <td>1430623437020</td>\n",
       "      <td>266417</td>\n",
       "      <td>view</td>\n",
       "      <td>445106</td>\n",
       "      <td>NaN</td>\n",
       "      <td>2015-05-03 05:23:57</td>\n",
       "    </tr>\n",
       "    <tr>\n",
       "      <th>...</th>\n",
       "      <td>...</td>\n",
       "      <td>...</td>\n",
       "      <td>...</td>\n",
       "      <td>...</td>\n",
       "      <td>...</td>\n",
       "      <td>...</td>\n",
       "    </tr>\n",
       "    <tr>\n",
       "      <th>230601</th>\n",
       "      <td>1442544483164</td>\n",
       "      <td>152963</td>\n",
       "      <td>view</td>\n",
       "      <td>311082</td>\n",
       "      <td>NaN</td>\n",
       "      <td>2015-09-18 04:48:03</td>\n",
       "    </tr>\n",
       "    <tr>\n",
       "      <th>230602</th>\n",
       "      <td>1442544492421</td>\n",
       "      <td>152963</td>\n",
       "      <td>view</td>\n",
       "      <td>311082</td>\n",
       "      <td>NaN</td>\n",
       "      <td>2015-09-18 04:48:12</td>\n",
       "    </tr>\n",
       "    <tr>\n",
       "      <th>230603</th>\n",
       "      <td>1442544526605</td>\n",
       "      <td>152963</td>\n",
       "      <td>view</td>\n",
       "      <td>134455</td>\n",
       "      <td>NaN</td>\n",
       "      <td>2015-09-18 04:48:46</td>\n",
       "    </tr>\n",
       "    <tr>\n",
       "      <th>230604</th>\n",
       "      <td>1442544701919</td>\n",
       "      <td>994820</td>\n",
       "      <td>view</td>\n",
       "      <td>440677</td>\n",
       "      <td>NaN</td>\n",
       "      <td>2015-09-18 04:51:41</td>\n",
       "    </tr>\n",
       "    <tr>\n",
       "      <th>230605</th>\n",
       "      <td>1442544741219</td>\n",
       "      <td>994820</td>\n",
       "      <td>view</td>\n",
       "      <td>89323</td>\n",
       "      <td>NaN</td>\n",
       "      <td>2015-09-18 04:52:21</td>\n",
       "    </tr>\n",
       "  </tbody>\n",
       "</table>\n",
       "<p>230606 rows × 6 columns</p>\n",
       "</div>"
      ]
     },
     "metadata": {},
     "output_type": "display_data"
    }
   ],
   "execution_count": 34
  },
  {
   "cell_type": "code",
   "source": [
    "random_events_df = events.loc[events.visitorid.isin(all_customers)].sort_values('timestamp').reset_index(drop=True)\n",
    "display(random_events_df)"
   ],
   "metadata": {
    "collapsed": false,
    "ExecuteTime": {
     "end_time": "2024-05-29T11:38:01.354765Z",
     "start_time": "2024-05-29T11:38:00.921260Z"
    }
   },
   "outputs": [
    {
     "data": {
      "text/plain": [
       "             timestamp  visitorid      event  itemid  transactionid  \\\n",
       "0        1430622004384     693516  addtocart  297662            NaN   \n",
       "1        1430622011289     829044       view   60987            NaN   \n",
       "2        1430622013048     652699       view  252860            NaN   \n",
       "3        1430622024154    1125936       view   33661            NaN   \n",
       "4        1430622026228     693516       view  297662            NaN   \n",
       "...                ...        ...        ...     ...            ...   \n",
       "2755636  1442545164029     472345       view  301436            NaN   \n",
       "2755637  1442545165499    1207677       view  310922            NaN   \n",
       "2755638  1442545174109     255126       view   47467            NaN   \n",
       "2755639  1442545181778     622226       view  345308            NaN   \n",
       "2755640  1442545187788    1287495       view   98299            NaN   \n",
       "\n",
       "                    datetime  \n",
       "0        2015-05-03 05:00:04  \n",
       "1        2015-05-03 05:00:11  \n",
       "2        2015-05-03 05:00:13  \n",
       "3        2015-05-03 05:00:24  \n",
       "4        2015-05-03 05:00:26  \n",
       "...                      ...  \n",
       "2755636  2015-09-18 04:59:24  \n",
       "2755637  2015-09-18 04:59:25  \n",
       "2755638  2015-09-18 04:59:34  \n",
       "2755639  2015-09-18 04:59:41  \n",
       "2755640  2015-09-18 04:59:47  \n",
       "\n",
       "[2755641 rows x 6 columns]"
      ],
      "text/html": [
       "<div>\n",
       "<style scoped>\n",
       "    .dataframe tbody tr th:only-of-type {\n",
       "        vertical-align: middle;\n",
       "    }\n",
       "\n",
       "    .dataframe tbody tr th {\n",
       "        vertical-align: top;\n",
       "    }\n",
       "\n",
       "    .dataframe thead th {\n",
       "        text-align: right;\n",
       "    }\n",
       "</style>\n",
       "<table border=\"1\" class=\"dataframe\">\n",
       "  <thead>\n",
       "    <tr style=\"text-align: right;\">\n",
       "      <th></th>\n",
       "      <th>timestamp</th>\n",
       "      <th>visitorid</th>\n",
       "      <th>event</th>\n",
       "      <th>itemid</th>\n",
       "      <th>transactionid</th>\n",
       "      <th>datetime</th>\n",
       "    </tr>\n",
       "  </thead>\n",
       "  <tbody>\n",
       "    <tr>\n",
       "      <th>0</th>\n",
       "      <td>1430622004384</td>\n",
       "      <td>693516</td>\n",
       "      <td>addtocart</td>\n",
       "      <td>297662</td>\n",
       "      <td>NaN</td>\n",
       "      <td>2015-05-03 05:00:04</td>\n",
       "    </tr>\n",
       "    <tr>\n",
       "      <th>1</th>\n",
       "      <td>1430622011289</td>\n",
       "      <td>829044</td>\n",
       "      <td>view</td>\n",
       "      <td>60987</td>\n",
       "      <td>NaN</td>\n",
       "      <td>2015-05-03 05:00:11</td>\n",
       "    </tr>\n",
       "    <tr>\n",
       "      <th>2</th>\n",
       "      <td>1430622013048</td>\n",
       "      <td>652699</td>\n",
       "      <td>view</td>\n",
       "      <td>252860</td>\n",
       "      <td>NaN</td>\n",
       "      <td>2015-05-03 05:00:13</td>\n",
       "    </tr>\n",
       "    <tr>\n",
       "      <th>3</th>\n",
       "      <td>1430622024154</td>\n",
       "      <td>1125936</td>\n",
       "      <td>view</td>\n",
       "      <td>33661</td>\n",
       "      <td>NaN</td>\n",
       "      <td>2015-05-03 05:00:24</td>\n",
       "    </tr>\n",
       "    <tr>\n",
       "      <th>4</th>\n",
       "      <td>1430622026228</td>\n",
       "      <td>693516</td>\n",
       "      <td>view</td>\n",
       "      <td>297662</td>\n",
       "      <td>NaN</td>\n",
       "      <td>2015-05-03 05:00:26</td>\n",
       "    </tr>\n",
       "    <tr>\n",
       "      <th>...</th>\n",
       "      <td>...</td>\n",
       "      <td>...</td>\n",
       "      <td>...</td>\n",
       "      <td>...</td>\n",
       "      <td>...</td>\n",
       "      <td>...</td>\n",
       "    </tr>\n",
       "    <tr>\n",
       "      <th>2755636</th>\n",
       "      <td>1442545164029</td>\n",
       "      <td>472345</td>\n",
       "      <td>view</td>\n",
       "      <td>301436</td>\n",
       "      <td>NaN</td>\n",
       "      <td>2015-09-18 04:59:24</td>\n",
       "    </tr>\n",
       "    <tr>\n",
       "      <th>2755637</th>\n",
       "      <td>1442545165499</td>\n",
       "      <td>1207677</td>\n",
       "      <td>view</td>\n",
       "      <td>310922</td>\n",
       "      <td>NaN</td>\n",
       "      <td>2015-09-18 04:59:25</td>\n",
       "    </tr>\n",
       "    <tr>\n",
       "      <th>2755638</th>\n",
       "      <td>1442545174109</td>\n",
       "      <td>255126</td>\n",
       "      <td>view</td>\n",
       "      <td>47467</td>\n",
       "      <td>NaN</td>\n",
       "      <td>2015-09-18 04:59:34</td>\n",
       "    </tr>\n",
       "    <tr>\n",
       "      <th>2755639</th>\n",
       "      <td>1442545181778</td>\n",
       "      <td>622226</td>\n",
       "      <td>view</td>\n",
       "      <td>345308</td>\n",
       "      <td>NaN</td>\n",
       "      <td>2015-09-18 04:59:41</td>\n",
       "    </tr>\n",
       "    <tr>\n",
       "      <th>2755640</th>\n",
       "      <td>1442545187788</td>\n",
       "      <td>1287495</td>\n",
       "      <td>view</td>\n",
       "      <td>98299</td>\n",
       "      <td>NaN</td>\n",
       "      <td>2015-09-18 04:59:47</td>\n",
       "    </tr>\n",
       "  </tbody>\n",
       "</table>\n",
       "<p>2755641 rows × 6 columns</p>\n",
       "</div>"
      ]
     },
     "metadata": {},
     "output_type": "display_data"
    }
   ],
   "execution_count": 35
  },
  {
   "cell_type": "code",
   "source": [
    "#https://www.kaggle.com/code/shubhamb99/rajani-hackathon\n",
    "\n",
    "# Since there are variations in pattern of events leading to transaction, let's see the relation between different events\n",
    "# Some probable events we want to look at:\n",
    "# 1. How many times products were viewed\n",
    "# 2. How many products were viewed\n",
    "# 3. How many products were added to cart\n",
    "# 4. How many products were transacted\n",
    "\n",
    "# A more accurate study would be on (user, product) combination rather than just user. But this is good for the time being.\n",
    "\n",
    "all_visitors_data = []\n",
    "for visitor in random_events_df.visitorid.unique().tolist():\n",
    "    visitor_data = []\n",
    "    visitor_df = random_events_df.loc[random_events_df['visitorid']==visitor]\n",
    "\n",
    "    visitor_data.append(visitor)\n",
    "\n",
    "    # See how many products were viewed\n",
    "    visitor_data.append(visitor_df.itemid.nunique())\n",
    "\n",
    "    # Add details about transactions\n",
    "    visitor_data.append(visitor_df.loc[visitor_df['event']=='view'].shape[0])\n",
    "    visitor_data.append(visitor_df.loc[visitor_df['event']=='addtocart'].shape[0])\n",
    "    visitor_data.append(visitor_df.loc[visitor_df['event']=='transaction'].shape[0])\n",
    "\n",
    "    all_visitors_data.append(visitor_data)\n",
    "\n",
    "transformed_events_df = pd.DataFrame(all_visitors_data, columns=['visitorid', 'products_viewed', 'num_views', 'num_add2cart', 'num_transaction'])\n",
    "\n",
    "display(transformed_events_df)"
   ],
   "metadata": {
    "collapsed": false,
    "ExecuteTime": {
     "end_time": "2024-05-29T12:12:54.095787Z",
     "start_time": "2024-05-29T11:38:01.355695Z"
    }
   },
   "outputs": [
    {
     "data": {
      "text/plain": [
       "         visitorid  products_viewed  num_views  num_add2cart  num_transaction\n",
       "0           693516                1          1             2                0\n",
       "1           829044                1          1             0                0\n",
       "2           652699                1          1             0                0\n",
       "3          1125936                1          1             0                0\n",
       "4          1149227                1          1             0                0\n",
       "...            ...              ...        ...           ...              ...\n",
       "1407575     998517                1          1             0                0\n",
       "1407576     472345                1          1             0                0\n",
       "1407577    1207677                1          1             0                0\n",
       "1407578     255126                1          1             0                0\n",
       "1407579     622226                1          1             0                0\n",
       "\n",
       "[1407580 rows x 5 columns]"
      ],
      "text/html": [
       "<div>\n",
       "<style scoped>\n",
       "    .dataframe tbody tr th:only-of-type {\n",
       "        vertical-align: middle;\n",
       "    }\n",
       "\n",
       "    .dataframe tbody tr th {\n",
       "        vertical-align: top;\n",
       "    }\n",
       "\n",
       "    .dataframe thead th {\n",
       "        text-align: right;\n",
       "    }\n",
       "</style>\n",
       "<table border=\"1\" class=\"dataframe\">\n",
       "  <thead>\n",
       "    <tr style=\"text-align: right;\">\n",
       "      <th></th>\n",
       "      <th>visitorid</th>\n",
       "      <th>products_viewed</th>\n",
       "      <th>num_views</th>\n",
       "      <th>num_add2cart</th>\n",
       "      <th>num_transaction</th>\n",
       "    </tr>\n",
       "  </thead>\n",
       "  <tbody>\n",
       "    <tr>\n",
       "      <th>0</th>\n",
       "      <td>693516</td>\n",
       "      <td>1</td>\n",
       "      <td>1</td>\n",
       "      <td>2</td>\n",
       "      <td>0</td>\n",
       "    </tr>\n",
       "    <tr>\n",
       "      <th>1</th>\n",
       "      <td>829044</td>\n",
       "      <td>1</td>\n",
       "      <td>1</td>\n",
       "      <td>0</td>\n",
       "      <td>0</td>\n",
       "    </tr>\n",
       "    <tr>\n",
       "      <th>2</th>\n",
       "      <td>652699</td>\n",
       "      <td>1</td>\n",
       "      <td>1</td>\n",
       "      <td>0</td>\n",
       "      <td>0</td>\n",
       "    </tr>\n",
       "    <tr>\n",
       "      <th>3</th>\n",
       "      <td>1125936</td>\n",
       "      <td>1</td>\n",
       "      <td>1</td>\n",
       "      <td>0</td>\n",
       "      <td>0</td>\n",
       "    </tr>\n",
       "    <tr>\n",
       "      <th>4</th>\n",
       "      <td>1149227</td>\n",
       "      <td>1</td>\n",
       "      <td>1</td>\n",
       "      <td>0</td>\n",
       "      <td>0</td>\n",
       "    </tr>\n",
       "    <tr>\n",
       "      <th>...</th>\n",
       "      <td>...</td>\n",
       "      <td>...</td>\n",
       "      <td>...</td>\n",
       "      <td>...</td>\n",
       "      <td>...</td>\n",
       "    </tr>\n",
       "    <tr>\n",
       "      <th>1407575</th>\n",
       "      <td>998517</td>\n",
       "      <td>1</td>\n",
       "      <td>1</td>\n",
       "      <td>0</td>\n",
       "      <td>0</td>\n",
       "    </tr>\n",
       "    <tr>\n",
       "      <th>1407576</th>\n",
       "      <td>472345</td>\n",
       "      <td>1</td>\n",
       "      <td>1</td>\n",
       "      <td>0</td>\n",
       "      <td>0</td>\n",
       "    </tr>\n",
       "    <tr>\n",
       "      <th>1407577</th>\n",
       "      <td>1207677</td>\n",
       "      <td>1</td>\n",
       "      <td>1</td>\n",
       "      <td>0</td>\n",
       "      <td>0</td>\n",
       "    </tr>\n",
       "    <tr>\n",
       "      <th>1407578</th>\n",
       "      <td>255126</td>\n",
       "      <td>1</td>\n",
       "      <td>1</td>\n",
       "      <td>0</td>\n",
       "      <td>0</td>\n",
       "    </tr>\n",
       "    <tr>\n",
       "      <th>1407579</th>\n",
       "      <td>622226</td>\n",
       "      <td>1</td>\n",
       "      <td>1</td>\n",
       "      <td>0</td>\n",
       "      <td>0</td>\n",
       "    </tr>\n",
       "  </tbody>\n",
       "</table>\n",
       "<p>1407580 rows × 5 columns</p>\n",
       "</div>"
      ]
     },
     "metadata": {},
     "output_type": "display_data"
    }
   ],
   "execution_count": 36
  },
  {
   "cell_type": "code",
   "source": [
    "summary_df = pd.merge(random_events_df, pd.get_dummies(random_events_df['event']), left_index=True, right_index=True).drop(columns=['event'])\n",
    "display(summary_df)"
   ],
   "metadata": {
    "collapsed": false,
    "ExecuteTime": {
     "end_time": "2024-05-29T12:12:54.293955Z",
     "start_time": "2024-05-29T12:12:54.096434Z"
    }
   },
   "outputs": [
    {
     "data": {
      "text/plain": [
       "             timestamp  visitorid  itemid  transactionid             datetime  \\\n",
       "0        1430622004384     693516  297662            NaN  2015-05-03 05:00:04   \n",
       "1        1430622011289     829044   60987            NaN  2015-05-03 05:00:11   \n",
       "2        1430622013048     652699  252860            NaN  2015-05-03 05:00:13   \n",
       "3        1430622024154    1125936   33661            NaN  2015-05-03 05:00:24   \n",
       "4        1430622026228     693516  297662            NaN  2015-05-03 05:00:26   \n",
       "...                ...        ...     ...            ...                  ...   \n",
       "2755636  1442545164029     472345  301436            NaN  2015-09-18 04:59:24   \n",
       "2755637  1442545165499    1207677  310922            NaN  2015-09-18 04:59:25   \n",
       "2755638  1442545174109     255126   47467            NaN  2015-09-18 04:59:34   \n",
       "2755639  1442545181778     622226  345308            NaN  2015-09-18 04:59:41   \n",
       "2755640  1442545187788    1287495   98299            NaN  2015-09-18 04:59:47   \n",
       "\n",
       "         addtocart  transaction   view  \n",
       "0             True        False  False  \n",
       "1            False        False   True  \n",
       "2            False        False   True  \n",
       "3            False        False   True  \n",
       "4            False        False   True  \n",
       "...            ...          ...    ...  \n",
       "2755636      False        False   True  \n",
       "2755637      False        False   True  \n",
       "2755638      False        False   True  \n",
       "2755639      False        False   True  \n",
       "2755640      False        False   True  \n",
       "\n",
       "[2755641 rows x 8 columns]"
      ],
      "text/html": [
       "<div>\n",
       "<style scoped>\n",
       "    .dataframe tbody tr th:only-of-type {\n",
       "        vertical-align: middle;\n",
       "    }\n",
       "\n",
       "    .dataframe tbody tr th {\n",
       "        vertical-align: top;\n",
       "    }\n",
       "\n",
       "    .dataframe thead th {\n",
       "        text-align: right;\n",
       "    }\n",
       "</style>\n",
       "<table border=\"1\" class=\"dataframe\">\n",
       "  <thead>\n",
       "    <tr style=\"text-align: right;\">\n",
       "      <th></th>\n",
       "      <th>timestamp</th>\n",
       "      <th>visitorid</th>\n",
       "      <th>itemid</th>\n",
       "      <th>transactionid</th>\n",
       "      <th>datetime</th>\n",
       "      <th>addtocart</th>\n",
       "      <th>transaction</th>\n",
       "      <th>view</th>\n",
       "    </tr>\n",
       "  </thead>\n",
       "  <tbody>\n",
       "    <tr>\n",
       "      <th>0</th>\n",
       "      <td>1430622004384</td>\n",
       "      <td>693516</td>\n",
       "      <td>297662</td>\n",
       "      <td>NaN</td>\n",
       "      <td>2015-05-03 05:00:04</td>\n",
       "      <td>True</td>\n",
       "      <td>False</td>\n",
       "      <td>False</td>\n",
       "    </tr>\n",
       "    <tr>\n",
       "      <th>1</th>\n",
       "      <td>1430622011289</td>\n",
       "      <td>829044</td>\n",
       "      <td>60987</td>\n",
       "      <td>NaN</td>\n",
       "      <td>2015-05-03 05:00:11</td>\n",
       "      <td>False</td>\n",
       "      <td>False</td>\n",
       "      <td>True</td>\n",
       "    </tr>\n",
       "    <tr>\n",
       "      <th>2</th>\n",
       "      <td>1430622013048</td>\n",
       "      <td>652699</td>\n",
       "      <td>252860</td>\n",
       "      <td>NaN</td>\n",
       "      <td>2015-05-03 05:00:13</td>\n",
       "      <td>False</td>\n",
       "      <td>False</td>\n",
       "      <td>True</td>\n",
       "    </tr>\n",
       "    <tr>\n",
       "      <th>3</th>\n",
       "      <td>1430622024154</td>\n",
       "      <td>1125936</td>\n",
       "      <td>33661</td>\n",
       "      <td>NaN</td>\n",
       "      <td>2015-05-03 05:00:24</td>\n",
       "      <td>False</td>\n",
       "      <td>False</td>\n",
       "      <td>True</td>\n",
       "    </tr>\n",
       "    <tr>\n",
       "      <th>4</th>\n",
       "      <td>1430622026228</td>\n",
       "      <td>693516</td>\n",
       "      <td>297662</td>\n",
       "      <td>NaN</td>\n",
       "      <td>2015-05-03 05:00:26</td>\n",
       "      <td>False</td>\n",
       "      <td>False</td>\n",
       "      <td>True</td>\n",
       "    </tr>\n",
       "    <tr>\n",
       "      <th>...</th>\n",
       "      <td>...</td>\n",
       "      <td>...</td>\n",
       "      <td>...</td>\n",
       "      <td>...</td>\n",
       "      <td>...</td>\n",
       "      <td>...</td>\n",
       "      <td>...</td>\n",
       "      <td>...</td>\n",
       "    </tr>\n",
       "    <tr>\n",
       "      <th>2755636</th>\n",
       "      <td>1442545164029</td>\n",
       "      <td>472345</td>\n",
       "      <td>301436</td>\n",
       "      <td>NaN</td>\n",
       "      <td>2015-09-18 04:59:24</td>\n",
       "      <td>False</td>\n",
       "      <td>False</td>\n",
       "      <td>True</td>\n",
       "    </tr>\n",
       "    <tr>\n",
       "      <th>2755637</th>\n",
       "      <td>1442545165499</td>\n",
       "      <td>1207677</td>\n",
       "      <td>310922</td>\n",
       "      <td>NaN</td>\n",
       "      <td>2015-09-18 04:59:25</td>\n",
       "      <td>False</td>\n",
       "      <td>False</td>\n",
       "      <td>True</td>\n",
       "    </tr>\n",
       "    <tr>\n",
       "      <th>2755638</th>\n",
       "      <td>1442545174109</td>\n",
       "      <td>255126</td>\n",
       "      <td>47467</td>\n",
       "      <td>NaN</td>\n",
       "      <td>2015-09-18 04:59:34</td>\n",
       "      <td>False</td>\n",
       "      <td>False</td>\n",
       "      <td>True</td>\n",
       "    </tr>\n",
       "    <tr>\n",
       "      <th>2755639</th>\n",
       "      <td>1442545181778</td>\n",
       "      <td>622226</td>\n",
       "      <td>345308</td>\n",
       "      <td>NaN</td>\n",
       "      <td>2015-09-18 04:59:41</td>\n",
       "      <td>False</td>\n",
       "      <td>False</td>\n",
       "      <td>True</td>\n",
       "    </tr>\n",
       "    <tr>\n",
       "      <th>2755640</th>\n",
       "      <td>1442545187788</td>\n",
       "      <td>1287495</td>\n",
       "      <td>98299</td>\n",
       "      <td>NaN</td>\n",
       "      <td>2015-09-18 04:59:47</td>\n",
       "      <td>False</td>\n",
       "      <td>False</td>\n",
       "      <td>True</td>\n",
       "    </tr>\n",
       "  </tbody>\n",
       "</table>\n",
       "<p>2755641 rows × 8 columns</p>\n",
       "</div>"
      ]
     },
     "metadata": {},
     "output_type": "display_data"
    }
   ],
   "execution_count": 37
  },
  {
   "cell_type": "code",
   "source": [
    "# For each (visitor, item) pair, let's create a study of:\n",
    "# 1. Number of times viewed\n",
    "# 2. Added to cart?\n",
    "# 3. Transaction done?\n",
    "\n",
    "product_item_df = summary_df.groupby(by=['itemid', 'visitorid']).agg({'view': 'sum', 'addtocart': 'sum', 'transaction': 'sum'}).reset_index()\n",
    "display(product_item_df)"
   ],
   "metadata": {
    "collapsed": false,
    "ExecuteTime": {
     "end_time": "2024-05-29T12:12:55.293134Z",
     "start_time": "2024-05-29T12:12:54.295048Z"
    }
   },
   "outputs": [
    {
     "data": {
      "text/plain": [
       "         itemid  visitorid  view  addtocart  transaction\n",
       "0             3     370720     1          0            0\n",
       "1             3     639016     1          0            0\n",
       "2             4     905555     1          0            0\n",
       "3             4    1010132     1          0            0\n",
       "4             4    1042455     1          0            0\n",
       "...         ...        ...   ...        ...          ...\n",
       "2145174  466864    1388296     4          0            0\n",
       "2145175  466867     241803     1          0            0\n",
       "2145176  466867     450511     1          0            0\n",
       "2145177  466867    1001859     1          0            0\n",
       "2145178  466867    1117910     1          0            0\n",
       "\n",
       "[2145179 rows x 5 columns]"
      ],
      "text/html": [
       "<div>\n",
       "<style scoped>\n",
       "    .dataframe tbody tr th:only-of-type {\n",
       "        vertical-align: middle;\n",
       "    }\n",
       "\n",
       "    .dataframe tbody tr th {\n",
       "        vertical-align: top;\n",
       "    }\n",
       "\n",
       "    .dataframe thead th {\n",
       "        text-align: right;\n",
       "    }\n",
       "</style>\n",
       "<table border=\"1\" class=\"dataframe\">\n",
       "  <thead>\n",
       "    <tr style=\"text-align: right;\">\n",
       "      <th></th>\n",
       "      <th>itemid</th>\n",
       "      <th>visitorid</th>\n",
       "      <th>view</th>\n",
       "      <th>addtocart</th>\n",
       "      <th>transaction</th>\n",
       "    </tr>\n",
       "  </thead>\n",
       "  <tbody>\n",
       "    <tr>\n",
       "      <th>0</th>\n",
       "      <td>3</td>\n",
       "      <td>370720</td>\n",
       "      <td>1</td>\n",
       "      <td>0</td>\n",
       "      <td>0</td>\n",
       "    </tr>\n",
       "    <tr>\n",
       "      <th>1</th>\n",
       "      <td>3</td>\n",
       "      <td>639016</td>\n",
       "      <td>1</td>\n",
       "      <td>0</td>\n",
       "      <td>0</td>\n",
       "    </tr>\n",
       "    <tr>\n",
       "      <th>2</th>\n",
       "      <td>4</td>\n",
       "      <td>905555</td>\n",
       "      <td>1</td>\n",
       "      <td>0</td>\n",
       "      <td>0</td>\n",
       "    </tr>\n",
       "    <tr>\n",
       "      <th>3</th>\n",
       "      <td>4</td>\n",
       "      <td>1010132</td>\n",
       "      <td>1</td>\n",
       "      <td>0</td>\n",
       "      <td>0</td>\n",
       "    </tr>\n",
       "    <tr>\n",
       "      <th>4</th>\n",
       "      <td>4</td>\n",
       "      <td>1042455</td>\n",
       "      <td>1</td>\n",
       "      <td>0</td>\n",
       "      <td>0</td>\n",
       "    </tr>\n",
       "    <tr>\n",
       "      <th>...</th>\n",
       "      <td>...</td>\n",
       "      <td>...</td>\n",
       "      <td>...</td>\n",
       "      <td>...</td>\n",
       "      <td>...</td>\n",
       "    </tr>\n",
       "    <tr>\n",
       "      <th>2145174</th>\n",
       "      <td>466864</td>\n",
       "      <td>1388296</td>\n",
       "      <td>4</td>\n",
       "      <td>0</td>\n",
       "      <td>0</td>\n",
       "    </tr>\n",
       "    <tr>\n",
       "      <th>2145175</th>\n",
       "      <td>466867</td>\n",
       "      <td>241803</td>\n",
       "      <td>1</td>\n",
       "      <td>0</td>\n",
       "      <td>0</td>\n",
       "    </tr>\n",
       "    <tr>\n",
       "      <th>2145176</th>\n",
       "      <td>466867</td>\n",
       "      <td>450511</td>\n",
       "      <td>1</td>\n",
       "      <td>0</td>\n",
       "      <td>0</td>\n",
       "    </tr>\n",
       "    <tr>\n",
       "      <th>2145177</th>\n",
       "      <td>466867</td>\n",
       "      <td>1001859</td>\n",
       "      <td>1</td>\n",
       "      <td>0</td>\n",
       "      <td>0</td>\n",
       "    </tr>\n",
       "    <tr>\n",
       "      <th>2145178</th>\n",
       "      <td>466867</td>\n",
       "      <td>1117910</td>\n",
       "      <td>1</td>\n",
       "      <td>0</td>\n",
       "      <td>0</td>\n",
       "    </tr>\n",
       "  </tbody>\n",
       "</table>\n",
       "<p>2145179 rows × 5 columns</p>\n",
       "</div>"
      ]
     },
     "metadata": {},
     "output_type": "display_data"
    }
   ],
   "execution_count": 38
  },
  {
   "cell_type": "markdown",
   "source": [
    "## Item Properties EDA\n",
    "\n",
    "### Item Properties extraction\n",
    "\n",
    "as for each item property a single row exists and every item category can exits multiple times, as it may change overtime in the following cells the properties are extracted. So that for every item only the newest properties exist. Further the newest categoryid and available are extracted into a separate column"
   ],
   "metadata": {
    "collapsed": false
   }
  },
  {
   "cell_type": "code",
   "source": [
    "item_properties"
   ],
   "metadata": {
    "collapsed": false,
    "ExecuteTime": {
     "end_time": "2024-05-29T12:12:55.298006Z",
     "start_time": "2024-05-29T12:12:55.293896Z"
    }
   },
   "outputs": [
    {
     "data": {
      "text/plain": [
       "             timestamp  itemid    property                             value  \\\n",
       "0        1435460400000  460429  categoryid                              1338   \n",
       "1        1441508400000  206783         888           1116713 960601 n277.200   \n",
       "2        1439089200000  395014         400   n552.000 639502 n720.000 424566   \n",
       "3        1431226800000   59481         790                        n15360.000   \n",
       "4        1431831600000  156781         917                            828513   \n",
       "...                ...     ...         ...                               ...   \n",
       "9275898  1433646000000  236931         929                           n12.000   \n",
       "9275899  1440903600000  455746           6                     150169 639134   \n",
       "9275900  1439694000000  347565         686                            610834   \n",
       "9275901  1433646000000  287231         867                            769062   \n",
       "9275902  1442113200000  275768         888  888666 n10800.000 746840 1318567   \n",
       "\n",
       "                    datetime  \n",
       "0        2015-06-28 05:00:00  \n",
       "1        2015-09-06 05:00:00  \n",
       "2        2015-08-09 05:00:00  \n",
       "3        2015-05-10 05:00:00  \n",
       "4        2015-05-17 05:00:00  \n",
       "...                      ...  \n",
       "9275898  2015-06-07 05:00:00  \n",
       "9275899  2015-08-30 05:00:00  \n",
       "9275900  2015-08-16 05:00:00  \n",
       "9275901  2015-06-07 05:00:00  \n",
       "9275902  2015-09-13 05:00:00  \n",
       "\n",
       "[20275902 rows x 5 columns]"
      ],
      "text/html": [
       "<div>\n",
       "<style scoped>\n",
       "    .dataframe tbody tr th:only-of-type {\n",
       "        vertical-align: middle;\n",
       "    }\n",
       "\n",
       "    .dataframe tbody tr th {\n",
       "        vertical-align: top;\n",
       "    }\n",
       "\n",
       "    .dataframe thead th {\n",
       "        text-align: right;\n",
       "    }\n",
       "</style>\n",
       "<table border=\"1\" class=\"dataframe\">\n",
       "  <thead>\n",
       "    <tr style=\"text-align: right;\">\n",
       "      <th></th>\n",
       "      <th>timestamp</th>\n",
       "      <th>itemid</th>\n",
       "      <th>property</th>\n",
       "      <th>value</th>\n",
       "      <th>datetime</th>\n",
       "    </tr>\n",
       "  </thead>\n",
       "  <tbody>\n",
       "    <tr>\n",
       "      <th>0</th>\n",
       "      <td>1435460400000</td>\n",
       "      <td>460429</td>\n",
       "      <td>categoryid</td>\n",
       "      <td>1338</td>\n",
       "      <td>2015-06-28 05:00:00</td>\n",
       "    </tr>\n",
       "    <tr>\n",
       "      <th>1</th>\n",
       "      <td>1441508400000</td>\n",
       "      <td>206783</td>\n",
       "      <td>888</td>\n",
       "      <td>1116713 960601 n277.200</td>\n",
       "      <td>2015-09-06 05:00:00</td>\n",
       "    </tr>\n",
       "    <tr>\n",
       "      <th>2</th>\n",
       "      <td>1439089200000</td>\n",
       "      <td>395014</td>\n",
       "      <td>400</td>\n",
       "      <td>n552.000 639502 n720.000 424566</td>\n",
       "      <td>2015-08-09 05:00:00</td>\n",
       "    </tr>\n",
       "    <tr>\n",
       "      <th>3</th>\n",
       "      <td>1431226800000</td>\n",
       "      <td>59481</td>\n",
       "      <td>790</td>\n",
       "      <td>n15360.000</td>\n",
       "      <td>2015-05-10 05:00:00</td>\n",
       "    </tr>\n",
       "    <tr>\n",
       "      <th>4</th>\n",
       "      <td>1431831600000</td>\n",
       "      <td>156781</td>\n",
       "      <td>917</td>\n",
       "      <td>828513</td>\n",
       "      <td>2015-05-17 05:00:00</td>\n",
       "    </tr>\n",
       "    <tr>\n",
       "      <th>...</th>\n",
       "      <td>...</td>\n",
       "      <td>...</td>\n",
       "      <td>...</td>\n",
       "      <td>...</td>\n",
       "      <td>...</td>\n",
       "    </tr>\n",
       "    <tr>\n",
       "      <th>9275898</th>\n",
       "      <td>1433646000000</td>\n",
       "      <td>236931</td>\n",
       "      <td>929</td>\n",
       "      <td>n12.000</td>\n",
       "      <td>2015-06-07 05:00:00</td>\n",
       "    </tr>\n",
       "    <tr>\n",
       "      <th>9275899</th>\n",
       "      <td>1440903600000</td>\n",
       "      <td>455746</td>\n",
       "      <td>6</td>\n",
       "      <td>150169 639134</td>\n",
       "      <td>2015-08-30 05:00:00</td>\n",
       "    </tr>\n",
       "    <tr>\n",
       "      <th>9275900</th>\n",
       "      <td>1439694000000</td>\n",
       "      <td>347565</td>\n",
       "      <td>686</td>\n",
       "      <td>610834</td>\n",
       "      <td>2015-08-16 05:00:00</td>\n",
       "    </tr>\n",
       "    <tr>\n",
       "      <th>9275901</th>\n",
       "      <td>1433646000000</td>\n",
       "      <td>287231</td>\n",
       "      <td>867</td>\n",
       "      <td>769062</td>\n",
       "      <td>2015-06-07 05:00:00</td>\n",
       "    </tr>\n",
       "    <tr>\n",
       "      <th>9275902</th>\n",
       "      <td>1442113200000</td>\n",
       "      <td>275768</td>\n",
       "      <td>888</td>\n",
       "      <td>888666 n10800.000 746840 1318567</td>\n",
       "      <td>2015-09-13 05:00:00</td>\n",
       "    </tr>\n",
       "  </tbody>\n",
       "</table>\n",
       "<p>20275902 rows × 5 columns</p>\n",
       "</div>"
      ]
     },
     "execution_count": 39,
     "metadata": {},
     "output_type": "execute_result"
    }
   ],
   "execution_count": 39
  },
  {
   "cell_type": "code",
   "source": [
    "item_properties2 = item_properties.copy() # copy so the orginal data does not change\n",
    "item_properties2['timestamp'] = pd.to_datetime(item_properties2['timestamp'], unit='ms')\n",
    "\n",
    "# Extract 'categoryid' and 'available' properties\n",
    "filtered_data = item_properties2[~item_properties2['property'].isin(['categoryid', 'available'])]"
   ],
   "metadata": {
    "collapsed": false,
    "ExecuteTime": {
     "end_time": "2024-05-29T12:12:57.497572Z",
     "start_time": "2024-05-29T12:12:55.298667Z"
    }
   },
   "outputs": [],
   "execution_count": 40
  },
  {
   "cell_type": "code",
   "source": [
    "# Sort the data by timestamp in descending order\n",
    "sorted_data = filtered_data.sort_values('timestamp', ascending=False)"
   ],
   "metadata": {
    "collapsed": false,
    "ExecuteTime": {
     "end_time": "2024-05-29T12:12:59.753947Z",
     "start_time": "2024-05-29T12:12:57.498490Z"
    }
   },
   "outputs": [],
   "execution_count": 41
  },
  {
   "cell_type": "code",
   "source": [
    "# todo delete\n",
    "# Iterate over each property and extract the newest item per property\n",
    "aggregated_data = {}\n",
    "for prop in sorted_data['property'].unique():\n",
    "    # Filter the data for the current property\n",
    "    prop_data = sorted_data[sorted_data['property'] == prop]\n",
    "    # Group the data by itemid and select the first row for each group\n",
    "    grouped_data = prop_data.groupby('itemid').first().reset_index()\n",
    "    # Store the aggregated data for the property\n",
    "    aggregated_data[prop] = grouped_data.set_index('itemid')['value']\n",
    "#display(aggregated_data)"
   ],
   "metadata": {
    "collapsed": false,
    "ExecuteTime": {
     "end_time": "2024-05-29T12:23:31.975933Z",
     "start_time": "2024-05-29T12:12:59.754693Z"
    }
   },
   "outputs": [],
   "execution_count": 42
  },
  {
   "cell_type": "code",
   "source": [
    "# Merge categoryid and available values and only use the newest value\n",
    "merged_data = pd.merge(item_properties2[item_properties2['property'] == 'categoryid'], item_properties2[item_properties2['property'] == 'available'], on='itemid')\n",
    "merged_data = merged_data[['itemid', 'value_x', 'value_y']].rename(columns={'value_x': 'categoryid', 'value_y': 'available'})\n",
    "merged_data = merged_data.groupby('itemid').first().reset_index()\n",
    "# add columns with a lists for the properties\n",
    "merged_data['properties'] = [[] for _ in range(len(merged_data))]\n",
    "merged_data['property_values'] = [[] for _ in range(len(merged_data))]\n",
    "merged_data"
   ],
   "metadata": {
    "collapsed": false,
    "ExecuteTime": {
     "end_time": "2024-05-29T12:23:34.458621Z",
     "start_time": "2024-05-29T12:23:31.976740Z"
    }
   },
   "outputs": [
    {
     "data": {
      "text/plain": [
       "        itemid categoryid available properties property_values\n",
       "0            0        209         0         []              []\n",
       "1            1       1114         1         []              []\n",
       "2            2       1305         0         []              []\n",
       "3            3       1171         0         []              []\n",
       "4            4       1038         0         []              []\n",
       "...        ...        ...       ...        ...             ...\n",
       "417048  466862       1376         0         []              []\n",
       "417049  466863        173         0         []              []\n",
       "417050  466864        373         1         []              []\n",
       "417051  466865        421         0         []              []\n",
       "417052  466866       1164         0         []              []\n",
       "\n",
       "[417053 rows x 5 columns]"
      ],
      "text/html": [
       "<div>\n",
       "<style scoped>\n",
       "    .dataframe tbody tr th:only-of-type {\n",
       "        vertical-align: middle;\n",
       "    }\n",
       "\n",
       "    .dataframe tbody tr th {\n",
       "        vertical-align: top;\n",
       "    }\n",
       "\n",
       "    .dataframe thead th {\n",
       "        text-align: right;\n",
       "    }\n",
       "</style>\n",
       "<table border=\"1\" class=\"dataframe\">\n",
       "  <thead>\n",
       "    <tr style=\"text-align: right;\">\n",
       "      <th></th>\n",
       "      <th>itemid</th>\n",
       "      <th>categoryid</th>\n",
       "      <th>available</th>\n",
       "      <th>properties</th>\n",
       "      <th>property_values</th>\n",
       "    </tr>\n",
       "  </thead>\n",
       "  <tbody>\n",
       "    <tr>\n",
       "      <th>0</th>\n",
       "      <td>0</td>\n",
       "      <td>209</td>\n",
       "      <td>0</td>\n",
       "      <td>[]</td>\n",
       "      <td>[]</td>\n",
       "    </tr>\n",
       "    <tr>\n",
       "      <th>1</th>\n",
       "      <td>1</td>\n",
       "      <td>1114</td>\n",
       "      <td>1</td>\n",
       "      <td>[]</td>\n",
       "      <td>[]</td>\n",
       "    </tr>\n",
       "    <tr>\n",
       "      <th>2</th>\n",
       "      <td>2</td>\n",
       "      <td>1305</td>\n",
       "      <td>0</td>\n",
       "      <td>[]</td>\n",
       "      <td>[]</td>\n",
       "    </tr>\n",
       "    <tr>\n",
       "      <th>3</th>\n",
       "      <td>3</td>\n",
       "      <td>1171</td>\n",
       "      <td>0</td>\n",
       "      <td>[]</td>\n",
       "      <td>[]</td>\n",
       "    </tr>\n",
       "    <tr>\n",
       "      <th>4</th>\n",
       "      <td>4</td>\n",
       "      <td>1038</td>\n",
       "      <td>0</td>\n",
       "      <td>[]</td>\n",
       "      <td>[]</td>\n",
       "    </tr>\n",
       "    <tr>\n",
       "      <th>...</th>\n",
       "      <td>...</td>\n",
       "      <td>...</td>\n",
       "      <td>...</td>\n",
       "      <td>...</td>\n",
       "      <td>...</td>\n",
       "    </tr>\n",
       "    <tr>\n",
       "      <th>417048</th>\n",
       "      <td>466862</td>\n",
       "      <td>1376</td>\n",
       "      <td>0</td>\n",
       "      <td>[]</td>\n",
       "      <td>[]</td>\n",
       "    </tr>\n",
       "    <tr>\n",
       "      <th>417049</th>\n",
       "      <td>466863</td>\n",
       "      <td>173</td>\n",
       "      <td>0</td>\n",
       "      <td>[]</td>\n",
       "      <td>[]</td>\n",
       "    </tr>\n",
       "    <tr>\n",
       "      <th>417050</th>\n",
       "      <td>466864</td>\n",
       "      <td>373</td>\n",
       "      <td>1</td>\n",
       "      <td>[]</td>\n",
       "      <td>[]</td>\n",
       "    </tr>\n",
       "    <tr>\n",
       "      <th>417051</th>\n",
       "      <td>466865</td>\n",
       "      <td>421</td>\n",
       "      <td>0</td>\n",
       "      <td>[]</td>\n",
       "      <td>[]</td>\n",
       "    </tr>\n",
       "    <tr>\n",
       "      <th>417052</th>\n",
       "      <td>466866</td>\n",
       "      <td>1164</td>\n",
       "      <td>0</td>\n",
       "      <td>[]</td>\n",
       "      <td>[]</td>\n",
       "    </tr>\n",
       "  </tbody>\n",
       "</table>\n",
       "<p>417053 rows × 5 columns</p>\n",
       "</div>"
      ]
     },
     "execution_count": 43,
     "metadata": {},
     "output_type": "execute_result"
    }
   ],
   "execution_count": 43
  },
  {
   "cell_type": "code",
   "source": [
    "# store the properties into the merged_data, this might take a while :D\n",
    "for item_id in item_properties.itemid.unique():\n",
    "    for prop_id, row in sorted_data[sorted_data['itemid'] == item_id].groupby('property').first().iterrows():\n",
    "        merged_data.loc[merged_data['itemid'] == item_id].properties.apply(lambda x: x.append(prop_id))\n",
    "        merged_data.loc[merged_data['itemid'] == item_id].property_values.apply(lambda x: x.append(row['value']))\n",
    "\n",
    "merged_data"
   ],
   "metadata": {
    "collapsed": false,
    "ExecuteTime": {
     "end_time": "2024-05-29T14:52:57.444467Z",
     "start_time": "2024-05-29T12:23:34.459439Z"
    }
   },
   "outputs": [
    {
     "data": {
      "text/plain": [
       "        itemid categoryid available  \\\n",
       "0            0        209         0   \n",
       "1            1       1114         1   \n",
       "2            2       1305         0   \n",
       "3            3       1171         0   \n",
       "4            4       1038         0   \n",
       "...        ...        ...       ...   \n",
       "417048  466862       1376         0   \n",
       "417049  466863        173         0   \n",
       "417050  466864        373         1   \n",
       "417051  466865        421         0   \n",
       "417052  466866       1164         0   \n",
       "\n",
       "                                               properties  \\\n",
       "0       [1036, 1056, 11, 112, 127, 139, 159, 177, 189,...   \n",
       "1       [0, 1036, 112, 159, 185, 202, 227, 238, 280, 2...   \n",
       "2       [1063, 112, 159, 202, 282, 283, 318, 332, 364,...   \n",
       "3       [1025, 1080, 112, 159, 202, 227, 250, 283, 30,...   \n",
       "4       [112, 115, 159, 202, 227, 28, 283, 33, 364, 59...   \n",
       "...                                                   ...   \n",
       "417048  [112, 139, 159, 186, 202, 227, 28, 283, 29, 34...   \n",
       "417049  [1014, 112, 159, 202, 227, 283, 364, 400, 47, ...   \n",
       "417050  [1036, 112, 152, 159, 202, 227, 230, 283, 348,...   \n",
       "417051  [1031, 112, 159, 202, 227, 277, 28, 283, 332, ...   \n",
       "417052  [112, 120, 128, 159, 202, 227, 28, 283, 320, 3...   \n",
       "\n",
       "                                          property_values  \n",
       "0       [1276750, n3.168 1144008, n15360.000 628176 n1...  \n",
       "1       [769062, 1154859, 679677, 519769, 769062, 1726...  \n",
       "2       [n396.000 145688, 679677, 519769, 648485 n6000...  \n",
       "3       [769062, 769062, 679677, 519769, 261419, 13057...  \n",
       "4       [679677, n24.000, 519769, 371058 71429, 588652...  \n",
       "...                                                   ...  \n",
       "417048  [679677, 769062, 519769, 575816 n432.000, 7173...  \n",
       "417049  [1075463, 679677, 519769, 1194687 550565 24255...  \n",
       "417050  [1154859, 679677, 1071492, 519769, 1262739 205...  \n",
       "417051  [1088309, 679677, 519769, 150169 780351 820477...  \n",
       "417052  [679677, 1057641, 590055 n24.000, 519769, 8924...  \n",
       "\n",
       "[417053 rows x 5 columns]"
      ],
      "text/html": [
       "<div>\n",
       "<style scoped>\n",
       "    .dataframe tbody tr th:only-of-type {\n",
       "        vertical-align: middle;\n",
       "    }\n",
       "\n",
       "    .dataframe tbody tr th {\n",
       "        vertical-align: top;\n",
       "    }\n",
       "\n",
       "    .dataframe thead th {\n",
       "        text-align: right;\n",
       "    }\n",
       "</style>\n",
       "<table border=\"1\" class=\"dataframe\">\n",
       "  <thead>\n",
       "    <tr style=\"text-align: right;\">\n",
       "      <th></th>\n",
       "      <th>itemid</th>\n",
       "      <th>categoryid</th>\n",
       "      <th>available</th>\n",
       "      <th>properties</th>\n",
       "      <th>property_values</th>\n",
       "    </tr>\n",
       "  </thead>\n",
       "  <tbody>\n",
       "    <tr>\n",
       "      <th>0</th>\n",
       "      <td>0</td>\n",
       "      <td>209</td>\n",
       "      <td>0</td>\n",
       "      <td>[1036, 1056, 11, 112, 127, 139, 159, 177, 189,...</td>\n",
       "      <td>[1276750, n3.168 1144008, n15360.000 628176 n1...</td>\n",
       "    </tr>\n",
       "    <tr>\n",
       "      <th>1</th>\n",
       "      <td>1</td>\n",
       "      <td>1114</td>\n",
       "      <td>1</td>\n",
       "      <td>[0, 1036, 112, 159, 185, 202, 227, 238, 280, 2...</td>\n",
       "      <td>[769062, 1154859, 679677, 519769, 769062, 1726...</td>\n",
       "    </tr>\n",
       "    <tr>\n",
       "      <th>2</th>\n",
       "      <td>2</td>\n",
       "      <td>1305</td>\n",
       "      <td>0</td>\n",
       "      <td>[1063, 112, 159, 202, 282, 283, 318, 332, 364,...</td>\n",
       "      <td>[n396.000 145688, 679677, 519769, 648485 n6000...</td>\n",
       "    </tr>\n",
       "    <tr>\n",
       "      <th>3</th>\n",
       "      <td>3</td>\n",
       "      <td>1171</td>\n",
       "      <td>0</td>\n",
       "      <td>[1025, 1080, 112, 159, 202, 227, 250, 283, 30,...</td>\n",
       "      <td>[769062, 769062, 679677, 519769, 261419, 13057...</td>\n",
       "    </tr>\n",
       "    <tr>\n",
       "      <th>4</th>\n",
       "      <td>4</td>\n",
       "      <td>1038</td>\n",
       "      <td>0</td>\n",
       "      <td>[112, 115, 159, 202, 227, 28, 283, 33, 364, 59...</td>\n",
       "      <td>[679677, n24.000, 519769, 371058 71429, 588652...</td>\n",
       "    </tr>\n",
       "    <tr>\n",
       "      <th>...</th>\n",
       "      <td>...</td>\n",
       "      <td>...</td>\n",
       "      <td>...</td>\n",
       "      <td>...</td>\n",
       "      <td>...</td>\n",
       "    </tr>\n",
       "    <tr>\n",
       "      <th>417048</th>\n",
       "      <td>466862</td>\n",
       "      <td>1376</td>\n",
       "      <td>0</td>\n",
       "      <td>[112, 139, 159, 186, 202, 227, 28, 283, 29, 34...</td>\n",
       "      <td>[679677, 769062, 519769, 575816 n432.000, 7173...</td>\n",
       "    </tr>\n",
       "    <tr>\n",
       "      <th>417049</th>\n",
       "      <td>466863</td>\n",
       "      <td>173</td>\n",
       "      <td>0</td>\n",
       "      <td>[1014, 112, 159, 202, 227, 283, 364, 400, 47, ...</td>\n",
       "      <td>[1075463, 679677, 519769, 1194687 550565 24255...</td>\n",
       "    </tr>\n",
       "    <tr>\n",
       "      <th>417050</th>\n",
       "      <td>466864</td>\n",
       "      <td>373</td>\n",
       "      <td>1</td>\n",
       "      <td>[1036, 112, 152, 159, 202, 227, 230, 283, 348,...</td>\n",
       "      <td>[1154859, 679677, 1071492, 519769, 1262739 205...</td>\n",
       "    </tr>\n",
       "    <tr>\n",
       "      <th>417051</th>\n",
       "      <td>466865</td>\n",
       "      <td>421</td>\n",
       "      <td>0</td>\n",
       "      <td>[1031, 112, 159, 202, 227, 277, 28, 283, 332, ...</td>\n",
       "      <td>[1088309, 679677, 519769, 150169 780351 820477...</td>\n",
       "    </tr>\n",
       "    <tr>\n",
       "      <th>417052</th>\n",
       "      <td>466866</td>\n",
       "      <td>1164</td>\n",
       "      <td>0</td>\n",
       "      <td>[112, 120, 128, 159, 202, 227, 28, 283, 320, 3...</td>\n",
       "      <td>[679677, 1057641, 590055 n24.000, 519769, 8924...</td>\n",
       "    </tr>\n",
       "  </tbody>\n",
       "</table>\n",
       "<p>417053 rows × 5 columns</p>\n",
       "</div>"
      ]
     },
     "execution_count": 44,
     "metadata": {},
     "output_type": "execute_result"
    }
   ],
   "execution_count": 44
  },
  {
   "cell_type": "code",
   "source": [
    "for item_id in item_properties.itemid.unique():\n",
    "    item_rows = sorted_data[sorted_data['itemid'] == item_id]\n",
    "    properties = item_rows.groupby('property').first()\n",
    "    property_values = item_rows.set_index('property')['value']\n",
    "    for prop_id in properties.index:\n",
    "        merged_data.loc[merged_data['itemid'] == item_id, 'properties'].iloc[0].append(prop_id)\n",
    "        merged_data.loc[merged_data['itemid'] == item_id, 'property_values'].iloc[0].append(property_values[prop_id])\n",
    "\n",
    "merged_data"
   ],
   "metadata": {
    "collapsed": false,
    "ExecuteTime": {
     "end_time": "2024-05-29T16:46:05.288234Z",
     "start_time": "2024-05-29T14:52:57.445168Z"
    }
   },
   "outputs": [
    {
     "data": {
      "text/plain": [
       "        itemid categoryid available  \\\n",
       "0            0        209         0   \n",
       "1            1       1114         1   \n",
       "2            2       1305         0   \n",
       "3            3       1171         0   \n",
       "4            4       1038         0   \n",
       "...        ...        ...       ...   \n",
       "417048  466862       1376         0   \n",
       "417049  466863        173         0   \n",
       "417050  466864        373         1   \n",
       "417051  466865        421         0   \n",
       "417052  466866       1164         0   \n",
       "\n",
       "                                               properties  \\\n",
       "0       [1036, 1056, 11, 112, 127, 139, 159, 177, 189,...   \n",
       "1       [0, 1036, 112, 159, 185, 202, 227, 238, 280, 2...   \n",
       "2       [1063, 112, 159, 202, 282, 283, 318, 332, 364,...   \n",
       "3       [1025, 1080, 112, 159, 202, 227, 250, 283, 30,...   \n",
       "4       [112, 115, 159, 202, 227, 28, 283, 33, 364, 59...   \n",
       "...                                                   ...   \n",
       "417048  [112, 139, 159, 186, 202, 227, 28, 283, 29, 34...   \n",
       "417049  [1014, 112, 159, 202, 227, 283, 364, 400, 47, ...   \n",
       "417050  [1036, 112, 152, 159, 202, 227, 230, 283, 348,...   \n",
       "417051  [1031, 112, 159, 202, 227, 277, 28, 283, 332, ...   \n",
       "417052  [112, 120, 128, 159, 202, 227, 28, 283, 320, 3...   \n",
       "\n",
       "                                          property_values  \n",
       "0       [1276750, n3.168 1144008, n15360.000 628176 n1...  \n",
       "1       [769062, 1154859, 679677, 519769, 769062, 1726...  \n",
       "2       [n396.000 145688, 679677, 519769, 648485 n6000...  \n",
       "3       [769062, 769062, 679677, 519769, 261419, 13057...  \n",
       "4       [679677, n24.000, 519769, 371058 71429, 588652...  \n",
       "...                                                   ...  \n",
       "417048  [679677, 769062, 519769, 575816 n432.000, 7173...  \n",
       "417049  [1075463, 679677, 519769, 1194687 550565 24255...  \n",
       "417050  [1154859, 679677, 1071492, 519769, 1262739 205...  \n",
       "417051  [1088309, 679677, 519769, 150169 780351 820477...  \n",
       "417052  [679677, 1057641, 590055 n24.000, 519769, 8924...  \n",
       "\n",
       "[417053 rows x 5 columns]"
      ],
      "text/html": [
       "<div>\n",
       "<style scoped>\n",
       "    .dataframe tbody tr th:only-of-type {\n",
       "        vertical-align: middle;\n",
       "    }\n",
       "\n",
       "    .dataframe tbody tr th {\n",
       "        vertical-align: top;\n",
       "    }\n",
       "\n",
       "    .dataframe thead th {\n",
       "        text-align: right;\n",
       "    }\n",
       "</style>\n",
       "<table border=\"1\" class=\"dataframe\">\n",
       "  <thead>\n",
       "    <tr style=\"text-align: right;\">\n",
       "      <th></th>\n",
       "      <th>itemid</th>\n",
       "      <th>categoryid</th>\n",
       "      <th>available</th>\n",
       "      <th>properties</th>\n",
       "      <th>property_values</th>\n",
       "    </tr>\n",
       "  </thead>\n",
       "  <tbody>\n",
       "    <tr>\n",
       "      <th>0</th>\n",
       "      <td>0</td>\n",
       "      <td>209</td>\n",
       "      <td>0</td>\n",
       "      <td>[1036, 1056, 11, 112, 127, 139, 159, 177, 189,...</td>\n",
       "      <td>[1276750, n3.168 1144008, n15360.000 628176 n1...</td>\n",
       "    </tr>\n",
       "    <tr>\n",
       "      <th>1</th>\n",
       "      <td>1</td>\n",
       "      <td>1114</td>\n",
       "      <td>1</td>\n",
       "      <td>[0, 1036, 112, 159, 185, 202, 227, 238, 280, 2...</td>\n",
       "      <td>[769062, 1154859, 679677, 519769, 769062, 1726...</td>\n",
       "    </tr>\n",
       "    <tr>\n",
       "      <th>2</th>\n",
       "      <td>2</td>\n",
       "      <td>1305</td>\n",
       "      <td>0</td>\n",
       "      <td>[1063, 112, 159, 202, 282, 283, 318, 332, 364,...</td>\n",
       "      <td>[n396.000 145688, 679677, 519769, 648485 n6000...</td>\n",
       "    </tr>\n",
       "    <tr>\n",
       "      <th>3</th>\n",
       "      <td>3</td>\n",
       "      <td>1171</td>\n",
       "      <td>0</td>\n",
       "      <td>[1025, 1080, 112, 159, 202, 227, 250, 283, 30,...</td>\n",
       "      <td>[769062, 769062, 679677, 519769, 261419, 13057...</td>\n",
       "    </tr>\n",
       "    <tr>\n",
       "      <th>4</th>\n",
       "      <td>4</td>\n",
       "      <td>1038</td>\n",
       "      <td>0</td>\n",
       "      <td>[112, 115, 159, 202, 227, 28, 283, 33, 364, 59...</td>\n",
       "      <td>[679677, n24.000, 519769, 371058 71429, 588652...</td>\n",
       "    </tr>\n",
       "    <tr>\n",
       "      <th>...</th>\n",
       "      <td>...</td>\n",
       "      <td>...</td>\n",
       "      <td>...</td>\n",
       "      <td>...</td>\n",
       "      <td>...</td>\n",
       "    </tr>\n",
       "    <tr>\n",
       "      <th>417048</th>\n",
       "      <td>466862</td>\n",
       "      <td>1376</td>\n",
       "      <td>0</td>\n",
       "      <td>[112, 139, 159, 186, 202, 227, 28, 283, 29, 34...</td>\n",
       "      <td>[679677, 769062, 519769, 575816 n432.000, 7173...</td>\n",
       "    </tr>\n",
       "    <tr>\n",
       "      <th>417049</th>\n",
       "      <td>466863</td>\n",
       "      <td>173</td>\n",
       "      <td>0</td>\n",
       "      <td>[1014, 112, 159, 202, 227, 283, 364, 400, 47, ...</td>\n",
       "      <td>[1075463, 679677, 519769, 1194687 550565 24255...</td>\n",
       "    </tr>\n",
       "    <tr>\n",
       "      <th>417050</th>\n",
       "      <td>466864</td>\n",
       "      <td>373</td>\n",
       "      <td>1</td>\n",
       "      <td>[1036, 112, 152, 159, 202, 227, 230, 283, 348,...</td>\n",
       "      <td>[1154859, 679677, 1071492, 519769, 1262739 205...</td>\n",
       "    </tr>\n",
       "    <tr>\n",
       "      <th>417051</th>\n",
       "      <td>466865</td>\n",
       "      <td>421</td>\n",
       "      <td>0</td>\n",
       "      <td>[1031, 112, 159, 202, 227, 277, 28, 283, 332, ...</td>\n",
       "      <td>[1088309, 679677, 519769, 150169 780351 820477...</td>\n",
       "    </tr>\n",
       "    <tr>\n",
       "      <th>417052</th>\n",
       "      <td>466866</td>\n",
       "      <td>1164</td>\n",
       "      <td>0</td>\n",
       "      <td>[112, 120, 128, 159, 202, 227, 28, 283, 320, 3...</td>\n",
       "      <td>[679677, 1057641, 590055 n24.000, 519769, 8924...</td>\n",
       "    </tr>\n",
       "  </tbody>\n",
       "</table>\n",
       "<p>417053 rows × 5 columns</p>\n",
       "</div>"
      ]
     },
     "execution_count": 45,
     "metadata": {},
     "output_type": "execute_result"
    }
   ],
   "execution_count": 45
  },
  {
   "cell_type": "code",
   "source": [
    "display(merged_data)"
   ],
   "metadata": {
    "collapsed": false,
    "ExecuteTime": {
     "end_time": "2024-05-29T16:46:05.297832Z",
     "start_time": "2024-05-29T16:46:05.288842Z"
    }
   },
   "outputs": [
    {
     "data": {
      "text/plain": [
       "        itemid categoryid available  \\\n",
       "0            0        209         0   \n",
       "1            1       1114         1   \n",
       "2            2       1305         0   \n",
       "3            3       1171         0   \n",
       "4            4       1038         0   \n",
       "...        ...        ...       ...   \n",
       "417048  466862       1376         0   \n",
       "417049  466863        173         0   \n",
       "417050  466864        373         1   \n",
       "417051  466865        421         0   \n",
       "417052  466866       1164         0   \n",
       "\n",
       "                                               properties  \\\n",
       "0       [1036, 1056, 11, 112, 127, 139, 159, 177, 189,...   \n",
       "1       [0, 1036, 112, 159, 185, 202, 227, 238, 280, 2...   \n",
       "2       [1063, 112, 159, 202, 282, 283, 318, 332, 364,...   \n",
       "3       [1025, 1080, 112, 159, 202, 227, 250, 283, 30,...   \n",
       "4       [112, 115, 159, 202, 227, 28, 283, 33, 364, 59...   \n",
       "...                                                   ...   \n",
       "417048  [112, 139, 159, 186, 202, 227, 28, 283, 29, 34...   \n",
       "417049  [1014, 112, 159, 202, 227, 283, 364, 400, 47, ...   \n",
       "417050  [1036, 112, 152, 159, 202, 227, 230, 283, 348,...   \n",
       "417051  [1031, 112, 159, 202, 227, 277, 28, 283, 332, ...   \n",
       "417052  [112, 120, 128, 159, 202, 227, 28, 283, 320, 3...   \n",
       "\n",
       "                                          property_values  \n",
       "0       [1276750, n3.168 1144008, n15360.000 628176 n1...  \n",
       "1       [769062, 1154859, 679677, 519769, 769062, 1726...  \n",
       "2       [n396.000 145688, 679677, 519769, 648485 n6000...  \n",
       "3       [769062, 769062, 679677, 519769, 261419, 13057...  \n",
       "4       [679677, n24.000, 519769, 371058 71429, 588652...  \n",
       "...                                                   ...  \n",
       "417048  [679677, 769062, 519769, 575816 n432.000, 7173...  \n",
       "417049  [1075463, 679677, 519769, 1194687 550565 24255...  \n",
       "417050  [1154859, 679677, 1071492, 519769, 1262739 205...  \n",
       "417051  [1088309, 679677, 519769, 150169 780351 820477...  \n",
       "417052  [679677, 1057641, 590055 n24.000, 519769, 8924...  \n",
       "\n",
       "[417053 rows x 5 columns]"
      ],
      "text/html": [
       "<div>\n",
       "<style scoped>\n",
       "    .dataframe tbody tr th:only-of-type {\n",
       "        vertical-align: middle;\n",
       "    }\n",
       "\n",
       "    .dataframe tbody tr th {\n",
       "        vertical-align: top;\n",
       "    }\n",
       "\n",
       "    .dataframe thead th {\n",
       "        text-align: right;\n",
       "    }\n",
       "</style>\n",
       "<table border=\"1\" class=\"dataframe\">\n",
       "  <thead>\n",
       "    <tr style=\"text-align: right;\">\n",
       "      <th></th>\n",
       "      <th>itemid</th>\n",
       "      <th>categoryid</th>\n",
       "      <th>available</th>\n",
       "      <th>properties</th>\n",
       "      <th>property_values</th>\n",
       "    </tr>\n",
       "  </thead>\n",
       "  <tbody>\n",
       "    <tr>\n",
       "      <th>0</th>\n",
       "      <td>0</td>\n",
       "      <td>209</td>\n",
       "      <td>0</td>\n",
       "      <td>[1036, 1056, 11, 112, 127, 139, 159, 177, 189,...</td>\n",
       "      <td>[1276750, n3.168 1144008, n15360.000 628176 n1...</td>\n",
       "    </tr>\n",
       "    <tr>\n",
       "      <th>1</th>\n",
       "      <td>1</td>\n",
       "      <td>1114</td>\n",
       "      <td>1</td>\n",
       "      <td>[0, 1036, 112, 159, 185, 202, 227, 238, 280, 2...</td>\n",
       "      <td>[769062, 1154859, 679677, 519769, 769062, 1726...</td>\n",
       "    </tr>\n",
       "    <tr>\n",
       "      <th>2</th>\n",
       "      <td>2</td>\n",
       "      <td>1305</td>\n",
       "      <td>0</td>\n",
       "      <td>[1063, 112, 159, 202, 282, 283, 318, 332, 364,...</td>\n",
       "      <td>[n396.000 145688, 679677, 519769, 648485 n6000...</td>\n",
       "    </tr>\n",
       "    <tr>\n",
       "      <th>3</th>\n",
       "      <td>3</td>\n",
       "      <td>1171</td>\n",
       "      <td>0</td>\n",
       "      <td>[1025, 1080, 112, 159, 202, 227, 250, 283, 30,...</td>\n",
       "      <td>[769062, 769062, 679677, 519769, 261419, 13057...</td>\n",
       "    </tr>\n",
       "    <tr>\n",
       "      <th>4</th>\n",
       "      <td>4</td>\n",
       "      <td>1038</td>\n",
       "      <td>0</td>\n",
       "      <td>[112, 115, 159, 202, 227, 28, 283, 33, 364, 59...</td>\n",
       "      <td>[679677, n24.000, 519769, 371058 71429, 588652...</td>\n",
       "    </tr>\n",
       "    <tr>\n",
       "      <th>...</th>\n",
       "      <td>...</td>\n",
       "      <td>...</td>\n",
       "      <td>...</td>\n",
       "      <td>...</td>\n",
       "      <td>...</td>\n",
       "    </tr>\n",
       "    <tr>\n",
       "      <th>417048</th>\n",
       "      <td>466862</td>\n",
       "      <td>1376</td>\n",
       "      <td>0</td>\n",
       "      <td>[112, 139, 159, 186, 202, 227, 28, 283, 29, 34...</td>\n",
       "      <td>[679677, 769062, 519769, 575816 n432.000, 7173...</td>\n",
       "    </tr>\n",
       "    <tr>\n",
       "      <th>417049</th>\n",
       "      <td>466863</td>\n",
       "      <td>173</td>\n",
       "      <td>0</td>\n",
       "      <td>[1014, 112, 159, 202, 227, 283, 364, 400, 47, ...</td>\n",
       "      <td>[1075463, 679677, 519769, 1194687 550565 24255...</td>\n",
       "    </tr>\n",
       "    <tr>\n",
       "      <th>417050</th>\n",
       "      <td>466864</td>\n",
       "      <td>373</td>\n",
       "      <td>1</td>\n",
       "      <td>[1036, 112, 152, 159, 202, 227, 230, 283, 348,...</td>\n",
       "      <td>[1154859, 679677, 1071492, 519769, 1262739 205...</td>\n",
       "    </tr>\n",
       "    <tr>\n",
       "      <th>417051</th>\n",
       "      <td>466865</td>\n",
       "      <td>421</td>\n",
       "      <td>0</td>\n",
       "      <td>[1031, 112, 159, 202, 227, 277, 28, 283, 332, ...</td>\n",
       "      <td>[1088309, 679677, 519769, 150169 780351 820477...</td>\n",
       "    </tr>\n",
       "    <tr>\n",
       "      <th>417052</th>\n",
       "      <td>466866</td>\n",
       "      <td>1164</td>\n",
       "      <td>0</td>\n",
       "      <td>[112, 120, 128, 159, 202, 227, 28, 283, 320, 3...</td>\n",
       "      <td>[679677, 1057641, 590055 n24.000, 519769, 8924...</td>\n",
       "    </tr>\n",
       "  </tbody>\n",
       "</table>\n",
       "<p>417053 rows × 5 columns</p>\n",
       "</div>"
      ]
     },
     "metadata": {},
     "output_type": "display_data"
    }
   ],
   "execution_count": 46
  },
  {
   "cell_type": "markdown",
   "source": [
    "# options stuff\n",
    "\n",
    "### basic RS"
   ],
   "metadata": {
    "collapsed": false
   }
  },
  {
   "cell_type": "code",
   "source": [
    "#lets define the function that would show items that were bought together by the same customer\n",
    "#https://www.kaggle.com/code/niteshsahujhansi/product-recommendation-system\n",
    "\n",
    "# first - lets create a list of visitors who made a purchase\n",
    "# customer_purchased = events[events.transactionid.notnull()].visitorid.unique()\n",
    "#\n",
    "# #lets create a list of purchased items\n",
    "# purchased_items = []\n",
    "#\n",
    "# for customer in customer_purchased:\n",
    "#     purchased_items.append(list(events.loc[(events.visitorid == customer) & (events.transactionid.notnull())].itemid.values))\n",
    "#\n"
   ],
   "metadata": {
    "collapsed": false,
    "ExecuteTime": {
     "end_time": "2024-05-29T16:46:05.300070Z",
     "start_time": "2024-05-29T16:46:05.298501Z"
    }
   },
   "outputs": [],
   "execution_count": 47
  },
  {
   "cell_type": "code",
   "source": [
    "# def recommend_items(item_id, purchased_items):\n",
    "#     recommendation_list =[]\n",
    "#     for x in purchased_items:\n",
    "#         if item_id in x:\n",
    "#             recommendation_list +=x\n",
    "#\n",
    "#     # remove the pass item from the list and merge the above created list\n",
    "#     recommendation_list = list(set(recommendation_list) - set([item_id]))\n",
    "#     return recommendation_list\n",
    "\n",
    "# recommend_items(200793, purchased_items)"
   ],
   "metadata": {
    "collapsed": false,
    "ExecuteTime": {
     "end_time": "2024-05-29T16:46:05.302109Z",
     "start_time": "2024-05-29T16:46:05.300609Z"
    }
   },
   "outputs": [],
   "execution_count": 48
  },
  {
   "cell_type": "code",
   "source": [
    "merged_data"
   ],
   "metadata": {
    "collapsed": false,
    "ExecuteTime": {
     "end_time": "2024-05-29T16:46:05.311940Z",
     "start_time": "2024-05-29T16:46:05.302714Z"
    }
   },
   "outputs": [
    {
     "data": {
      "text/plain": [
       "        itemid categoryid available  \\\n",
       "0            0        209         0   \n",
       "1            1       1114         1   \n",
       "2            2       1305         0   \n",
       "3            3       1171         0   \n",
       "4            4       1038         0   \n",
       "...        ...        ...       ...   \n",
       "417048  466862       1376         0   \n",
       "417049  466863        173         0   \n",
       "417050  466864        373         1   \n",
       "417051  466865        421         0   \n",
       "417052  466866       1164         0   \n",
       "\n",
       "                                               properties  \\\n",
       "0       [1036, 1056, 11, 112, 127, 139, 159, 177, 189,...   \n",
       "1       [0, 1036, 112, 159, 185, 202, 227, 238, 280, 2...   \n",
       "2       [1063, 112, 159, 202, 282, 283, 318, 332, 364,...   \n",
       "3       [1025, 1080, 112, 159, 202, 227, 250, 283, 30,...   \n",
       "4       [112, 115, 159, 202, 227, 28, 283, 33, 364, 59...   \n",
       "...                                                   ...   \n",
       "417048  [112, 139, 159, 186, 202, 227, 28, 283, 29, 34...   \n",
       "417049  [1014, 112, 159, 202, 227, 283, 364, 400, 47, ...   \n",
       "417050  [1036, 112, 152, 159, 202, 227, 230, 283, 348,...   \n",
       "417051  [1031, 112, 159, 202, 227, 277, 28, 283, 332, ...   \n",
       "417052  [112, 120, 128, 159, 202, 227, 28, 283, 320, 3...   \n",
       "\n",
       "                                          property_values  \n",
       "0       [1276750, n3.168 1144008, n15360.000 628176 n1...  \n",
       "1       [769062, 1154859, 679677, 519769, 769062, 1726...  \n",
       "2       [n396.000 145688, 679677, 519769, 648485 n6000...  \n",
       "3       [769062, 769062, 679677, 519769, 261419, 13057...  \n",
       "4       [679677, n24.000, 519769, 371058 71429, 588652...  \n",
       "...                                                   ...  \n",
       "417048  [679677, 769062, 519769, 575816 n432.000, 7173...  \n",
       "417049  [1075463, 679677, 519769, 1194687 550565 24255...  \n",
       "417050  [1154859, 679677, 1071492, 519769, 1262739 205...  \n",
       "417051  [1088309, 679677, 519769, 150169 780351 820477...  \n",
       "417052  [679677, 1057641, 590055 n24.000, 519769, 8924...  \n",
       "\n",
       "[417053 rows x 5 columns]"
      ],
      "text/html": [
       "<div>\n",
       "<style scoped>\n",
       "    .dataframe tbody tr th:only-of-type {\n",
       "        vertical-align: middle;\n",
       "    }\n",
       "\n",
       "    .dataframe tbody tr th {\n",
       "        vertical-align: top;\n",
       "    }\n",
       "\n",
       "    .dataframe thead th {\n",
       "        text-align: right;\n",
       "    }\n",
       "</style>\n",
       "<table border=\"1\" class=\"dataframe\">\n",
       "  <thead>\n",
       "    <tr style=\"text-align: right;\">\n",
       "      <th></th>\n",
       "      <th>itemid</th>\n",
       "      <th>categoryid</th>\n",
       "      <th>available</th>\n",
       "      <th>properties</th>\n",
       "      <th>property_values</th>\n",
       "    </tr>\n",
       "  </thead>\n",
       "  <tbody>\n",
       "    <tr>\n",
       "      <th>0</th>\n",
       "      <td>0</td>\n",
       "      <td>209</td>\n",
       "      <td>0</td>\n",
       "      <td>[1036, 1056, 11, 112, 127, 139, 159, 177, 189,...</td>\n",
       "      <td>[1276750, n3.168 1144008, n15360.000 628176 n1...</td>\n",
       "    </tr>\n",
       "    <tr>\n",
       "      <th>1</th>\n",
       "      <td>1</td>\n",
       "      <td>1114</td>\n",
       "      <td>1</td>\n",
       "      <td>[0, 1036, 112, 159, 185, 202, 227, 238, 280, 2...</td>\n",
       "      <td>[769062, 1154859, 679677, 519769, 769062, 1726...</td>\n",
       "    </tr>\n",
       "    <tr>\n",
       "      <th>2</th>\n",
       "      <td>2</td>\n",
       "      <td>1305</td>\n",
       "      <td>0</td>\n",
       "      <td>[1063, 112, 159, 202, 282, 283, 318, 332, 364,...</td>\n",
       "      <td>[n396.000 145688, 679677, 519769, 648485 n6000...</td>\n",
       "    </tr>\n",
       "    <tr>\n",
       "      <th>3</th>\n",
       "      <td>3</td>\n",
       "      <td>1171</td>\n",
       "      <td>0</td>\n",
       "      <td>[1025, 1080, 112, 159, 202, 227, 250, 283, 30,...</td>\n",
       "      <td>[769062, 769062, 679677, 519769, 261419, 13057...</td>\n",
       "    </tr>\n",
       "    <tr>\n",
       "      <th>4</th>\n",
       "      <td>4</td>\n",
       "      <td>1038</td>\n",
       "      <td>0</td>\n",
       "      <td>[112, 115, 159, 202, 227, 28, 283, 33, 364, 59...</td>\n",
       "      <td>[679677, n24.000, 519769, 371058 71429, 588652...</td>\n",
       "    </tr>\n",
       "    <tr>\n",
       "      <th>...</th>\n",
       "      <td>...</td>\n",
       "      <td>...</td>\n",
       "      <td>...</td>\n",
       "      <td>...</td>\n",
       "      <td>...</td>\n",
       "    </tr>\n",
       "    <tr>\n",
       "      <th>417048</th>\n",
       "      <td>466862</td>\n",
       "      <td>1376</td>\n",
       "      <td>0</td>\n",
       "      <td>[112, 139, 159, 186, 202, 227, 28, 283, 29, 34...</td>\n",
       "      <td>[679677, 769062, 519769, 575816 n432.000, 7173...</td>\n",
       "    </tr>\n",
       "    <tr>\n",
       "      <th>417049</th>\n",
       "      <td>466863</td>\n",
       "      <td>173</td>\n",
       "      <td>0</td>\n",
       "      <td>[1014, 112, 159, 202, 227, 283, 364, 400, 47, ...</td>\n",
       "      <td>[1075463, 679677, 519769, 1194687 550565 24255...</td>\n",
       "    </tr>\n",
       "    <tr>\n",
       "      <th>417050</th>\n",
       "      <td>466864</td>\n",
       "      <td>373</td>\n",
       "      <td>1</td>\n",
       "      <td>[1036, 112, 152, 159, 202, 227, 230, 283, 348,...</td>\n",
       "      <td>[1154859, 679677, 1071492, 519769, 1262739 205...</td>\n",
       "    </tr>\n",
       "    <tr>\n",
       "      <th>417051</th>\n",
       "      <td>466865</td>\n",
       "      <td>421</td>\n",
       "      <td>0</td>\n",
       "      <td>[1031, 112, 159, 202, 227, 277, 28, 283, 332, ...</td>\n",
       "      <td>[1088309, 679677, 519769, 150169 780351 820477...</td>\n",
       "    </tr>\n",
       "    <tr>\n",
       "      <th>417052</th>\n",
       "      <td>466866</td>\n",
       "      <td>1164</td>\n",
       "      <td>0</td>\n",
       "      <td>[112, 120, 128, 159, 202, 227, 28, 283, 320, 3...</td>\n",
       "      <td>[679677, 1057641, 590055 n24.000, 519769, 8924...</td>\n",
       "    </tr>\n",
       "  </tbody>\n",
       "</table>\n",
       "<p>417053 rows × 5 columns</p>\n",
       "</div>"
      ]
     },
     "execution_count": 49,
     "metadata": {},
     "output_type": "execute_result"
    }
   ],
   "execution_count": 49
  },
  {
   "cell_type": "markdown",
   "source": [
    "## Save preprocessed dataframes"
   ],
   "metadata": {
    "collapsed": false
   }
  },
  {
   "cell_type": "code",
   "source": [
    "basepath = '../datasets/preprocessed_datasets/retailrocket/'\n",
    "events.to_pickle(basepath + 'events.pkl')\n",
    "item_properties.to_pickle(basepath + 'item_properties.pkl') \n",
    "category_tree.to_pickle(basepath + 'category_tree.pkl')\n"
   ],
   "metadata": {
    "collapsed": false,
    "ExecuteTime": {
     "end_time": "2024-05-29T16:46:14.291125Z",
     "start_time": "2024-05-29T16:46:05.312485Z"
    }
   },
   "outputs": [],
   "execution_count": 50
  },
  {
   "cell_type": "code",
   "source": [
    "transformed_events_df.to_pickle(basepath + 'visitor_actions.pkl')"
   ],
   "metadata": {
    "collapsed": false,
    "ExecuteTime": {
     "end_time": "2024-05-29T16:46:14.309073Z",
     "start_time": "2024-05-29T16:46:14.291953Z"
    }
   },
   "outputs": [],
   "execution_count": 51
  },
  {
   "cell_type": "code",
   "source": [
    "product_item_df.to_pickle(basepath + 'product_item.pkl')"
   ],
   "metadata": {
    "collapsed": false,
    "ExecuteTime": {
     "end_time": "2024-05-29T16:46:14.365804Z",
     "start_time": "2024-05-29T16:46:14.309805Z"
    }
   },
   "outputs": [],
   "execution_count": 52
  },
  {
   "cell_type": "code",
   "source": [
    "merged_data"
   ],
   "metadata": {
    "collapsed": false,
    "ExecuteTime": {
     "end_time": "2024-05-29T16:46:14.376351Z",
     "start_time": "2024-05-29T16:46:14.366437Z"
    }
   },
   "outputs": [
    {
     "data": {
      "text/plain": [
       "        itemid categoryid available  \\\n",
       "0            0        209         0   \n",
       "1            1       1114         1   \n",
       "2            2       1305         0   \n",
       "3            3       1171         0   \n",
       "4            4       1038         0   \n",
       "...        ...        ...       ...   \n",
       "417048  466862       1376         0   \n",
       "417049  466863        173         0   \n",
       "417050  466864        373         1   \n",
       "417051  466865        421         0   \n",
       "417052  466866       1164         0   \n",
       "\n",
       "                                               properties  \\\n",
       "0       [1036, 1056, 11, 112, 127, 139, 159, 177, 189,...   \n",
       "1       [0, 1036, 112, 159, 185, 202, 227, 238, 280, 2...   \n",
       "2       [1063, 112, 159, 202, 282, 283, 318, 332, 364,...   \n",
       "3       [1025, 1080, 112, 159, 202, 227, 250, 283, 30,...   \n",
       "4       [112, 115, 159, 202, 227, 28, 283, 33, 364, 59...   \n",
       "...                                                   ...   \n",
       "417048  [112, 139, 159, 186, 202, 227, 28, 283, 29, 34...   \n",
       "417049  [1014, 112, 159, 202, 227, 283, 364, 400, 47, ...   \n",
       "417050  [1036, 112, 152, 159, 202, 227, 230, 283, 348,...   \n",
       "417051  [1031, 112, 159, 202, 227, 277, 28, 283, 332, ...   \n",
       "417052  [112, 120, 128, 159, 202, 227, 28, 283, 320, 3...   \n",
       "\n",
       "                                          property_values  \n",
       "0       [1276750, n3.168 1144008, n15360.000 628176 n1...  \n",
       "1       [769062, 1154859, 679677, 519769, 769062, 1726...  \n",
       "2       [n396.000 145688, 679677, 519769, 648485 n6000...  \n",
       "3       [769062, 769062, 679677, 519769, 261419, 13057...  \n",
       "4       [679677, n24.000, 519769, 371058 71429, 588652...  \n",
       "...                                                   ...  \n",
       "417048  [679677, 769062, 519769, 575816 n432.000, 7173...  \n",
       "417049  [1075463, 679677, 519769, 1194687 550565 24255...  \n",
       "417050  [1154859, 679677, 1071492, 519769, 1262739 205...  \n",
       "417051  [1088309, 679677, 519769, 150169 780351 820477...  \n",
       "417052  [679677, 1057641, 590055 n24.000, 519769, 8924...  \n",
       "\n",
       "[417053 rows x 5 columns]"
      ],
      "text/html": [
       "<div>\n",
       "<style scoped>\n",
       "    .dataframe tbody tr th:only-of-type {\n",
       "        vertical-align: middle;\n",
       "    }\n",
       "\n",
       "    .dataframe tbody tr th {\n",
       "        vertical-align: top;\n",
       "    }\n",
       "\n",
       "    .dataframe thead th {\n",
       "        text-align: right;\n",
       "    }\n",
       "</style>\n",
       "<table border=\"1\" class=\"dataframe\">\n",
       "  <thead>\n",
       "    <tr style=\"text-align: right;\">\n",
       "      <th></th>\n",
       "      <th>itemid</th>\n",
       "      <th>categoryid</th>\n",
       "      <th>available</th>\n",
       "      <th>properties</th>\n",
       "      <th>property_values</th>\n",
       "    </tr>\n",
       "  </thead>\n",
       "  <tbody>\n",
       "    <tr>\n",
       "      <th>0</th>\n",
       "      <td>0</td>\n",
       "      <td>209</td>\n",
       "      <td>0</td>\n",
       "      <td>[1036, 1056, 11, 112, 127, 139, 159, 177, 189,...</td>\n",
       "      <td>[1276750, n3.168 1144008, n15360.000 628176 n1...</td>\n",
       "    </tr>\n",
       "    <tr>\n",
       "      <th>1</th>\n",
       "      <td>1</td>\n",
       "      <td>1114</td>\n",
       "      <td>1</td>\n",
       "      <td>[0, 1036, 112, 159, 185, 202, 227, 238, 280, 2...</td>\n",
       "      <td>[769062, 1154859, 679677, 519769, 769062, 1726...</td>\n",
       "    </tr>\n",
       "    <tr>\n",
       "      <th>2</th>\n",
       "      <td>2</td>\n",
       "      <td>1305</td>\n",
       "      <td>0</td>\n",
       "      <td>[1063, 112, 159, 202, 282, 283, 318, 332, 364,...</td>\n",
       "      <td>[n396.000 145688, 679677, 519769, 648485 n6000...</td>\n",
       "    </tr>\n",
       "    <tr>\n",
       "      <th>3</th>\n",
       "      <td>3</td>\n",
       "      <td>1171</td>\n",
       "      <td>0</td>\n",
       "      <td>[1025, 1080, 112, 159, 202, 227, 250, 283, 30,...</td>\n",
       "      <td>[769062, 769062, 679677, 519769, 261419, 13057...</td>\n",
       "    </tr>\n",
       "    <tr>\n",
       "      <th>4</th>\n",
       "      <td>4</td>\n",
       "      <td>1038</td>\n",
       "      <td>0</td>\n",
       "      <td>[112, 115, 159, 202, 227, 28, 283, 33, 364, 59...</td>\n",
       "      <td>[679677, n24.000, 519769, 371058 71429, 588652...</td>\n",
       "    </tr>\n",
       "    <tr>\n",
       "      <th>...</th>\n",
       "      <td>...</td>\n",
       "      <td>...</td>\n",
       "      <td>...</td>\n",
       "      <td>...</td>\n",
       "      <td>...</td>\n",
       "    </tr>\n",
       "    <tr>\n",
       "      <th>417048</th>\n",
       "      <td>466862</td>\n",
       "      <td>1376</td>\n",
       "      <td>0</td>\n",
       "      <td>[112, 139, 159, 186, 202, 227, 28, 283, 29, 34...</td>\n",
       "      <td>[679677, 769062, 519769, 575816 n432.000, 7173...</td>\n",
       "    </tr>\n",
       "    <tr>\n",
       "      <th>417049</th>\n",
       "      <td>466863</td>\n",
       "      <td>173</td>\n",
       "      <td>0</td>\n",
       "      <td>[1014, 112, 159, 202, 227, 283, 364, 400, 47, ...</td>\n",
       "      <td>[1075463, 679677, 519769, 1194687 550565 24255...</td>\n",
       "    </tr>\n",
       "    <tr>\n",
       "      <th>417050</th>\n",
       "      <td>466864</td>\n",
       "      <td>373</td>\n",
       "      <td>1</td>\n",
       "      <td>[1036, 112, 152, 159, 202, 227, 230, 283, 348,...</td>\n",
       "      <td>[1154859, 679677, 1071492, 519769, 1262739 205...</td>\n",
       "    </tr>\n",
       "    <tr>\n",
       "      <th>417051</th>\n",
       "      <td>466865</td>\n",
       "      <td>421</td>\n",
       "      <td>0</td>\n",
       "      <td>[1031, 112, 159, 202, 227, 277, 28, 283, 332, ...</td>\n",
       "      <td>[1088309, 679677, 519769, 150169 780351 820477...</td>\n",
       "    </tr>\n",
       "    <tr>\n",
       "      <th>417052</th>\n",
       "      <td>466866</td>\n",
       "      <td>1164</td>\n",
       "      <td>0</td>\n",
       "      <td>[112, 120, 128, 159, 202, 227, 28, 283, 320, 3...</td>\n",
       "      <td>[679677, 1057641, 590055 n24.000, 519769, 8924...</td>\n",
       "    </tr>\n",
       "  </tbody>\n",
       "</table>\n",
       "<p>417053 rows × 5 columns</p>\n",
       "</div>"
      ]
     },
     "execution_count": 53,
     "metadata": {},
     "output_type": "execute_result"
    }
   ],
   "execution_count": 53
  },
  {
   "cell_type": "code",
   "source": [
    "basepath = '../datasets/preprocessed_datasets/retailrocket/'\n",
    "merged_data.to_pickle(basepath + 'item_data_extracted.pkl')\n",
    "merged_data.to_csv(basepath + 'item_data_extracted.csv')"
   ],
   "metadata": {
    "collapsed": false,
    "ExecuteTime": {
     "end_time": "2024-05-29T16:47:36.990873Z",
     "start_time": "2024-05-29T16:46:14.376991Z"
    }
   },
   "outputs": [],
   "execution_count": 54
  },
  {
   "cell_type": "code",
   "source": [],
   "metadata": {
    "collapsed": false,
    "ExecuteTime": {
     "end_time": "2024-05-29T16:47:36.992979Z",
     "start_time": "2024-05-29T16:47:36.991675Z"
    }
   },
   "outputs": [],
   "execution_count": 54
  },
  {
   "cell_type": "code",
   "source": [
    "events = events.sample(10000)\n",
    "events.to_pickle(basepath + 'events_10k.pkl')"
   ],
   "metadata": {
    "collapsed": false,
    "ExecuteTime": {
     "end_time": "2024-05-29T16:47:37.045854Z",
     "start_time": "2024-05-29T16:47:36.993576Z"
    }
   },
   "outputs": [],
   "execution_count": 55
  }
 ],
 "metadata": {
  "kernelspec": {
   "display_name": "Python 3",
   "language": "python",
   "name": "python3"
  },
  "language_info": {
   "codemirror_mode": {
    "name": "ipython",
    "version": 2
   },
   "file_extension": ".py",
   "mimetype": "text/x-python",
   "name": "python",
   "nbconvert_exporter": "python",
   "pygments_lexer": "ipython2",
   "version": "2.7.6"
  }
 },
 "nbformat": 4,
 "nbformat_minor": 0
}
