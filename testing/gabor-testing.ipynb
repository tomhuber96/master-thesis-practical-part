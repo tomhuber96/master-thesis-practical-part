{
 "cells": [
  {
   "cell_type": "code",
   "execution_count": 31,
   "metadata": {
    "collapsed": true
   },
   "outputs": [],
   "source": [
    "import pandas as pd\n",
    "pd.set_option('display.max_columns', None)"
   ]
  },
  {
   "cell_type": "code",
   "execution_count": 32,
   "outputs": [],
   "source": [
    "basepath = '../datasets/preprocessed_datasets/gabor/'"
   ],
   "metadata": {
    "collapsed": false
   }
  },
  {
   "cell_type": "code",
   "execution_count": 33,
   "outputs": [
    {
     "data": {
      "text/plain": "        product__id  b2cPrice  \\\n0            557559     99.95   \n30           551622     89.95   \n108          547193     79.95   \n205          549776    140.00   \n241          550599    120.00   \n...             ...       ...   \n648486     10587121     99.95   \n648487     10366497    140.00   \n648489     10227216    140.00   \n648490     10230388     99.95   \n648491     10227507     99.95   \n\n                                             productName  brand__id  \\\n0               sportliche Ballerinas Glattleder schwarz    6590678   \n30                     elegante Pumps Glattleder schwarz    6590677   \n108                           Slipper Glattleder schwarz    6590677   \n205                            Sneaker low Rauleder blau    4997827   \n241                            Sneaker low Rauleder blau    6590678   \n...                                                  ...        ...   \n648486                            Slipper Rauleder beige    6590677   \n648487                Sneaker low Materialmix Leder weiß    6590678   \n648489  PG8000 Sneaker low Materialmix Leder/Textil grün    4997827   \n648490                    PG0460 Sneaker low Textil blau    3692257   \n648491    Sneaker low Materialmix Leder/Lederimitat rosa    4997827   \n\n        mainCategory__id gender     line                       material  \\\n0                 315571      w  F-S|H-W                     Glattleder   \n30                315573      w  F-S|H-W                     Glattleder   \n108               315576      w  F-S|H-W                     Glattleder   \n205               315567      w  F-S|H-W                       Rauleder   \n241               315567      w  F-S|H-W                       Rauleder   \n...                  ...    ...      ...                            ...   \n648486            315576      w      F-S                       Rauleder   \n648487            315567      w      F-S              Materialmix Leder   \n648489           3692261      m      F-S       Materialmix Leder-Textil   \n648490           3692261      m      F-S                         Textil   \n648491            315567      w      F-S  Materialmix Leder-Lederimitat   \n\n          color productType_x  \n0       schwarz          shoe  \n30      schwarz          shoe  \n108     schwarz          shoe  \n205        blau          shoe  \n241        blau          shoe  \n...         ...           ...  \n648486    beige          shoe  \n648487     weiß          shoe  \n648489     grün          shoe  \n648490     blau          shoe  \n648491     rosa          shoe  \n\n[108777 rows x 10 columns]",
      "text/html": "<div>\n<style scoped>\n    .dataframe tbody tr th:only-of-type {\n        vertical-align: middle;\n    }\n\n    .dataframe tbody tr th {\n        vertical-align: top;\n    }\n\n    .dataframe thead th {\n        text-align: right;\n    }\n</style>\n<table border=\"1\" class=\"dataframe\">\n  <thead>\n    <tr style=\"text-align: right;\">\n      <th></th>\n      <th>product__id</th>\n      <th>b2cPrice</th>\n      <th>productName</th>\n      <th>brand__id</th>\n      <th>mainCategory__id</th>\n      <th>gender</th>\n      <th>line</th>\n      <th>material</th>\n      <th>color</th>\n      <th>productType_x</th>\n    </tr>\n  </thead>\n  <tbody>\n    <tr>\n      <th>0</th>\n      <td>557559</td>\n      <td>99.95</td>\n      <td>sportliche Ballerinas Glattleder schwarz</td>\n      <td>6590678</td>\n      <td>315571</td>\n      <td>w</td>\n      <td>F-S|H-W</td>\n      <td>Glattleder</td>\n      <td>schwarz</td>\n      <td>shoe</td>\n    </tr>\n    <tr>\n      <th>30</th>\n      <td>551622</td>\n      <td>89.95</td>\n      <td>elegante Pumps Glattleder schwarz</td>\n      <td>6590677</td>\n      <td>315573</td>\n      <td>w</td>\n      <td>F-S|H-W</td>\n      <td>Glattleder</td>\n      <td>schwarz</td>\n      <td>shoe</td>\n    </tr>\n    <tr>\n      <th>108</th>\n      <td>547193</td>\n      <td>79.95</td>\n      <td>Slipper Glattleder schwarz</td>\n      <td>6590677</td>\n      <td>315576</td>\n      <td>w</td>\n      <td>F-S|H-W</td>\n      <td>Glattleder</td>\n      <td>schwarz</td>\n      <td>shoe</td>\n    </tr>\n    <tr>\n      <th>205</th>\n      <td>549776</td>\n      <td>140.00</td>\n      <td>Sneaker low Rauleder blau</td>\n      <td>4997827</td>\n      <td>315567</td>\n      <td>w</td>\n      <td>F-S|H-W</td>\n      <td>Rauleder</td>\n      <td>blau</td>\n      <td>shoe</td>\n    </tr>\n    <tr>\n      <th>241</th>\n      <td>550599</td>\n      <td>120.00</td>\n      <td>Sneaker low Rauleder blau</td>\n      <td>6590678</td>\n      <td>315567</td>\n      <td>w</td>\n      <td>F-S|H-W</td>\n      <td>Rauleder</td>\n      <td>blau</td>\n      <td>shoe</td>\n    </tr>\n    <tr>\n      <th>...</th>\n      <td>...</td>\n      <td>...</td>\n      <td>...</td>\n      <td>...</td>\n      <td>...</td>\n      <td>...</td>\n      <td>...</td>\n      <td>...</td>\n      <td>...</td>\n      <td>...</td>\n    </tr>\n    <tr>\n      <th>648486</th>\n      <td>10587121</td>\n      <td>99.95</td>\n      <td>Slipper Rauleder beige</td>\n      <td>6590677</td>\n      <td>315576</td>\n      <td>w</td>\n      <td>F-S</td>\n      <td>Rauleder</td>\n      <td>beige</td>\n      <td>shoe</td>\n    </tr>\n    <tr>\n      <th>648487</th>\n      <td>10366497</td>\n      <td>140.00</td>\n      <td>Sneaker low Materialmix Leder weiß</td>\n      <td>6590678</td>\n      <td>315567</td>\n      <td>w</td>\n      <td>F-S</td>\n      <td>Materialmix Leder</td>\n      <td>weiß</td>\n      <td>shoe</td>\n    </tr>\n    <tr>\n      <th>648489</th>\n      <td>10227216</td>\n      <td>140.00</td>\n      <td>PG8000 Sneaker low Materialmix Leder/Textil grün</td>\n      <td>4997827</td>\n      <td>3692261</td>\n      <td>m</td>\n      <td>F-S</td>\n      <td>Materialmix Leder-Textil</td>\n      <td>grün</td>\n      <td>shoe</td>\n    </tr>\n    <tr>\n      <th>648490</th>\n      <td>10230388</td>\n      <td>99.95</td>\n      <td>PG0460 Sneaker low Textil blau</td>\n      <td>3692257</td>\n      <td>3692261</td>\n      <td>m</td>\n      <td>F-S</td>\n      <td>Textil</td>\n      <td>blau</td>\n      <td>shoe</td>\n    </tr>\n    <tr>\n      <th>648491</th>\n      <td>10227507</td>\n      <td>99.95</td>\n      <td>Sneaker low Materialmix Leder/Lederimitat rosa</td>\n      <td>4997827</td>\n      <td>315567</td>\n      <td>w</td>\n      <td>F-S</td>\n      <td>Materialmix Leder-Lederimitat</td>\n      <td>rosa</td>\n      <td>shoe</td>\n    </tr>\n  </tbody>\n</table>\n<p>108777 rows × 10 columns</p>\n</div>"
     },
     "metadata": {},
     "output_type": "display_data"
    }
   ],
   "source": [
    "item_data = pd.read_pickle(basepath +'only_products.pkl')\n",
    "\n",
    "aws_cols = {'product__id': 'ITEM_ID', 'b2cPrice' :'PRICE', 'productName': 'PRODUCT_NAME', 'brand__id': 'BRAND', 'mainCategory__id':'category_l1', 'gender': 'GENDER', 'line' : 'LINE', 'material': 'MATERIAL', 'color': 'COLOR', 'productType_x': 'PRODUCT_TYPE'}\n",
    "\n",
    "item_data = item_data[aws_cols.keys()]\n",
    "\n",
    "#item_data['ITEM_ID'] = item_data['ITEM_ID'].astype(str)\n",
    "#item_data['category_l1'] = item_data['category_l1'].astype(str)\n",
    "\n",
    "display(item_data)"
   ],
   "metadata": {
    "collapsed": false
   }
  },
  {
   "cell_type": "code",
   "execution_count": 34,
   "outputs": [],
   "source": [
    "def getItemById(id):\n",
    "    return item_data.loc[item_data['product__id'] == id]"
   ],
   "metadata": {
    "collapsed": false
   }
  },
  {
   "cell_type": "code",
   "execution_count": 35,
   "outputs": [
    {
     "data": {
      "text/plain": "       product__id  b2cPrice                  productName  brand__id  \\\n18898       360824     79.95  Zehentrenner Rauleder braun    6590677   \n\n       mainCategory__id gender line  material  color productType_x  \n18898            315594      w  F-S  Rauleder  braun          shoe  ",
      "text/html": "<div>\n<style scoped>\n    .dataframe tbody tr th:only-of-type {\n        vertical-align: middle;\n    }\n\n    .dataframe tbody tr th {\n        vertical-align: top;\n    }\n\n    .dataframe thead th {\n        text-align: right;\n    }\n</style>\n<table border=\"1\" class=\"dataframe\">\n  <thead>\n    <tr style=\"text-align: right;\">\n      <th></th>\n      <th>product__id</th>\n      <th>b2cPrice</th>\n      <th>productName</th>\n      <th>brand__id</th>\n      <th>mainCategory__id</th>\n      <th>gender</th>\n      <th>line</th>\n      <th>material</th>\n      <th>color</th>\n      <th>productType_x</th>\n    </tr>\n  </thead>\n  <tbody>\n    <tr>\n      <th>18898</th>\n      <td>360824</td>\n      <td>79.95</td>\n      <td>Zehentrenner Rauleder braun</td>\n      <td>6590677</td>\n      <td>315594</td>\n      <td>w</td>\n      <td>F-S</td>\n      <td>Rauleder</td>\n      <td>braun</td>\n      <td>shoe</td>\n    </tr>\n  </tbody>\n</table>\n</div>"
     },
     "metadata": {},
     "output_type": "display_data"
    }
   ],
   "source": [
    "display(getItemById(360824))"
   ],
   "metadata": {
    "collapsed": false
   }
  },
  {
   "cell_type": "code",
   "execution_count": 36,
   "outputs": [
    {
     "data": {
      "text/plain": "       product__id  b2cPrice                     productName  brand__id  \\\n11485       473297     79.95  Pantoletten Glattleder schwarz    6590677   \n\n       mainCategory__id gender line    material    color productType_x  \n11485            315572      w  F-S  Glattleder  schwarz          shoe  ",
      "text/html": "<div>\n<style scoped>\n    .dataframe tbody tr th:only-of-type {\n        vertical-align: middle;\n    }\n\n    .dataframe tbody tr th {\n        vertical-align: top;\n    }\n\n    .dataframe thead th {\n        text-align: right;\n    }\n</style>\n<table border=\"1\" class=\"dataframe\">\n  <thead>\n    <tr style=\"text-align: right;\">\n      <th></th>\n      <th>product__id</th>\n      <th>b2cPrice</th>\n      <th>productName</th>\n      <th>brand__id</th>\n      <th>mainCategory__id</th>\n      <th>gender</th>\n      <th>line</th>\n      <th>material</th>\n      <th>color</th>\n      <th>productType_x</th>\n    </tr>\n  </thead>\n  <tbody>\n    <tr>\n      <th>11485</th>\n      <td>473297</td>\n      <td>79.95</td>\n      <td>Pantoletten Glattleder schwarz</td>\n      <td>6590677</td>\n      <td>315572</td>\n      <td>w</td>\n      <td>F-S</td>\n      <td>Glattleder</td>\n      <td>schwarz</td>\n      <td>shoe</td>\n    </tr>\n  </tbody>\n</table>\n</div>"
     },
     "metadata": {},
     "output_type": "display_data"
    }
   ],
   "source": [
    "display(getItemById(473297))"
   ],
   "metadata": {
    "collapsed": false
   }
  },
  {
   "cell_type": "code",
   "execution_count": 37,
   "outputs": [
    {
     "data": {
      "text/plain": "      product__id  b2cPrice                 productName  brand__id  \\\n1853       464711     69.95  Pantoletten Textil schwarz    6590677   \n\n      mainCategory__id gender line material    color productType_x  \n1853            315572      w  F-S   Textil  schwarz          shoe  ",
      "text/html": "<div>\n<style scoped>\n    .dataframe tbody tr th:only-of-type {\n        vertical-align: middle;\n    }\n\n    .dataframe tbody tr th {\n        vertical-align: top;\n    }\n\n    .dataframe thead th {\n        text-align: right;\n    }\n</style>\n<table border=\"1\" class=\"dataframe\">\n  <thead>\n    <tr style=\"text-align: right;\">\n      <th></th>\n      <th>product__id</th>\n      <th>b2cPrice</th>\n      <th>productName</th>\n      <th>brand__id</th>\n      <th>mainCategory__id</th>\n      <th>gender</th>\n      <th>line</th>\n      <th>material</th>\n      <th>color</th>\n      <th>productType_x</th>\n    </tr>\n  </thead>\n  <tbody>\n    <tr>\n      <th>1853</th>\n      <td>464711</td>\n      <td>69.95</td>\n      <td>Pantoletten Textil schwarz</td>\n      <td>6590677</td>\n      <td>315572</td>\n      <td>w</td>\n      <td>F-S</td>\n      <td>Textil</td>\n      <td>schwarz</td>\n      <td>shoe</td>\n    </tr>\n  </tbody>\n</table>\n</div>"
     },
     "metadata": {},
     "output_type": "display_data"
    }
   ],
   "source": [
    "display(getItemById(464711))"
   ],
   "metadata": {
    "collapsed": false
   }
  },
  {
   "cell_type": "markdown",
   "source": [
    "### aws recommendation 'bought-together' (25 items):\n",
    "\n",
    "RID-fc-4d91-9715-bc641ac714e0-CID-0236ff\n",
    "\n",
    "473297\n",
    "360838\n",
    "464711\n",
    "473298\n",
    "473296\n",
    "360839\n",
    "464712\n",
    "464710\n",
    "360837\n",
    "547189\n",
    "464722\n",
    "551505\n",
    "552969\n",
    "549923\n",
    "551506\n",
    "558094\n",
    "473299\n",
    "7590571\n",
    "547190\n",
    "8667670\n",
    "553963\n",
    "360840\n",
    "549924\n",
    "550594\n",
    "3849256"
   ],
   "metadata": {
    "collapsed": false
   }
  },
  {
   "cell_type": "markdown",
   "source": [
    "### AWS best sellers\n",
    "\n",
    "user used: 1940761\n",
    "\n",
    "recommendation id: RID-b3-4725-9e53-79b3acb67e9c-CID-0a9773\n",
    "\n",
    "results:\n",
    "473297\n",
    "360838\n",
    "464711\n",
    "473298\n",
    "473296\n",
    "360839\n",
    "464712\n",
    "464710\n",
    "360837\n",
    "547189\n",
    "464722\n",
    "551505\n",
    "552969\n",
    "549923\n",
    "551506\n",
    "558094\n",
    "473299\n",
    "7590571\n",
    "8667670\n",
    "547190\n",
    "553963\n",
    "360840\n",
    "549924\n",
    "550594\n",
    "3849256"
   ],
   "metadata": {
    "collapsed": false
   }
  }
 ],
 "metadata": {
  "kernelspec": {
   "display_name": "Python 3",
   "language": "python",
   "name": "python3"
  },
  "language_info": {
   "codemirror_mode": {
    "name": "ipython",
    "version": 2
   },
   "file_extension": ".py",
   "mimetype": "text/x-python",
   "name": "python",
   "nbconvert_exporter": "python",
   "pygments_lexer": "ipython2",
   "version": "2.7.6"
  }
 },
 "nbformat": 4,
 "nbformat_minor": 0
}
