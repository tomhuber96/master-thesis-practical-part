{
 "cells": [
  {
   "cell_type": "code",
   "execution_count": 1,
   "id": "initial_id",
   "metadata": {
    "collapsed": true,
    "ExecuteTime": {
     "end_time": "2023-11-24T08:18:41.789927Z",
     "start_time": "2023-11-24T08:18:39.168736Z"
    }
   },
   "outputs": [],
   "source": [
    "#%pip install -q tensorflow-recommenders\n",
    "import tensorflow as tf\n",
    "import pandas as pd\n",
    "from tensorflow.keras.layers import Embedding, Dense, StringLookup\n",
    "from tensorflow.keras import Sequential\n",
    "import tensorflow_recommenders as tfrs\n",
    "from tensorflow.keras.metrics import AUC\n",
    "import math\n",
    "import numpy as np\n",
    "from tensorflow.keras.preprocessing.text import Tokenizer\n",
    "from tensorflow.keras.preprocessing.sequence import pad_sequences\n",
    "import keras\n",
    "from keras.src.layers import LSTM"
   ]
  },
  {
   "cell_type": "code",
   "execution_count": 2,
   "outputs": [
    {
     "name": "stdout",
     "output_type": "stream",
     "text": [
      "GPU is available\n"
     ]
    }
   ],
   "source": [
    "if tf.config.list_physical_devices('GPU'):\n",
    "    print(\"GPU is available\")\n",
    "else:\n",
    "    print(\"GPU is not available\")"
   ],
   "metadata": {
    "collapsed": false,
    "ExecuteTime": {
     "end_time": "2023-11-24T08:18:41.793463Z",
     "start_time": "2023-11-24T08:18:41.790382Z"
    }
   },
   "id": "89849bbf9d8a3d88"
  },
  {
   "cell_type": "code",
   "execution_count": 3,
   "outputs": [
    {
     "data": {
      "text/plain": "      customer_id  main_product_id  amount  color_mapped  \\\n0         5474118          7699535       1            34   \n1         2176279          3845441       1             4   \n2         2230073          3591304       1             4   \n3         9195905          4821963       1             3   \n4         9111516          3591163       1             0   \n...           ...              ...     ...           ...   \n8995      9354273           548300       1             0   \n8996      5592224          3477220       1             1   \n8997      6932845          3693122       1             0   \n8998     10532624          4773825       1             6   \n8999      5244488          3505964       1             4   \n\n                                            productName  \n0                    Sneaker low Materialmix Leder lila  \n1                    Sneaker low Materialmix Leder grau  \n2                             Sneaker low Rauleder grau  \n3                           Pantolette Glattleder braun  \n4                       Sneaker high Glattleder schwarz  \n...                                                 ...  \n8995  Sportliche Ballerina Materialmix Leder/Lederim...  \n8996                 Sportliche Ballerina Rauleder blau  \n8997                 Schnürstiefelette Rauleder schwarz  \n8998                       Sneaker low Glattleder beige  \n8999     Sneaker low Materialmix Leder/Lederimitat grau  \n\n[9000 rows x 5 columns]",
      "text/html": "<div>\n<style scoped>\n    .dataframe tbody tr th:only-of-type {\n        vertical-align: middle;\n    }\n\n    .dataframe tbody tr th {\n        vertical-align: top;\n    }\n\n    .dataframe thead th {\n        text-align: right;\n    }\n</style>\n<table border=\"1\" class=\"dataframe\">\n  <thead>\n    <tr style=\"text-align: right;\">\n      <th></th>\n      <th>customer_id</th>\n      <th>main_product_id</th>\n      <th>amount</th>\n      <th>color_mapped</th>\n      <th>productName</th>\n    </tr>\n  </thead>\n  <tbody>\n    <tr>\n      <th>0</th>\n      <td>5474118</td>\n      <td>7699535</td>\n      <td>1</td>\n      <td>34</td>\n      <td>Sneaker low Materialmix Leder lila</td>\n    </tr>\n    <tr>\n      <th>1</th>\n      <td>2176279</td>\n      <td>3845441</td>\n      <td>1</td>\n      <td>4</td>\n      <td>Sneaker low Materialmix Leder grau</td>\n    </tr>\n    <tr>\n      <th>2</th>\n      <td>2230073</td>\n      <td>3591304</td>\n      <td>1</td>\n      <td>4</td>\n      <td>Sneaker low Rauleder grau</td>\n    </tr>\n    <tr>\n      <th>3</th>\n      <td>9195905</td>\n      <td>4821963</td>\n      <td>1</td>\n      <td>3</td>\n      <td>Pantolette Glattleder braun</td>\n    </tr>\n    <tr>\n      <th>4</th>\n      <td>9111516</td>\n      <td>3591163</td>\n      <td>1</td>\n      <td>0</td>\n      <td>Sneaker high Glattleder schwarz</td>\n    </tr>\n    <tr>\n      <th>...</th>\n      <td>...</td>\n      <td>...</td>\n      <td>...</td>\n      <td>...</td>\n      <td>...</td>\n    </tr>\n    <tr>\n      <th>8995</th>\n      <td>9354273</td>\n      <td>548300</td>\n      <td>1</td>\n      <td>0</td>\n      <td>Sportliche Ballerina Materialmix Leder/Lederim...</td>\n    </tr>\n    <tr>\n      <th>8996</th>\n      <td>5592224</td>\n      <td>3477220</td>\n      <td>1</td>\n      <td>1</td>\n      <td>Sportliche Ballerina Rauleder blau</td>\n    </tr>\n    <tr>\n      <th>8997</th>\n      <td>6932845</td>\n      <td>3693122</td>\n      <td>1</td>\n      <td>0</td>\n      <td>Schnürstiefelette Rauleder schwarz</td>\n    </tr>\n    <tr>\n      <th>8998</th>\n      <td>10532624</td>\n      <td>4773825</td>\n      <td>1</td>\n      <td>6</td>\n      <td>Sneaker low Glattleder beige</td>\n    </tr>\n    <tr>\n      <th>8999</th>\n      <td>5244488</td>\n      <td>3505964</td>\n      <td>1</td>\n      <td>4</td>\n      <td>Sneaker low Materialmix Leder/Lederimitat grau</td>\n    </tr>\n  </tbody>\n</table>\n<p>9000 rows × 5 columns</p>\n</div>"
     },
     "metadata": {},
     "output_type": "display_data"
    },
    {
     "data": {
      "text/plain": "      main_product_id  productNumber  \\\n0              557559  4058394021466   \n1              551622  4054452768212   \n2              547193  4054452768427   \n3              549776  4059701687894   \n4              550726  4054452851594   \n...               ...            ...   \n3292         10603553  4066558951733   \n3293         10442948  4065171827272   \n3294         10782704  4251234499207   \n3295         10679703  4066558303617   \n3296         10496278  4065171812513   \n\n                                            productName productColorName  \\\n0              sportliche Ballerinas Glattleder schwarz          schwarz   \n1                     elegante Pumps Glattleder schwarz          schwarz   \n2                            Slipper Glattleder schwarz          schwarz   \n3                             Sneaker low Rauleder blau             blau   \n4     elegante Ballerinas Materialmix Lederimitat sc...          schwarz   \n...                                                 ...              ...   \n3292                Sandale met plateauzool Suède blauw            blauw   \n3293                    Mokassin Materialmix Leder pink             pink   \n3294                                 Shopper ANDIE blau             blau   \n3295                       Elegante pumps Glad leer wit              wit   \n3296                       Sandale compensée Daim beige            beige   \n\n     articleNumber  brand__id  mainCategory__id gender originCountry     line  \\\n0        02.643.57    6590678            315571      w            PT  F-S|H-W   \n1        05.160.37    6590677            315573      w            PT  F-S|H-W   \n2        04.443.27    6590677            315576      w            SK  F-S|H-W   \n3        06.968.46    4997827            315567      w            VN  F-S|H-W   \n4        06.102.67    6590678            315574      w            SK  F-S|H-W   \n...            ...        ...               ...    ...           ...      ...   \n3292     24.764.36    6590677            315568      w            SK      F-S   \n3293     26.090.21    6590678            315590      w            PT      F-S   \n3294        921453     363013            363017      w            DE      F-S   \n3295     21.450.60    6590677            315573      w            PT      F-S   \n3296     24.645.14    6590677            315564      w            PT      F-S   \n\n      ...  sizeEu sizeUk  sizeIndex  shaftLength__value       sole  \\\n0     ...    40.0    6.5       11.0                 0.0      Gummi   \n1     ...    38.0    5.0        8.0                 0.0        EVA   \n2     ...    42.0    8.0       14.0                 0.0     PU-TPU   \n3     ...    39.0    6.0       10.0                 0.0  Gummi-EVA   \n4     ...    37.5    4.5        7.0                 0.0        EVA   \n...   ...     ...    ...        ...                 ...        ...   \n3292  ...    35.0    2.5        3.0                 0.0     PU-TPU   \n3293  ...    40.5    7.0       12.0                 0.0      Gummi   \n3294  ...     NaN    NaN        NaN                 NaN        NaN   \n3295  ...    35.0    2.5        3.0                 0.0        TPU   \n3296  ...    38.0    5.0        8.0                 0.0         TR   \n\n      isTransferee  isSuccessor  \\\n0              0.0          0.0   \n1              0.0          0.0   \n2              0.0          0.0   \n3              0.0          0.0   \n4              0.0          0.0   \n...            ...          ...   \n3292           0.0          0.0   \n3293           0.0          0.0   \n3294           NaN          NaN   \n3295           0.0          0.0   \n3296           0.0          0.0   \n\n                                 duplicate_product__ids  \\\n0     [557559, 549733, 549734, 557553, 589488, 58948...   \n1     [551622, 551505, 551510, 551509, 552973, 55162...   \n2     [547193, 547191, 547196, 547187, 547189, 54719...   \n3     [549776, 550599, 550596, 550593, 550601, 54978...   \n4     [550726, 550736, 550735, 550732, 550728, 55072...   \n...                                                 ...   \n3292                               [10603553, 10544662]   \n3293                               [10442948, 10442949]   \n3294                                         [10782704]   \n3295                                         [10679703]   \n3296                                         [10496278]   \n\n                                          product_sizes color_mapped  \n0     [35.5, 36.0, 37.0, 37.5, 38.0, 38.5, 39.0, 40....            0  \n1     [35.0, 35.5, 36.0, 37.0, 37.5, 38.0, 38.5, 39....            0  \n2     [35.0, 35.5, 36.0, 37.0, 37.5, 38.0, 38.5, 39....            0  \n3     [35.0, 35.5, 36.0, 37.0, 37.5, 38.0, 38.5, 39....            1  \n4     [35.0, 37.0, 37.5, 38.0, 38.5, 39.0, 40.0, 40....            0  \n...                                                 ...          ...  \n3292                                       [35.0, 37.0]           30  \n3293                                       [40.5, 41.0]           56  \n3294                                                 []            1  \n3295                                             [35.0]           33  \n3296                                             [38.0]            6  \n\n[3297 rows x 57 columns]",
      "text/html": "<div>\n<style scoped>\n    .dataframe tbody tr th:only-of-type {\n        vertical-align: middle;\n    }\n\n    .dataframe tbody tr th {\n        vertical-align: top;\n    }\n\n    .dataframe thead th {\n        text-align: right;\n    }\n</style>\n<table border=\"1\" class=\"dataframe\">\n  <thead>\n    <tr style=\"text-align: right;\">\n      <th></th>\n      <th>main_product_id</th>\n      <th>productNumber</th>\n      <th>productName</th>\n      <th>productColorName</th>\n      <th>articleNumber</th>\n      <th>brand__id</th>\n      <th>mainCategory__id</th>\n      <th>gender</th>\n      <th>originCountry</th>\n      <th>line</th>\n      <th>...</th>\n      <th>sizeEu</th>\n      <th>sizeUk</th>\n      <th>sizeIndex</th>\n      <th>shaftLength__value</th>\n      <th>sole</th>\n      <th>isTransferee</th>\n      <th>isSuccessor</th>\n      <th>duplicate_product__ids</th>\n      <th>product_sizes</th>\n      <th>color_mapped</th>\n    </tr>\n  </thead>\n  <tbody>\n    <tr>\n      <th>0</th>\n      <td>557559</td>\n      <td>4058394021466</td>\n      <td>sportliche Ballerinas Glattleder schwarz</td>\n      <td>schwarz</td>\n      <td>02.643.57</td>\n      <td>6590678</td>\n      <td>315571</td>\n      <td>w</td>\n      <td>PT</td>\n      <td>F-S|H-W</td>\n      <td>...</td>\n      <td>40.0</td>\n      <td>6.5</td>\n      <td>11.0</td>\n      <td>0.0</td>\n      <td>Gummi</td>\n      <td>0.0</td>\n      <td>0.0</td>\n      <td>[557559, 549733, 549734, 557553, 589488, 58948...</td>\n      <td>[35.5, 36.0, 37.0, 37.5, 38.0, 38.5, 39.0, 40....</td>\n      <td>0</td>\n    </tr>\n    <tr>\n      <th>1</th>\n      <td>551622</td>\n      <td>4054452768212</td>\n      <td>elegante Pumps Glattleder schwarz</td>\n      <td>schwarz</td>\n      <td>05.160.37</td>\n      <td>6590677</td>\n      <td>315573</td>\n      <td>w</td>\n      <td>PT</td>\n      <td>F-S|H-W</td>\n      <td>...</td>\n      <td>38.0</td>\n      <td>5.0</td>\n      <td>8.0</td>\n      <td>0.0</td>\n      <td>EVA</td>\n      <td>0.0</td>\n      <td>0.0</td>\n      <td>[551622, 551505, 551510, 551509, 552973, 55162...</td>\n      <td>[35.0, 35.5, 36.0, 37.0, 37.5, 38.0, 38.5, 39....</td>\n      <td>0</td>\n    </tr>\n    <tr>\n      <th>2</th>\n      <td>547193</td>\n      <td>4054452768427</td>\n      <td>Slipper Glattleder schwarz</td>\n      <td>schwarz</td>\n      <td>04.443.27</td>\n      <td>6590677</td>\n      <td>315576</td>\n      <td>w</td>\n      <td>SK</td>\n      <td>F-S|H-W</td>\n      <td>...</td>\n      <td>42.0</td>\n      <td>8.0</td>\n      <td>14.0</td>\n      <td>0.0</td>\n      <td>PU-TPU</td>\n      <td>0.0</td>\n      <td>0.0</td>\n      <td>[547193, 547191, 547196, 547187, 547189, 54719...</td>\n      <td>[35.0, 35.5, 36.0, 37.0, 37.5, 38.0, 38.5, 39....</td>\n      <td>0</td>\n    </tr>\n    <tr>\n      <th>3</th>\n      <td>549776</td>\n      <td>4059701687894</td>\n      <td>Sneaker low Rauleder blau</td>\n      <td>blau</td>\n      <td>06.968.46</td>\n      <td>4997827</td>\n      <td>315567</td>\n      <td>w</td>\n      <td>VN</td>\n      <td>F-S|H-W</td>\n      <td>...</td>\n      <td>39.0</td>\n      <td>6.0</td>\n      <td>10.0</td>\n      <td>0.0</td>\n      <td>Gummi-EVA</td>\n      <td>0.0</td>\n      <td>0.0</td>\n      <td>[549776, 550599, 550596, 550593, 550601, 54978...</td>\n      <td>[35.0, 35.5, 36.0, 37.0, 37.5, 38.0, 38.5, 39....</td>\n      <td>1</td>\n    </tr>\n    <tr>\n      <th>4</th>\n      <td>550726</td>\n      <td>4054452851594</td>\n      <td>elegante Ballerinas Materialmix Lederimitat sc...</td>\n      <td>schwarz</td>\n      <td>06.102.67</td>\n      <td>6590678</td>\n      <td>315574</td>\n      <td>w</td>\n      <td>SK</td>\n      <td>F-S|H-W</td>\n      <td>...</td>\n      <td>37.5</td>\n      <td>4.5</td>\n      <td>7.0</td>\n      <td>0.0</td>\n      <td>EVA</td>\n      <td>0.0</td>\n      <td>0.0</td>\n      <td>[550726, 550736, 550735, 550732, 550728, 55072...</td>\n      <td>[35.0, 37.0, 37.5, 38.0, 38.5, 39.0, 40.0, 40....</td>\n      <td>0</td>\n    </tr>\n    <tr>\n      <th>...</th>\n      <td>...</td>\n      <td>...</td>\n      <td>...</td>\n      <td>...</td>\n      <td>...</td>\n      <td>...</td>\n      <td>...</td>\n      <td>...</td>\n      <td>...</td>\n      <td>...</td>\n      <td>...</td>\n      <td>...</td>\n      <td>...</td>\n      <td>...</td>\n      <td>...</td>\n      <td>...</td>\n      <td>...</td>\n      <td>...</td>\n      <td>...</td>\n      <td>...</td>\n      <td>...</td>\n    </tr>\n    <tr>\n      <th>3292</th>\n      <td>10603553</td>\n      <td>4066558951733</td>\n      <td>Sandale met plateauzool Suède blauw</td>\n      <td>blauw</td>\n      <td>24.764.36</td>\n      <td>6590677</td>\n      <td>315568</td>\n      <td>w</td>\n      <td>SK</td>\n      <td>F-S</td>\n      <td>...</td>\n      <td>35.0</td>\n      <td>2.5</td>\n      <td>3.0</td>\n      <td>0.0</td>\n      <td>PU-TPU</td>\n      <td>0.0</td>\n      <td>0.0</td>\n      <td>[10603553, 10544662]</td>\n      <td>[35.0, 37.0]</td>\n      <td>30</td>\n    </tr>\n    <tr>\n      <th>3293</th>\n      <td>10442948</td>\n      <td>4065171827272</td>\n      <td>Mokassin Materialmix Leder pink</td>\n      <td>pink</td>\n      <td>26.090.21</td>\n      <td>6590678</td>\n      <td>315590</td>\n      <td>w</td>\n      <td>PT</td>\n      <td>F-S</td>\n      <td>...</td>\n      <td>40.5</td>\n      <td>7.0</td>\n      <td>12.0</td>\n      <td>0.0</td>\n      <td>Gummi</td>\n      <td>0.0</td>\n      <td>0.0</td>\n      <td>[10442948, 10442949]</td>\n      <td>[40.5, 41.0]</td>\n      <td>56</td>\n    </tr>\n    <tr>\n      <th>3294</th>\n      <td>10782704</td>\n      <td>4251234499207</td>\n      <td>Shopper ANDIE blau</td>\n      <td>blau</td>\n      <td>921453</td>\n      <td>363013</td>\n      <td>363017</td>\n      <td>w</td>\n      <td>DE</td>\n      <td>F-S</td>\n      <td>...</td>\n      <td>NaN</td>\n      <td>NaN</td>\n      <td>NaN</td>\n      <td>NaN</td>\n      <td>NaN</td>\n      <td>NaN</td>\n      <td>NaN</td>\n      <td>[10782704]</td>\n      <td>[]</td>\n      <td>1</td>\n    </tr>\n    <tr>\n      <th>3295</th>\n      <td>10679703</td>\n      <td>4066558303617</td>\n      <td>Elegante pumps Glad leer wit</td>\n      <td>wit</td>\n      <td>21.450.60</td>\n      <td>6590677</td>\n      <td>315573</td>\n      <td>w</td>\n      <td>PT</td>\n      <td>F-S</td>\n      <td>...</td>\n      <td>35.0</td>\n      <td>2.5</td>\n      <td>3.0</td>\n      <td>0.0</td>\n      <td>TPU</td>\n      <td>0.0</td>\n      <td>0.0</td>\n      <td>[10679703]</td>\n      <td>[35.0]</td>\n      <td>33</td>\n    </tr>\n    <tr>\n      <th>3296</th>\n      <td>10496278</td>\n      <td>4065171812513</td>\n      <td>Sandale compensée Daim beige</td>\n      <td>beige</td>\n      <td>24.645.14</td>\n      <td>6590677</td>\n      <td>315564</td>\n      <td>w</td>\n      <td>PT</td>\n      <td>F-S</td>\n      <td>...</td>\n      <td>38.0</td>\n      <td>5.0</td>\n      <td>8.0</td>\n      <td>0.0</td>\n      <td>TR</td>\n      <td>0.0</td>\n      <td>0.0</td>\n      <td>[10496278]</td>\n      <td>[38.0]</td>\n      <td>6</td>\n    </tr>\n  </tbody>\n</table>\n<p>3297 rows × 57 columns</p>\n</div>"
     },
     "metadata": {},
     "output_type": "display_data"
    }
   ],
   "source": [
    "# Load data\n",
    "basepath = '../../datasets/preprocessed_datasets/gabor/'\n",
    "pandas_interaction_data = pd.read_pickle(basepath + 'user_item_interactions_only_main_products_10k.pkl')\n",
    "pandas_interaction_data = pandas_interaction_data.sample(9000)\n",
    "pandas_interaction_data.amount = pandas_interaction_data.amount.apply(lambda x: 1 if x > 0 else 0) \n",
    "product_data = pd.read_pickle(basepath + 'no_product_variants_with_duplicate_ids.pkl')\n",
    "pandas_interaction_data.main_product_id = pandas_interaction_data.main_product_id.astype(int)\n",
    "product_data.main_product_id = product_data.main_product_id.astype(int)\n",
    "product_data['color_mapped'] = pd.factorize(product_data['productColorName'])[0]\n",
    "\n",
    "pandas_interaction_data = pd.merge(pandas_interaction_data, product_data[['main_product_id', 'color_mapped', 'productName']],\n",
    "                                   left_on='main_product_id',\n",
    "                                   right_on='main_product_id',\n",
    "                                    how='left')\n",
    "\n",
    "display(pandas_interaction_data, product_data)"
   ],
   "metadata": {
    "collapsed": false,
    "ExecuteTime": {
     "end_time": "2023-11-24T08:18:41.829849Z",
     "start_time": "2023-11-24T08:18:41.794269Z"
    }
   },
   "id": "e008bf18a8e80e4f"
  },
  {
   "cell_type": "code",
   "execution_count": 4,
   "outputs": [],
   "source": [
    "# Initialize tokenizer\n",
    "string_lookup = StringLookup()\n",
    "string_lookup.adapt(pandas_interaction_data['productName'])\n",
    "\n",
    "tokenizer = Tokenizer(num_words=string_lookup.vocabulary_size(), oov_token=\"<OOV>\")\n",
    "tokenizer.fit_on_texts(pandas_interaction_data['productName'])\n",
    "\n",
    "# Convert text to sequences\n",
    "sequences = tokenizer.texts_to_sequences(pandas_interaction_data['productName'])\n",
    "\n",
    "# Pad sequences\n",
    "padded_sequences = pad_sequences(sequences, padding='post')"
   ],
   "metadata": {
    "collapsed": false,
    "ExecuteTime": {
     "end_time": "2023-11-24T08:18:42.351161Z",
     "start_time": "2023-11-24T08:18:41.831204Z"
    }
   },
   "id": "695c10450ec522db"
  },
  {
   "cell_type": "code",
   "execution_count": 5,
   "outputs": [],
   "source": [
    "# Create a tf.data.Dataset from the interaction data\n",
    "interaction_dataset = tf.data.Dataset.from_tensor_slices({\n",
    "    'customer_id': pandas_interaction_data['customer_id'].values,\n",
    "    'main_product_id': pandas_interaction_data['main_product_id'].values,\n",
    "    'amount': pandas_interaction_data['amount'].values, \n",
    "    'product_color': pandas_interaction_data['color_mapped'].values, \n",
    "    'product_description': padded_sequences, \n",
    "})\n",
    "#variables \n",
    "dataset_len = pandas_interaction_data.shape[0]\n",
    "test_len = math.ceil(dataset_len * 0.2)\n",
    "train_len = dataset_len - test_len\n",
    "\n",
    "metrics_batchsize = 16\n",
    "train_batch_size = 128\n",
    "test_batch_size = 64\n",
    "random_seed = 27"
   ],
   "metadata": {
    "collapsed": false,
    "ExecuteTime": {
     "end_time": "2023-11-24T08:18:42.357647Z",
     "start_time": "2023-11-24T08:18:42.352453Z"
    }
   },
   "id": "c089ac7f029dc324"
  },
  {
   "cell_type": "code",
   "execution_count": 6,
   "outputs": [
    {
     "data": {
      "text/plain": "<_TensorSliceDataset element_spec={'customer_id': TensorSpec(shape=(), dtype=tf.int64, name=None), 'main_product_id': TensorSpec(shape=(), dtype=tf.int64, name=None), 'amount': TensorSpec(shape=(), dtype=tf.int64, name=None), 'product_color': TensorSpec(shape=(), dtype=tf.int64, name=None), 'product_description': TensorSpec(shape=(8,), dtype=tf.int32, name=None)}>"
     },
     "execution_count": 6,
     "metadata": {},
     "output_type": "execute_result"
    }
   ],
   "source": [
    "interaction_dataset"
   ],
   "metadata": {
    "collapsed": false,
    "ExecuteTime": {
     "end_time": "2023-11-24T08:18:42.362287Z",
     "start_time": "2023-11-24T08:18:42.358159Z"
    }
   },
   "id": "1271391f90ebc74d"
  },
  {
   "cell_type": "code",
   "execution_count": 7,
   "outputs": [
    {
     "data": {
      "text/plain": "<_TakeDataset element_spec={'customer_id': TensorSpec(shape=(), dtype=tf.int64, name=None), 'main_product_id': TensorSpec(shape=(), dtype=tf.int64, name=None), 'amount': TensorSpec(shape=(), dtype=tf.int64, name=None), 'product_color': TensorSpec(shape=(), dtype=tf.int64, name=None), 'product_description': TensorSpec(shape=(8,), dtype=tf.int32, name=None)}>"
     },
     "metadata": {},
     "output_type": "display_data"
    },
    {
     "data": {
      "text/plain": "<_TakeDataset element_spec={'customer_id': TensorSpec(shape=(), dtype=tf.int64, name=None), 'main_product_id': TensorSpec(shape=(), dtype=tf.int64, name=None), 'amount': TensorSpec(shape=(), dtype=tf.int64, name=None), 'product_color': TensorSpec(shape=(), dtype=tf.int64, name=None), 'product_description': TensorSpec(shape=(8,), dtype=tf.int32, name=None)}>"
     },
     "metadata": {},
     "output_type": "display_data"
    }
   ],
   "source": [
    "#train test split\n",
    "tf.random.set_seed(random_seed)\n",
    "# shuffled = interaction_dataset.shuffle(len, seed=random_seed, reshuffle_each_iteration=False)\n",
    "# train = shuffled.take(train_len)\n",
    "# test = shuffled.skip(train_len).take(test_len)\n",
    "shuffled = interaction_dataset.shuffle(dataset_len, seed=random_seed, reshuffle_each_iteration=False)\n",
    "\n",
    "train = shuffled.take(train_len)\n",
    "test = shuffled.skip(train_len).take(test_len)\n",
    "display(train, test)"
   ],
   "metadata": {
    "collapsed": false,
    "ExecuteTime": {
     "end_time": "2023-11-24T08:18:42.397643Z",
     "start_time": "2023-11-24T08:18:42.365173Z"
    }
   },
   "id": "825eec174445be8c"
  },
  {
   "cell_type": "code",
   "execution_count": 8,
   "outputs": [],
   "source": [
    "# Unique customer and product identifiers\n",
    "unique_customer_ids = np.array(pandas_interaction_data[\"customer_id\"].unique())\n",
    "unique_product_ids = np.array(pandas_interaction_data[\"main_product_id\"].unique())\n",
    "\n",
    "unique_colors = np.array(product_data[\"color_mapped\"].unique())\n",
    "user_ids_vocabulary = tf.keras.layers.IntegerLookup(mask_token=None)\n",
    "user_ids_vocabulary.adapt(unique_customer_ids)\n",
    "\n",
    "product_ids_vocabulary = tf.keras.layers.IntegerLookup(mask_token=None)\n",
    "product_ids_vocabulary.adapt(unique_product_ids)\n",
    "\n",
    "product_colors_vocabulary = tf.keras.layers.IntegerLookup(mask_token=None)\n",
    "product_colors_vocabulary.adapt(unique_colors)\n",
    "# print(unique_product_ids.shape[0], unique_customer_ids.shape[0], unique_product_ids, unique_product_ids)"
   ],
   "metadata": {
    "collapsed": false,
    "ExecuteTime": {
     "end_time": "2023-11-24T08:18:42.976515Z",
     "start_time": "2023-11-24T08:18:42.381184Z"
    }
   },
   "id": "2e2625e63cf53fce"
  },
  {
   "cell_type": "code",
   "execution_count": 8,
   "outputs": [],
   "source": [],
   "metadata": {
    "collapsed": false,
    "ExecuteTime": {
     "end_time": "2023-11-24T08:18:42.978706Z",
     "start_time": "2023-11-24T08:18:42.976441Z"
    }
   },
   "id": "580fc3478a356294"
  },
  {
   "cell_type": "code",
   "execution_count": 9,
   "outputs": [],
   "source": [
    "# Define a model using TensorFlow Recommenders\n",
    "product_ids_dataset = tf.data.Dataset.from_tensor_slices(unique_product_ids)\n",
    "class RetailModel(tfrs.Model):\n",
    "\n",
    "    def __init__(self, unique_product_ids_vocab, unique_customer_ids_vocab, unique_product_color_vocab, embedding_dimension=32):\n",
    "        super().__init__()\n",
    "        # Set up user and product representations\n",
    "        self.user_embedding = tf.keras.Sequential([\n",
    "            unique_customer_ids_vocab,\n",
    "            Embedding(unique_customer_ids_vocab.vocabulary_size(), embedding_dimension)\n",
    "        ])\n",
    "        self.product_embedding = tf.keras.Sequential([\n",
    "            unique_product_ids_vocab,\n",
    "            Embedding(unique_product_ids_vocab.vocabulary_size(), embedding_dimension)\n",
    "        ])\n",
    "\n",
    "        # Color embeddings\n",
    "        self.color_embedding = tf.keras.Sequential([\n",
    "            unique_product_color_vocab,\n",
    "            Embedding(unique_product_color_vocab.vocabulary_size(), embedding_dimension)\n",
    "        ]) \n",
    "\n",
    "\n",
    "        # Textual description model\n",
    "        self.textual_description_model = tf.keras.Sequential([\n",
    "            Embedding(input_dim=unique_product_ids_vocab.vocabulary_size(), output_dim=embedding_dimension),\n",
    "            LSTM(64),\n",
    "            Dense(64, activation='relu')\n",
    "        ])\n",
    "\n",
    "        # New embeddings for color and description\n",
    "        self.reduced_product_embeddings = Dense(64, activation='relu')\n",
    "        self.reduced_description_embeddings = Dense(32, activation='relu')\n",
    "        self.reduced_color_embeddings = Dense(32, activation='relu')\n",
    "        \n",
    "        # Set up a dense layer for the task.\n",
    "        self.dense_layer = Dense(128, input_shape=(256,), activation=\"relu\")\n",
    "\n",
    "        # Set up retrieval task and metrics\n",
    "        self.task = tfrs.tasks.Retrieval(\n",
    "            metrics=tfrs.metrics.FactorizedTopK(candidates=product_ids_dataset.batch(metrics_batchsize).map(self.product_model))\n",
    "        )\n",
    "        self.auc_metric = AUC(name='auc')\n",
    "        self.rmse_metric = tf.keras.metrics.RootMeanSquaredError(name='rmse')\n",
    "        self.precision = tf.keras.metrics.Precision(name='precision')\n",
    "        self.recall = tf.keras.metrics.Recall(name='recall')\n",
    "\n",
    "    def product_model(self, product_ids):\n",
    "        return self.product_embedding(product_ids)\n",
    "\n",
    "    def dot_product_score(self, user, product):\n",
    "        \"\"\"\n",
    "        Computes the dot product between user and product embeddings to get the interaction score.\n",
    "        \"\"\"\n",
    "        return tf.reduce_sum(user * product, axis=1)\n",
    "\n",
    "    def compute_loss(self, features, training=False):\n",
    "        # print(features)\n",
    "        user_embeddings = self.user_embedding(features[\"customer_id\"])\n",
    "        product_embeddings = self.product_embedding(features[\"main_product_id\"])\n",
    "\n",
    "        color_embeddings = self.color_embedding(features[\"product_color\"])\n",
    "        description_embeddings = self.textual_description_model(features[\"product_description\"])\n",
    "\n",
    "        reduced_product_embeddings = self.reduced_product_embeddings(product_embeddings)\n",
    "        reduced_description_embeddings = self.reduced_description_embeddings(description_embeddings)\n",
    "        reduced_color_embeddings = self.reduced_color_embeddings(color_embeddings)\n",
    "\n",
    "\n",
    "        # Now concatenate\n",
    "        user_combined = tf.concat([user_embeddings, ], axis=1)  # shape will be [None, 128]\n",
    "        product_combined = tf.concat([reduced_product_embeddings, reduced_color_embeddings, reduced_description_embeddings], axis=1)  # shape will be [None, 128]\n",
    "        \n",
    "\n",
    "\n",
    "        user_output = self.dense_layer(user_embeddings)\n",
    "        product_output = self.dense_layer(product_combined)\n",
    "        # This is a hypothetical function that returns the logits or scores\n",
    "        # This needs to be adapted based on your actual model\n",
    "        positive_logits = self.dot_product_score(user_output, product_output)\n",
    "\n",
    "        # Update RMSE\n",
    "        self.rmse_metric.update_state(y_true=features[\"amount\"], y_pred=positive_logits)\n",
    "\n",
    "\n",
    "        return self.task(user_output, product_output)\n",
    "\n",
    "    def evaluate(self, validation_dataset, *args, **kwargs):\n",
    "        # Call the base class's evaluate method\n",
    "        \n",
    "    \n",
    "        # Compute additional metrics\n",
    "        for features in validation_dataset:\n",
    "            user_embeddings = self.user_embedding(features[\"customer_id\"])\n",
    "            product_embeddings = self.product_embedding(features[\"main_product_id\"])\n",
    "            \n",
    "            user_output = self.dense_layer(user_embeddings)\n",
    "            product_output = self.dense_layer(product_embeddings)\n",
    "            \n",
    "            positive_logits = self.dot_product_score(user_output, product_output)\n",
    "            # Assuming you have a binary \"label\" in your dataset indicating 1 for positive interaction and 0 for negative\n",
    "            self.precision.update_state(y_true=features[\"amount\"], y_pred=positive_logits)\n",
    "            self.recall.update_state(y_true=features[\"amount\"], y_pred=positive_logits)\n",
    "    \n",
    "        precision_result = self.precision.result().numpy()\n",
    "        recall_result = self.recall.result().numpy()\n",
    "    \n",
    "        # Calculate F1 score\n",
    "        if (precision_result + recall_result) != 0:\n",
    "            f1_score = 2 * (precision_result * recall_result) / (precision_result + recall_result)\n",
    "        else:\n",
    "            f1_score = 0.0\n",
    "    \n",
    "        # Reset the metrics for the next evaluation\n",
    "        # self.precision.reset_states()\n",
    "        # self.recall.reset_states()\n",
    "        base_results = super(RetailModel, self).evaluate(validation_dataset, *args, **kwargs)\n",
    "    \n",
    "        return base_results, [precision_result, recall_result, f1_score]  # or append additional results as needed\n",
    "\n"
   ],
   "metadata": {
    "collapsed": false,
    "ExecuteTime": {
     "end_time": "2023-11-24T08:18:42.995874Z",
     "start_time": "2023-11-24T08:18:42.981300Z"
    }
   },
   "id": "378cf58a3061ecfc"
  },
  {
   "cell_type": "code",
   "execution_count": 10,
   "outputs": [],
   "source": [
    "model = RetailModel(product_ids_vocabulary, user_ids_vocabulary, product_colors_vocabulary, embedding_dimension=128)\n",
    "model.compile(optimizer=tf.keras.optimizers.legacy.Adam(learning_rate=0.001)) # using legacy instead of tf.keras.optimizers.Adagrad, because newer version is slow on m1/m2 macs"
   ],
   "metadata": {
    "collapsed": false,
    "ExecuteTime": {
     "end_time": "2023-11-24T08:18:43.267180Z",
     "start_time": "2023-11-24T08:18:42.993379Z"
    }
   },
   "id": "5ae0c3e4d7093bf1"
  },
  {
   "cell_type": "code",
   "execution_count": 11,
   "outputs": [
    {
     "name": "stdout",
     "output_type": "stream",
     "text": [
      "Epoch 1/3\n",
      "57/57 [==============================] - 22s 353ms/step - auc: 0.0000e+00 - rmse: 0.9890 - precision: 0.0000e+00 - recall: 0.0000e+00 - factorized_top_k/top_1_categorical_accuracy: 0.1835 - factorized_top_k/top_5_categorical_accuracy: 0.2511 - factorized_top_k/top_10_categorical_accuracy: 0.2824 - factorized_top_k/top_50_categorical_accuracy: 0.3757 - factorized_top_k/top_100_categorical_accuracy: 0.4325 - loss: 603.4776 - regularization_loss: 0.0000e+00 - total_loss: 603.4776\n",
      "Epoch 2/3\n",
      "57/57 [==============================] - 22s 388ms/step - auc: 0.0000e+00 - rmse: 2.0142 - precision: 0.0000e+00 - recall: 0.0000e+00 - factorized_top_k/top_1_categorical_accuracy: 0.9592 - factorized_top_k/top_5_categorical_accuracy: 0.9696 - factorized_top_k/top_10_categorical_accuracy: 0.9718 - factorized_top_k/top_50_categorical_accuracy: 0.9814 - factorized_top_k/top_100_categorical_accuracy: 0.9844 - loss: 581.8840 - regularization_loss: 0.0000e+00 - total_loss: 581.8840\n",
      "Epoch 3/3\n",
      "57/57 [==============================] - 25s 446ms/step - auc: 0.0000e+00 - rmse: 17.8194 - precision: 0.0000e+00 - recall: 0.0000e+00 - factorized_top_k/top_1_categorical_accuracy: 1.0000 - factorized_top_k/top_5_categorical_accuracy: 1.0000 - factorized_top_k/top_10_categorical_accuracy: 1.0000 - factorized_top_k/top_50_categorical_accuracy: 1.0000 - factorized_top_k/top_100_categorical_accuracy: 1.0000 - loss: 396.4996 - regularization_loss: 0.0000e+00 - total_loss: 396.4996\n"
     ]
    },
    {
     "data": {
      "text/plain": "<keras.src.callbacks.History at 0x299cc4460>"
     },
     "execution_count": 11,
     "metadata": {},
     "output_type": "execute_result"
    }
   ],
   "source": [
    "# Shuffle, batch, and cache the data.\n",
    "cached_train = train.shuffle(dataset_len).batch(train_batch_size).cache()\n",
    "cached_test = test.batch(test_batch_size).cache()\n",
    "# Train the model\n",
    "# model.fit(cached_train, validation_data=cached_test, validation_freq=5, epochs=3) \n",
    "model.fit(cached_train, validation_freq=5, epochs=3)"
   ],
   "metadata": {
    "collapsed": false,
    "ExecuteTime": {
     "end_time": "2023-11-24T08:19:52.917751Z",
     "start_time": "2023-11-24T08:18:43.268313Z"
    }
   },
   "id": "4add146de8d83cb0"
  },
  {
   "cell_type": "code",
   "execution_count": 12,
   "outputs": [
    {
     "name": "stdout",
     "output_type": "stream",
     "text": [
      "57/57 [==============================] - 27s 469ms/step - auc: 0.0000e+00 - rmse: 28.7465 - precision: 0.0000e+00 - recall: 0.0000e+00 - factorized_top_k/top_1_categorical_accuracy: 1.0000 - factorized_top_k/top_5_categorical_accuracy: 1.0000 - factorized_top_k/top_10_categorical_accuracy: 1.0000 - factorized_top_k/top_50_categorical_accuracy: 1.0000 - factorized_top_k/top_100_categorical_accuracy: 1.0000 - loss: 229.4055 - regularization_loss: 0.0000e+00 - total_loss: 229.4055\n"
     ]
    },
    {
     "data": {
      "text/plain": "([0.0,\n  28.74653434753418,\n  0.0,\n  0.0,\n  1.0,\n  1.0,\n  1.0,\n  1.0,\n  1.0,\n  34.86231231689453,\n  0,\n  34.86231231689453],\n [1.0, 0.9811111, 0.9904655364261746])"
     },
     "execution_count": 12,
     "metadata": {},
     "output_type": "execute_result"
    }
   ],
   "source": [
    "# Evaluate the model\n",
    "k = 5\n",
    "result_evaluate_train = model.evaluate(cached_train)\n",
    "result_evaluate_train"
   ],
   "metadata": {
    "collapsed": false,
    "ExecuteTime": {
     "end_time": "2023-11-24T08:20:20.871942Z",
     "start_time": "2023-11-24T08:19:52.917211Z"
    }
   },
   "id": "f38fbc7489d6c8ab"
  },
  {
   "cell_type": "code",
   "execution_count": 13,
   "outputs": [
    {
     "name": "stdout",
     "output_type": "stream",
     "text": [
      "29/29 [==============================] - 16s 543ms/step - auc: 0.0000e+00 - rmse: 18.9973 - precision: 0.0000e+00 - recall: 0.0000e+00 - factorized_top_k/top_1_categorical_accuracy: 1.0000 - factorized_top_k/top_5_categorical_accuracy: 1.0000 - factorized_top_k/top_10_categorical_accuracy: 1.0000 - factorized_top_k/top_50_categorical_accuracy: 1.0000 - factorized_top_k/top_100_categorical_accuracy: 1.0000 - loss: 344.2931 - regularization_loss: 0.0000e+00 - total_loss: 344.2931\n"
     ]
    },
    {
     "data": {
      "text/plain": "([0.0,\n  18.997344970703125,\n  0.0,\n  0.0,\n  1.0,\n  1.0,\n  1.0,\n  1.0,\n  1.0,\n  19.998382568359375,\n  0,\n  19.998382568359375],\n [1.0, 0.99333334, 0.9966555215948624])"
     },
     "execution_count": 13,
     "metadata": {},
     "output_type": "execute_result"
    }
   ],
   "source": [
    "result_evaluat_test = model.evaluate(cached_test)\n",
    "result_evaluat_test"
   ],
   "metadata": {
    "collapsed": false,
    "ExecuteTime": {
     "end_time": "2023-11-24T08:20:37.091743Z",
     "start_time": "2023-11-24T08:20:20.871680Z"
    }
   },
   "id": "a90bfb5478e24540"
  },
  {
   "cell_type": "code",
   "execution_count": 14,
   "outputs": [
    {
     "name": "stdout",
     "output_type": "stream",
     "text": [
      "Name\t\tValue\n",
      "------------------------------\n",
      "auc\t\t0.0\n",
      "rmse\t\t18.997344970703125\n",
      "precision\t\t0.0\n",
      "recall\t\t0.0\n",
      "factorized_top_k/top_1_categorical_accuracy\t\t1.0\n",
      "factorized_top_k/top_5_categorical_accuracy\t\t1.0\n",
      "factorized_top_k/top_10_categorical_accuracy\t\t1.0\n",
      "factorized_top_k/top_50_categorical_accuracy\t\t1.0\n",
      "factorized_top_k/top_100_categorical_accuracy\t\t1.0\n",
      "AUC: 0.0\n"
     ]
    }
   ],
   "source": [
    "print(\"Name\\t\\tValue\")\n",
    "print(\"-\" * 30)\n",
    "for metric in model.metrics:\n",
    "    print(f\"{metric.name}\\t\\t{metric.result().numpy()}\")\n",
    "print(f\"AUC: {model.auc_metric.result().numpy()}\")"
   ],
   "metadata": {
    "collapsed": false,
    "ExecuteTime": {
     "end_time": "2023-11-24T08:20:37.126511Z",
     "start_time": "2023-11-24T08:20:37.091966Z"
    }
   },
   "id": "2dc815d6547dfefe"
  },
  {
   "cell_type": "code",
   "execution_count": 15,
   "outputs": [
    {
     "data": {
      "text/plain": "array([ 7779418,  5801042,  7174137,  8803464,  5011771,  4344821,\n        7231455,  7298386,  7301293,  1955643,  6804279, 10910614,\n        9608740, 10420444,  7998675,  6914415,  9961496,  6610340,\n        1991347, 11073419,  6919761,  5859676,  2189096,  3872363,\n        2144655,  4721289,  9718476,  5354392,  2027792, 10538803,\n        2045509,  9407468,  2161753,  1949252,  5182610,  5392016,\n        9095687,  8906933,  2127575,  9832965,  7553256,  7735689,\n        8123061, 10622837,  5770566,  5359761,  2535983,  2057175,\n        9277280,  6948602, 10871119,  2070452,  7410809,  2104353,\n        8663095,  2037250,  7646877,  3812866,  7248404,  4803790,\n        9812408, 10211791,  5511081, 10143601])"
     },
     "execution_count": 15,
     "metadata": {},
     "output_type": "execute_result"
    }
   ],
   "source": [
    "sample = next(iter(cached_test.take(1)))\n",
    "\n",
    "# Extract customer_id from the sample\n",
    "customer_id = sample['customer_id'].numpy()\n",
    "customer_id"
   ],
   "metadata": {
    "collapsed": false,
    "ExecuteTime": {
     "end_time": "2023-11-24T08:20:37.127457Z",
     "start_time": "2023-11-24T08:20:37.107396Z"
    }
   },
   "id": "d293fa87e3fe5b52"
  },
  {
   "cell_type": "code",
   "execution_count": 16,
   "outputs": [
    {
     "name": "stdout",
     "output_type": "stream",
     "text": [
      "predicting user:  7779418\n",
      "user already bought following products: \n"
     ]
    },
    {
     "data": {
      "text/plain": "    main_product_id  productNumber                         productName  \\\n59          3477019  4060666971607  Sneaker low Materialmix Leder blau   \n\n   productColorName articleNumber  brand__id  mainCategory__id gender  \\\n59             blau     56.435.36    6590678            315567      w   \n\n   originCountry line  ...  sizeEu sizeUk  sizeIndex  shaftLength__value  \\\n59            SK  H-W  ...    37.0    4.0        6.0                 0.0   \n\n    sole  isTransferee  isSuccessor  \\\n59    TR           0.0          0.0   \n\n                               duplicate_product__ids  \\\n59  [3477019, 3477020, 3477029, 3477016, 3477025, ...   \n\n                                        product_sizes color_mapped  \n59  [35.0, 35.5, 36.0, 37.0, 37.5, 38.0, 38.5, 39....            1  \n\n[1 rows x 57 columns]",
      "text/html": "<div>\n<style scoped>\n    .dataframe tbody tr th:only-of-type {\n        vertical-align: middle;\n    }\n\n    .dataframe tbody tr th {\n        vertical-align: top;\n    }\n\n    .dataframe thead th {\n        text-align: right;\n    }\n</style>\n<table border=\"1\" class=\"dataframe\">\n  <thead>\n    <tr style=\"text-align: right;\">\n      <th></th>\n      <th>main_product_id</th>\n      <th>productNumber</th>\n      <th>productName</th>\n      <th>productColorName</th>\n      <th>articleNumber</th>\n      <th>brand__id</th>\n      <th>mainCategory__id</th>\n      <th>gender</th>\n      <th>originCountry</th>\n      <th>line</th>\n      <th>...</th>\n      <th>sizeEu</th>\n      <th>sizeUk</th>\n      <th>sizeIndex</th>\n      <th>shaftLength__value</th>\n      <th>sole</th>\n      <th>isTransferee</th>\n      <th>isSuccessor</th>\n      <th>duplicate_product__ids</th>\n      <th>product_sizes</th>\n      <th>color_mapped</th>\n    </tr>\n  </thead>\n  <tbody>\n    <tr>\n      <th>59</th>\n      <td>3477019</td>\n      <td>4060666971607</td>\n      <td>Sneaker low Materialmix Leder blau</td>\n      <td>blau</td>\n      <td>56.435.36</td>\n      <td>6590678</td>\n      <td>315567</td>\n      <td>w</td>\n      <td>SK</td>\n      <td>H-W</td>\n      <td>...</td>\n      <td>37.0</td>\n      <td>4.0</td>\n      <td>6.0</td>\n      <td>0.0</td>\n      <td>TR</td>\n      <td>0.0</td>\n      <td>0.0</td>\n      <td>[3477019, 3477020, 3477029, 3477016, 3477025, ...</td>\n      <td>[35.0, 35.5, 36.0, 37.0, 37.5, 38.0, 38.5, 39....</td>\n      <td>1</td>\n    </tr>\n  </tbody>\n</table>\n<p>1 rows × 57 columns</p>\n</div>"
     },
     "metadata": {},
     "output_type": "display_data"
    },
    {
     "name": "stdout",
     "output_type": "stream",
     "text": [
      "predicted products: \n"
     ]
    },
    {
     "data": {
      "text/plain": "      main_product_id  productNumber                             productName  \\\n95            3555066  4062862960027              Chelsea Boot Rauleder blau   \n142           3474817  4062862677628    Elegante Stiefelette Glattleder blau   \n176           3711307  4062862408109          Sneaker low Glattleder schwarz   \n203           3692992  4062862487708           Sneaker high Rauleder schwarz   \n216           3743199  4062862288329  Plateau Stiefelette Glattleder schwarz   \n251           3693104  4062862092650         Schnürstiefelette Rauleder blau   \n903           5206819  4062862537816                   Slipper Rauleder grau   \n964           5336280  4064032027240                   Slipper Rauleder rosa   \n1051          5568919  4062862615538              Pantolette Glattleder blau   \n1585          7024066  4064032596029         Schnürstiefelette Rauleder rosa   \n\n     productColorName articleNumber  brand__id  mainCategory__id gender  \\\n95               blau     56.451.36    6590678            315582      w   \n142              blau     55.510.26    6590677            315579      w   \n176           schwarz     56.305.57    6590678            315567      w   \n203           schwarz    0908.71.01    3692257            315586      w   \n216           schwarz     55.771.27    6590677            315595      w   \n251              blau    0873.90.11    3692257            315587      w   \n903              grau     64.213.39    6590677            315576      w   \n964              rosa     62.433.10    6590678            315576      w   \n1051             blau     62.795.66    6590678            315572      w   \n1585             rosa     72.776.41    6590678            315587      w   \n\n     originCountry line  ...  sizeEu sizeUk  sizeIndex  shaftLength__value  \\\n95              SK  H-W  ...    39.0    6.0       10.0                11.0   \n142             PT  H-W  ...    42.5    8.5       15.0                15.0   \n176             PT  H-W  ...    44.0    9.5       17.0                 0.0   \n203             PT  H-W  ...    36.0    3.5        5.0                11.0   \n216             PT  H-W  ...    44.0    9.5       17.0                11.0   \n251             PT  H-W  ...    42.0    8.0       14.0                14.0   \n903             PT  F-S  ...    40.0    6.5       11.0                 0.0   \n964             PT  F-S  ...    42.0    8.0       14.0                 0.0   \n1051            PT  F-S  ...    38.5    5.5        9.0                 0.0   \n1585            PT  H-W  ...    42.5    8.5       15.0                17.0   \n\n       sole  isTransferee  isSuccessor  \\\n95       TR           0.0          0.0   \n142   Gummi           0.0          0.0   \n176      TR           0.0          0.0   \n203      TR           0.0          0.0   \n216     TPU           0.0          0.0   \n251      TR           0.0          0.0   \n903     TPU           0.0          0.0   \n964      TR           0.0          0.0   \n1051    TPU           0.0          0.0   \n1585     TR           0.0          0.0   \n\n                                 duplicate_product__ids  \\\n95    [3555066, 3555070, 3555067, 3693948, 3693947, ...   \n142   [3474817, 3474816, 3851147, 3851144, 3474812, ...   \n176   [3711307, 3848838, 3848836, 3848841, 3848840, ...   \n203   [3692992, 3692995, 3692998, 3788167, 3788154, ...   \n216   [3743199, 3800405, 3788343, 3788347, 3743194, ...   \n251   [3693104, 3693106, 3843334, 3693107, 3693103, ...   \n903   [5206819, 5206811, 5206816, 5206817, 5206814, ...   \n964   [5336280, 5336278, 5336281, 5336270, 5336283, ...   \n1051  [5568919, 5568923, 5568927, 5568920, 5568916, ...   \n1585  [7024066, 7024060, 7024062, 7024057, 7024059, ...   \n\n                                          product_sizes color_mapped  \n95    [35.0, 35.5, 36.0, 37.0, 37.5, 38.0, 38.5, 39....            1  \n142   [35.0, 35.5, 36.0, 37.0, 37.5, 38.0, 38.5, 39....            1  \n176   [35.0, 35.5, 36.0, 37.0, 37.5, 38.0, 38.5, 39....            0  \n203   [35.0, 35.5, 36.0, 37.0, 37.5, 38.0, 38.5, 39....            0  \n216   [35.0, 35.5, 36.0, 37.0, 37.5, 38.0, 38.5, 39....            0  \n251   [35.0, 35.5, 36.0, 37.0, 37.5, 38.0, 38.5, 39....            1  \n903   [35.0, 35.5, 36.0, 37.0, 37.5, 38.0, 38.5, 39....            4  \n964   [35.0, 35.5, 36.0, 37.0, 37.5, 38.0, 38.5, 39....            8  \n1051  [35.0, 35.5, 36.0, 37.0, 37.5, 38.0, 38.5, 39....            1  \n1585  [35.0, 35.5, 36.0, 37.0, 37.5, 38.0, 38.5, 39....            8  \n\n[10 rows x 57 columns]",
      "text/html": "<div>\n<style scoped>\n    .dataframe tbody tr th:only-of-type {\n        vertical-align: middle;\n    }\n\n    .dataframe tbody tr th {\n        vertical-align: top;\n    }\n\n    .dataframe thead th {\n        text-align: right;\n    }\n</style>\n<table border=\"1\" class=\"dataframe\">\n  <thead>\n    <tr style=\"text-align: right;\">\n      <th></th>\n      <th>main_product_id</th>\n      <th>productNumber</th>\n      <th>productName</th>\n      <th>productColorName</th>\n      <th>articleNumber</th>\n      <th>brand__id</th>\n      <th>mainCategory__id</th>\n      <th>gender</th>\n      <th>originCountry</th>\n      <th>line</th>\n      <th>...</th>\n      <th>sizeEu</th>\n      <th>sizeUk</th>\n      <th>sizeIndex</th>\n      <th>shaftLength__value</th>\n      <th>sole</th>\n      <th>isTransferee</th>\n      <th>isSuccessor</th>\n      <th>duplicate_product__ids</th>\n      <th>product_sizes</th>\n      <th>color_mapped</th>\n    </tr>\n  </thead>\n  <tbody>\n    <tr>\n      <th>95</th>\n      <td>3555066</td>\n      <td>4062862960027</td>\n      <td>Chelsea Boot Rauleder blau</td>\n      <td>blau</td>\n      <td>56.451.36</td>\n      <td>6590678</td>\n      <td>315582</td>\n      <td>w</td>\n      <td>SK</td>\n      <td>H-W</td>\n      <td>...</td>\n      <td>39.0</td>\n      <td>6.0</td>\n      <td>10.0</td>\n      <td>11.0</td>\n      <td>TR</td>\n      <td>0.0</td>\n      <td>0.0</td>\n      <td>[3555066, 3555070, 3555067, 3693948, 3693947, ...</td>\n      <td>[35.0, 35.5, 36.0, 37.0, 37.5, 38.0, 38.5, 39....</td>\n      <td>1</td>\n    </tr>\n    <tr>\n      <th>142</th>\n      <td>3474817</td>\n      <td>4062862677628</td>\n      <td>Elegante Stiefelette Glattleder blau</td>\n      <td>blau</td>\n      <td>55.510.26</td>\n      <td>6590677</td>\n      <td>315579</td>\n      <td>w</td>\n      <td>PT</td>\n      <td>H-W</td>\n      <td>...</td>\n      <td>42.5</td>\n      <td>8.5</td>\n      <td>15.0</td>\n      <td>15.0</td>\n      <td>Gummi</td>\n      <td>0.0</td>\n      <td>0.0</td>\n      <td>[3474817, 3474816, 3851147, 3851144, 3474812, ...</td>\n      <td>[35.0, 35.5, 36.0, 37.0, 37.5, 38.0, 38.5, 39....</td>\n      <td>1</td>\n    </tr>\n    <tr>\n      <th>176</th>\n      <td>3711307</td>\n      <td>4062862408109</td>\n      <td>Sneaker low Glattleder schwarz</td>\n      <td>schwarz</td>\n      <td>56.305.57</td>\n      <td>6590678</td>\n      <td>315567</td>\n      <td>w</td>\n      <td>PT</td>\n      <td>H-W</td>\n      <td>...</td>\n      <td>44.0</td>\n      <td>9.5</td>\n      <td>17.0</td>\n      <td>0.0</td>\n      <td>TR</td>\n      <td>0.0</td>\n      <td>0.0</td>\n      <td>[3711307, 3848838, 3848836, 3848841, 3848840, ...</td>\n      <td>[35.0, 35.5, 36.0, 37.0, 37.5, 38.0, 38.5, 39....</td>\n      <td>0</td>\n    </tr>\n    <tr>\n      <th>203</th>\n      <td>3692992</td>\n      <td>4062862487708</td>\n      <td>Sneaker high Rauleder schwarz</td>\n      <td>schwarz</td>\n      <td>0908.71.01</td>\n      <td>3692257</td>\n      <td>315586</td>\n      <td>w</td>\n      <td>PT</td>\n      <td>H-W</td>\n      <td>...</td>\n      <td>36.0</td>\n      <td>3.5</td>\n      <td>5.0</td>\n      <td>11.0</td>\n      <td>TR</td>\n      <td>0.0</td>\n      <td>0.0</td>\n      <td>[3692992, 3692995, 3692998, 3788167, 3788154, ...</td>\n      <td>[35.0, 35.5, 36.0, 37.0, 37.5, 38.0, 38.5, 39....</td>\n      <td>0</td>\n    </tr>\n    <tr>\n      <th>216</th>\n      <td>3743199</td>\n      <td>4062862288329</td>\n      <td>Plateau Stiefelette Glattleder schwarz</td>\n      <td>schwarz</td>\n      <td>55.771.27</td>\n      <td>6590677</td>\n      <td>315595</td>\n      <td>w</td>\n      <td>PT</td>\n      <td>H-W</td>\n      <td>...</td>\n      <td>44.0</td>\n      <td>9.5</td>\n      <td>17.0</td>\n      <td>11.0</td>\n      <td>TPU</td>\n      <td>0.0</td>\n      <td>0.0</td>\n      <td>[3743199, 3800405, 3788343, 3788347, 3743194, ...</td>\n      <td>[35.0, 35.5, 36.0, 37.0, 37.5, 38.0, 38.5, 39....</td>\n      <td>0</td>\n    </tr>\n    <tr>\n      <th>251</th>\n      <td>3693104</td>\n      <td>4062862092650</td>\n      <td>Schnürstiefelette Rauleder blau</td>\n      <td>blau</td>\n      <td>0873.90.11</td>\n      <td>3692257</td>\n      <td>315587</td>\n      <td>w</td>\n      <td>PT</td>\n      <td>H-W</td>\n      <td>...</td>\n      <td>42.0</td>\n      <td>8.0</td>\n      <td>14.0</td>\n      <td>14.0</td>\n      <td>TR</td>\n      <td>0.0</td>\n      <td>0.0</td>\n      <td>[3693104, 3693106, 3843334, 3693107, 3693103, ...</td>\n      <td>[35.0, 35.5, 36.0, 37.0, 37.5, 38.0, 38.5, 39....</td>\n      <td>1</td>\n    </tr>\n    <tr>\n      <th>903</th>\n      <td>5206819</td>\n      <td>4062862537816</td>\n      <td>Slipper Rauleder grau</td>\n      <td>grau</td>\n      <td>64.213.39</td>\n      <td>6590677</td>\n      <td>315576</td>\n      <td>w</td>\n      <td>PT</td>\n      <td>F-S</td>\n      <td>...</td>\n      <td>40.0</td>\n      <td>6.5</td>\n      <td>11.0</td>\n      <td>0.0</td>\n      <td>TPU</td>\n      <td>0.0</td>\n      <td>0.0</td>\n      <td>[5206819, 5206811, 5206816, 5206817, 5206814, ...</td>\n      <td>[35.0, 35.5, 36.0, 37.0, 37.5, 38.0, 38.5, 39....</td>\n      <td>4</td>\n    </tr>\n    <tr>\n      <th>964</th>\n      <td>5336280</td>\n      <td>4064032027240</td>\n      <td>Slipper Rauleder rosa</td>\n      <td>rosa</td>\n      <td>62.433.10</td>\n      <td>6590678</td>\n      <td>315576</td>\n      <td>w</td>\n      <td>PT</td>\n      <td>F-S</td>\n      <td>...</td>\n      <td>42.0</td>\n      <td>8.0</td>\n      <td>14.0</td>\n      <td>0.0</td>\n      <td>TR</td>\n      <td>0.0</td>\n      <td>0.0</td>\n      <td>[5336280, 5336278, 5336281, 5336270, 5336283, ...</td>\n      <td>[35.0, 35.5, 36.0, 37.0, 37.5, 38.0, 38.5, 39....</td>\n      <td>8</td>\n    </tr>\n    <tr>\n      <th>1051</th>\n      <td>5568919</td>\n      <td>4062862615538</td>\n      <td>Pantolette Glattleder blau</td>\n      <td>blau</td>\n      <td>62.795.66</td>\n      <td>6590678</td>\n      <td>315572</td>\n      <td>w</td>\n      <td>PT</td>\n      <td>F-S</td>\n      <td>...</td>\n      <td>38.5</td>\n      <td>5.5</td>\n      <td>9.0</td>\n      <td>0.0</td>\n      <td>TPU</td>\n      <td>0.0</td>\n      <td>0.0</td>\n      <td>[5568919, 5568923, 5568927, 5568920, 5568916, ...</td>\n      <td>[35.0, 35.5, 36.0, 37.0, 37.5, 38.0, 38.5, 39....</td>\n      <td>1</td>\n    </tr>\n    <tr>\n      <th>1585</th>\n      <td>7024066</td>\n      <td>4064032596029</td>\n      <td>Schnürstiefelette Rauleder rosa</td>\n      <td>rosa</td>\n      <td>72.776.41</td>\n      <td>6590678</td>\n      <td>315587</td>\n      <td>w</td>\n      <td>PT</td>\n      <td>H-W</td>\n      <td>...</td>\n      <td>42.5</td>\n      <td>8.5</td>\n      <td>15.0</td>\n      <td>17.0</td>\n      <td>TR</td>\n      <td>0.0</td>\n      <td>0.0</td>\n      <td>[7024066, 7024060, 7024062, 7024057, 7024059, ...</td>\n      <td>[35.0, 35.5, 36.0, 37.0, 37.5, 38.0, 38.5, 39....</td>\n      <td>8</td>\n    </tr>\n  </tbody>\n</table>\n<p>10 rows × 57 columns</p>\n</div>"
     },
     "metadata": {},
     "output_type": "display_data"
    },
    {
     "name": "stdout",
     "output_type": "stream",
     "text": [
      "scores:  [0.05013624 0.03994945 0.03789608 0.03737419 0.03607996 0.03452116\n",
      " 0.03418742 0.03366211 0.03318428 0.03219523]\n"
     ]
    }
   ],
   "source": [
    "def get_random_customer_from_test_data():\n",
    "    return next(iter(test.take(1)))['customer_id'].numpy()\n",
    "\n",
    "def display_item_ids(item_ids):\n",
    "    display(product_data[product_data.main_product_id.isin(item_ids) ])\n",
    "\n",
    "def display_products_by_customer_id(customer_id):\n",
    "    display_item_ids(pandas_interaction_data[pandas_interaction_data.customer_id ==  customer_id].main_product_id.tolist())\n",
    "    \n",
    "\n",
    "index = tfrs.layers.factorized_top_k.BruteForce(model.user_embedding)\n",
    "index.index_from_dataset(\n",
    "    product_ids_dataset.batch(100).map(lambda id: (id, model.product_model(id))))\n",
    "\n",
    "def predict_user(user_id):\n",
    "    print('predicting user: ', user_id)\n",
    "    print('user already bought following products: ')\n",
    "    display_products_by_customer_id(user_id)\n",
    "    \n",
    "    score, predicted_product_ids = index(np.array([user_id]))\n",
    "    \n",
    "    print('predicted products: ')\n",
    "    display_item_ids(predicted_product_ids[0].numpy())\n",
    "    print('scores: ', score[0].numpy())\n",
    "\n",
    "\n",
    "user_id = get_random_customer_from_test_data()\n",
    "\n",
    "predict_user(user_id)"
   ],
   "metadata": {
    "collapsed": false,
    "ExecuteTime": {
     "end_time": "2023-11-24T08:20:37.311953Z",
     "start_time": "2023-11-24T08:20:37.116573Z"
    }
   },
   "id": "d8785689b14ad90"
  },
  {
   "cell_type": "code",
   "execution_count": 17,
   "outputs": [
    {
     "name": "stdout",
     "output_type": "stream",
     "text": [
      "predicting user:  9109803\n",
      "user already bought following products: \n"
     ]
    },
    {
     "data": {
      "text/plain": "   main_product_id  productNumber                productName productColorName  \\\n3           549776  4059701687894  Sneaker low Rauleder blau             blau   \n\n  articleNumber  brand__id  mainCategory__id gender originCountry     line  \\\n3     06.968.46    4997827            315567      w            VN  F-S|H-W   \n\n   ...  sizeEu sizeUk  sizeIndex  shaftLength__value       sole  isTransferee  \\\n3  ...    39.0    6.0       10.0                 0.0  Gummi-EVA           0.0   \n\n   isSuccessor                             duplicate_product__ids  \\\n3          0.0  [549776, 550599, 550596, 550593, 550601, 54978...   \n\n                                       product_sizes color_mapped  \n3  [35.0, 35.5, 36.0, 37.0, 37.5, 38.0, 38.5, 39....            1  \n\n[1 rows x 57 columns]",
      "text/html": "<div>\n<style scoped>\n    .dataframe tbody tr th:only-of-type {\n        vertical-align: middle;\n    }\n\n    .dataframe tbody tr th {\n        vertical-align: top;\n    }\n\n    .dataframe thead th {\n        text-align: right;\n    }\n</style>\n<table border=\"1\" class=\"dataframe\">\n  <thead>\n    <tr style=\"text-align: right;\">\n      <th></th>\n      <th>main_product_id</th>\n      <th>productNumber</th>\n      <th>productName</th>\n      <th>productColorName</th>\n      <th>articleNumber</th>\n      <th>brand__id</th>\n      <th>mainCategory__id</th>\n      <th>gender</th>\n      <th>originCountry</th>\n      <th>line</th>\n      <th>...</th>\n      <th>sizeEu</th>\n      <th>sizeUk</th>\n      <th>sizeIndex</th>\n      <th>shaftLength__value</th>\n      <th>sole</th>\n      <th>isTransferee</th>\n      <th>isSuccessor</th>\n      <th>duplicate_product__ids</th>\n      <th>product_sizes</th>\n      <th>color_mapped</th>\n    </tr>\n  </thead>\n  <tbody>\n    <tr>\n      <th>3</th>\n      <td>549776</td>\n      <td>4059701687894</td>\n      <td>Sneaker low Rauleder blau</td>\n      <td>blau</td>\n      <td>06.968.46</td>\n      <td>4997827</td>\n      <td>315567</td>\n      <td>w</td>\n      <td>VN</td>\n      <td>F-S|H-W</td>\n      <td>...</td>\n      <td>39.0</td>\n      <td>6.0</td>\n      <td>10.0</td>\n      <td>0.0</td>\n      <td>Gummi-EVA</td>\n      <td>0.0</td>\n      <td>0.0</td>\n      <td>[549776, 550599, 550596, 550593, 550601, 54978...</td>\n      <td>[35.0, 35.5, 36.0, 37.0, 37.5, 38.0, 38.5, 39....</td>\n      <td>1</td>\n    </tr>\n  </tbody>\n</table>\n<p>1 rows × 57 columns</p>\n</div>"
     },
     "metadata": {},
     "output_type": "display_data"
    },
    {
     "name": "stdout",
     "output_type": "stream",
     "text": [
      "predicted products: \n"
     ]
    },
    {
     "data": {
      "text/plain": "      main_product_id  productNumber                         productName  \\\n2              547193  4054452768427          Slipper Glattleder schwarz   \n57            3504613  4062862503521            Sneaker low Rauleder rot   \n131           3481954  4062862072492            Slipper Glattleder braun   \n134           3481043  4062862026716         Sneaker low Rauleder orange   \n361           3866345  4062862270997  Winterstiefelette Rauleder schwarz   \n584           3800494  4062862023166          Schnürstiefelette Rauleder   \n804           4847054  4062862569596             Slipper Glattleder weiß   \n1144          4821364  4062862534518  Sportliche Ballerina Rauleder Blau   \n1190          6406765  4064032694244           Mokassin Rauleder schwarz   \n3266         10434479  4065171881588   Slingpumps Materialmix Leder rosa   \n\n     productColorName articleNumber  brand__id  mainCategory__id gender  \\\n2             schwarz     04.443.27    6590677            315576      w   \n57                rot     56.498.38    6590678            315567      w   \n131             braun     55.231.24    6590677            315576      w   \n134            orange     53.360.13    6590677            315567      w   \n361           schwarz     52.703.93    6590678            315580      w   \n584                       52.865.41    6590678            315587      w   \n804              weiß     64.213.21    6590677            315576      w   \n1144             Blau     64.111.16    6590677            315571      w   \n1190          schwarz     72.414.47    6590678            315590      w   \n3266             rosa     22.262.48    6590678            315565      w   \n\n     originCountry     line  ...  sizeEu sizeUk  sizeIndex  \\\n2               SK  F-S|H-W  ...    42.0    8.0       14.0   \n57              PT      H-W  ...    42.5    8.5       15.0   \n131             PT      H-W  ...    40.0    6.5       11.0   \n134             SK      H-W  ...    38.0    5.0        8.0   \n361             PT      H-W  ...    43.0    9.0       16.0   \n584             SK      H-W  ...    43.0    9.0       16.0   \n804             PT      F-S  ...    37.0    4.0        6.0   \n1144            SK      F-S  ...    44.0    9.5       17.0   \n1190            PT      H-W  ...    38.5    5.5        9.0   \n3266            SK      F-S  ...    37.0    4.0        6.0   \n\n      shaftLength__value    sole  isTransferee  isSuccessor  \\\n2                    0.0  PU-TPU           0.0          0.0   \n57                   0.0     EVA           0.0          0.0   \n131                  0.0     EVA           0.0          0.0   \n134                  0.0      TR           0.0          0.0   \n361                 23.0      TR           0.0          0.0   \n584                 12.0      TR           0.0          0.0   \n804                  0.0     TPU           0.0          0.0   \n1144                 0.0      TR           0.0          0.0   \n1190                 0.0      TR           0.0          0.0   \n3266                 0.0     TPU           0.0          0.0   \n\n                                 duplicate_product__ids  \\\n2     [547193, 547191, 547196, 547187, 547189, 54719...   \n57    [3504613, 3473297, 3504603, 3473298, 3473464, ...   \n131   [3481954, 3591315, 3591319, 3591312, 3591313, ...   \n134   [3481043, 3481052, 3696792, 3481046, 3696791, ...   \n361   [3866345, 3866344, 4077515, 4077513, 4077517, ...   \n584   [3800494, 3800495, 3481114, 6110643, 6249278, ...   \n804   [4847054, 5150236, 5150525, 5135400, 5150234, ...   \n1144  [4821364, 4914057, 6282383, 6282390, 7596741, ...   \n1190  [6406765, 6406767, 6406766, 6406763, 6406764, ...   \n3266  [10434479, 10434481, 10434484, 10434482, 10434...   \n\n                                          product_sizes color_mapped  \n2     [35.0, 35.5, 36.0, 37.0, 37.5, 38.0, 38.5, 39....            0  \n57    [35.0, 35.5, 36.0, 37.0, 37.5, 38.0, 38.5, 39....            5  \n131   [35.0, 35.5, 36.0, 37.0, 37.5, 38.0, 38.5, 39....            3  \n134   [35.0, 35.5, 36.0, 37.0, 37.5, 38.0, 38.5, 39....            9  \n361   [35.0, 35.5, 36.0, 37.0, 37.5, 38.0, 38.5, 39....            0  \n584   [35.0, 35.5, 36.0, 37.0, 37.5, 38.0, 38.5, 39....           15  \n804   [35.0, 35.5, 36.0, 37.0, 37.5, 38.0, 38.5, 39....            2  \n1144  [35.0, 36.0, 37.0, 37.5, 38.0, 41.0, 42.0, 43....           18  \n1190  [35.5, 37.5, 38.0, 38.5, 39.0, 40.0, 40.5, 41....            0  \n3266         [35.0, 37.0, 38.0, 38.5, 40.0, 41.0, 43.0]            8  \n\n[10 rows x 57 columns]",
      "text/html": "<div>\n<style scoped>\n    .dataframe tbody tr th:only-of-type {\n        vertical-align: middle;\n    }\n\n    .dataframe tbody tr th {\n        vertical-align: top;\n    }\n\n    .dataframe thead th {\n        text-align: right;\n    }\n</style>\n<table border=\"1\" class=\"dataframe\">\n  <thead>\n    <tr style=\"text-align: right;\">\n      <th></th>\n      <th>main_product_id</th>\n      <th>productNumber</th>\n      <th>productName</th>\n      <th>productColorName</th>\n      <th>articleNumber</th>\n      <th>brand__id</th>\n      <th>mainCategory__id</th>\n      <th>gender</th>\n      <th>originCountry</th>\n      <th>line</th>\n      <th>...</th>\n      <th>sizeEu</th>\n      <th>sizeUk</th>\n      <th>sizeIndex</th>\n      <th>shaftLength__value</th>\n      <th>sole</th>\n      <th>isTransferee</th>\n      <th>isSuccessor</th>\n      <th>duplicate_product__ids</th>\n      <th>product_sizes</th>\n      <th>color_mapped</th>\n    </tr>\n  </thead>\n  <tbody>\n    <tr>\n      <th>2</th>\n      <td>547193</td>\n      <td>4054452768427</td>\n      <td>Slipper Glattleder schwarz</td>\n      <td>schwarz</td>\n      <td>04.443.27</td>\n      <td>6590677</td>\n      <td>315576</td>\n      <td>w</td>\n      <td>SK</td>\n      <td>F-S|H-W</td>\n      <td>...</td>\n      <td>42.0</td>\n      <td>8.0</td>\n      <td>14.0</td>\n      <td>0.0</td>\n      <td>PU-TPU</td>\n      <td>0.0</td>\n      <td>0.0</td>\n      <td>[547193, 547191, 547196, 547187, 547189, 54719...</td>\n      <td>[35.0, 35.5, 36.0, 37.0, 37.5, 38.0, 38.5, 39....</td>\n      <td>0</td>\n    </tr>\n    <tr>\n      <th>57</th>\n      <td>3504613</td>\n      <td>4062862503521</td>\n      <td>Sneaker low Rauleder rot</td>\n      <td>rot</td>\n      <td>56.498.38</td>\n      <td>6590678</td>\n      <td>315567</td>\n      <td>w</td>\n      <td>PT</td>\n      <td>H-W</td>\n      <td>...</td>\n      <td>42.5</td>\n      <td>8.5</td>\n      <td>15.0</td>\n      <td>0.0</td>\n      <td>EVA</td>\n      <td>0.0</td>\n      <td>0.0</td>\n      <td>[3504613, 3473297, 3504603, 3473298, 3473464, ...</td>\n      <td>[35.0, 35.5, 36.0, 37.0, 37.5, 38.0, 38.5, 39....</td>\n      <td>5</td>\n    </tr>\n    <tr>\n      <th>131</th>\n      <td>3481954</td>\n      <td>4062862072492</td>\n      <td>Slipper Glattleder braun</td>\n      <td>braun</td>\n      <td>55.231.24</td>\n      <td>6590677</td>\n      <td>315576</td>\n      <td>w</td>\n      <td>PT</td>\n      <td>H-W</td>\n      <td>...</td>\n      <td>40.0</td>\n      <td>6.5</td>\n      <td>11.0</td>\n      <td>0.0</td>\n      <td>EVA</td>\n      <td>0.0</td>\n      <td>0.0</td>\n      <td>[3481954, 3591315, 3591319, 3591312, 3591313, ...</td>\n      <td>[35.0, 35.5, 36.0, 37.0, 37.5, 38.0, 38.5, 39....</td>\n      <td>3</td>\n    </tr>\n    <tr>\n      <th>134</th>\n      <td>3481043</td>\n      <td>4062862026716</td>\n      <td>Sneaker low Rauleder orange</td>\n      <td>orange</td>\n      <td>53.360.13</td>\n      <td>6590677</td>\n      <td>315567</td>\n      <td>w</td>\n      <td>SK</td>\n      <td>H-W</td>\n      <td>...</td>\n      <td>38.0</td>\n      <td>5.0</td>\n      <td>8.0</td>\n      <td>0.0</td>\n      <td>TR</td>\n      <td>0.0</td>\n      <td>0.0</td>\n      <td>[3481043, 3481052, 3696792, 3481046, 3696791, ...</td>\n      <td>[35.0, 35.5, 36.0, 37.0, 37.5, 38.0, 38.5, 39....</td>\n      <td>9</td>\n    </tr>\n    <tr>\n      <th>361</th>\n      <td>3866345</td>\n      <td>4062862270997</td>\n      <td>Winterstiefelette Rauleder schwarz</td>\n      <td>schwarz</td>\n      <td>52.703.93</td>\n      <td>6590678</td>\n      <td>315580</td>\n      <td>w</td>\n      <td>PT</td>\n      <td>H-W</td>\n      <td>...</td>\n      <td>43.0</td>\n      <td>9.0</td>\n      <td>16.0</td>\n      <td>23.0</td>\n      <td>TR</td>\n      <td>0.0</td>\n      <td>0.0</td>\n      <td>[3866345, 3866344, 4077515, 4077513, 4077517, ...</td>\n      <td>[35.0, 35.5, 36.0, 37.0, 37.5, 38.0, 38.5, 39....</td>\n      <td>0</td>\n    </tr>\n    <tr>\n      <th>584</th>\n      <td>3800494</td>\n      <td>4062862023166</td>\n      <td>Schnürstiefelette Rauleder</td>\n      <td></td>\n      <td>52.865.41</td>\n      <td>6590678</td>\n      <td>315587</td>\n      <td>w</td>\n      <td>SK</td>\n      <td>H-W</td>\n      <td>...</td>\n      <td>43.0</td>\n      <td>9.0</td>\n      <td>16.0</td>\n      <td>12.0</td>\n      <td>TR</td>\n      <td>0.0</td>\n      <td>0.0</td>\n      <td>[3800494, 3800495, 3481114, 6110643, 6249278, ...</td>\n      <td>[35.0, 35.5, 36.0, 37.0, 37.5, 38.0, 38.5, 39....</td>\n      <td>15</td>\n    </tr>\n    <tr>\n      <th>804</th>\n      <td>4847054</td>\n      <td>4062862569596</td>\n      <td>Slipper Glattleder weiß</td>\n      <td>weiß</td>\n      <td>64.213.21</td>\n      <td>6590677</td>\n      <td>315576</td>\n      <td>w</td>\n      <td>PT</td>\n      <td>F-S</td>\n      <td>...</td>\n      <td>37.0</td>\n      <td>4.0</td>\n      <td>6.0</td>\n      <td>0.0</td>\n      <td>TPU</td>\n      <td>0.0</td>\n      <td>0.0</td>\n      <td>[4847054, 5150236, 5150525, 5135400, 5150234, ...</td>\n      <td>[35.0, 35.5, 36.0, 37.0, 37.5, 38.0, 38.5, 39....</td>\n      <td>2</td>\n    </tr>\n    <tr>\n      <th>1144</th>\n      <td>4821364</td>\n      <td>4062862534518</td>\n      <td>Sportliche Ballerina Rauleder Blau</td>\n      <td>Blau</td>\n      <td>64.111.16</td>\n      <td>6590677</td>\n      <td>315571</td>\n      <td>w</td>\n      <td>SK</td>\n      <td>F-S</td>\n      <td>...</td>\n      <td>44.0</td>\n      <td>9.5</td>\n      <td>17.0</td>\n      <td>0.0</td>\n      <td>TR</td>\n      <td>0.0</td>\n      <td>0.0</td>\n      <td>[4821364, 4914057, 6282383, 6282390, 7596741, ...</td>\n      <td>[35.0, 36.0, 37.0, 37.5, 38.0, 41.0, 42.0, 43....</td>\n      <td>18</td>\n    </tr>\n    <tr>\n      <th>1190</th>\n      <td>6406765</td>\n      <td>4064032694244</td>\n      <td>Mokassin Rauleder schwarz</td>\n      <td>schwarz</td>\n      <td>72.414.47</td>\n      <td>6590678</td>\n      <td>315590</td>\n      <td>w</td>\n      <td>PT</td>\n      <td>H-W</td>\n      <td>...</td>\n      <td>38.5</td>\n      <td>5.5</td>\n      <td>9.0</td>\n      <td>0.0</td>\n      <td>TR</td>\n      <td>0.0</td>\n      <td>0.0</td>\n      <td>[6406765, 6406767, 6406766, 6406763, 6406764, ...</td>\n      <td>[35.5, 37.5, 38.0, 38.5, 39.0, 40.0, 40.5, 41....</td>\n      <td>0</td>\n    </tr>\n    <tr>\n      <th>3266</th>\n      <td>10434479</td>\n      <td>4065171881588</td>\n      <td>Slingpumps Materialmix Leder rosa</td>\n      <td>rosa</td>\n      <td>22.262.48</td>\n      <td>6590678</td>\n      <td>315565</td>\n      <td>w</td>\n      <td>SK</td>\n      <td>F-S</td>\n      <td>...</td>\n      <td>37.0</td>\n      <td>4.0</td>\n      <td>6.0</td>\n      <td>0.0</td>\n      <td>TPU</td>\n      <td>0.0</td>\n      <td>0.0</td>\n      <td>[10434479, 10434481, 10434484, 10434482, 10434...</td>\n      <td>[35.0, 37.0, 38.0, 38.5, 40.0, 41.0, 43.0]</td>\n      <td>8</td>\n    </tr>\n  </tbody>\n</table>\n<p>10 rows × 57 columns</p>\n</div>"
     },
     "metadata": {},
     "output_type": "display_data"
    },
    {
     "name": "stdout",
     "output_type": "stream",
     "text": [
      "scores:  [0.05438135 0.04625572 0.04579283 0.04513082 0.04507356 0.04311597\n",
      " 0.04245766 0.04052761 0.04046382 0.03971842]\n"
     ]
    }
   ],
   "source": [
    "user_id = next(iter(train.take(1)))['customer_id'].numpy()\n",
    "predict_user(user_id)"
   ],
   "metadata": {
    "collapsed": false,
    "ExecuteTime": {
     "end_time": "2023-11-24T08:20:37.384481Z",
     "start_time": "2023-11-24T08:20:37.271991Z"
    }
   },
   "id": "ccdee48c0a0d68ae"
  },
  {
   "cell_type": "code",
   "execution_count": 18,
   "outputs": [],
   "source": [
    "#model.save('../../models/gabor/gabor_tensorflow_reco_all_data_3_epochs_v1.h5')"
   ],
   "metadata": {
    "collapsed": false,
    "ExecuteTime": {
     "end_time": "2023-11-24T08:20:37.385464Z",
     "start_time": "2023-11-24T08:20:37.346788Z"
    }
   },
   "id": "eb395206e9a41cc7"
  },
  {
   "cell_type": "code",
   "execution_count": 18,
   "outputs": [],
   "source": [],
   "metadata": {
    "collapsed": false,
    "ExecuteTime": {
     "end_time": "2023-11-24T08:20:37.385818Z",
     "start_time": "2023-11-24T08:20:37.349443Z"
    }
   },
   "id": "313096ee48653126"
  }
 ],
 "metadata": {
  "kernelspec": {
   "display_name": "Python 3",
   "language": "python",
   "name": "python3"
  },
  "language_info": {
   "codemirror_mode": {
    "name": "ipython",
    "version": 2
   },
   "file_extension": ".py",
   "mimetype": "text/x-python",
   "name": "python",
   "nbconvert_exporter": "python",
   "pygments_lexer": "ipython2",
   "version": "2.7.6"
  }
 },
 "nbformat": 4,
 "nbformat_minor": 5
}
