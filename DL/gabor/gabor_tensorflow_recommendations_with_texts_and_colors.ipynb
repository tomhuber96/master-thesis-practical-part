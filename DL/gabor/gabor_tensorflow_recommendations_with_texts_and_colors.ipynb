{
 "cells": [
  {
   "cell_type": "code",
   "execution_count": 1,
   "id": "initial_id",
   "metadata": {
    "collapsed": true,
    "ExecuteTime": {
     "end_time": "2023-09-21T09:12:09.296604Z",
     "start_time": "2023-09-21T09:12:06.349187Z"
    }
   },
   "outputs": [],
   "source": [
    "#%pip install -q tensorflow-recommenders\n",
    "import tensorflow as tf\n",
    "import pandas as pd\n",
    "from tensorflow.keras.layers import Embedding, Dense, StringLookup\n",
    "from tensorflow.keras import Sequential\n",
    "import tensorflow_recommenders as tfrs\n",
    "from tensorflow.keras.metrics import AUC\n",
    "import math\n",
    "import numpy as np\n",
    "from tensorflow.keras.preprocessing.text import Tokenizer\n",
    "from tensorflow.keras.preprocessing.sequence import pad_sequences\n",
    "\n",
    "from keras.src.layers import LSTM"
   ]
  },
  {
   "cell_type": "code",
   "execution_count": 2,
   "outputs": [
    {
     "name": "stdout",
     "output_type": "stream",
     "text": [
      "GPU is available\n"
     ]
    }
   ],
   "source": [
    "if tf.config.list_physical_devices('GPU'):\n",
    "    print(\"GPU is available\")\n",
    "else:\n",
    "    print(\"GPU is not available\")"
   ],
   "metadata": {
    "collapsed": false,
    "ExecuteTime": {
     "end_time": "2023-09-21T09:12:09.299174Z",
     "start_time": "2023-09-21T09:12:09.297377Z"
    }
   },
   "id": "89849bbf9d8a3d88"
  },
  {
   "cell_type": "code",
   "execution_count": 3,
   "outputs": [
    {
     "data": {
      "text/plain": "     customer_id  main_product_id  amount  color_mapped  \\\n0        4589682          3692870       1             3   \n1       10133267          8476659       1             3   \n2       10148602          4125038       1             6   \n3        7806599          3504372       1             4   \n4        6480452          3591163       1             0   \n..           ...              ...     ...           ...   \n995      8651989          3591582       1             6   \n996      7506341          3504775       1             3   \n997      9242957          7830955       1            38   \n998      6336427          3696847       1             2   \n999      5834740          4773825       1             6   \n\n                                           productName  \n0                   Schnürstiefelette Glattleder braun  \n1                   PG8002 Sneaker high Rauleder braun  \n2                   Schnürstiefelette Glattleder beige  \n3                   Sportliche Ballerina Rauleder grau  \n4                      Sneaker high Glattleder schwarz  \n..                                                 ...  \n995                Sportliche Ballerina Rauleder beige  \n996                        Chelsea Boot Rauleder braun  \n997  Sandaleno met sleehak Combi leer/Imitatieleer ...  \n998                        Sneaker low Glattleder weiß  \n999                       Sneaker low Glattleder beige  \n\n[1000 rows x 5 columns]",
      "text/html": "<div>\n<style scoped>\n    .dataframe tbody tr th:only-of-type {\n        vertical-align: middle;\n    }\n\n    .dataframe tbody tr th {\n        vertical-align: top;\n    }\n\n    .dataframe thead th {\n        text-align: right;\n    }\n</style>\n<table border=\"1\" class=\"dataframe\">\n  <thead>\n    <tr style=\"text-align: right;\">\n      <th></th>\n      <th>customer_id</th>\n      <th>main_product_id</th>\n      <th>amount</th>\n      <th>color_mapped</th>\n      <th>productName</th>\n    </tr>\n  </thead>\n  <tbody>\n    <tr>\n      <th>0</th>\n      <td>4589682</td>\n      <td>3692870</td>\n      <td>1</td>\n      <td>3</td>\n      <td>Schnürstiefelette Glattleder braun</td>\n    </tr>\n    <tr>\n      <th>1</th>\n      <td>10133267</td>\n      <td>8476659</td>\n      <td>1</td>\n      <td>3</td>\n      <td>PG8002 Sneaker high Rauleder braun</td>\n    </tr>\n    <tr>\n      <th>2</th>\n      <td>10148602</td>\n      <td>4125038</td>\n      <td>1</td>\n      <td>6</td>\n      <td>Schnürstiefelette Glattleder beige</td>\n    </tr>\n    <tr>\n      <th>3</th>\n      <td>7806599</td>\n      <td>3504372</td>\n      <td>1</td>\n      <td>4</td>\n      <td>Sportliche Ballerina Rauleder grau</td>\n    </tr>\n    <tr>\n      <th>4</th>\n      <td>6480452</td>\n      <td>3591163</td>\n      <td>1</td>\n      <td>0</td>\n      <td>Sneaker high Glattleder schwarz</td>\n    </tr>\n    <tr>\n      <th>...</th>\n      <td>...</td>\n      <td>...</td>\n      <td>...</td>\n      <td>...</td>\n      <td>...</td>\n    </tr>\n    <tr>\n      <th>995</th>\n      <td>8651989</td>\n      <td>3591582</td>\n      <td>1</td>\n      <td>6</td>\n      <td>Sportliche Ballerina Rauleder beige</td>\n    </tr>\n    <tr>\n      <th>996</th>\n      <td>7506341</td>\n      <td>3504775</td>\n      <td>1</td>\n      <td>3</td>\n      <td>Chelsea Boot Rauleder braun</td>\n    </tr>\n    <tr>\n      <th>997</th>\n      <td>9242957</td>\n      <td>7830955</td>\n      <td>1</td>\n      <td>38</td>\n      <td>Sandaleno met sleehak Combi leer/Imitatieleer ...</td>\n    </tr>\n    <tr>\n      <th>998</th>\n      <td>6336427</td>\n      <td>3696847</td>\n      <td>1</td>\n      <td>2</td>\n      <td>Sneaker low Glattleder weiß</td>\n    </tr>\n    <tr>\n      <th>999</th>\n      <td>5834740</td>\n      <td>4773825</td>\n      <td>1</td>\n      <td>6</td>\n      <td>Sneaker low Glattleder beige</td>\n    </tr>\n  </tbody>\n</table>\n<p>1000 rows × 5 columns</p>\n</div>"
     },
     "metadata": {},
     "output_type": "display_data"
    },
    {
     "data": {
      "text/plain": "      main_product_id  productNumber  \\\n0              557559  4058394021466   \n1              551622  4054452768212   \n2              547193  4054452768427   \n3              549776  4059701687894   \n4              550726  4054452851594   \n...               ...            ...   \n3292         10603553  4066558951733   \n3293         10442948  4065171827272   \n3294         10782704  4251234499207   \n3295         10679703  4066558303617   \n3296         10496278  4065171812513   \n\n                                            productName productColorName  \\\n0              sportliche Ballerinas Glattleder schwarz          schwarz   \n1                     elegante Pumps Glattleder schwarz          schwarz   \n2                            Slipper Glattleder schwarz          schwarz   \n3                             Sneaker low Rauleder blau             blau   \n4     elegante Ballerinas Materialmix Lederimitat sc...          schwarz   \n...                                                 ...              ...   \n3292                Sandale met plateauzool Suède blauw            blauw   \n3293                    Mokassin Materialmix Leder pink             pink   \n3294                                 Shopper ANDIE blau             blau   \n3295                       Elegante pumps Glad leer wit              wit   \n3296                       Sandale compensée Daim beige            beige   \n\n     articleNumber  brand__id  mainCategory__id gender originCountry     line  \\\n0        02.643.57    6590678            315571      w            PT  F-S|H-W   \n1        05.160.37    6590677            315573      w            PT  F-S|H-W   \n2        04.443.27    6590677            315576      w            SK  F-S|H-W   \n3        06.968.46    4997827            315567      w            VN  F-S|H-W   \n4        06.102.67    6590678            315574      w            SK  F-S|H-W   \n...            ...        ...               ...    ...           ...      ...   \n3292     24.764.36    6590677            315568      w            SK      F-S   \n3293     26.090.21    6590678            315590      w            PT      F-S   \n3294        921453     363013            363017      w            DE      F-S   \n3295     21.450.60    6590677            315573      w            PT      F-S   \n3296     24.645.14    6590677            315564      w            PT      F-S   \n\n      ...  sizeEu sizeUk  sizeIndex  shaftLength__value       sole  \\\n0     ...    40.0    6.5       11.0                 0.0      Gummi   \n1     ...    38.0    5.0        8.0                 0.0        EVA   \n2     ...    42.0    8.0       14.0                 0.0     PU-TPU   \n3     ...    39.0    6.0       10.0                 0.0  Gummi-EVA   \n4     ...    37.5    4.5        7.0                 0.0        EVA   \n...   ...     ...    ...        ...                 ...        ...   \n3292  ...    35.0    2.5        3.0                 0.0     PU-TPU   \n3293  ...    40.5    7.0       12.0                 0.0      Gummi   \n3294  ...     NaN    NaN        NaN                 NaN        NaN   \n3295  ...    35.0    2.5        3.0                 0.0        TPU   \n3296  ...    38.0    5.0        8.0                 0.0         TR   \n\n      isTransferee  isSuccessor  \\\n0              0.0          0.0   \n1              0.0          0.0   \n2              0.0          0.0   \n3              0.0          0.0   \n4              0.0          0.0   \n...            ...          ...   \n3292           0.0          0.0   \n3293           0.0          0.0   \n3294           NaN          NaN   \n3295           0.0          0.0   \n3296           0.0          0.0   \n\n                                 duplicate_product__ids  \\\n0     [557559, 549733, 549734, 557553, 589488, 58948...   \n1     [551622, 551505, 551510, 551509, 552973, 55162...   \n2     [547193, 547191, 547196, 547187, 547189, 54719...   \n3     [549776, 550599, 550596, 550593, 550601, 54978...   \n4     [550726, 550736, 550735, 550732, 550728, 55072...   \n...                                                 ...   \n3292                               [10603553, 10544662]   \n3293                               [10442948, 10442949]   \n3294                                         [10782704]   \n3295                                         [10679703]   \n3296                                         [10496278]   \n\n                                          product_sizes color_mapped  \n0     [35.5, 36.0, 37.0, 37.5, 38.0, 38.5, 39.0, 40....            0  \n1     [35.0, 35.5, 36.0, 37.0, 37.5, 38.0, 38.5, 39....            0  \n2     [35.0, 35.5, 36.0, 37.0, 37.5, 38.0, 38.5, 39....            0  \n3     [35.0, 35.5, 36.0, 37.0, 37.5, 38.0, 38.5, 39....            1  \n4     [35.0, 37.0, 37.5, 38.0, 38.5, 39.0, 40.0, 40....            0  \n...                                                 ...          ...  \n3292                                       [35.0, 37.0]           30  \n3293                                       [40.5, 41.0]           56  \n3294                                                 []            1  \n3295                                             [35.0]           33  \n3296                                             [38.0]            6  \n\n[3297 rows x 57 columns]",
      "text/html": "<div>\n<style scoped>\n    .dataframe tbody tr th:only-of-type {\n        vertical-align: middle;\n    }\n\n    .dataframe tbody tr th {\n        vertical-align: top;\n    }\n\n    .dataframe thead th {\n        text-align: right;\n    }\n</style>\n<table border=\"1\" class=\"dataframe\">\n  <thead>\n    <tr style=\"text-align: right;\">\n      <th></th>\n      <th>main_product_id</th>\n      <th>productNumber</th>\n      <th>productName</th>\n      <th>productColorName</th>\n      <th>articleNumber</th>\n      <th>brand__id</th>\n      <th>mainCategory__id</th>\n      <th>gender</th>\n      <th>originCountry</th>\n      <th>line</th>\n      <th>...</th>\n      <th>sizeEu</th>\n      <th>sizeUk</th>\n      <th>sizeIndex</th>\n      <th>shaftLength__value</th>\n      <th>sole</th>\n      <th>isTransferee</th>\n      <th>isSuccessor</th>\n      <th>duplicate_product__ids</th>\n      <th>product_sizes</th>\n      <th>color_mapped</th>\n    </tr>\n  </thead>\n  <tbody>\n    <tr>\n      <th>0</th>\n      <td>557559</td>\n      <td>4058394021466</td>\n      <td>sportliche Ballerinas Glattleder schwarz</td>\n      <td>schwarz</td>\n      <td>02.643.57</td>\n      <td>6590678</td>\n      <td>315571</td>\n      <td>w</td>\n      <td>PT</td>\n      <td>F-S|H-W</td>\n      <td>...</td>\n      <td>40.0</td>\n      <td>6.5</td>\n      <td>11.0</td>\n      <td>0.0</td>\n      <td>Gummi</td>\n      <td>0.0</td>\n      <td>0.0</td>\n      <td>[557559, 549733, 549734, 557553, 589488, 58948...</td>\n      <td>[35.5, 36.0, 37.0, 37.5, 38.0, 38.5, 39.0, 40....</td>\n      <td>0</td>\n    </tr>\n    <tr>\n      <th>1</th>\n      <td>551622</td>\n      <td>4054452768212</td>\n      <td>elegante Pumps Glattleder schwarz</td>\n      <td>schwarz</td>\n      <td>05.160.37</td>\n      <td>6590677</td>\n      <td>315573</td>\n      <td>w</td>\n      <td>PT</td>\n      <td>F-S|H-W</td>\n      <td>...</td>\n      <td>38.0</td>\n      <td>5.0</td>\n      <td>8.0</td>\n      <td>0.0</td>\n      <td>EVA</td>\n      <td>0.0</td>\n      <td>0.0</td>\n      <td>[551622, 551505, 551510, 551509, 552973, 55162...</td>\n      <td>[35.0, 35.5, 36.0, 37.0, 37.5, 38.0, 38.5, 39....</td>\n      <td>0</td>\n    </tr>\n    <tr>\n      <th>2</th>\n      <td>547193</td>\n      <td>4054452768427</td>\n      <td>Slipper Glattleder schwarz</td>\n      <td>schwarz</td>\n      <td>04.443.27</td>\n      <td>6590677</td>\n      <td>315576</td>\n      <td>w</td>\n      <td>SK</td>\n      <td>F-S|H-W</td>\n      <td>...</td>\n      <td>42.0</td>\n      <td>8.0</td>\n      <td>14.0</td>\n      <td>0.0</td>\n      <td>PU-TPU</td>\n      <td>0.0</td>\n      <td>0.0</td>\n      <td>[547193, 547191, 547196, 547187, 547189, 54719...</td>\n      <td>[35.0, 35.5, 36.0, 37.0, 37.5, 38.0, 38.5, 39....</td>\n      <td>0</td>\n    </tr>\n    <tr>\n      <th>3</th>\n      <td>549776</td>\n      <td>4059701687894</td>\n      <td>Sneaker low Rauleder blau</td>\n      <td>blau</td>\n      <td>06.968.46</td>\n      <td>4997827</td>\n      <td>315567</td>\n      <td>w</td>\n      <td>VN</td>\n      <td>F-S|H-W</td>\n      <td>...</td>\n      <td>39.0</td>\n      <td>6.0</td>\n      <td>10.0</td>\n      <td>0.0</td>\n      <td>Gummi-EVA</td>\n      <td>0.0</td>\n      <td>0.0</td>\n      <td>[549776, 550599, 550596, 550593, 550601, 54978...</td>\n      <td>[35.0, 35.5, 36.0, 37.0, 37.5, 38.0, 38.5, 39....</td>\n      <td>1</td>\n    </tr>\n    <tr>\n      <th>4</th>\n      <td>550726</td>\n      <td>4054452851594</td>\n      <td>elegante Ballerinas Materialmix Lederimitat sc...</td>\n      <td>schwarz</td>\n      <td>06.102.67</td>\n      <td>6590678</td>\n      <td>315574</td>\n      <td>w</td>\n      <td>SK</td>\n      <td>F-S|H-W</td>\n      <td>...</td>\n      <td>37.5</td>\n      <td>4.5</td>\n      <td>7.0</td>\n      <td>0.0</td>\n      <td>EVA</td>\n      <td>0.0</td>\n      <td>0.0</td>\n      <td>[550726, 550736, 550735, 550732, 550728, 55072...</td>\n      <td>[35.0, 37.0, 37.5, 38.0, 38.5, 39.0, 40.0, 40....</td>\n      <td>0</td>\n    </tr>\n    <tr>\n      <th>...</th>\n      <td>...</td>\n      <td>...</td>\n      <td>...</td>\n      <td>...</td>\n      <td>...</td>\n      <td>...</td>\n      <td>...</td>\n      <td>...</td>\n      <td>...</td>\n      <td>...</td>\n      <td>...</td>\n      <td>...</td>\n      <td>...</td>\n      <td>...</td>\n      <td>...</td>\n      <td>...</td>\n      <td>...</td>\n      <td>...</td>\n      <td>...</td>\n      <td>...</td>\n      <td>...</td>\n    </tr>\n    <tr>\n      <th>3292</th>\n      <td>10603553</td>\n      <td>4066558951733</td>\n      <td>Sandale met plateauzool Suède blauw</td>\n      <td>blauw</td>\n      <td>24.764.36</td>\n      <td>6590677</td>\n      <td>315568</td>\n      <td>w</td>\n      <td>SK</td>\n      <td>F-S</td>\n      <td>...</td>\n      <td>35.0</td>\n      <td>2.5</td>\n      <td>3.0</td>\n      <td>0.0</td>\n      <td>PU-TPU</td>\n      <td>0.0</td>\n      <td>0.0</td>\n      <td>[10603553, 10544662]</td>\n      <td>[35.0, 37.0]</td>\n      <td>30</td>\n    </tr>\n    <tr>\n      <th>3293</th>\n      <td>10442948</td>\n      <td>4065171827272</td>\n      <td>Mokassin Materialmix Leder pink</td>\n      <td>pink</td>\n      <td>26.090.21</td>\n      <td>6590678</td>\n      <td>315590</td>\n      <td>w</td>\n      <td>PT</td>\n      <td>F-S</td>\n      <td>...</td>\n      <td>40.5</td>\n      <td>7.0</td>\n      <td>12.0</td>\n      <td>0.0</td>\n      <td>Gummi</td>\n      <td>0.0</td>\n      <td>0.0</td>\n      <td>[10442948, 10442949]</td>\n      <td>[40.5, 41.0]</td>\n      <td>56</td>\n    </tr>\n    <tr>\n      <th>3294</th>\n      <td>10782704</td>\n      <td>4251234499207</td>\n      <td>Shopper ANDIE blau</td>\n      <td>blau</td>\n      <td>921453</td>\n      <td>363013</td>\n      <td>363017</td>\n      <td>w</td>\n      <td>DE</td>\n      <td>F-S</td>\n      <td>...</td>\n      <td>NaN</td>\n      <td>NaN</td>\n      <td>NaN</td>\n      <td>NaN</td>\n      <td>NaN</td>\n      <td>NaN</td>\n      <td>NaN</td>\n      <td>[10782704]</td>\n      <td>[]</td>\n      <td>1</td>\n    </tr>\n    <tr>\n      <th>3295</th>\n      <td>10679703</td>\n      <td>4066558303617</td>\n      <td>Elegante pumps Glad leer wit</td>\n      <td>wit</td>\n      <td>21.450.60</td>\n      <td>6590677</td>\n      <td>315573</td>\n      <td>w</td>\n      <td>PT</td>\n      <td>F-S</td>\n      <td>...</td>\n      <td>35.0</td>\n      <td>2.5</td>\n      <td>3.0</td>\n      <td>0.0</td>\n      <td>TPU</td>\n      <td>0.0</td>\n      <td>0.0</td>\n      <td>[10679703]</td>\n      <td>[35.0]</td>\n      <td>33</td>\n    </tr>\n    <tr>\n      <th>3296</th>\n      <td>10496278</td>\n      <td>4065171812513</td>\n      <td>Sandale compensée Daim beige</td>\n      <td>beige</td>\n      <td>24.645.14</td>\n      <td>6590677</td>\n      <td>315564</td>\n      <td>w</td>\n      <td>PT</td>\n      <td>F-S</td>\n      <td>...</td>\n      <td>38.0</td>\n      <td>5.0</td>\n      <td>8.0</td>\n      <td>0.0</td>\n      <td>TR</td>\n      <td>0.0</td>\n      <td>0.0</td>\n      <td>[10496278]</td>\n      <td>[38.0]</td>\n      <td>6</td>\n    </tr>\n  </tbody>\n</table>\n<p>3297 rows × 57 columns</p>\n</div>"
     },
     "metadata": {},
     "output_type": "display_data"
    }
   ],
   "source": [
    "# Load data\n",
    "basepath = '../../datasets/preprocessed_datasets/gabor/'\n",
    "pandas_interaction_data = pd.read_pickle(basepath + 'user_item_interactions_only_main_products.pkl')\n",
    "pandas_interaction_data = pandas_interaction_data.sample(1000)\n",
    "pandas_interaction_data.amount = pandas_interaction_data.amount.apply(lambda x: 1 if x > 0 else 0) \n",
    "product_data = pd.read_pickle(basepath + 'no_product_variants_with_duplicate_ids.pkl')\n",
    "pandas_interaction_data.main_product_id = pandas_interaction_data.main_product_id.astype(int)\n",
    "product_data.main_product_id = product_data.main_product_id.astype(int)\n",
    "product_data['color_mapped'] = pd.factorize(product_data['productColorName'])[0]\n",
    "\n",
    "pandas_interaction_data = pd.merge(pandas_interaction_data, product_data[['main_product_id', 'color_mapped', 'productName']],\n",
    "                                   left_on='main_product_id',\n",
    "                                   right_on='main_product_id',\n",
    "                                    how='left')\n",
    "\n",
    "display(pandas_interaction_data, product_data)"
   ],
   "metadata": {
    "collapsed": false,
    "ExecuteTime": {
     "end_time": "2023-09-21T09:12:09.354562Z",
     "start_time": "2023-09-21T09:12:09.301706Z"
    }
   },
   "id": "e008bf18a8e80e4f"
  },
  {
   "cell_type": "code",
   "execution_count": 4,
   "outputs": [],
   "source": [
    "# Initialize tokenizer\n",
    "string_lookup = StringLookup()\n",
    "string_lookup.adapt(pandas_interaction_data['productName'])\n",
    "\n",
    "tokenizer = Tokenizer(num_words=string_lookup.vocabulary_size(), oov_token=\"<OOV>\")\n",
    "tokenizer.fit_on_texts(pandas_interaction_data['productName'])\n",
    "\n",
    "# Convert text to sequences\n",
    "sequences = tokenizer.texts_to_sequences(pandas_interaction_data['productName'])\n",
    "\n",
    "# Pad sequences\n",
    "padded_sequences = pad_sequences(sequences, padding='post')"
   ],
   "metadata": {
    "collapsed": false,
    "ExecuteTime": {
     "end_time": "2023-09-21T09:12:09.532930Z",
     "start_time": "2023-09-21T09:12:09.347781Z"
    }
   },
   "id": "695c10450ec522db"
  },
  {
   "cell_type": "code",
   "execution_count": 5,
   "outputs": [],
   "source": [
    "# Create a tf.data.Dataset from the interaction data\n",
    "interaction_dataset = tf.data.Dataset.from_tensor_slices({\n",
    "    'customer_id': pandas_interaction_data['customer_id'].values,\n",
    "    'main_product_id': pandas_interaction_data['main_product_id'].values,\n",
    "    'amount': pandas_interaction_data['amount'].values, \n",
    "    'product_color': pandas_interaction_data['color_mapped'].values, \n",
    "    'product_description': padded_sequences, \n",
    "})\n",
    "#variables \n",
    "dataset_len = pandas_interaction_data.shape[0]\n",
    "test_len = math.ceil(dataset_len * 0.2)\n",
    "train_len = dataset_len - test_len\n",
    "\n",
    "metrics_batchsize = 16\n",
    "train_batch_size = 128\n",
    "test_batch_size = 64\n",
    "random_seed = 27"
   ],
   "metadata": {
    "collapsed": false,
    "ExecuteTime": {
     "end_time": "2023-09-21T09:12:09.542557Z",
     "start_time": "2023-09-21T09:12:09.536701Z"
    }
   },
   "id": "c089ac7f029dc324"
  },
  {
   "cell_type": "code",
   "execution_count": 6,
   "outputs": [
    {
     "data": {
      "text/plain": "<_TensorSliceDataset element_spec={'customer_id': TensorSpec(shape=(), dtype=tf.int64, name=None), 'main_product_id': TensorSpec(shape=(), dtype=tf.int64, name=None), 'amount': TensorSpec(shape=(), dtype=tf.int64, name=None), 'product_color': TensorSpec(shape=(), dtype=tf.int64, name=None), 'product_description': TensorSpec(shape=(8,), dtype=tf.int32, name=None)}>"
     },
     "execution_count": 6,
     "metadata": {},
     "output_type": "execute_result"
    }
   ],
   "source": [
    "interaction_dataset"
   ],
   "metadata": {
    "collapsed": false,
    "ExecuteTime": {
     "end_time": "2023-09-21T09:12:09.544993Z",
     "start_time": "2023-09-21T09:12:09.542122Z"
    }
   },
   "id": "1271391f90ebc74d"
  },
  {
   "cell_type": "code",
   "execution_count": 7,
   "outputs": [
    {
     "data": {
      "text/plain": "<_TakeDataset element_spec={'customer_id': TensorSpec(shape=(), dtype=tf.int64, name=None), 'main_product_id': TensorSpec(shape=(), dtype=tf.int64, name=None), 'amount': TensorSpec(shape=(), dtype=tf.int64, name=None), 'product_color': TensorSpec(shape=(), dtype=tf.int64, name=None), 'product_description': TensorSpec(shape=(8,), dtype=tf.int32, name=None)}>"
     },
     "metadata": {},
     "output_type": "display_data"
    },
    {
     "data": {
      "text/plain": "<_TakeDataset element_spec={'customer_id': TensorSpec(shape=(), dtype=tf.int64, name=None), 'main_product_id': TensorSpec(shape=(), dtype=tf.int64, name=None), 'amount': TensorSpec(shape=(), dtype=tf.int64, name=None), 'product_color': TensorSpec(shape=(), dtype=tf.int64, name=None), 'product_description': TensorSpec(shape=(8,), dtype=tf.int32, name=None)}>"
     },
     "metadata": {},
     "output_type": "display_data"
    }
   ],
   "source": [
    "#train test split\n",
    "tf.random.set_seed(random_seed)\n",
    "# shuffled = interaction_dataset.shuffle(len, seed=random_seed, reshuffle_each_iteration=False)\n",
    "# train = shuffled.take(train_len)\n",
    "# test = shuffled.skip(train_len).take(test_len)\n",
    "shuffled = interaction_dataset.shuffle(dataset_len, seed=random_seed, reshuffle_each_iteration=False)\n",
    "\n",
    "train = shuffled.take(train_len)\n",
    "test = shuffled.skip(train_len).take(test_len)\n",
    "display(train, test)"
   ],
   "metadata": {
    "collapsed": false,
    "ExecuteTime": {
     "end_time": "2023-09-21T09:12:09.582218Z",
     "start_time": "2023-09-21T09:12:09.548424Z"
    }
   },
   "id": "825eec174445be8c"
  },
  {
   "cell_type": "code",
   "execution_count": 8,
   "outputs": [],
   "source": [
    "# Unique customer and product identifiers\n",
    "unique_customer_ids = np.array(pandas_interaction_data[\"customer_id\"].unique())\n",
    "unique_product_ids = np.array(pandas_interaction_data[\"main_product_id\"].unique())\n",
    "\n",
    "unique_colors = np.array(product_data[\"color_mapped\"].unique())\n",
    "user_ids_vocabulary = tf.keras.layers.IntegerLookup(mask_token=None)\n",
    "user_ids_vocabulary.adapt(unique_customer_ids)\n",
    "\n",
    "product_ids_vocabulary = tf.keras.layers.IntegerLookup(mask_token=None)\n",
    "product_ids_vocabulary.adapt(unique_product_ids)\n",
    "\n",
    "product_colors_vocabulary = tf.keras.layers.IntegerLookup(mask_token=None)\n",
    "product_colors_vocabulary.adapt(unique_colors)\n",
    "# print(unique_product_ids.shape[0], unique_customer_ids.shape[0], unique_product_ids, unique_product_ids)"
   ],
   "metadata": {
    "collapsed": false,
    "ExecuteTime": {
     "end_time": "2023-09-21T09:12:09.769651Z",
     "start_time": "2023-09-21T09:12:09.563851Z"
    }
   },
   "id": "2e2625e63cf53fce"
  },
  {
   "cell_type": "code",
   "execution_count": 8,
   "outputs": [],
   "source": [],
   "metadata": {
    "collapsed": false,
    "ExecuteTime": {
     "end_time": "2023-09-21T09:12:09.771875Z",
     "start_time": "2023-09-21T09:12:09.769129Z"
    }
   },
   "id": "580fc3478a356294"
  },
  {
   "cell_type": "code",
   "execution_count": 9,
   "outputs": [],
   "source": [
    "# Define a model using TensorFlow Recommenders\n",
    "product_ids_dataset = tf.data.Dataset.from_tensor_slices(unique_product_ids)\n",
    "class RetailModel(tfrs.Model):\n",
    "\n",
    "    def __init__(self, unique_product_ids_vocab, unique_customer_ids_vocab, unique_product_color_vocab, embedding_dimension=32):\n",
    "        super().__init__()\n",
    "        # Set up user and product representations\n",
    "        self.user_embedding = tf.keras.Sequential([\n",
    "            unique_customer_ids_vocab,\n",
    "            Embedding(unique_customer_ids_vocab.vocabulary_size(), embedding_dimension)\n",
    "        ])\n",
    "        self.product_embedding = tf.keras.Sequential([\n",
    "            unique_product_ids_vocab,\n",
    "            Embedding(unique_product_ids_vocab.vocabulary_size(), embedding_dimension)\n",
    "        ])\n",
    "\n",
    "        # Color embeddings\n",
    "        self.color_embedding = tf.keras.Sequential([\n",
    "            unique_product_color_vocab,\n",
    "            Embedding(unique_product_color_vocab.vocabulary_size(), embedding_dimension)\n",
    "        ]) \n",
    "\n",
    "\n",
    "        # Textual description model\n",
    "        self.textual_description_model = tf.keras.Sequential([\n",
    "            Embedding(input_dim=unique_product_ids_vocab.vocabulary_size(), output_dim=embedding_dimension),\n",
    "            LSTM(64),\n",
    "            Dense(64, activation='relu')\n",
    "        ])\n",
    "        \n",
    "        # Set up a dense layer for the task.\n",
    "        self.dense_layer = Dense(128, activation=\"relu\")\n",
    "\n",
    "        # Set up retrieval task and metrics\n",
    "        self.task = tfrs.tasks.Retrieval(\n",
    "            metrics=tfrs.metrics.FactorizedTopK(candidates=product_ids_dataset.batch(metrics_batchsize).map(self.product_model))\n",
    "        )\n",
    "        self.auc_metric = AUC(name='auc')\n",
    "        self.rmse_metric = tf.keras.metrics.RootMeanSquaredError(name='rmse')\n",
    "        self.precision = tf.keras.metrics.Precision(name='precision')\n",
    "        self.recall = tf.keras.metrics.Recall(name='recall')\n",
    "\n",
    "    def product_model(self, product_ids):\n",
    "        return self.product_embedding(product_ids)\n",
    "\n",
    "    def dot_product_score(self, user, product):\n",
    "        \"\"\"\n",
    "        Computes the dot product between user and product embeddings to get the interaction score.\n",
    "        \"\"\"\n",
    "        return tf.reduce_sum(user * product, axis=1)\n",
    "\n",
    "    def compute_loss(self, features, training=False):\n",
    "        # print(features)\n",
    "        user_embeddings = self.user_embedding(features[\"customer_id\"])\n",
    "        product_embeddings = self.product_embedding(features[\"main_product_id\"])\n",
    "\n",
    "        # New embeddings for color and description\n",
    "        color_embeddings = self.color_embedding(features[\"product_color\"])\n",
    "        description_embeddings = self.textual_description_model(features[\"product_description\"])\n",
    "    \n",
    "        # Combine existing and new embeddings\n",
    "        # Note: You might have to adjust the axis depending on your data shapes\n",
    "        user_combined = tf.concat([user_embeddings], axis=1)\n",
    "        product_combined = tf.concat([product_embeddings, color_embeddings, description_embeddings], axis=1)\n",
    "\n",
    "\n",
    "        user_output = self.dense_layer(user_embeddings)\n",
    "        product_output = self.dense_layer(product_embeddings)\n",
    "        # This is a hypothetical function that returns the logits or scores\n",
    "        # This needs to be adapted based on your actual model\n",
    "        positive_logits = self.dot_product_score(user_output, product_output)\n",
    "\n",
    "        # Update RMSE\n",
    "        self.rmse_metric.update_state(y_true=features[\"amount\"], y_pred=positive_logits)\n",
    "\n",
    "\n",
    "        return self.task(user_output, product_output)\n",
    "\n",
    "    def evaluate(self, validation_dataset, *args, **kwargs):\n",
    "        # Call the base class's evaluate method\n",
    "        \n",
    "    \n",
    "        # Compute additional metrics\n",
    "        for features in validation_dataset:\n",
    "            user_embeddings = self.user_embedding(features[\"customer_id\"])\n",
    "            product_embeddings = self.product_embedding(features[\"main_product_id\"])\n",
    "            \n",
    "            user_output = self.dense_layer(user_embeddings)\n",
    "            product_output = self.dense_layer(product_embeddings)\n",
    "            \n",
    "            positive_logits = self.dot_product_score(user_output, product_output)\n",
    "            # Assuming you have a binary \"label\" in your dataset indicating 1 for positive interaction and 0 for negative\n",
    "            self.precision.update_state(y_true=features[\"amount\"], y_pred=positive_logits)\n",
    "            self.recall.update_state(y_true=features[\"amount\"], y_pred=positive_logits)\n",
    "    \n",
    "        precision_result = self.precision.result().numpy()\n",
    "        recall_result = self.recall.result().numpy()\n",
    "    \n",
    "        # Calculate F1 score\n",
    "        if (precision_result + recall_result) != 0:\n",
    "            f1_score = 2 * (precision_result * recall_result) / (precision_result + recall_result)\n",
    "        else:\n",
    "            f1_score = 0.0\n",
    "    \n",
    "        # Reset the metrics for the next evaluation\n",
    "        # self.precision.reset_states()\n",
    "        # self.recall.reset_states()\n",
    "        base_results = super(RetailModel, self).evaluate(validation_dataset, *args, **kwargs)\n",
    "    \n",
    "        return base_results, [precision_result, recall_result, f1_score]  # or append additional results as needed\n",
    "\n"
   ],
   "metadata": {
    "collapsed": false,
    "ExecuteTime": {
     "end_time": "2023-09-21T09:12:09.783586Z",
     "start_time": "2023-09-21T09:12:09.772688Z"
    }
   },
   "id": "378cf58a3061ecfc"
  },
  {
   "cell_type": "code",
   "execution_count": 10,
   "outputs": [],
   "source": [
    "model = RetailModel(product_ids_vocabulary, user_ids_vocabulary, product_colors_vocabulary, embedding_dimension=128)\n",
    "model.compile(optimizer=tf.keras.optimizers.legacy.Adam(learning_rate=0.001)) # using legacy instead of tf.keras.optimizers.Adagrad, because newer version is slow on m1/m2 macs"
   ],
   "metadata": {
    "collapsed": false,
    "ExecuteTime": {
     "end_time": "2023-09-21T09:12:10.216443Z",
     "start_time": "2023-09-21T09:12:09.784889Z"
    }
   },
   "id": "5ae0c3e4d7093bf1"
  },
  {
   "cell_type": "code",
   "execution_count": 11,
   "outputs": [
    {
     "name": "stdout",
     "output_type": "stream",
     "text": [
      "Epoch 1/3\n",
      "WARNING:tensorflow:Gradients do not exist for variables ['embedding_2/embeddings:0', 'embedding_3/embeddings:0', 'lstm/lstm_cell/kernel:0', 'lstm/lstm_cell/recurrent_kernel:0', 'lstm/lstm_cell/bias:0', 'dense/kernel:0', 'dense/bias:0'] when minimizing the loss. If you're using `model.compile()`, did you forget to provide a `loss` argument?\n",
      "WARNING:tensorflow:Gradients do not exist for variables ['embedding_2/embeddings:0', 'embedding_3/embeddings:0', 'lstm/lstm_cell/kernel:0', 'lstm/lstm_cell/recurrent_kernel:0', 'lstm/lstm_cell/bias:0', 'dense/kernel:0', 'dense/bias:0'] when minimizing the loss. If you're using `model.compile()`, did you forget to provide a `loss` argument?\n",
      "7/7 [==============================] - 3s 210ms/step - auc: 0.0000e+00 - rmse: 1.0001 - precision: 0.0000e+00 - recall: 0.0000e+00 - factorized_top_k/top_1_categorical_accuracy: 0.0150 - factorized_top_k/top_5_categorical_accuracy: 0.0425 - factorized_top_k/top_10_categorical_accuracy: 0.0675 - factorized_top_k/top_50_categorical_accuracy: 0.1800 - factorized_top_k/top_100_categorical_accuracy: 0.2775 - loss: 493.5761 - regularization_loss: 0.0000e+00 - total_loss: 493.5761\n",
      "Epoch 2/3\n",
      "7/7 [==============================] - 1s 199ms/step - auc: 0.0000e+00 - rmse: 0.9793 - precision: 0.0000e+00 - recall: 0.0000e+00 - factorized_top_k/top_1_categorical_accuracy: 0.2750 - factorized_top_k/top_5_categorical_accuracy: 0.4487 - factorized_top_k/top_10_categorical_accuracy: 0.5175 - factorized_top_k/top_50_categorical_accuracy: 0.7300 - factorized_top_k/top_100_categorical_accuracy: 0.8300 - loss: 491.5901 - regularization_loss: 0.0000e+00 - total_loss: 491.5901\n",
      "Epoch 3/3\n",
      "7/7 [==============================] - 1s 202ms/step - auc: 0.0000e+00 - rmse: 0.9544 - precision: 0.0000e+00 - recall: 0.0000e+00 - factorized_top_k/top_1_categorical_accuracy: 0.7962 - factorized_top_k/top_5_categorical_accuracy: 0.9038 - factorized_top_k/top_10_categorical_accuracy: 0.9388 - factorized_top_k/top_50_categorical_accuracy: 0.9812 - factorized_top_k/top_100_categorical_accuracy: 0.9887 - loss: 489.5695 - regularization_loss: 0.0000e+00 - total_loss: 489.5695\n"
     ]
    },
    {
     "data": {
      "text/plain": "<keras.src.callbacks.History at 0x2847e2040>"
     },
     "execution_count": 11,
     "metadata": {},
     "output_type": "execute_result"
    }
   ],
   "source": [
    "# Shuffle, batch, and cache the data.\n",
    "cached_train = train.shuffle(dataset_len).batch(train_batch_size).cache()\n",
    "cached_test = test.batch(test_batch_size).cache()\n",
    "# Train the model\n",
    "# model.fit(cached_train, validation_data=cached_test, validation_freq=5, epochs=3) \n",
    "model.fit(cached_train, validation_freq=5, epochs=3)"
   ],
   "metadata": {
    "collapsed": false,
    "ExecuteTime": {
     "end_time": "2023-09-21T09:12:15.984369Z",
     "start_time": "2023-09-21T09:12:10.221034Z"
    }
   },
   "id": "4add146de8d83cb0"
  },
  {
   "cell_type": "code",
   "execution_count": 12,
   "outputs": [
    {
     "name": "stdout",
     "output_type": "stream",
     "text": [
      "7/7 [==============================] - 2s 216ms/step - auc: 0.0000e+00 - rmse: 0.9299 - precision: 0.0000e+00 - recall: 0.0000e+00 - factorized_top_k/top_1_categorical_accuracy: 0.9638 - factorized_top_k/top_5_categorical_accuracy: 0.9837 - factorized_top_k/top_10_categorical_accuracy: 0.9887 - factorized_top_k/top_50_categorical_accuracy: 0.9950 - factorized_top_k/top_100_categorical_accuracy: 1.0000 - loss: 487.9295 - regularization_loss: 0.0000e+00 - total_loss: 487.9295\n"
     ]
    },
    {
     "data": {
      "text/plain": "([0.0,\n  0.929881751537323,\n  0.0,\n  0.0,\n  0.9637500047683716,\n  0.9837499856948853,\n  0.9887499809265137,\n  0.9950000047683716,\n  1.0,\n  109.63053894042969,\n  0,\n  109.63053894042969],\n [0.0, 0.0, 0.0])"
     },
     "execution_count": 12,
     "metadata": {},
     "output_type": "execute_result"
    }
   ],
   "source": [
    "# Evaluate the model\n",
    "k = 5\n",
    "result_evaluate_train = model.evaluate(cached_train)\n",
    "result_evaluate_train"
   ],
   "metadata": {
    "collapsed": false,
    "ExecuteTime": {
     "end_time": "2023-09-21T09:12:18.008529Z",
     "start_time": "2023-09-21T09:12:15.982008Z"
    }
   },
   "id": "f38fbc7489d6c8ab"
  },
  {
   "cell_type": "code",
   "execution_count": 13,
   "outputs": [
    {
     "name": "stdout",
     "output_type": "stream",
     "text": [
      "4/4 [==============================] - 1s 216ms/step - auc: 0.0000e+00 - rmse: 0.9857 - precision: 0.0000e+00 - recall: 0.0000e+00 - factorized_top_k/top_1_categorical_accuracy: 0.1300 - factorized_top_k/top_5_categorical_accuracy: 0.2750 - factorized_top_k/top_10_categorical_accuracy: 0.3550 - factorized_top_k/top_50_categorical_accuracy: 0.5300 - factorized_top_k/top_100_categorical_accuracy: 0.6250 - loss: 166.3991 - regularization_loss: 0.0000e+00 - total_loss: 166.3991\n"
     ]
    },
    {
     "data": {
      "text/plain": "([0.0,\n  0.985679566860199,\n  0.0,\n  0.0,\n  0.12999999523162842,\n  0.2750000059604645,\n  0.35499998927116394,\n  0.5299999713897705,\n  0.625,\n  16.669906616210938,\n  0,\n  16.669906616210938],\n [0.0, 0.0, 0.0])"
     },
     "execution_count": 13,
     "metadata": {},
     "output_type": "execute_result"
    }
   ],
   "source": [
    "result_evaluat_test = model.evaluate(cached_test)\n",
    "result_evaluat_test"
   ],
   "metadata": {
    "collapsed": false,
    "ExecuteTime": {
     "end_time": "2023-09-21T09:12:19.021522Z",
     "start_time": "2023-09-21T09:12:18.007562Z"
    }
   },
   "id": "a90bfb5478e24540"
  },
  {
   "cell_type": "code",
   "execution_count": 14,
   "outputs": [
    {
     "name": "stdout",
     "output_type": "stream",
     "text": [
      "Name\t\tValue\n",
      "------------------------------\n",
      "auc\t\t0.0\n",
      "rmse\t\t0.985679566860199\n",
      "precision\t\t0.0\n",
      "recall\t\t0.0\n",
      "factorized_top_k/top_1_categorical_accuracy\t\t0.12999999523162842\n",
      "factorized_top_k/top_5_categorical_accuracy\t\t0.2750000059604645\n",
      "factorized_top_k/top_10_categorical_accuracy\t\t0.35499998927116394\n",
      "factorized_top_k/top_50_categorical_accuracy\t\t0.5299999713897705\n",
      "factorized_top_k/top_100_categorical_accuracy\t\t0.625\n",
      "AUC: 0.0\n"
     ]
    }
   ],
   "source": [
    "print(\"Name\\t\\tValue\")\n",
    "print(\"-\" * 30)\n",
    "for metric in model.metrics:\n",
    "    print(f\"{metric.name}\\t\\t{metric.result().numpy()}\")\n",
    "print(f\"AUC: {model.auc_metric.result().numpy()}\")"
   ],
   "metadata": {
    "collapsed": false,
    "ExecuteTime": {
     "end_time": "2023-09-21T09:12:19.050635Z",
     "start_time": "2023-09-21T09:12:19.020899Z"
    }
   },
   "id": "2dc815d6547dfefe"
  },
  {
   "cell_type": "code",
   "execution_count": 15,
   "outputs": [
    {
     "data": {
      "text/plain": "array([ 5181267,  6264129,  1982475,  9441144,  4668062,  5086233,\n        6704019,  9966299,  5872343,  2225186,  5739629, 10762597,\n        1991139,  7744656,  2167927,  5810378,  4375062,  9149416,\n        6162861,  7364737,  7233329,  9807258,  2016930,  5628821,\n        7552534,  1985973,  9069465,  9801605,  6954165,  6159706,\n       10464464,  2075624,  6156578,  5550099,  1958367,  6200210,\n        8805246,  4254525, 10845833,  1999453,  7727094,  8384842,\n       10715540,  5616577,  2076462, 10804908,  9227165,  9762573,\n        6564829,  8924125, 10179673,  6906362,  8691401,  8826570,\n        8541944,  3856322,  9688791, 10180721,  9338707,  8324291,\n        4328308,  2004061,  6567105, 11073231])"
     },
     "execution_count": 15,
     "metadata": {},
     "output_type": "execute_result"
    }
   ],
   "source": [
    "sample = next(iter(cached_test.take(1)))\n",
    "\n",
    "# Extract customer_id from the sample\n",
    "customer_id = sample['customer_id'].numpy()\n",
    "customer_id"
   ],
   "metadata": {
    "collapsed": false,
    "ExecuteTime": {
     "end_time": "2023-09-21T09:12:19.065285Z",
     "start_time": "2023-09-21T09:12:19.037405Z"
    }
   },
   "id": "d293fa87e3fe5b52"
  },
  {
   "cell_type": "code",
   "execution_count": 16,
   "outputs": [
    {
     "name": "stdout",
     "output_type": "stream",
     "text": [
      "predicting user:  5181267\n",
      "user already bought following products: \n"
     ]
    },
    {
     "data": {
      "text/plain": "     main_product_id  productNumber                  productName  \\\n101          3504775  4062862281702  Chelsea Boot Rauleder braun   \n\n    productColorName articleNumber  brand__id  mainCategory__id gender  \\\n101            braun     56.661.32    6590678            315582      w   \n\n    originCountry line  ...  sizeEu sizeUk  sizeIndex  shaftLength__value  \\\n101            PT  H-W  ...    40.5    7.0       12.0                11.0   \n\n     sole  isTransferee  isSuccessor  \\\n101    TR           0.0          0.0   \n\n                                duplicate_product__ids  \\\n101  [3504775, 3477007, 3504771, 3478521, 3478174, ...   \n\n                                         product_sizes color_mapped  \n101  [35.0, 35.5, 36.0, 37.0, 37.5, 38.0, 38.5, 39....            3  \n\n[1 rows x 57 columns]",
      "text/html": "<div>\n<style scoped>\n    .dataframe tbody tr th:only-of-type {\n        vertical-align: middle;\n    }\n\n    .dataframe tbody tr th {\n        vertical-align: top;\n    }\n\n    .dataframe thead th {\n        text-align: right;\n    }\n</style>\n<table border=\"1\" class=\"dataframe\">\n  <thead>\n    <tr style=\"text-align: right;\">\n      <th></th>\n      <th>main_product_id</th>\n      <th>productNumber</th>\n      <th>productName</th>\n      <th>productColorName</th>\n      <th>articleNumber</th>\n      <th>brand__id</th>\n      <th>mainCategory__id</th>\n      <th>gender</th>\n      <th>originCountry</th>\n      <th>line</th>\n      <th>...</th>\n      <th>sizeEu</th>\n      <th>sizeUk</th>\n      <th>sizeIndex</th>\n      <th>shaftLength__value</th>\n      <th>sole</th>\n      <th>isTransferee</th>\n      <th>isSuccessor</th>\n      <th>duplicate_product__ids</th>\n      <th>product_sizes</th>\n      <th>color_mapped</th>\n    </tr>\n  </thead>\n  <tbody>\n    <tr>\n      <th>101</th>\n      <td>3504775</td>\n      <td>4062862281702</td>\n      <td>Chelsea Boot Rauleder braun</td>\n      <td>braun</td>\n      <td>56.661.32</td>\n      <td>6590678</td>\n      <td>315582</td>\n      <td>w</td>\n      <td>PT</td>\n      <td>H-W</td>\n      <td>...</td>\n      <td>40.5</td>\n      <td>7.0</td>\n      <td>12.0</td>\n      <td>11.0</td>\n      <td>TR</td>\n      <td>0.0</td>\n      <td>0.0</td>\n      <td>[3504775, 3477007, 3504771, 3478521, 3478174, ...</td>\n      <td>[35.0, 35.5, 36.0, 37.0, 37.5, 38.0, 38.5, 39....</td>\n      <td>3</td>\n    </tr>\n  </tbody>\n</table>\n<p>1 rows × 57 columns</p>\n</div>"
     },
     "metadata": {},
     "output_type": "display_data"
    },
    {
     "name": "stdout",
     "output_type": "stream",
     "text": [
      "predicted products: \n"
     ]
    },
    {
     "data": {
      "text/plain": "      main_product_id  productNumber                             productName  \\\n300           6115810  4064032440902                   Chelsea Boot Rauleder   \n590           3846282  4062862149972        Eleganter Pumps Rauleder schwarz   \n622           4771321  4062862905509        Plateau Pumps Effektleder silber   \n720           3850944  4062862925996           Eleganter Pumps Rauleder rosa   \n795           4770125  4062862810346             Pantolette Rauleder schwarz   \n1218          6113376  4064032454244     Biker- / Combat Boot Rauleder braun   \n1326          6114331  4064032421734    Sportlicher Stiefel Glattleder braun   \n1811          7592808  4065171055422  Eleganter Ballerina Glattleder schwarz   \n1860          7589216  4064032401354         Riemchensandale Glattleder rosa   \n1951          7800773  4064032948538                     Slip-on Suède beige   \n\n     productColorName articleNumber  brand__id  mainCategory__id gender  \\\n300                       72.091.47    6590678            315582      w   \n590           schwarz     52.151.47    6590678            315573      w   \n622            silber     61.260.61    6590677            315569      w   \n720              rosa     55.380.14    6590677            315573      w   \n795           schwarz     66.743.47    6590678            315572      w   \n1218            braun     72.704.41    6590678           5014852      w   \n1326            braun     72.799.24    6590678           5014850      w   \n1811          schwarz     81.301.30    6590677            315576      w   \n1860             rosa     81.710.20    6590677            315563      w   \n1951            beige     84.213.14    6590677            315576      w   \n\n     originCountry line  ...  sizeEu sizeUk  sizeIndex  shaftLength__value  \\\n300             SK  H-W  ...    39.0    6.0       10.0                11.0   \n590             SK  H-W  ...    38.5    5.5        9.0                 0.0   \n622             PT  F-S  ...    35.5    3.0        4.0                 0.0   \n720             PT  H-W  ...    35.0    2.5        3.0                 0.0   \n795             PT  F-S  ...    38.0    5.0        8.0                 0.0   \n1218            PT  H-W  ...    39.0    6.0       10.0                18.0   \n1326            SK  H-W  ...    36.0    3.5        5.0                42.0   \n1811            PT  F-S  ...    39.0    6.0       10.0                 0.0   \n1860            PT  F-S  ...    43.0    9.0       16.0                 0.0   \n1951            PT  F-S  ...    43.0    9.0       16.0                 0.0   \n\n      sole  isTransferee  isSuccessor  \\\n300     TR           1.0          1.0   \n590    TPU           1.0          1.0   \n622    EVA           0.0          1.0   \n720    TPU           0.0          1.0   \n795     TR           0.0          1.0   \n1218    TR           0.0          0.0   \n1326    TR           1.0          1.0   \n1811   TPU           0.0          0.0   \n1860   TPU           0.0          0.0   \n1951   TPU           1.0          1.0   \n\n                                 duplicate_product__ids  \\\n300   [6115810, 6163657, 6460667, 6249160, 6282880, ...   \n590   [3846282, 3504440, 3850372, 4771268, 3850054, ...   \n622   [4771321, 4771326, 4771325, 4771327, 4771322, ...   \n720   [3850944, 4846948, 4846936, 5184972, 5184966, ...   \n795   [4770125, 5336309, 5336297, 4770124, 5336298, ...   \n1218  [6113376, 6116055, 6116347, 6113377, 6113382, ...   \n1326  [6114331, 6112111, 6639919, 6112110, 6639915, ...   \n1811  [7592808, 7592804, 7592806, 7592811, 7592805, ...   \n1860  [7589216, 7589204, 7589215, 7589209, 7589213, ...   \n1951  [7800773, 7799248, 7800435, 8531254, 8531265, ...   \n\n                                          product_sizes color_mapped  \n300   [35.0, 35.5, 36.0, 37.0, 37.5, 38.0, 38.5, 39....           15  \n590   [35.0, 35.5, 36.0, 37.0, 37.5, 38.0, 38.5, 39....            0  \n622   [35.0, 35.5, 36.0, 37.0, 37.5, 38.0, 38.5, 39....           14  \n720   [35.0, 35.5, 36.0, 37.0, 37.5, 38.0, 38.5, 39....            8  \n795   [35.0, 35.5, 36.0, 37.0, 37.5, 38.0, 38.5, 39....            0  \n1218  [35.0, 35.5, 36.0, 37.0, 37.5, 38.0, 38.5, 39....            3  \n1326  [35.0, 35.5, 36.0, 37.0, 37.5, 38.0, 38.5, 39....            3  \n1811  [35.0, 36.0, 37.0, 37.5, 38.0, 38.5, 39.0, 40....            0  \n1860  [35.0, 35.5, 36.0, 37.0, 37.5, 38.0, 38.5, 39....            8  \n1951   [37.0, 38.0, 39.0, 40.0, 40.5, 41.0, 43.0, 44.0]            6  \n\n[10 rows x 57 columns]",
      "text/html": "<div>\n<style scoped>\n    .dataframe tbody tr th:only-of-type {\n        vertical-align: middle;\n    }\n\n    .dataframe tbody tr th {\n        vertical-align: top;\n    }\n\n    .dataframe thead th {\n        text-align: right;\n    }\n</style>\n<table border=\"1\" class=\"dataframe\">\n  <thead>\n    <tr style=\"text-align: right;\">\n      <th></th>\n      <th>main_product_id</th>\n      <th>productNumber</th>\n      <th>productName</th>\n      <th>productColorName</th>\n      <th>articleNumber</th>\n      <th>brand__id</th>\n      <th>mainCategory__id</th>\n      <th>gender</th>\n      <th>originCountry</th>\n      <th>line</th>\n      <th>...</th>\n      <th>sizeEu</th>\n      <th>sizeUk</th>\n      <th>sizeIndex</th>\n      <th>shaftLength__value</th>\n      <th>sole</th>\n      <th>isTransferee</th>\n      <th>isSuccessor</th>\n      <th>duplicate_product__ids</th>\n      <th>product_sizes</th>\n      <th>color_mapped</th>\n    </tr>\n  </thead>\n  <tbody>\n    <tr>\n      <th>300</th>\n      <td>6115810</td>\n      <td>4064032440902</td>\n      <td>Chelsea Boot Rauleder</td>\n      <td></td>\n      <td>72.091.47</td>\n      <td>6590678</td>\n      <td>315582</td>\n      <td>w</td>\n      <td>SK</td>\n      <td>H-W</td>\n      <td>...</td>\n      <td>39.0</td>\n      <td>6.0</td>\n      <td>10.0</td>\n      <td>11.0</td>\n      <td>TR</td>\n      <td>1.0</td>\n      <td>1.0</td>\n      <td>[6115810, 6163657, 6460667, 6249160, 6282880, ...</td>\n      <td>[35.0, 35.5, 36.0, 37.0, 37.5, 38.0, 38.5, 39....</td>\n      <td>15</td>\n    </tr>\n    <tr>\n      <th>590</th>\n      <td>3846282</td>\n      <td>4062862149972</td>\n      <td>Eleganter Pumps Rauleder schwarz</td>\n      <td>schwarz</td>\n      <td>52.151.47</td>\n      <td>6590678</td>\n      <td>315573</td>\n      <td>w</td>\n      <td>SK</td>\n      <td>H-W</td>\n      <td>...</td>\n      <td>38.5</td>\n      <td>5.5</td>\n      <td>9.0</td>\n      <td>0.0</td>\n      <td>TPU</td>\n      <td>1.0</td>\n      <td>1.0</td>\n      <td>[3846282, 3504440, 3850372, 4771268, 3850054, ...</td>\n      <td>[35.0, 35.5, 36.0, 37.0, 37.5, 38.0, 38.5, 39....</td>\n      <td>0</td>\n    </tr>\n    <tr>\n      <th>622</th>\n      <td>4771321</td>\n      <td>4062862905509</td>\n      <td>Plateau Pumps Effektleder silber</td>\n      <td>silber</td>\n      <td>61.260.61</td>\n      <td>6590677</td>\n      <td>315569</td>\n      <td>w</td>\n      <td>PT</td>\n      <td>F-S</td>\n      <td>...</td>\n      <td>35.5</td>\n      <td>3.0</td>\n      <td>4.0</td>\n      <td>0.0</td>\n      <td>EVA</td>\n      <td>0.0</td>\n      <td>1.0</td>\n      <td>[4771321, 4771326, 4771325, 4771327, 4771322, ...</td>\n      <td>[35.0, 35.5, 36.0, 37.0, 37.5, 38.0, 38.5, 39....</td>\n      <td>14</td>\n    </tr>\n    <tr>\n      <th>720</th>\n      <td>3850944</td>\n      <td>4062862925996</td>\n      <td>Eleganter Pumps Rauleder rosa</td>\n      <td>rosa</td>\n      <td>55.380.14</td>\n      <td>6590677</td>\n      <td>315573</td>\n      <td>w</td>\n      <td>PT</td>\n      <td>H-W</td>\n      <td>...</td>\n      <td>35.0</td>\n      <td>2.5</td>\n      <td>3.0</td>\n      <td>0.0</td>\n      <td>TPU</td>\n      <td>0.0</td>\n      <td>1.0</td>\n      <td>[3850944, 4846948, 4846936, 5184972, 5184966, ...</td>\n      <td>[35.0, 35.5, 36.0, 37.0, 37.5, 38.0, 38.5, 39....</td>\n      <td>8</td>\n    </tr>\n    <tr>\n      <th>795</th>\n      <td>4770125</td>\n      <td>4062862810346</td>\n      <td>Pantolette Rauleder schwarz</td>\n      <td>schwarz</td>\n      <td>66.743.47</td>\n      <td>6590678</td>\n      <td>315572</td>\n      <td>w</td>\n      <td>PT</td>\n      <td>F-S</td>\n      <td>...</td>\n      <td>38.0</td>\n      <td>5.0</td>\n      <td>8.0</td>\n      <td>0.0</td>\n      <td>TR</td>\n      <td>0.0</td>\n      <td>1.0</td>\n      <td>[4770125, 5336309, 5336297, 4770124, 5336298, ...</td>\n      <td>[35.0, 35.5, 36.0, 37.0, 37.5, 38.0, 38.5, 39....</td>\n      <td>0</td>\n    </tr>\n    <tr>\n      <th>1218</th>\n      <td>6113376</td>\n      <td>4064032454244</td>\n      <td>Biker- / Combat Boot Rauleder braun</td>\n      <td>braun</td>\n      <td>72.704.41</td>\n      <td>6590678</td>\n      <td>5014852</td>\n      <td>w</td>\n      <td>PT</td>\n      <td>H-W</td>\n      <td>...</td>\n      <td>39.0</td>\n      <td>6.0</td>\n      <td>10.0</td>\n      <td>18.0</td>\n      <td>TR</td>\n      <td>0.0</td>\n      <td>0.0</td>\n      <td>[6113376, 6116055, 6116347, 6113377, 6113382, ...</td>\n      <td>[35.0, 35.5, 36.0, 37.0, 37.5, 38.0, 38.5, 39....</td>\n      <td>3</td>\n    </tr>\n    <tr>\n      <th>1326</th>\n      <td>6114331</td>\n      <td>4064032421734</td>\n      <td>Sportlicher Stiefel Glattleder braun</td>\n      <td>braun</td>\n      <td>72.799.24</td>\n      <td>6590678</td>\n      <td>5014850</td>\n      <td>w</td>\n      <td>SK</td>\n      <td>H-W</td>\n      <td>...</td>\n      <td>36.0</td>\n      <td>3.5</td>\n      <td>5.0</td>\n      <td>42.0</td>\n      <td>TR</td>\n      <td>1.0</td>\n      <td>1.0</td>\n      <td>[6114331, 6112111, 6639919, 6112110, 6639915, ...</td>\n      <td>[35.0, 35.5, 36.0, 37.0, 37.5, 38.0, 38.5, 39....</td>\n      <td>3</td>\n    </tr>\n    <tr>\n      <th>1811</th>\n      <td>7592808</td>\n      <td>4065171055422</td>\n      <td>Eleganter Ballerina Glattleder schwarz</td>\n      <td>schwarz</td>\n      <td>81.301.30</td>\n      <td>6590677</td>\n      <td>315576</td>\n      <td>w</td>\n      <td>PT</td>\n      <td>F-S</td>\n      <td>...</td>\n      <td>39.0</td>\n      <td>6.0</td>\n      <td>10.0</td>\n      <td>0.0</td>\n      <td>TPU</td>\n      <td>0.0</td>\n      <td>0.0</td>\n      <td>[7592808, 7592804, 7592806, 7592811, 7592805, ...</td>\n      <td>[35.0, 36.0, 37.0, 37.5, 38.0, 38.5, 39.0, 40....</td>\n      <td>0</td>\n    </tr>\n    <tr>\n      <th>1860</th>\n      <td>7589216</td>\n      <td>4064032401354</td>\n      <td>Riemchensandale Glattleder rosa</td>\n      <td>rosa</td>\n      <td>81.710.20</td>\n      <td>6590677</td>\n      <td>315563</td>\n      <td>w</td>\n      <td>PT</td>\n      <td>F-S</td>\n      <td>...</td>\n      <td>43.0</td>\n      <td>9.0</td>\n      <td>16.0</td>\n      <td>0.0</td>\n      <td>TPU</td>\n      <td>0.0</td>\n      <td>0.0</td>\n      <td>[7589216, 7589204, 7589215, 7589209, 7589213, ...</td>\n      <td>[35.0, 35.5, 36.0, 37.0, 37.5, 38.0, 38.5, 39....</td>\n      <td>8</td>\n    </tr>\n    <tr>\n      <th>1951</th>\n      <td>7800773</td>\n      <td>4064032948538</td>\n      <td>Slip-on Suède beige</td>\n      <td>beige</td>\n      <td>84.213.14</td>\n      <td>6590677</td>\n      <td>315576</td>\n      <td>w</td>\n      <td>PT</td>\n      <td>F-S</td>\n      <td>...</td>\n      <td>43.0</td>\n      <td>9.0</td>\n      <td>16.0</td>\n      <td>0.0</td>\n      <td>TPU</td>\n      <td>1.0</td>\n      <td>1.0</td>\n      <td>[7800773, 7799248, 7800435, 8531254, 8531265, ...</td>\n      <td>[37.0, 38.0, 39.0, 40.0, 40.5, 41.0, 43.0, 44.0]</td>\n      <td>6</td>\n    </tr>\n  </tbody>\n</table>\n<p>10 rows × 57 columns</p>\n</div>"
     },
     "metadata": {},
     "output_type": "display_data"
    },
    {
     "name": "stdout",
     "output_type": "stream",
     "text": [
      "scores:  [0.02741655 0.02274698 0.02273702 0.02264103 0.02191615 0.02052831\n",
      " 0.02041268 0.01939073 0.01890537 0.01858329]\n"
     ]
    }
   ],
   "source": [
    "def get_random_customer_from_test_data():\n",
    "    return next(iter(test.take(1)))['customer_id'].numpy()\n",
    "\n",
    "def display_item_ids(item_ids):\n",
    "    display(product_data[product_data.main_product_id.isin(item_ids) ])\n",
    "\n",
    "def display_products_by_customer_id(customer_id):\n",
    "    display_item_ids(pandas_interaction_data[pandas_interaction_data.customer_id ==  customer_id].main_product_id.tolist())\n",
    "    \n",
    "\n",
    "index = tfrs.layers.factorized_top_k.BruteForce(model.user_embedding)\n",
    "index.index_from_dataset(\n",
    "    product_ids_dataset.batch(100).map(lambda id: (id, model.product_model(id))))\n",
    "\n",
    "def predict_user(user_id):\n",
    "    print('predicting user: ', user_id)\n",
    "    print('user already bought following products: ')\n",
    "    display_products_by_customer_id(user_id)\n",
    "    \n",
    "    score, predicted_product_ids = index(np.array([user_id]))\n",
    "    \n",
    "    print('predicted products: ')\n",
    "    display_item_ids(predicted_product_ids[0].numpy())\n",
    "    print('scores: ', score[0].numpy())\n",
    "\n",
    "\n",
    "user_id = get_random_customer_from_test_data()\n",
    "\n",
    "predict_user(user_id)"
   ],
   "metadata": {
    "collapsed": false,
    "ExecuteTime": {
     "end_time": "2023-09-21T09:12:19.183308Z",
     "start_time": "2023-09-21T09:12:19.047749Z"
    }
   },
   "id": "d8785689b14ad90"
  },
  {
   "cell_type": "code",
   "execution_count": 17,
   "outputs": [
    {
     "name": "stdout",
     "output_type": "stream",
     "text": [
      "predicting user:  9785974\n",
      "user already bought following products: \n"
     ]
    },
    {
     "data": {
      "text/plain": "      main_product_id  productNumber              productName  \\\n1022          5386334  4062862555599  Slipper Glattleder grau   \n\n     productColorName articleNumber  brand__id  mainCategory__id gender  \\\n1022             grau     62.449.61    6590678            315576      w   \n\n     originCountry line  ...  sizeEu sizeUk  sizeIndex  shaftLength__value  \\\n1022            PT  F-S  ...    37.0    4.0        6.0                 0.0   \n\n      sole  isTransferee  isSuccessor  \\\n1022   EVA           0.0          0.0   \n\n                                 duplicate_product__ids  \\\n1022  [5386334, 5386338, 5386341, 5386339, 5386333, ...   \n\n                                          product_sizes color_mapped  \n1022  [35.0, 35.5, 36.0, 37.0, 37.5, 38.0, 38.5, 39....            4  \n\n[1 rows x 57 columns]",
      "text/html": "<div>\n<style scoped>\n    .dataframe tbody tr th:only-of-type {\n        vertical-align: middle;\n    }\n\n    .dataframe tbody tr th {\n        vertical-align: top;\n    }\n\n    .dataframe thead th {\n        text-align: right;\n    }\n</style>\n<table border=\"1\" class=\"dataframe\">\n  <thead>\n    <tr style=\"text-align: right;\">\n      <th></th>\n      <th>main_product_id</th>\n      <th>productNumber</th>\n      <th>productName</th>\n      <th>productColorName</th>\n      <th>articleNumber</th>\n      <th>brand__id</th>\n      <th>mainCategory__id</th>\n      <th>gender</th>\n      <th>originCountry</th>\n      <th>line</th>\n      <th>...</th>\n      <th>sizeEu</th>\n      <th>sizeUk</th>\n      <th>sizeIndex</th>\n      <th>shaftLength__value</th>\n      <th>sole</th>\n      <th>isTransferee</th>\n      <th>isSuccessor</th>\n      <th>duplicate_product__ids</th>\n      <th>product_sizes</th>\n      <th>color_mapped</th>\n    </tr>\n  </thead>\n  <tbody>\n    <tr>\n      <th>1022</th>\n      <td>5386334</td>\n      <td>4062862555599</td>\n      <td>Slipper Glattleder grau</td>\n      <td>grau</td>\n      <td>62.449.61</td>\n      <td>6590678</td>\n      <td>315576</td>\n      <td>w</td>\n      <td>PT</td>\n      <td>F-S</td>\n      <td>...</td>\n      <td>37.0</td>\n      <td>4.0</td>\n      <td>6.0</td>\n      <td>0.0</td>\n      <td>EVA</td>\n      <td>0.0</td>\n      <td>0.0</td>\n      <td>[5386334, 5386338, 5386341, 5386339, 5386333, ...</td>\n      <td>[35.0, 35.5, 36.0, 37.0, 37.5, 38.0, 38.5, 39....</td>\n      <td>4</td>\n    </tr>\n  </tbody>\n</table>\n<p>1 rows × 57 columns</p>\n</div>"
     },
     "metadata": {},
     "output_type": "display_data"
    },
    {
     "name": "stdout",
     "output_type": "stream",
     "text": [
      "predicted products: \n"
     ]
    },
    {
     "data": {
      "text/plain": "      main_product_id  productNumber  \\\n154           3693255  4062862067450   \n188           3696977  4062862931959   \n216           3743199  4062862288329   \n251           3693104  4062862092650   \n417           4031030  4062862029663   \n575           4846759  4062862518082   \n674           3835430  4062862669852   \n693           4771778  4062862871309   \n963           5337018  4064032098356   \n1652          7233592  4064032948323   \n\n                                         productName productColorName  \\\n154               Schnürstiefelette Glattleder braun            braun   \n188                      Chelsea Boot Glattleder rot              rot   \n216           Plateau Stiefelette Glattleder schwarz          schwarz   \n251                  Schnürstiefelette Rauleder blau             blau   \n417                     Sneaker low Glattleder braun            braun   \n575                    Keilsandalette Rauleder braun            braun   \n674                 Eleganter Pumps Lederimitat rosa             rosa   \n693   Sneaker low Materialmix Leder/Lederimitat weiß             weiß   \n963                    Plateau Sandale Rauleder grün             grün   \n1652             Winterstiefelette Lackleder schwarz          schwarz   \n\n     articleNumber  brand__id  mainCategory__id gender originCountry line  \\\n154      51.642.20    6590677            315587      w            PT  H-W   \n188      54.670.55    6590677            315582      w            PT  H-W   \n216      55.771.27    6590677            315595      w            PT  H-W   \n251     0873.90.11    3692257            315587      w            PT  H-W   \n417      53.492.25    6590677            315567      w            PT  H-W   \n575      64.642.18    6590677            315564      w            PT  F-S   \n674      51.400.74    6590677            315573      w            PT  H-W   \n693      66.946.51    4997827            315567      w            VN  F-S   \n963      64.661.19    6590677            315568      w            SK  F-S   \n1652     71.720.70    6590677            315580      w            PT  H-W   \n\n      ...  sizeEu sizeUk  sizeIndex  shaftLength__value       sole  \\\n154   ...    40.0    6.5       11.0                16.0        EVA   \n188   ...    36.0    3.5        5.0                14.0         TR   \n216   ...    44.0    9.5       17.0                11.0        TPU   \n251   ...    42.0    8.0       14.0                14.0         TR   \n417   ...    40.5    7.0       12.0                 0.0     PU-TPU   \n575   ...    36.0    3.5        5.0                 0.0         TR   \n674   ...    40.5    7.0       12.0                 0.0        TPU   \n693   ...    40.5    7.0       12.0                 0.0  Gummi-EVA   \n963   ...    36.0    3.5        5.0                 0.0     PU-TPU   \n1652  ...    39.0    6.0       10.0                15.0     PU-TPU   \n\n      isTransferee  isSuccessor  \\\n154            0.0          0.0   \n188            0.0          0.0   \n216            0.0          0.0   \n251            0.0          0.0   \n417            0.0          0.0   \n575            0.0          0.0   \n674            1.0          1.0   \n693            0.0          1.0   \n963            0.0          0.0   \n1652           0.0          0.0   \n\n                                 duplicate_product__ids  \\\n154   [3693255, 3711711, 3692820, 3711704, 3692825, ...   \n188   [3696977, 3696983, 3743546, 3743541, 3696988, ...   \n216   [3743199, 3800405, 3788343, 3788347, 3743194, ...   \n251   [3693104, 3693106, 3843334, 3693107, 3693103, ...   \n417   [4031030, 4031029, 4031028, 4031027, 4031026, ...   \n575   [4846759, 4772166, 4775821, 4775817, 4772179, ...   \n674   [3835430, 3834613, 3834610, 4772475, 4772476, ...   \n693   [4771778, 4771777, 4771776, 4774059, 4774070, ...   \n963   [5337018, 5337019, 5337024, 5338595, 5338589, ...   \n1652  [7233592, 7233591, 7233593, 7233588, 7233594, ...   \n\n                                          product_sizes color_mapped  \n154   [35.0, 35.5, 36.0, 37.0, 37.5, 38.0, 38.5, 39....            3  \n188   [35.0, 35.5, 36.0, 37.0, 37.5, 38.0, 38.5, 39....            5  \n216   [35.0, 35.5, 36.0, 37.0, 37.5, 38.0, 38.5, 39....            0  \n251   [35.0, 35.5, 36.0, 37.0, 37.5, 38.0, 38.5, 39....            1  \n417   [35.0, 35.5, 36.0, 37.0, 37.5, 38.0, 38.5, 39....            3  \n575   [35.0, 35.5, 36.0, 37.0, 37.5, 38.0, 38.5, 39....            3  \n674   [35.0, 35.5, 36.0, 37.0, 37.5, 38.0, 38.5, 39....            8  \n693   [35.0, 35.5, 36.0, 37.0, 37.5, 38.0, 38.5, 39....            2  \n963   [35.0, 35.5, 36.0, 37.0, 37.5, 38.0, 38.5, 39....           11  \n1652  [35.5, 36.0, 37.0, 37.5, 38.0, 38.5, 39.0, 40....            0  \n\n[10 rows x 57 columns]",
      "text/html": "<div>\n<style scoped>\n    .dataframe tbody tr th:only-of-type {\n        vertical-align: middle;\n    }\n\n    .dataframe tbody tr th {\n        vertical-align: top;\n    }\n\n    .dataframe thead th {\n        text-align: right;\n    }\n</style>\n<table border=\"1\" class=\"dataframe\">\n  <thead>\n    <tr style=\"text-align: right;\">\n      <th></th>\n      <th>main_product_id</th>\n      <th>productNumber</th>\n      <th>productName</th>\n      <th>productColorName</th>\n      <th>articleNumber</th>\n      <th>brand__id</th>\n      <th>mainCategory__id</th>\n      <th>gender</th>\n      <th>originCountry</th>\n      <th>line</th>\n      <th>...</th>\n      <th>sizeEu</th>\n      <th>sizeUk</th>\n      <th>sizeIndex</th>\n      <th>shaftLength__value</th>\n      <th>sole</th>\n      <th>isTransferee</th>\n      <th>isSuccessor</th>\n      <th>duplicate_product__ids</th>\n      <th>product_sizes</th>\n      <th>color_mapped</th>\n    </tr>\n  </thead>\n  <tbody>\n    <tr>\n      <th>154</th>\n      <td>3693255</td>\n      <td>4062862067450</td>\n      <td>Schnürstiefelette Glattleder braun</td>\n      <td>braun</td>\n      <td>51.642.20</td>\n      <td>6590677</td>\n      <td>315587</td>\n      <td>w</td>\n      <td>PT</td>\n      <td>H-W</td>\n      <td>...</td>\n      <td>40.0</td>\n      <td>6.5</td>\n      <td>11.0</td>\n      <td>16.0</td>\n      <td>EVA</td>\n      <td>0.0</td>\n      <td>0.0</td>\n      <td>[3693255, 3711711, 3692820, 3711704, 3692825, ...</td>\n      <td>[35.0, 35.5, 36.0, 37.0, 37.5, 38.0, 38.5, 39....</td>\n      <td>3</td>\n    </tr>\n    <tr>\n      <th>188</th>\n      <td>3696977</td>\n      <td>4062862931959</td>\n      <td>Chelsea Boot Glattleder rot</td>\n      <td>rot</td>\n      <td>54.670.55</td>\n      <td>6590677</td>\n      <td>315582</td>\n      <td>w</td>\n      <td>PT</td>\n      <td>H-W</td>\n      <td>...</td>\n      <td>36.0</td>\n      <td>3.5</td>\n      <td>5.0</td>\n      <td>14.0</td>\n      <td>TR</td>\n      <td>0.0</td>\n      <td>0.0</td>\n      <td>[3696977, 3696983, 3743546, 3743541, 3696988, ...</td>\n      <td>[35.0, 35.5, 36.0, 37.0, 37.5, 38.0, 38.5, 39....</td>\n      <td>5</td>\n    </tr>\n    <tr>\n      <th>216</th>\n      <td>3743199</td>\n      <td>4062862288329</td>\n      <td>Plateau Stiefelette Glattleder schwarz</td>\n      <td>schwarz</td>\n      <td>55.771.27</td>\n      <td>6590677</td>\n      <td>315595</td>\n      <td>w</td>\n      <td>PT</td>\n      <td>H-W</td>\n      <td>...</td>\n      <td>44.0</td>\n      <td>9.5</td>\n      <td>17.0</td>\n      <td>11.0</td>\n      <td>TPU</td>\n      <td>0.0</td>\n      <td>0.0</td>\n      <td>[3743199, 3800405, 3788343, 3788347, 3743194, ...</td>\n      <td>[35.0, 35.5, 36.0, 37.0, 37.5, 38.0, 38.5, 39....</td>\n      <td>0</td>\n    </tr>\n    <tr>\n      <th>251</th>\n      <td>3693104</td>\n      <td>4062862092650</td>\n      <td>Schnürstiefelette Rauleder blau</td>\n      <td>blau</td>\n      <td>0873.90.11</td>\n      <td>3692257</td>\n      <td>315587</td>\n      <td>w</td>\n      <td>PT</td>\n      <td>H-W</td>\n      <td>...</td>\n      <td>42.0</td>\n      <td>8.0</td>\n      <td>14.0</td>\n      <td>14.0</td>\n      <td>TR</td>\n      <td>0.0</td>\n      <td>0.0</td>\n      <td>[3693104, 3693106, 3843334, 3693107, 3693103, ...</td>\n      <td>[35.0, 35.5, 36.0, 37.0, 37.5, 38.0, 38.5, 39....</td>\n      <td>1</td>\n    </tr>\n    <tr>\n      <th>417</th>\n      <td>4031030</td>\n      <td>4062862029663</td>\n      <td>Sneaker low Glattleder braun</td>\n      <td>braun</td>\n      <td>53.492.25</td>\n      <td>6590677</td>\n      <td>315567</td>\n      <td>w</td>\n      <td>PT</td>\n      <td>H-W</td>\n      <td>...</td>\n      <td>40.5</td>\n      <td>7.0</td>\n      <td>12.0</td>\n      <td>0.0</td>\n      <td>PU-TPU</td>\n      <td>0.0</td>\n      <td>0.0</td>\n      <td>[4031030, 4031029, 4031028, 4031027, 4031026, ...</td>\n      <td>[35.0, 35.5, 36.0, 37.0, 37.5, 38.0, 38.5, 39....</td>\n      <td>3</td>\n    </tr>\n    <tr>\n      <th>575</th>\n      <td>4846759</td>\n      <td>4062862518082</td>\n      <td>Keilsandalette Rauleder braun</td>\n      <td>braun</td>\n      <td>64.642.18</td>\n      <td>6590677</td>\n      <td>315564</td>\n      <td>w</td>\n      <td>PT</td>\n      <td>F-S</td>\n      <td>...</td>\n      <td>36.0</td>\n      <td>3.5</td>\n      <td>5.0</td>\n      <td>0.0</td>\n      <td>TR</td>\n      <td>0.0</td>\n      <td>0.0</td>\n      <td>[4846759, 4772166, 4775821, 4775817, 4772179, ...</td>\n      <td>[35.0, 35.5, 36.0, 37.0, 37.5, 38.0, 38.5, 39....</td>\n      <td>3</td>\n    </tr>\n    <tr>\n      <th>674</th>\n      <td>3835430</td>\n      <td>4062862669852</td>\n      <td>Eleganter Pumps Lederimitat rosa</td>\n      <td>rosa</td>\n      <td>51.400.74</td>\n      <td>6590677</td>\n      <td>315573</td>\n      <td>w</td>\n      <td>PT</td>\n      <td>H-W</td>\n      <td>...</td>\n      <td>40.5</td>\n      <td>7.0</td>\n      <td>12.0</td>\n      <td>0.0</td>\n      <td>TPU</td>\n      <td>1.0</td>\n      <td>1.0</td>\n      <td>[3835430, 3834613, 3834610, 4772475, 4772476, ...</td>\n      <td>[35.0, 35.5, 36.0, 37.0, 37.5, 38.0, 38.5, 39....</td>\n      <td>8</td>\n    </tr>\n    <tr>\n      <th>693</th>\n      <td>4771778</td>\n      <td>4062862871309</td>\n      <td>Sneaker low Materialmix Leder/Lederimitat weiß</td>\n      <td>weiß</td>\n      <td>66.946.51</td>\n      <td>4997827</td>\n      <td>315567</td>\n      <td>w</td>\n      <td>VN</td>\n      <td>F-S</td>\n      <td>...</td>\n      <td>40.5</td>\n      <td>7.0</td>\n      <td>12.0</td>\n      <td>0.0</td>\n      <td>Gummi-EVA</td>\n      <td>0.0</td>\n      <td>1.0</td>\n      <td>[4771778, 4771777, 4771776, 4774059, 4774070, ...</td>\n      <td>[35.0, 35.5, 36.0, 37.0, 37.5, 38.0, 38.5, 39....</td>\n      <td>2</td>\n    </tr>\n    <tr>\n      <th>963</th>\n      <td>5337018</td>\n      <td>4064032098356</td>\n      <td>Plateau Sandale Rauleder grün</td>\n      <td>grün</td>\n      <td>64.661.19</td>\n      <td>6590677</td>\n      <td>315568</td>\n      <td>w</td>\n      <td>SK</td>\n      <td>F-S</td>\n      <td>...</td>\n      <td>36.0</td>\n      <td>3.5</td>\n      <td>5.0</td>\n      <td>0.0</td>\n      <td>PU-TPU</td>\n      <td>0.0</td>\n      <td>0.0</td>\n      <td>[5337018, 5337019, 5337024, 5338595, 5338589, ...</td>\n      <td>[35.0, 35.5, 36.0, 37.0, 37.5, 38.0, 38.5, 39....</td>\n      <td>11</td>\n    </tr>\n    <tr>\n      <th>1652</th>\n      <td>7233592</td>\n      <td>4064032948323</td>\n      <td>Winterstiefelette Lackleder schwarz</td>\n      <td>schwarz</td>\n      <td>71.720.70</td>\n      <td>6590677</td>\n      <td>315580</td>\n      <td>w</td>\n      <td>PT</td>\n      <td>H-W</td>\n      <td>...</td>\n      <td>39.0</td>\n      <td>6.0</td>\n      <td>10.0</td>\n      <td>15.0</td>\n      <td>PU-TPU</td>\n      <td>0.0</td>\n      <td>0.0</td>\n      <td>[7233592, 7233591, 7233593, 7233588, 7233594, ...</td>\n      <td>[35.5, 36.0, 37.0, 37.5, 38.0, 38.5, 39.0, 40....</td>\n      <td>0</td>\n    </tr>\n  </tbody>\n</table>\n<p>10 rows × 57 columns</p>\n</div>"
     },
     "metadata": {},
     "output_type": "display_data"
    },
    {
     "name": "stdout",
     "output_type": "stream",
     "text": [
      "scores:  [0.027441   0.02647044 0.02423124 0.02345612 0.02302378 0.02164039\n",
      " 0.02124399 0.02070319 0.02057302 0.02007197]\n"
     ]
    }
   ],
   "source": [
    "user_id = next(iter(train.take(1)))['customer_id'].numpy()\n",
    "predict_user(user_id)"
   ],
   "metadata": {
    "collapsed": false,
    "ExecuteTime": {
     "end_time": "2023-09-21T09:12:19.185991Z",
     "start_time": "2023-09-21T09:12:19.146646Z"
    }
   },
   "id": "ccdee48c0a0d68ae"
  },
  {
   "cell_type": "code",
   "execution_count": 18,
   "outputs": [
    {
     "name": "stderr",
     "output_type": "stream",
     "text": [
      "/Users/thomashuber/miniconda3/envs/m1-master-thesis/lib/python3.9/site-packages/keras/src/engine/training.py:3000: UserWarning: You are saving your model as an HDF5 file via `model.save()`. This file format is considered legacy. We recommend using instead the native Keras format, e.g. `model.save('my_model.keras')`.\n",
      "  saving_api.save_model(\n"
     ]
    },
    {
     "ename": "NotImplementedError",
     "evalue": "Saving the model to HDF5 format requires the model to be a Functional model or a Sequential model. It does not work for subclassed models, because such models are defined via the body of a Python method, which isn't safely serializable. Consider saving to the Tensorflow SavedModel format (by setting save_format=\"tf\") or using `save_weights`.",
     "output_type": "error",
     "traceback": [
      "\u001B[0;31m---------------------------------------------------------------------------\u001B[0m",
      "\u001B[0;31mNotImplementedError\u001B[0m                       Traceback (most recent call last)",
      "Cell \u001B[0;32mIn[18], line 1\u001B[0m\n\u001B[0;32m----> 1\u001B[0m \u001B[43mmodel\u001B[49m\u001B[38;5;241;43m.\u001B[39;49m\u001B[43msave\u001B[49m\u001B[43m(\u001B[49m\u001B[38;5;124;43m'\u001B[39;49m\u001B[38;5;124;43m../../models/gabor/gabor_tensorflow_reco_all_data_3_epochs_v1.h5\u001B[39;49m\u001B[38;5;124;43m'\u001B[39;49m\u001B[43m)\u001B[49m\n",
      "File \u001B[0;32m~/miniconda3/envs/m1-master-thesis/lib/python3.9/site-packages/keras/src/utils/traceback_utils.py:70\u001B[0m, in \u001B[0;36mfilter_traceback.<locals>.error_handler\u001B[0;34m(*args, **kwargs)\u001B[0m\n\u001B[1;32m     67\u001B[0m     filtered_tb \u001B[38;5;241m=\u001B[39m _process_traceback_frames(e\u001B[38;5;241m.\u001B[39m__traceback__)\n\u001B[1;32m     68\u001B[0m     \u001B[38;5;66;03m# To get the full stack trace, call:\u001B[39;00m\n\u001B[1;32m     69\u001B[0m     \u001B[38;5;66;03m# `tf.debugging.disable_traceback_filtering()`\u001B[39;00m\n\u001B[0;32m---> 70\u001B[0m     \u001B[38;5;28;01mraise\u001B[39;00m e\u001B[38;5;241m.\u001B[39mwith_traceback(filtered_tb) \u001B[38;5;28;01mfrom\u001B[39;00m \u001B[38;5;28mNone\u001B[39m\n\u001B[1;32m     71\u001B[0m \u001B[38;5;28;01mfinally\u001B[39;00m:\n\u001B[1;32m     72\u001B[0m     \u001B[38;5;28;01mdel\u001B[39;00m filtered_tb\n",
      "File \u001B[0;32m~/miniconda3/envs/m1-master-thesis/lib/python3.9/site-packages/keras/src/saving/legacy/save.py:152\u001B[0m, in \u001B[0;36msave_model\u001B[0;34m(model, filepath, overwrite, include_optimizer, save_format, signatures, options, save_traces)\u001B[0m\n\u001B[1;32m    143\u001B[0m \u001B[38;5;28;01mif\u001B[39;00m (\n\u001B[1;32m    144\u001B[0m     save_format \u001B[38;5;241m==\u001B[39m \u001B[38;5;124m\"\u001B[39m\u001B[38;5;124mh5\u001B[39m\u001B[38;5;124m\"\u001B[39m\n\u001B[1;32m    145\u001B[0m     \u001B[38;5;129;01mor\u001B[39;00m (h5py \u001B[38;5;129;01mis\u001B[39;00m \u001B[38;5;129;01mnot\u001B[39;00m \u001B[38;5;28;01mNone\u001B[39;00m \u001B[38;5;129;01mand\u001B[39;00m \u001B[38;5;28misinstance\u001B[39m(filepath, h5py\u001B[38;5;241m.\u001B[39mFile))\n\u001B[1;32m    146\u001B[0m     \u001B[38;5;129;01mor\u001B[39;00m saving_utils\u001B[38;5;241m.\u001B[39mis_hdf5_filepath(filepath)\n\u001B[1;32m    147\u001B[0m ):\n\u001B[1;32m    148\u001B[0m     \u001B[38;5;66;03m# TODO(b/130258301): add utility method for detecting model type.\u001B[39;00m\n\u001B[1;32m    149\u001B[0m     \u001B[38;5;28;01mif\u001B[39;00m \u001B[38;5;129;01mnot\u001B[39;00m model\u001B[38;5;241m.\u001B[39m_is_graph_network \u001B[38;5;129;01mand\u001B[39;00m \u001B[38;5;129;01mnot\u001B[39;00m \u001B[38;5;28misinstance\u001B[39m(\n\u001B[1;32m    150\u001B[0m         model, sequential\u001B[38;5;241m.\u001B[39mSequential\n\u001B[1;32m    151\u001B[0m     ):\n\u001B[0;32m--> 152\u001B[0m         \u001B[38;5;28;01mraise\u001B[39;00m \u001B[38;5;167;01mNotImplementedError\u001B[39;00m(\n\u001B[1;32m    153\u001B[0m             \u001B[38;5;124m\"\u001B[39m\u001B[38;5;124mSaving the model to HDF5 format requires the model to be a \u001B[39m\u001B[38;5;124m\"\u001B[39m\n\u001B[1;32m    154\u001B[0m             \u001B[38;5;124m\"\u001B[39m\u001B[38;5;124mFunctional model or a Sequential model. It does not work for \u001B[39m\u001B[38;5;124m\"\u001B[39m\n\u001B[1;32m    155\u001B[0m             \u001B[38;5;124m\"\u001B[39m\u001B[38;5;124msubclassed models, because such models are defined via the \u001B[39m\u001B[38;5;124m\"\u001B[39m\n\u001B[1;32m    156\u001B[0m             \u001B[38;5;124m\"\u001B[39m\u001B[38;5;124mbody of a Python method, which isn\u001B[39m\u001B[38;5;124m'\u001B[39m\u001B[38;5;124mt safely serializable. \u001B[39m\u001B[38;5;124m\"\u001B[39m\n\u001B[1;32m    157\u001B[0m             \u001B[38;5;124m\"\u001B[39m\u001B[38;5;124mConsider saving to the Tensorflow SavedModel format (by \u001B[39m\u001B[38;5;124m\"\u001B[39m\n\u001B[1;32m    158\u001B[0m             \u001B[38;5;124m'\u001B[39m\u001B[38;5;124msetting save_format=\u001B[39m\u001B[38;5;124m\"\u001B[39m\u001B[38;5;124mtf\u001B[39m\u001B[38;5;124m\"\u001B[39m\u001B[38;5;124m) or using `save_weights`.\u001B[39m\u001B[38;5;124m'\u001B[39m\n\u001B[1;32m    159\u001B[0m         )\n\u001B[1;32m    160\u001B[0m     hdf5_format\u001B[38;5;241m.\u001B[39msave_model_to_hdf5(\n\u001B[1;32m    161\u001B[0m         model, filepath, overwrite, include_optimizer\n\u001B[1;32m    162\u001B[0m     )\n\u001B[1;32m    163\u001B[0m \u001B[38;5;28;01melse\u001B[39;00m:\n",
      "\u001B[0;31mNotImplementedError\u001B[0m: Saving the model to HDF5 format requires the model to be a Functional model or a Sequential model. It does not work for subclassed models, because such models are defined via the body of a Python method, which isn't safely serializable. Consider saving to the Tensorflow SavedModel format (by setting save_format=\"tf\") or using `save_weights`."
     ]
    }
   ],
   "source": [
    "model.save('../../models/gabor/gabor_tensorflow_reco_all_data_3_epochs_v1.h5')"
   ],
   "metadata": {
    "collapsed": false,
    "ExecuteTime": {
     "end_time": "2023-09-21T09:12:19.361519Z",
     "start_time": "2023-09-21T09:12:19.179232Z"
    }
   },
   "id": "eb395206e9a41cc7"
  },
  {
   "cell_type": "code",
   "execution_count": null,
   "outputs": [],
   "source": [],
   "metadata": {
    "collapsed": false,
    "ExecuteTime": {
     "start_time": "2023-09-21T09:12:19.283991Z"
    }
   },
   "id": "313096ee48653126"
  }
 ],
 "metadata": {
  "kernelspec": {
   "display_name": "Python 3",
   "language": "python",
   "name": "python3"
  },
  "language_info": {
   "codemirror_mode": {
    "name": "ipython",
    "version": 2
   },
   "file_extension": ".py",
   "mimetype": "text/x-python",
   "name": "python",
   "nbconvert_exporter": "python",
   "pygments_lexer": "ipython2",
   "version": "2.7.6"
  }
 },
 "nbformat": 4,
 "nbformat_minor": 5
}
