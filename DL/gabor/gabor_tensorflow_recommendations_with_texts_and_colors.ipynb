{
 "cells": [
  {
   "cell_type": "code",
   "execution_count": 1,
   "id": "initial_id",
   "metadata": {
    "collapsed": true,
    "ExecuteTime": {
     "end_time": "2023-12-01T08:15:02.069414Z",
     "start_time": "2023-12-01T08:14:59.378221Z"
    }
   },
   "outputs": [],
   "source": [
    "#%pip install -q tensorflow-recommenders\n",
    "import tensorflow as tf\n",
    "import pandas as pd\n",
    "from tensorflow.keras.layers import Embedding, Dense, StringLookup\n",
    "from tensorflow.keras import Sequential\n",
    "import tensorflow_recommenders as tfrs\n",
    "from tensorflow.keras.metrics import AUC\n",
    "import math\n",
    "import numpy as np\n",
    "from tensorflow.keras.preprocessing.text import Tokenizer\n",
    "from tensorflow.keras.preprocessing.sequence import pad_sequences\n",
    "import keras\n",
    "from keras.src.layers import LSTM"
   ]
  },
  {
   "cell_type": "code",
   "execution_count": 2,
   "outputs": [
    {
     "name": "stdout",
     "output_type": "stream",
     "text": [
      "GPU is available\n"
     ]
    }
   ],
   "source": [
    "if tf.config.list_physical_devices('GPU'):\n",
    "    print(\"GPU is available\")\n",
    "else:\n",
    "    print(\"GPU is not available\")"
   ],
   "metadata": {
    "collapsed": false,
    "ExecuteTime": {
     "end_time": "2023-12-01T08:15:02.078198Z",
     "start_time": "2023-12-01T08:15:02.070489Z"
    }
   },
   "id": "89849bbf9d8a3d88"
  },
  {
   "cell_type": "code",
   "execution_count": 3,
   "outputs": [
    {
     "data": {
      "text/plain": "      customer_id  main_product_id  amount  color_mapped  \\\n0         8972709          3696847       1             2   \n1         5698916          4775789       1             8   \n2         9473882          5096560       1             2   \n3         6753736          3505964       1             4   \n4         5812686           549920       1             0   \n...           ...              ...     ...           ...   \n8995      2017525          4125038       1             6   \n8996      3915170          3505101       1             3   \n8997      9907290          3591570       1             3   \n8998      8275774          3711307       1             0   \n8999      5975233          3477220       1             1   \n\n                                         productName  \n0                        Sneaker low Glattleder weiß  \n1                         Spangenpumps Rauleder rosa  \n2                    Plateau Sandale Glattleder weiß  \n3     Sneaker low Materialmix Leder/Lederimitat grau  \n4              elegante Ballerinas Lackleder schwarz  \n...                                              ...  \n8995              Schnürstiefelette Glattleder beige  \n8996                      Sneaker low Rauleder braun  \n8997             Sneaker low Materialmix Leder braun  \n8998                  Sneaker low Glattleder schwarz  \n8999              Sportliche Ballerina Rauleder blau  \n\n[9000 rows x 5 columns]",
      "text/html": "<div>\n<style scoped>\n    .dataframe tbody tr th:only-of-type {\n        vertical-align: middle;\n    }\n\n    .dataframe tbody tr th {\n        vertical-align: top;\n    }\n\n    .dataframe thead th {\n        text-align: right;\n    }\n</style>\n<table border=\"1\" class=\"dataframe\">\n  <thead>\n    <tr style=\"text-align: right;\">\n      <th></th>\n      <th>customer_id</th>\n      <th>main_product_id</th>\n      <th>amount</th>\n      <th>color_mapped</th>\n      <th>productName</th>\n    </tr>\n  </thead>\n  <tbody>\n    <tr>\n      <th>0</th>\n      <td>8972709</td>\n      <td>3696847</td>\n      <td>1</td>\n      <td>2</td>\n      <td>Sneaker low Glattleder weiß</td>\n    </tr>\n    <tr>\n      <th>1</th>\n      <td>5698916</td>\n      <td>4775789</td>\n      <td>1</td>\n      <td>8</td>\n      <td>Spangenpumps Rauleder rosa</td>\n    </tr>\n    <tr>\n      <th>2</th>\n      <td>9473882</td>\n      <td>5096560</td>\n      <td>1</td>\n      <td>2</td>\n      <td>Plateau Sandale Glattleder weiß</td>\n    </tr>\n    <tr>\n      <th>3</th>\n      <td>6753736</td>\n      <td>3505964</td>\n      <td>1</td>\n      <td>4</td>\n      <td>Sneaker low Materialmix Leder/Lederimitat grau</td>\n    </tr>\n    <tr>\n      <th>4</th>\n      <td>5812686</td>\n      <td>549920</td>\n      <td>1</td>\n      <td>0</td>\n      <td>elegante Ballerinas Lackleder schwarz</td>\n    </tr>\n    <tr>\n      <th>...</th>\n      <td>...</td>\n      <td>...</td>\n      <td>...</td>\n      <td>...</td>\n      <td>...</td>\n    </tr>\n    <tr>\n      <th>8995</th>\n      <td>2017525</td>\n      <td>4125038</td>\n      <td>1</td>\n      <td>6</td>\n      <td>Schnürstiefelette Glattleder beige</td>\n    </tr>\n    <tr>\n      <th>8996</th>\n      <td>3915170</td>\n      <td>3505101</td>\n      <td>1</td>\n      <td>3</td>\n      <td>Sneaker low Rauleder braun</td>\n    </tr>\n    <tr>\n      <th>8997</th>\n      <td>9907290</td>\n      <td>3591570</td>\n      <td>1</td>\n      <td>3</td>\n      <td>Sneaker low Materialmix Leder braun</td>\n    </tr>\n    <tr>\n      <th>8998</th>\n      <td>8275774</td>\n      <td>3711307</td>\n      <td>1</td>\n      <td>0</td>\n      <td>Sneaker low Glattleder schwarz</td>\n    </tr>\n    <tr>\n      <th>8999</th>\n      <td>5975233</td>\n      <td>3477220</td>\n      <td>1</td>\n      <td>1</td>\n      <td>Sportliche Ballerina Rauleder blau</td>\n    </tr>\n  </tbody>\n</table>\n<p>9000 rows × 5 columns</p>\n</div>"
     },
     "metadata": {},
     "output_type": "display_data"
    },
    {
     "data": {
      "text/plain": "      main_product_id  productNumber  \\\n0              557559  4058394021466   \n1              551622  4054452768212   \n2              547193  4054452768427   \n3              549776  4059701687894   \n4              550726  4054452851594   \n...               ...            ...   \n3292         10603553  4066558951733   \n3293         10442948  4065171827272   \n3294         10782704  4251234499207   \n3295         10679703  4066558303617   \n3296         10496278  4065171812513   \n\n                                            productName productColorName  \\\n0              sportliche Ballerinas Glattleder schwarz          schwarz   \n1                     elegante Pumps Glattleder schwarz          schwarz   \n2                            Slipper Glattleder schwarz          schwarz   \n3                             Sneaker low Rauleder blau             blau   \n4     elegante Ballerinas Materialmix Lederimitat sc...          schwarz   \n...                                                 ...              ...   \n3292                Sandale met plateauzool Suède blauw            blauw   \n3293                    Mokassin Materialmix Leder pink             pink   \n3294                                 Shopper ANDIE blau             blau   \n3295                       Elegante pumps Glad leer wit              wit   \n3296                       Sandale compensée Daim beige            beige   \n\n     articleNumber  brand__id  mainCategory__id gender originCountry     line  \\\n0        02.643.57    6590678            315571      w            PT  F-S|H-W   \n1        05.160.37    6590677            315573      w            PT  F-S|H-W   \n2        04.443.27    6590677            315576      w            SK  F-S|H-W   \n3        06.968.46    4997827            315567      w            VN  F-S|H-W   \n4        06.102.67    6590678            315574      w            SK  F-S|H-W   \n...            ...        ...               ...    ...           ...      ...   \n3292     24.764.36    6590677            315568      w            SK      F-S   \n3293     26.090.21    6590678            315590      w            PT      F-S   \n3294        921453     363013            363017      w            DE      F-S   \n3295     21.450.60    6590677            315573      w            PT      F-S   \n3296     24.645.14    6590677            315564      w            PT      F-S   \n\n      ...  sizeEu sizeUk  sizeIndex  shaftLength__value       sole  \\\n0     ...    40.0    6.5       11.0                 0.0      Gummi   \n1     ...    38.0    5.0        8.0                 0.0        EVA   \n2     ...    42.0    8.0       14.0                 0.0     PU-TPU   \n3     ...    39.0    6.0       10.0                 0.0  Gummi-EVA   \n4     ...    37.5    4.5        7.0                 0.0        EVA   \n...   ...     ...    ...        ...                 ...        ...   \n3292  ...    35.0    2.5        3.0                 0.0     PU-TPU   \n3293  ...    40.5    7.0       12.0                 0.0      Gummi   \n3294  ...     NaN    NaN        NaN                 NaN        NaN   \n3295  ...    35.0    2.5        3.0                 0.0        TPU   \n3296  ...    38.0    5.0        8.0                 0.0         TR   \n\n      isTransferee  isSuccessor  \\\n0              0.0          0.0   \n1              0.0          0.0   \n2              0.0          0.0   \n3              0.0          0.0   \n4              0.0          0.0   \n...            ...          ...   \n3292           0.0          0.0   \n3293           0.0          0.0   \n3294           NaN          NaN   \n3295           0.0          0.0   \n3296           0.0          0.0   \n\n                                 duplicate_product__ids  \\\n0     [557559, 549733, 549734, 557553, 589488, 58948...   \n1     [551622, 551505, 551510, 551509, 552973, 55162...   \n2     [547193, 547191, 547196, 547187, 547189, 54719...   \n3     [549776, 550599, 550596, 550593, 550601, 54978...   \n4     [550726, 550736, 550735, 550732, 550728, 55072...   \n...                                                 ...   \n3292                               [10603553, 10544662]   \n3293                               [10442948, 10442949]   \n3294                                         [10782704]   \n3295                                         [10679703]   \n3296                                         [10496278]   \n\n                                          product_sizes color_mapped  \n0     [35.5, 36.0, 37.0, 37.5, 38.0, 38.5, 39.0, 40....            0  \n1     [35.0, 35.5, 36.0, 37.0, 37.5, 38.0, 38.5, 39....            0  \n2     [35.0, 35.5, 36.0, 37.0, 37.5, 38.0, 38.5, 39....            0  \n3     [35.0, 35.5, 36.0, 37.0, 37.5, 38.0, 38.5, 39....            1  \n4     [35.0, 37.0, 37.5, 38.0, 38.5, 39.0, 40.0, 40....            0  \n...                                                 ...          ...  \n3292                                       [35.0, 37.0]           30  \n3293                                       [40.5, 41.0]           56  \n3294                                                 []            1  \n3295                                             [35.0]           33  \n3296                                             [38.0]            6  \n\n[3297 rows x 57 columns]",
      "text/html": "<div>\n<style scoped>\n    .dataframe tbody tr th:only-of-type {\n        vertical-align: middle;\n    }\n\n    .dataframe tbody tr th {\n        vertical-align: top;\n    }\n\n    .dataframe thead th {\n        text-align: right;\n    }\n</style>\n<table border=\"1\" class=\"dataframe\">\n  <thead>\n    <tr style=\"text-align: right;\">\n      <th></th>\n      <th>main_product_id</th>\n      <th>productNumber</th>\n      <th>productName</th>\n      <th>productColorName</th>\n      <th>articleNumber</th>\n      <th>brand__id</th>\n      <th>mainCategory__id</th>\n      <th>gender</th>\n      <th>originCountry</th>\n      <th>line</th>\n      <th>...</th>\n      <th>sizeEu</th>\n      <th>sizeUk</th>\n      <th>sizeIndex</th>\n      <th>shaftLength__value</th>\n      <th>sole</th>\n      <th>isTransferee</th>\n      <th>isSuccessor</th>\n      <th>duplicate_product__ids</th>\n      <th>product_sizes</th>\n      <th>color_mapped</th>\n    </tr>\n  </thead>\n  <tbody>\n    <tr>\n      <th>0</th>\n      <td>557559</td>\n      <td>4058394021466</td>\n      <td>sportliche Ballerinas Glattleder schwarz</td>\n      <td>schwarz</td>\n      <td>02.643.57</td>\n      <td>6590678</td>\n      <td>315571</td>\n      <td>w</td>\n      <td>PT</td>\n      <td>F-S|H-W</td>\n      <td>...</td>\n      <td>40.0</td>\n      <td>6.5</td>\n      <td>11.0</td>\n      <td>0.0</td>\n      <td>Gummi</td>\n      <td>0.0</td>\n      <td>0.0</td>\n      <td>[557559, 549733, 549734, 557553, 589488, 58948...</td>\n      <td>[35.5, 36.0, 37.0, 37.5, 38.0, 38.5, 39.0, 40....</td>\n      <td>0</td>\n    </tr>\n    <tr>\n      <th>1</th>\n      <td>551622</td>\n      <td>4054452768212</td>\n      <td>elegante Pumps Glattleder schwarz</td>\n      <td>schwarz</td>\n      <td>05.160.37</td>\n      <td>6590677</td>\n      <td>315573</td>\n      <td>w</td>\n      <td>PT</td>\n      <td>F-S|H-W</td>\n      <td>...</td>\n      <td>38.0</td>\n      <td>5.0</td>\n      <td>8.0</td>\n      <td>0.0</td>\n      <td>EVA</td>\n      <td>0.0</td>\n      <td>0.0</td>\n      <td>[551622, 551505, 551510, 551509, 552973, 55162...</td>\n      <td>[35.0, 35.5, 36.0, 37.0, 37.5, 38.0, 38.5, 39....</td>\n      <td>0</td>\n    </tr>\n    <tr>\n      <th>2</th>\n      <td>547193</td>\n      <td>4054452768427</td>\n      <td>Slipper Glattleder schwarz</td>\n      <td>schwarz</td>\n      <td>04.443.27</td>\n      <td>6590677</td>\n      <td>315576</td>\n      <td>w</td>\n      <td>SK</td>\n      <td>F-S|H-W</td>\n      <td>...</td>\n      <td>42.0</td>\n      <td>8.0</td>\n      <td>14.0</td>\n      <td>0.0</td>\n      <td>PU-TPU</td>\n      <td>0.0</td>\n      <td>0.0</td>\n      <td>[547193, 547191, 547196, 547187, 547189, 54719...</td>\n      <td>[35.0, 35.5, 36.0, 37.0, 37.5, 38.0, 38.5, 39....</td>\n      <td>0</td>\n    </tr>\n    <tr>\n      <th>3</th>\n      <td>549776</td>\n      <td>4059701687894</td>\n      <td>Sneaker low Rauleder blau</td>\n      <td>blau</td>\n      <td>06.968.46</td>\n      <td>4997827</td>\n      <td>315567</td>\n      <td>w</td>\n      <td>VN</td>\n      <td>F-S|H-W</td>\n      <td>...</td>\n      <td>39.0</td>\n      <td>6.0</td>\n      <td>10.0</td>\n      <td>0.0</td>\n      <td>Gummi-EVA</td>\n      <td>0.0</td>\n      <td>0.0</td>\n      <td>[549776, 550599, 550596, 550593, 550601, 54978...</td>\n      <td>[35.0, 35.5, 36.0, 37.0, 37.5, 38.0, 38.5, 39....</td>\n      <td>1</td>\n    </tr>\n    <tr>\n      <th>4</th>\n      <td>550726</td>\n      <td>4054452851594</td>\n      <td>elegante Ballerinas Materialmix Lederimitat sc...</td>\n      <td>schwarz</td>\n      <td>06.102.67</td>\n      <td>6590678</td>\n      <td>315574</td>\n      <td>w</td>\n      <td>SK</td>\n      <td>F-S|H-W</td>\n      <td>...</td>\n      <td>37.5</td>\n      <td>4.5</td>\n      <td>7.0</td>\n      <td>0.0</td>\n      <td>EVA</td>\n      <td>0.0</td>\n      <td>0.0</td>\n      <td>[550726, 550736, 550735, 550732, 550728, 55072...</td>\n      <td>[35.0, 37.0, 37.5, 38.0, 38.5, 39.0, 40.0, 40....</td>\n      <td>0</td>\n    </tr>\n    <tr>\n      <th>...</th>\n      <td>...</td>\n      <td>...</td>\n      <td>...</td>\n      <td>...</td>\n      <td>...</td>\n      <td>...</td>\n      <td>...</td>\n      <td>...</td>\n      <td>...</td>\n      <td>...</td>\n      <td>...</td>\n      <td>...</td>\n      <td>...</td>\n      <td>...</td>\n      <td>...</td>\n      <td>...</td>\n      <td>...</td>\n      <td>...</td>\n      <td>...</td>\n      <td>...</td>\n      <td>...</td>\n    </tr>\n    <tr>\n      <th>3292</th>\n      <td>10603553</td>\n      <td>4066558951733</td>\n      <td>Sandale met plateauzool Suède blauw</td>\n      <td>blauw</td>\n      <td>24.764.36</td>\n      <td>6590677</td>\n      <td>315568</td>\n      <td>w</td>\n      <td>SK</td>\n      <td>F-S</td>\n      <td>...</td>\n      <td>35.0</td>\n      <td>2.5</td>\n      <td>3.0</td>\n      <td>0.0</td>\n      <td>PU-TPU</td>\n      <td>0.0</td>\n      <td>0.0</td>\n      <td>[10603553, 10544662]</td>\n      <td>[35.0, 37.0]</td>\n      <td>30</td>\n    </tr>\n    <tr>\n      <th>3293</th>\n      <td>10442948</td>\n      <td>4065171827272</td>\n      <td>Mokassin Materialmix Leder pink</td>\n      <td>pink</td>\n      <td>26.090.21</td>\n      <td>6590678</td>\n      <td>315590</td>\n      <td>w</td>\n      <td>PT</td>\n      <td>F-S</td>\n      <td>...</td>\n      <td>40.5</td>\n      <td>7.0</td>\n      <td>12.0</td>\n      <td>0.0</td>\n      <td>Gummi</td>\n      <td>0.0</td>\n      <td>0.0</td>\n      <td>[10442948, 10442949]</td>\n      <td>[40.5, 41.0]</td>\n      <td>56</td>\n    </tr>\n    <tr>\n      <th>3294</th>\n      <td>10782704</td>\n      <td>4251234499207</td>\n      <td>Shopper ANDIE blau</td>\n      <td>blau</td>\n      <td>921453</td>\n      <td>363013</td>\n      <td>363017</td>\n      <td>w</td>\n      <td>DE</td>\n      <td>F-S</td>\n      <td>...</td>\n      <td>NaN</td>\n      <td>NaN</td>\n      <td>NaN</td>\n      <td>NaN</td>\n      <td>NaN</td>\n      <td>NaN</td>\n      <td>NaN</td>\n      <td>[10782704]</td>\n      <td>[]</td>\n      <td>1</td>\n    </tr>\n    <tr>\n      <th>3295</th>\n      <td>10679703</td>\n      <td>4066558303617</td>\n      <td>Elegante pumps Glad leer wit</td>\n      <td>wit</td>\n      <td>21.450.60</td>\n      <td>6590677</td>\n      <td>315573</td>\n      <td>w</td>\n      <td>PT</td>\n      <td>F-S</td>\n      <td>...</td>\n      <td>35.0</td>\n      <td>2.5</td>\n      <td>3.0</td>\n      <td>0.0</td>\n      <td>TPU</td>\n      <td>0.0</td>\n      <td>0.0</td>\n      <td>[10679703]</td>\n      <td>[35.0]</td>\n      <td>33</td>\n    </tr>\n    <tr>\n      <th>3296</th>\n      <td>10496278</td>\n      <td>4065171812513</td>\n      <td>Sandale compensée Daim beige</td>\n      <td>beige</td>\n      <td>24.645.14</td>\n      <td>6590677</td>\n      <td>315564</td>\n      <td>w</td>\n      <td>PT</td>\n      <td>F-S</td>\n      <td>...</td>\n      <td>38.0</td>\n      <td>5.0</td>\n      <td>8.0</td>\n      <td>0.0</td>\n      <td>TR</td>\n      <td>0.0</td>\n      <td>0.0</td>\n      <td>[10496278]</td>\n      <td>[38.0]</td>\n      <td>6</td>\n    </tr>\n  </tbody>\n</table>\n<p>3297 rows × 57 columns</p>\n</div>"
     },
     "metadata": {},
     "output_type": "display_data"
    }
   ],
   "source": [
    "# Load data\n",
    "basepath = '../../datasets/preprocessed_datasets/gabor/'\n",
    "pandas_interaction_data = pd.read_pickle(basepath + 'user_item_interactions_only_main_products.pkl')\n",
    "pandas_interaction_data = pandas_interaction_data.sample(9000)\n",
    "pandas_interaction_data.to_pickle(basepath + 'user_item_interactions_only_main_products_sample_10k-2.pkl')\n",
    "pandas_interaction_data.amount = pandas_interaction_data.amount.apply(lambda x: 1 if x > 0 else 0) \n",
    "product_data = pd.read_pickle(basepath + 'no_product_variants_with_duplicate_ids.pkl')\n",
    "pandas_interaction_data.main_product_id = pandas_interaction_data.main_product_id.astype(int)\n",
    "product_data.main_product_id = product_data.main_product_id.astype(int)\n",
    "product_data['color_mapped'] = pd.factorize(product_data['productColorName'])[0]\n",
    "\n",
    "pandas_interaction_data = pd.merge(pandas_interaction_data, product_data[['main_product_id', 'color_mapped', 'productName']],\n",
    "                                   left_on='main_product_id',\n",
    "                                   right_on='main_product_id',\n",
    "                                    how='left')\n",
    "\n",
    "display(pandas_interaction_data, product_data)"
   ],
   "metadata": {
    "collapsed": false,
    "ExecuteTime": {
     "end_time": "2023-12-01T08:15:02.125814Z",
     "start_time": "2023-12-01T08:15:02.074997Z"
    }
   },
   "id": "e008bf18a8e80e4f"
  },
  {
   "cell_type": "code",
   "execution_count": 4,
   "outputs": [],
   "source": [
    "# Initialize tokenizer\n",
    "string_lookup = StringLookup()\n",
    "string_lookup.adapt(pandas_interaction_data['productName'])\n",
    "\n",
    "tokenizer = Tokenizer(num_words=string_lookup.vocabulary_size(), oov_token=\"<OOV>\")\n",
    "tokenizer.fit_on_texts(pandas_interaction_data['productName'])\n",
    "\n",
    "# Convert text to sequences\n",
    "sequences = tokenizer.texts_to_sequences(pandas_interaction_data['productName'])\n",
    "\n",
    "# Pad sequences\n",
    "padded_sequences = pad_sequences(sequences, padding='post')"
   ],
   "metadata": {
    "collapsed": false,
    "ExecuteTime": {
     "end_time": "2023-12-01T08:15:02.603582Z",
     "start_time": "2023-12-01T08:15:02.126861Z"
    }
   },
   "id": "695c10450ec522db"
  },
  {
   "cell_type": "code",
   "execution_count": 5,
   "outputs": [],
   "source": [
    "# Create a tf.data.Dataset from the interaction data\n",
    "interaction_dataset = tf.data.Dataset.from_tensor_slices({\n",
    "    'customer_id': pandas_interaction_data['customer_id'].values,\n",
    "    'main_product_id': pandas_interaction_data['main_product_id'].values,\n",
    "    'amount': pandas_interaction_data['amount'].values, \n",
    "    'product_color': pandas_interaction_data['color_mapped'].values, \n",
    "    'product_description': padded_sequences, \n",
    "})\n",
    "#variables \n",
    "dataset_len = pandas_interaction_data.shape[0]\n",
    "test_len = math.ceil(dataset_len * 0.2)\n",
    "train_len = dataset_len - test_len\n",
    "\n",
    "metrics_batchsize = 16\n",
    "train_batch_size = 128\n",
    "test_batch_size = 64\n",
    "random_seed = 27"
   ],
   "metadata": {
    "collapsed": false,
    "ExecuteTime": {
     "end_time": "2023-12-01T08:15:02.614058Z",
     "start_time": "2023-12-01T08:15:02.608596Z"
    }
   },
   "id": "c089ac7f029dc324"
  },
  {
   "cell_type": "code",
   "execution_count": 6,
   "outputs": [
    {
     "data": {
      "text/plain": "<_TensorSliceDataset element_spec={'customer_id': TensorSpec(shape=(), dtype=tf.int64, name=None), 'main_product_id': TensorSpec(shape=(), dtype=tf.int64, name=None), 'amount': TensorSpec(shape=(), dtype=tf.int64, name=None), 'product_color': TensorSpec(shape=(), dtype=tf.int64, name=None), 'product_description': TensorSpec(shape=(7,), dtype=tf.int32, name=None)}>"
     },
     "execution_count": 6,
     "metadata": {},
     "output_type": "execute_result"
    }
   ],
   "source": [
    "interaction_dataset"
   ],
   "metadata": {
    "collapsed": false,
    "ExecuteTime": {
     "end_time": "2023-12-01T08:15:02.623480Z",
     "start_time": "2023-12-01T08:15:02.615060Z"
    }
   },
   "id": "1271391f90ebc74d"
  },
  {
   "cell_type": "code",
   "execution_count": 7,
   "outputs": [
    {
     "data": {
      "text/plain": "<_TakeDataset element_spec={'customer_id': TensorSpec(shape=(), dtype=tf.int64, name=None), 'main_product_id': TensorSpec(shape=(), dtype=tf.int64, name=None), 'amount': TensorSpec(shape=(), dtype=tf.int64, name=None), 'product_color': TensorSpec(shape=(), dtype=tf.int64, name=None), 'product_description': TensorSpec(shape=(7,), dtype=tf.int32, name=None)}>"
     },
     "metadata": {},
     "output_type": "display_data"
    },
    {
     "data": {
      "text/plain": "<_TakeDataset element_spec={'customer_id': TensorSpec(shape=(), dtype=tf.int64, name=None), 'main_product_id': TensorSpec(shape=(), dtype=tf.int64, name=None), 'amount': TensorSpec(shape=(), dtype=tf.int64, name=None), 'product_color': TensorSpec(shape=(), dtype=tf.int64, name=None), 'product_description': TensorSpec(shape=(7,), dtype=tf.int32, name=None)}>"
     },
     "metadata": {},
     "output_type": "display_data"
    }
   ],
   "source": [
    "#train test split\n",
    "tf.random.set_seed(random_seed)\n",
    "# shuffled = interaction_dataset.shuffle(len, seed=random_seed, reshuffle_each_iteration=False)\n",
    "# train = shuffled.take(train_len)\n",
    "# test = shuffled.skip(train_len).take(test_len)\n",
    "shuffled = interaction_dataset.shuffle(dataset_len, seed=random_seed, reshuffle_each_iteration=False)\n",
    "\n",
    "train = shuffled.take(train_len)\n",
    "test = shuffled.skip(train_len).take(test_len)\n",
    "display(train, test)"
   ],
   "metadata": {
    "collapsed": false,
    "ExecuteTime": {
     "end_time": "2023-12-01T08:15:02.659448Z",
     "start_time": "2023-12-01T08:15:02.622743Z"
    }
   },
   "id": "825eec174445be8c"
  },
  {
   "cell_type": "code",
   "execution_count": 8,
   "outputs": [],
   "source": [
    "# Unique customer and product identifiers\n",
    "unique_customer_ids = np.array(pandas_interaction_data[\"customer_id\"].unique())\n",
    "unique_product_ids = np.array(pandas_interaction_data[\"main_product_id\"].unique())\n",
    "\n",
    "unique_colors = np.array(product_data[\"color_mapped\"].unique())\n",
    "user_ids_vocabulary = tf.keras.layers.IntegerLookup(mask_token=None)\n",
    "user_ids_vocabulary.adapt(unique_customer_ids)\n",
    "\n",
    "product_ids_vocabulary = tf.keras.layers.IntegerLookup(mask_token=None)\n",
    "product_ids_vocabulary.adapt(unique_product_ids)\n",
    "\n",
    "product_colors_vocabulary = tf.keras.layers.IntegerLookup(mask_token=None)\n",
    "product_colors_vocabulary.adapt(unique_colors)\n",
    "# print(unique_product_ids.shape[0], unique_customer_ids.shape[0], unique_product_ids, unique_product_ids)"
   ],
   "metadata": {
    "collapsed": false,
    "ExecuteTime": {
     "end_time": "2023-12-01T08:15:03.205793Z",
     "start_time": "2023-12-01T08:15:02.637815Z"
    }
   },
   "id": "2e2625e63cf53fce"
  },
  {
   "cell_type": "code",
   "execution_count": 8,
   "outputs": [],
   "source": [],
   "metadata": {
    "collapsed": false,
    "ExecuteTime": {
     "end_time": "2023-12-01T08:15:03.214670Z",
     "start_time": "2023-12-01T08:15:03.205526Z"
    }
   },
   "id": "580fc3478a356294"
  },
  {
   "cell_type": "code",
   "execution_count": 9,
   "outputs": [],
   "source": [
    "# Define a model using TensorFlow Recommenders\n",
    "product_ids_dataset = tf.data.Dataset.from_tensor_slices(unique_product_ids)\n",
    "class RetailModel(tfrs.Model):\n",
    "\n",
    "    def __init__(self, unique_product_ids_vocab, unique_customer_ids_vocab, unique_product_color_vocab, embedding_dimension=32):\n",
    "        super().__init__()\n",
    "        # Set up user and product representations\n",
    "        self.user_embedding = tf.keras.Sequential([\n",
    "            unique_customer_ids_vocab,\n",
    "            Embedding(unique_customer_ids_vocab.vocabulary_size(), embedding_dimension)\n",
    "        ])\n",
    "        self.product_embedding = tf.keras.Sequential([\n",
    "            unique_product_ids_vocab,\n",
    "            Embedding(unique_product_ids_vocab.vocabulary_size(), embedding_dimension)\n",
    "        ])\n",
    "\n",
    "        # Color embeddings\n",
    "        self.color_embedding = tf.keras.Sequential([\n",
    "            unique_product_color_vocab,\n",
    "            Embedding(unique_product_color_vocab.vocabulary_size(), embedding_dimension)\n",
    "        ]) \n",
    "\n",
    "\n",
    "        # Textual description model\n",
    "        self.textual_description_model = tf.keras.Sequential([\n",
    "            Embedding(input_dim=unique_product_ids_vocab.vocabulary_size(), output_dim=embedding_dimension),\n",
    "            LSTM(64),\n",
    "            Dense(64, activation='relu')\n",
    "        ])\n",
    "\n",
    "        # New embeddings for color and description\n",
    "        self.reduced_product_embeddings = Dense(64, activation='relu')\n",
    "        self.reduced_description_embeddings = Dense(32, activation='relu')\n",
    "        self.reduced_color_embeddings = Dense(32, activation='relu')\n",
    "        \n",
    "        # Set up a dense layer for the task.\n",
    "        self.dense_layer = Dense(128, input_shape=(256,), activation=\"relu\")\n",
    "\n",
    "        # Set up retrieval task and metrics\n",
    "        self.task = tfrs.tasks.Retrieval(\n",
    "            metrics=tfrs.metrics.FactorizedTopK(candidates=product_ids_dataset.batch(metrics_batchsize).map(self.product_model))\n",
    "        )\n",
    "        self.auc_metric = AUC(name='auc')\n",
    "        self.rmse_metric = tf.keras.metrics.RootMeanSquaredError(name='rmse')\n",
    "        self.precision = tf.keras.metrics.Precision(name='precision')\n",
    "        self.recall = tf.keras.metrics.Recall(name='recall')\n",
    "\n",
    "    def product_model(self, product_ids):\n",
    "        return self.product_embedding(product_ids)\n",
    "\n",
    "    def dot_product_score(self, user, product):\n",
    "        \"\"\"\n",
    "        Computes the dot product between user and product embeddings to get the interaction score.\n",
    "        \"\"\"\n",
    "        return tf.reduce_sum(user * product, axis=1)\n",
    "\n",
    "    def compute_loss(self, features, training=False):\n",
    "        # print(features)\n",
    "        user_embeddings = self.user_embedding(features[\"customer_id\"])\n",
    "        product_embeddings = self.product_embedding(features[\"main_product_id\"])\n",
    "\n",
    "        color_embeddings = self.color_embedding(features[\"product_color\"])\n",
    "        description_embeddings = self.textual_description_model(features[\"product_description\"])\n",
    "\n",
    "        reduced_product_embeddings = self.reduced_product_embeddings(product_embeddings)\n",
    "        reduced_description_embeddings = self.reduced_description_embeddings(description_embeddings)\n",
    "        reduced_color_embeddings = self.reduced_color_embeddings(color_embeddings)\n",
    "\n",
    "\n",
    "        # Now concatenate\n",
    "        user_combined = tf.concat([user_embeddings, ], axis=1)  # shape will be [None, 128]\n",
    "        product_combined = tf.concat([reduced_product_embeddings, reduced_color_embeddings, reduced_description_embeddings], axis=1)  # shape will be [None, 128]\n",
    "        \n",
    "\n",
    "\n",
    "        user_output = self.dense_layer(user_embeddings)\n",
    "        product_output = self.dense_layer(product_combined)\n",
    "        # This is a hypothetical function that returns the logits or scores\n",
    "        # This needs to be adapted based on your actual model\n",
    "        positive_logits = self.dot_product_score(user_output, product_output)\n",
    "\n",
    "        # Update RMSE\n",
    "        self.rmse_metric.update_state(y_true=features[\"amount\"], y_pred=positive_logits)\n",
    "\n",
    "\n",
    "        return self.task(user_output, product_output)\n",
    "\n",
    "    def evaluate(self, validation_dataset, *args, **kwargs):\n",
    "        # Call the base class's evaluate method\n",
    "        \n",
    "    \n",
    "        # Compute additional metrics\n",
    "        for features in validation_dataset:\n",
    "            user_embeddings = self.user_embedding(features[\"customer_id\"])\n",
    "            product_embeddings = self.product_embedding(features[\"main_product_id\"])\n",
    "            \n",
    "            user_output = self.dense_layer(user_embeddings)\n",
    "            product_output = self.dense_layer(product_embeddings)\n",
    "            \n",
    "            positive_logits = self.dot_product_score(user_output, product_output)\n",
    "            # Assuming you have a binary \"label\" in your dataset indicating 1 for positive interaction and 0 for negative\n",
    "            self.precision.update_state(y_true=features[\"amount\"], y_pred=positive_logits)\n",
    "            self.recall.update_state(y_true=features[\"amount\"], y_pred=positive_logits)\n",
    "    \n",
    "        precision_result = self.precision.result().numpy()\n",
    "        recall_result = self.recall.result().numpy()\n",
    "    \n",
    "        # Calculate F1 score\n",
    "        if (precision_result + recall_result) != 0:\n",
    "            f1_score = 2 * (precision_result * recall_result) / (precision_result + recall_result)\n",
    "        else:\n",
    "            f1_score = 0.0\n",
    "    \n",
    "        # Reset the metrics for the next evaluation\n",
    "        # self.precision.reset_states()\n",
    "        # self.recall.reset_states()\n",
    "        base_results = super(RetailModel, self).evaluate(validation_dataset, *args, **kwargs)\n",
    "    \n",
    "        return base_results, [precision_result, recall_result, f1_score]  # or append additional results as needed\n",
    "\n"
   ],
   "metadata": {
    "collapsed": false,
    "ExecuteTime": {
     "end_time": "2023-12-01T08:15:03.224091Z",
     "start_time": "2023-12-01T08:15:03.216825Z"
    }
   },
   "id": "378cf58a3061ecfc"
  },
  {
   "cell_type": "code",
   "execution_count": 10,
   "outputs": [],
   "source": [
    "model = RetailModel(product_ids_vocabulary, user_ids_vocabulary, product_colors_vocabulary, embedding_dimension=128)\n",
    "model.compile(optimizer=tf.keras.optimizers.legacy.Adam(learning_rate=0.001)) # using legacy instead of tf.keras.optimizers.Adagrad, because newer version is slow on m1/m2 macs"
   ],
   "metadata": {
    "collapsed": false,
    "ExecuteTime": {
     "end_time": "2023-12-01T08:15:03.642813Z",
     "start_time": "2023-12-01T08:15:03.222785Z"
    }
   },
   "id": "5ae0c3e4d7093bf1"
  },
  {
   "cell_type": "code",
   "execution_count": 11,
   "outputs": [
    {
     "name": "stdout",
     "output_type": "stream",
     "text": [
      "Epoch 1/3\n",
      "57/57 [==============================] - 26s 428ms/step - auc: 0.0000e+00 - rmse: 0.9916 - precision: 0.0000e+00 - recall: 0.0000e+00 - factorized_top_k/top_1_categorical_accuracy: 0.1181 - factorized_top_k/top_5_categorical_accuracy: 0.1821 - factorized_top_k/top_10_categorical_accuracy: 0.2165 - factorized_top_k/top_50_categorical_accuracy: 0.3200 - factorized_top_k/top_100_categorical_accuracy: 0.3810 - loss: 603.4828 - regularization_loss: 0.0000e+00 - total_loss: 603.4828\n",
      "Epoch 2/3\n",
      "57/57 [==============================] - 28s 486ms/step - auc: 0.0000e+00 - rmse: 1.8896 - precision: 0.0000e+00 - recall: 0.0000e+00 - factorized_top_k/top_1_categorical_accuracy: 0.9464 - factorized_top_k/top_5_categorical_accuracy: 0.9638 - factorized_top_k/top_10_categorical_accuracy: 0.9694 - factorized_top_k/top_50_categorical_accuracy: 0.9797 - factorized_top_k/top_100_categorical_accuracy: 0.9849 - loss: 582.4715 - regularization_loss: 0.0000e+00 - total_loss: 582.4715\n",
      "Epoch 3/3\n",
      "57/57 [==============================] - 29s 516ms/step - auc: 0.0000e+00 - rmse: 18.3780 - precision: 0.0000e+00 - recall: 0.0000e+00 - factorized_top_k/top_1_categorical_accuracy: 1.0000 - factorized_top_k/top_5_categorical_accuracy: 1.0000 - factorized_top_k/top_10_categorical_accuracy: 1.0000 - factorized_top_k/top_50_categorical_accuracy: 1.0000 - factorized_top_k/top_100_categorical_accuracy: 1.0000 - loss: 418.6345 - regularization_loss: 0.0000e+00 - total_loss: 418.6345\n"
     ]
    },
    {
     "data": {
      "text/plain": "<keras.src.callbacks.History at 0x29dadafa0>"
     },
     "execution_count": 11,
     "metadata": {},
     "output_type": "execute_result"
    }
   ],
   "source": [
    "# Shuffle, batch, and cache the data.\n",
    "cached_train = train.shuffle(dataset_len).batch(train_batch_size).cache()\n",
    "cached_test = test.batch(test_batch_size).cache()\n",
    "# Train the model\n",
    "# model.fit(cached_train, validation_data=cached_test, validation_freq=5, epochs=3) \n",
    "model.fit(cached_train, validation_freq=5, epochs=3)"
   ],
   "metadata": {
    "collapsed": false,
    "ExecuteTime": {
     "end_time": "2023-12-01T08:16:27.179059Z",
     "start_time": "2023-12-01T08:15:03.639100Z"
    }
   },
   "id": "4add146de8d83cb0"
  },
  {
   "cell_type": "code",
   "execution_count": 12,
   "outputs": [
    {
     "name": "stdout",
     "output_type": "stream",
     "text": [
      "57/57 [==============================] - 29s 503ms/step - auc: 0.0000e+00 - rmse: 28.4430 - precision: 0.0000e+00 - recall: 0.0000e+00 - factorized_top_k/top_1_categorical_accuracy: 1.0000 - factorized_top_k/top_5_categorical_accuracy: 1.0000 - factorized_top_k/top_10_categorical_accuracy: 1.0000 - factorized_top_k/top_50_categorical_accuracy: 1.0000 - factorized_top_k/top_100_categorical_accuracy: 1.0000 - loss: 242.1365 - regularization_loss: 0.0000e+00 - total_loss: 242.1365\n"
     ]
    },
    {
     "data": {
      "text/plain": "([0.0,\n  28.44295883178711,\n  0.0,\n  0.0,\n  1.0,\n  1.0,\n  1.0,\n  1.0,\n  1.0,\n  29.919248580932617,\n  0,\n  29.919248580932617],\n [1.0, 0.89652777, 0.9454412244264775])"
     },
     "execution_count": 12,
     "metadata": {},
     "output_type": "execute_result"
    }
   ],
   "source": [
    "# Evaluate the model\n",
    "k = 5\n",
    "result_evaluate_train = model.evaluate(cached_train)\n",
    "result_evaluate_train"
   ],
   "metadata": {
    "collapsed": false,
    "ExecuteTime": {
     "end_time": "2023-12-01T08:16:57.052050Z",
     "start_time": "2023-12-01T08:16:27.179999Z"
    }
   },
   "id": "f38fbc7489d6c8ab"
  },
  {
   "cell_type": "code",
   "execution_count": 13,
   "outputs": [
    {
     "name": "stdout",
     "output_type": "stream",
     "text": [
      "29/29 [==============================] - 16s 560ms/step - auc: 0.0000e+00 - rmse: 18.4325 - precision: 0.0000e+00 - recall: 0.0000e+00 - factorized_top_k/top_1_categorical_accuracy: 1.0000 - factorized_top_k/top_5_categorical_accuracy: 1.0000 - factorized_top_k/top_10_categorical_accuracy: 1.0000 - factorized_top_k/top_50_categorical_accuracy: 1.0000 - factorized_top_k/top_100_categorical_accuracy: 1.0000 - loss: 363.0824 - regularization_loss: 0.0000e+00 - total_loss: 363.0824\n"
     ]
    },
    {
     "data": {
      "text/plain": "([0.0,\n  18.432540893554688,\n  0.0,\n  0.0,\n  1.0,\n  1.0,\n  1.0,\n  1.0,\n  1.0,\n  44.24104309082031,\n  0,\n  44.24104309082031],\n [1.0, 0.91944444, 0.9580318364780054])"
     },
     "execution_count": 13,
     "metadata": {},
     "output_type": "execute_result"
    }
   ],
   "source": [
    "result_evaluat_test = model.evaluate(cached_test)\n",
    "result_evaluat_test"
   ],
   "metadata": {
    "collapsed": false,
    "ExecuteTime": {
     "end_time": "2023-12-01T08:17:13.794287Z",
     "start_time": "2023-12-01T08:16:57.054033Z"
    }
   },
   "id": "a90bfb5478e24540"
  },
  {
   "cell_type": "code",
   "execution_count": 14,
   "outputs": [
    {
     "name": "stdout",
     "output_type": "stream",
     "text": [
      "Name\t\tValue\n",
      "------------------------------\n",
      "auc\t\t0.0\n",
      "rmse\t\t18.432540893554688\n",
      "precision\t\t0.0\n",
      "recall\t\t0.0\n",
      "factorized_top_k/top_1_categorical_accuracy\t\t1.0\n",
      "factorized_top_k/top_5_categorical_accuracy\t\t1.0\n",
      "factorized_top_k/top_10_categorical_accuracy\t\t1.0\n",
      "factorized_top_k/top_50_categorical_accuracy\t\t1.0\n",
      "factorized_top_k/top_100_categorical_accuracy\t\t1.0\n",
      "AUC: 0.0\n"
     ]
    }
   ],
   "source": [
    "print(\"Name\\t\\tValue\")\n",
    "print(\"-\" * 30)\n",
    "for metric in model.metrics:\n",
    "    print(f\"{metric.name}\\t\\t{metric.result().numpy()}\")\n",
    "print(f\"AUC: {model.auc_metric.result().numpy()}\")"
   ],
   "metadata": {
    "collapsed": false,
    "ExecuteTime": {
     "end_time": "2023-12-01T08:17:13.825875Z",
     "start_time": "2023-12-01T08:17:13.795327Z"
    }
   },
   "id": "2dc815d6547dfefe"
  },
  {
   "cell_type": "code",
   "execution_count": 15,
   "outputs": [
    {
     "data": {
      "text/plain": "array([ 8494801,  9726654,  9448368,  5898138,  2075624,  9802315,\n        7995279,  2179131,  7869607,  9563631,  3492130,  5872093,\n       10074844,  8895916,  8814730,  7107466,  5680601,  9666598,\n        8763035,  6453839,  8435504,  2042466,  3940742,  8388472,\n        4107856,  4492452,  9382645,  9858567, 10125658, 10523696,\n        4111494,  8238289,  2080311,  4049076,  2213917,  1983747,\n        8835527, 10282881,  7947331,  6485478,  4142559,  7255713,\n        2199463,  6759020,  2226858,  7601292,  8335334,  4555254,\n        1988837,  9257922,  7773530,  1961252,  5851105,  7820111,\n        4592879, 10724937, 10209997,  5344978,  6787822,  8980396,\n        2079377,  5474994,  2121747,  4359962])"
     },
     "execution_count": 15,
     "metadata": {},
     "output_type": "execute_result"
    }
   ],
   "source": [
    "sample = next(iter(cached_test.take(1)))\n",
    "\n",
    "# Extract customer_id from the sample\n",
    "customer_id = sample['customer_id'].numpy()\n",
    "customer_id"
   ],
   "metadata": {
    "collapsed": false,
    "ExecuteTime": {
     "end_time": "2023-12-01T08:17:13.826998Z",
     "start_time": "2023-12-01T08:17:13.811935Z"
    }
   },
   "id": "d293fa87e3fe5b52"
  },
  {
   "cell_type": "code",
   "execution_count": 16,
   "outputs": [
    {
     "name": "stdout",
     "output_type": "stream",
     "text": [
      "predicting user:  8494801\n",
      "user already bought following products: \n"
     ]
    },
    {
     "data": {
      "text/plain": "      main_product_id  productNumber                    productName  \\\n1314          6164348  4064032658598  Sneaker low Materialmix Leder   \n\n     productColorName articleNumber  brand__id  mainCategory__id gender  \\\n1314                      76.433.44    6590678            315567      w   \n\n     originCountry line  ...  sizeEu sizeUk  sizeIndex  shaftLength__value  \\\n1314            SK  H-W  ...    40.5    7.0       12.0                 0.0   \n\n      sole  isTransferee  isSuccessor  \\\n1314    TR           0.0          0.0   \n\n                                 duplicate_product__ids  \\\n1314  [6164348, 5077410, 6555142, 6446945, 6163947, ...   \n\n                                          product_sizes color_mapped  \n1314  [35.0, 35.5, 36.0, 37.0, 37.5, 38.0, 38.5, 39....           15  \n\n[1 rows x 57 columns]",
      "text/html": "<div>\n<style scoped>\n    .dataframe tbody tr th:only-of-type {\n        vertical-align: middle;\n    }\n\n    .dataframe tbody tr th {\n        vertical-align: top;\n    }\n\n    .dataframe thead th {\n        text-align: right;\n    }\n</style>\n<table border=\"1\" class=\"dataframe\">\n  <thead>\n    <tr style=\"text-align: right;\">\n      <th></th>\n      <th>main_product_id</th>\n      <th>productNumber</th>\n      <th>productName</th>\n      <th>productColorName</th>\n      <th>articleNumber</th>\n      <th>brand__id</th>\n      <th>mainCategory__id</th>\n      <th>gender</th>\n      <th>originCountry</th>\n      <th>line</th>\n      <th>...</th>\n      <th>sizeEu</th>\n      <th>sizeUk</th>\n      <th>sizeIndex</th>\n      <th>shaftLength__value</th>\n      <th>sole</th>\n      <th>isTransferee</th>\n      <th>isSuccessor</th>\n      <th>duplicate_product__ids</th>\n      <th>product_sizes</th>\n      <th>color_mapped</th>\n    </tr>\n  </thead>\n  <tbody>\n    <tr>\n      <th>1314</th>\n      <td>6164348</td>\n      <td>4064032658598</td>\n      <td>Sneaker low Materialmix Leder</td>\n      <td></td>\n      <td>76.433.44</td>\n      <td>6590678</td>\n      <td>315567</td>\n      <td>w</td>\n      <td>SK</td>\n      <td>H-W</td>\n      <td>...</td>\n      <td>40.5</td>\n      <td>7.0</td>\n      <td>12.0</td>\n      <td>0.0</td>\n      <td>TR</td>\n      <td>0.0</td>\n      <td>0.0</td>\n      <td>[6164348, 5077410, 6555142, 6446945, 6163947, ...</td>\n      <td>[35.0, 35.5, 36.0, 37.0, 37.5, 38.0, 38.5, 39....</td>\n      <td>15</td>\n    </tr>\n  </tbody>\n</table>\n<p>1 rows × 57 columns</p>\n</div>"
     },
     "metadata": {},
     "output_type": "display_data"
    },
    {
     "name": "stdout",
     "output_type": "stream",
     "text": [
      "predicted products: \n"
     ]
    },
    {
     "data": {
      "text/plain": "      main_product_id  productNumber  \\\n68            3482430  4062862107095   \n138           3591304  4062862959946   \n203           3692992  4062862487708   \n496           3694800  4062862075929   \n598           4774679  4062862829751   \n651           4776545  4062862836308   \n730           4847355  4062862647416   \n1365          6132934  4064032998311   \n1980          7597174  4064032903506   \n2304          8631081  4065171236579   \n\n                                         productName productColorName  \\\n68    Sneaker low Materialmix Leder/Lederimitat blau             blau   \n138                        Sneaker low Rauleder grau             grau   \n203                    Sneaker high Rauleder schwarz          schwarz   \n496              PG0506 Schnürschuh Glattleder braun            braun   \n598                     Keilsandalette Rauleder gelb             gelb   \n651                    Spangenpumps Lederimitat blau             blau   \n730                  Keilsandalette Glattleder braun            braun   \n1365               Plateau Stiefelette Rauleder grau             grau   \n1980              Riemchensandale Effektleder bronze           bronze   \n2304                   Eleganter Pump Rauleder braun            braun   \n\n     articleNumber  brand__id  mainCategory__id gender originCountry line  \\\n68       56.966.66    4997827            315567      w            VN  H-W   \n138      53.420.19    6590677            315567      w            PT  H-W   \n203     0908.71.01    3692257            315586      w            PT  H-W   \n496     0506.50.02    3692257           3692267      m            PT  H-W   \n598      62.750.22    6590678            315564      w            PT  F-S   \n651      61.370.46    6590677            315561      w            PT  F-S   \n730      62.043.13    6590678            315564      w            PT  F-S   \n1365     74.780.12    6590677            315595      w            SK  H-W   \n1980     82.711.81    6590678            315564      w            PT  F-S   \n2304     91.441.14    6590677            315593      w            PT  H-W   \n\n      ...  sizeEu sizeUk  sizeIndex  shaftLength__value       sole  \\\n68    ...    37.5    4.5        7.0                 0.0  Gummi-EVA   \n138   ...    44.0    9.5       17.0                 0.0         TR   \n203   ...    36.0    3.5        5.0                11.0         TR   \n496   ...    46.0   11.0       13.0                 0.0        EVA   \n598   ...    35.0    2.5        3.0                 0.0         TR   \n651   ...    35.5    3.0        4.0                 0.0        EVA   \n730   ...    39.0    6.0       10.0                 0.0         TR   \n1365  ...    35.5    3.0        4.0                14.0         TR   \n1980  ...    41.0    7.5       13.0                 0.0         TR   \n2304  ...    39.0    6.0       10.0                 0.0        TPU   \n\n      isTransferee  isSuccessor  \\\n68             0.0          0.0   \n138            0.0          0.0   \n203            0.0          0.0   \n496            0.0          0.0   \n598            0.0          1.0   \n651            1.0          1.0   \n730            0.0          0.0   \n1365           1.0          1.0   \n1980           1.0          1.0   \n2304           0.0          0.0   \n\n                                 duplicate_product__ids  \\\n68    [3482430, 3482433, 3482437, 3482436, 3482427, ...   \n138   [3591304, 3591302, 3845754, 3845748, 3845750, ...   \n203   [3692992, 3692995, 3692998, 3788167, 3788154, ...   \n496   [3694800, 3710999, 3710991, 3711000, 3694802, ...   \n598   [4774679, 4773177, 4774684, 4773750, 4773755, ...   \n651   [4776545, 4776453, 4776544, 4776457, 4776443, ...   \n730   [4847355, 4777312, 4770237, 4771075, 4847356, ...   \n1365  [6132934, 6132933, 6132939, 6132938, 6557051, ...   \n1980  [7597174, 7597171, 7597178, 7597173, 7597172, ...   \n2304  [8631081, 8631080, 8631084, 8631079, 8665164, ...   \n\n                                          product_sizes color_mapped  \n68    [35.0, 35.5, 36.0, 37.0, 37.5, 38.0, 38.5, 39....            1  \n138   [35.0, 35.5, 36.0, 37.0, 37.5, 38.0, 38.5, 39....            4  \n203   [35.0, 35.5, 36.0, 37.0, 37.5, 38.0, 38.5, 39....            0  \n496   [39.0, 40.0, 40.5, 41.0, 42.0, 42.5, 43.0, 44....            3  \n598   [35.0, 35.5, 36.0, 37.0, 37.5, 38.0, 38.5, 39....            7  \n651   [35.0, 35.5, 36.0, 37.0, 37.5, 38.0, 38.5, 39....            1  \n730   [35.0, 35.5, 36.0, 37.0, 37.5, 38.0, 38.5, 39....            3  \n1365  [35.0, 35.5, 36.0, 37.0, 37.5, 38.0, 38.5, 39....            4  \n1980  [35.0, 36.0, 37.0, 37.5, 38.0, 38.5, 39.0, 40....           12  \n2304  [35.0, 35.5, 37.5, 38.0, 38.5, 39.0, 40.0, 41....            3  \n\n[10 rows x 57 columns]",
      "text/html": "<div>\n<style scoped>\n    .dataframe tbody tr th:only-of-type {\n        vertical-align: middle;\n    }\n\n    .dataframe tbody tr th {\n        vertical-align: top;\n    }\n\n    .dataframe thead th {\n        text-align: right;\n    }\n</style>\n<table border=\"1\" class=\"dataframe\">\n  <thead>\n    <tr style=\"text-align: right;\">\n      <th></th>\n      <th>main_product_id</th>\n      <th>productNumber</th>\n      <th>productName</th>\n      <th>productColorName</th>\n      <th>articleNumber</th>\n      <th>brand__id</th>\n      <th>mainCategory__id</th>\n      <th>gender</th>\n      <th>originCountry</th>\n      <th>line</th>\n      <th>...</th>\n      <th>sizeEu</th>\n      <th>sizeUk</th>\n      <th>sizeIndex</th>\n      <th>shaftLength__value</th>\n      <th>sole</th>\n      <th>isTransferee</th>\n      <th>isSuccessor</th>\n      <th>duplicate_product__ids</th>\n      <th>product_sizes</th>\n      <th>color_mapped</th>\n    </tr>\n  </thead>\n  <tbody>\n    <tr>\n      <th>68</th>\n      <td>3482430</td>\n      <td>4062862107095</td>\n      <td>Sneaker low Materialmix Leder/Lederimitat blau</td>\n      <td>blau</td>\n      <td>56.966.66</td>\n      <td>4997827</td>\n      <td>315567</td>\n      <td>w</td>\n      <td>VN</td>\n      <td>H-W</td>\n      <td>...</td>\n      <td>37.5</td>\n      <td>4.5</td>\n      <td>7.0</td>\n      <td>0.0</td>\n      <td>Gummi-EVA</td>\n      <td>0.0</td>\n      <td>0.0</td>\n      <td>[3482430, 3482433, 3482437, 3482436, 3482427, ...</td>\n      <td>[35.0, 35.5, 36.0, 37.0, 37.5, 38.0, 38.5, 39....</td>\n      <td>1</td>\n    </tr>\n    <tr>\n      <th>138</th>\n      <td>3591304</td>\n      <td>4062862959946</td>\n      <td>Sneaker low Rauleder grau</td>\n      <td>grau</td>\n      <td>53.420.19</td>\n      <td>6590677</td>\n      <td>315567</td>\n      <td>w</td>\n      <td>PT</td>\n      <td>H-W</td>\n      <td>...</td>\n      <td>44.0</td>\n      <td>9.5</td>\n      <td>17.0</td>\n      <td>0.0</td>\n      <td>TR</td>\n      <td>0.0</td>\n      <td>0.0</td>\n      <td>[3591304, 3591302, 3845754, 3845748, 3845750, ...</td>\n      <td>[35.0, 35.5, 36.0, 37.0, 37.5, 38.0, 38.5, 39....</td>\n      <td>4</td>\n    </tr>\n    <tr>\n      <th>203</th>\n      <td>3692992</td>\n      <td>4062862487708</td>\n      <td>Sneaker high Rauleder schwarz</td>\n      <td>schwarz</td>\n      <td>0908.71.01</td>\n      <td>3692257</td>\n      <td>315586</td>\n      <td>w</td>\n      <td>PT</td>\n      <td>H-W</td>\n      <td>...</td>\n      <td>36.0</td>\n      <td>3.5</td>\n      <td>5.0</td>\n      <td>11.0</td>\n      <td>TR</td>\n      <td>0.0</td>\n      <td>0.0</td>\n      <td>[3692992, 3692995, 3692998, 3788167, 3788154, ...</td>\n      <td>[35.0, 35.5, 36.0, 37.0, 37.5, 38.0, 38.5, 39....</td>\n      <td>0</td>\n    </tr>\n    <tr>\n      <th>496</th>\n      <td>3694800</td>\n      <td>4062862075929</td>\n      <td>PG0506 Schnürschuh Glattleder braun</td>\n      <td>braun</td>\n      <td>0506.50.02</td>\n      <td>3692257</td>\n      <td>3692267</td>\n      <td>m</td>\n      <td>PT</td>\n      <td>H-W</td>\n      <td>...</td>\n      <td>46.0</td>\n      <td>11.0</td>\n      <td>13.0</td>\n      <td>0.0</td>\n      <td>EVA</td>\n      <td>0.0</td>\n      <td>0.0</td>\n      <td>[3694800, 3710999, 3710991, 3711000, 3694802, ...</td>\n      <td>[39.0, 40.0, 40.5, 41.0, 42.0, 42.5, 43.0, 44....</td>\n      <td>3</td>\n    </tr>\n    <tr>\n      <th>598</th>\n      <td>4774679</td>\n      <td>4062862829751</td>\n      <td>Keilsandalette Rauleder gelb</td>\n      <td>gelb</td>\n      <td>62.750.22</td>\n      <td>6590678</td>\n      <td>315564</td>\n      <td>w</td>\n      <td>PT</td>\n      <td>F-S</td>\n      <td>...</td>\n      <td>35.0</td>\n      <td>2.5</td>\n      <td>3.0</td>\n      <td>0.0</td>\n      <td>TR</td>\n      <td>0.0</td>\n      <td>1.0</td>\n      <td>[4774679, 4773177, 4774684, 4773750, 4773755, ...</td>\n      <td>[35.0, 35.5, 36.0, 37.0, 37.5, 38.0, 38.5, 39....</td>\n      <td>7</td>\n    </tr>\n    <tr>\n      <th>651</th>\n      <td>4776545</td>\n      <td>4062862836308</td>\n      <td>Spangenpumps Lederimitat blau</td>\n      <td>blau</td>\n      <td>61.370.46</td>\n      <td>6590677</td>\n      <td>315561</td>\n      <td>w</td>\n      <td>PT</td>\n      <td>F-S</td>\n      <td>...</td>\n      <td>35.5</td>\n      <td>3.0</td>\n      <td>4.0</td>\n      <td>0.0</td>\n      <td>EVA</td>\n      <td>1.0</td>\n      <td>1.0</td>\n      <td>[4776545, 4776453, 4776544, 4776457, 4776443, ...</td>\n      <td>[35.0, 35.5, 36.0, 37.0, 37.5, 38.0, 38.5, 39....</td>\n      <td>1</td>\n    </tr>\n    <tr>\n      <th>730</th>\n      <td>4847355</td>\n      <td>4062862647416</td>\n      <td>Keilsandalette Glattleder braun</td>\n      <td>braun</td>\n      <td>62.043.13</td>\n      <td>6590678</td>\n      <td>315564</td>\n      <td>w</td>\n      <td>PT</td>\n      <td>F-S</td>\n      <td>...</td>\n      <td>39.0</td>\n      <td>6.0</td>\n      <td>10.0</td>\n      <td>0.0</td>\n      <td>TR</td>\n      <td>0.0</td>\n      <td>0.0</td>\n      <td>[4847355, 4777312, 4770237, 4771075, 4847356, ...</td>\n      <td>[35.0, 35.5, 36.0, 37.0, 37.5, 38.0, 38.5, 39....</td>\n      <td>3</td>\n    </tr>\n    <tr>\n      <th>1365</th>\n      <td>6132934</td>\n      <td>4064032998311</td>\n      <td>Plateau Stiefelette Rauleder grau</td>\n      <td>grau</td>\n      <td>74.780.12</td>\n      <td>6590677</td>\n      <td>315595</td>\n      <td>w</td>\n      <td>SK</td>\n      <td>H-W</td>\n      <td>...</td>\n      <td>35.5</td>\n      <td>3.0</td>\n      <td>4.0</td>\n      <td>14.0</td>\n      <td>TR</td>\n      <td>1.0</td>\n      <td>1.0</td>\n      <td>[6132934, 6132933, 6132939, 6132938, 6557051, ...</td>\n      <td>[35.0, 35.5, 36.0, 37.0, 37.5, 38.0, 38.5, 39....</td>\n      <td>4</td>\n    </tr>\n    <tr>\n      <th>1980</th>\n      <td>7597174</td>\n      <td>4064032903506</td>\n      <td>Riemchensandale Effektleder bronze</td>\n      <td>bronze</td>\n      <td>82.711.81</td>\n      <td>6590678</td>\n      <td>315564</td>\n      <td>w</td>\n      <td>PT</td>\n      <td>F-S</td>\n      <td>...</td>\n      <td>41.0</td>\n      <td>7.5</td>\n      <td>13.0</td>\n      <td>0.0</td>\n      <td>TR</td>\n      <td>1.0</td>\n      <td>1.0</td>\n      <td>[7597174, 7597171, 7597178, 7597173, 7597172, ...</td>\n      <td>[35.0, 36.0, 37.0, 37.5, 38.0, 38.5, 39.0, 40....</td>\n      <td>12</td>\n    </tr>\n    <tr>\n      <th>2304</th>\n      <td>8631081</td>\n      <td>4065171236579</td>\n      <td>Eleganter Pump Rauleder braun</td>\n      <td>braun</td>\n      <td>91.441.14</td>\n      <td>6590677</td>\n      <td>315593</td>\n      <td>w</td>\n      <td>PT</td>\n      <td>H-W</td>\n      <td>...</td>\n      <td>39.0</td>\n      <td>6.0</td>\n      <td>10.0</td>\n      <td>0.0</td>\n      <td>TPU</td>\n      <td>0.0</td>\n      <td>0.0</td>\n      <td>[8631081, 8631080, 8631084, 8631079, 8665164, ...</td>\n      <td>[35.0, 35.5, 37.5, 38.0, 38.5, 39.0, 40.0, 41....</td>\n      <td>3</td>\n    </tr>\n  </tbody>\n</table>\n<p>10 rows × 57 columns</p>\n</div>"
     },
     "metadata": {},
     "output_type": "display_data"
    },
    {
     "name": "stdout",
     "output_type": "stream",
     "text": [
      "scores:  [0.04049084 0.03454798 0.03434926 0.03393251 0.03331247 0.03273907\n",
      " 0.03255638 0.03013441 0.0283874  0.02823925]\n"
     ]
    }
   ],
   "source": [
    "def get_random_customer_from_test_data():\n",
    "    return next(iter(test.take(1)))['customer_id'].numpy()\n",
    "\n",
    "def display_item_ids(item_ids):\n",
    "    display(product_data[product_data.main_product_id.isin(item_ids) ])\n",
    "\n",
    "def display_products_by_customer_id(customer_id):\n",
    "    display_item_ids(pandas_interaction_data[pandas_interaction_data.customer_id ==  customer_id].main_product_id.tolist())\n",
    "    \n",
    "\n",
    "index = tfrs.layers.factorized_top_k.BruteForce(model.user_embedding)\n",
    "index.index_from_dataset(\n",
    "    product_ids_dataset.batch(100).map(lambda id: (id, model.product_model(id))))\n",
    "\n",
    "def predict_user(user_id):\n",
    "    print('predicting user: ', user_id)\n",
    "    print('user already bought following products: ')\n",
    "    display_products_by_customer_id(user_id)\n",
    "    \n",
    "    score, predicted_product_ids = index(np.array([user_id]))\n",
    "    \n",
    "    print('predicted products: ')\n",
    "    display_item_ids(predicted_product_ids[0].numpy())\n",
    "    print('scores: ', score[0].numpy())\n",
    "\n",
    "\n",
    "user_id = get_random_customer_from_test_data()\n",
    "\n",
    "predict_user(user_id)"
   ],
   "metadata": {
    "collapsed": false,
    "ExecuteTime": {
     "end_time": "2023-12-01T08:17:14.010833Z",
     "start_time": "2023-12-01T08:17:13.822620Z"
    }
   },
   "id": "d8785689b14ad90"
  },
  {
   "cell_type": "code",
   "execution_count": 17,
   "outputs": [
    {
     "name": "stdout",
     "output_type": "stream",
     "text": [
      "predicting user:  11084132\n",
      "user already bought following products: \n"
     ]
    },
    {
     "data": {
      "text/plain": "     main_product_id  productNumber                   productName  \\\n862          5150503  4062862543596  Sneaker high Glattleder weiß   \n\n    productColorName articleNumber  brand__id  mainCategory__id gender  \\\n862             weiß     63.400.21    6590677            315586      w   \n\n    originCountry line  ...  sizeEu sizeUk  sizeIndex  shaftLength__value  \\\n862            PT  F-S  ...    40.5    7.0       12.0                13.0   \n\n     sole  isTransferee  isSuccessor  \\\n862    TR           0.0          0.0   \n\n                                duplicate_product__ids  \\\n862  [5150503, 5150501, 5150502, 5150497, 5150499, ...   \n\n                                         product_sizes color_mapped  \n862  [35.0, 35.5, 36.0, 37.0, 37.5, 38.0, 38.5, 39....            2  \n\n[1 rows x 57 columns]",
      "text/html": "<div>\n<style scoped>\n    .dataframe tbody tr th:only-of-type {\n        vertical-align: middle;\n    }\n\n    .dataframe tbody tr th {\n        vertical-align: top;\n    }\n\n    .dataframe thead th {\n        text-align: right;\n    }\n</style>\n<table border=\"1\" class=\"dataframe\">\n  <thead>\n    <tr style=\"text-align: right;\">\n      <th></th>\n      <th>main_product_id</th>\n      <th>productNumber</th>\n      <th>productName</th>\n      <th>productColorName</th>\n      <th>articleNumber</th>\n      <th>brand__id</th>\n      <th>mainCategory__id</th>\n      <th>gender</th>\n      <th>originCountry</th>\n      <th>line</th>\n      <th>...</th>\n      <th>sizeEu</th>\n      <th>sizeUk</th>\n      <th>sizeIndex</th>\n      <th>shaftLength__value</th>\n      <th>sole</th>\n      <th>isTransferee</th>\n      <th>isSuccessor</th>\n      <th>duplicate_product__ids</th>\n      <th>product_sizes</th>\n      <th>color_mapped</th>\n    </tr>\n  </thead>\n  <tbody>\n    <tr>\n      <th>862</th>\n      <td>5150503</td>\n      <td>4062862543596</td>\n      <td>Sneaker high Glattleder weiß</td>\n      <td>weiß</td>\n      <td>63.400.21</td>\n      <td>6590677</td>\n      <td>315586</td>\n      <td>w</td>\n      <td>PT</td>\n      <td>F-S</td>\n      <td>...</td>\n      <td>40.5</td>\n      <td>7.0</td>\n      <td>12.0</td>\n      <td>13.0</td>\n      <td>TR</td>\n      <td>0.0</td>\n      <td>0.0</td>\n      <td>[5150503, 5150501, 5150502, 5150497, 5150499, ...</td>\n      <td>[35.0, 35.5, 36.0, 37.0, 37.5, 38.0, 38.5, 39....</td>\n      <td>2</td>\n    </tr>\n  </tbody>\n</table>\n<p>1 rows × 57 columns</p>\n</div>"
     },
     "metadata": {},
     "output_type": "display_data"
    },
    {
     "name": "stdout",
     "output_type": "stream",
     "text": [
      "predicted products: \n"
     ]
    },
    {
     "data": {
      "text/plain": "      main_product_id  productNumber  \\\n126           3554637  4062862010111   \n138           3591304  4062862959946   \n238           3787599  4062862433965   \n601           4772273  4062862780700   \n668           4823122  4062862835011   \n1501          6570644  4064032577462   \n1533          6596615  4064032876923   \n1678          6177675  4064032567845   \n1786          7598061  4064032261569   \n1813          7811882  4064032152836   \n\n                                           productName productColorName  \\\n126                 Plateau Stiefelette Rauleder braun            braun   \n138                          Sneaker low Rauleder grau             grau   \n238         Sneaker high Materialmix Leder multicolour      multicolour   \n601                 Sneaker low Glattleder multicolour      multicolour   \n668                   Eleganter Pumps Lederimitat gelb             gelb   \n1501             Winterstiefelette Lederimitat schwarz          schwarz   \n1533                         Hausschuhe Rauleder braun            braun   \n1678  PG8002 Sneaker low Materialmix Leder/Textil blau             blau   \n1786            Riemchensandale Glattleder multicolour      multicolour   \n1813            Plateau Sandale Materialmix Leder weiß             weiß   \n\n     articleNumber  brand__id  mainCategory__id gender originCountry line  \\\n126      53.572.18    6590677           5014851      w            VN  H-W   \n138      53.420.19    6590677            315567      w            PT  H-W   \n238      53.591.25    6590677            315586      w            PT  H-W   \n601      63.300.20    6590677            315567      w            PT  F-S   \n668      61.270.43    6590677            315573      w            PT  F-S   \n1501     71.717.77    6590677            315580      w            PT  H-W   \n1533     73.014.14    6590677           8487167      m            PT  H-W   \n1678    8002.10.02    4997827           3692261      m            CN  H-W   \n1786     82.773.60    6590678            315564      w            PT  F-S   \n1813     83.601.21    6590677            315568      w            SK  F-S   \n\n      ...  sizeEu sizeUk  sizeIndex  shaftLength__value       sole  \\\n126   ...    39.0    6.0       10.0                15.0  Gummi-EVA   \n138   ...    44.0    9.5       17.0                 0.0         TR   \n238   ...    38.0    5.0        8.0                13.0     PU-TPU   \n601   ...    40.5    7.0       12.0                 0.0         TR   \n668   ...    39.0    6.0       10.0                 0.0        EVA   \n1501  ...    43.0    9.0       16.0                24.0         TR   \n1533  ...    42.0    8.0       10.0                 0.0        EVA   \n1678  ...    44.0    9.5       10.0                 0.0  Gummi-EVA   \n1786  ...    40.0    6.5       11.0                 0.0         TR   \n1813  ...    40.0    6.5        8.0                 0.0         TR   \n\n      isTransferee  isSuccessor  \\\n126            0.0          0.0   \n138            0.0          0.0   \n238            0.0          0.0   \n601            0.0          1.0   \n668            1.0          1.0   \n1501           0.0          0.0   \n1533           0.0          0.0   \n1678           0.0          0.0   \n1786           0.0          0.0   \n1813           0.0          0.0   \n\n                                 duplicate_product__ids  \\\n126   [3554637, 3554643, 3787996, 3787992, 3787995, ...   \n138   [3591304, 3591302, 3845754, 3845748, 3845750, ...   \n238   [3787599, 3787605, 3787595, 3787607, 3787606, ...   \n601   [4772273, 4772276, 4772272, 5184660, 5184669, ...   \n668   [4823122, 3473076, 3473083, 3473079, 3473087, ...   \n1501  [6570644, 6570641, 6570638, 6570631, 6570642, ...   \n1533                                          [6596615]   \n1678  [6177675, 6177671, 6177678, 6177674, 6177679, ...   \n1786  [7598061, 7598058, 7598063, 7598062, 7598057, ...   \n1813  [7811882, 7588967, 7811883, 7811880, 7811878, ...   \n\n                                          product_sizes color_mapped  \n126   [35.5, 36.0, 37.0, 37.5, 38.0, 38.5, 39.0, 40....            3  \n138   [35.0, 35.5, 36.0, 37.0, 37.5, 38.0, 38.5, 39....            4  \n238   [35.5, 36.0, 37.0, 37.5, 38.0, 38.5, 39.0, 40....           10  \n601   [35.0, 36.0, 37.0, 37.5, 38.0, 38.5, 39.0, 40....           10  \n668   [35.5, 36.0, 37.0, 37.5, 38.0, 38.5, 39.0, 40....            7  \n1501  [35.0, 35.5, 37.5, 38.0, 38.5, 39.0, 40.5, 41....            0  \n1533                                             [42.0]            3  \n1678  [39.0, 40.0, 41.0, 42.0, 42.5, 43.0, 44.0, 44....            1  \n1786  [35.0, 35.5, 36.0, 37.0, 37.5, 38.0, 38.5, 39....           10  \n1813  [35.0, 35.5, 36.0, 37.0, 37.5, 38.0, 38.5, 39....            2  \n\n[10 rows x 57 columns]",
      "text/html": "<div>\n<style scoped>\n    .dataframe tbody tr th:only-of-type {\n        vertical-align: middle;\n    }\n\n    .dataframe tbody tr th {\n        vertical-align: top;\n    }\n\n    .dataframe thead th {\n        text-align: right;\n    }\n</style>\n<table border=\"1\" class=\"dataframe\">\n  <thead>\n    <tr style=\"text-align: right;\">\n      <th></th>\n      <th>main_product_id</th>\n      <th>productNumber</th>\n      <th>productName</th>\n      <th>productColorName</th>\n      <th>articleNumber</th>\n      <th>brand__id</th>\n      <th>mainCategory__id</th>\n      <th>gender</th>\n      <th>originCountry</th>\n      <th>line</th>\n      <th>...</th>\n      <th>sizeEu</th>\n      <th>sizeUk</th>\n      <th>sizeIndex</th>\n      <th>shaftLength__value</th>\n      <th>sole</th>\n      <th>isTransferee</th>\n      <th>isSuccessor</th>\n      <th>duplicate_product__ids</th>\n      <th>product_sizes</th>\n      <th>color_mapped</th>\n    </tr>\n  </thead>\n  <tbody>\n    <tr>\n      <th>126</th>\n      <td>3554637</td>\n      <td>4062862010111</td>\n      <td>Plateau Stiefelette Rauleder braun</td>\n      <td>braun</td>\n      <td>53.572.18</td>\n      <td>6590677</td>\n      <td>5014851</td>\n      <td>w</td>\n      <td>VN</td>\n      <td>H-W</td>\n      <td>...</td>\n      <td>39.0</td>\n      <td>6.0</td>\n      <td>10.0</td>\n      <td>15.0</td>\n      <td>Gummi-EVA</td>\n      <td>0.0</td>\n      <td>0.0</td>\n      <td>[3554637, 3554643, 3787996, 3787992, 3787995, ...</td>\n      <td>[35.5, 36.0, 37.0, 37.5, 38.0, 38.5, 39.0, 40....</td>\n      <td>3</td>\n    </tr>\n    <tr>\n      <th>138</th>\n      <td>3591304</td>\n      <td>4062862959946</td>\n      <td>Sneaker low Rauleder grau</td>\n      <td>grau</td>\n      <td>53.420.19</td>\n      <td>6590677</td>\n      <td>315567</td>\n      <td>w</td>\n      <td>PT</td>\n      <td>H-W</td>\n      <td>...</td>\n      <td>44.0</td>\n      <td>9.5</td>\n      <td>17.0</td>\n      <td>0.0</td>\n      <td>TR</td>\n      <td>0.0</td>\n      <td>0.0</td>\n      <td>[3591304, 3591302, 3845754, 3845748, 3845750, ...</td>\n      <td>[35.0, 35.5, 36.0, 37.0, 37.5, 38.0, 38.5, 39....</td>\n      <td>4</td>\n    </tr>\n    <tr>\n      <th>238</th>\n      <td>3787599</td>\n      <td>4062862433965</td>\n      <td>Sneaker high Materialmix Leder multicolour</td>\n      <td>multicolour</td>\n      <td>53.591.25</td>\n      <td>6590677</td>\n      <td>315586</td>\n      <td>w</td>\n      <td>PT</td>\n      <td>H-W</td>\n      <td>...</td>\n      <td>38.0</td>\n      <td>5.0</td>\n      <td>8.0</td>\n      <td>13.0</td>\n      <td>PU-TPU</td>\n      <td>0.0</td>\n      <td>0.0</td>\n      <td>[3787599, 3787605, 3787595, 3787607, 3787606, ...</td>\n      <td>[35.5, 36.0, 37.0, 37.5, 38.0, 38.5, 39.0, 40....</td>\n      <td>10</td>\n    </tr>\n    <tr>\n      <th>601</th>\n      <td>4772273</td>\n      <td>4062862780700</td>\n      <td>Sneaker low Glattleder multicolour</td>\n      <td>multicolour</td>\n      <td>63.300.20</td>\n      <td>6590677</td>\n      <td>315567</td>\n      <td>w</td>\n      <td>PT</td>\n      <td>F-S</td>\n      <td>...</td>\n      <td>40.5</td>\n      <td>7.0</td>\n      <td>12.0</td>\n      <td>0.0</td>\n      <td>TR</td>\n      <td>0.0</td>\n      <td>1.0</td>\n      <td>[4772273, 4772276, 4772272, 5184660, 5184669, ...</td>\n      <td>[35.0, 36.0, 37.0, 37.5, 38.0, 38.5, 39.0, 40....</td>\n      <td>10</td>\n    </tr>\n    <tr>\n      <th>668</th>\n      <td>4823122</td>\n      <td>4062862835011</td>\n      <td>Eleganter Pumps Lederimitat gelb</td>\n      <td>gelb</td>\n      <td>61.270.43</td>\n      <td>6590677</td>\n      <td>315573</td>\n      <td>w</td>\n      <td>PT</td>\n      <td>F-S</td>\n      <td>...</td>\n      <td>39.0</td>\n      <td>6.0</td>\n      <td>10.0</td>\n      <td>0.0</td>\n      <td>EVA</td>\n      <td>1.0</td>\n      <td>1.0</td>\n      <td>[4823122, 3473076, 3473083, 3473079, 3473087, ...</td>\n      <td>[35.5, 36.0, 37.0, 37.5, 38.0, 38.5, 39.0, 40....</td>\n      <td>7</td>\n    </tr>\n    <tr>\n      <th>1501</th>\n      <td>6570644</td>\n      <td>4064032577462</td>\n      <td>Winterstiefelette Lederimitat schwarz</td>\n      <td>schwarz</td>\n      <td>71.717.77</td>\n      <td>6590677</td>\n      <td>315580</td>\n      <td>w</td>\n      <td>PT</td>\n      <td>H-W</td>\n      <td>...</td>\n      <td>43.0</td>\n      <td>9.0</td>\n      <td>16.0</td>\n      <td>24.0</td>\n      <td>TR</td>\n      <td>0.0</td>\n      <td>0.0</td>\n      <td>[6570644, 6570641, 6570638, 6570631, 6570642, ...</td>\n      <td>[35.0, 35.5, 37.5, 38.0, 38.5, 39.0, 40.5, 41....</td>\n      <td>0</td>\n    </tr>\n    <tr>\n      <th>1533</th>\n      <td>6596615</td>\n      <td>4064032876923</td>\n      <td>Hausschuhe Rauleder braun</td>\n      <td>braun</td>\n      <td>73.014.14</td>\n      <td>6590677</td>\n      <td>8487167</td>\n      <td>m</td>\n      <td>PT</td>\n      <td>H-W</td>\n      <td>...</td>\n      <td>42.0</td>\n      <td>8.0</td>\n      <td>10.0</td>\n      <td>0.0</td>\n      <td>EVA</td>\n      <td>0.0</td>\n      <td>0.0</td>\n      <td>[6596615]</td>\n      <td>[42.0]</td>\n      <td>3</td>\n    </tr>\n    <tr>\n      <th>1678</th>\n      <td>6177675</td>\n      <td>4064032567845</td>\n      <td>PG8002 Sneaker low Materialmix Leder/Textil blau</td>\n      <td>blau</td>\n      <td>8002.10.02</td>\n      <td>4997827</td>\n      <td>3692261</td>\n      <td>m</td>\n      <td>CN</td>\n      <td>H-W</td>\n      <td>...</td>\n      <td>44.0</td>\n      <td>9.5</td>\n      <td>10.0</td>\n      <td>0.0</td>\n      <td>Gummi-EVA</td>\n      <td>0.0</td>\n      <td>0.0</td>\n      <td>[6177675, 6177671, 6177678, 6177674, 6177679, ...</td>\n      <td>[39.0, 40.0, 41.0, 42.0, 42.5, 43.0, 44.0, 44....</td>\n      <td>1</td>\n    </tr>\n    <tr>\n      <th>1786</th>\n      <td>7598061</td>\n      <td>4064032261569</td>\n      <td>Riemchensandale Glattleder multicolour</td>\n      <td>multicolour</td>\n      <td>82.773.60</td>\n      <td>6590678</td>\n      <td>315564</td>\n      <td>w</td>\n      <td>PT</td>\n      <td>F-S</td>\n      <td>...</td>\n      <td>40.0</td>\n      <td>6.5</td>\n      <td>11.0</td>\n      <td>0.0</td>\n      <td>TR</td>\n      <td>0.0</td>\n      <td>0.0</td>\n      <td>[7598061, 7598058, 7598063, 7598062, 7598057, ...</td>\n      <td>[35.0, 35.5, 36.0, 37.0, 37.5, 38.0, 38.5, 39....</td>\n      <td>10</td>\n    </tr>\n    <tr>\n      <th>1813</th>\n      <td>7811882</td>\n      <td>4064032152836</td>\n      <td>Plateau Sandale Materialmix Leder weiß</td>\n      <td>weiß</td>\n      <td>83.601.21</td>\n      <td>6590677</td>\n      <td>315568</td>\n      <td>w</td>\n      <td>SK</td>\n      <td>F-S</td>\n      <td>...</td>\n      <td>40.0</td>\n      <td>6.5</td>\n      <td>8.0</td>\n      <td>0.0</td>\n      <td>TR</td>\n      <td>0.0</td>\n      <td>0.0</td>\n      <td>[7811882, 7588967, 7811883, 7811880, 7811878, ...</td>\n      <td>[35.0, 35.5, 36.0, 37.0, 37.5, 38.0, 38.5, 39....</td>\n      <td>2</td>\n    </tr>\n  </tbody>\n</table>\n<p>10 rows × 57 columns</p>\n</div>"
     },
     "metadata": {},
     "output_type": "display_data"
    },
    {
     "name": "stdout",
     "output_type": "stream",
     "text": [
      "scores:  [0.04101894 0.04101    0.0410013  0.03996648 0.03946315 0.03891369\n",
      " 0.03749887 0.03744262 0.03646318 0.03566917]\n"
     ]
    }
   ],
   "source": [
    "user_id = next(iter(train.take(1)))['customer_id'].numpy()\n",
    "predict_user(user_id)"
   ],
   "metadata": {
    "collapsed": false,
    "ExecuteTime": {
     "end_time": "2023-12-01T08:17:14.090134Z",
     "start_time": "2023-12-01T08:17:13.976319Z"
    }
   },
   "id": "ccdee48c0a0d68ae"
  },
  {
   "cell_type": "code",
   "execution_count": 18,
   "outputs": [],
   "source": [
    "#model.save('../../models/gabor/gabor_tensorflow_reco_all_data_3_epochs_v1.h5')"
   ],
   "metadata": {
    "collapsed": false,
    "ExecuteTime": {
     "end_time": "2023-12-01T08:17:14.091926Z",
     "start_time": "2023-12-01T08:17:14.033563Z"
    }
   },
   "id": "eb395206e9a41cc7"
  },
  {
   "cell_type": "code",
   "execution_count": 18,
   "outputs": [],
   "source": [],
   "metadata": {
    "collapsed": false,
    "ExecuteTime": {
     "end_time": "2023-12-01T08:17:14.092343Z",
     "start_time": "2023-12-01T08:17:14.036281Z"
    }
   },
   "id": "313096ee48653126"
  }
 ],
 "metadata": {
  "kernelspec": {
   "display_name": "Python 3",
   "language": "python",
   "name": "python3"
  },
  "language_info": {
   "codemirror_mode": {
    "name": "ipython",
    "version": 2
   },
   "file_extension": ".py",
   "mimetype": "text/x-python",
   "name": "python",
   "nbconvert_exporter": "python",
   "pygments_lexer": "ipython2",
   "version": "2.7.6"
  }
 },
 "nbformat": 4,
 "nbformat_minor": 5
}
