{
 "cells": [
  {
   "cell_type": "code",
   "execution_count": 1,
   "metadata": {
    "collapsed": true
   },
   "outputs": [],
   "source": [
    "import pandas as pd\n",
    "from keras.layers import Input, Embedding, LSTM, Dense, Dot, Softmax, Concatenate, BatchNormalization, Attention\n",
    "from keras.models import Model\n",
    "import tensorflow as tf\n",
    "import numpy as np\n",
    "from keras.utils import pad_sequences"
   ]
  },
  {
   "cell_type": "code",
   "execution_count": 2,
   "outputs": [],
   "source": [
    "basepath = '../../datasets/preprocessed_datasets/gabor/'\n",
    "product_data = pd.read_pickle(basepath +'orders_and_products_by_customer.pkl')"
   ],
   "metadata": {
    "collapsed": false
   }
  },
  {
   "cell_type": "code",
   "execution_count": 3,
   "outputs": [
    {
     "data": {
      "text/plain": "        customer_id                    order_ids  \\\n161006    7014717.0                    [7014683]   \n110174    5808187.0                    [5808183]   \n117632    5977435.0                    [5977432]   \n211554    8237133.0                    [8237129]   \n273674    9570198.0                    [9570195]   \n...             ...                          ...   \n135463    6446020.0                    [6446015]   \n319010   10305780.0                   [10305777]   \n201844    8002533.0                    [8002530]   \n3248      1978282.0  [5518366, 7540078, 7886109]   \n36721     4089747.0                    [4089743]   \n\n                                              product_ids  \\\n161006                               [[6556091, 6143081]]   \n110174                                         [[407457]]   \n117632                                        [[4772019]]   \n211554                               [[7699357, 7793733]]   \n273674                                        [[8807325]]   \n...                                                   ...   \n135463                      [[5149676, 5375078, 4998087]]   \n319010                                        [[8504072]]   \n201844                                         [[556949]]   \n3248    [[4775784, 5338399], [3548784, 4030395, 494660...   \n36721                       [[4064235, 4031882, 4078253]]   \n\n                                            product_names  \\\n161006  [[Elegante Stiefelette Rauleder Blau, Elegante...   \n110174                       [[Pantolette Rauleder grau]]   \n117632                   [[Riemchensandale Rauleder rot]]   \n211554  [[Sneaker low Materialmix Leder Blau, Sneaker ...   \n273674                      [[Sneaker low Rauleder grün]]   \n...                                                   ...   \n135463  [[Pantolette Glattleder braun, Pantolette Raul...   \n319010               [[Winterstiefelette Rauleder beige]]   \n201844             [[Eleganter Pumps Glattleder schwarz]]   \n3248    [[Spangenpumps Rauleder rosa, Riemchensandale ...   \n36721   [[Schnürstiefelette Glattleder braun, Schnürst...   \n\n                            amounts  \\\n161006                     [[1, 1]]   \n110174                        [[1]]   \n117632                        [[1]]   \n211554                     [[1, 1]]   \n273674                        [[1]]   \n...                             ...   \n135463                  [[1, 1, 1]]   \n319010                        [[1]]   \n201844                        [[1]]   \n3248    [[1, 1], [1, 1, 1], [1, 1]]   \n36721                   [[1, 1, 1]]   \n\n                                             total_prices  \\\n161006                                   [[125.0, 130.0]]   \n110174                                          [[69.95]]   \n117632                                          [[99.95]]   \n211554                                   [[99.95, 140.0]]   \n273674                                          [[99.95]]   \n...                                                   ...   \n135463                               [[59.0, 59.0, 69.0]]   \n319010                                          [[125.0]]   \n201844                                          [[89.95]]   \n3248    [[99.95, 99.95], [99.0, 69.0, 79.0], [89.0, 69...   \n36721                          [[121.85, 136.47, 146.22]]   \n\n                                              order_dates  \n161006                         [[1633338269, 1633338269]]  \n110174                                     [[1620226968]]  \n117632                                     [[1622179990]]  \n211554                         [[1648661921, 1648661921]]  \n273674                                     [[1663513869]]  \n...                                                   ...  \n135463             [[1626721332, 1626721332, 1626721332]]  \n319010                                     [[1670843460]]  \n201844                                     [[1645792116]]  \n3248    [[1617357897, 1617357897], [1637917892, 163791...  \n36721              [[1600358792, 1600358792, 1600358792]]  \n\n[1000 rows x 7 columns]",
      "text/html": "<div>\n<style scoped>\n    .dataframe tbody tr th:only-of-type {\n        vertical-align: middle;\n    }\n\n    .dataframe tbody tr th {\n        vertical-align: top;\n    }\n\n    .dataframe thead th {\n        text-align: right;\n    }\n</style>\n<table border=\"1\" class=\"dataframe\">\n  <thead>\n    <tr style=\"text-align: right;\">\n      <th></th>\n      <th>customer_id</th>\n      <th>order_ids</th>\n      <th>product_ids</th>\n      <th>product_names</th>\n      <th>amounts</th>\n      <th>total_prices</th>\n      <th>order_dates</th>\n    </tr>\n  </thead>\n  <tbody>\n    <tr>\n      <th>161006</th>\n      <td>7014717.0</td>\n      <td>[7014683]</td>\n      <td>[[6556091, 6143081]]</td>\n      <td>[[Elegante Stiefelette Rauleder Blau, Elegante...</td>\n      <td>[[1, 1]]</td>\n      <td>[[125.0, 130.0]]</td>\n      <td>[[1633338269, 1633338269]]</td>\n    </tr>\n    <tr>\n      <th>110174</th>\n      <td>5808187.0</td>\n      <td>[5808183]</td>\n      <td>[[407457]]</td>\n      <td>[[Pantolette Rauleder grau]]</td>\n      <td>[[1]]</td>\n      <td>[[69.95]]</td>\n      <td>[[1620226968]]</td>\n    </tr>\n    <tr>\n      <th>117632</th>\n      <td>5977435.0</td>\n      <td>[5977432]</td>\n      <td>[[4772019]]</td>\n      <td>[[Riemchensandale Rauleder rot]]</td>\n      <td>[[1]]</td>\n      <td>[[99.95]]</td>\n      <td>[[1622179990]]</td>\n    </tr>\n    <tr>\n      <th>211554</th>\n      <td>8237133.0</td>\n      <td>[8237129]</td>\n      <td>[[7699357, 7793733]]</td>\n      <td>[[Sneaker low Materialmix Leder Blau, Sneaker ...</td>\n      <td>[[1, 1]]</td>\n      <td>[[99.95, 140.0]]</td>\n      <td>[[1648661921, 1648661921]]</td>\n    </tr>\n    <tr>\n      <th>273674</th>\n      <td>9570198.0</td>\n      <td>[9570195]</td>\n      <td>[[8807325]]</td>\n      <td>[[Sneaker low Rauleder grün]]</td>\n      <td>[[1]]</td>\n      <td>[[99.95]]</td>\n      <td>[[1663513869]]</td>\n    </tr>\n    <tr>\n      <th>...</th>\n      <td>...</td>\n      <td>...</td>\n      <td>...</td>\n      <td>...</td>\n      <td>...</td>\n      <td>...</td>\n      <td>...</td>\n    </tr>\n    <tr>\n      <th>135463</th>\n      <td>6446020.0</td>\n      <td>[6446015]</td>\n      <td>[[5149676, 5375078, 4998087]]</td>\n      <td>[[Pantolette Glattleder braun, Pantolette Raul...</td>\n      <td>[[1, 1, 1]]</td>\n      <td>[[59.0, 59.0, 69.0]]</td>\n      <td>[[1626721332, 1626721332, 1626721332]]</td>\n    </tr>\n    <tr>\n      <th>319010</th>\n      <td>10305780.0</td>\n      <td>[10305777]</td>\n      <td>[[8504072]]</td>\n      <td>[[Winterstiefelette Rauleder beige]]</td>\n      <td>[[1]]</td>\n      <td>[[125.0]]</td>\n      <td>[[1670843460]]</td>\n    </tr>\n    <tr>\n      <th>201844</th>\n      <td>8002533.0</td>\n      <td>[8002530]</td>\n      <td>[[556949]]</td>\n      <td>[[Eleganter Pumps Glattleder schwarz]]</td>\n      <td>[[1]]</td>\n      <td>[[89.95]]</td>\n      <td>[[1645792116]]</td>\n    </tr>\n    <tr>\n      <th>3248</th>\n      <td>1978282.0</td>\n      <td>[5518366, 7540078, 7886109]</td>\n      <td>[[4775784, 5338399], [3548784, 4030395, 494660...</td>\n      <td>[[Spangenpumps Rauleder rosa, Riemchensandale ...</td>\n      <td>[[1, 1], [1, 1, 1], [1, 1]]</td>\n      <td>[[99.95, 99.95], [99.0, 69.0, 79.0], [89.0, 69...</td>\n      <td>[[1617357897, 1617357897], [1637917892, 163791...</td>\n    </tr>\n    <tr>\n      <th>36721</th>\n      <td>4089747.0</td>\n      <td>[4089743]</td>\n      <td>[[4064235, 4031882, 4078253]]</td>\n      <td>[[Schnürstiefelette Glattleder braun, Schnürst...</td>\n      <td>[[1, 1, 1]]</td>\n      <td>[[121.85, 136.47, 146.22]]</td>\n      <td>[[1600358792, 1600358792, 1600358792]]</td>\n    </tr>\n  </tbody>\n</table>\n<p>1000 rows × 7 columns</p>\n</div>"
     },
     "execution_count": 3,
     "metadata": {},
     "output_type": "execute_result"
    }
   ],
   "source": [
    "product_data = product_data.sample(n=1000)\n",
    "product_data"
   ],
   "metadata": {
    "collapsed": false
   }
  },
  {
   "cell_type": "code",
   "execution_count": 4,
   "outputs": [
    {
     "data": {
      "text/plain": "        customer_id                    order_ids  \\\n161006    7014717.0                    [7014683]   \n110174    5808187.0                    [5808183]   \n117632    5977435.0                    [5977432]   \n211554    8237133.0                    [8237129]   \n273674    9570198.0                    [9570195]   \n...             ...                          ...   \n135463    6446020.0                    [6446015]   \n319010   10305780.0                   [10305777]   \n201844    8002533.0                    [8002530]   \n3248      1978282.0  [5518366, 7540078, 7886109]   \n36721     4089747.0                    [4089743]   \n\n                                              product_ids  \\\n161006                               [[6556091, 6143081]]   \n110174                                         [[407457]]   \n117632                                        [[4772019]]   \n211554                               [[7699357, 7793733]]   \n273674                                        [[8807325]]   \n...                                                   ...   \n135463                      [[5149676, 5375078, 4998087]]   \n319010                                        [[8504072]]   \n201844                                         [[556949]]   \n3248    [[4775784, 5338399], [3548784, 4030395, 494660...   \n36721                       [[4064235, 4031882, 4078253]]   \n\n                                            product_names  \\\n161006  [[Elegante Stiefelette Rauleder Blau, Elegante...   \n110174                       [[Pantolette Rauleder grau]]   \n117632                   [[Riemchensandale Rauleder rot]]   \n211554  [[Sneaker low Materialmix Leder Blau, Sneaker ...   \n273674                      [[Sneaker low Rauleder grün]]   \n...                                                   ...   \n135463  [[Pantolette Glattleder braun, Pantolette Raul...   \n319010               [[Winterstiefelette Rauleder beige]]   \n201844             [[Eleganter Pumps Glattleder schwarz]]   \n3248    [[Spangenpumps Rauleder rosa, Riemchensandale ...   \n36721   [[Schnürstiefelette Glattleder braun, Schnürst...   \n\n                            amounts  \\\n161006                     [[1, 1]]   \n110174                        [[1]]   \n117632                        [[1]]   \n211554                     [[1, 1]]   \n273674                        [[1]]   \n...                             ...   \n135463                  [[1, 1, 1]]   \n319010                        [[1]]   \n201844                        [[1]]   \n3248    [[1, 1], [1, 1, 1], [1, 1]]   \n36721                   [[1, 1, 1]]   \n\n                                             total_prices  \\\n161006                                   [[125.0, 130.0]]   \n110174                                          [[69.95]]   \n117632                                          [[99.95]]   \n211554                                   [[99.95, 140.0]]   \n273674                                          [[99.95]]   \n...                                                   ...   \n135463                               [[59.0, 59.0, 69.0]]   \n319010                                          [[125.0]]   \n201844                                          [[89.95]]   \n3248    [[99.95, 99.95], [99.0, 69.0, 79.0], [89.0, 69...   \n36721                          [[121.85, 136.47, 146.22]]   \n\n                                              order_dates  \n161006                         [[1633338269, 1633338269]]  \n110174                                     [[1620226968]]  \n117632                                     [[1622179990]]  \n211554                         [[1648661921, 1648661921]]  \n273674                                     [[1663513869]]  \n...                                                   ...  \n135463             [[1626721332, 1626721332, 1626721332]]  \n319010                                     [[1670843460]]  \n201844                                     [[1645792116]]  \n3248    [[1617357897, 1617357897], [1637917892, 163791...  \n36721              [[1600358792, 1600358792, 1600358792]]  \n\n[1000 rows x 7 columns]",
      "text/html": "<div>\n<style scoped>\n    .dataframe tbody tr th:only-of-type {\n        vertical-align: middle;\n    }\n\n    .dataframe tbody tr th {\n        vertical-align: top;\n    }\n\n    .dataframe thead th {\n        text-align: right;\n    }\n</style>\n<table border=\"1\" class=\"dataframe\">\n  <thead>\n    <tr style=\"text-align: right;\">\n      <th></th>\n      <th>customer_id</th>\n      <th>order_ids</th>\n      <th>product_ids</th>\n      <th>product_names</th>\n      <th>amounts</th>\n      <th>total_prices</th>\n      <th>order_dates</th>\n    </tr>\n  </thead>\n  <tbody>\n    <tr>\n      <th>161006</th>\n      <td>7014717.0</td>\n      <td>[7014683]</td>\n      <td>[[6556091, 6143081]]</td>\n      <td>[[Elegante Stiefelette Rauleder Blau, Elegante...</td>\n      <td>[[1, 1]]</td>\n      <td>[[125.0, 130.0]]</td>\n      <td>[[1633338269, 1633338269]]</td>\n    </tr>\n    <tr>\n      <th>110174</th>\n      <td>5808187.0</td>\n      <td>[5808183]</td>\n      <td>[[407457]]</td>\n      <td>[[Pantolette Rauleder grau]]</td>\n      <td>[[1]]</td>\n      <td>[[69.95]]</td>\n      <td>[[1620226968]]</td>\n    </tr>\n    <tr>\n      <th>117632</th>\n      <td>5977435.0</td>\n      <td>[5977432]</td>\n      <td>[[4772019]]</td>\n      <td>[[Riemchensandale Rauleder rot]]</td>\n      <td>[[1]]</td>\n      <td>[[99.95]]</td>\n      <td>[[1622179990]]</td>\n    </tr>\n    <tr>\n      <th>211554</th>\n      <td>8237133.0</td>\n      <td>[8237129]</td>\n      <td>[[7699357, 7793733]]</td>\n      <td>[[Sneaker low Materialmix Leder Blau, Sneaker ...</td>\n      <td>[[1, 1]]</td>\n      <td>[[99.95, 140.0]]</td>\n      <td>[[1648661921, 1648661921]]</td>\n    </tr>\n    <tr>\n      <th>273674</th>\n      <td>9570198.0</td>\n      <td>[9570195]</td>\n      <td>[[8807325]]</td>\n      <td>[[Sneaker low Rauleder grün]]</td>\n      <td>[[1]]</td>\n      <td>[[99.95]]</td>\n      <td>[[1663513869]]</td>\n    </tr>\n    <tr>\n      <th>...</th>\n      <td>...</td>\n      <td>...</td>\n      <td>...</td>\n      <td>...</td>\n      <td>...</td>\n      <td>...</td>\n      <td>...</td>\n    </tr>\n    <tr>\n      <th>135463</th>\n      <td>6446020.0</td>\n      <td>[6446015]</td>\n      <td>[[5149676, 5375078, 4998087]]</td>\n      <td>[[Pantolette Glattleder braun, Pantolette Raul...</td>\n      <td>[[1, 1, 1]]</td>\n      <td>[[59.0, 59.0, 69.0]]</td>\n      <td>[[1626721332, 1626721332, 1626721332]]</td>\n    </tr>\n    <tr>\n      <th>319010</th>\n      <td>10305780.0</td>\n      <td>[10305777]</td>\n      <td>[[8504072]]</td>\n      <td>[[Winterstiefelette Rauleder beige]]</td>\n      <td>[[1]]</td>\n      <td>[[125.0]]</td>\n      <td>[[1670843460]]</td>\n    </tr>\n    <tr>\n      <th>201844</th>\n      <td>8002533.0</td>\n      <td>[8002530]</td>\n      <td>[[556949]]</td>\n      <td>[[Eleganter Pumps Glattleder schwarz]]</td>\n      <td>[[1]]</td>\n      <td>[[89.95]]</td>\n      <td>[[1645792116]]</td>\n    </tr>\n    <tr>\n      <th>3248</th>\n      <td>1978282.0</td>\n      <td>[5518366, 7540078, 7886109]</td>\n      <td>[[4775784, 5338399], [3548784, 4030395, 494660...</td>\n      <td>[[Spangenpumps Rauleder rosa, Riemchensandale ...</td>\n      <td>[[1, 1], [1, 1, 1], [1, 1]]</td>\n      <td>[[99.95, 99.95], [99.0, 69.0, 79.0], [89.0, 69...</td>\n      <td>[[1617357897, 1617357897], [1637917892, 163791...</td>\n    </tr>\n    <tr>\n      <th>36721</th>\n      <td>4089747.0</td>\n      <td>[4089743]</td>\n      <td>[[4064235, 4031882, 4078253]]</td>\n      <td>[[Schnürstiefelette Glattleder braun, Schnürst...</td>\n      <td>[[1, 1, 1]]</td>\n      <td>[[121.85, 136.47, 146.22]]</td>\n      <td>[[1600358792, 1600358792, 1600358792]]</td>\n    </tr>\n  </tbody>\n</table>\n<p>1000 rows × 7 columns</p>\n</div>"
     },
     "execution_count": 4,
     "metadata": {},
     "output_type": "execute_result"
    }
   ],
   "source": [
    "product_data"
   ],
   "metadata": {
    "collapsed": false
   }
  },
  {
   "cell_type": "code",
   "execution_count": 5,
   "outputs": [
    {
     "data": {
      "text/plain": "        customer_id                    order_ids  \\\n161006    7014717.0                    [7014683]   \n110174    5808187.0                    [5808183]   \n117632    5977435.0                    [5977432]   \n211554    8237133.0                    [8237129]   \n273674    9570198.0                    [9570195]   \n...             ...                          ...   \n135463    6446020.0                    [6446015]   \n319010   10305780.0                   [10305777]   \n201844    8002533.0                    [8002530]   \n3248      1978282.0  [5518366, 7540078, 7886109]   \n36721     4089747.0                    [4089743]   \n\n                                              product_ids  \\\n161006                               [[6556091, 6143081]]   \n110174                                         [[407457]]   \n117632                                        [[4772019]]   \n211554                               [[7699357, 7793733]]   \n273674                                        [[8807325]]   \n...                                                   ...   \n135463                      [[5149676, 5375078, 4998087]]   \n319010                                        [[8504072]]   \n201844                                         [[556949]]   \n3248    [[4775784, 5338399], [3548784, 4030395, 494660...   \n36721                       [[4064235, 4031882, 4078253]]   \n\n                            amounts  \\\n161006                     [[1, 1]]   \n110174                        [[1]]   \n117632                        [[1]]   \n211554                     [[1, 1]]   \n273674                        [[1]]   \n...                             ...   \n135463                  [[1, 1, 1]]   \n319010                        [[1]]   \n201844                        [[1]]   \n3248    [[1, 1], [1, 1, 1], [1, 1]]   \n36721                   [[1, 1, 1]]   \n\n                                              order_dates  \n161006                         [[1633338269, 1633338269]]  \n110174                                     [[1620226968]]  \n117632                                     [[1622179990]]  \n211554                         [[1648661921, 1648661921]]  \n273674                                     [[1663513869]]  \n...                                                   ...  \n135463             [[1626721332, 1626721332, 1626721332]]  \n319010                                     [[1670843460]]  \n201844                                     [[1645792116]]  \n3248    [[1617357897, 1617357897], [1637917892, 163791...  \n36721              [[1600358792, 1600358792, 1600358792]]  \n\n[1000 rows x 5 columns]",
      "text/html": "<div>\n<style scoped>\n    .dataframe tbody tr th:only-of-type {\n        vertical-align: middle;\n    }\n\n    .dataframe tbody tr th {\n        vertical-align: top;\n    }\n\n    .dataframe thead th {\n        text-align: right;\n    }\n</style>\n<table border=\"1\" class=\"dataframe\">\n  <thead>\n    <tr style=\"text-align: right;\">\n      <th></th>\n      <th>customer_id</th>\n      <th>order_ids</th>\n      <th>product_ids</th>\n      <th>amounts</th>\n      <th>order_dates</th>\n    </tr>\n  </thead>\n  <tbody>\n    <tr>\n      <th>161006</th>\n      <td>7014717.0</td>\n      <td>[7014683]</td>\n      <td>[[6556091, 6143081]]</td>\n      <td>[[1, 1]]</td>\n      <td>[[1633338269, 1633338269]]</td>\n    </tr>\n    <tr>\n      <th>110174</th>\n      <td>5808187.0</td>\n      <td>[5808183]</td>\n      <td>[[407457]]</td>\n      <td>[[1]]</td>\n      <td>[[1620226968]]</td>\n    </tr>\n    <tr>\n      <th>117632</th>\n      <td>5977435.0</td>\n      <td>[5977432]</td>\n      <td>[[4772019]]</td>\n      <td>[[1]]</td>\n      <td>[[1622179990]]</td>\n    </tr>\n    <tr>\n      <th>211554</th>\n      <td>8237133.0</td>\n      <td>[8237129]</td>\n      <td>[[7699357, 7793733]]</td>\n      <td>[[1, 1]]</td>\n      <td>[[1648661921, 1648661921]]</td>\n    </tr>\n    <tr>\n      <th>273674</th>\n      <td>9570198.0</td>\n      <td>[9570195]</td>\n      <td>[[8807325]]</td>\n      <td>[[1]]</td>\n      <td>[[1663513869]]</td>\n    </tr>\n    <tr>\n      <th>...</th>\n      <td>...</td>\n      <td>...</td>\n      <td>...</td>\n      <td>...</td>\n      <td>...</td>\n    </tr>\n    <tr>\n      <th>135463</th>\n      <td>6446020.0</td>\n      <td>[6446015]</td>\n      <td>[[5149676, 5375078, 4998087]]</td>\n      <td>[[1, 1, 1]]</td>\n      <td>[[1626721332, 1626721332, 1626721332]]</td>\n    </tr>\n    <tr>\n      <th>319010</th>\n      <td>10305780.0</td>\n      <td>[10305777]</td>\n      <td>[[8504072]]</td>\n      <td>[[1]]</td>\n      <td>[[1670843460]]</td>\n    </tr>\n    <tr>\n      <th>201844</th>\n      <td>8002533.0</td>\n      <td>[8002530]</td>\n      <td>[[556949]]</td>\n      <td>[[1]]</td>\n      <td>[[1645792116]]</td>\n    </tr>\n    <tr>\n      <th>3248</th>\n      <td>1978282.0</td>\n      <td>[5518366, 7540078, 7886109]</td>\n      <td>[[4775784, 5338399], [3548784, 4030395, 494660...</td>\n      <td>[[1, 1], [1, 1, 1], [1, 1]]</td>\n      <td>[[1617357897, 1617357897], [1637917892, 163791...</td>\n    </tr>\n    <tr>\n      <th>36721</th>\n      <td>4089747.0</td>\n      <td>[4089743]</td>\n      <td>[[4064235, 4031882, 4078253]]</td>\n      <td>[[1, 1, 1]]</td>\n      <td>[[1600358792, 1600358792, 1600358792]]</td>\n    </tr>\n  </tbody>\n</table>\n<p>1000 rows × 5 columns</p>\n</div>"
     },
     "metadata": {},
     "output_type": "display_data"
    }
   ],
   "source": [
    "display(product_data[['customer_id', 'order_ids', 'product_ids', 'amounts', 'order_dates']])"
   ],
   "metadata": {
    "collapsed": false
   }
  },
  {
   "cell_type": "code",
   "execution_count": 6,
   "outputs": [
    {
     "data": {
      "text/plain": "161006                      [7014683]\n110174                      [5808183]\n117632                      [5977432]\n211554                      [8237129]\n273674                      [9570195]\n                     ...             \n135463                      [6446015]\n319010                     [10305777]\n201844                      [8002530]\n3248      [5518366, 7540078, 7886109]\n36721                       [4089743]\nName: order_ids, Length: 1000, dtype: object"
     },
     "execution_count": 6,
     "metadata": {},
     "output_type": "execute_result"
    }
   ],
   "source": [
    "product_data.order_ids"
   ],
   "metadata": {
    "collapsed": false
   }
  },
  {
   "cell_type": "code",
   "execution_count": 7,
   "outputs": [
    {
     "name": "stdout",
     "output_type": "stream",
     "text": [
      "161006                                 [[6556091, 6143081]]\n",
      "110174                                           [[407457]]\n",
      "117632                                          [[4772019]]\n",
      "211554                                 [[7699357, 7793733]]\n",
      "273674                                          [[8807325]]\n",
      "                                ...                        \n",
      "135463                        [[5149676, 5375078, 4998087]]\n",
      "319010                                          [[8504072]]\n",
      "201844                                           [[556949]]\n",
      "3248      [[4775784, 5338399], [3548784, 4030395, 494660...\n",
      "36721                         [[4064235, 4031882, 4078253]]\n",
      "Name: product_ids, Length: 1000, dtype: object 161006                           [[1633338269, 1633338269]]\n",
      "110174                                       [[1620226968]]\n",
      "117632                                       [[1622179990]]\n",
      "211554                           [[1648661921, 1648661921]]\n",
      "273674                                       [[1663513869]]\n",
      "                                ...                        \n",
      "135463               [[1626721332, 1626721332, 1626721332]]\n",
      "319010                                       [[1670843460]]\n",
      "201844                                       [[1645792116]]\n",
      "3248      [[1617357897, 1617357897], [1637917892, 163791...\n",
      "36721                [[1600358792, 1600358792, 1600358792]]\n",
      "Name: order_dates, Length: 1000, dtype: object\n"
     ]
    }
   ],
   "source": [
    "print(product_data.product_ids, product_data.order_dates)"
   ],
   "metadata": {
    "collapsed": false
   }
  },
  {
   "cell_type": "code",
   "execution_count": 8,
   "outputs": [],
   "source": [
    "def bringToSameSizeOneDim(column):\n",
    "    max_length = max(column.apply(len))\n",
    "    return column.apply(lambda x: x + [0] * (max_length - len(x)))\n",
    "\n",
    "\n",
    "def bringToSameSizeTwoDimAndFlatten(column):\n",
    "    max_length = max(column.apply(lambda x: max(len(sublist) for sublist in x)))\n",
    "    new_column = column.apply(lambda x: [sublist + [0] * (max_length - len(sublist)) for sublist in x])\n",
    "    new_column = new_column.apply(lambda x: x + [[0] * max_length] * (max_length - len(x)))\n",
    "    return new_column.apply(lambda x: [item for sublist in x for item in sublist])\n",
    "\n",
    "product_data.order_ids = bringToSameSizeOneDim(product_data.order_ids)\n",
    "product_data.product_ids = bringToSameSizeTwoDimAndFlatten(product_data.product_ids)\n",
    "product_data.amounts = bringToSameSizeTwoDimAndFlatten(product_data.amounts)\n",
    "product_data.total_prices = bringToSameSizeTwoDimAndFlatten(product_data.total_prices)\n",
    "product_data.order_dates = bringToSameSizeTwoDimAndFlatten(product_data.order_dates)\n",
    "\n",
    "\n"
   ],
   "metadata": {
    "collapsed": false
   }
  },
  {
   "cell_type": "code",
   "execution_count": 8,
   "outputs": [],
   "source": [],
   "metadata": {
    "collapsed": false
   }
  },
  {
   "cell_type": "code",
   "execution_count": 9,
   "outputs": [],
   "source": [
    "def convertToSequence(column):\n",
    "    list = column.tolist()\n",
    "    max_length = max(len(x) for x in list)\n",
    "    return pad_sequences(list, maxlen=max_length, padding='post', value=0), max_length\n",
    "\n",
    "products_inputs, max_length_products = convertToSequence(product_data.product_ids)\n",
    "dates_inputs, max_length_dates = convertToSequence(product_data.order_dates)\n",
    "target_data, _ = convertToSequence(product_data.amounts)\n",
    "\n",
    "\n"
   ],
   "metadata": {
    "collapsed": false
   }
  },
  {
   "cell_type": "code",
   "execution_count": 10,
   "outputs": [
    {
     "data": {
      "text/plain": "50"
     },
     "metadata": {},
     "output_type": "display_data"
    },
    {
     "data": {
      "text/plain": "50"
     },
     "metadata": {},
     "output_type": "display_data"
    },
    {
     "data": {
      "text/plain": "(1000, 50)"
     },
     "metadata": {},
     "output_type": "display_data"
    },
    {
     "data": {
      "text/plain": "array([[1, 1, 0, ..., 0, 0, 0],\n       [1, 0, 0, ..., 0, 0, 0],\n       [1, 0, 0, ..., 0, 0, 0],\n       ...,\n       [1, 0, 0, ..., 0, 0, 0],\n       [1, 1, 0, ..., 0, 0, 0],\n       [1, 1, 1, ..., 0, 0, 0]], dtype=int32)"
     },
     "metadata": {},
     "output_type": "display_data"
    },
    {
     "data": {
      "text/plain": "array([[1633338269, 1633338269,          0, ...,          0,          0,\n                 0],\n       [1620226968,          0,          0, ...,          0,          0,\n                 0],\n       [1622179990,          0,          0, ...,          0,          0,\n                 0],\n       ...,\n       [1645792116,          0,          0, ...,          0,          0,\n                 0],\n       [1617357897, 1617357897,          0, ...,          0,          0,\n                 0],\n       [1600358792, 1600358792, 1600358792, ...,          0,          0,\n                 0]], dtype=int32)"
     },
     "metadata": {},
     "output_type": "display_data"
    },
    {
     "data": {
      "text/plain": "array([[6556091, 6143081,       0, ...,       0,       0,       0],\n       [ 407457,       0,       0, ...,       0,       0,       0],\n       [4772019,       0,       0, ...,       0,       0,       0],\n       ...,\n       [ 556949,       0,       0, ...,       0,       0,       0],\n       [4775784, 5338399,       0, ...,       0,       0,       0],\n       [4064235, 4031882, 4078253, ...,       0,       0,       0]],\n      dtype=int32)"
     },
     "metadata": {},
     "output_type": "display_data"
    }
   ],
   "source": [
    "display(max_length_dates, dates_inputs.shape[1], target_data.shape)\n",
    "display(target_data)\n",
    "display(dates_inputs)\n",
    "display(products_inputs)\n",
    "# 1602099712"
   ],
   "metadata": {
    "collapsed": false
   }
  },
  {
   "cell_type": "code",
   "execution_count": 11,
   "outputs": [],
   "source": [
    "# Define the model architecture\n",
    "# num_orders = sum(len(order) for order in product_data.order_ids)\n",
    "# num_products =  sum(len(order) for order in product_data.product_ids)\n",
    "# num_units = len([amount for order_amounts in product_data.amounts for amount in order_amounts])\n",
    "# num_prices = len([amount for order_amounts in product_data.total_prices for amount in order_amounts])\n",
    "# num_dates = len([amount for order_amounts in product_data.order_dates for amount in order_amounts])\n",
    "#\n",
    "# print(num_orders, num_products, num_units, num_prices, num_dates)"
   ],
   "metadata": {
    "collapsed": false
   }
  },
  {
   "cell_type": "code",
   "execution_count": 17,
   "outputs": [
    {
     "ename": "ValueError",
     "evalue": "array is too big; `arr.size * arr.dtype.itemsize` is larger than the maximum possible size.",
     "output_type": "error",
     "traceback": [
      "\u001B[0;31m---------------------------------------------------------------------------\u001B[0m",
      "\u001B[0;31mValueError\u001B[0m                                Traceback (most recent call last)",
      "Cell \u001B[0;32mIn[17], line 2\u001B[0m\n\u001B[1;32m      1\u001B[0m num_dates \u001B[38;5;241m=\u001B[39m np\u001B[38;5;241m.\u001B[39mmax(dates_inputs) \u001B[38;5;241m+\u001B[39m \u001B[38;5;241m1\u001B[39m\n\u001B[0;32m----> 2\u001B[0m dates_one_hot \u001B[38;5;241m=\u001B[39m \u001B[43mnp\u001B[49m\u001B[38;5;241;43m.\u001B[39;49m\u001B[43meye\u001B[49m\u001B[43m(\u001B[49m\u001B[43mnum_dates\u001B[49m\u001B[43m)\u001B[49m[dates_inputs]\n\u001B[1;32m      4\u001B[0m \u001B[38;5;66;03m# Convert the product_ids array to a one-hot encoded sequence\u001B[39;00m\n\u001B[1;32m      5\u001B[0m num_products \u001B[38;5;241m=\u001B[39m np\u001B[38;5;241m.\u001B[39mmax(products_inputs) \u001B[38;5;241m+\u001B[39m \u001B[38;5;241m1\u001B[39m\n",
      "File \u001B[0;32m~/miniconda3/envs/m1-master-thesis/lib/python3.9/site-packages/numpy/lib/twodim_base.py:215\u001B[0m, in \u001B[0;36meye\u001B[0;34m(N, M, k, dtype, order, like)\u001B[0m\n\u001B[1;32m    213\u001B[0m \u001B[38;5;28;01mif\u001B[39;00m M \u001B[38;5;129;01mis\u001B[39;00m \u001B[38;5;28;01mNone\u001B[39;00m:\n\u001B[1;32m    214\u001B[0m     M \u001B[38;5;241m=\u001B[39m N\n\u001B[0;32m--> 215\u001B[0m m \u001B[38;5;241m=\u001B[39m \u001B[43mzeros\u001B[49m\u001B[43m(\u001B[49m\u001B[43m(\u001B[49m\u001B[43mN\u001B[49m\u001B[43m,\u001B[49m\u001B[43m \u001B[49m\u001B[43mM\u001B[49m\u001B[43m)\u001B[49m\u001B[43m,\u001B[49m\u001B[43m \u001B[49m\u001B[43mdtype\u001B[49m\u001B[38;5;241;43m=\u001B[39;49m\u001B[43mdtype\u001B[49m\u001B[43m,\u001B[49m\u001B[43m \u001B[49m\u001B[43morder\u001B[49m\u001B[38;5;241;43m=\u001B[39;49m\u001B[43morder\u001B[49m\u001B[43m)\u001B[49m\n\u001B[1;32m    216\u001B[0m \u001B[38;5;28;01mif\u001B[39;00m k \u001B[38;5;241m>\u001B[39m\u001B[38;5;241m=\u001B[39m M:\n\u001B[1;32m    217\u001B[0m     \u001B[38;5;28;01mreturn\u001B[39;00m m\n",
      "\u001B[0;31mValueError\u001B[0m: array is too big; `arr.size * arr.dtype.itemsize` is larger than the maximum possible size."
     ]
    }
   ],
   "source": [
    "num_dates = np.max(dates_inputs) + 1\n",
    "dates_one_hot = np.eye(num_dates)[dates_inputs]\n",
    "\n",
    "# Convert the product_ids array to a one-hot encoded sequence\n",
    "num_products = np.max(products_inputs) + 1\n",
    "product_ids_one_hot = np.eye(num_products)[products_inputs]"
   ],
   "metadata": {
    "collapsed": false
   }
  },
  {
   "cell_type": "code",
   "execution_count": null,
   "outputs": [],
   "source": [
    "input_dates = Input(shape=(dates_one_hot.shape[1], dates_one_hot.shape[2]))\n",
    "input_product_ids = Input(shape=(product_ids_one_hot.shape[1], product_ids_one_hot.shape[2]))\n",
    "\n",
    "# LSTM layer for processing dates\n",
    "lstm_dates = LSTM(64, return_sequences=True)(input_dates)\n",
    "\n",
    "# LSTM layer for processing product_ids\n",
    "lstm_product_ids = LSTM(64, return_sequences=True)(input_product_ids)\n",
    "\n",
    "# Attention layer\n",
    "attention = Attention()([lstm_dates, lstm_product_ids])\n",
    "\n",
    "# Output layer\n",
    "output = Dense(num_products, activation='softmax')(attention)\n",
    "\n",
    "# Create the model\n",
    "model = Model(inputs=[input_dates, input_product_ids], outputs=output)\n",
    "model.summary()"
   ],
   "metadata": {
    "collapsed": false
   }
  },
  {
   "cell_type": "code",
   "execution_count": null,
   "outputs": [],
   "source": [
    "model.fit([dates_inputs, products_inputs], target_data, epochs=10, batch_size=32)  # Adjust epochs and batch size as needed"
   ],
   "metadata": {
    "collapsed": false
   }
  },
  {
   "cell_type": "code",
   "execution_count": null,
   "outputs": [],
   "source": [],
   "metadata": {
    "collapsed": false
   }
  },
  {
   "cell_type": "code",
   "execution_count": null,
   "outputs": [],
   "source": [
    "# Input layers\n",
    "date_inputs = Input(shape=dates_inputs.shape)\n",
    "# product_inputs = Input(shape=(num_orders, num_units))\n",
    "product_inputs = Input(products_inputs.shape)\n",
    "# price_inputs = Input(shape=(num_orders, num_prices))\n",
    "\n",
    "encoding_padding_mask = tf.math.logical_not(tf.math.equal(product_inputs, 0))\n",
    "\n",
    "# Embedding layers\n",
    "date_emb = Embedding(num_dates, 16, input_length=num_dates)(date_inputs)\n",
    "product_emb = Embedding(num_products, 16, input_length=num_units)(product_inputs)\n",
    "\n",
    "concat_embedding_input = Concatenate(\n",
    "    name='concat_embedding_input')([date_emb, product_emb])\n",
    "\n",
    "concat_embedding_input = BatchNormalization(\n",
    "    name='batchnorm_inputs')(concat_embedding_input)\n",
    "# LSTM layer\n",
    "\n",
    "lstm = LSTM(64, return_sequences=True)(concat_embedding_input)\n",
    "\n",
    "lstm = BatchNormalization(name='batchnorm_lstm')(lstm)\n",
    "\n",
    "att = Attention(use_scale=False,\n",
    "                                name='attention')(inputs=[lstm, lstm],\n",
    "                                                  mask=[encoding_padding_mask,\n",
    "                                                        encoding_padding_mask])\n",
    "\n",
    "\n",
    "# Concatenate layer\n",
    "#concat = Concatenate(axis=2)([context, price_inputs])\n",
    "\n",
    "# Dense layer\n",
    "output = Dense(1)(att)\n",
    "# Define the model\n",
    "model = Model(inputs=[date_inputs, product_inputs], outputs=output)\n",
    "# Compile the model\n",
    "model.compile(loss='mean_squared_error', optimizer='adam', metrics=['mse'])"
   ],
   "metadata": {
    "collapsed": false
   }
  },
  {
   "cell_type": "code",
   "execution_count": null,
   "outputs": [],
   "source": [
    "# Fit the model\n",
    "model.fit(x=[dates_inputs, products_inputs], y=target_data, epochs=10, batch_size=32)  # Adjust epochs and batch size as needed\n"
   ],
   "metadata": {
    "collapsed": false
   }
  },
  {
   "cell_type": "code",
   "execution_count": null,
   "outputs": [],
   "source": [
    "#display(X_train)\n",
    "#output\n",
    "\n",
    "# product_ids_flat = product_data.product_ids.to_numpy().reshape(-1)\n",
    "# order_dates_flat = product_data.order_dates.to_numpy().reshape(-1)\n",
    "\n",
    "# Create the output variable\n",
    "output_variable = product_data.amounts.to_numpy().reshape(-1, 1)\n",
    "\n",
    "# Create the dataset\n",
    "dataset = tf.data.Dataset.from_tensor_slices((product_data.order_dates.to_numpy(), product_data.product_ids.to_numpy(), output_variable))\n",
    "\n",
    "# Fit the model\n",
    "history = model.fit(dataset, epochs=50, batch_size=32)\n"
   ],
   "metadata": {
    "collapsed": false
   }
  },
  {
   "cell_type": "code",
   "execution_count": null,
   "outputs": [],
   "source": [
    "display(order_dates_flat)"
   ],
   "metadata": {
    "collapsed": false
   }
  },
  {
   "cell_type": "code",
   "execution_count": null,
   "outputs": [],
   "source": [
    "y = []\n",
    "output_variable = product_data.amounts.to_numpy().reshape(-1, 1)\n",
    "dataset = tf.data.Dataset.from_tensor_slices((np.array(product_data.order_dates), np.array(product_data.product_ids), output_variable))\n",
    "history = model.fit(dataset, epochs=50, batch_size=32)"
   ],
   "metadata": {
    "collapsed": false
   }
  },
  {
   "cell_type": "code",
   "execution_count": null,
   "outputs": [],
   "source": [
    "# Evaluate the model\n",
    "loss, mse = model.evaluate([product_data.order_dates_test, product_data.product_ids_test, product_data.total_prices_test], product_data.total_prices_test)\n",
    "print(\"Test loss: {:.4f}, Test MSE: {:.4f}\".format(loss, mse))"
   ],
   "metadata": {
    "collapsed": false
   }
  },
  {
   "cell_type": "code",
   "execution_count": null,
   "outputs": [],
   "source": [
    "# split the data into training and testing sets\n",
    "#X = pd.get_dummies(product_data['product__id'], prefix='product')\n",
    "#y = product_data['amount']\n",
    "#X_train, X_test, y_train, y_test = train_test_split(X, y, test_size=0.2, random_state=42)"
   ],
   "metadata": {
    "collapsed": false
   }
  },
  {
   "cell_type": "code",
   "execution_count": null,
   "outputs": [],
   "source": [],
   "metadata": {
    "collapsed": false
   }
  }
 ],
 "metadata": {
  "kernelspec": {
   "display_name": "Python 3",
   "language": "python",
   "name": "python3"
  },
  "language_info": {
   "codemirror_mode": {
    "name": "ipython",
    "version": 2
   },
   "file_extension": ".py",
   "mimetype": "text/x-python",
   "name": "python",
   "nbconvert_exporter": "python",
   "pygments_lexer": "ipython2",
   "version": "2.7.6"
  }
 },
 "nbformat": 4,
 "nbformat_minor": 0
}
