{
 "cells": [
  {
   "cell_type": "code",
   "execution_count": 186,
   "outputs": [],
   "source": [
    "#%pip install lightfm\n",
    "from sklearn.preprocessing import LabelEncoder\n",
    "import numpy as np\n",
    "import pandas as pd\n",
    "\n",
    "from lightfm import LightFM\n",
    "from lightfm.data import Dataset"
   ],
   "metadata": {
    "collapsed": false,
    "ExecuteTime": {
     "end_time": "2023-09-01T09:15:55.771155Z",
     "start_time": "2023-09-01T09:15:55.740617Z"
    }
   },
   "id": "initial_id"
  },
  {
   "cell_type": "code",
   "execution_count": 187,
   "outputs": [
    {
     "data": {
      "text/plain": "3297"
     },
     "metadata": {},
     "output_type": "display_data"
    },
    {
     "data": {
      "text/plain": "3297"
     },
     "metadata": {},
     "output_type": "display_data"
    },
    {
     "data": {
      "text/plain": "        customer_id  main_product_id  amount\n0           1940761          3696391       1\n1           1940761          3850720       1\n2           1940761          4839681       2\n3           1940761          5015362       2\n4           1940761          6523930       1\n...             ...              ...     ...\n585121     11128024          3711313       1\n585122     11128039         10224959       1\n585123     11128082          4914111       1\n585124     11128095         10451987       1\n585125     11128129          4078046       1\n\n[585126 rows x 3 columns]",
      "text/html": "<div>\n<style scoped>\n    .dataframe tbody tr th:only-of-type {\n        vertical-align: middle;\n    }\n\n    .dataframe tbody tr th {\n        vertical-align: top;\n    }\n\n    .dataframe thead th {\n        text-align: right;\n    }\n</style>\n<table border=\"1\" class=\"dataframe\">\n  <thead>\n    <tr style=\"text-align: right;\">\n      <th></th>\n      <th>customer_id</th>\n      <th>main_product_id</th>\n      <th>amount</th>\n    </tr>\n  </thead>\n  <tbody>\n    <tr>\n      <th>0</th>\n      <td>1940761</td>\n      <td>3696391</td>\n      <td>1</td>\n    </tr>\n    <tr>\n      <th>1</th>\n      <td>1940761</td>\n      <td>3850720</td>\n      <td>1</td>\n    </tr>\n    <tr>\n      <th>2</th>\n      <td>1940761</td>\n      <td>4839681</td>\n      <td>2</td>\n    </tr>\n    <tr>\n      <th>3</th>\n      <td>1940761</td>\n      <td>5015362</td>\n      <td>2</td>\n    </tr>\n    <tr>\n      <th>4</th>\n      <td>1940761</td>\n      <td>6523930</td>\n      <td>1</td>\n    </tr>\n    <tr>\n      <th>...</th>\n      <td>...</td>\n      <td>...</td>\n      <td>...</td>\n    </tr>\n    <tr>\n      <th>585121</th>\n      <td>11128024</td>\n      <td>3711313</td>\n      <td>1</td>\n    </tr>\n    <tr>\n      <th>585122</th>\n      <td>11128039</td>\n      <td>10224959</td>\n      <td>1</td>\n    </tr>\n    <tr>\n      <th>585123</th>\n      <td>11128082</td>\n      <td>4914111</td>\n      <td>1</td>\n    </tr>\n    <tr>\n      <th>585124</th>\n      <td>11128095</td>\n      <td>10451987</td>\n      <td>1</td>\n    </tr>\n    <tr>\n      <th>585125</th>\n      <td>11128129</td>\n      <td>4078046</td>\n      <td>1</td>\n    </tr>\n  </tbody>\n</table>\n<p>585126 rows × 3 columns</p>\n</div>"
     },
     "metadata": {},
     "output_type": "display_data"
    },
    {
     "data": {
      "text/plain": "      main_product_id  productNumber  \\\n0              557559  4058394021466   \n1              551622  4054452768212   \n2              547193  4054452768427   \n3              549776  4059701687894   \n4              550726  4054452851594   \n...               ...            ...   \n3292         10603553  4066558951733   \n3293         10442948  4065171827272   \n3294         10782704  4251234499207   \n3295         10679703  4066558303617   \n3296         10496278  4065171812513   \n\n                                            productName productColorName  \\\n0              sportliche Ballerinas Glattleder schwarz          schwarz   \n1                     elegante Pumps Glattleder schwarz          schwarz   \n2                            Slipper Glattleder schwarz          schwarz   \n3                             Sneaker low Rauleder blau             blau   \n4     elegante Ballerinas Materialmix Lederimitat sc...          schwarz   \n...                                                 ...              ...   \n3292                Sandale met plateauzool Suède blauw            blauw   \n3293                    Mokassin Materialmix Leder pink             pink   \n3294                                 Shopper ANDIE blau             blau   \n3295                       Elegante pumps Glad leer wit              wit   \n3296                       Sandale compensée Daim beige            beige   \n\n     articleNumber  brand__id  mainCategory__id gender originCountry     line  \\\n0        02.643.57    6590678            315571      w            PT  F-S|H-W   \n1        05.160.37    6590677            315573      w            PT  F-S|H-W   \n2        04.443.27    6590677            315576      w            SK  F-S|H-W   \n3        06.968.46    4997827            315567      w            VN  F-S|H-W   \n4        06.102.67    6590678            315574      w            SK  F-S|H-W   \n...            ...        ...               ...    ...           ...      ...   \n3292     24.764.36    6590677            315568      w            SK      F-S   \n3293     26.090.21    6590678            315590      w            PT      F-S   \n3294        921453     363013            363017      w            DE      F-S   \n3295     21.450.60    6590677            315573      w            PT      F-S   \n3296     24.645.14    6590677            315564      w            PT      F-S   \n\n      ...  heelHeightGroup sizeEu  sizeUk  sizeIndex  shaftLength__value  \\\n0     ...         bis 3 cm   40.0     6.5       11.0                 0.0   \n1     ...      3 cm - 5 cm   38.0     5.0        8.0                 0.0   \n2     ...      3 cm - 5 cm   42.0     8.0       14.0                 0.0   \n3     ...      3 cm - 5 cm   39.0     6.0       10.0                 0.0   \n4     ...         bis 3 cm   37.5     4.5        7.0                 0.0   \n...   ...              ...    ...     ...        ...                 ...   \n3292  ...      5 cm - 8 cm   35.0     2.5        3.0                 0.0   \n3293  ...         bis 3 cm   40.5     7.0       12.0                 0.0   \n3294  ...              NaN    NaN     NaN        NaN                 NaN   \n3295  ...      5 cm - 8 cm   35.0     2.5        3.0                 0.0   \n3296  ...      5 cm - 8 cm   38.0     5.0        8.0                 0.0   \n\n           sole  isTransferee isSuccessor  \\\n0         Gummi           0.0         0.0   \n1           EVA           0.0         0.0   \n2        PU-TPU           0.0         0.0   \n3     Gummi-EVA           0.0         0.0   \n4           EVA           0.0         0.0   \n...         ...           ...         ...   \n3292     PU-TPU           0.0         0.0   \n3293      Gummi           0.0         0.0   \n3294        NaN           NaN         NaN   \n3295        TPU           0.0         0.0   \n3296         TR           0.0         0.0   \n\n                                 duplicate_product__ids  \\\n0     [557559, 549733, 549734, 557553, 589488, 58948...   \n1     [551622, 551505, 551510, 551509, 552973, 55162...   \n2     [547193, 547191, 547196, 547187, 547189, 54719...   \n3     [549776, 550599, 550596, 550593, 550601, 54978...   \n4     [550726, 550736, 550735, 550732, 550728, 55072...   \n...                                                 ...   \n3292                               [10603553, 10544662]   \n3293                               [10442948, 10442949]   \n3294                                         [10782704]   \n3295                                         [10679703]   \n3296                                         [10496278]   \n\n                                          product_sizes  \n0     [35.5, 36.0, 37.0, 37.5, 38.0, 38.5, 39.0, 40....  \n1     [35.0, 35.5, 36.0, 37.0, 37.5, 38.0, 38.5, 39....  \n2     [35.0, 35.5, 36.0, 37.0, 37.5, 38.0, 38.5, 39....  \n3     [35.0, 35.5, 36.0, 37.0, 37.5, 38.0, 38.5, 39....  \n4     [35.0, 37.0, 37.5, 38.0, 38.5, 39.0, 40.0, 40....  \n...                                                 ...  \n3292                                       [35.0, 37.0]  \n3293                                       [40.5, 41.0]  \n3294                                                 []  \n3295                                             [35.0]  \n3296                                             [38.0]  \n\n[3297 rows x 56 columns]",
      "text/html": "<div>\n<style scoped>\n    .dataframe tbody tr th:only-of-type {\n        vertical-align: middle;\n    }\n\n    .dataframe tbody tr th {\n        vertical-align: top;\n    }\n\n    .dataframe thead th {\n        text-align: right;\n    }\n</style>\n<table border=\"1\" class=\"dataframe\">\n  <thead>\n    <tr style=\"text-align: right;\">\n      <th></th>\n      <th>main_product_id</th>\n      <th>productNumber</th>\n      <th>productName</th>\n      <th>productColorName</th>\n      <th>articleNumber</th>\n      <th>brand__id</th>\n      <th>mainCategory__id</th>\n      <th>gender</th>\n      <th>originCountry</th>\n      <th>line</th>\n      <th>...</th>\n      <th>heelHeightGroup</th>\n      <th>sizeEu</th>\n      <th>sizeUk</th>\n      <th>sizeIndex</th>\n      <th>shaftLength__value</th>\n      <th>sole</th>\n      <th>isTransferee</th>\n      <th>isSuccessor</th>\n      <th>duplicate_product__ids</th>\n      <th>product_sizes</th>\n    </tr>\n  </thead>\n  <tbody>\n    <tr>\n      <th>0</th>\n      <td>557559</td>\n      <td>4058394021466</td>\n      <td>sportliche Ballerinas Glattleder schwarz</td>\n      <td>schwarz</td>\n      <td>02.643.57</td>\n      <td>6590678</td>\n      <td>315571</td>\n      <td>w</td>\n      <td>PT</td>\n      <td>F-S|H-W</td>\n      <td>...</td>\n      <td>bis 3 cm</td>\n      <td>40.0</td>\n      <td>6.5</td>\n      <td>11.0</td>\n      <td>0.0</td>\n      <td>Gummi</td>\n      <td>0.0</td>\n      <td>0.0</td>\n      <td>[557559, 549733, 549734, 557553, 589488, 58948...</td>\n      <td>[35.5, 36.0, 37.0, 37.5, 38.0, 38.5, 39.0, 40....</td>\n    </tr>\n    <tr>\n      <th>1</th>\n      <td>551622</td>\n      <td>4054452768212</td>\n      <td>elegante Pumps Glattleder schwarz</td>\n      <td>schwarz</td>\n      <td>05.160.37</td>\n      <td>6590677</td>\n      <td>315573</td>\n      <td>w</td>\n      <td>PT</td>\n      <td>F-S|H-W</td>\n      <td>...</td>\n      <td>3 cm - 5 cm</td>\n      <td>38.0</td>\n      <td>5.0</td>\n      <td>8.0</td>\n      <td>0.0</td>\n      <td>EVA</td>\n      <td>0.0</td>\n      <td>0.0</td>\n      <td>[551622, 551505, 551510, 551509, 552973, 55162...</td>\n      <td>[35.0, 35.5, 36.0, 37.0, 37.5, 38.0, 38.5, 39....</td>\n    </tr>\n    <tr>\n      <th>2</th>\n      <td>547193</td>\n      <td>4054452768427</td>\n      <td>Slipper Glattleder schwarz</td>\n      <td>schwarz</td>\n      <td>04.443.27</td>\n      <td>6590677</td>\n      <td>315576</td>\n      <td>w</td>\n      <td>SK</td>\n      <td>F-S|H-W</td>\n      <td>...</td>\n      <td>3 cm - 5 cm</td>\n      <td>42.0</td>\n      <td>8.0</td>\n      <td>14.0</td>\n      <td>0.0</td>\n      <td>PU-TPU</td>\n      <td>0.0</td>\n      <td>0.0</td>\n      <td>[547193, 547191, 547196, 547187, 547189, 54719...</td>\n      <td>[35.0, 35.5, 36.0, 37.0, 37.5, 38.0, 38.5, 39....</td>\n    </tr>\n    <tr>\n      <th>3</th>\n      <td>549776</td>\n      <td>4059701687894</td>\n      <td>Sneaker low Rauleder blau</td>\n      <td>blau</td>\n      <td>06.968.46</td>\n      <td>4997827</td>\n      <td>315567</td>\n      <td>w</td>\n      <td>VN</td>\n      <td>F-S|H-W</td>\n      <td>...</td>\n      <td>3 cm - 5 cm</td>\n      <td>39.0</td>\n      <td>6.0</td>\n      <td>10.0</td>\n      <td>0.0</td>\n      <td>Gummi-EVA</td>\n      <td>0.0</td>\n      <td>0.0</td>\n      <td>[549776, 550599, 550596, 550593, 550601, 54978...</td>\n      <td>[35.0, 35.5, 36.0, 37.0, 37.5, 38.0, 38.5, 39....</td>\n    </tr>\n    <tr>\n      <th>4</th>\n      <td>550726</td>\n      <td>4054452851594</td>\n      <td>elegante Ballerinas Materialmix Lederimitat sc...</td>\n      <td>schwarz</td>\n      <td>06.102.67</td>\n      <td>6590678</td>\n      <td>315574</td>\n      <td>w</td>\n      <td>SK</td>\n      <td>F-S|H-W</td>\n      <td>...</td>\n      <td>bis 3 cm</td>\n      <td>37.5</td>\n      <td>4.5</td>\n      <td>7.0</td>\n      <td>0.0</td>\n      <td>EVA</td>\n      <td>0.0</td>\n      <td>0.0</td>\n      <td>[550726, 550736, 550735, 550732, 550728, 55072...</td>\n      <td>[35.0, 37.0, 37.5, 38.0, 38.5, 39.0, 40.0, 40....</td>\n    </tr>\n    <tr>\n      <th>...</th>\n      <td>...</td>\n      <td>...</td>\n      <td>...</td>\n      <td>...</td>\n      <td>...</td>\n      <td>...</td>\n      <td>...</td>\n      <td>...</td>\n      <td>...</td>\n      <td>...</td>\n      <td>...</td>\n      <td>...</td>\n      <td>...</td>\n      <td>...</td>\n      <td>...</td>\n      <td>...</td>\n      <td>...</td>\n      <td>...</td>\n      <td>...</td>\n      <td>...</td>\n      <td>...</td>\n    </tr>\n    <tr>\n      <th>3292</th>\n      <td>10603553</td>\n      <td>4066558951733</td>\n      <td>Sandale met plateauzool Suède blauw</td>\n      <td>blauw</td>\n      <td>24.764.36</td>\n      <td>6590677</td>\n      <td>315568</td>\n      <td>w</td>\n      <td>SK</td>\n      <td>F-S</td>\n      <td>...</td>\n      <td>5 cm - 8 cm</td>\n      <td>35.0</td>\n      <td>2.5</td>\n      <td>3.0</td>\n      <td>0.0</td>\n      <td>PU-TPU</td>\n      <td>0.0</td>\n      <td>0.0</td>\n      <td>[10603553, 10544662]</td>\n      <td>[35.0, 37.0]</td>\n    </tr>\n    <tr>\n      <th>3293</th>\n      <td>10442948</td>\n      <td>4065171827272</td>\n      <td>Mokassin Materialmix Leder pink</td>\n      <td>pink</td>\n      <td>26.090.21</td>\n      <td>6590678</td>\n      <td>315590</td>\n      <td>w</td>\n      <td>PT</td>\n      <td>F-S</td>\n      <td>...</td>\n      <td>bis 3 cm</td>\n      <td>40.5</td>\n      <td>7.0</td>\n      <td>12.0</td>\n      <td>0.0</td>\n      <td>Gummi</td>\n      <td>0.0</td>\n      <td>0.0</td>\n      <td>[10442948, 10442949]</td>\n      <td>[40.5, 41.0]</td>\n    </tr>\n    <tr>\n      <th>3294</th>\n      <td>10782704</td>\n      <td>4251234499207</td>\n      <td>Shopper ANDIE blau</td>\n      <td>blau</td>\n      <td>921453</td>\n      <td>363013</td>\n      <td>363017</td>\n      <td>w</td>\n      <td>DE</td>\n      <td>F-S</td>\n      <td>...</td>\n      <td>NaN</td>\n      <td>NaN</td>\n      <td>NaN</td>\n      <td>NaN</td>\n      <td>NaN</td>\n      <td>NaN</td>\n      <td>NaN</td>\n      <td>NaN</td>\n      <td>[10782704]</td>\n      <td>[]</td>\n    </tr>\n    <tr>\n      <th>3295</th>\n      <td>10679703</td>\n      <td>4066558303617</td>\n      <td>Elegante pumps Glad leer wit</td>\n      <td>wit</td>\n      <td>21.450.60</td>\n      <td>6590677</td>\n      <td>315573</td>\n      <td>w</td>\n      <td>PT</td>\n      <td>F-S</td>\n      <td>...</td>\n      <td>5 cm - 8 cm</td>\n      <td>35.0</td>\n      <td>2.5</td>\n      <td>3.0</td>\n      <td>0.0</td>\n      <td>TPU</td>\n      <td>0.0</td>\n      <td>0.0</td>\n      <td>[10679703]</td>\n      <td>[35.0]</td>\n    </tr>\n    <tr>\n      <th>3296</th>\n      <td>10496278</td>\n      <td>4065171812513</td>\n      <td>Sandale compensée Daim beige</td>\n      <td>beige</td>\n      <td>24.645.14</td>\n      <td>6590677</td>\n      <td>315564</td>\n      <td>w</td>\n      <td>PT</td>\n      <td>F-S</td>\n      <td>...</td>\n      <td>5 cm - 8 cm</td>\n      <td>38.0</td>\n      <td>5.0</td>\n      <td>8.0</td>\n      <td>0.0</td>\n      <td>TR</td>\n      <td>0.0</td>\n      <td>0.0</td>\n      <td>[10496278]</td>\n      <td>[38.0]</td>\n    </tr>\n  </tbody>\n</table>\n<p>3297 rows × 56 columns</p>\n</div>"
     },
     "metadata": {},
     "output_type": "display_data"
    }
   ],
   "source": [
    "# Load data\n",
    "basepath = '../../datasets/preprocessed_datasets/gabor/'\n",
    "interaction_data = pd.read_pickle(basepath + 'user_item_interactions_only_main_products.pkl')\n",
    "#interaction_data = interaction_data.sample(1000)\n",
    "product_data = pd.read_pickle(basepath + 'no_product_variants_with_duplicate_ids.pkl')\n",
    "encoder = LabelEncoder()\n",
    "#interaction_data['customer_id_encoded'] = encoder.fit_transform(interaction_data['customer_id'])\n",
    "#interaction_data['product_id_encoded'] = encoder.fit_transform(interaction_data['main_product_id'])\n",
    "interaction_data.main_product_id = interaction_data.main_product_id.astype(int)\n",
    "product_data.main_product_id = product_data.main_product_id.astype(int)\n",
    "display(len(interaction_data.main_product_id.unique()), len(product_data.main_product_id.unique()))\n",
    "#product_data = product_data[product_data['main_product_id'].isin(interaction_data['main_product_id'])]\n",
    "\n",
    "display(interaction_data, product_data)"
   ],
   "metadata": {
    "collapsed": false,
    "ExecuteTime": {
     "end_time": "2023-09-01T09:15:55.791591Z",
     "start_time": "2023-09-01T09:15:55.748015Z"
    }
   },
   "id": "4e1075d201067a30"
  },
  {
   "cell_type": "code",
   "execution_count": 188,
   "outputs": [],
   "source": [
    "all_product_ids = pd.concat([interaction_data['main_product_id'], product_data['main_product_id']]).drop_duplicates()\n",
    "all_product_numbers = product_data['productNumber'].drop_duplicates()\n",
    "dataset = Dataset()\n",
    "dataset.fit(users=interaction_data['customer_id'], items=all_product_ids, item_features=all_product_numbers)\n",
    "\n",
    "(interactions, weights) = dataset.build_interactions(\n",
    "    (row.customer_id, row.main_product_id, row.amount)\n",
    "    for row in interaction_data.itertuples()\n",
    ")\n",
    "\n"
   ],
   "metadata": {
    "collapsed": false,
    "ExecuteTime": {
     "end_time": "2023-09-01T09:15:56.734745Z",
     "start_time": "2023-09-01T09:15:55.790313Z"
    }
   },
   "id": "e675c28aad603d82"
  },
  {
   "cell_type": "code",
   "execution_count": 189,
   "outputs": [
    {
     "data": {
      "text/plain": "<357779x3297 sparse matrix of type '<class 'numpy.int32'>'\n\twith 585126 stored elements in COOrdinate format>"
     },
     "execution_count": 189,
     "metadata": {},
     "output_type": "execute_result"
    }
   ],
   "source": [
    "interactions"
   ],
   "metadata": {
    "collapsed": false,
    "ExecuteTime": {
     "end_time": "2023-09-01T09:15:56.738697Z",
     "start_time": "2023-09-01T09:15:56.735523Z"
    }
   },
   "id": "a935abeda1273dd3"
  },
  {
   "cell_type": "code",
   "execution_count": 190,
   "outputs": [],
   "source": [
    "# Ensure that your productNumber is in a list (making it an iterable)\n",
    "item_features = dataset.build_item_features((\n",
    "    (row.main_product_id, [row.productNumber])\n",
    "    for row in product_data.itertuples()))"
   ],
   "metadata": {
    "collapsed": false,
    "ExecuteTime": {
     "end_time": "2023-09-01T09:15:56.756766Z",
     "start_time": "2023-09-01T09:15:56.755426Z"
    }
   },
   "id": "105d4fc4805e43ed"
  },
  {
   "cell_type": "code",
   "execution_count": 191,
   "outputs": [
    {
     "data": {
      "text/plain": "<lightfm.lightfm.LightFM at 0x166932370>"
     },
     "execution_count": 191,
     "metadata": {},
     "output_type": "execute_result"
    }
   ],
   "source": [
    "random_state = 27\n",
    "model = LightFM(loss='bpr', random_state=random_state)\n",
    "# model.fit(interactions)\n",
    "from lightfm.cross_validation import random_train_test_split\n",
    "# Split the interactions into training and testing sets\n",
    "train_interactions, test_interactions = random_train_test_split(interactions, test_percentage=0.2)\n",
    "\n",
    "model.fit(train_interactions, epochs=100, item_features=item_features, num_threads=4)"
   ],
   "metadata": {
    "collapsed": false,
    "ExecuteTime": {
     "end_time": "2023-09-01T09:18:36.612064Z",
     "start_time": "2023-09-01T09:15:56.758205Z"
    }
   },
   "id": "1be879266ca62dc3"
  },
  {
   "cell_type": "code",
   "execution_count": 192,
   "outputs": [
    {
     "name": "stdout",
     "output_type": "stream",
     "text": [
      "train Precision: 0.2233\n",
      "train Recall: 0.8808\n",
      "train AUC: 0.9935\n"
     ]
    }
   ],
   "source": [
    "from lightfm.evaluation import precision_at_k, recall_at_k, auc_score\n",
    "\n",
    "train_precision = precision_at_k(model, train_interactions, k=5, item_features=item_features).mean()\n",
    "train_recall = recall_at_k(model, train_interactions, k=5, item_features=item_features).mean()\n",
    "train_auc = auc_score(model, train_interactions, item_features=item_features).mean()\n",
    "\n",
    "print('train Precision: {:.4f}'.format(train_precision))\n",
    "print('train Recall: {:.4f}'.format(train_recall))\n",
    "print('train AUC: {:.4f}'.format(train_auc))"
   ],
   "metadata": {
    "collapsed": false,
    "ExecuteTime": {
     "end_time": "2023-09-01T09:20:18.885640Z",
     "start_time": "2023-09-01T09:18:36.610494Z"
    }
   },
   "id": "b7ac83d356bed0b9"
  },
  {
   "cell_type": "code",
   "execution_count": 193,
   "outputs": [
    {
     "name": "stdout",
     "output_type": "stream",
     "text": [
      "Precision: 0.0047\n",
      "Recall: 0.0199\n",
      "AUC: 0.3190\n"
     ]
    }
   ],
   "source": [
    "test_precision = precision_at_k(model, test_interactions, k=5, item_features=item_features).mean()\n",
    "test_recall = recall_at_k(model, test_interactions, k=5, item_features=item_features).mean()\n",
    "test_auc = auc_score(model, test_interactions, item_features=item_features).mean()\n",
    "\n",
    "print('Precision: {:.4f}'.format(test_precision))\n",
    "print('Recall: {:.4f}'.format(test_recall))\n",
    "print('AUC: {:.4f}'.format(test_auc))"
   ],
   "metadata": {
    "collapsed": false,
    "ExecuteTime": {
     "end_time": "2023-09-01T09:20:53.777678Z",
     "start_time": "2023-09-01T09:20:18.883854Z"
    }
   },
   "id": "b728095d7c243a2d"
  },
  {
   "cell_type": "code",
   "execution_count": 194,
   "outputs": [
    {
     "name": "stdout",
     "output_type": "stream",
     "text": [
      "6\n",
      "[3696391, 3850720, 4839681, 5015362, 6523930, 6596395]\n",
      "[-5.133229    0.95400554 -0.4933316   0.16774432 -0.8370482  -0.8444623 ]\n",
      "[3850720, 5015362, 4839681, 6523930, 6596395, 3696391]\n"
     ]
    }
   ],
   "source": [
    "user_id = 1940761\n",
    "item_ids = interaction_data[interaction_data.customer_id ==  user_id].main_product_id.tolist()\n",
    "user_mapping, _, item_mapping, item_mapping2 = dataset.mapping()\n",
    "\n",
    "# Convert the original user_id to internal user index\n",
    "internal_user_id = user_mapping[user_id]\n",
    "print(len(item_ids))\n",
    "internal_item_ids = [item_mapping[item] for item in item_ids]\n",
    "print(item_ids)\n",
    "scores = model.predict(internal_user_id, np.array(internal_item_ids))\n",
    "print(scores)\n",
    "# scores = model.predict(user_id, item_ids, item_features=item_features)\n",
    "top_items = [item_ids[i] for i in scores.argsort()[::-1]]\n",
    "print(top_items)"
   ],
   "metadata": {
    "collapsed": false,
    "ExecuteTime": {
     "end_time": "2023-09-01T09:20:53.787443Z",
     "start_time": "2023-09-01T09:20:53.776516Z"
    }
   },
   "id": "bfdff8c261050726"
  },
  {
   "cell_type": "code",
   "execution_count": 195,
   "outputs": [],
   "source": [
    "def predict_best_n_products(user_id, n = 5):\n",
    "    item_ids = interaction_data[interaction_data.customer_id ==  user_id].main_product_id.tolist()\n",
    "    user_mapping, _, item_mapping, _ = dataset.mapping()\n",
    "    print('user ' + str(user_id) + ' bought following items')\n",
    "    display(product_data[product_data.main_product_id.isin(item_ids) ])\n",
    "    \n",
    "    \n",
    "    # Convert the original user_id to internal user index\n",
    "    internal_user_id = user_mapping[user_id]\n",
    "    \n",
    "    all_item_ids = np.array(all_product_ids.tolist())\n",
    "    # Get the internal item indices for these IDs\n",
    "    internal_all_item_ids = np.array([item_mapping[item] for item in all_item_ids])\n",
    "    # Convert the list of item_ids that the user has already interacted with to internal item indices\n",
    "    internal_item_ids = [item_mapping[item] for item in item_ids]\n",
    "    # Remove the items the user has already interacted with\n",
    "    recommendable_item_ids = np.setdiff1d(internal_all_item_ids, internal_item_ids)\n",
    "    # Make predictions for the remaining items\n",
    "    scores = model.predict(internal_user_id, recommendable_item_ids)\n",
    "    indices = np.flip(np.argsort(scores)[-n:])\n",
    "    scores_sorted = [scores[i] for i in indices]\n",
    "    \n",
    "    top_recommended_item_internal = [recommendable_item_ids[i] for i in scores.argsort()[::-1]]\n",
    "    \n",
    "    top_recommended_items = []\n",
    "    count = 0\n",
    "    for internal_id in top_recommended_item_internal:\n",
    "        top_recommended_items.append((list(item_mapping.keys()) [list(item_mapping.values()).index(internal_id)]))\n",
    "        count += 1\n",
    "        if count > n: \n",
    "            break\n",
    "    \n",
    "    print('user got recommended following ' + str(n) + ' items: ')\n",
    "    display(product_data[product_data.main_product_id.isin(top_recommended_items)])\n",
    "    return scores_sorted, top_recommended_items\n"
   ],
   "metadata": {
    "collapsed": false,
    "ExecuteTime": {
     "end_time": "2023-09-01T09:20:53.791383Z",
     "start_time": "2023-09-01T09:20:53.788419Z"
    }
   },
   "id": "3321c415128d18c7"
  },
  {
   "cell_type": "code",
   "execution_count": 196,
   "outputs": [
    {
     "name": "stdout",
     "output_type": "stream",
     "text": [
      "user 1940761 bought following items\n"
     ]
    },
    {
     "data": {
      "text/plain": "      main_product_id  productNumber  \\\n158           3696391  4062862457084   \n327           3850720  4062862156284   \n924           5015362  4062862987543   \n1056          4839681  4064032990605   \n1568          6596395  4064032878477   \n1707          6523930  4064032277355   \n\n                                       productName productColorName  \\\n158           Schnürstiefelette Glattleder schwarz          schwarz   \n327           Winterstiefelette Glattleder schwarz          schwarz   \n924               PG8001 Sneaker low Rauleder grau             grau   \n1056  PG1018 Slipper Materialmix Leder/Textil grün             grün   \n1568                    7302 Hausschuhe Textil rot              rot   \n1707                 PG6000 Pantolette Textil blau             blau   \n\n     articleNumber  brand__id  mainCategory__id gender originCountry line  \\\n158      51.791.20    6590677            315587      w            PT  H-W   \n327      51.650.87    6590677            315580      w            PT  H-W   \n924     8001.11.03    4997827           3692261      m            CN  F-S   \n1056    1018.13.03    3692257           6406253      m            VN  F-S   \n1568     73.021.15    6590677           8530128      m            PT  H-W   \n1707    6000.10.03    3692257           8756145      m            PT  H-W   \n\n      ...  heelHeightGroup sizeEu  sizeUk  sizeIndex  shaftLength__value  \\\n158   ...      3 cm - 5 cm   44.0     9.5       17.0                17.0   \n327   ...      5 cm - 8 cm   38.0     5.0        8.0                14.0   \n924   ...      3 cm - 5 cm   39.0     6.0        3.0                 0.0   \n1056  ...      3 cm - 5 cm   43.0     9.0        9.0                 0.0   \n1568  ...         bis 3 cm   44.0     9.5       12.0                 0.0   \n1707  ...         bis 3 cm   46.0    11.0       11.0                 0.0   \n\n           sole  isTransferee isSuccessor  \\\n158          TR           0.0         0.0   \n327          TR           0.0         1.0   \n924   Gummi-EVA           0.0         0.0   \n1056  Gummi-EVA           0.0         0.0   \n1568        EVA           0.0         0.0   \n1707      Gummi           0.0         0.0   \n\n                                 duplicate_product__ids  \\\n158   [3696391, 3696389, 3692832, 3696387, 3692891, ...   \n327   [3850720, 3850715, 3850723, 3850718, 4031937, ...   \n924   [5015362, 5015364, 5015368, 5015372, 5015369, ...   \n1056      [4839681, 4839682, 4839680, 4839679, 4839678]   \n1568               [6596395, 6596394, 6596391, 6596390]   \n1707               [6523930, 6523928, 6523923, 6523931]   \n\n                                          product_sizes  \n158   [35.0, 35.5, 36.0, 37.0, 37.5, 38.0, 38.5, 39....  \n327   [35.0, 35.5, 36.0, 37.0, 37.5, 38.0, 38.5, 39....  \n924   [39.0, 40.0, 40.5, 41.0, 42.0, 42.5, 43.0, 44....  \n1056                     [41.0, 42.0, 42.5, 43.0, 44.0]  \n1568                           [39.0, 40.0, 43.0, 44.0]  \n1707                           [39.0, 44.0, 46.0, 47.0]  \n\n[6 rows x 56 columns]",
      "text/html": "<div>\n<style scoped>\n    .dataframe tbody tr th:only-of-type {\n        vertical-align: middle;\n    }\n\n    .dataframe tbody tr th {\n        vertical-align: top;\n    }\n\n    .dataframe thead th {\n        text-align: right;\n    }\n</style>\n<table border=\"1\" class=\"dataframe\">\n  <thead>\n    <tr style=\"text-align: right;\">\n      <th></th>\n      <th>main_product_id</th>\n      <th>productNumber</th>\n      <th>productName</th>\n      <th>productColorName</th>\n      <th>articleNumber</th>\n      <th>brand__id</th>\n      <th>mainCategory__id</th>\n      <th>gender</th>\n      <th>originCountry</th>\n      <th>line</th>\n      <th>...</th>\n      <th>heelHeightGroup</th>\n      <th>sizeEu</th>\n      <th>sizeUk</th>\n      <th>sizeIndex</th>\n      <th>shaftLength__value</th>\n      <th>sole</th>\n      <th>isTransferee</th>\n      <th>isSuccessor</th>\n      <th>duplicate_product__ids</th>\n      <th>product_sizes</th>\n    </tr>\n  </thead>\n  <tbody>\n    <tr>\n      <th>158</th>\n      <td>3696391</td>\n      <td>4062862457084</td>\n      <td>Schnürstiefelette Glattleder schwarz</td>\n      <td>schwarz</td>\n      <td>51.791.20</td>\n      <td>6590677</td>\n      <td>315587</td>\n      <td>w</td>\n      <td>PT</td>\n      <td>H-W</td>\n      <td>...</td>\n      <td>3 cm - 5 cm</td>\n      <td>44.0</td>\n      <td>9.5</td>\n      <td>17.0</td>\n      <td>17.0</td>\n      <td>TR</td>\n      <td>0.0</td>\n      <td>0.0</td>\n      <td>[3696391, 3696389, 3692832, 3696387, 3692891, ...</td>\n      <td>[35.0, 35.5, 36.0, 37.0, 37.5, 38.0, 38.5, 39....</td>\n    </tr>\n    <tr>\n      <th>327</th>\n      <td>3850720</td>\n      <td>4062862156284</td>\n      <td>Winterstiefelette Glattleder schwarz</td>\n      <td>schwarz</td>\n      <td>51.650.87</td>\n      <td>6590677</td>\n      <td>315580</td>\n      <td>w</td>\n      <td>PT</td>\n      <td>H-W</td>\n      <td>...</td>\n      <td>5 cm - 8 cm</td>\n      <td>38.0</td>\n      <td>5.0</td>\n      <td>8.0</td>\n      <td>14.0</td>\n      <td>TR</td>\n      <td>0.0</td>\n      <td>1.0</td>\n      <td>[3850720, 3850715, 3850723, 3850718, 4031937, ...</td>\n      <td>[35.0, 35.5, 36.0, 37.0, 37.5, 38.0, 38.5, 39....</td>\n    </tr>\n    <tr>\n      <th>924</th>\n      <td>5015362</td>\n      <td>4062862987543</td>\n      <td>PG8001 Sneaker low Rauleder grau</td>\n      <td>grau</td>\n      <td>8001.11.03</td>\n      <td>4997827</td>\n      <td>3692261</td>\n      <td>m</td>\n      <td>CN</td>\n      <td>F-S</td>\n      <td>...</td>\n      <td>3 cm - 5 cm</td>\n      <td>39.0</td>\n      <td>6.0</td>\n      <td>3.0</td>\n      <td>0.0</td>\n      <td>Gummi-EVA</td>\n      <td>0.0</td>\n      <td>0.0</td>\n      <td>[5015362, 5015364, 5015368, 5015372, 5015369, ...</td>\n      <td>[39.0, 40.0, 40.5, 41.0, 42.0, 42.5, 43.0, 44....</td>\n    </tr>\n    <tr>\n      <th>1056</th>\n      <td>4839681</td>\n      <td>4064032990605</td>\n      <td>PG1018 Slipper Materialmix Leder/Textil grün</td>\n      <td>grün</td>\n      <td>1018.13.03</td>\n      <td>3692257</td>\n      <td>6406253</td>\n      <td>m</td>\n      <td>VN</td>\n      <td>F-S</td>\n      <td>...</td>\n      <td>3 cm - 5 cm</td>\n      <td>43.0</td>\n      <td>9.0</td>\n      <td>9.0</td>\n      <td>0.0</td>\n      <td>Gummi-EVA</td>\n      <td>0.0</td>\n      <td>0.0</td>\n      <td>[4839681, 4839682, 4839680, 4839679, 4839678]</td>\n      <td>[41.0, 42.0, 42.5, 43.0, 44.0]</td>\n    </tr>\n    <tr>\n      <th>1568</th>\n      <td>6596395</td>\n      <td>4064032878477</td>\n      <td>7302 Hausschuhe Textil rot</td>\n      <td>rot</td>\n      <td>73.021.15</td>\n      <td>6590677</td>\n      <td>8530128</td>\n      <td>m</td>\n      <td>PT</td>\n      <td>H-W</td>\n      <td>...</td>\n      <td>bis 3 cm</td>\n      <td>44.0</td>\n      <td>9.5</td>\n      <td>12.0</td>\n      <td>0.0</td>\n      <td>EVA</td>\n      <td>0.0</td>\n      <td>0.0</td>\n      <td>[6596395, 6596394, 6596391, 6596390]</td>\n      <td>[39.0, 40.0, 43.0, 44.0]</td>\n    </tr>\n    <tr>\n      <th>1707</th>\n      <td>6523930</td>\n      <td>4064032277355</td>\n      <td>PG6000 Pantolette Textil blau</td>\n      <td>blau</td>\n      <td>6000.10.03</td>\n      <td>3692257</td>\n      <td>8756145</td>\n      <td>m</td>\n      <td>PT</td>\n      <td>H-W</td>\n      <td>...</td>\n      <td>bis 3 cm</td>\n      <td>46.0</td>\n      <td>11.0</td>\n      <td>11.0</td>\n      <td>0.0</td>\n      <td>Gummi</td>\n      <td>0.0</td>\n      <td>0.0</td>\n      <td>[6523930, 6523928, 6523923, 6523931]</td>\n      <td>[39.0, 44.0, 46.0, 47.0]</td>\n    </tr>\n  </tbody>\n</table>\n<p>6 rows × 56 columns</p>\n</div>"
     },
     "metadata": {},
     "output_type": "display_data"
    },
    {
     "name": "stdout",
     "output_type": "stream",
     "text": [
      "user got recommended following 5 items: \n"
     ]
    },
    {
     "data": {
      "text/plain": "      main_product_id  productNumber                           productName  \\\n369           3696935  4062862323648            Sneaker high Rauleder grün   \n538           4233980  4062862235743  Winterstiefelette Glattleder schwarz   \n829           5015220  4062862718314     PG0137 Sneaker low Rauleder beige   \n917           5206880  4062862727224         Plateau Sandale Rauleder rosa   \n1074          4775539  4062862846031      Trekkingsandale Rauleder schwarz   \n2667          8488534  4065171545794           Plüschhausschuh Wolle beige   \n\n     productColorName articleNumber  brand__id  mainCategory__id gender  \\\n369              grün     53.560.11    6590677            315586      w   \n538           schwarz     56.094.92    6590678           5014852      w   \n829             beige    0137.12.03    3692257           3692261      m   \n917              rosa     62.773.35    6590678            315568      w   \n1074          schwarz     66.745.47    6590678            315596      w   \n2667            beige     93.010.12    6590677           8487167      w   \n\n     originCountry line  ...  heelHeightGroup sizeEu  sizeUk  sizeIndex  \\\n369             SK  H-W  ...      3 cm - 5 cm   40.5     7.0       12.0   \n538             SK  H-W  ...      3 cm - 5 cm   42.0     8.0       14.0   \n829             VN  F-S  ...         bis 3 cm   43.0     9.0        9.0   \n917             PT  F-S  ...      3 cm - 5 cm   40.5     7.0       12.0   \n1074            PT  F-S  ...      3 cm - 5 cm   37.5     4.5        7.0   \n2667            PT  H-W  ...         bis 3 cm   40.0     6.5        8.0   \n\n      shaftLength__value   sole  isTransferee isSuccessor  \\\n369                  9.0     TR           0.0         0.0   \n538                 16.0     TR           0.0         0.0   \n829                  0.0  Gummi           0.0         0.0   \n917                  0.0     TR           0.0         0.0   \n1074                 0.0     TR           0.0         1.0   \n2667                 0.0    EVA           1.0         1.0   \n\n                                 duplicate_product__ids  \\\n369   [3696935, 4063385, 4063382, 3696934, 4063383, ...   \n538   [4233980, 4233977, 4233976, 4233978, 4233979, ...   \n829   [5015220, 5015218, 5015223, 5015227, 5015215, ...   \n917   [5206880, 5206876, 5206878, 5206881, 5206879, ...   \n1074  [4775539, 4775538, 7768642, 7768643, 7768641, ...   \n2667  [8488534, 8489310, 8488533, 8487580, 8487575, ...   \n\n                                          product_sizes  \n369   [35.0, 35.5, 36.0, 37.0, 37.5, 38.0, 38.5, 39....  \n538   [35.5, 36.0, 37.0, 37.5, 38.0, 38.5, 39.0, 40....  \n829   [39.0, 40.0, 40.5, 41.0, 42.0, 42.5, 43.0, 44....  \n917   [35.0, 35.5, 36.0, 37.0, 37.5, 38.0, 38.5, 39....  \n1074  [35.0, 35.5, 36.0, 37.0, 37.5, 38.0, 38.5, 39....  \n2667  [36.0, 37.0, 38.0, 39.0, 40.0, 41.0, 42.0, 43....  \n\n[6 rows x 56 columns]",
      "text/html": "<div>\n<style scoped>\n    .dataframe tbody tr th:only-of-type {\n        vertical-align: middle;\n    }\n\n    .dataframe tbody tr th {\n        vertical-align: top;\n    }\n\n    .dataframe thead th {\n        text-align: right;\n    }\n</style>\n<table border=\"1\" class=\"dataframe\">\n  <thead>\n    <tr style=\"text-align: right;\">\n      <th></th>\n      <th>main_product_id</th>\n      <th>productNumber</th>\n      <th>productName</th>\n      <th>productColorName</th>\n      <th>articleNumber</th>\n      <th>brand__id</th>\n      <th>mainCategory__id</th>\n      <th>gender</th>\n      <th>originCountry</th>\n      <th>line</th>\n      <th>...</th>\n      <th>heelHeightGroup</th>\n      <th>sizeEu</th>\n      <th>sizeUk</th>\n      <th>sizeIndex</th>\n      <th>shaftLength__value</th>\n      <th>sole</th>\n      <th>isTransferee</th>\n      <th>isSuccessor</th>\n      <th>duplicate_product__ids</th>\n      <th>product_sizes</th>\n    </tr>\n  </thead>\n  <tbody>\n    <tr>\n      <th>369</th>\n      <td>3696935</td>\n      <td>4062862323648</td>\n      <td>Sneaker high Rauleder grün</td>\n      <td>grün</td>\n      <td>53.560.11</td>\n      <td>6590677</td>\n      <td>315586</td>\n      <td>w</td>\n      <td>SK</td>\n      <td>H-W</td>\n      <td>...</td>\n      <td>3 cm - 5 cm</td>\n      <td>40.5</td>\n      <td>7.0</td>\n      <td>12.0</td>\n      <td>9.0</td>\n      <td>TR</td>\n      <td>0.0</td>\n      <td>0.0</td>\n      <td>[3696935, 4063385, 4063382, 3696934, 4063383, ...</td>\n      <td>[35.0, 35.5, 36.0, 37.0, 37.5, 38.0, 38.5, 39....</td>\n    </tr>\n    <tr>\n      <th>538</th>\n      <td>4233980</td>\n      <td>4062862235743</td>\n      <td>Winterstiefelette Glattleder schwarz</td>\n      <td>schwarz</td>\n      <td>56.094.92</td>\n      <td>6590678</td>\n      <td>5014852</td>\n      <td>w</td>\n      <td>SK</td>\n      <td>H-W</td>\n      <td>...</td>\n      <td>3 cm - 5 cm</td>\n      <td>42.0</td>\n      <td>8.0</td>\n      <td>14.0</td>\n      <td>16.0</td>\n      <td>TR</td>\n      <td>0.0</td>\n      <td>0.0</td>\n      <td>[4233980, 4233977, 4233976, 4233978, 4233979, ...</td>\n      <td>[35.5, 36.0, 37.0, 37.5, 38.0, 38.5, 39.0, 40....</td>\n    </tr>\n    <tr>\n      <th>829</th>\n      <td>5015220</td>\n      <td>4062862718314</td>\n      <td>PG0137 Sneaker low Rauleder beige</td>\n      <td>beige</td>\n      <td>0137.12.03</td>\n      <td>3692257</td>\n      <td>3692261</td>\n      <td>m</td>\n      <td>VN</td>\n      <td>F-S</td>\n      <td>...</td>\n      <td>bis 3 cm</td>\n      <td>43.0</td>\n      <td>9.0</td>\n      <td>9.0</td>\n      <td>0.0</td>\n      <td>Gummi</td>\n      <td>0.0</td>\n      <td>0.0</td>\n      <td>[5015220, 5015218, 5015223, 5015227, 5015215, ...</td>\n      <td>[39.0, 40.0, 40.5, 41.0, 42.0, 42.5, 43.0, 44....</td>\n    </tr>\n    <tr>\n      <th>917</th>\n      <td>5206880</td>\n      <td>4062862727224</td>\n      <td>Plateau Sandale Rauleder rosa</td>\n      <td>rosa</td>\n      <td>62.773.35</td>\n      <td>6590678</td>\n      <td>315568</td>\n      <td>w</td>\n      <td>PT</td>\n      <td>F-S</td>\n      <td>...</td>\n      <td>3 cm - 5 cm</td>\n      <td>40.5</td>\n      <td>7.0</td>\n      <td>12.0</td>\n      <td>0.0</td>\n      <td>TR</td>\n      <td>0.0</td>\n      <td>0.0</td>\n      <td>[5206880, 5206876, 5206878, 5206881, 5206879, ...</td>\n      <td>[35.0, 35.5, 36.0, 37.0, 37.5, 38.0, 38.5, 39....</td>\n    </tr>\n    <tr>\n      <th>1074</th>\n      <td>4775539</td>\n      <td>4062862846031</td>\n      <td>Trekkingsandale Rauleder schwarz</td>\n      <td>schwarz</td>\n      <td>66.745.47</td>\n      <td>6590678</td>\n      <td>315596</td>\n      <td>w</td>\n      <td>PT</td>\n      <td>F-S</td>\n      <td>...</td>\n      <td>3 cm - 5 cm</td>\n      <td>37.5</td>\n      <td>4.5</td>\n      <td>7.0</td>\n      <td>0.0</td>\n      <td>TR</td>\n      <td>0.0</td>\n      <td>1.0</td>\n      <td>[4775539, 4775538, 7768642, 7768643, 7768641, ...</td>\n      <td>[35.0, 35.5, 36.0, 37.0, 37.5, 38.0, 38.5, 39....</td>\n    </tr>\n    <tr>\n      <th>2667</th>\n      <td>8488534</td>\n      <td>4065171545794</td>\n      <td>Plüschhausschuh Wolle beige</td>\n      <td>beige</td>\n      <td>93.010.12</td>\n      <td>6590677</td>\n      <td>8487167</td>\n      <td>w</td>\n      <td>PT</td>\n      <td>H-W</td>\n      <td>...</td>\n      <td>bis 3 cm</td>\n      <td>40.0</td>\n      <td>6.5</td>\n      <td>8.0</td>\n      <td>0.0</td>\n      <td>EVA</td>\n      <td>1.0</td>\n      <td>1.0</td>\n      <td>[8488534, 8489310, 8488533, 8487580, 8487575, ...</td>\n      <td>[36.0, 37.0, 38.0, 39.0, 40.0, 41.0, 42.0, 43....</td>\n    </tr>\n  </tbody>\n</table>\n<p>6 rows × 56 columns</p>\n</div>"
     },
     "metadata": {},
     "output_type": "display_data"
    },
    {
     "data": {
      "text/plain": "([0.7927617, 0.69911736, 0.6581041, 0.6470667, 0.59793913],\n [4775539, 5015220, 5206880, 8488534, 4233980, 3696935])"
     },
     "metadata": {},
     "output_type": "display_data"
    }
   ],
   "source": [
    "display(predict_best_n_products(user_id, 5))"
   ],
   "metadata": {
    "collapsed": false,
    "ExecuteTime": {
     "end_time": "2023-09-01T09:20:53.825438Z",
     "start_time": "2023-09-01T09:20:53.790554Z"
    }
   },
   "id": "7abbb7afd27af325"
  },
  {
   "cell_type": "markdown",
   "source": [
    "1 epoch: \n",
    "user: 1940761\n",
    "([0.013858412, 0.010622009, 0.00874101, 0.006170107, 0.0012614947],\n",
    " [7701799, 5015505, 6554561, 7811874, 3711496, 7593580])\n",
    " \n",
    "30 epochs: \n",
    "user: 1940761\n",
    "([1.2001197, 1.1783248, 1.0208428, 0.9025923, 0.88648444],\n",
    " [4125076, 7023883, 3473970, 3847486, 3692883, 6110179])"
   ],
   "metadata": {
    "collapsed": false
   },
   "id": "d19607e3cfd40724"
  },
  {
   "cell_type": "code",
   "execution_count": 196,
   "outputs": [],
   "source": [],
   "metadata": {
    "collapsed": false,
    "ExecuteTime": {
     "end_time": "2023-09-01T09:20:53.825540Z",
     "start_time": "2023-09-01T09:20:53.813083Z"
    }
   },
   "id": "c4983fc31bc919a8"
  }
 ],
 "metadata": {
  "kernelspec": {
   "display_name": "Python 3",
   "language": "python",
   "name": "python3"
  },
  "language_info": {
   "codemirror_mode": {
    "name": "ipython",
    "version": 2
   },
   "file_extension": ".py",
   "mimetype": "text/x-python",
   "name": "python",
   "nbconvert_exporter": "python",
   "pygments_lexer": "ipython2",
   "version": "2.7.6"
  }
 },
 "nbformat": 4,
 "nbformat_minor": 5
}
