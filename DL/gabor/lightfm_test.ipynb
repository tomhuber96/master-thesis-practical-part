{
 "cells": [
  {
   "cell_type": "code",
   "execution_count": 1,
   "outputs": [
    {
     "name": "stderr",
     "output_type": "stream",
     "text": [
      "/Users/thomashuber/miniconda3/envs/m1-master-thesis/lib/python3.9/site-packages/lightfm/_lightfm_fast.py:9: UserWarning: LightFM was compiled without OpenMP support. Only a single thread will be used.\n",
      "  warnings.warn(\n"
     ]
    }
   ],
   "source": [
    "#%pip install lightfm\n",
    "from sklearn.preprocessing import LabelEncoder\n",
    "import numpy as np\n",
    "import pandas as pd\n",
    "\n",
    "from lightfm import LightFM\n",
    "from lightfm.data import Dataset\n",
    "from lightfm.cross_validation import random_train_test_split\n",
    "import matplotlib.pyplot as plt\n",
    "from lightfm.evaluation import precision_at_k, recall_at_k, auc_score"
   ],
   "metadata": {
    "collapsed": false,
    "ExecuteTime": {
     "end_time": "2023-11-25T17:56:08.879685Z",
     "start_time": "2023-11-25T17:56:08.210103Z"
    }
   },
   "id": "initial_id"
  },
  {
   "cell_type": "code",
   "execution_count": 2,
   "outputs": [
    {
     "data": {
      "text/plain": "        customer_id  main_product_id  amount\n0           1940761          3696391       1\n1           1940761          3850720       1\n2           1940761          4839681       2\n3           1940761          5015362       2\n4           1940761          6523930       1\n...             ...              ...     ...\n585121     11128024          3711313       1\n585122     11128039         10224959       1\n585123     11128082          4914111       1\n585124     11128095         10451987       1\n585125     11128129          4078046       1\n\n[585126 rows x 3 columns]",
      "text/html": "<div>\n<style scoped>\n    .dataframe tbody tr th:only-of-type {\n        vertical-align: middle;\n    }\n\n    .dataframe tbody tr th {\n        vertical-align: top;\n    }\n\n    .dataframe thead th {\n        text-align: right;\n    }\n</style>\n<table border=\"1\" class=\"dataframe\">\n  <thead>\n    <tr style=\"text-align: right;\">\n      <th></th>\n      <th>customer_id</th>\n      <th>main_product_id</th>\n      <th>amount</th>\n    </tr>\n  </thead>\n  <tbody>\n    <tr>\n      <th>0</th>\n      <td>1940761</td>\n      <td>3696391</td>\n      <td>1</td>\n    </tr>\n    <tr>\n      <th>1</th>\n      <td>1940761</td>\n      <td>3850720</td>\n      <td>1</td>\n    </tr>\n    <tr>\n      <th>2</th>\n      <td>1940761</td>\n      <td>4839681</td>\n      <td>2</td>\n    </tr>\n    <tr>\n      <th>3</th>\n      <td>1940761</td>\n      <td>5015362</td>\n      <td>2</td>\n    </tr>\n    <tr>\n      <th>4</th>\n      <td>1940761</td>\n      <td>6523930</td>\n      <td>1</td>\n    </tr>\n    <tr>\n      <th>...</th>\n      <td>...</td>\n      <td>...</td>\n      <td>...</td>\n    </tr>\n    <tr>\n      <th>585121</th>\n      <td>11128024</td>\n      <td>3711313</td>\n      <td>1</td>\n    </tr>\n    <tr>\n      <th>585122</th>\n      <td>11128039</td>\n      <td>10224959</td>\n      <td>1</td>\n    </tr>\n    <tr>\n      <th>585123</th>\n      <td>11128082</td>\n      <td>4914111</td>\n      <td>1</td>\n    </tr>\n    <tr>\n      <th>585124</th>\n      <td>11128095</td>\n      <td>10451987</td>\n      <td>1</td>\n    </tr>\n    <tr>\n      <th>585125</th>\n      <td>11128129</td>\n      <td>4078046</td>\n      <td>1</td>\n    </tr>\n  </tbody>\n</table>\n<p>585126 rows × 3 columns</p>\n</div>"
     },
     "metadata": {},
     "output_type": "display_data"
    },
    {
     "data": {
      "text/plain": "      main_product_id  productNumber  \\\n0              557559  4058394021466   \n1              551622  4054452768212   \n2              547193  4054452768427   \n3              549776  4059701687894   \n4              550726  4054452851594   \n...               ...            ...   \n3292         10603553  4066558951733   \n3293         10442948  4065171827272   \n3294         10782704  4251234499207   \n3295         10679703  4066558303617   \n3296         10496278  4065171812513   \n\n                                            productName productColorName  \\\n0              sportliche Ballerinas Glattleder schwarz          schwarz   \n1                     elegante Pumps Glattleder schwarz          schwarz   \n2                            Slipper Glattleder schwarz          schwarz   \n3                             Sneaker low Rauleder blau             blau   \n4     elegante Ballerinas Materialmix Lederimitat sc...          schwarz   \n...                                                 ...              ...   \n3292                Sandale met plateauzool Suède blauw            blauw   \n3293                    Mokassin Materialmix Leder pink             pink   \n3294                                 Shopper ANDIE blau             blau   \n3295                       Elegante pumps Glad leer wit              wit   \n3296                       Sandale compensée Daim beige            beige   \n\n     articleNumber  brand__id  mainCategory__id gender originCountry     line  \\\n0        02.643.57    6590678            315571      w            PT  F-S|H-W   \n1        05.160.37    6590677            315573      w            PT  F-S|H-W   \n2        04.443.27    6590677            315576      w            SK  F-S|H-W   \n3        06.968.46    4997827            315567      w            VN  F-S|H-W   \n4        06.102.67    6590678            315574      w            SK  F-S|H-W   \n...            ...        ...               ...    ...           ...      ...   \n3292     24.764.36    6590677            315568      w            SK      F-S   \n3293     26.090.21    6590678            315590      w            PT      F-S   \n3294        921453     363013            363017      w            DE      F-S   \n3295     21.450.60    6590677            315573      w            PT      F-S   \n3296     24.645.14    6590677            315564      w            PT      F-S   \n\n      ...  heelHeightGroup sizeEu  sizeUk  sizeIndex  shaftLength__value  \\\n0     ...         bis 3 cm   40.0     6.5       11.0                 0.0   \n1     ...      3 cm - 5 cm   38.0     5.0        8.0                 0.0   \n2     ...      3 cm - 5 cm   42.0     8.0       14.0                 0.0   \n3     ...      3 cm - 5 cm   39.0     6.0       10.0                 0.0   \n4     ...         bis 3 cm   37.5     4.5        7.0                 0.0   \n...   ...              ...    ...     ...        ...                 ...   \n3292  ...      5 cm - 8 cm   35.0     2.5        3.0                 0.0   \n3293  ...         bis 3 cm   40.5     7.0       12.0                 0.0   \n3294  ...              NaN    NaN     NaN        NaN                 NaN   \n3295  ...      5 cm - 8 cm   35.0     2.5        3.0                 0.0   \n3296  ...      5 cm - 8 cm   38.0     5.0        8.0                 0.0   \n\n           sole  isTransferee isSuccessor  \\\n0         Gummi           0.0         0.0   \n1           EVA           0.0         0.0   \n2        PU-TPU           0.0         0.0   \n3     Gummi-EVA           0.0         0.0   \n4           EVA           0.0         0.0   \n...         ...           ...         ...   \n3292     PU-TPU           0.0         0.0   \n3293      Gummi           0.0         0.0   \n3294        NaN           NaN         NaN   \n3295        TPU           0.0         0.0   \n3296         TR           0.0         0.0   \n\n                                 duplicate_product__ids  \\\n0     [557559, 549733, 549734, 557553, 589488, 58948...   \n1     [551622, 551505, 551510, 551509, 552973, 55162...   \n2     [547193, 547191, 547196, 547187, 547189, 54719...   \n3     [549776, 550599, 550596, 550593, 550601, 54978...   \n4     [550726, 550736, 550735, 550732, 550728, 55072...   \n...                                                 ...   \n3292                               [10603553, 10544662]   \n3293                               [10442948, 10442949]   \n3294                                         [10782704]   \n3295                                         [10679703]   \n3296                                         [10496278]   \n\n                                          product_sizes  \n0     [35.5, 36.0, 37.0, 37.5, 38.0, 38.5, 39.0, 40....  \n1     [35.0, 35.5, 36.0, 37.0, 37.5, 38.0, 38.5, 39....  \n2     [35.0, 35.5, 36.0, 37.0, 37.5, 38.0, 38.5, 39....  \n3     [35.0, 35.5, 36.0, 37.0, 37.5, 38.0, 38.5, 39....  \n4     [35.0, 37.0, 37.5, 38.0, 38.5, 39.0, 40.0, 40....  \n...                                                 ...  \n3292                                       [35.0, 37.0]  \n3293                                       [40.5, 41.0]  \n3294                                                 []  \n3295                                             [35.0]  \n3296                                             [38.0]  \n\n[3297 rows x 56 columns]",
      "text/html": "<div>\n<style scoped>\n    .dataframe tbody tr th:only-of-type {\n        vertical-align: middle;\n    }\n\n    .dataframe tbody tr th {\n        vertical-align: top;\n    }\n\n    .dataframe thead th {\n        text-align: right;\n    }\n</style>\n<table border=\"1\" class=\"dataframe\">\n  <thead>\n    <tr style=\"text-align: right;\">\n      <th></th>\n      <th>main_product_id</th>\n      <th>productNumber</th>\n      <th>productName</th>\n      <th>productColorName</th>\n      <th>articleNumber</th>\n      <th>brand__id</th>\n      <th>mainCategory__id</th>\n      <th>gender</th>\n      <th>originCountry</th>\n      <th>line</th>\n      <th>...</th>\n      <th>heelHeightGroup</th>\n      <th>sizeEu</th>\n      <th>sizeUk</th>\n      <th>sizeIndex</th>\n      <th>shaftLength__value</th>\n      <th>sole</th>\n      <th>isTransferee</th>\n      <th>isSuccessor</th>\n      <th>duplicate_product__ids</th>\n      <th>product_sizes</th>\n    </tr>\n  </thead>\n  <tbody>\n    <tr>\n      <th>0</th>\n      <td>557559</td>\n      <td>4058394021466</td>\n      <td>sportliche Ballerinas Glattleder schwarz</td>\n      <td>schwarz</td>\n      <td>02.643.57</td>\n      <td>6590678</td>\n      <td>315571</td>\n      <td>w</td>\n      <td>PT</td>\n      <td>F-S|H-W</td>\n      <td>...</td>\n      <td>bis 3 cm</td>\n      <td>40.0</td>\n      <td>6.5</td>\n      <td>11.0</td>\n      <td>0.0</td>\n      <td>Gummi</td>\n      <td>0.0</td>\n      <td>0.0</td>\n      <td>[557559, 549733, 549734, 557553, 589488, 58948...</td>\n      <td>[35.5, 36.0, 37.0, 37.5, 38.0, 38.5, 39.0, 40....</td>\n    </tr>\n    <tr>\n      <th>1</th>\n      <td>551622</td>\n      <td>4054452768212</td>\n      <td>elegante Pumps Glattleder schwarz</td>\n      <td>schwarz</td>\n      <td>05.160.37</td>\n      <td>6590677</td>\n      <td>315573</td>\n      <td>w</td>\n      <td>PT</td>\n      <td>F-S|H-W</td>\n      <td>...</td>\n      <td>3 cm - 5 cm</td>\n      <td>38.0</td>\n      <td>5.0</td>\n      <td>8.0</td>\n      <td>0.0</td>\n      <td>EVA</td>\n      <td>0.0</td>\n      <td>0.0</td>\n      <td>[551622, 551505, 551510, 551509, 552973, 55162...</td>\n      <td>[35.0, 35.5, 36.0, 37.0, 37.5, 38.0, 38.5, 39....</td>\n    </tr>\n    <tr>\n      <th>2</th>\n      <td>547193</td>\n      <td>4054452768427</td>\n      <td>Slipper Glattleder schwarz</td>\n      <td>schwarz</td>\n      <td>04.443.27</td>\n      <td>6590677</td>\n      <td>315576</td>\n      <td>w</td>\n      <td>SK</td>\n      <td>F-S|H-W</td>\n      <td>...</td>\n      <td>3 cm - 5 cm</td>\n      <td>42.0</td>\n      <td>8.0</td>\n      <td>14.0</td>\n      <td>0.0</td>\n      <td>PU-TPU</td>\n      <td>0.0</td>\n      <td>0.0</td>\n      <td>[547193, 547191, 547196, 547187, 547189, 54719...</td>\n      <td>[35.0, 35.5, 36.0, 37.0, 37.5, 38.0, 38.5, 39....</td>\n    </tr>\n    <tr>\n      <th>3</th>\n      <td>549776</td>\n      <td>4059701687894</td>\n      <td>Sneaker low Rauleder blau</td>\n      <td>blau</td>\n      <td>06.968.46</td>\n      <td>4997827</td>\n      <td>315567</td>\n      <td>w</td>\n      <td>VN</td>\n      <td>F-S|H-W</td>\n      <td>...</td>\n      <td>3 cm - 5 cm</td>\n      <td>39.0</td>\n      <td>6.0</td>\n      <td>10.0</td>\n      <td>0.0</td>\n      <td>Gummi-EVA</td>\n      <td>0.0</td>\n      <td>0.0</td>\n      <td>[549776, 550599, 550596, 550593, 550601, 54978...</td>\n      <td>[35.0, 35.5, 36.0, 37.0, 37.5, 38.0, 38.5, 39....</td>\n    </tr>\n    <tr>\n      <th>4</th>\n      <td>550726</td>\n      <td>4054452851594</td>\n      <td>elegante Ballerinas Materialmix Lederimitat sc...</td>\n      <td>schwarz</td>\n      <td>06.102.67</td>\n      <td>6590678</td>\n      <td>315574</td>\n      <td>w</td>\n      <td>SK</td>\n      <td>F-S|H-W</td>\n      <td>...</td>\n      <td>bis 3 cm</td>\n      <td>37.5</td>\n      <td>4.5</td>\n      <td>7.0</td>\n      <td>0.0</td>\n      <td>EVA</td>\n      <td>0.0</td>\n      <td>0.0</td>\n      <td>[550726, 550736, 550735, 550732, 550728, 55072...</td>\n      <td>[35.0, 37.0, 37.5, 38.0, 38.5, 39.0, 40.0, 40....</td>\n    </tr>\n    <tr>\n      <th>...</th>\n      <td>...</td>\n      <td>...</td>\n      <td>...</td>\n      <td>...</td>\n      <td>...</td>\n      <td>...</td>\n      <td>...</td>\n      <td>...</td>\n      <td>...</td>\n      <td>...</td>\n      <td>...</td>\n      <td>...</td>\n      <td>...</td>\n      <td>...</td>\n      <td>...</td>\n      <td>...</td>\n      <td>...</td>\n      <td>...</td>\n      <td>...</td>\n      <td>...</td>\n      <td>...</td>\n    </tr>\n    <tr>\n      <th>3292</th>\n      <td>10603553</td>\n      <td>4066558951733</td>\n      <td>Sandale met plateauzool Suède blauw</td>\n      <td>blauw</td>\n      <td>24.764.36</td>\n      <td>6590677</td>\n      <td>315568</td>\n      <td>w</td>\n      <td>SK</td>\n      <td>F-S</td>\n      <td>...</td>\n      <td>5 cm - 8 cm</td>\n      <td>35.0</td>\n      <td>2.5</td>\n      <td>3.0</td>\n      <td>0.0</td>\n      <td>PU-TPU</td>\n      <td>0.0</td>\n      <td>0.0</td>\n      <td>[10603553, 10544662]</td>\n      <td>[35.0, 37.0]</td>\n    </tr>\n    <tr>\n      <th>3293</th>\n      <td>10442948</td>\n      <td>4065171827272</td>\n      <td>Mokassin Materialmix Leder pink</td>\n      <td>pink</td>\n      <td>26.090.21</td>\n      <td>6590678</td>\n      <td>315590</td>\n      <td>w</td>\n      <td>PT</td>\n      <td>F-S</td>\n      <td>...</td>\n      <td>bis 3 cm</td>\n      <td>40.5</td>\n      <td>7.0</td>\n      <td>12.0</td>\n      <td>0.0</td>\n      <td>Gummi</td>\n      <td>0.0</td>\n      <td>0.0</td>\n      <td>[10442948, 10442949]</td>\n      <td>[40.5, 41.0]</td>\n    </tr>\n    <tr>\n      <th>3294</th>\n      <td>10782704</td>\n      <td>4251234499207</td>\n      <td>Shopper ANDIE blau</td>\n      <td>blau</td>\n      <td>921453</td>\n      <td>363013</td>\n      <td>363017</td>\n      <td>w</td>\n      <td>DE</td>\n      <td>F-S</td>\n      <td>...</td>\n      <td>NaN</td>\n      <td>NaN</td>\n      <td>NaN</td>\n      <td>NaN</td>\n      <td>NaN</td>\n      <td>NaN</td>\n      <td>NaN</td>\n      <td>NaN</td>\n      <td>[10782704]</td>\n      <td>[]</td>\n    </tr>\n    <tr>\n      <th>3295</th>\n      <td>10679703</td>\n      <td>4066558303617</td>\n      <td>Elegante pumps Glad leer wit</td>\n      <td>wit</td>\n      <td>21.450.60</td>\n      <td>6590677</td>\n      <td>315573</td>\n      <td>w</td>\n      <td>PT</td>\n      <td>F-S</td>\n      <td>...</td>\n      <td>5 cm - 8 cm</td>\n      <td>35.0</td>\n      <td>2.5</td>\n      <td>3.0</td>\n      <td>0.0</td>\n      <td>TPU</td>\n      <td>0.0</td>\n      <td>0.0</td>\n      <td>[10679703]</td>\n      <td>[35.0]</td>\n    </tr>\n    <tr>\n      <th>3296</th>\n      <td>10496278</td>\n      <td>4065171812513</td>\n      <td>Sandale compensée Daim beige</td>\n      <td>beige</td>\n      <td>24.645.14</td>\n      <td>6590677</td>\n      <td>315564</td>\n      <td>w</td>\n      <td>PT</td>\n      <td>F-S</td>\n      <td>...</td>\n      <td>5 cm - 8 cm</td>\n      <td>38.0</td>\n      <td>5.0</td>\n      <td>8.0</td>\n      <td>0.0</td>\n      <td>TR</td>\n      <td>0.0</td>\n      <td>0.0</td>\n      <td>[10496278]</td>\n      <td>[38.0]</td>\n    </tr>\n  </tbody>\n</table>\n<p>3297 rows × 56 columns</p>\n</div>"
     },
     "metadata": {},
     "output_type": "display_data"
    }
   ],
   "source": [
    "# Load data\n",
    "basepath = '../../datasets/preprocessed_datasets/gabor/'\n",
    "interaction_data = pd.read_pickle(basepath + 'user_item_interactions_only_main_products.pkl')\n",
    "#interaction_data = interaction_data.sample(1000)\n",
    "product_data = pd.read_pickle(basepath + 'no_product_variants_with_duplicate_ids.pkl')\n",
    "encoder = LabelEncoder()\n",
    "interaction_data.main_product_id = interaction_data.main_product_id.astype(int)\n",
    "product_data.main_product_id = product_data.main_product_id.astype(int)\n",
    "\n",
    "display(interaction_data, product_data)"
   ],
   "metadata": {
    "collapsed": false,
    "ExecuteTime": {
     "end_time": "2023-11-25T17:56:08.950432Z",
     "start_time": "2023-11-25T17:56:08.881179Z"
    }
   },
   "id": "4e1075d201067a30"
  },
  {
   "cell_type": "code",
   "execution_count": 3,
   "outputs": [],
   "source": [
    "all_product_ids = pd.concat([interaction_data['main_product_id'], product_data['main_product_id']]).drop_duplicates()\n",
    "all_product_names = product_data['productName'].drop_duplicates()\n",
    "all_product_colors = product_data['productColorName'].drop_duplicates()\n",
    "all_brand_ids = product_data['brand__id'].drop_duplicates()\n",
    "all_genders = product_data['gender'].drop_duplicates()\n",
    "all_lines = product_data['line'].drop_duplicates()\n",
    "\n",
    "merged_features = np.concatenate((all_product_names.to_numpy(), all_product_colors.to_numpy(), all_brand_ids.to_numpy(), all_genders.to_numpy(), all_lines.to_numpy()))\n",
    "merged_features\n",
    "\n",
    "dataset = Dataset()\n",
    "dataset.fit(users=interaction_data['customer_id'], items=all_product_ids, item_features=merged_features)\n",
    "\n",
    "(interactions, weights) = dataset.build_interactions(\n",
    "    (row.customer_id, row.main_product_id, row.amount)\n",
    "    for row in interaction_data.itertuples()\n",
    ")"
   ],
   "metadata": {
    "collapsed": false,
    "ExecuteTime": {
     "end_time": "2023-11-25T17:56:09.939829Z",
     "start_time": "2023-11-25T17:56:08.951936Z"
    }
   },
   "id": "e675c28aad603d82"
  },
  {
   "cell_type": "code",
   "execution_count": 4,
   "outputs": [],
   "source": [
    "# Ensure that your productNumber is in a list (making it an iterable)\n",
    "item_features = dataset.build_item_features((\n",
    "    (row.main_product_id, [row.productName, row.line, row.gender, row.brand__id, row.productColorName])\n",
    "    for row in product_data.itertuples()))"
   ],
   "metadata": {
    "collapsed": false,
    "ExecuteTime": {
     "end_time": "2023-11-25T17:56:09.967353Z",
     "start_time": "2023-11-25T17:56:09.958876Z"
    }
   },
   "id": "105d4fc4805e43ed"
  },
  {
   "cell_type": "code",
   "execution_count": 5,
   "outputs": [],
   "source": [
    "random_state = 27\n",
    "num_epochs = 5\n",
    "model = LightFM(loss='bpr', random_state=random_state)\n",
    "# Split the interactions into training and testing sets\n",
    "train_interactions, test_interactions = random_train_test_split(interactions, test_percentage=0.2)"
   ],
   "metadata": {
    "collapsed": false,
    "ExecuteTime": {
     "end_time": "2023-11-25T17:56:09.981272Z",
     "start_time": "2023-11-25T17:56:09.963244Z"
    }
   },
   "id": "1be879266ca62dc3"
  },
  {
   "cell_type": "code",
   "execution_count": 6,
   "outputs": [],
   "source": [
    "plot_auc = False\n",
    "if not plot_auc:\n",
    "    model.fit(train_interactions, epochs=num_epochs, item_features=item_features, num_threads=4)\n",
    "else: \n",
    "    auc_by_epoch = []\n",
    "    epochs = []\n",
    "    \n",
    "    # Run several epochs, computing AUC after each epoch\n",
    "    for epoch in range(num_epochs):\n",
    "        model.fit_partial(train_interactions, epochs=1)\n",
    "        auc = auc_score(model, test_interactions).mean()\n",
    "        print(f\"Epoch {epoch}: AUC = {auc}\")\n",
    "    \n",
    "        epochs.append(epoch)\n",
    "        auc_by_epoch.append(auc)\n",
    "    # Plotting\n",
    "    plt.figure(figsize=(10, 5))\n",
    "    plt.plot(epochs, auc_by_epoch)\n",
    "    plt.xlabel('Epochs')\n",
    "    plt.ylabel('AUC')\n",
    "    plt.title('AUC by Epoch')\n",
    "    plt.show()"
   ],
   "metadata": {
    "collapsed": false,
    "ExecuteTime": {
     "end_time": "2023-11-25T17:56:13.280563Z",
     "start_time": "2023-11-25T17:56:09.976567Z"
    }
   },
   "id": "108bc2830f42593a"
  },
  {
   "cell_type": "markdown",
   "source": [],
   "metadata": {
    "collapsed": false
   },
   "id": "e650f2f826288c05"
  },
  {
   "cell_type": "code",
   "execution_count": 7,
   "outputs": [
    {
     "name": "stdout",
     "output_type": "stream",
     "text": [
      "train Precision: 0.0522\n",
      "train Recall: 0.0771\n",
      "train AUC: 0.8381\n"
     ]
    },
    {
     "data": {
      "text/plain": "'------'"
     },
     "metadata": {},
     "output_type": "display_data"
    },
    {
     "name": "stdout",
     "output_type": "stream",
     "text": [
      "test Precision: 0.0147\n",
      "test Recall: 0.0258\n",
      "test AUC: 0.6227\n"
     ]
    }
   ],
   "source": [
    "k_test = 2\n",
    "\n",
    "def test_model(model, interactions, k_test, item_features, prefix): \n",
    "    train_precision = precision_at_k(model, interactions, k=k_test, item_features=item_features).mean()\n",
    "    print(prefix + 'Precision: {:.4f}'.format(train_precision))\n",
    "    train_recall = recall_at_k(model, interactions, k=k_test, item_features=item_features).mean()\n",
    "    print(prefix + 'Recall: {:.4f}'.format(train_recall))\n",
    "    train_auc = auc_score(model, interactions, item_features=item_features).mean()\n",
    "    print(prefix + 'AUC: {:.4f}'.format(train_auc))\n",
    "    \n",
    "test_model(model, train_interactions, k_test, item_features, 'train ')\n",
    "display('------')\n",
    "test_model(model, test_interactions, k_test, item_features, 'test ')"
   ],
   "metadata": {
    "collapsed": false,
    "ExecuteTime": {
     "end_time": "2023-11-25T18:03:28.944500Z",
     "start_time": "2023-11-25T17:56:13.282087Z"
    }
   },
   "id": "b7ac83d356bed0b9"
  },
  {
   "cell_type": "code",
   "execution_count": 14,
   "outputs": [],
   "source": [
    "def predict_best_n_products(user_id, n = 5, no_outputs = False):\n",
    "    item_ids = interaction_data[interaction_data.customer_id ==  user_id].main_product_id.tolist()\n",
    "    user_mapping, _, item_mapping, _ = dataset.mapping()\n",
    "    if not no_outputs:\n",
    "        print('user ' + str(user_id) + ' bought following items')\n",
    "        display(product_data[product_data.main_product_id.isin(item_ids) ])\n",
    "    \n",
    "    \n",
    "    # Convert the original user_id to internal user index\n",
    "    internal_user_id = user_mapping[user_id]\n",
    "    \n",
    "    all_item_ids = np.array(all_product_ids.tolist())\n",
    "    # Get the internal item indices for these IDs\n",
    "    internal_all_item_ids = np.array([item_mapping[item] for item in all_item_ids])\n",
    "    # Convert the list of item_ids that the user has already interacted with to internal item indices\n",
    "    internal_item_ids = [item_mapping[item] for item in item_ids]\n",
    "    # Remove the items the user has already interacted with\n",
    "    recommendable_item_ids = np.setdiff1d(internal_all_item_ids, internal_item_ids)\n",
    "    # Make predictions for the remaining items\n",
    "    scores = model.predict(internal_user_id, recommendable_item_ids)\n",
    "    indices = np.flip(np.argsort(scores)[-n:])\n",
    "    scores_sorted = [scores[i] for i in indices]\n",
    "    \n",
    "    top_recommended_item_internal = [recommendable_item_ids[i] for i in scores.argsort()[::-1]]\n",
    "    \n",
    "    top_recommended_items = []\n",
    "    count = 0\n",
    "    for internal_id in top_recommended_item_internal:\n",
    "        top_recommended_items.append((list(item_mapping.keys()) [list(item_mapping.values()).index(internal_id)]))\n",
    "        count += 1\n",
    "        if count >= n: \n",
    "            break\n",
    "    \n",
    "    if not no_outputs:\n",
    "        print('user got recommended following ' + str(n) + ' items: ')\n",
    "        display(product_data[product_data.main_product_id.isin(top_recommended_items)])\n",
    "    return scores_sorted, top_recommended_items\n"
   ],
   "metadata": {
    "collapsed": false,
    "ExecuteTime": {
     "end_time": "2023-11-25T18:03:58.821114Z",
     "start_time": "2023-11-25T18:03:58.808414Z"
    }
   },
   "id": "3321c415128d18c7"
  },
  {
   "cell_type": "code",
   "execution_count": 15,
   "outputs": [
    {
     "name": "stdout",
     "output_type": "stream",
     "text": [
      "user 1940761 bought following items\n"
     ]
    },
    {
     "data": {
      "text/plain": "      main_product_id  productNumber  \\\n158           3696391  4062862457084   \n327           3850720  4062862156284   \n924           5015362  4062862987543   \n1056          4839681  4064032990605   \n1568          6596395  4064032878477   \n1707          6523930  4064032277355   \n\n                                       productName productColorName  \\\n158           Schnürstiefelette Glattleder schwarz          schwarz   \n327           Winterstiefelette Glattleder schwarz          schwarz   \n924               PG8001 Sneaker low Rauleder grau             grau   \n1056  PG1018 Slipper Materialmix Leder/Textil grün             grün   \n1568                    7302 Hausschuhe Textil rot              rot   \n1707                 PG6000 Pantolette Textil blau             blau   \n\n     articleNumber  brand__id  mainCategory__id gender originCountry line  \\\n158      51.791.20    6590677            315587      w            PT  H-W   \n327      51.650.87    6590677            315580      w            PT  H-W   \n924     8001.11.03    4997827           3692261      m            CN  F-S   \n1056    1018.13.03    3692257           6406253      m            VN  F-S   \n1568     73.021.15    6590677           8530128      m            PT  H-W   \n1707    6000.10.03    3692257           8756145      m            PT  H-W   \n\n      ...  heelHeightGroup sizeEu  sizeUk  sizeIndex  shaftLength__value  \\\n158   ...      3 cm - 5 cm   44.0     9.5       17.0                17.0   \n327   ...      5 cm - 8 cm   38.0     5.0        8.0                14.0   \n924   ...      3 cm - 5 cm   39.0     6.0        3.0                 0.0   \n1056  ...      3 cm - 5 cm   43.0     9.0        9.0                 0.0   \n1568  ...         bis 3 cm   44.0     9.5       12.0                 0.0   \n1707  ...         bis 3 cm   46.0    11.0       11.0                 0.0   \n\n           sole  isTransferee isSuccessor  \\\n158          TR           0.0         0.0   \n327          TR           0.0         1.0   \n924   Gummi-EVA           0.0         0.0   \n1056  Gummi-EVA           0.0         0.0   \n1568        EVA           0.0         0.0   \n1707      Gummi           0.0         0.0   \n\n                                 duplicate_product__ids  \\\n158   [3696391, 3696389, 3692832, 3696387, 3692891, ...   \n327   [3850720, 3850715, 3850723, 3850718, 4031937, ...   \n924   [5015362, 5015364, 5015368, 5015372, 5015369, ...   \n1056      [4839681, 4839682, 4839680, 4839679, 4839678]   \n1568               [6596395, 6596394, 6596391, 6596390]   \n1707               [6523930, 6523928, 6523923, 6523931]   \n\n                                          product_sizes  \n158   [35.0, 35.5, 36.0, 37.0, 37.5, 38.0, 38.5, 39....  \n327   [35.0, 35.5, 36.0, 37.0, 37.5, 38.0, 38.5, 39....  \n924   [39.0, 40.0, 40.5, 41.0, 42.0, 42.5, 43.0, 44....  \n1056                     [41.0, 42.0, 42.5, 43.0, 44.0]  \n1568                           [39.0, 40.0, 43.0, 44.0]  \n1707                           [39.0, 44.0, 46.0, 47.0]  \n\n[6 rows x 56 columns]",
      "text/html": "<div>\n<style scoped>\n    .dataframe tbody tr th:only-of-type {\n        vertical-align: middle;\n    }\n\n    .dataframe tbody tr th {\n        vertical-align: top;\n    }\n\n    .dataframe thead th {\n        text-align: right;\n    }\n</style>\n<table border=\"1\" class=\"dataframe\">\n  <thead>\n    <tr style=\"text-align: right;\">\n      <th></th>\n      <th>main_product_id</th>\n      <th>productNumber</th>\n      <th>productName</th>\n      <th>productColorName</th>\n      <th>articleNumber</th>\n      <th>brand__id</th>\n      <th>mainCategory__id</th>\n      <th>gender</th>\n      <th>originCountry</th>\n      <th>line</th>\n      <th>...</th>\n      <th>heelHeightGroup</th>\n      <th>sizeEu</th>\n      <th>sizeUk</th>\n      <th>sizeIndex</th>\n      <th>shaftLength__value</th>\n      <th>sole</th>\n      <th>isTransferee</th>\n      <th>isSuccessor</th>\n      <th>duplicate_product__ids</th>\n      <th>product_sizes</th>\n    </tr>\n  </thead>\n  <tbody>\n    <tr>\n      <th>158</th>\n      <td>3696391</td>\n      <td>4062862457084</td>\n      <td>Schnürstiefelette Glattleder schwarz</td>\n      <td>schwarz</td>\n      <td>51.791.20</td>\n      <td>6590677</td>\n      <td>315587</td>\n      <td>w</td>\n      <td>PT</td>\n      <td>H-W</td>\n      <td>...</td>\n      <td>3 cm - 5 cm</td>\n      <td>44.0</td>\n      <td>9.5</td>\n      <td>17.0</td>\n      <td>17.0</td>\n      <td>TR</td>\n      <td>0.0</td>\n      <td>0.0</td>\n      <td>[3696391, 3696389, 3692832, 3696387, 3692891, ...</td>\n      <td>[35.0, 35.5, 36.0, 37.0, 37.5, 38.0, 38.5, 39....</td>\n    </tr>\n    <tr>\n      <th>327</th>\n      <td>3850720</td>\n      <td>4062862156284</td>\n      <td>Winterstiefelette Glattleder schwarz</td>\n      <td>schwarz</td>\n      <td>51.650.87</td>\n      <td>6590677</td>\n      <td>315580</td>\n      <td>w</td>\n      <td>PT</td>\n      <td>H-W</td>\n      <td>...</td>\n      <td>5 cm - 8 cm</td>\n      <td>38.0</td>\n      <td>5.0</td>\n      <td>8.0</td>\n      <td>14.0</td>\n      <td>TR</td>\n      <td>0.0</td>\n      <td>1.0</td>\n      <td>[3850720, 3850715, 3850723, 3850718, 4031937, ...</td>\n      <td>[35.0, 35.5, 36.0, 37.0, 37.5, 38.0, 38.5, 39....</td>\n    </tr>\n    <tr>\n      <th>924</th>\n      <td>5015362</td>\n      <td>4062862987543</td>\n      <td>PG8001 Sneaker low Rauleder grau</td>\n      <td>grau</td>\n      <td>8001.11.03</td>\n      <td>4997827</td>\n      <td>3692261</td>\n      <td>m</td>\n      <td>CN</td>\n      <td>F-S</td>\n      <td>...</td>\n      <td>3 cm - 5 cm</td>\n      <td>39.0</td>\n      <td>6.0</td>\n      <td>3.0</td>\n      <td>0.0</td>\n      <td>Gummi-EVA</td>\n      <td>0.0</td>\n      <td>0.0</td>\n      <td>[5015362, 5015364, 5015368, 5015372, 5015369, ...</td>\n      <td>[39.0, 40.0, 40.5, 41.0, 42.0, 42.5, 43.0, 44....</td>\n    </tr>\n    <tr>\n      <th>1056</th>\n      <td>4839681</td>\n      <td>4064032990605</td>\n      <td>PG1018 Slipper Materialmix Leder/Textil grün</td>\n      <td>grün</td>\n      <td>1018.13.03</td>\n      <td>3692257</td>\n      <td>6406253</td>\n      <td>m</td>\n      <td>VN</td>\n      <td>F-S</td>\n      <td>...</td>\n      <td>3 cm - 5 cm</td>\n      <td>43.0</td>\n      <td>9.0</td>\n      <td>9.0</td>\n      <td>0.0</td>\n      <td>Gummi-EVA</td>\n      <td>0.0</td>\n      <td>0.0</td>\n      <td>[4839681, 4839682, 4839680, 4839679, 4839678]</td>\n      <td>[41.0, 42.0, 42.5, 43.0, 44.0]</td>\n    </tr>\n    <tr>\n      <th>1568</th>\n      <td>6596395</td>\n      <td>4064032878477</td>\n      <td>7302 Hausschuhe Textil rot</td>\n      <td>rot</td>\n      <td>73.021.15</td>\n      <td>6590677</td>\n      <td>8530128</td>\n      <td>m</td>\n      <td>PT</td>\n      <td>H-W</td>\n      <td>...</td>\n      <td>bis 3 cm</td>\n      <td>44.0</td>\n      <td>9.5</td>\n      <td>12.0</td>\n      <td>0.0</td>\n      <td>EVA</td>\n      <td>0.0</td>\n      <td>0.0</td>\n      <td>[6596395, 6596394, 6596391, 6596390]</td>\n      <td>[39.0, 40.0, 43.0, 44.0]</td>\n    </tr>\n    <tr>\n      <th>1707</th>\n      <td>6523930</td>\n      <td>4064032277355</td>\n      <td>PG6000 Pantolette Textil blau</td>\n      <td>blau</td>\n      <td>6000.10.03</td>\n      <td>3692257</td>\n      <td>8756145</td>\n      <td>m</td>\n      <td>PT</td>\n      <td>H-W</td>\n      <td>...</td>\n      <td>bis 3 cm</td>\n      <td>46.0</td>\n      <td>11.0</td>\n      <td>11.0</td>\n      <td>0.0</td>\n      <td>Gummi</td>\n      <td>0.0</td>\n      <td>0.0</td>\n      <td>[6523930, 6523928, 6523923, 6523931]</td>\n      <td>[39.0, 44.0, 46.0, 47.0]</td>\n    </tr>\n  </tbody>\n</table>\n<p>6 rows × 56 columns</p>\n</div>"
     },
     "metadata": {},
     "output_type": "display_data"
    },
    {
     "name": "stdout",
     "output_type": "stream",
     "text": [
      "user got recommended following 5 items: \n"
     ]
    },
    {
     "data": {
      "text/plain": "     main_product_id  productNumber                              productName  \\\n2             547193  4054452768427               Slipper Glattleder schwarz   \n49           3483211  4062862457824          Chelsea Boot Glattleder schwarz   \n63           3473232  4062862099024  Elegante Stiefelette Glattleder schwarz   \n162          3696847  4062862460299              Sneaker low Glattleder weiß   \n194          3692926  4062862484615         Schnürstiefelette Rauleder braun   \n\n    productColorName articleNumber  brand__id  mainCategory__id gender  \\\n2            schwarz     04.443.27    6590677            315576      w   \n49           schwarz     51.792.27    6590677            315582      w   \n63           schwarz     55.525.27    6590677            315579      w   \n162             weiß     53.336.20    6590677            315567      w   \n194            braun    0869.71.02    3692257            315587      w   \n\n    originCountry     line  ...  heelHeightGroup sizeEu  sizeUk  sizeIndex  \\\n2              SK  F-S|H-W  ...      3 cm - 5 cm   42.0     8.0       14.0   \n49             PT      H-W  ...      3 cm - 5 cm   43.0     9.0       16.0   \n63             SK      H-W  ...      5 cm - 8 cm   37.0     4.0        6.0   \n162            SK      H-W  ...      3 cm - 5 cm   36.0     3.5        5.0   \n194            PT      H-W  ...      3 cm - 5 cm   37.0     4.0        6.0   \n\n     shaftLength__value    sole  isTransferee isSuccessor  \\\n2                   0.0  PU-TPU           0.0         0.0   \n49                 15.0      TR           0.0         0.0   \n63                 13.0   Gummi           0.0         0.0   \n162                 0.0      TR           0.0         0.0   \n194                16.0      TR           0.0         0.0   \n\n                                duplicate_product__ids  \\\n2    [547193, 547191, 547196, 547187, 547189, 54719...   \n49   [3483211, 3478054, 3478052, 3483212, 3483204, ...   \n63   [3473232, 3505358, 3505352, 3505351, 3505360, ...   \n162  [3696847, 3591088, 3696859, 3591085, 3591087, ...   \n194  [3692926, 3692943, 3764112, 3692949, 3764116, ...   \n\n                                         product_sizes  \n2    [35.0, 35.5, 36.0, 37.0, 37.5, 38.0, 38.5, 39....  \n49   [35.0, 35.5, 36.0, 37.0, 37.5, 38.0, 38.5, 39....  \n63   [35.0, 35.5, 36.0, 37.0, 37.5, 38.0, 38.5, 39....  \n162  [35.0, 35.5, 36.0, 37.0, 37.5, 38.0, 38.5, 39....  \n194  [35.0, 35.5, 36.0, 37.0, 37.5, 38.0, 38.5, 39....  \n\n[5 rows x 56 columns]",
      "text/html": "<div>\n<style scoped>\n    .dataframe tbody tr th:only-of-type {\n        vertical-align: middle;\n    }\n\n    .dataframe tbody tr th {\n        vertical-align: top;\n    }\n\n    .dataframe thead th {\n        text-align: right;\n    }\n</style>\n<table border=\"1\" class=\"dataframe\">\n  <thead>\n    <tr style=\"text-align: right;\">\n      <th></th>\n      <th>main_product_id</th>\n      <th>productNumber</th>\n      <th>productName</th>\n      <th>productColorName</th>\n      <th>articleNumber</th>\n      <th>brand__id</th>\n      <th>mainCategory__id</th>\n      <th>gender</th>\n      <th>originCountry</th>\n      <th>line</th>\n      <th>...</th>\n      <th>heelHeightGroup</th>\n      <th>sizeEu</th>\n      <th>sizeUk</th>\n      <th>sizeIndex</th>\n      <th>shaftLength__value</th>\n      <th>sole</th>\n      <th>isTransferee</th>\n      <th>isSuccessor</th>\n      <th>duplicate_product__ids</th>\n      <th>product_sizes</th>\n    </tr>\n  </thead>\n  <tbody>\n    <tr>\n      <th>2</th>\n      <td>547193</td>\n      <td>4054452768427</td>\n      <td>Slipper Glattleder schwarz</td>\n      <td>schwarz</td>\n      <td>04.443.27</td>\n      <td>6590677</td>\n      <td>315576</td>\n      <td>w</td>\n      <td>SK</td>\n      <td>F-S|H-W</td>\n      <td>...</td>\n      <td>3 cm - 5 cm</td>\n      <td>42.0</td>\n      <td>8.0</td>\n      <td>14.0</td>\n      <td>0.0</td>\n      <td>PU-TPU</td>\n      <td>0.0</td>\n      <td>0.0</td>\n      <td>[547193, 547191, 547196, 547187, 547189, 54719...</td>\n      <td>[35.0, 35.5, 36.0, 37.0, 37.5, 38.0, 38.5, 39....</td>\n    </tr>\n    <tr>\n      <th>49</th>\n      <td>3483211</td>\n      <td>4062862457824</td>\n      <td>Chelsea Boot Glattleder schwarz</td>\n      <td>schwarz</td>\n      <td>51.792.27</td>\n      <td>6590677</td>\n      <td>315582</td>\n      <td>w</td>\n      <td>PT</td>\n      <td>H-W</td>\n      <td>...</td>\n      <td>3 cm - 5 cm</td>\n      <td>43.0</td>\n      <td>9.0</td>\n      <td>16.0</td>\n      <td>15.0</td>\n      <td>TR</td>\n      <td>0.0</td>\n      <td>0.0</td>\n      <td>[3483211, 3478054, 3478052, 3483212, 3483204, ...</td>\n      <td>[35.0, 35.5, 36.0, 37.0, 37.5, 38.0, 38.5, 39....</td>\n    </tr>\n    <tr>\n      <th>63</th>\n      <td>3473232</td>\n      <td>4062862099024</td>\n      <td>Elegante Stiefelette Glattleder schwarz</td>\n      <td>schwarz</td>\n      <td>55.525.27</td>\n      <td>6590677</td>\n      <td>315579</td>\n      <td>w</td>\n      <td>SK</td>\n      <td>H-W</td>\n      <td>...</td>\n      <td>5 cm - 8 cm</td>\n      <td>37.0</td>\n      <td>4.0</td>\n      <td>6.0</td>\n      <td>13.0</td>\n      <td>Gummi</td>\n      <td>0.0</td>\n      <td>0.0</td>\n      <td>[3473232, 3505358, 3505352, 3505351, 3505360, ...</td>\n      <td>[35.0, 35.5, 36.0, 37.0, 37.5, 38.0, 38.5, 39....</td>\n    </tr>\n    <tr>\n      <th>162</th>\n      <td>3696847</td>\n      <td>4062862460299</td>\n      <td>Sneaker low Glattleder weiß</td>\n      <td>weiß</td>\n      <td>53.336.20</td>\n      <td>6590677</td>\n      <td>315567</td>\n      <td>w</td>\n      <td>SK</td>\n      <td>H-W</td>\n      <td>...</td>\n      <td>3 cm - 5 cm</td>\n      <td>36.0</td>\n      <td>3.5</td>\n      <td>5.0</td>\n      <td>0.0</td>\n      <td>TR</td>\n      <td>0.0</td>\n      <td>0.0</td>\n      <td>[3696847, 3591088, 3696859, 3591085, 3591087, ...</td>\n      <td>[35.0, 35.5, 36.0, 37.0, 37.5, 38.0, 38.5, 39....</td>\n    </tr>\n    <tr>\n      <th>194</th>\n      <td>3692926</td>\n      <td>4062862484615</td>\n      <td>Schnürstiefelette Rauleder braun</td>\n      <td>braun</td>\n      <td>0869.71.02</td>\n      <td>3692257</td>\n      <td>315587</td>\n      <td>w</td>\n      <td>PT</td>\n      <td>H-W</td>\n      <td>...</td>\n      <td>3 cm - 5 cm</td>\n      <td>37.0</td>\n      <td>4.0</td>\n      <td>6.0</td>\n      <td>16.0</td>\n      <td>TR</td>\n      <td>0.0</td>\n      <td>0.0</td>\n      <td>[3692926, 3692943, 3764112, 3692949, 3764116, ...</td>\n      <td>[35.0, 35.5, 36.0, 37.0, 37.5, 38.0, 38.5, 39....</td>\n    </tr>\n  </tbody>\n</table>\n<p>5 rows × 56 columns</p>\n</div>"
     },
     "metadata": {},
     "output_type": "display_data"
    },
    {
     "data": {
      "text/plain": "([0.13298759, -0.0037938508, -0.08870607, -0.09744399, -0.13015397],\n [3483211, 3696847, 3473232, 3692926, 547193])"
     },
     "metadata": {},
     "output_type": "display_data"
    }
   ],
   "source": [
    "user_id = 1940761\n",
    "display(predict_best_n_products(user_id, 5))"
   ],
   "metadata": {
    "collapsed": false,
    "ExecuteTime": {
     "end_time": "2023-11-25T18:04:01.831664Z",
     "start_time": "2023-11-25T18:04:01.799524Z"
    }
   },
   "id": "7abbb7afd27af325"
  },
  {
   "cell_type": "markdown",
   "source": [
    "1 epoch: \n",
    "user: 1940761\n",
    "([0.013858412, 0.010622009, 0.00874101, 0.006170107, 0.0012614947],\n",
    " [7701799, 5015505, 6554561, 7811874, 3711496, 7593580])\n",
    " \n",
    "30 epochs: \n",
    "user: 1940761\n",
    "([1.2001197, 1.1783248, 1.0208428, 0.9025923, 0.88648444],\n",
    " [4125076, 7023883, 3473970, 3847486, 3692883, 6110179])"
   ],
   "metadata": {
    "collapsed": false
   },
   "id": "d19607e3cfd40724"
  },
  {
   "cell_type": "code",
   "execution_count": 36,
   "outputs": [
    {
     "name": "stdout",
     "output_type": "stream",
     "text": [
      "calculating recommendations for 357779 users\n",
      "calculated recommendations for 10000 users\n",
      "calculated recommendations for 20000 users\n",
      "calculated recommendations for 30000 users\n",
      "calculated recommendations for 40000 users\n",
      "calculated recommendations for 50000 users\n",
      "calculated recommendations for 60000 users\n",
      "calculated recommendations for 70000 users\n",
      "calculated recommendations for 80000 users\n",
      "calculated recommendations for 90000 users\n",
      "calculated recommendations for 100000 users\n",
      "calculated recommendations for 110000 users\n",
      "calculated recommendations for 120000 users\n",
      "calculated recommendations for 130000 users\n",
      "calculated recommendations for 140000 users\n",
      "calculated recommendations for 150000 users\n",
      "calculated recommendations for 160000 users\n",
      "calculated recommendations for 170000 users\n",
      "calculated recommendations for 180000 users\n",
      "calculated recommendations for 190000 users\n",
      "calculated recommendations for 200000 users\n",
      "calculated recommendations for 210000 users\n",
      "calculated recommendations for 220000 users\n",
      "calculated recommendations for 230000 users\n",
      "calculated recommendations for 240000 users\n",
      "calculated recommendations for 250000 users\n",
      "calculated recommendations for 260000 users\n",
      "calculated recommendations for 270000 users\n",
      "calculated recommendations for 280000 users\n",
      "calculated recommendations for 290000 users\n",
      "calculated recommendations for 300000 users\n",
      "calculated recommendations for 310000 users\n",
      "calculated recommendations for 320000 users\n",
      "calculated recommendations for 330000 users\n",
      "calculated recommendations for 340000 users\n",
      "calculated recommendations for 350000 users\n",
      "Catalog Coverage: 0.02\n",
      "Item Coverage: 5.00\n",
      "Average Score: 0.07, Min Score: -1.40, Max Score: 0.60\n"
     ]
    }
   ],
   "source": [
    "from collections import defaultdict\n",
    "\n",
    "# Assuming 'interaction_data.customer_id.unique()' gives us a list of unique user IDs\n",
    "# and 'predict_best_n_products(user, n)' returns the top 'n' recommended product IDs for a given user\n",
    "\n",
    "# Step 1: Store Recommended Items\n",
    "recommended_products = defaultdict(list)\n",
    "print('calculating recommendations for ' + str(len(interaction_data.customer_id.unique())) + ' users')\n",
    "count = 0\n",
    "all_scores = []\n",
    "for user in interaction_data.customer_id.unique():\n",
    "    scores, top_recommended_items = predict_best_n_products(user, 5, True)\n",
    "    recommended_products[user].extend(top_recommended_items)\n",
    "    all_scores.extend(scores)\n",
    "    count += 1\n",
    "    if count % 10000 == 0: \n",
    "        print('calculated recommendations for ' + str(count) + ' users')\n",
    "\n",
    "\n",
    "# Step 2: Calculate Catalog Coverage\n",
    "unique_recommended_items = set()\n",
    "for user, items in recommended_products.items():\n",
    "    unique_recommended_items.update(items)\n",
    "\n",
    "catalog_coverage = len(unique_recommended_items) / len(product_data.main_product_id.unique())  # Replace with your catalog size\n",
    "\n",
    "# Step 3: Calculate Item Coverage\n",
    "item_recommendation_counts = defaultdict(int)\n",
    "for items in recommended_products.values():\n",
    "    for item in items:\n",
    "        item_recommendation_counts[item] += 1\n",
    "\n",
    "average_item_coverage = sum(item_recommendation_counts.values()) / len(recommended_products)\n",
    "\n",
    "# Print the results\n",
    "print(f\"Catalog Coverage: {catalog_coverage:.2f}\")\n",
    "print(f\"Item Coverage: {average_item_coverage:.2f}\")\n",
    "print(f\"Average Score: {np.mean(all_scores):.2f}, Min Score: {np.min(all_scores):.2f}, Max Score: {np.max(all_scores):.2f}\")"
   ],
   "metadata": {
    "collapsed": false,
    "ExecuteTime": {
     "end_time": "2023-11-25T18:46:48.039924Z",
     "start_time": "2023-11-25T18:35:15.884784Z"
    }
   },
   "id": "c4983fc31bc919a8"
  },
  {
   "cell_type": "code",
   "execution_count": 35,
   "outputs": [
    {
     "name": "stdout",
     "output_type": "stream",
     "text": [
      "1788895\n"
     ]
    }
   ],
   "source": [
    "print(sum(item_recommendation_counts.values()))"
   ],
   "metadata": {
    "collapsed": false,
    "ExecuteTime": {
     "end_time": "2023-11-25T18:30:48.884900Z",
     "start_time": "2023-11-25T18:30:48.879292Z"
    }
   },
   "id": "eb4317e85da81f75"
  }
 ],
 "metadata": {
  "kernelspec": {
   "display_name": "Python 3",
   "language": "python",
   "name": "python3"
  },
  "language_info": {
   "codemirror_mode": {
    "name": "ipython",
    "version": 2
   },
   "file_extension": ".py",
   "mimetype": "text/x-python",
   "name": "python",
   "nbconvert_exporter": "python",
   "pygments_lexer": "ipython2",
   "version": "2.7.6"
  }
 },
 "nbformat": 4,
 "nbformat_minor": 5
}
