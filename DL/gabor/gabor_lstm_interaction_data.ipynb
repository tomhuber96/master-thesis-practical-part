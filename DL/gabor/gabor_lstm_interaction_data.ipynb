{
 "cells": [
  {
   "cell_type": "code",
   "execution_count": 1,
   "metadata": {
    "collapsed": true,
    "ExecuteTime": {
     "end_time": "2023-08-31T07:03:41.684871Z",
     "start_time": "2023-08-31T07:03:39.149831Z"
    }
   },
   "outputs": [],
   "source": [
    "import pandas as pd\n",
    "from scipy.sparse import coo_matrix\n",
    "from tensorflow import keras\n",
    "from tensorflow.keras import layers\n",
    "from keras.layers import Input, Embedding, LSTM, Dense, Dot, Softmax, Concatenate, BatchNormalization, Attention, \\\n",
    "    Flatten\n",
    "from keras.models import Model\n",
    "from sklearn.metrics.pairwise import cosine_similarity\n",
    "import tensorflow as tf\n",
    "import numpy as np\n",
    "from keras.utils import pad_sequences\n",
    "pd.set_option('display.max_colwidth', None)\n",
    "from keras.layers import Input, Embedding, LSTM, Dense, Dropout, Attention\n",
    "from keras.models import Model\n",
    "from sklearn.preprocessing import LabelEncoder"
   ]
  },
  {
   "cell_type": "code",
   "execution_count": 2,
   "outputs": [],
   "source": [
    "#%pip install tensorflow\n",
    "#%pip install tensorflow-metal\n",
    "#%pip uninstall tensorflow --yes\n",
    "#%pip uninstall tensorflow-metal --yes"
   ],
   "metadata": {
    "collapsed": false,
    "ExecuteTime": {
     "end_time": "2023-08-31T07:03:41.688588Z",
     "start_time": "2023-08-31T07:03:41.685402Z"
    }
   }
  },
  {
   "cell_type": "code",
   "execution_count": 3,
   "outputs": [
    {
     "name": "stdout",
     "output_type": "stream",
     "text": [
      "GPU is available\n"
     ]
    }
   ],
   "source": [
    "if tf.config.list_physical_devices('GPU'):\n",
    "    print(\"GPU is available\")\n",
    "else:\n",
    "    print(\"GPU is not available\")"
   ],
   "metadata": {
    "collapsed": false,
    "ExecuteTime": {
     "end_time": "2023-08-31T07:03:41.692948Z",
     "start_time": "2023-08-31T07:03:41.688388Z"
    }
   }
  },
  {
   "cell_type": "code",
   "execution_count": 4,
   "outputs": [
    {
     "data": {
      "text/plain": "        customer_id  main_product_id  amount\n372912      8143179          4769749       2\n189685      5232682          3695591       1\n177522      5074118          3477326       1\n3885        1952443          5135470       1\n499705      9953822          3481281       1\n...             ...              ...     ...\n267261      6451407          4770913       1\n483063      9756215          4222782       1\n226937      5775538          3480813       1\n553592     10700058          3696847       1\n377282      8205765          4846630       1\n\n[10000 rows x 3 columns]",
      "text/html": "<div>\n<style scoped>\n    .dataframe tbody tr th:only-of-type {\n        vertical-align: middle;\n    }\n\n    .dataframe tbody tr th {\n        vertical-align: top;\n    }\n\n    .dataframe thead th {\n        text-align: right;\n    }\n</style>\n<table border=\"1\" class=\"dataframe\">\n  <thead>\n    <tr style=\"text-align: right;\">\n      <th></th>\n      <th>customer_id</th>\n      <th>main_product_id</th>\n      <th>amount</th>\n    </tr>\n  </thead>\n  <tbody>\n    <tr>\n      <th>372912</th>\n      <td>8143179</td>\n      <td>4769749</td>\n      <td>2</td>\n    </tr>\n    <tr>\n      <th>189685</th>\n      <td>5232682</td>\n      <td>3695591</td>\n      <td>1</td>\n    </tr>\n    <tr>\n      <th>177522</th>\n      <td>5074118</td>\n      <td>3477326</td>\n      <td>1</td>\n    </tr>\n    <tr>\n      <th>3885</th>\n      <td>1952443</td>\n      <td>5135470</td>\n      <td>1</td>\n    </tr>\n    <tr>\n      <th>499705</th>\n      <td>9953822</td>\n      <td>3481281</td>\n      <td>1</td>\n    </tr>\n    <tr>\n      <th>...</th>\n      <td>...</td>\n      <td>...</td>\n      <td>...</td>\n    </tr>\n    <tr>\n      <th>267261</th>\n      <td>6451407</td>\n      <td>4770913</td>\n      <td>1</td>\n    </tr>\n    <tr>\n      <th>483063</th>\n      <td>9756215</td>\n      <td>4222782</td>\n      <td>1</td>\n    </tr>\n    <tr>\n      <th>226937</th>\n      <td>5775538</td>\n      <td>3480813</td>\n      <td>1</td>\n    </tr>\n    <tr>\n      <th>553592</th>\n      <td>10700058</td>\n      <td>3696847</td>\n      <td>1</td>\n    </tr>\n    <tr>\n      <th>377282</th>\n      <td>8205765</td>\n      <td>4846630</td>\n      <td>1</td>\n    </tr>\n  </tbody>\n</table>\n<p>10000 rows × 3 columns</p>\n</div>"
     },
     "execution_count": 4,
     "metadata": {},
     "output_type": "execute_result"
    }
   ],
   "source": [
    "basepath = '../../datasets/preprocessed_datasets/gabor/'\n",
    "interaction_data = pd.read_pickle(basepath + 'user_item_interactions_only_main_products.pkl')\n",
    "interaction_data = interaction_data.sample(n=10000)\n",
    "interaction_data\n"
   ],
   "metadata": {
    "collapsed": false,
    "ExecuteTime": {
     "end_time": "2023-08-31T07:03:41.710528Z",
     "start_time": "2023-08-31T07:03:41.691180Z"
    }
   }
  },
  {
   "cell_type": "code",
   "execution_count": 5,
   "outputs": [
    {
     "data": {
      "text/plain": "      main_product_id  productNumber  \\\n0              557559  4058394021466   \n1              551622  4054452768212   \n2              547193  4054452768427   \n3              549776  4059701687894   \n4              550726  4054452851594   \n...               ...            ...   \n3292         10603553  4066558951733   \n3293         10442948  4065171827272   \n3294         10782704  4251234499207   \n3295         10679703  4066558303617   \n3296         10496278  4065171812513   \n\n                                              productName productColorName  \\\n0                sportliche Ballerinas Glattleder schwarz          schwarz   \n1                       elegante Pumps Glattleder schwarz          schwarz   \n2                              Slipper Glattleder schwarz          schwarz   \n3                               Sneaker low Rauleder blau             blau   \n4     elegante Ballerinas Materialmix Lederimitat schwarz          schwarz   \n...                                                   ...              ...   \n3292                  Sandale met plateauzool Suède blauw            blauw   \n3293                      Mokassin Materialmix Leder pink             pink   \n3294                                   Shopper ANDIE blau             blau   \n3295                         Elegante pumps Glad leer wit              wit   \n3296                         Sandale compensée Daim beige            beige   \n\n     articleNumber  brand__id  mainCategory__id gender originCountry     line  \\\n0        02.643.57    6590678            315571      w            PT  F-S|H-W   \n1        05.160.37    6590677            315573      w            PT  F-S|H-W   \n2        04.443.27    6590677            315576      w            SK  F-S|H-W   \n3        06.968.46    4997827            315567      w            VN  F-S|H-W   \n4        06.102.67    6590678            315574      w            SK  F-S|H-W   \n...            ...        ...               ...    ...           ...      ...   \n3292     24.764.36    6590677            315568      w            SK      F-S   \n3293     26.090.21    6590678            315590      w            PT      F-S   \n3294        921453     363013            363017      w            DE      F-S   \n3295     21.450.60    6590677            315573      w            PT      F-S   \n3296     24.645.14    6590677            315564      w            PT      F-S   \n\n      ...  heelHeightGroup sizeEu  sizeUk  sizeIndex  shaftLength__value  \\\n0     ...         bis 3 cm   40.0     6.5       11.0                 0.0   \n1     ...      3 cm - 5 cm   38.0     5.0        8.0                 0.0   \n2     ...      3 cm - 5 cm   42.0     8.0       14.0                 0.0   \n3     ...      3 cm - 5 cm   39.0     6.0       10.0                 0.0   \n4     ...         bis 3 cm   37.5     4.5        7.0                 0.0   \n...   ...              ...    ...     ...        ...                 ...   \n3292  ...      5 cm - 8 cm   35.0     2.5        3.0                 0.0   \n3293  ...         bis 3 cm   40.5     7.0       12.0                 0.0   \n3294  ...              NaN    NaN     NaN        NaN                 NaN   \n3295  ...      5 cm - 8 cm   35.0     2.5        3.0                 0.0   \n3296  ...      5 cm - 8 cm   38.0     5.0        8.0                 0.0   \n\n           sole  isTransferee isSuccessor  \\\n0         Gummi           0.0         0.0   \n1           EVA           0.0         0.0   \n2        PU-TPU           0.0         0.0   \n3     Gummi-EVA           0.0         0.0   \n4           EVA           0.0         0.0   \n...         ...           ...         ...   \n3292     PU-TPU           0.0         0.0   \n3293      Gummi           0.0         0.0   \n3294        NaN           NaN         NaN   \n3295        TPU           0.0         0.0   \n3296         TR           0.0         0.0   \n\n                                                                                                                                                                                                                                                                                                                                                                                                                                                                                                                                                                                                                                                                                                                                                                                                                                                                                                          duplicate_product__ids  \\\n0                                                                                                                                                                                                                                                                                                                                                                                                                                                                                                                                                                                                                                                                                                       [557559, 549733, 549734, 557553, 589488, 589480, 589481, 589486, 549735, 589489, 589477, 589490, 589483, 589479, 557556, 589485, 589482, 589478, 589475, 549732, 549729, 549730, 589484, 549738, 549731, 557561, 589487]   \n1                                                                                                                                                                                                                                                                                                                                                                                       [551622, 551505, 551510, 551509, 552973, 551621, 551501, 551503, 551502, 556960, 551628, 552970, 556954, 556964, 552966, 551500, 551629, 604774, 604773, 604772, 551508, 604776, 552972, 551617, 552969, 604771, 556958, 604778, 551630, 556952, 551620, 551627, 604782, 604775, 551504, 551506, 551619, 604769, 552975, 552974, 604768, 551507, 552971, 556956, 551623, 551511, 551626, 604780, 552964, 604779, 551631, 551624, 556953, 604777, 551512, 552968, 552963, 552962, 552976, 604770, 552967, 556951, 556961, 556955, 556950]   \n2     [547193, 547191, 547196, 547187, 547189, 547195, 547192, 547190, 547185, 547188, 547182, 547183, 547184, 547194, 547186, 3483121, 3483123, 3483120, 3554723, 3554724, 3554732, 3554725, 3554729, 3483124, 3483129, 3591864, 3591866, 3554731, 3483128, 3694614, 3694623, 3694616, 3554730, 3711336, 3483126, 3554733, 3694625, 3483133, 3711328, 3711335, 3592196, 3711332, 3554726, 3743383, 3592206, 3743385, 3694615, 3483127, 3694613, 3711737, 3743393, 3743384, 3591852, 3711337, 3592197, 3591857, 3591859, 3743382, 3743390, 3591865, 3483122, 3743388, 3591855, 3743387, 3483134, 3592199, 3592202, 3483125, 3694618, 3591860, 3743392, 3743389, 3592208, 3592198, 3483131, 3591853, 3694621, 3592207, 3592203, 3711330, 3554734, 3711334, 3743386, 3554728, 3694617, 4030773, 3694622, 3743391, 3711331, 3711329, 4093389, 3694612, 4093391, 4093397, 4030774, 3711324, 4030778, 4030777, 4093398, 4030776, ...]   \n3                  [549776, 550599, 550596, 550593, 550601, 549780, 549778, 549779, 550594, 550595, 549781, 550597, 550598, 549775, 550602, 549782, 550588, 549777, 549783, 549774, 549773, 550592, 550600, 550589, 550604, 549770, 549771, 550591, 3478987, 3505296, 3505294, 3479430, 3505289, 3479436, 3478986, 3555129, 3479431, 3479432, 3505288, 3591679, 3478985, 3591667, 3505293, 3479429, 3555125, 3591672, 3479434, 3591798, 3555126, 3591674, 3555130, 3591675, 3591668, 3555124, 3591797, 3591669, 3591803, 3591680, 3591681, 3478990, 3591793, 3591799, 3591796, 3505775, 3505292, 3504385, 3505768, 3479433, 3711254, 3479437, 3591673, 3711249, 3505771, 3555123, 3505769, 3505772, 3711248, 3478988, 3505776, 3505778, 3479435, 3692987, 3711244, 3711251, 3711257, 3711258, 3787796, 3479424, 3787792, 3845553, 3845549, 3845547, 3845546, 3847557, 3787799, 3847554, 3591671, 3479425, 3847731, 3591790, ...]   \n4                                                                                                                                                                                                                                                                                                                                                                                                                                                                                                                                                                                                                                                                                                                                                                                                                       [550726, 550736, 550735, 550732, 550728, 550722, 550729, 550731, 550727, 550733, 550734, 550730, 550725]   \n...                                                                                                                                                                                                                                                                                                                                                                                                                                                                                                                                                                                                                                                                                                                                                                                                                                                                                                                          ...   \n3292                                                                                                                                                                                                                                                                                                                                                                                                                                                                                                                                                                                                                                                                                                                                                                                                                                                                                                        [10603553, 10544662]   \n3293                                                                                                                                                                                                                                                                                                                                                                                                                                                                                                                                                                                                                                                                                                                                                                                                                                                                                                        [10442948, 10442949]   \n3294                                                                                                                                                                                                                                                                                                                                                                                                                                                                                                                                                                                                                                                                                                                                                                                                                                                                                                                  [10782704]   \n3295                                                                                                                                                                                                                                                                                                                                                                                                                                                                                                                                                                                                                                                                                                                                                                                                                                                                                                                  [10679703]   \n3296                                                                                                                                                                                                                                                                                                                                                                                                                                                                                                                                                                                                                                                                                                                                                                                                                                                                                                                  [10496278]   \n\n                                                                                               product_sizes  \n0           [35.5, 36.0, 37.0, 37.5, 38.0, 38.5, 39.0, 40.0, 40.5, 41.0, 42.0, 42.5, 43.0, 44.0, 44.5, 46.0]  \n1           [35.0, 35.5, 36.0, 37.0, 37.5, 38.0, 38.5, 39.0, 40.0, 40.5, 41.0, 42.0, 42.5, 43.0, 44.0, 44.5]  \n2                 [35.0, 35.5, 36.0, 37.0, 37.5, 38.0, 38.5, 39.0, 40.0, 40.5, 41.0, 42.0, 42.5, 43.0, 44.0]  \n3     [35.0, 35.5, 36.0, 37.0, 37.5, 38.0, 38.5, 39.0, 40.0, 40.5, 41.0, 42.0, 42.5, 43.0, 44.0, 44.5, 46.0]  \n4                             [35.0, 37.0, 37.5, 38.0, 38.5, 39.0, 40.0, 40.5, 41.0, 42.0, 42.5, 43.0, 44.0]  \n...                                                                                                      ...  \n3292                                                                                            [35.0, 37.0]  \n3293                                                                                            [40.5, 41.0]  \n3294                                                                                                      []  \n3295                                                                                                  [35.0]  \n3296                                                                                                  [38.0]  \n\n[3297 rows x 56 columns]",
      "text/html": "<div>\n<style scoped>\n    .dataframe tbody tr th:only-of-type {\n        vertical-align: middle;\n    }\n\n    .dataframe tbody tr th {\n        vertical-align: top;\n    }\n\n    .dataframe thead th {\n        text-align: right;\n    }\n</style>\n<table border=\"1\" class=\"dataframe\">\n  <thead>\n    <tr style=\"text-align: right;\">\n      <th></th>\n      <th>main_product_id</th>\n      <th>productNumber</th>\n      <th>productName</th>\n      <th>productColorName</th>\n      <th>articleNumber</th>\n      <th>brand__id</th>\n      <th>mainCategory__id</th>\n      <th>gender</th>\n      <th>originCountry</th>\n      <th>line</th>\n      <th>...</th>\n      <th>heelHeightGroup</th>\n      <th>sizeEu</th>\n      <th>sizeUk</th>\n      <th>sizeIndex</th>\n      <th>shaftLength__value</th>\n      <th>sole</th>\n      <th>isTransferee</th>\n      <th>isSuccessor</th>\n      <th>duplicate_product__ids</th>\n      <th>product_sizes</th>\n    </tr>\n  </thead>\n  <tbody>\n    <tr>\n      <th>0</th>\n      <td>557559</td>\n      <td>4058394021466</td>\n      <td>sportliche Ballerinas Glattleder schwarz</td>\n      <td>schwarz</td>\n      <td>02.643.57</td>\n      <td>6590678</td>\n      <td>315571</td>\n      <td>w</td>\n      <td>PT</td>\n      <td>F-S|H-W</td>\n      <td>...</td>\n      <td>bis 3 cm</td>\n      <td>40.0</td>\n      <td>6.5</td>\n      <td>11.0</td>\n      <td>0.0</td>\n      <td>Gummi</td>\n      <td>0.0</td>\n      <td>0.0</td>\n      <td>[557559, 549733, 549734, 557553, 589488, 589480, 589481, 589486, 549735, 589489, 589477, 589490, 589483, 589479, 557556, 589485, 589482, 589478, 589475, 549732, 549729, 549730, 589484, 549738, 549731, 557561, 589487]</td>\n      <td>[35.5, 36.0, 37.0, 37.5, 38.0, 38.5, 39.0, 40.0, 40.5, 41.0, 42.0, 42.5, 43.0, 44.0, 44.5, 46.0]</td>\n    </tr>\n    <tr>\n      <th>1</th>\n      <td>551622</td>\n      <td>4054452768212</td>\n      <td>elegante Pumps Glattleder schwarz</td>\n      <td>schwarz</td>\n      <td>05.160.37</td>\n      <td>6590677</td>\n      <td>315573</td>\n      <td>w</td>\n      <td>PT</td>\n      <td>F-S|H-W</td>\n      <td>...</td>\n      <td>3 cm - 5 cm</td>\n      <td>38.0</td>\n      <td>5.0</td>\n      <td>8.0</td>\n      <td>0.0</td>\n      <td>EVA</td>\n      <td>0.0</td>\n      <td>0.0</td>\n      <td>[551622, 551505, 551510, 551509, 552973, 551621, 551501, 551503, 551502, 556960, 551628, 552970, 556954, 556964, 552966, 551500, 551629, 604774, 604773, 604772, 551508, 604776, 552972, 551617, 552969, 604771, 556958, 604778, 551630, 556952, 551620, 551627, 604782, 604775, 551504, 551506, 551619, 604769, 552975, 552974, 604768, 551507, 552971, 556956, 551623, 551511, 551626, 604780, 552964, 604779, 551631, 551624, 556953, 604777, 551512, 552968, 552963, 552962, 552976, 604770, 552967, 556951, 556961, 556955, 556950]</td>\n      <td>[35.0, 35.5, 36.0, 37.0, 37.5, 38.0, 38.5, 39.0, 40.0, 40.5, 41.0, 42.0, 42.5, 43.0, 44.0, 44.5]</td>\n    </tr>\n    <tr>\n      <th>2</th>\n      <td>547193</td>\n      <td>4054452768427</td>\n      <td>Slipper Glattleder schwarz</td>\n      <td>schwarz</td>\n      <td>04.443.27</td>\n      <td>6590677</td>\n      <td>315576</td>\n      <td>w</td>\n      <td>SK</td>\n      <td>F-S|H-W</td>\n      <td>...</td>\n      <td>3 cm - 5 cm</td>\n      <td>42.0</td>\n      <td>8.0</td>\n      <td>14.0</td>\n      <td>0.0</td>\n      <td>PU-TPU</td>\n      <td>0.0</td>\n      <td>0.0</td>\n      <td>[547193, 547191, 547196, 547187, 547189, 547195, 547192, 547190, 547185, 547188, 547182, 547183, 547184, 547194, 547186, 3483121, 3483123, 3483120, 3554723, 3554724, 3554732, 3554725, 3554729, 3483124, 3483129, 3591864, 3591866, 3554731, 3483128, 3694614, 3694623, 3694616, 3554730, 3711336, 3483126, 3554733, 3694625, 3483133, 3711328, 3711335, 3592196, 3711332, 3554726, 3743383, 3592206, 3743385, 3694615, 3483127, 3694613, 3711737, 3743393, 3743384, 3591852, 3711337, 3592197, 3591857, 3591859, 3743382, 3743390, 3591865, 3483122, 3743388, 3591855, 3743387, 3483134, 3592199, 3592202, 3483125, 3694618, 3591860, 3743392, 3743389, 3592208, 3592198, 3483131, 3591853, 3694621, 3592207, 3592203, 3711330, 3554734, 3711334, 3743386, 3554728, 3694617, 4030773, 3694622, 3743391, 3711331, 3711329, 4093389, 3694612, 4093391, 4093397, 4030774, 3711324, 4030778, 4030777, 4093398, 4030776, ...]</td>\n      <td>[35.0, 35.5, 36.0, 37.0, 37.5, 38.0, 38.5, 39.0, 40.0, 40.5, 41.0, 42.0, 42.5, 43.0, 44.0]</td>\n    </tr>\n    <tr>\n      <th>3</th>\n      <td>549776</td>\n      <td>4059701687894</td>\n      <td>Sneaker low Rauleder blau</td>\n      <td>blau</td>\n      <td>06.968.46</td>\n      <td>4997827</td>\n      <td>315567</td>\n      <td>w</td>\n      <td>VN</td>\n      <td>F-S|H-W</td>\n      <td>...</td>\n      <td>3 cm - 5 cm</td>\n      <td>39.0</td>\n      <td>6.0</td>\n      <td>10.0</td>\n      <td>0.0</td>\n      <td>Gummi-EVA</td>\n      <td>0.0</td>\n      <td>0.0</td>\n      <td>[549776, 550599, 550596, 550593, 550601, 549780, 549778, 549779, 550594, 550595, 549781, 550597, 550598, 549775, 550602, 549782, 550588, 549777, 549783, 549774, 549773, 550592, 550600, 550589, 550604, 549770, 549771, 550591, 3478987, 3505296, 3505294, 3479430, 3505289, 3479436, 3478986, 3555129, 3479431, 3479432, 3505288, 3591679, 3478985, 3591667, 3505293, 3479429, 3555125, 3591672, 3479434, 3591798, 3555126, 3591674, 3555130, 3591675, 3591668, 3555124, 3591797, 3591669, 3591803, 3591680, 3591681, 3478990, 3591793, 3591799, 3591796, 3505775, 3505292, 3504385, 3505768, 3479433, 3711254, 3479437, 3591673, 3711249, 3505771, 3555123, 3505769, 3505772, 3711248, 3478988, 3505776, 3505778, 3479435, 3692987, 3711244, 3711251, 3711257, 3711258, 3787796, 3479424, 3787792, 3845553, 3845549, 3845547, 3845546, 3847557, 3787799, 3847554, 3591671, 3479425, 3847731, 3591790, ...]</td>\n      <td>[35.0, 35.5, 36.0, 37.0, 37.5, 38.0, 38.5, 39.0, 40.0, 40.5, 41.0, 42.0, 42.5, 43.0, 44.0, 44.5, 46.0]</td>\n    </tr>\n    <tr>\n      <th>4</th>\n      <td>550726</td>\n      <td>4054452851594</td>\n      <td>elegante Ballerinas Materialmix Lederimitat schwarz</td>\n      <td>schwarz</td>\n      <td>06.102.67</td>\n      <td>6590678</td>\n      <td>315574</td>\n      <td>w</td>\n      <td>SK</td>\n      <td>F-S|H-W</td>\n      <td>...</td>\n      <td>bis 3 cm</td>\n      <td>37.5</td>\n      <td>4.5</td>\n      <td>7.0</td>\n      <td>0.0</td>\n      <td>EVA</td>\n      <td>0.0</td>\n      <td>0.0</td>\n      <td>[550726, 550736, 550735, 550732, 550728, 550722, 550729, 550731, 550727, 550733, 550734, 550730, 550725]</td>\n      <td>[35.0, 37.0, 37.5, 38.0, 38.5, 39.0, 40.0, 40.5, 41.0, 42.0, 42.5, 43.0, 44.0]</td>\n    </tr>\n    <tr>\n      <th>...</th>\n      <td>...</td>\n      <td>...</td>\n      <td>...</td>\n      <td>...</td>\n      <td>...</td>\n      <td>...</td>\n      <td>...</td>\n      <td>...</td>\n      <td>...</td>\n      <td>...</td>\n      <td>...</td>\n      <td>...</td>\n      <td>...</td>\n      <td>...</td>\n      <td>...</td>\n      <td>...</td>\n      <td>...</td>\n      <td>...</td>\n      <td>...</td>\n      <td>...</td>\n      <td>...</td>\n    </tr>\n    <tr>\n      <th>3292</th>\n      <td>10603553</td>\n      <td>4066558951733</td>\n      <td>Sandale met plateauzool Suède blauw</td>\n      <td>blauw</td>\n      <td>24.764.36</td>\n      <td>6590677</td>\n      <td>315568</td>\n      <td>w</td>\n      <td>SK</td>\n      <td>F-S</td>\n      <td>...</td>\n      <td>5 cm - 8 cm</td>\n      <td>35.0</td>\n      <td>2.5</td>\n      <td>3.0</td>\n      <td>0.0</td>\n      <td>PU-TPU</td>\n      <td>0.0</td>\n      <td>0.0</td>\n      <td>[10603553, 10544662]</td>\n      <td>[35.0, 37.0]</td>\n    </tr>\n    <tr>\n      <th>3293</th>\n      <td>10442948</td>\n      <td>4065171827272</td>\n      <td>Mokassin Materialmix Leder pink</td>\n      <td>pink</td>\n      <td>26.090.21</td>\n      <td>6590678</td>\n      <td>315590</td>\n      <td>w</td>\n      <td>PT</td>\n      <td>F-S</td>\n      <td>...</td>\n      <td>bis 3 cm</td>\n      <td>40.5</td>\n      <td>7.0</td>\n      <td>12.0</td>\n      <td>0.0</td>\n      <td>Gummi</td>\n      <td>0.0</td>\n      <td>0.0</td>\n      <td>[10442948, 10442949]</td>\n      <td>[40.5, 41.0]</td>\n    </tr>\n    <tr>\n      <th>3294</th>\n      <td>10782704</td>\n      <td>4251234499207</td>\n      <td>Shopper ANDIE blau</td>\n      <td>blau</td>\n      <td>921453</td>\n      <td>363013</td>\n      <td>363017</td>\n      <td>w</td>\n      <td>DE</td>\n      <td>F-S</td>\n      <td>...</td>\n      <td>NaN</td>\n      <td>NaN</td>\n      <td>NaN</td>\n      <td>NaN</td>\n      <td>NaN</td>\n      <td>NaN</td>\n      <td>NaN</td>\n      <td>NaN</td>\n      <td>[10782704]</td>\n      <td>[]</td>\n    </tr>\n    <tr>\n      <th>3295</th>\n      <td>10679703</td>\n      <td>4066558303617</td>\n      <td>Elegante pumps Glad leer wit</td>\n      <td>wit</td>\n      <td>21.450.60</td>\n      <td>6590677</td>\n      <td>315573</td>\n      <td>w</td>\n      <td>PT</td>\n      <td>F-S</td>\n      <td>...</td>\n      <td>5 cm - 8 cm</td>\n      <td>35.0</td>\n      <td>2.5</td>\n      <td>3.0</td>\n      <td>0.0</td>\n      <td>TPU</td>\n      <td>0.0</td>\n      <td>0.0</td>\n      <td>[10679703]</td>\n      <td>[35.0]</td>\n    </tr>\n    <tr>\n      <th>3296</th>\n      <td>10496278</td>\n      <td>4065171812513</td>\n      <td>Sandale compensée Daim beige</td>\n      <td>beige</td>\n      <td>24.645.14</td>\n      <td>6590677</td>\n      <td>315564</td>\n      <td>w</td>\n      <td>PT</td>\n      <td>F-S</td>\n      <td>...</td>\n      <td>5 cm - 8 cm</td>\n      <td>38.0</td>\n      <td>5.0</td>\n      <td>8.0</td>\n      <td>0.0</td>\n      <td>TR</td>\n      <td>0.0</td>\n      <td>0.0</td>\n      <td>[10496278]</td>\n      <td>[38.0]</td>\n    </tr>\n  </tbody>\n</table>\n<p>3297 rows × 56 columns</p>\n</div>"
     },
     "metadata": {},
     "output_type": "display_data"
    }
   ],
   "source": [
    "product_data = pd.read_pickle(basepath + 'no_product_variants_with_duplicate_ids.pkl')\n",
    "display(product_data)"
   ],
   "metadata": {
    "collapsed": false,
    "ExecuteTime": {
     "end_time": "2023-08-31T07:03:41.766395Z",
     "start_time": "2023-08-31T07:03:41.709814Z"
    }
   }
  },
  {
   "cell_type": "code",
   "execution_count": 6,
   "outputs": [
    {
     "data": {
      "text/plain": "      main_product_id                                          productName  \\\n0              557559             sportliche Ballerinas Glattleder schwarz   \n1              551622                    elegante Pumps Glattleder schwarz   \n2              547193                           Slipper Glattleder schwarz   \n3              549776                            Sneaker low Rauleder blau   \n4              550726  elegante Ballerinas Materialmix Lederimitat schwarz   \n...               ...                                                  ...   \n3292         10603553                  Sandale met plateauzool Suède blauw   \n3293         10442948                      Mokassin Materialmix Leder pink   \n3294         10782704                                   Shopper ANDIE blau   \n3295         10679703                         Elegante pumps Glad leer wit   \n3296         10496278                         Sandale compensée Daim beige   \n\n     gender     line  b2cPrice  \\\n0         w  F-S|H-W     99.95   \n1         w  F-S|H-W     89.95   \n2         w  F-S|H-W     79.95   \n3         w  F-S|H-W    140.00   \n4         w  F-S|H-W     79.95   \n...     ...      ...       ...   \n3292      w      F-S     99.95   \n3293      w      F-S     89.95   \n3294      w      F-S     89.99   \n3295      w      F-S     99.95   \n3296      w      F-S     99.95   \n\n                                                                                                                                                                                                                                                                                                                                                                                                                                                                                                                                                                                                                                                                                                                                                                                                                                                                                                          duplicate_product__ids  \n0                                                                                                                                                                                                                                                                                                                                                                                                                                                                                                                                                                                                                                                                                                       [557559, 549733, 549734, 557553, 589488, 589480, 589481, 589486, 549735, 589489, 589477, 589490, 589483, 589479, 557556, 589485, 589482, 589478, 589475, 549732, 549729, 549730, 589484, 549738, 549731, 557561, 589487]  \n1                                                                                                                                                                                                                                                                                                                                                                                       [551622, 551505, 551510, 551509, 552973, 551621, 551501, 551503, 551502, 556960, 551628, 552970, 556954, 556964, 552966, 551500, 551629, 604774, 604773, 604772, 551508, 604776, 552972, 551617, 552969, 604771, 556958, 604778, 551630, 556952, 551620, 551627, 604782, 604775, 551504, 551506, 551619, 604769, 552975, 552974, 604768, 551507, 552971, 556956, 551623, 551511, 551626, 604780, 552964, 604779, 551631, 551624, 556953, 604777, 551512, 552968, 552963, 552962, 552976, 604770, 552967, 556951, 556961, 556955, 556950]  \n2     [547193, 547191, 547196, 547187, 547189, 547195, 547192, 547190, 547185, 547188, 547182, 547183, 547184, 547194, 547186, 3483121, 3483123, 3483120, 3554723, 3554724, 3554732, 3554725, 3554729, 3483124, 3483129, 3591864, 3591866, 3554731, 3483128, 3694614, 3694623, 3694616, 3554730, 3711336, 3483126, 3554733, 3694625, 3483133, 3711328, 3711335, 3592196, 3711332, 3554726, 3743383, 3592206, 3743385, 3694615, 3483127, 3694613, 3711737, 3743393, 3743384, 3591852, 3711337, 3592197, 3591857, 3591859, 3743382, 3743390, 3591865, 3483122, 3743388, 3591855, 3743387, 3483134, 3592199, 3592202, 3483125, 3694618, 3591860, 3743392, 3743389, 3592208, 3592198, 3483131, 3591853, 3694621, 3592207, 3592203, 3711330, 3554734, 3711334, 3743386, 3554728, 3694617, 4030773, 3694622, 3743391, 3711331, 3711329, 4093389, 3694612, 4093391, 4093397, 4030774, 3711324, 4030778, 4030777, 4093398, 4030776, ...]  \n3                  [549776, 550599, 550596, 550593, 550601, 549780, 549778, 549779, 550594, 550595, 549781, 550597, 550598, 549775, 550602, 549782, 550588, 549777, 549783, 549774, 549773, 550592, 550600, 550589, 550604, 549770, 549771, 550591, 3478987, 3505296, 3505294, 3479430, 3505289, 3479436, 3478986, 3555129, 3479431, 3479432, 3505288, 3591679, 3478985, 3591667, 3505293, 3479429, 3555125, 3591672, 3479434, 3591798, 3555126, 3591674, 3555130, 3591675, 3591668, 3555124, 3591797, 3591669, 3591803, 3591680, 3591681, 3478990, 3591793, 3591799, 3591796, 3505775, 3505292, 3504385, 3505768, 3479433, 3711254, 3479437, 3591673, 3711249, 3505771, 3555123, 3505769, 3505772, 3711248, 3478988, 3505776, 3505778, 3479435, 3692987, 3711244, 3711251, 3711257, 3711258, 3787796, 3479424, 3787792, 3845553, 3845549, 3845547, 3845546, 3847557, 3787799, 3847554, 3591671, 3479425, 3847731, 3591790, ...]  \n4                                                                                                                                                                                                                                                                                                                                                                                                                                                                                                                                                                                                                                                                                                                                                                                                                       [550726, 550736, 550735, 550732, 550728, 550722, 550729, 550731, 550727, 550733, 550734, 550730, 550725]  \n...                                                                                                                                                                                                                                                                                                                                                                                                                                                                                                                                                                                                                                                                                                                                                                                                                                                                                                                          ...  \n3292                                                                                                                                                                                                                                                                                                                                                                                                                                                                                                                                                                                                                                                                                                                                                                                                                                                                                                        [10603553, 10544662]  \n3293                                                                                                                                                                                                                                                                                                                                                                                                                                                                                                                                                                                                                                                                                                                                                                                                                                                                                                        [10442948, 10442949]  \n3294                                                                                                                                                                                                                                                                                                                                                                                                                                                                                                                                                                                                                                                                                                                                                                                                                                                                                                                  [10782704]  \n3295                                                                                                                                                                                                                                                                                                                                                                                                                                                                                                                                                                                                                                                                                                                                                                                                                                                                                                                  [10679703]  \n3296                                                                                                                                                                                                                                                                                                                                                                                                                                                                                                                                                                                                                                                                                                                                                                                                                                                                                                                  [10496278]  \n\n[3297 rows x 6 columns]",
      "text/html": "<div>\n<style scoped>\n    .dataframe tbody tr th:only-of-type {\n        vertical-align: middle;\n    }\n\n    .dataframe tbody tr th {\n        vertical-align: top;\n    }\n\n    .dataframe thead th {\n        text-align: right;\n    }\n</style>\n<table border=\"1\" class=\"dataframe\">\n  <thead>\n    <tr style=\"text-align: right;\">\n      <th></th>\n      <th>main_product_id</th>\n      <th>productName</th>\n      <th>gender</th>\n      <th>line</th>\n      <th>b2cPrice</th>\n      <th>duplicate_product__ids</th>\n    </tr>\n  </thead>\n  <tbody>\n    <tr>\n      <th>0</th>\n      <td>557559</td>\n      <td>sportliche Ballerinas Glattleder schwarz</td>\n      <td>w</td>\n      <td>F-S|H-W</td>\n      <td>99.95</td>\n      <td>[557559, 549733, 549734, 557553, 589488, 589480, 589481, 589486, 549735, 589489, 589477, 589490, 589483, 589479, 557556, 589485, 589482, 589478, 589475, 549732, 549729, 549730, 589484, 549738, 549731, 557561, 589487]</td>\n    </tr>\n    <tr>\n      <th>1</th>\n      <td>551622</td>\n      <td>elegante Pumps Glattleder schwarz</td>\n      <td>w</td>\n      <td>F-S|H-W</td>\n      <td>89.95</td>\n      <td>[551622, 551505, 551510, 551509, 552973, 551621, 551501, 551503, 551502, 556960, 551628, 552970, 556954, 556964, 552966, 551500, 551629, 604774, 604773, 604772, 551508, 604776, 552972, 551617, 552969, 604771, 556958, 604778, 551630, 556952, 551620, 551627, 604782, 604775, 551504, 551506, 551619, 604769, 552975, 552974, 604768, 551507, 552971, 556956, 551623, 551511, 551626, 604780, 552964, 604779, 551631, 551624, 556953, 604777, 551512, 552968, 552963, 552962, 552976, 604770, 552967, 556951, 556961, 556955, 556950]</td>\n    </tr>\n    <tr>\n      <th>2</th>\n      <td>547193</td>\n      <td>Slipper Glattleder schwarz</td>\n      <td>w</td>\n      <td>F-S|H-W</td>\n      <td>79.95</td>\n      <td>[547193, 547191, 547196, 547187, 547189, 547195, 547192, 547190, 547185, 547188, 547182, 547183, 547184, 547194, 547186, 3483121, 3483123, 3483120, 3554723, 3554724, 3554732, 3554725, 3554729, 3483124, 3483129, 3591864, 3591866, 3554731, 3483128, 3694614, 3694623, 3694616, 3554730, 3711336, 3483126, 3554733, 3694625, 3483133, 3711328, 3711335, 3592196, 3711332, 3554726, 3743383, 3592206, 3743385, 3694615, 3483127, 3694613, 3711737, 3743393, 3743384, 3591852, 3711337, 3592197, 3591857, 3591859, 3743382, 3743390, 3591865, 3483122, 3743388, 3591855, 3743387, 3483134, 3592199, 3592202, 3483125, 3694618, 3591860, 3743392, 3743389, 3592208, 3592198, 3483131, 3591853, 3694621, 3592207, 3592203, 3711330, 3554734, 3711334, 3743386, 3554728, 3694617, 4030773, 3694622, 3743391, 3711331, 3711329, 4093389, 3694612, 4093391, 4093397, 4030774, 3711324, 4030778, 4030777, 4093398, 4030776, ...]</td>\n    </tr>\n    <tr>\n      <th>3</th>\n      <td>549776</td>\n      <td>Sneaker low Rauleder blau</td>\n      <td>w</td>\n      <td>F-S|H-W</td>\n      <td>140.00</td>\n      <td>[549776, 550599, 550596, 550593, 550601, 549780, 549778, 549779, 550594, 550595, 549781, 550597, 550598, 549775, 550602, 549782, 550588, 549777, 549783, 549774, 549773, 550592, 550600, 550589, 550604, 549770, 549771, 550591, 3478987, 3505296, 3505294, 3479430, 3505289, 3479436, 3478986, 3555129, 3479431, 3479432, 3505288, 3591679, 3478985, 3591667, 3505293, 3479429, 3555125, 3591672, 3479434, 3591798, 3555126, 3591674, 3555130, 3591675, 3591668, 3555124, 3591797, 3591669, 3591803, 3591680, 3591681, 3478990, 3591793, 3591799, 3591796, 3505775, 3505292, 3504385, 3505768, 3479433, 3711254, 3479437, 3591673, 3711249, 3505771, 3555123, 3505769, 3505772, 3711248, 3478988, 3505776, 3505778, 3479435, 3692987, 3711244, 3711251, 3711257, 3711258, 3787796, 3479424, 3787792, 3845553, 3845549, 3845547, 3845546, 3847557, 3787799, 3847554, 3591671, 3479425, 3847731, 3591790, ...]</td>\n    </tr>\n    <tr>\n      <th>4</th>\n      <td>550726</td>\n      <td>elegante Ballerinas Materialmix Lederimitat schwarz</td>\n      <td>w</td>\n      <td>F-S|H-W</td>\n      <td>79.95</td>\n      <td>[550726, 550736, 550735, 550732, 550728, 550722, 550729, 550731, 550727, 550733, 550734, 550730, 550725]</td>\n    </tr>\n    <tr>\n      <th>...</th>\n      <td>...</td>\n      <td>...</td>\n      <td>...</td>\n      <td>...</td>\n      <td>...</td>\n      <td>...</td>\n    </tr>\n    <tr>\n      <th>3292</th>\n      <td>10603553</td>\n      <td>Sandale met plateauzool Suède blauw</td>\n      <td>w</td>\n      <td>F-S</td>\n      <td>99.95</td>\n      <td>[10603553, 10544662]</td>\n    </tr>\n    <tr>\n      <th>3293</th>\n      <td>10442948</td>\n      <td>Mokassin Materialmix Leder pink</td>\n      <td>w</td>\n      <td>F-S</td>\n      <td>89.95</td>\n      <td>[10442948, 10442949]</td>\n    </tr>\n    <tr>\n      <th>3294</th>\n      <td>10782704</td>\n      <td>Shopper ANDIE blau</td>\n      <td>w</td>\n      <td>F-S</td>\n      <td>89.99</td>\n      <td>[10782704]</td>\n    </tr>\n    <tr>\n      <th>3295</th>\n      <td>10679703</td>\n      <td>Elegante pumps Glad leer wit</td>\n      <td>w</td>\n      <td>F-S</td>\n      <td>99.95</td>\n      <td>[10679703]</td>\n    </tr>\n    <tr>\n      <th>3296</th>\n      <td>10496278</td>\n      <td>Sandale compensée Daim beige</td>\n      <td>w</td>\n      <td>F-S</td>\n      <td>99.95</td>\n      <td>[10496278]</td>\n    </tr>\n  </tbody>\n</table>\n<p>3297 rows × 6 columns</p>\n</div>"
     },
     "execution_count": 6,
     "metadata": {},
     "output_type": "execute_result"
    }
   ],
   "source": [
    "product_data = product_data[['main_product_id', 'productName', 'gender', 'line', 'b2cPrice', 'duplicate_product__ids']]\n",
    "product_data"
   ],
   "metadata": {
    "collapsed": false,
    "ExecuteTime": {
     "end_time": "2023-08-31T07:03:41.766721Z",
     "start_time": "2023-08-31T07:03:41.740963Z"
    }
   }
  },
  {
   "cell_type": "code",
   "execution_count": 7,
   "outputs": [],
   "source": [
    "\n",
    "\n",
    "encoder = LabelEncoder()\n",
    "interaction_data['customer_id_encoded'] = encoder.fit_transform(interaction_data['customer_id'])\n",
    "interaction_data['product_id_encoded'] = encoder.fit_transform(interaction_data['main_product_id'])\n",
    "\n",
    "# Create a user-item matrix\n",
    "user_item_matrix = coo_matrix((interaction_data['amount'], (interaction_data['customer_id_encoded'], interaction_data['product_id_encoded'])))\n",
    "user_item_matrix = user_item_matrix.tocsr()\n",
    "\n",
    "# Calculate the cosine similarity between products\n",
    "product_similarity = cosine_similarity(user_item_matrix.T)\n"
   ],
   "metadata": {
    "collapsed": false,
    "ExecuteTime": {
     "end_time": "2023-08-31T07:03:41.767056Z",
     "start_time": "2023-08-31T07:03:41.744451Z"
    }
   }
  },
  {
   "cell_type": "code",
   "execution_count": 8,
   "outputs": [
    {
     "data": {
      "text/plain": "<KerasTensor: shape=(None, 1434, 32) dtype=float32 (created by layer 'embedding')>"
     },
     "metadata": {},
     "output_type": "display_data"
    },
    {
     "data": {
      "text/plain": "<KerasTensor: shape=(None, 1434, 32) dtype=float32 (created by layer 'lstm')>"
     },
     "metadata": {},
     "output_type": "display_data"
    },
    {
     "data": {
      "text/plain": "<KerasTensor: shape=(None, 1434, 32) dtype=float32 (created by layer 'attention')>"
     },
     "metadata": {},
     "output_type": "display_data"
    },
    {
     "data": {
      "text/plain": "<KerasTensor: shape=(None, 45888) dtype=float32 (created by layer 'flatten')>"
     },
     "metadata": {},
     "output_type": "display_data"
    }
   ],
   "source": [
    "# define the input shape\n",
    "input_layer = Input(shape=(user_item_matrix.shape[1],))\n",
    "user_item_matrix_dense = user_item_matrix.toarray()\n",
    "# define the embedding layer\n",
    "embedding_layer = Embedding(input_dim=user_item_matrix.shape[1], output_dim=32)(input_layer)\n",
    "display(embedding_layer)\n",
    "# define the LSTM layer\n",
    "lstm_layer = LSTM(units=32, return_sequences=True)(embedding_layer)\n",
    "display(lstm_layer)\n",
    "# define the attention layer\n",
    "attention_layer = Attention()([lstm_layer, lstm_layer])\n",
    "display(attention_layer)\n",
    "# define the dense layer\n",
    "flatten_layer = Flatten()(attention_layer)\n",
    "display(flatten_layer)\n",
    "# define the dense layer\n",
    "dense_layer = Dense(units=1)(flatten_layer)\n",
    "\n",
    "# define the output layer\n",
    "output_layer = Dense(units=user_item_matrix.shape[1], activation='softmax')(dense_layer)\n",
    "# create the model\n",
    "model = Model(inputs=input_layer, outputs=output_layer)"
   ],
   "metadata": {
    "collapsed": false,
    "ExecuteTime": {
     "end_time": "2023-08-31T07:03:42.004986Z",
     "start_time": "2023-08-31T07:03:41.751702Z"
    }
   }
  },
  {
   "cell_type": "code",
   "execution_count": 9,
   "outputs": [
    {
     "name": "stdout",
     "output_type": "stream",
     "text": [
      "Model: \"model\"\n",
      "__________________________________________________________________________________________________\n",
      " Layer (type)                Output Shape                 Param #   Connected to                  \n",
      "==================================================================================================\n",
      " input_1 (InputLayer)        [(None, 1434)]               0         []                            \n",
      "                                                                                                  \n",
      " embedding (Embedding)       (None, 1434, 32)             45888     ['input_1[0][0]']             \n",
      "                                                                                                  \n",
      " lstm (LSTM)                 (None, 1434, 32)             8320      ['embedding[0][0]']           \n",
      "                                                                                                  \n",
      " attention (Attention)       (None, 1434, 32)             0         ['lstm[0][0]',                \n",
      "                                                                     'lstm[0][0]']                \n",
      "                                                                                                  \n",
      " flatten (Flatten)           (None, 45888)                0         ['attention[0][0]']           \n",
      "                                                                                                  \n",
      " dense (Dense)               (None, 1)                    45889     ['flatten[0][0]']             \n",
      "                                                                                                  \n",
      " dense_1 (Dense)             (None, 1434)                 2868      ['dense[0][0]']               \n",
      "                                                                                                  \n",
      "==================================================================================================\n",
      "Total params: 102965 (402.21 KB)\n",
      "Trainable params: 102965 (402.21 KB)\n",
      "Non-trainable params: 0 (0.00 Byte)\n",
      "__________________________________________________________________________________________________\n"
     ]
    }
   ],
   "source": [
    "# compile the model\n",
    "model.compile(optimizer='adam', loss='mean_squared_error', metrics=['mse', 'mae', 'accuracy'])\n",
    "#model.compile(loss='mean_squared_error', optimizer='adam', metrics=['mse', 'mae', 'accuracy'])\n",
    "model.summary()"
   ],
   "metadata": {
    "collapsed": false,
    "ExecuteTime": {
     "end_time": "2023-08-31T07:03:42.021586Z",
     "start_time": "2023-08-31T07:03:42.007337Z"
    }
   }
  },
  {
   "cell_type": "code",
   "execution_count": 10,
   "outputs": [
    {
     "name": "stdout",
     "output_type": "stream",
     "text": [
      "Epoch 1/6\n"
     ]
    },
    {
     "name": "stderr",
     "output_type": "stream",
     "text": [
      "2023-08-31 09:03:42.665207: W tensorflow/core/grappler/costs/op_level_cost_estimator.cc:693] Error in PredictCost() for the op: op: \"Softmax\" attr { key: \"T\" value { type: DT_FLOAT } } inputs { dtype: DT_FLOAT shape { unknown_rank: true } } device { type: \"GPU\" } outputs { dtype: DT_FLOAT shape { unknown_rank: true } }\n"
     ]
    },
    {
     "name": "stdout",
     "output_type": "stream",
     "text": [
      "308/308 [==============================] - 131s 423ms/step - loss: 9.6706e-04 - mse: 9.6706e-04 - mae: 0.0015 - accuracy: 0.0201\n",
      "Epoch 2/6\n",
      "308/308 [==============================] - 129s 420ms/step - loss: 9.6706e-04 - mse: 9.6706e-04 - mae: 0.0015 - accuracy: 0.0214\n",
      "Epoch 3/6\n",
      "308/308 [==============================] - 131s 424ms/step - loss: 9.6662e-04 - mse: 9.6662e-04 - mae: 0.0015 - accuracy: 0.0217\n",
      "Epoch 4/6\n",
      "308/308 [==============================] - 132s 429ms/step - loss: 9.6404e-04 - mse: 9.6404e-04 - mae: 0.0015 - accuracy: 0.0238\n",
      "Epoch 5/6\n",
      "308/308 [==============================] - 131s 427ms/step - loss: 9.6358e-04 - mse: 9.6358e-04 - mae: 0.0015 - accuracy: 0.0214\n",
      "Epoch 6/6\n",
      "308/308 [==============================] - 133s 430ms/step - loss: 9.6347e-04 - mse: 9.6347e-04 - mae: 0.0015 - accuracy: 0.0228\n"
     ]
    }
   ],
   "source": [
    "history = model.fit(user_item_matrix_dense, user_item_matrix_dense, epochs=6)"
   ],
   "metadata": {
    "collapsed": false,
    "ExecuteTime": {
     "end_time": "2023-08-31T07:16:49.476825Z",
     "start_time": "2023-08-31T07:03:42.024964Z"
    }
   }
  },
  {
   "cell_type": "code",
   "execution_count": 11,
   "outputs": [
    {
     "data": {
      "text/plain": "{'loss': [0.0009670646977610886,\n  0.000967055675573647,\n  0.000966621795669198,\n  0.0009640376083552837,\n  0.0009635831811465323,\n  0.0009634694433771074],\n 'mse': [0.0009670646977610886,\n  0.000967055675573647,\n  0.000966621795669198,\n  0.0009640376083552837,\n  0.0009635831811465323,\n  0.0009634694433771074],\n 'mae': [0.0014815526083111763,\n  0.0014815450413152575,\n  0.0014808799605816603,\n  0.0014764463994652033,\n  0.0014756768941879272,\n  0.0014754805015400052],\n 'accuracy': [0.02011377550661564,\n  0.021434376016259193,\n  0.021739130839705467,\n  0.023770824074745178,\n  0.021434376016259193,\n  0.022754978388547897]}"
     },
     "execution_count": 11,
     "metadata": {},
     "output_type": "execute_result"
    }
   ],
   "source": [
    "history.history"
   ],
   "metadata": {
    "collapsed": false,
    "ExecuteTime": {
     "end_time": "2023-08-31T07:16:49.478825Z",
     "start_time": "2023-08-31T07:16:49.475317Z"
    }
   }
  },
  {
   "cell_type": "code",
   "execution_count": 12,
   "outputs": [
    {
     "name": "stdout",
     "output_type": "stream",
     "text": [
      "  1/308 [..............................] - ETA: 1:24 - loss: 0.0012 - mse: 0.0012 - mae: 0.0016 - accuracy: 0.0312"
     ]
    },
    {
     "name": "stderr",
     "output_type": "stream",
     "text": [
      "2023-08-31 09:16:49.693080: W tensorflow/core/grappler/costs/op_level_cost_estimator.cc:693] Error in PredictCost() for the op: op: \"Softmax\" attr { key: \"T\" value { type: DT_FLOAT } } inputs { dtype: DT_FLOAT shape { unknown_rank: true } } device { type: \"GPU\" } outputs { dtype: DT_FLOAT shape { unknown_rank: true } }\n"
     ]
    },
    {
     "name": "stdout",
     "output_type": "stream",
     "text": [
      "308/308 [==============================] - 13s 42ms/step - loss: 9.6329e-04 - mse: 9.6329e-04 - mae: 0.0015 - accuracy: 0.0240\n"
     ]
    },
    {
     "data": {
      "text/plain": "[0.000963292142841965,\n 0.000963292142841965,\n 0.001474921707995236,\n 0.023973993957042694]"
     },
     "execution_count": 12,
     "metadata": {},
     "output_type": "execute_result"
    }
   ],
   "source": [
    "test = model.evaluate(user_item_matrix_dense, user_item_matrix_dense)\n",
    "test"
   ],
   "metadata": {
    "collapsed": false,
    "ExecuteTime": {
     "end_time": "2023-08-31T07:17:02.712361Z",
     "start_time": "2023-08-31T07:16:49.478604Z"
    }
   }
  },
  {
   "cell_type": "code",
   "execution_count": 13,
   "outputs": [
    {
     "name": "stdout",
     "output_type": "stream",
     "text": [
      "308/308 [==============================] - 13s 42ms/step - loss: 9.6329e-04 - mse: 9.6329e-04 - mae: 0.0015 - accuracy: 0.0240\n",
      "Test loss: 0.0010, Test MSE: 0.0010\n",
      "Test MAE: 0.0015, Test Accuracy: 0.0240\n"
     ]
    }
   ],
   "source": [
    "loss, mse, mae, acc = model.evaluate(user_item_matrix_dense, user_item_matrix_dense)\n",
    "print(\"Test loss: {:.4f}, Test MSE: {:.4f}\".format(loss, mse))\n",
    "print(\"Test MAE: {:.4f}, Test Accuracy: {:.4f}\".format(mae, acc))"
   ],
   "metadata": {
    "collapsed": false,
    "ExecuteTime": {
     "end_time": "2023-08-31T07:17:15.677349Z",
     "start_time": "2023-08-31T07:17:02.711356Z"
    }
   }
  },
  {
   "cell_type": "code",
   "execution_count": 13,
   "outputs": [],
   "source": [],
   "metadata": {
    "collapsed": false,
    "ExecuteTime": {
     "end_time": "2023-08-31T07:17:15.681109Z",
     "start_time": "2023-08-31T07:17:15.676947Z"
    }
   }
  }
 ],
 "metadata": {
  "kernelspec": {
   "display_name": "Python 3",
   "language": "python",
   "name": "python3"
  },
  "language_info": {
   "codemirror_mode": {
    "name": "ipython",
    "version": 2
   },
   "file_extension": ".py",
   "mimetype": "text/x-python",
   "name": "python",
   "nbconvert_exporter": "python",
   "pygments_lexer": "ipython2",
   "version": "2.7.6"
  }
 },
 "nbformat": 4,
 "nbformat_minor": 0
}
