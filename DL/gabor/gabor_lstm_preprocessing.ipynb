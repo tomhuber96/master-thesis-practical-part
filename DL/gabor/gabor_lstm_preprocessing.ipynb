{
 "cells": [
  {
   "cell_type": "code",
   "execution_count": 48,
   "metadata": {
    "collapsed": true
   },
   "outputs": [],
   "source": [
    "import pandas as pd\n",
    "from keras.layers import Input, Embedding, LSTM, Dense, Dot, Softmax, Concatenate, BatchNormalization, Attention\n",
    "from keras.models import Model\n",
    "import tensorflow as tf\n",
    "import numpy as np\n",
    "\n",
    "from keras.utils import pad_sequences\n",
    "from sklearn.preprocessing import OneHotEncoder, StandardScaler"
   ]
  },
  {
   "cell_type": "code",
   "execution_count": 49,
   "outputs": [],
   "source": [
    "basepath = '../../datasets/preprocessed_datasets/gabor/'\n",
    "product_data = pd.read_pickle(basepath +'orders_and_products_by_customer.pkl')"
   ],
   "metadata": {
    "collapsed": false
   }
  },
  {
   "cell_type": "code",
   "execution_count": 50,
   "outputs": [
    {
     "data": {
      "text/plain": "        customer_id                             order_ids  \\\n30865     3855949.0                             [3855946]   \n143171    6610827.0                             [6610824]   \n13636     2101813.0                            [11109745]   \n19178     2173305.0                             [4442316]   \n82284     5168729.0                             [5168727]   \n...             ...                                   ...   \n143988    6629730.0                             [6629725]   \n2257      1967021.0  [3983654, 3995117, 7303500, 7965067]   \n137157    6481528.0                             [6481524]   \n98882     5554702.0                             [5554699]   \n108345    5766158.0                             [5766154]   \n\n                                              product_ids  \\\n30865                                         [[3842542]]   \n143171                                        [[4768577]]   \n13636                                        [[10561150]]   \n19178                                         [[3843436]]   \n82284                                         [[4769616]]   \n...                                                   ...   \n143988                                         [[589811]]   \n2257    [[3591689, 3847025, 3694434, 3555096], [388467...   \n137157                               [[3695622, 3695623]]   \n98882                                         [[4979166]]   \n108345                                        [[4946445]]   \n\n                                            product_names  \\\n30865                       [[Schnürschuh Rauleder blau]]   \n143171                    [[Sneaker low Glattleder weiß]]   \n13636                      [[Sneaker low Rauleder beige]]   \n19178                      [[Sneaker high Rauleder gelb]]   \n82284                     [[Sneaker low Glattleder weiß]]   \n...                                                   ...   \n143988                [[Eleganter Pumps Glattleder blau]]   \n2257    [[Eleganter Pump Rauleder braun, Chelsea Boot ...   \n137157  [[PG0460 Sneaker high Rauleder blau, PG0460 Sn...   \n98882   [[Sneaker low Materialmix Leder/Lederimitat mu...   \n108345                     [[Pantolette Glattleder weiß]]   \n\n                                    amounts  \\\n30865                                 [[1]]   \n143171                                [[1]]   \n13636                                 [[1]]   \n19178                                 [[1]]   \n82284                                 [[1]]   \n...                                     ...   \n143988                                [[1]]   \n2257    [[1, 1, 1, 1], [1], [1], [1, 1, 1]]   \n137157                             [[1, 1]]   \n98882                                 [[1]]   \n108345                                [[1]]   \n\n                                             total_prices  \\\n30865                                           [[97.43]]   \n143171                                           [[79.0]]   \n13636                                           [[120.0]]   \n19178                                           [[97.43]]   \n82284                                           [[115.0]]   \n...                                                   ...   \n143988                                          [[89.95]]   \n2257    [[97.43, 97.43, 116.97, 97.43], [112.1], [115....   \n137157                                     [[69.0, 69.0]]   \n98882                                           [[130.0]]   \n108345                                          [[89.95]]   \n\n                                              order_dates  \n30865                             [[2020-08-19 19:12:46]]  \n143171                            [[2021-08-14 20:21:58]]  \n13636                             [[2023-03-21 14:25:56]]  \n19178                             [[2020-10-20 09:29:51]]  \n82284                             [[2021-02-19 14:17:34]]  \n...                                                   ...  \n143988                            [[2021-08-17 14:04:35]]  \n2257    [[2020-09-03 18:12:56, 2020-09-03 18:12:56, 20...  \n137157       [[2021-07-25 17:40:19, 2021-07-25 17:40:19]]  \n98882                             [[2021-04-07 12:53:12]]  \n108345                            [[2021-05-01 07:39:45]]  \n\n[1000 rows x 7 columns]",
      "text/html": "<div>\n<style scoped>\n    .dataframe tbody tr th:only-of-type {\n        vertical-align: middle;\n    }\n\n    .dataframe tbody tr th {\n        vertical-align: top;\n    }\n\n    .dataframe thead th {\n        text-align: right;\n    }\n</style>\n<table border=\"1\" class=\"dataframe\">\n  <thead>\n    <tr style=\"text-align: right;\">\n      <th></th>\n      <th>customer_id</th>\n      <th>order_ids</th>\n      <th>product_ids</th>\n      <th>product_names</th>\n      <th>amounts</th>\n      <th>total_prices</th>\n      <th>order_dates</th>\n    </tr>\n  </thead>\n  <tbody>\n    <tr>\n      <th>30865</th>\n      <td>3855949.0</td>\n      <td>[3855946]</td>\n      <td>[[3842542]]</td>\n      <td>[[Schnürschuh Rauleder blau]]</td>\n      <td>[[1]]</td>\n      <td>[[97.43]]</td>\n      <td>[[2020-08-19 19:12:46]]</td>\n    </tr>\n    <tr>\n      <th>143171</th>\n      <td>6610827.0</td>\n      <td>[6610824]</td>\n      <td>[[4768577]]</td>\n      <td>[[Sneaker low Glattleder weiß]]</td>\n      <td>[[1]]</td>\n      <td>[[79.0]]</td>\n      <td>[[2021-08-14 20:21:58]]</td>\n    </tr>\n    <tr>\n      <th>13636</th>\n      <td>2101813.0</td>\n      <td>[11109745]</td>\n      <td>[[10561150]]</td>\n      <td>[[Sneaker low Rauleder beige]]</td>\n      <td>[[1]]</td>\n      <td>[[120.0]]</td>\n      <td>[[2023-03-21 14:25:56]]</td>\n    </tr>\n    <tr>\n      <th>19178</th>\n      <td>2173305.0</td>\n      <td>[4442316]</td>\n      <td>[[3843436]]</td>\n      <td>[[Sneaker high Rauleder gelb]]</td>\n      <td>[[1]]</td>\n      <td>[[97.43]]</td>\n      <td>[[2020-10-20 09:29:51]]</td>\n    </tr>\n    <tr>\n      <th>82284</th>\n      <td>5168729.0</td>\n      <td>[5168727]</td>\n      <td>[[4769616]]</td>\n      <td>[[Sneaker low Glattleder weiß]]</td>\n      <td>[[1]]</td>\n      <td>[[115.0]]</td>\n      <td>[[2021-02-19 14:17:34]]</td>\n    </tr>\n    <tr>\n      <th>...</th>\n      <td>...</td>\n      <td>...</td>\n      <td>...</td>\n      <td>...</td>\n      <td>...</td>\n      <td>...</td>\n      <td>...</td>\n    </tr>\n    <tr>\n      <th>143988</th>\n      <td>6629730.0</td>\n      <td>[6629725]</td>\n      <td>[[589811]]</td>\n      <td>[[Eleganter Pumps Glattleder blau]]</td>\n      <td>[[1]]</td>\n      <td>[[89.95]]</td>\n      <td>[[2021-08-17 14:04:35]]</td>\n    </tr>\n    <tr>\n      <th>2257</th>\n      <td>1967021.0</td>\n      <td>[3983654, 3995117, 7303500, 7965067]</td>\n      <td>[[3591689, 3847025, 3694434, 3555096], [388467...</td>\n      <td>[[Eleganter Pump Rauleder braun, Chelsea Boot ...</td>\n      <td>[[1, 1, 1, 1], [1], [1], [1, 1, 1]]</td>\n      <td>[[97.43, 97.43, 116.97, 97.43], [112.1], [115....</td>\n      <td>[[2020-09-03 18:12:56, 2020-09-03 18:12:56, 20...</td>\n    </tr>\n    <tr>\n      <th>137157</th>\n      <td>6481528.0</td>\n      <td>[6481524]</td>\n      <td>[[3695622, 3695623]]</td>\n      <td>[[PG0460 Sneaker high Rauleder blau, PG0460 Sn...</td>\n      <td>[[1, 1]]</td>\n      <td>[[69.0, 69.0]]</td>\n      <td>[[2021-07-25 17:40:19, 2021-07-25 17:40:19]]</td>\n    </tr>\n    <tr>\n      <th>98882</th>\n      <td>5554702.0</td>\n      <td>[5554699]</td>\n      <td>[[4979166]]</td>\n      <td>[[Sneaker low Materialmix Leder/Lederimitat mu...</td>\n      <td>[[1]]</td>\n      <td>[[130.0]]</td>\n      <td>[[2021-04-07 12:53:12]]</td>\n    </tr>\n    <tr>\n      <th>108345</th>\n      <td>5766158.0</td>\n      <td>[5766154]</td>\n      <td>[[4946445]]</td>\n      <td>[[Pantolette Glattleder weiß]]</td>\n      <td>[[1]]</td>\n      <td>[[89.95]]</td>\n      <td>[[2021-05-01 07:39:45]]</td>\n    </tr>\n  </tbody>\n</table>\n<p>1000 rows × 7 columns</p>\n</div>"
     },
     "execution_count": 50,
     "metadata": {},
     "output_type": "execute_result"
    }
   ],
   "source": [
    "product_data = product_data.sample(n=1000)\n",
    "product_data"
   ],
   "metadata": {
    "collapsed": false
   }
  },
  {
   "cell_type": "code",
   "execution_count": 51,
   "outputs": [
    {
     "data": {
      "text/plain": "        customer_id                             order_ids  \\\n30865     3855949.0                             [3855946]   \n143171    6610827.0                             [6610824]   \n13636     2101813.0                            [11109745]   \n19178     2173305.0                             [4442316]   \n82284     5168729.0                             [5168727]   \n...             ...                                   ...   \n143988    6629730.0                             [6629725]   \n2257      1967021.0  [3983654, 3995117, 7303500, 7965067]   \n137157    6481528.0                             [6481524]   \n98882     5554702.0                             [5554699]   \n108345    5766158.0                             [5766154]   \n\n                                              product_ids  \\\n30865                                         [[3842542]]   \n143171                                        [[4768577]]   \n13636                                        [[10561150]]   \n19178                                         [[3843436]]   \n82284                                         [[4769616]]   \n...                                                   ...   \n143988                                         [[589811]]   \n2257    [[3591689, 3847025, 3694434, 3555096], [388467...   \n137157                               [[3695622, 3695623]]   \n98882                                         [[4979166]]   \n108345                                        [[4946445]]   \n\n                                            product_names  \\\n30865                       [[Schnürschuh Rauleder blau]]   \n143171                    [[Sneaker low Glattleder weiß]]   \n13636                      [[Sneaker low Rauleder beige]]   \n19178                      [[Sneaker high Rauleder gelb]]   \n82284                     [[Sneaker low Glattleder weiß]]   \n...                                                   ...   \n143988                [[Eleganter Pumps Glattleder blau]]   \n2257    [[Eleganter Pump Rauleder braun, Chelsea Boot ...   \n137157  [[PG0460 Sneaker high Rauleder blau, PG0460 Sn...   \n98882   [[Sneaker low Materialmix Leder/Lederimitat mu...   \n108345                     [[Pantolette Glattleder weiß]]   \n\n                                    amounts  \\\n30865                                 [[1]]   \n143171                                [[1]]   \n13636                                 [[1]]   \n19178                                 [[1]]   \n82284                                 [[1]]   \n...                                     ...   \n143988                                [[1]]   \n2257    [[1, 1, 1, 1], [1], [1], [1, 1, 1]]   \n137157                             [[1, 1]]   \n98882                                 [[1]]   \n108345                                [[1]]   \n\n                                             total_prices  \\\n30865                                           [[97.43]]   \n143171                                           [[79.0]]   \n13636                                           [[120.0]]   \n19178                                           [[97.43]]   \n82284                                           [[115.0]]   \n...                                                   ...   \n143988                                          [[89.95]]   \n2257    [[97.43, 97.43, 116.97, 97.43], [112.1], [115....   \n137157                                     [[69.0, 69.0]]   \n98882                                           [[130.0]]   \n108345                                          [[89.95]]   \n\n                                              order_dates  \n30865                             [[2020-08-19 19:12:46]]  \n143171                            [[2021-08-14 20:21:58]]  \n13636                             [[2023-03-21 14:25:56]]  \n19178                             [[2020-10-20 09:29:51]]  \n82284                             [[2021-02-19 14:17:34]]  \n...                                                   ...  \n143988                            [[2021-08-17 14:04:35]]  \n2257    [[2020-09-03 18:12:56, 2020-09-03 18:12:56, 20...  \n137157       [[2021-07-25 17:40:19, 2021-07-25 17:40:19]]  \n98882                             [[2021-04-07 12:53:12]]  \n108345                            [[2021-05-01 07:39:45]]  \n\n[1000 rows x 7 columns]",
      "text/html": "<div>\n<style scoped>\n    .dataframe tbody tr th:only-of-type {\n        vertical-align: middle;\n    }\n\n    .dataframe tbody tr th {\n        vertical-align: top;\n    }\n\n    .dataframe thead th {\n        text-align: right;\n    }\n</style>\n<table border=\"1\" class=\"dataframe\">\n  <thead>\n    <tr style=\"text-align: right;\">\n      <th></th>\n      <th>customer_id</th>\n      <th>order_ids</th>\n      <th>product_ids</th>\n      <th>product_names</th>\n      <th>amounts</th>\n      <th>total_prices</th>\n      <th>order_dates</th>\n    </tr>\n  </thead>\n  <tbody>\n    <tr>\n      <th>30865</th>\n      <td>3855949.0</td>\n      <td>[3855946]</td>\n      <td>[[3842542]]</td>\n      <td>[[Schnürschuh Rauleder blau]]</td>\n      <td>[[1]]</td>\n      <td>[[97.43]]</td>\n      <td>[[2020-08-19 19:12:46]]</td>\n    </tr>\n    <tr>\n      <th>143171</th>\n      <td>6610827.0</td>\n      <td>[6610824]</td>\n      <td>[[4768577]]</td>\n      <td>[[Sneaker low Glattleder weiß]]</td>\n      <td>[[1]]</td>\n      <td>[[79.0]]</td>\n      <td>[[2021-08-14 20:21:58]]</td>\n    </tr>\n    <tr>\n      <th>13636</th>\n      <td>2101813.0</td>\n      <td>[11109745]</td>\n      <td>[[10561150]]</td>\n      <td>[[Sneaker low Rauleder beige]]</td>\n      <td>[[1]]</td>\n      <td>[[120.0]]</td>\n      <td>[[2023-03-21 14:25:56]]</td>\n    </tr>\n    <tr>\n      <th>19178</th>\n      <td>2173305.0</td>\n      <td>[4442316]</td>\n      <td>[[3843436]]</td>\n      <td>[[Sneaker high Rauleder gelb]]</td>\n      <td>[[1]]</td>\n      <td>[[97.43]]</td>\n      <td>[[2020-10-20 09:29:51]]</td>\n    </tr>\n    <tr>\n      <th>82284</th>\n      <td>5168729.0</td>\n      <td>[5168727]</td>\n      <td>[[4769616]]</td>\n      <td>[[Sneaker low Glattleder weiß]]</td>\n      <td>[[1]]</td>\n      <td>[[115.0]]</td>\n      <td>[[2021-02-19 14:17:34]]</td>\n    </tr>\n    <tr>\n      <th>...</th>\n      <td>...</td>\n      <td>...</td>\n      <td>...</td>\n      <td>...</td>\n      <td>...</td>\n      <td>...</td>\n      <td>...</td>\n    </tr>\n    <tr>\n      <th>143988</th>\n      <td>6629730.0</td>\n      <td>[6629725]</td>\n      <td>[[589811]]</td>\n      <td>[[Eleganter Pumps Glattleder blau]]</td>\n      <td>[[1]]</td>\n      <td>[[89.95]]</td>\n      <td>[[2021-08-17 14:04:35]]</td>\n    </tr>\n    <tr>\n      <th>2257</th>\n      <td>1967021.0</td>\n      <td>[3983654, 3995117, 7303500, 7965067]</td>\n      <td>[[3591689, 3847025, 3694434, 3555096], [388467...</td>\n      <td>[[Eleganter Pump Rauleder braun, Chelsea Boot ...</td>\n      <td>[[1, 1, 1, 1], [1], [1], [1, 1, 1]]</td>\n      <td>[[97.43, 97.43, 116.97, 97.43], [112.1], [115....</td>\n      <td>[[2020-09-03 18:12:56, 2020-09-03 18:12:56, 20...</td>\n    </tr>\n    <tr>\n      <th>137157</th>\n      <td>6481528.0</td>\n      <td>[6481524]</td>\n      <td>[[3695622, 3695623]]</td>\n      <td>[[PG0460 Sneaker high Rauleder blau, PG0460 Sn...</td>\n      <td>[[1, 1]]</td>\n      <td>[[69.0, 69.0]]</td>\n      <td>[[2021-07-25 17:40:19, 2021-07-25 17:40:19]]</td>\n    </tr>\n    <tr>\n      <th>98882</th>\n      <td>5554702.0</td>\n      <td>[5554699]</td>\n      <td>[[4979166]]</td>\n      <td>[[Sneaker low Materialmix Leder/Lederimitat mu...</td>\n      <td>[[1]]</td>\n      <td>[[130.0]]</td>\n      <td>[[2021-04-07 12:53:12]]</td>\n    </tr>\n    <tr>\n      <th>108345</th>\n      <td>5766158.0</td>\n      <td>[5766154]</td>\n      <td>[[4946445]]</td>\n      <td>[[Pantolette Glattleder weiß]]</td>\n      <td>[[1]]</td>\n      <td>[[89.95]]</td>\n      <td>[[2021-05-01 07:39:45]]</td>\n    </tr>\n  </tbody>\n</table>\n<p>1000 rows × 7 columns</p>\n</div>"
     },
     "execution_count": 51,
     "metadata": {},
     "output_type": "execute_result"
    }
   ],
   "source": [
    "product_data"
   ],
   "metadata": {
    "collapsed": false
   }
  },
  {
   "cell_type": "code",
   "execution_count": 52,
   "outputs": [
    {
     "data": {
      "text/plain": "        customer_id                             order_ids  \\\n30865     3855949.0                             [3855946]   \n143171    6610827.0                             [6610824]   \n13636     2101813.0                            [11109745]   \n19178     2173305.0                             [4442316]   \n82284     5168729.0                             [5168727]   \n...             ...                                   ...   \n143988    6629730.0                             [6629725]   \n2257      1967021.0  [3983654, 3995117, 7303500, 7965067]   \n137157    6481528.0                             [6481524]   \n98882     5554702.0                             [5554699]   \n108345    5766158.0                             [5766154]   \n\n                                              product_ids  \\\n30865                                         [[3842542]]   \n143171                                        [[4768577]]   \n13636                                        [[10561150]]   \n19178                                         [[3843436]]   \n82284                                         [[4769616]]   \n...                                                   ...   \n143988                                         [[589811]]   \n2257    [[3591689, 3847025, 3694434, 3555096], [388467...   \n137157                               [[3695622, 3695623]]   \n98882                                         [[4979166]]   \n108345                                        [[4946445]]   \n\n                                    amounts  \\\n30865                                 [[1]]   \n143171                                [[1]]   \n13636                                 [[1]]   \n19178                                 [[1]]   \n82284                                 [[1]]   \n...                                     ...   \n143988                                [[1]]   \n2257    [[1, 1, 1, 1], [1], [1], [1, 1, 1]]   \n137157                             [[1, 1]]   \n98882                                 [[1]]   \n108345                                [[1]]   \n\n                                              order_dates  \n30865                             [[2020-08-19 19:12:46]]  \n143171                            [[2021-08-14 20:21:58]]  \n13636                             [[2023-03-21 14:25:56]]  \n19178                             [[2020-10-20 09:29:51]]  \n82284                             [[2021-02-19 14:17:34]]  \n...                                                   ...  \n143988                            [[2021-08-17 14:04:35]]  \n2257    [[2020-09-03 18:12:56, 2020-09-03 18:12:56, 20...  \n137157       [[2021-07-25 17:40:19, 2021-07-25 17:40:19]]  \n98882                             [[2021-04-07 12:53:12]]  \n108345                            [[2021-05-01 07:39:45]]  \n\n[1000 rows x 5 columns]",
      "text/html": "<div>\n<style scoped>\n    .dataframe tbody tr th:only-of-type {\n        vertical-align: middle;\n    }\n\n    .dataframe tbody tr th {\n        vertical-align: top;\n    }\n\n    .dataframe thead th {\n        text-align: right;\n    }\n</style>\n<table border=\"1\" class=\"dataframe\">\n  <thead>\n    <tr style=\"text-align: right;\">\n      <th></th>\n      <th>customer_id</th>\n      <th>order_ids</th>\n      <th>product_ids</th>\n      <th>amounts</th>\n      <th>order_dates</th>\n    </tr>\n  </thead>\n  <tbody>\n    <tr>\n      <th>30865</th>\n      <td>3855949.0</td>\n      <td>[3855946]</td>\n      <td>[[3842542]]</td>\n      <td>[[1]]</td>\n      <td>[[2020-08-19 19:12:46]]</td>\n    </tr>\n    <tr>\n      <th>143171</th>\n      <td>6610827.0</td>\n      <td>[6610824]</td>\n      <td>[[4768577]]</td>\n      <td>[[1]]</td>\n      <td>[[2021-08-14 20:21:58]]</td>\n    </tr>\n    <tr>\n      <th>13636</th>\n      <td>2101813.0</td>\n      <td>[11109745]</td>\n      <td>[[10561150]]</td>\n      <td>[[1]]</td>\n      <td>[[2023-03-21 14:25:56]]</td>\n    </tr>\n    <tr>\n      <th>19178</th>\n      <td>2173305.0</td>\n      <td>[4442316]</td>\n      <td>[[3843436]]</td>\n      <td>[[1]]</td>\n      <td>[[2020-10-20 09:29:51]]</td>\n    </tr>\n    <tr>\n      <th>82284</th>\n      <td>5168729.0</td>\n      <td>[5168727]</td>\n      <td>[[4769616]]</td>\n      <td>[[1]]</td>\n      <td>[[2021-02-19 14:17:34]]</td>\n    </tr>\n    <tr>\n      <th>...</th>\n      <td>...</td>\n      <td>...</td>\n      <td>...</td>\n      <td>...</td>\n      <td>...</td>\n    </tr>\n    <tr>\n      <th>143988</th>\n      <td>6629730.0</td>\n      <td>[6629725]</td>\n      <td>[[589811]]</td>\n      <td>[[1]]</td>\n      <td>[[2021-08-17 14:04:35]]</td>\n    </tr>\n    <tr>\n      <th>2257</th>\n      <td>1967021.0</td>\n      <td>[3983654, 3995117, 7303500, 7965067]</td>\n      <td>[[3591689, 3847025, 3694434, 3555096], [388467...</td>\n      <td>[[1, 1, 1, 1], [1], [1], [1, 1, 1]]</td>\n      <td>[[2020-09-03 18:12:56, 2020-09-03 18:12:56, 20...</td>\n    </tr>\n    <tr>\n      <th>137157</th>\n      <td>6481528.0</td>\n      <td>[6481524]</td>\n      <td>[[3695622, 3695623]]</td>\n      <td>[[1, 1]]</td>\n      <td>[[2021-07-25 17:40:19, 2021-07-25 17:40:19]]</td>\n    </tr>\n    <tr>\n      <th>98882</th>\n      <td>5554702.0</td>\n      <td>[5554699]</td>\n      <td>[[4979166]]</td>\n      <td>[[1]]</td>\n      <td>[[2021-04-07 12:53:12]]</td>\n    </tr>\n    <tr>\n      <th>108345</th>\n      <td>5766158.0</td>\n      <td>[5766154]</td>\n      <td>[[4946445]]</td>\n      <td>[[1]]</td>\n      <td>[[2021-05-01 07:39:45]]</td>\n    </tr>\n  </tbody>\n</table>\n<p>1000 rows × 5 columns</p>\n</div>"
     },
     "metadata": {},
     "output_type": "display_data"
    }
   ],
   "source": [
    "display(product_data[['customer_id', 'order_ids', 'product_ids', 'amounts', 'order_dates']])"
   ],
   "metadata": {
    "collapsed": false
   }
  },
  {
   "cell_type": "code",
   "execution_count": 53,
   "outputs": [
    {
     "name": "stdout",
     "output_type": "stream",
     "text": [
      "1290 1290 1290\n"
     ]
    }
   ],
   "source": [
    "# Compute the number of unique order IDs\n",
    "num_orders = 0\n",
    "for order_ids in product_data['order_ids']:\n",
    "    num_orders += len(order_ids)\n",
    "\n",
    "num_products = 0\n",
    "for product_ids in product_data['product_ids']:\n",
    "    num_products += len(product_ids)\n",
    "\n",
    "num_amounts = 0\n",
    "for amounts in product_data['amounts']:\n",
    "    num_amounts += len(amounts)\n",
    "\n",
    "print(num_orders, num_products, num_amounts)"
   ],
   "metadata": {
    "collapsed": false
   }
  },
  {
   "cell_type": "code",
   "execution_count": 54,
   "outputs": [],
   "source": [
    "from keras.layers import Input, Embedding, LSTM, Dense, Concatenate\n",
    "from keras.models import Model\n",
    "\n",
    "# Define the inputs\n",
    "order_inputs = Input(shape=(None,), dtype='int32', name='order_inputs')\n",
    "product_inputs = Input(shape=(None,), dtype='int32', name='product_inputs')\n",
    "amount_inputs = Input(shape=(None,), dtype='int32', name='amount_inputs')\n",
    "\n",
    "# Define the embedding layers\n",
    "order_emb = Embedding(input_dim=num_orders, output_dim=16)(order_inputs)\n",
    "product_emb = Embedding(input_dim=num_products, output_dim=16)(product_inputs)\n",
    "amount_emb = Embedding(input_dim=num_amounts, output_dim=16)(amount_inputs)\n",
    "\n",
    "# Concatenate the embeddings\n",
    "concat_emb = Concatenate()([order_emb, product_emb, amount_emb])\n",
    "\n",
    "# Define the LSTM layer\n",
    "lstm = LSTM(units=64)(concat_emb)\n",
    "\n",
    "# Define the output layer\n",
    "output = Dense(units=1, activation='linear')(lstm)\n",
    "\n",
    "# Define the model\n",
    "model = Model(inputs=[order_inputs, product_inputs, amount_inputs], outputs=output)\n",
    "\n",
    "# Compile the model\n",
    "model.compile(loss='mean_squared_error', optimizer='adam', metrics=['mse'])\n"
   ],
   "metadata": {
    "collapsed": false
   }
  },
  {
   "cell_type": "code",
   "execution_count": 57,
   "outputs": [
    {
     "ename": "ValueError",
     "evalue": "Failed to convert a NumPy array to a Tensor (Unsupported object type list).",
     "output_type": "error",
     "traceback": [
      "\u001B[0;31m---------------------------------------------------------------------------\u001B[0m",
      "\u001B[0;31mValueError\u001B[0m                                Traceback (most recent call last)",
      "Cell \u001B[0;32mIn[57], line 12\u001B[0m\n\u001B[1;32m      8\u001B[0m X_train, X_val, y_train, y_val \u001B[38;5;241m=\u001B[39m train_test_split(X, y, test_size\u001B[38;5;241m=\u001B[39m\u001B[38;5;241m0.2\u001B[39m, random_state\u001B[38;5;241m=\u001B[39m\u001B[38;5;241m42\u001B[39m)\n\u001B[1;32m     10\u001B[0m \u001B[38;5;66;03m# Fit the model\u001B[39;00m\n\u001B[1;32m     11\u001B[0m \u001B[38;5;66;03m#history = model.fit(x=X, y=y, batch_size=32, epochs=10)\u001B[39;00m\n\u001B[0;32m---> 12\u001B[0m history \u001B[38;5;241m=\u001B[39m \u001B[43mmodel\u001B[49m\u001B[38;5;241;43m.\u001B[39;49m\u001B[43mfit\u001B[49m\u001B[43m(\u001B[49m\u001B[43mx\u001B[49m\u001B[38;5;241;43m=\u001B[39;49m\u001B[43mX_train\u001B[49m\u001B[43m,\u001B[49m\u001B[43m \u001B[49m\u001B[43my\u001B[49m\u001B[38;5;241;43m=\u001B[39;49m\u001B[43my_train\u001B[49m\u001B[43m,\u001B[49m\u001B[43m \u001B[49m\u001B[43mbatch_size\u001B[49m\u001B[38;5;241;43m=\u001B[39;49m\u001B[38;5;241;43m32\u001B[39;49m\u001B[43m,\u001B[49m\u001B[43m \u001B[49m\u001B[43mepochs\u001B[49m\u001B[38;5;241;43m=\u001B[39;49m\u001B[38;5;241;43m10\u001B[39;49m\u001B[43m,\u001B[49m\u001B[43m \u001B[49m\u001B[43mvalidation_data\u001B[49m\u001B[38;5;241;43m=\u001B[39;49m\u001B[43m(\u001B[49m\u001B[43mX_val\u001B[49m\u001B[43m,\u001B[49m\u001B[43m \u001B[49m\u001B[43my_val\u001B[49m\u001B[43m)\u001B[49m\u001B[43m)\u001B[49m\n",
      "File \u001B[0;32m~/miniconda3/envs/m1-master-thesis/lib/python3.9/site-packages/keras/utils/traceback_utils.py:70\u001B[0m, in \u001B[0;36mfilter_traceback.<locals>.error_handler\u001B[0;34m(*args, **kwargs)\u001B[0m\n\u001B[1;32m     67\u001B[0m     filtered_tb \u001B[38;5;241m=\u001B[39m _process_traceback_frames(e\u001B[38;5;241m.\u001B[39m__traceback__)\n\u001B[1;32m     68\u001B[0m     \u001B[38;5;66;03m# To get the full stack trace, call:\u001B[39;00m\n\u001B[1;32m     69\u001B[0m     \u001B[38;5;66;03m# `tf.debugging.disable_traceback_filtering()`\u001B[39;00m\n\u001B[0;32m---> 70\u001B[0m     \u001B[38;5;28;01mraise\u001B[39;00m e\u001B[38;5;241m.\u001B[39mwith_traceback(filtered_tb) \u001B[38;5;28;01mfrom\u001B[39;00m \u001B[38;5;28mNone\u001B[39m\n\u001B[1;32m     71\u001B[0m \u001B[38;5;28;01mfinally\u001B[39;00m:\n\u001B[1;32m     72\u001B[0m     \u001B[38;5;28;01mdel\u001B[39;00m filtered_tb\n",
      "File \u001B[0;32m~/miniconda3/envs/m1-master-thesis/lib/python3.9/site-packages/tensorflow/python/framework/constant_op.py:102\u001B[0m, in \u001B[0;36mconvert_to_eager_tensor\u001B[0;34m(value, ctx, dtype)\u001B[0m\n\u001B[1;32m    100\u001B[0m     dtype \u001B[38;5;241m=\u001B[39m dtypes\u001B[38;5;241m.\u001B[39mas_dtype(dtype)\u001B[38;5;241m.\u001B[39mas_datatype_enum\n\u001B[1;32m    101\u001B[0m ctx\u001B[38;5;241m.\u001B[39mensure_initialized()\n\u001B[0;32m--> 102\u001B[0m \u001B[38;5;28;01mreturn\u001B[39;00m \u001B[43mops\u001B[49m\u001B[38;5;241;43m.\u001B[39;49m\u001B[43mEagerTensor\u001B[49m\u001B[43m(\u001B[49m\u001B[43mvalue\u001B[49m\u001B[43m,\u001B[49m\u001B[43m \u001B[49m\u001B[43mctx\u001B[49m\u001B[38;5;241;43m.\u001B[39;49m\u001B[43mdevice_name\u001B[49m\u001B[43m,\u001B[49m\u001B[43m \u001B[49m\u001B[43mdtype\u001B[49m\u001B[43m)\u001B[49m\n",
      "\u001B[0;31mValueError\u001B[0m: Failed to convert a NumPy array to a Tensor (Unsupported object type list)."
     ]
    }
   ],
   "source": [
    "from sklearn.model_selection import train_test_split\n",
    "\n",
    "# Define the input and output data\n",
    "X = product_data[['order_ids', 'product_ids', 'amounts']]\n",
    "y = product_data['amounts']\n",
    "\n",
    "# Split the data into training and validation sets\n",
    "X_train, X_val, y_train, y_val = train_test_split(X, y, test_size=0.2, random_state=42)\n",
    "\n",
    "# Fit the model\n",
    "#history = model.fit(x=X, y=y, batch_size=32, epochs=10)\n",
    "history = model.fit(x=X_train, y=y_train, batch_size=32, epochs=10, validation_data=(X_val, y_val))\n"
   ],
   "metadata": {
    "collapsed": false
   }
  },
  {
   "cell_type": "code",
   "execution_count": null,
   "outputs": [],
   "source": [
    "# Evaluate the model\n",
    "loss, mse = model.evaluate([product_data.order_dates_test, product_data.product_ids_test, product_data.total_prices_test], product_data.total_prices_test)\n",
    "print(\"Test loss: {:.4f}, Test MSE: {:.4f}\".format(loss, mse))"
   ],
   "metadata": {
    "collapsed": false
   }
  },
  {
   "cell_type": "code",
   "execution_count": null,
   "outputs": [],
   "source": [
    "# split the data into training and testing sets\n",
    "#X = pd.get_dummies(product_data['product__id'], prefix='product')\n",
    "#y = product_data['amount']\n",
    "#X_train, X_test, y_train, y_test = train_test_split(X, y, test_size=0.2, random_state=42)"
   ],
   "metadata": {
    "collapsed": false
   }
  },
  {
   "cell_type": "code",
   "execution_count": null,
   "outputs": [],
   "source": [],
   "metadata": {
    "collapsed": false
   }
  }
 ],
 "metadata": {
  "kernelspec": {
   "display_name": "Python 3",
   "language": "python",
   "name": "python3"
  },
  "language_info": {
   "codemirror_mode": {
    "name": "ipython",
    "version": 2
   },
   "file_extension": ".py",
   "mimetype": "text/x-python",
   "name": "python",
   "nbconvert_exporter": "python",
   "pygments_lexer": "ipython2",
   "version": "2.7.6"
  }
 },
 "nbformat": 4,
 "nbformat_minor": 0
}
