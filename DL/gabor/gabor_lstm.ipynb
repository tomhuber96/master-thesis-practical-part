{
 "cells": [
  {
   "cell_type": "code",
   "execution_count": 139,
   "metadata": {
    "collapsed": true
   },
   "outputs": [],
   "source": [
    "import pandas as pd\n",
    "from keras.layers import Input, Embedding, LSTM, Dense, Dot, Softmax, Concatenate, BatchNormalization, Attention\n",
    "from keras.models import Model\n",
    "import tensorflow as tf\n",
    "import numpy as np"
   ]
  },
  {
   "cell_type": "code",
   "execution_count": 140,
   "outputs": [],
   "source": [
    "basepath = '../../datasets/preprocessed_datasets/gabor/'\n",
    "product_data = pd.read_pickle(basepath +'orders_and_products_by_customer.pkl')"
   ],
   "metadata": {
    "collapsed": false
   }
  },
  {
   "cell_type": "code",
   "execution_count": 141,
   "outputs": [
    {
     "data": {
      "text/plain": "        customer_id   order_ids                    product_ids  \\\n223249    8551990.0   [8551987]                    [[7593490]]   \n146632    6695858.0   [6695855]                    [[6113738]]   \n236694    8884452.0   [8884448]  [[7799189, 7824755, 7800504]]   \n335206   10676713.0  [10676710]                   [[10230288]]   \n84284     5213465.0   [5213463]                    [[4978647]]   \n...             ...         ...                            ...   \n311371   10174420.0  [10174417]                    [[6596072]]   \n181949    7523175.0   [7523172]           [[3843327, 6110647]]   \n59353     4635721.0   [4635718]                    [[3503781]]   \n221614    8510699.0   [8510696]                    [[7595512]]   \n107071    5738098.0   [5738095]                    [[4788547]]   \n\n                                            product_names      amounts  \\\n223249             [[Sneaker low Materialmix Leder grau]]        [[1]]   \n146632                     [[Chelsea Boot Rauleder gelb]]        [[1]]   \n236694  [[Pantolette Glattleder schwarz, Pantolette Gl...  [[1, 1, 1]]   \n335206             [[Elegante Stiefelette Rauleder grün]]        [[1]]   \n84284                       [[Sneaker low Rauleder blau]]        [[1]]   \n...                                                   ...          ...   \n311371                [[Chelsea Boot Glattleder schwarz]]        [[1]]   \n181949  [[Schnürstiefelette Rauleder blau, Schnürstief...     [[1, 1]]   \n59353             [[Sneaker low Materialmix Leder braun]]        [[1]]   \n221614                       [[Slipper Glattleder braun]]        [[1]]   \n107071                         [[Slipper Rauleder braun]]        [[1]]   \n\n                   total_prices  \\\n223249                [[140.0]]   \n146632                [[99.95]]   \n236694  [[89.95, 89.95, 99.95]]   \n335206                [[120.0]]   \n84284                 [[130.0]]   \n...                         ...   \n311371                 [[89.0]]   \n181949          [[69.0, 115.0]]   \n59353                [[126.72]]   \n221614                [[140.0]]   \n107071                [[99.95]]   \n\n                                              order_dates  \n223249                            [[2022-05-03 20:19:05]]  \n146632                            [[2021-08-27 11:55:43]]  \n236694  [[2022-06-13 06:58:14, 2022-06-13 06:58:14, 20...  \n335206                            [[2023-02-02 17:13:40]]  \n84284                             [[2021-02-24 18:00:06]]  \n...                                                   ...  \n311371                            [[2022-11-25 04:59:02]]  \n181949       [[2021-11-23 22:35:38, 2021-11-23 22:35:38]]  \n59353                             [[2020-11-11 14:37:56]]  \n221614                            [[2022-04-29 12:31:49]]  \n107071                            [[2021-04-28 05:03:16]]  \n\n[1000 rows x 7 columns]",
      "text/html": "<div>\n<style scoped>\n    .dataframe tbody tr th:only-of-type {\n        vertical-align: middle;\n    }\n\n    .dataframe tbody tr th {\n        vertical-align: top;\n    }\n\n    .dataframe thead th {\n        text-align: right;\n    }\n</style>\n<table border=\"1\" class=\"dataframe\">\n  <thead>\n    <tr style=\"text-align: right;\">\n      <th></th>\n      <th>customer_id</th>\n      <th>order_ids</th>\n      <th>product_ids</th>\n      <th>product_names</th>\n      <th>amounts</th>\n      <th>total_prices</th>\n      <th>order_dates</th>\n    </tr>\n  </thead>\n  <tbody>\n    <tr>\n      <th>223249</th>\n      <td>8551990.0</td>\n      <td>[8551987]</td>\n      <td>[[7593490]]</td>\n      <td>[[Sneaker low Materialmix Leder grau]]</td>\n      <td>[[1]]</td>\n      <td>[[140.0]]</td>\n      <td>[[2022-05-03 20:19:05]]</td>\n    </tr>\n    <tr>\n      <th>146632</th>\n      <td>6695858.0</td>\n      <td>[6695855]</td>\n      <td>[[6113738]]</td>\n      <td>[[Chelsea Boot Rauleder gelb]]</td>\n      <td>[[1]]</td>\n      <td>[[99.95]]</td>\n      <td>[[2021-08-27 11:55:43]]</td>\n    </tr>\n    <tr>\n      <th>236694</th>\n      <td>8884452.0</td>\n      <td>[8884448]</td>\n      <td>[[7799189, 7824755, 7800504]]</td>\n      <td>[[Pantolette Glattleder schwarz, Pantolette Gl...</td>\n      <td>[[1, 1, 1]]</td>\n      <td>[[89.95, 89.95, 99.95]]</td>\n      <td>[[2022-06-13 06:58:14, 2022-06-13 06:58:14, 20...</td>\n    </tr>\n    <tr>\n      <th>335206</th>\n      <td>10676713.0</td>\n      <td>[10676710]</td>\n      <td>[[10230288]]</td>\n      <td>[[Elegante Stiefelette Rauleder grün]]</td>\n      <td>[[1]]</td>\n      <td>[[120.0]]</td>\n      <td>[[2023-02-02 17:13:40]]</td>\n    </tr>\n    <tr>\n      <th>84284</th>\n      <td>5213465.0</td>\n      <td>[5213463]</td>\n      <td>[[4978647]]</td>\n      <td>[[Sneaker low Rauleder blau]]</td>\n      <td>[[1]]</td>\n      <td>[[130.0]]</td>\n      <td>[[2021-02-24 18:00:06]]</td>\n    </tr>\n    <tr>\n      <th>...</th>\n      <td>...</td>\n      <td>...</td>\n      <td>...</td>\n      <td>...</td>\n      <td>...</td>\n      <td>...</td>\n      <td>...</td>\n    </tr>\n    <tr>\n      <th>311371</th>\n      <td>10174420.0</td>\n      <td>[10174417]</td>\n      <td>[[6596072]]</td>\n      <td>[[Chelsea Boot Glattleder schwarz]]</td>\n      <td>[[1]]</td>\n      <td>[[89.0]]</td>\n      <td>[[2022-11-25 04:59:02]]</td>\n    </tr>\n    <tr>\n      <th>181949</th>\n      <td>7523175.0</td>\n      <td>[7523172]</td>\n      <td>[[3843327, 6110647]]</td>\n      <td>[[Schnürstiefelette Rauleder blau, Schnürstief...</td>\n      <td>[[1, 1]]</td>\n      <td>[[69.0, 115.0]]</td>\n      <td>[[2021-11-23 22:35:38, 2021-11-23 22:35:38]]</td>\n    </tr>\n    <tr>\n      <th>59353</th>\n      <td>4635721.0</td>\n      <td>[4635718]</td>\n      <td>[[3503781]]</td>\n      <td>[[Sneaker low Materialmix Leder braun]]</td>\n      <td>[[1]]</td>\n      <td>[[126.72]]</td>\n      <td>[[2020-11-11 14:37:56]]</td>\n    </tr>\n    <tr>\n      <th>221614</th>\n      <td>8510699.0</td>\n      <td>[8510696]</td>\n      <td>[[7595512]]</td>\n      <td>[[Slipper Glattleder braun]]</td>\n      <td>[[1]]</td>\n      <td>[[140.0]]</td>\n      <td>[[2022-04-29 12:31:49]]</td>\n    </tr>\n    <tr>\n      <th>107071</th>\n      <td>5738098.0</td>\n      <td>[5738095]</td>\n      <td>[[4788547]]</td>\n      <td>[[Slipper Rauleder braun]]</td>\n      <td>[[1]]</td>\n      <td>[[99.95]]</td>\n      <td>[[2021-04-28 05:03:16]]</td>\n    </tr>\n  </tbody>\n</table>\n<p>1000 rows × 7 columns</p>\n</div>"
     },
     "execution_count": 141,
     "metadata": {},
     "output_type": "execute_result"
    }
   ],
   "source": [
    "product_data = product_data.sample(n=1000)\n",
    "product_data"
   ],
   "metadata": {
    "collapsed": false
   }
  },
  {
   "cell_type": "code",
   "execution_count": 142,
   "outputs": [
    {
     "data": {
      "text/plain": "        customer_id   order_ids                    product_ids  \\\n223249    8551990.0   [8551987]                    [[7593490]]   \n146632    6695858.0   [6695855]                    [[6113738]]   \n236694    8884452.0   [8884448]  [[7799189, 7824755, 7800504]]   \n335206   10676713.0  [10676710]                   [[10230288]]   \n84284     5213465.0   [5213463]                    [[4978647]]   \n...             ...         ...                            ...   \n311371   10174420.0  [10174417]                    [[6596072]]   \n181949    7523175.0   [7523172]           [[3843327, 6110647]]   \n59353     4635721.0   [4635718]                    [[3503781]]   \n221614    8510699.0   [8510696]                    [[7595512]]   \n107071    5738098.0   [5738095]                    [[4788547]]   \n\n                                            product_names      amounts  \\\n223249             [[Sneaker low Materialmix Leder grau]]        [[1]]   \n146632                     [[Chelsea Boot Rauleder gelb]]        [[1]]   \n236694  [[Pantolette Glattleder schwarz, Pantolette Gl...  [[1, 1, 1]]   \n335206             [[Elegante Stiefelette Rauleder grün]]        [[1]]   \n84284                       [[Sneaker low Rauleder blau]]        [[1]]   \n...                                                   ...          ...   \n311371                [[Chelsea Boot Glattleder schwarz]]        [[1]]   \n181949  [[Schnürstiefelette Rauleder blau, Schnürstief...     [[1, 1]]   \n59353             [[Sneaker low Materialmix Leder braun]]        [[1]]   \n221614                       [[Slipper Glattleder braun]]        [[1]]   \n107071                         [[Slipper Rauleder braun]]        [[1]]   \n\n                   total_prices  \\\n223249                [[140.0]]   \n146632                [[99.95]]   \n236694  [[89.95, 89.95, 99.95]]   \n335206                [[120.0]]   \n84284                 [[130.0]]   \n...                         ...   \n311371                 [[89.0]]   \n181949          [[69.0, 115.0]]   \n59353                [[126.72]]   \n221614                [[140.0]]   \n107071                [[99.95]]   \n\n                                              order_dates  \n223249                            [[2022-05-03 20:19:05]]  \n146632                            [[2021-08-27 11:55:43]]  \n236694  [[2022-06-13 06:58:14, 2022-06-13 06:58:14, 20...  \n335206                            [[2023-02-02 17:13:40]]  \n84284                             [[2021-02-24 18:00:06]]  \n...                                                   ...  \n311371                            [[2022-11-25 04:59:02]]  \n181949       [[2021-11-23 22:35:38, 2021-11-23 22:35:38]]  \n59353                             [[2020-11-11 14:37:56]]  \n221614                            [[2022-04-29 12:31:49]]  \n107071                            [[2021-04-28 05:03:16]]  \n\n[1000 rows x 7 columns]",
      "text/html": "<div>\n<style scoped>\n    .dataframe tbody tr th:only-of-type {\n        vertical-align: middle;\n    }\n\n    .dataframe tbody tr th {\n        vertical-align: top;\n    }\n\n    .dataframe thead th {\n        text-align: right;\n    }\n</style>\n<table border=\"1\" class=\"dataframe\">\n  <thead>\n    <tr style=\"text-align: right;\">\n      <th></th>\n      <th>customer_id</th>\n      <th>order_ids</th>\n      <th>product_ids</th>\n      <th>product_names</th>\n      <th>amounts</th>\n      <th>total_prices</th>\n      <th>order_dates</th>\n    </tr>\n  </thead>\n  <tbody>\n    <tr>\n      <th>223249</th>\n      <td>8551990.0</td>\n      <td>[8551987]</td>\n      <td>[[7593490]]</td>\n      <td>[[Sneaker low Materialmix Leder grau]]</td>\n      <td>[[1]]</td>\n      <td>[[140.0]]</td>\n      <td>[[2022-05-03 20:19:05]]</td>\n    </tr>\n    <tr>\n      <th>146632</th>\n      <td>6695858.0</td>\n      <td>[6695855]</td>\n      <td>[[6113738]]</td>\n      <td>[[Chelsea Boot Rauleder gelb]]</td>\n      <td>[[1]]</td>\n      <td>[[99.95]]</td>\n      <td>[[2021-08-27 11:55:43]]</td>\n    </tr>\n    <tr>\n      <th>236694</th>\n      <td>8884452.0</td>\n      <td>[8884448]</td>\n      <td>[[7799189, 7824755, 7800504]]</td>\n      <td>[[Pantolette Glattleder schwarz, Pantolette Gl...</td>\n      <td>[[1, 1, 1]]</td>\n      <td>[[89.95, 89.95, 99.95]]</td>\n      <td>[[2022-06-13 06:58:14, 2022-06-13 06:58:14, 20...</td>\n    </tr>\n    <tr>\n      <th>335206</th>\n      <td>10676713.0</td>\n      <td>[10676710]</td>\n      <td>[[10230288]]</td>\n      <td>[[Elegante Stiefelette Rauleder grün]]</td>\n      <td>[[1]]</td>\n      <td>[[120.0]]</td>\n      <td>[[2023-02-02 17:13:40]]</td>\n    </tr>\n    <tr>\n      <th>84284</th>\n      <td>5213465.0</td>\n      <td>[5213463]</td>\n      <td>[[4978647]]</td>\n      <td>[[Sneaker low Rauleder blau]]</td>\n      <td>[[1]]</td>\n      <td>[[130.0]]</td>\n      <td>[[2021-02-24 18:00:06]]</td>\n    </tr>\n    <tr>\n      <th>...</th>\n      <td>...</td>\n      <td>...</td>\n      <td>...</td>\n      <td>...</td>\n      <td>...</td>\n      <td>...</td>\n      <td>...</td>\n    </tr>\n    <tr>\n      <th>311371</th>\n      <td>10174420.0</td>\n      <td>[10174417]</td>\n      <td>[[6596072]]</td>\n      <td>[[Chelsea Boot Glattleder schwarz]]</td>\n      <td>[[1]]</td>\n      <td>[[89.0]]</td>\n      <td>[[2022-11-25 04:59:02]]</td>\n    </tr>\n    <tr>\n      <th>181949</th>\n      <td>7523175.0</td>\n      <td>[7523172]</td>\n      <td>[[3843327, 6110647]]</td>\n      <td>[[Schnürstiefelette Rauleder blau, Schnürstief...</td>\n      <td>[[1, 1]]</td>\n      <td>[[69.0, 115.0]]</td>\n      <td>[[2021-11-23 22:35:38, 2021-11-23 22:35:38]]</td>\n    </tr>\n    <tr>\n      <th>59353</th>\n      <td>4635721.0</td>\n      <td>[4635718]</td>\n      <td>[[3503781]]</td>\n      <td>[[Sneaker low Materialmix Leder braun]]</td>\n      <td>[[1]]</td>\n      <td>[[126.72]]</td>\n      <td>[[2020-11-11 14:37:56]]</td>\n    </tr>\n    <tr>\n      <th>221614</th>\n      <td>8510699.0</td>\n      <td>[8510696]</td>\n      <td>[[7595512]]</td>\n      <td>[[Slipper Glattleder braun]]</td>\n      <td>[[1]]</td>\n      <td>[[140.0]]</td>\n      <td>[[2022-04-29 12:31:49]]</td>\n    </tr>\n    <tr>\n      <th>107071</th>\n      <td>5738098.0</td>\n      <td>[5738095]</td>\n      <td>[[4788547]]</td>\n      <td>[[Slipper Rauleder braun]]</td>\n      <td>[[1]]</td>\n      <td>[[99.95]]</td>\n      <td>[[2021-04-28 05:03:16]]</td>\n    </tr>\n  </tbody>\n</table>\n<p>1000 rows × 7 columns</p>\n</div>"
     },
     "execution_count": 142,
     "metadata": {},
     "output_type": "execute_result"
    }
   ],
   "source": [
    "product_data"
   ],
   "metadata": {
    "collapsed": false
   }
  },
  {
   "cell_type": "code",
   "execution_count": 143,
   "outputs": [
    {
     "data": {
      "text/plain": "        customer_id   order_ids                    product_ids      amounts  \\\n223249    8551990.0   [8551987]                    [[7593490]]        [[1]]   \n146632    6695858.0   [6695855]                    [[6113738]]        [[1]]   \n236694    8884452.0   [8884448]  [[7799189, 7824755, 7800504]]  [[1, 1, 1]]   \n335206   10676713.0  [10676710]                   [[10230288]]        [[1]]   \n84284     5213465.0   [5213463]                    [[4978647]]        [[1]]   \n...             ...         ...                            ...          ...   \n311371   10174420.0  [10174417]                    [[6596072]]        [[1]]   \n181949    7523175.0   [7523172]           [[3843327, 6110647]]     [[1, 1]]   \n59353     4635721.0   [4635718]                    [[3503781]]        [[1]]   \n221614    8510699.0   [8510696]                    [[7595512]]        [[1]]   \n107071    5738098.0   [5738095]                    [[4788547]]        [[1]]   \n\n                                              order_dates  \n223249                            [[2022-05-03 20:19:05]]  \n146632                            [[2021-08-27 11:55:43]]  \n236694  [[2022-06-13 06:58:14, 2022-06-13 06:58:14, 20...  \n335206                            [[2023-02-02 17:13:40]]  \n84284                             [[2021-02-24 18:00:06]]  \n...                                                   ...  \n311371                            [[2022-11-25 04:59:02]]  \n181949       [[2021-11-23 22:35:38, 2021-11-23 22:35:38]]  \n59353                             [[2020-11-11 14:37:56]]  \n221614                            [[2022-04-29 12:31:49]]  \n107071                            [[2021-04-28 05:03:16]]  \n\n[1000 rows x 5 columns]",
      "text/html": "<div>\n<style scoped>\n    .dataframe tbody tr th:only-of-type {\n        vertical-align: middle;\n    }\n\n    .dataframe tbody tr th {\n        vertical-align: top;\n    }\n\n    .dataframe thead th {\n        text-align: right;\n    }\n</style>\n<table border=\"1\" class=\"dataframe\">\n  <thead>\n    <tr style=\"text-align: right;\">\n      <th></th>\n      <th>customer_id</th>\n      <th>order_ids</th>\n      <th>product_ids</th>\n      <th>amounts</th>\n      <th>order_dates</th>\n    </tr>\n  </thead>\n  <tbody>\n    <tr>\n      <th>223249</th>\n      <td>8551990.0</td>\n      <td>[8551987]</td>\n      <td>[[7593490]]</td>\n      <td>[[1]]</td>\n      <td>[[2022-05-03 20:19:05]]</td>\n    </tr>\n    <tr>\n      <th>146632</th>\n      <td>6695858.0</td>\n      <td>[6695855]</td>\n      <td>[[6113738]]</td>\n      <td>[[1]]</td>\n      <td>[[2021-08-27 11:55:43]]</td>\n    </tr>\n    <tr>\n      <th>236694</th>\n      <td>8884452.0</td>\n      <td>[8884448]</td>\n      <td>[[7799189, 7824755, 7800504]]</td>\n      <td>[[1, 1, 1]]</td>\n      <td>[[2022-06-13 06:58:14, 2022-06-13 06:58:14, 20...</td>\n    </tr>\n    <tr>\n      <th>335206</th>\n      <td>10676713.0</td>\n      <td>[10676710]</td>\n      <td>[[10230288]]</td>\n      <td>[[1]]</td>\n      <td>[[2023-02-02 17:13:40]]</td>\n    </tr>\n    <tr>\n      <th>84284</th>\n      <td>5213465.0</td>\n      <td>[5213463]</td>\n      <td>[[4978647]]</td>\n      <td>[[1]]</td>\n      <td>[[2021-02-24 18:00:06]]</td>\n    </tr>\n    <tr>\n      <th>...</th>\n      <td>...</td>\n      <td>...</td>\n      <td>...</td>\n      <td>...</td>\n      <td>...</td>\n    </tr>\n    <tr>\n      <th>311371</th>\n      <td>10174420.0</td>\n      <td>[10174417]</td>\n      <td>[[6596072]]</td>\n      <td>[[1]]</td>\n      <td>[[2022-11-25 04:59:02]]</td>\n    </tr>\n    <tr>\n      <th>181949</th>\n      <td>7523175.0</td>\n      <td>[7523172]</td>\n      <td>[[3843327, 6110647]]</td>\n      <td>[[1, 1]]</td>\n      <td>[[2021-11-23 22:35:38, 2021-11-23 22:35:38]]</td>\n    </tr>\n    <tr>\n      <th>59353</th>\n      <td>4635721.0</td>\n      <td>[4635718]</td>\n      <td>[[3503781]]</td>\n      <td>[[1]]</td>\n      <td>[[2020-11-11 14:37:56]]</td>\n    </tr>\n    <tr>\n      <th>221614</th>\n      <td>8510699.0</td>\n      <td>[8510696]</td>\n      <td>[[7595512]]</td>\n      <td>[[1]]</td>\n      <td>[[2022-04-29 12:31:49]]</td>\n    </tr>\n    <tr>\n      <th>107071</th>\n      <td>5738098.0</td>\n      <td>[5738095]</td>\n      <td>[[4788547]]</td>\n      <td>[[1]]</td>\n      <td>[[2021-04-28 05:03:16]]</td>\n    </tr>\n  </tbody>\n</table>\n<p>1000 rows × 5 columns</p>\n</div>"
     },
     "metadata": {},
     "output_type": "display_data"
    }
   ],
   "source": [
    "display(product_data[['customer_id', 'order_ids', 'product_ids', 'amounts', 'order_dates']])"
   ],
   "metadata": {
    "collapsed": false
   }
  },
  {
   "cell_type": "code",
   "execution_count": 144,
   "outputs": [
    {
     "name": "stdout",
     "output_type": "stream",
     "text": [
      "1208 1208 1208 1208 1208\n"
     ]
    }
   ],
   "source": [
    "# Define the model architecture\n",
    "num_orders = sum(len(order) for order in product_data.order_ids)\n",
    "num_products =  sum(len(order) for order in product_data.product_ids)\n",
    "num_units = len([amount for order_amounts in product_data.amounts for amount in order_amounts])\n",
    "num_prices = len([amount for order_amounts in product_data.total_prices for amount in order_amounts])\n",
    "num_dates = len([amount for order_amounts in product_data.order_dates for amount in order_amounts])\n",
    "\n",
    "print(num_orders, num_products, num_units, num_prices, num_dates)"
   ],
   "metadata": {
    "collapsed": false
   }
  },
  {
   "cell_type": "code",
   "execution_count": 145,
   "outputs": [],
   "source": [
    "# Input layers\n",
    "date_inputs = Input(shape=(num_dates))\n",
    "# product_inputs = Input(shape=(num_orders, num_units))\n",
    "product_inputs = Input(shape=(num_products))\n",
    "# price_inputs = Input(shape=(num_orders, num_prices))\n",
    "\n",
    "encoding_padding_mask = tf.math.logical_not(tf.math.equal(product_inputs, 0))\n",
    "\n",
    "# Embedding layers\n",
    "date_emb = Embedding(num_dates, 16, input_length=num_dates)(date_inputs)\n",
    "product_emb = Embedding(num_products, 16, input_length=num_units)(product_inputs)\n",
    "\n",
    "concat_embedding_input = Concatenate(\n",
    "    name='concat_embedding_input')([date_emb, product_emb])\n",
    "\n",
    "concat_embedding_input = BatchNormalization(\n",
    "    name='batchnorm_inputs')(concat_embedding_input)\n",
    "\n",
    "# LSTM layer\n",
    "lstm = LSTM(64, return_sequences=True)(concat_embedding_input)\n",
    "\n",
    "lstm = BatchNormalization(name='batchnorm_lstm')(lstm)\n",
    "\n",
    "att = Attention(use_scale=False,\n",
    "                                name='attention')(inputs=[lstm, lstm],\n",
    "                                                  mask=[encoding_padding_mask,\n",
    "                                                        encoding_padding_mask])\n",
    "\n",
    "\n",
    "# Concatenate layer\n",
    "#concat = Concatenate(axis=2)([context, price_inputs])\n",
    "\n",
    "# Dense layer\n",
    "output = Dense(1)(att)\n",
    "# Define the model\n",
    "model = Model(inputs=[date_inputs, product_inputs], outputs=output)\n",
    "# Compile the model\n",
    "model.compile(loss='mean_squared_error', optimizer='adam', metrics=['mse'])"
   ],
   "metadata": {
    "collapsed": false
   }
  },
  {
   "cell_type": "code",
   "execution_count": 146,
   "outputs": [],
   "source": [
    "#utils.plot_model(model, to_file='model.png', show_shapes=True, show_layer_names=True)"
   ],
   "metadata": {
    "collapsed": false
   }
  },
  {
   "cell_type": "code",
   "execution_count": 147,
   "outputs": [],
   "source": [
    "# # Train the model\n",
    "# X = np.asarray(product_data[['order_ids', 'product_ids']])\n",
    "# y = np.asarray(product_data['amounts'])\n",
    "# X_train, X_test, y_train, y_test = train_test_split(X, y, test_size=0.2, random_state=42)\n",
    "#\n",
    "# X_train = tf.convert_to_tensor(X_train, dtype=tf.float32)\n",
    "# y_train = tf.convert_to_tensor(y_train, dtype=tf.float32)\n",
    "\n",
    "\n"
   ],
   "metadata": {
    "collapsed": false
   }
  },
  {
   "cell_type": "code",
   "execution_count": 149,
   "outputs": [
    {
     "ename": "ValueError",
     "evalue": "setting an array element with a sequence. The requested array has an inhomogeneous shape after 1 dimensions. The detected shape was (2,) + inhomogeneous part.",
     "output_type": "error",
     "traceback": [
      "\u001B[0;31m---------------------------------------------------------------------------\u001B[0m",
      "\u001B[0;31mValueError\u001B[0m                                Traceback (most recent call last)",
      "Cell \u001B[0;32mIn[149], line 1\u001B[0m\n\u001B[0;32m----> 1\u001B[0m arr \u001B[38;5;241m=\u001B[39m np\u001B[38;5;241m.\u001B[39marray([np\u001B[38;5;241m.\u001B[39marray(x)\u001B[38;5;241m.\u001B[39mflatten() \u001B[38;5;28;01mfor\u001B[39;00m x \u001B[38;5;129;01min\u001B[39;00m product_data\u001B[38;5;241m.\u001B[39mproduct_ids])\n",
      "Cell \u001B[0;32mIn[149], line 1\u001B[0m, in \u001B[0;36m<listcomp>\u001B[0;34m(.0)\u001B[0m\n\u001B[0;32m----> 1\u001B[0m arr \u001B[38;5;241m=\u001B[39m np\u001B[38;5;241m.\u001B[39marray([\u001B[43mnp\u001B[49m\u001B[38;5;241;43m.\u001B[39;49m\u001B[43marray\u001B[49m\u001B[43m(\u001B[49m\u001B[43mx\u001B[49m\u001B[43m)\u001B[49m\u001B[38;5;241m.\u001B[39mflatten() \u001B[38;5;28;01mfor\u001B[39;00m x \u001B[38;5;129;01min\u001B[39;00m product_data\u001B[38;5;241m.\u001B[39mproduct_ids])\n",
      "\u001B[0;31mValueError\u001B[0m: setting an array element with a sequence. The requested array has an inhomogeneous shape after 1 dimensions. The detected shape was (2,) + inhomogeneous part."
     ]
    }
   ],
   "source": [
    "arr = np.array([np.array(x).flatten() for x in product_data.product_ids])\n"
   ],
   "metadata": {
    "collapsed": false
   }
  },
  {
   "cell_type": "code",
   "execution_count": null,
   "outputs": [],
   "source": [
    "#display(X_train)\n",
    "#output\n",
    "\n",
    "product_ids_flat = product_data.product_ids.to_numpy().reshape(-1)\n",
    "order_dates_flat = product_data.order_dates.to_numpy().reshape(-1)\n",
    "\n",
    "# Create the output variable\n",
    "output_variable = product_data.amounts.to_numpy().reshape(-1, 1)\n",
    "\n",
    "# Create the dataset\n",
    "dataset = tf.data.Dataset.from_tensor_slices((order_dates_flat, product_ids_flat, output_variable))\n",
    "\n",
    "# Fit the model\n",
    "history = model.fit(dataset, epochs=50, batch_size=32)\n"
   ],
   "metadata": {
    "collapsed": false
   }
  },
  {
   "cell_type": "code",
   "execution_count": null,
   "outputs": [],
   "source": [
    "display(order_dates_flat)"
   ],
   "metadata": {
    "collapsed": false
   }
  },
  {
   "cell_type": "code",
   "execution_count": null,
   "outputs": [],
   "source": [
    "y = []\n",
    "output_variable = product_data.amounts.to_numpy().reshape(-1, 1)\n",
    "dataset = tf.data.Dataset.from_tensor_slices((np.array(product_data.order_dates), np.array(product_data.product_ids), output_variable))\n",
    "history = model.fit(dataset, epochs=50, batch_size=32)"
   ],
   "metadata": {
    "collapsed": false
   }
  },
  {
   "cell_type": "code",
   "execution_count": null,
   "outputs": [],
   "source": [
    "# Evaluate the model\n",
    "loss, mse = model.evaluate([product_data.order_dates_test, product_data.product_ids_test, product_data.total_prices_test], product_data.total_prices_test)\n",
    "print(\"Test loss: {:.4f}, Test MSE: {:.4f}\".format(loss, mse))"
   ],
   "metadata": {
    "collapsed": false
   }
  },
  {
   "cell_type": "code",
   "execution_count": null,
   "outputs": [],
   "source": [
    "# split the data into training and testing sets\n",
    "#X = pd.get_dummies(product_data['product__id'], prefix='product')\n",
    "#y = product_data['amount']\n",
    "#X_train, X_test, y_train, y_test = train_test_split(X, y, test_size=0.2, random_state=42)"
   ],
   "metadata": {
    "collapsed": false
   }
  },
  {
   "cell_type": "code",
   "execution_count": null,
   "outputs": [],
   "source": [],
   "metadata": {
    "collapsed": false
   }
  }
 ],
 "metadata": {
  "kernelspec": {
   "display_name": "Python 3",
   "language": "python",
   "name": "python3"
  },
  "language_info": {
   "codemirror_mode": {
    "name": "ipython",
    "version": 2
   },
   "file_extension": ".py",
   "mimetype": "text/x-python",
   "name": "python",
   "nbconvert_exporter": "python",
   "pygments_lexer": "ipython2",
   "version": "2.7.6"
  }
 },
 "nbformat": 4,
 "nbformat_minor": 0
}
