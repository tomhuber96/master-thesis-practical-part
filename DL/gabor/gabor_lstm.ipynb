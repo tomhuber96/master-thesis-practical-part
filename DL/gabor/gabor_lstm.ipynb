{
 "cells": [
  {
   "cell_type": "code",
   "execution_count": 243,
   "metadata": {
    "collapsed": true
   },
   "outputs": [],
   "source": [
    "import pandas as pd\n",
    "from keras.layers import Input, Embedding, LSTM, Dense, Dot, Softmax, Concatenate, BatchNormalization, Attention\n",
    "from keras.models import Model\n",
    "import tensorflow as tf\n",
    "import numpy as np\n",
    "from keras.utils import pad_sequences\n",
    "from datetime import datetime\n",
    "import mlflow\n",
    "from sklearn.model_selection import train_test_split\n"
   ]
  },
  {
   "cell_type": "code",
   "execution_count": 244,
   "outputs": [],
   "source": [
    "activate_mlflow = False\n",
    "\n",
    "if activate_mlflow:\n",
    "    registry_uri = \"sqlite:///mlflow.db\"\n",
    "    tracking_uri = \"http://127.0.0.1:5000\"\n",
    "    exp_name = \"RNN Attention\"\n",
    "\n",
    "    mlflow.tracking.set_registry_uri(registry_uri)\n",
    "    mlflow.tracking.set_tracking_uri(tracking_uri)\n",
    "\n",
    "    try:\n",
    "        exp_id = mlflow.create_experiment(name=exp_name)\n",
    "    except:\n",
    "        exp_id = mlflow.get_experiment_by_name(name=exp_name).experiment_id\n",
    "\n",
    "    run_name = 'RNN_V1'\n",
    "    mlflow.start_run(run_name=run_name, experiment_id=exp_id)\n"
   ],
   "metadata": {
    "collapsed": false
   }
  },
  {
   "cell_type": "code",
   "execution_count": 245,
   "outputs": [],
   "source": [
    "basepath = '../../datasets/preprocessed_datasets/gabor/'\n",
    "product_data = pd.read_pickle(basepath +'orders_and_products_by_customer.pkl')"
   ],
   "metadata": {
    "collapsed": false
   }
  },
  {
   "cell_type": "code",
   "execution_count": 246,
   "outputs": [
    {
     "data": {
      "text/plain": "        customer_id                                order_ids  \\\n160987    7013599.0                                [7013596]   \n231686    8763751.0                                [8763748]   \n208594    8165582.0                                [8165577]   \n203547    8046416.0                                [8046413]   \n29274     3699204.0                                [3699199]   \n...             ...                                      ...   \n94804     5463976.0  [5463972, 10675661, 10678255, 10784343]   \n149446    6757441.0                                [6757438]   \n231076    8747984.0                                [8747982]   \n144901    6655589.0                                [6655583]   \n110119    5806267.0                                [5806264]   \n\n                                              product_ids  \\\n160987                                        [[6249186]]   \n231686                               [[7593437, 7791782]]   \n208594                                        [[7801012]]   \n203547                                        [[7693709]]   \n29274                                         [[3591638]]   \n...                                                   ...   \n94804   [[5338593, 5385582], [10434848], [10360014, 10...   \n149446                                        [[6555668]]   \n231076                                        [[7792763]]   \n144901                      [[6114057, 3694575, 6112360]]   \n110119                                        [[5516790]]   \n\n                                            product_names  \\\n160987                      [[PG1027 Boot Rauleder grau]]   \n231686  [[Pantolette Lackleder schwarz, Pantolette Gla...   \n208594                          [[Slipper Rauleder grau]]   \n203547                     [[Sneaker high Rauleder blau]]   \n29274             [[Sportliche Ballerina Rauleder beige]]   \n...                                                   ...   \n94804   [[Plateau Sandale Rauleder grün, Riemchensanda...   \n149446                  [[Chelsea Boot Glattleder braun]]   \n231076                    [[Sneaker low Glattleder weiß]]   \n144901  [[Schnürstiefelette Glattleder schwarz, Schnür...   \n110119                  [[Keilsandalette Rauleder beige]]   \n\n                                 amounts  \\\n160987                             [[1]]   \n231686                          [[1, 1]]   \n208594                             [[1]]   \n203547                             [[1]]   \n29274                              [[1]]   \n...                                  ...   \n94804   [[1, 1], [1], [1, 1], [1, 1, 1]]   \n149446                             [[1]]   \n231076                             [[1]]   \n144901                       [[1, 1, 1]]   \n110119                             [[1]]   \n\n                                             total_prices  \\\n160987                                          [[130.0]]   \n231686                                   [[99.95, 79.95]]   \n208594                                          [[99.95]]   \n203547                                          [[120.0]]   \n29274                                           [[97.43]]   \n...                                                   ...   \n94804   [[99.95, 89.95], [150.0], [99.95, 99.95], [120...   \n149446                                          [[125.0]]   \n231076                                          [[115.0]]   \n144901                            [[125.0, 140.0, 99.95]]   \n110119                                          [[89.95]]   \n\n                                              order_dates  \n160987                                         [[738067]]  \n231686                                 [[738300, 738300]]  \n208594                                         [[738236]]  \n203547                                         [[738218]]  \n29274                                          [[737633]]  \n...                                                   ...  \n94804   [[737875, 737875], [738553], [738553, 738553],...  \n149446                                         [[738037]]  \n231076                                         [[738298]]  \n144901                         [[738023, 738023, 738023]]  \n110119                                         [[737915]]  \n\n[1000 rows x 7 columns]",
      "text/html": "<div>\n<style scoped>\n    .dataframe tbody tr th:only-of-type {\n        vertical-align: middle;\n    }\n\n    .dataframe tbody tr th {\n        vertical-align: top;\n    }\n\n    .dataframe thead th {\n        text-align: right;\n    }\n</style>\n<table border=\"1\" class=\"dataframe\">\n  <thead>\n    <tr style=\"text-align: right;\">\n      <th></th>\n      <th>customer_id</th>\n      <th>order_ids</th>\n      <th>product_ids</th>\n      <th>product_names</th>\n      <th>amounts</th>\n      <th>total_prices</th>\n      <th>order_dates</th>\n    </tr>\n  </thead>\n  <tbody>\n    <tr>\n      <th>160987</th>\n      <td>7013599.0</td>\n      <td>[7013596]</td>\n      <td>[[6249186]]</td>\n      <td>[[PG1027 Boot Rauleder grau]]</td>\n      <td>[[1]]</td>\n      <td>[[130.0]]</td>\n      <td>[[738067]]</td>\n    </tr>\n    <tr>\n      <th>231686</th>\n      <td>8763751.0</td>\n      <td>[8763748]</td>\n      <td>[[7593437, 7791782]]</td>\n      <td>[[Pantolette Lackleder schwarz, Pantolette Gla...</td>\n      <td>[[1, 1]]</td>\n      <td>[[99.95, 79.95]]</td>\n      <td>[[738300, 738300]]</td>\n    </tr>\n    <tr>\n      <th>208594</th>\n      <td>8165582.0</td>\n      <td>[8165577]</td>\n      <td>[[7801012]]</td>\n      <td>[[Slipper Rauleder grau]]</td>\n      <td>[[1]]</td>\n      <td>[[99.95]]</td>\n      <td>[[738236]]</td>\n    </tr>\n    <tr>\n      <th>203547</th>\n      <td>8046416.0</td>\n      <td>[8046413]</td>\n      <td>[[7693709]]</td>\n      <td>[[Sneaker high Rauleder blau]]</td>\n      <td>[[1]]</td>\n      <td>[[120.0]]</td>\n      <td>[[738218]]</td>\n    </tr>\n    <tr>\n      <th>29274</th>\n      <td>3699204.0</td>\n      <td>[3699199]</td>\n      <td>[[3591638]]</td>\n      <td>[[Sportliche Ballerina Rauleder beige]]</td>\n      <td>[[1]]</td>\n      <td>[[97.43]]</td>\n      <td>[[737633]]</td>\n    </tr>\n    <tr>\n      <th>...</th>\n      <td>...</td>\n      <td>...</td>\n      <td>...</td>\n      <td>...</td>\n      <td>...</td>\n      <td>...</td>\n      <td>...</td>\n    </tr>\n    <tr>\n      <th>94804</th>\n      <td>5463976.0</td>\n      <td>[5463972, 10675661, 10678255, 10784343]</td>\n      <td>[[5338593, 5385582], [10434848], [10360014, 10...</td>\n      <td>[[Plateau Sandale Rauleder grün, Riemchensanda...</td>\n      <td>[[1, 1], [1], [1, 1], [1, 1, 1]]</td>\n      <td>[[99.95, 89.95], [150.0], [99.95, 99.95], [120...</td>\n      <td>[[737875, 737875], [738553], [738553, 738553],...</td>\n    </tr>\n    <tr>\n      <th>149446</th>\n      <td>6757441.0</td>\n      <td>[6757438]</td>\n      <td>[[6555668]]</td>\n      <td>[[Chelsea Boot Glattleder braun]]</td>\n      <td>[[1]]</td>\n      <td>[[125.0]]</td>\n      <td>[[738037]]</td>\n    </tr>\n    <tr>\n      <th>231076</th>\n      <td>8747984.0</td>\n      <td>[8747982]</td>\n      <td>[[7792763]]</td>\n      <td>[[Sneaker low Glattleder weiß]]</td>\n      <td>[[1]]</td>\n      <td>[[115.0]]</td>\n      <td>[[738298]]</td>\n    </tr>\n    <tr>\n      <th>144901</th>\n      <td>6655589.0</td>\n      <td>[6655583]</td>\n      <td>[[6114057, 3694575, 6112360]]</td>\n      <td>[[Schnürstiefelette Glattleder schwarz, Schnür...</td>\n      <td>[[1, 1, 1]]</td>\n      <td>[[125.0, 140.0, 99.95]]</td>\n      <td>[[738023, 738023, 738023]]</td>\n    </tr>\n    <tr>\n      <th>110119</th>\n      <td>5806267.0</td>\n      <td>[5806264]</td>\n      <td>[[5516790]]</td>\n      <td>[[Keilsandalette Rauleder beige]]</td>\n      <td>[[1]]</td>\n      <td>[[89.95]]</td>\n      <td>[[737915]]</td>\n    </tr>\n  </tbody>\n</table>\n<p>1000 rows × 7 columns</p>\n</div>"
     },
     "execution_count": 246,
     "metadata": {},
     "output_type": "execute_result"
    }
   ],
   "source": [
    "product_data = product_data.sample(n=1000)\n",
    "# convert dates to ordinal\n",
    "product_data['order_dates'] = product_data['order_dates'].apply(lambda x: [ [datetime.fromtimestamp(date).date().toordinal() for date in dateList] for dateList in x] )\n",
    "product_data"
   ],
   "metadata": {
    "collapsed": false
   }
  },
  {
   "cell_type": "code",
   "execution_count": 246,
   "outputs": [],
   "source": [],
   "metadata": {
    "collapsed": false
   }
  },
  {
   "cell_type": "code",
   "execution_count": 247,
   "outputs": [],
   "source": [
    "def bringToSameSizeOneDim(column):\n",
    "    max_length = max(column.apply(len))\n",
    "    return column.apply(lambda x: x + [0] * (max_length - len(x)))\n",
    "\n",
    "\n",
    "def bringToSameSizeTwoDimAndFlatten(column):\n",
    "    max_length = max(column.apply(lambda x: max(len(sublist) for sublist in x)))\n",
    "    new_column = column.apply(lambda x: [sublist + [0] * (max_length - len(sublist)) for sublist in x])\n",
    "    new_column = new_column.apply(lambda x: x + [[0] * max_length] * (max_length - len(x)))\n",
    "    return new_column.apply(lambda x: [item for sublist in x for item in sublist])\n",
    "\n",
    "# save for later use\n",
    "max_bought_products_per_order = max(product_data.product_ids.apply(lambda x: max(len(sublist) for sublist in x)))\n",
    "\n",
    "product_data.order_ids = bringToSameSizeOneDim(product_data.order_ids)\n",
    "product_data.product_ids = bringToSameSizeTwoDimAndFlatten(product_data.product_ids)\n",
    "product_data.amounts = bringToSameSizeTwoDimAndFlatten(product_data.amounts)\n",
    "product_data.total_prices = bringToSameSizeTwoDimAndFlatten(product_data.total_prices)\n",
    "product_data.order_dates = bringToSameSizeTwoDimAndFlatten(product_data.order_dates)\n"
   ],
   "metadata": {
    "collapsed": false
   }
  },
  {
   "cell_type": "code",
   "execution_count": 247,
   "outputs": [],
   "source": [
    "\n"
   ],
   "metadata": {
    "collapsed": false
   }
  },
  {
   "cell_type": "code",
   "execution_count": 248,
   "outputs": [],
   "source": [
    "\n",
    "\n",
    "def convertToSequence(column):\n",
    "    list = column.tolist()\n",
    "    max_length = max(len(x) for x in list)\n",
    "    return pad_sequences(list, maxlen=max_length, padding='post', value=0), max_length\n",
    "\n",
    "products_inputs, max_length_products = convertToSequence(product_data.product_ids)\n",
    "orders_inputs, max_length_order = convertToSequence(product_data.order_ids)\n",
    "dates_inputs, max_length_dates = convertToSequence(product_data.order_dates)\n",
    "target_data, _ = convertToSequence(product_data.amounts)\n",
    "target_data = np.expand_dims(target_data, axis=-1)\n",
    "num_targets = target_data.shape[1]\n",
    "\n",
    "\n",
    "\n",
    "\n",
    "#display(X_train, X_test, y_train, y_test)"
   ],
   "metadata": {
    "collapsed": false
   }
  },
  {
   "cell_type": "code",
   "execution_count": 249,
   "outputs": [],
   "source": [
    "#bring into same shape\n",
    "old_orders = np.copy(orders_inputs)\n",
    "shape_diff = products_inputs.shape[1] - orders_inputs.shape[1]\n",
    "orders_inputs = np.pad(orders_inputs, ((0, 0), (0, shape_diff)), mode='constant', constant_values=0)\n",
    "max_length_order = orders_inputs.shape[1]\n",
    "# products_inputs[-5], resized_orders_array[-5], old_orders[-5], max_length_products"
   ],
   "metadata": {
    "collapsed": false
   }
  },
  {
   "cell_type": "code",
   "execution_count": 250,
   "outputs": [
    {
     "data": {
      "text/plain": "110"
     },
     "metadata": {},
     "output_type": "display_data"
    },
    {
     "data": {
      "text/plain": "110"
     },
     "metadata": {},
     "output_type": "display_data"
    },
    {
     "data": {
      "text/plain": "(1000, 110, 1)"
     },
     "metadata": {},
     "output_type": "display_data"
    },
    {
     "data": {
      "text/plain": "array([6655583,       0,       0,       0,       0,       0,       0,\n             0,       0,       0,       0,       0,       0,       0,\n             0,       0,       0,       0,       0,       0,       0,\n             0,       0,       0,       0,       0,       0,       0,\n             0,       0,       0,       0,       0,       0,       0,\n             0,       0,       0,       0,       0,       0,       0,\n             0,       0,       0,       0,       0,       0,       0,\n             0,       0,       0,       0,       0,       0,       0,\n             0,       0,       0,       0,       0,       0,       0,\n             0,       0,       0,       0,       0,       0,       0,\n             0,       0,       0,       0,       0,       0,       0,\n             0,       0,       0,       0,       0,       0,       0,\n             0,       0,       0,       0,       0,       0,       0,\n             0,       0,       0,       0,       0,       0,       0,\n             0,       0,       0,       0,       0,       0,       0,\n             0,       0,       0,       0,       0], dtype=int32)"
     },
     "metadata": {},
     "output_type": "display_data"
    },
    {
     "data": {
      "text/plain": "array([6114057, 3694575, 6112360,       0,       0,       0,       0,\n             0,       0,       0,       0,       0,       0,       0,\n             0,       0,       0,       0,       0,       0,       0,\n             0,       0,       0,       0,       0,       0,       0,\n             0,       0,       0,       0,       0,       0,       0,\n             0,       0,       0,       0,       0,       0,       0,\n             0,       0,       0,       0,       0,       0,       0,\n             0,       0,       0,       0,       0,       0,       0,\n             0,       0,       0,       0,       0,       0,       0,\n             0,       0,       0,       0,       0,       0,       0,\n             0,       0,       0,       0,       0,       0,       0,\n             0,       0,       0,       0,       0,       0,       0,\n             0,       0,       0,       0,       0,       0,       0,\n             0,       0,       0,       0,       0,       0,       0,\n             0,       0,       0,       0,       0,       0,       0,\n             0,       0,       0,       0,       0], dtype=int32)"
     },
     "metadata": {},
     "output_type": "display_data"
    },
    {
     "data": {
      "text/plain": "(1000, 110)"
     },
     "metadata": {},
     "output_type": "display_data"
    }
   ],
   "source": [
    "display(max_length_dates, dates_inputs.shape[1], target_data.shape)\n",
    "# display(target_data)\n",
    "# display(dates_inputs)\n",
    "# display(orders_inputs)\n",
    "display(orders_inputs[-2])\n",
    "# display(products_inputs)\n",
    "display(products_inputs[-2])\n",
    "display(orders_inputs.shape)\n",
    "# 1602099712"
   ],
   "metadata": {
    "collapsed": false
   }
  },
  {
   "cell_type": "code",
   "execution_count": 251,
   "outputs": [],
   "source": [
    "num_dates = len(np.unique(product_data.order_dates))\n",
    "num_orders = len(np.unique(product_data.order_ids))\n",
    "num_products = len(np.unique(product_data.product_ids))\n",
    "max_index = max(np.max(dates_inputs), np.max(products_inputs))\n",
    "vocab_size = max_index + 1\n",
    "max_date = np.max(np.unique(product_data.order_dates.apply(np.unique).apply(max))) + 1\n",
    "max_product_ids = np.max(np.unique(product_data.product_ids.apply(np.unique).apply(max))) + 1\n",
    "max_order_ids = np.max(np.unique(product_data.order_ids.apply(np.unique).apply(max))) + 1"
   ],
   "metadata": {
    "collapsed": false
   }
  },
  {
   "cell_type": "code",
   "execution_count": 252,
   "outputs": [
    {
     "data": {
      "text/plain": "(11126064, 110, 10777081, 110, 110)"
     },
     "execution_count": 252,
     "metadata": {},
     "output_type": "execute_result"
    }
   ],
   "source": [
    "max_order_ids, max_length_order, max_product_ids, max_length_products, max_length_dates"
   ],
   "metadata": {
    "collapsed": false
   }
  },
  {
   "cell_type": "code",
   "execution_count": 253,
   "outputs": [
    {
     "name": "stdout",
     "output_type": "stream",
     "text": [
      "Model: \"model_11\"\n",
      "__________________________________________________________________________________________________\n",
      " Layer (type)                   Output Shape         Param #     Connected to                     \n",
      "==================================================================================================\n",
      " input_43 (InputLayer)          [(None, 110)]        0           []                               \n",
      "                                                                                                  \n",
      " input_44 (InputLayer)          [(None, 110)]        0           []                               \n",
      "                                                                                                  \n",
      " input_45 (InputLayer)          [(None, 110)]        0           []                               \n",
      "                                                                                                  \n",
      " embedding_42 (Embedding)       (None, 110, 16)      11817648    ['input_43[0][0]']               \n",
      "                                                                                                  \n",
      " embedding_43 (Embedding)       (None, 110, 16)      172433296   ['input_44[0][0]']               \n",
      "                                                                                                  \n",
      " embedding_44 (Embedding)       (None, 110, 16)      178017024   ['input_45[0][0]']               \n",
      "                                                                                                  \n",
      " concat_embedding_input (Concat  (None, 110, 48)     0           ['embedding_42[0][0]',           \n",
      " enate)                                                           'embedding_43[0][0]',           \n",
      "                                                                  'embedding_44[0][0]']           \n",
      "                                                                                                  \n",
      " lstm_23 (LSTM)                 (None, 110, 64)      28928       ['concat_embedding_input[0][0]'] \n",
      "                                                                                                  \n",
      " tf.math.equal_15 (TFOpLambda)  (None, 110)          0           ['input_44[0][0]']               \n",
      "                                                                                                  \n",
      " batchnorm_lstm (BatchNormaliza  (None, 110, 64)     256         ['lstm_23[0][0]']                \n",
      " tion)                                                                                            \n",
      "                                                                                                  \n",
      " tf.math.logical_not_15 (TFOpLa  (None, 110)         0           ['tf.math.equal_15[0][0]']       \n",
      " mbda)                                                                                            \n",
      "                                                                                                  \n",
      " attention (Attention)          (None, 110, 64)      0           ['batchnorm_lstm[0][0]',         \n",
      "                                                                  'batchnorm_lstm[0][0]',         \n",
      "                                                                  'tf.math.logical_not_15[0][0]', \n",
      "                                                                  'tf.math.logical_not_15[0][0]'] \n",
      "                                                                                                  \n",
      " dense_11 (Dense)               (None, 110, 110)     7150        ['attention[0][0]']              \n",
      "                                                                                                  \n",
      "==================================================================================================\n",
      "Total params: 362,304,302\n",
      "Trainable params: 362,304,174\n",
      "Non-trainable params: 128\n",
      "__________________________________________________________________________________________________\n"
     ]
    }
   ],
   "source": [
    "date_embedding_dim = 16\n",
    "product_embedding_dim = 16\n",
    "order_embedding_dim = 16\n",
    "date_inputs = Input(shape=(max_length_dates,))\n",
    "product_inputs = Input(shape=(max_length_products,))\n",
    "order_inputs = Input(shape=(max_length_order,))\n",
    "\n",
    "encoding_padding_mask = tf.math.logical_not(tf.math.equal(product_inputs, 0))\n",
    "\n",
    "date_emb = Embedding(max_date, date_embedding_dim, input_length=max_length_dates)(date_inputs)\n",
    "product_emb = Embedding(max_product_ids, product_embedding_dim, input_length=max_length_products)(product_inputs)\n",
    "order_emb = Embedding(max_order_ids, order_embedding_dim, input_length=max_length_order)(order_inputs)\n",
    "\n",
    "\n",
    "concat_embedding_input = Concatenate(\n",
    "    axis=-1, name='concat_embedding_input')([date_emb, product_emb, order_emb])\n",
    "\n",
    "batchnorm_inputs = BatchNormalization(\n",
    "    name='batchnorm_inputs')(concat_embedding_input)\n",
    "# LSTM layer\n",
    "lstm = LSTM(64, return_sequences=True)(concat_embedding_input)\n",
    "\n",
    "lstm = BatchNormalization(name='batchnorm_lstm')(lstm)\n",
    "# LSTM layer\n",
    "lstm = LSTM(64, return_sequences=True)(concat_embedding_input)\n",
    "\n",
    "lstm = BatchNormalization(name='batchnorm_lstm')(lstm)\n",
    "\n",
    "att = Attention(use_scale=False,\n",
    "                name='attention')(inputs=[lstm, lstm],\n",
    "                                  mask=[encoding_padding_mask,\n",
    "                                        encoding_padding_mask])\n",
    "\n",
    "output = Dense(num_targets)(att)\n",
    "model = Model(inputs=[date_inputs, product_inputs, order_inputs], outputs=output)\n",
    "model.compile(loss='mean_squared_error', optimizer='adam', metrics=['mse', 'mae', 'accuracy'])\n",
    "model.summary()"
   ],
   "metadata": {
    "collapsed": false
   }
  },
  {
   "cell_type": "code",
   "execution_count": 254,
   "outputs": [],
   "source": [
    "# X_train, X_test, y_train, y_test = train_test_split(\n",
    "#     [dates_inputs, products_inputs, orders_inputs], target_data, test_size=0.33, random_state=42)"
   ],
   "metadata": {
    "collapsed": false
   }
  },
  {
   "cell_type": "code",
   "execution_count": 255,
   "outputs": [
    {
     "name": "stdout",
     "output_type": "stream",
     "text": [
      "Epoch 1/3\n"
     ]
    },
    {
     "name": "stderr",
     "output_type": "stream",
     "text": [
      "2023-06-10 10:26:14.299936: W tensorflow/core/grappler/costs/op_level_cost_estimator.cc:690] Error in PredictCost() for the op: op: \"Softmax\" attr { key: \"T\" value { type: DT_FLOAT } } inputs { dtype: DT_FLOAT shape { unknown_rank: true } } device { type: \"CPU\" model: \"0\" num_cores: 10 environment { key: \"cpu_instruction_set\" value: \"ARM NEON\" } environment { key: \"eigen\" value: \"3.4.90\" } l1_cache_size: 16384 l2_cache_size: 524288 l3_cache_size: 524288 memory_size: 268435456 } outputs { dtype: DT_FLOAT shape { unknown_rank: true } }\n"
     ]
    },
    {
     "name": "stdout",
     "output_type": "stream",
     "text": [
      "32/32 [==============================] - 29s 841ms/step - loss: 0.3159 - mse: 0.2943 - mae: 0.3845 - accuracy: 0.0000e+00\n",
      "Epoch 2/3\n",
      "32/32 [==============================] - 27s 841ms/step - loss: 0.0156 - mse: 0.0158 - mae: 0.0917 - accuracy: 0.0428\n",
      "Epoch 3/3\n",
      "32/32 [==============================] - 25s 765ms/step - loss: 0.0091 - mse: 0.0089 - mae: 0.0642 - accuracy: 5.4915e-04\n"
     ]
    }
   ],
   "source": [
    "epochs = 3\n",
    "batch_size = 32\n",
    "history = model.fit([dates_inputs, products_inputs, orders_inputs], target_data, epochs=epochs, batch_size=batch_size)  # Adjust epochs and batch size as needed"
   ],
   "metadata": {
    "collapsed": false
   }
  },
  {
   "cell_type": "code",
   "execution_count": 256,
   "outputs": [],
   "source": [
    "if activate_mlflow:\n",
    "    #mlflow.keras.log_model(model, \"rnn_model\")\n",
    "    mlflow.log_param('epochs', epochs)\n",
    "    mlflow.log_param('batch_size', batch_size)"
   ],
   "metadata": {
    "collapsed": false
   }
  },
  {
   "cell_type": "code",
   "execution_count": 257,
   "outputs": [
    {
     "data": {
      "text/plain": "{'loss': [0.31592515110969543, 0.01564685069024563, 0.009094079956412315],\n 'mse': [0.2943454086780548, 0.01583845540881157, 0.008871468715369701],\n 'mae': [0.384521484375, 0.09172148257493973, 0.06417300552129745],\n 'accuracy': [0.0, 0.0428336076438427, 0.0005491488263942301]}"
     },
     "metadata": {},
     "output_type": "display_data"
    }
   ],
   "source": [
    "display(history.history)"
   ],
   "metadata": {
    "collapsed": false
   }
  },
  {
   "cell_type": "code",
   "execution_count": 258,
   "outputs": [
    {
     "name": "stdout",
     "output_type": "stream",
     "text": [
      "10/32 [========>.....................] - ETA: 0s - loss: 0.9195 - mse: 0.9167 - mae: 0.9535 - accuracy: 0.0000e+00"
     ]
    },
    {
     "name": "stderr",
     "output_type": "stream",
     "text": [
      "2023-06-10 10:27:34.069497: W tensorflow/core/grappler/costs/op_level_cost_estimator.cc:690] Error in PredictCost() for the op: op: \"Softmax\" attr { key: \"T\" value { type: DT_FLOAT } } inputs { dtype: DT_FLOAT shape { unknown_rank: true } } device { type: \"CPU\" model: \"0\" num_cores: 10 environment { key: \"cpu_instruction_set\" value: \"ARM NEON\" } environment { key: \"eigen\" value: \"3.4.90\" } l1_cache_size: 16384 l2_cache_size: 524288 l3_cache_size: 524288 memory_size: 268435456 } outputs { dtype: DT_FLOAT shape { unknown_rank: true } }\n"
     ]
    },
    {
     "name": "stdout",
     "output_type": "stream",
     "text": [
      "32/32 [==============================] - 1s 12ms/step - loss: 0.9066 - mse: 0.9056 - mae: 0.9497 - accuracy: 0.0000e+00\n",
      "Test loss: 0.9066, Test MSE: 0.9056\n",
      "Test MAE: 0.9497, Test Accuracy: 0.0000\n"
     ]
    }
   ],
   "source": [
    "# Evaluate the model\n",
    "loss, mse, mae, acc = model.evaluate([dates_inputs, products_inputs, orders_inputs], target_data)\n",
    "print(\"Test loss: {:.4f}, Test MSE: {:.4f}\".format(loss, mse))\n",
    "print(\"Test MAE: {:.4f}, Test Accuracy: {:.4f}\".format(mae, acc))\n",
    "if activate_mlflow:\n",
    "    mlflow.log_metric('test loss', loss)\n",
    "    mlflow.log_metric('test mse', mse)\n",
    "    mlflow.log_metric('test mae', mae)\n",
    "    mlflow.log_metric('test accuracy', acc)"
   ],
   "metadata": {
    "collapsed": false
   }
  },
  {
   "cell_type": "markdown",
   "source": [],
   "metadata": {
    "collapsed": false
   }
  },
  {
   "cell_type": "code",
   "execution_count": 259,
   "outputs": [],
   "source": [
    "if activate_mlflow:\n",
    "    mlflow.end_run()"
   ],
   "metadata": {
    "collapsed": false
   }
  },
  {
   "cell_type": "code",
   "execution_count": 259,
   "outputs": [],
   "source": [],
   "metadata": {
    "collapsed": false
   }
  }
 ],
 "metadata": {
  "kernelspec": {
   "display_name": "Python 3",
   "language": "python",
   "name": "python3"
  },
  "language_info": {
   "codemirror_mode": {
    "name": "ipython",
    "version": 2
   },
   "file_extension": ".py",
   "mimetype": "text/x-python",
   "name": "python",
   "nbconvert_exporter": "python",
   "pygments_lexer": "ipython2",
   "version": "2.7.6"
  }
 },
 "nbformat": 4,
 "nbformat_minor": 0
}
