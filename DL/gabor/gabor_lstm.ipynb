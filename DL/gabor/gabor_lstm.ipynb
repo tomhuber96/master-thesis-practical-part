{
 "cells": [
  {
   "cell_type": "code",
   "execution_count": null,
   "metadata": {
    "collapsed": true
   },
   "outputs": [],
   "source": [
    "from sklearn.model_selection import train_test_split\n",
    "from sklearn.ensemble import RandomForestRegressor\n",
    "from sklearn.metrics import mean_squared_error, mean_absolute_error, r2_score\n",
    "import pandas as pd"
   ]
  },
  {
   "cell_type": "code",
   "execution_count": null,
   "outputs": [],
   "source": [
    "basepath = '../../datasets/preprocessed_datasets/gabor/'\n",
    "product_data = pd.read_pickle(basepath +'product_data.pkl')\n",
    "product_data"
   ],
   "metadata": {
    "collapsed": false
   }
  },
  {
   "cell_type": "code",
   "execution_count": null,
   "outputs": [],
   "source": [
    "df_recsys = product_data.drop(['order_id', 'orderdate', 'total_order_price', 'customer__id', 'productName', 'totalPrice', 'productSizeEu', 'o_parentId', 'brand__id', 'mainCategory__id', 'name', 'b2cPrice', 'indicatorAdvertisement', 'indicatorWedding', 'indicatorSale', 'weight__value', 'color', 'productColorName', 'productType', 'materialPm', 'material', 'line', 'originCountry', 'gender'], axis=1)\n",
    "df_recsys = df_recsys.groupby('product__id').agg({'amount': 'sum'})\n",
    "df_recsys.reset_index(inplace=True)\n",
    "df_recsys['product__id'] = pd.Categorical(df_recsys['product__id'])\n",
    "\n",
    "#df_recsys = df_recsys.sample(n=10000)\n",
    "df_recsys"
   ],
   "metadata": {
    "collapsed": false
   }
  },
  {
   "cell_type": "code",
   "execution_count": null,
   "outputs": [],
   "source": [
    "# split the data into training and testing sets\n",
    "X = pd.get_dummies(df_recsys['product__id'], prefix='product')\n",
    "y = df_recsys['amount']\n",
    "X_train, X_test, y_train, y_test = train_test_split(X, y, test_size=0.2, random_state=42)"
   ],
   "metadata": {
    "collapsed": false
   }
  },
  {
   "cell_type": "code",
   "execution_count": null,
   "outputs": [],
   "source": [],
   "metadata": {
    "collapsed": false
   }
  }
 ],
 "metadata": {
  "kernelspec": {
   "display_name": "Python 3",
   "language": "python",
   "name": "python3"
  },
  "language_info": {
   "codemirror_mode": {
    "name": "ipython",
    "version": 2
   },
   "file_extension": ".py",
   "mimetype": "text/x-python",
   "name": "python",
   "nbconvert_exporter": "python",
   "pygments_lexer": "ipython2",
   "version": "2.7.6"
  }
 },
 "nbformat": 4,
 "nbformat_minor": 0
}
