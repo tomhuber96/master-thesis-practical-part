{
 "cells": [
  {
   "cell_type": "code",
   "execution_count": 182,
   "metadata": {
    "collapsed": true
   },
   "outputs": [],
   "source": [
    "import pandas as pd\n",
    "from keras.layers import Input, Embedding, LSTM, Dense, Dot, Softmax, Concatenate, BatchNormalization, Attention\n",
    "from keras.models import Model\n",
    "import tensorflow as tf\n",
    "import numpy as np\n",
    "from keras.utils import pad_sequences\n",
    "from datetime import datetime"
   ]
  },
  {
   "cell_type": "code",
   "execution_count": 183,
   "outputs": [],
   "source": [
    "basepath = '../../datasets/preprocessed_datasets/gabor/'\n",
    "product_data = pd.read_pickle(basepath +'orders_and_products_by_customer.pkl')"
   ],
   "metadata": {
    "collapsed": false
   }
  },
  {
   "cell_type": "code",
   "execution_count": 184,
   "outputs": [
    {
     "data": {
      "text/plain": "        customer_id   order_ids           product_ids  \\\n181057    7503484.0   [7503482]           [[3555072]]   \n338149   10735271.0  [10735314]  [[8501588, 7789353]]   \n58136     4606091.0   [4606088]           [[3788155]]   \n289701    9827665.0   [9827663]           [[8499597]]   \n278205    9641298.0   [9641296]           [[8488231]]   \n...             ...         ...                   ...   \n219640    8446444.0   [8446441]           [[7591358]]   \n223017    8546041.0   [8546037]  [[7592779, 7592229]]   \n59799     4646119.0   [4646117]           [[3844418]]   \n220393    8469823.0   [8469821]           [[3847667]]   \n154116    6863237.0   [6863211]  [[3845626, 3481847]]   \n\n                                            product_names   amounts  \\\n181057                     [[Chelsea Boot Rauleder blau]]     [[1]]   \n338149  [[Sneaker low Materialmix Leder multicolour, S...  [[1, 1]]   \n58136                   [[Sneaker high Rauleder schwarz]]     [[1]]   \n289701                     [[Chelsea Boot Rauleder grau]]     [[1]]   \n278205                   [[Sneaker low Rauleder schwarz]]     [[1]]   \n...                                                   ...       ...   \n219640                    [[Spangenpumps Rauleder beige]]     [[1]]   \n223017  [[Slingpumps Glattleder weiß, Slingpumps Raule...  [[1, 1]]   \n59799              [[Plateau Stiefel Glattleder schwarz]]     [[1]]   \n220393                     [[Spangenpumps Rauleder blau]]     [[1]]   \n154116  [[Keilpumps Rauleder blau, Eleganter Pumps Rau...  [[1, 1]]   \n\n            total_prices         order_dates  \n181057         [[115.0]]          [[738116]]  \n338149    [[69.0, 89.0]]  [[738560, 738560]]  \n58136         [[116.97]]          [[737736]]  \n289701         [[99.95]]          [[738442]]  \n278205         [[140.0]]          [[738423]]  \n...                  ...                 ...  \n219640         [[99.95]]          [[738269]]  \n223017  [[99.95, 99.95]]  [[738278, 738278]]  \n59799         [[175.46]]          [[737741]]  \n220393         [[99.95]]          [[738271]]  \n154116  [[99.95, 99.95]]  [[738052, 738052]]  \n\n[1000 rows x 7 columns]",
      "text/html": "<div>\n<style scoped>\n    .dataframe tbody tr th:only-of-type {\n        vertical-align: middle;\n    }\n\n    .dataframe tbody tr th {\n        vertical-align: top;\n    }\n\n    .dataframe thead th {\n        text-align: right;\n    }\n</style>\n<table border=\"1\" class=\"dataframe\">\n  <thead>\n    <tr style=\"text-align: right;\">\n      <th></th>\n      <th>customer_id</th>\n      <th>order_ids</th>\n      <th>product_ids</th>\n      <th>product_names</th>\n      <th>amounts</th>\n      <th>total_prices</th>\n      <th>order_dates</th>\n    </tr>\n  </thead>\n  <tbody>\n    <tr>\n      <th>181057</th>\n      <td>7503484.0</td>\n      <td>[7503482]</td>\n      <td>[[3555072]]</td>\n      <td>[[Chelsea Boot Rauleder blau]]</td>\n      <td>[[1]]</td>\n      <td>[[115.0]]</td>\n      <td>[[738116]]</td>\n    </tr>\n    <tr>\n      <th>338149</th>\n      <td>10735271.0</td>\n      <td>[10735314]</td>\n      <td>[[8501588, 7789353]]</td>\n      <td>[[Sneaker low Materialmix Leder multicolour, S...</td>\n      <td>[[1, 1]]</td>\n      <td>[[69.0, 89.0]]</td>\n      <td>[[738560, 738560]]</td>\n    </tr>\n    <tr>\n      <th>58136</th>\n      <td>4606091.0</td>\n      <td>[4606088]</td>\n      <td>[[3788155]]</td>\n      <td>[[Sneaker high Rauleder schwarz]]</td>\n      <td>[[1]]</td>\n      <td>[[116.97]]</td>\n      <td>[[737736]]</td>\n    </tr>\n    <tr>\n      <th>289701</th>\n      <td>9827665.0</td>\n      <td>[9827663]</td>\n      <td>[[8499597]]</td>\n      <td>[[Chelsea Boot Rauleder grau]]</td>\n      <td>[[1]]</td>\n      <td>[[99.95]]</td>\n      <td>[[738442]]</td>\n    </tr>\n    <tr>\n      <th>278205</th>\n      <td>9641298.0</td>\n      <td>[9641296]</td>\n      <td>[[8488231]]</td>\n      <td>[[Sneaker low Rauleder schwarz]]</td>\n      <td>[[1]]</td>\n      <td>[[140.0]]</td>\n      <td>[[738423]]</td>\n    </tr>\n    <tr>\n      <th>...</th>\n      <td>...</td>\n      <td>...</td>\n      <td>...</td>\n      <td>...</td>\n      <td>...</td>\n      <td>...</td>\n      <td>...</td>\n    </tr>\n    <tr>\n      <th>219640</th>\n      <td>8446444.0</td>\n      <td>[8446441]</td>\n      <td>[[7591358]]</td>\n      <td>[[Spangenpumps Rauleder beige]]</td>\n      <td>[[1]]</td>\n      <td>[[99.95]]</td>\n      <td>[[738269]]</td>\n    </tr>\n    <tr>\n      <th>223017</th>\n      <td>8546041.0</td>\n      <td>[8546037]</td>\n      <td>[[7592779, 7592229]]</td>\n      <td>[[Slingpumps Glattleder weiß, Slingpumps Raule...</td>\n      <td>[[1, 1]]</td>\n      <td>[[99.95, 99.95]]</td>\n      <td>[[738278, 738278]]</td>\n    </tr>\n    <tr>\n      <th>59799</th>\n      <td>4646119.0</td>\n      <td>[4646117]</td>\n      <td>[[3844418]]</td>\n      <td>[[Plateau Stiefel Glattleder schwarz]]</td>\n      <td>[[1]]</td>\n      <td>[[175.46]]</td>\n      <td>[[737741]]</td>\n    </tr>\n    <tr>\n      <th>220393</th>\n      <td>8469823.0</td>\n      <td>[8469821]</td>\n      <td>[[3847667]]</td>\n      <td>[[Spangenpumps Rauleder blau]]</td>\n      <td>[[1]]</td>\n      <td>[[99.95]]</td>\n      <td>[[738271]]</td>\n    </tr>\n    <tr>\n      <th>154116</th>\n      <td>6863237.0</td>\n      <td>[6863211]</td>\n      <td>[[3845626, 3481847]]</td>\n      <td>[[Keilpumps Rauleder blau, Eleganter Pumps Rau...</td>\n      <td>[[1, 1]]</td>\n      <td>[[99.95, 99.95]]</td>\n      <td>[[738052, 738052]]</td>\n    </tr>\n  </tbody>\n</table>\n<p>1000 rows × 7 columns</p>\n</div>"
     },
     "execution_count": 184,
     "metadata": {},
     "output_type": "execute_result"
    }
   ],
   "source": [
    "product_data = product_data.sample(n=1000)\n",
    "# convert dates to ordinal\n",
    "product_data['order_dates'] = product_data['order_dates'].apply(lambda x: [ [datetime.fromtimestamp(date).date().toordinal() for date in dateList] for dateList in x] )\n",
    "product_data"
   ],
   "metadata": {
    "collapsed": false
   }
  },
  {
   "cell_type": "code",
   "execution_count": 185,
   "outputs": [],
   "source": [
    "def bringToSameSizeOneDim(column):\n",
    "    max_length = max(column.apply(len))\n",
    "    return column.apply(lambda x: x + [0] * (max_length - len(x)))\n",
    "\n",
    "\n",
    "def bringToSameSizeTwoDimAndFlatten(column):\n",
    "    max_length = max(column.apply(lambda x: max(len(sublist) for sublist in x)))\n",
    "    new_column = column.apply(lambda x: [sublist + [0] * (max_length - len(sublist)) for sublist in x])\n",
    "    new_column = new_column.apply(lambda x: x + [[0] * max_length] * (max_length - len(x)))\n",
    "    return new_column.apply(lambda x: [item for sublist in x for item in sublist])\n",
    "\n",
    "product_data.order_ids = bringToSameSizeOneDim(product_data.order_ids)\n",
    "product_data.product_ids = bringToSameSizeTwoDimAndFlatten(product_data.product_ids)\n",
    "product_data.amounts = bringToSameSizeTwoDimAndFlatten(product_data.amounts)\n",
    "product_data.total_prices = bringToSameSizeTwoDimAndFlatten(product_data.total_prices)\n",
    "product_data.order_dates = bringToSameSizeTwoDimAndFlatten(product_data.order_dates)\n"
   ],
   "metadata": {
    "collapsed": false
   }
  },
  {
   "cell_type": "code",
   "execution_count": 186,
   "outputs": [],
   "source": [
    "def convertToSequence(column):\n",
    "    list = column.tolist()\n",
    "    max_length = max(len(x) for x in list)\n",
    "    return pad_sequences(list, maxlen=max_length, padding='post', value=0), max_length\n",
    "\n",
    "products_inputs, max_length_products = convertToSequence(product_data.product_ids)\n",
    "dates_inputs, max_length_dates = convertToSequence(product_data.order_dates)\n",
    "target_data, _ = convertToSequence(product_data.amounts)\n",
    "target_data = np.expand_dims(target_data, axis=-1)\n",
    "num_targets = target_data.shape[1]"
   ],
   "metadata": {
    "collapsed": false
   }
  },
  {
   "cell_type": "code",
   "execution_count": 187,
   "outputs": [
    {
     "data": {
      "text/plain": "80"
     },
     "metadata": {},
     "output_type": "display_data"
    },
    {
     "data": {
      "text/plain": "80"
     },
     "metadata": {},
     "output_type": "display_data"
    },
    {
     "data": {
      "text/plain": "(1000, 80, 1)"
     },
     "metadata": {},
     "output_type": "display_data"
    },
    {
     "data": {
      "text/plain": "array([[[1],\n        [0],\n        [0],\n        ...,\n        [0],\n        [0],\n        [0]],\n\n       [[1],\n        [1],\n        [0],\n        ...,\n        [0],\n        [0],\n        [0]],\n\n       [[1],\n        [0],\n        [0],\n        ...,\n        [0],\n        [0],\n        [0]],\n\n       ...,\n\n       [[1],\n        [0],\n        [0],\n        ...,\n        [0],\n        [0],\n        [0]],\n\n       [[1],\n        [0],\n        [0],\n        ...,\n        [0],\n        [0],\n        [0]],\n\n       [[1],\n        [1],\n        [0],\n        ...,\n        [0],\n        [0],\n        [0]]], dtype=int32)"
     },
     "metadata": {},
     "output_type": "display_data"
    },
    {
     "data": {
      "text/plain": "array([[738116,      0,      0, ...,      0,      0,      0],\n       [738560, 738560,      0, ...,      0,      0,      0],\n       [737736,      0,      0, ...,      0,      0,      0],\n       ...,\n       [737741,      0,      0, ...,      0,      0,      0],\n       [738271,      0,      0, ...,      0,      0,      0],\n       [738052, 738052,      0, ...,      0,      0,      0]], dtype=int32)"
     },
     "metadata": {},
     "output_type": "display_data"
    },
    {
     "data": {
      "text/plain": "array([[3555072,       0,       0, ...,       0,       0,       0],\n       [8501588, 7789353,       0, ...,       0,       0,       0],\n       [3788155,       0,       0, ...,       0,       0,       0],\n       ...,\n       [3844418,       0,       0, ...,       0,       0,       0],\n       [3847667,       0,       0, ...,       0,       0,       0],\n       [3845626, 3481847,       0, ...,       0,       0,       0]],\n      dtype=int32)"
     },
     "metadata": {},
     "output_type": "display_data"
    }
   ],
   "source": [
    "display(max_length_dates, dates_inputs.shape[1], target_data.shape)\n",
    "display(target_data)\n",
    "display(dates_inputs)\n",
    "display(products_inputs)\n",
    "# 1602099712"
   ],
   "metadata": {
    "collapsed": false
   }
  },
  {
   "cell_type": "code",
   "execution_count": 188,
   "outputs": [],
   "source": [
    "# Define the model architecture\n",
    "# num_orders = sum(len(order) for order in product_data.order_ids)\n",
    "# num_products =  sum(len(order) for order in product_data.product_ids)\n",
    "# num_units = len([amount for order_amounts in product_data.amounts for amount in order_amounts])\n",
    "# num_prices = len([amount for order_amounts in product_data.total_prices for amount in order_amounts])\n",
    "# num_dates = len([amount for order_amounts in product_data.order_dates for amount in order_amounts])\n",
    "#\n",
    "# print(num_orders, num_products, num_units, num_prices, num_dates)"
   ],
   "metadata": {
    "collapsed": false
   }
  },
  {
   "cell_type": "code",
   "execution_count": 189,
   "outputs": [],
   "source": [
    "num_dates = len(np.unique(product_data.order_dates))\n",
    "num_products = len(np.unique(product_data.product_ids))\n",
    "max_index = max(np.max(dates_inputs), np.max(products_inputs))\n",
    "vocab_size = max_index + 1\n",
    "max_date = np.max(np.unique(product_data.order_dates.apply(np.unique).apply(max))) + 1\n",
    "max_product_ids = np.max(np.unique(product_data.product_ids.apply(np.unique).apply(max))) + 1"
   ],
   "metadata": {
    "collapsed": false
   }
  },
  {
   "cell_type": "code",
   "execution_count": 190,
   "outputs": [
    {
     "name": "stdout",
     "output_type": "stream",
     "text": [
      "(1000, 80)\n",
      "(1000, 80)\n",
      "(1000, 80, 1)\n",
      "785 990 738603 10787222\n",
      "Model: \"model_10\"\n",
      "__________________________________________________________________________________________________\n",
      " Layer (type)                   Output Shape         Param #     Connected to                     \n",
      "==================================================================================================\n",
      " input_23 (InputLayer)          [(None, 80)]         0           []                               \n",
      "                                                                                                  \n",
      " input_24 (InputLayer)          [(None, 80)]         0           []                               \n",
      "                                                                                                  \n",
      " embedding_21 (Embedding)       (None, 80, 16)       11817648    ['input_23[0][0]']               \n",
      "                                                                                                  \n",
      " embedding_22 (Embedding)       (None, 80, 16)       172595552   ['input_24[0][0]']               \n",
      "                                                                                                  \n",
      " concat_embedding_input (Concat  (None, 80, 32)      0           ['embedding_21[0][0]',           \n",
      " enate)                                                           'embedding_22[0][0]']           \n",
      "                                                                                                  \n",
      " lstm_10 (LSTM)                 (None, 80, 64)       24832       ['concat_embedding_input[0][0]'] \n",
      "                                                                                                  \n",
      " tf.math.equal_11 (TFOpLambda)  (None, 80)           0           ['input_24[0][0]']               \n",
      "                                                                                                  \n",
      " batchnorm_lstm (BatchNormaliza  (None, 80, 64)      256         ['lstm_10[0][0]']                \n",
      " tion)                                                                                            \n",
      "                                                                                                  \n",
      " tf.math.logical_not_11 (TFOpLa  (None, 80)          0           ['tf.math.equal_11[0][0]']       \n",
      " mbda)                                                                                            \n",
      "                                                                                                  \n",
      " attention (Attention)          (None, 80, 64)       0           ['batchnorm_lstm[0][0]',         \n",
      "                                                                  'batchnorm_lstm[0][0]',         \n",
      "                                                                  'tf.math.logical_not_11[0][0]', \n",
      "                                                                  'tf.math.logical_not_11[0][0]'] \n",
      "                                                                                                  \n",
      " dense_10 (Dense)               (None, 80, 80)       5200        ['attention[0][0]']              \n",
      "                                                                                                  \n",
      "==================================================================================================\n",
      "Total params: 184,443,488\n",
      "Trainable params: 184,443,360\n",
      "Non-trainable params: 128\n",
      "__________________________________________________________________________________________________\n"
     ]
    }
   ],
   "source": [
    "from keras.layers import Reshape\n",
    "date_embedding_dim = 16\n",
    "product_embedding_dim = 16\n",
    "date_inputs = Input(shape=(max_length_dates,))\n",
    "product_inputs = Input(shape=(max_length_products,))\n",
    "\n",
    "print(dates_inputs.shape)\n",
    "print(products_inputs.shape)\n",
    "print(target_data.shape)\n",
    "print(num_dates, num_products, max_date, max_product_ids)\n",
    "encoding_padding_mask = tf.math.logical_not(tf.math.equal(product_inputs, 0))\n",
    "\n",
    "# Embedding layers\n",
    "#old version\n",
    "#date_emb = Embedding(num_dates, 16, input_length=max_length_dates)(date_inputs)\n",
    "#product_emb = Embedding(num_products, 16, input_length=max_length_products)(product_inputs)\n",
    "\n",
    "#improved version loads to long\n",
    "#date_emb = Embedding(max_date, date_embedding_dim)(date_inputs)\n",
    "#product_emb = Embedding(max_product_ids, product_embedding_dim)(product_inputs)\n",
    "\n",
    "date_emb = Embedding(max_date, date_embedding_dim, input_length=max_length_dates)(date_inputs)\n",
    "product_emb = Embedding(max_product_ids, product_embedding_dim, input_length=max_length_products)(product_inputs)\n",
    "\n",
    "\n",
    "concat_embedding_input = Concatenate(\n",
    "    axis=-1, name='concat_embedding_input')([date_emb, product_emb])\n",
    "\n",
    "batchnorm_inputs = BatchNormalization(\n",
    "    name='batchnorm_inputs')(concat_embedding_input)\n",
    "# LSTM layer\n",
    "lstm = LSTM(64, return_sequences=True)(concat_embedding_input)\n",
    "\n",
    "lstm = BatchNormalization(name='batchnorm_lstm')(lstm)\n",
    "\n",
    "att = Attention(use_scale=False,\n",
    "                name='attention')(inputs=[lstm, lstm],\n",
    "                                  mask=[encoding_padding_mask,\n",
    "                                        encoding_padding_mask])\n",
    "\n",
    "output = Dense(num_targets)(att)\n",
    "# Define the model\n",
    "model = Model(inputs=[date_inputs, product_inputs], outputs=output)\n",
    "# Compile the model\n",
    "model.compile(loss='mean_squared_error', optimizer='adam', metrics=['mse', 'mae', 'accuracy'])\n",
    "model.summary()"
   ],
   "metadata": {
    "collapsed": false
   }
  },
  {
   "cell_type": "code",
   "execution_count": 191,
   "outputs": [
    {
     "name": "stdout",
     "output_type": "stream",
     "text": [
      "Epoch 1/15\n"
     ]
    },
    {
     "name": "stderr",
     "output_type": "stream",
     "text": [
      "2023-06-04 14:30:26.233255: W tensorflow/core/grappler/costs/op_level_cost_estimator.cc:690] Error in PredictCost() for the op: op: \"Softmax\" attr { key: \"T\" value { type: DT_FLOAT } } inputs { dtype: DT_FLOAT shape { unknown_rank: true } } device { type: \"CPU\" model: \"0\" num_cores: 10 environment { key: \"cpu_instruction_set\" value: \"ARM NEON\" } environment { key: \"eigen\" value: \"3.4.90\" } l1_cache_size: 16384 l2_cache_size: 524288 l3_cache_size: 524288 memory_size: 268435456 } outputs { dtype: DT_FLOAT shape { unknown_rank: true } }\n"
     ]
    },
    {
     "name": "stdout",
     "output_type": "stream",
     "text": [
      "32/32 [==============================] - 16s 457ms/step - loss: 0.3518 - mse: 0.3455 - mae: 0.4325 - accuracy: 0.0000e+00\n",
      "Epoch 2/15\n",
      "32/32 [==============================] - 14s 450ms/step - loss: 0.0150 - mse: 0.0153 - mae: 0.0908 - accuracy: 0.0403\n",
      "Epoch 3/15\n",
      "32/32 [==============================] - 14s 449ms/step - loss: 0.0081 - mse: 0.0083 - mae: 0.0625 - accuracy: 0.0132\n",
      "Epoch 4/15\n",
      "32/32 [==============================] - 15s 454ms/step - loss: 0.0066 - mse: 0.0064 - mae: 0.0523 - accuracy: 0.0160\n",
      "Epoch 5/15\n",
      "32/32 [==============================] - 14s 450ms/step - loss: 0.0053 - mse: 0.0053 - mae: 0.0456 - accuracy: 0.0143\n",
      "Epoch 6/15\n",
      "32/32 [==============================] - 14s 451ms/step - loss: 0.0042 - mse: 0.0045 - mae: 0.0404 - accuracy: 0.0160\n",
      "Epoch 7/15\n",
      "32/32 [==============================] - 14s 452ms/step - loss: 0.0041 - mse: 0.0040 - mae: 0.0361 - accuracy: 0.0077\n",
      "Epoch 8/15\n",
      "32/32 [==============================] - 14s 449ms/step - loss: 0.0035 - mse: 0.0036 - mae: 0.0329 - accuracy: 0.0105\n",
      "Epoch 9/15\n",
      "32/32 [==============================] - 14s 451ms/step - loss: 0.0032 - mse: 0.0033 - mae: 0.0304 - accuracy: 0.0099\n",
      "Epoch 10/15\n",
      "32/32 [==============================] - 14s 449ms/step - loss: 0.0032 - mse: 0.0031 - mae: 0.0294 - accuracy: 0.0088\n",
      "Epoch 11/15\n",
      "32/32 [==============================] - 14s 450ms/step - loss: 0.0029 - mse: 0.0028 - mae: 0.0272 - accuracy: 0.0215\n",
      "Epoch 12/15\n",
      "32/32 [==============================] - 14s 448ms/step - loss: 0.0027 - mse: 0.0027 - mae: 0.0254 - accuracy: 0.0088\n",
      "Epoch 13/15\n",
      "32/32 [==============================] - 14s 450ms/step - loss: 0.0027 - mse: 0.0024 - mae: 0.0237 - accuracy: 0.0121\n",
      "Epoch 14/15\n",
      "32/32 [==============================] - 14s 450ms/step - loss: 0.0022 - mse: 0.0023 - mae: 0.0223 - accuracy: 0.0149\n",
      "Epoch 15/15\n",
      "32/32 [==============================] - 14s 452ms/step - loss: 0.0022 - mse: 0.0023 - mae: 0.0231 - accuracy: 0.0083\n"
     ]
    }
   ],
   "source": [
    "history = model.fit([dates_inputs, products_inputs], target_data, epochs=15, batch_size=32)  # Adjust epochs and batch size as needed"
   ],
   "metadata": {
    "collapsed": false
   }
  },
  {
   "cell_type": "code",
   "execution_count": 192,
   "outputs": [
    {
     "data": {
      "text/plain": "{'loss': [0.351816862821579,\n  0.01502153929322958,\n  0.008095471188426018,\n  0.0065895263105630875,\n  0.005281096789985895,\n  0.0041811238043010235,\n  0.004101834259927273,\n  0.0034972266294062138,\n  0.0032134170178323984,\n  0.003178244223818183,\n  0.002908071270212531,\n  0.0026728189550340176,\n  0.0026786071248352528,\n  0.0021967978682368994,\n  0.002228684024885297],\n 'mse': [0.3455391824245453,\n  0.015285098925232887,\n  0.008267495781183243,\n  0.006376548204571009,\n  0.005301357246935368,\n  0.004527673590928316,\n  0.003989415243268013,\n  0.003555122995749116,\n  0.0032854583114385605,\n  0.0031015793792903423,\n  0.0028221372049301863,\n  0.0026780846528708935,\n  0.0024356618523597717,\n  0.0022517626639455557,\n  0.0022837535943835974],\n 'mae': [0.43251633644104004,\n  0.09075537323951721,\n  0.06253445893526077,\n  0.05233281850814819,\n  0.04561420902609825,\n  0.04038911685347557,\n  0.03614810109138489,\n  0.03288885951042175,\n  0.030425898730754852,\n  0.029379213228821754,\n  0.027226543053984642,\n  0.025385793298482895,\n  0.023724807426333427,\n  0.022300690412521362,\n  0.023142855614423752],\n 'accuracy': [0.0,\n  0.04026475548744202,\n  0.0132377278059721,\n  0.015995588153600693,\n  0.014340871945023537,\n  0.015995588153600693,\n  0.0077220075763762,\n  0.010479867458343506,\n  0.009928295388817787,\n  0.00882515124976635,\n  0.02151130698621273,\n  0.00882515124976635,\n  0.012134583666920662,\n  0.01489244308322668,\n  0.008273580111563206]}"
     },
     "metadata": {},
     "output_type": "display_data"
    }
   ],
   "source": [
    "display(history.history)"
   ],
   "metadata": {
    "collapsed": false
   }
  },
  {
   "cell_type": "code",
   "execution_count": 193,
   "outputs": [
    {
     "name": "stdout",
     "output_type": "stream",
     "text": [
      "15/32 [=============>................] - ETA: 0s - loss: 0.4471 - mse: 0.4491 - mae: 0.6671 - accuracy: 0.0000e+00"
     ]
    },
    {
     "name": "stderr",
     "output_type": "stream",
     "text": [
      "2023-06-04 14:34:02.990522: W tensorflow/core/grappler/costs/op_level_cost_estimator.cc:690] Error in PredictCost() for the op: op: \"Softmax\" attr { key: \"T\" value { type: DT_FLOAT } } inputs { dtype: DT_FLOAT shape { unknown_rank: true } } device { type: \"CPU\" model: \"0\" num_cores: 10 environment { key: \"cpu_instruction_set\" value: \"ARM NEON\" } environment { key: \"eigen\" value: \"3.4.90\" } l1_cache_size: 16384 l2_cache_size: 524288 l3_cache_size: 524288 memory_size: 268435456 } outputs { dtype: DT_FLOAT shape { unknown_rank: true } }\n"
     ]
    },
    {
     "name": "stdout",
     "output_type": "stream",
     "text": [
      "32/32 [==============================] - 0s 8ms/step - loss: 0.4454 - mse: 0.4508 - mae: 0.6680 - accuracy: 0.0000e+00\n",
      "Test loss: 0.4454, Test MSE: 0.4508\n",
      "Test MAE: 0.6680, Test Accuracy: 0.0000\n"
     ]
    }
   ],
   "source": [
    "# Evaluate the model\n",
    "loss, mse, mae, acc = model.evaluate([dates_inputs, products_inputs], target_data)\n",
    "print(\"Test loss: {:.4f}, Test MSE: {:.4f}\".format(loss, mse))\n",
    "print(\"Test MAE: {:.4f}, Test Accuracy: {:.4f}\".format(mae, acc))"
   ],
   "metadata": {
    "collapsed": false
   }
  },
  {
   "cell_type": "markdown",
   "source": [],
   "metadata": {
    "collapsed": false
   }
  },
  {
   "cell_type": "code",
   "execution_count": 193,
   "outputs": [],
   "source": [],
   "metadata": {
    "collapsed": false
   }
  }
 ],
 "metadata": {
  "kernelspec": {
   "display_name": "Python 3",
   "language": "python",
   "name": "python3"
  },
  "language_info": {
   "codemirror_mode": {
    "name": "ipython",
    "version": 2
   },
   "file_extension": ".py",
   "mimetype": "text/x-python",
   "name": "python",
   "nbconvert_exporter": "python",
   "pygments_lexer": "ipython2",
   "version": "2.7.6"
  }
 },
 "nbformat": 4,
 "nbformat_minor": 0
}
