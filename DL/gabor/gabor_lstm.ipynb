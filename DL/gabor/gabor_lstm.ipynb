{
 "cells": [
  {
   "cell_type": "code",
   "execution_count": 183,
   "metadata": {
    "collapsed": true
   },
   "outputs": [],
   "source": [
    "import pandas as pd\n",
    "from keras.layers import Input, Embedding, LSTM, Dense, Dot, Softmax, Concatenate, BatchNormalization, Attention\n",
    "from keras.models import Model\n",
    "import tensorflow as tf\n",
    "import numpy as np\n",
    "from keras.utils import pad_sequences"
   ]
  },
  {
   "cell_type": "code",
   "execution_count": 184,
   "outputs": [],
   "source": [
    "basepath = '../../datasets/preprocessed_datasets/gabor/'\n",
    "product_data = pd.read_pickle(basepath +'orders_and_products_by_customer.pkl')"
   ],
   "metadata": {
    "collapsed": false
   }
  },
  {
   "cell_type": "code",
   "execution_count": 185,
   "outputs": [
    {
     "data": {
      "text/plain": "        customer_id   order_ids             product_ids  \\\n127015    6243591.0   [6243587]             [[5338874]]   \n56208     4554290.0   [4554288]             [[3481950]]   \n119167    6011993.0   [6011990]             [[4913257]]   \n101862    5625543.0   [5625536]    [[5150425, 4822026]]   \n15135     2122541.0  [10857219]  [[10230096, 10231865]]   \n...             ...         ...                     ...   \n56231     4554729.0   [4554725]             [[4234484]]   \n238156    8916562.0   [8916559]             [[7590576]]   \n99266     5565036.0   [5565034]             [[5206785]]   \n36198     4065663.0   [4217044]             [[3842446]]   \n161425    7028158.0   [7028154]    [[6435988, 6113895]]   \n\n                                            product_names   amounts  \\\n127015                  [[Riemchensandale Rauleder gelb]]     [[1]]   \n56208                        [[Slipper Glattleder braun]]     [[1]]   \n119167                    [[Sneaker low Glattleder weiß]]     [[1]]   \n101862  [[Sportliche Ballerina Rauleder blau, Sportlic...  [[1, 1]]   \n15135   [[Slipper Glattleder schwarz, Slipper Rauleder...  [[1, 1]]   \n...                                                   ...       ...   \n56231                 [[Sneaker high Glattleder schwarz]]     [[1]]   \n238156                    [[Plateau Pumps Textil silber]]     [[1]]   \n99266                           [[Slipper Rauleder blau]]     [[1]]   \n36198                       [[Ankle Boot Rauleder braun]]     [[1]]   \n161425  [[Chelsea Boot Rauleder grün, Sneaker low Mate...  [[1, 1]]   \n\n            total_prices                 order_dates  \n127015         [[99.95]]              [[1624357547]]  \n56208         [[116.97]]              [[1604230026]]  \n119167          [[89.0]]              [[1622568756]]  \n101862  [[99.95, 99.95]]  [[1618493047, 1618493047]]  \n15135   [[130.0, 130.0]]  [[1677142076, 1677142076]]  \n...                  ...                         ...  \n56231         [[146.22]]              [[1604234226]]  \n238156         [[89.95]]              [[1655485645]]  \n99266          [[99.95]]              [[1617895847]]  \n36198          [[97.43]]              [[1601483526]]  \n161425  [[99.95, 99.95]]  [[1633418531, 1633418531]]  \n\n[1000 rows x 7 columns]",
      "text/html": "<div>\n<style scoped>\n    .dataframe tbody tr th:only-of-type {\n        vertical-align: middle;\n    }\n\n    .dataframe tbody tr th {\n        vertical-align: top;\n    }\n\n    .dataframe thead th {\n        text-align: right;\n    }\n</style>\n<table border=\"1\" class=\"dataframe\">\n  <thead>\n    <tr style=\"text-align: right;\">\n      <th></th>\n      <th>customer_id</th>\n      <th>order_ids</th>\n      <th>product_ids</th>\n      <th>product_names</th>\n      <th>amounts</th>\n      <th>total_prices</th>\n      <th>order_dates</th>\n    </tr>\n  </thead>\n  <tbody>\n    <tr>\n      <th>127015</th>\n      <td>6243591.0</td>\n      <td>[6243587]</td>\n      <td>[[5338874]]</td>\n      <td>[[Riemchensandale Rauleder gelb]]</td>\n      <td>[[1]]</td>\n      <td>[[99.95]]</td>\n      <td>[[1624357547]]</td>\n    </tr>\n    <tr>\n      <th>56208</th>\n      <td>4554290.0</td>\n      <td>[4554288]</td>\n      <td>[[3481950]]</td>\n      <td>[[Slipper Glattleder braun]]</td>\n      <td>[[1]]</td>\n      <td>[[116.97]]</td>\n      <td>[[1604230026]]</td>\n    </tr>\n    <tr>\n      <th>119167</th>\n      <td>6011993.0</td>\n      <td>[6011990]</td>\n      <td>[[4913257]]</td>\n      <td>[[Sneaker low Glattleder weiß]]</td>\n      <td>[[1]]</td>\n      <td>[[89.0]]</td>\n      <td>[[1622568756]]</td>\n    </tr>\n    <tr>\n      <th>101862</th>\n      <td>5625543.0</td>\n      <td>[5625536]</td>\n      <td>[[5150425, 4822026]]</td>\n      <td>[[Sportliche Ballerina Rauleder blau, Sportlic...</td>\n      <td>[[1, 1]]</td>\n      <td>[[99.95, 99.95]]</td>\n      <td>[[1618493047, 1618493047]]</td>\n    </tr>\n    <tr>\n      <th>15135</th>\n      <td>2122541.0</td>\n      <td>[10857219]</td>\n      <td>[[10230096, 10231865]]</td>\n      <td>[[Slipper Glattleder schwarz, Slipper Rauleder...</td>\n      <td>[[1, 1]]</td>\n      <td>[[130.0, 130.0]]</td>\n      <td>[[1677142076, 1677142076]]</td>\n    </tr>\n    <tr>\n      <th>...</th>\n      <td>...</td>\n      <td>...</td>\n      <td>...</td>\n      <td>...</td>\n      <td>...</td>\n      <td>...</td>\n      <td>...</td>\n    </tr>\n    <tr>\n      <th>56231</th>\n      <td>4554729.0</td>\n      <td>[4554725]</td>\n      <td>[[4234484]]</td>\n      <td>[[Sneaker high Glattleder schwarz]]</td>\n      <td>[[1]]</td>\n      <td>[[146.22]]</td>\n      <td>[[1604234226]]</td>\n    </tr>\n    <tr>\n      <th>238156</th>\n      <td>8916562.0</td>\n      <td>[8916559]</td>\n      <td>[[7590576]]</td>\n      <td>[[Plateau Pumps Textil silber]]</td>\n      <td>[[1]]</td>\n      <td>[[89.95]]</td>\n      <td>[[1655485645]]</td>\n    </tr>\n    <tr>\n      <th>99266</th>\n      <td>5565036.0</td>\n      <td>[5565034]</td>\n      <td>[[5206785]]</td>\n      <td>[[Slipper Rauleder blau]]</td>\n      <td>[[1]]</td>\n      <td>[[99.95]]</td>\n      <td>[[1617895847]]</td>\n    </tr>\n    <tr>\n      <th>36198</th>\n      <td>4065663.0</td>\n      <td>[4217044]</td>\n      <td>[[3842446]]</td>\n      <td>[[Ankle Boot Rauleder braun]]</td>\n      <td>[[1]]</td>\n      <td>[[97.43]]</td>\n      <td>[[1601483526]]</td>\n    </tr>\n    <tr>\n      <th>161425</th>\n      <td>7028158.0</td>\n      <td>[7028154]</td>\n      <td>[[6435988, 6113895]]</td>\n      <td>[[Chelsea Boot Rauleder grün, Sneaker low Mate...</td>\n      <td>[[1, 1]]</td>\n      <td>[[99.95, 99.95]]</td>\n      <td>[[1633418531, 1633418531]]</td>\n    </tr>\n  </tbody>\n</table>\n<p>1000 rows × 7 columns</p>\n</div>"
     },
     "execution_count": 185,
     "metadata": {},
     "output_type": "execute_result"
    }
   ],
   "source": [
    "product_data = product_data.sample(n=1000)\n",
    "product_data"
   ],
   "metadata": {
    "collapsed": false
   }
  },
  {
   "cell_type": "code",
   "execution_count": 186,
   "outputs": [
    {
     "data": {
      "text/plain": "        customer_id   order_ids             product_ids  \\\n127015    6243591.0   [6243587]             [[5338874]]   \n56208     4554290.0   [4554288]             [[3481950]]   \n119167    6011993.0   [6011990]             [[4913257]]   \n101862    5625543.0   [5625536]    [[5150425, 4822026]]   \n15135     2122541.0  [10857219]  [[10230096, 10231865]]   \n...             ...         ...                     ...   \n56231     4554729.0   [4554725]             [[4234484]]   \n238156    8916562.0   [8916559]             [[7590576]]   \n99266     5565036.0   [5565034]             [[5206785]]   \n36198     4065663.0   [4217044]             [[3842446]]   \n161425    7028158.0   [7028154]    [[6435988, 6113895]]   \n\n                                            product_names   amounts  \\\n127015                  [[Riemchensandale Rauleder gelb]]     [[1]]   \n56208                        [[Slipper Glattleder braun]]     [[1]]   \n119167                    [[Sneaker low Glattleder weiß]]     [[1]]   \n101862  [[Sportliche Ballerina Rauleder blau, Sportlic...  [[1, 1]]   \n15135   [[Slipper Glattleder schwarz, Slipper Rauleder...  [[1, 1]]   \n...                                                   ...       ...   \n56231                 [[Sneaker high Glattleder schwarz]]     [[1]]   \n238156                    [[Plateau Pumps Textil silber]]     [[1]]   \n99266                           [[Slipper Rauleder blau]]     [[1]]   \n36198                       [[Ankle Boot Rauleder braun]]     [[1]]   \n161425  [[Chelsea Boot Rauleder grün, Sneaker low Mate...  [[1, 1]]   \n\n            total_prices                 order_dates  \n127015         [[99.95]]              [[1624357547]]  \n56208         [[116.97]]              [[1604230026]]  \n119167          [[89.0]]              [[1622568756]]  \n101862  [[99.95, 99.95]]  [[1618493047, 1618493047]]  \n15135   [[130.0, 130.0]]  [[1677142076, 1677142076]]  \n...                  ...                         ...  \n56231         [[146.22]]              [[1604234226]]  \n238156         [[89.95]]              [[1655485645]]  \n99266          [[99.95]]              [[1617895847]]  \n36198          [[97.43]]              [[1601483526]]  \n161425  [[99.95, 99.95]]  [[1633418531, 1633418531]]  \n\n[1000 rows x 7 columns]",
      "text/html": "<div>\n<style scoped>\n    .dataframe tbody tr th:only-of-type {\n        vertical-align: middle;\n    }\n\n    .dataframe tbody tr th {\n        vertical-align: top;\n    }\n\n    .dataframe thead th {\n        text-align: right;\n    }\n</style>\n<table border=\"1\" class=\"dataframe\">\n  <thead>\n    <tr style=\"text-align: right;\">\n      <th></th>\n      <th>customer_id</th>\n      <th>order_ids</th>\n      <th>product_ids</th>\n      <th>product_names</th>\n      <th>amounts</th>\n      <th>total_prices</th>\n      <th>order_dates</th>\n    </tr>\n  </thead>\n  <tbody>\n    <tr>\n      <th>127015</th>\n      <td>6243591.0</td>\n      <td>[6243587]</td>\n      <td>[[5338874]]</td>\n      <td>[[Riemchensandale Rauleder gelb]]</td>\n      <td>[[1]]</td>\n      <td>[[99.95]]</td>\n      <td>[[1624357547]]</td>\n    </tr>\n    <tr>\n      <th>56208</th>\n      <td>4554290.0</td>\n      <td>[4554288]</td>\n      <td>[[3481950]]</td>\n      <td>[[Slipper Glattleder braun]]</td>\n      <td>[[1]]</td>\n      <td>[[116.97]]</td>\n      <td>[[1604230026]]</td>\n    </tr>\n    <tr>\n      <th>119167</th>\n      <td>6011993.0</td>\n      <td>[6011990]</td>\n      <td>[[4913257]]</td>\n      <td>[[Sneaker low Glattleder weiß]]</td>\n      <td>[[1]]</td>\n      <td>[[89.0]]</td>\n      <td>[[1622568756]]</td>\n    </tr>\n    <tr>\n      <th>101862</th>\n      <td>5625543.0</td>\n      <td>[5625536]</td>\n      <td>[[5150425, 4822026]]</td>\n      <td>[[Sportliche Ballerina Rauleder blau, Sportlic...</td>\n      <td>[[1, 1]]</td>\n      <td>[[99.95, 99.95]]</td>\n      <td>[[1618493047, 1618493047]]</td>\n    </tr>\n    <tr>\n      <th>15135</th>\n      <td>2122541.0</td>\n      <td>[10857219]</td>\n      <td>[[10230096, 10231865]]</td>\n      <td>[[Slipper Glattleder schwarz, Slipper Rauleder...</td>\n      <td>[[1, 1]]</td>\n      <td>[[130.0, 130.0]]</td>\n      <td>[[1677142076, 1677142076]]</td>\n    </tr>\n    <tr>\n      <th>...</th>\n      <td>...</td>\n      <td>...</td>\n      <td>...</td>\n      <td>...</td>\n      <td>...</td>\n      <td>...</td>\n      <td>...</td>\n    </tr>\n    <tr>\n      <th>56231</th>\n      <td>4554729.0</td>\n      <td>[4554725]</td>\n      <td>[[4234484]]</td>\n      <td>[[Sneaker high Glattleder schwarz]]</td>\n      <td>[[1]]</td>\n      <td>[[146.22]]</td>\n      <td>[[1604234226]]</td>\n    </tr>\n    <tr>\n      <th>238156</th>\n      <td>8916562.0</td>\n      <td>[8916559]</td>\n      <td>[[7590576]]</td>\n      <td>[[Plateau Pumps Textil silber]]</td>\n      <td>[[1]]</td>\n      <td>[[89.95]]</td>\n      <td>[[1655485645]]</td>\n    </tr>\n    <tr>\n      <th>99266</th>\n      <td>5565036.0</td>\n      <td>[5565034]</td>\n      <td>[[5206785]]</td>\n      <td>[[Slipper Rauleder blau]]</td>\n      <td>[[1]]</td>\n      <td>[[99.95]]</td>\n      <td>[[1617895847]]</td>\n    </tr>\n    <tr>\n      <th>36198</th>\n      <td>4065663.0</td>\n      <td>[4217044]</td>\n      <td>[[3842446]]</td>\n      <td>[[Ankle Boot Rauleder braun]]</td>\n      <td>[[1]]</td>\n      <td>[[97.43]]</td>\n      <td>[[1601483526]]</td>\n    </tr>\n    <tr>\n      <th>161425</th>\n      <td>7028158.0</td>\n      <td>[7028154]</td>\n      <td>[[6435988, 6113895]]</td>\n      <td>[[Chelsea Boot Rauleder grün, Sneaker low Mate...</td>\n      <td>[[1, 1]]</td>\n      <td>[[99.95, 99.95]]</td>\n      <td>[[1633418531, 1633418531]]</td>\n    </tr>\n  </tbody>\n</table>\n<p>1000 rows × 7 columns</p>\n</div>"
     },
     "execution_count": 186,
     "metadata": {},
     "output_type": "execute_result"
    }
   ],
   "source": [
    "product_data"
   ],
   "metadata": {
    "collapsed": false
   }
  },
  {
   "cell_type": "code",
   "execution_count": 187,
   "outputs": [
    {
     "data": {
      "text/plain": "        customer_id   order_ids             product_ids   amounts  \\\n127015    6243591.0   [6243587]             [[5338874]]     [[1]]   \n56208     4554290.0   [4554288]             [[3481950]]     [[1]]   \n119167    6011993.0   [6011990]             [[4913257]]     [[1]]   \n101862    5625543.0   [5625536]    [[5150425, 4822026]]  [[1, 1]]   \n15135     2122541.0  [10857219]  [[10230096, 10231865]]  [[1, 1]]   \n...             ...         ...                     ...       ...   \n56231     4554729.0   [4554725]             [[4234484]]     [[1]]   \n238156    8916562.0   [8916559]             [[7590576]]     [[1]]   \n99266     5565036.0   [5565034]             [[5206785]]     [[1]]   \n36198     4065663.0   [4217044]             [[3842446]]     [[1]]   \n161425    7028158.0   [7028154]    [[6435988, 6113895]]  [[1, 1]]   \n\n                       order_dates  \n127015              [[1624357547]]  \n56208               [[1604230026]]  \n119167              [[1622568756]]  \n101862  [[1618493047, 1618493047]]  \n15135   [[1677142076, 1677142076]]  \n...                            ...  \n56231               [[1604234226]]  \n238156              [[1655485645]]  \n99266               [[1617895847]]  \n36198               [[1601483526]]  \n161425  [[1633418531, 1633418531]]  \n\n[1000 rows x 5 columns]",
      "text/html": "<div>\n<style scoped>\n    .dataframe tbody tr th:only-of-type {\n        vertical-align: middle;\n    }\n\n    .dataframe tbody tr th {\n        vertical-align: top;\n    }\n\n    .dataframe thead th {\n        text-align: right;\n    }\n</style>\n<table border=\"1\" class=\"dataframe\">\n  <thead>\n    <tr style=\"text-align: right;\">\n      <th></th>\n      <th>customer_id</th>\n      <th>order_ids</th>\n      <th>product_ids</th>\n      <th>amounts</th>\n      <th>order_dates</th>\n    </tr>\n  </thead>\n  <tbody>\n    <tr>\n      <th>127015</th>\n      <td>6243591.0</td>\n      <td>[6243587]</td>\n      <td>[[5338874]]</td>\n      <td>[[1]]</td>\n      <td>[[1624357547]]</td>\n    </tr>\n    <tr>\n      <th>56208</th>\n      <td>4554290.0</td>\n      <td>[4554288]</td>\n      <td>[[3481950]]</td>\n      <td>[[1]]</td>\n      <td>[[1604230026]]</td>\n    </tr>\n    <tr>\n      <th>119167</th>\n      <td>6011993.0</td>\n      <td>[6011990]</td>\n      <td>[[4913257]]</td>\n      <td>[[1]]</td>\n      <td>[[1622568756]]</td>\n    </tr>\n    <tr>\n      <th>101862</th>\n      <td>5625543.0</td>\n      <td>[5625536]</td>\n      <td>[[5150425, 4822026]]</td>\n      <td>[[1, 1]]</td>\n      <td>[[1618493047, 1618493047]]</td>\n    </tr>\n    <tr>\n      <th>15135</th>\n      <td>2122541.0</td>\n      <td>[10857219]</td>\n      <td>[[10230096, 10231865]]</td>\n      <td>[[1, 1]]</td>\n      <td>[[1677142076, 1677142076]]</td>\n    </tr>\n    <tr>\n      <th>...</th>\n      <td>...</td>\n      <td>...</td>\n      <td>...</td>\n      <td>...</td>\n      <td>...</td>\n    </tr>\n    <tr>\n      <th>56231</th>\n      <td>4554729.0</td>\n      <td>[4554725]</td>\n      <td>[[4234484]]</td>\n      <td>[[1]]</td>\n      <td>[[1604234226]]</td>\n    </tr>\n    <tr>\n      <th>238156</th>\n      <td>8916562.0</td>\n      <td>[8916559]</td>\n      <td>[[7590576]]</td>\n      <td>[[1]]</td>\n      <td>[[1655485645]]</td>\n    </tr>\n    <tr>\n      <th>99266</th>\n      <td>5565036.0</td>\n      <td>[5565034]</td>\n      <td>[[5206785]]</td>\n      <td>[[1]]</td>\n      <td>[[1617895847]]</td>\n    </tr>\n    <tr>\n      <th>36198</th>\n      <td>4065663.0</td>\n      <td>[4217044]</td>\n      <td>[[3842446]]</td>\n      <td>[[1]]</td>\n      <td>[[1601483526]]</td>\n    </tr>\n    <tr>\n      <th>161425</th>\n      <td>7028158.0</td>\n      <td>[7028154]</td>\n      <td>[[6435988, 6113895]]</td>\n      <td>[[1, 1]]</td>\n      <td>[[1633418531, 1633418531]]</td>\n    </tr>\n  </tbody>\n</table>\n<p>1000 rows × 5 columns</p>\n</div>"
     },
     "metadata": {},
     "output_type": "display_data"
    }
   ],
   "source": [
    "display(product_data[['customer_id', 'order_ids', 'product_ids', 'amounts', 'order_dates']])"
   ],
   "metadata": {
    "collapsed": false
   }
  },
  {
   "cell_type": "code",
   "execution_count": 188,
   "outputs": [
    {
     "data": {
      "text/plain": "127015     [6243587]\n56208      [4554288]\n119167     [6011990]\n101862     [5625536]\n15135     [10857219]\n             ...    \n56231      [4554725]\n238156     [8916559]\n99266      [5565034]\n36198      [4217044]\n161425     [7028154]\nName: order_ids, Length: 1000, dtype: object"
     },
     "execution_count": 188,
     "metadata": {},
     "output_type": "execute_result"
    }
   ],
   "source": [
    "product_data.order_ids"
   ],
   "metadata": {
    "collapsed": false
   }
  },
  {
   "cell_type": "code",
   "execution_count": 189,
   "outputs": [
    {
     "name": "stdout",
     "output_type": "stream",
     "text": [
      "127015               [[5338874]]\n",
      "56208                [[3481950]]\n",
      "119167               [[4913257]]\n",
      "101862      [[5150425, 4822026]]\n",
      "15135     [[10230096, 10231865]]\n",
      "                   ...          \n",
      "56231                [[4234484]]\n",
      "238156               [[7590576]]\n",
      "99266                [[5206785]]\n",
      "36198                [[3842446]]\n",
      "161425      [[6435988, 6113895]]\n",
      "Name: product_ids, Length: 1000, dtype: object 127015                [[1624357547]]\n",
      "56208                 [[1604230026]]\n",
      "119167                [[1622568756]]\n",
      "101862    [[1618493047, 1618493047]]\n",
      "15135     [[1677142076, 1677142076]]\n",
      "                     ...            \n",
      "56231                 [[1604234226]]\n",
      "238156                [[1655485645]]\n",
      "99266                 [[1617895847]]\n",
      "36198                 [[1601483526]]\n",
      "161425    [[1633418531, 1633418531]]\n",
      "Name: order_dates, Length: 1000, dtype: object\n"
     ]
    }
   ],
   "source": [
    "print(product_data.product_ids, product_data.order_dates)"
   ],
   "metadata": {
    "collapsed": false
   }
  },
  {
   "cell_type": "code",
   "execution_count": 190,
   "outputs": [],
   "source": [
    "def bringToSameSizeOneDim(column):\n",
    "    max_length = max(column.apply(len))\n",
    "    return column.apply(lambda x: x + [0] * (max_length - len(x)))\n",
    "\n",
    "\n",
    "def bringToSameSizeTwoDimAndFlatten(column):\n",
    "    max_length = max(column.apply(lambda x: max(len(sublist) for sublist in x)))\n",
    "    new_column = column.apply(lambda x: [sublist + [0] * (max_length - len(sublist)) for sublist in x])\n",
    "    new_column = new_column.apply(lambda x: x + [[0] * max_length] * (max_length - len(x)))\n",
    "    return new_column.apply(lambda x: [item for sublist in x for item in sublist])\n",
    "\n",
    "product_data.order_ids = bringToSameSizeOneDim(product_data.order_ids)\n",
    "product_data.product_ids = bringToSameSizeTwoDimAndFlatten(product_data.product_ids)\n",
    "product_data.amounts = bringToSameSizeTwoDimAndFlatten(product_data.amounts)\n",
    "product_data.total_prices = bringToSameSizeTwoDimAndFlatten(product_data.total_prices)\n",
    "product_data.order_dates = bringToSameSizeTwoDimAndFlatten(product_data.order_dates)\n",
    "\n",
    "\n"
   ],
   "metadata": {
    "collapsed": false
   }
  },
  {
   "cell_type": "code",
   "execution_count": 190,
   "outputs": [],
   "source": [],
   "metadata": {
    "collapsed": false
   }
  },
  {
   "cell_type": "code",
   "execution_count": 191,
   "outputs": [],
   "source": [
    "def convertToSequence(column):\n",
    "    list = column.tolist()\n",
    "    max_length = max(len(x) for x in list)\n",
    "    return pad_sequences(list, maxlen=max_length, padding='post', value=0), max_length\n",
    "\n",
    "products_inputs, max_length_products = convertToSequence(product_data.product_ids)\n",
    "dates_inputs, max_length_dates = convertToSequence(product_data.order_dates)\n",
    "target_data, _ = convertToSequence(product_data.amounts)\n",
    "\n",
    "\n"
   ],
   "metadata": {
    "collapsed": false
   }
  },
  {
   "cell_type": "code",
   "execution_count": 192,
   "outputs": [
    {
     "data": {
      "text/plain": "(70, 70, (1000, 70))"
     },
     "execution_count": 192,
     "metadata": {},
     "output_type": "execute_result"
    }
   ],
   "source": [
    "max_length_dates, dates_inputs.shape[1], target_data.shape"
   ],
   "metadata": {
    "collapsed": false
   }
  },
  {
   "cell_type": "code",
   "execution_count": 193,
   "outputs": [],
   "source": [
    "# Define the model architecture\n",
    "# num_orders = sum(len(order) for order in product_data.order_ids)\n",
    "# num_products =  sum(len(order) for order in product_data.product_ids)\n",
    "# num_units = len([amount for order_amounts in product_data.amounts for amount in order_amounts])\n",
    "# num_prices = len([amount for order_amounts in product_data.total_prices for amount in order_amounts])\n",
    "# num_dates = len([amount for order_amounts in product_data.order_dates for amount in order_amounts])\n",
    "#\n",
    "# print(num_orders, num_products, num_units, num_prices, num_dates)"
   ],
   "metadata": {
    "collapsed": false
   }
  },
  {
   "cell_type": "code",
   "execution_count": 194,
   "outputs": [],
   "source": [
    "num_dates = len(np.unique(product_data.order_dates))\n",
    "num_products = len(np.unique(product_data.product_ids))"
   ],
   "metadata": {
    "collapsed": false
   }
  },
  {
   "cell_type": "code",
   "execution_count": 195,
   "outputs": [
    {
     "name": "stdout",
     "output_type": "stream",
     "text": [
      "(1000, 70)\n",
      "(1000, 70)\n",
      "Epoch 1/10\n"
     ]
    },
    {
     "name": "stderr",
     "output_type": "stream",
     "text": [
      "2023-05-29 14:01:02.391058: W tensorflow/core/grappler/costs/op_level_cost_estimator.cc:690] Error in PredictCost() for the op: op: \"Softmax\" attr { key: \"T\" value { type: DT_FLOAT } } inputs { dtype: DT_FLOAT shape { unknown_rank: true } } device { type: \"CPU\" model: \"0\" num_cores: 10 environment { key: \"cpu_instruction_set\" value: \"ARM NEON\" } environment { key: \"eigen\" value: \"3.4.90\" } l1_cache_size: 16384 l2_cache_size: 524288 l3_cache_size: 524288 memory_size: 268435456 } outputs { dtype: DT_FLOAT shape { unknown_rank: true } }\n"
     ]
    },
    {
     "ename": "InvalidArgumentError",
     "evalue": "Graph execution error:\n\nDetected at node 'model_29/embedding_74/embedding_lookup' defined at (most recent call last):\n    File \"/Users/thomashuber/miniconda3/envs/m1-master-thesis/lib/python3.9/runpy.py\", line 197, in _run_module_as_main\n      return _run_code(code, main_globals, None,\n    File \"/Users/thomashuber/miniconda3/envs/m1-master-thesis/lib/python3.9/runpy.py\", line 87, in _run_code\n      exec(code, run_globals)\n    File \"/Users/thomashuber/miniconda3/envs/m1-master-thesis/lib/python3.9/site-packages/ipykernel_launcher.py\", line 17, in <module>\n      app.launch_new_instance()\n    File \"/Users/thomashuber/miniconda3/envs/m1-master-thesis/lib/python3.9/site-packages/traitlets/config/application.py\", line 1043, in launch_instance\n      app.start()\n    File \"/Users/thomashuber/miniconda3/envs/m1-master-thesis/lib/python3.9/site-packages/ipykernel/kernelapp.py\", line 725, in start\n      self.io_loop.start()\n    File \"/Users/thomashuber/miniconda3/envs/m1-master-thesis/lib/python3.9/site-packages/tornado/platform/asyncio.py\", line 215, in start\n      self.asyncio_loop.run_forever()\n    File \"/Users/thomashuber/miniconda3/envs/m1-master-thesis/lib/python3.9/asyncio/base_events.py\", line 601, in run_forever\n      self._run_once()\n    File \"/Users/thomashuber/miniconda3/envs/m1-master-thesis/lib/python3.9/asyncio/base_events.py\", line 1905, in _run_once\n      handle._run()\n    File \"/Users/thomashuber/miniconda3/envs/m1-master-thesis/lib/python3.9/asyncio/events.py\", line 80, in _run\n      self._context.run(self._callback, *self._args)\n    File \"/Users/thomashuber/miniconda3/envs/m1-master-thesis/lib/python3.9/site-packages/ipykernel/kernelbase.py\", line 513, in dispatch_queue\n      await self.process_one()\n    File \"/Users/thomashuber/miniconda3/envs/m1-master-thesis/lib/python3.9/site-packages/ipykernel/kernelbase.py\", line 502, in process_one\n      await dispatch(*args)\n    File \"/Users/thomashuber/miniconda3/envs/m1-master-thesis/lib/python3.9/site-packages/ipykernel/kernelbase.py\", line 409, in dispatch_shell\n      await result\n    File \"/Users/thomashuber/miniconda3/envs/m1-master-thesis/lib/python3.9/site-packages/ipykernel/kernelbase.py\", line 729, in execute_request\n      reply_content = await reply_content\n    File \"/Users/thomashuber/miniconda3/envs/m1-master-thesis/lib/python3.9/site-packages/ipykernel/ipkernel.py\", line 422, in do_execute\n      res = shell.run_cell(\n    File \"/Users/thomashuber/miniconda3/envs/m1-master-thesis/lib/python3.9/site-packages/ipykernel/zmqshell.py\", line 540, in run_cell\n      return super().run_cell(*args, **kwargs)\n    File \"/Users/thomashuber/miniconda3/envs/m1-master-thesis/lib/python3.9/site-packages/IPython/core/interactiveshell.py\", line 2961, in run_cell\n      result = self._run_cell(\n    File \"/Users/thomashuber/miniconda3/envs/m1-master-thesis/lib/python3.9/site-packages/IPython/core/interactiveshell.py\", line 3016, in _run_cell\n      result = runner(coro)\n    File \"/Users/thomashuber/miniconda3/envs/m1-master-thesis/lib/python3.9/site-packages/IPython/core/async_helpers.py\", line 129, in _pseudo_sync_runner\n      coro.send(None)\n    File \"/Users/thomashuber/miniconda3/envs/m1-master-thesis/lib/python3.9/site-packages/IPython/core/interactiveshell.py\", line 3221, in run_cell_async\n      has_raised = await self.run_ast_nodes(code_ast.body, cell_name,\n    File \"/Users/thomashuber/miniconda3/envs/m1-master-thesis/lib/python3.9/site-packages/IPython/core/interactiveshell.py\", line 3400, in run_ast_nodes\n      if await self.run_code(code, result, async_=asy):\n    File \"/Users/thomashuber/miniconda3/envs/m1-master-thesis/lib/python3.9/site-packages/IPython/core/interactiveshell.py\", line 3460, in run_code\n      exec(code_obj, self.user_global_ns, self.user_ns)\n    File \"/var/folders/jp/3q1jwf6d5n11rx71jwtqcgv80000gn/T/ipykernel_63425/4021304812.py\", line 44, in <module>\n      model.fit(x=[dates_inputs, products_inputs], y=target_data, epochs=10, batch_size=32)  # Adjust epochs and batch size as needed\n    File \"/Users/thomashuber/miniconda3/envs/m1-master-thesis/lib/python3.9/site-packages/keras/utils/traceback_utils.py\", line 65, in error_handler\n      return fn(*args, **kwargs)\n    File \"/Users/thomashuber/miniconda3/envs/m1-master-thesis/lib/python3.9/site-packages/keras/engine/training.py\", line 1650, in fit\n      tmp_logs = self.train_function(iterator)\n    File \"/Users/thomashuber/miniconda3/envs/m1-master-thesis/lib/python3.9/site-packages/keras/engine/training.py\", line 1249, in train_function\n      return step_function(self, iterator)\n    File \"/Users/thomashuber/miniconda3/envs/m1-master-thesis/lib/python3.9/site-packages/keras/engine/training.py\", line 1233, in step_function\n      outputs = model.distribute_strategy.run(run_step, args=(data,))\n    File \"/Users/thomashuber/miniconda3/envs/m1-master-thesis/lib/python3.9/site-packages/keras/engine/training.py\", line 1222, in run_step\n      outputs = model.train_step(data)\n    File \"/Users/thomashuber/miniconda3/envs/m1-master-thesis/lib/python3.9/site-packages/keras/engine/training.py\", line 1023, in train_step\n      y_pred = self(x, training=True)\n    File \"/Users/thomashuber/miniconda3/envs/m1-master-thesis/lib/python3.9/site-packages/keras/utils/traceback_utils.py\", line 65, in error_handler\n      return fn(*args, **kwargs)\n    File \"/Users/thomashuber/miniconda3/envs/m1-master-thesis/lib/python3.9/site-packages/keras/engine/training.py\", line 561, in __call__\n      return super().__call__(*args, **kwargs)\n    File \"/Users/thomashuber/miniconda3/envs/m1-master-thesis/lib/python3.9/site-packages/keras/utils/traceback_utils.py\", line 65, in error_handler\n      return fn(*args, **kwargs)\n    File \"/Users/thomashuber/miniconda3/envs/m1-master-thesis/lib/python3.9/site-packages/keras/engine/base_layer.py\", line 1132, in __call__\n      outputs = call_fn(inputs, *args, **kwargs)\n    File \"/Users/thomashuber/miniconda3/envs/m1-master-thesis/lib/python3.9/site-packages/keras/utils/traceback_utils.py\", line 96, in error_handler\n      return fn(*args, **kwargs)\n    File \"/Users/thomashuber/miniconda3/envs/m1-master-thesis/lib/python3.9/site-packages/keras/engine/functional.py\", line 511, in call\n      return self._run_internal_graph(inputs, training=training, mask=mask)\n    File \"/Users/thomashuber/miniconda3/envs/m1-master-thesis/lib/python3.9/site-packages/keras/engine/functional.py\", line 668, in _run_internal_graph\n      outputs = node.layer(*args, **kwargs)\n    File \"/Users/thomashuber/miniconda3/envs/m1-master-thesis/lib/python3.9/site-packages/keras/utils/traceback_utils.py\", line 65, in error_handler\n      return fn(*args, **kwargs)\n    File \"/Users/thomashuber/miniconda3/envs/m1-master-thesis/lib/python3.9/site-packages/keras/engine/base_layer.py\", line 1132, in __call__\n      outputs = call_fn(inputs, *args, **kwargs)\n    File \"/Users/thomashuber/miniconda3/envs/m1-master-thesis/lib/python3.9/site-packages/keras/utils/traceback_utils.py\", line 96, in error_handler\n      return fn(*args, **kwargs)\n    File \"/Users/thomashuber/miniconda3/envs/m1-master-thesis/lib/python3.9/site-packages/keras/layers/core/embedding.py\", line 208, in call\n      out = tf.nn.embedding_lookup(self.embeddings, inputs)\nNode: 'model_29/embedding_74/embedding_lookup'\nindices[0,0] = 1654700416 is not in [0, 1000)\n\t [[{{node model_29/embedding_74/embedding_lookup}}]] [Op:__inference_train_function_36502]",
     "output_type": "error",
     "traceback": [
      "\u001B[0;31m---------------------------------------------------------------------------\u001B[0m",
      "\u001B[0;31mInvalidArgumentError\u001B[0m                      Traceback (most recent call last)",
      "Cell \u001B[0;32mIn[195], line 44\u001B[0m\n\u001B[1;32m     42\u001B[0m \u001B[38;5;66;03m# Compile the model\u001B[39;00m\n\u001B[1;32m     43\u001B[0m model\u001B[38;5;241m.\u001B[39mcompile(loss\u001B[38;5;241m=\u001B[39m\u001B[38;5;124m'\u001B[39m\u001B[38;5;124mmean_squared_error\u001B[39m\u001B[38;5;124m'\u001B[39m, optimizer\u001B[38;5;241m=\u001B[39m\u001B[38;5;124m'\u001B[39m\u001B[38;5;124madam\u001B[39m\u001B[38;5;124m'\u001B[39m, metrics\u001B[38;5;241m=\u001B[39m[\u001B[38;5;124m'\u001B[39m\u001B[38;5;124mmse\u001B[39m\u001B[38;5;124m'\u001B[39m])\n\u001B[0;32m---> 44\u001B[0m \u001B[43mmodel\u001B[49m\u001B[38;5;241;43m.\u001B[39;49m\u001B[43mfit\u001B[49m\u001B[43m(\u001B[49m\u001B[43mx\u001B[49m\u001B[38;5;241;43m=\u001B[39;49m\u001B[43m[\u001B[49m\u001B[43mdates_inputs\u001B[49m\u001B[43m,\u001B[49m\u001B[43m \u001B[49m\u001B[43mproducts_inputs\u001B[49m\u001B[43m]\u001B[49m\u001B[43m,\u001B[49m\u001B[43m \u001B[49m\u001B[43my\u001B[49m\u001B[38;5;241;43m=\u001B[39;49m\u001B[43mtarget_data\u001B[49m\u001B[43m,\u001B[49m\u001B[43m \u001B[49m\u001B[43mepochs\u001B[49m\u001B[38;5;241;43m=\u001B[39;49m\u001B[38;5;241;43m10\u001B[39;49m\u001B[43m,\u001B[49m\u001B[43m \u001B[49m\u001B[43mbatch_size\u001B[49m\u001B[38;5;241;43m=\u001B[39;49m\u001B[38;5;241;43m32\u001B[39;49m\u001B[43m)\u001B[49m  \u001B[38;5;66;03m# Adjust epochs and batch size as needed\u001B[39;00m\n",
      "File \u001B[0;32m~/miniconda3/envs/m1-master-thesis/lib/python3.9/site-packages/keras/utils/traceback_utils.py:70\u001B[0m, in \u001B[0;36mfilter_traceback.<locals>.error_handler\u001B[0;34m(*args, **kwargs)\u001B[0m\n\u001B[1;32m     67\u001B[0m     filtered_tb \u001B[38;5;241m=\u001B[39m _process_traceback_frames(e\u001B[38;5;241m.\u001B[39m__traceback__)\n\u001B[1;32m     68\u001B[0m     \u001B[38;5;66;03m# To get the full stack trace, call:\u001B[39;00m\n\u001B[1;32m     69\u001B[0m     \u001B[38;5;66;03m# `tf.debugging.disable_traceback_filtering()`\u001B[39;00m\n\u001B[0;32m---> 70\u001B[0m     \u001B[38;5;28;01mraise\u001B[39;00m e\u001B[38;5;241m.\u001B[39mwith_traceback(filtered_tb) \u001B[38;5;28;01mfrom\u001B[39;00m \u001B[38;5;28mNone\u001B[39m\n\u001B[1;32m     71\u001B[0m \u001B[38;5;28;01mfinally\u001B[39;00m:\n\u001B[1;32m     72\u001B[0m     \u001B[38;5;28;01mdel\u001B[39;00m filtered_tb\n",
      "File \u001B[0;32m~/miniconda3/envs/m1-master-thesis/lib/python3.9/site-packages/tensorflow/python/eager/execute.py:52\u001B[0m, in \u001B[0;36mquick_execute\u001B[0;34m(op_name, num_outputs, inputs, attrs, ctx, name)\u001B[0m\n\u001B[1;32m     50\u001B[0m \u001B[38;5;28;01mtry\u001B[39;00m:\n\u001B[1;32m     51\u001B[0m   ctx\u001B[38;5;241m.\u001B[39mensure_initialized()\n\u001B[0;32m---> 52\u001B[0m   tensors \u001B[38;5;241m=\u001B[39m pywrap_tfe\u001B[38;5;241m.\u001B[39mTFE_Py_Execute(ctx\u001B[38;5;241m.\u001B[39m_handle, device_name, op_name,\n\u001B[1;32m     53\u001B[0m                                       inputs, attrs, num_outputs)\n\u001B[1;32m     54\u001B[0m \u001B[38;5;28;01mexcept\u001B[39;00m core\u001B[38;5;241m.\u001B[39m_NotOkStatusException \u001B[38;5;28;01mas\u001B[39;00m e:\n\u001B[1;32m     55\u001B[0m   \u001B[38;5;28;01mif\u001B[39;00m name \u001B[38;5;129;01mis\u001B[39;00m \u001B[38;5;129;01mnot\u001B[39;00m \u001B[38;5;28;01mNone\u001B[39;00m:\n",
      "\u001B[0;31mInvalidArgumentError\u001B[0m: Graph execution error:\n\nDetected at node 'model_29/embedding_74/embedding_lookup' defined at (most recent call last):\n    File \"/Users/thomashuber/miniconda3/envs/m1-master-thesis/lib/python3.9/runpy.py\", line 197, in _run_module_as_main\n      return _run_code(code, main_globals, None,\n    File \"/Users/thomashuber/miniconda3/envs/m1-master-thesis/lib/python3.9/runpy.py\", line 87, in _run_code\n      exec(code, run_globals)\n    File \"/Users/thomashuber/miniconda3/envs/m1-master-thesis/lib/python3.9/site-packages/ipykernel_launcher.py\", line 17, in <module>\n      app.launch_new_instance()\n    File \"/Users/thomashuber/miniconda3/envs/m1-master-thesis/lib/python3.9/site-packages/traitlets/config/application.py\", line 1043, in launch_instance\n      app.start()\n    File \"/Users/thomashuber/miniconda3/envs/m1-master-thesis/lib/python3.9/site-packages/ipykernel/kernelapp.py\", line 725, in start\n      self.io_loop.start()\n    File \"/Users/thomashuber/miniconda3/envs/m1-master-thesis/lib/python3.9/site-packages/tornado/platform/asyncio.py\", line 215, in start\n      self.asyncio_loop.run_forever()\n    File \"/Users/thomashuber/miniconda3/envs/m1-master-thesis/lib/python3.9/asyncio/base_events.py\", line 601, in run_forever\n      self._run_once()\n    File \"/Users/thomashuber/miniconda3/envs/m1-master-thesis/lib/python3.9/asyncio/base_events.py\", line 1905, in _run_once\n      handle._run()\n    File \"/Users/thomashuber/miniconda3/envs/m1-master-thesis/lib/python3.9/asyncio/events.py\", line 80, in _run\n      self._context.run(self._callback, *self._args)\n    File \"/Users/thomashuber/miniconda3/envs/m1-master-thesis/lib/python3.9/site-packages/ipykernel/kernelbase.py\", line 513, in dispatch_queue\n      await self.process_one()\n    File \"/Users/thomashuber/miniconda3/envs/m1-master-thesis/lib/python3.9/site-packages/ipykernel/kernelbase.py\", line 502, in process_one\n      await dispatch(*args)\n    File \"/Users/thomashuber/miniconda3/envs/m1-master-thesis/lib/python3.9/site-packages/ipykernel/kernelbase.py\", line 409, in dispatch_shell\n      await result\n    File \"/Users/thomashuber/miniconda3/envs/m1-master-thesis/lib/python3.9/site-packages/ipykernel/kernelbase.py\", line 729, in execute_request\n      reply_content = await reply_content\n    File \"/Users/thomashuber/miniconda3/envs/m1-master-thesis/lib/python3.9/site-packages/ipykernel/ipkernel.py\", line 422, in do_execute\n      res = shell.run_cell(\n    File \"/Users/thomashuber/miniconda3/envs/m1-master-thesis/lib/python3.9/site-packages/ipykernel/zmqshell.py\", line 540, in run_cell\n      return super().run_cell(*args, **kwargs)\n    File \"/Users/thomashuber/miniconda3/envs/m1-master-thesis/lib/python3.9/site-packages/IPython/core/interactiveshell.py\", line 2961, in run_cell\n      result = self._run_cell(\n    File \"/Users/thomashuber/miniconda3/envs/m1-master-thesis/lib/python3.9/site-packages/IPython/core/interactiveshell.py\", line 3016, in _run_cell\n      result = runner(coro)\n    File \"/Users/thomashuber/miniconda3/envs/m1-master-thesis/lib/python3.9/site-packages/IPython/core/async_helpers.py\", line 129, in _pseudo_sync_runner\n      coro.send(None)\n    File \"/Users/thomashuber/miniconda3/envs/m1-master-thesis/lib/python3.9/site-packages/IPython/core/interactiveshell.py\", line 3221, in run_cell_async\n      has_raised = await self.run_ast_nodes(code_ast.body, cell_name,\n    File \"/Users/thomashuber/miniconda3/envs/m1-master-thesis/lib/python3.9/site-packages/IPython/core/interactiveshell.py\", line 3400, in run_ast_nodes\n      if await self.run_code(code, result, async_=asy):\n    File \"/Users/thomashuber/miniconda3/envs/m1-master-thesis/lib/python3.9/site-packages/IPython/core/interactiveshell.py\", line 3460, in run_code\n      exec(code_obj, self.user_global_ns, self.user_ns)\n    File \"/var/folders/jp/3q1jwf6d5n11rx71jwtqcgv80000gn/T/ipykernel_63425/4021304812.py\", line 44, in <module>\n      model.fit(x=[dates_inputs, products_inputs], y=target_data, epochs=10, batch_size=32)  # Adjust epochs and batch size as needed\n    File \"/Users/thomashuber/miniconda3/envs/m1-master-thesis/lib/python3.9/site-packages/keras/utils/traceback_utils.py\", line 65, in error_handler\n      return fn(*args, **kwargs)\n    File \"/Users/thomashuber/miniconda3/envs/m1-master-thesis/lib/python3.9/site-packages/keras/engine/training.py\", line 1650, in fit\n      tmp_logs = self.train_function(iterator)\n    File \"/Users/thomashuber/miniconda3/envs/m1-master-thesis/lib/python3.9/site-packages/keras/engine/training.py\", line 1249, in train_function\n      return step_function(self, iterator)\n    File \"/Users/thomashuber/miniconda3/envs/m1-master-thesis/lib/python3.9/site-packages/keras/engine/training.py\", line 1233, in step_function\n      outputs = model.distribute_strategy.run(run_step, args=(data,))\n    File \"/Users/thomashuber/miniconda3/envs/m1-master-thesis/lib/python3.9/site-packages/keras/engine/training.py\", line 1222, in run_step\n      outputs = model.train_step(data)\n    File \"/Users/thomashuber/miniconda3/envs/m1-master-thesis/lib/python3.9/site-packages/keras/engine/training.py\", line 1023, in train_step\n      y_pred = self(x, training=True)\n    File \"/Users/thomashuber/miniconda3/envs/m1-master-thesis/lib/python3.9/site-packages/keras/utils/traceback_utils.py\", line 65, in error_handler\n      return fn(*args, **kwargs)\n    File \"/Users/thomashuber/miniconda3/envs/m1-master-thesis/lib/python3.9/site-packages/keras/engine/training.py\", line 561, in __call__\n      return super().__call__(*args, **kwargs)\n    File \"/Users/thomashuber/miniconda3/envs/m1-master-thesis/lib/python3.9/site-packages/keras/utils/traceback_utils.py\", line 65, in error_handler\n      return fn(*args, **kwargs)\n    File \"/Users/thomashuber/miniconda3/envs/m1-master-thesis/lib/python3.9/site-packages/keras/engine/base_layer.py\", line 1132, in __call__\n      outputs = call_fn(inputs, *args, **kwargs)\n    File \"/Users/thomashuber/miniconda3/envs/m1-master-thesis/lib/python3.9/site-packages/keras/utils/traceback_utils.py\", line 96, in error_handler\n      return fn(*args, **kwargs)\n    File \"/Users/thomashuber/miniconda3/envs/m1-master-thesis/lib/python3.9/site-packages/keras/engine/functional.py\", line 511, in call\n      return self._run_internal_graph(inputs, training=training, mask=mask)\n    File \"/Users/thomashuber/miniconda3/envs/m1-master-thesis/lib/python3.9/site-packages/keras/engine/functional.py\", line 668, in _run_internal_graph\n      outputs = node.layer(*args, **kwargs)\n    File \"/Users/thomashuber/miniconda3/envs/m1-master-thesis/lib/python3.9/site-packages/keras/utils/traceback_utils.py\", line 65, in error_handler\n      return fn(*args, **kwargs)\n    File \"/Users/thomashuber/miniconda3/envs/m1-master-thesis/lib/python3.9/site-packages/keras/engine/base_layer.py\", line 1132, in __call__\n      outputs = call_fn(inputs, *args, **kwargs)\n    File \"/Users/thomashuber/miniconda3/envs/m1-master-thesis/lib/python3.9/site-packages/keras/utils/traceback_utils.py\", line 96, in error_handler\n      return fn(*args, **kwargs)\n    File \"/Users/thomashuber/miniconda3/envs/m1-master-thesis/lib/python3.9/site-packages/keras/layers/core/embedding.py\", line 208, in call\n      out = tf.nn.embedding_lookup(self.embeddings, inputs)\nNode: 'model_29/embedding_74/embedding_lookup'\nindices[0,0] = 1654700416 is not in [0, 1000)\n\t [[{{node model_29/embedding_74/embedding_lookup}}]] [Op:__inference_train_function_36502]"
     ]
    }
   ],
   "source": [
    "from keras.layers import Reshape\n",
    "\n",
    "date_inputs = Input(shape=(max_length_dates,))\n",
    "product_inputs = Input(shape=(max_length_products,))\n",
    "\n",
    "print(dates_inputs.shape)\n",
    "print(products_inputs.shape)\n",
    "\n",
    "encoding_padding_mask = tf.math.logical_not(tf.math.equal(product_inputs, 0))\n",
    "\n",
    "# Embedding layers\n",
    "date_emb = Embedding(num_dates, 16, input_length=max_length_dates)(date_inputs)\n",
    "product_emb = Embedding(num_products, 16, input_length=max_length_products)(product_inputs)\n",
    "\n",
    "concat_embedding_input = Concatenate(\n",
    "    axis=-1, name='concat_embedding_input')([date_emb, product_emb])\n",
    "\n",
    "batchnorm_inputs = BatchNormalization(\n",
    "    name='batchnorm_inputs')(concat_embedding_input)\n",
    "# LSTM layer\n",
    "\n",
    "# reshaped_input = Reshape((max_length, -1))(concat_embedding_input)\n",
    "\n",
    "# reshaped_inputs = Reshape((max_length_dates, 7))(concat_embedding_input)\n",
    "lstm = LSTM(64, return_sequences=True)(concat_embedding_input)\n",
    "\n",
    "lstm = BatchNormalization(name='batchnorm_lstm')(lstm)\n",
    "\n",
    "att = Attention(use_scale=False,\n",
    "                name='attention')(inputs=[lstm, lstm],\n",
    "                                  mask=[encoding_padding_mask,\n",
    "                                        encoding_padding_mask])\n",
    "\n",
    "\n",
    "# Concatenate layer\n",
    "#concat = Concatenate(axis=2)([context, price_inputs])\n",
    "\n",
    "# Dense layer\n",
    "output = Dense(target_data.shape[1], activation = 'softmax')(att)\n",
    "# Define the model\n",
    "model = Model(inputs=[date_inputs, product_inputs], outputs=output)\n",
    "# Compile the model\n",
    "model.compile(loss='mean_squared_error', optimizer='adam', metrics=['mse'])\n",
    "model.fit(x=[dates_inputs, products_inputs], y=target_data, epochs=10, batch_size=32)  # Adjust epochs and batch size as needed\n"
   ],
   "metadata": {
    "collapsed": false
   }
  },
  {
   "cell_type": "code",
   "execution_count": null,
   "outputs": [],
   "source": [
    "# Input layers\n",
    "date_inputs = Input(shape=dates_inputs.shape)\n",
    "# product_inputs = Input(shape=(num_orders, num_units))\n",
    "product_inputs = Input(products_inputs.shape)\n",
    "# price_inputs = Input(shape=(num_orders, num_prices))\n",
    "\n",
    "encoding_padding_mask = tf.math.logical_not(tf.math.equal(product_inputs, 0))\n",
    "\n",
    "# Embedding layers\n",
    "date_emb = Embedding(num_dates, 16, input_length=num_dates)(date_inputs)\n",
    "product_emb = Embedding(num_products, 16, input_length=num_units)(product_inputs)\n",
    "\n",
    "concat_embedding_input = Concatenate(\n",
    "    name='concat_embedding_input')([date_emb, product_emb])\n",
    "\n",
    "concat_embedding_input = BatchNormalization(\n",
    "    name='batchnorm_inputs')(concat_embedding_input)\n",
    "# LSTM layer\n",
    "\n",
    "lstm = LSTM(64, return_sequences=True)(concat_embedding_input)\n",
    "\n",
    "lstm = BatchNormalization(name='batchnorm_lstm')(lstm)\n",
    "\n",
    "att = Attention(use_scale=False,\n",
    "                                name='attention')(inputs=[lstm, lstm],\n",
    "                                                  mask=[encoding_padding_mask,\n",
    "                                                        encoding_padding_mask])\n",
    "\n",
    "\n",
    "# Concatenate layer\n",
    "#concat = Concatenate(axis=2)([context, price_inputs])\n",
    "\n",
    "# Dense layer\n",
    "output = Dense(1)(att)\n",
    "# Define the model\n",
    "model = Model(inputs=[date_inputs, product_inputs], outputs=output)\n",
    "# Compile the model\n",
    "model.compile(loss='mean_squared_error', optimizer='adam', metrics=['mse'])"
   ],
   "metadata": {
    "collapsed": false
   }
  },
  {
   "cell_type": "code",
   "execution_count": null,
   "outputs": [],
   "source": [
    "# Fit the model\n",
    "model.fit(x=[dates_inputs, products_inputs], y=target_data, epochs=10, batch_size=32)  # Adjust epochs and batch size as needed\n"
   ],
   "metadata": {
    "collapsed": false
   }
  },
  {
   "cell_type": "code",
   "execution_count": null,
   "outputs": [],
   "source": [
    "#display(X_train)\n",
    "#output\n",
    "\n",
    "# product_ids_flat = product_data.product_ids.to_numpy().reshape(-1)\n",
    "# order_dates_flat = product_data.order_dates.to_numpy().reshape(-1)\n",
    "\n",
    "# Create the output variable\n",
    "output_variable = product_data.amounts.to_numpy().reshape(-1, 1)\n",
    "\n",
    "# Create the dataset\n",
    "dataset = tf.data.Dataset.from_tensor_slices((product_data.order_dates.to_numpy(), product_data.product_ids.to_numpy(), output_variable))\n",
    "\n",
    "# Fit the model\n",
    "history = model.fit(dataset, epochs=50, batch_size=32)\n"
   ],
   "metadata": {
    "collapsed": false
   }
  },
  {
   "cell_type": "code",
   "execution_count": null,
   "outputs": [],
   "source": [
    "display(order_dates_flat)"
   ],
   "metadata": {
    "collapsed": false
   }
  },
  {
   "cell_type": "code",
   "execution_count": null,
   "outputs": [],
   "source": [
    "y = []\n",
    "output_variable = product_data.amounts.to_numpy().reshape(-1, 1)\n",
    "dataset = tf.data.Dataset.from_tensor_slices((np.array(product_data.order_dates), np.array(product_data.product_ids), output_variable))\n",
    "history = model.fit(dataset, epochs=50, batch_size=32)"
   ],
   "metadata": {
    "collapsed": false
   }
  },
  {
   "cell_type": "code",
   "execution_count": null,
   "outputs": [],
   "source": [
    "# Evaluate the model\n",
    "loss, mse = model.evaluate([product_data.order_dates_test, product_data.product_ids_test, product_data.total_prices_test], product_data.total_prices_test)\n",
    "print(\"Test loss: {:.4f}, Test MSE: {:.4f}\".format(loss, mse))"
   ],
   "metadata": {
    "collapsed": false
   }
  },
  {
   "cell_type": "code",
   "execution_count": null,
   "outputs": [],
   "source": [
    "# split the data into training and testing sets\n",
    "#X = pd.get_dummies(product_data['product__id'], prefix='product')\n",
    "#y = product_data['amount']\n",
    "#X_train, X_test, y_train, y_test = train_test_split(X, y, test_size=0.2, random_state=42)"
   ],
   "metadata": {
    "collapsed": false
   }
  },
  {
   "cell_type": "code",
   "execution_count": null,
   "outputs": [],
   "source": [],
   "metadata": {
    "collapsed": false
   }
  }
 ],
 "metadata": {
  "kernelspec": {
   "display_name": "Python 3",
   "language": "python",
   "name": "python3"
  },
  "language_info": {
   "codemirror_mode": {
    "name": "ipython",
    "version": 2
   },
   "file_extension": ".py",
   "mimetype": "text/x-python",
   "name": "python",
   "nbconvert_exporter": "python",
   "pygments_lexer": "ipython2",
   "version": "2.7.6"
  }
 },
 "nbformat": 4,
 "nbformat_minor": 0
}
