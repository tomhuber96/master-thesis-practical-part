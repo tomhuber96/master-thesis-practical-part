{
 "cells": [
  {
   "cell_type": "code",
   "execution_count": 1,
   "metadata": {
    "collapsed": true
   },
   "outputs": [],
   "source": [
    "import pandas as pd\n",
    "from keras.layers import Input, Embedding, LSTM, Dense, Dot, Softmax, Concatenate, BatchNormalization, Attention\n",
    "from keras.models import Model\n",
    "import tensorflow as tf\n",
    "import numpy as np\n",
    "from keras.utils import pad_sequences\n",
    "from datetime import datetime\n",
    "import mlflow\n",
    "from sklearn.model_selection import train_test_split\n"
   ]
  },
  {
   "cell_type": "code",
   "execution_count": 2,
   "outputs": [],
   "source": [
    "activate_mlflow = False\n",
    "\n",
    "if activate_mlflow:\n",
    "    registry_uri = \"sqlite:///mlflow.db\"\n",
    "    tracking_uri = \"http://127.0.0.1:5000\"\n",
    "    exp_name = \"RNN Attention\"\n",
    "\n",
    "    mlflow.tracking.set_registry_uri(registry_uri)\n",
    "    mlflow.tracking.set_tracking_uri(tracking_uri)\n",
    "\n",
    "    try:\n",
    "        exp_id = mlflow.create_experiment(name=exp_name)\n",
    "    except:\n",
    "        exp_id = mlflow.get_experiment_by_name(name=exp_name).experiment_id\n",
    "\n",
    "    run_name = 'RNN_V1'\n",
    "    mlflow.start_run(run_name=run_name, experiment_id=exp_id)\n"
   ],
   "metadata": {
    "collapsed": false
   }
  },
  {
   "cell_type": "code",
   "execution_count": 3,
   "outputs": [],
   "source": [
    "basepath = '../../datasets/preprocessed_datasets/gabor/'\n",
    "product_data = pd.read_pickle(basepath +'orders_and_products_by_customer.pkl')"
   ],
   "metadata": {
    "collapsed": false
   }
  },
  {
   "cell_type": "code",
   "execution_count": 4,
   "outputs": [
    {
     "data": {
      "text/plain": "        customer_id                                       order_ids  \\\n0         1940761.0  [5624878, 7011005, 7673667, 8888291, 11032470]   \n1         1940767.0                                       [5108369]   \n2         1940775.0                              [4962102, 6875196]   \n3         1940782.0                                       [7417330]   \n4         1940806.0                                      [10781348]   \n...             ...                                             ...   \n357774   11128024.0                                      [11128020]   \n357775   11128039.0                                      [11128051]   \n357776   11128082.0                                      [11128080]   \n357777   11128095.0                                      [11128092]   \n357778   11128129.0                                      [11128127]   \n\n                                              product_ids  \\\n0       [[4839681, 4839682], [6596395], [6523930], [86...   \n1                                    [[3849255, 4822681]]   \n2                         [[3907778], [6556855, 6556856]]   \n3                                    [[6407177, 6435918]]   \n4                                             [[8642140]]   \n...                                                   ...   \n357774                               [[589817, 10560958]]   \n357775                                       [[10451840]]   \n357776                                       [[10559336]]   \n357777                                       [[10504300]]   \n357778                                       [[10366497]]   \n\n                                            product_names  \\\n0       [[PG1018 Slipper Materialmix Leder/Textil grün...   \n1       [[Spangenpumps Textil silber, Plateau Pumps Ra...   \n2       [[Chelsea Boot Rauleder schwarz], [Slipper Rau...   \n3       [[Elegante Stiefelette Glattleder schwarz, Win...   \n4                       [[Chelsea Boot Rauleder schwarz]]   \n...                                                   ...   \n357774  [[Eleganter Pumps Glattleder blau, Eleganter P...   \n357775                      [[Sneaker low Rauleder pink]]   \n357776              [[Eleganter Pumps Effektleder beige]]   \n357777             [[Sneaker low Materialmix Leder pink]]   \n357778             [[Sneaker low Materialmix Leder weiß]]   \n\n                                   amounts  \\\n0       [[1, 1], [1], [1], [1, 1], [1, 1]]   \n1                                 [[1, 1]]   \n2                            [[1], [1, 1]]   \n3                                 [[1, 1]]   \n4                                    [[1]]   \n...                                    ...   \n357774                            [[1, 1]]   \n357775                               [[1]]   \n357776                               [[1]]   \n357777                               [[1]]   \n357778                               [[1]]   \n\n                                             total_prices  \\\n0       [[62.65, 62.65], [51.77], [46.77], [96.69, 91....   \n1                                        [[99.95, 99.95]]   \n2                                [[69.0], [99.95, 99.95]]   \n3                                        [[125.0, 99.95]]   \n4                                                [[69.0]]   \n...                                                   ...   \n357774                                   [[89.95, 99.95]]   \n357775                                          [[120.0]]   \n357776                                          [[110.0]]   \n357777                                          [[115.0]]   \n357778                                          [[140.0]]   \n\n                                              order_dates  \n0       [[737895, 737895], [738067], [738140], [738319...  \n1                                      [[737830, 737830]]  \n2                            [[737809], [738053, 738053]]  \n3                                      [[738107, 738107]]  \n4                                              [[738565]]  \n...                                                   ...  \n357774                                 [[738602, 738602]]  \n357775                                         [[738602]]  \n357776                                         [[738602]]  \n357777                                         [[738602]]  \n357778                                         [[738602]]  \n\n[357779 rows x 7 columns]",
      "text/html": "<div>\n<style scoped>\n    .dataframe tbody tr th:only-of-type {\n        vertical-align: middle;\n    }\n\n    .dataframe tbody tr th {\n        vertical-align: top;\n    }\n\n    .dataframe thead th {\n        text-align: right;\n    }\n</style>\n<table border=\"1\" class=\"dataframe\">\n  <thead>\n    <tr style=\"text-align: right;\">\n      <th></th>\n      <th>customer_id</th>\n      <th>order_ids</th>\n      <th>product_ids</th>\n      <th>product_names</th>\n      <th>amounts</th>\n      <th>total_prices</th>\n      <th>order_dates</th>\n    </tr>\n  </thead>\n  <tbody>\n    <tr>\n      <th>0</th>\n      <td>1940761.0</td>\n      <td>[5624878, 7011005, 7673667, 8888291, 11032470]</td>\n      <td>[[4839681, 4839682], [6596395], [6523930], [86...</td>\n      <td>[[PG1018 Slipper Materialmix Leder/Textil grün...</td>\n      <td>[[1, 1], [1], [1], [1, 1], [1, 1]]</td>\n      <td>[[62.65, 62.65], [51.77], [46.77], [96.69, 91....</td>\n      <td>[[737895, 737895], [738067], [738140], [738319...</td>\n    </tr>\n    <tr>\n      <th>1</th>\n      <td>1940767.0</td>\n      <td>[5108369]</td>\n      <td>[[3849255, 4822681]]</td>\n      <td>[[Spangenpumps Textil silber, Plateau Pumps Ra...</td>\n      <td>[[1, 1]]</td>\n      <td>[[99.95, 99.95]]</td>\n      <td>[[737830, 737830]]</td>\n    </tr>\n    <tr>\n      <th>2</th>\n      <td>1940775.0</td>\n      <td>[4962102, 6875196]</td>\n      <td>[[3907778], [6556855, 6556856]]</td>\n      <td>[[Chelsea Boot Rauleder schwarz], [Slipper Rau...</td>\n      <td>[[1], [1, 1]]</td>\n      <td>[[69.0], [99.95, 99.95]]</td>\n      <td>[[737809], [738053, 738053]]</td>\n    </tr>\n    <tr>\n      <th>3</th>\n      <td>1940782.0</td>\n      <td>[7417330]</td>\n      <td>[[6407177, 6435918]]</td>\n      <td>[[Elegante Stiefelette Glattleder schwarz, Win...</td>\n      <td>[[1, 1]]</td>\n      <td>[[125.0, 99.95]]</td>\n      <td>[[738107, 738107]]</td>\n    </tr>\n    <tr>\n      <th>4</th>\n      <td>1940806.0</td>\n      <td>[10781348]</td>\n      <td>[[8642140]]</td>\n      <td>[[Chelsea Boot Rauleder schwarz]]</td>\n      <td>[[1]]</td>\n      <td>[[69.0]]</td>\n      <td>[[738565]]</td>\n    </tr>\n    <tr>\n      <th>...</th>\n      <td>...</td>\n      <td>...</td>\n      <td>...</td>\n      <td>...</td>\n      <td>...</td>\n      <td>...</td>\n      <td>...</td>\n    </tr>\n    <tr>\n      <th>357774</th>\n      <td>11128024.0</td>\n      <td>[11128020]</td>\n      <td>[[589817, 10560958]]</td>\n      <td>[[Eleganter Pumps Glattleder blau, Eleganter P...</td>\n      <td>[[1, 1]]</td>\n      <td>[[89.95, 99.95]]</td>\n      <td>[[738602, 738602]]</td>\n    </tr>\n    <tr>\n      <th>357775</th>\n      <td>11128039.0</td>\n      <td>[11128051]</td>\n      <td>[[10451840]]</td>\n      <td>[[Sneaker low Rauleder pink]]</td>\n      <td>[[1]]</td>\n      <td>[[120.0]]</td>\n      <td>[[738602]]</td>\n    </tr>\n    <tr>\n      <th>357776</th>\n      <td>11128082.0</td>\n      <td>[11128080]</td>\n      <td>[[10559336]]</td>\n      <td>[[Eleganter Pumps Effektleder beige]]</td>\n      <td>[[1]]</td>\n      <td>[[110.0]]</td>\n      <td>[[738602]]</td>\n    </tr>\n    <tr>\n      <th>357777</th>\n      <td>11128095.0</td>\n      <td>[11128092]</td>\n      <td>[[10504300]]</td>\n      <td>[[Sneaker low Materialmix Leder pink]]</td>\n      <td>[[1]]</td>\n      <td>[[115.0]]</td>\n      <td>[[738602]]</td>\n    </tr>\n    <tr>\n      <th>357778</th>\n      <td>11128129.0</td>\n      <td>[11128127]</td>\n      <td>[[10366497]]</td>\n      <td>[[Sneaker low Materialmix Leder weiß]]</td>\n      <td>[[1]]</td>\n      <td>[[140.0]]</td>\n      <td>[[738602]]</td>\n    </tr>\n  </tbody>\n</table>\n<p>357779 rows × 7 columns</p>\n</div>"
     },
     "execution_count": 4,
     "metadata": {},
     "output_type": "execute_result"
    }
   ],
   "source": [
    "#product_data = product_data.sample(n=1000)\n",
    "# convert dates to ordinal\n",
    "product_data['order_dates'] = product_data['order_dates'].apply(lambda x: [ [datetime.fromtimestamp(date).date().toordinal() for date in dateList] for dateList in x] )\n",
    "product_data"
   ],
   "metadata": {
    "collapsed": false
   }
  },
  {
   "cell_type": "code",
   "execution_count": 5,
   "outputs": [],
   "source": [
    "def bringToSameSizeOneDim(column):\n",
    "    max_length = max(column.apply(len))\n",
    "    return column.apply(lambda x: x + [0] * (max_length - len(x)))\n",
    "\n",
    "\n",
    "def bringToSameSizeTwoDimAndFlatten(column):\n",
    "    max_length = max(column.apply(lambda x: max(len(sublist) for sublist in x)))\n",
    "    new_column = column.apply(lambda x: [sublist + [0] * (max_length - len(sublist)) for sublist in x])\n",
    "    new_column = new_column.apply(lambda x: x + [[0] * max_length] * (max_length - len(x)))\n",
    "    return new_column.apply(lambda x: [item for sublist in x for item in sublist])\n",
    "\n",
    "product_data.order_ids = bringToSameSizeOneDim(product_data.order_ids)\n",
    "product_data.product_ids = bringToSameSizeTwoDimAndFlatten(product_data.product_ids)\n",
    "product_data.amounts = bringToSameSizeTwoDimAndFlatten(product_data.amounts)\n",
    "product_data.total_prices = bringToSameSizeTwoDimAndFlatten(product_data.total_prices)\n",
    "product_data.order_dates = bringToSameSizeTwoDimAndFlatten(product_data.order_dates)\n"
   ],
   "metadata": {
    "collapsed": false
   }
  },
  {
   "cell_type": "code",
   "execution_count": 6,
   "outputs": [],
   "source": [
    "\n",
    "\n",
    "def convertToSequence(column):\n",
    "    list = column.tolist()\n",
    "    max_length = max(len(x) for x in list)\n",
    "    return pad_sequences(list, maxlen=max_length, padding='post', value=0), max_length\n",
    "\n",
    "products_inputs, max_length_products = convertToSequence(product_data.product_ids)\n",
    "dates_inputs, max_length_dates = convertToSequence(product_data.order_dates)\n",
    "target_data, _ = convertToSequence(product_data.amounts)\n",
    "target_data = np.expand_dims(target_data, axis=-1)\n",
    "num_targets = target_data.shape[1]\n",
    "\n",
    "\n",
    "#X_train, X_test, y_train, y_test = train_test_split(\n",
    "#    [products_inputs, dates_inputs], num_targets, test_size=0.33, random_state=42)\n",
    "\n",
    "#display(X_train, X_test, y_train, y_test)"
   ],
   "metadata": {
    "collapsed": false
   }
  },
  {
   "cell_type": "code",
   "execution_count": 7,
   "outputs": [
    {
     "data": {
      "text/plain": "525"
     },
     "metadata": {},
     "output_type": "display_data"
    },
    {
     "data": {
      "text/plain": "525"
     },
     "metadata": {},
     "output_type": "display_data"
    },
    {
     "data": {
      "text/plain": "(357779, 525, 1)"
     },
     "metadata": {},
     "output_type": "display_data"
    },
    {
     "data": {
      "text/plain": "array([[[1],\n        [1],\n        [0],\n        ...,\n        [0],\n        [0],\n        [0]],\n\n       [[1],\n        [1],\n        [0],\n        ...,\n        [0],\n        [0],\n        [0]],\n\n       [[1],\n        [0],\n        [0],\n        ...,\n        [0],\n        [0],\n        [0]],\n\n       ...,\n\n       [[1],\n        [0],\n        [0],\n        ...,\n        [0],\n        [0],\n        [0]],\n\n       [[1],\n        [0],\n        [0],\n        ...,\n        [0],\n        [0],\n        [0]],\n\n       [[1],\n        [0],\n        [0],\n        ...,\n        [0],\n        [0],\n        [0]]], dtype=int32)"
     },
     "metadata": {},
     "output_type": "display_data"
    },
    {
     "data": {
      "text/plain": "array([[737895, 737895,      0, ...,      0,      0,      0],\n       [737830, 737830,      0, ...,      0,      0,      0],\n       [737809,      0,      0, ...,      0,      0,      0],\n       ...,\n       [738602,      0,      0, ...,      0,      0,      0],\n       [738602,      0,      0, ...,      0,      0,      0],\n       [738602,      0,      0, ...,      0,      0,      0]], dtype=int32)"
     },
     "metadata": {},
     "output_type": "display_data"
    },
    {
     "data": {
      "text/plain": "array([[ 4839681,  4839682,        0, ...,        0,        0,        0],\n       [ 3849255,  4822681,        0, ...,        0,        0,        0],\n       [ 3907778,        0,        0, ...,        0,        0,        0],\n       ...,\n       [10559336,        0,        0, ...,        0,        0,        0],\n       [10504300,        0,        0, ...,        0,        0,        0],\n       [10366497,        0,        0, ...,        0,        0,        0]],\n      dtype=int32)"
     },
     "metadata": {},
     "output_type": "display_data"
    }
   ],
   "source": [
    "display(max_length_dates, dates_inputs.shape[1], target_data.shape)\n",
    "display(target_data)\n",
    "display(dates_inputs)\n",
    "display(products_inputs)\n",
    "# 1602099712"
   ],
   "metadata": {
    "collapsed": false
   }
  },
  {
   "cell_type": "code",
   "execution_count": 8,
   "outputs": [],
   "source": [
    "num_dates = len(np.unique(product_data.order_dates))\n",
    "num_products = len(np.unique(product_data.product_ids))\n",
    "max_index = max(np.max(dates_inputs), np.max(products_inputs))\n",
    "vocab_size = max_index + 1\n",
    "max_date = np.max(np.unique(product_data.order_dates.apply(np.unique).apply(max))) + 1\n",
    "max_product_ids = np.max(np.unique(product_data.product_ids.apply(np.unique).apply(max))) + 1"
   ],
   "metadata": {
    "collapsed": false
   }
  },
  {
   "cell_type": "code",
   "execution_count": 9,
   "outputs": [
    {
     "name": "stdout",
     "output_type": "stream",
     "text": [
      "Model: \"model\"\n",
      "__________________________________________________________________________________________________\n",
      " Layer (type)                   Output Shape         Param #     Connected to                     \n",
      "==================================================================================================\n",
      " input_1 (InputLayer)           [(None, 525)]        0           []                               \n",
      "                                                                                                  \n",
      " input_2 (InputLayer)           [(None, 525)]        0           []                               \n",
      "                                                                                                  \n",
      " embedding (Embedding)          (None, 525, 16)      11817648    ['input_1[0][0]']                \n",
      "                                                                                                  \n",
      " embedding_1 (Embedding)        (None, 525, 16)      177656384   ['input_2[0][0]']                \n",
      "                                                                                                  \n",
      " concat_embedding_input (Concat  (None, 525, 32)     0           ['embedding[0][0]',              \n",
      " enate)                                                           'embedding_1[0][0]']            \n",
      "                                                                                                  \n",
      " lstm_1 (LSTM)                  (None, 525, 64)      24832       ['concat_embedding_input[0][0]'] \n",
      "                                                                                                  \n",
      " tf.math.equal (TFOpLambda)     (None, 525)          0           ['input_2[0][0]']                \n",
      "                                                                                                  \n",
      " batchnorm_lstm (BatchNormaliza  (None, 525, 64)     256         ['lstm_1[0][0]']                 \n",
      " tion)                                                                                            \n",
      "                                                                                                  \n",
      " tf.math.logical_not (TFOpLambd  (None, 525)         0           ['tf.math.equal[0][0]']          \n",
      " a)                                                                                               \n",
      "                                                                                                  \n",
      " attention (Attention)          (None, 525, 64)      0           ['batchnorm_lstm[0][0]',         \n",
      "                                                                  'batchnorm_lstm[0][0]',         \n",
      "                                                                  'tf.math.logical_not[0][0]',    \n",
      "                                                                  'tf.math.logical_not[0][0]']    \n",
      "                                                                                                  \n",
      " dense (Dense)                  (None, 525, 525)     34125       ['attention[0][0]']              \n",
      "                                                                                                  \n",
      "==================================================================================================\n",
      "Total params: 189,533,245\n",
      "Trainable params: 189,533,117\n",
      "Non-trainable params: 128\n",
      "__________________________________________________________________________________________________\n"
     ]
    }
   ],
   "source": [
    "date_embedding_dim = 16\n",
    "product_embedding_dim = 16\n",
    "date_inputs = Input(shape=(max_length_dates,))\n",
    "product_inputs = Input(shape=(max_length_products,))\n",
    "\n",
    "encoding_padding_mask = tf.math.logical_not(tf.math.equal(product_inputs, 0))\n",
    "\n",
    "date_emb = Embedding(max_date, date_embedding_dim, input_length=max_length_dates)(date_inputs)\n",
    "product_emb = Embedding(max_product_ids, product_embedding_dim, input_length=max_length_products)(product_inputs)\n",
    "\n",
    "\n",
    "concat_embedding_input = Concatenate(\n",
    "    axis=-1, name='concat_embedding_input')([date_emb, product_emb])\n",
    "\n",
    "batchnorm_inputs = BatchNormalization(\n",
    "    name='batchnorm_inputs')(concat_embedding_input)\n",
    "# LSTM layer\n",
    "lstm = LSTM(64, return_sequences=True)(concat_embedding_input)\n",
    "\n",
    "lstm = BatchNormalization(name='batchnorm_lstm')(lstm)\n",
    "# LSTM layer\n",
    "lstm = LSTM(64, return_sequences=True)(concat_embedding_input)\n",
    "\n",
    "lstm = BatchNormalization(name='batchnorm_lstm')(lstm)\n",
    "\n",
    "att = Attention(use_scale=False,\n",
    "                name='attention')(inputs=[lstm, lstm],\n",
    "                                  mask=[encoding_padding_mask,\n",
    "                                        encoding_padding_mask])\n",
    "\n",
    "output = Dense(num_targets)(att)\n",
    "model = Model(inputs=[date_inputs, product_inputs], outputs=output)\n",
    "model.compile(loss='mean_squared_error', optimizer='adam', metrics=['mse', 'mae', 'accuracy'])\n",
    "model.summary()"
   ],
   "metadata": {
    "collapsed": false
   }
  },
  {
   "cell_type": "code",
   "execution_count": 10,
   "outputs": [
    {
     "name": "stdout",
     "output_type": "stream",
     "text": [
      "Epoch 1/15\n"
     ]
    },
    {
     "name": "stderr",
     "output_type": "stream",
     "text": [
      "2023-06-04 18:31:10.402375: W tensorflow/tsl/platform/profile_utils/cpu_utils.cc:128] Failed to get CPU frequency: 0 Hz\n",
      "2023-06-04 18:31:11.263961: W tensorflow/core/grappler/costs/op_level_cost_estimator.cc:690] Error in PredictCost() for the op: op: \"Softmax\" attr { key: \"T\" value { type: DT_FLOAT } } inputs { dtype: DT_FLOAT shape { unknown_rank: true } } device { type: \"CPU\" model: \"0\" num_cores: 10 environment { key: \"cpu_instruction_set\" value: \"ARM NEON\" } environment { key: \"eigen\" value: \"3.4.90\" } l1_cache_size: 16384 l2_cache_size: 524288 l3_cache_size: 524288 memory_size: 268435456 } outputs { dtype: DT_FLOAT shape { unknown_rank: true } }\n"
     ]
    },
    {
     "name": "stdout",
     "output_type": "stream",
     "text": [
      "   60/11181 [..............................] - ETA: 1:41:34 - loss: 0.1720 - mse: 0.1652 - mae: 0.2431 - accuracy: 0.0062"
     ]
    },
    {
     "ename": "KeyboardInterrupt",
     "evalue": "",
     "output_type": "error",
     "traceback": [
      "\u001B[0;31m---------------------------------------------------------------------------\u001B[0m",
      "\u001B[0;31mKeyboardInterrupt\u001B[0m                         Traceback (most recent call last)",
      "Cell \u001B[0;32mIn[10], line 3\u001B[0m\n\u001B[1;32m      1\u001B[0m epochs \u001B[38;5;241m=\u001B[39m \u001B[38;5;241m15\u001B[39m\n\u001B[1;32m      2\u001B[0m batch_size \u001B[38;5;241m=\u001B[39m \u001B[38;5;241m32\u001B[39m\n\u001B[0;32m----> 3\u001B[0m history \u001B[38;5;241m=\u001B[39m \u001B[43mmodel\u001B[49m\u001B[38;5;241;43m.\u001B[39;49m\u001B[43mfit\u001B[49m\u001B[43m(\u001B[49m\u001B[43m[\u001B[49m\u001B[43mdates_inputs\u001B[49m\u001B[43m,\u001B[49m\u001B[43m \u001B[49m\u001B[43mproducts_inputs\u001B[49m\u001B[43m]\u001B[49m\u001B[43m,\u001B[49m\u001B[43m \u001B[49m\u001B[43mtarget_data\u001B[49m\u001B[43m,\u001B[49m\u001B[43m \u001B[49m\u001B[43mepochs\u001B[49m\u001B[38;5;241;43m=\u001B[39;49m\u001B[43mepochs\u001B[49m\u001B[43m,\u001B[49m\u001B[43m \u001B[49m\u001B[43mbatch_size\u001B[49m\u001B[38;5;241;43m=\u001B[39;49m\u001B[43mbatch_size\u001B[49m\u001B[43m)\u001B[49m  \u001B[38;5;66;03m# Adjust epochs and batch size as needed\u001B[39;00m\n",
      "File \u001B[0;32m~/miniconda3/envs/m1-master-thesis/lib/python3.9/site-packages/keras/utils/traceback_utils.py:65\u001B[0m, in \u001B[0;36mfilter_traceback.<locals>.error_handler\u001B[0;34m(*args, **kwargs)\u001B[0m\n\u001B[1;32m     63\u001B[0m filtered_tb \u001B[38;5;241m=\u001B[39m \u001B[38;5;28;01mNone\u001B[39;00m\n\u001B[1;32m     64\u001B[0m \u001B[38;5;28;01mtry\u001B[39;00m:\n\u001B[0;32m---> 65\u001B[0m     \u001B[38;5;28;01mreturn\u001B[39;00m \u001B[43mfn\u001B[49m\u001B[43m(\u001B[49m\u001B[38;5;241;43m*\u001B[39;49m\u001B[43margs\u001B[49m\u001B[43m,\u001B[49m\u001B[43m \u001B[49m\u001B[38;5;241;43m*\u001B[39;49m\u001B[38;5;241;43m*\u001B[39;49m\u001B[43mkwargs\u001B[49m\u001B[43m)\u001B[49m\n\u001B[1;32m     66\u001B[0m \u001B[38;5;28;01mexcept\u001B[39;00m \u001B[38;5;167;01mException\u001B[39;00m \u001B[38;5;28;01mas\u001B[39;00m e:\n\u001B[1;32m     67\u001B[0m     filtered_tb \u001B[38;5;241m=\u001B[39m _process_traceback_frames(e\u001B[38;5;241m.\u001B[39m__traceback__)\n",
      "File \u001B[0;32m~/miniconda3/envs/m1-master-thesis/lib/python3.9/site-packages/keras/engine/training.py:1650\u001B[0m, in \u001B[0;36mModel.fit\u001B[0;34m(self, x, y, batch_size, epochs, verbose, callbacks, validation_split, validation_data, shuffle, class_weight, sample_weight, initial_epoch, steps_per_epoch, validation_steps, validation_batch_size, validation_freq, max_queue_size, workers, use_multiprocessing)\u001B[0m\n\u001B[1;32m   1642\u001B[0m \u001B[38;5;28;01mwith\u001B[39;00m tf\u001B[38;5;241m.\u001B[39mprofiler\u001B[38;5;241m.\u001B[39mexperimental\u001B[38;5;241m.\u001B[39mTrace(\n\u001B[1;32m   1643\u001B[0m     \u001B[38;5;124m\"\u001B[39m\u001B[38;5;124mtrain\u001B[39m\u001B[38;5;124m\"\u001B[39m,\n\u001B[1;32m   1644\u001B[0m     epoch_num\u001B[38;5;241m=\u001B[39mepoch,\n\u001B[0;32m   (...)\u001B[0m\n\u001B[1;32m   1647\u001B[0m     _r\u001B[38;5;241m=\u001B[39m\u001B[38;5;241m1\u001B[39m,\n\u001B[1;32m   1648\u001B[0m ):\n\u001B[1;32m   1649\u001B[0m     callbacks\u001B[38;5;241m.\u001B[39mon_train_batch_begin(step)\n\u001B[0;32m-> 1650\u001B[0m     tmp_logs \u001B[38;5;241m=\u001B[39m \u001B[38;5;28;43mself\u001B[39;49m\u001B[38;5;241;43m.\u001B[39;49m\u001B[43mtrain_function\u001B[49m\u001B[43m(\u001B[49m\u001B[43miterator\u001B[49m\u001B[43m)\u001B[49m\n\u001B[1;32m   1651\u001B[0m     \u001B[38;5;28;01mif\u001B[39;00m data_handler\u001B[38;5;241m.\u001B[39mshould_sync:\n\u001B[1;32m   1652\u001B[0m         context\u001B[38;5;241m.\u001B[39masync_wait()\n",
      "File \u001B[0;32m~/miniconda3/envs/m1-master-thesis/lib/python3.9/site-packages/tensorflow/python/util/traceback_utils.py:150\u001B[0m, in \u001B[0;36mfilter_traceback.<locals>.error_handler\u001B[0;34m(*args, **kwargs)\u001B[0m\n\u001B[1;32m    148\u001B[0m filtered_tb \u001B[38;5;241m=\u001B[39m \u001B[38;5;28;01mNone\u001B[39;00m\n\u001B[1;32m    149\u001B[0m \u001B[38;5;28;01mtry\u001B[39;00m:\n\u001B[0;32m--> 150\u001B[0m   \u001B[38;5;28;01mreturn\u001B[39;00m \u001B[43mfn\u001B[49m\u001B[43m(\u001B[49m\u001B[38;5;241;43m*\u001B[39;49m\u001B[43margs\u001B[49m\u001B[43m,\u001B[49m\u001B[43m \u001B[49m\u001B[38;5;241;43m*\u001B[39;49m\u001B[38;5;241;43m*\u001B[39;49m\u001B[43mkwargs\u001B[49m\u001B[43m)\u001B[49m\n\u001B[1;32m    151\u001B[0m \u001B[38;5;28;01mexcept\u001B[39;00m \u001B[38;5;167;01mException\u001B[39;00m \u001B[38;5;28;01mas\u001B[39;00m e:\n\u001B[1;32m    152\u001B[0m   filtered_tb \u001B[38;5;241m=\u001B[39m _process_traceback_frames(e\u001B[38;5;241m.\u001B[39m__traceback__)\n",
      "File \u001B[0;32m~/miniconda3/envs/m1-master-thesis/lib/python3.9/site-packages/tensorflow/python/eager/polymorphic_function/polymorphic_function.py:880\u001B[0m, in \u001B[0;36mFunction.__call__\u001B[0;34m(self, *args, **kwds)\u001B[0m\n\u001B[1;32m    877\u001B[0m compiler \u001B[38;5;241m=\u001B[39m \u001B[38;5;124m\"\u001B[39m\u001B[38;5;124mxla\u001B[39m\u001B[38;5;124m\"\u001B[39m \u001B[38;5;28;01mif\u001B[39;00m \u001B[38;5;28mself\u001B[39m\u001B[38;5;241m.\u001B[39m_jit_compile \u001B[38;5;28;01melse\u001B[39;00m \u001B[38;5;124m\"\u001B[39m\u001B[38;5;124mnonXla\u001B[39m\u001B[38;5;124m\"\u001B[39m\n\u001B[1;32m    879\u001B[0m \u001B[38;5;28;01mwith\u001B[39;00m OptionalXlaContext(\u001B[38;5;28mself\u001B[39m\u001B[38;5;241m.\u001B[39m_jit_compile):\n\u001B[0;32m--> 880\u001B[0m   result \u001B[38;5;241m=\u001B[39m \u001B[38;5;28;43mself\u001B[39;49m\u001B[38;5;241;43m.\u001B[39;49m\u001B[43m_call\u001B[49m\u001B[43m(\u001B[49m\u001B[38;5;241;43m*\u001B[39;49m\u001B[43margs\u001B[49m\u001B[43m,\u001B[49m\u001B[43m \u001B[49m\u001B[38;5;241;43m*\u001B[39;49m\u001B[38;5;241;43m*\u001B[39;49m\u001B[43mkwds\u001B[49m\u001B[43m)\u001B[49m\n\u001B[1;32m    882\u001B[0m new_tracing_count \u001B[38;5;241m=\u001B[39m \u001B[38;5;28mself\u001B[39m\u001B[38;5;241m.\u001B[39mexperimental_get_tracing_count()\n\u001B[1;32m    883\u001B[0m without_tracing \u001B[38;5;241m=\u001B[39m (tracing_count \u001B[38;5;241m==\u001B[39m new_tracing_count)\n",
      "File \u001B[0;32m~/miniconda3/envs/m1-master-thesis/lib/python3.9/site-packages/tensorflow/python/eager/polymorphic_function/polymorphic_function.py:912\u001B[0m, in \u001B[0;36mFunction._call\u001B[0;34m(self, *args, **kwds)\u001B[0m\n\u001B[1;32m    909\u001B[0m   \u001B[38;5;28mself\u001B[39m\u001B[38;5;241m.\u001B[39m_lock\u001B[38;5;241m.\u001B[39mrelease()\n\u001B[1;32m    910\u001B[0m   \u001B[38;5;66;03m# In this case we have created variables on the first call, so we run the\u001B[39;00m\n\u001B[1;32m    911\u001B[0m   \u001B[38;5;66;03m# defunned version which is guaranteed to never create variables.\u001B[39;00m\n\u001B[0;32m--> 912\u001B[0m   \u001B[38;5;28;01mreturn\u001B[39;00m \u001B[38;5;28;43mself\u001B[39;49m\u001B[38;5;241;43m.\u001B[39;49m\u001B[43m_no_variable_creation_fn\u001B[49m\u001B[43m(\u001B[49m\u001B[38;5;241;43m*\u001B[39;49m\u001B[43margs\u001B[49m\u001B[43m,\u001B[49m\u001B[43m \u001B[49m\u001B[38;5;241;43m*\u001B[39;49m\u001B[38;5;241;43m*\u001B[39;49m\u001B[43mkwds\u001B[49m\u001B[43m)\u001B[49m  \u001B[38;5;66;03m# pylint: disable=not-callable\u001B[39;00m\n\u001B[1;32m    913\u001B[0m \u001B[38;5;28;01melif\u001B[39;00m \u001B[38;5;28mself\u001B[39m\u001B[38;5;241m.\u001B[39m_variable_creation_fn \u001B[38;5;129;01mis\u001B[39;00m \u001B[38;5;129;01mnot\u001B[39;00m \u001B[38;5;28;01mNone\u001B[39;00m:\n\u001B[1;32m    914\u001B[0m   \u001B[38;5;66;03m# Release the lock early so that multiple threads can perform the call\u001B[39;00m\n\u001B[1;32m    915\u001B[0m   \u001B[38;5;66;03m# in parallel.\u001B[39;00m\n\u001B[1;32m    916\u001B[0m   \u001B[38;5;28mself\u001B[39m\u001B[38;5;241m.\u001B[39m_lock\u001B[38;5;241m.\u001B[39mrelease()\n",
      "File \u001B[0;32m~/miniconda3/envs/m1-master-thesis/lib/python3.9/site-packages/tensorflow/python/eager/polymorphic_function/tracing_compiler.py:134\u001B[0m, in \u001B[0;36mTracingCompiler.__call__\u001B[0;34m(self, *args, **kwargs)\u001B[0m\n\u001B[1;32m    131\u001B[0m \u001B[38;5;28;01mwith\u001B[39;00m \u001B[38;5;28mself\u001B[39m\u001B[38;5;241m.\u001B[39m_lock:\n\u001B[1;32m    132\u001B[0m   (concrete_function,\n\u001B[1;32m    133\u001B[0m    filtered_flat_args) \u001B[38;5;241m=\u001B[39m \u001B[38;5;28mself\u001B[39m\u001B[38;5;241m.\u001B[39m_maybe_define_function(args, kwargs)\n\u001B[0;32m--> 134\u001B[0m \u001B[38;5;28;01mreturn\u001B[39;00m \u001B[43mconcrete_function\u001B[49m\u001B[38;5;241;43m.\u001B[39;49m\u001B[43m_call_flat\u001B[49m\u001B[43m(\u001B[49m\n\u001B[1;32m    135\u001B[0m \u001B[43m    \u001B[49m\u001B[43mfiltered_flat_args\u001B[49m\u001B[43m,\u001B[49m\u001B[43m \u001B[49m\u001B[43mcaptured_inputs\u001B[49m\u001B[38;5;241;43m=\u001B[39;49m\u001B[43mconcrete_function\u001B[49m\u001B[38;5;241;43m.\u001B[39;49m\u001B[43mcaptured_inputs\u001B[49m\u001B[43m)\u001B[49m\n",
      "File \u001B[0;32m~/miniconda3/envs/m1-master-thesis/lib/python3.9/site-packages/tensorflow/python/eager/polymorphic_function/monomorphic_function.py:1745\u001B[0m, in \u001B[0;36mConcreteFunction._call_flat\u001B[0;34m(self, args, captured_inputs, cancellation_manager)\u001B[0m\n\u001B[1;32m   1741\u001B[0m possible_gradient_type \u001B[38;5;241m=\u001B[39m gradients_util\u001B[38;5;241m.\u001B[39mPossibleTapeGradientTypes(args)\n\u001B[1;32m   1742\u001B[0m \u001B[38;5;28;01mif\u001B[39;00m (possible_gradient_type \u001B[38;5;241m==\u001B[39m gradients_util\u001B[38;5;241m.\u001B[39mPOSSIBLE_GRADIENT_TYPES_NONE\n\u001B[1;32m   1743\u001B[0m     \u001B[38;5;129;01mand\u001B[39;00m executing_eagerly):\n\u001B[1;32m   1744\u001B[0m   \u001B[38;5;66;03m# No tape is watching; skip to running the function.\u001B[39;00m\n\u001B[0;32m-> 1745\u001B[0m   \u001B[38;5;28;01mreturn\u001B[39;00m \u001B[38;5;28mself\u001B[39m\u001B[38;5;241m.\u001B[39m_build_call_outputs(\u001B[38;5;28;43mself\u001B[39;49m\u001B[38;5;241;43m.\u001B[39;49m\u001B[43m_inference_function\u001B[49m\u001B[38;5;241;43m.\u001B[39;49m\u001B[43mcall\u001B[49m\u001B[43m(\u001B[49m\n\u001B[1;32m   1746\u001B[0m \u001B[43m      \u001B[49m\u001B[43mctx\u001B[49m\u001B[43m,\u001B[49m\u001B[43m \u001B[49m\u001B[43margs\u001B[49m\u001B[43m,\u001B[49m\u001B[43m \u001B[49m\u001B[43mcancellation_manager\u001B[49m\u001B[38;5;241;43m=\u001B[39;49m\u001B[43mcancellation_manager\u001B[49m\u001B[43m)\u001B[49m)\n\u001B[1;32m   1747\u001B[0m forward_backward \u001B[38;5;241m=\u001B[39m \u001B[38;5;28mself\u001B[39m\u001B[38;5;241m.\u001B[39m_select_forward_and_backward_functions(\n\u001B[1;32m   1748\u001B[0m     args,\n\u001B[1;32m   1749\u001B[0m     possible_gradient_type,\n\u001B[1;32m   1750\u001B[0m     executing_eagerly)\n\u001B[1;32m   1751\u001B[0m forward_function, args_with_tangents \u001B[38;5;241m=\u001B[39m forward_backward\u001B[38;5;241m.\u001B[39mforward()\n",
      "File \u001B[0;32m~/miniconda3/envs/m1-master-thesis/lib/python3.9/site-packages/tensorflow/python/eager/polymorphic_function/monomorphic_function.py:378\u001B[0m, in \u001B[0;36m_EagerDefinedFunction.call\u001B[0;34m(self, ctx, args, cancellation_manager)\u001B[0m\n\u001B[1;32m    376\u001B[0m \u001B[38;5;28;01mwith\u001B[39;00m _InterpolateFunctionError(\u001B[38;5;28mself\u001B[39m):\n\u001B[1;32m    377\u001B[0m   \u001B[38;5;28;01mif\u001B[39;00m cancellation_manager \u001B[38;5;129;01mis\u001B[39;00m \u001B[38;5;28;01mNone\u001B[39;00m:\n\u001B[0;32m--> 378\u001B[0m     outputs \u001B[38;5;241m=\u001B[39m \u001B[43mexecute\u001B[49m\u001B[38;5;241;43m.\u001B[39;49m\u001B[43mexecute\u001B[49m\u001B[43m(\u001B[49m\n\u001B[1;32m    379\u001B[0m \u001B[43m        \u001B[49m\u001B[38;5;28;43mstr\u001B[39;49m\u001B[43m(\u001B[49m\u001B[38;5;28;43mself\u001B[39;49m\u001B[38;5;241;43m.\u001B[39;49m\u001B[43msignature\u001B[49m\u001B[38;5;241;43m.\u001B[39;49m\u001B[43mname\u001B[49m\u001B[43m)\u001B[49m\u001B[43m,\u001B[49m\n\u001B[1;32m    380\u001B[0m \u001B[43m        \u001B[49m\u001B[43mnum_outputs\u001B[49m\u001B[38;5;241;43m=\u001B[39;49m\u001B[38;5;28;43mself\u001B[39;49m\u001B[38;5;241;43m.\u001B[39;49m\u001B[43m_num_outputs\u001B[49m\u001B[43m,\u001B[49m\n\u001B[1;32m    381\u001B[0m \u001B[43m        \u001B[49m\u001B[43minputs\u001B[49m\u001B[38;5;241;43m=\u001B[39;49m\u001B[43margs\u001B[49m\u001B[43m,\u001B[49m\n\u001B[1;32m    382\u001B[0m \u001B[43m        \u001B[49m\u001B[43mattrs\u001B[49m\u001B[38;5;241;43m=\u001B[39;49m\u001B[43mattrs\u001B[49m\u001B[43m,\u001B[49m\n\u001B[1;32m    383\u001B[0m \u001B[43m        \u001B[49m\u001B[43mctx\u001B[49m\u001B[38;5;241;43m=\u001B[39;49m\u001B[43mctx\u001B[49m\u001B[43m)\u001B[49m\n\u001B[1;32m    384\u001B[0m   \u001B[38;5;28;01melse\u001B[39;00m:\n\u001B[1;32m    385\u001B[0m     outputs \u001B[38;5;241m=\u001B[39m execute\u001B[38;5;241m.\u001B[39mexecute_with_cancellation(\n\u001B[1;32m    386\u001B[0m         \u001B[38;5;28mstr\u001B[39m(\u001B[38;5;28mself\u001B[39m\u001B[38;5;241m.\u001B[39msignature\u001B[38;5;241m.\u001B[39mname),\n\u001B[1;32m    387\u001B[0m         num_outputs\u001B[38;5;241m=\u001B[39m\u001B[38;5;28mself\u001B[39m\u001B[38;5;241m.\u001B[39m_num_outputs,\n\u001B[0;32m   (...)\u001B[0m\n\u001B[1;32m    390\u001B[0m         ctx\u001B[38;5;241m=\u001B[39mctx,\n\u001B[1;32m    391\u001B[0m         cancellation_manager\u001B[38;5;241m=\u001B[39mcancellation_manager)\n",
      "File \u001B[0;32m~/miniconda3/envs/m1-master-thesis/lib/python3.9/site-packages/tensorflow/python/eager/execute.py:52\u001B[0m, in \u001B[0;36mquick_execute\u001B[0;34m(op_name, num_outputs, inputs, attrs, ctx, name)\u001B[0m\n\u001B[1;32m     50\u001B[0m \u001B[38;5;28;01mtry\u001B[39;00m:\n\u001B[1;32m     51\u001B[0m   ctx\u001B[38;5;241m.\u001B[39mensure_initialized()\n\u001B[0;32m---> 52\u001B[0m   tensors \u001B[38;5;241m=\u001B[39m \u001B[43mpywrap_tfe\u001B[49m\u001B[38;5;241;43m.\u001B[39;49m\u001B[43mTFE_Py_Execute\u001B[49m\u001B[43m(\u001B[49m\u001B[43mctx\u001B[49m\u001B[38;5;241;43m.\u001B[39;49m\u001B[43m_handle\u001B[49m\u001B[43m,\u001B[49m\u001B[43m \u001B[49m\u001B[43mdevice_name\u001B[49m\u001B[43m,\u001B[49m\u001B[43m \u001B[49m\u001B[43mop_name\u001B[49m\u001B[43m,\u001B[49m\n\u001B[1;32m     53\u001B[0m \u001B[43m                                      \u001B[49m\u001B[43minputs\u001B[49m\u001B[43m,\u001B[49m\u001B[43m \u001B[49m\u001B[43mattrs\u001B[49m\u001B[43m,\u001B[49m\u001B[43m \u001B[49m\u001B[43mnum_outputs\u001B[49m\u001B[43m)\u001B[49m\n\u001B[1;32m     54\u001B[0m \u001B[38;5;28;01mexcept\u001B[39;00m core\u001B[38;5;241m.\u001B[39m_NotOkStatusException \u001B[38;5;28;01mas\u001B[39;00m e:\n\u001B[1;32m     55\u001B[0m   \u001B[38;5;28;01mif\u001B[39;00m name \u001B[38;5;129;01mis\u001B[39;00m \u001B[38;5;129;01mnot\u001B[39;00m \u001B[38;5;28;01mNone\u001B[39;00m:\n",
      "\u001B[0;31mKeyboardInterrupt\u001B[0m: "
     ]
    }
   ],
   "source": [
    "epochs = 15\n",
    "batch_size = 32\n",
    "history = model.fit([dates_inputs, products_inputs], target_data, epochs=epochs, batch_size=batch_size)  # Adjust epochs and batch size as needed"
   ],
   "metadata": {
    "collapsed": false
   }
  },
  {
   "cell_type": "code",
   "execution_count": null,
   "outputs": [],
   "source": [
    "if activate_mlflow:\n",
    "    #mlflow.keras.log_model(model, \"rnn_model\")\n",
    "    mlflow.log_param('epochs', epochs)\n",
    "    mlflow.log_param('batch_size', batch_size)"
   ],
   "metadata": {
    "collapsed": false
   }
  },
  {
   "cell_type": "code",
   "execution_count": null,
   "outputs": [],
   "source": [
    "display(history.history)"
   ],
   "metadata": {
    "collapsed": false
   }
  },
  {
   "cell_type": "code",
   "execution_count": null,
   "outputs": [],
   "source": [
    "# Evaluate the model\n",
    "loss, mse, mae, acc = model.evaluate([dates_inputs, products_inputs], target_data)\n",
    "print(\"Test loss: {:.4f}, Test MSE: {:.4f}\".format(loss, mse))\n",
    "print(\"Test MAE: {:.4f}, Test Accuracy: {:.4f}\".format(mae, acc))\n",
    "if activate_mlflow:\n",
    "    mlflow.log_metric('test loss', loss)\n",
    "    mlflow.log_metric('test mse', mse)\n",
    "    mlflow.log_metric('test mae', mae)\n",
    "    mlflow.log_metric('test accuracy', acc)"
   ],
   "metadata": {
    "collapsed": false
   }
  },
  {
   "cell_type": "markdown",
   "source": [],
   "metadata": {
    "collapsed": false
   }
  },
  {
   "cell_type": "code",
   "execution_count": null,
   "outputs": [],
   "source": [
    "if activate_mlflow:\n",
    "    mlflow.end_run()"
   ],
   "metadata": {
    "collapsed": false
   }
  },
  {
   "cell_type": "code",
   "execution_count": null,
   "outputs": [],
   "source": [],
   "metadata": {
    "collapsed": false
   }
  }
 ],
 "metadata": {
  "kernelspec": {
   "display_name": "Python 3",
   "language": "python",
   "name": "python3"
  },
  "language_info": {
   "codemirror_mode": {
    "name": "ipython",
    "version": 2
   },
   "file_extension": ".py",
   "mimetype": "text/x-python",
   "name": "python",
   "nbconvert_exporter": "python",
   "pygments_lexer": "ipython2",
   "version": "2.7.6"
  }
 },
 "nbformat": 4,
 "nbformat_minor": 0
}
