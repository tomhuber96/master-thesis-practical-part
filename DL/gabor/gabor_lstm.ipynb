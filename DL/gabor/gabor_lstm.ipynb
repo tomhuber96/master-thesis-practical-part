{
 "cells": [
  {
   "cell_type": "code",
   "execution_count": 1,
   "metadata": {
    "collapsed": true
   },
   "outputs": [],
   "source": [
    "import pandas as pd\n",
    "from keras.layers import Input, Embedding, LSTM, Dense, Dot, Softmax, Concatenate, BatchNormalization, Attention\n",
    "from keras.models import Model\n",
    "import tensorflow as tf\n",
    "import numpy as np\n",
    "from keras.utils import pad_sequences\n",
    "from datetime import datetime\n",
    "import mlflow\n",
    "from sklearn.model_selection import train_test_split\n"
   ]
  },
  {
   "cell_type": "code",
   "execution_count": 2,
   "outputs": [],
   "source": [
    "activate_mlflow = False\n",
    "\n",
    "if activate_mlflow:\n",
    "    registry_uri = \"sqlite:///mlflow.db\"\n",
    "    tracking_uri = \"http://127.0.0.1:5000\"\n",
    "    exp_name = \"RNN Attention\"\n",
    "\n",
    "    mlflow.tracking.set_registry_uri(registry_uri)\n",
    "    mlflow.tracking.set_tracking_uri(tracking_uri)\n",
    "\n",
    "    try:\n",
    "        exp_id = mlflow.create_experiment(name=exp_name)\n",
    "    except:\n",
    "        exp_id = mlflow.get_experiment_by_name(name=exp_name).experiment_id\n",
    "\n",
    "    run_name = 'RNN_V1'\n",
    "    mlflow.start_run(run_name=run_name, experiment_id=exp_id)\n"
   ],
   "metadata": {
    "collapsed": false
   }
  },
  {
   "cell_type": "code",
   "execution_count": 3,
   "outputs": [],
   "source": [
    "basepath = '../../datasets/preprocessed_datasets/gabor/'\n",
    "product_data = pd.read_pickle(basepath +'orders_and_products_by_customer.pkl')"
   ],
   "metadata": {
    "collapsed": false
   }
  },
  {
   "cell_type": "code",
   "execution_count": 4,
   "outputs": [
    {
     "data": {
      "text/plain": "        customer_id   order_ids                             product_ids  \\\n254174    9240964.0   [9240961]                             [[7824477]]   \n137947    6501265.0   [6501262]                             [[4773594]]   \n280308    9681510.0   [9681508]                             [[8664691]]   \n158882    6972675.0   [6972670]           [[6109954, 6685007, 6115218]]   \n338718   10746149.0  [10746147]                             [[8806701]]   \n...             ...         ...                                     ...   \n178930    7429268.0   [7429264]                    [[6249124, 6249140]]   \n12743     2089412.0   [8448951]  [[7870326, 7791107, 7700109, 7597295]]   \n42131     4217077.0   [4217073]                    [[4151383, 4125263]]   \n189967    7726388.0   [7726385]                             [[6114778]]   \n24823     2233685.0   [9088628]                             [[7700177]]   \n\n                                            product_names         amounts  \\\n254174                 [[Plateau Sandale Rauleder braun]]           [[1]]   \n137947                  [[Spangenpumps Effektleder weiß]]           [[1]]   \n280308                  [[Sneaker low Lackleder schwarz]]           [[1]]   \n158882  [[Chelsea Boot Glattleder schwarz, Chelsea Boo...     [[1, 1, 1]]   \n338718                  [[Sneaker low Lackleder schwarz]]           [[1]]   \n...                                                   ...             ...   \n178930  [[PG1027 Boot Rauleder braun, PG1027 Boot Raul...        [[1, 1]]   \n12743   [[Sportliche Stiefelette Glattleder blau, Spor...  [[1, 1, 1, 1]]   \n42131   [[Chelsea Boot Glattleder rot, Chelsea Boot Ra...        [[1, 1]]   \n189967            [[Sneaker low Materialmix Leder braun]]           [[1]]   \n24823              [[Sneaker low Materialmix Leder weiß]]           [[1]]   \n\n                          total_prices                         order_dates  \n254174                        [[69.0]]                          [[738373]]  \n137947                        [[69.0]]                          [[737999]]  \n280308                       [[99.95]]                          [[738427]]  \n158882         [[130.0, 130.0, 120.0]]          [[738062, 738062, 738062]]  \n338718                       [[130.0]]                          [[738561]]  \n...                                ...                                 ...  \n178930                [[130.0, 130.0]]                  [[738108, 738108]]  \n12743   [[99.95, 89.95, 99.95, 99.95]]  [[738269, 738269, 738269, 738269]]  \n42131                [[116.97, 97.43]]                  [[737698, 737698]]  \n189967                        [[79.0]]                          [[738157]]  \n24823                         [[99.0]]                          [[738349]]  \n\n[1000 rows x 7 columns]",
      "text/html": "<div>\n<style scoped>\n    .dataframe tbody tr th:only-of-type {\n        vertical-align: middle;\n    }\n\n    .dataframe tbody tr th {\n        vertical-align: top;\n    }\n\n    .dataframe thead th {\n        text-align: right;\n    }\n</style>\n<table border=\"1\" class=\"dataframe\">\n  <thead>\n    <tr style=\"text-align: right;\">\n      <th></th>\n      <th>customer_id</th>\n      <th>order_ids</th>\n      <th>product_ids</th>\n      <th>product_names</th>\n      <th>amounts</th>\n      <th>total_prices</th>\n      <th>order_dates</th>\n    </tr>\n  </thead>\n  <tbody>\n    <tr>\n      <th>254174</th>\n      <td>9240964.0</td>\n      <td>[9240961]</td>\n      <td>[[7824477]]</td>\n      <td>[[Plateau Sandale Rauleder braun]]</td>\n      <td>[[1]]</td>\n      <td>[[69.0]]</td>\n      <td>[[738373]]</td>\n    </tr>\n    <tr>\n      <th>137947</th>\n      <td>6501265.0</td>\n      <td>[6501262]</td>\n      <td>[[4773594]]</td>\n      <td>[[Spangenpumps Effektleder weiß]]</td>\n      <td>[[1]]</td>\n      <td>[[69.0]]</td>\n      <td>[[737999]]</td>\n    </tr>\n    <tr>\n      <th>280308</th>\n      <td>9681510.0</td>\n      <td>[9681508]</td>\n      <td>[[8664691]]</td>\n      <td>[[Sneaker low Lackleder schwarz]]</td>\n      <td>[[1]]</td>\n      <td>[[99.95]]</td>\n      <td>[[738427]]</td>\n    </tr>\n    <tr>\n      <th>158882</th>\n      <td>6972675.0</td>\n      <td>[6972670]</td>\n      <td>[[6109954, 6685007, 6115218]]</td>\n      <td>[[Chelsea Boot Glattleder schwarz, Chelsea Boo...</td>\n      <td>[[1, 1, 1]]</td>\n      <td>[[130.0, 130.0, 120.0]]</td>\n      <td>[[738062, 738062, 738062]]</td>\n    </tr>\n    <tr>\n      <th>338718</th>\n      <td>10746149.0</td>\n      <td>[10746147]</td>\n      <td>[[8806701]]</td>\n      <td>[[Sneaker low Lackleder schwarz]]</td>\n      <td>[[1]]</td>\n      <td>[[130.0]]</td>\n      <td>[[738561]]</td>\n    </tr>\n    <tr>\n      <th>...</th>\n      <td>...</td>\n      <td>...</td>\n      <td>...</td>\n      <td>...</td>\n      <td>...</td>\n      <td>...</td>\n      <td>...</td>\n    </tr>\n    <tr>\n      <th>178930</th>\n      <td>7429268.0</td>\n      <td>[7429264]</td>\n      <td>[[6249124, 6249140]]</td>\n      <td>[[PG1027 Boot Rauleder braun, PG1027 Boot Raul...</td>\n      <td>[[1, 1]]</td>\n      <td>[[130.0, 130.0]]</td>\n      <td>[[738108, 738108]]</td>\n    </tr>\n    <tr>\n      <th>12743</th>\n      <td>2089412.0</td>\n      <td>[8448951]</td>\n      <td>[[7870326, 7791107, 7700109, 7597295]]</td>\n      <td>[[Sportliche Stiefelette Glattleder blau, Spor...</td>\n      <td>[[1, 1, 1, 1]]</td>\n      <td>[[99.95, 89.95, 99.95, 99.95]]</td>\n      <td>[[738269, 738269, 738269, 738269]]</td>\n    </tr>\n    <tr>\n      <th>42131</th>\n      <td>4217077.0</td>\n      <td>[4217073]</td>\n      <td>[[4151383, 4125263]]</td>\n      <td>[[Chelsea Boot Glattleder rot, Chelsea Boot Ra...</td>\n      <td>[[1, 1]]</td>\n      <td>[[116.97, 97.43]]</td>\n      <td>[[737698, 737698]]</td>\n    </tr>\n    <tr>\n      <th>189967</th>\n      <td>7726388.0</td>\n      <td>[7726385]</td>\n      <td>[[6114778]]</td>\n      <td>[[Sneaker low Materialmix Leder braun]]</td>\n      <td>[[1]]</td>\n      <td>[[79.0]]</td>\n      <td>[[738157]]</td>\n    </tr>\n    <tr>\n      <th>24823</th>\n      <td>2233685.0</td>\n      <td>[9088628]</td>\n      <td>[[7700177]]</td>\n      <td>[[Sneaker low Materialmix Leder weiß]]</td>\n      <td>[[1]]</td>\n      <td>[[99.0]]</td>\n      <td>[[738349]]</td>\n    </tr>\n  </tbody>\n</table>\n<p>1000 rows × 7 columns</p>\n</div>"
     },
     "execution_count": 4,
     "metadata": {},
     "output_type": "execute_result"
    }
   ],
   "source": [
    "product_data = product_data.sample(n=1000)\n",
    "# convert dates to ordinal\n",
    "product_data['order_dates'] = product_data['order_dates'].apply(lambda x: [ [datetime.fromtimestamp(date).date().toordinal() for date in dateList] for dateList in x] )\n",
    "product_data"
   ],
   "metadata": {
    "collapsed": false
   }
  },
  {
   "cell_type": "code",
   "execution_count": 4,
   "outputs": [],
   "source": [],
   "metadata": {
    "collapsed": false
   }
  },
  {
   "cell_type": "code",
   "execution_count": 5,
   "outputs": [],
   "source": [
    "def bringToSameSizeOneDim(column):\n",
    "    max_length = max(column.apply(len))\n",
    "    return column.apply(lambda x: x + [0] * (max_length - len(x)))\n",
    "\n",
    "\n",
    "def bringToSameSizeTwoDimAndFlatten(column):\n",
    "    max_length = max(column.apply(lambda x: max(len(sublist) for sublist in x)))\n",
    "    new_column = column.apply(lambda x: [sublist + [0] * (max_length - len(sublist)) for sublist in x])\n",
    "    new_column = new_column.apply(lambda x: x + [[0] * max_length] * (max_length - len(x)))\n",
    "    return new_column.apply(lambda x: [item for sublist in x for item in sublist])\n",
    "\n",
    "# save for later use\n",
    "max_bought_products_per_order = max(product_data.product_ids.apply(lambda x: max(len(sublist) for sublist in x)))\n",
    "\n",
    "product_data.order_ids = bringToSameSizeOneDim(product_data.order_ids)\n",
    "product_data.product_ids = bringToSameSizeTwoDimAndFlatten(product_data.product_ids)\n",
    "product_data.amounts = bringToSameSizeTwoDimAndFlatten(product_data.amounts)\n",
    "product_data.total_prices = bringToSameSizeTwoDimAndFlatten(product_data.total_prices)\n",
    "product_data.order_dates = bringToSameSizeTwoDimAndFlatten(product_data.order_dates)\n"
   ],
   "metadata": {
    "collapsed": false
   }
  },
  {
   "cell_type": "code",
   "execution_count": 18,
   "outputs": [
    {
     "data": {
      "text/plain": "254174    [738373, 0, 0, 0, 0, 0, 0, 0, 0, 0, 0, 0, 0, 0...\n137947    [737999, 0, 0, 0, 0, 0, 0, 0, 0, 0, 0, 0, 0, 0...\n280308    [738427, 0, 0, 0, 0, 0, 0, 0, 0, 0, 0, 0, 0, 0...\n158882    [738062, 738062, 738062, 0, 0, 0, 0, 0, 0, 0, ...\n338718    [738561, 0, 0, 0, 0, 0, 0, 0, 0, 0, 0, 0, 0, 0...\n                                ...                        \n178930    [738108, 738108, 0, 0, 0, 0, 0, 0, 0, 0, 0, 0,...\n12743     [738269, 738269, 738269, 738269, 0, 0, 0, 0, 0...\n42131     [737698, 737698, 0, 0, 0, 0, 0, 0, 0, 0, 0, 0,...\n189967    [738157, 0, 0, 0, 0, 0, 0, 0, 0, 0, 0, 0, 0, 0...\n24823     [738349, 0, 0, 0, 0, 0, 0, 0, 0, 0, 0, 0, 0, 0...\nName: order_dates, Length: 1000, dtype: object"
     },
     "execution_count": 18,
     "metadata": {},
     "output_type": "execute_result"
    }
   ],
   "source": [
    "\n"
   ],
   "metadata": {
    "collapsed": false
   }
  },
  {
   "cell_type": "code",
   "execution_count": 6,
   "outputs": [],
   "source": [
    "\n",
    "\n",
    "def convertToSequence(column):\n",
    "    list = column.tolist()\n",
    "    max_length = max(len(x) for x in list)\n",
    "    return pad_sequences(list, maxlen=max_length, padding='post', value=0), max_length\n",
    "\n",
    "products_inputs, max_length_products = convertToSequence(product_data.product_ids)\n",
    "orders_inputs, max_length_order = convertToSequence(product_data.order_ids)\n",
    "dates_inputs, max_length_dates = convertToSequence(product_data.order_dates)\n",
    "target_data, _ = convertToSequence(product_data.amounts)\n",
    "target_data = np.expand_dims(target_data, axis=-1)\n",
    "num_targets = target_data.shape[1]\n",
    "\n",
    "\n",
    "\n",
    "\n",
    "#display(X_train, X_test, y_train, y_test)"
   ],
   "metadata": {
    "collapsed": false
   }
  },
  {
   "cell_type": "code",
   "execution_count": 7,
   "outputs": [],
   "source": [
    "#bring into same shape\n",
    "old_orders = np.copy(orders_inputs)\n",
    "shape_diff = products_inputs.shape[1] - orders_inputs.shape[1]\n",
    "orders_inputs = np.pad(orders_inputs, ((0, 0), (0, shape_diff)), mode='constant', constant_values=0)\n",
    "max_length_order = orders_inputs.shape[1]\n",
    "# products_inputs[-5], resized_orders_array[-5], old_orders[-5], max_length_products"
   ],
   "metadata": {
    "collapsed": false
   }
  },
  {
   "cell_type": "code",
   "execution_count": 8,
   "outputs": [
    {
     "data": {
      "text/plain": "110"
     },
     "metadata": {},
     "output_type": "display_data"
    },
    {
     "data": {
      "text/plain": "110"
     },
     "metadata": {},
     "output_type": "display_data"
    },
    {
     "data": {
      "text/plain": "(1000, 110, 1)"
     },
     "metadata": {},
     "output_type": "display_data"
    },
    {
     "data": {
      "text/plain": "array([7726385,       0,       0,       0,       0,       0,       0,\n             0,       0,       0,       0,       0,       0,       0,\n             0,       0,       0,       0,       0,       0,       0,\n             0,       0,       0,       0,       0,       0,       0,\n             0,       0,       0,       0,       0,       0,       0,\n             0,       0,       0,       0,       0,       0,       0,\n             0,       0,       0,       0,       0,       0,       0,\n             0,       0,       0,       0,       0,       0,       0,\n             0,       0,       0,       0,       0,       0,       0,\n             0,       0,       0,       0,       0,       0,       0,\n             0,       0,       0,       0,       0,       0,       0,\n             0,       0,       0,       0,       0,       0,       0,\n             0,       0,       0,       0,       0,       0,       0,\n             0,       0,       0,       0,       0,       0,       0,\n             0,       0,       0,       0,       0,       0,       0,\n             0,       0,       0,       0,       0], dtype=int32)"
     },
     "metadata": {},
     "output_type": "display_data"
    },
    {
     "data": {
      "text/plain": "array([6114778,       0,       0,       0,       0,       0,       0,\n             0,       0,       0,       0,       0,       0,       0,\n             0,       0,       0,       0,       0,       0,       0,\n             0,       0,       0,       0,       0,       0,       0,\n             0,       0,       0,       0,       0,       0,       0,\n             0,       0,       0,       0,       0,       0,       0,\n             0,       0,       0,       0,       0,       0,       0,\n             0,       0,       0,       0,       0,       0,       0,\n             0,       0,       0,       0,       0,       0,       0,\n             0,       0,       0,       0,       0,       0,       0,\n             0,       0,       0,       0,       0,       0,       0,\n             0,       0,       0,       0,       0,       0,       0,\n             0,       0,       0,       0,       0,       0,       0,\n             0,       0,       0,       0,       0,       0,       0,\n             0,       0,       0,       0,       0,       0,       0,\n             0,       0,       0,       0,       0], dtype=int32)"
     },
     "metadata": {},
     "output_type": "display_data"
    },
    {
     "data": {
      "text/plain": "(1000, 110)"
     },
     "metadata": {},
     "output_type": "display_data"
    }
   ],
   "source": [
    "display(max_length_dates, dates_inputs.shape[1], target_data.shape)\n",
    "# display(target_data)\n",
    "# display(dates_inputs)\n",
    "# display(orders_inputs)\n",
    "display(orders_inputs[-2])\n",
    "# display(products_inputs)\n",
    "display(products_inputs[-2])\n",
    "display(orders_inputs.shape)\n",
    "# 1602099712"
   ],
   "metadata": {
    "collapsed": false
   }
  },
  {
   "cell_type": "code",
   "execution_count": 9,
   "outputs": [],
   "source": [
    "num_dates = len(np.unique(product_data.order_dates))\n",
    "num_orders = len(np.unique(product_data.order_ids))\n",
    "num_products = len(np.unique(product_data.product_ids))\n",
    "max_index = max(np.max(dates_inputs), np.max(products_inputs))\n",
    "vocab_size = max_index + 1\n",
    "max_date = np.max(np.unique(product_data.order_dates.apply(np.unique).apply(max))) + 1\n",
    "max_product_ids = np.max(np.unique(product_data.product_ids.apply(np.unique).apply(max))) + 1\n",
    "max_order_ids = np.max(np.unique(product_data.order_ids.apply(np.unique).apply(max))) + 1"
   ],
   "metadata": {
    "collapsed": false
   }
  },
  {
   "cell_type": "code",
   "execution_count": 10,
   "outputs": [
    {
     "data": {
      "text/plain": "(11126861, 110, 10787218, 110, 110)"
     },
     "execution_count": 10,
     "metadata": {},
     "output_type": "execute_result"
    }
   ],
   "source": [
    "max_order_ids, max_length_order, max_product_ids, max_length_products, max_length_dates"
   ],
   "metadata": {
    "collapsed": false
   }
  },
  {
   "cell_type": "code",
   "execution_count": 11,
   "outputs": [
    {
     "name": "stdout",
     "output_type": "stream",
     "text": [
      "Model: \"model\"\n",
      "__________________________________________________________________________________________________\n",
      " Layer (type)                   Output Shape         Param #     Connected to                     \n",
      "==================================================================================================\n",
      " input_1 (InputLayer)           [(None, 110)]        0           []                               \n",
      "                                                                                                  \n",
      " input_2 (InputLayer)           [(None, 110)]        0           []                               \n",
      "                                                                                                  \n",
      " input_3 (InputLayer)           [(None, 110)]        0           []                               \n",
      "                                                                                                  \n",
      " embedding (Embedding)          (None, 110, 16)      11817648    ['input_1[0][0]']                \n",
      "                                                                                                  \n",
      " embedding_1 (Embedding)        (None, 110, 16)      172595488   ['input_2[0][0]']                \n",
      "                                                                                                  \n",
      " embedding_2 (Embedding)        (None, 110, 16)      178029776   ['input_3[0][0]']                \n",
      "                                                                                                  \n",
      " concat_embedding_input (Concat  (None, 110, 48)     0           ['embedding[0][0]',              \n",
      " enate)                                                           'embedding_1[0][0]',            \n",
      "                                                                  'embedding_2[0][0]']            \n",
      "                                                                                                  \n",
      " lstm_3 (LSTM)                  (None, 110, 64)      28928       ['concat_embedding_input[0][0]'] \n",
      "                                                                                                  \n",
      " tf.math.equal (TFOpLambda)     (None, 110)          0           ['input_2[0][0]']                \n",
      "                                                                                                  \n",
      " batchnorm_lstm (BatchNormaliza  (None, 110, 64)     256         ['lstm_3[0][0]']                 \n",
      " tion)                                                                                            \n",
      "                                                                                                  \n",
      " tf.math.logical_not (TFOpLambd  (None, 110)         0           ['tf.math.equal[0][0]']          \n",
      " a)                                                                                               \n",
      "                                                                                                  \n",
      " attention (Attention)          (None, 110, 64)      0           ['batchnorm_lstm[0][0]',         \n",
      "                                                                  'batchnorm_lstm[0][0]',         \n",
      "                                                                  'tf.math.logical_not[0][0]',    \n",
      "                                                                  'tf.math.logical_not[0][0]']    \n",
      "                                                                                                  \n",
      " dense (Dense)                  (None, 110, 110)     7150        ['attention[0][0]']              \n",
      "                                                                                                  \n",
      "==================================================================================================\n",
      "Total params: 362,479,246\n",
      "Trainable params: 362,479,118\n",
      "Non-trainable params: 128\n",
      "__________________________________________________________________________________________________\n"
     ]
    }
   ],
   "source": [
    "date_embedding_dim = 16\n",
    "product_embedding_dim = 16\n",
    "order_embedding_dim = 16\n",
    "date_inputs = Input(shape=(max_length_dates,))\n",
    "product_inputs = Input(shape=(max_length_products,))\n",
    "order_inputs = Input(shape=(max_length_order,))\n",
    "\n",
    "encoding_padding_mask = tf.math.logical_not(tf.math.equal(product_inputs, 0))\n",
    "\n",
    "date_emb = Embedding(max_date, date_embedding_dim, input_length=max_length_dates)(date_inputs)\n",
    "product_emb = Embedding(max_product_ids, product_embedding_dim, input_length=max_length_products)(product_inputs)\n",
    "order_emb = Embedding(max_order_ids, order_embedding_dim, input_length=max_length_order)(order_inputs)\n",
    "\n",
    "\n",
    "concat_embedding_input = Concatenate(\n",
    "    axis=-1, name='concat_embedding_input')([date_emb, product_emb, order_emb])\n",
    "\n",
    "batchnorm_inputs = BatchNormalization(\n",
    "    name='batchnorm_inputs')(concat_embedding_input)\n",
    "# LSTM layer\n",
    "lstm = LSTM(64, return_sequences=True)(concat_embedding_input)\n",
    "\n",
    "lstm = BatchNormalization(name='batchnorm_lstm')(lstm)\n",
    "# LSTM layer\n",
    "lstm = LSTM(64, return_sequences=True)(concat_embedding_input)\n",
    "\n",
    "lstm = BatchNormalization(name='batchnorm_lstm')(lstm)\n",
    "lstm = LSTM(64, return_sequences=True)(concat_embedding_input)\n",
    "\n",
    "lstm = BatchNormalization(name='batchnorm_lstm')(lstm)\n",
    "lstm = LSTM(64, return_sequences=True)(concat_embedding_input)\n",
    "\n",
    "lstm = BatchNormalization(name='batchnorm_lstm')(lstm)\n",
    "\n",
    "att = Attention(use_scale=False,\n",
    "                name='attention')(inputs=[lstm, lstm],\n",
    "                                  mask=[encoding_padding_mask,\n",
    "                                        encoding_padding_mask])\n",
    "\n",
    "output = Dense(num_targets)(att)\n",
    "model = Model(inputs=[date_inputs, product_inputs, order_inputs], outputs=output)\n",
    "model.compile(loss='mean_squared_error', optimizer='adam', metrics=['mse', 'mae', 'accuracy'])\n",
    "model.summary()"
   ],
   "metadata": {
    "collapsed": false
   }
  },
  {
   "cell_type": "code",
   "execution_count": 12,
   "outputs": [],
   "source": [
    "# X_train, X_test, y_train, y_test = train_test_split(\n",
    "#     [dates_inputs, products_inputs, orders_inputs], target_data, test_size=0.33, random_state=42)"
   ],
   "metadata": {
    "collapsed": false
   }
  },
  {
   "cell_type": "code",
   "execution_count": 13,
   "outputs": [
    {
     "name": "stdout",
     "output_type": "stream",
     "text": [
      "Epoch 1/3\n"
     ]
    },
    {
     "name": "stderr",
     "output_type": "stream",
     "text": [
      "2023-06-22 14:20:22.872829: W tensorflow/tsl/platform/profile_utils/cpu_utils.cc:128] Failed to get CPU frequency: 0 Hz\n",
      "2023-06-22 14:20:24.274574: W tensorflow/core/grappler/costs/op_level_cost_estimator.cc:690] Error in PredictCost() for the op: op: \"Softmax\" attr { key: \"T\" value { type: DT_FLOAT } } inputs { dtype: DT_FLOAT shape { unknown_rank: true } } device { type: \"CPU\" model: \"0\" num_cores: 10 environment { key: \"cpu_instruction_set\" value: \"ARM NEON\" } environment { key: \"eigen\" value: \"3.4.90\" } l1_cache_size: 16384 l2_cache_size: 524288 l3_cache_size: 524288 memory_size: 268435456 } outputs { dtype: DT_FLOAT shape { unknown_rank: true } }\n"
     ]
    },
    {
     "name": "stdout",
     "output_type": "stream",
     "text": [
      "32/32 [==============================] - 46s 1s/step - loss: 0.2861 - mse: 0.2875 - mae: 0.3756 - accuracy: 5.5279e-04\n",
      "Epoch 2/3\n",
      "32/32 [==============================] - 44s 1s/step - loss: 0.0141 - mse: 0.0144 - mae: 0.0933 - accuracy: 0.0000e+00\n",
      "Epoch 3/3\n",
      "32/32 [==============================] - 44s 1s/step - loss: 0.0071 - mse: 0.0072 - mae: 0.0650 - accuracy: 0.0094\n"
     ]
    }
   ],
   "source": [
    "epochs = 3\n",
    "batch_size = 32\n",
    "history = model.fit([dates_inputs, products_inputs, orders_inputs], target_data, epochs=epochs, batch_size=batch_size)  # Adjust epochs and batch size as needed"
   ],
   "metadata": {
    "collapsed": false
   }
  },
  {
   "cell_type": "code",
   "execution_count": 14,
   "outputs": [],
   "source": [
    "if activate_mlflow:\n",
    "    #mlflow.keras.log_model(model, \"rnn_model\")\n",
    "    mlflow.log_param('epochs', epochs)\n",
    "    mlflow.log_param('batch_size', batch_size)"
   ],
   "metadata": {
    "collapsed": false
   }
  },
  {
   "cell_type": "code",
   "execution_count": 15,
   "outputs": [
    {
     "data": {
      "text/plain": "{'loss': [0.28608864545822144, 0.01405801810324192, 0.007083631586283445],\n 'mse': [0.2874542772769928, 0.014371691271662712, 0.007162719964981079],\n 'mae': [0.37561681866645813, 0.09326629340648651, 0.06502830237150192],\n 'accuracy': [0.0005527915782295167, 0.0, 0.009397457353770733]}"
     },
     "metadata": {},
     "output_type": "display_data"
    }
   ],
   "source": [
    "display(history.history)"
   ],
   "metadata": {
    "collapsed": false
   }
  },
  {
   "cell_type": "code",
   "execution_count": 16,
   "outputs": [
    {
     "name": "stdout",
     "output_type": "stream",
     "text": [
      "11/32 [=========>....................] - ETA: 0s - loss: 0.8986 - mse: 0.8991 - mae: 0.9481 - accuracy: 0.0000e+00"
     ]
    },
    {
     "name": "stderr",
     "output_type": "stream",
     "text": [
      "2023-06-22 14:22:37.267920: W tensorflow/core/grappler/costs/op_level_cost_estimator.cc:690] Error in PredictCost() for the op: op: \"Softmax\" attr { key: \"T\" value { type: DT_FLOAT } } inputs { dtype: DT_FLOAT shape { unknown_rank: true } } device { type: \"CPU\" model: \"0\" num_cores: 10 environment { key: \"cpu_instruction_set\" value: \"ARM NEON\" } environment { key: \"eigen\" value: \"3.4.90\" } l1_cache_size: 16384 l2_cache_size: 524288 l3_cache_size: 524288 memory_size: 268435456 } outputs { dtype: DT_FLOAT shape { unknown_rank: true } }\n"
     ]
    },
    {
     "name": "stdout",
     "output_type": "stream",
     "text": [
      "32/32 [==============================] - 1s 11ms/step - loss: 0.9019 - mse: 0.9032 - mae: 0.9499 - accuracy: 0.0000e+00\n",
      "Test loss: 0.9019, Test MSE: 0.9032\n",
      "Test MAE: 0.9499, Test Accuracy: 0.0000\n"
     ]
    }
   ],
   "source": [
    "# Evaluate the model\n",
    "loss, mse, mae, acc = model.evaluate([dates_inputs, products_inputs, orders_inputs], target_data)\n",
    "print(\"Test loss: {:.4f}, Test MSE: {:.4f}\".format(loss, mse))\n",
    "print(\"Test MAE: {:.4f}, Test Accuracy: {:.4f}\".format(mae, acc))\n",
    "if activate_mlflow:\n",
    "    mlflow.log_metric('test loss', loss)\n",
    "    mlflow.log_metric('test mse', mse)\n",
    "    mlflow.log_metric('test mae', mae)\n",
    "    mlflow.log_metric('test accuracy', acc)"
   ],
   "metadata": {
    "collapsed": false
   }
  },
  {
   "cell_type": "markdown",
   "source": [],
   "metadata": {
    "collapsed": false
   }
  },
  {
   "cell_type": "code",
   "execution_count": 17,
   "outputs": [],
   "source": [
    "if activate_mlflow:\n",
    "    mlflow.end_run()"
   ],
   "metadata": {
    "collapsed": false
   }
  },
  {
   "cell_type": "code",
   "execution_count": 17,
   "outputs": [],
   "source": [],
   "metadata": {
    "collapsed": false
   }
  }
 ],
 "metadata": {
  "kernelspec": {
   "display_name": "Python 3",
   "language": "python",
   "name": "python3"
  },
  "language_info": {
   "codemirror_mode": {
    "name": "ipython",
    "version": 2
   },
   "file_extension": ".py",
   "mimetype": "text/x-python",
   "name": "python",
   "nbconvert_exporter": "python",
   "pygments_lexer": "ipython2",
   "version": "2.7.6"
  }
 },
 "nbformat": 4,
 "nbformat_minor": 0
}
