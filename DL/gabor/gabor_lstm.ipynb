{
 "cells": [
  {
   "cell_type": "code",
   "execution_count": 211,
   "metadata": {
    "collapsed": true
   },
   "outputs": [],
   "source": [
    "import pandas as pd\n",
    "from keras.layers import Input, Embedding, LSTM, Dense, Dot, Softmax, Concatenate, BatchNormalization, Attention\n",
    "from keras.models import Model\n",
    "import tensorflow as tf\n",
    "import numpy as np\n",
    "from keras.utils import pad_sequences\n",
    "from datetime import datetime\n",
    "import mlflow"
   ]
  },
  {
   "cell_type": "code",
   "execution_count": 212,
   "outputs": [],
   "source": [
    "activate_mlflow = True\n",
    "\n",
    "if activate_mlflow:\n",
    "    registry_uri = \"sqlite:///mlflow.db\"\n",
    "    tracking_uri = \"http://127.0.0.1:5000\"\n",
    "    exp_name = \"RNN Attention\"\n",
    "\n",
    "    mlflow.tracking.set_registry_uri(registry_uri)\n",
    "    mlflow.tracking.set_tracking_uri(tracking_uri)\n",
    "\n",
    "    try:\n",
    "        exp_id = mlflow.create_experiment(name=exp_name)\n",
    "    except:\n",
    "        exp_id = mlflow.get_experiment_by_name(name=exp_name).experiment_id\n",
    "\n",
    "    run_name = 'RNN_V1'\n",
    "    mlflow.start_run(run_name=run_name, experiment_id=exp_id)\n"
   ],
   "metadata": {
    "collapsed": false
   }
  },
  {
   "cell_type": "code",
   "execution_count": 213,
   "outputs": [],
   "source": [
    "basepath = '../../datasets/preprocessed_datasets/gabor/'\n",
    "product_data = pd.read_pickle(basepath +'orders_and_products_by_customer.pkl')"
   ],
   "metadata": {
    "collapsed": false
   }
  },
  {
   "cell_type": "code",
   "execution_count": 214,
   "outputs": [
    {
     "data": {
      "text/plain": "        customer_id   order_ids           product_ids  \\\n109726    5793848.0   [5793845]  [[5015049, 5015266]]   \n297606    9954965.0   [9954962]           [[8800346]]   \n283310    9719227.0   [9719224]           [[8666136]]   \n323408   10416448.0  [10416444]  [[8664970, 8502656]]   \n222132    8520899.0   [8520895]           [[3476934]]   \n...             ...         ...                   ...   \n212243    8257024.0   [8257021]           [[7800287]]   \n124823    6190643.0   [6190641]           [[4773137]]   \n185604    7612570.0   [7612567]           [[6164342]]   \n113270    5873875.0   [5873872]           [[3763951]]   \n143490    6615118.0   [6615115]           [[4774231]]   \n\n                                            product_names   amounts  \\\n109726  [[PG8001 Sneaker low Materialmix Leder/Textil ...  [[1, 1]]   \n297606                [[Eleganter Pumps Glattleder rosa]]     [[1]]   \n283310                     [[Chelsea Boot Rauleder grün]]     [[1]]   \n323408  [[Chelsea Boot Glattleder schwarz, Chelsea Boo...  [[1, 1]]   \n222132                        [[Keilpumps Rauleder rosa]]     [[1]]   \n...                                                   ...       ...   \n212243                          [[Slipper Rauleder blau]]     [[1]]   \n124823                     [[Pantolette Glattleder weiß]]     [[1]]   \n185604            [[Sneaker low Materialmix Leder beige]]     [[1]]   \n113270            [[Elegante Stiefelette Rauleder braun]]     [[1]]   \n143490                     [[Sneaker low Rauleder beige]]     [[1]]   \n\n            total_prices         order_dates  \n109726  [[140.0, 140.0]]  [[737914, 737914]]  \n297606         [[110.0]]          [[738457]]  \n283310         [[120.0]]          [[738431]]  \n323408  [[125.0, 130.0]]  [[738519, 738519]]  \n222132         [[99.95]]          [[738275]]  \n...                  ...                 ...  \n212243         [[120.0]]          [[738246]]  \n124823         [[89.95]]          [[737957]]  \n185604          [[89.0]]          [[738128]]  \n113270         [[125.0]]          [[737923]]  \n143490          [[69.0]]          [[738017]]  \n\n[1000 rows x 7 columns]",
      "text/html": "<div>\n<style scoped>\n    .dataframe tbody tr th:only-of-type {\n        vertical-align: middle;\n    }\n\n    .dataframe tbody tr th {\n        vertical-align: top;\n    }\n\n    .dataframe thead th {\n        text-align: right;\n    }\n</style>\n<table border=\"1\" class=\"dataframe\">\n  <thead>\n    <tr style=\"text-align: right;\">\n      <th></th>\n      <th>customer_id</th>\n      <th>order_ids</th>\n      <th>product_ids</th>\n      <th>product_names</th>\n      <th>amounts</th>\n      <th>total_prices</th>\n      <th>order_dates</th>\n    </tr>\n  </thead>\n  <tbody>\n    <tr>\n      <th>109726</th>\n      <td>5793848.0</td>\n      <td>[5793845]</td>\n      <td>[[5015049, 5015266]]</td>\n      <td>[[PG8001 Sneaker low Materialmix Leder/Textil ...</td>\n      <td>[[1, 1]]</td>\n      <td>[[140.0, 140.0]]</td>\n      <td>[[737914, 737914]]</td>\n    </tr>\n    <tr>\n      <th>297606</th>\n      <td>9954965.0</td>\n      <td>[9954962]</td>\n      <td>[[8800346]]</td>\n      <td>[[Eleganter Pumps Glattleder rosa]]</td>\n      <td>[[1]]</td>\n      <td>[[110.0]]</td>\n      <td>[[738457]]</td>\n    </tr>\n    <tr>\n      <th>283310</th>\n      <td>9719227.0</td>\n      <td>[9719224]</td>\n      <td>[[8666136]]</td>\n      <td>[[Chelsea Boot Rauleder grün]]</td>\n      <td>[[1]]</td>\n      <td>[[120.0]]</td>\n      <td>[[738431]]</td>\n    </tr>\n    <tr>\n      <th>323408</th>\n      <td>10416448.0</td>\n      <td>[10416444]</td>\n      <td>[[8664970, 8502656]]</td>\n      <td>[[Chelsea Boot Glattleder schwarz, Chelsea Boo...</td>\n      <td>[[1, 1]]</td>\n      <td>[[125.0, 130.0]]</td>\n      <td>[[738519, 738519]]</td>\n    </tr>\n    <tr>\n      <th>222132</th>\n      <td>8520899.0</td>\n      <td>[8520895]</td>\n      <td>[[3476934]]</td>\n      <td>[[Keilpumps Rauleder rosa]]</td>\n      <td>[[1]]</td>\n      <td>[[99.95]]</td>\n      <td>[[738275]]</td>\n    </tr>\n    <tr>\n      <th>...</th>\n      <td>...</td>\n      <td>...</td>\n      <td>...</td>\n      <td>...</td>\n      <td>...</td>\n      <td>...</td>\n      <td>...</td>\n    </tr>\n    <tr>\n      <th>212243</th>\n      <td>8257024.0</td>\n      <td>[8257021]</td>\n      <td>[[7800287]]</td>\n      <td>[[Slipper Rauleder blau]]</td>\n      <td>[[1]]</td>\n      <td>[[120.0]]</td>\n      <td>[[738246]]</td>\n    </tr>\n    <tr>\n      <th>124823</th>\n      <td>6190643.0</td>\n      <td>[6190641]</td>\n      <td>[[4773137]]</td>\n      <td>[[Pantolette Glattleder weiß]]</td>\n      <td>[[1]]</td>\n      <td>[[89.95]]</td>\n      <td>[[737957]]</td>\n    </tr>\n    <tr>\n      <th>185604</th>\n      <td>7612570.0</td>\n      <td>[7612567]</td>\n      <td>[[6164342]]</td>\n      <td>[[Sneaker low Materialmix Leder beige]]</td>\n      <td>[[1]]</td>\n      <td>[[89.0]]</td>\n      <td>[[738128]]</td>\n    </tr>\n    <tr>\n      <th>113270</th>\n      <td>5873875.0</td>\n      <td>[5873872]</td>\n      <td>[[3763951]]</td>\n      <td>[[Elegante Stiefelette Rauleder braun]]</td>\n      <td>[[1]]</td>\n      <td>[[125.0]]</td>\n      <td>[[737923]]</td>\n    </tr>\n    <tr>\n      <th>143490</th>\n      <td>6615118.0</td>\n      <td>[6615115]</td>\n      <td>[[4774231]]</td>\n      <td>[[Sneaker low Rauleder beige]]</td>\n      <td>[[1]]</td>\n      <td>[[69.0]]</td>\n      <td>[[738017]]</td>\n    </tr>\n  </tbody>\n</table>\n<p>1000 rows × 7 columns</p>\n</div>"
     },
     "execution_count": 214,
     "metadata": {},
     "output_type": "execute_result"
    }
   ],
   "source": [
    "product_data = product_data.sample(n=1000)\n",
    "# convert dates to ordinal\n",
    "product_data['order_dates'] = product_data['order_dates'].apply(lambda x: [ [datetime.fromtimestamp(date).date().toordinal() for date in dateList] for dateList in x] )\n",
    "product_data"
   ],
   "metadata": {
    "collapsed": false
   }
  },
  {
   "cell_type": "code",
   "execution_count": 215,
   "outputs": [],
   "source": [
    "def bringToSameSizeOneDim(column):\n",
    "    max_length = max(column.apply(len))\n",
    "    return column.apply(lambda x: x + [0] * (max_length - len(x)))\n",
    "\n",
    "\n",
    "def bringToSameSizeTwoDimAndFlatten(column):\n",
    "    max_length = max(column.apply(lambda x: max(len(sublist) for sublist in x)))\n",
    "    new_column = column.apply(lambda x: [sublist + [0] * (max_length - len(sublist)) for sublist in x])\n",
    "    new_column = new_column.apply(lambda x: x + [[0] * max_length] * (max_length - len(x)))\n",
    "    return new_column.apply(lambda x: [item for sublist in x for item in sublist])\n",
    "\n",
    "product_data.order_ids = bringToSameSizeOneDim(product_data.order_ids)\n",
    "product_data.product_ids = bringToSameSizeTwoDimAndFlatten(product_data.product_ids)\n",
    "product_data.amounts = bringToSameSizeTwoDimAndFlatten(product_data.amounts)\n",
    "product_data.total_prices = bringToSameSizeTwoDimAndFlatten(product_data.total_prices)\n",
    "product_data.order_dates = bringToSameSizeTwoDimAndFlatten(product_data.order_dates)\n"
   ],
   "metadata": {
    "collapsed": false
   }
  },
  {
   "cell_type": "code",
   "execution_count": 216,
   "outputs": [],
   "source": [
    "def convertToSequence(column):\n",
    "    list = column.tolist()\n",
    "    max_length = max(len(x) for x in list)\n",
    "    return pad_sequences(list, maxlen=max_length, padding='post', value=0), max_length\n",
    "\n",
    "products_inputs, max_length_products = convertToSequence(product_data.product_ids)\n",
    "dates_inputs, max_length_dates = convertToSequence(product_data.order_dates)\n",
    "target_data, _ = convertToSequence(product_data.amounts)\n",
    "target_data = np.expand_dims(target_data, axis=-1)\n",
    "num_targets = target_data.shape[1]"
   ],
   "metadata": {
    "collapsed": false
   }
  },
  {
   "cell_type": "code",
   "execution_count": 217,
   "outputs": [
    {
     "data": {
      "text/plain": "80"
     },
     "metadata": {},
     "output_type": "display_data"
    },
    {
     "data": {
      "text/plain": "80"
     },
     "metadata": {},
     "output_type": "display_data"
    },
    {
     "data": {
      "text/plain": "(1000, 80, 1)"
     },
     "metadata": {},
     "output_type": "display_data"
    },
    {
     "data": {
      "text/plain": "array([[[1],\n        [1],\n        [0],\n        ...,\n        [0],\n        [0],\n        [0]],\n\n       [[1],\n        [0],\n        [0],\n        ...,\n        [0],\n        [0],\n        [0]],\n\n       [[1],\n        [0],\n        [0],\n        ...,\n        [0],\n        [0],\n        [0]],\n\n       ...,\n\n       [[1],\n        [0],\n        [0],\n        ...,\n        [0],\n        [0],\n        [0]],\n\n       [[1],\n        [0],\n        [0],\n        ...,\n        [0],\n        [0],\n        [0]],\n\n       [[1],\n        [0],\n        [0],\n        ...,\n        [0],\n        [0],\n        [0]]], dtype=int32)"
     },
     "metadata": {},
     "output_type": "display_data"
    },
    {
     "data": {
      "text/plain": "array([[737914, 737914,      0, ...,      0,      0,      0],\n       [738457,      0,      0, ...,      0,      0,      0],\n       [738431,      0,      0, ...,      0,      0,      0],\n       ...,\n       [738128,      0,      0, ...,      0,      0,      0],\n       [737923,      0,      0, ...,      0,      0,      0],\n       [738017,      0,      0, ...,      0,      0,      0]], dtype=int32)"
     },
     "metadata": {},
     "output_type": "display_data"
    },
    {
     "data": {
      "text/plain": "array([[5015049, 5015266,       0, ...,       0,       0,       0],\n       [8800346,       0,       0, ...,       0,       0,       0],\n       [8666136,       0,       0, ...,       0,       0,       0],\n       ...,\n       [6164342,       0,       0, ...,       0,       0,       0],\n       [3763951,       0,       0, ...,       0,       0,       0],\n       [4774231,       0,       0, ...,       0,       0,       0]],\n      dtype=int32)"
     },
     "metadata": {},
     "output_type": "display_data"
    }
   ],
   "source": [
    "display(max_length_dates, dates_inputs.shape[1], target_data.shape)\n",
    "display(target_data)\n",
    "display(dates_inputs)\n",
    "display(products_inputs)\n",
    "# 1602099712"
   ],
   "metadata": {
    "collapsed": false
   }
  },
  {
   "cell_type": "code",
   "execution_count": 218,
   "outputs": [],
   "source": [
    "num_dates = len(np.unique(product_data.order_dates))\n",
    "num_products = len(np.unique(product_data.product_ids))\n",
    "max_index = max(np.max(dates_inputs), np.max(products_inputs))\n",
    "vocab_size = max_index + 1\n",
    "max_date = np.max(np.unique(product_data.order_dates.apply(np.unique).apply(max))) + 1\n",
    "max_product_ids = np.max(np.unique(product_data.product_ids.apply(np.unique).apply(max))) + 1"
   ],
   "metadata": {
    "collapsed": false
   }
  },
  {
   "cell_type": "code",
   "execution_count": 219,
   "outputs": [
    {
     "name": "stdout",
     "output_type": "stream",
     "text": [
      "Model: \"model_12\"\n",
      "__________________________________________________________________________________________________\n",
      " Layer (type)                   Output Shape         Param #     Connected to                     \n",
      "==================================================================================================\n",
      " input_27 (InputLayer)          [(None, 80)]         0           []                               \n",
      "                                                                                                  \n",
      " input_28 (InputLayer)          [(None, 80)]         0           []                               \n",
      "                                                                                                  \n",
      " embedding_25 (Embedding)       (None, 80, 16)       11817648    ['input_27[0][0]']               \n",
      "                                                                                                  \n",
      " embedding_26 (Embedding)       (None, 80, 16)       172770592   ['input_28[0][0]']               \n",
      "                                                                                                  \n",
      " concat_embedding_input (Concat  (None, 80, 32)      0           ['embedding_25[0][0]',           \n",
      " enate)                                                           'embedding_26[0][0]']           \n",
      "                                                                                                  \n",
      " lstm_12 (LSTM)                 (None, 80, 64)       24832       ['concat_embedding_input[0][0]'] \n",
      "                                                                                                  \n",
      " tf.math.equal_13 (TFOpLambda)  (None, 80)           0           ['input_28[0][0]']               \n",
      "                                                                                                  \n",
      " batchnorm_lstm (BatchNormaliza  (None, 80, 64)      256         ['lstm_12[0][0]']                \n",
      " tion)                                                                                            \n",
      "                                                                                                  \n",
      " tf.math.logical_not_13 (TFOpLa  (None, 80)          0           ['tf.math.equal_13[0][0]']       \n",
      " mbda)                                                                                            \n",
      "                                                                                                  \n",
      " attention (Attention)          (None, 80, 64)       0           ['batchnorm_lstm[0][0]',         \n",
      "                                                                  'batchnorm_lstm[0][0]',         \n",
      "                                                                  'tf.math.logical_not_13[0][0]', \n",
      "                                                                  'tf.math.logical_not_13[0][0]'] \n",
      "                                                                                                  \n",
      " dense_12 (Dense)               (None, 80, 80)       5200        ['attention[0][0]']              \n",
      "                                                                                                  \n",
      "==================================================================================================\n",
      "Total params: 184,618,528\n",
      "Trainable params: 184,618,400\n",
      "Non-trainable params: 128\n",
      "__________________________________________________________________________________________________\n"
     ]
    }
   ],
   "source": [
    "date_embedding_dim = 16\n",
    "product_embedding_dim = 16\n",
    "date_inputs = Input(shape=(max_length_dates,))\n",
    "product_inputs = Input(shape=(max_length_products,))\n",
    "\n",
    "encoding_padding_mask = tf.math.logical_not(tf.math.equal(product_inputs, 0))\n",
    "\n",
    "date_emb = Embedding(max_date, date_embedding_dim, input_length=max_length_dates)(date_inputs)\n",
    "product_emb = Embedding(max_product_ids, product_embedding_dim, input_length=max_length_products)(product_inputs)\n",
    "\n",
    "\n",
    "concat_embedding_input = Concatenate(\n",
    "    axis=-1, name='concat_embedding_input')([date_emb, product_emb])\n",
    "\n",
    "batchnorm_inputs = BatchNormalization(\n",
    "    name='batchnorm_inputs')(concat_embedding_input)\n",
    "# LSTM layer\n",
    "lstm = LSTM(64, return_sequences=True)(concat_embedding_input)\n",
    "\n",
    "lstm = BatchNormalization(name='batchnorm_lstm')(lstm)\n",
    "\n",
    "att = Attention(use_scale=False,\n",
    "                name='attention')(inputs=[lstm, lstm],\n",
    "                                  mask=[encoding_padding_mask,\n",
    "                                        encoding_padding_mask])\n",
    "\n",
    "output = Dense(num_targets)(att)\n",
    "model = Model(inputs=[date_inputs, product_inputs], outputs=output)\n",
    "model.compile(loss='mean_squared_error', optimizer='adam', metrics=['mse', 'mae', 'accuracy'])\n",
    "model.summary()"
   ],
   "metadata": {
    "collapsed": false
   }
  },
  {
   "cell_type": "code",
   "execution_count": 220,
   "outputs": [
    {
     "name": "stdout",
     "output_type": "stream",
     "text": [
      "Epoch 1/15\n"
     ]
    },
    {
     "name": "stderr",
     "output_type": "stream",
     "text": [
      "2023-06-04 15:00:04.334725: W tensorflow/core/grappler/costs/op_level_cost_estimator.cc:690] Error in PredictCost() for the op: op: \"Softmax\" attr { key: \"T\" value { type: DT_FLOAT } } inputs { dtype: DT_FLOAT shape { unknown_rank: true } } device { type: \"CPU\" model: \"0\" num_cores: 10 environment { key: \"cpu_instruction_set\" value: \"ARM NEON\" } environment { key: \"eigen\" value: \"3.4.90\" } l1_cache_size: 16384 l2_cache_size: 524288 l3_cache_size: 524288 memory_size: 268435456 } outputs { dtype: DT_FLOAT shape { unknown_rank: true } }\n"
     ]
    },
    {
     "name": "stdout",
     "output_type": "stream",
     "text": [
      "32/32 [==============================] - 18s 518ms/step - loss: 0.3408 - mse: 0.3358 - mae: 0.4156 - accuracy: 0.0032\n",
      "Epoch 2/15\n",
      "32/32 [==============================] - 16s 491ms/step - loss: 0.0162 - mse: 0.0177 - mae: 0.0933 - accuracy: 0.0059\n",
      "Epoch 3/15\n",
      "32/32 [==============================] - 15s 483ms/step - loss: 0.0101 - mse: 0.0113 - mae: 0.0685 - accuracy: 0.0386\n",
      "Epoch 4/15\n",
      "32/32 [==============================] - 15s 478ms/step - loss: 0.0086 - mse: 0.0091 - mae: 0.0590 - accuracy: 0.0327\n",
      "Epoch 5/15\n",
      "32/32 [==============================] - 15s 477ms/step - loss: 0.0063 - mse: 0.0078 - mae: 0.0515 - accuracy: 0.0301\n",
      "Epoch 6/15\n",
      "32/32 [==============================] - 15s 476ms/step - loss: 0.0066 - mse: 0.0069 - mae: 0.0461 - accuracy: 0.0295\n",
      "Epoch 7/15\n",
      "32/32 [==============================] - 15s 478ms/step - loss: 0.0058 - mse: 0.0064 - mae: 0.0432 - accuracy: 0.0301\n",
      "Epoch 8/15\n",
      "32/32 [==============================] - 15s 478ms/step - loss: 0.0052 - mse: 0.0060 - mae: 0.0417 - accuracy: 0.0070\n",
      "Epoch 9/15\n",
      "32/32 [==============================] - 15s 476ms/step - loss: 0.0052 - mse: 0.0056 - mae: 0.0391 - accuracy: 0.0107\n",
      "Epoch 10/15\n",
      "32/32 [==============================] - 15s 479ms/step - loss: 0.0049 - mse: 0.0052 - mae: 0.0363 - accuracy: 0.0177\n",
      "Epoch 11/15\n",
      "32/32 [==============================] - 15s 482ms/step - loss: 0.0040 - mse: 0.0051 - mae: 0.0317 - accuracy: 0.0113\n",
      "Epoch 12/15\n",
      "32/32 [==============================] - 16s 492ms/step - loss: 0.0043 - mse: 0.0047 - mae: 0.0320 - accuracy: 0.0091\n",
      "Epoch 13/15\n",
      "32/32 [==============================] - 16s 485ms/step - loss: 0.0039 - mse: 0.0044 - mae: 0.0299 - accuracy: 0.0021\n",
      "Epoch 14/15\n",
      "32/32 [==============================] - 15s 483ms/step - loss: 0.0036 - mse: 0.0042 - mae: 0.0281 - accuracy: 0.0118\n",
      "Epoch 15/15\n",
      "32/32 [==============================] - 15s 483ms/step - loss: 0.0039 - mse: 0.0040 - mae: 0.0258 - accuracy: 0.0011\n"
     ]
    }
   ],
   "source": [
    "epochs = 15\n",
    "batch_size = 32\n",
    "history = model.fit([dates_inputs, products_inputs], target_data, epochs=epochs, batch_size=batch_size)  # Adjust epochs and batch size as needed"
   ],
   "metadata": {
    "collapsed": false
   }
  },
  {
   "cell_type": "code",
   "execution_count": 230,
   "outputs": [],
   "source": [
    "if activate_mlflow:\n",
    "    #mlflow.keras.log_model(model, \"rnn_model\")\n",
    "    mlflow.log_param('epochs', epochs)\n",
    "    mlflow.log_param('batch_size', batch_size)"
   ],
   "metadata": {
    "collapsed": false
   }
  },
  {
   "cell_type": "code",
   "execution_count": 232,
   "outputs": [
    {
     "data": {
      "text/plain": "{'loss': [0.3408089876174927,\n  0.01622704043984413,\n  0.010080899111926556,\n  0.008567382581532001,\n  0.006279885768890381,\n  0.0065847402438521385,\n  0.005807570647448301,\n  0.005194287747144699,\n  0.0051511796191334724,\n  0.004938358906656504,\n  0.004019284155219793,\n  0.004318671766668558,\n  0.003855029819533229,\n  0.003573944792151451,\n  0.0038797897286713123],\n 'mse': [0.3358329236507416,\n  0.01773727685213089,\n  0.011324574239552021,\n  0.009058338589966297,\n  0.00782093871384859,\n  0.006869747769087553,\n  0.0063854847103357315,\n  0.0060285963118076324,\n  0.005620488431304693,\n  0.005247111897915602,\n  0.005105760879814625,\n  0.004742765333503485,\n  0.004413100890815258,\n  0.004186039324849844,\n  0.004038817249238491],\n 'mae': [0.415631502866745,\n  0.09333819895982742,\n  0.06854512542486191,\n  0.058961525559425354,\n  0.05152508243918419,\n  0.046077050268650055,\n  0.04318191856145859,\n  0.041689421981573105,\n  0.03913922980427742,\n  0.03629768639802933,\n  0.03171909600496292,\n  0.03203543648123741,\n  0.029865598306059837,\n  0.028091467916965485,\n  0.02583390846848488],\n 'accuracy': [0.0032206119503825903,\n  0.005904455203562975,\n  0.03864734247326851,\n  0.03274288773536682,\n  0.030059045180678368,\n  0.029522275552153587,\n  0.030059045180678368,\n  0.006977992597967386,\n  0.010735373012721539,\n  0.017713366076350212,\n  0.011272141709923744,\n  0.009125066921114922,\n  0.002147074555978179,\n  0.01180891040712595,\n  0.0010735372779890895]}"
     },
     "metadata": {},
     "output_type": "display_data"
    }
   ],
   "source": [
    "display(history.history)"
   ],
   "metadata": {
    "collapsed": false
   }
  },
  {
   "cell_type": "code",
   "execution_count": 233,
   "outputs": [
    {
     "name": "stdout",
     "output_type": "stream",
     "text": [
      "15/32 [=============>................] - ETA: 0s - loss: 0.4565 - mse: 0.4628 - mae: 0.6700 - accuracy: 0.0000e+00"
     ]
    },
    {
     "name": "stderr",
     "output_type": "stream",
     "text": [
      "2023-06-04 15:07:16.930162: W tensorflow/core/grappler/costs/op_level_cost_estimator.cc:690] Error in PredictCost() for the op: op: \"Softmax\" attr { key: \"T\" value { type: DT_FLOAT } } inputs { dtype: DT_FLOAT shape { unknown_rank: true } } device { type: \"CPU\" model: \"0\" num_cores: 10 environment { key: \"cpu_instruction_set\" value: \"ARM NEON\" } environment { key: \"eigen\" value: \"3.4.90\" } l1_cache_size: 16384 l2_cache_size: 524288 l3_cache_size: 524288 memory_size: 268435456 } outputs { dtype: DT_FLOAT shape { unknown_rank: true } }\n"
     ]
    },
    {
     "name": "stdout",
     "output_type": "stream",
     "text": [
      "32/32 [==============================] - 1s 8ms/step - loss: 0.4565 - mse: 0.4629 - mae: 0.6739 - accuracy: 0.0000e+00\n",
      "Test loss: 0.4565, Test MSE: 0.4629\n",
      "Test MAE: 0.6739, Test Accuracy: 0.0000\n"
     ]
    }
   ],
   "source": [
    "# Evaluate the model\n",
    "loss, mse, mae, acc = model.evaluate([dates_inputs, products_inputs], target_data)\n",
    "print(\"Test loss: {:.4f}, Test MSE: {:.4f}\".format(loss, mse))\n",
    "print(\"Test MAE: {:.4f}, Test Accuracy: {:.4f}\".format(mae, acc))\n",
    "if activate_mlflow:\n",
    "    mlflow.log_metric('test loss', loss)\n",
    "    mlflow.log_metric('test mse', mse)\n",
    "    mlflow.log_metric('test mae', mae)\n",
    "    mlflow.log_metric('test accuracy', acc)"
   ],
   "metadata": {
    "collapsed": false
   }
  },
  {
   "cell_type": "markdown",
   "source": [],
   "metadata": {
    "collapsed": false
   }
  },
  {
   "cell_type": "code",
   "execution_count": 234,
   "outputs": [],
   "source": [
    "if activate_mlflow:\n",
    "    mlflow.end_run()"
   ],
   "metadata": {
    "collapsed": false
   }
  },
  {
   "cell_type": "code",
   "execution_count": null,
   "outputs": [],
   "source": [],
   "metadata": {
    "collapsed": false
   }
  }
 ],
 "metadata": {
  "kernelspec": {
   "display_name": "Python 3",
   "language": "python",
   "name": "python3"
  },
  "language_info": {
   "codemirror_mode": {
    "name": "ipython",
    "version": 2
   },
   "file_extension": ".py",
   "mimetype": "text/x-python",
   "name": "python",
   "nbconvert_exporter": "python",
   "pygments_lexer": "ipython2",
   "version": "2.7.6"
  }
 },
 "nbformat": 4,
 "nbformat_minor": 0
}
