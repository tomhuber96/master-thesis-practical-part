{
 "cells": [
  {
   "cell_type": "code",
   "execution_count": 116,
   "outputs": [],
   "source": [
    "import pandas as pd\n",
    "from keras.layers import Input, Embedding, LSTM, Dense, Dot, Softmax, Concatenate, BatchNormalization, Attention\n",
    "from keras.models import Model\n",
    "import tensorflow as tf\n",
    "import numpy as np"
   ],
   "metadata": {
    "collapsed": false
   }
  },
  {
   "cell_type": "code",
   "execution_count": 117,
   "outputs": [],
   "source": [
    "basepath = '../../datasets/preprocessed_datasets/gabor/'\n",
    "product_data = pd.read_pickle(basepath +'product_data.pkl')"
   ],
   "metadata": {
    "collapsed": false
   }
  },
  {
   "cell_type": "code",
   "execution_count": 118,
   "outputs": [
    {
     "data": {
      "text/plain": "        order_id           orderdate  total_order_price  customer__id  \\\n275350   8575223 2022-05-06 09:38:51             120.00     8575226.0   \n227862   8690923 2022-05-17 18:26:42              99.95     8690926.0   \n458294   9656182 2022-09-26 17:43:27             235.00     1991518.0   \n197169   8781175 2022-05-28 09:17:21             179.90     8781179.0   \n452647   7743246 2022-01-06 18:18:18             120.00     7743244.0   \n...          ...                 ...                ...           ...   \n7301     8338110 2022-04-11 10:14:27              89.95     8338112.0   \n522912   8146355 2022-03-19 20:21:53              89.95     8089667.0   \n546254   6595200 2021-08-12 19:55:36             158.00     6595203.0   \n86212    7556615 2021-11-28 08:57:01             399.75     2123884.0   \n399347   6618167 2021-08-16 07:21:11             279.85     6618172.0   \n\n        product__id                            productName  amount  \\\n275350      7701784              Sneaker low Rauleder grün       1   \n227862      7595493        Plateau Sandale Glattleder weiß       1   \n458294      8807159     Sneaker low Materialmix Leder blau       1   \n197169      7830981       Plateau Sandale Glattleder braun       1   \n452647      6556896  Plateau Stiefelette Lackleder schwarz       1   \n...             ...                                    ...     ...   \n7301         556482         Eleganter Pump Glattleder weiß       1   \n522912      7789486      Eleganter Ballerina Rauleder Grün       1   \n546254      4914593    Sneaker low Materialmix Leder beige       1   \n86212       6114034              Plateau Pumps Textil grau       1   \n399347      3482461  Sportliche Ballerina Rauleder schwarz       1   \n\n        totalPrice productSizeEu  o_parentId  ...  indicatorWedding  \\\n275350      120.00          38.5     7697493  ...               0.0   \n227862       99.95          35.0     7588495  ...               0.0   \n458294      125.00          38.0     8806628  ...               0.0   \n197169       89.95          39.0     7830528  ...               0.0   \n452647      120.00          35.5     6551874  ...               0.0   \n...            ...           ...         ...  ...               ...   \n7301         89.95          39.0      337452  ...               0.0   \n522912       89.95          41.0      588301  ...               0.0   \n546254       79.00          42.5     4913028  ...               0.0   \n86212        79.95          38.5     3472450  ...               0.0   \n399347       99.95          37.0     3472910  ...               0.0   \n\n        indicatorSale weight__value  color  productType  materialPm  material  \\\n275350              1          0.82     11            0          11         3   \n227862              1          0.73      2            0         708         0   \n458294              1          1.26      1            0         224         6   \n197169              1          1.01      3            0           0         0   \n452647              1          0.86      0            0          73         4   \n...               ...           ...    ...          ...         ...       ...   \n7301                0          0.68      2            0         654         0   \n522912              1          0.68     11            0          11         3   \n546254              1          0.78      5            0         838         6   \n86212               1          0.45      7            0         149         2   \n399347              1          0.35      0            0          11         3   \n\n        line  originCountry  gender  \n275350     2              0       0  \n227862     2              0       0  \n458294     1              1       0  \n197169     2              0       0  \n452647     1              1       0  \n...      ...            ...     ...  \n7301       0              0       0  \n522912     2              1       0  \n546254     2              1       0  \n86212      1              0       0  \n399347     1              1       0  \n\n[1000 rows x 24 columns]",
      "text/html": "<div>\n<style scoped>\n    .dataframe tbody tr th:only-of-type {\n        vertical-align: middle;\n    }\n\n    .dataframe tbody tr th {\n        vertical-align: top;\n    }\n\n    .dataframe thead th {\n        text-align: right;\n    }\n</style>\n<table border=\"1\" class=\"dataframe\">\n  <thead>\n    <tr style=\"text-align: right;\">\n      <th></th>\n      <th>order_id</th>\n      <th>orderdate</th>\n      <th>total_order_price</th>\n      <th>customer__id</th>\n      <th>product__id</th>\n      <th>productName</th>\n      <th>amount</th>\n      <th>totalPrice</th>\n      <th>productSizeEu</th>\n      <th>o_parentId</th>\n      <th>...</th>\n      <th>indicatorWedding</th>\n      <th>indicatorSale</th>\n      <th>weight__value</th>\n      <th>color</th>\n      <th>productType</th>\n      <th>materialPm</th>\n      <th>material</th>\n      <th>line</th>\n      <th>originCountry</th>\n      <th>gender</th>\n    </tr>\n  </thead>\n  <tbody>\n    <tr>\n      <th>275350</th>\n      <td>8575223</td>\n      <td>2022-05-06 09:38:51</td>\n      <td>120.00</td>\n      <td>8575226.0</td>\n      <td>7701784</td>\n      <td>Sneaker low Rauleder grün</td>\n      <td>1</td>\n      <td>120.00</td>\n      <td>38.5</td>\n      <td>7697493</td>\n      <td>...</td>\n      <td>0.0</td>\n      <td>1</td>\n      <td>0.82</td>\n      <td>11</td>\n      <td>0</td>\n      <td>11</td>\n      <td>3</td>\n      <td>2</td>\n      <td>0</td>\n      <td>0</td>\n    </tr>\n    <tr>\n      <th>227862</th>\n      <td>8690923</td>\n      <td>2022-05-17 18:26:42</td>\n      <td>99.95</td>\n      <td>8690926.0</td>\n      <td>7595493</td>\n      <td>Plateau Sandale Glattleder weiß</td>\n      <td>1</td>\n      <td>99.95</td>\n      <td>35.0</td>\n      <td>7588495</td>\n      <td>...</td>\n      <td>0.0</td>\n      <td>1</td>\n      <td>0.73</td>\n      <td>2</td>\n      <td>0</td>\n      <td>708</td>\n      <td>0</td>\n      <td>2</td>\n      <td>0</td>\n      <td>0</td>\n    </tr>\n    <tr>\n      <th>458294</th>\n      <td>9656182</td>\n      <td>2022-09-26 17:43:27</td>\n      <td>235.00</td>\n      <td>1991518.0</td>\n      <td>8807159</td>\n      <td>Sneaker low Materialmix Leder blau</td>\n      <td>1</td>\n      <td>125.00</td>\n      <td>38.0</td>\n      <td>8806628</td>\n      <td>...</td>\n      <td>0.0</td>\n      <td>1</td>\n      <td>1.26</td>\n      <td>1</td>\n      <td>0</td>\n      <td>224</td>\n      <td>6</td>\n      <td>1</td>\n      <td>1</td>\n      <td>0</td>\n    </tr>\n    <tr>\n      <th>197169</th>\n      <td>8781175</td>\n      <td>2022-05-28 09:17:21</td>\n      <td>179.90</td>\n      <td>8781179.0</td>\n      <td>7830981</td>\n      <td>Plateau Sandale Glattleder braun</td>\n      <td>1</td>\n      <td>89.95</td>\n      <td>39.0</td>\n      <td>7830528</td>\n      <td>...</td>\n      <td>0.0</td>\n      <td>1</td>\n      <td>1.01</td>\n      <td>3</td>\n      <td>0</td>\n      <td>0</td>\n      <td>0</td>\n      <td>2</td>\n      <td>0</td>\n      <td>0</td>\n    </tr>\n    <tr>\n      <th>452647</th>\n      <td>7743246</td>\n      <td>2022-01-06 18:18:18</td>\n      <td>120.00</td>\n      <td>7743244.0</td>\n      <td>6556896</td>\n      <td>Plateau Stiefelette Lackleder schwarz</td>\n      <td>1</td>\n      <td>120.00</td>\n      <td>35.5</td>\n      <td>6551874</td>\n      <td>...</td>\n      <td>0.0</td>\n      <td>1</td>\n      <td>0.86</td>\n      <td>0</td>\n      <td>0</td>\n      <td>73</td>\n      <td>4</td>\n      <td>1</td>\n      <td>1</td>\n      <td>0</td>\n    </tr>\n    <tr>\n      <th>...</th>\n      <td>...</td>\n      <td>...</td>\n      <td>...</td>\n      <td>...</td>\n      <td>...</td>\n      <td>...</td>\n      <td>...</td>\n      <td>...</td>\n      <td>...</td>\n      <td>...</td>\n      <td>...</td>\n      <td>...</td>\n      <td>...</td>\n      <td>...</td>\n      <td>...</td>\n      <td>...</td>\n      <td>...</td>\n      <td>...</td>\n      <td>...</td>\n      <td>...</td>\n      <td>...</td>\n    </tr>\n    <tr>\n      <th>7301</th>\n      <td>8338110</td>\n      <td>2022-04-11 10:14:27</td>\n      <td>89.95</td>\n      <td>8338112.0</td>\n      <td>556482</td>\n      <td>Eleganter Pump Glattleder weiß</td>\n      <td>1</td>\n      <td>89.95</td>\n      <td>39.0</td>\n      <td>337452</td>\n      <td>...</td>\n      <td>0.0</td>\n      <td>0</td>\n      <td>0.68</td>\n      <td>2</td>\n      <td>0</td>\n      <td>654</td>\n      <td>0</td>\n      <td>0</td>\n      <td>0</td>\n      <td>0</td>\n    </tr>\n    <tr>\n      <th>522912</th>\n      <td>8146355</td>\n      <td>2022-03-19 20:21:53</td>\n      <td>89.95</td>\n      <td>8089667.0</td>\n      <td>7789486</td>\n      <td>Eleganter Ballerina Rauleder Grün</td>\n      <td>1</td>\n      <td>89.95</td>\n      <td>41.0</td>\n      <td>588301</td>\n      <td>...</td>\n      <td>0.0</td>\n      <td>1</td>\n      <td>0.68</td>\n      <td>11</td>\n      <td>0</td>\n      <td>11</td>\n      <td>3</td>\n      <td>2</td>\n      <td>1</td>\n      <td>0</td>\n    </tr>\n    <tr>\n      <th>546254</th>\n      <td>6595200</td>\n      <td>2021-08-12 19:55:36</td>\n      <td>158.00</td>\n      <td>6595203.0</td>\n      <td>4914593</td>\n      <td>Sneaker low Materialmix Leder beige</td>\n      <td>1</td>\n      <td>79.00</td>\n      <td>42.5</td>\n      <td>4913028</td>\n      <td>...</td>\n      <td>0.0</td>\n      <td>1</td>\n      <td>0.78</td>\n      <td>5</td>\n      <td>0</td>\n      <td>838</td>\n      <td>6</td>\n      <td>2</td>\n      <td>1</td>\n      <td>0</td>\n    </tr>\n    <tr>\n      <th>86212</th>\n      <td>7556615</td>\n      <td>2021-11-28 08:57:01</td>\n      <td>399.75</td>\n      <td>2123884.0</td>\n      <td>6114034</td>\n      <td>Plateau Pumps Textil grau</td>\n      <td>1</td>\n      <td>79.95</td>\n      <td>38.5</td>\n      <td>3472450</td>\n      <td>...</td>\n      <td>0.0</td>\n      <td>1</td>\n      <td>0.45</td>\n      <td>7</td>\n      <td>0</td>\n      <td>149</td>\n      <td>2</td>\n      <td>1</td>\n      <td>0</td>\n      <td>0</td>\n    </tr>\n    <tr>\n      <th>399347</th>\n      <td>6618167</td>\n      <td>2021-08-16 07:21:11</td>\n      <td>279.85</td>\n      <td>6618172.0</td>\n      <td>3482461</td>\n      <td>Sportliche Ballerina Rauleder schwarz</td>\n      <td>1</td>\n      <td>99.95</td>\n      <td>37.0</td>\n      <td>3472910</td>\n      <td>...</td>\n      <td>0.0</td>\n      <td>1</td>\n      <td>0.35</td>\n      <td>0</td>\n      <td>0</td>\n      <td>11</td>\n      <td>3</td>\n      <td>1</td>\n      <td>1</td>\n      <td>0</td>\n    </tr>\n  </tbody>\n</table>\n<p>1000 rows × 24 columns</p>\n</div>"
     },
     "execution_count": 118,
     "metadata": {},
     "output_type": "execute_result"
    }
   ],
   "source": [
    "product_data = product_data.sample(n=1000)\n",
    "product_data"
   ],
   "metadata": {
    "collapsed": false
   }
  },
  {
   "cell_type": "code",
   "execution_count": 119,
   "outputs": [
    {
     "data": {
      "text/plain": "        order_id           orderdate  total_order_price  customer__id  \\\n275350   8575223 2022-05-06 09:38:51             120.00     8575226.0   \n227862   8690923 2022-05-17 18:26:42              99.95     8690926.0   \n458294   9656182 2022-09-26 17:43:27             235.00     1991518.0   \n197169   8781175 2022-05-28 09:17:21             179.90     8781179.0   \n452647   7743246 2022-01-06 18:18:18             120.00     7743244.0   \n...          ...                 ...                ...           ...   \n7301     8338110 2022-04-11 10:14:27              89.95     8338112.0   \n522912   8146355 2022-03-19 20:21:53              89.95     8089667.0   \n546254   6595200 2021-08-12 19:55:36             158.00     6595203.0   \n86212    7556615 2021-11-28 08:57:01             399.75     2123884.0   \n399347   6618167 2021-08-16 07:21:11             279.85     6618172.0   \n\n        product__id                            productName  amount  \\\n275350      7701784              Sneaker low Rauleder grün       1   \n227862      7595493        Plateau Sandale Glattleder weiß       1   \n458294      8807159     Sneaker low Materialmix Leder blau       1   \n197169      7830981       Plateau Sandale Glattleder braun       1   \n452647      6556896  Plateau Stiefelette Lackleder schwarz       1   \n...             ...                                    ...     ...   \n7301         556482         Eleganter Pump Glattleder weiß       1   \n522912      7789486      Eleganter Ballerina Rauleder Grün       1   \n546254      4914593    Sneaker low Materialmix Leder beige       1   \n86212       6114034              Plateau Pumps Textil grau       1   \n399347      3482461  Sportliche Ballerina Rauleder schwarz       1   \n\n        totalPrice productSizeEu  o_parentId  ...  indicatorWedding  \\\n275350      120.00          38.5     7697493  ...               0.0   \n227862       99.95          35.0     7588495  ...               0.0   \n458294      125.00          38.0     8806628  ...               0.0   \n197169       89.95          39.0     7830528  ...               0.0   \n452647      120.00          35.5     6551874  ...               0.0   \n...            ...           ...         ...  ...               ...   \n7301         89.95          39.0      337452  ...               0.0   \n522912       89.95          41.0      588301  ...               0.0   \n546254       79.00          42.5     4913028  ...               0.0   \n86212        79.95          38.5     3472450  ...               0.0   \n399347       99.95          37.0     3472910  ...               0.0   \n\n        indicatorSale weight__value  color  productType  materialPm  material  \\\n275350              1          0.82     11            0          11         3   \n227862              1          0.73      2            0         708         0   \n458294              1          1.26      1            0         224         6   \n197169              1          1.01      3            0           0         0   \n452647              1          0.86      0            0          73         4   \n...               ...           ...    ...          ...         ...       ...   \n7301                0          0.68      2            0         654         0   \n522912              1          0.68     11            0          11         3   \n546254              1          0.78      5            0         838         6   \n86212               1          0.45      7            0         149         2   \n399347              1          0.35      0            0          11         3   \n\n        line  originCountry  gender  \n275350     2              0       0  \n227862     2              0       0  \n458294     1              1       0  \n197169     2              0       0  \n452647     1              1       0  \n...      ...            ...     ...  \n7301       0              0       0  \n522912     2              1       0  \n546254     2              1       0  \n86212      1              0       0  \n399347     1              1       0  \n\n[1000 rows x 24 columns]",
      "text/html": "<div>\n<style scoped>\n    .dataframe tbody tr th:only-of-type {\n        vertical-align: middle;\n    }\n\n    .dataframe tbody tr th {\n        vertical-align: top;\n    }\n\n    .dataframe thead th {\n        text-align: right;\n    }\n</style>\n<table border=\"1\" class=\"dataframe\">\n  <thead>\n    <tr style=\"text-align: right;\">\n      <th></th>\n      <th>order_id</th>\n      <th>orderdate</th>\n      <th>total_order_price</th>\n      <th>customer__id</th>\n      <th>product__id</th>\n      <th>productName</th>\n      <th>amount</th>\n      <th>totalPrice</th>\n      <th>productSizeEu</th>\n      <th>o_parentId</th>\n      <th>...</th>\n      <th>indicatorWedding</th>\n      <th>indicatorSale</th>\n      <th>weight__value</th>\n      <th>color</th>\n      <th>productType</th>\n      <th>materialPm</th>\n      <th>material</th>\n      <th>line</th>\n      <th>originCountry</th>\n      <th>gender</th>\n    </tr>\n  </thead>\n  <tbody>\n    <tr>\n      <th>275350</th>\n      <td>8575223</td>\n      <td>2022-05-06 09:38:51</td>\n      <td>120.00</td>\n      <td>8575226.0</td>\n      <td>7701784</td>\n      <td>Sneaker low Rauleder grün</td>\n      <td>1</td>\n      <td>120.00</td>\n      <td>38.5</td>\n      <td>7697493</td>\n      <td>...</td>\n      <td>0.0</td>\n      <td>1</td>\n      <td>0.82</td>\n      <td>11</td>\n      <td>0</td>\n      <td>11</td>\n      <td>3</td>\n      <td>2</td>\n      <td>0</td>\n      <td>0</td>\n    </tr>\n    <tr>\n      <th>227862</th>\n      <td>8690923</td>\n      <td>2022-05-17 18:26:42</td>\n      <td>99.95</td>\n      <td>8690926.0</td>\n      <td>7595493</td>\n      <td>Plateau Sandale Glattleder weiß</td>\n      <td>1</td>\n      <td>99.95</td>\n      <td>35.0</td>\n      <td>7588495</td>\n      <td>...</td>\n      <td>0.0</td>\n      <td>1</td>\n      <td>0.73</td>\n      <td>2</td>\n      <td>0</td>\n      <td>708</td>\n      <td>0</td>\n      <td>2</td>\n      <td>0</td>\n      <td>0</td>\n    </tr>\n    <tr>\n      <th>458294</th>\n      <td>9656182</td>\n      <td>2022-09-26 17:43:27</td>\n      <td>235.00</td>\n      <td>1991518.0</td>\n      <td>8807159</td>\n      <td>Sneaker low Materialmix Leder blau</td>\n      <td>1</td>\n      <td>125.00</td>\n      <td>38.0</td>\n      <td>8806628</td>\n      <td>...</td>\n      <td>0.0</td>\n      <td>1</td>\n      <td>1.26</td>\n      <td>1</td>\n      <td>0</td>\n      <td>224</td>\n      <td>6</td>\n      <td>1</td>\n      <td>1</td>\n      <td>0</td>\n    </tr>\n    <tr>\n      <th>197169</th>\n      <td>8781175</td>\n      <td>2022-05-28 09:17:21</td>\n      <td>179.90</td>\n      <td>8781179.0</td>\n      <td>7830981</td>\n      <td>Plateau Sandale Glattleder braun</td>\n      <td>1</td>\n      <td>89.95</td>\n      <td>39.0</td>\n      <td>7830528</td>\n      <td>...</td>\n      <td>0.0</td>\n      <td>1</td>\n      <td>1.01</td>\n      <td>3</td>\n      <td>0</td>\n      <td>0</td>\n      <td>0</td>\n      <td>2</td>\n      <td>0</td>\n      <td>0</td>\n    </tr>\n    <tr>\n      <th>452647</th>\n      <td>7743246</td>\n      <td>2022-01-06 18:18:18</td>\n      <td>120.00</td>\n      <td>7743244.0</td>\n      <td>6556896</td>\n      <td>Plateau Stiefelette Lackleder schwarz</td>\n      <td>1</td>\n      <td>120.00</td>\n      <td>35.5</td>\n      <td>6551874</td>\n      <td>...</td>\n      <td>0.0</td>\n      <td>1</td>\n      <td>0.86</td>\n      <td>0</td>\n      <td>0</td>\n      <td>73</td>\n      <td>4</td>\n      <td>1</td>\n      <td>1</td>\n      <td>0</td>\n    </tr>\n    <tr>\n      <th>...</th>\n      <td>...</td>\n      <td>...</td>\n      <td>...</td>\n      <td>...</td>\n      <td>...</td>\n      <td>...</td>\n      <td>...</td>\n      <td>...</td>\n      <td>...</td>\n      <td>...</td>\n      <td>...</td>\n      <td>...</td>\n      <td>...</td>\n      <td>...</td>\n      <td>...</td>\n      <td>...</td>\n      <td>...</td>\n      <td>...</td>\n      <td>...</td>\n      <td>...</td>\n      <td>...</td>\n    </tr>\n    <tr>\n      <th>7301</th>\n      <td>8338110</td>\n      <td>2022-04-11 10:14:27</td>\n      <td>89.95</td>\n      <td>8338112.0</td>\n      <td>556482</td>\n      <td>Eleganter Pump Glattleder weiß</td>\n      <td>1</td>\n      <td>89.95</td>\n      <td>39.0</td>\n      <td>337452</td>\n      <td>...</td>\n      <td>0.0</td>\n      <td>0</td>\n      <td>0.68</td>\n      <td>2</td>\n      <td>0</td>\n      <td>654</td>\n      <td>0</td>\n      <td>0</td>\n      <td>0</td>\n      <td>0</td>\n    </tr>\n    <tr>\n      <th>522912</th>\n      <td>8146355</td>\n      <td>2022-03-19 20:21:53</td>\n      <td>89.95</td>\n      <td>8089667.0</td>\n      <td>7789486</td>\n      <td>Eleganter Ballerina Rauleder Grün</td>\n      <td>1</td>\n      <td>89.95</td>\n      <td>41.0</td>\n      <td>588301</td>\n      <td>...</td>\n      <td>0.0</td>\n      <td>1</td>\n      <td>0.68</td>\n      <td>11</td>\n      <td>0</td>\n      <td>11</td>\n      <td>3</td>\n      <td>2</td>\n      <td>1</td>\n      <td>0</td>\n    </tr>\n    <tr>\n      <th>546254</th>\n      <td>6595200</td>\n      <td>2021-08-12 19:55:36</td>\n      <td>158.00</td>\n      <td>6595203.0</td>\n      <td>4914593</td>\n      <td>Sneaker low Materialmix Leder beige</td>\n      <td>1</td>\n      <td>79.00</td>\n      <td>42.5</td>\n      <td>4913028</td>\n      <td>...</td>\n      <td>0.0</td>\n      <td>1</td>\n      <td>0.78</td>\n      <td>5</td>\n      <td>0</td>\n      <td>838</td>\n      <td>6</td>\n      <td>2</td>\n      <td>1</td>\n      <td>0</td>\n    </tr>\n    <tr>\n      <th>86212</th>\n      <td>7556615</td>\n      <td>2021-11-28 08:57:01</td>\n      <td>399.75</td>\n      <td>2123884.0</td>\n      <td>6114034</td>\n      <td>Plateau Pumps Textil grau</td>\n      <td>1</td>\n      <td>79.95</td>\n      <td>38.5</td>\n      <td>3472450</td>\n      <td>...</td>\n      <td>0.0</td>\n      <td>1</td>\n      <td>0.45</td>\n      <td>7</td>\n      <td>0</td>\n      <td>149</td>\n      <td>2</td>\n      <td>1</td>\n      <td>0</td>\n      <td>0</td>\n    </tr>\n    <tr>\n      <th>399347</th>\n      <td>6618167</td>\n      <td>2021-08-16 07:21:11</td>\n      <td>279.85</td>\n      <td>6618172.0</td>\n      <td>3482461</td>\n      <td>Sportliche Ballerina Rauleder schwarz</td>\n      <td>1</td>\n      <td>99.95</td>\n      <td>37.0</td>\n      <td>3472910</td>\n      <td>...</td>\n      <td>0.0</td>\n      <td>1</td>\n      <td>0.35</td>\n      <td>0</td>\n      <td>0</td>\n      <td>11</td>\n      <td>3</td>\n      <td>1</td>\n      <td>1</td>\n      <td>0</td>\n    </tr>\n  </tbody>\n</table>\n<p>1000 rows × 24 columns</p>\n</div>"
     },
     "execution_count": 119,
     "metadata": {},
     "output_type": "execute_result"
    }
   ],
   "source": [
    "product_data"
   ],
   "metadata": {
    "collapsed": false
   }
  },
  {
   "cell_type": "code",
   "execution_count": 120,
   "outputs": [
    {
     "data": {
      "text/plain": "1000"
     },
     "metadata": {},
     "output_type": "display_data"
    },
    {
     "data": {
      "text/plain": "1000"
     },
     "metadata": {},
     "output_type": "display_data"
    },
    {
     "data": {
      "text/plain": "1000"
     },
     "metadata": {},
     "output_type": "display_data"
    }
   ],
   "source": [
    "num_dates = len(product_data.orderdate)\n",
    "num_units = len(product_data.amount)\n",
    "\n",
    "num_products =  len(product_data.product__id)\n",
    "display(num_dates, num_products, num_units)"
   ],
   "metadata": {
    "collapsed": false
   }
  },
  {
   "cell_type": "code",
   "execution_count": 122,
   "outputs": [],
   "source": [
    "# Input layers\n",
    "date_inputs = Input(shape=(num_dates,))\n",
    "product_inputs = Input(shape=(num_products,))\n",
    "\n",
    "encoding_padding_mask = tf.math.logical_not(tf.math.equal(product_inputs, 0))\n",
    "\n",
    "# Embedding layers\n",
    "date_emb = Embedding(num_dates, 16, input_length=num_dates)(date_inputs)\n",
    "product_emb = Embedding(num_products, 16, input_length=num_products)(product_inputs)\n",
    "\n",
    "concat_embedding_input = Concatenate(\n",
    "    name='concat_embedding_input')([date_emb, product_emb])\n",
    "\n",
    "concat_embedding_input = BatchNormalization(\n",
    "    name='batchnorm_inputs')(concat_embedding_input)\n",
    "\n",
    "# LSTM layer\n",
    "lstm = LSTM(64, return_sequences=True)(concat_embedding_input)\n",
    "\n",
    "lstm = BatchNormalization(name='batchnorm_lstm')(lstm)\n",
    "\n",
    "att = Attention(use_scale=False,\n",
    "                name='attention')(inputs=[lstm, lstm],\n",
    "                                  mask=[encoding_padding_mask,\n",
    "                                        encoding_padding_mask])\n",
    "\n",
    "\n",
    "# Concatenate layer\n",
    "#concat = Concatenate(axis=2)([context, price_inputs])\n",
    "\n",
    "# Dense layer\n",
    "output = Dense(1)(att)\n",
    "# Define the model\n",
    "model = Model(inputs=[date_inputs, product_inputs], outputs=output)\n",
    "# Compile the model\n",
    "model.compile(loss='mean_squared_error', optimizer='adam', metrics=['mse'])"
   ],
   "metadata": {
    "collapsed": false
   }
  },
  {
   "cell_type": "code",
   "execution_count": null,
   "outputs": [],
   "source": [
    "import datetime\n",
    "\n",
    "# Convert orderdate column to Unix timestamps\n",
    "unix_timestamps = [int(datetime.datetime.timestamp(dt)) for dt in product_data['orderdate']]\n",
    "\n",
    "# Convert Unix timestamps to a numpy array\n",
    "order_dates = np.array(unix_timestamps)"
   ],
   "metadata": {
    "collapsed": false
   }
  },
  {
   "cell_type": "code",
   "execution_count": 123,
   "outputs": [
    {
     "name": "stdout",
     "output_type": "stream",
     "text": [
      "Epoch 1/10\n",
      "WARNING:tensorflow:Model was constructed with shape (None, 1000) for input KerasTensor(type_spec=TensorSpec(shape=(None, 1000), dtype=tf.float32, name='input_15'), name='input_15', description=\"created by layer 'input_15'\"), but it was called on an input with incompatible shape (None,).\n",
      "WARNING:tensorflow:Model was constructed with shape (None, 1000) for input KerasTensor(type_spec=TensorSpec(shape=(None, 1000), dtype=tf.float32, name='input_16'), name='input_16', description=\"created by layer 'input_16'\"), but it was called on an input with incompatible shape (None, 1).\n"
     ]
    },
    {
     "ename": "ValueError",
     "evalue": "in user code:\n\n    File \"/Users/thomashuber/miniconda3/envs/m1-master-thesis/lib/python3.9/site-packages/keras/engine/training.py\", line 1249, in train_function  *\n        return step_function(self, iterator)\n    File \"/Users/thomashuber/miniconda3/envs/m1-master-thesis/lib/python3.9/site-packages/keras/engine/training.py\", line 1233, in step_function  **\n        outputs = model.distribute_strategy.run(run_step, args=(data,))\n    File \"/Users/thomashuber/miniconda3/envs/m1-master-thesis/lib/python3.9/site-packages/keras/engine/training.py\", line 1222, in run_step  **\n        outputs = model.train_step(data)\n    File \"/Users/thomashuber/miniconda3/envs/m1-master-thesis/lib/python3.9/site-packages/keras/engine/training.py\", line 1023, in train_step\n        y_pred = self(x, training=True)\n    File \"/Users/thomashuber/miniconda3/envs/m1-master-thesis/lib/python3.9/site-packages/keras/utils/traceback_utils.py\", line 70, in error_handler\n        raise e.with_traceback(filtered_tb) from None\n    File \"/Users/thomashuber/miniconda3/envs/m1-master-thesis/lib/python3.9/site-packages/keras/backend.py\", line 3572, in concatenate\n        return tf.concat([to_dense(x) for x in tensors], axis)\n\n    ValueError: Exception encountered when calling layer 'concat_embedding_input' (type Concatenate).\n    \n    Shape must be rank 2 but is rank 3 for '{{node model_5/concat_embedding_input/concat}} = ConcatV2[N=2, T=DT_FLOAT, Tidx=DT_INT32](model_5/embedding_13/embedding_lookup/Identity_1, model_5/embedding_14/embedding_lookup/Identity_1, model_5/concat_embedding_input/concat/axis)' with input shapes: [?,16], [?,1,16], [].\n    \n    Call arguments received by layer 'concat_embedding_input' (type Concatenate):\n      • inputs=['tf.Tensor(shape=(None, 16), dtype=float32)', 'tf.Tensor(shape=(None, 1, 16), dtype=float32)']\n",
     "output_type": "error",
     "traceback": [
      "\u001B[0;31m---------------------------------------------------------------------------\u001B[0m",
      "\u001B[0;31mValueError\u001B[0m                                Traceback (most recent call last)",
      "Cell \u001B[0;32mIn[123], line 3\u001B[0m\n\u001B[1;32m      1\u001B[0m output_variable \u001B[38;5;241m=\u001B[39m product_data\u001B[38;5;241m.\u001B[39mamount\u001B[38;5;241m.\u001B[39mto_numpy()\u001B[38;5;241m.\u001B[39mreshape(\u001B[38;5;241m-\u001B[39m\u001B[38;5;241m1\u001B[39m, \u001B[38;5;241m1\u001B[39m)\n\u001B[1;32m      2\u001B[0m \u001B[38;5;66;03m#dataset = tf.data.Dataset.from_tensor_slices()\u001B[39;00m\n\u001B[0;32m----> 3\u001B[0m history \u001B[38;5;241m=\u001B[39m \u001B[43mmodel\u001B[49m\u001B[38;5;241;43m.\u001B[39;49m\u001B[43mfit\u001B[49m\u001B[43m(\u001B[49m\u001B[43m[\u001B[49m\u001B[43morder_dates\u001B[49m\u001B[43m,\u001B[49m\u001B[43m \u001B[49m\u001B[43mproduct_data\u001B[49m\u001B[38;5;241;43m.\u001B[39;49m\u001B[43mproduct__id\u001B[49m\u001B[43m]\u001B[49m\u001B[43m,\u001B[49m\u001B[43m \u001B[49m\u001B[43moutput_variable\u001B[49m\u001B[43m,\u001B[49m\u001B[43m \u001B[49m\u001B[43mepochs\u001B[49m\u001B[38;5;241;43m=\u001B[39;49m\u001B[38;5;241;43m10\u001B[39;49m\u001B[43m,\u001B[49m\u001B[43m \u001B[49m\u001B[43mbatch_size\u001B[49m\u001B[38;5;241;43m=\u001B[39;49m\u001B[38;5;241;43m32\u001B[39;49m\u001B[43m)\u001B[49m\n",
      "File \u001B[0;32m~/miniconda3/envs/m1-master-thesis/lib/python3.9/site-packages/keras/utils/traceback_utils.py:70\u001B[0m, in \u001B[0;36mfilter_traceback.<locals>.error_handler\u001B[0;34m(*args, **kwargs)\u001B[0m\n\u001B[1;32m     67\u001B[0m     filtered_tb \u001B[38;5;241m=\u001B[39m _process_traceback_frames(e\u001B[38;5;241m.\u001B[39m__traceback__)\n\u001B[1;32m     68\u001B[0m     \u001B[38;5;66;03m# To get the full stack trace, call:\u001B[39;00m\n\u001B[1;32m     69\u001B[0m     \u001B[38;5;66;03m# `tf.debugging.disable_traceback_filtering()`\u001B[39;00m\n\u001B[0;32m---> 70\u001B[0m     \u001B[38;5;28;01mraise\u001B[39;00m e\u001B[38;5;241m.\u001B[39mwith_traceback(filtered_tb) \u001B[38;5;28;01mfrom\u001B[39;00m \u001B[38;5;28mNone\u001B[39m\n\u001B[1;32m     71\u001B[0m \u001B[38;5;28;01mfinally\u001B[39;00m:\n\u001B[1;32m     72\u001B[0m     \u001B[38;5;28;01mdel\u001B[39;00m filtered_tb\n",
      "File \u001B[0;32m/var/folders/jp/3q1jwf6d5n11rx71jwtqcgv80000gn/T/__autograph_generated_filesuxt6oki.py:15\u001B[0m, in \u001B[0;36mouter_factory.<locals>.inner_factory.<locals>.tf__train_function\u001B[0;34m(iterator)\u001B[0m\n\u001B[1;32m     13\u001B[0m \u001B[38;5;28;01mtry\u001B[39;00m:\n\u001B[1;32m     14\u001B[0m     do_return \u001B[38;5;241m=\u001B[39m \u001B[38;5;28;01mTrue\u001B[39;00m\n\u001B[0;32m---> 15\u001B[0m     retval_ \u001B[38;5;241m=\u001B[39m ag__\u001B[38;5;241m.\u001B[39mconverted_call(ag__\u001B[38;5;241m.\u001B[39mld(step_function), (ag__\u001B[38;5;241m.\u001B[39mld(\u001B[38;5;28mself\u001B[39m), ag__\u001B[38;5;241m.\u001B[39mld(iterator)), \u001B[38;5;28;01mNone\u001B[39;00m, fscope)\n\u001B[1;32m     16\u001B[0m \u001B[38;5;28;01mexcept\u001B[39;00m:\n\u001B[1;32m     17\u001B[0m     do_return \u001B[38;5;241m=\u001B[39m \u001B[38;5;28;01mFalse\u001B[39;00m\n",
      "\u001B[0;31mValueError\u001B[0m: in user code:\n\n    File \"/Users/thomashuber/miniconda3/envs/m1-master-thesis/lib/python3.9/site-packages/keras/engine/training.py\", line 1249, in train_function  *\n        return step_function(self, iterator)\n    File \"/Users/thomashuber/miniconda3/envs/m1-master-thesis/lib/python3.9/site-packages/keras/engine/training.py\", line 1233, in step_function  **\n        outputs = model.distribute_strategy.run(run_step, args=(data,))\n    File \"/Users/thomashuber/miniconda3/envs/m1-master-thesis/lib/python3.9/site-packages/keras/engine/training.py\", line 1222, in run_step  **\n        outputs = model.train_step(data)\n    File \"/Users/thomashuber/miniconda3/envs/m1-master-thesis/lib/python3.9/site-packages/keras/engine/training.py\", line 1023, in train_step\n        y_pred = self(x, training=True)\n    File \"/Users/thomashuber/miniconda3/envs/m1-master-thesis/lib/python3.9/site-packages/keras/utils/traceback_utils.py\", line 70, in error_handler\n        raise e.with_traceback(filtered_tb) from None\n    File \"/Users/thomashuber/miniconda3/envs/m1-master-thesis/lib/python3.9/site-packages/keras/backend.py\", line 3572, in concatenate\n        return tf.concat([to_dense(x) for x in tensors], axis)\n\n    ValueError: Exception encountered when calling layer 'concat_embedding_input' (type Concatenate).\n    \n    Shape must be rank 2 but is rank 3 for '{{node model_5/concat_embedding_input/concat}} = ConcatV2[N=2, T=DT_FLOAT, Tidx=DT_INT32](model_5/embedding_13/embedding_lookup/Identity_1, model_5/embedding_14/embedding_lookup/Identity_1, model_5/concat_embedding_input/concat/axis)' with input shapes: [?,16], [?,1,16], [].\n    \n    Call arguments received by layer 'concat_embedding_input' (type Concatenate):\n      • inputs=['tf.Tensor(shape=(None, 16), dtype=float32)', 'tf.Tensor(shape=(None, 1, 16), dtype=float32)']\n"
     ]
    }
   ],
   "source": [
    "output_variable = product_data.amount.to_numpy().reshape(-1, 1)\n",
    "#dataset = tf.data.Dataset.from_tensor_slices()\n",
    "history = model.fit([order_dates, product_data.product__id], output_variable, epochs=10, batch_size=32)\n"
   ],
   "metadata": {
    "collapsed": false
   }
  }
 ],
 "metadata": {
  "kernelspec": {
   "display_name": "Python 3",
   "language": "python",
   "name": "python3"
  },
  "language_info": {
   "codemirror_mode": {
    "name": "ipython",
    "version": 2
   },
   "file_extension": ".py",
   "mimetype": "text/x-python",
   "name": "python",
   "nbconvert_exporter": "python",
   "pygments_lexer": "ipython2",
   "version": "2.7.6"
  }
 },
 "nbformat": 4,
 "nbformat_minor": 0
}
