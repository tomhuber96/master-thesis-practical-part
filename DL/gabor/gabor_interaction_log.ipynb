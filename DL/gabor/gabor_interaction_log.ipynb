{
 "cells": [
  {
   "cell_type": "code",
   "execution_count": 2,
   "id": "initial_id",
   "metadata": {
    "collapsed": true,
    "ExecuteTime": {
     "end_time": "2023-08-19T12:34:01.093614Z",
     "start_time": "2023-08-19T12:34:00.970060Z"
    }
   },
   "outputs": [],
   "source": [
    "import pandas as pd\n",
    "import numpy as np\n",
    "from sklearn.metrics.pairwise import cosine_similarity\n",
    "from sklearn.preprocessing import LabelEncoder\n",
    "from scipy.sparse import coo_matrix\n",
    "\n",
    "\n",
    "\n",
    "pd.set_option('display.max_colwidth', None)"
   ]
  },
  {
   "cell_type": "code",
   "execution_count": 3,
   "outputs": [
    {
     "data": {
      "text/plain": "        customer_id  product_id  amount\n0           1940761     4839681       1\n1           1940761     4839682       1\n2           1940761     6523930       1\n3           1940761     6596395       1\n4           1940761     8642222       1\n...             ...         ...     ...\n644783     11128024    10560958       1\n644784     11128039    10451840       1\n644785     11128082    10559336       1\n644786     11128095    10504300       1\n644787     11128129    10366497       1\n\n[644788 rows x 3 columns]",
      "text/html": "<div>\n<style scoped>\n    .dataframe tbody tr th:only-of-type {\n        vertical-align: middle;\n    }\n\n    .dataframe tbody tr th {\n        vertical-align: top;\n    }\n\n    .dataframe thead th {\n        text-align: right;\n    }\n</style>\n<table border=\"1\" class=\"dataframe\">\n  <thead>\n    <tr style=\"text-align: right;\">\n      <th></th>\n      <th>customer_id</th>\n      <th>product_id</th>\n      <th>amount</th>\n    </tr>\n  </thead>\n  <tbody>\n    <tr>\n      <th>0</th>\n      <td>1940761</td>\n      <td>4839681</td>\n      <td>1</td>\n    </tr>\n    <tr>\n      <th>1</th>\n      <td>1940761</td>\n      <td>4839682</td>\n      <td>1</td>\n    </tr>\n    <tr>\n      <th>2</th>\n      <td>1940761</td>\n      <td>6523930</td>\n      <td>1</td>\n    </tr>\n    <tr>\n      <th>3</th>\n      <td>1940761</td>\n      <td>6596395</td>\n      <td>1</td>\n    </tr>\n    <tr>\n      <th>4</th>\n      <td>1940761</td>\n      <td>8642222</td>\n      <td>1</td>\n    </tr>\n    <tr>\n      <th>...</th>\n      <td>...</td>\n      <td>...</td>\n      <td>...</td>\n    </tr>\n    <tr>\n      <th>644783</th>\n      <td>11128024</td>\n      <td>10560958</td>\n      <td>1</td>\n    </tr>\n    <tr>\n      <th>644784</th>\n      <td>11128039</td>\n      <td>10451840</td>\n      <td>1</td>\n    </tr>\n    <tr>\n      <th>644785</th>\n      <td>11128082</td>\n      <td>10559336</td>\n      <td>1</td>\n    </tr>\n    <tr>\n      <th>644786</th>\n      <td>11128095</td>\n      <td>10504300</td>\n      <td>1</td>\n    </tr>\n    <tr>\n      <th>644787</th>\n      <td>11128129</td>\n      <td>10366497</td>\n      <td>1</td>\n    </tr>\n  </tbody>\n</table>\n<p>644788 rows × 3 columns</p>\n</div>"
     },
     "execution_count": 3,
     "metadata": {},
     "output_type": "execute_result"
    }
   ],
   "source": [
    "basepath = '../../datasets/preprocessed_datasets/gabor/'\n",
    "data = pd.read_pickle(basepath +'user_item_interactions.pkl')\n",
    "data"
   ],
   "metadata": {
    "collapsed": false,
    "ExecuteTime": {
     "end_time": "2023-08-19T12:34:01.101851Z",
     "start_time": "2023-08-19T12:34:01.092211Z"
    }
   },
   "id": "609b0d1edc7cf163"
  },
  {
   "cell_type": "code",
   "execution_count": 15,
   "outputs": [
    {
     "data": {
      "text/plain": "        product__id  productNumber  \\\n0            557559  4058394021466   \n30           551622  4054452768212   \n108          547193  4054452768427   \n205          549776  4059701687894   \n241          550599  4056067216898   \n...             ...            ...   \n648486     10587121  4065171087799   \n648487     10366497  4065171994493   \n648489     10227216  4065171789143   \n648490     10230388  4065171814074   \n648491     10227507  4065171373830   \n\n                                             productName productSizeEu  \\\n0               sportliche Ballerinas Glattleder schwarz          40.0   \n30                     elegante Pumps Glattleder schwarz          38.0   \n108                           Slipper Glattleder schwarz          42.0   \n205                            Sneaker low Rauleder blau          39.0   \n241                            Sneaker low Rauleder blau          42.5   \n...                                                  ...           ...   \n648486                            Slipper Rauleder beige          44.0   \n648487                Sneaker low Materialmix Leder weiß          43.0   \n648489  PG8000 Sneaker low Materialmix Leder/Textil grün          41.0   \n648490                    PG0460 Sneaker low Textil blau          44.5   \n648491    Sneaker low Materialmix Leder/Lederimitat rosa          39.0   \n\n       productColorName articleNumber  brand__id  mainCategory__id gender  \\\n0               schwarz     02.643.57    6590678            315571      w   \n30              schwarz     05.160.37    6590677            315573      w   \n108             schwarz     04.443.27    6590677            315576      w   \n205                blau     06.968.46    4997827            315567      w   \n241                blau     06.385.26    6590678            315567      w   \n...                 ...           ...        ...               ...    ...   \n648486            beige     25.212.12    6590677            315576      w   \n648487             weiß     26.478.51    6590678            315567      w   \n648489             grün    8000.14.15    4997827           3692261      m   \n648490             blau    0460.20.02    3692257           3692261      m   \n648491             rosa     26.897.35    4997827            315567      w   \n\n       originCountry  ...   shoeStyle  productType_y heelHeightGroup  sizeEu  \\\n0                 PT  ...  Ballerinas    Damenschuhe        bis 3 cm    40.0   \n30                PT  ...       Pumps    Damenschuhe     3 cm - 5 cm    38.0   \n108               SK  ...  Halbschuhe    Damenschuhe     3 cm - 5 cm    42.0   \n205               VN  ...     Sneaker    Damenschuhe     3 cm - 5 cm    39.0   \n241               VN  ...     Sneaker    Damenschuhe        bis 3 cm    42.5   \n...              ...  ...         ...            ...             ...     ...   \n648486            PT  ...  Halbschuhe    Damenschuhe        bis 3 cm    44.0   \n648487            PT  ...     Sneaker    Damenschuhe     3 cm - 5 cm    43.0   \n648489            CN  ...     Sneaker   Herrenschuhe     3 cm - 5 cm    41.0   \n648490            PT  ...     Sneaker   Herrenschuhe     3 cm - 5 cm    44.5   \n648491            CN  ...     Sneaker    Damenschuhe     3 cm - 5 cm    39.0   \n\n        sizeUk  sizeIndex  shaftLength__value       sole isTransferee  \\\n0          6.5       11.0                 0.0      Gummi          0.0   \n30         5.0        8.0                 0.0        EVA          0.0   \n108        8.0       14.0                 0.0     PU-TPU          0.0   \n205        6.0       10.0                 0.0  Gummi-EVA          0.0   \n241        8.5       15.0                 0.0  Gummi-EVA          0.0   \n...        ...        ...                 ...        ...          ...   \n648486     9.5       17.0                 0.0        TPU          0.0   \n648487     9.0       16.0                 0.0         TR          0.0   \n648489     7.5        6.0                 0.0  Gummi-EVA          0.0   \n648490    10.0       11.0                 0.0         TR          0.0   \n648491     6.0       10.0                 0.0  Gummi-EVA          1.0   \n\n       isSuccessor  \n0              0.0  \n30             0.0  \n108            0.0  \n205            0.0  \n241            0.0  \n...            ...  \n648486         0.0  \n648487         0.0  \n648489         0.0  \n648490         0.0  \n648491         1.0  \n\n[108777 rows x 55 columns]",
      "text/html": "<div>\n<style scoped>\n    .dataframe tbody tr th:only-of-type {\n        vertical-align: middle;\n    }\n\n    .dataframe tbody tr th {\n        vertical-align: top;\n    }\n\n    .dataframe thead th {\n        text-align: right;\n    }\n</style>\n<table border=\"1\" class=\"dataframe\">\n  <thead>\n    <tr style=\"text-align: right;\">\n      <th></th>\n      <th>product__id</th>\n      <th>productNumber</th>\n      <th>productName</th>\n      <th>productSizeEu</th>\n      <th>productColorName</th>\n      <th>articleNumber</th>\n      <th>brand__id</th>\n      <th>mainCategory__id</th>\n      <th>gender</th>\n      <th>originCountry</th>\n      <th>...</th>\n      <th>shoeStyle</th>\n      <th>productType_y</th>\n      <th>heelHeightGroup</th>\n      <th>sizeEu</th>\n      <th>sizeUk</th>\n      <th>sizeIndex</th>\n      <th>shaftLength__value</th>\n      <th>sole</th>\n      <th>isTransferee</th>\n      <th>isSuccessor</th>\n    </tr>\n  </thead>\n  <tbody>\n    <tr>\n      <th>0</th>\n      <td>557559</td>\n      <td>4058394021466</td>\n      <td>sportliche Ballerinas Glattleder schwarz</td>\n      <td>40.0</td>\n      <td>schwarz</td>\n      <td>02.643.57</td>\n      <td>6590678</td>\n      <td>315571</td>\n      <td>w</td>\n      <td>PT</td>\n      <td>...</td>\n      <td>Ballerinas</td>\n      <td>Damenschuhe</td>\n      <td>bis 3 cm</td>\n      <td>40.0</td>\n      <td>6.5</td>\n      <td>11.0</td>\n      <td>0.0</td>\n      <td>Gummi</td>\n      <td>0.0</td>\n      <td>0.0</td>\n    </tr>\n    <tr>\n      <th>30</th>\n      <td>551622</td>\n      <td>4054452768212</td>\n      <td>elegante Pumps Glattleder schwarz</td>\n      <td>38.0</td>\n      <td>schwarz</td>\n      <td>05.160.37</td>\n      <td>6590677</td>\n      <td>315573</td>\n      <td>w</td>\n      <td>PT</td>\n      <td>...</td>\n      <td>Pumps</td>\n      <td>Damenschuhe</td>\n      <td>3 cm - 5 cm</td>\n      <td>38.0</td>\n      <td>5.0</td>\n      <td>8.0</td>\n      <td>0.0</td>\n      <td>EVA</td>\n      <td>0.0</td>\n      <td>0.0</td>\n    </tr>\n    <tr>\n      <th>108</th>\n      <td>547193</td>\n      <td>4054452768427</td>\n      <td>Slipper Glattleder schwarz</td>\n      <td>42.0</td>\n      <td>schwarz</td>\n      <td>04.443.27</td>\n      <td>6590677</td>\n      <td>315576</td>\n      <td>w</td>\n      <td>SK</td>\n      <td>...</td>\n      <td>Halbschuhe</td>\n      <td>Damenschuhe</td>\n      <td>3 cm - 5 cm</td>\n      <td>42.0</td>\n      <td>8.0</td>\n      <td>14.0</td>\n      <td>0.0</td>\n      <td>PU-TPU</td>\n      <td>0.0</td>\n      <td>0.0</td>\n    </tr>\n    <tr>\n      <th>205</th>\n      <td>549776</td>\n      <td>4059701687894</td>\n      <td>Sneaker low Rauleder blau</td>\n      <td>39.0</td>\n      <td>blau</td>\n      <td>06.968.46</td>\n      <td>4997827</td>\n      <td>315567</td>\n      <td>w</td>\n      <td>VN</td>\n      <td>...</td>\n      <td>Sneaker</td>\n      <td>Damenschuhe</td>\n      <td>3 cm - 5 cm</td>\n      <td>39.0</td>\n      <td>6.0</td>\n      <td>10.0</td>\n      <td>0.0</td>\n      <td>Gummi-EVA</td>\n      <td>0.0</td>\n      <td>0.0</td>\n    </tr>\n    <tr>\n      <th>241</th>\n      <td>550599</td>\n      <td>4056067216898</td>\n      <td>Sneaker low Rauleder blau</td>\n      <td>42.5</td>\n      <td>blau</td>\n      <td>06.385.26</td>\n      <td>6590678</td>\n      <td>315567</td>\n      <td>w</td>\n      <td>VN</td>\n      <td>...</td>\n      <td>Sneaker</td>\n      <td>Damenschuhe</td>\n      <td>bis 3 cm</td>\n      <td>42.5</td>\n      <td>8.5</td>\n      <td>15.0</td>\n      <td>0.0</td>\n      <td>Gummi-EVA</td>\n      <td>0.0</td>\n      <td>0.0</td>\n    </tr>\n    <tr>\n      <th>...</th>\n      <td>...</td>\n      <td>...</td>\n      <td>...</td>\n      <td>...</td>\n      <td>...</td>\n      <td>...</td>\n      <td>...</td>\n      <td>...</td>\n      <td>...</td>\n      <td>...</td>\n      <td>...</td>\n      <td>...</td>\n      <td>...</td>\n      <td>...</td>\n      <td>...</td>\n      <td>...</td>\n      <td>...</td>\n      <td>...</td>\n      <td>...</td>\n      <td>...</td>\n      <td>...</td>\n    </tr>\n    <tr>\n      <th>648486</th>\n      <td>10587121</td>\n      <td>4065171087799</td>\n      <td>Slipper Rauleder beige</td>\n      <td>44.0</td>\n      <td>beige</td>\n      <td>25.212.12</td>\n      <td>6590677</td>\n      <td>315576</td>\n      <td>w</td>\n      <td>PT</td>\n      <td>...</td>\n      <td>Halbschuhe</td>\n      <td>Damenschuhe</td>\n      <td>bis 3 cm</td>\n      <td>44.0</td>\n      <td>9.5</td>\n      <td>17.0</td>\n      <td>0.0</td>\n      <td>TPU</td>\n      <td>0.0</td>\n      <td>0.0</td>\n    </tr>\n    <tr>\n      <th>648487</th>\n      <td>10366497</td>\n      <td>4065171994493</td>\n      <td>Sneaker low Materialmix Leder weiß</td>\n      <td>43.0</td>\n      <td>weiß</td>\n      <td>26.478.51</td>\n      <td>6590678</td>\n      <td>315567</td>\n      <td>w</td>\n      <td>PT</td>\n      <td>...</td>\n      <td>Sneaker</td>\n      <td>Damenschuhe</td>\n      <td>3 cm - 5 cm</td>\n      <td>43.0</td>\n      <td>9.0</td>\n      <td>16.0</td>\n      <td>0.0</td>\n      <td>TR</td>\n      <td>0.0</td>\n      <td>0.0</td>\n    </tr>\n    <tr>\n      <th>648489</th>\n      <td>10227216</td>\n      <td>4065171789143</td>\n      <td>PG8000 Sneaker low Materialmix Leder/Textil grün</td>\n      <td>41.0</td>\n      <td>grün</td>\n      <td>8000.14.15</td>\n      <td>4997827</td>\n      <td>3692261</td>\n      <td>m</td>\n      <td>CN</td>\n      <td>...</td>\n      <td>Sneaker</td>\n      <td>Herrenschuhe</td>\n      <td>3 cm - 5 cm</td>\n      <td>41.0</td>\n      <td>7.5</td>\n      <td>6.0</td>\n      <td>0.0</td>\n      <td>Gummi-EVA</td>\n      <td>0.0</td>\n      <td>0.0</td>\n    </tr>\n    <tr>\n      <th>648490</th>\n      <td>10230388</td>\n      <td>4065171814074</td>\n      <td>PG0460 Sneaker low Textil blau</td>\n      <td>44.5</td>\n      <td>blau</td>\n      <td>0460.20.02</td>\n      <td>3692257</td>\n      <td>3692261</td>\n      <td>m</td>\n      <td>PT</td>\n      <td>...</td>\n      <td>Sneaker</td>\n      <td>Herrenschuhe</td>\n      <td>3 cm - 5 cm</td>\n      <td>44.5</td>\n      <td>10.0</td>\n      <td>11.0</td>\n      <td>0.0</td>\n      <td>TR</td>\n      <td>0.0</td>\n      <td>0.0</td>\n    </tr>\n    <tr>\n      <th>648491</th>\n      <td>10227507</td>\n      <td>4065171373830</td>\n      <td>Sneaker low Materialmix Leder/Lederimitat rosa</td>\n      <td>39.0</td>\n      <td>rosa</td>\n      <td>26.897.35</td>\n      <td>4997827</td>\n      <td>315567</td>\n      <td>w</td>\n      <td>CN</td>\n      <td>...</td>\n      <td>Sneaker</td>\n      <td>Damenschuhe</td>\n      <td>3 cm - 5 cm</td>\n      <td>39.0</td>\n      <td>6.0</td>\n      <td>10.0</td>\n      <td>0.0</td>\n      <td>Gummi-EVA</td>\n      <td>1.0</td>\n      <td>1.0</td>\n    </tr>\n  </tbody>\n</table>\n<p>108777 rows × 55 columns</p>\n</div>"
     },
     "execution_count": 15,
     "metadata": {},
     "output_type": "execute_result"
    }
   ],
   "source": [
    "product_data = pd.read_pickle(basepath +'only_products.pkl')\n",
    "product_data"
   ],
   "metadata": {
    "collapsed": false,
    "ExecuteTime": {
     "end_time": "2023-08-19T12:52:12.937686Z",
     "start_time": "2023-08-19T12:52:12.802356Z"
    }
   },
   "id": "7394c29be833e2be"
  },
  {
   "cell_type": "code",
   "execution_count": 4,
   "outputs": [],
   "source": [
    "encoder = LabelEncoder()\n",
    "data['customer_id_encoded'] = encoder.fit_transform(data['customer_id'])\n",
    "data['product_id_encoded'] = encoder.fit_transform(data['product_id'])\n",
    "\n",
    "# Create a user-item matrix\n",
    "user_item_matrix = coo_matrix((data['amount'], (data['customer_id_encoded'], data['product_id_encoded'])))\n",
    "user_item_matrix = user_item_matrix.tocsr()\n",
    "\n",
    "# Calculate the cosine similarity between products\n",
    "product_similarity = cosine_similarity(user_item_matrix.T)\n"
   ],
   "metadata": {
    "collapsed": false,
    "ExecuteTime": {
     "end_time": "2023-08-19T12:34:02.543829Z",
     "start_time": "2023-08-19T12:34:01.103018Z"
    }
   },
   "id": "2b186bb3c67434ea"
  },
  {
   "cell_type": "code",
   "execution_count": 28,
   "outputs": [],
   "source": [
    "def recommend_products(user_id, n=5):\n",
    "    user_ratings = user_item_matrix[user_id].toarray().flatten()\n",
    "    similar_products = product_similarity[user_ratings == 0].sum(axis=0)\n",
    "    recommended_product_indices = similar_products.argsort()[-n:][::-1]\n",
    "    recommended_products = encoder.inverse_transform(recommended_product_indices)\n",
    "    recommended_scores = similar_products[recommended_product_indices]\n",
    "    return recommended_products, recommended_scores\n",
    "\n",
    "def get_products_from_customer(cust_id):\n",
    "    return data[data['customer_id_encoded'] == cust_id]\n",
    "\n",
    "# Example: Recommend products for a specific user\n",
    "user_id_to_recommend = 7963  # Change this to the desired user ID\n",
    "recommended_products, recommended_scores = recommend_products(user_id_to_recommend)\n"
   ],
   "metadata": {
    "collapsed": false,
    "ExecuteTime": {
     "end_time": "2023-08-19T13:10:12.383734Z",
     "start_time": "2023-08-19T13:09:05.657257Z"
    }
   },
   "id": "23465248def7767e"
  },
  {
   "cell_type": "code",
   "execution_count": 29,
   "outputs": [
    {
     "name": "stdout",
     "output_type": "stream",
     "text": [
      "Recommended products for user 7963:\n",
      "1. Product ID: 4085521, Score: 43.7362, product name: 104926    Sneaker high Materialmix Leder braun\n",
      "Name: productName, dtype: object\n",
      "2. Product ID: 3711672, Score: 41.9317, product name: 126239    Plateau Pump Leder Reptiloptik schwarz\n",
      "Name: productName, dtype: object\n",
      "3. Product ID: 4776107, Score: 41.9317, product name: 274386    Keilpumps Rauleder blau\n",
      "Name: productName, dtype: object\n",
      "4. Product ID: 3711325, Score: 41.9317, product name: 162031    Slipper Glattleder schwarz\n",
      "Name: productName, dtype: object\n",
      "5. Product ID: 6554512, Score: 41.9317, product name: 370124    Slipper Rauleder blau\n",
      "Name: productName, dtype: object\n"
     ]
    }
   ],
   "source": [
    "print(f\"Recommended products for user {user_id_to_recommend}:\")\n",
    "for i, (product_id, score) in enumerate(zip(recommended_products, recommended_scores)):\n",
    "    product = product_data[product_data['product__id'] == product_id]\n",
    "    print(f\"{i+1}. Product ID: {product_id}, Score: {score:.4f}, product name: {product.productName}\")\n"
   ],
   "metadata": {
    "collapsed": false,
    "ExecuteTime": {
     "end_time": "2023-08-19T13:10:12.392741Z",
     "start_time": "2023-08-19T13:10:12.384981Z"
    }
   },
   "id": "c14170594c9fa4fb"
  },
  {
   "cell_type": "code",
   "execution_count": 30,
   "outputs": [
    {
     "data": {
      "text/plain": "        product__id  productNumber                  productName productSizeEu  \\\n253599      5337332  4064032019207  Pantolette Glattleder beige          38.5   \n\n       productColorName articleNumber  brand__id  mainCategory__id gender  \\\n253599            beige     62.790.52    6590678            315572      w   \n\n       originCountry  ... shoeStyle  productType_y heelHeightGroup  sizeEu  \\\n253599            PT  ...  Sandalen    Damenschuhe        bis 3 cm    38.5   \n\n        sizeUk  sizeIndex  shaftLength__value  sole isTransferee isSuccessor  \n253599     5.5        9.0                 0.0   TPU          0.0         0.0  \n\n[1 rows x 55 columns]",
      "text/html": "<div>\n<style scoped>\n    .dataframe tbody tr th:only-of-type {\n        vertical-align: middle;\n    }\n\n    .dataframe tbody tr th {\n        vertical-align: top;\n    }\n\n    .dataframe thead th {\n        text-align: right;\n    }\n</style>\n<table border=\"1\" class=\"dataframe\">\n  <thead>\n    <tr style=\"text-align: right;\">\n      <th></th>\n      <th>product__id</th>\n      <th>productNumber</th>\n      <th>productName</th>\n      <th>productSizeEu</th>\n      <th>productColorName</th>\n      <th>articleNumber</th>\n      <th>brand__id</th>\n      <th>mainCategory__id</th>\n      <th>gender</th>\n      <th>originCountry</th>\n      <th>...</th>\n      <th>shoeStyle</th>\n      <th>productType_y</th>\n      <th>heelHeightGroup</th>\n      <th>sizeEu</th>\n      <th>sizeUk</th>\n      <th>sizeIndex</th>\n      <th>shaftLength__value</th>\n      <th>sole</th>\n      <th>isTransferee</th>\n      <th>isSuccessor</th>\n    </tr>\n  </thead>\n  <tbody>\n    <tr>\n      <th>253599</th>\n      <td>5337332</td>\n      <td>4064032019207</td>\n      <td>Pantolette Glattleder beige</td>\n      <td>38.5</td>\n      <td>beige</td>\n      <td>62.790.52</td>\n      <td>6590678</td>\n      <td>315572</td>\n      <td>w</td>\n      <td>PT</td>\n      <td>...</td>\n      <td>Sandalen</td>\n      <td>Damenschuhe</td>\n      <td>bis 3 cm</td>\n      <td>38.5</td>\n      <td>5.5</td>\n      <td>9.0</td>\n      <td>0.0</td>\n      <td>TPU</td>\n      <td>0.0</td>\n      <td>0.0</td>\n    </tr>\n  </tbody>\n</table>\n<p>1 rows × 55 columns</p>\n</div>"
     },
     "metadata": {},
     "output_type": "display_data"
    }
   ],
   "source": [
    "\n",
    "customer_products = get_products_from_customer(user_id_to_recommend)\n",
    "customer_products_data = product_data[product_data['product__id'].isin(customer_products.product_id)]\n",
    "display(customer_products_data)"
   ],
   "metadata": {
    "collapsed": false,
    "ExecuteTime": {
     "end_time": "2023-08-19T13:10:12.403888Z",
     "start_time": "2023-08-19T13:10:12.393676Z"
    }
   },
   "id": "c6d69766dd1abd88"
  },
  {
   "cell_type": "markdown",
   "source": [
    "Recommended products for user 1000:\n",
    "1. Product ID: 4085521, Score: 43.7362, product name: 104926    Sneaker high Materialmix Leder braun\n",
    "Name: productName, dtype: object\n",
    "2. Product ID: 3711325, Score: 41.9317, product name: 162031    Slipper Glattleder schwarz\n",
    "Name: productName, dtype: object\n",
    "3. Product ID: 3711672, Score: 41.9317, product name: 126239    Plateau Pump Leder Reptiloptik schwarz\n",
    "Name: productName, dtype: object\n",
    "4. Product ID: 4776107, Score: 41.9317, product name: 274386    Keilpumps Rauleder blau\n",
    "Name: productName, dtype: object\n",
    "5. Product ID: 5507440, Score: 41.9317, product name: 283005    Pantolette Rauleder rot\n",
    "Name: productName, dtype: object\n",
    "\n",
    "\n",
    "Recommended products for user 345:\n",
    "1. Product ID: 4085521, Score: 43.7362, product name: 104926    Sneaker high Materialmix Leder braun\n",
    "Name: productName, dtype: object\n",
    "2. Product ID: 6113537, Score: 41.9317, product name: 364202    Plateau Stiefelette Rauleder braun\n",
    "Name: productName, dtype: object\n",
    "3. Product ID: 3711672, Score: 41.9317, product name: 126239    Plateau Pump Leder Reptiloptik schwarz\n",
    "Name: productName, dtype: object\n",
    "4. Product ID: 3711325, Score: 41.9317, product name: 162031    Slipper Glattleder schwarz\n",
    "Name: productName, dtype: object\n",
    "5. Product ID: 5507440, Score: 41.9317, product name: 283005    Pantolette Rauleder rot\n",
    "Name: productName, dtype: object\n",
    "\n",
    "\n",
    "Recommended products for user 7963:\n",
    "1. Product ID: 4085521, Score: 43.7362, product name: 104926    Sneaker high Materialmix Leder braun\n",
    "Name: productName, dtype: object\n",
    "2. Product ID: 3711672, Score: 41.9317, product name: 126239    Plateau Pump Leder Reptiloptik schwarz\n",
    "Name: productName, dtype: object\n",
    "3. Product ID: 4776107, Score: 41.9317, product name: 274386    Keilpumps Rauleder blau\n",
    "Name: productName, dtype: object\n",
    "4. Product ID: 3711325, Score: 41.9317, product name: 162031    Slipper Glattleder schwarz\n",
    "Name: productName, dtype: object\n",
    "5. Product ID: 6554512, Score: 41.9317, product name: 370124    Slipper Rauleder blau\n",
    "Name: productName, dtype: object\n"
   ],
   "metadata": {
    "collapsed": false
   },
   "id": "59c01ddb45422019"
  }
 ],
 "metadata": {
  "kernelspec": {
   "display_name": "Python 3",
   "language": "python",
   "name": "python3"
  },
  "language_info": {
   "codemirror_mode": {
    "name": "ipython",
    "version": 2
   },
   "file_extension": ".py",
   "mimetype": "text/x-python",
   "name": "python",
   "nbconvert_exporter": "python",
   "pygments_lexer": "ipython2",
   "version": "2.7.6"
  }
 },
 "nbformat": 4,
 "nbformat_minor": 5
}
