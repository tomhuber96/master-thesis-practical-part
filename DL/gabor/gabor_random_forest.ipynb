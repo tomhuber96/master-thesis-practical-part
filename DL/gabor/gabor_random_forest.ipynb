{
 "cells": [
  {
   "cell_type": "markdown",
   "source": [
    "# Gabor Dataset with Random Forest"
   ],
   "metadata": {
    "collapsed": false
   },
   "execution_count": 1
  },
  {
   "cell_type": "code",
   "execution_count": 1,
   "outputs": [],
   "source": [
    "from sklearn.model_selection import train_test_split\n",
    "from sklearn.tree import plot_tree\n",
    "import pandas as pd\n",
    "import seaborn as sns\n",
    "import numpy as np\n",
    "import matplotlib.pyplot as plt\n",
    "import operator\n",
    "from sklearn.ensemble import RandomForestClassifier\n",
    "from sklearn import metrics\n",
    "from sklearn.model_selection import train_test_split\n",
    "from sklearn.ensemble import RandomForestRegressor\n",
    "from sklearn.metrics import mean_squared_error, mean_absolute_error, r2_score\n"
   ],
   "metadata": {
    "collapsed": false
   }
  },
  {
   "cell_type": "code",
   "execution_count": 2,
   "outputs": [
    {
     "data": {
      "text/plain": "        order_id           orderdate  total_order_price  customer__id  \\\n0        2516727 2020-01-01 10:08:54              89.95     2188549.0   \n1        2587743 2020-02-18 16:57:17             269.85     2319469.0   \n2        4328335 2020-10-10 05:42:10             146.16     4328338.0   \n3        7706849 2021-12-25 21:10:51             188.95     7706853.0   \n4        7707311 2021-12-26 08:32:26              89.95     2103820.0   \n...          ...                 ...                ...           ...   \n648487  10896317 2023-02-27 15:21:15             360.00    10896322.0   \n648488  10941648 2023-03-04 18:15:57             220.00     2013733.0   \n648489  11015232 2023-03-12 17:54:41             390.00    11015227.0   \n648490  10898392 2023-02-27 20:23:50             245.00    10898300.0   \n648491  11015902 2023-03-12 19:35:45             240.00    11015905.0   \n\n        product__id                                        productName  \\\n0            557559           sportliche Ballerinas Glattleder schwarz   \n1            557559           sportliche Ballerinas Glattleder schwarz   \n2            557559            Sportliche Ballerina Glattleder schwarz   \n3            557559            Sportliche Ballerina Glattleder schwarz   \n4            557559            Sportliche Ballerina Glattleder schwarz   \n...             ...                                                ...   \n648487     10225300  PG1137 Sneaker low Materialmix Leder/Lederimit...   \n648488     10225288  PG1137 Sneaker low Materialmix Leder/Lederimit...   \n648489     10225287  PG1137 Sneaker low Materialmix Leder/Lederimit...   \n648490     10225292  PG1137 Lage sneaker Combi leer/Imitatieleer grijs   \n648491     10226722  PG1137 Sneaker low Materialmix Leder/Lederimit...   \n\n        amount  totalPrice productSizeEu  o_parentId  ...  indicatorSale  \\\n0            1       89.95          40.0      337523  ...              0   \n1            1       89.95          40.0      337523  ...              0   \n2            1       87.68          40.0      337523  ...              0   \n3            1       89.95          40.0      337523  ...              0   \n4            1       89.95          40.0      337523  ...              0   \n...        ...         ...           ...         ...  ...            ...   \n648487       1      110.00          49.5    10223435  ...              1   \n648488       1      110.00          40.5    10223435  ...              1   \n648489       1      110.00          40.0    10223435  ...              1   \n648490       1      115.00          43.0    10223435  ...              1   \n648491       1      110.00          42.0    10223500  ...              1   \n\n        weight__value color  productColorName  productType  materialPm  \\\n0                0.71     0                 0            0           0   \n1                0.71     0                 0            0           0   \n2                0.71     0                 0            0           0   \n3                0.71     0                 0            0           0   \n4                0.71     0                 0            0           0   \n...               ...   ...               ...          ...         ...   \n648487           1.05     7                16            0        1098   \n648488           1.05     7                16            0        1098   \n648489           1.05     7                16            0        1098   \n648490           1.05     7                18            0        1098   \n648491           1.05     5                21            0        1098   \n\n        material  line  originCountry  gender  \n0              0     0              0       0  \n1              0     0              0       0  \n2              0     0              0       0  \n3              0     0              0       0  \n4              0     0              0       0  \n...          ...   ...            ...     ...  \n648487         5     2              4       1  \n648488         5     2              4       1  \n648489         5     2              4       1  \n648490         5     2              4       1  \n648491         5     2              4       1  \n\n[648492 rows x 26 columns]",
      "text/html": "<div>\n<style scoped>\n    .dataframe tbody tr th:only-of-type {\n        vertical-align: middle;\n    }\n\n    .dataframe tbody tr th {\n        vertical-align: top;\n    }\n\n    .dataframe thead th {\n        text-align: right;\n    }\n</style>\n<table border=\"1\" class=\"dataframe\">\n  <thead>\n    <tr style=\"text-align: right;\">\n      <th></th>\n      <th>order_id</th>\n      <th>orderdate</th>\n      <th>total_order_price</th>\n      <th>customer__id</th>\n      <th>product__id</th>\n      <th>productName</th>\n      <th>amount</th>\n      <th>totalPrice</th>\n      <th>productSizeEu</th>\n      <th>o_parentId</th>\n      <th>...</th>\n      <th>indicatorSale</th>\n      <th>weight__value</th>\n      <th>color</th>\n      <th>productColorName</th>\n      <th>productType</th>\n      <th>materialPm</th>\n      <th>material</th>\n      <th>line</th>\n      <th>originCountry</th>\n      <th>gender</th>\n    </tr>\n  </thead>\n  <tbody>\n    <tr>\n      <th>0</th>\n      <td>2516727</td>\n      <td>2020-01-01 10:08:54</td>\n      <td>89.95</td>\n      <td>2188549.0</td>\n      <td>557559</td>\n      <td>sportliche Ballerinas Glattleder schwarz</td>\n      <td>1</td>\n      <td>89.95</td>\n      <td>40.0</td>\n      <td>337523</td>\n      <td>...</td>\n      <td>0</td>\n      <td>0.71</td>\n      <td>0</td>\n      <td>0</td>\n      <td>0</td>\n      <td>0</td>\n      <td>0</td>\n      <td>0</td>\n      <td>0</td>\n      <td>0</td>\n    </tr>\n    <tr>\n      <th>1</th>\n      <td>2587743</td>\n      <td>2020-02-18 16:57:17</td>\n      <td>269.85</td>\n      <td>2319469.0</td>\n      <td>557559</td>\n      <td>sportliche Ballerinas Glattleder schwarz</td>\n      <td>1</td>\n      <td>89.95</td>\n      <td>40.0</td>\n      <td>337523</td>\n      <td>...</td>\n      <td>0</td>\n      <td>0.71</td>\n      <td>0</td>\n      <td>0</td>\n      <td>0</td>\n      <td>0</td>\n      <td>0</td>\n      <td>0</td>\n      <td>0</td>\n      <td>0</td>\n    </tr>\n    <tr>\n      <th>2</th>\n      <td>4328335</td>\n      <td>2020-10-10 05:42:10</td>\n      <td>146.16</td>\n      <td>4328338.0</td>\n      <td>557559</td>\n      <td>Sportliche Ballerina Glattleder schwarz</td>\n      <td>1</td>\n      <td>87.68</td>\n      <td>40.0</td>\n      <td>337523</td>\n      <td>...</td>\n      <td>0</td>\n      <td>0.71</td>\n      <td>0</td>\n      <td>0</td>\n      <td>0</td>\n      <td>0</td>\n      <td>0</td>\n      <td>0</td>\n      <td>0</td>\n      <td>0</td>\n    </tr>\n    <tr>\n      <th>3</th>\n      <td>7706849</td>\n      <td>2021-12-25 21:10:51</td>\n      <td>188.95</td>\n      <td>7706853.0</td>\n      <td>557559</td>\n      <td>Sportliche Ballerina Glattleder schwarz</td>\n      <td>1</td>\n      <td>89.95</td>\n      <td>40.0</td>\n      <td>337523</td>\n      <td>...</td>\n      <td>0</td>\n      <td>0.71</td>\n      <td>0</td>\n      <td>0</td>\n      <td>0</td>\n      <td>0</td>\n      <td>0</td>\n      <td>0</td>\n      <td>0</td>\n      <td>0</td>\n    </tr>\n    <tr>\n      <th>4</th>\n      <td>7707311</td>\n      <td>2021-12-26 08:32:26</td>\n      <td>89.95</td>\n      <td>2103820.0</td>\n      <td>557559</td>\n      <td>Sportliche Ballerina Glattleder schwarz</td>\n      <td>1</td>\n      <td>89.95</td>\n      <td>40.0</td>\n      <td>337523</td>\n      <td>...</td>\n      <td>0</td>\n      <td>0.71</td>\n      <td>0</td>\n      <td>0</td>\n      <td>0</td>\n      <td>0</td>\n      <td>0</td>\n      <td>0</td>\n      <td>0</td>\n      <td>0</td>\n    </tr>\n    <tr>\n      <th>...</th>\n      <td>...</td>\n      <td>...</td>\n      <td>...</td>\n      <td>...</td>\n      <td>...</td>\n      <td>...</td>\n      <td>...</td>\n      <td>...</td>\n      <td>...</td>\n      <td>...</td>\n      <td>...</td>\n      <td>...</td>\n      <td>...</td>\n      <td>...</td>\n      <td>...</td>\n      <td>...</td>\n      <td>...</td>\n      <td>...</td>\n      <td>...</td>\n      <td>...</td>\n      <td>...</td>\n    </tr>\n    <tr>\n      <th>648487</th>\n      <td>10896317</td>\n      <td>2023-02-27 15:21:15</td>\n      <td>360.00</td>\n      <td>10896322.0</td>\n      <td>10225300</td>\n      <td>PG1137 Sneaker low Materialmix Leder/Lederimit...</td>\n      <td>1</td>\n      <td>110.00</td>\n      <td>49.5</td>\n      <td>10223435</td>\n      <td>...</td>\n      <td>1</td>\n      <td>1.05</td>\n      <td>7</td>\n      <td>16</td>\n      <td>0</td>\n      <td>1098</td>\n      <td>5</td>\n      <td>2</td>\n      <td>4</td>\n      <td>1</td>\n    </tr>\n    <tr>\n      <th>648488</th>\n      <td>10941648</td>\n      <td>2023-03-04 18:15:57</td>\n      <td>220.00</td>\n      <td>2013733.0</td>\n      <td>10225288</td>\n      <td>PG1137 Sneaker low Materialmix Leder/Lederimit...</td>\n      <td>1</td>\n      <td>110.00</td>\n      <td>40.5</td>\n      <td>10223435</td>\n      <td>...</td>\n      <td>1</td>\n      <td>1.05</td>\n      <td>7</td>\n      <td>16</td>\n      <td>0</td>\n      <td>1098</td>\n      <td>5</td>\n      <td>2</td>\n      <td>4</td>\n      <td>1</td>\n    </tr>\n    <tr>\n      <th>648489</th>\n      <td>11015232</td>\n      <td>2023-03-12 17:54:41</td>\n      <td>390.00</td>\n      <td>11015227.0</td>\n      <td>10225287</td>\n      <td>PG1137 Sneaker low Materialmix Leder/Lederimit...</td>\n      <td>1</td>\n      <td>110.00</td>\n      <td>40.0</td>\n      <td>10223435</td>\n      <td>...</td>\n      <td>1</td>\n      <td>1.05</td>\n      <td>7</td>\n      <td>16</td>\n      <td>0</td>\n      <td>1098</td>\n      <td>5</td>\n      <td>2</td>\n      <td>4</td>\n      <td>1</td>\n    </tr>\n    <tr>\n      <th>648490</th>\n      <td>10898392</td>\n      <td>2023-02-27 20:23:50</td>\n      <td>245.00</td>\n      <td>10898300.0</td>\n      <td>10225292</td>\n      <td>PG1137 Lage sneaker Combi leer/Imitatieleer grijs</td>\n      <td>1</td>\n      <td>115.00</td>\n      <td>43.0</td>\n      <td>10223435</td>\n      <td>...</td>\n      <td>1</td>\n      <td>1.05</td>\n      <td>7</td>\n      <td>18</td>\n      <td>0</td>\n      <td>1098</td>\n      <td>5</td>\n      <td>2</td>\n      <td>4</td>\n      <td>1</td>\n    </tr>\n    <tr>\n      <th>648491</th>\n      <td>11015902</td>\n      <td>2023-03-12 19:35:45</td>\n      <td>240.00</td>\n      <td>11015905.0</td>\n      <td>10226722</td>\n      <td>PG1137 Sneaker low Materialmix Leder/Lederimit...</td>\n      <td>1</td>\n      <td>110.00</td>\n      <td>42.0</td>\n      <td>10223500</td>\n      <td>...</td>\n      <td>1</td>\n      <td>1.05</td>\n      <td>5</td>\n      <td>21</td>\n      <td>0</td>\n      <td>1098</td>\n      <td>5</td>\n      <td>2</td>\n      <td>4</td>\n      <td>1</td>\n    </tr>\n  </tbody>\n</table>\n<p>648492 rows × 26 columns</p>\n</div>"
     },
     "execution_count": 2,
     "metadata": {},
     "output_type": "execute_result"
    }
   ],
   "source": [
    "basepath = '../../datasets/preprocessed_datasets/gabor/'\n",
    "product_data = pd.read_pickle(basepath +'product_data.pkl')\n",
    "product_data"
   ],
   "metadata": {
    "collapsed": false
   }
  },
  {
   "cell_type": "code",
   "execution_count": 3,
   "outputs": [],
   "source": [
    "product_data.head(3).to_csv('test.csv', index=False)"
   ],
   "metadata": {
    "collapsed": false
   }
  },
  {
   "cell_type": "code",
   "execution_count": 4,
   "outputs": [
    {
     "data": {
      "text/plain": "       product__id  amount\n0           360824      10\n1           360825      31\n2           360826      68\n3           360827      85\n4           360828      54\n...            ...     ...\n108772    11032275       1\n108773    11032282       2\n108774    11032283       1\n108775    11032287       1\n108776    11103523       1\n\n[108777 rows x 2 columns]",
      "text/html": "<div>\n<style scoped>\n    .dataframe tbody tr th:only-of-type {\n        vertical-align: middle;\n    }\n\n    .dataframe tbody tr th {\n        vertical-align: top;\n    }\n\n    .dataframe thead th {\n        text-align: right;\n    }\n</style>\n<table border=\"1\" class=\"dataframe\">\n  <thead>\n    <tr style=\"text-align: right;\">\n      <th></th>\n      <th>product__id</th>\n      <th>amount</th>\n    </tr>\n  </thead>\n  <tbody>\n    <tr>\n      <th>0</th>\n      <td>360824</td>\n      <td>10</td>\n    </tr>\n    <tr>\n      <th>1</th>\n      <td>360825</td>\n      <td>31</td>\n    </tr>\n    <tr>\n      <th>2</th>\n      <td>360826</td>\n      <td>68</td>\n    </tr>\n    <tr>\n      <th>3</th>\n      <td>360827</td>\n      <td>85</td>\n    </tr>\n    <tr>\n      <th>4</th>\n      <td>360828</td>\n      <td>54</td>\n    </tr>\n    <tr>\n      <th>...</th>\n      <td>...</td>\n      <td>...</td>\n    </tr>\n    <tr>\n      <th>108772</th>\n      <td>11032275</td>\n      <td>1</td>\n    </tr>\n    <tr>\n      <th>108773</th>\n      <td>11032282</td>\n      <td>2</td>\n    </tr>\n    <tr>\n      <th>108774</th>\n      <td>11032283</td>\n      <td>1</td>\n    </tr>\n    <tr>\n      <th>108775</th>\n      <td>11032287</td>\n      <td>1</td>\n    </tr>\n    <tr>\n      <th>108776</th>\n      <td>11103523</td>\n      <td>1</td>\n    </tr>\n  </tbody>\n</table>\n<p>108777 rows × 2 columns</p>\n</div>"
     },
     "execution_count": 4,
     "metadata": {},
     "output_type": "execute_result"
    }
   ],
   "source": [
    "df_recsys = product_data.drop(['order_id', 'orderdate', 'total_order_price', 'customer__id', 'productName', 'totalPrice', 'productSizeEu', 'o_parentId', 'brand__id', 'mainCategory__id', 'name', 'b2cPrice', 'indicatorAdvertisement', 'indicatorWedding', 'indicatorSale', 'weight__value', 'color', 'productColorName', 'productType', 'materialPm', 'material', 'line', 'originCountry', 'gender'], axis=1)\n",
    "df_recsys = df_recsys.groupby('product__id').agg({'amount': 'sum'})\n",
    "df_recsys.reset_index(inplace=True)\n",
    "df_recsys['product__id'] = pd.Categorical(df_recsys['product__id'])\n",
    "\n",
    "\n",
    "df_recsys"
   ],
   "metadata": {
    "collapsed": false
   }
  },
  {
   "cell_type": "code",
   "execution_count": 5,
   "outputs": [],
   "source": [
    "# split the data into training and testing sets\n",
    "X = pd.get_dummies(df_recsys['product__id'], prefix='product')\n",
    "y = df_recsys['amount']\n",
    "X_train, X_test, y_train, y_test = train_test_split(X, y, test_size=0.2, random_state=42)"
   ],
   "metadata": {
    "collapsed": false
   }
  },
  {
   "cell_type": "code",
   "execution_count": null,
   "outputs": [],
   "source": [
    "# train the random forest model\n",
    "rf = RandomForestRegressor(n_estimators=100, random_state=42)\n",
    "rf.fit(X_train, y_train)\n",
    "\n",
    "# evaluate the model\n",
    "y_pred = rf.predict(X_test)\n",
    "mse = mean_squared_error(y_test, y_pred)\n",
    "mae = mean_absolute_error(y_test, y_pred)\n",
    "r2 = r2_score(y_test, y_pred)\n",
    "print(\"MSE: \", mse)\n",
    "print(\"MAE: \", mae)\n",
    "print(\"R-squared: \", r2)"
   ],
   "metadata": {
    "collapsed": false,
    "pycharm": {
     "is_executing": true
    }
   }
  },
  {
   "cell_type": "code",
   "execution_count": null,
   "outputs": [],
   "source": [
    "new_data = pd.get_dummies(pd.Series([557559, 888888, 999999]))"
   ],
   "metadata": {
    "collapsed": false,
    "pycharm": {
     "is_executing": true
    }
   }
  }
 ],
 "metadata": {
  "kernelspec": {
   "display_name": "Python 3",
   "language": "python",
   "name": "python3"
  },
  "language_info": {
   "codemirror_mode": {
    "name": "ipython",
    "version": 2
   },
   "file_extension": ".py",
   "mimetype": "text/x-python",
   "name": "python",
   "nbconvert_exporter": "python",
   "pygments_lexer": "ipython2",
   "version": "2.7.6"
  }
 },
 "nbformat": 4,
 "nbformat_minor": 0
}
