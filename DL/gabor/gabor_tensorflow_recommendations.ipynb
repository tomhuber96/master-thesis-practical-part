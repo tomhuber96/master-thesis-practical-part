{
 "cells": [
  {
   "cell_type": "code",
   "execution_count": 19,
   "id": "initial_id",
   "metadata": {
    "collapsed": true,
    "ExecuteTime": {
     "end_time": "2023-12-02T08:36:59.223658Z",
     "start_time": "2023-12-02T08:36:59.190161Z"
    }
   },
   "outputs": [],
   "source": [
    "#%pip install -q tensorflow-recommenders\n",
    "import tensorflow as tf\n",
    "import pandas as pd\n",
    "from tensorflow.keras.layers import Embedding, Dense\n",
    "from tensorflow.keras import Sequential\n",
    "import tensorflow_recommenders as tfrs\n",
    "from tensorflow.keras.metrics import AUC\n",
    "import math\n",
    "import numpy as np\n",
    "\n"
   ]
  },
  {
   "cell_type": "code",
   "execution_count": 20,
   "outputs": [
    {
     "name": "stdout",
     "output_type": "stream",
     "text": [
      "GPU is available\n"
     ]
    }
   ],
   "source": [
    "if tf.config.list_physical_devices('GPU'):\n",
    "    print(\"GPU is available\")\n",
    "else:\n",
    "    print(\"GPU is not available\")"
   ],
   "metadata": {
    "collapsed": false,
    "ExecuteTime": {
     "end_time": "2023-12-02T08:36:59.224177Z",
     "start_time": "2023-12-02T08:36:59.193285Z"
    }
   },
   "id": "89849bbf9d8a3d88"
  },
  {
   "cell_type": "code",
   "execution_count": 21,
   "outputs": [
    {
     "data": {
      "text/plain": "        customer_id  main_product_id  amount\n325791      7347782          7023883       1\n133655      4395746          4233880       1\n128155      4315328          4234094       1\n231063      5839435          5015580       1\n42949       2070488          3480813       1\n...             ...              ...     ...\n187060      5196436          4823122       1\n471462      9626549          3846282       1\n79554       2204900          4773983       1\n158028      4807671          3849864       1\n52893       2110179          3692883       1\n\n[10000 rows x 3 columns]",
      "text/html": "<div>\n<style scoped>\n    .dataframe tbody tr th:only-of-type {\n        vertical-align: middle;\n    }\n\n    .dataframe tbody tr th {\n        vertical-align: top;\n    }\n\n    .dataframe thead th {\n        text-align: right;\n    }\n</style>\n<table border=\"1\" class=\"dataframe\">\n  <thead>\n    <tr style=\"text-align: right;\">\n      <th></th>\n      <th>customer_id</th>\n      <th>main_product_id</th>\n      <th>amount</th>\n    </tr>\n  </thead>\n  <tbody>\n    <tr>\n      <th>325791</th>\n      <td>7347782</td>\n      <td>7023883</td>\n      <td>1</td>\n    </tr>\n    <tr>\n      <th>133655</th>\n      <td>4395746</td>\n      <td>4233880</td>\n      <td>1</td>\n    </tr>\n    <tr>\n      <th>128155</th>\n      <td>4315328</td>\n      <td>4234094</td>\n      <td>1</td>\n    </tr>\n    <tr>\n      <th>231063</th>\n      <td>5839435</td>\n      <td>5015580</td>\n      <td>1</td>\n    </tr>\n    <tr>\n      <th>42949</th>\n      <td>2070488</td>\n      <td>3480813</td>\n      <td>1</td>\n    </tr>\n    <tr>\n      <th>...</th>\n      <td>...</td>\n      <td>...</td>\n      <td>...</td>\n    </tr>\n    <tr>\n      <th>187060</th>\n      <td>5196436</td>\n      <td>4823122</td>\n      <td>1</td>\n    </tr>\n    <tr>\n      <th>471462</th>\n      <td>9626549</td>\n      <td>3846282</td>\n      <td>1</td>\n    </tr>\n    <tr>\n      <th>79554</th>\n      <td>2204900</td>\n      <td>4773983</td>\n      <td>1</td>\n    </tr>\n    <tr>\n      <th>158028</th>\n      <td>4807671</td>\n      <td>3849864</td>\n      <td>1</td>\n    </tr>\n    <tr>\n      <th>52893</th>\n      <td>2110179</td>\n      <td>3692883</td>\n      <td>1</td>\n    </tr>\n  </tbody>\n</table>\n<p>10000 rows × 3 columns</p>\n</div>"
     },
     "metadata": {},
     "output_type": "display_data"
    },
    {
     "data": {
      "text/plain": "      main_product_id  productNumber  \\\n0              557559  4058394021466   \n1              551622  4054452768212   \n2              547193  4054452768427   \n3              549776  4059701687894   \n4              550726  4054452851594   \n...               ...            ...   \n3292         10603553  4066558951733   \n3293         10442948  4065171827272   \n3294         10782704  4251234499207   \n3295         10679703  4066558303617   \n3296         10496278  4065171812513   \n\n                                            productName productColorName  \\\n0              sportliche Ballerinas Glattleder schwarz          schwarz   \n1                     elegante Pumps Glattleder schwarz          schwarz   \n2                            Slipper Glattleder schwarz          schwarz   \n3                             Sneaker low Rauleder blau             blau   \n4     elegante Ballerinas Materialmix Lederimitat sc...          schwarz   \n...                                                 ...              ...   \n3292                Sandale met plateauzool Suède blauw            blauw   \n3293                    Mokassin Materialmix Leder pink             pink   \n3294                                 Shopper ANDIE blau             blau   \n3295                       Elegante pumps Glad leer wit              wit   \n3296                       Sandale compensée Daim beige            beige   \n\n     articleNumber  brand__id  mainCategory__id gender originCountry     line  \\\n0        02.643.57    6590678            315571      w            PT  F-S|H-W   \n1        05.160.37    6590677            315573      w            PT  F-S|H-W   \n2        04.443.27    6590677            315576      w            SK  F-S|H-W   \n3        06.968.46    4997827            315567      w            VN  F-S|H-W   \n4        06.102.67    6590678            315574      w            SK  F-S|H-W   \n...            ...        ...               ...    ...           ...      ...   \n3292     24.764.36    6590677            315568      w            SK      F-S   \n3293     26.090.21    6590678            315590      w            PT      F-S   \n3294        921453     363013            363017      w            DE      F-S   \n3295     21.450.60    6590677            315573      w            PT      F-S   \n3296     24.645.14    6590677            315564      w            PT      F-S   \n\n      ...  heelHeightGroup sizeEu  sizeUk  sizeIndex  shaftLength__value  \\\n0     ...         bis 3 cm   40.0     6.5       11.0                 0.0   \n1     ...      3 cm - 5 cm   38.0     5.0        8.0                 0.0   \n2     ...      3 cm - 5 cm   42.0     8.0       14.0                 0.0   \n3     ...      3 cm - 5 cm   39.0     6.0       10.0                 0.0   \n4     ...         bis 3 cm   37.5     4.5        7.0                 0.0   \n...   ...              ...    ...     ...        ...                 ...   \n3292  ...      5 cm - 8 cm   35.0     2.5        3.0                 0.0   \n3293  ...         bis 3 cm   40.5     7.0       12.0                 0.0   \n3294  ...              NaN    NaN     NaN        NaN                 NaN   \n3295  ...      5 cm - 8 cm   35.0     2.5        3.0                 0.0   \n3296  ...      5 cm - 8 cm   38.0     5.0        8.0                 0.0   \n\n           sole  isTransferee isSuccessor  \\\n0         Gummi           0.0         0.0   \n1           EVA           0.0         0.0   \n2        PU-TPU           0.0         0.0   \n3     Gummi-EVA           0.0         0.0   \n4           EVA           0.0         0.0   \n...         ...           ...         ...   \n3292     PU-TPU           0.0         0.0   \n3293      Gummi           0.0         0.0   \n3294        NaN           NaN         NaN   \n3295        TPU           0.0         0.0   \n3296         TR           0.0         0.0   \n\n                                 duplicate_product__ids  \\\n0     [557559, 549733, 549734, 557553, 589488, 58948...   \n1     [551622, 551505, 551510, 551509, 552973, 55162...   \n2     [547193, 547191, 547196, 547187, 547189, 54719...   \n3     [549776, 550599, 550596, 550593, 550601, 54978...   \n4     [550726, 550736, 550735, 550732, 550728, 55072...   \n...                                                 ...   \n3292                               [10603553, 10544662]   \n3293                               [10442948, 10442949]   \n3294                                         [10782704]   \n3295                                         [10679703]   \n3296                                         [10496278]   \n\n                                          product_sizes  \n0     [35.5, 36.0, 37.0, 37.5, 38.0, 38.5, 39.0, 40....  \n1     [35.0, 35.5, 36.0, 37.0, 37.5, 38.0, 38.5, 39....  \n2     [35.0, 35.5, 36.0, 37.0, 37.5, 38.0, 38.5, 39....  \n3     [35.0, 35.5, 36.0, 37.0, 37.5, 38.0, 38.5, 39....  \n4     [35.0, 37.0, 37.5, 38.0, 38.5, 39.0, 40.0, 40....  \n...                                                 ...  \n3292                                       [35.0, 37.0]  \n3293                                       [40.5, 41.0]  \n3294                                                 []  \n3295                                             [35.0]  \n3296                                             [38.0]  \n\n[3297 rows x 56 columns]",
      "text/html": "<div>\n<style scoped>\n    .dataframe tbody tr th:only-of-type {\n        vertical-align: middle;\n    }\n\n    .dataframe tbody tr th {\n        vertical-align: top;\n    }\n\n    .dataframe thead th {\n        text-align: right;\n    }\n</style>\n<table border=\"1\" class=\"dataframe\">\n  <thead>\n    <tr style=\"text-align: right;\">\n      <th></th>\n      <th>main_product_id</th>\n      <th>productNumber</th>\n      <th>productName</th>\n      <th>productColorName</th>\n      <th>articleNumber</th>\n      <th>brand__id</th>\n      <th>mainCategory__id</th>\n      <th>gender</th>\n      <th>originCountry</th>\n      <th>line</th>\n      <th>...</th>\n      <th>heelHeightGroup</th>\n      <th>sizeEu</th>\n      <th>sizeUk</th>\n      <th>sizeIndex</th>\n      <th>shaftLength__value</th>\n      <th>sole</th>\n      <th>isTransferee</th>\n      <th>isSuccessor</th>\n      <th>duplicate_product__ids</th>\n      <th>product_sizes</th>\n    </tr>\n  </thead>\n  <tbody>\n    <tr>\n      <th>0</th>\n      <td>557559</td>\n      <td>4058394021466</td>\n      <td>sportliche Ballerinas Glattleder schwarz</td>\n      <td>schwarz</td>\n      <td>02.643.57</td>\n      <td>6590678</td>\n      <td>315571</td>\n      <td>w</td>\n      <td>PT</td>\n      <td>F-S|H-W</td>\n      <td>...</td>\n      <td>bis 3 cm</td>\n      <td>40.0</td>\n      <td>6.5</td>\n      <td>11.0</td>\n      <td>0.0</td>\n      <td>Gummi</td>\n      <td>0.0</td>\n      <td>0.0</td>\n      <td>[557559, 549733, 549734, 557553, 589488, 58948...</td>\n      <td>[35.5, 36.0, 37.0, 37.5, 38.0, 38.5, 39.0, 40....</td>\n    </tr>\n    <tr>\n      <th>1</th>\n      <td>551622</td>\n      <td>4054452768212</td>\n      <td>elegante Pumps Glattleder schwarz</td>\n      <td>schwarz</td>\n      <td>05.160.37</td>\n      <td>6590677</td>\n      <td>315573</td>\n      <td>w</td>\n      <td>PT</td>\n      <td>F-S|H-W</td>\n      <td>...</td>\n      <td>3 cm - 5 cm</td>\n      <td>38.0</td>\n      <td>5.0</td>\n      <td>8.0</td>\n      <td>0.0</td>\n      <td>EVA</td>\n      <td>0.0</td>\n      <td>0.0</td>\n      <td>[551622, 551505, 551510, 551509, 552973, 55162...</td>\n      <td>[35.0, 35.5, 36.0, 37.0, 37.5, 38.0, 38.5, 39....</td>\n    </tr>\n    <tr>\n      <th>2</th>\n      <td>547193</td>\n      <td>4054452768427</td>\n      <td>Slipper Glattleder schwarz</td>\n      <td>schwarz</td>\n      <td>04.443.27</td>\n      <td>6590677</td>\n      <td>315576</td>\n      <td>w</td>\n      <td>SK</td>\n      <td>F-S|H-W</td>\n      <td>...</td>\n      <td>3 cm - 5 cm</td>\n      <td>42.0</td>\n      <td>8.0</td>\n      <td>14.0</td>\n      <td>0.0</td>\n      <td>PU-TPU</td>\n      <td>0.0</td>\n      <td>0.0</td>\n      <td>[547193, 547191, 547196, 547187, 547189, 54719...</td>\n      <td>[35.0, 35.5, 36.0, 37.0, 37.5, 38.0, 38.5, 39....</td>\n    </tr>\n    <tr>\n      <th>3</th>\n      <td>549776</td>\n      <td>4059701687894</td>\n      <td>Sneaker low Rauleder blau</td>\n      <td>blau</td>\n      <td>06.968.46</td>\n      <td>4997827</td>\n      <td>315567</td>\n      <td>w</td>\n      <td>VN</td>\n      <td>F-S|H-W</td>\n      <td>...</td>\n      <td>3 cm - 5 cm</td>\n      <td>39.0</td>\n      <td>6.0</td>\n      <td>10.0</td>\n      <td>0.0</td>\n      <td>Gummi-EVA</td>\n      <td>0.0</td>\n      <td>0.0</td>\n      <td>[549776, 550599, 550596, 550593, 550601, 54978...</td>\n      <td>[35.0, 35.5, 36.0, 37.0, 37.5, 38.0, 38.5, 39....</td>\n    </tr>\n    <tr>\n      <th>4</th>\n      <td>550726</td>\n      <td>4054452851594</td>\n      <td>elegante Ballerinas Materialmix Lederimitat sc...</td>\n      <td>schwarz</td>\n      <td>06.102.67</td>\n      <td>6590678</td>\n      <td>315574</td>\n      <td>w</td>\n      <td>SK</td>\n      <td>F-S|H-W</td>\n      <td>...</td>\n      <td>bis 3 cm</td>\n      <td>37.5</td>\n      <td>4.5</td>\n      <td>7.0</td>\n      <td>0.0</td>\n      <td>EVA</td>\n      <td>0.0</td>\n      <td>0.0</td>\n      <td>[550726, 550736, 550735, 550732, 550728, 55072...</td>\n      <td>[35.0, 37.0, 37.5, 38.0, 38.5, 39.0, 40.0, 40....</td>\n    </tr>\n    <tr>\n      <th>...</th>\n      <td>...</td>\n      <td>...</td>\n      <td>...</td>\n      <td>...</td>\n      <td>...</td>\n      <td>...</td>\n      <td>...</td>\n      <td>...</td>\n      <td>...</td>\n      <td>...</td>\n      <td>...</td>\n      <td>...</td>\n      <td>...</td>\n      <td>...</td>\n      <td>...</td>\n      <td>...</td>\n      <td>...</td>\n      <td>...</td>\n      <td>...</td>\n      <td>...</td>\n      <td>...</td>\n    </tr>\n    <tr>\n      <th>3292</th>\n      <td>10603553</td>\n      <td>4066558951733</td>\n      <td>Sandale met plateauzool Suède blauw</td>\n      <td>blauw</td>\n      <td>24.764.36</td>\n      <td>6590677</td>\n      <td>315568</td>\n      <td>w</td>\n      <td>SK</td>\n      <td>F-S</td>\n      <td>...</td>\n      <td>5 cm - 8 cm</td>\n      <td>35.0</td>\n      <td>2.5</td>\n      <td>3.0</td>\n      <td>0.0</td>\n      <td>PU-TPU</td>\n      <td>0.0</td>\n      <td>0.0</td>\n      <td>[10603553, 10544662]</td>\n      <td>[35.0, 37.0]</td>\n    </tr>\n    <tr>\n      <th>3293</th>\n      <td>10442948</td>\n      <td>4065171827272</td>\n      <td>Mokassin Materialmix Leder pink</td>\n      <td>pink</td>\n      <td>26.090.21</td>\n      <td>6590678</td>\n      <td>315590</td>\n      <td>w</td>\n      <td>PT</td>\n      <td>F-S</td>\n      <td>...</td>\n      <td>bis 3 cm</td>\n      <td>40.5</td>\n      <td>7.0</td>\n      <td>12.0</td>\n      <td>0.0</td>\n      <td>Gummi</td>\n      <td>0.0</td>\n      <td>0.0</td>\n      <td>[10442948, 10442949]</td>\n      <td>[40.5, 41.0]</td>\n    </tr>\n    <tr>\n      <th>3294</th>\n      <td>10782704</td>\n      <td>4251234499207</td>\n      <td>Shopper ANDIE blau</td>\n      <td>blau</td>\n      <td>921453</td>\n      <td>363013</td>\n      <td>363017</td>\n      <td>w</td>\n      <td>DE</td>\n      <td>F-S</td>\n      <td>...</td>\n      <td>NaN</td>\n      <td>NaN</td>\n      <td>NaN</td>\n      <td>NaN</td>\n      <td>NaN</td>\n      <td>NaN</td>\n      <td>NaN</td>\n      <td>NaN</td>\n      <td>[10782704]</td>\n      <td>[]</td>\n    </tr>\n    <tr>\n      <th>3295</th>\n      <td>10679703</td>\n      <td>4066558303617</td>\n      <td>Elegante pumps Glad leer wit</td>\n      <td>wit</td>\n      <td>21.450.60</td>\n      <td>6590677</td>\n      <td>315573</td>\n      <td>w</td>\n      <td>PT</td>\n      <td>F-S</td>\n      <td>...</td>\n      <td>5 cm - 8 cm</td>\n      <td>35.0</td>\n      <td>2.5</td>\n      <td>3.0</td>\n      <td>0.0</td>\n      <td>TPU</td>\n      <td>0.0</td>\n      <td>0.0</td>\n      <td>[10679703]</td>\n      <td>[35.0]</td>\n    </tr>\n    <tr>\n      <th>3296</th>\n      <td>10496278</td>\n      <td>4065171812513</td>\n      <td>Sandale compensée Daim beige</td>\n      <td>beige</td>\n      <td>24.645.14</td>\n      <td>6590677</td>\n      <td>315564</td>\n      <td>w</td>\n      <td>PT</td>\n      <td>F-S</td>\n      <td>...</td>\n      <td>5 cm - 8 cm</td>\n      <td>38.0</td>\n      <td>5.0</td>\n      <td>8.0</td>\n      <td>0.0</td>\n      <td>TR</td>\n      <td>0.0</td>\n      <td>0.0</td>\n      <td>[10496278]</td>\n      <td>[38.0]</td>\n    </tr>\n  </tbody>\n</table>\n<p>3297 rows × 56 columns</p>\n</div>"
     },
     "metadata": {},
     "output_type": "display_data"
    }
   ],
   "source": [
    "# Load data\n",
    "basepath = '../../datasets/preprocessed_datasets/gabor/'\n",
    "pandas_interaction_data = pd.read_pickle(basepath + 'user_item_interactions_only_main_products_10k.pkl')\n",
    "#pandas_interaction_data = pandas_interaction_data.sample(1000)\n",
    "pandas_interaction_data.amount = pandas_interaction_data.amount.apply(lambda x: 1 if x > 0 else 0) \n",
    "product_data = pd.read_pickle(basepath + 'no_product_variants_with_duplicate_ids.pkl')\n",
    "pandas_interaction_data.main_product_id = pandas_interaction_data.main_product_id.astype(int)\n",
    "product_data.main_product_id = product_data.main_product_id.astype(int)\n",
    "\n",
    "display(pandas_interaction_data, product_data)"
   ],
   "metadata": {
    "collapsed": false,
    "ExecuteTime": {
     "end_time": "2023-12-02T08:36:59.242951Z",
     "start_time": "2023-12-02T08:36:59.197735Z"
    }
   },
   "id": "e008bf18a8e80e4f"
  },
  {
   "cell_type": "code",
   "execution_count": 22,
   "outputs": [],
   "source": [
    "# Create a tf.data.Dataset from the interaction data\n",
    "interaction_dataset = tf.data.Dataset.from_tensor_slices({\n",
    "    'customer_id': pandas_interaction_data['customer_id'].values,\n",
    "    'main_product_id': pandas_interaction_data['main_product_id'].values,\n",
    "    'amount': pandas_interaction_data['amount'].values\n",
    "})\n",
    "#variables \n",
    "dataset_len = pandas_interaction_data.shape[0]\n",
    "test_len = math.ceil(dataset_len * 0.2)\n",
    "train_len = dataset_len - test_len\n",
    "\n",
    "metrics_batchsize = 16\n",
    "train_batch_size = 128\n",
    "test_batch_size = 64\n",
    "random_seed = 27"
   ],
   "metadata": {
    "collapsed": false,
    "ExecuteTime": {
     "end_time": "2023-12-02T08:36:59.243882Z",
     "start_time": "2023-12-02T08:36:59.239174Z"
    }
   },
   "id": "c089ac7f029dc324"
  },
  {
   "cell_type": "code",
   "execution_count": 23,
   "outputs": [
    {
     "data": {
      "text/plain": "<_TakeDataset element_spec={'customer_id': TensorSpec(shape=(), dtype=tf.int64, name=None), 'main_product_id': TensorSpec(shape=(), dtype=tf.int64, name=None), 'amount': TensorSpec(shape=(), dtype=tf.int64, name=None)}>"
     },
     "metadata": {},
     "output_type": "display_data"
    },
    {
     "data": {
      "text/plain": "<_TakeDataset element_spec={'customer_id': TensorSpec(shape=(), dtype=tf.int64, name=None), 'main_product_id': TensorSpec(shape=(), dtype=tf.int64, name=None), 'amount': TensorSpec(shape=(), dtype=tf.int64, name=None)}>"
     },
     "metadata": {},
     "output_type": "display_data"
    }
   ],
   "source": [
    "#train test split\n",
    "tf.random.set_seed(random_seed)\n",
    "# shuffled = interaction_dataset.shuffle(len, seed=random_seed, reshuffle_each_iteration=False)\n",
    "# train = shuffled.take(train_len)\n",
    "# test = shuffled.skip(train_len).take(test_len)\n",
    "shuffled = interaction_dataset.shuffle(dataset_len, seed=random_seed, reshuffle_each_iteration=False)\n",
    "\n",
    "train = shuffled.take(train_len)\n",
    "test = shuffled.skip(train_len).take(test_len)\n",
    "display(train, test)"
   ],
   "metadata": {
    "collapsed": false,
    "ExecuteTime": {
     "end_time": "2023-12-02T08:36:59.327829Z",
     "start_time": "2023-12-02T08:36:59.291360Z"
    }
   },
   "id": "825eec174445be8c"
  },
  {
   "cell_type": "code",
   "execution_count": 24,
   "outputs": [],
   "source": [
    "# Unique customer and product identifiers\n",
    "unique_customer_ids = np.array(pandas_interaction_data[\"customer_id\"].unique())\n",
    "unique_product_ids = np.array(pandas_interaction_data[\"main_product_id\"].unique())\n",
    "\n",
    "user_ids_vocabulary = tf.keras.layers.IntegerLookup(mask_token=None)\n",
    "user_ids_vocabulary.adapt(unique_customer_ids)\n",
    "\n",
    "product_ids_vocabulary = tf.keras.layers.IntegerLookup(mask_token=None)\n",
    "product_ids_vocabulary.adapt(unique_product_ids)\n",
    "# print(unique_product_ids.shape[0], unique_customer_ids.shape[0], unique_product_ids, unique_product_ids)"
   ],
   "metadata": {
    "collapsed": false,
    "ExecuteTime": {
     "end_time": "2023-12-02T08:36:59.992119Z",
     "start_time": "2023-12-02T08:36:59.302094Z"
    }
   },
   "id": "2e2625e63cf53fce"
  },
  {
   "cell_type": "code",
   "execution_count": 25,
   "outputs": [],
   "source": [
    "# Define a model using TensorFlow Recommenders\n",
    "product_ids_dataset = tf.data.Dataset.from_tensor_slices(unique_product_ids)\n",
    "class RetailModel(tfrs.Model):\n",
    "\n",
    "    def __init__(self, unique_product_ids_vocab, unique_customer_ids_vocab, embedding_dimension=32):\n",
    "        super().__init__()\n",
    "        # Set up user and product representations\n",
    "        self.user_embedding = tf.keras.Sequential([\n",
    "            unique_customer_ids_vocab,\n",
    "            Embedding(unique_customer_ids_vocab.vocabulary_size(), embedding_dimension)\n",
    "        ])\n",
    "        self.product_embedding = tf.keras.Sequential([\n",
    "            unique_product_ids_vocab,\n",
    "            Embedding(unique_product_ids_vocab.vocabulary_size(), embedding_dimension)\n",
    "        ])\n",
    "        # Set up a dense layer for the task.\n",
    "        self.dense_layer = Dense(128, activation=\"relu\")\n",
    "        \n",
    "\n",
    "\n",
    "        # Set up retrieval task and metrics\n",
    "        self.task = tfrs.tasks.Retrieval(\n",
    "            metrics=tfrs.metrics.FactorizedTopK(candidates=product_ids_dataset.batch(metrics_batchsize).map(self.product_model))\n",
    "        )\n",
    "        self.auc_metric = AUC(name='auc')\n",
    "        self.rmse_metric = tf.keras.metrics.RootMeanSquaredError(name='rmse')\n",
    "        self.precision = tf.keras.metrics.Precision(name='precision')\n",
    "        self.recall = tf.keras.metrics.Recall(name='recall')\n",
    "\n",
    "    def product_model(self, product_ids):\n",
    "        return self.product_embedding(product_ids)\n",
    "\n",
    "    def dot_product_score(self, user, product):\n",
    "        \"\"\"\n",
    "        Computes the dot product between user and product embeddings to get the interaction score.\n",
    "        \"\"\"\n",
    "        return tf.reduce_sum(user * product, axis=1)\n",
    "\n",
    "    def compute_loss(self, features, training=False):\n",
    "        # print(features)\n",
    "        user_embeddings = self.user_embedding(features[\"customer_id\"])\n",
    "        product_embeddings = self.product_embedding(features[\"main_product_id\"])\n",
    "        \n",
    "        user_output = self.dense_layer(user_embeddings)\n",
    "        product_output = self.dense_layer(product_embeddings)\n",
    "        # This is a hypothetical function that returns the logits or scores\n",
    "        # This needs to be adapted based on your actual model\n",
    "        positive_logits = self.dot_product_score(user_output, product_output)\n",
    "\n",
    "        # Update RMSE\n",
    "        self.rmse_metric.update_state(y_true=features[\"amount\"], y_pred=positive_logits)\n",
    "\n",
    "\n",
    "        return self.task(user_output, product_output)\n",
    "\n",
    "    def evaluate(self, validation_dataset, *args, **kwargs):\n",
    "        # Call the base class's evaluate method\n",
    "        \n",
    "    \n",
    "        # Compute additional metrics\n",
    "        for features in validation_dataset:\n",
    "            user_embeddings = self.user_embedding(features[\"customer_id\"])\n",
    "            product_embeddings = self.product_embedding(features[\"main_product_id\"])\n",
    "            \n",
    "            user_output = self.dense_layer(user_embeddings)\n",
    "            product_output = self.dense_layer(product_embeddings)\n",
    "            \n",
    "            positive_logits = self.dot_product_score(user_output, product_output)\n",
    "            # Assuming you have a binary \"label\" in your dataset indicating 1 for positive interaction and 0 for negative\n",
    "            self.precision.update_state(y_true=features[\"amount\"], y_pred=positive_logits)\n",
    "            self.recall.update_state(y_true=features[\"amount\"], y_pred=positive_logits)\n",
    "    \n",
    "        precision_result = self.precision.result().numpy()\n",
    "        recall_result = self.recall.result().numpy()\n",
    "    \n",
    "        # Calculate F1 score\n",
    "        if (precision_result + recall_result) != 0:\n",
    "            f1_score = 2 * (precision_result * recall_result) / (precision_result + recall_result)\n",
    "        else:\n",
    "            f1_score = 0.0\n",
    "    \n",
    "        # Reset the metrics for the next evaluation\n",
    "        # self.precision.reset_states()\n",
    "        # self.recall.reset_states()\n",
    "        base_results = super(RetailModel, self).evaluate(validation_dataset, *args, **kwargs)\n",
    "    \n",
    "        return base_results, [precision_result, recall_result, f1_score]  # or append additional results as needed\n",
    "\n"
   ],
   "metadata": {
    "collapsed": false,
    "ExecuteTime": {
     "end_time": "2023-12-02T08:37:00.000985Z",
     "start_time": "2023-12-02T08:36:59.997980Z"
    }
   },
   "id": "378cf58a3061ecfc"
  },
  {
   "cell_type": "code",
   "execution_count": 26,
   "outputs": [],
   "source": [
    "model = RetailModel(product_ids_vocabulary, user_ids_vocabulary, embedding_dimension=128)\n",
    "model.compile(optimizer=tf.keras.optimizers.legacy.Adam(learning_rate=0.001)) # using legacy instead of tf.keras.optimizers.Adagrad, because newer version is slow on m1/m2 macs"
   ],
   "metadata": {
    "collapsed": false,
    "ExecuteTime": {
     "end_time": "2023-12-02T08:37:00.180166Z",
     "start_time": "2023-12-02T08:37:00.002428Z"
    }
   },
   "id": "5ae0c3e4d7093bf1"
  },
  {
   "cell_type": "code",
   "execution_count": 27,
   "outputs": [
    {
     "name": "stdout",
     "output_type": "stream",
     "text": [
      "Epoch 1/3\n",
      "63/63 [==============================] - 38s 598ms/step - auc: 0.0000e+00 - rmse: 0.9957 - precision: 0.0000e+00 - recall: 0.0000e+00 - factorized_top_k/top_1_categorical_accuracy: 0.0315 - factorized_top_k/top_5_categorical_accuracy: 0.0679 - factorized_top_k/top_10_categorical_accuracy: 0.0936 - factorized_top_k/top_50_categorical_accuracy: 0.1831 - factorized_top_k/top_100_categorical_accuracy: 0.2499 - loss: 610.0070 - regularization_loss: 0.0000e+00 - total_loss: 610.0070\n",
      "Epoch 2/3\n",
      "63/63 [==============================] - 35s 564ms/step - auc: 0.0000e+00 - rmse: 0.7761 - precision: 0.0000e+00 - recall: 0.0000e+00 - factorized_top_k/top_1_categorical_accuracy: 0.9219 - factorized_top_k/top_5_categorical_accuracy: 0.9489 - factorized_top_k/top_10_categorical_accuracy: 0.9589 - factorized_top_k/top_50_categorical_accuracy: 0.9789 - factorized_top_k/top_100_categorical_accuracy: 0.9851 - loss: 602.1692 - regularization_loss: 0.0000e+00 - total_loss: 602.1692\n",
      "Epoch 3/3\n",
      "63/63 [==============================] - 35s 557ms/step - auc: 0.0000e+00 - rmse: 2.9116 - precision: 0.0000e+00 - recall: 0.0000e+00 - factorized_top_k/top_1_categorical_accuracy: 1.0000 - factorized_top_k/top_5_categorical_accuracy: 1.0000 - factorized_top_k/top_10_categorical_accuracy: 1.0000 - factorized_top_k/top_50_categorical_accuracy: 1.0000 - factorized_top_k/top_100_categorical_accuracy: 1.0000 - loss: 489.3075 - regularization_loss: 0.0000e+00 - total_loss: 489.3075\n"
     ]
    },
    {
     "data": {
      "text/plain": "<keras.src.callbacks.History at 0x2919c5d90>"
     },
     "execution_count": 27,
     "metadata": {},
     "output_type": "execute_result"
    }
   ],
   "source": [
    "# Shuffle, batch, and cache the data.\n",
    "cached_train = train.shuffle(dataset_len).batch(train_batch_size).cache()\n",
    "cached_test = test.batch(test_batch_size).cache()\n",
    "# Train the model\n",
    "# model.fit(cached_train, validation_data=cached_test, validation_freq=5, epochs=3)\n",
    "model.fit(cached_train, validation_freq=5, epochs=3)"
   ],
   "metadata": {
    "collapsed": false,
    "ExecuteTime": {
     "end_time": "2023-12-02T08:38:49.394943Z",
     "start_time": "2023-12-02T08:37:00.181138Z"
    }
   },
   "id": "4add146de8d83cb0"
  },
  {
   "cell_type": "code",
   "execution_count": 28,
   "outputs": [
    {
     "name": "stdout",
     "output_type": "stream",
     "text": [
      "63/63 [==============================] - 45s 715ms/step - auc: 0.0000e+00 - rmse: 7.3171 - precision: 0.0000e+00 - recall: 0.0000e+00 - factorized_top_k/top_1_categorical_accuracy: 1.0000 - factorized_top_k/top_5_categorical_accuracy: 1.0000 - factorized_top_k/top_10_categorical_accuracy: 1.0000 - factorized_top_k/top_50_categorical_accuracy: 1.0000 - factorized_top_k/top_100_categorical_accuracy: 1.0000 - loss: 282.9957 - regularization_loss: 0.0000e+00 - total_loss: 282.9957\n"
     ]
    },
    {
     "data": {
      "text/plain": "([0.0,\n  7.317067623138428,\n  0.0,\n  0.0,\n  1.0,\n  1.0,\n  1.0,\n  1.0,\n  1.0,\n  133.02035522460938,\n  0,\n  133.02035522460938],\n [1.0, 1.0, 1.0])"
     },
     "execution_count": 28,
     "metadata": {},
     "output_type": "execute_result"
    }
   ],
   "source": [
    "# Evaluate the model\n",
    "k = 5\n",
    "result_evaluate_train = model.evaluate(cached_train)\n",
    "result_evaluate_train"
   ],
   "metadata": {
    "collapsed": false,
    "ExecuteTime": {
     "end_time": "2023-12-02T08:39:35.334111Z",
     "start_time": "2023-12-02T08:38:49.394489Z"
    }
   },
   "id": "f38fbc7489d6c8ab"
  },
  {
   "cell_type": "code",
   "execution_count": 29,
   "outputs": [
    {
     "name": "stdout",
     "output_type": "stream",
     "text": [
      "32/32 [==============================] - 24s 735ms/step - auc: 0.0000e+00 - rmse: 3.1634 - precision: 0.0000e+00 - recall: 0.0000e+00 - factorized_top_k/top_1_categorical_accuracy: 0.9995 - factorized_top_k/top_5_categorical_accuracy: 0.9995 - factorized_top_k/top_10_categorical_accuracy: 0.9995 - factorized_top_k/top_50_categorical_accuracy: 0.9995 - factorized_top_k/top_100_categorical_accuracy: 0.9995 - loss: 265.2838 - regularization_loss: 0.0000e+00 - total_loss: 265.2838\n"
     ]
    },
    {
     "data": {
      "text/plain": "([0.0,\n  3.1633543968200684,\n  0.0,\n  0.0,\n  0.9994999766349792,\n  0.9994999766349792,\n  0.9994999766349792,\n  0.9994999766349792,\n  0.9994999766349792,\n  50.408321380615234,\n  0,\n  50.408321380615234],\n [1.0, 1.0, 1.0])"
     },
     "execution_count": 29,
     "metadata": {},
     "output_type": "execute_result"
    }
   ],
   "source": [
    "result_evaluat_test = model.evaluate(cached_test)\n",
    "result_evaluat_test"
   ],
   "metadata": {
    "collapsed": false,
    "ExecuteTime": {
     "end_time": "2023-12-02T08:39:59.315194Z",
     "start_time": "2023-12-02T08:39:35.334964Z"
    }
   },
   "id": "a90bfb5478e24540"
  },
  {
   "cell_type": "code",
   "execution_count": 30,
   "outputs": [
    {
     "name": "stdout",
     "output_type": "stream",
     "text": [
      "Name\t\tValue\n",
      "------------------------------\n",
      "auc\t\t0.0\n",
      "rmse\t\t3.1633543968200684\n",
      "precision\t\t0.0\n",
      "recall\t\t0.0\n",
      "factorized_top_k/top_1_categorical_accuracy\t\t0.9994999766349792\n",
      "factorized_top_k/top_5_categorical_accuracy\t\t0.9994999766349792\n",
      "factorized_top_k/top_10_categorical_accuracy\t\t0.9994999766349792\n",
      "factorized_top_k/top_50_categorical_accuracy\t\t0.9994999766349792\n",
      "factorized_top_k/top_100_categorical_accuracy\t\t0.9994999766349792\n",
      "AUC: 0.0\n"
     ]
    }
   ],
   "source": [
    "print(\"Name\\t\\tValue\")\n",
    "print(\"-\" * 30)\n",
    "for metric in model.metrics:\n",
    "    print(f\"{metric.name}\\t\\t{metric.result().numpy()}\")\n",
    "print(f\"AUC: {model.auc_metric.result().numpy()}\")"
   ],
   "metadata": {
    "collapsed": false,
    "ExecuteTime": {
     "end_time": "2023-12-02T08:39:59.348625Z",
     "start_time": "2023-12-02T08:39:59.313243Z"
    }
   },
   "id": "2dc815d6547dfefe"
  },
  {
   "cell_type": "code",
   "execution_count": 31,
   "outputs": [
    {
     "data": {
      "text/plain": "array([ 4275416,  5191936,  9181415,  2035007,  8891134, 10874927,\n        8610367,  3736938,  1957983,  6480012,  1958913,  8908474,\n        7285710,  8867556,  6373394,  2196344,  8446599,  1948734,\n        6525510,  7553474,  9446582,  9965105,  2142504, 10860996,\n        8121725, 10145415,  9108029, 10511849, 10170223, 10270040,\n        6456133,  5530970,  3959734,  7019456,  9736062,  4100439,\n        5318358,  9834638,  6798151,  2116409,  2032193,  8118166,\n        7410488,  8147869,  9441353,  9971211,  8582644,  8657464,\n        6799071, 10017324,  8062560,  4460873,  1992810,  7887224,\n        9153335,  2006015,  8272020, 10112803,  6568213,  4336120,\n        2083624, 10633283,  2201167,  8185718])"
     },
     "execution_count": 31,
     "metadata": {},
     "output_type": "execute_result"
    }
   ],
   "source": [
    "sample = next(iter(cached_test.take(1)))\n",
    "\n",
    "# Extract customer_id from the sample\n",
    "customer_id = sample['customer_id'].numpy()\n",
    "customer_id"
   ],
   "metadata": {
    "collapsed": false,
    "ExecuteTime": {
     "end_time": "2023-12-02T08:39:59.349323Z",
     "start_time": "2023-12-02T08:39:59.329524Z"
    }
   },
   "id": "d293fa87e3fe5b52"
  },
  {
   "cell_type": "code",
   "execution_count": 32,
   "outputs": [
    {
     "name": "stdout",
     "output_type": "stream",
     "text": [
      "predicting user:  4275416\n",
      "user already bought following products: \n"
     ]
    },
    {
     "data": {
      "text/plain": "     main_product_id  productNumber                         productName  \\\n512          4134223  4062862442301  Elegante Stiefelette Rauleder gelb   \n\n    productColorName articleNumber  brand__id  mainCategory__id gender  \\\n512             gelb     51.800.13    6590677           5014851      w   \n\n    originCountry line  ...  heelHeightGroup sizeEu  sizeUk  sizeIndex  \\\n512            SK  H-W  ...      3 cm - 5 cm   38.0     5.0        8.0   \n\n     shaftLength__value  sole  isTransferee isSuccessor  \\\n512                23.0   EVA           0.0         0.0   \n\n                                duplicate_product__ids  \\\n512  [4134223, 4134220, 4222459, 4134229, 4222456, ...   \n\n                                         product_sizes  \n512  [35.0, 36.0, 37.0, 37.5, 38.0, 38.5, 39.0, 40....  \n\n[1 rows x 56 columns]",
      "text/html": "<div>\n<style scoped>\n    .dataframe tbody tr th:only-of-type {\n        vertical-align: middle;\n    }\n\n    .dataframe tbody tr th {\n        vertical-align: top;\n    }\n\n    .dataframe thead th {\n        text-align: right;\n    }\n</style>\n<table border=\"1\" class=\"dataframe\">\n  <thead>\n    <tr style=\"text-align: right;\">\n      <th></th>\n      <th>main_product_id</th>\n      <th>productNumber</th>\n      <th>productName</th>\n      <th>productColorName</th>\n      <th>articleNumber</th>\n      <th>brand__id</th>\n      <th>mainCategory__id</th>\n      <th>gender</th>\n      <th>originCountry</th>\n      <th>line</th>\n      <th>...</th>\n      <th>heelHeightGroup</th>\n      <th>sizeEu</th>\n      <th>sizeUk</th>\n      <th>sizeIndex</th>\n      <th>shaftLength__value</th>\n      <th>sole</th>\n      <th>isTransferee</th>\n      <th>isSuccessor</th>\n      <th>duplicate_product__ids</th>\n      <th>product_sizes</th>\n    </tr>\n  </thead>\n  <tbody>\n    <tr>\n      <th>512</th>\n      <td>4134223</td>\n      <td>4062862442301</td>\n      <td>Elegante Stiefelette Rauleder gelb</td>\n      <td>gelb</td>\n      <td>51.800.13</td>\n      <td>6590677</td>\n      <td>5014851</td>\n      <td>w</td>\n      <td>SK</td>\n      <td>H-W</td>\n      <td>...</td>\n      <td>3 cm - 5 cm</td>\n      <td>38.0</td>\n      <td>5.0</td>\n      <td>8.0</td>\n      <td>23.0</td>\n      <td>EVA</td>\n      <td>0.0</td>\n      <td>0.0</td>\n      <td>[4134223, 4134220, 4222459, 4134229, 4222456, ...</td>\n      <td>[35.0, 36.0, 37.0, 37.5, 38.0, 38.5, 39.0, 40....</td>\n    </tr>\n  </tbody>\n</table>\n<p>1 rows × 56 columns</p>\n</div>"
     },
     "metadata": {},
     "output_type": "display_data"
    },
    {
     "name": "stdout",
     "output_type": "stream",
     "text": [
      "predicted products: \n"
     ]
    },
    {
     "data": {
      "text/plain": "      main_product_id  productNumber                        productName  \\\n162           3696847  4062862460299        Sneaker low Glattleder weiß   \n212            473303  4056067169200      Pantolette Glattleder schwarz   \n543           4234094  4062862158899    Sneaker high Glattleder schwarz   \n971           5337231  4064032026007  Plateau Sandale Effektleder beige   \n1231          6114614  4064032689486    Chelsea Boot Glattleder Schwarz   \n\n     productColorName articleNumber  brand__id  mainCategory__id gender  \\\n162              weiß     53.336.20    6590677            315567      w   \n212           schwarz     03.705.27    6590677            315572      w   \n543           schwarz     53.761.87    6590677            315580      w   \n971             beige     64.661.32    6590677            315568      w   \n1231          Schwarz     72.751.37    6590678            315582      w   \n\n     originCountry line  ...  heelHeightGroup sizeEu  sizeUk  sizeIndex  \\\n162             SK  H-W  ...      3 cm - 5 cm   36.0     3.5        5.0   \n212             SK  F-S  ...         bis 3 cm   45.0    10.5       13.0   \n543             SK  H-W  ...      3 cm - 5 cm   38.0     5.0        8.0   \n971             SK  F-S  ...      5 cm - 8 cm   38.0     5.0        8.0   \n1231            SK  H-W  ...      5 cm - 8 cm   43.0     9.0       16.0   \n\n      shaftLength__value    sole  isTransferee isSuccessor  \\\n162                  0.0      TR           0.0         0.0   \n212                  0.0   Gummi           0.0         0.0   \n543                 15.0      TR           0.0         0.0   \n971                  0.0  PU-TPU           0.0         0.0   \n1231                21.0  PU-TPU           0.0         0.0   \n\n                                 duplicate_product__ids  \\\n162   [3696847, 3591088, 3696859, 3591085, 3591087, ...   \n212   [473303, 4774130, 4774131, 4774135, 4774134, 4...   \n543   [4234094, 4234491, 4234489, 4234479, 4234482, ...   \n971   [5337231, 5337128, 5337125, 5337131, 5337237, ...   \n1231  [6114614, 6115594, 6142827, 6114844, 6446897, ...   \n\n                                          product_sizes  \n162   [35.0, 35.5, 36.0, 37.0, 37.5, 38.0, 38.5, 39....  \n212   [35.0, 35.5, 36.0, 37.0, 37.5, 38.0, 38.5, 39....  \n543   [35.5, 36.0, 37.0, 37.5, 38.0, 38.5, 39.0, 40....  \n971   [35.0, 35.5, 36.0, 37.0, 37.5, 38.0, 38.5, 39....  \n1231  [35.5, 36.0, 38.0, 38.5, 39.0, 40.0, 40.5, 41....  \n\n[5 rows x 56 columns]",
      "text/html": "<div>\n<style scoped>\n    .dataframe tbody tr th:only-of-type {\n        vertical-align: middle;\n    }\n\n    .dataframe tbody tr th {\n        vertical-align: top;\n    }\n\n    .dataframe thead th {\n        text-align: right;\n    }\n</style>\n<table border=\"1\" class=\"dataframe\">\n  <thead>\n    <tr style=\"text-align: right;\">\n      <th></th>\n      <th>main_product_id</th>\n      <th>productNumber</th>\n      <th>productName</th>\n      <th>productColorName</th>\n      <th>articleNumber</th>\n      <th>brand__id</th>\n      <th>mainCategory__id</th>\n      <th>gender</th>\n      <th>originCountry</th>\n      <th>line</th>\n      <th>...</th>\n      <th>heelHeightGroup</th>\n      <th>sizeEu</th>\n      <th>sizeUk</th>\n      <th>sizeIndex</th>\n      <th>shaftLength__value</th>\n      <th>sole</th>\n      <th>isTransferee</th>\n      <th>isSuccessor</th>\n      <th>duplicate_product__ids</th>\n      <th>product_sizes</th>\n    </tr>\n  </thead>\n  <tbody>\n    <tr>\n      <th>162</th>\n      <td>3696847</td>\n      <td>4062862460299</td>\n      <td>Sneaker low Glattleder weiß</td>\n      <td>weiß</td>\n      <td>53.336.20</td>\n      <td>6590677</td>\n      <td>315567</td>\n      <td>w</td>\n      <td>SK</td>\n      <td>H-W</td>\n      <td>...</td>\n      <td>3 cm - 5 cm</td>\n      <td>36.0</td>\n      <td>3.5</td>\n      <td>5.0</td>\n      <td>0.0</td>\n      <td>TR</td>\n      <td>0.0</td>\n      <td>0.0</td>\n      <td>[3696847, 3591088, 3696859, 3591085, 3591087, ...</td>\n      <td>[35.0, 35.5, 36.0, 37.0, 37.5, 38.0, 38.5, 39....</td>\n    </tr>\n    <tr>\n      <th>212</th>\n      <td>473303</td>\n      <td>4056067169200</td>\n      <td>Pantolette Glattleder schwarz</td>\n      <td>schwarz</td>\n      <td>03.705.27</td>\n      <td>6590677</td>\n      <td>315572</td>\n      <td>w</td>\n      <td>SK</td>\n      <td>F-S</td>\n      <td>...</td>\n      <td>bis 3 cm</td>\n      <td>45.0</td>\n      <td>10.5</td>\n      <td>13.0</td>\n      <td>0.0</td>\n      <td>Gummi</td>\n      <td>0.0</td>\n      <td>0.0</td>\n      <td>[473303, 4774130, 4774131, 4774135, 4774134, 4...</td>\n      <td>[35.0, 35.5, 36.0, 37.0, 37.5, 38.0, 38.5, 39....</td>\n    </tr>\n    <tr>\n      <th>543</th>\n      <td>4234094</td>\n      <td>4062862158899</td>\n      <td>Sneaker high Glattleder schwarz</td>\n      <td>schwarz</td>\n      <td>53.761.87</td>\n      <td>6590677</td>\n      <td>315580</td>\n      <td>w</td>\n      <td>SK</td>\n      <td>H-W</td>\n      <td>...</td>\n      <td>3 cm - 5 cm</td>\n      <td>38.0</td>\n      <td>5.0</td>\n      <td>8.0</td>\n      <td>15.0</td>\n      <td>TR</td>\n      <td>0.0</td>\n      <td>0.0</td>\n      <td>[4234094, 4234491, 4234489, 4234479, 4234482, ...</td>\n      <td>[35.5, 36.0, 37.0, 37.5, 38.0, 38.5, 39.0, 40....</td>\n    </tr>\n    <tr>\n      <th>971</th>\n      <td>5337231</td>\n      <td>4064032026007</td>\n      <td>Plateau Sandale Effektleder beige</td>\n      <td>beige</td>\n      <td>64.661.32</td>\n      <td>6590677</td>\n      <td>315568</td>\n      <td>w</td>\n      <td>SK</td>\n      <td>F-S</td>\n      <td>...</td>\n      <td>5 cm - 8 cm</td>\n      <td>38.0</td>\n      <td>5.0</td>\n      <td>8.0</td>\n      <td>0.0</td>\n      <td>PU-TPU</td>\n      <td>0.0</td>\n      <td>0.0</td>\n      <td>[5337231, 5337128, 5337125, 5337131, 5337237, ...</td>\n      <td>[35.0, 35.5, 36.0, 37.0, 37.5, 38.0, 38.5, 39....</td>\n    </tr>\n    <tr>\n      <th>1231</th>\n      <td>6114614</td>\n      <td>4064032689486</td>\n      <td>Chelsea Boot Glattleder Schwarz</td>\n      <td>Schwarz</td>\n      <td>72.751.37</td>\n      <td>6590678</td>\n      <td>315582</td>\n      <td>w</td>\n      <td>SK</td>\n      <td>H-W</td>\n      <td>...</td>\n      <td>5 cm - 8 cm</td>\n      <td>43.0</td>\n      <td>9.0</td>\n      <td>16.0</td>\n      <td>21.0</td>\n      <td>PU-TPU</td>\n      <td>0.0</td>\n      <td>0.0</td>\n      <td>[6114614, 6115594, 6142827, 6114844, 6446897, ...</td>\n      <td>[35.5, 36.0, 38.0, 38.5, 39.0, 40.0, 40.5, 41....</td>\n    </tr>\n  </tbody>\n</table>\n<p>5 rows × 56 columns</p>\n</div>"
     },
     "metadata": {},
     "output_type": "display_data"
    },
    {
     "name": "stdout",
     "output_type": "stream",
     "text": [
      "scores:  [0.04698014 0.04564711 0.03695969 0.03682263 0.03507987]\n"
     ]
    }
   ],
   "source": [
    "def get_random_customer_from_test_data():\n",
    "    return next(iter(test.take(1)))['customer_id'].numpy()\n",
    "\n",
    "def display_item_ids(item_ids):\n",
    "    display(product_data[product_data.main_product_id.isin(item_ids) ])\n",
    "\n",
    "def display_products_by_customer_id(customer_id):\n",
    "    display_item_ids(pandas_interaction_data[pandas_interaction_data.customer_id ==  customer_id].main_product_id.tolist())\n",
    "    \n",
    "\n",
    "index = tfrs.layers.factorized_top_k.BruteForce(model.user_embedding, k=5)\n",
    "index.index_from_dataset(\n",
    "    product_ids_dataset.batch(100).map(lambda id: (id, model.product_model(id))))\n",
    "\n",
    "def predict_user(user_id):\n",
    "    print('predicting user: ', user_id)\n",
    "    print('user already bought following products: ')\n",
    "    display_products_by_customer_id(user_id)\n",
    "    \n",
    "    score, predicted_product_ids = index(np.array([user_id]))\n",
    "    \n",
    "    print('predicted products: ')\n",
    "    display_item_ids(predicted_product_ids[0].numpy())\n",
    "    print('scores: ', score[0].numpy())\n",
    "\n",
    "\n",
    "user_id = get_random_customer_from_test_data()\n",
    "\n",
    "predict_user(user_id)"
   ],
   "metadata": {
    "collapsed": false,
    "ExecuteTime": {
     "end_time": "2023-12-02T08:39:59.515584Z",
     "start_time": "2023-12-02T08:39:59.340874Z"
    }
   },
   "id": "d8785689b14ad90"
  },
  {
   "cell_type": "code",
   "execution_count": 33,
   "outputs": [
    {
     "name": "stdout",
     "output_type": "stream",
     "text": [
      "predicting user:  7347782\n"
     ]
    },
    {
     "data": {
      "text/plain": "      main_product_id  productNumber                   productName  \\\n1581          7023883  4064032477885  Winterstiefelette Glattleder   \n\n     productColorName articleNumber  brand__id  mainCategory__id gender  \\\n1581                      72.802.93    6590678            315580      w   \n\n     originCountry line  ...  heelHeightGroup sizeEu  sizeUk  sizeIndex  \\\n1581            PT  H-W  ...      5 cm - 8 cm   44.0     9.5       17.0   \n\n      shaftLength__value  sole  isTransferee isSuccessor  \\\n1581                26.0    TR           0.0         0.0   \n\n                                 duplicate_product__ids  \\\n1581  [7023883, 7023906, 7016032, 6902928, 7023753, ...   \n\n                                          product_sizes  \n1581  [35.0, 35.5, 36.0, 37.0, 37.5, 38.0, 38.5, 39....  \n\n[1 rows x 56 columns]",
      "text/html": "<div>\n<style scoped>\n    .dataframe tbody tr th:only-of-type {\n        vertical-align: middle;\n    }\n\n    .dataframe tbody tr th {\n        vertical-align: top;\n    }\n\n    .dataframe thead th {\n        text-align: right;\n    }\n</style>\n<table border=\"1\" class=\"dataframe\">\n  <thead>\n    <tr style=\"text-align: right;\">\n      <th></th>\n      <th>main_product_id</th>\n      <th>productNumber</th>\n      <th>productName</th>\n      <th>productColorName</th>\n      <th>articleNumber</th>\n      <th>brand__id</th>\n      <th>mainCategory__id</th>\n      <th>gender</th>\n      <th>originCountry</th>\n      <th>line</th>\n      <th>...</th>\n      <th>heelHeightGroup</th>\n      <th>sizeEu</th>\n      <th>sizeUk</th>\n      <th>sizeIndex</th>\n      <th>shaftLength__value</th>\n      <th>sole</th>\n      <th>isTransferee</th>\n      <th>isSuccessor</th>\n      <th>duplicate_product__ids</th>\n      <th>product_sizes</th>\n    </tr>\n  </thead>\n  <tbody>\n    <tr>\n      <th>1581</th>\n      <td>7023883</td>\n      <td>4064032477885</td>\n      <td>Winterstiefelette Glattleder</td>\n      <td></td>\n      <td>72.802.93</td>\n      <td>6590678</td>\n      <td>315580</td>\n      <td>w</td>\n      <td>PT</td>\n      <td>H-W</td>\n      <td>...</td>\n      <td>5 cm - 8 cm</td>\n      <td>44.0</td>\n      <td>9.5</td>\n      <td>17.0</td>\n      <td>26.0</td>\n      <td>TR</td>\n      <td>0.0</td>\n      <td>0.0</td>\n      <td>[7023883, 7023906, 7016032, 6902928, 7023753, ...</td>\n      <td>[35.0, 35.5, 36.0, 37.0, 37.5, 38.0, 38.5, 39....</td>\n    </tr>\n  </tbody>\n</table>\n<p>1 rows × 56 columns</p>\n</div>"
     },
     "metadata": {},
     "output_type": "display_data"
    },
    {
     "name": "stdout",
     "output_type": "stream",
     "text": [
      "predicted products: \n"
     ]
    },
    {
     "data": {
      "text/plain": "      main_product_id  productNumber                         productName  \\\n73            3482626  4062862094234  Elegante Stiefelette Rauleder blau   \n209           3711826  4062862152453               Slipper Rauleder gelb   \n212            473303  4056067169200       Pantolette Glattleder schwarz   \n592           4076732  4062862354253         Plateau Pumps Textil silber   \n1581          7023883  4064032477885        Winterstiefelette Glattleder   \n\n     productColorName articleNumber  brand__id  mainCategory__id gender  \\\n73               blau     52.930.46    6590678            315579      w   \n209              gelb     52.444.33    6590678            315576      w   \n212           schwarz     03.705.27    6590677            315572      w   \n592            silber     51.270.60    6590677            315569      w   \n1581                      72.802.93    6590678            315580      w   \n\n     originCountry line  ...  heelHeightGroup sizeEu  sizeUk  sizeIndex  \\\n73              PT  H-W  ...      5 cm - 8 cm   37.0     4.0        6.0   \n209             PT  H-W  ...         bis 3 cm   40.0     6.5       11.0   \n212             SK  F-S  ...         bis 3 cm   45.0    10.5       13.0   \n592             PT  H-W  ...     8 cm - 10 cm   41.0     7.5       13.0   \n1581            PT  H-W  ...      5 cm - 8 cm   44.0     9.5       17.0   \n\n      shaftLength__value   sole  isTransferee isSuccessor  \\\n73                  15.0  Gummi           0.0         0.0   \n209                  0.0    EVA           0.0         0.0   \n212                  0.0  Gummi           0.0         0.0   \n592                  0.0    EVA           1.0         1.0   \n1581                26.0     TR           0.0         0.0   \n\n                                 duplicate_product__ids  \\\n73    [3482626, 3482623, 3482634, 3475686, 3694305, ...   \n209   [3711826, 3711829, 3711825, 3711822, 3711830, ...   \n212   [473303, 4774130, 4774131, 4774135, 4774134, 4...   \n592   [4076732, 4076723, 7590570, 7590568, 7590573, ...   \n1581  [7023883, 7023906, 7016032, 6902928, 7023753, ...   \n\n                                          product_sizes  \n73    [35.0, 35.5, 36.0, 37.0, 37.5, 38.0, 38.5, 39....  \n209   [35.0, 35.5, 36.0, 37.0, 37.5, 38.0, 38.5, 39....  \n212   [35.0, 35.5, 36.0, 37.0, 37.5, 38.0, 38.5, 39....  \n592   [35.0, 35.5, 36.0, 37.0, 37.5, 38.0, 38.5, 39....  \n1581  [35.0, 35.5, 36.0, 37.0, 37.5, 38.0, 38.5, 39....  \n\n[5 rows x 56 columns]",
      "text/html": "<div>\n<style scoped>\n    .dataframe tbody tr th:only-of-type {\n        vertical-align: middle;\n    }\n\n    .dataframe tbody tr th {\n        vertical-align: top;\n    }\n\n    .dataframe thead th {\n        text-align: right;\n    }\n</style>\n<table border=\"1\" class=\"dataframe\">\n  <thead>\n    <tr style=\"text-align: right;\">\n      <th></th>\n      <th>main_product_id</th>\n      <th>productNumber</th>\n      <th>productName</th>\n      <th>productColorName</th>\n      <th>articleNumber</th>\n      <th>brand__id</th>\n      <th>mainCategory__id</th>\n      <th>gender</th>\n      <th>originCountry</th>\n      <th>line</th>\n      <th>...</th>\n      <th>heelHeightGroup</th>\n      <th>sizeEu</th>\n      <th>sizeUk</th>\n      <th>sizeIndex</th>\n      <th>shaftLength__value</th>\n      <th>sole</th>\n      <th>isTransferee</th>\n      <th>isSuccessor</th>\n      <th>duplicate_product__ids</th>\n      <th>product_sizes</th>\n    </tr>\n  </thead>\n  <tbody>\n    <tr>\n      <th>73</th>\n      <td>3482626</td>\n      <td>4062862094234</td>\n      <td>Elegante Stiefelette Rauleder blau</td>\n      <td>blau</td>\n      <td>52.930.46</td>\n      <td>6590678</td>\n      <td>315579</td>\n      <td>w</td>\n      <td>PT</td>\n      <td>H-W</td>\n      <td>...</td>\n      <td>5 cm - 8 cm</td>\n      <td>37.0</td>\n      <td>4.0</td>\n      <td>6.0</td>\n      <td>15.0</td>\n      <td>Gummi</td>\n      <td>0.0</td>\n      <td>0.0</td>\n      <td>[3482626, 3482623, 3482634, 3475686, 3694305, ...</td>\n      <td>[35.0, 35.5, 36.0, 37.0, 37.5, 38.0, 38.5, 39....</td>\n    </tr>\n    <tr>\n      <th>209</th>\n      <td>3711826</td>\n      <td>4062862152453</td>\n      <td>Slipper Rauleder gelb</td>\n      <td>gelb</td>\n      <td>52.444.33</td>\n      <td>6590678</td>\n      <td>315576</td>\n      <td>w</td>\n      <td>PT</td>\n      <td>H-W</td>\n      <td>...</td>\n      <td>bis 3 cm</td>\n      <td>40.0</td>\n      <td>6.5</td>\n      <td>11.0</td>\n      <td>0.0</td>\n      <td>EVA</td>\n      <td>0.0</td>\n      <td>0.0</td>\n      <td>[3711826, 3711829, 3711825, 3711822, 3711830, ...</td>\n      <td>[35.0, 35.5, 36.0, 37.0, 37.5, 38.0, 38.5, 39....</td>\n    </tr>\n    <tr>\n      <th>212</th>\n      <td>473303</td>\n      <td>4056067169200</td>\n      <td>Pantolette Glattleder schwarz</td>\n      <td>schwarz</td>\n      <td>03.705.27</td>\n      <td>6590677</td>\n      <td>315572</td>\n      <td>w</td>\n      <td>SK</td>\n      <td>F-S</td>\n      <td>...</td>\n      <td>bis 3 cm</td>\n      <td>45.0</td>\n      <td>10.5</td>\n      <td>13.0</td>\n      <td>0.0</td>\n      <td>Gummi</td>\n      <td>0.0</td>\n      <td>0.0</td>\n      <td>[473303, 4774130, 4774131, 4774135, 4774134, 4...</td>\n      <td>[35.0, 35.5, 36.0, 37.0, 37.5, 38.0, 38.5, 39....</td>\n    </tr>\n    <tr>\n      <th>592</th>\n      <td>4076732</td>\n      <td>4062862354253</td>\n      <td>Plateau Pumps Textil silber</td>\n      <td>silber</td>\n      <td>51.270.60</td>\n      <td>6590677</td>\n      <td>315569</td>\n      <td>w</td>\n      <td>PT</td>\n      <td>H-W</td>\n      <td>...</td>\n      <td>8 cm - 10 cm</td>\n      <td>41.0</td>\n      <td>7.5</td>\n      <td>13.0</td>\n      <td>0.0</td>\n      <td>EVA</td>\n      <td>1.0</td>\n      <td>1.0</td>\n      <td>[4076732, 4076723, 7590570, 7590568, 7590573, ...</td>\n      <td>[35.0, 35.5, 36.0, 37.0, 37.5, 38.0, 38.5, 39....</td>\n    </tr>\n    <tr>\n      <th>1581</th>\n      <td>7023883</td>\n      <td>4064032477885</td>\n      <td>Winterstiefelette Glattleder</td>\n      <td></td>\n      <td>72.802.93</td>\n      <td>6590678</td>\n      <td>315580</td>\n      <td>w</td>\n      <td>PT</td>\n      <td>H-W</td>\n      <td>...</td>\n      <td>5 cm - 8 cm</td>\n      <td>44.0</td>\n      <td>9.5</td>\n      <td>17.0</td>\n      <td>26.0</td>\n      <td>TR</td>\n      <td>0.0</td>\n      <td>0.0</td>\n      <td>[7023883, 7023906, 7016032, 6902928, 7023753, ...</td>\n      <td>[35.0, 35.5, 36.0, 37.0, 37.5, 38.0, 38.5, 39....</td>\n    </tr>\n  </tbody>\n</table>\n<p>5 rows × 56 columns</p>\n</div>"
     },
     "metadata": {},
     "output_type": "display_data"
    },
    {
     "name": "stdout",
     "output_type": "stream",
     "text": [
      "[0.15084544 0.10237454 0.0871102  0.0858334  0.08464959] [7023883 3482626 3711826 4076732  473303]\n",
      "Minimum Score: 0.026631314307451248\n",
      "Maximum Score: 0.31545016169548035\n",
      "Average Score: 0.09598548710346222\n",
      "Catalog Coverage: 90.27% (Unique recommended items 1243 / Total catalog items 1377)\n"
     ]
    }
   ],
   "source": [
    "def calculate_coverage_and_scores(user_ids, total_items_count, example_user_id):\n",
    "    all_scores = []\n",
    "    all_predicted_product_ids = []  # Use a set to track unique recommended items\n",
    "\n",
    "    for user_id in user_ids:\n",
    "        # Call the prediction function for each user\n",
    "        score, predicted_product_ids = index(np.array([user_id]))\n",
    "        if user_id == example_user_id:\n",
    "            print('predicting user: ', user_id)\n",
    "            display_products_by_customer_id(user_id)\n",
    "            print('predicted products: ')\n",
    "            display_item_ids(predicted_product_ids[0].numpy())\n",
    "            print(score[0].numpy(), predicted_product_ids[0].numpy())\n",
    "\n",
    "        # Append the scores to the all_scores list\n",
    "        all_scores.extend(score[0].numpy())\n",
    "\n",
    "        # Update the set of all unique predicted product IDs\n",
    "        all_predicted_product_ids.extend(predicted_product_ids[0].numpy())\n",
    "\n",
    "    # Calculate min, max, and average scores\n",
    "    min_score = np.min(all_scores)\n",
    "    max_score = np.max(all_scores)\n",
    "    avg_score = np.mean(all_scores)\n",
    "\n",
    "    # Calculate item coverage and catalog coverage\n",
    "    num_unique_items = len(np.unique(all_predicted_product_ids))\n",
    "    catalog_coverage = num_unique_items / total_items_count\n",
    "\n",
    "    # Print the results\n",
    "    print(f\"Minimum Score: {min_score}\")\n",
    "    print(f\"Maximum Score: {max_score}\")\n",
    "    print(f\"Average Score: {avg_score}\")\n",
    "    print(f\"Catalog Coverage: {catalog_coverage:.2%} (Unique recommended items {num_unique_items} / Total catalog items {total_items_count})\")\n",
    "\n",
    "    return min_score, max_score, avg_score, catalog_coverage, all_predicted_product_ids\n",
    "\n",
    "# Example usage\n",
    "total_items_count = len(pandas_interaction_data.main_product_id.unique())\n",
    "\n",
    "user_ids = pandas_interaction_data.customer_id.unique()\n",
    "test_user_id = 7347782\n",
    "min_score, max_score, avg_score, catalog_coverage, all_predicted_product_ids = calculate_coverage_and_scores(user_ids, total_items_count, test_user_id)\n",
    "3"
   ],
   "metadata": {
    "collapsed": false,
    "ExecuteTime": {
     "end_time": "2023-12-02T08:40:27.439755Z",
     "start_time": "2023-12-02T08:39:59.485083Z"
    }
   },
   "id": "33c4fcd0ef2dd9cc"
  },
  {
   "cell_type": "code",
   "execution_count": 33,
   "outputs": [],
   "source": [],
   "metadata": {
    "collapsed": false,
    "ExecuteTime": {
     "end_time": "2023-12-02T08:40:27.440837Z",
     "start_time": "2023-12-02T08:40:27.439888Z"
    }
   },
   "id": "537f17b71ce3848f"
  }
 ],
 "metadata": {
  "kernelspec": {
   "display_name": "Python 3",
   "language": "python",
   "name": "python3"
  },
  "language_info": {
   "codemirror_mode": {
    "name": "ipython",
    "version": 2
   },
   "file_extension": ".py",
   "mimetype": "text/x-python",
   "name": "python",
   "nbconvert_exporter": "python",
   "pygments_lexer": "ipython2",
   "version": "2.7.6"
  }
 },
 "nbformat": 4,
 "nbformat_minor": 5
}
