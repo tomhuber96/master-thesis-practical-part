{
 "cells": [
  {
   "cell_type": "code",
   "execution_count": 2,
   "id": "initial_id",
   "metadata": {
    "collapsed": true,
    "ExecuteTime": {
     "end_time": "2023-12-01T18:41:27.979554Z",
     "start_time": "2023-12-01T18:41:25.767965Z"
    }
   },
   "outputs": [],
   "source": [
    "#%pip install -q tensorflow-recommenders\n",
    "import tensorflow as tf\n",
    "import pandas as pd\n",
    "from tensorflow.keras.layers import Embedding, Dense\n",
    "from tensorflow.keras import Sequential\n",
    "import tensorflow_recommenders as tfrs\n",
    "from tensorflow.keras.metrics import AUC\n",
    "import math\n",
    "import numpy as np\n",
    "\n"
   ]
  },
  {
   "cell_type": "code",
   "execution_count": 3,
   "outputs": [
    {
     "name": "stdout",
     "output_type": "stream",
     "text": [
      "GPU is available\n"
     ]
    }
   ],
   "source": [
    "if tf.config.list_physical_devices('GPU'):\n",
    "    print(\"GPU is available\")\n",
    "else:\n",
    "    print(\"GPU is not available\")"
   ],
   "metadata": {
    "collapsed": false,
    "ExecuteTime": {
     "end_time": "2023-12-01T18:41:27.984Z",
     "start_time": "2023-12-01T18:41:27.980553Z"
    }
   },
   "id": "89849bbf9d8a3d88"
  },
  {
   "cell_type": "code",
   "execution_count": 4,
   "outputs": [
    {
     "data": {
      "text/plain": "        customer_id  main_product_id  amount\n325791      7347782          7023883       1\n133655      4395746          4233880       1\n128155      4315328          4234094       1\n231063      5839435          5015580       1\n42949       2070488          3480813       1\n...             ...              ...     ...\n187060      5196436          4823122       1\n471462      9626549          3846282       1\n79554       2204900          4773983       1\n158028      4807671          3849864       1\n52893       2110179          3692883       1\n\n[10000 rows x 3 columns]",
      "text/html": "<div>\n<style scoped>\n    .dataframe tbody tr th:only-of-type {\n        vertical-align: middle;\n    }\n\n    .dataframe tbody tr th {\n        vertical-align: top;\n    }\n\n    .dataframe thead th {\n        text-align: right;\n    }\n</style>\n<table border=\"1\" class=\"dataframe\">\n  <thead>\n    <tr style=\"text-align: right;\">\n      <th></th>\n      <th>customer_id</th>\n      <th>main_product_id</th>\n      <th>amount</th>\n    </tr>\n  </thead>\n  <tbody>\n    <tr>\n      <th>325791</th>\n      <td>7347782</td>\n      <td>7023883</td>\n      <td>1</td>\n    </tr>\n    <tr>\n      <th>133655</th>\n      <td>4395746</td>\n      <td>4233880</td>\n      <td>1</td>\n    </tr>\n    <tr>\n      <th>128155</th>\n      <td>4315328</td>\n      <td>4234094</td>\n      <td>1</td>\n    </tr>\n    <tr>\n      <th>231063</th>\n      <td>5839435</td>\n      <td>5015580</td>\n      <td>1</td>\n    </tr>\n    <tr>\n      <th>42949</th>\n      <td>2070488</td>\n      <td>3480813</td>\n      <td>1</td>\n    </tr>\n    <tr>\n      <th>...</th>\n      <td>...</td>\n      <td>...</td>\n      <td>...</td>\n    </tr>\n    <tr>\n      <th>187060</th>\n      <td>5196436</td>\n      <td>4823122</td>\n      <td>1</td>\n    </tr>\n    <tr>\n      <th>471462</th>\n      <td>9626549</td>\n      <td>3846282</td>\n      <td>1</td>\n    </tr>\n    <tr>\n      <th>79554</th>\n      <td>2204900</td>\n      <td>4773983</td>\n      <td>1</td>\n    </tr>\n    <tr>\n      <th>158028</th>\n      <td>4807671</td>\n      <td>3849864</td>\n      <td>1</td>\n    </tr>\n    <tr>\n      <th>52893</th>\n      <td>2110179</td>\n      <td>3692883</td>\n      <td>1</td>\n    </tr>\n  </tbody>\n</table>\n<p>10000 rows × 3 columns</p>\n</div>"
     },
     "metadata": {},
     "output_type": "display_data"
    },
    {
     "data": {
      "text/plain": "      main_product_id  productNumber  \\\n0              557559  4058394021466   \n1              551622  4054452768212   \n2              547193  4054452768427   \n3              549776  4059701687894   \n4              550726  4054452851594   \n...               ...            ...   \n3292         10603553  4066558951733   \n3293         10442948  4065171827272   \n3294         10782704  4251234499207   \n3295         10679703  4066558303617   \n3296         10496278  4065171812513   \n\n                                            productName productColorName  \\\n0              sportliche Ballerinas Glattleder schwarz          schwarz   \n1                     elegante Pumps Glattleder schwarz          schwarz   \n2                            Slipper Glattleder schwarz          schwarz   \n3                             Sneaker low Rauleder blau             blau   \n4     elegante Ballerinas Materialmix Lederimitat sc...          schwarz   \n...                                                 ...              ...   \n3292                Sandale met plateauzool Suède blauw            blauw   \n3293                    Mokassin Materialmix Leder pink             pink   \n3294                                 Shopper ANDIE blau             blau   \n3295                       Elegante pumps Glad leer wit              wit   \n3296                       Sandale compensée Daim beige            beige   \n\n     articleNumber  brand__id  mainCategory__id gender originCountry     line  \\\n0        02.643.57    6590678            315571      w            PT  F-S|H-W   \n1        05.160.37    6590677            315573      w            PT  F-S|H-W   \n2        04.443.27    6590677            315576      w            SK  F-S|H-W   \n3        06.968.46    4997827            315567      w            VN  F-S|H-W   \n4        06.102.67    6590678            315574      w            SK  F-S|H-W   \n...            ...        ...               ...    ...           ...      ...   \n3292     24.764.36    6590677            315568      w            SK      F-S   \n3293     26.090.21    6590678            315590      w            PT      F-S   \n3294        921453     363013            363017      w            DE      F-S   \n3295     21.450.60    6590677            315573      w            PT      F-S   \n3296     24.645.14    6590677            315564      w            PT      F-S   \n\n      ...  heelHeightGroup sizeEu  sizeUk  sizeIndex  shaftLength__value  \\\n0     ...         bis 3 cm   40.0     6.5       11.0                 0.0   \n1     ...      3 cm - 5 cm   38.0     5.0        8.0                 0.0   \n2     ...      3 cm - 5 cm   42.0     8.0       14.0                 0.0   \n3     ...      3 cm - 5 cm   39.0     6.0       10.0                 0.0   \n4     ...         bis 3 cm   37.5     4.5        7.0                 0.0   \n...   ...              ...    ...     ...        ...                 ...   \n3292  ...      5 cm - 8 cm   35.0     2.5        3.0                 0.0   \n3293  ...         bis 3 cm   40.5     7.0       12.0                 0.0   \n3294  ...              NaN    NaN     NaN        NaN                 NaN   \n3295  ...      5 cm - 8 cm   35.0     2.5        3.0                 0.0   \n3296  ...      5 cm - 8 cm   38.0     5.0        8.0                 0.0   \n\n           sole  isTransferee isSuccessor  \\\n0         Gummi           0.0         0.0   \n1           EVA           0.0         0.0   \n2        PU-TPU           0.0         0.0   \n3     Gummi-EVA           0.0         0.0   \n4           EVA           0.0         0.0   \n...         ...           ...         ...   \n3292     PU-TPU           0.0         0.0   \n3293      Gummi           0.0         0.0   \n3294        NaN           NaN         NaN   \n3295        TPU           0.0         0.0   \n3296         TR           0.0         0.0   \n\n                                 duplicate_product__ids  \\\n0     [557559, 549733, 549734, 557553, 589488, 58948...   \n1     [551622, 551505, 551510, 551509, 552973, 55162...   \n2     [547193, 547191, 547196, 547187, 547189, 54719...   \n3     [549776, 550599, 550596, 550593, 550601, 54978...   \n4     [550726, 550736, 550735, 550732, 550728, 55072...   \n...                                                 ...   \n3292                               [10603553, 10544662]   \n3293                               [10442948, 10442949]   \n3294                                         [10782704]   \n3295                                         [10679703]   \n3296                                         [10496278]   \n\n                                          product_sizes  \n0     [35.5, 36.0, 37.0, 37.5, 38.0, 38.5, 39.0, 40....  \n1     [35.0, 35.5, 36.0, 37.0, 37.5, 38.0, 38.5, 39....  \n2     [35.0, 35.5, 36.0, 37.0, 37.5, 38.0, 38.5, 39....  \n3     [35.0, 35.5, 36.0, 37.0, 37.5, 38.0, 38.5, 39....  \n4     [35.0, 37.0, 37.5, 38.0, 38.5, 39.0, 40.0, 40....  \n...                                                 ...  \n3292                                       [35.0, 37.0]  \n3293                                       [40.5, 41.0]  \n3294                                                 []  \n3295                                             [35.0]  \n3296                                             [38.0]  \n\n[3297 rows x 56 columns]",
      "text/html": "<div>\n<style scoped>\n    .dataframe tbody tr th:only-of-type {\n        vertical-align: middle;\n    }\n\n    .dataframe tbody tr th {\n        vertical-align: top;\n    }\n\n    .dataframe thead th {\n        text-align: right;\n    }\n</style>\n<table border=\"1\" class=\"dataframe\">\n  <thead>\n    <tr style=\"text-align: right;\">\n      <th></th>\n      <th>main_product_id</th>\n      <th>productNumber</th>\n      <th>productName</th>\n      <th>productColorName</th>\n      <th>articleNumber</th>\n      <th>brand__id</th>\n      <th>mainCategory__id</th>\n      <th>gender</th>\n      <th>originCountry</th>\n      <th>line</th>\n      <th>...</th>\n      <th>heelHeightGroup</th>\n      <th>sizeEu</th>\n      <th>sizeUk</th>\n      <th>sizeIndex</th>\n      <th>shaftLength__value</th>\n      <th>sole</th>\n      <th>isTransferee</th>\n      <th>isSuccessor</th>\n      <th>duplicate_product__ids</th>\n      <th>product_sizes</th>\n    </tr>\n  </thead>\n  <tbody>\n    <tr>\n      <th>0</th>\n      <td>557559</td>\n      <td>4058394021466</td>\n      <td>sportliche Ballerinas Glattleder schwarz</td>\n      <td>schwarz</td>\n      <td>02.643.57</td>\n      <td>6590678</td>\n      <td>315571</td>\n      <td>w</td>\n      <td>PT</td>\n      <td>F-S|H-W</td>\n      <td>...</td>\n      <td>bis 3 cm</td>\n      <td>40.0</td>\n      <td>6.5</td>\n      <td>11.0</td>\n      <td>0.0</td>\n      <td>Gummi</td>\n      <td>0.0</td>\n      <td>0.0</td>\n      <td>[557559, 549733, 549734, 557553, 589488, 58948...</td>\n      <td>[35.5, 36.0, 37.0, 37.5, 38.0, 38.5, 39.0, 40....</td>\n    </tr>\n    <tr>\n      <th>1</th>\n      <td>551622</td>\n      <td>4054452768212</td>\n      <td>elegante Pumps Glattleder schwarz</td>\n      <td>schwarz</td>\n      <td>05.160.37</td>\n      <td>6590677</td>\n      <td>315573</td>\n      <td>w</td>\n      <td>PT</td>\n      <td>F-S|H-W</td>\n      <td>...</td>\n      <td>3 cm - 5 cm</td>\n      <td>38.0</td>\n      <td>5.0</td>\n      <td>8.0</td>\n      <td>0.0</td>\n      <td>EVA</td>\n      <td>0.0</td>\n      <td>0.0</td>\n      <td>[551622, 551505, 551510, 551509, 552973, 55162...</td>\n      <td>[35.0, 35.5, 36.0, 37.0, 37.5, 38.0, 38.5, 39....</td>\n    </tr>\n    <tr>\n      <th>2</th>\n      <td>547193</td>\n      <td>4054452768427</td>\n      <td>Slipper Glattleder schwarz</td>\n      <td>schwarz</td>\n      <td>04.443.27</td>\n      <td>6590677</td>\n      <td>315576</td>\n      <td>w</td>\n      <td>SK</td>\n      <td>F-S|H-W</td>\n      <td>...</td>\n      <td>3 cm - 5 cm</td>\n      <td>42.0</td>\n      <td>8.0</td>\n      <td>14.0</td>\n      <td>0.0</td>\n      <td>PU-TPU</td>\n      <td>0.0</td>\n      <td>0.0</td>\n      <td>[547193, 547191, 547196, 547187, 547189, 54719...</td>\n      <td>[35.0, 35.5, 36.0, 37.0, 37.5, 38.0, 38.5, 39....</td>\n    </tr>\n    <tr>\n      <th>3</th>\n      <td>549776</td>\n      <td>4059701687894</td>\n      <td>Sneaker low Rauleder blau</td>\n      <td>blau</td>\n      <td>06.968.46</td>\n      <td>4997827</td>\n      <td>315567</td>\n      <td>w</td>\n      <td>VN</td>\n      <td>F-S|H-W</td>\n      <td>...</td>\n      <td>3 cm - 5 cm</td>\n      <td>39.0</td>\n      <td>6.0</td>\n      <td>10.0</td>\n      <td>0.0</td>\n      <td>Gummi-EVA</td>\n      <td>0.0</td>\n      <td>0.0</td>\n      <td>[549776, 550599, 550596, 550593, 550601, 54978...</td>\n      <td>[35.0, 35.5, 36.0, 37.0, 37.5, 38.0, 38.5, 39....</td>\n    </tr>\n    <tr>\n      <th>4</th>\n      <td>550726</td>\n      <td>4054452851594</td>\n      <td>elegante Ballerinas Materialmix Lederimitat sc...</td>\n      <td>schwarz</td>\n      <td>06.102.67</td>\n      <td>6590678</td>\n      <td>315574</td>\n      <td>w</td>\n      <td>SK</td>\n      <td>F-S|H-W</td>\n      <td>...</td>\n      <td>bis 3 cm</td>\n      <td>37.5</td>\n      <td>4.5</td>\n      <td>7.0</td>\n      <td>0.0</td>\n      <td>EVA</td>\n      <td>0.0</td>\n      <td>0.0</td>\n      <td>[550726, 550736, 550735, 550732, 550728, 55072...</td>\n      <td>[35.0, 37.0, 37.5, 38.0, 38.5, 39.0, 40.0, 40....</td>\n    </tr>\n    <tr>\n      <th>...</th>\n      <td>...</td>\n      <td>...</td>\n      <td>...</td>\n      <td>...</td>\n      <td>...</td>\n      <td>...</td>\n      <td>...</td>\n      <td>...</td>\n      <td>...</td>\n      <td>...</td>\n      <td>...</td>\n      <td>...</td>\n      <td>...</td>\n      <td>...</td>\n      <td>...</td>\n      <td>...</td>\n      <td>...</td>\n      <td>...</td>\n      <td>...</td>\n      <td>...</td>\n      <td>...</td>\n    </tr>\n    <tr>\n      <th>3292</th>\n      <td>10603553</td>\n      <td>4066558951733</td>\n      <td>Sandale met plateauzool Suède blauw</td>\n      <td>blauw</td>\n      <td>24.764.36</td>\n      <td>6590677</td>\n      <td>315568</td>\n      <td>w</td>\n      <td>SK</td>\n      <td>F-S</td>\n      <td>...</td>\n      <td>5 cm - 8 cm</td>\n      <td>35.0</td>\n      <td>2.5</td>\n      <td>3.0</td>\n      <td>0.0</td>\n      <td>PU-TPU</td>\n      <td>0.0</td>\n      <td>0.0</td>\n      <td>[10603553, 10544662]</td>\n      <td>[35.0, 37.0]</td>\n    </tr>\n    <tr>\n      <th>3293</th>\n      <td>10442948</td>\n      <td>4065171827272</td>\n      <td>Mokassin Materialmix Leder pink</td>\n      <td>pink</td>\n      <td>26.090.21</td>\n      <td>6590678</td>\n      <td>315590</td>\n      <td>w</td>\n      <td>PT</td>\n      <td>F-S</td>\n      <td>...</td>\n      <td>bis 3 cm</td>\n      <td>40.5</td>\n      <td>7.0</td>\n      <td>12.0</td>\n      <td>0.0</td>\n      <td>Gummi</td>\n      <td>0.0</td>\n      <td>0.0</td>\n      <td>[10442948, 10442949]</td>\n      <td>[40.5, 41.0]</td>\n    </tr>\n    <tr>\n      <th>3294</th>\n      <td>10782704</td>\n      <td>4251234499207</td>\n      <td>Shopper ANDIE blau</td>\n      <td>blau</td>\n      <td>921453</td>\n      <td>363013</td>\n      <td>363017</td>\n      <td>w</td>\n      <td>DE</td>\n      <td>F-S</td>\n      <td>...</td>\n      <td>NaN</td>\n      <td>NaN</td>\n      <td>NaN</td>\n      <td>NaN</td>\n      <td>NaN</td>\n      <td>NaN</td>\n      <td>NaN</td>\n      <td>NaN</td>\n      <td>[10782704]</td>\n      <td>[]</td>\n    </tr>\n    <tr>\n      <th>3295</th>\n      <td>10679703</td>\n      <td>4066558303617</td>\n      <td>Elegante pumps Glad leer wit</td>\n      <td>wit</td>\n      <td>21.450.60</td>\n      <td>6590677</td>\n      <td>315573</td>\n      <td>w</td>\n      <td>PT</td>\n      <td>F-S</td>\n      <td>...</td>\n      <td>5 cm - 8 cm</td>\n      <td>35.0</td>\n      <td>2.5</td>\n      <td>3.0</td>\n      <td>0.0</td>\n      <td>TPU</td>\n      <td>0.0</td>\n      <td>0.0</td>\n      <td>[10679703]</td>\n      <td>[35.0]</td>\n    </tr>\n    <tr>\n      <th>3296</th>\n      <td>10496278</td>\n      <td>4065171812513</td>\n      <td>Sandale compensée Daim beige</td>\n      <td>beige</td>\n      <td>24.645.14</td>\n      <td>6590677</td>\n      <td>315564</td>\n      <td>w</td>\n      <td>PT</td>\n      <td>F-S</td>\n      <td>...</td>\n      <td>5 cm - 8 cm</td>\n      <td>38.0</td>\n      <td>5.0</td>\n      <td>8.0</td>\n      <td>0.0</td>\n      <td>TR</td>\n      <td>0.0</td>\n      <td>0.0</td>\n      <td>[10496278]</td>\n      <td>[38.0]</td>\n    </tr>\n  </tbody>\n</table>\n<p>3297 rows × 56 columns</p>\n</div>"
     },
     "metadata": {},
     "output_type": "display_data"
    }
   ],
   "source": [
    "# Load data\n",
    "basepath = '../../datasets/preprocessed_datasets/gabor/'\n",
    "pandas_interaction_data = pd.read_pickle(basepath + 'user_item_interactions_only_main_products_10k.pkl')\n",
    "#pandas_interaction_data = pandas_interaction_data.sample(1000)\n",
    "pandas_interaction_data.amount = pandas_interaction_data.amount.apply(lambda x: 1 if x > 0 else 0) \n",
    "product_data = pd.read_pickle(basepath + 'no_product_variants_with_duplicate_ids.pkl')\n",
    "pandas_interaction_data.main_product_id = pandas_interaction_data.main_product_id.astype(int)\n",
    "product_data.main_product_id = product_data.main_product_id.astype(int)\n",
    "\n",
    "display(pandas_interaction_data, product_data)"
   ],
   "metadata": {
    "collapsed": false,
    "ExecuteTime": {
     "end_time": "2023-12-01T18:41:28.023680Z",
     "start_time": "2023-12-01T18:41:27.984158Z"
    }
   },
   "id": "e008bf18a8e80e4f"
  },
  {
   "cell_type": "code",
   "execution_count": 5,
   "outputs": [],
   "source": [
    "# Create a tf.data.Dataset from the interaction data\n",
    "interaction_dataset = tf.data.Dataset.from_tensor_slices({\n",
    "    'customer_id': pandas_interaction_data['customer_id'].values,\n",
    "    'main_product_id': pandas_interaction_data['main_product_id'].values,\n",
    "    'amount': pandas_interaction_data['amount'].values\n",
    "})\n",
    "#variables \n",
    "dataset_len = pandas_interaction_data.shape[0]\n",
    "test_len = math.ceil(dataset_len * 0.2)\n",
    "train_len = dataset_len - test_len\n",
    "\n",
    "metrics_batchsize = 16\n",
    "train_batch_size = 128\n",
    "test_batch_size = 64\n",
    "random_seed = 27"
   ],
   "metadata": {
    "collapsed": false,
    "ExecuteTime": {
     "end_time": "2023-12-01T18:41:28.031216Z",
     "start_time": "2023-12-01T18:41:28.026873Z"
    }
   },
   "id": "c089ac7f029dc324"
  },
  {
   "cell_type": "code",
   "execution_count": 6,
   "outputs": [
    {
     "data": {
      "text/plain": "<_TakeDataset element_spec={'customer_id': TensorSpec(shape=(), dtype=tf.int64, name=None), 'main_product_id': TensorSpec(shape=(), dtype=tf.int64, name=None), 'amount': TensorSpec(shape=(), dtype=tf.int64, name=None)}>"
     },
     "metadata": {},
     "output_type": "display_data"
    },
    {
     "data": {
      "text/plain": "<_TakeDataset element_spec={'customer_id': TensorSpec(shape=(), dtype=tf.int64, name=None), 'main_product_id': TensorSpec(shape=(), dtype=tf.int64, name=None), 'amount': TensorSpec(shape=(), dtype=tf.int64, name=None)}>"
     },
     "metadata": {},
     "output_type": "display_data"
    }
   ],
   "source": [
    "#train test split\n",
    "tf.random.set_seed(random_seed)\n",
    "# shuffled = interaction_dataset.shuffle(len, seed=random_seed, reshuffle_each_iteration=False)\n",
    "# train = shuffled.take(train_len)\n",
    "# test = shuffled.skip(train_len).take(test_len)\n",
    "shuffled = interaction_dataset.shuffle(dataset_len, seed=random_seed, reshuffle_each_iteration=False)\n",
    "\n",
    "train = shuffled.take(train_len)\n",
    "test = shuffled.skip(train_len).take(test_len)\n",
    "display(train, test)"
   ],
   "metadata": {
    "collapsed": false,
    "ExecuteTime": {
     "end_time": "2023-12-01T18:41:28.105502Z",
     "start_time": "2023-12-01T18:41:28.035443Z"
    }
   },
   "id": "825eec174445be8c"
  },
  {
   "cell_type": "code",
   "execution_count": 7,
   "outputs": [],
   "source": [
    "# Unique customer and product identifiers\n",
    "unique_customer_ids = np.array(pandas_interaction_data[\"customer_id\"].unique())\n",
    "unique_product_ids = np.array(pandas_interaction_data[\"main_product_id\"].unique())\n",
    "\n",
    "user_ids_vocabulary = tf.keras.layers.IntegerLookup(mask_token=None)\n",
    "user_ids_vocabulary.adapt(unique_customer_ids)\n",
    "\n",
    "product_ids_vocabulary = tf.keras.layers.IntegerLookup(mask_token=None)\n",
    "product_ids_vocabulary.adapt(unique_product_ids)\n",
    "# print(unique_product_ids.shape[0], unique_customer_ids.shape[0], unique_product_ids, unique_product_ids)"
   ],
   "metadata": {
    "collapsed": false,
    "ExecuteTime": {
     "end_time": "2023-12-01T18:41:28.701545Z",
     "start_time": "2023-12-01T18:41:28.088748Z"
    }
   },
   "id": "2e2625e63cf53fce"
  },
  {
   "cell_type": "code",
   "execution_count": 8,
   "outputs": [],
   "source": [
    "# Define a model using TensorFlow Recommenders\n",
    "product_ids_dataset = tf.data.Dataset.from_tensor_slices(unique_product_ids)\n",
    "class RetailModel(tfrs.Model):\n",
    "\n",
    "    def __init__(self, unique_product_ids_vocab, unique_customer_ids_vocab, embedding_dimension=32):\n",
    "        super().__init__()\n",
    "        # Set up user and product representations\n",
    "        self.user_embedding = tf.keras.Sequential([\n",
    "            unique_customer_ids_vocab,\n",
    "            Embedding(unique_customer_ids_vocab.vocabulary_size(), embedding_dimension)\n",
    "        ])\n",
    "        self.product_embedding = tf.keras.Sequential([\n",
    "            unique_product_ids_vocab,\n",
    "            Embedding(unique_product_ids_vocab.vocabulary_size(), embedding_dimension)\n",
    "        ])\n",
    "        # Set up a dense layer for the task.\n",
    "        self.dense_layer = Dense(128, activation=\"relu\")\n",
    "        \n",
    "\n",
    "\n",
    "        # Set up retrieval task and metrics\n",
    "        self.task = tfrs.tasks.Retrieval(\n",
    "            metrics=tfrs.metrics.FactorizedTopK(candidates=product_ids_dataset.batch(metrics_batchsize).map(self.product_model))\n",
    "        )\n",
    "        self.auc_metric = AUC(name='auc')\n",
    "        self.rmse_metric = tf.keras.metrics.RootMeanSquaredError(name='rmse')\n",
    "        self.precision = tf.keras.metrics.Precision(name='precision')\n",
    "        self.recall = tf.keras.metrics.Recall(name='recall')\n",
    "\n",
    "    def product_model(self, product_ids):\n",
    "        return self.product_embedding(product_ids)\n",
    "\n",
    "    def dot_product_score(self, user, product):\n",
    "        \"\"\"\n",
    "        Computes the dot product between user and product embeddings to get the interaction score.\n",
    "        \"\"\"\n",
    "        return tf.reduce_sum(user * product, axis=1)\n",
    "\n",
    "    def compute_loss(self, features, training=False):\n",
    "        # print(features)\n",
    "        user_embeddings = self.user_embedding(features[\"customer_id\"])\n",
    "        product_embeddings = self.product_embedding(features[\"main_product_id\"])\n",
    "        \n",
    "        user_output = self.dense_layer(user_embeddings)\n",
    "        product_output = self.dense_layer(product_embeddings)\n",
    "        # This is a hypothetical function that returns the logits or scores\n",
    "        # This needs to be adapted based on your actual model\n",
    "        positive_logits = self.dot_product_score(user_output, product_output)\n",
    "\n",
    "        # Update RMSE\n",
    "        self.rmse_metric.update_state(y_true=features[\"amount\"], y_pred=positive_logits)\n",
    "\n",
    "\n",
    "        return self.task(user_output, product_output)\n",
    "\n",
    "    def evaluate(self, validation_dataset, *args, **kwargs):\n",
    "        # Call the base class's evaluate method\n",
    "        \n",
    "    \n",
    "        # Compute additional metrics\n",
    "        for features in validation_dataset:\n",
    "            user_embeddings = self.user_embedding(features[\"customer_id\"])\n",
    "            product_embeddings = self.product_embedding(features[\"main_product_id\"])\n",
    "            \n",
    "            user_output = self.dense_layer(user_embeddings)\n",
    "            product_output = self.dense_layer(product_embeddings)\n",
    "            \n",
    "            positive_logits = self.dot_product_score(user_output, product_output)\n",
    "            # Assuming you have a binary \"label\" in your dataset indicating 1 for positive interaction and 0 for negative\n",
    "            self.precision.update_state(y_true=features[\"amount\"], y_pred=positive_logits)\n",
    "            self.recall.update_state(y_true=features[\"amount\"], y_pred=positive_logits)\n",
    "    \n",
    "        precision_result = self.precision.result().numpy()\n",
    "        recall_result = self.recall.result().numpy()\n",
    "    \n",
    "        # Calculate F1 score\n",
    "        if (precision_result + recall_result) != 0:\n",
    "            f1_score = 2 * (precision_result * recall_result) / (precision_result + recall_result)\n",
    "        else:\n",
    "            f1_score = 0.0\n",
    "    \n",
    "        # Reset the metrics for the next evaluation\n",
    "        # self.precision.reset_states()\n",
    "        # self.recall.reset_states()\n",
    "        base_results = super(RetailModel, self).evaluate(validation_dataset, *args, **kwargs)\n",
    "    \n",
    "        return base_results, [precision_result, recall_result, f1_score]  # or append additional results as needed\n",
    "\n"
   ],
   "metadata": {
    "collapsed": false,
    "ExecuteTime": {
     "end_time": "2023-12-01T18:41:28.710701Z",
     "start_time": "2023-12-01T18:41:28.708138Z"
    }
   },
   "id": "378cf58a3061ecfc"
  },
  {
   "cell_type": "code",
   "execution_count": 9,
   "outputs": [],
   "source": [
    "model = RetailModel(product_ids_vocabulary, user_ids_vocabulary, embedding_dimension=128)\n",
    "model.compile(optimizer=tf.keras.optimizers.legacy.Adam(learning_rate=0.001)) # using legacy instead of tf.keras.optimizers.Adagrad, because newer version is slow on m1/m2 macs"
   ],
   "metadata": {
    "collapsed": false,
    "ExecuteTime": {
     "end_time": "2023-12-01T18:41:28.821758Z",
     "start_time": "2023-12-01T18:41:28.712539Z"
    }
   },
   "id": "5ae0c3e4d7093bf1"
  },
  {
   "cell_type": "code",
   "execution_count": 10,
   "outputs": [
    {
     "name": "stdout",
     "output_type": "stream",
     "text": [
      "Epoch 1/3\n",
      "63/63 [==============================] - 23s 352ms/step - auc: 0.0000e+00 - rmse: 0.9950 - precision: 0.0000e+00 - recall: 0.0000e+00 - factorized_top_k/top_1_categorical_accuracy: 0.0367 - factorized_top_k/top_5_categorical_accuracy: 0.0746 - factorized_top_k/top_10_categorical_accuracy: 0.1019 - factorized_top_k/top_50_categorical_accuracy: 0.1972 - factorized_top_k/top_100_categorical_accuracy: 0.2620 - loss: 609.9417 - regularization_loss: 0.0000e+00 - total_loss: 609.9417\n",
      "Epoch 2/3\n",
      "63/63 [==============================] - 24s 389ms/step - auc: 0.0000e+00 - rmse: 0.7521 - precision: 0.0000e+00 - recall: 0.0000e+00 - factorized_top_k/top_1_categorical_accuracy: 0.9550 - factorized_top_k/top_5_categorical_accuracy: 0.9754 - factorized_top_k/top_10_categorical_accuracy: 0.9800 - factorized_top_k/top_50_categorical_accuracy: 0.9910 - factorized_top_k/top_100_categorical_accuracy: 0.9942 - loss: 601.9556 - regularization_loss: 0.0000e+00 - total_loss: 601.9556\n",
      "Epoch 3/3\n",
      "63/63 [==============================] - 29s 455ms/step - auc: 0.0000e+00 - rmse: 2.9103 - precision: 0.0000e+00 - recall: 0.0000e+00 - factorized_top_k/top_1_categorical_accuracy: 1.0000 - factorized_top_k/top_5_categorical_accuracy: 1.0000 - factorized_top_k/top_10_categorical_accuracy: 1.0000 - factorized_top_k/top_50_categorical_accuracy: 1.0000 - factorized_top_k/top_100_categorical_accuracy: 1.0000 - loss: 491.2091 - regularization_loss: 0.0000e+00 - total_loss: 491.2091\n"
     ]
    },
    {
     "data": {
      "text/plain": "<keras.src.callbacks.History at 0x286cd2040>"
     },
     "execution_count": 10,
     "metadata": {},
     "output_type": "execute_result"
    }
   ],
   "source": [
    "# Shuffle, batch, and cache the data.\n",
    "cached_train = train.shuffle(dataset_len).batch(train_batch_size).cache()\n",
    "cached_test = test.batch(test_batch_size).cache()\n",
    "# Train the model\n",
    "# model.fit(cached_train, validation_data=cached_test, validation_freq=5, epochs=3)\n",
    "model.fit(cached_train, validation_freq=5, epochs=3)"
   ],
   "metadata": {
    "collapsed": false,
    "ExecuteTime": {
     "end_time": "2023-12-01T18:42:45.354047Z",
     "start_time": "2023-12-01T18:41:28.823563Z"
    }
   },
   "id": "4add146de8d83cb0"
  },
  {
   "cell_type": "code",
   "execution_count": 11,
   "outputs": [
    {
     "name": "stdout",
     "output_type": "stream",
     "text": [
      "63/63 [==============================] - 32s 499ms/step - auc: 0.0000e+00 - rmse: 7.3301 - precision: 0.0000e+00 - recall: 0.0000e+00 - factorized_top_k/top_1_categorical_accuracy: 1.0000 - factorized_top_k/top_5_categorical_accuracy: 1.0000 - factorized_top_k/top_10_categorical_accuracy: 1.0000 - factorized_top_k/top_50_categorical_accuracy: 1.0000 - factorized_top_k/top_100_categorical_accuracy: 1.0000 - loss: 280.0592 - regularization_loss: 0.0000e+00 - total_loss: 280.0592\n"
     ]
    },
    {
     "data": {
      "text/plain": "([0.0,\n  7.330105781555176,\n  0.0,\n  0.0,\n  1.0,\n  1.0,\n  1.0,\n  1.0,\n  1.0,\n  131.88229370117188,\n  0,\n  131.88229370117188],\n [1.0, 1.0, 1.0])"
     },
     "execution_count": 11,
     "metadata": {},
     "output_type": "execute_result"
    }
   ],
   "source": [
    "# Evaluate the model\n",
    "k = 5\n",
    "result_evaluate_train = model.evaluate(cached_train)\n",
    "result_evaluate_train"
   ],
   "metadata": {
    "collapsed": false,
    "ExecuteTime": {
     "end_time": "2023-12-01T18:43:17.784313Z",
     "start_time": "2023-12-01T18:42:45.354638Z"
    }
   },
   "id": "f38fbc7489d6c8ab"
  },
  {
   "cell_type": "code",
   "execution_count": 12,
   "outputs": [
    {
     "name": "stdout",
     "output_type": "stream",
     "text": [
      "32/32 [==============================] - 18s 579ms/step - auc: 0.0000e+00 - rmse: 3.2926 - precision: 0.0000e+00 - recall: 0.0000e+00 - factorized_top_k/top_1_categorical_accuracy: 1.0000 - factorized_top_k/top_5_categorical_accuracy: 1.0000 - factorized_top_k/top_10_categorical_accuracy: 1.0000 - factorized_top_k/top_50_categorical_accuracy: 1.0000 - factorized_top_k/top_100_categorical_accuracy: 1.0000 - loss: 264.7763 - regularization_loss: 0.0000e+00 - total_loss: 264.7763\n"
     ]
    },
    {
     "data": {
      "text/plain": "([0.0,\n  3.2926478385925293,\n  0.0,\n  0.0,\n  1.0,\n  1.0,\n  1.0,\n  1.0,\n  1.0,\n  45.47650146484375,\n  0,\n  45.47650146484375],\n [1.0, 1.0, 1.0])"
     },
     "execution_count": 12,
     "metadata": {},
     "output_type": "execute_result"
    }
   ],
   "source": [
    "result_evaluat_test = model.evaluate(cached_test)\n",
    "result_evaluat_test"
   ],
   "metadata": {
    "collapsed": false,
    "ExecuteTime": {
     "end_time": "2023-12-01T18:43:36.645777Z",
     "start_time": "2023-12-01T18:43:17.784798Z"
    }
   },
   "id": "a90bfb5478e24540"
  },
  {
   "cell_type": "code",
   "execution_count": 13,
   "outputs": [
    {
     "name": "stdout",
     "output_type": "stream",
     "text": [
      "Name\t\tValue\n",
      "------------------------------\n",
      "auc\t\t0.0\n",
      "rmse\t\t3.2926478385925293\n",
      "precision\t\t0.0\n",
      "recall\t\t0.0\n",
      "factorized_top_k/top_1_categorical_accuracy\t\t1.0\n",
      "factorized_top_k/top_5_categorical_accuracy\t\t1.0\n",
      "factorized_top_k/top_10_categorical_accuracy\t\t1.0\n",
      "factorized_top_k/top_50_categorical_accuracy\t\t1.0\n",
      "factorized_top_k/top_100_categorical_accuracy\t\t1.0\n",
      "AUC: 0.0\n"
     ]
    }
   ],
   "source": [
    "print(\"Name\\t\\tValue\")\n",
    "print(\"-\" * 30)\n",
    "for metric in model.metrics:\n",
    "    print(f\"{metric.name}\\t\\t{metric.result().numpy()}\")\n",
    "print(f\"AUC: {model.auc_metric.result().numpy()}\")"
   ],
   "metadata": {
    "collapsed": false,
    "ExecuteTime": {
     "end_time": "2023-12-01T18:43:36.672602Z",
     "start_time": "2023-12-01T18:43:36.642191Z"
    }
   },
   "id": "2dc815d6547dfefe"
  },
  {
   "cell_type": "code",
   "execution_count": 14,
   "outputs": [
    {
     "data": {
      "text/plain": "array([ 4275416,  5191936,  9181415,  2035007,  8891134, 10874927,\n        8610367,  3736938,  1957983,  6480012,  1958913,  8908474,\n        7285710,  8867556,  6373394,  2196344,  8446599,  1948734,\n        6525510,  7553474,  9446582,  9965105,  2142504, 10860996,\n        8121725, 10145415,  9108029, 10511849, 10170223, 10270040,\n        6456133,  5530970,  3959734,  7019456,  9736062,  4100439,\n        5318358,  9834638,  6798151,  2116409,  2032193,  8118166,\n        7410488,  8147869,  9441353,  9971211,  8582644,  8657464,\n        6799071, 10017324,  8062560,  4460873,  1992810,  7887224,\n        9153335,  2006015,  8272020, 10112803,  6568213,  4336120,\n        2083624, 10633283,  2201167,  8185718])"
     },
     "execution_count": 14,
     "metadata": {},
     "output_type": "execute_result"
    }
   ],
   "source": [
    "sample = next(iter(cached_test.take(1)))\n",
    "\n",
    "# Extract customer_id from the sample\n",
    "customer_id = sample['customer_id'].numpy()\n",
    "customer_id"
   ],
   "metadata": {
    "collapsed": false,
    "ExecuteTime": {
     "end_time": "2023-12-01T18:43:36.677500Z",
     "start_time": "2023-12-01T18:43:36.659014Z"
    }
   },
   "id": "d293fa87e3fe5b52"
  },
  {
   "cell_type": "code",
   "execution_count": 15,
   "outputs": [
    {
     "name": "stdout",
     "output_type": "stream",
     "text": [
      "predicting user:  4275416\n",
      "user already bought following products: \n"
     ]
    },
    {
     "data": {
      "text/plain": "     main_product_id  productNumber                         productName  \\\n512          4134223  4062862442301  Elegante Stiefelette Rauleder gelb   \n\n    productColorName articleNumber  brand__id  mainCategory__id gender  \\\n512             gelb     51.800.13    6590677           5014851      w   \n\n    originCountry line  ...  heelHeightGroup sizeEu  sizeUk  sizeIndex  \\\n512            SK  H-W  ...      3 cm - 5 cm   38.0     5.0        8.0   \n\n     shaftLength__value  sole  isTransferee isSuccessor  \\\n512                23.0   EVA           0.0         0.0   \n\n                                duplicate_product__ids  \\\n512  [4134223, 4134220, 4222459, 4134229, 4222456, ...   \n\n                                         product_sizes  \n512  [35.0, 36.0, 37.0, 37.5, 38.0, 38.5, 39.0, 40....  \n\n[1 rows x 56 columns]",
      "text/html": "<div>\n<style scoped>\n    .dataframe tbody tr th:only-of-type {\n        vertical-align: middle;\n    }\n\n    .dataframe tbody tr th {\n        vertical-align: top;\n    }\n\n    .dataframe thead th {\n        text-align: right;\n    }\n</style>\n<table border=\"1\" class=\"dataframe\">\n  <thead>\n    <tr style=\"text-align: right;\">\n      <th></th>\n      <th>main_product_id</th>\n      <th>productNumber</th>\n      <th>productName</th>\n      <th>productColorName</th>\n      <th>articleNumber</th>\n      <th>brand__id</th>\n      <th>mainCategory__id</th>\n      <th>gender</th>\n      <th>originCountry</th>\n      <th>line</th>\n      <th>...</th>\n      <th>heelHeightGroup</th>\n      <th>sizeEu</th>\n      <th>sizeUk</th>\n      <th>sizeIndex</th>\n      <th>shaftLength__value</th>\n      <th>sole</th>\n      <th>isTransferee</th>\n      <th>isSuccessor</th>\n      <th>duplicate_product__ids</th>\n      <th>product_sizes</th>\n    </tr>\n  </thead>\n  <tbody>\n    <tr>\n      <th>512</th>\n      <td>4134223</td>\n      <td>4062862442301</td>\n      <td>Elegante Stiefelette Rauleder gelb</td>\n      <td>gelb</td>\n      <td>51.800.13</td>\n      <td>6590677</td>\n      <td>5014851</td>\n      <td>w</td>\n      <td>SK</td>\n      <td>H-W</td>\n      <td>...</td>\n      <td>3 cm - 5 cm</td>\n      <td>38.0</td>\n      <td>5.0</td>\n      <td>8.0</td>\n      <td>23.0</td>\n      <td>EVA</td>\n      <td>0.0</td>\n      <td>0.0</td>\n      <td>[4134223, 4134220, 4222459, 4134229, 4222456, ...</td>\n      <td>[35.0, 36.0, 37.0, 37.5, 38.0, 38.5, 39.0, 40....</td>\n    </tr>\n  </tbody>\n</table>\n<p>1 rows × 56 columns</p>\n</div>"
     },
     "metadata": {},
     "output_type": "display_data"
    },
    {
     "name": "stdout",
     "output_type": "stream",
     "text": [
      "predicted products: \n"
     ]
    },
    {
     "data": {
      "text/plain": "      main_product_id  productNumber  \\\n2              547193  4054452768427   \n20             464697  4054452768465   \n146           3505425  4062862137856   \n645           4775981  4062862770985   \n1803          7895710  4064032843970   \n\n                                    productName productColorName  \\\n2                    Slipper Glattleder schwarz          schwarz   \n20                 Zehentrenner Glattleder weiß             weiß   \n146   Sneaker low Materialmix Leder multicolour      multicolour   \n645              Spangenpumps Effektleder beige            beige   \n1803              Eleganter Pumps Textil silber           silber   \n\n     articleNumber  brand__id  mainCategory__id gender originCountry     line  \\\n2        04.443.27    6590677            315576      w            SK  F-S|H-W   \n20       03.700.21    6590677            315594      w            SK      F-S   \n146      56.929.20    4997827            315567      w            VN      H-W   \n645      62.181.14    6590678            315561      w            SK      F-S   \n1803     01.400.60    6590677            315573      w            PT      F-S   \n\n      ...  heelHeightGroup sizeEu  sizeUk  sizeIndex  shaftLength__value  \\\n2     ...      3 cm - 5 cm   42.0     8.0       14.0                 0.0   \n20    ...         bis 3 cm   36.0     3.5        4.0                 0.0   \n146   ...      3 cm - 5 cm   38.5     5.5        9.0                 0.0   \n645   ...      5 cm - 8 cm   35.0     2.5        3.0                 0.0   \n1803  ...      5 cm - 8 cm   38.0     5.0        8.0                 0.0   \n\n           sole  isTransferee isSuccessor  \\\n2        PU-TPU           0.0         0.0   \n20        Gummi           0.0         0.0   \n146   Gummi-EVA           0.0         0.0   \n645         TPU           0.0         1.0   \n1803        TPU           1.0         1.0   \n\n                                 duplicate_product__ids  \\\n2     [547193, 547191, 547196, 547187, 547189, 54719...   \n20    [464697, 464702, 464699, 464700, 464703, 46470...   \n146   [3505425, 3505432, 3505427, 4031321, 4031316, ...   \n645   [4775981, 4775992, 4775986, 4775985, 4775989, ...   \n1803  [7895710, 7895708, 7895715, 7895707, 7895714, ...   \n\n                                          product_sizes  \n2     [35.0, 35.5, 36.0, 37.0, 37.5, 38.0, 38.5, 39....  \n20    [35.0, 35.5, 36.0, 37.0, 37.5, 38.0, 38.5, 39....  \n146   [35.0, 35.5, 36.0, 37.0, 37.5, 38.0, 38.5, 39....  \n645   [35.0, 35.5, 36.0, 37.0, 37.5, 38.0, 38.5, 39....  \n1803  [35.0, 35.5, 36.0, 37.0, 37.5, 38.0, 40.0, 40....  \n\n[5 rows x 56 columns]",
      "text/html": "<div>\n<style scoped>\n    .dataframe tbody tr th:only-of-type {\n        vertical-align: middle;\n    }\n\n    .dataframe tbody tr th {\n        vertical-align: top;\n    }\n\n    .dataframe thead th {\n        text-align: right;\n    }\n</style>\n<table border=\"1\" class=\"dataframe\">\n  <thead>\n    <tr style=\"text-align: right;\">\n      <th></th>\n      <th>main_product_id</th>\n      <th>productNumber</th>\n      <th>productName</th>\n      <th>productColorName</th>\n      <th>articleNumber</th>\n      <th>brand__id</th>\n      <th>mainCategory__id</th>\n      <th>gender</th>\n      <th>originCountry</th>\n      <th>line</th>\n      <th>...</th>\n      <th>heelHeightGroup</th>\n      <th>sizeEu</th>\n      <th>sizeUk</th>\n      <th>sizeIndex</th>\n      <th>shaftLength__value</th>\n      <th>sole</th>\n      <th>isTransferee</th>\n      <th>isSuccessor</th>\n      <th>duplicate_product__ids</th>\n      <th>product_sizes</th>\n    </tr>\n  </thead>\n  <tbody>\n    <tr>\n      <th>2</th>\n      <td>547193</td>\n      <td>4054452768427</td>\n      <td>Slipper Glattleder schwarz</td>\n      <td>schwarz</td>\n      <td>04.443.27</td>\n      <td>6590677</td>\n      <td>315576</td>\n      <td>w</td>\n      <td>SK</td>\n      <td>F-S|H-W</td>\n      <td>...</td>\n      <td>3 cm - 5 cm</td>\n      <td>42.0</td>\n      <td>8.0</td>\n      <td>14.0</td>\n      <td>0.0</td>\n      <td>PU-TPU</td>\n      <td>0.0</td>\n      <td>0.0</td>\n      <td>[547193, 547191, 547196, 547187, 547189, 54719...</td>\n      <td>[35.0, 35.5, 36.0, 37.0, 37.5, 38.0, 38.5, 39....</td>\n    </tr>\n    <tr>\n      <th>20</th>\n      <td>464697</td>\n      <td>4054452768465</td>\n      <td>Zehentrenner Glattleder weiß</td>\n      <td>weiß</td>\n      <td>03.700.21</td>\n      <td>6590677</td>\n      <td>315594</td>\n      <td>w</td>\n      <td>SK</td>\n      <td>F-S</td>\n      <td>...</td>\n      <td>bis 3 cm</td>\n      <td>36.0</td>\n      <td>3.5</td>\n      <td>4.0</td>\n      <td>0.0</td>\n      <td>Gummi</td>\n      <td>0.0</td>\n      <td>0.0</td>\n      <td>[464697, 464702, 464699, 464700, 464703, 46470...</td>\n      <td>[35.0, 35.5, 36.0, 37.0, 37.5, 38.0, 38.5, 39....</td>\n    </tr>\n    <tr>\n      <th>146</th>\n      <td>3505425</td>\n      <td>4062862137856</td>\n      <td>Sneaker low Materialmix Leder multicolour</td>\n      <td>multicolour</td>\n      <td>56.929.20</td>\n      <td>4997827</td>\n      <td>315567</td>\n      <td>w</td>\n      <td>VN</td>\n      <td>H-W</td>\n      <td>...</td>\n      <td>3 cm - 5 cm</td>\n      <td>38.5</td>\n      <td>5.5</td>\n      <td>9.0</td>\n      <td>0.0</td>\n      <td>Gummi-EVA</td>\n      <td>0.0</td>\n      <td>0.0</td>\n      <td>[3505425, 3505432, 3505427, 4031321, 4031316, ...</td>\n      <td>[35.0, 35.5, 36.0, 37.0, 37.5, 38.0, 38.5, 39....</td>\n    </tr>\n    <tr>\n      <th>645</th>\n      <td>4775981</td>\n      <td>4062862770985</td>\n      <td>Spangenpumps Effektleder beige</td>\n      <td>beige</td>\n      <td>62.181.14</td>\n      <td>6590678</td>\n      <td>315561</td>\n      <td>w</td>\n      <td>SK</td>\n      <td>F-S</td>\n      <td>...</td>\n      <td>5 cm - 8 cm</td>\n      <td>35.0</td>\n      <td>2.5</td>\n      <td>3.0</td>\n      <td>0.0</td>\n      <td>TPU</td>\n      <td>0.0</td>\n      <td>1.0</td>\n      <td>[4775981, 4775992, 4775986, 4775985, 4775989, ...</td>\n      <td>[35.0, 35.5, 36.0, 37.0, 37.5, 38.0, 38.5, 39....</td>\n    </tr>\n    <tr>\n      <th>1803</th>\n      <td>7895710</td>\n      <td>4064032843970</td>\n      <td>Eleganter Pumps Textil silber</td>\n      <td>silber</td>\n      <td>01.400.60</td>\n      <td>6590677</td>\n      <td>315573</td>\n      <td>w</td>\n      <td>PT</td>\n      <td>F-S</td>\n      <td>...</td>\n      <td>5 cm - 8 cm</td>\n      <td>38.0</td>\n      <td>5.0</td>\n      <td>8.0</td>\n      <td>0.0</td>\n      <td>TPU</td>\n      <td>1.0</td>\n      <td>1.0</td>\n      <td>[7895710, 7895708, 7895715, 7895707, 7895714, ...</td>\n      <td>[35.0, 35.5, 36.0, 37.0, 37.5, 38.0, 40.0, 40....</td>\n    </tr>\n  </tbody>\n</table>\n<p>5 rows × 56 columns</p>\n</div>"
     },
     "metadata": {},
     "output_type": "display_data"
    },
    {
     "name": "stdout",
     "output_type": "stream",
     "text": [
      "scores:  [0.0422136  0.04147534 0.04076851 0.04027575 0.03645492]\n"
     ]
    }
   ],
   "source": [
    "def get_random_customer_from_test_data():\n",
    "    return next(iter(test.take(1)))['customer_id'].numpy()\n",
    "\n",
    "def display_item_ids(item_ids):\n",
    "    display(product_data[product_data.main_product_id.isin(item_ids) ])\n",
    "\n",
    "def display_products_by_customer_id(customer_id):\n",
    "    display_item_ids(pandas_interaction_data[pandas_interaction_data.customer_id ==  customer_id].main_product_id.tolist())\n",
    "    \n",
    "\n",
    "index = tfrs.layers.factorized_top_k.BruteForce(model.user_embedding, k=5)\n",
    "index.index_from_dataset(\n",
    "    product_ids_dataset.batch(100).map(lambda id: (id, model.product_model(id))))\n",
    "\n",
    "def predict_user(user_id):\n",
    "    print('predicting user: ', user_id)\n",
    "    print('user already bought following products: ')\n",
    "    display_products_by_customer_id(user_id)\n",
    "    \n",
    "    score, predicted_product_ids = index(np.array([user_id]))\n",
    "    \n",
    "    print('predicted products: ')\n",
    "    display_item_ids(predicted_product_ids[0].numpy())\n",
    "    print('scores: ', score[0].numpy())\n",
    "\n",
    "\n",
    "user_id = get_random_customer_from_test_data()\n",
    "\n",
    "predict_user(user_id)"
   ],
   "metadata": {
    "collapsed": false,
    "ExecuteTime": {
     "end_time": "2023-12-01T18:43:36.828315Z",
     "start_time": "2023-12-01T18:43:36.671607Z"
    }
   },
   "id": "d8785689b14ad90"
  },
  {
   "cell_type": "code",
   "execution_count": 16,
   "outputs": [
    {
     "name": "stdout",
     "output_type": "stream",
     "text": [
      "Minimum Score: 0.028165185824036598\n",
      "Maximum Score: 0.32150477170944214\n",
      "Average Score: 0.09805728495121002\n",
      "Catalog Coverage: 90.56% (Unique recommended items 1247 / Total catalog items 1377)\n"
     ]
    }
   ],
   "source": [
    "def calculate_coverage_and_scores(user_ids, total_items_count):\n",
    "    all_scores = []\n",
    "    all_predicted_product_ids = []  # Use a set to track unique recommended items\n",
    "\n",
    "    for user_id in user_ids:\n",
    "        # Call the prediction function for each user\n",
    "        score, predicted_product_ids = index(np.array([user_id]))\n",
    "\n",
    "        # Append the scores to the all_scores list\n",
    "        all_scores.extend(score[0].numpy())\n",
    "\n",
    "        # Update the set of all unique predicted product IDs\n",
    "        all_predicted_product_ids.extend(predicted_product_ids[0].numpy())\n",
    "\n",
    "    # Calculate min, max, and average scores\n",
    "    min_score = np.min(all_scores)\n",
    "    max_score = np.max(all_scores)\n",
    "    avg_score = np.mean(all_scores)\n",
    "\n",
    "    # Calculate item coverage and catalog coverage\n",
    "    num_unique_items = len(np.unique(all_predicted_product_ids))\n",
    "    catalog_coverage = num_unique_items / total_items_count\n",
    "\n",
    "    # Print the results\n",
    "    print(f\"Minimum Score: {min_score}\")\n",
    "    print(f\"Maximum Score: {max_score}\")\n",
    "    print(f\"Average Score: {avg_score}\")\n",
    "    print(f\"Catalog Coverage: {catalog_coverage:.2%} (Unique recommended items {num_unique_items} / Total catalog items {total_items_count})\")\n",
    "\n",
    "    return min_score, max_score, avg_score, catalog_coverage, all_predicted_product_ids\n",
    "\n",
    "# Example usage\n",
    "total_items_count = len(pandas_interaction_data.main_product_id.unique())\n",
    "\n",
    "user_ids = pandas_interaction_data.customer_id.unique()\n",
    "min_score, max_score, avg_score, catalog_coverage, all_predicted_product_ids = calculate_coverage_and_scores(user_ids, total_items_count)\n"
   ],
   "metadata": {
    "collapsed": false,
    "ExecuteTime": {
     "end_time": "2023-12-01T18:44:07.758925Z",
     "start_time": "2023-12-01T18:43:36.797542Z"
    }
   },
   "id": "33c4fcd0ef2dd9cc"
  },
  {
   "cell_type": "code",
   "execution_count": 16,
   "outputs": [],
   "source": [],
   "metadata": {
    "collapsed": false,
    "ExecuteTime": {
     "end_time": "2023-12-01T18:44:07.763309Z",
     "start_time": "2023-12-01T18:44:07.759059Z"
    }
   },
   "id": "537f17b71ce3848f"
  }
 ],
 "metadata": {
  "kernelspec": {
   "display_name": "Python 3",
   "language": "python",
   "name": "python3"
  },
  "language_info": {
   "codemirror_mode": {
    "name": "ipython",
    "version": 2
   },
   "file_extension": ".py",
   "mimetype": "text/x-python",
   "name": "python",
   "nbconvert_exporter": "python",
   "pygments_lexer": "ipython2",
   "version": "2.7.6"
  }
 },
 "nbformat": 4,
 "nbformat_minor": 5
}
