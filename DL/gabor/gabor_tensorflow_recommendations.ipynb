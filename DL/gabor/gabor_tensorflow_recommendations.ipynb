{
 "cells": [
  {
   "cell_type": "code",
   "execution_count": 1,
   "id": "initial_id",
   "metadata": {
    "collapsed": true,
    "ExecuteTime": {
     "end_time": "2023-09-21T09:14:19.629121Z",
     "start_time": "2023-09-21T09:14:17.006274Z"
    }
   },
   "outputs": [],
   "source": [
    "#%pip install -q tensorflow-recommenders\n",
    "import tensorflow as tf\n",
    "import pandas as pd\n",
    "from tensorflow.keras.layers import Embedding, Dense\n",
    "from tensorflow.keras import Sequential\n",
    "import tensorflow_recommenders as tfrs\n",
    "from tensorflow.keras.metrics import AUC\n",
    "import math\n",
    "import numpy as np\n",
    "\n"
   ]
  },
  {
   "cell_type": "code",
   "execution_count": 2,
   "outputs": [
    {
     "name": "stdout",
     "output_type": "stream",
     "text": [
      "GPU is available\n"
     ]
    }
   ],
   "source": [
    "if tf.config.list_physical_devices('GPU'):\n",
    "    print(\"GPU is available\")\n",
    "else:\n",
    "    print(\"GPU is not available\")"
   ],
   "metadata": {
    "collapsed": false,
    "ExecuteTime": {
     "end_time": "2023-09-21T09:14:19.632767Z",
     "start_time": "2023-09-21T09:14:19.629954Z"
    }
   },
   "id": "89849bbf9d8a3d88"
  },
  {
   "cell_type": "code",
   "execution_count": 3,
   "outputs": [
    {
     "data": {
      "text/plain": "        customer_id  main_product_id  amount\n360869      7944051          3505619       1\n443047      9283622          7831323       1\n521573     10198699          3693255       1\n335043      7523666          4064001       1\n497657      9928586          3711313       1\n...             ...              ...     ...\n82943       2214684          5205629       1\n126829      4295860          3591928       1\n332705      7486671          3711758       1\n14407       1981717          3504080       1\n408933      8773797          4771353       1\n\n[1000 rows x 3 columns]",
      "text/html": "<div>\n<style scoped>\n    .dataframe tbody tr th:only-of-type {\n        vertical-align: middle;\n    }\n\n    .dataframe tbody tr th {\n        vertical-align: top;\n    }\n\n    .dataframe thead th {\n        text-align: right;\n    }\n</style>\n<table border=\"1\" class=\"dataframe\">\n  <thead>\n    <tr style=\"text-align: right;\">\n      <th></th>\n      <th>customer_id</th>\n      <th>main_product_id</th>\n      <th>amount</th>\n    </tr>\n  </thead>\n  <tbody>\n    <tr>\n      <th>360869</th>\n      <td>7944051</td>\n      <td>3505619</td>\n      <td>1</td>\n    </tr>\n    <tr>\n      <th>443047</th>\n      <td>9283622</td>\n      <td>7831323</td>\n      <td>1</td>\n    </tr>\n    <tr>\n      <th>521573</th>\n      <td>10198699</td>\n      <td>3693255</td>\n      <td>1</td>\n    </tr>\n    <tr>\n      <th>335043</th>\n      <td>7523666</td>\n      <td>4064001</td>\n      <td>1</td>\n    </tr>\n    <tr>\n      <th>497657</th>\n      <td>9928586</td>\n      <td>3711313</td>\n      <td>1</td>\n    </tr>\n    <tr>\n      <th>...</th>\n      <td>...</td>\n      <td>...</td>\n      <td>...</td>\n    </tr>\n    <tr>\n      <th>82943</th>\n      <td>2214684</td>\n      <td>5205629</td>\n      <td>1</td>\n    </tr>\n    <tr>\n      <th>126829</th>\n      <td>4295860</td>\n      <td>3591928</td>\n      <td>1</td>\n    </tr>\n    <tr>\n      <th>332705</th>\n      <td>7486671</td>\n      <td>3711758</td>\n      <td>1</td>\n    </tr>\n    <tr>\n      <th>14407</th>\n      <td>1981717</td>\n      <td>3504080</td>\n      <td>1</td>\n    </tr>\n    <tr>\n      <th>408933</th>\n      <td>8773797</td>\n      <td>4771353</td>\n      <td>1</td>\n    </tr>\n  </tbody>\n</table>\n<p>1000 rows × 3 columns</p>\n</div>"
     },
     "metadata": {},
     "output_type": "display_data"
    },
    {
     "data": {
      "text/plain": "      main_product_id  productNumber  \\\n0              557559  4058394021466   \n1              551622  4054452768212   \n2              547193  4054452768427   \n3              549776  4059701687894   \n4              550726  4054452851594   \n...               ...            ...   \n3292         10603553  4066558951733   \n3293         10442948  4065171827272   \n3294         10782704  4251234499207   \n3295         10679703  4066558303617   \n3296         10496278  4065171812513   \n\n                                            productName productColorName  \\\n0              sportliche Ballerinas Glattleder schwarz          schwarz   \n1                     elegante Pumps Glattleder schwarz          schwarz   \n2                            Slipper Glattleder schwarz          schwarz   \n3                             Sneaker low Rauleder blau             blau   \n4     elegante Ballerinas Materialmix Lederimitat sc...          schwarz   \n...                                                 ...              ...   \n3292                Sandale met plateauzool Suède blauw            blauw   \n3293                    Mokassin Materialmix Leder pink             pink   \n3294                                 Shopper ANDIE blau             blau   \n3295                       Elegante pumps Glad leer wit              wit   \n3296                       Sandale compensée Daim beige            beige   \n\n     articleNumber  brand__id  mainCategory__id gender originCountry     line  \\\n0        02.643.57    6590678            315571      w            PT  F-S|H-W   \n1        05.160.37    6590677            315573      w            PT  F-S|H-W   \n2        04.443.27    6590677            315576      w            SK  F-S|H-W   \n3        06.968.46    4997827            315567      w            VN  F-S|H-W   \n4        06.102.67    6590678            315574      w            SK  F-S|H-W   \n...            ...        ...               ...    ...           ...      ...   \n3292     24.764.36    6590677            315568      w            SK      F-S   \n3293     26.090.21    6590678            315590      w            PT      F-S   \n3294        921453     363013            363017      w            DE      F-S   \n3295     21.450.60    6590677            315573      w            PT      F-S   \n3296     24.645.14    6590677            315564      w            PT      F-S   \n\n      ...  heelHeightGroup sizeEu  sizeUk  sizeIndex  shaftLength__value  \\\n0     ...         bis 3 cm   40.0     6.5       11.0                 0.0   \n1     ...      3 cm - 5 cm   38.0     5.0        8.0                 0.0   \n2     ...      3 cm - 5 cm   42.0     8.0       14.0                 0.0   \n3     ...      3 cm - 5 cm   39.0     6.0       10.0                 0.0   \n4     ...         bis 3 cm   37.5     4.5        7.0                 0.0   \n...   ...              ...    ...     ...        ...                 ...   \n3292  ...      5 cm - 8 cm   35.0     2.5        3.0                 0.0   \n3293  ...         bis 3 cm   40.5     7.0       12.0                 0.0   \n3294  ...              NaN    NaN     NaN        NaN                 NaN   \n3295  ...      5 cm - 8 cm   35.0     2.5        3.0                 0.0   \n3296  ...      5 cm - 8 cm   38.0     5.0        8.0                 0.0   \n\n           sole  isTransferee isSuccessor  \\\n0         Gummi           0.0         0.0   \n1           EVA           0.0         0.0   \n2        PU-TPU           0.0         0.0   \n3     Gummi-EVA           0.0         0.0   \n4           EVA           0.0         0.0   \n...         ...           ...         ...   \n3292     PU-TPU           0.0         0.0   \n3293      Gummi           0.0         0.0   \n3294        NaN           NaN         NaN   \n3295        TPU           0.0         0.0   \n3296         TR           0.0         0.0   \n\n                                 duplicate_product__ids  \\\n0     [557559, 549733, 549734, 557553, 589488, 58948...   \n1     [551622, 551505, 551510, 551509, 552973, 55162...   \n2     [547193, 547191, 547196, 547187, 547189, 54719...   \n3     [549776, 550599, 550596, 550593, 550601, 54978...   \n4     [550726, 550736, 550735, 550732, 550728, 55072...   \n...                                                 ...   \n3292                               [10603553, 10544662]   \n3293                               [10442948, 10442949]   \n3294                                         [10782704]   \n3295                                         [10679703]   \n3296                                         [10496278]   \n\n                                          product_sizes  \n0     [35.5, 36.0, 37.0, 37.5, 38.0, 38.5, 39.0, 40....  \n1     [35.0, 35.5, 36.0, 37.0, 37.5, 38.0, 38.5, 39....  \n2     [35.0, 35.5, 36.0, 37.0, 37.5, 38.0, 38.5, 39....  \n3     [35.0, 35.5, 36.0, 37.0, 37.5, 38.0, 38.5, 39....  \n4     [35.0, 37.0, 37.5, 38.0, 38.5, 39.0, 40.0, 40....  \n...                                                 ...  \n3292                                       [35.0, 37.0]  \n3293                                       [40.5, 41.0]  \n3294                                                 []  \n3295                                             [35.0]  \n3296                                             [38.0]  \n\n[3297 rows x 56 columns]",
      "text/html": "<div>\n<style scoped>\n    .dataframe tbody tr th:only-of-type {\n        vertical-align: middle;\n    }\n\n    .dataframe tbody tr th {\n        vertical-align: top;\n    }\n\n    .dataframe thead th {\n        text-align: right;\n    }\n</style>\n<table border=\"1\" class=\"dataframe\">\n  <thead>\n    <tr style=\"text-align: right;\">\n      <th></th>\n      <th>main_product_id</th>\n      <th>productNumber</th>\n      <th>productName</th>\n      <th>productColorName</th>\n      <th>articleNumber</th>\n      <th>brand__id</th>\n      <th>mainCategory__id</th>\n      <th>gender</th>\n      <th>originCountry</th>\n      <th>line</th>\n      <th>...</th>\n      <th>heelHeightGroup</th>\n      <th>sizeEu</th>\n      <th>sizeUk</th>\n      <th>sizeIndex</th>\n      <th>shaftLength__value</th>\n      <th>sole</th>\n      <th>isTransferee</th>\n      <th>isSuccessor</th>\n      <th>duplicate_product__ids</th>\n      <th>product_sizes</th>\n    </tr>\n  </thead>\n  <tbody>\n    <tr>\n      <th>0</th>\n      <td>557559</td>\n      <td>4058394021466</td>\n      <td>sportliche Ballerinas Glattleder schwarz</td>\n      <td>schwarz</td>\n      <td>02.643.57</td>\n      <td>6590678</td>\n      <td>315571</td>\n      <td>w</td>\n      <td>PT</td>\n      <td>F-S|H-W</td>\n      <td>...</td>\n      <td>bis 3 cm</td>\n      <td>40.0</td>\n      <td>6.5</td>\n      <td>11.0</td>\n      <td>0.0</td>\n      <td>Gummi</td>\n      <td>0.0</td>\n      <td>0.0</td>\n      <td>[557559, 549733, 549734, 557553, 589488, 58948...</td>\n      <td>[35.5, 36.0, 37.0, 37.5, 38.0, 38.5, 39.0, 40....</td>\n    </tr>\n    <tr>\n      <th>1</th>\n      <td>551622</td>\n      <td>4054452768212</td>\n      <td>elegante Pumps Glattleder schwarz</td>\n      <td>schwarz</td>\n      <td>05.160.37</td>\n      <td>6590677</td>\n      <td>315573</td>\n      <td>w</td>\n      <td>PT</td>\n      <td>F-S|H-W</td>\n      <td>...</td>\n      <td>3 cm - 5 cm</td>\n      <td>38.0</td>\n      <td>5.0</td>\n      <td>8.0</td>\n      <td>0.0</td>\n      <td>EVA</td>\n      <td>0.0</td>\n      <td>0.0</td>\n      <td>[551622, 551505, 551510, 551509, 552973, 55162...</td>\n      <td>[35.0, 35.5, 36.0, 37.0, 37.5, 38.0, 38.5, 39....</td>\n    </tr>\n    <tr>\n      <th>2</th>\n      <td>547193</td>\n      <td>4054452768427</td>\n      <td>Slipper Glattleder schwarz</td>\n      <td>schwarz</td>\n      <td>04.443.27</td>\n      <td>6590677</td>\n      <td>315576</td>\n      <td>w</td>\n      <td>SK</td>\n      <td>F-S|H-W</td>\n      <td>...</td>\n      <td>3 cm - 5 cm</td>\n      <td>42.0</td>\n      <td>8.0</td>\n      <td>14.0</td>\n      <td>0.0</td>\n      <td>PU-TPU</td>\n      <td>0.0</td>\n      <td>0.0</td>\n      <td>[547193, 547191, 547196, 547187, 547189, 54719...</td>\n      <td>[35.0, 35.5, 36.0, 37.0, 37.5, 38.0, 38.5, 39....</td>\n    </tr>\n    <tr>\n      <th>3</th>\n      <td>549776</td>\n      <td>4059701687894</td>\n      <td>Sneaker low Rauleder blau</td>\n      <td>blau</td>\n      <td>06.968.46</td>\n      <td>4997827</td>\n      <td>315567</td>\n      <td>w</td>\n      <td>VN</td>\n      <td>F-S|H-W</td>\n      <td>...</td>\n      <td>3 cm - 5 cm</td>\n      <td>39.0</td>\n      <td>6.0</td>\n      <td>10.0</td>\n      <td>0.0</td>\n      <td>Gummi-EVA</td>\n      <td>0.0</td>\n      <td>0.0</td>\n      <td>[549776, 550599, 550596, 550593, 550601, 54978...</td>\n      <td>[35.0, 35.5, 36.0, 37.0, 37.5, 38.0, 38.5, 39....</td>\n    </tr>\n    <tr>\n      <th>4</th>\n      <td>550726</td>\n      <td>4054452851594</td>\n      <td>elegante Ballerinas Materialmix Lederimitat sc...</td>\n      <td>schwarz</td>\n      <td>06.102.67</td>\n      <td>6590678</td>\n      <td>315574</td>\n      <td>w</td>\n      <td>SK</td>\n      <td>F-S|H-W</td>\n      <td>...</td>\n      <td>bis 3 cm</td>\n      <td>37.5</td>\n      <td>4.5</td>\n      <td>7.0</td>\n      <td>0.0</td>\n      <td>EVA</td>\n      <td>0.0</td>\n      <td>0.0</td>\n      <td>[550726, 550736, 550735, 550732, 550728, 55072...</td>\n      <td>[35.0, 37.0, 37.5, 38.0, 38.5, 39.0, 40.0, 40....</td>\n    </tr>\n    <tr>\n      <th>...</th>\n      <td>...</td>\n      <td>...</td>\n      <td>...</td>\n      <td>...</td>\n      <td>...</td>\n      <td>...</td>\n      <td>...</td>\n      <td>...</td>\n      <td>...</td>\n      <td>...</td>\n      <td>...</td>\n      <td>...</td>\n      <td>...</td>\n      <td>...</td>\n      <td>...</td>\n      <td>...</td>\n      <td>...</td>\n      <td>...</td>\n      <td>...</td>\n      <td>...</td>\n      <td>...</td>\n    </tr>\n    <tr>\n      <th>3292</th>\n      <td>10603553</td>\n      <td>4066558951733</td>\n      <td>Sandale met plateauzool Suède blauw</td>\n      <td>blauw</td>\n      <td>24.764.36</td>\n      <td>6590677</td>\n      <td>315568</td>\n      <td>w</td>\n      <td>SK</td>\n      <td>F-S</td>\n      <td>...</td>\n      <td>5 cm - 8 cm</td>\n      <td>35.0</td>\n      <td>2.5</td>\n      <td>3.0</td>\n      <td>0.0</td>\n      <td>PU-TPU</td>\n      <td>0.0</td>\n      <td>0.0</td>\n      <td>[10603553, 10544662]</td>\n      <td>[35.0, 37.0]</td>\n    </tr>\n    <tr>\n      <th>3293</th>\n      <td>10442948</td>\n      <td>4065171827272</td>\n      <td>Mokassin Materialmix Leder pink</td>\n      <td>pink</td>\n      <td>26.090.21</td>\n      <td>6590678</td>\n      <td>315590</td>\n      <td>w</td>\n      <td>PT</td>\n      <td>F-S</td>\n      <td>...</td>\n      <td>bis 3 cm</td>\n      <td>40.5</td>\n      <td>7.0</td>\n      <td>12.0</td>\n      <td>0.0</td>\n      <td>Gummi</td>\n      <td>0.0</td>\n      <td>0.0</td>\n      <td>[10442948, 10442949]</td>\n      <td>[40.5, 41.0]</td>\n    </tr>\n    <tr>\n      <th>3294</th>\n      <td>10782704</td>\n      <td>4251234499207</td>\n      <td>Shopper ANDIE blau</td>\n      <td>blau</td>\n      <td>921453</td>\n      <td>363013</td>\n      <td>363017</td>\n      <td>w</td>\n      <td>DE</td>\n      <td>F-S</td>\n      <td>...</td>\n      <td>NaN</td>\n      <td>NaN</td>\n      <td>NaN</td>\n      <td>NaN</td>\n      <td>NaN</td>\n      <td>NaN</td>\n      <td>NaN</td>\n      <td>NaN</td>\n      <td>[10782704]</td>\n      <td>[]</td>\n    </tr>\n    <tr>\n      <th>3295</th>\n      <td>10679703</td>\n      <td>4066558303617</td>\n      <td>Elegante pumps Glad leer wit</td>\n      <td>wit</td>\n      <td>21.450.60</td>\n      <td>6590677</td>\n      <td>315573</td>\n      <td>w</td>\n      <td>PT</td>\n      <td>F-S</td>\n      <td>...</td>\n      <td>5 cm - 8 cm</td>\n      <td>35.0</td>\n      <td>2.5</td>\n      <td>3.0</td>\n      <td>0.0</td>\n      <td>TPU</td>\n      <td>0.0</td>\n      <td>0.0</td>\n      <td>[10679703]</td>\n      <td>[35.0]</td>\n    </tr>\n    <tr>\n      <th>3296</th>\n      <td>10496278</td>\n      <td>4065171812513</td>\n      <td>Sandale compensée Daim beige</td>\n      <td>beige</td>\n      <td>24.645.14</td>\n      <td>6590677</td>\n      <td>315564</td>\n      <td>w</td>\n      <td>PT</td>\n      <td>F-S</td>\n      <td>...</td>\n      <td>5 cm - 8 cm</td>\n      <td>38.0</td>\n      <td>5.0</td>\n      <td>8.0</td>\n      <td>0.0</td>\n      <td>TR</td>\n      <td>0.0</td>\n      <td>0.0</td>\n      <td>[10496278]</td>\n      <td>[38.0]</td>\n    </tr>\n  </tbody>\n</table>\n<p>3297 rows × 56 columns</p>\n</div>"
     },
     "metadata": {},
     "output_type": "display_data"
    }
   ],
   "source": [
    "# Load data\n",
    "basepath = '../../datasets/preprocessed_datasets/gabor/'\n",
    "pandas_interaction_data = pd.read_pickle(basepath + 'user_item_interactions_only_main_products.pkl')\n",
    "pandas_interaction_data = pandas_interaction_data.sample(1000)\n",
    "pandas_interaction_data.amount = pandas_interaction_data.amount.apply(lambda x: 1 if x > 0 else 0) \n",
    "product_data = pd.read_pickle(basepath + 'no_product_variants_with_duplicate_ids.pkl')\n",
    "pandas_interaction_data.main_product_id = pandas_interaction_data.main_product_id.astype(int)\n",
    "product_data.main_product_id = product_data.main_product_id.astype(int)\n",
    "\n",
    "display(pandas_interaction_data, product_data)"
   ],
   "metadata": {
    "collapsed": false,
    "ExecuteTime": {
     "end_time": "2023-09-21T09:14:19.683634Z",
     "start_time": "2023-09-21T09:14:19.634134Z"
    }
   },
   "id": "e008bf18a8e80e4f"
  },
  {
   "cell_type": "code",
   "execution_count": 4,
   "outputs": [],
   "source": [
    "# Create a tf.data.Dataset from the interaction data\n",
    "interaction_dataset = tf.data.Dataset.from_tensor_slices({\n",
    "    'customer_id': pandas_interaction_data['customer_id'].values,\n",
    "    'main_product_id': pandas_interaction_data['main_product_id'].values,\n",
    "    'amount': pandas_interaction_data['amount'].values\n",
    "})\n",
    "#variables \n",
    "dataset_len = pandas_interaction_data.shape[0]\n",
    "test_len = math.ceil(dataset_len * 0.2)\n",
    "train_len = dataset_len - test_len\n",
    "\n",
    "metrics_batchsize = 16\n",
    "train_batch_size = 128\n",
    "test_batch_size = 64\n",
    "random_seed = 27"
   ],
   "metadata": {
    "collapsed": false,
    "ExecuteTime": {
     "end_time": "2023-09-21T09:14:19.694779Z",
     "start_time": "2023-09-21T09:14:19.685950Z"
    }
   },
   "id": "c089ac7f029dc324"
  },
  {
   "cell_type": "code",
   "execution_count": 5,
   "outputs": [
    {
     "data": {
      "text/plain": "<_TakeDataset element_spec={'customer_id': TensorSpec(shape=(), dtype=tf.int64, name=None), 'main_product_id': TensorSpec(shape=(), dtype=tf.int64, name=None), 'amount': TensorSpec(shape=(), dtype=tf.int64, name=None)}>"
     },
     "metadata": {},
     "output_type": "display_data"
    },
    {
     "data": {
      "text/plain": "<_TakeDataset element_spec={'customer_id': TensorSpec(shape=(), dtype=tf.int64, name=None), 'main_product_id': TensorSpec(shape=(), dtype=tf.int64, name=None), 'amount': TensorSpec(shape=(), dtype=tf.int64, name=None)}>"
     },
     "metadata": {},
     "output_type": "display_data"
    }
   ],
   "source": [
    "#train test split\n",
    "tf.random.set_seed(random_seed)\n",
    "# shuffled = interaction_dataset.shuffle(len, seed=random_seed, reshuffle_each_iteration=False)\n",
    "# train = shuffled.take(train_len)\n",
    "# test = shuffled.skip(train_len).take(test_len)\n",
    "shuffled = interaction_dataset.shuffle(dataset_len, seed=random_seed, reshuffle_each_iteration=False)\n",
    "\n",
    "train = shuffled.take(train_len)\n",
    "test = shuffled.skip(train_len).take(test_len)\n",
    "display(train, test)"
   ],
   "metadata": {
    "collapsed": false,
    "ExecuteTime": {
     "end_time": "2023-09-21T09:14:19.774297Z",
     "start_time": "2023-09-21T09:14:19.693515Z"
    }
   },
   "id": "825eec174445be8c"
  },
  {
   "cell_type": "code",
   "execution_count": 6,
   "outputs": [],
   "source": [
    "# Unique customer and product identifiers\n",
    "unique_customer_ids = np.array(pandas_interaction_data[\"customer_id\"].unique())\n",
    "unique_product_ids = np.array(pandas_interaction_data[\"main_product_id\"].unique())\n",
    "user_ids_vocabulary = tf.keras.layers.IntegerLookup(mask_token=None)\n",
    "user_ids_vocabulary.adapt(unique_customer_ids)\n",
    "\n",
    "product_ids_vocabulary = tf.keras.layers.IntegerLookup(mask_token=None)\n",
    "product_ids_vocabulary.adapt(unique_product_ids)\n",
    "# print(unique_product_ids.shape[0], unique_customer_ids.shape[0], unique_product_ids, unique_product_ids)"
   ],
   "metadata": {
    "collapsed": false,
    "ExecuteTime": {
     "end_time": "2023-09-21T09:14:19.957597Z",
     "start_time": "2023-09-21T09:14:19.747939Z"
    }
   },
   "id": "2e2625e63cf53fce"
  },
  {
   "cell_type": "code",
   "execution_count": 7,
   "outputs": [],
   "source": [
    "# Define a model using TensorFlow Recommenders\n",
    "product_ids_dataset = tf.data.Dataset.from_tensor_slices(unique_product_ids)\n",
    "class RetailModel(tfrs.Model):\n",
    "\n",
    "    def __init__(self, unique_product_ids_vocab, unique_customer_ids_vocab, embedding_dimension=32):\n",
    "        super().__init__()\n",
    "        # Set up user and product representations\n",
    "        self.user_embedding = tf.keras.Sequential([\n",
    "            unique_customer_ids_vocab,\n",
    "            Embedding(unique_customer_ids_vocab.vocabulary_size(), embedding_dimension)\n",
    "        ])\n",
    "        self.product_embedding = tf.keras.Sequential([\n",
    "            unique_product_ids_vocab,\n",
    "            Embedding(unique_product_ids_vocab.vocabulary_size(), embedding_dimension)\n",
    "        ])\n",
    "        # Set up a dense layer for the task.\n",
    "        self.dense_layer = Dense(128, activation=\"relu\")\n",
    "        \n",
    "\n",
    "\n",
    "        # Set up retrieval task and metrics\n",
    "        self.task = tfrs.tasks.Retrieval(\n",
    "            metrics=tfrs.metrics.FactorizedTopK(candidates=product_ids_dataset.batch(metrics_batchsize).map(self.product_model))\n",
    "        )\n",
    "        self.auc_metric = AUC(name='auc')\n",
    "        self.rmse_metric = tf.keras.metrics.RootMeanSquaredError(name='rmse')\n",
    "        self.precision = tf.keras.metrics.Precision(name='precision')\n",
    "        self.recall = tf.keras.metrics.Recall(name='recall')\n",
    "\n",
    "    def product_model(self, product_ids):\n",
    "        return self.product_embedding(product_ids)\n",
    "\n",
    "    def dot_product_score(self, user, product):\n",
    "        \"\"\"\n",
    "        Computes the dot product between user and product embeddings to get the interaction score.\n",
    "        \"\"\"\n",
    "        return tf.reduce_sum(user * product, axis=1)\n",
    "\n",
    "    def compute_loss(self, features, training=False):\n",
    "        # print(features)\n",
    "        user_embeddings = self.user_embedding(features[\"customer_id\"])\n",
    "        product_embeddings = self.product_embedding(features[\"main_product_id\"])\n",
    "        \n",
    "        user_output = self.dense_layer(user_embeddings)\n",
    "        product_output = self.dense_layer(product_embeddings)\n",
    "        # This is a hypothetical function that returns the logits or scores\n",
    "        # This needs to be adapted based on your actual model\n",
    "        positive_logits = self.dot_product_score(user_output, product_output)\n",
    "\n",
    "        # Update RMSE\n",
    "        self.rmse_metric.update_state(y_true=features[\"amount\"], y_pred=positive_logits)\n",
    "\n",
    "\n",
    "        return self.task(user_output, product_output)\n",
    "\n",
    "    def evaluate(self, validation_dataset, *args, **kwargs):\n",
    "        # Call the base class's evaluate method\n",
    "        \n",
    "    \n",
    "        # Compute additional metrics\n",
    "        for features in validation_dataset:\n",
    "            user_embeddings = self.user_embedding(features[\"customer_id\"])\n",
    "            product_embeddings = self.product_embedding(features[\"main_product_id\"])\n",
    "            \n",
    "            user_output = self.dense_layer(user_embeddings)\n",
    "            product_output = self.dense_layer(product_embeddings)\n",
    "            \n",
    "            positive_logits = self.dot_product_score(user_output, product_output)\n",
    "            # Assuming you have a binary \"label\" in your dataset indicating 1 for positive interaction and 0 for negative\n",
    "            self.precision.update_state(y_true=features[\"amount\"], y_pred=positive_logits)\n",
    "            self.recall.update_state(y_true=features[\"amount\"], y_pred=positive_logits)\n",
    "    \n",
    "        precision_result = self.precision.result().numpy()\n",
    "        recall_result = self.recall.result().numpy()\n",
    "    \n",
    "        # Calculate F1 score\n",
    "        if (precision_result + recall_result) != 0:\n",
    "            f1_score = 2 * (precision_result * recall_result) / (precision_result + recall_result)\n",
    "        else:\n",
    "            f1_score = 0.0\n",
    "    \n",
    "        # Reset the metrics for the next evaluation\n",
    "        # self.precision.reset_states()\n",
    "        # self.recall.reset_states()\n",
    "        base_results = super(RetailModel, self).evaluate(validation_dataset, *args, **kwargs)\n",
    "    \n",
    "        return base_results, [precision_result, recall_result, f1_score]  # or append additional results as needed\n",
    "\n"
   ],
   "metadata": {
    "collapsed": false,
    "ExecuteTime": {
     "end_time": "2023-09-21T09:14:19.966425Z",
     "start_time": "2023-09-21T09:14:19.956928Z"
    }
   },
   "id": "378cf58a3061ecfc"
  },
  {
   "cell_type": "code",
   "execution_count": 8,
   "outputs": [],
   "source": [
    "model = RetailModel(product_ids_vocabulary, user_ids_vocabulary, embedding_dimension=128)\n",
    "model.compile(optimizer=tf.keras.optimizers.legacy.Adam(learning_rate=0.001)) # using legacy instead of tf.keras.optimizers.Adagrad, because newer version is slow on m1/m2 macs"
   ],
   "metadata": {
    "collapsed": false,
    "ExecuteTime": {
     "end_time": "2023-09-21T09:14:20.087378Z",
     "start_time": "2023-09-21T09:14:19.967595Z"
    }
   },
   "id": "5ae0c3e4d7093bf1"
  },
  {
   "cell_type": "code",
   "execution_count": 9,
   "outputs": [
    {
     "name": "stdout",
     "output_type": "stream",
     "text": [
      "Epoch 1/3\n",
      "7/7 [==============================] - 3s 215ms/step - auc: 0.0000e+00 - rmse: 0.9991 - precision: 0.0000e+00 - recall: 0.0000e+00 - factorized_top_k/top_1_categorical_accuracy: 0.0200 - factorized_top_k/top_5_categorical_accuracy: 0.0637 - factorized_top_k/top_10_categorical_accuracy: 0.0938 - factorized_top_k/top_50_categorical_accuracy: 0.2087 - factorized_top_k/top_100_categorical_accuracy: 0.3013 - loss: 493.4719 - regularization_loss: 0.0000e+00 - total_loss: 493.4719\n",
      "Epoch 2/3\n",
      "7/7 [==============================] - 1s 189ms/step - auc: 0.0000e+00 - rmse: 0.9776 - precision: 0.0000e+00 - recall: 0.0000e+00 - factorized_top_k/top_1_categorical_accuracy: 0.3175 - factorized_top_k/top_5_categorical_accuracy: 0.4850 - factorized_top_k/top_10_categorical_accuracy: 0.5763 - factorized_top_k/top_50_categorical_accuracy: 0.7738 - factorized_top_k/top_100_categorical_accuracy: 0.8625 - loss: 491.4693 - regularization_loss: 0.0000e+00 - total_loss: 491.4693\n",
      "Epoch 3/3\n",
      "7/7 [==============================] - 1s 194ms/step - auc: 0.0000e+00 - rmse: 0.9510 - precision: 0.0000e+00 - recall: 0.0000e+00 - factorized_top_k/top_1_categorical_accuracy: 0.8650 - factorized_top_k/top_5_categorical_accuracy: 0.9425 - factorized_top_k/top_10_categorical_accuracy: 0.9538 - factorized_top_k/top_50_categorical_accuracy: 0.9850 - factorized_top_k/top_100_categorical_accuracy: 0.9950 - loss: 489.3978 - regularization_loss: 0.0000e+00 - total_loss: 489.3978\n"
     ]
    },
    {
     "data": {
      "text/plain": "<keras.src.callbacks.History at 0x289a2d160>"
     },
     "execution_count": 9,
     "metadata": {},
     "output_type": "execute_result"
    }
   ],
   "source": [
    "# Shuffle, batch, and cache the data.\n",
    "cached_train = train.shuffle(dataset_len).batch(train_batch_size).cache()\n",
    "cached_test = test.batch(test_batch_size).cache()\n",
    "# Train the model\n",
    "# model.fit(cached_train, validation_data=cached_test, validation_freq=5, epochs=3)\n",
    "model.fit(cached_train, validation_freq=5, epochs=3)"
   ],
   "metadata": {
    "collapsed": false,
    "ExecuteTime": {
     "end_time": "2023-09-21T09:14:25.454781Z",
     "start_time": "2023-09-21T09:14:20.089276Z"
    }
   },
   "id": "4add146de8d83cb0"
  },
  {
   "cell_type": "code",
   "execution_count": 10,
   "outputs": [
    {
     "name": "stdout",
     "output_type": "stream",
     "text": [
      "7/7 [==============================] - 2s 207ms/step - auc: 0.0000e+00 - rmse: 0.9248 - precision: 0.0000e+00 - recall: 0.0000e+00 - factorized_top_k/top_1_categorical_accuracy: 0.9787 - factorized_top_k/top_5_categorical_accuracy: 0.9900 - factorized_top_k/top_10_categorical_accuracy: 0.9975 - factorized_top_k/top_50_categorical_accuracy: 1.0000 - factorized_top_k/top_100_categorical_accuracy: 1.0000 - loss: 487.7170 - regularization_loss: 0.0000e+00 - total_loss: 487.7170\n"
     ]
    },
    {
     "data": {
      "text/plain": "([0.0,\n  0.9248433113098145,\n  0.0,\n  0.0,\n  0.9787499904632568,\n  0.9900000095367432,\n  0.9975000023841858,\n  1.0,\n  1.0,\n  109.46224975585938,\n  0,\n  109.46224975585938],\n [0.0, 0.0, 0.0])"
     },
     "execution_count": 10,
     "metadata": {},
     "output_type": "execute_result"
    }
   ],
   "source": [
    "# Evaluate the model\n",
    "k = 5\n",
    "result_evaluate_train = model.evaluate(cached_train)\n",
    "result_evaluate_train"
   ],
   "metadata": {
    "collapsed": false,
    "ExecuteTime": {
     "end_time": "2023-09-21T09:14:27.306994Z",
     "start_time": "2023-09-21T09:14:25.453659Z"
    }
   },
   "id": "f38fbc7489d6c8ab"
  },
  {
   "cell_type": "code",
   "execution_count": 11,
   "outputs": [
    {
     "name": "stdout",
     "output_type": "stream",
     "text": [
      "4/4 [==============================] - 1s 225ms/step - auc: 0.0000e+00 - rmse: 0.9816 - precision: 0.0000e+00 - recall: 0.0000e+00 - factorized_top_k/top_1_categorical_accuracy: 0.2350 - factorized_top_k/top_5_categorical_accuracy: 0.3550 - factorized_top_k/top_10_categorical_accuracy: 0.4550 - factorized_top_k/top_50_categorical_accuracy: 0.6600 - factorized_top_k/top_100_categorical_accuracy: 0.7600 - loss: 166.3080 - regularization_loss: 0.0000e+00 - total_loss: 166.3080\n"
     ]
    },
    {
     "data": {
      "text/plain": "([0.0,\n  0.9815613031387329,\n  0.0,\n  0.0,\n  0.23499999940395355,\n  0.35499998927116394,\n  0.45500001311302185,\n  0.6600000262260437,\n  0.7599999904632568,\n  16.63599395751953,\n  0,\n  16.63599395751953],\n [0.0, 0.0, 0.0])"
     },
     "execution_count": 11,
     "metadata": {},
     "output_type": "execute_result"
    }
   ],
   "source": [
    "result_evaluat_test = model.evaluate(cached_test)\n",
    "result_evaluat_test"
   ],
   "metadata": {
    "collapsed": false,
    "ExecuteTime": {
     "end_time": "2023-09-21T09:14:28.312416Z",
     "start_time": "2023-09-21T09:14:27.306577Z"
    }
   },
   "id": "a90bfb5478e24540"
  },
  {
   "cell_type": "code",
   "execution_count": 12,
   "outputs": [
    {
     "name": "stdout",
     "output_type": "stream",
     "text": [
      "Name\t\tValue\n",
      "------------------------------\n",
      "auc\t\t0.0\n",
      "rmse\t\t0.9815613031387329\n",
      "precision\t\t0.0\n",
      "recall\t\t0.0\n",
      "factorized_top_k/top_1_categorical_accuracy\t\t0.23499999940395355\n",
      "factorized_top_k/top_5_categorical_accuracy\t\t0.35499998927116394\n",
      "factorized_top_k/top_10_categorical_accuracy\t\t0.45500001311302185\n",
      "factorized_top_k/top_50_categorical_accuracy\t\t0.6600000262260437\n",
      "factorized_top_k/top_100_categorical_accuracy\t\t0.7599999904632568\n",
      "AUC: 0.0\n"
     ]
    }
   ],
   "source": [
    "print(\"Name\\t\\tValue\")\n",
    "print(\"-\" * 30)\n",
    "for metric in model.metrics:\n",
    "    print(f\"{metric.name}\\t\\t{metric.result().numpy()}\")\n",
    "print(f\"AUC: {model.auc_metric.result().numpy()}\")"
   ],
   "metadata": {
    "collapsed": false,
    "ExecuteTime": {
     "end_time": "2023-09-21T09:14:28.340545Z",
     "start_time": "2023-09-21T09:14:28.313367Z"
    }
   },
   "id": "2dc815d6547dfefe"
  },
  {
   "cell_type": "code",
   "execution_count": 13,
   "outputs": [
    {
     "data": {
      "text/plain": "array([ 2022289,  9569103,  9936392,  9328336,  5834128,  9201428,\n        5489439, 10661151,  8601626,  8168716,  7743304,  7774990,\n        6063201,  9492293, 10130457, 11046709,  5250008,  6414436,\n        7290087,  5177145,  2207123,  2008984,  5162544,  2082126,\n        7987454,  9067346, 10850328, 11069974,  5628903,  9196312,\n        8382816,  4752359,  5946316,  9309317,  4500203,  2237572,\n        1951426,  8608437,  9930390,  5947056,  2161382,  9509453,\n        9593564,  7929973,  7747793,  1943873, 10957378,  6958591,\n        5773571,  2105130,  6067632,  6823962,  5463362,  2531606,\n       10177777,  2173902,  4934629, 10669922,  2028249,  2002569,\n        4142792,  5678466,  5911963, 10811468])"
     },
     "execution_count": 13,
     "metadata": {},
     "output_type": "execute_result"
    }
   ],
   "source": [
    "sample = next(iter(cached_test.take(1)))\n",
    "\n",
    "# Extract customer_id from the sample\n",
    "customer_id = sample['customer_id'].numpy()\n",
    "customer_id"
   ],
   "metadata": {
    "collapsed": false,
    "ExecuteTime": {
     "end_time": "2023-09-21T09:14:28.346056Z",
     "start_time": "2023-09-21T09:14:28.330479Z"
    }
   },
   "id": "d293fa87e3fe5b52"
  },
  {
   "cell_type": "code",
   "execution_count": 14,
   "outputs": [
    {
     "name": "stdout",
     "output_type": "stream",
     "text": [
      "predicting user:  2022289\n",
      "user already bought following products: \n"
     ]
    },
    {
     "data": {
      "text/plain": "     main_product_id  productNumber                     productName  \\\n123          3473970  4062862948995  Reiterstiefel Glattleder braun   \n\n    productColorName articleNumber  brand__id  mainCategory__id gender  \\\n123            braun     51.617.22    6590677            315584      w   \n\n    originCountry line  ...  heelHeightGroup sizeEu  sizeUk  sizeIndex  \\\n123            PT  H-W  ...      3 cm - 5 cm   38.0     5.0        8.0   \n\n     shaftLength__value  sole  isTransferee isSuccessor  \\\n123                42.0    TR           0.0         0.0   \n\n                                duplicate_product__ids  \\\n123  [3473970, 3473971, 3473972, 3473974, 3473973, ...   \n\n                                         product_sizes  \n123  [35.0, 35.5, 36.0, 37.0, 37.5, 38.0, 38.5, 39....  \n\n[1 rows x 56 columns]",
      "text/html": "<div>\n<style scoped>\n    .dataframe tbody tr th:only-of-type {\n        vertical-align: middle;\n    }\n\n    .dataframe tbody tr th {\n        vertical-align: top;\n    }\n\n    .dataframe thead th {\n        text-align: right;\n    }\n</style>\n<table border=\"1\" class=\"dataframe\">\n  <thead>\n    <tr style=\"text-align: right;\">\n      <th></th>\n      <th>main_product_id</th>\n      <th>productNumber</th>\n      <th>productName</th>\n      <th>productColorName</th>\n      <th>articleNumber</th>\n      <th>brand__id</th>\n      <th>mainCategory__id</th>\n      <th>gender</th>\n      <th>originCountry</th>\n      <th>line</th>\n      <th>...</th>\n      <th>heelHeightGroup</th>\n      <th>sizeEu</th>\n      <th>sizeUk</th>\n      <th>sizeIndex</th>\n      <th>shaftLength__value</th>\n      <th>sole</th>\n      <th>isTransferee</th>\n      <th>isSuccessor</th>\n      <th>duplicate_product__ids</th>\n      <th>product_sizes</th>\n    </tr>\n  </thead>\n  <tbody>\n    <tr>\n      <th>123</th>\n      <td>3473970</td>\n      <td>4062862948995</td>\n      <td>Reiterstiefel Glattleder braun</td>\n      <td>braun</td>\n      <td>51.617.22</td>\n      <td>6590677</td>\n      <td>315584</td>\n      <td>w</td>\n      <td>PT</td>\n      <td>H-W</td>\n      <td>...</td>\n      <td>3 cm - 5 cm</td>\n      <td>38.0</td>\n      <td>5.0</td>\n      <td>8.0</td>\n      <td>42.0</td>\n      <td>TR</td>\n      <td>0.0</td>\n      <td>0.0</td>\n      <td>[3473970, 3473971, 3473972, 3473974, 3473973, ...</td>\n      <td>[35.0, 35.5, 36.0, 37.0, 37.5, 38.0, 38.5, 39....</td>\n    </tr>\n  </tbody>\n</table>\n<p>1 rows × 56 columns</p>\n</div>"
     },
     "metadata": {},
     "output_type": "display_data"
    },
    {
     "name": "stdout",
     "output_type": "stream",
     "text": [
      "predicted products: \n"
     ]
    },
    {
     "data": {
      "text/plain": "      main_product_id  productNumber  \\\n30            3473739  4062862951841   \n32             548623  4058395881823   \n316           3743084  4062862105275   \n328           3849864  4062862439554   \n605           4770015  4062862777274   \n647           5337911  4062862593898   \n731           4846598  4064032052839   \n1273          6110096  4064032995433   \n1543          6496831  4064032751732   \n2567          9182571  4065171606785   \n\n                                         productName productColorName  \\\n30             Sneaker low Materialmix Leder schwarz          schwarz   \n32             Sportliche Ballerina Rauleder schwarz          schwarz   \n316   Sneaker low Materialmix Leder/Lederimitat grün             grün   \n328      Schnürstiefelette Leder Reptiloptik schwarz          schwarz   \n605                Eleganter Ballerina Rauleder blau             blau   \n647                  Riemchensandale Glattleder weiß             weiß   \n731                 Riemchensandale Glattleder beige            beige   \n1273          Sportlicher Stiefel Glattleder schwarz          schwarz   \n1543                 Schnürstiefelette Rauleder Grau             Grau   \n2567                   Plateau Pumps Glattleder rosa             rosa   \n\n     articleNumber  brand__id  mainCategory__id gender originCountry line  \\\n30       53.480.27    6590677            315567      w            VN  H-W   \n32       02.643.47    6590678            315571      w            PT  F-S   \n316      56.966.35    4997827            315567      w            VN  H-W   \n328      51.801.37    6590677           5014852      w            SK  H-W   \n605      61.300.16    6590677            315574      w            PT  F-S   \n647      64.671.21    6590677            315563      w            SK  F-S   \n731      62.761.59    6590678            315563      w            PT  F-S   \n1273     71.629.27    6590677           5014850      w            PT  H-W   \n1543     73.734.19    6590677            315587      w            SK  H-W   \n2567     91.280.20    6590677            315569      w            PT  H-W   \n\n      ...  heelHeightGroup sizeEu  sizeUk  sizeIndex  shaftLength__value  \\\n30    ...      3 cm - 5 cm   42.0     8.0       14.0                 0.0   \n32    ...         bis 3 cm   46.0    11.0       20.0                 0.0   \n316   ...      3 cm - 5 cm   40.0     6.5       11.0                 0.0   \n328   ...      3 cm - 5 cm   43.0     9.0       16.0                16.0   \n605   ...         bis 3 cm   40.0     6.5       11.0                 0.0   \n647   ...      3 cm - 5 cm   40.0     6.5       11.0                 0.0   \n731   ...         bis 3 cm   38.5     5.5        9.0                 0.0   \n1273  ...      3 cm - 5 cm   43.0     9.0       16.0                41.0   \n1543  ...      3 cm - 5 cm   38.0     5.0        8.0                17.0   \n2567  ...      5 cm - 8 cm   42.0     8.0       14.0                 0.0   \n\n           sole  isTransferee isSuccessor  \\\n30          EVA           0.0         0.0   \n32        Gummi           0.0         0.0   \n316   Gummi-EVA           0.0         0.0   \n328         EVA           0.0         1.0   \n605         TPU           0.0         0.0   \n647          TR           0.0         0.0   \n731         TPU           0.0         0.0   \n1273        EVA           1.0         1.0   \n1543         TR           0.0         0.0   \n2567         TR           0.0         0.0   \n\n                                 duplicate_product__ids  \\\n30    [3473739, 3473736, 3473732, 3473734, 3473731, ...   \n32    [548623, 3482467, 3482470, 3482471, 3482472, 3...   \n316   [3743084, 3743082, 3743086, 3743081, 3743085, ...   \n328   [3849864, 3849865, 3849860, 3849854, 3849857, ...   \n605   [4770015, 4770016, 4770010, 4770012, 4770017, ...   \n647   [5337911, 4945855, 4769002, 4945846, 4945847, ...   \n731   [4846598, 4846596, 4846602, 5150032, 5150034, ...   \n1273  [6110096, 6509825, 6114875, 6114868, 6114871, ...   \n1543               [6496831, 7023180, 7023179, 8500093]   \n2567  [9182571, 9032029, 9032028, 9182566, 9182567, ...   \n\n                                          product_sizes  \n30    [35.0, 35.5, 36.0, 37.0, 37.5, 38.0, 38.5, 39....  \n32    [35.0, 35.5, 36.0, 37.0, 37.5, 38.0, 38.5, 39....  \n316   [35.0, 35.5, 36.0, 37.0, 37.5, 38.0, 38.5, 39....  \n328   [35.5, 36.0, 37.0, 37.5, 38.0, 38.5, 39.0, 40....  \n605   [35.0, 35.5, 36.0, 37.0, 37.5, 38.0, 38.5, 39....  \n647   [35.0, 35.5, 36.0, 37.0, 37.5, 38.0, 38.5, 39....  \n731   [35.0, 35.5, 36.0, 37.0, 37.5, 38.0, 38.5, 39....  \n1273  [35.0, 35.5, 36.0, 37.0, 37.5, 38.0, 38.5, 39....  \n1543                           [38.0, 42.0, 43.0, 44.0]  \n2567  [35.0, 37.0, 37.5, 38.0, 38.5, 39.0, 40.0, 42....  \n\n[10 rows x 56 columns]",
      "text/html": "<div>\n<style scoped>\n    .dataframe tbody tr th:only-of-type {\n        vertical-align: middle;\n    }\n\n    .dataframe tbody tr th {\n        vertical-align: top;\n    }\n\n    .dataframe thead th {\n        text-align: right;\n    }\n</style>\n<table border=\"1\" class=\"dataframe\">\n  <thead>\n    <tr style=\"text-align: right;\">\n      <th></th>\n      <th>main_product_id</th>\n      <th>productNumber</th>\n      <th>productName</th>\n      <th>productColorName</th>\n      <th>articleNumber</th>\n      <th>brand__id</th>\n      <th>mainCategory__id</th>\n      <th>gender</th>\n      <th>originCountry</th>\n      <th>line</th>\n      <th>...</th>\n      <th>heelHeightGroup</th>\n      <th>sizeEu</th>\n      <th>sizeUk</th>\n      <th>sizeIndex</th>\n      <th>shaftLength__value</th>\n      <th>sole</th>\n      <th>isTransferee</th>\n      <th>isSuccessor</th>\n      <th>duplicate_product__ids</th>\n      <th>product_sizes</th>\n    </tr>\n  </thead>\n  <tbody>\n    <tr>\n      <th>30</th>\n      <td>3473739</td>\n      <td>4062862951841</td>\n      <td>Sneaker low Materialmix Leder schwarz</td>\n      <td>schwarz</td>\n      <td>53.480.27</td>\n      <td>6590677</td>\n      <td>315567</td>\n      <td>w</td>\n      <td>VN</td>\n      <td>H-W</td>\n      <td>...</td>\n      <td>3 cm - 5 cm</td>\n      <td>42.0</td>\n      <td>8.0</td>\n      <td>14.0</td>\n      <td>0.0</td>\n      <td>EVA</td>\n      <td>0.0</td>\n      <td>0.0</td>\n      <td>[3473739, 3473736, 3473732, 3473734, 3473731, ...</td>\n      <td>[35.0, 35.5, 36.0, 37.0, 37.5, 38.0, 38.5, 39....</td>\n    </tr>\n    <tr>\n      <th>32</th>\n      <td>548623</td>\n      <td>4058395881823</td>\n      <td>Sportliche Ballerina Rauleder schwarz</td>\n      <td>schwarz</td>\n      <td>02.643.47</td>\n      <td>6590678</td>\n      <td>315571</td>\n      <td>w</td>\n      <td>PT</td>\n      <td>F-S</td>\n      <td>...</td>\n      <td>bis 3 cm</td>\n      <td>46.0</td>\n      <td>11.0</td>\n      <td>20.0</td>\n      <td>0.0</td>\n      <td>Gummi</td>\n      <td>0.0</td>\n      <td>0.0</td>\n      <td>[548623, 3482467, 3482470, 3482471, 3482472, 3...</td>\n      <td>[35.0, 35.5, 36.0, 37.0, 37.5, 38.0, 38.5, 39....</td>\n    </tr>\n    <tr>\n      <th>316</th>\n      <td>3743084</td>\n      <td>4062862105275</td>\n      <td>Sneaker low Materialmix Leder/Lederimitat grün</td>\n      <td>grün</td>\n      <td>56.966.35</td>\n      <td>4997827</td>\n      <td>315567</td>\n      <td>w</td>\n      <td>VN</td>\n      <td>H-W</td>\n      <td>...</td>\n      <td>3 cm - 5 cm</td>\n      <td>40.0</td>\n      <td>6.5</td>\n      <td>11.0</td>\n      <td>0.0</td>\n      <td>Gummi-EVA</td>\n      <td>0.0</td>\n      <td>0.0</td>\n      <td>[3743084, 3743082, 3743086, 3743081, 3743085, ...</td>\n      <td>[35.0, 35.5, 36.0, 37.0, 37.5, 38.0, 38.5, 39....</td>\n    </tr>\n    <tr>\n      <th>328</th>\n      <td>3849864</td>\n      <td>4062862439554</td>\n      <td>Schnürstiefelette Leder Reptiloptik schwarz</td>\n      <td>schwarz</td>\n      <td>51.801.37</td>\n      <td>6590677</td>\n      <td>5014852</td>\n      <td>w</td>\n      <td>SK</td>\n      <td>H-W</td>\n      <td>...</td>\n      <td>3 cm - 5 cm</td>\n      <td>43.0</td>\n      <td>9.0</td>\n      <td>16.0</td>\n      <td>16.0</td>\n      <td>EVA</td>\n      <td>0.0</td>\n      <td>1.0</td>\n      <td>[3849864, 3849865, 3849860, 3849854, 3849857, ...</td>\n      <td>[35.5, 36.0, 37.0, 37.5, 38.0, 38.5, 39.0, 40....</td>\n    </tr>\n    <tr>\n      <th>605</th>\n      <td>4770015</td>\n      <td>4062862777274</td>\n      <td>Eleganter Ballerina Rauleder blau</td>\n      <td>blau</td>\n      <td>61.300.16</td>\n      <td>6590677</td>\n      <td>315574</td>\n      <td>w</td>\n      <td>PT</td>\n      <td>F-S</td>\n      <td>...</td>\n      <td>bis 3 cm</td>\n      <td>40.0</td>\n      <td>6.5</td>\n      <td>11.0</td>\n      <td>0.0</td>\n      <td>TPU</td>\n      <td>0.0</td>\n      <td>0.0</td>\n      <td>[4770015, 4770016, 4770010, 4770012, 4770017, ...</td>\n      <td>[35.0, 35.5, 36.0, 37.0, 37.5, 38.0, 38.5, 39....</td>\n    </tr>\n    <tr>\n      <th>647</th>\n      <td>5337911</td>\n      <td>4062862593898</td>\n      <td>Riemchensandale Glattleder weiß</td>\n      <td>weiß</td>\n      <td>64.671.21</td>\n      <td>6590677</td>\n      <td>315563</td>\n      <td>w</td>\n      <td>SK</td>\n      <td>F-S</td>\n      <td>...</td>\n      <td>3 cm - 5 cm</td>\n      <td>40.0</td>\n      <td>6.5</td>\n      <td>11.0</td>\n      <td>0.0</td>\n      <td>TR</td>\n      <td>0.0</td>\n      <td>0.0</td>\n      <td>[5337911, 4945855, 4769002, 4945846, 4945847, ...</td>\n      <td>[35.0, 35.5, 36.0, 37.0, 37.5, 38.0, 38.5, 39....</td>\n    </tr>\n    <tr>\n      <th>731</th>\n      <td>4846598</td>\n      <td>4064032052839</td>\n      <td>Riemchensandale Glattleder beige</td>\n      <td>beige</td>\n      <td>62.761.59</td>\n      <td>6590678</td>\n      <td>315563</td>\n      <td>w</td>\n      <td>PT</td>\n      <td>F-S</td>\n      <td>...</td>\n      <td>bis 3 cm</td>\n      <td>38.5</td>\n      <td>5.5</td>\n      <td>9.0</td>\n      <td>0.0</td>\n      <td>TPU</td>\n      <td>0.0</td>\n      <td>0.0</td>\n      <td>[4846598, 4846596, 4846602, 5150032, 5150034, ...</td>\n      <td>[35.0, 35.5, 36.0, 37.0, 37.5, 38.0, 38.5, 39....</td>\n    </tr>\n    <tr>\n      <th>1273</th>\n      <td>6110096</td>\n      <td>4064032995433</td>\n      <td>Sportlicher Stiefel Glattleder schwarz</td>\n      <td>schwarz</td>\n      <td>71.629.27</td>\n      <td>6590677</td>\n      <td>5014850</td>\n      <td>w</td>\n      <td>PT</td>\n      <td>H-W</td>\n      <td>...</td>\n      <td>3 cm - 5 cm</td>\n      <td>43.0</td>\n      <td>9.0</td>\n      <td>16.0</td>\n      <td>41.0</td>\n      <td>EVA</td>\n      <td>1.0</td>\n      <td>1.0</td>\n      <td>[6110096, 6509825, 6114875, 6114868, 6114871, ...</td>\n      <td>[35.0, 35.5, 36.0, 37.0, 37.5, 38.0, 38.5, 39....</td>\n    </tr>\n    <tr>\n      <th>1543</th>\n      <td>6496831</td>\n      <td>4064032751732</td>\n      <td>Schnürstiefelette Rauleder Grau</td>\n      <td>Grau</td>\n      <td>73.734.19</td>\n      <td>6590677</td>\n      <td>315587</td>\n      <td>w</td>\n      <td>SK</td>\n      <td>H-W</td>\n      <td>...</td>\n      <td>3 cm - 5 cm</td>\n      <td>38.0</td>\n      <td>5.0</td>\n      <td>8.0</td>\n      <td>17.0</td>\n      <td>TR</td>\n      <td>0.0</td>\n      <td>0.0</td>\n      <td>[6496831, 7023180, 7023179, 8500093]</td>\n      <td>[38.0, 42.0, 43.0, 44.0]</td>\n    </tr>\n    <tr>\n      <th>2567</th>\n      <td>9182571</td>\n      <td>4065171606785</td>\n      <td>Plateau Pumps Glattleder rosa</td>\n      <td>rosa</td>\n      <td>91.280.20</td>\n      <td>6590677</td>\n      <td>315569</td>\n      <td>w</td>\n      <td>PT</td>\n      <td>H-W</td>\n      <td>...</td>\n      <td>5 cm - 8 cm</td>\n      <td>42.0</td>\n      <td>8.0</td>\n      <td>14.0</td>\n      <td>0.0</td>\n      <td>TR</td>\n      <td>0.0</td>\n      <td>0.0</td>\n      <td>[9182571, 9032029, 9032028, 9182566, 9182567, ...</td>\n      <td>[35.0, 37.0, 37.5, 38.0, 38.5, 39.0, 40.0, 42....</td>\n    </tr>\n  </tbody>\n</table>\n<p>10 rows × 56 columns</p>\n</div>"
     },
     "metadata": {},
     "output_type": "display_data"
    },
    {
     "name": "stdout",
     "output_type": "stream",
     "text": [
      "scores:  [0.02652754 0.02634018 0.02551009 0.02534236 0.02226981 0.02165984\n",
      " 0.02137865 0.02120614 0.02074541 0.02049074]\n"
     ]
    }
   ],
   "source": [
    "def get_random_customer_from_test_data():\n",
    "    return next(iter(test.take(1)))['customer_id'].numpy()\n",
    "\n",
    "def display_item_ids(item_ids):\n",
    "    display(product_data[product_data.main_product_id.isin(item_ids) ])\n",
    "\n",
    "def display_products_by_customer_id(customer_id):\n",
    "    display_item_ids(pandas_interaction_data[pandas_interaction_data.customer_id ==  customer_id].main_product_id.tolist())\n",
    "    \n",
    "\n",
    "index = tfrs.layers.factorized_top_k.BruteForce(model.user_embedding)\n",
    "index.index_from_dataset(\n",
    "    product_ids_dataset.batch(100).map(lambda id: (id, model.product_model(id))))\n",
    "\n",
    "def predict_user(user_id):\n",
    "    print('predicting user: ', user_id)\n",
    "    print('user already bought following products: ')\n",
    "    display_products_by_customer_id(user_id)\n",
    "    \n",
    "    score, predicted_product_ids = index(np.array([user_id]))\n",
    "    \n",
    "    print('predicted products: ')\n",
    "    display_item_ids(predicted_product_ids[0].numpy())\n",
    "    print('scores: ', score[0].numpy())\n",
    "\n",
    "\n",
    "user_id = get_random_customer_from_test_data()\n",
    "\n",
    "predict_user(user_id)"
   ],
   "metadata": {
    "collapsed": false,
    "ExecuteTime": {
     "end_time": "2023-09-21T09:14:28.468569Z",
     "start_time": "2023-09-21T09:14:28.343138Z"
    }
   },
   "id": "d8785689b14ad90"
  }
 ],
 "metadata": {
  "kernelspec": {
   "display_name": "Python 3",
   "language": "python",
   "name": "python3"
  },
  "language_info": {
   "codemirror_mode": {
    "name": "ipython",
    "version": 2
   },
   "file_extension": ".py",
   "mimetype": "text/x-python",
   "name": "python",
   "nbconvert_exporter": "python",
   "pygments_lexer": "ipython2",
   "version": "2.7.6"
  }
 },
 "nbformat": 4,
 "nbformat_minor": 5
}
