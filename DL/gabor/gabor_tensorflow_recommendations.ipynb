{
 "cells": [
  {
   "cell_type": "code",
   "execution_count": 110,
   "id": "initial_id",
   "metadata": {
    "collapsed": true,
    "ExecuteTime": {
     "end_time": "2023-09-15T07:13:04.068738Z",
     "start_time": "2023-09-15T07:13:04.006411Z"
    }
   },
   "outputs": [],
   "source": [
    "#%pip install -q tensorflow-recommenders\n",
    "import tensorflow as tf\n",
    "import pandas as pd\n",
    "from tensorflow.keras.layers import Embedding, Dense\n",
    "from tensorflow.keras import Sequential\n",
    "import tensorflow_recommenders as tfrs\n",
    "from tensorflow.keras.metrics import AUC\n",
    "import math\n",
    "import numpy as np\n",
    "\n"
   ]
  },
  {
   "cell_type": "code",
   "execution_count": 111,
   "outputs": [
    {
     "name": "stdout",
     "output_type": "stream",
     "text": [
      "GPU is available\n"
     ]
    }
   ],
   "source": [
    "if tf.config.list_physical_devices('GPU'):\n",
    "    print(\"GPU is available\")\n",
    "else:\n",
    "    print(\"GPU is not available\")"
   ],
   "metadata": {
    "collapsed": false,
    "ExecuteTime": {
     "end_time": "2023-09-15T07:13:04.068918Z",
     "start_time": "2023-09-15T07:13:04.010947Z"
    }
   },
   "id": "89849bbf9d8a3d88"
  },
  {
   "cell_type": "code",
   "execution_count": 112,
   "outputs": [
    {
     "data": {
      "text/plain": "        customer_id  main_product_id  amount\n102125      3861599           464697       1\n101525      3816902           360839       1\n416434      8907217          4775539       1\n5597        1957380          3866469       1\n442671      9280479          5337911       1\n...             ...              ...     ...\n562285     10821792          4064261       1\n115656      4142856          3476448       1\n244708      6084583          5336256       1\n539849     10505679          3696391       1\n206461      5482881          5338913       1\n\n[1000 rows x 3 columns]",
      "text/html": "<div>\n<style scoped>\n    .dataframe tbody tr th:only-of-type {\n        vertical-align: middle;\n    }\n\n    .dataframe tbody tr th {\n        vertical-align: top;\n    }\n\n    .dataframe thead th {\n        text-align: right;\n    }\n</style>\n<table border=\"1\" class=\"dataframe\">\n  <thead>\n    <tr style=\"text-align: right;\">\n      <th></th>\n      <th>customer_id</th>\n      <th>main_product_id</th>\n      <th>amount</th>\n    </tr>\n  </thead>\n  <tbody>\n    <tr>\n      <th>102125</th>\n      <td>3861599</td>\n      <td>464697</td>\n      <td>1</td>\n    </tr>\n    <tr>\n      <th>101525</th>\n      <td>3816902</td>\n      <td>360839</td>\n      <td>1</td>\n    </tr>\n    <tr>\n      <th>416434</th>\n      <td>8907217</td>\n      <td>4775539</td>\n      <td>1</td>\n    </tr>\n    <tr>\n      <th>5597</th>\n      <td>1957380</td>\n      <td>3866469</td>\n      <td>1</td>\n    </tr>\n    <tr>\n      <th>442671</th>\n      <td>9280479</td>\n      <td>5337911</td>\n      <td>1</td>\n    </tr>\n    <tr>\n      <th>...</th>\n      <td>...</td>\n      <td>...</td>\n      <td>...</td>\n    </tr>\n    <tr>\n      <th>562285</th>\n      <td>10821792</td>\n      <td>4064261</td>\n      <td>1</td>\n    </tr>\n    <tr>\n      <th>115656</th>\n      <td>4142856</td>\n      <td>3476448</td>\n      <td>1</td>\n    </tr>\n    <tr>\n      <th>244708</th>\n      <td>6084583</td>\n      <td>5336256</td>\n      <td>1</td>\n    </tr>\n    <tr>\n      <th>539849</th>\n      <td>10505679</td>\n      <td>3696391</td>\n      <td>1</td>\n    </tr>\n    <tr>\n      <th>206461</th>\n      <td>5482881</td>\n      <td>5338913</td>\n      <td>1</td>\n    </tr>\n  </tbody>\n</table>\n<p>1000 rows × 3 columns</p>\n</div>"
     },
     "metadata": {},
     "output_type": "display_data"
    },
    {
     "data": {
      "text/plain": "      main_product_id  productNumber  \\\n0              557559  4058394021466   \n1              551622  4054452768212   \n2              547193  4054452768427   \n3              549776  4059701687894   \n4              550726  4054452851594   \n...               ...            ...   \n3292         10603553  4066558951733   \n3293         10442948  4065171827272   \n3294         10782704  4251234499207   \n3295         10679703  4066558303617   \n3296         10496278  4065171812513   \n\n                                            productName productColorName  \\\n0              sportliche Ballerinas Glattleder schwarz          schwarz   \n1                     elegante Pumps Glattleder schwarz          schwarz   \n2                            Slipper Glattleder schwarz          schwarz   \n3                             Sneaker low Rauleder blau             blau   \n4     elegante Ballerinas Materialmix Lederimitat sc...          schwarz   \n...                                                 ...              ...   \n3292                Sandale met plateauzool Suède blauw            blauw   \n3293                    Mokassin Materialmix Leder pink             pink   \n3294                                 Shopper ANDIE blau             blau   \n3295                       Elegante pumps Glad leer wit              wit   \n3296                       Sandale compensée Daim beige            beige   \n\n     articleNumber  brand__id  mainCategory__id gender originCountry     line  \\\n0        02.643.57    6590678            315571      w            PT  F-S|H-W   \n1        05.160.37    6590677            315573      w            PT  F-S|H-W   \n2        04.443.27    6590677            315576      w            SK  F-S|H-W   \n3        06.968.46    4997827            315567      w            VN  F-S|H-W   \n4        06.102.67    6590678            315574      w            SK  F-S|H-W   \n...            ...        ...               ...    ...           ...      ...   \n3292     24.764.36    6590677            315568      w            SK      F-S   \n3293     26.090.21    6590678            315590      w            PT      F-S   \n3294        921453     363013            363017      w            DE      F-S   \n3295     21.450.60    6590677            315573      w            PT      F-S   \n3296     24.645.14    6590677            315564      w            PT      F-S   \n\n      ...  heelHeightGroup sizeEu  sizeUk  sizeIndex  shaftLength__value  \\\n0     ...         bis 3 cm   40.0     6.5       11.0                 0.0   \n1     ...      3 cm - 5 cm   38.0     5.0        8.0                 0.0   \n2     ...      3 cm - 5 cm   42.0     8.0       14.0                 0.0   \n3     ...      3 cm - 5 cm   39.0     6.0       10.0                 0.0   \n4     ...         bis 3 cm   37.5     4.5        7.0                 0.0   \n...   ...              ...    ...     ...        ...                 ...   \n3292  ...      5 cm - 8 cm   35.0     2.5        3.0                 0.0   \n3293  ...         bis 3 cm   40.5     7.0       12.0                 0.0   \n3294  ...              NaN    NaN     NaN        NaN                 NaN   \n3295  ...      5 cm - 8 cm   35.0     2.5        3.0                 0.0   \n3296  ...      5 cm - 8 cm   38.0     5.0        8.0                 0.0   \n\n           sole  isTransferee isSuccessor  \\\n0         Gummi           0.0         0.0   \n1           EVA           0.0         0.0   \n2        PU-TPU           0.0         0.0   \n3     Gummi-EVA           0.0         0.0   \n4           EVA           0.0         0.0   \n...         ...           ...         ...   \n3292     PU-TPU           0.0         0.0   \n3293      Gummi           0.0         0.0   \n3294        NaN           NaN         NaN   \n3295        TPU           0.0         0.0   \n3296         TR           0.0         0.0   \n\n                                 duplicate_product__ids  \\\n0     [557559, 549733, 549734, 557553, 589488, 58948...   \n1     [551622, 551505, 551510, 551509, 552973, 55162...   \n2     [547193, 547191, 547196, 547187, 547189, 54719...   \n3     [549776, 550599, 550596, 550593, 550601, 54978...   \n4     [550726, 550736, 550735, 550732, 550728, 55072...   \n...                                                 ...   \n3292                               [10603553, 10544662]   \n3293                               [10442948, 10442949]   \n3294                                         [10782704]   \n3295                                         [10679703]   \n3296                                         [10496278]   \n\n                                          product_sizes  \n0     [35.5, 36.0, 37.0, 37.5, 38.0, 38.5, 39.0, 40....  \n1     [35.0, 35.5, 36.0, 37.0, 37.5, 38.0, 38.5, 39....  \n2     [35.0, 35.5, 36.0, 37.0, 37.5, 38.0, 38.5, 39....  \n3     [35.0, 35.5, 36.0, 37.0, 37.5, 38.0, 38.5, 39....  \n4     [35.0, 37.0, 37.5, 38.0, 38.5, 39.0, 40.0, 40....  \n...                                                 ...  \n3292                                       [35.0, 37.0]  \n3293                                       [40.5, 41.0]  \n3294                                                 []  \n3295                                             [35.0]  \n3296                                             [38.0]  \n\n[3297 rows x 56 columns]",
      "text/html": "<div>\n<style scoped>\n    .dataframe tbody tr th:only-of-type {\n        vertical-align: middle;\n    }\n\n    .dataframe tbody tr th {\n        vertical-align: top;\n    }\n\n    .dataframe thead th {\n        text-align: right;\n    }\n</style>\n<table border=\"1\" class=\"dataframe\">\n  <thead>\n    <tr style=\"text-align: right;\">\n      <th></th>\n      <th>main_product_id</th>\n      <th>productNumber</th>\n      <th>productName</th>\n      <th>productColorName</th>\n      <th>articleNumber</th>\n      <th>brand__id</th>\n      <th>mainCategory__id</th>\n      <th>gender</th>\n      <th>originCountry</th>\n      <th>line</th>\n      <th>...</th>\n      <th>heelHeightGroup</th>\n      <th>sizeEu</th>\n      <th>sizeUk</th>\n      <th>sizeIndex</th>\n      <th>shaftLength__value</th>\n      <th>sole</th>\n      <th>isTransferee</th>\n      <th>isSuccessor</th>\n      <th>duplicate_product__ids</th>\n      <th>product_sizes</th>\n    </tr>\n  </thead>\n  <tbody>\n    <tr>\n      <th>0</th>\n      <td>557559</td>\n      <td>4058394021466</td>\n      <td>sportliche Ballerinas Glattleder schwarz</td>\n      <td>schwarz</td>\n      <td>02.643.57</td>\n      <td>6590678</td>\n      <td>315571</td>\n      <td>w</td>\n      <td>PT</td>\n      <td>F-S|H-W</td>\n      <td>...</td>\n      <td>bis 3 cm</td>\n      <td>40.0</td>\n      <td>6.5</td>\n      <td>11.0</td>\n      <td>0.0</td>\n      <td>Gummi</td>\n      <td>0.0</td>\n      <td>0.0</td>\n      <td>[557559, 549733, 549734, 557553, 589488, 58948...</td>\n      <td>[35.5, 36.0, 37.0, 37.5, 38.0, 38.5, 39.0, 40....</td>\n    </tr>\n    <tr>\n      <th>1</th>\n      <td>551622</td>\n      <td>4054452768212</td>\n      <td>elegante Pumps Glattleder schwarz</td>\n      <td>schwarz</td>\n      <td>05.160.37</td>\n      <td>6590677</td>\n      <td>315573</td>\n      <td>w</td>\n      <td>PT</td>\n      <td>F-S|H-W</td>\n      <td>...</td>\n      <td>3 cm - 5 cm</td>\n      <td>38.0</td>\n      <td>5.0</td>\n      <td>8.0</td>\n      <td>0.0</td>\n      <td>EVA</td>\n      <td>0.0</td>\n      <td>0.0</td>\n      <td>[551622, 551505, 551510, 551509, 552973, 55162...</td>\n      <td>[35.0, 35.5, 36.0, 37.0, 37.5, 38.0, 38.5, 39....</td>\n    </tr>\n    <tr>\n      <th>2</th>\n      <td>547193</td>\n      <td>4054452768427</td>\n      <td>Slipper Glattleder schwarz</td>\n      <td>schwarz</td>\n      <td>04.443.27</td>\n      <td>6590677</td>\n      <td>315576</td>\n      <td>w</td>\n      <td>SK</td>\n      <td>F-S|H-W</td>\n      <td>...</td>\n      <td>3 cm - 5 cm</td>\n      <td>42.0</td>\n      <td>8.0</td>\n      <td>14.0</td>\n      <td>0.0</td>\n      <td>PU-TPU</td>\n      <td>0.0</td>\n      <td>0.0</td>\n      <td>[547193, 547191, 547196, 547187, 547189, 54719...</td>\n      <td>[35.0, 35.5, 36.0, 37.0, 37.5, 38.0, 38.5, 39....</td>\n    </tr>\n    <tr>\n      <th>3</th>\n      <td>549776</td>\n      <td>4059701687894</td>\n      <td>Sneaker low Rauleder blau</td>\n      <td>blau</td>\n      <td>06.968.46</td>\n      <td>4997827</td>\n      <td>315567</td>\n      <td>w</td>\n      <td>VN</td>\n      <td>F-S|H-W</td>\n      <td>...</td>\n      <td>3 cm - 5 cm</td>\n      <td>39.0</td>\n      <td>6.0</td>\n      <td>10.0</td>\n      <td>0.0</td>\n      <td>Gummi-EVA</td>\n      <td>0.0</td>\n      <td>0.0</td>\n      <td>[549776, 550599, 550596, 550593, 550601, 54978...</td>\n      <td>[35.0, 35.5, 36.0, 37.0, 37.5, 38.0, 38.5, 39....</td>\n    </tr>\n    <tr>\n      <th>4</th>\n      <td>550726</td>\n      <td>4054452851594</td>\n      <td>elegante Ballerinas Materialmix Lederimitat sc...</td>\n      <td>schwarz</td>\n      <td>06.102.67</td>\n      <td>6590678</td>\n      <td>315574</td>\n      <td>w</td>\n      <td>SK</td>\n      <td>F-S|H-W</td>\n      <td>...</td>\n      <td>bis 3 cm</td>\n      <td>37.5</td>\n      <td>4.5</td>\n      <td>7.0</td>\n      <td>0.0</td>\n      <td>EVA</td>\n      <td>0.0</td>\n      <td>0.0</td>\n      <td>[550726, 550736, 550735, 550732, 550728, 55072...</td>\n      <td>[35.0, 37.0, 37.5, 38.0, 38.5, 39.0, 40.0, 40....</td>\n    </tr>\n    <tr>\n      <th>...</th>\n      <td>...</td>\n      <td>...</td>\n      <td>...</td>\n      <td>...</td>\n      <td>...</td>\n      <td>...</td>\n      <td>...</td>\n      <td>...</td>\n      <td>...</td>\n      <td>...</td>\n      <td>...</td>\n      <td>...</td>\n      <td>...</td>\n      <td>...</td>\n      <td>...</td>\n      <td>...</td>\n      <td>...</td>\n      <td>...</td>\n      <td>...</td>\n      <td>...</td>\n      <td>...</td>\n    </tr>\n    <tr>\n      <th>3292</th>\n      <td>10603553</td>\n      <td>4066558951733</td>\n      <td>Sandale met plateauzool Suède blauw</td>\n      <td>blauw</td>\n      <td>24.764.36</td>\n      <td>6590677</td>\n      <td>315568</td>\n      <td>w</td>\n      <td>SK</td>\n      <td>F-S</td>\n      <td>...</td>\n      <td>5 cm - 8 cm</td>\n      <td>35.0</td>\n      <td>2.5</td>\n      <td>3.0</td>\n      <td>0.0</td>\n      <td>PU-TPU</td>\n      <td>0.0</td>\n      <td>0.0</td>\n      <td>[10603553, 10544662]</td>\n      <td>[35.0, 37.0]</td>\n    </tr>\n    <tr>\n      <th>3293</th>\n      <td>10442948</td>\n      <td>4065171827272</td>\n      <td>Mokassin Materialmix Leder pink</td>\n      <td>pink</td>\n      <td>26.090.21</td>\n      <td>6590678</td>\n      <td>315590</td>\n      <td>w</td>\n      <td>PT</td>\n      <td>F-S</td>\n      <td>...</td>\n      <td>bis 3 cm</td>\n      <td>40.5</td>\n      <td>7.0</td>\n      <td>12.0</td>\n      <td>0.0</td>\n      <td>Gummi</td>\n      <td>0.0</td>\n      <td>0.0</td>\n      <td>[10442948, 10442949]</td>\n      <td>[40.5, 41.0]</td>\n    </tr>\n    <tr>\n      <th>3294</th>\n      <td>10782704</td>\n      <td>4251234499207</td>\n      <td>Shopper ANDIE blau</td>\n      <td>blau</td>\n      <td>921453</td>\n      <td>363013</td>\n      <td>363017</td>\n      <td>w</td>\n      <td>DE</td>\n      <td>F-S</td>\n      <td>...</td>\n      <td>NaN</td>\n      <td>NaN</td>\n      <td>NaN</td>\n      <td>NaN</td>\n      <td>NaN</td>\n      <td>NaN</td>\n      <td>NaN</td>\n      <td>NaN</td>\n      <td>[10782704]</td>\n      <td>[]</td>\n    </tr>\n    <tr>\n      <th>3295</th>\n      <td>10679703</td>\n      <td>4066558303617</td>\n      <td>Elegante pumps Glad leer wit</td>\n      <td>wit</td>\n      <td>21.450.60</td>\n      <td>6590677</td>\n      <td>315573</td>\n      <td>w</td>\n      <td>PT</td>\n      <td>F-S</td>\n      <td>...</td>\n      <td>5 cm - 8 cm</td>\n      <td>35.0</td>\n      <td>2.5</td>\n      <td>3.0</td>\n      <td>0.0</td>\n      <td>TPU</td>\n      <td>0.0</td>\n      <td>0.0</td>\n      <td>[10679703]</td>\n      <td>[35.0]</td>\n    </tr>\n    <tr>\n      <th>3296</th>\n      <td>10496278</td>\n      <td>4065171812513</td>\n      <td>Sandale compensée Daim beige</td>\n      <td>beige</td>\n      <td>24.645.14</td>\n      <td>6590677</td>\n      <td>315564</td>\n      <td>w</td>\n      <td>PT</td>\n      <td>F-S</td>\n      <td>...</td>\n      <td>5 cm - 8 cm</td>\n      <td>38.0</td>\n      <td>5.0</td>\n      <td>8.0</td>\n      <td>0.0</td>\n      <td>TR</td>\n      <td>0.0</td>\n      <td>0.0</td>\n      <td>[10496278]</td>\n      <td>[38.0]</td>\n    </tr>\n  </tbody>\n</table>\n<p>3297 rows × 56 columns</p>\n</div>"
     },
     "metadata": {},
     "output_type": "display_data"
    }
   ],
   "source": [
    "# Load data\n",
    "basepath = '../../datasets/preprocessed_datasets/gabor/'\n",
    "pandas_interaction_data = pd.read_pickle(basepath + 'user_item_interactions_only_main_products.pkl')\n",
    "pandas_interaction_data = pandas_interaction_data.sample(1000)\n",
    "pandas_interaction_data.amount = pandas_interaction_data.amount.apply(lambda x: 1 if x > 0 else 0) \n",
    "product_data = pd.read_pickle(basepath + 'no_product_variants_with_duplicate_ids.pkl')\n",
    "pandas_interaction_data.main_product_id = pandas_interaction_data.main_product_id.astype(int)\n",
    "product_data.main_product_id = product_data.main_product_id.astype(int)\n",
    "\n",
    "display(pandas_interaction_data, product_data)"
   ],
   "metadata": {
    "collapsed": false,
    "ExecuteTime": {
     "end_time": "2023-09-15T07:13:04.088192Z",
     "start_time": "2023-09-15T07:13:04.015303Z"
    }
   },
   "id": "e008bf18a8e80e4f"
  },
  {
   "cell_type": "code",
   "execution_count": 113,
   "outputs": [],
   "source": [
    "# Create a tf.data.Dataset from the interaction data\n",
    "interaction_dataset = tf.data.Dataset.from_tensor_slices({\n",
    "    'customer_id': pandas_interaction_data['customer_id'].values,\n",
    "    'main_product_id': pandas_interaction_data['main_product_id'].values,\n",
    "    'amount': pandas_interaction_data['amount'].values\n",
    "})\n",
    "#variables \n",
    "dataset_len = pandas_interaction_data.shape[0]\n",
    "test_len = math.ceil(dataset_len * 0.2)\n",
    "train_len = dataset_len - test_len\n",
    "\n",
    "metrics_batchsize = 16\n",
    "train_batch_size = 128\n",
    "test_batch_size = 64\n",
    "random_seed = 27"
   ],
   "metadata": {
    "collapsed": false,
    "ExecuteTime": {
     "end_time": "2023-09-15T07:13:04.090497Z",
     "start_time": "2023-09-15T07:13:04.066853Z"
    }
   },
   "id": "c089ac7f029dc324"
  },
  {
   "cell_type": "code",
   "execution_count": 114,
   "outputs": [
    {
     "data": {
      "text/plain": "<_TakeDataset element_spec={'customer_id': TensorSpec(shape=(), dtype=tf.int64, name=None), 'main_product_id': TensorSpec(shape=(), dtype=tf.int64, name=None), 'amount': TensorSpec(shape=(), dtype=tf.int64, name=None)}>"
     },
     "metadata": {},
     "output_type": "display_data"
    },
    {
     "data": {
      "text/plain": "<_TakeDataset element_spec={'customer_id': TensorSpec(shape=(), dtype=tf.int64, name=None), 'main_product_id': TensorSpec(shape=(), dtype=tf.int64, name=None), 'amount': TensorSpec(shape=(), dtype=tf.int64, name=None)}>"
     },
     "metadata": {},
     "output_type": "display_data"
    }
   ],
   "source": [
    "#train test split\n",
    "tf.random.set_seed(random_seed)\n",
    "# shuffled = interaction_dataset.shuffle(len, seed=random_seed, reshuffle_each_iteration=False)\n",
    "# train = shuffled.take(train_len)\n",
    "# test = shuffled.skip(train_len).take(test_len)\n",
    "shuffled = interaction_dataset.shuffle(dataset_len, seed=random_seed, reshuffle_each_iteration=False)\n",
    "\n",
    "train = shuffled.take(train_len)\n",
    "test = shuffled.skip(train_len).take(test_len)\n",
    "display(train, test)"
   ],
   "metadata": {
    "collapsed": false,
    "ExecuteTime": {
     "end_time": "2023-09-15T07:13:04.187684Z",
     "start_time": "2023-09-15T07:13:04.120435Z"
    }
   },
   "id": "825eec174445be8c"
  },
  {
   "cell_type": "code",
   "execution_count": 115,
   "outputs": [],
   "source": [
    "# Unique customer and product identifiers\n",
    "unique_customer_ids = np.array(pandas_interaction_data[\"customer_id\"].unique())\n",
    "unique_product_ids = np.array(pandas_interaction_data[\"main_product_id\"].unique())\n",
    "user_ids_vocabulary = tf.keras.layers.IntegerLookup(mask_token=None)\n",
    "user_ids_vocabulary.adapt(unique_customer_ids)\n",
    "\n",
    "product_ids_vocabulary = tf.keras.layers.IntegerLookup(mask_token=None)\n",
    "product_ids_vocabulary.adapt(unique_product_ids)\n",
    "# print(unique_product_ids.shape[0], unique_customer_ids.shape[0], unique_product_ids, unique_product_ids)"
   ],
   "metadata": {
    "collapsed": false,
    "ExecuteTime": {
     "end_time": "2023-09-15T07:13:04.320624Z",
     "start_time": "2023-09-15T07:13:04.133175Z"
    }
   },
   "id": "2e2625e63cf53fce"
  },
  {
   "cell_type": "code",
   "execution_count": 116,
   "outputs": [],
   "source": [
    "# Define a model using TensorFlow Recommenders\n",
    "product_ids_dataset = tf.data.Dataset.from_tensor_slices(unique_product_ids)\n",
    "class RetailModel(tfrs.Model):\n",
    "\n",
    "    def __init__(self, unique_product_ids_vocab, unique_customer_ids_vocab, embedding_dimension=32):\n",
    "        super().__init__()\n",
    "        # Set up user and product representations\n",
    "        self.user_embedding = tf.keras.Sequential([\n",
    "            unique_customer_ids_vocab,\n",
    "            Embedding(unique_customer_ids_vocab.vocabulary_size(), embedding_dimension)\n",
    "        ])\n",
    "        self.product_embedding = tf.keras.Sequential([\n",
    "            unique_product_ids_vocab,\n",
    "            Embedding(unique_product_ids_vocab.vocabulary_size(), embedding_dimension)\n",
    "        ])\n",
    "        # Set up a dense layer for the task.\n",
    "        self.dense_layer = Dense(128, activation=\"relu\")\n",
    "        \n",
    "\n",
    "\n",
    "        # Set up retrieval task and metrics\n",
    "        self.task = tfrs.tasks.Retrieval(\n",
    "            metrics=tfrs.metrics.FactorizedTopK(candidates=product_ids_dataset.batch(metrics_batchsize).map(self.product_model))\n",
    "        )\n",
    "        self.auc_metric = AUC(name='auc')\n",
    "        self.rmse_metric = tf.keras.metrics.RootMeanSquaredError(name='rmse')\n",
    "        self.precision = tf.keras.metrics.Precision(name='precision')\n",
    "        self.recall = tf.keras.metrics.Recall(name='recall')\n",
    "\n",
    "    def product_model(self, product_ids):\n",
    "        return self.product_embedding(product_ids)\n",
    "\n",
    "    def dot_product_score(self, user, product):\n",
    "        \"\"\"\n",
    "        Computes the dot product between user and product embeddings to get the interaction score.\n",
    "        \"\"\"\n",
    "        return tf.reduce_sum(user * product, axis=1)\n",
    "\n",
    "    def compute_loss(self, features, training=False):\n",
    "        # print(features)\n",
    "        user_embeddings = self.user_embedding(features[\"customer_id\"])\n",
    "        product_embeddings = self.product_embedding(features[\"main_product_id\"])\n",
    "        \n",
    "        user_output = self.dense_layer(user_embeddings)\n",
    "        product_output = self.dense_layer(product_embeddings)\n",
    "        # This is a hypothetical function that returns the logits or scores\n",
    "        # This needs to be adapted based on your actual model\n",
    "        positive_logits = self.dot_product_score(user_output, product_output)\n",
    "\n",
    "        # Update RMSE\n",
    "        self.rmse_metric.update_state(y_true=features[\"amount\"], y_pred=positive_logits)\n",
    "\n",
    "\n",
    "        return self.task(user_output, product_output)\n",
    "\n",
    "    def evaluate(self, validation_dataset, *args, **kwargs):\n",
    "        # Call the base class's evaluate method\n",
    "        \n",
    "    \n",
    "        # Compute additional metrics\n",
    "        for features in validation_dataset:\n",
    "            user_embeddings = self.user_embedding(features[\"customer_id\"])\n",
    "            product_embeddings = self.product_embedding(features[\"main_product_id\"])\n",
    "            \n",
    "            user_output = self.dense_layer(user_embeddings)\n",
    "            product_output = self.dense_layer(product_embeddings)\n",
    "            \n",
    "            positive_logits = self.dot_product_score(user_output, product_output)\n",
    "            # Assuming you have a binary \"label\" in your dataset indicating 1 for positive interaction and 0 for negative\n",
    "            self.precision.update_state(y_true=features[\"amount\"], y_pred=positive_logits)\n",
    "            self.recall.update_state(y_true=features[\"amount\"], y_pred=positive_logits)\n",
    "    \n",
    "        precision_result = self.precision.result().numpy()\n",
    "        recall_result = self.recall.result().numpy()\n",
    "    \n",
    "        # Calculate F1 score\n",
    "        if (precision_result + recall_result) != 0:\n",
    "            f1_score = 2 * (precision_result * recall_result) / (precision_result + recall_result)\n",
    "        else:\n",
    "            f1_score = 0.0\n",
    "    \n",
    "        # Reset the metrics for the next evaluation\n",
    "        # self.precision.reset_states()\n",
    "        # self.recall.reset_states()\n",
    "        base_results = super(RetailModel, self).evaluate(validation_dataset, *args, **kwargs)\n",
    "    \n",
    "        return base_results, [precision_result, recall_result, f1_score]  # or append additional results as needed\n",
    "\n"
   ],
   "metadata": {
    "collapsed": false,
    "ExecuteTime": {
     "start_time": "2023-09-15T07:13:04.327724Z"
    }
   },
   "id": "378cf58a3061ecfc"
  },
  {
   "cell_type": "code",
   "execution_count": 117,
   "outputs": [],
   "source": [
    "model = RetailModel(product_ids_vocabulary, user_ids_vocabulary, embedding_dimension=128)\n",
    "model.compile(optimizer=tf.keras.optimizers.legacy.Adam(learning_rate=0.001)) # using legacy instead of tf.keras.optimizers.Adagrad, because newer version is slow on m1/m2 macs"
   ],
   "metadata": {
    "collapsed": false,
    "ExecuteTime": {
     "end_time": "2023-09-15T07:13:04.427601Z",
     "start_time": "2023-09-15T07:13:04.332612Z"
    }
   },
   "id": "5ae0c3e4d7093bf1"
  },
  {
   "cell_type": "code",
   "execution_count": 118,
   "outputs": [
    {
     "name": "stdout",
     "output_type": "stream",
     "text": [
      "Epoch 1/6\n",
      "7/7 [==============================] - 4s 492ms/step - auc: 0.0000e+00 - rmse: 1.0003 - precision: 0.0000e+00 - recall: 0.0000e+00 - factorized_top_k/top_1_categorical_accuracy: 0.0225 - factorized_top_k/top_5_categorical_accuracy: 0.0538 - factorized_top_k/top_10_categorical_accuracy: 0.0800 - factorized_top_k/top_50_categorical_accuracy: 0.1937 - factorized_top_k/top_100_categorical_accuracy: 0.2988 - loss: 493.5778 - regularization_loss: 0.0000e+00 - total_loss: 493.5778\n",
      "Epoch 2/6\n",
      "7/7 [==============================] - 3s 439ms/step - auc: 0.0000e+00 - rmse: 0.9793 - precision: 0.0000e+00 - recall: 0.0000e+00 - factorized_top_k/top_1_categorical_accuracy: 0.2925 - factorized_top_k/top_5_categorical_accuracy: 0.4475 - factorized_top_k/top_10_categorical_accuracy: 0.5075 - factorized_top_k/top_50_categorical_accuracy: 0.7063 - factorized_top_k/top_100_categorical_accuracy: 0.8225 - loss: 491.5560 - regularization_loss: 0.0000e+00 - total_loss: 491.5560\n",
      "Epoch 3/6\n",
      "7/7 [==============================] - 3s 407ms/step - auc: 0.0000e+00 - rmse: 0.9551 - precision: 0.0000e+00 - recall: 0.0000e+00 - factorized_top_k/top_1_categorical_accuracy: 0.7800 - factorized_top_k/top_5_categorical_accuracy: 0.8938 - factorized_top_k/top_10_categorical_accuracy: 0.9262 - factorized_top_k/top_50_categorical_accuracy: 0.9750 - factorized_top_k/top_100_categorical_accuracy: 0.9850 - loss: 489.5084 - regularization_loss: 0.0000e+00 - total_loss: 489.5084\n",
      "Epoch 4/6\n",
      "7/7 [==============================] - 3s 411ms/step - auc: 0.0000e+00 - rmse: 0.9133 - precision: 0.0000e+00 - recall: 0.0000e+00 - factorized_top_k/top_1_categorical_accuracy: 0.9875 - factorized_top_k/top_5_categorical_accuracy: 0.9962 - factorized_top_k/top_10_categorical_accuracy: 0.9975 - factorized_top_k/top_50_categorical_accuracy: 1.0000 - factorized_top_k/top_100_categorical_accuracy: 1.0000 - loss: 486.8102 - regularization_loss: 0.0000e+00 - total_loss: 486.8102\n",
      "Epoch 5/6\n",
      "7/7 [==============================] - 3s 401ms/step - auc: 0.0000e+00 - rmse: 0.8424 - precision: 0.0000e+00 - recall: 0.0000e+00 - factorized_top_k/top_1_categorical_accuracy: 1.0000 - factorized_top_k/top_5_categorical_accuracy: 1.0000 - factorized_top_k/top_10_categorical_accuracy: 1.0000 - factorized_top_k/top_50_categorical_accuracy: 1.0000 - factorized_top_k/top_100_categorical_accuracy: 1.0000 - loss: 482.8860 - regularization_loss: 0.0000e+00 - total_loss: 482.8860\n",
      "Epoch 6/6\n",
      "7/7 [==============================] - 3s 415ms/step - auc: 0.0000e+00 - rmse: 0.7304 - precision: 0.0000e+00 - recall: 0.0000e+00 - factorized_top_k/top_1_categorical_accuracy: 1.0000 - factorized_top_k/top_5_categorical_accuracy: 1.0000 - factorized_top_k/top_10_categorical_accuracy: 1.0000 - factorized_top_k/top_50_categorical_accuracy: 1.0000 - factorized_top_k/top_100_categorical_accuracy: 1.0000 - loss: 476.9261 - regularization_loss: 0.0000e+00 - total_loss: 476.9261\n"
     ]
    },
    {
     "data": {
      "text/plain": "<keras.src.callbacks.History at 0x3931b2a30>"
     },
     "execution_count": 118,
     "metadata": {},
     "output_type": "execute_result"
    }
   ],
   "source": [
    "# Shuffle, batch, and cache the data.\n",
    "cached_train = train.shuffle(dataset_len).batch(train_batch_size).cache()\n",
    "cached_test = test.batch(test_batch_size).cache()\n",
    "# Train the model\n",
    "# model.fit(cached_train, validation_data=cached_test, validation_freq=5, epochs=3)\n",
    "model.fit(cached_train, validation_freq=5, epochs=6)"
   ],
   "metadata": {
    "collapsed": false,
    "ExecuteTime": {
     "end_time": "2023-09-15T07:13:23.242375Z",
     "start_time": "2023-09-15T07:13:04.428386Z"
    }
   },
   "id": "4add146de8d83cb0"
  },
  {
   "cell_type": "code",
   "execution_count": 119,
   "outputs": [
    {
     "name": "stdout",
     "output_type": "stream",
     "text": [
      "7/7 [==============================] - 3s 439ms/step - auc: 0.0000e+00 - rmse: 0.6308 - precision: 0.0000e+00 - recall: 0.0000e+00 - factorized_top_k/top_1_categorical_accuracy: 1.0000 - factorized_top_k/top_5_categorical_accuracy: 1.0000 - factorized_top_k/top_10_categorical_accuracy: 1.0000 - factorized_top_k/top_50_categorical_accuracy: 1.0000 - factorized_top_k/top_100_categorical_accuracy: 1.0000 - loss: 471.5708 - regularization_loss: 0.0000e+00 - total_loss: 471.5708\n"
     ]
    },
    {
     "data": {
      "text/plain": "([0.0,\n  0.6307846307754517,\n  0.0,\n  0.0,\n  1.0,\n  1.0,\n  1.0,\n  1.0,\n  1.0,\n  104.50016784667969,\n  0,\n  104.50016784667969],\n [1.0, 0.05625, 0.1065088753222601])"
     },
     "execution_count": 119,
     "metadata": {},
     "output_type": "execute_result"
    }
   ],
   "source": [
    "# Evaluate the model\n",
    "k = 5\n",
    "result_evaluate_train = model.evaluate(cached_train)\n",
    "result_evaluate_train"
   ],
   "metadata": {
    "collapsed": false,
    "ExecuteTime": {
     "end_time": "2023-09-15T07:13:26.868975Z",
     "start_time": "2023-09-15T07:13:23.238750Z"
    }
   },
   "id": "f38fbc7489d6c8ab"
  },
  {
   "cell_type": "code",
   "execution_count": 120,
   "outputs": [
    {
     "name": "stdout",
     "output_type": "stream",
     "text": [
      "4/4 [==============================] - 2s 455ms/step - auc: 0.0000e+00 - rmse: 0.8556 - precision: 0.0000e+00 - recall: 0.0000e+00 - factorized_top_k/top_1_categorical_accuracy: 0.9850 - factorized_top_k/top_5_categorical_accuracy: 0.9900 - factorized_top_k/top_10_categorical_accuracy: 0.9900 - factorized_top_k/top_50_categorical_accuracy: 0.9950 - factorized_top_k/top_100_categorical_accuracy: 0.9950 - loss: 166.5064 - regularization_loss: 0.0000e+00 - total_loss: 166.5064\n"
     ]
    },
    {
     "data": {
      "text/plain": "([0.0,\n  0.8555887937545776,\n  0.0,\n  0.0,\n  0.9850000143051147,\n  0.9900000095367432,\n  0.9900000095367432,\n  0.9950000047683716,\n  0.9950000047683716,\n  16.606243133544922,\n  0,\n  16.606243133544922],\n [0.0, 0.0, 0.0])"
     },
     "execution_count": 120,
     "metadata": {},
     "output_type": "execute_result"
    }
   ],
   "source": [
    "result_evaluat_test = model.evaluate(cached_test)\n",
    "result_evaluat_test"
   ],
   "metadata": {
    "collapsed": false,
    "ExecuteTime": {
     "end_time": "2023-09-15T07:13:28.857217Z",
     "start_time": "2023-09-15T07:13:26.863237Z"
    }
   },
   "id": "a90bfb5478e24540"
  },
  {
   "cell_type": "code",
   "execution_count": 121,
   "outputs": [
    {
     "name": "stdout",
     "output_type": "stream",
     "text": [
      "Name\t\tValue\n",
      "------------------------------\n",
      "auc\t\t0.0\n",
      "rmse\t\t0.8555887937545776\n",
      "precision\t\t0.0\n",
      "recall\t\t0.0\n",
      "factorized_top_k/top_1_categorical_accuracy\t\t0.9850000143051147\n",
      "factorized_top_k/top_5_categorical_accuracy\t\t0.9900000095367432\n",
      "factorized_top_k/top_10_categorical_accuracy\t\t0.9900000095367432\n",
      "factorized_top_k/top_50_categorical_accuracy\t\t0.9950000047683716\n",
      "factorized_top_k/top_100_categorical_accuracy\t\t0.9950000047683716\n",
      "AUC: 0.0\n"
     ]
    }
   ],
   "source": [
    "print(\"Name\\t\\tValue\")\n",
    "print(\"-\" * 30)\n",
    "for metric in model.metrics:\n",
    "    print(f\"{metric.name}\\t\\t{metric.result().numpy()}\")\n",
    "print(f\"AUC: {model.auc_metric.result().numpy()}\")"
   ],
   "metadata": {
    "collapsed": false,
    "ExecuteTime": {
     "end_time": "2023-09-15T07:13:28.898414Z",
     "start_time": "2023-09-15T07:13:28.854767Z"
    }
   },
   "id": "2dc815d6547dfefe"
  },
  {
   "cell_type": "code",
   "execution_count": null,
   "outputs": [],
   "source": [
    "sample = next(iter(cached_test.take(1)))\n",
    "\n",
    "# Extract customer_id from the sample\n",
    "customer_id = sample['customer_id'].numpy()\n",
    "customer_id"
   ],
   "metadata": {
    "collapsed": false
   },
   "id": "d293fa87e3fe5b52"
  },
  {
   "cell_type": "code",
   "execution_count": 144,
   "outputs": [
    {
     "name": "stdout",
     "output_type": "stream",
     "text": [
      "predicting user:  7371834\n",
      "user already bought following products: \n"
     ]
    },
    {
     "data": {
      "text/plain": "      main_product_id  productNumber  \\\n1398          6570268  4064032835586   \n\n                                   productName productColorName articleNumber  \\\n1398  Biker- / Combat Boot Effektleder schwarz          schwarz     71.730.37   \n\n      brand__id  mainCategory__id gender originCountry line  ...  \\\n1398    6590677           5014852      w            PT  H-W  ...   \n\n      heelHeightGroup sizeEu  sizeUk  sizeIndex  shaftLength__value    sole  \\\n1398      5 cm - 8 cm   43.0     9.0       16.0                17.0  PU-TPU   \n\n      isTransferee isSuccessor  \\\n1398           0.0         0.0   \n\n                                 duplicate_product__ids  \\\n1398  [6570268, 6570269, 6685292, 6685295, 6685290, ...   \n\n                                          product_sizes  \n1398  [35.0, 35.5, 36.0, 37.5, 38.0, 38.5, 39.0, 40....  \n\n[1 rows x 56 columns]",
      "text/html": "<div>\n<style scoped>\n    .dataframe tbody tr th:only-of-type {\n        vertical-align: middle;\n    }\n\n    .dataframe tbody tr th {\n        vertical-align: top;\n    }\n\n    .dataframe thead th {\n        text-align: right;\n    }\n</style>\n<table border=\"1\" class=\"dataframe\">\n  <thead>\n    <tr style=\"text-align: right;\">\n      <th></th>\n      <th>main_product_id</th>\n      <th>productNumber</th>\n      <th>productName</th>\n      <th>productColorName</th>\n      <th>articleNumber</th>\n      <th>brand__id</th>\n      <th>mainCategory__id</th>\n      <th>gender</th>\n      <th>originCountry</th>\n      <th>line</th>\n      <th>...</th>\n      <th>heelHeightGroup</th>\n      <th>sizeEu</th>\n      <th>sizeUk</th>\n      <th>sizeIndex</th>\n      <th>shaftLength__value</th>\n      <th>sole</th>\n      <th>isTransferee</th>\n      <th>isSuccessor</th>\n      <th>duplicate_product__ids</th>\n      <th>product_sizes</th>\n    </tr>\n  </thead>\n  <tbody>\n    <tr>\n      <th>1398</th>\n      <td>6570268</td>\n      <td>4064032835586</td>\n      <td>Biker- / Combat Boot Effektleder schwarz</td>\n      <td>schwarz</td>\n      <td>71.730.37</td>\n      <td>6590677</td>\n      <td>5014852</td>\n      <td>w</td>\n      <td>PT</td>\n      <td>H-W</td>\n      <td>...</td>\n      <td>5 cm - 8 cm</td>\n      <td>43.0</td>\n      <td>9.0</td>\n      <td>16.0</td>\n      <td>17.0</td>\n      <td>PU-TPU</td>\n      <td>0.0</td>\n      <td>0.0</td>\n      <td>[6570268, 6570269, 6685292, 6685295, 6685290, ...</td>\n      <td>[35.0, 35.5, 36.0, 37.5, 38.0, 38.5, 39.0, 40....</td>\n    </tr>\n  </tbody>\n</table>\n<p>1 rows × 56 columns</p>\n</div>"
     },
     "metadata": {},
     "output_type": "display_data"
    },
    {
     "name": "stdout",
     "output_type": "stream",
     "text": [
      "predicted products: \n"
     ]
    },
    {
     "data": {
      "text/plain": "      main_product_id  productNumber  \\\n57            3504613  4062862503521   \n253           3788595  4062862982111   \n310           3867012  4062862326571   \n598           4774679  4062862829751   \n714           4979174  4062862767572   \n865           5135470  4064032008614   \n982           5015102  4062862740254   \n1278          6115448  4064032454466   \n1781          7594101  4064032162385   \n2513          8502314  4065171188113   \n\n                                            productName productColorName  \\\n57                             Sneaker low Rauleder rot              rot   \n253                          Sneaker high Rauleder rosa             rosa   \n310                  Sneaker low Materialmix Leder grün             grün   \n598                        Keilsandalette Rauleder gelb             gelb   \n714   Sneaker low Materialmix Leder/Lederimitat mult...      multicolour   \n865                              Slipper Rauleder beige            beige   \n982    PG1018 Sneaker low Materialmix Leder/Textil grün             grün   \n1278              Biker- / Combat Boot Rauleder schwarz          schwarz   \n1781                  Eleganter Ballerina Rauleder rosa             rosa   \n2513               Sportlicher Stiefel Glattleder beige            beige   \n\n     articleNumber  brand__id  mainCategory__id gender originCountry line  \\\n57       56.498.38    6590678            315567      w            PT  H-W   \n253      53.736.14    6590677            315586      w            SK  H-W   \n310      56.358.83    6590678            315567      w            SK  H-W   \n598      62.750.22    6590678            315564      w            PT  F-S   \n714      66.365.31    6590678            315567      w            VN  F-S   \n865      62.433.30    6590678            315576      w            PT  F-S   \n982     1018.11.04    3692257           3692261      m            VN  F-S   \n1278     72.704.47    6590678           5014852      w            PT  H-W   \n1781     81.302.10    6590677            315576      w            PT  F-S   \n2513     91.739.21    6590677           5014850      w            PT  H-W   \n\n      ...  heelHeightGroup sizeEu  sizeUk  sizeIndex  shaftLength__value  \\\n57    ...      3 cm - 5 cm   42.5     8.5       15.0                 0.0   \n253   ...      3 cm - 5 cm   40.0     6.5       11.0                 9.0   \n310   ...      3 cm - 5 cm   42.0     8.0       14.0                 0.0   \n598   ...      3 cm - 5 cm   35.0     2.5        3.0                 0.0   \n714   ...      3 cm - 5 cm   41.0     7.5       13.0                 0.0   \n865   ...         bis 3 cm   44.0     9.5       17.0                 0.0   \n982   ...      3 cm - 5 cm   43.0     9.0        9.0                 0.0   \n1278  ...      3 cm - 5 cm   44.0     9.5       17.0                18.0   \n1781  ...         bis 3 cm   37.5     4.5        7.0                 0.0   \n2513  ...      5 cm - 8 cm   38.5     5.5        9.0                42.0   \n\n           sole  isTransferee isSuccessor  \\\n57          EVA           0.0         0.0   \n253          TR           0.0         0.0   \n310          TR           0.0         0.0   \n598          TR           0.0         1.0   \n714   Gummi-EVA           0.0         0.0   \n865          TR           0.0         0.0   \n982   Gummi-EVA           0.0         0.0   \n1278         TR           0.0         0.0   \n1781        TPU           0.0         0.0   \n2513     PU-TPU           0.0         0.0   \n\n                                 duplicate_product__ids  \\\n57    [3504613, 3473297, 3504603, 3473298, 3473464, ...   \n253   [3788595, 3788599, 3788594, 3788597, 3788596, ...   \n310   [3867012, 3867008, 3867006, 3867015, 3867011, ...   \n598   [4774679, 4773177, 4774684, 4773750, 4773755, ...   \n714   [4979174, 4979177, 4979169, 4979170, 4979171, ...   \n865   [5135470, 5135456, 5135462, 5149514, 5149515, ...   \n982   [5015102, 5015308, 5015303, 5015304, 5015306, ...   \n1278  [6115448, 6115441, 6115442, 6467634, 6115443, ...   \n1781  [7594101, 7594104, 7594103, 7594106, 7594100, ...   \n2513  [8502314, 8502322, 8502321, 8502317, 8502310, ...   \n\n                                          product_sizes  \n57    [35.0, 35.5, 36.0, 37.0, 37.5, 38.0, 38.5, 39....  \n253   [35.0, 37.0, 37.5, 38.0, 38.5, 39.0, 40.0, 40....  \n310   [35.0, 35.5, 36.0, 37.0, 37.5, 38.0, 38.5, 39....  \n598   [35.0, 35.5, 36.0, 37.0, 37.5, 38.0, 38.5, 39....  \n714   [35.0, 35.5, 36.0, 37.0, 37.5, 38.0, 38.5, 39....  \n865   [35.0, 35.5, 36.0, 37.0, 37.5, 38.0, 38.5, 39....  \n982   [39.0, 40.0, 40.5, 41.0, 42.0, 42.5, 43.0, 44....  \n1278  [35.0, 35.5, 36.0, 37.0, 37.5, 38.0, 38.5, 39....  \n1781  [35.0, 35.5, 37.0, 37.5, 38.0, 38.5, 39.0, 40....  \n2513  [35.0, 35.5, 36.0, 37.0, 37.5, 38.0, 38.5, 39....  \n\n[10 rows x 56 columns]",
      "text/html": "<div>\n<style scoped>\n    .dataframe tbody tr th:only-of-type {\n        vertical-align: middle;\n    }\n\n    .dataframe tbody tr th {\n        vertical-align: top;\n    }\n\n    .dataframe thead th {\n        text-align: right;\n    }\n</style>\n<table border=\"1\" class=\"dataframe\">\n  <thead>\n    <tr style=\"text-align: right;\">\n      <th></th>\n      <th>main_product_id</th>\n      <th>productNumber</th>\n      <th>productName</th>\n      <th>productColorName</th>\n      <th>articleNumber</th>\n      <th>brand__id</th>\n      <th>mainCategory__id</th>\n      <th>gender</th>\n      <th>originCountry</th>\n      <th>line</th>\n      <th>...</th>\n      <th>heelHeightGroup</th>\n      <th>sizeEu</th>\n      <th>sizeUk</th>\n      <th>sizeIndex</th>\n      <th>shaftLength__value</th>\n      <th>sole</th>\n      <th>isTransferee</th>\n      <th>isSuccessor</th>\n      <th>duplicate_product__ids</th>\n      <th>product_sizes</th>\n    </tr>\n  </thead>\n  <tbody>\n    <tr>\n      <th>57</th>\n      <td>3504613</td>\n      <td>4062862503521</td>\n      <td>Sneaker low Rauleder rot</td>\n      <td>rot</td>\n      <td>56.498.38</td>\n      <td>6590678</td>\n      <td>315567</td>\n      <td>w</td>\n      <td>PT</td>\n      <td>H-W</td>\n      <td>...</td>\n      <td>3 cm - 5 cm</td>\n      <td>42.5</td>\n      <td>8.5</td>\n      <td>15.0</td>\n      <td>0.0</td>\n      <td>EVA</td>\n      <td>0.0</td>\n      <td>0.0</td>\n      <td>[3504613, 3473297, 3504603, 3473298, 3473464, ...</td>\n      <td>[35.0, 35.5, 36.0, 37.0, 37.5, 38.0, 38.5, 39....</td>\n    </tr>\n    <tr>\n      <th>253</th>\n      <td>3788595</td>\n      <td>4062862982111</td>\n      <td>Sneaker high Rauleder rosa</td>\n      <td>rosa</td>\n      <td>53.736.14</td>\n      <td>6590677</td>\n      <td>315586</td>\n      <td>w</td>\n      <td>SK</td>\n      <td>H-W</td>\n      <td>...</td>\n      <td>3 cm - 5 cm</td>\n      <td>40.0</td>\n      <td>6.5</td>\n      <td>11.0</td>\n      <td>9.0</td>\n      <td>TR</td>\n      <td>0.0</td>\n      <td>0.0</td>\n      <td>[3788595, 3788599, 3788594, 3788597, 3788596, ...</td>\n      <td>[35.0, 37.0, 37.5, 38.0, 38.5, 39.0, 40.0, 40....</td>\n    </tr>\n    <tr>\n      <th>310</th>\n      <td>3867012</td>\n      <td>4062862326571</td>\n      <td>Sneaker low Materialmix Leder grün</td>\n      <td>grün</td>\n      <td>56.358.83</td>\n      <td>6590678</td>\n      <td>315567</td>\n      <td>w</td>\n      <td>SK</td>\n      <td>H-W</td>\n      <td>...</td>\n      <td>3 cm - 5 cm</td>\n      <td>42.0</td>\n      <td>8.0</td>\n      <td>14.0</td>\n      <td>0.0</td>\n      <td>TR</td>\n      <td>0.0</td>\n      <td>0.0</td>\n      <td>[3867012, 3867008, 3867006, 3867015, 3867011, ...</td>\n      <td>[35.0, 35.5, 36.0, 37.0, 37.5, 38.0, 38.5, 39....</td>\n    </tr>\n    <tr>\n      <th>598</th>\n      <td>4774679</td>\n      <td>4062862829751</td>\n      <td>Keilsandalette Rauleder gelb</td>\n      <td>gelb</td>\n      <td>62.750.22</td>\n      <td>6590678</td>\n      <td>315564</td>\n      <td>w</td>\n      <td>PT</td>\n      <td>F-S</td>\n      <td>...</td>\n      <td>3 cm - 5 cm</td>\n      <td>35.0</td>\n      <td>2.5</td>\n      <td>3.0</td>\n      <td>0.0</td>\n      <td>TR</td>\n      <td>0.0</td>\n      <td>1.0</td>\n      <td>[4774679, 4773177, 4774684, 4773750, 4773755, ...</td>\n      <td>[35.0, 35.5, 36.0, 37.0, 37.5, 38.0, 38.5, 39....</td>\n    </tr>\n    <tr>\n      <th>714</th>\n      <td>4979174</td>\n      <td>4062862767572</td>\n      <td>Sneaker low Materialmix Leder/Lederimitat mult...</td>\n      <td>multicolour</td>\n      <td>66.365.31</td>\n      <td>6590678</td>\n      <td>315567</td>\n      <td>w</td>\n      <td>VN</td>\n      <td>F-S</td>\n      <td>...</td>\n      <td>3 cm - 5 cm</td>\n      <td>41.0</td>\n      <td>7.5</td>\n      <td>13.0</td>\n      <td>0.0</td>\n      <td>Gummi-EVA</td>\n      <td>0.0</td>\n      <td>0.0</td>\n      <td>[4979174, 4979177, 4979169, 4979170, 4979171, ...</td>\n      <td>[35.0, 35.5, 36.0, 37.0, 37.5, 38.0, 38.5, 39....</td>\n    </tr>\n    <tr>\n      <th>865</th>\n      <td>5135470</td>\n      <td>4064032008614</td>\n      <td>Slipper Rauleder beige</td>\n      <td>beige</td>\n      <td>62.433.30</td>\n      <td>6590678</td>\n      <td>315576</td>\n      <td>w</td>\n      <td>PT</td>\n      <td>F-S</td>\n      <td>...</td>\n      <td>bis 3 cm</td>\n      <td>44.0</td>\n      <td>9.5</td>\n      <td>17.0</td>\n      <td>0.0</td>\n      <td>TR</td>\n      <td>0.0</td>\n      <td>0.0</td>\n      <td>[5135470, 5135456, 5135462, 5149514, 5149515, ...</td>\n      <td>[35.0, 35.5, 36.0, 37.0, 37.5, 38.0, 38.5, 39....</td>\n    </tr>\n    <tr>\n      <th>982</th>\n      <td>5015102</td>\n      <td>4062862740254</td>\n      <td>PG1018 Sneaker low Materialmix Leder/Textil grün</td>\n      <td>grün</td>\n      <td>1018.11.04</td>\n      <td>3692257</td>\n      <td>3692261</td>\n      <td>m</td>\n      <td>VN</td>\n      <td>F-S</td>\n      <td>...</td>\n      <td>3 cm - 5 cm</td>\n      <td>43.0</td>\n      <td>9.0</td>\n      <td>9.0</td>\n      <td>0.0</td>\n      <td>Gummi-EVA</td>\n      <td>0.0</td>\n      <td>0.0</td>\n      <td>[5015102, 5015308, 5015303, 5015304, 5015306, ...</td>\n      <td>[39.0, 40.0, 40.5, 41.0, 42.0, 42.5, 43.0, 44....</td>\n    </tr>\n    <tr>\n      <th>1278</th>\n      <td>6115448</td>\n      <td>4064032454466</td>\n      <td>Biker- / Combat Boot Rauleder schwarz</td>\n      <td>schwarz</td>\n      <td>72.704.47</td>\n      <td>6590678</td>\n      <td>5014852</td>\n      <td>w</td>\n      <td>PT</td>\n      <td>H-W</td>\n      <td>...</td>\n      <td>3 cm - 5 cm</td>\n      <td>44.0</td>\n      <td>9.5</td>\n      <td>17.0</td>\n      <td>18.0</td>\n      <td>TR</td>\n      <td>0.0</td>\n      <td>0.0</td>\n      <td>[6115448, 6115441, 6115442, 6467634, 6115443, ...</td>\n      <td>[35.0, 35.5, 36.0, 37.0, 37.5, 38.0, 38.5, 39....</td>\n    </tr>\n    <tr>\n      <th>1781</th>\n      <td>7594101</td>\n      <td>4064032162385</td>\n      <td>Eleganter Ballerina Rauleder rosa</td>\n      <td>rosa</td>\n      <td>81.302.10</td>\n      <td>6590677</td>\n      <td>315576</td>\n      <td>w</td>\n      <td>PT</td>\n      <td>F-S</td>\n      <td>...</td>\n      <td>bis 3 cm</td>\n      <td>37.5</td>\n      <td>4.5</td>\n      <td>7.0</td>\n      <td>0.0</td>\n      <td>TPU</td>\n      <td>0.0</td>\n      <td>0.0</td>\n      <td>[7594101, 7594104, 7594103, 7594106, 7594100, ...</td>\n      <td>[35.0, 35.5, 37.0, 37.5, 38.0, 38.5, 39.0, 40....</td>\n    </tr>\n    <tr>\n      <th>2513</th>\n      <td>8502314</td>\n      <td>4065171188113</td>\n      <td>Sportlicher Stiefel Glattleder beige</td>\n      <td>beige</td>\n      <td>91.739.21</td>\n      <td>6590677</td>\n      <td>5014850</td>\n      <td>w</td>\n      <td>PT</td>\n      <td>H-W</td>\n      <td>...</td>\n      <td>5 cm - 8 cm</td>\n      <td>38.5</td>\n      <td>5.5</td>\n      <td>9.0</td>\n      <td>42.0</td>\n      <td>PU-TPU</td>\n      <td>0.0</td>\n      <td>0.0</td>\n      <td>[8502314, 8502322, 8502321, 8502317, 8502310, ...</td>\n      <td>[35.0, 35.5, 36.0, 37.0, 37.5, 38.0, 38.5, 39....</td>\n    </tr>\n  </tbody>\n</table>\n<p>10 rows × 56 columns</p>\n</div>"
     },
     "metadata": {},
     "output_type": "display_data"
    },
    {
     "name": "stdout",
     "output_type": "stream",
     "text": [
      "scores:  [0.02840061 0.02751753 0.02736414 0.0265623  0.02621533 0.02588076\n",
      " 0.02574887 0.02568691 0.02432163 0.02376205]\n"
     ]
    }
   ],
   "source": [
    "def get_random_customer_from_test_data():\n",
    "    return next(iter(test.take(1)))['customer_id'].numpy()\n",
    "\n",
    "def display_item_ids(item_ids):\n",
    "    display(product_data[product_data.main_product_id.isin(item_ids) ])\n",
    "\n",
    "def display_products_by_customer_id(customer_id):\n",
    "    display_item_ids(pandas_interaction_data[pandas_interaction_data.customer_id ==  customer_id].main_product_id.tolist())\n",
    "    \n",
    "\n",
    "index = tfrs.layers.factorized_top_k.BruteForce(model.user_embedding)\n",
    "index.index_from_dataset(\n",
    "    product_ids_dataset.batch(100).map(lambda id: (id, model.product_model(id))))\n",
    "\n",
    "def predict_user(user_id):\n",
    "    print('predicting user: ', user_id)\n",
    "    print('user already bought following products: ')\n",
    "    display_products_by_customer_id(user_id)\n",
    "    \n",
    "    score, predicted_product_ids = index(np.array([user_id]))\n",
    "    \n",
    "    print('predicted products: ')\n",
    "    display_item_ids(predicted_product_ids[0].numpy())\n",
    "    print('scores: ', score[0].numpy())\n",
    "\n",
    "\n",
    "user_id = get_random_customer_from_test_data()\n",
    "\n",
    "predict_user(user_id)"
   ],
   "metadata": {
    "collapsed": false,
    "ExecuteTime": {
     "end_time": "2023-09-15T07:25:21.029076Z",
     "start_time": "2023-09-15T07:25:20.955317Z"
    }
   },
   "id": "d8785689b14ad90"
  }
 ],
 "metadata": {
  "kernelspec": {
   "display_name": "Python 3",
   "language": "python",
   "name": "python3"
  },
  "language_info": {
   "codemirror_mode": {
    "name": "ipython",
    "version": 2
   },
   "file_extension": ".py",
   "mimetype": "text/x-python",
   "name": "python",
   "nbconvert_exporter": "python",
   "pygments_lexer": "ipython2",
   "version": "2.7.6"
  }
 },
 "nbformat": 4,
 "nbformat_minor": 5
}
