{
 "cells": [
  {
   "cell_type": "code",
   "id": "initial_id",
   "metadata": {
    "collapsed": true,
    "ExecuteTime": {
     "end_time": "2024-05-13T17:16:40.459736Z",
     "start_time": "2024-05-13T17:16:37.909830Z"
    }
   },
   "source": [
    "#%pip install -q tensorflow-recommenders\n",
    "import tensorflow as tf\n",
    "import pandas as pd\n",
    "from tensorflow.keras.layers import Embedding, Dense, StringLookup, Dropout\n",
    "from tensorflow.keras import Sequential\n",
    "import tensorflow_recommenders as tfrs\n",
    "from tensorflow.keras.metrics import AUC\n",
    "import math\n",
    "import numpy as np\n",
    "from tensorflow.keras.preprocessing.text import Tokenizer\n",
    "from tensorflow.keras.preprocessing.sequence import pad_sequences\n",
    "\n",
    "from keras.src.layers import LSTM"
   ],
   "outputs": [],
   "execution_count": 1
  },
  {
   "cell_type": "code",
   "source": [
    "if tf.config.list_physical_devices('GPU'):\n",
    "    print(\"GPU is available\")\n",
    "else:\n",
    "    print(\"GPU is not available\")"
   ],
   "metadata": {
    "collapsed": false,
    "ExecuteTime": {
     "end_time": "2024-05-13T17:16:40.463480Z",
     "start_time": "2024-05-13T17:16:40.461Z"
    }
   },
   "id": "89849bbf9d8a3d88",
   "outputs": [
    {
     "name": "stdout",
     "output_type": "stream",
     "text": [
      "GPU is available\n"
     ]
    }
   ],
   "execution_count": 2
  },
  {
   "cell_type": "code",
   "source": [
    "# Load data\n",
    "def map_event(event):\n",
    "    if event == 'view':\n",
    "        return 1\n",
    "    elif event == 'addtocart':\n",
    "        return 2\n",
    "    elif event == 'transaction':\n",
    "        return 3\n",
    "    else:\n",
    "        return 0\n",
    "\n",
    "basepath = '../../datasets/preprocessed_datasets/retailrocket/'\n",
    "events = pd.read_pickle(basepath +'events_10k.pkl')\n",
    "events['event_mapped'] = events['event'].apply(map_event)\n",
    "events = events.drop(columns=['timestamp', 'event', 'transactionid', 'datetime'])\n",
    "item_properties = pd.read_pickle(basepath +'item_data_extracted.pkl')\n",
    "\n",
    "item_properties = item_properties[item_properties['itemid'].isin(events.itemid.unique())]\n",
    "\n",
    "display(events, item_properties)"
   ],
   "metadata": {
    "collapsed": false,
    "ExecuteTime": {
     "end_time": "2024-05-13T17:17:09.293994Z",
     "start_time": "2024-05-13T17:16:40.464235Z"
    }
   },
   "id": "e008bf18a8e80e4f",
   "outputs": [
    {
     "data": {
      "text/plain": [
       "         visitorid  itemid  event_mapped\n",
       "2482751    1046539  373805             1\n",
       "2204101    1383579  287405             1\n",
       "1964828     474264  153625             1\n",
       "2369299    1079433  287356             1\n",
       "640471      865010  113440             1\n",
       "...            ...     ...           ...\n",
       "560807      269455  459735             1\n",
       "1158627     228194  160499             1\n",
       "2074769     435897  346429             1\n",
       "1911438    1099927  261011             1\n",
       "1975046     747991  415715             1\n",
       "\n",
       "[10000 rows x 3 columns]"
      ],
      "text/html": [
       "<div>\n",
       "<style scoped>\n",
       "    .dataframe tbody tr th:only-of-type {\n",
       "        vertical-align: middle;\n",
       "    }\n",
       "\n",
       "    .dataframe tbody tr th {\n",
       "        vertical-align: top;\n",
       "    }\n",
       "\n",
       "    .dataframe thead th {\n",
       "        text-align: right;\n",
       "    }\n",
       "</style>\n",
       "<table border=\"1\" class=\"dataframe\">\n",
       "  <thead>\n",
       "    <tr style=\"text-align: right;\">\n",
       "      <th></th>\n",
       "      <th>visitorid</th>\n",
       "      <th>itemid</th>\n",
       "      <th>event_mapped</th>\n",
       "    </tr>\n",
       "  </thead>\n",
       "  <tbody>\n",
       "    <tr>\n",
       "      <th>2482751</th>\n",
       "      <td>1046539</td>\n",
       "      <td>373805</td>\n",
       "      <td>1</td>\n",
       "    </tr>\n",
       "    <tr>\n",
       "      <th>2204101</th>\n",
       "      <td>1383579</td>\n",
       "      <td>287405</td>\n",
       "      <td>1</td>\n",
       "    </tr>\n",
       "    <tr>\n",
       "      <th>1964828</th>\n",
       "      <td>474264</td>\n",
       "      <td>153625</td>\n",
       "      <td>1</td>\n",
       "    </tr>\n",
       "    <tr>\n",
       "      <th>2369299</th>\n",
       "      <td>1079433</td>\n",
       "      <td>287356</td>\n",
       "      <td>1</td>\n",
       "    </tr>\n",
       "    <tr>\n",
       "      <th>640471</th>\n",
       "      <td>865010</td>\n",
       "      <td>113440</td>\n",
       "      <td>1</td>\n",
       "    </tr>\n",
       "    <tr>\n",
       "      <th>...</th>\n",
       "      <td>...</td>\n",
       "      <td>...</td>\n",
       "      <td>...</td>\n",
       "    </tr>\n",
       "    <tr>\n",
       "      <th>560807</th>\n",
       "      <td>269455</td>\n",
       "      <td>459735</td>\n",
       "      <td>1</td>\n",
       "    </tr>\n",
       "    <tr>\n",
       "      <th>1158627</th>\n",
       "      <td>228194</td>\n",
       "      <td>160499</td>\n",
       "      <td>1</td>\n",
       "    </tr>\n",
       "    <tr>\n",
       "      <th>2074769</th>\n",
       "      <td>435897</td>\n",
       "      <td>346429</td>\n",
       "      <td>1</td>\n",
       "    </tr>\n",
       "    <tr>\n",
       "      <th>1911438</th>\n",
       "      <td>1099927</td>\n",
       "      <td>261011</td>\n",
       "      <td>1</td>\n",
       "    </tr>\n",
       "    <tr>\n",
       "      <th>1975046</th>\n",
       "      <td>747991</td>\n",
       "      <td>415715</td>\n",
       "      <td>1</td>\n",
       "    </tr>\n",
       "  </tbody>\n",
       "</table>\n",
       "<p>10000 rows × 3 columns</p>\n",
       "</div>"
      ]
     },
     "metadata": {},
     "output_type": "display_data"
    },
    {
     "data": {
      "text/plain": [
       "        itemid categoryid available  \\\n",
       "6            6       1091         1   \n",
       "31          32       1173         0   \n",
       "40          42         84         1   \n",
       "137        147        646         1   \n",
       "153        163        407         0   \n",
       "...        ...        ...       ...   \n",
       "416890  466685       1400         1   \n",
       "416941  466740        967         0   \n",
       "416960  466760       1549         0   \n",
       "417047  466861       1051         0   \n",
       "417050  466864        373         1   \n",
       "\n",
       "                                               properties  \\\n",
       "6       [112, 159, 19, 202, 227, 28, 283, 364, 521, 55...   \n",
       "31      [1036, 1052, 1066, 112, 159, 202, 227, 230, 28...   \n",
       "40      [1036, 1052, 1066, 112, 159, 202, 227, 230, 28...   \n",
       "137     [1092, 112, 159, 202, 283, 348, 364, 461, 491,...   \n",
       "153     [112, 159, 202, 227, 283, 364, 376, 397, 483, ...   \n",
       "...                                                   ...   \n",
       "416890  [102, 1028, 112, 159, 202, 227, 275, 28, 283, ...   \n",
       "416941  [1008, 1036, 112, 120, 140, 159, 202, 227, 283...   \n",
       "416960  [1036, 1066, 112, 159, 202, 210, 227, 230, 283...   \n",
       "417047  [1036, 1066, 112, 159, 202, 227, 230, 283, 300...   \n",
       "417050  [1036, 112, 152, 159, 202, 227, 230, 283, 348,...   \n",
       "\n",
       "                                          property_values  \n",
       "6       [679677, 519769, 1297729 n72.000 309206, 60935...  \n",
       "31      [726612, 1116693, n973.200 424566, 679677, 519...  \n",
       "40      [726612, 1116693, n68.400 424566, 679677, 5197...  \n",
       "137     [291010, 679677, 519769, 229273 388993 1246541...  \n",
       "153     [679677, 519769, 62992 n7440.000 925243, 92933...  \n",
       "...                                                   ...  \n",
       "416890  [769062, 769062, 679677, 519769, 1109436 45934...  \n",
       "416941  [124229 n336.000 1144008, 1154859, 679677, 115...  \n",
       "416960  [1318567, n720.000 424566, 679677, 519769, 123...  \n",
       "417047  [1318567, 732011 424566, 679677, 519769, 10769...  \n",
       "417050  [1154859, 679677, 1071492, 519769, 1262739 205...  \n",
       "\n",
       "[7705 rows x 5 columns]"
      ],
      "text/html": [
       "<div>\n",
       "<style scoped>\n",
       "    .dataframe tbody tr th:only-of-type {\n",
       "        vertical-align: middle;\n",
       "    }\n",
       "\n",
       "    .dataframe tbody tr th {\n",
       "        vertical-align: top;\n",
       "    }\n",
       "\n",
       "    .dataframe thead th {\n",
       "        text-align: right;\n",
       "    }\n",
       "</style>\n",
       "<table border=\"1\" class=\"dataframe\">\n",
       "  <thead>\n",
       "    <tr style=\"text-align: right;\">\n",
       "      <th></th>\n",
       "      <th>itemid</th>\n",
       "      <th>categoryid</th>\n",
       "      <th>available</th>\n",
       "      <th>properties</th>\n",
       "      <th>property_values</th>\n",
       "    </tr>\n",
       "  </thead>\n",
       "  <tbody>\n",
       "    <tr>\n",
       "      <th>6</th>\n",
       "      <td>6</td>\n",
       "      <td>1091</td>\n",
       "      <td>1</td>\n",
       "      <td>[112, 159, 19, 202, 227, 28, 283, 364, 521, 55...</td>\n",
       "      <td>[679677, 519769, 1297729 n72.000 309206, 60935...</td>\n",
       "    </tr>\n",
       "    <tr>\n",
       "      <th>31</th>\n",
       "      <td>32</td>\n",
       "      <td>1173</td>\n",
       "      <td>0</td>\n",
       "      <td>[1036, 1052, 1066, 112, 159, 202, 227, 230, 28...</td>\n",
       "      <td>[726612, 1116693, n973.200 424566, 679677, 519...</td>\n",
       "    </tr>\n",
       "    <tr>\n",
       "      <th>40</th>\n",
       "      <td>42</td>\n",
       "      <td>84</td>\n",
       "      <td>1</td>\n",
       "      <td>[1036, 1052, 1066, 112, 159, 202, 227, 230, 28...</td>\n",
       "      <td>[726612, 1116693, n68.400 424566, 679677, 5197...</td>\n",
       "    </tr>\n",
       "    <tr>\n",
       "      <th>137</th>\n",
       "      <td>147</td>\n",
       "      <td>646</td>\n",
       "      <td>1</td>\n",
       "      <td>[1092, 112, 159, 202, 283, 348, 364, 461, 491,...</td>\n",
       "      <td>[291010, 679677, 519769, 229273 388993 1246541...</td>\n",
       "    </tr>\n",
       "    <tr>\n",
       "      <th>153</th>\n",
       "      <td>163</td>\n",
       "      <td>407</td>\n",
       "      <td>0</td>\n",
       "      <td>[112, 159, 202, 227, 283, 364, 376, 397, 483, ...</td>\n",
       "      <td>[679677, 519769, 62992 n7440.000 925243, 92933...</td>\n",
       "    </tr>\n",
       "    <tr>\n",
       "      <th>...</th>\n",
       "      <td>...</td>\n",
       "      <td>...</td>\n",
       "      <td>...</td>\n",
       "      <td>...</td>\n",
       "      <td>...</td>\n",
       "    </tr>\n",
       "    <tr>\n",
       "      <th>416890</th>\n",
       "      <td>466685</td>\n",
       "      <td>1400</td>\n",
       "      <td>1</td>\n",
       "      <td>[102, 1028, 112, 159, 202, 227, 275, 28, 283, ...</td>\n",
       "      <td>[769062, 769062, 679677, 519769, 1109436 45934...</td>\n",
       "    </tr>\n",
       "    <tr>\n",
       "      <th>416941</th>\n",
       "      <td>466740</td>\n",
       "      <td>967</td>\n",
       "      <td>0</td>\n",
       "      <td>[1008, 1036, 112, 120, 140, 159, 202, 227, 283...</td>\n",
       "      <td>[124229 n336.000 1144008, 1154859, 679677, 115...</td>\n",
       "    </tr>\n",
       "    <tr>\n",
       "      <th>416960</th>\n",
       "      <td>466760</td>\n",
       "      <td>1549</td>\n",
       "      <td>0</td>\n",
       "      <td>[1036, 1066, 112, 159, 202, 210, 227, 230, 283...</td>\n",
       "      <td>[1318567, n720.000 424566, 679677, 519769, 123...</td>\n",
       "    </tr>\n",
       "    <tr>\n",
       "      <th>417047</th>\n",
       "      <td>466861</td>\n",
       "      <td>1051</td>\n",
       "      <td>0</td>\n",
       "      <td>[1036, 1066, 112, 159, 202, 227, 230, 283, 300...</td>\n",
       "      <td>[1318567, 732011 424566, 679677, 519769, 10769...</td>\n",
       "    </tr>\n",
       "    <tr>\n",
       "      <th>417050</th>\n",
       "      <td>466864</td>\n",
       "      <td>373</td>\n",
       "      <td>1</td>\n",
       "      <td>[1036, 112, 152, 159, 202, 227, 230, 283, 348,...</td>\n",
       "      <td>[1154859, 679677, 1071492, 519769, 1262739 205...</td>\n",
       "    </tr>\n",
       "  </tbody>\n",
       "</table>\n",
       "<p>7705 rows × 5 columns</p>\n",
       "</div>"
      ]
     },
     "metadata": {},
     "output_type": "display_data"
    }
   ],
   "execution_count": 3
  },
  {
   "cell_type": "code",
   "source": [
    "# item_properties['properties'] = item_properties['properties'].apply(lambda x: str(x))\n",
    "# item_properties['property_values'] = item_properties['property_values'].apply(lambda x: str(x))\n"
   ],
   "metadata": {
    "collapsed": false,
    "ExecuteTime": {
     "end_time": "2024-05-13T17:17:09.296618Z",
     "start_time": "2024-05-13T17:17:09.294772Z"
    }
   },
   "id": "309086c9d868b28f",
   "outputs": [],
   "execution_count": 4
  },
  {
   "cell_type": "code",
   "source": [
    "# Create a tf.data.Dataset from the interaction data\n",
    "#todo check how to use array of ids\n",
    "interaction_dataset = tf.data.Dataset.from_tensor_slices({\n",
    "    'visitorid': events['visitorid'].values,\n",
    "    'itemid': events['itemid'].values,\n",
    "    'event': events['event_mapped'].values,\n",
    "    # 'properties': item_properties['properties'].values,\n",
    "    # 'property_values': item_properties['property_values'].values,\n",
    "})\n",
    "#variables \n",
    "dataset_len = events.shape[0]\n",
    "test_len = math.ceil(dataset_len * 0.2)\n",
    "train_len = dataset_len - test_len\n",
    "\n",
    "metrics_batchsize = 1024\n",
    "dimension = 128\n",
    "train_batch_size = dimension\n",
    "test_batch_size = int(dimension/2)\n",
    "random_seed = 27"
   ],
   "metadata": {
    "collapsed": false,
    "ExecuteTime": {
     "end_time": "2024-05-13T17:17:09.313614Z",
     "start_time": "2024-05-13T17:17:09.298524Z"
    }
   },
   "id": "c089ac7f029dc324",
   "outputs": [],
   "execution_count": 5
  },
  {
   "cell_type": "code",
   "source": [
    "interaction_dataset"
   ],
   "metadata": {
    "collapsed": false,
    "ExecuteTime": {
     "end_time": "2024-05-13T17:17:09.316945Z",
     "start_time": "2024-05-13T17:17:09.314259Z"
    }
   },
   "id": "1271391f90ebc74d",
   "outputs": [
    {
     "data": {
      "text/plain": [
       "<_TensorSliceDataset element_spec={'visitorid': TensorSpec(shape=(), dtype=tf.int64, name=None), 'itemid': TensorSpec(shape=(), dtype=tf.int64, name=None), 'event': TensorSpec(shape=(), dtype=tf.int64, name=None)}>"
      ]
     },
     "execution_count": 6,
     "metadata": {},
     "output_type": "execute_result"
    }
   ],
   "execution_count": 6
  },
  {
   "cell_type": "code",
   "source": [
    "#train test split\n",
    "tf.random.set_seed(random_seed)\n",
    "# shuffled = interaction_dataset.shuffle(len, seed=random_seed, reshuffle_each_iteration=False)\n",
    "# train = shuffled.take(train_len)\n",
    "# test = shuffled.skip(train_len).take(test_len)\n",
    "shuffled = interaction_dataset.shuffle(dataset_len, seed=random_seed, reshuffle_each_iteration=False)\n",
    "\n",
    "train = shuffled.take(train_len)\n",
    "test = shuffled.skip(train_len).take(test_len)\n",
    "display(train, test)"
   ],
   "metadata": {
    "collapsed": false,
    "ExecuteTime": {
     "end_time": "2024-05-13T17:17:09.379836Z",
     "start_time": "2024-05-13T17:17:09.317504Z"
    }
   },
   "id": "825eec174445be8c",
   "outputs": [
    {
     "data": {
      "text/plain": [
       "<_TakeDataset element_spec={'visitorid': TensorSpec(shape=(), dtype=tf.int64, name=None), 'itemid': TensorSpec(shape=(), dtype=tf.int64, name=None), 'event': TensorSpec(shape=(), dtype=tf.int64, name=None)}>"
      ]
     },
     "metadata": {},
     "output_type": "display_data"
    },
    {
     "data": {
      "text/plain": [
       "<_TakeDataset element_spec={'visitorid': TensorSpec(shape=(), dtype=tf.int64, name=None), 'itemid': TensorSpec(shape=(), dtype=tf.int64, name=None), 'event': TensorSpec(shape=(), dtype=tf.int64, name=None)}>"
      ]
     },
     "metadata": {},
     "output_type": "display_data"
    }
   ],
   "execution_count": 7
  },
  {
   "cell_type": "code",
   "source": [
    "# Unique customer and product identifiers\n",
    "unique_visitor_ids = np.array(events[\"visitorid\"].unique())\n",
    "unique_item_ids = np.array(events[\"itemid\"].unique())\n",
    "\n",
    "\n",
    "visitor_ids_vocabulary = tf.keras.layers.IntegerLookup(mask_token=None)\n",
    "visitor_ids_vocabulary.adapt(unique_visitor_ids)\n",
    "\n",
    "item_ids_vocabulary = tf.keras.layers.IntegerLookup(mask_token=None)\n",
    "item_ids_vocabulary.adapt(unique_item_ids)\n",
    "# print(unique_product_ids.shape[0], unique_customer_ids.shape[0], unique_product_ids, unique_product_ids)"
   ],
   "metadata": {
    "collapsed": false,
    "ExecuteTime": {
     "end_time": "2024-05-13T17:17:10.221644Z",
     "start_time": "2024-05-13T17:17:09.380850Z"
    }
   },
   "id": "2e2625e63cf53fce",
   "outputs": [],
   "execution_count": 8
  },
  {
   "cell_type": "code",
   "source": [],
   "metadata": {
    "collapsed": false,
    "ExecuteTime": {
     "end_time": "2024-05-13T17:17:10.223865Z",
     "start_time": "2024-05-13T17:17:10.222453Z"
    }
   },
   "id": "580fc3478a356294",
   "outputs": [],
   "execution_count": 8
  },
  {
   "cell_type": "code",
   "source": [
    "# Define a model using TensorFlow Recommenders\n",
    "product_ids_dataset = tf.data.Dataset.from_tensor_slices(unique_item_ids)\n",
    "class RetailModel(tfrs.Model):\n",
    "\n",
    "    def __init__(self, unique_visitor_ids_vocab, unique_item_ids_vocab, embedding_dimension=32, metrics_batchsize=1024,\n",
    "                 retrieval_loss_weight=1.0, ranking_loss_weight=1.0, dropout_rate=0.2):\n",
    "        super().__init__()\n",
    "        self.retrieval_loss_weight = retrieval_loss_weight\n",
    "        self.ranking_loss_weight = ranking_loss_weight\n",
    "    \n",
    "        # Set up user and product representations\n",
    "        self.user_embedding = tf.keras.Sequential([\n",
    "            unique_visitor_ids_vocab,\n",
    "            Embedding(unique_visitor_ids_vocab.vocabulary_size(), embedding_dimension)\n",
    "        ])\n",
    "        self.product_embedding = tf.keras.Sequential([\n",
    "            unique_item_ids_vocab,\n",
    "            Embedding(unique_item_ids_vocab.vocabulary_size(), embedding_dimension)\n",
    "        ])\n",
    "        \n",
    "        # Set up a dense layer for the task.\n",
    "        self.dense_layer = Dense(embedding_dimension, activation=\"relu\")\n",
    "        self.dense_dropout = Dropout(dropout_rate)\n",
    "        # Setup retrieval task and metrics\n",
    "        \n",
    "        self.retrieval_task = tfrs.tasks.Retrieval(\n",
    "            metrics=tfrs.metrics.FactorizedTopK(candidates=product_ids_dataset.batch(metrics_batchsize).map(self.product_model))\n",
    "        )\n",
    "\n",
    "        # Setup ranking task with pairwise CategoricalCrossentropy loss\n",
    "        self.ranking_task = tfrs.tasks.Ranking(\n",
    "            loss=tf.keras.losses.CategoricalCrossentropy(),\n",
    "            metrics=[tf.keras.metrics.RootMeanSquaredError(), tf.keras.metrics.CategoricalAccuracy(), tf.keras.metrics.AUC()]\n",
    "        )\n",
    "\n",
    "\n",
    "    def product_model(self, product_ids):\n",
    "        return self.product_embedding(product_ids)\n",
    "\n",
    "    def dot_product_score(self, user, product):\n",
    "        \"\"\"\n",
    "        Computes the dot product between user and product embeddings to get the interaction score.\n",
    "        \"\"\"\n",
    "        return tf.reduce_sum(user * product, axis=1)\n",
    "\n",
    "    def compute_loss(self, features, training=False):\n",
    "        user_embeddings = self.user_embedding(features[\"visitorid\"])\n",
    "        product_embeddings = self.product_embedding(features[\"itemid\"])\n",
    "\n",
    "        # Apply dense layers\n",
    "        user_output = self.dense_layer(user_embeddings)\n",
    "        product_output = self.dense_layer(product_embeddings)\n",
    "\n",
    "        # Compute scores\n",
    "        positive_logits = self.dot_product_score(user_output, product_output)\n",
    "        # Compute losses for both retrieval and ranking\n",
    "        retrieval_loss = self.retrieval_task(user_output, product_output, compute_metrics=not training)\n",
    "        ranking_loss = self.ranking_task(labels=features[\"event\"], predictions=positive_logits, sample_weight=features.get(\"weight\"))\n",
    "\n",
    "        return (self.retrieval_loss_weight * retrieval_loss +\n",
    "                self.ranking_loss_weight * ranking_loss)\n",
    "\n",
    "    def evaluate(self, validation_dataset, *args, **kwargs):\n",
    "        return super().evaluate(validation_dataset, *args, **kwargs)\n",
    "\n"
   ],
   "metadata": {
    "collapsed": false,
    "ExecuteTime": {
     "end_time": "2024-05-13T17:17:10.232263Z",
     "start_time": "2024-05-13T17:17:10.224559Z"
    }
   },
   "id": "378cf58a3061ecfc",
   "outputs": [],
   "execution_count": 9
  },
  {
   "cell_type": "code",
   "source": [
    "model = RetailModel(item_ids_vocabulary, visitor_ids_vocabulary, embedding_dimension=dimension, retrieval_loss_weight=1.0, ranking_loss_weight=0.8, metrics_batchsize=metrics_batchsize)\n",
    "model.compile(optimizer=tf.keras.optimizers.legacy.Adam(learning_rate=0.001), loss='categorical_crossentropy') # using legacy instead of tf.keras.optimizers.Adagrad, because newer version is slow on m1/m2 macs"
   ],
   "metadata": {
    "collapsed": false,
    "ExecuteTime": {
     "end_time": "2024-05-13T17:17:10.343461Z",
     "start_time": "2024-05-13T17:17:10.233220Z"
    }
   },
   "id": "5ae0c3e4d7093bf1",
   "outputs": [],
   "execution_count": 10
  },
  {
   "cell_type": "code",
   "source": [
    "# Shuffle, batch, and cache the data.\n",
    "cached_train = train.shuffle(dataset_len).batch(train_batch_size).cache()\n",
    "cached_test = test.batch(test_batch_size).cache()\n",
    "# Train the model\n",
    "# model.fit(cached_train, validation_data=cached_test, validation_freq=5, epochs=3) \n",
    "model.fit(cached_train, validation_freq=5, epochs=10)"
   ],
   "metadata": {
    "collapsed": false,
    "ExecuteTime": {
     "end_time": "2024-05-13T17:17:23.590308Z",
     "start_time": "2024-05-13T17:17:10.344288Z"
    }
   },
   "id": "4add146de8d83cb0",
   "outputs": [
    {
     "name": "stdout",
     "output_type": "stream",
     "text": [
      "Epoch 1/10\n",
      "63/63 [==============================] - 2s 22ms/step - factorized_top_k/top_1_categorical_accuracy: 0.0000e+00 - factorized_top_k/top_5_categorical_accuracy: 0.0000e+00 - factorized_top_k/top_10_categorical_accuracy: 0.0000e+00 - factorized_top_k/top_50_categorical_accuracy: 0.0000e+00 - factorized_top_k/top_100_categorical_accuracy: 0.0000e+00 - root_mean_squared_error: 0.9653 - categorical_accuracy: 0.0000e+00 - auc: 0.0000e+00 - loss: 1121.2080 - regularization_loss: 0.0000e+00 - total_loss: 1121.2080\n",
      "Epoch 2/10\n",
      "63/63 [==============================] - 1s 18ms/step - factorized_top_k/top_1_categorical_accuracy: 0.0000e+00 - factorized_top_k/top_5_categorical_accuracy: 0.0000e+00 - factorized_top_k/top_10_categorical_accuracy: 0.0000e+00 - factorized_top_k/top_50_categorical_accuracy: 0.0000e+00 - factorized_top_k/top_100_categorical_accuracy: 0.0000e+00 - root_mean_squared_error: 0.9315 - categorical_accuracy: 0.0159 - auc: 0.0000e+00 - loss: 1119.7727 - regularization_loss: 0.0000e+00 - total_loss: 1119.7727\n",
      "Epoch 3/10\n",
      "63/63 [==============================] - 1s 18ms/step - factorized_top_k/top_1_categorical_accuracy: 0.0000e+00 - factorized_top_k/top_5_categorical_accuracy: 0.0000e+00 - factorized_top_k/top_10_categorical_accuracy: 0.0000e+00 - factorized_top_k/top_50_categorical_accuracy: 0.0000e+00 - factorized_top_k/top_100_categorical_accuracy: 0.0000e+00 - root_mean_squared_error: 0.9363 - categorical_accuracy: 0.0159 - auc: 0.0000e+00 - loss: 1119.6569 - regularization_loss: 0.0000e+00 - total_loss: 1119.6569\n",
      "Epoch 4/10\n",
      "63/63 [==============================] - 1s 22ms/step - factorized_top_k/top_1_categorical_accuracy: 0.0000e+00 - factorized_top_k/top_5_categorical_accuracy: 0.0000e+00 - factorized_top_k/top_10_categorical_accuracy: 0.0000e+00 - factorized_top_k/top_50_categorical_accuracy: 0.0000e+00 - factorized_top_k/top_100_categorical_accuracy: 0.0000e+00 - root_mean_squared_error: 0.9412 - categorical_accuracy: 0.0159 - auc: 0.0000e+00 - loss: 1119.6006 - regularization_loss: 0.0000e+00 - total_loss: 1119.6006\n",
      "Epoch 5/10\n",
      "63/63 [==============================] - 1s 20ms/step - factorized_top_k/top_1_categorical_accuracy: 0.0000e+00 - factorized_top_k/top_5_categorical_accuracy: 0.0000e+00 - factorized_top_k/top_10_categorical_accuracy: 0.0000e+00 - factorized_top_k/top_50_categorical_accuracy: 0.0000e+00 - factorized_top_k/top_100_categorical_accuracy: 0.0000e+00 - root_mean_squared_error: 0.9455 - categorical_accuracy: 0.0317 - auc: 0.0000e+00 - loss: 1119.5616 - regularization_loss: 0.0000e+00 - total_loss: 1119.5616\n",
      "Epoch 6/10\n",
      "63/63 [==============================] - 1s 18ms/step - factorized_top_k/top_1_categorical_accuracy: 0.0000e+00 - factorized_top_k/top_5_categorical_accuracy: 0.0000e+00 - factorized_top_k/top_10_categorical_accuracy: 0.0000e+00 - factorized_top_k/top_50_categorical_accuracy: 0.0000e+00 - factorized_top_k/top_100_categorical_accuracy: 0.0000e+00 - root_mean_squared_error: 0.9491 - categorical_accuracy: 0.0317 - auc: 0.0000e+00 - loss: 1119.5318 - regularization_loss: 0.0000e+00 - total_loss: 1119.5318\n",
      "Epoch 7/10\n",
      "63/63 [==============================] - 1s 18ms/step - factorized_top_k/top_1_categorical_accuracy: 0.0000e+00 - factorized_top_k/top_5_categorical_accuracy: 0.0000e+00 - factorized_top_k/top_10_categorical_accuracy: 0.0000e+00 - factorized_top_k/top_50_categorical_accuracy: 0.0000e+00 - factorized_top_k/top_100_categorical_accuracy: 0.0000e+00 - root_mean_squared_error: 0.9520 - categorical_accuracy: 0.0476 - auc: 0.0000e+00 - loss: 1119.5076 - regularization_loss: 0.0000e+00 - total_loss: 1119.5076\n",
      "Epoch 8/10\n",
      "63/63 [==============================] - 1s 18ms/step - factorized_top_k/top_1_categorical_accuracy: 0.0000e+00 - factorized_top_k/top_5_categorical_accuracy: 0.0000e+00 - factorized_top_k/top_10_categorical_accuracy: 0.0000e+00 - factorized_top_k/top_50_categorical_accuracy: 0.0000e+00 - factorized_top_k/top_100_categorical_accuracy: 0.0000e+00 - root_mean_squared_error: 0.9550 - categorical_accuracy: 0.0476 - auc: 0.0000e+00 - loss: 1119.4845 - regularization_loss: 0.0000e+00 - total_loss: 1119.4845\n",
      "Epoch 9/10\n",
      "63/63 [==============================] - 1s 20ms/step - factorized_top_k/top_1_categorical_accuracy: 0.0000e+00 - factorized_top_k/top_5_categorical_accuracy: 0.0000e+00 - factorized_top_k/top_10_categorical_accuracy: 0.0000e+00 - factorized_top_k/top_50_categorical_accuracy: 0.0000e+00 - factorized_top_k/top_100_categorical_accuracy: 0.0000e+00 - root_mean_squared_error: 0.9572 - categorical_accuracy: 0.0476 - auc: 0.0000e+00 - loss: 1119.4605 - regularization_loss: 0.0000e+00 - total_loss: 1119.4605\n",
      "Epoch 10/10\n",
      "63/63 [==============================] - 1s 19ms/step - factorized_top_k/top_1_categorical_accuracy: 0.0000e+00 - factorized_top_k/top_5_categorical_accuracy: 0.0000e+00 - factorized_top_k/top_10_categorical_accuracy: 0.0000e+00 - factorized_top_k/top_50_categorical_accuracy: 0.0000e+00 - factorized_top_k/top_100_categorical_accuracy: 0.0000e+00 - root_mean_squared_error: 0.9596 - categorical_accuracy: 0.0476 - auc: 0.0000e+00 - loss: 1119.4335 - regularization_loss: 0.0000e+00 - total_loss: 1119.4335\n"
     ]
    },
    {
     "data": {
      "text/plain": [
       "<keras.src.callbacks.History at 0x31d4cf520>"
      ]
     },
     "execution_count": 11,
     "metadata": {},
     "output_type": "execute_result"
    }
   ],
   "execution_count": 11
  },
  {
   "cell_type": "code",
   "source": [
    "# Evaluate the model\n",
    "k = 5\n",
    "result_evaluate_train = model.evaluate(cached_train)\n",
    "result_evaluate_train"
   ],
   "metadata": {
    "collapsed": false,
    "ExecuteTime": {
     "end_time": "2024-05-13T17:17:30.622818Z",
     "start_time": "2024-05-13T17:17:23.591283Z"
    }
   },
   "id": "f38fbc7489d6c8ab",
   "outputs": [
    {
     "name": "stdout",
     "output_type": "stream",
     "text": [
      "63/63 [==============================] - 7s 101ms/step - factorized_top_k/top_1_categorical_accuracy: 0.9998 - factorized_top_k/top_5_categorical_accuracy: 0.9998 - factorized_top_k/top_10_categorical_accuracy: 0.9998 - factorized_top_k/top_50_categorical_accuracy: 0.9998 - factorized_top_k/top_100_categorical_accuracy: 0.9998 - root_mean_squared_error: 0.9607 - categorical_accuracy: 0.0476 - auc: 0.0000e+00 - loss: 1119.4026 - regularization_loss: 0.0000e+00 - total_loss: 1119.4026\n"
     ]
    },
    {
     "data": {
      "text/plain": [
       "[0.999750018119812,\n",
       " 0.999750018119812,\n",
       " 0.999750018119812,\n",
       " 0.999750018119812,\n",
       " 0.999750018119812,\n",
       " 0.9607082605361938,\n",
       " 0.0476190485060215,\n",
       " 0.0,\n",
       " 489.0877685546875,\n",
       " 0,\n",
       " 489.0877685546875]"
      ]
     },
     "execution_count": 12,
     "metadata": {},
     "output_type": "execute_result"
    }
   ],
   "execution_count": 12
  },
  {
   "cell_type": "code",
   "source": [
    "result_evaluat_test = model.evaluate(cached_test)\n",
    "result_evaluat_test"
   ],
   "metadata": {
    "collapsed": false,
    "ExecuteTime": {
     "end_time": "2024-05-13T17:17:34.053546Z",
     "start_time": "2024-05-13T17:17:30.625812Z"
    }
   },
   "id": "a90bfb5478e24540",
   "outputs": [
    {
     "name": "stdout",
     "output_type": "stream",
     "text": [
      "32/32 [==============================] - 3s 106ms/step - factorized_top_k/top_1_categorical_accuracy: 1.0000 - factorized_top_k/top_5_categorical_accuracy: 1.0000 - factorized_top_k/top_10_categorical_accuracy: 1.0000 - factorized_top_k/top_50_categorical_accuracy: 1.0000 - factorized_top_k/top_100_categorical_accuracy: 1.0000 - root_mean_squared_error: 0.9358 - categorical_accuracy: 0.1250 - auc: 0.0000e+00 - loss: 460.8702 - regularization_loss: 0.0000e+00 - total_loss: 460.8702\n"
     ]
    },
    {
     "data": {
      "text/plain": [
       "[1.0,\n",
       " 1.0,\n",
       " 1.0,\n",
       " 1.0,\n",
       " 1.0,\n",
       " 0.9358300566673279,\n",
       " 0.125,\n",
       " 0.0,\n",
       " 82.06863403320312,\n",
       " 0,\n",
       " 82.06863403320312]"
      ]
     },
     "execution_count": 13,
     "metadata": {},
     "output_type": "execute_result"
    }
   ],
   "execution_count": 13
  },
  {
   "cell_type": "code",
   "source": [
    "print(\"Name\\t\\tValue\")\n",
    "print(\"-\" * 30)\n",
    "for metric in model.metrics:\n",
    "    print(f\"{metric.name}\\t\\t{metric.result().numpy()}\")\n",
    "#print(f\"AUC: {model.auc_metric.result().numpy()}\")"
   ],
   "metadata": {
    "collapsed": false,
    "ExecuteTime": {
     "end_time": "2024-05-13T17:17:34.064322Z",
     "start_time": "2024-05-13T17:17:34.054208Z"
    }
   },
   "id": "2dc815d6547dfefe",
   "outputs": [
    {
     "name": "stdout",
     "output_type": "stream",
     "text": [
      "Name\t\tValue\n",
      "------------------------------\n",
      "factorized_top_k/top_1_categorical_accuracy\t\t1.0\n",
      "factorized_top_k/top_5_categorical_accuracy\t\t1.0\n",
      "factorized_top_k/top_10_categorical_accuracy\t\t1.0\n",
      "factorized_top_k/top_50_categorical_accuracy\t\t1.0\n",
      "factorized_top_k/top_100_categorical_accuracy\t\t1.0\n",
      "root_mean_squared_error\t\t0.9358300566673279\n",
      "categorical_accuracy\t\t0.125\n",
      "auc\t\t0.0\n"
     ]
    }
   ],
   "execution_count": 14
  },
  {
   "cell_type": "code",
   "source": [
    "sample = next(iter(cached_test.take(1)))\n",
    "\n",
    "# Extract customer_id from the sample\n",
    "visitor_id = sample['visitorid'].numpy()\n",
    "visitor_id"
   ],
   "metadata": {
    "collapsed": false,
    "ExecuteTime": {
     "end_time": "2024-05-13T17:17:34.071838Z",
     "start_time": "2024-05-13T17:17:34.065133Z"
    }
   },
   "id": "d293fa87e3fe5b52",
   "outputs": [
    {
     "data": {
      "text/plain": [
       "array([1164119, 1041770,  918612, 1015928, 1329704, 1397149, 1159302,\n",
       "       1290428,  194207, 1003965,  719678, 1046392, 1359141,  788230,\n",
       "        355415,  876730,  404709,  269418,  809739,   18483,  943323,\n",
       "        990272,  655614,  690498,  883080,  872837, 1282452, 1269394,\n",
       "        558272,  684514, 1195090,  745113, 1243693,  672785,  336581,\n",
       "        789542, 1135668,  441858, 1265850, 1280629,  331321,  905124,\n",
       "        315411,  245266, 1165288,  672257, 1014116,  382875,  767656,\n",
       "        946321, 1099605,  363136, 1146770, 1079746,  349053, 1095684,\n",
       "        976833,  748085, 1214199, 1115740, 1072506,  253881,  279762,\n",
       "       1295583])"
      ]
     },
     "execution_count": 15,
     "metadata": {},
     "output_type": "execute_result"
    }
   ],
   "execution_count": 15
  },
  {
   "cell_type": "code",
   "source": [
    "def get_random_customer_from_test_data():\n",
    "    return next(iter(test.take(1)))['visitorid'].numpy()\n",
    "\n",
    "def display_item_ids(item_ids):\n",
    "    display(item_properties[item_properties.itemid.isin(item_ids) ])\n",
    "\n",
    "def display_products_by_visitor_id(visitor_id):\n",
    "    display_item_ids(events[events.visitorid == visitor_id].itemid.tolist())\n",
    "    \n",
    "\n",
    "index = tfrs.layers.factorized_top_k.BruteForce(model.user_embedding, k=5)\n",
    "index.index_from_dataset(\n",
    "    product_ids_dataset.batch(100).map(lambda id: (id, model.product_model(id))))\n",
    "\n",
    "def predict_user(visitor_id):\n",
    "    print('predicting user: ', visitor_id)\n",
    "    print('user already bought following products: ')\n",
    "    display_products_by_visitor_id(visitor_id)\n",
    "    \n",
    "    score, predicted_product_ids = index(np.array([visitor_id]))\n",
    "    \n",
    "    print('predicted products: ')\n",
    "    display_item_ids(predicted_product_ids[0].numpy())\n",
    "    print('scores: ', score[0].numpy())\n",
    "\n",
    "\n",
    "user_id = get_random_customer_from_test_data()\n",
    "\n",
    "predict_user(user_id)"
   ],
   "metadata": {
    "collapsed": false,
    "ExecuteTime": {
     "end_time": "2024-05-13T17:17:34.269990Z",
     "start_time": "2024-05-13T17:17:34.072679Z"
    }
   },
   "id": "d8785689b14ad90",
   "outputs": [
    {
     "name": "stdout",
     "output_type": "stream",
     "text": [
      "predicting user:  1164119\n",
      "user already bought following products: \n"
     ]
    },
    {
     "data": {
      "text/plain": [
       "        itemid categoryid available  \\\n",
       "260067  291050       1051         0   \n",
       "\n",
       "                                               properties  \\\n",
       "260067  [1036, 1066, 112, 159, 202, 227, 230, 283, 300...   \n",
       "\n",
       "                                          property_values  \n",
       "260067  [1318567, 269011 n2400.000 424566, 679677, 519...  "
      ],
      "text/html": [
       "<div>\n",
       "<style scoped>\n",
       "    .dataframe tbody tr th:only-of-type {\n",
       "        vertical-align: middle;\n",
       "    }\n",
       "\n",
       "    .dataframe tbody tr th {\n",
       "        vertical-align: top;\n",
       "    }\n",
       "\n",
       "    .dataframe thead th {\n",
       "        text-align: right;\n",
       "    }\n",
       "</style>\n",
       "<table border=\"1\" class=\"dataframe\">\n",
       "  <thead>\n",
       "    <tr style=\"text-align: right;\">\n",
       "      <th></th>\n",
       "      <th>itemid</th>\n",
       "      <th>categoryid</th>\n",
       "      <th>available</th>\n",
       "      <th>properties</th>\n",
       "      <th>property_values</th>\n",
       "    </tr>\n",
       "  </thead>\n",
       "  <tbody>\n",
       "    <tr>\n",
       "      <th>260067</th>\n",
       "      <td>291050</td>\n",
       "      <td>1051</td>\n",
       "      <td>0</td>\n",
       "      <td>[1036, 1066, 112, 159, 202, 227, 230, 283, 300...</td>\n",
       "      <td>[1318567, 269011 n2400.000 424566, 679677, 519...</td>\n",
       "    </tr>\n",
       "  </tbody>\n",
       "</table>\n",
       "</div>"
      ]
     },
     "metadata": {},
     "output_type": "display_data"
    },
    {
     "name": "stdout",
     "output_type": "stream",
     "text": [
      "predicted products: \n"
     ]
    },
    {
     "data": {
      "text/plain": [
       "        itemid categoryid available  \\\n",
       "21469    24059       1148         1   \n",
       "167789  187751        619         0   \n",
       "301012  336842       1247         1   \n",
       "315618  353237       1120         1   \n",
       "319887  358029       1387         1   \n",
       "\n",
       "                                               properties  \\\n",
       "21469   [112, 131, 159, 165, 262, 28, 283, 287, 364, 5...   \n",
       "167789  [112, 114, 159, 202, 227, 246, 283, 313, 364, ...   \n",
       "301012  [112, 159, 202, 227, 28, 283, 325, 364, 521, 5...   \n",
       "315618  [0, 1036, 112, 159, 202, 208, 225, 227, 283, 3...   \n",
       "319887  [1081, 112, 159, 202, 227, 283, 364, 470, 6, 6...   \n",
       "\n",
       "                                          property_values  \n",
       "21469   [679677, 929484, 519769, 769062, 769062, 15016...  \n",
       "167789  [679677, 769062, 519769, 1211212 n612.000, 115...  \n",
       "301012  [679677, 519769, 1074346 312202, 984245 132234...  \n",
       "315618  [[98606 632686 858644 145994 1113685, 98606 63...  \n",
       "319887  [769062, 679677, 519769, 860528 741065, 113991...  "
      ],
      "text/html": [
       "<div>\n",
       "<style scoped>\n",
       "    .dataframe tbody tr th:only-of-type {\n",
       "        vertical-align: middle;\n",
       "    }\n",
       "\n",
       "    .dataframe tbody tr th {\n",
       "        vertical-align: top;\n",
       "    }\n",
       "\n",
       "    .dataframe thead th {\n",
       "        text-align: right;\n",
       "    }\n",
       "</style>\n",
       "<table border=\"1\" class=\"dataframe\">\n",
       "  <thead>\n",
       "    <tr style=\"text-align: right;\">\n",
       "      <th></th>\n",
       "      <th>itemid</th>\n",
       "      <th>categoryid</th>\n",
       "      <th>available</th>\n",
       "      <th>properties</th>\n",
       "      <th>property_values</th>\n",
       "    </tr>\n",
       "  </thead>\n",
       "  <tbody>\n",
       "    <tr>\n",
       "      <th>21469</th>\n",
       "      <td>24059</td>\n",
       "      <td>1148</td>\n",
       "      <td>1</td>\n",
       "      <td>[112, 131, 159, 165, 262, 28, 283, 287, 364, 5...</td>\n",
       "      <td>[679677, 929484, 519769, 769062, 769062, 15016...</td>\n",
       "    </tr>\n",
       "    <tr>\n",
       "      <th>167789</th>\n",
       "      <td>187751</td>\n",
       "      <td>619</td>\n",
       "      <td>0</td>\n",
       "      <td>[112, 114, 159, 202, 227, 246, 283, 313, 364, ...</td>\n",
       "      <td>[679677, 769062, 519769, 1211212 n612.000, 115...</td>\n",
       "    </tr>\n",
       "    <tr>\n",
       "      <th>301012</th>\n",
       "      <td>336842</td>\n",
       "      <td>1247</td>\n",
       "      <td>1</td>\n",
       "      <td>[112, 159, 202, 227, 28, 283, 325, 364, 521, 5...</td>\n",
       "      <td>[679677, 519769, 1074346 312202, 984245 132234...</td>\n",
       "    </tr>\n",
       "    <tr>\n",
       "      <th>315618</th>\n",
       "      <td>353237</td>\n",
       "      <td>1120</td>\n",
       "      <td>1</td>\n",
       "      <td>[0, 1036, 112, 159, 202, 208, 225, 227, 283, 3...</td>\n",
       "      <td>[[98606 632686 858644 145994 1113685, 98606 63...</td>\n",
       "    </tr>\n",
       "    <tr>\n",
       "      <th>319887</th>\n",
       "      <td>358029</td>\n",
       "      <td>1387</td>\n",
       "      <td>1</td>\n",
       "      <td>[1081, 112, 159, 202, 227, 283, 364, 470, 6, 6...</td>\n",
       "      <td>[769062, 679677, 519769, 860528 741065, 113991...</td>\n",
       "    </tr>\n",
       "  </tbody>\n",
       "</table>\n",
       "</div>"
      ]
     },
     "metadata": {},
     "output_type": "display_data"
    },
    {
     "name": "stdout",
     "output_type": "stream",
     "text": [
      "scores:  [0.04728506 0.03173855 0.0271187  0.02477267 0.02430293]\n"
     ]
    }
   ],
   "execution_count": 16
  },
  {
   "cell_type": "code",
   "source": [
    "user_id = next(iter(train.take(6)))['visitorid'].numpy()\n",
    "predict_user(user_id)"
   ],
   "metadata": {
    "collapsed": false,
    "ExecuteTime": {
     "end_time": "2024-05-13T17:17:34.304607Z",
     "start_time": "2024-05-13T17:17:34.270821Z"
    }
   },
   "id": "ccdee48c0a0d68ae",
   "outputs": [
    {
     "name": "stdout",
     "output_type": "stream",
     "text": [
      "predicting user:  1055787\n",
      "user already bought following products: \n"
     ]
    },
    {
     "data": {
      "text/plain": [
       "Empty DataFrame\n",
       "Columns: [itemid, categoryid, available, properties, property_values]\n",
       "Index: []"
      ],
      "text/html": [
       "<div>\n",
       "<style scoped>\n",
       "    .dataframe tbody tr th:only-of-type {\n",
       "        vertical-align: middle;\n",
       "    }\n",
       "\n",
       "    .dataframe tbody tr th {\n",
       "        vertical-align: top;\n",
       "    }\n",
       "\n",
       "    .dataframe thead th {\n",
       "        text-align: right;\n",
       "    }\n",
       "</style>\n",
       "<table border=\"1\" class=\"dataframe\">\n",
       "  <thead>\n",
       "    <tr style=\"text-align: right;\">\n",
       "      <th></th>\n",
       "      <th>itemid</th>\n",
       "      <th>categoryid</th>\n",
       "      <th>available</th>\n",
       "      <th>properties</th>\n",
       "      <th>property_values</th>\n",
       "    </tr>\n",
       "  </thead>\n",
       "  <tbody>\n",
       "  </tbody>\n",
       "</table>\n",
       "</div>"
      ]
     },
     "metadata": {},
     "output_type": "display_data"
    },
    {
     "name": "stdout",
     "output_type": "stream",
     "text": [
      "predicted products: \n"
     ]
    },
    {
     "data": {
      "text/plain": [
       "        itemid categoryid available  \\\n",
       "21469    24059       1148         1   \n",
       "167789  187751        619         0   \n",
       "301012  336842       1247         1   \n",
       "315618  353237       1120         1   \n",
       "319887  358029       1387         1   \n",
       "\n",
       "                                               properties  \\\n",
       "21469   [112, 131, 159, 165, 262, 28, 283, 287, 364, 5...   \n",
       "167789  [112, 114, 159, 202, 227, 246, 283, 313, 364, ...   \n",
       "301012  [112, 159, 202, 227, 28, 283, 325, 364, 521, 5...   \n",
       "315618  [0, 1036, 112, 159, 202, 208, 225, 227, 283, 3...   \n",
       "319887  [1081, 112, 159, 202, 227, 283, 364, 470, 6, 6...   \n",
       "\n",
       "                                          property_values  \n",
       "21469   [679677, 929484, 519769, 769062, 769062, 15016...  \n",
       "167789  [679677, 769062, 519769, 1211212 n612.000, 115...  \n",
       "301012  [679677, 519769, 1074346 312202, 984245 132234...  \n",
       "315618  [[98606 632686 858644 145994 1113685, 98606 63...  \n",
       "319887  [769062, 679677, 519769, 860528 741065, 113991...  "
      ],
      "text/html": [
       "<div>\n",
       "<style scoped>\n",
       "    .dataframe tbody tr th:only-of-type {\n",
       "        vertical-align: middle;\n",
       "    }\n",
       "\n",
       "    .dataframe tbody tr th {\n",
       "        vertical-align: top;\n",
       "    }\n",
       "\n",
       "    .dataframe thead th {\n",
       "        text-align: right;\n",
       "    }\n",
       "</style>\n",
       "<table border=\"1\" class=\"dataframe\">\n",
       "  <thead>\n",
       "    <tr style=\"text-align: right;\">\n",
       "      <th></th>\n",
       "      <th>itemid</th>\n",
       "      <th>categoryid</th>\n",
       "      <th>available</th>\n",
       "      <th>properties</th>\n",
       "      <th>property_values</th>\n",
       "    </tr>\n",
       "  </thead>\n",
       "  <tbody>\n",
       "    <tr>\n",
       "      <th>21469</th>\n",
       "      <td>24059</td>\n",
       "      <td>1148</td>\n",
       "      <td>1</td>\n",
       "      <td>[112, 131, 159, 165, 262, 28, 283, 287, 364, 5...</td>\n",
       "      <td>[679677, 929484, 519769, 769062, 769062, 15016...</td>\n",
       "    </tr>\n",
       "    <tr>\n",
       "      <th>167789</th>\n",
       "      <td>187751</td>\n",
       "      <td>619</td>\n",
       "      <td>0</td>\n",
       "      <td>[112, 114, 159, 202, 227, 246, 283, 313, 364, ...</td>\n",
       "      <td>[679677, 769062, 519769, 1211212 n612.000, 115...</td>\n",
       "    </tr>\n",
       "    <tr>\n",
       "      <th>301012</th>\n",
       "      <td>336842</td>\n",
       "      <td>1247</td>\n",
       "      <td>1</td>\n",
       "      <td>[112, 159, 202, 227, 28, 283, 325, 364, 521, 5...</td>\n",
       "      <td>[679677, 519769, 1074346 312202, 984245 132234...</td>\n",
       "    </tr>\n",
       "    <tr>\n",
       "      <th>315618</th>\n",
       "      <td>353237</td>\n",
       "      <td>1120</td>\n",
       "      <td>1</td>\n",
       "      <td>[0, 1036, 112, 159, 202, 208, 225, 227, 283, 3...</td>\n",
       "      <td>[[98606 632686 858644 145994 1113685, 98606 63...</td>\n",
       "    </tr>\n",
       "    <tr>\n",
       "      <th>319887</th>\n",
       "      <td>358029</td>\n",
       "      <td>1387</td>\n",
       "      <td>1</td>\n",
       "      <td>[1081, 112, 159, 202, 227, 283, 364, 470, 6, 6...</td>\n",
       "      <td>[769062, 679677, 519769, 860528 741065, 113991...</td>\n",
       "    </tr>\n",
       "  </tbody>\n",
       "</table>\n",
       "</div>"
      ]
     },
     "metadata": {},
     "output_type": "display_data"
    },
    {
     "name": "stdout",
     "output_type": "stream",
     "text": [
      "scores:  [0.04728506 0.03173855 0.0271187  0.02477267 0.02430293]\n"
     ]
    }
   ],
   "execution_count": 17
  },
  {
   "cell_type": "code",
   "source": [
    "#model.save('../../models/retailrocket/rr_tensorflow_reco_3_epochs_v1.h5')"
   ],
   "metadata": {
    "collapsed": false,
    "ExecuteTime": {
     "end_time": "2024-05-13T17:17:34.307173Z",
     "start_time": "2024-05-13T17:17:34.305370Z"
    }
   },
   "id": "eb395206e9a41cc7",
   "outputs": [],
   "execution_count": 18
  },
  {
   "cell_type": "code",
   "source": [
    "def calculate_coverage_and_scores(user_ids, total_items_count, example_user_id):\n",
    "    all_scores = []\n",
    "    all_predicted_product_ids = []  # Use a set to track unique recommended items\n",
    "\n",
    "    for user_id in user_ids:\n",
    "        # Call the prediction function for each user\n",
    "        score, predicted_product_ids = index(np.array([user_id]))\n",
    "        if user_id == example_user_id:\n",
    "            display('predicting user: ', user_id)\n",
    "            display('predicted products: ')\n",
    "            display(score[0].numpy(), predicted_product_ids[0].numpy())\n",
    "            display_products_by_visitor_id(user_id)\n",
    "            display_item_ids(predicted_product_ids[0].numpy())\n",
    "        # print(predicted_product_ids[0])\n",
    "        \n",
    "    # Append the scores to the all_scores list\n",
    "        all_scores.extend(score[0].numpy())\n",
    "\n",
    "        # Update the set of all unique predicted product IDs\n",
    "        all_predicted_product_ids.extend(predicted_product_ids[0].numpy())\n",
    "\n",
    "    # Calculate min, max, and average scores\n",
    "    min_score = np.min(all_scores)\n",
    "    max_score = np.max(all_scores)\n",
    "    avg_score = np.mean(all_scores)\n",
    "\n",
    "    # Calculate item coverage and catalog coverage\n",
    "    num_unique_items = len(np.unique(all_predicted_product_ids))\n",
    "    catalog_coverage = num_unique_items / total_items_count\n",
    "\n",
    "    # Print the results\n",
    "    print(f\"Minimum Score: {min_score}\")\n",
    "    print(f\"Maximum Score: {max_score}\")\n",
    "    print(f\"Average Score: {avg_score}\")\n",
    "    print(f\"Catalog Coverage: {catalog_coverage:.2%} (Unique recommended items {num_unique_items} / Total catalog items {total_items_count})\")\n",
    "\n",
    "    return min_score, max_score, avg_score, catalog_coverage, all_predicted_product_ids, num_unique_items, total_items_count\n",
    "\n",
    "# Example usage\n",
    "total_items_count = len(events.itemid.unique())\n",
    "\n",
    "user_ids = events.visitorid.unique()\n",
    "test_user_id = 325780\n",
    "min_score, max_score, avg_score, catalog_coverage, all_predicted_p_ids, num_unique_items, total_items_count = calculate_coverage_and_scores(user_ids, total_items_count, test_user_id)\n"
   ],
   "metadata": {
    "collapsed": false,
    "ExecuteTime": {
     "end_time": "2024-05-13T17:18:01.210268Z",
     "start_time": "2024-05-13T17:17:34.307827Z"
    }
   },
   "id": "313096ee48653126",
   "outputs": [
    {
     "data": {
      "text/plain": [
       "'predicting user: '"
      ]
     },
     "metadata": {},
     "output_type": "display_data"
    },
    {
     "data": {
      "text/plain": [
       "325780"
      ]
     },
     "metadata": {},
     "output_type": "display_data"
    },
    {
     "data": {
      "text/plain": [
       "'predicted products: '"
      ]
     },
     "metadata": {},
     "output_type": "display_data"
    },
    {
     "data": {
      "text/plain": [
       "array([0.04728506, 0.03173855, 0.0271187 , 0.02477267, 0.02430293],\n",
       "      dtype=float32)"
      ]
     },
     "metadata": {},
     "output_type": "display_data"
    },
    {
     "data": {
      "text/plain": [
       "array([187751, 353237, 336842,  24059, 358029])"
      ]
     },
     "metadata": {},
     "output_type": "display_data"
    },
    {
     "data": {
      "text/plain": [
       "        itemid categoryid available  \\\n",
       "385170  431099        746         1   \n",
       "\n",
       "                                               properties  \\\n",
       "385170  [112, 159, 202, 227, 28, 283, 319, 364, 454, 4...   \n",
       "\n",
       "                                          property_values  \n",
       "385170  [679677, 519769, 602490 857333, 1263557 150169...  "
      ],
      "text/html": [
       "<div>\n",
       "<style scoped>\n",
       "    .dataframe tbody tr th:only-of-type {\n",
       "        vertical-align: middle;\n",
       "    }\n",
       "\n",
       "    .dataframe tbody tr th {\n",
       "        vertical-align: top;\n",
       "    }\n",
       "\n",
       "    .dataframe thead th {\n",
       "        text-align: right;\n",
       "    }\n",
       "</style>\n",
       "<table border=\"1\" class=\"dataframe\">\n",
       "  <thead>\n",
       "    <tr style=\"text-align: right;\">\n",
       "      <th></th>\n",
       "      <th>itemid</th>\n",
       "      <th>categoryid</th>\n",
       "      <th>available</th>\n",
       "      <th>properties</th>\n",
       "      <th>property_values</th>\n",
       "    </tr>\n",
       "  </thead>\n",
       "  <tbody>\n",
       "    <tr>\n",
       "      <th>385170</th>\n",
       "      <td>431099</td>\n",
       "      <td>746</td>\n",
       "      <td>1</td>\n",
       "      <td>[112, 159, 202, 227, 28, 283, 319, 364, 454, 4...</td>\n",
       "      <td>[679677, 519769, 602490 857333, 1263557 150169...</td>\n",
       "    </tr>\n",
       "  </tbody>\n",
       "</table>\n",
       "</div>"
      ]
     },
     "metadata": {},
     "output_type": "display_data"
    },
    {
     "data": {
      "text/plain": [
       "        itemid categoryid available  \\\n",
       "21469    24059       1148         1   \n",
       "167789  187751        619         0   \n",
       "301012  336842       1247         1   \n",
       "315618  353237       1120         1   \n",
       "319887  358029       1387         1   \n",
       "\n",
       "                                               properties  \\\n",
       "21469   [112, 131, 159, 165, 262, 28, 283, 287, 364, 5...   \n",
       "167789  [112, 114, 159, 202, 227, 246, 283, 313, 364, ...   \n",
       "301012  [112, 159, 202, 227, 28, 283, 325, 364, 521, 5...   \n",
       "315618  [0, 1036, 112, 159, 202, 208, 225, 227, 283, 3...   \n",
       "319887  [1081, 112, 159, 202, 227, 283, 364, 470, 6, 6...   \n",
       "\n",
       "                                          property_values  \n",
       "21469   [679677, 929484, 519769, 769062, 769062, 15016...  \n",
       "167789  [679677, 769062, 519769, 1211212 n612.000, 115...  \n",
       "301012  [679677, 519769, 1074346 312202, 984245 132234...  \n",
       "315618  [[98606 632686 858644 145994 1113685, 98606 63...  \n",
       "319887  [769062, 679677, 519769, 860528 741065, 113991...  "
      ],
      "text/html": [
       "<div>\n",
       "<style scoped>\n",
       "    .dataframe tbody tr th:only-of-type {\n",
       "        vertical-align: middle;\n",
       "    }\n",
       "\n",
       "    .dataframe tbody tr th {\n",
       "        vertical-align: top;\n",
       "    }\n",
       "\n",
       "    .dataframe thead th {\n",
       "        text-align: right;\n",
       "    }\n",
       "</style>\n",
       "<table border=\"1\" class=\"dataframe\">\n",
       "  <thead>\n",
       "    <tr style=\"text-align: right;\">\n",
       "      <th></th>\n",
       "      <th>itemid</th>\n",
       "      <th>categoryid</th>\n",
       "      <th>available</th>\n",
       "      <th>properties</th>\n",
       "      <th>property_values</th>\n",
       "    </tr>\n",
       "  </thead>\n",
       "  <tbody>\n",
       "    <tr>\n",
       "      <th>21469</th>\n",
       "      <td>24059</td>\n",
       "      <td>1148</td>\n",
       "      <td>1</td>\n",
       "      <td>[112, 131, 159, 165, 262, 28, 283, 287, 364, 5...</td>\n",
       "      <td>[679677, 929484, 519769, 769062, 769062, 15016...</td>\n",
       "    </tr>\n",
       "    <tr>\n",
       "      <th>167789</th>\n",
       "      <td>187751</td>\n",
       "      <td>619</td>\n",
       "      <td>0</td>\n",
       "      <td>[112, 114, 159, 202, 227, 246, 283, 313, 364, ...</td>\n",
       "      <td>[679677, 769062, 519769, 1211212 n612.000, 115...</td>\n",
       "    </tr>\n",
       "    <tr>\n",
       "      <th>301012</th>\n",
       "      <td>336842</td>\n",
       "      <td>1247</td>\n",
       "      <td>1</td>\n",
       "      <td>[112, 159, 202, 227, 28, 283, 325, 364, 521, 5...</td>\n",
       "      <td>[679677, 519769, 1074346 312202, 984245 132234...</td>\n",
       "    </tr>\n",
       "    <tr>\n",
       "      <th>315618</th>\n",
       "      <td>353237</td>\n",
       "      <td>1120</td>\n",
       "      <td>1</td>\n",
       "      <td>[0, 1036, 112, 159, 202, 208, 225, 227, 283, 3...</td>\n",
       "      <td>[[98606 632686 858644 145994 1113685, 98606 63...</td>\n",
       "    </tr>\n",
       "    <tr>\n",
       "      <th>319887</th>\n",
       "      <td>358029</td>\n",
       "      <td>1387</td>\n",
       "      <td>1</td>\n",
       "      <td>[1081, 112, 159, 202, 227, 283, 364, 470, 6, 6...</td>\n",
       "      <td>[769062, 679677, 519769, 860528 741065, 113991...</td>\n",
       "    </tr>\n",
       "  </tbody>\n",
       "</table>\n",
       "</div>"
      ]
     },
     "metadata": {},
     "output_type": "display_data"
    },
    {
     "name": "stdout",
     "output_type": "stream",
     "text": [
      "Minimum Score: 0.0010863523930311203\n",
      "Maximum Score: 0.05253128707408905\n",
      "Average Score: 0.030995981767773628\n",
      "Catalog Coverage: 0.66% (Unique recommended items 56 / Total catalog items 8545)\n"
     ]
    }
   ],
   "execution_count": 19
  },
  {
   "metadata": {
    "ExecuteTime": {
     "end_time": "2024-05-13T17:18:01.213562Z",
     "start_time": "2024-05-13T17:18:01.211054Z"
    }
   },
   "cell_type": "code",
   "source": "display(f\"min score: {min_score}, max score: {max_score}, avg_score: {avg_score}, catalog_coverage: {catalog_coverage}, min score: {min_score},\")\n",
   "id": "b5882d0b748a480d",
   "outputs": [
    {
     "data": {
      "text/plain": [
       "'min score: 0.0010863523930311203, max score: 0.05253128707408905, avg_score: 0.030995981767773628, catalog_coverage: 0.006553540081919251, min score: 0.0010863523930311203,'"
      ]
     },
     "metadata": {},
     "output_type": "display_data"
    }
   ],
   "execution_count": 20
  },
  {
   "metadata": {
    "ExecuteTime": {
     "end_time": "2024-05-13T17:18:01.215850Z",
     "start_time": "2024-05-13T17:18:01.214302Z"
    }
   },
   "cell_type": "code",
   "source": "#10 epochs: 'min score: 0.01474432647228241, max score: 0.2987794280052185, avg_score: 0.10522415488958359, catalog_coverage: 0.0053832650672908135, min score: 0.01474432647228241,'",
   "id": "41448b3f6a679ac8",
   "outputs": [],
   "execution_count": 21
  },
  {
   "metadata": {
    "ExecuteTime": {
     "end_time": "2024-05-13T17:18:01.222265Z",
     "start_time": "2024-05-13T17:18:01.216427Z"
    }
   },
   "cell_type": "code",
   "source": "display(\"predicted items\", len(list(set(all_predicted_p_ids))), \"unique items\", num_unique_items, \"number of items\", total_items_count)",
   "id": "dea76d7f73b4f5a8",
   "outputs": [
    {
     "data": {
      "text/plain": [
       "'predicted items'"
      ]
     },
     "metadata": {},
     "output_type": "display_data"
    },
    {
     "data": {
      "text/plain": [
       "56"
      ]
     },
     "metadata": {},
     "output_type": "display_data"
    },
    {
     "data": {
      "text/plain": [
       "'unique items'"
      ]
     },
     "metadata": {},
     "output_type": "display_data"
    },
    {
     "data": {
      "text/plain": [
       "56"
      ]
     },
     "metadata": {},
     "output_type": "display_data"
    },
    {
     "data": {
      "text/plain": [
       "'number of items'"
      ]
     },
     "metadata": {},
     "output_type": "display_data"
    },
    {
     "data": {
      "text/plain": [
       "8545"
      ]
     },
     "metadata": {},
     "output_type": "display_data"
    }
   ],
   "execution_count": 22
  },
  {
   "cell_type": "code",
   "source": [
    "item_properties_all = pd.read_pickle(basepath +'item_data_extracted.pkl')\n",
    "\n",
    "item_properties_all[item_properties_all.itemid == 331276]"
   ],
   "metadata": {
    "collapsed": false,
    "ExecuteTime": {
     "end_time": "2024-05-13T17:18:32.078016Z",
     "start_time": "2024-05-13T17:18:01.223008Z"
    }
   },
   "id": "3880b2325544b7ee",
   "outputs": [
    {
     "data": {
      "text/plain": [
       "Empty DataFrame\n",
       "Columns: [itemid, categoryid, available, properties, property_values]\n",
       "Index: []"
      ],
      "text/html": [
       "<div>\n",
       "<style scoped>\n",
       "    .dataframe tbody tr th:only-of-type {\n",
       "        vertical-align: middle;\n",
       "    }\n",
       "\n",
       "    .dataframe tbody tr th {\n",
       "        vertical-align: top;\n",
       "    }\n",
       "\n",
       "    .dataframe thead th {\n",
       "        text-align: right;\n",
       "    }\n",
       "</style>\n",
       "<table border=\"1\" class=\"dataframe\">\n",
       "  <thead>\n",
       "    <tr style=\"text-align: right;\">\n",
       "      <th></th>\n",
       "      <th>itemid</th>\n",
       "      <th>categoryid</th>\n",
       "      <th>available</th>\n",
       "      <th>properties</th>\n",
       "      <th>property_values</th>\n",
       "    </tr>\n",
       "  </thead>\n",
       "  <tbody>\n",
       "  </tbody>\n",
       "</table>\n",
       "</div>"
      ]
     },
     "execution_count": 23,
     "metadata": {},
     "output_type": "execute_result"
    }
   ],
   "execution_count": 23
  }
 ],
 "metadata": {
  "kernelspec": {
   "display_name": "Python 3",
   "language": "python",
   "name": "python3"
  },
  "language_info": {
   "codemirror_mode": {
    "name": "ipython",
    "version": 2
   },
   "file_extension": ".py",
   "mimetype": "text/x-python",
   "name": "python",
   "nbconvert_exporter": "python",
   "pygments_lexer": "ipython2",
   "version": "2.7.6"
  }
 },
 "nbformat": 4,
 "nbformat_minor": 5
}
