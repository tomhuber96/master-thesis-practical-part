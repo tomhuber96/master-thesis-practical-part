{
 "cells": [
  {
   "cell_type": "code",
   "execution_count": 1,
   "id": "initial_id",
   "metadata": {
    "collapsed": true,
    "ExecuteTime": {
     "end_time": "2023-12-02T08:53:55.441500Z",
     "start_time": "2023-12-02T08:53:52.629859Z"
    }
   },
   "outputs": [],
   "source": [
    "#%pip install -q tensorflow-recommenders\n",
    "import tensorflow as tf\n",
    "import pandas as pd\n",
    "from tensorflow.keras.layers import Embedding, Dense, StringLookup\n",
    "from tensorflow.keras import Sequential\n",
    "import tensorflow_recommenders as tfrs\n",
    "from tensorflow.keras.metrics import AUC\n",
    "import math\n",
    "import numpy as np\n",
    "from tensorflow.keras.preprocessing.text import Tokenizer\n",
    "from tensorflow.keras.preprocessing.sequence import pad_sequences\n",
    "\n",
    "from keras.src.layers import LSTM"
   ]
  },
  {
   "cell_type": "code",
   "execution_count": 2,
   "outputs": [
    {
     "name": "stdout",
     "output_type": "stream",
     "text": [
      "GPU is available\n"
     ]
    }
   ],
   "source": [
    "if tf.config.list_physical_devices('GPU'):\n",
    "    print(\"GPU is available\")\n",
    "else:\n",
    "    print(\"GPU is not available\")"
   ],
   "metadata": {
    "collapsed": false,
    "ExecuteTime": {
     "end_time": "2023-12-02T08:53:55.446464Z",
     "start_time": "2023-12-02T08:53:55.442431Z"
    }
   },
   "id": "89849bbf9d8a3d88"
  },
  {
   "cell_type": "code",
   "execution_count": 3,
   "outputs": [
    {
     "data": {
      "text/plain": "         visitorid  itemid  event_mapped\n2482751    1046539  373805             1\n2204101    1383579  287405             1\n1964828     474264  153625             1\n2369299    1079433  287356             1\n640471      865010  113440             1\n...            ...     ...           ...\n560807      269455  459735             1\n1158627     228194  160499             1\n2074769     435897  346429             1\n1911438    1099927  261011             1\n1975046     747991  415715             1\n\n[10000 rows x 3 columns]",
      "text/html": "<div>\n<style scoped>\n    .dataframe tbody tr th:only-of-type {\n        vertical-align: middle;\n    }\n\n    .dataframe tbody tr th {\n        vertical-align: top;\n    }\n\n    .dataframe thead th {\n        text-align: right;\n    }\n</style>\n<table border=\"1\" class=\"dataframe\">\n  <thead>\n    <tr style=\"text-align: right;\">\n      <th></th>\n      <th>visitorid</th>\n      <th>itemid</th>\n      <th>event_mapped</th>\n    </tr>\n  </thead>\n  <tbody>\n    <tr>\n      <th>2482751</th>\n      <td>1046539</td>\n      <td>373805</td>\n      <td>1</td>\n    </tr>\n    <tr>\n      <th>2204101</th>\n      <td>1383579</td>\n      <td>287405</td>\n      <td>1</td>\n    </tr>\n    <tr>\n      <th>1964828</th>\n      <td>474264</td>\n      <td>153625</td>\n      <td>1</td>\n    </tr>\n    <tr>\n      <th>2369299</th>\n      <td>1079433</td>\n      <td>287356</td>\n      <td>1</td>\n    </tr>\n    <tr>\n      <th>640471</th>\n      <td>865010</td>\n      <td>113440</td>\n      <td>1</td>\n    </tr>\n    <tr>\n      <th>...</th>\n      <td>...</td>\n      <td>...</td>\n      <td>...</td>\n    </tr>\n    <tr>\n      <th>560807</th>\n      <td>269455</td>\n      <td>459735</td>\n      <td>1</td>\n    </tr>\n    <tr>\n      <th>1158627</th>\n      <td>228194</td>\n      <td>160499</td>\n      <td>1</td>\n    </tr>\n    <tr>\n      <th>2074769</th>\n      <td>435897</td>\n      <td>346429</td>\n      <td>1</td>\n    </tr>\n    <tr>\n      <th>1911438</th>\n      <td>1099927</td>\n      <td>261011</td>\n      <td>1</td>\n    </tr>\n    <tr>\n      <th>1975046</th>\n      <td>747991</td>\n      <td>415715</td>\n      <td>1</td>\n    </tr>\n  </tbody>\n</table>\n<p>10000 rows × 3 columns</p>\n</div>"
     },
     "metadata": {},
     "output_type": "display_data"
    },
    {
     "data": {
      "text/plain": "        itemid categoryid available  \\\n6            6       1091         1   \n31          32       1173         0   \n40          42         84         1   \n137        147        646         1   \n153        163        407         0   \n...        ...        ...       ...   \n416890  466685       1400         1   \n416941  466740        967         0   \n416960  466760       1549         0   \n417047  466861       1051         0   \n417050  466864        373         1   \n\n                                               properties  \\\n6       [112, 159, 19, 202, 227, 28, 283, 364, 521, 55...   \n31      [1036, 1052, 1066, 112, 159, 202, 227, 230, 28...   \n40      [1036, 1052, 1066, 112, 159, 202, 227, 230, 28...   \n137     [1092, 112, 159, 202, 283, 348, 364, 461, 491,...   \n153     [112, 159, 202, 227, 283, 364, 376, 397, 483, ...   \n...                                                   ...   \n416890  [102, 1028, 112, 159, 202, 227, 275, 28, 283, ...   \n416941  [1008, 1036, 112, 120, 140, 159, 202, 227, 283...   \n416960  [1036, 1066, 112, 159, 202, 210, 227, 230, 283...   \n417047  [1036, 1066, 112, 159, 202, 227, 230, 283, 300...   \n417050  [1036, 112, 152, 159, 202, 227, 230, 283, 348,...   \n\n                                          property_values  \n6       [679677, 519769, 1297729 n72.000 309206, 60935...  \n31      [726612, 1116693, n973.200 424566, 679677, 519...  \n40      [726612, 1116693, n68.400 424566, 679677, 5197...  \n137     [291010, 679677, 519769, 229273 388993 1246541...  \n153     [679677, 519769, 62992 n7440.000 925243, 92933...  \n...                                                   ...  \n416890  [769062, 769062, 679677, 519769, 1109436 45934...  \n416941  [124229 n336.000 1144008, 1154859, 679677, 115...  \n416960  [1318567, n720.000 424566, 679677, 519769, 123...  \n417047  [1318567, 732011 424566, 679677, 519769, 10769...  \n417050  [1154859, 679677, 1071492, 519769, 1262739 205...  \n\n[7705 rows x 5 columns]",
      "text/html": "<div>\n<style scoped>\n    .dataframe tbody tr th:only-of-type {\n        vertical-align: middle;\n    }\n\n    .dataframe tbody tr th {\n        vertical-align: top;\n    }\n\n    .dataframe thead th {\n        text-align: right;\n    }\n</style>\n<table border=\"1\" class=\"dataframe\">\n  <thead>\n    <tr style=\"text-align: right;\">\n      <th></th>\n      <th>itemid</th>\n      <th>categoryid</th>\n      <th>available</th>\n      <th>properties</th>\n      <th>property_values</th>\n    </tr>\n  </thead>\n  <tbody>\n    <tr>\n      <th>6</th>\n      <td>6</td>\n      <td>1091</td>\n      <td>1</td>\n      <td>[112, 159, 19, 202, 227, 28, 283, 364, 521, 55...</td>\n      <td>[679677, 519769, 1297729 n72.000 309206, 60935...</td>\n    </tr>\n    <tr>\n      <th>31</th>\n      <td>32</td>\n      <td>1173</td>\n      <td>0</td>\n      <td>[1036, 1052, 1066, 112, 159, 202, 227, 230, 28...</td>\n      <td>[726612, 1116693, n973.200 424566, 679677, 519...</td>\n    </tr>\n    <tr>\n      <th>40</th>\n      <td>42</td>\n      <td>84</td>\n      <td>1</td>\n      <td>[1036, 1052, 1066, 112, 159, 202, 227, 230, 28...</td>\n      <td>[726612, 1116693, n68.400 424566, 679677, 5197...</td>\n    </tr>\n    <tr>\n      <th>137</th>\n      <td>147</td>\n      <td>646</td>\n      <td>1</td>\n      <td>[1092, 112, 159, 202, 283, 348, 364, 461, 491,...</td>\n      <td>[291010, 679677, 519769, 229273 388993 1246541...</td>\n    </tr>\n    <tr>\n      <th>153</th>\n      <td>163</td>\n      <td>407</td>\n      <td>0</td>\n      <td>[112, 159, 202, 227, 283, 364, 376, 397, 483, ...</td>\n      <td>[679677, 519769, 62992 n7440.000 925243, 92933...</td>\n    </tr>\n    <tr>\n      <th>...</th>\n      <td>...</td>\n      <td>...</td>\n      <td>...</td>\n      <td>...</td>\n      <td>...</td>\n    </tr>\n    <tr>\n      <th>416890</th>\n      <td>466685</td>\n      <td>1400</td>\n      <td>1</td>\n      <td>[102, 1028, 112, 159, 202, 227, 275, 28, 283, ...</td>\n      <td>[769062, 769062, 679677, 519769, 1109436 45934...</td>\n    </tr>\n    <tr>\n      <th>416941</th>\n      <td>466740</td>\n      <td>967</td>\n      <td>0</td>\n      <td>[1008, 1036, 112, 120, 140, 159, 202, 227, 283...</td>\n      <td>[124229 n336.000 1144008, 1154859, 679677, 115...</td>\n    </tr>\n    <tr>\n      <th>416960</th>\n      <td>466760</td>\n      <td>1549</td>\n      <td>0</td>\n      <td>[1036, 1066, 112, 159, 202, 210, 227, 230, 283...</td>\n      <td>[1318567, n720.000 424566, 679677, 519769, 123...</td>\n    </tr>\n    <tr>\n      <th>417047</th>\n      <td>466861</td>\n      <td>1051</td>\n      <td>0</td>\n      <td>[1036, 1066, 112, 159, 202, 227, 230, 283, 300...</td>\n      <td>[1318567, 732011 424566, 679677, 519769, 10769...</td>\n    </tr>\n    <tr>\n      <th>417050</th>\n      <td>466864</td>\n      <td>373</td>\n      <td>1</td>\n      <td>[1036, 112, 152, 159, 202, 227, 230, 283, 348,...</td>\n      <td>[1154859, 679677, 1071492, 519769, 1262739 205...</td>\n    </tr>\n  </tbody>\n</table>\n<p>7705 rows × 5 columns</p>\n</div>"
     },
     "metadata": {},
     "output_type": "display_data"
    }
   ],
   "source": [
    "# Load data\n",
    "def map_event(event):\n",
    "    if event == 'view':\n",
    "        return 1\n",
    "    elif event == 'addtocart':\n",
    "        return 2\n",
    "    elif event == 'transaction':\n",
    "        return 3\n",
    "    else:\n",
    "        return 0\n",
    "\n",
    "basepath = '../../datasets/preprocessed_datasets/retailrocket/'\n",
    "events = pd.read_pickle(basepath +'events_10k.pkl')\n",
    "events['event_mapped'] = events['event'].apply(map_event)\n",
    "events = events.drop(columns=['timestamp', 'event', 'transactionid', 'datetime'])\n",
    "item_properties = pd.read_pickle(basepath +'item_data_extracted.pkl')\n",
    "\n",
    "item_properties = item_properties[item_properties['itemid'].isin(events.itemid.unique())]\n",
    "\n",
    "display(events, item_properties)"
   ],
   "metadata": {
    "collapsed": false,
    "ExecuteTime": {
     "end_time": "2023-12-02T08:54:23.032122Z",
     "start_time": "2023-12-02T08:53:55.446571Z"
    }
   },
   "id": "e008bf18a8e80e4f"
  },
  {
   "cell_type": "code",
   "execution_count": 4,
   "outputs": [],
   "source": [
    "# item_properties['properties'] = item_properties['properties'].apply(lambda x: str(x))\n",
    "# item_properties['property_values'] = item_properties['property_values'].apply(lambda x: str(x))\n"
   ],
   "metadata": {
    "collapsed": false,
    "ExecuteTime": {
     "end_time": "2023-12-02T08:54:23.036291Z",
     "start_time": "2023-12-02T08:54:23.031953Z"
    }
   },
   "id": "309086c9d868b28f"
  },
  {
   "cell_type": "code",
   "execution_count": 5,
   "outputs": [],
   "source": [
    "# Create a tf.data.Dataset from the interaction data\n",
    "#todo check how to use array of ids\n",
    "interaction_dataset = tf.data.Dataset.from_tensor_slices({\n",
    "    'visitorid': events['visitorid'].values,\n",
    "    'itemid': events['itemid'].values,\n",
    "    'event': events['event_mapped'].values,\n",
    "    # 'properties': item_properties['properties'].values,\n",
    "    # 'property_values': item_properties['property_values'].values,\n",
    "})\n",
    "#variables \n",
    "dataset_len = events.shape[0]\n",
    "test_len = math.ceil(dataset_len * 0.2)\n",
    "train_len = dataset_len - test_len\n",
    "\n",
    "metrics_batchsize = 16\n",
    "train_batch_size = 128\n",
    "test_batch_size = 64\n",
    "random_seed = 27"
   ],
   "metadata": {
    "collapsed": false,
    "ExecuteTime": {
     "end_time": "2023-12-02T08:54:23.052784Z",
     "start_time": "2023-12-02T08:54:23.045827Z"
    }
   },
   "id": "c089ac7f029dc324"
  },
  {
   "cell_type": "code",
   "execution_count": 6,
   "outputs": [
    {
     "data": {
      "text/plain": "<_TensorSliceDataset element_spec={'visitorid': TensorSpec(shape=(), dtype=tf.int64, name=None), 'itemid': TensorSpec(shape=(), dtype=tf.int64, name=None), 'event': TensorSpec(shape=(), dtype=tf.int64, name=None)}>"
     },
     "execution_count": 6,
     "metadata": {},
     "output_type": "execute_result"
    }
   ],
   "source": [
    "interaction_dataset"
   ],
   "metadata": {
    "collapsed": false,
    "ExecuteTime": {
     "end_time": "2023-12-02T08:54:23.064310Z",
     "start_time": "2023-12-02T08:54:23.052320Z"
    }
   },
   "id": "1271391f90ebc74d"
  },
  {
   "cell_type": "code",
   "execution_count": 7,
   "outputs": [
    {
     "data": {
      "text/plain": "<_TakeDataset element_spec={'visitorid': TensorSpec(shape=(), dtype=tf.int64, name=None), 'itemid': TensorSpec(shape=(), dtype=tf.int64, name=None), 'event': TensorSpec(shape=(), dtype=tf.int64, name=None)}>"
     },
     "metadata": {},
     "output_type": "display_data"
    },
    {
     "data": {
      "text/plain": "<_TakeDataset element_spec={'visitorid': TensorSpec(shape=(), dtype=tf.int64, name=None), 'itemid': TensorSpec(shape=(), dtype=tf.int64, name=None), 'event': TensorSpec(shape=(), dtype=tf.int64, name=None)}>"
     },
     "metadata": {},
     "output_type": "display_data"
    }
   ],
   "source": [
    "#train test split\n",
    "tf.random.set_seed(random_seed)\n",
    "# shuffled = interaction_dataset.shuffle(len, seed=random_seed, reshuffle_each_iteration=False)\n",
    "# train = shuffled.take(train_len)\n",
    "# test = shuffled.skip(train_len).take(test_len)\n",
    "shuffled = interaction_dataset.shuffle(dataset_len, seed=random_seed, reshuffle_each_iteration=False)\n",
    "\n",
    "train = shuffled.take(train_len)\n",
    "test = shuffled.skip(train_len).take(test_len)\n",
    "display(train, test)"
   ],
   "metadata": {
    "collapsed": false,
    "ExecuteTime": {
     "end_time": "2023-12-02T08:54:23.119049Z",
     "start_time": "2023-12-02T08:54:23.058110Z"
    }
   },
   "id": "825eec174445be8c"
  },
  {
   "cell_type": "code",
   "execution_count": 8,
   "outputs": [],
   "source": [
    "# Unique customer and product identifiers\n",
    "unique_visitor_ids = np.array(events[\"visitorid\"].unique())\n",
    "unique_item_ids = np.array(events[\"itemid\"].unique())\n",
    "\n",
    "\n",
    "visitor_ids_vocabulary = tf.keras.layers.IntegerLookup(mask_token=None)\n",
    "visitor_ids_vocabulary.adapt(unique_visitor_ids)\n",
    "\n",
    "item_ids_vocabulary = tf.keras.layers.IntegerLookup(mask_token=None)\n",
    "item_ids_vocabulary.adapt(unique_item_ids)\n",
    "# print(unique_product_ids.shape[0], unique_customer_ids.shape[0], unique_product_ids, unique_product_ids)"
   ],
   "metadata": {
    "collapsed": false,
    "ExecuteTime": {
     "end_time": "2023-12-02T08:54:23.958113Z",
     "start_time": "2023-12-02T08:54:23.120187Z"
    }
   },
   "id": "2e2625e63cf53fce"
  },
  {
   "cell_type": "code",
   "execution_count": 8,
   "outputs": [],
   "source": [],
   "metadata": {
    "collapsed": false,
    "ExecuteTime": {
     "end_time": "2023-12-02T08:54:23.962958Z",
     "start_time": "2023-12-02T08:54:23.958358Z"
    }
   },
   "id": "580fc3478a356294"
  },
  {
   "cell_type": "code",
   "execution_count": 9,
   "outputs": [],
   "source": [
    "# Define a model using TensorFlow Recommenders\n",
    "product_ids_dataset = tf.data.Dataset.from_tensor_slices(unique_item_ids)\n",
    "class RetailModel(tfrs.Model):\n",
    "\n",
    "    def __init__(self, unique_item_ids_vocab, unique_visitor_ids_vocab, embedding_dimension=32):\n",
    "        super().__init__()\n",
    "        # Set up user and product representations\n",
    "        self.user_embedding = tf.keras.Sequential([\n",
    "            unique_visitor_ids_vocab,\n",
    "            Embedding(unique_visitor_ids_vocab.vocabulary_size(), embedding_dimension)\n",
    "        ])\n",
    "        self.product_embedding = tf.keras.Sequential([\n",
    "            unique_item_ids_vocab,\n",
    "            Embedding(unique_item_ids_vocab.vocabulary_size(), embedding_dimension)\n",
    "        ])\n",
    "\n",
    "        # self.property_model = tf.keras.Sequential([\n",
    "        #     Embedding(input_dim=unique_product_ids_vocab.vocabulary_size(), output_dim=embedding_dimension),\n",
    "        #     LSTM(64),\n",
    "        #     Dense(64, activation='relu')\n",
    "        # ])\n",
    "\n",
    "\n",
    "        # # Textual description model\n",
    "        # self.textual_description_model = tf.keras.Sequential([\n",
    "        #     Embedding(input_dim=unique_item_ids_vocab.vocabulary_size(), output_dim=embedding_dimension),\n",
    "        #     LSTM(64),\n",
    "        #     Dense(64, activation='relu')\n",
    "        # ])\n",
    "        # \n",
    "        # # New embeddings for color and description\n",
    "        # self.reduced_product_embeddings = Dense(64, activation='relu')\n",
    "        # self.reduced_description_embeddings = Dense(32, activation='relu')\n",
    "        # self.reduced_color_embeddings = Dense(32, activation='relu')\n",
    "        \n",
    "        # Set up a dense layer for the task.\n",
    "        self.dense_layer = Dense(128, input_shape=(256,), activation=\"relu\")\n",
    "\n",
    "        # Set up retrieval task and metrics\n",
    "        self.task = tfrs.tasks.Retrieval(\n",
    "            metrics=tfrs.metrics.FactorizedTopK(candidates=product_ids_dataset.batch(metrics_batchsize).map(self.product_model))\n",
    "        )\n",
    "        self.auc_metric = AUC(name='auc')\n",
    "        self.rmse_metric = tf.keras.metrics.RootMeanSquaredError(name='rmse')\n",
    "        self.precision = tf.keras.metrics.Precision(name='precision')\n",
    "        self.recall = tf.keras.metrics.Recall(name='recall')\n",
    "\n",
    "    def product_model(self, product_ids):\n",
    "        return self.product_embedding(product_ids)\n",
    "\n",
    "    def dot_product_score(self, user, product):\n",
    "        \"\"\"\n",
    "        Computes the dot product between user and product embeddings to get the interaction score.\n",
    "        \"\"\"\n",
    "        return tf.reduce_sum(user * product, axis=1)\n",
    "\n",
    "    def compute_loss(self, features, training=False):\n",
    "        # print(features)\n",
    "        print(list(features.keys()))\n",
    "        user_embeddings = self.user_embedding(features[\"visitorid\"])\n",
    "        product_embeddings = self.product_embedding(features[\"itemid\"])\n",
    "\n",
    "        # properterties_embeddings = self.color_embedding(features[\"properties\"])\n",
    "        # property_value_embeddings = self.textual_description_model(features[\"property_values\"])\n",
    "        # \n",
    "        # reduced_product_embeddings = self.reduced_product_embeddings(product_embeddings)\n",
    "        # reduced_property_value_embeddings = self.reduced_description_embeddings(property_value_embeddings)\n",
    "        # reduced_property_embeddings = self.reduced_color_embeddings(properterties_embeddings)\n",
    "        # \n",
    "        # \n",
    "        # # Now concatenate\n",
    "        # user_combined = tf.concat([user_embeddings, ], axis=1)  # shape will be [None, 128]\n",
    "        # product_combined = tf.concat([reduced_product_embeddings, reduced_property_embeddings, reduced_property_value_embeddings], axis=1)  # shape will be [None, 128]\n",
    "        \n",
    "\n",
    "\n",
    "        user_output = self.dense_layer(user_embeddings)\n",
    "        product_output = self.dense_layer(product_embeddings)\n",
    "        # This is a hypothetical function that returns the logits or scores\n",
    "        # This needs to be adapted based on your actual model\n",
    "        positive_logits = self.dot_product_score(user_output, product_output)\n",
    "\n",
    "        # Update RMSE\n",
    "        self.rmse_metric.update_state(y_true=features[\"event\"], y_pred=positive_logits)\n",
    "\n",
    " \n",
    "        return self.task(user_output, product_output)\n",
    "\n",
    "    def evaluate(self, validation_dataset, *args, **kwargs):\n",
    "        # Call the base class's evaluate method\n",
    "        \n",
    "    \n",
    "        # Compute additional metrics\n",
    "        for features in validation_dataset:\n",
    "            user_embeddings = self.user_embedding(features[\"visitorid\"])\n",
    "            product_embeddings = self.product_embedding(features[\"itemid\"])\n",
    "            \n",
    "            user_output = self.dense_layer(user_embeddings)\n",
    "            product_output = self.dense_layer(product_embeddings)\n",
    "            \n",
    "            positive_logits = self.dot_product_score(user_output, product_output)\n",
    "            # Assuming you have a binary \"label\" in your dataset indicating 1 for positive interaction and 0 for negative\n",
    "            self.precision.update_state(y_true=features[\"event\"], y_pred=positive_logits)\n",
    "            self.recall.update_state(y_true=features[\"event\"], y_pred=positive_logits)\n",
    "    \n",
    "        precision_result = self.precision.result().numpy()\n",
    "        recall_result = self.recall.result().numpy()\n",
    "    \n",
    "        # Calculate F1 score\n",
    "        if (precision_result + recall_result) != 0:\n",
    "            f1_score = 2 * (precision_result * recall_result) / (precision_result + recall_result)\n",
    "        else:\n",
    "            f1_score = 0.0\n",
    "    \n",
    "        # Reset the metrics for the next evaluation\n",
    "        # self.precision.reset_states()\n",
    "        # self.recall.reset_states()\n",
    "        base_results = super(RetailModel, self).evaluate(validation_dataset, *args, **kwargs)\n",
    "    \n",
    "        return base_results, [precision_result, recall_result, f1_score]  # or append additional results as needed\n",
    "\n"
   ],
   "metadata": {
    "collapsed": false,
    "ExecuteTime": {
     "end_time": "2023-12-02T08:54:23.970418Z",
     "start_time": "2023-12-02T08:54:23.966477Z"
    }
   },
   "id": "378cf58a3061ecfc"
  },
  {
   "cell_type": "code",
   "execution_count": 10,
   "outputs": [],
   "source": [
    "model = RetailModel(item_ids_vocabulary, visitor_ids_vocabulary, embedding_dimension=128)\n",
    "model.compile(optimizer=tf.keras.optimizers.legacy.Adam(learning_rate=0.001)) # using legacy instead of tf.keras.optimizers.Adagrad, because newer version is slow on m1/m2 macs"
   ],
   "metadata": {
    "collapsed": false,
    "ExecuteTime": {
     "end_time": "2023-12-02T08:54:24.079745Z",
     "start_time": "2023-12-02T08:54:23.972095Z"
    }
   },
   "id": "5ae0c3e4d7093bf1"
  },
  {
   "cell_type": "code",
   "execution_count": 11,
   "outputs": [
    {
     "name": "stdout",
     "output_type": "stream",
     "text": [
      "Epoch 1/3\n",
      "['visitorid', 'itemid', 'event']\n",
      "['visitorid', 'itemid', 'event']\n",
      "63/63 [==============================] - 96s 1s/step - auc: 0.0000e+00 - rmse: 1.0669 - precision: 0.0000e+00 - recall: 0.0000e+00 - factorized_top_k/top_1_categorical_accuracy: 0.0126 - factorized_top_k/top_5_categorical_accuracy: 0.0284 - factorized_top_k/top_10_categorical_accuracy: 0.0379 - factorized_top_k/top_50_categorical_accuracy: 0.0805 - factorized_top_k/top_100_categorical_accuracy: 0.1136 - loss: 609.9630 - regularization_loss: 0.0000e+00 - total_loss: 609.9630\n",
      "Epoch 2/3\n",
      "63/63 [==============================] - 99s 2s/step - auc: 0.0000e+00 - rmse: 0.8232 - precision: 0.0000e+00 - recall: 0.0000e+00 - factorized_top_k/top_1_categorical_accuracy: 0.9600 - factorized_top_k/top_5_categorical_accuracy: 0.9754 - factorized_top_k/top_10_categorical_accuracy: 0.9808 - factorized_top_k/top_50_categorical_accuracy: 0.9919 - factorized_top_k/top_100_categorical_accuracy: 0.9941 - loss: 601.5856 - regularization_loss: 0.0000e+00 - total_loss: 601.5856\n",
      "Epoch 3/3\n",
      "63/63 [==============================] - 103s 2s/step - auc: 0.0000e+00 - rmse: 1.6860 - precision: 0.0000e+00 - recall: 0.0000e+00 - factorized_top_k/top_1_categorical_accuracy: 1.0000 - factorized_top_k/top_5_categorical_accuracy: 1.0000 - factorized_top_k/top_10_categorical_accuracy: 1.0000 - factorized_top_k/top_50_categorical_accuracy: 1.0000 - factorized_top_k/top_100_categorical_accuracy: 1.0000 - loss: 537.8408 - regularization_loss: 0.0000e+00 - total_loss: 537.8408\n"
     ]
    },
    {
     "data": {
      "text/plain": "<keras.src.callbacks.History at 0x2b7a79d90>"
     },
     "execution_count": 11,
     "metadata": {},
     "output_type": "execute_result"
    }
   ],
   "source": [
    "# Shuffle, batch, and cache the data.\n",
    "cached_train = train.shuffle(dataset_len).batch(train_batch_size).cache()\n",
    "cached_test = test.batch(test_batch_size).cache()\n",
    "# Train the model\n",
    "# model.fit(cached_train, validation_data=cached_test, validation_freq=5, epochs=3) \n",
    "model.fit(cached_train, validation_freq=5, epochs=3)"
   ],
   "metadata": {
    "collapsed": false,
    "ExecuteTime": {
     "end_time": "2023-12-02T08:59:21.585158Z",
     "start_time": "2023-12-02T08:54:24.081199Z"
    }
   },
   "id": "4add146de8d83cb0"
  },
  {
   "cell_type": "code",
   "execution_count": 12,
   "outputs": [
    {
     "name": "stdout",
     "output_type": "stream",
     "text": [
      "['visitorid', 'itemid', 'event']\n",
      "63/63 [==============================] - 98s 2s/step - auc: 0.0000e+00 - rmse: 4.6437 - precision: 0.0000e+00 - recall: 0.0000e+00 - factorized_top_k/top_1_categorical_accuracy: 1.0000 - factorized_top_k/top_5_categorical_accuracy: 1.0000 - factorized_top_k/top_10_categorical_accuracy: 1.0000 - factorized_top_k/top_50_categorical_accuracy: 1.0000 - factorized_top_k/top_100_categorical_accuracy: 1.0000 - loss: 377.3734 - regularization_loss: 0.0000e+00 - total_loss: 377.3734\n"
     ]
    },
    {
     "data": {
      "text/plain": "([0.0,\n  4.643726348876953,\n  0.0,\n  0.0,\n  1.0,\n  1.0,\n  1.0,\n  1.0,\n  1.0,\n  176.77102661132812,\n  0,\n  176.77102661132812],\n [1.0, 1.0, 1.0])"
     },
     "execution_count": 12,
     "metadata": {},
     "output_type": "execute_result"
    }
   ],
   "source": [
    "# Evaluate the model\n",
    "k = 5\n",
    "result_evaluate_train = model.evaluate(cached_train)\n",
    "result_evaluate_train"
   ],
   "metadata": {
    "collapsed": false,
    "ExecuteTime": {
     "end_time": "2023-12-02T09:01:00.422336Z",
     "start_time": "2023-12-02T08:59:21.584281Z"
    }
   },
   "id": "f38fbc7489d6c8ab"
  },
  {
   "cell_type": "code",
   "execution_count": 13,
   "outputs": [
    {
     "name": "stdout",
     "output_type": "stream",
     "text": [
      "32/32 [==============================] - 50s 2s/step - auc: 0.0000e+00 - rmse: 2.4144 - precision: 0.0000e+00 - recall: 0.0000e+00 - factorized_top_k/top_1_categorical_accuracy: 1.0000 - factorized_top_k/top_5_categorical_accuracy: 1.0000 - factorized_top_k/top_10_categorical_accuracy: 1.0000 - factorized_top_k/top_50_categorical_accuracy: 1.0000 - factorized_top_k/top_100_categorical_accuracy: 1.0000 - loss: 253.8699 - regularization_loss: 0.0000e+00 - total_loss: 253.8699\n"
     ]
    },
    {
     "data": {
      "text/plain": "([0.0,\n  2.4143753051757812,\n  0.0,\n  0.0,\n  1.0,\n  1.0,\n  1.0,\n  1.0,\n  1.0,\n  44.878028869628906,\n  0,\n  44.878028869628906],\n [1.0, 1.0, 1.0])"
     },
     "execution_count": 13,
     "metadata": {},
     "output_type": "execute_result"
    }
   ],
   "source": [
    "result_evaluat_test = model.evaluate(cached_test)\n",
    "result_evaluat_test"
   ],
   "metadata": {
    "collapsed": false,
    "ExecuteTime": {
     "end_time": "2023-12-02T09:01:50.663124Z",
     "start_time": "2023-12-02T09:01:00.424535Z"
    }
   },
   "id": "a90bfb5478e24540"
  },
  {
   "cell_type": "code",
   "execution_count": 14,
   "outputs": [
    {
     "name": "stdout",
     "output_type": "stream",
     "text": [
      "Name\t\tValue\n",
      "------------------------------\n",
      "auc\t\t0.0\n",
      "rmse\t\t2.4143753051757812\n",
      "precision\t\t0.0\n",
      "recall\t\t0.0\n",
      "factorized_top_k/top_1_categorical_accuracy\t\t1.0\n",
      "factorized_top_k/top_5_categorical_accuracy\t\t1.0\n",
      "factorized_top_k/top_10_categorical_accuracy\t\t1.0\n",
      "factorized_top_k/top_50_categorical_accuracy\t\t1.0\n",
      "factorized_top_k/top_100_categorical_accuracy\t\t1.0\n",
      "AUC: 0.0\n"
     ]
    }
   ],
   "source": [
    "print(\"Name\\t\\tValue\")\n",
    "print(\"-\" * 30)\n",
    "for metric in model.metrics:\n",
    "    print(f\"{metric.name}\\t\\t{metric.result().numpy()}\")\n",
    "print(f\"AUC: {model.auc_metric.result().numpy()}\")"
   ],
   "metadata": {
    "collapsed": false,
    "ExecuteTime": {
     "end_time": "2023-12-02T09:01:50.696170Z",
     "start_time": "2023-12-02T09:01:50.662121Z"
    }
   },
   "id": "2dc815d6547dfefe"
  },
  {
   "cell_type": "code",
   "execution_count": 15,
   "outputs": [
    {
     "data": {
      "text/plain": "array([1164119, 1041770,  918612, 1015928, 1329704, 1397149, 1159302,\n       1290428,  194207, 1003965,  719678, 1046392, 1359141,  788230,\n        355415,  876730,  404709,  269418,  809739,   18483,  943323,\n        990272,  655614,  690498,  883080,  872837, 1282452, 1269394,\n        558272,  684514, 1195090,  745113, 1243693,  672785,  336581,\n        789542, 1135668,  441858, 1265850, 1280629,  331321,  905124,\n        315411,  245266, 1165288,  672257, 1014116,  382875,  767656,\n        946321, 1099605,  363136, 1146770, 1079746,  349053, 1095684,\n        976833,  748085, 1214199, 1115740, 1072506,  253881,  279762,\n       1295583])"
     },
     "execution_count": 15,
     "metadata": {},
     "output_type": "execute_result"
    }
   ],
   "source": [
    "sample = next(iter(cached_test.take(1)))\n",
    "\n",
    "# Extract customer_id from the sample\n",
    "visitor_id = sample['visitorid'].numpy()\n",
    "visitor_id"
   ],
   "metadata": {
    "collapsed": false,
    "ExecuteTime": {
     "end_time": "2023-12-02T09:01:50.696897Z",
     "start_time": "2023-12-02T09:01:50.676897Z"
    }
   },
   "id": "d293fa87e3fe5b52"
  },
  {
   "cell_type": "code",
   "execution_count": 16,
   "outputs": [
    {
     "name": "stdout",
     "output_type": "stream",
     "text": [
      "predicting user:  1164119\n",
      "user already bought following products: \n"
     ]
    },
    {
     "data": {
      "text/plain": "        itemid categoryid available  \\\n260067  291050       1051         0   \n\n                                               properties  \\\n260067  [1036, 1066, 112, 159, 202, 227, 230, 283, 300...   \n\n                                          property_values  \n260067  [1318567, 269011 n2400.000 424566, 679677, 519...  ",
      "text/html": "<div>\n<style scoped>\n    .dataframe tbody tr th:only-of-type {\n        vertical-align: middle;\n    }\n\n    .dataframe tbody tr th {\n        vertical-align: top;\n    }\n\n    .dataframe thead th {\n        text-align: right;\n    }\n</style>\n<table border=\"1\" class=\"dataframe\">\n  <thead>\n    <tr style=\"text-align: right;\">\n      <th></th>\n      <th>itemid</th>\n      <th>categoryid</th>\n      <th>available</th>\n      <th>properties</th>\n      <th>property_values</th>\n    </tr>\n  </thead>\n  <tbody>\n    <tr>\n      <th>260067</th>\n      <td>291050</td>\n      <td>1051</td>\n      <td>0</td>\n      <td>[1036, 1066, 112, 159, 202, 227, 230, 283, 300...</td>\n      <td>[1318567, 269011 n2400.000 424566, 679677, 519...</td>\n    </tr>\n  </tbody>\n</table>\n</div>"
     },
     "metadata": {},
     "output_type": "display_data"
    },
    {
     "name": "stdout",
     "output_type": "stream",
     "text": [
      "predicted products: \n"
     ]
    },
    {
     "data": {
      "text/plain": "        itemid categoryid available  \\\n15494    17352       1344         1   \n39920    44759        804         1   \n106951  119636        819         0   \n233065  260861        196         0   \n276562  309475        936         0   \n\n                                               properties  \\\n15494   [104, 112, 113, 123, 15, 159, 188, 202, 227, 2...   \n39920   [1036, 112, 159, 202, 227, 283, 364, 6, 678, 6...   \n106951  [112, 159, 202, 227, 28, 283, 293, 30, 348, 36...   \n233065  [1036, 1050, 112, 159, 161, 202, 227, 253, 28,...   \n276562  [112, 159, 19, 202, 227, 28, 283, 364, 521, 55...   \n\n                                          property_values  \n15494   [769062, 679677, 1312959, 769062, 924572, 5197...  \n39920   [59972, 679677, 519769, 323086 1100891 n12.000...  \n106951  [679677, 519769, n162096.000, 1322342 23569, 1...  \n233065  [[1318567 1133979, 1318567 1133979, 1318567 11...  \n276562  [679677, 519769, 1297729 n216.000 309206, 5884...  ",
      "text/html": "<div>\n<style scoped>\n    .dataframe tbody tr th:only-of-type {\n        vertical-align: middle;\n    }\n\n    .dataframe tbody tr th {\n        vertical-align: top;\n    }\n\n    .dataframe thead th {\n        text-align: right;\n    }\n</style>\n<table border=\"1\" class=\"dataframe\">\n  <thead>\n    <tr style=\"text-align: right;\">\n      <th></th>\n      <th>itemid</th>\n      <th>categoryid</th>\n      <th>available</th>\n      <th>properties</th>\n      <th>property_values</th>\n    </tr>\n  </thead>\n  <tbody>\n    <tr>\n      <th>15494</th>\n      <td>17352</td>\n      <td>1344</td>\n      <td>1</td>\n      <td>[104, 112, 113, 123, 15, 159, 188, 202, 227, 2...</td>\n      <td>[769062, 679677, 1312959, 769062, 924572, 5197...</td>\n    </tr>\n    <tr>\n      <th>39920</th>\n      <td>44759</td>\n      <td>804</td>\n      <td>1</td>\n      <td>[1036, 112, 159, 202, 227, 283, 364, 6, 678, 6...</td>\n      <td>[59972, 679677, 519769, 323086 1100891 n12.000...</td>\n    </tr>\n    <tr>\n      <th>106951</th>\n      <td>119636</td>\n      <td>819</td>\n      <td>0</td>\n      <td>[112, 159, 202, 227, 28, 283, 293, 30, 348, 36...</td>\n      <td>[679677, 519769, n162096.000, 1322342 23569, 1...</td>\n    </tr>\n    <tr>\n      <th>233065</th>\n      <td>260861</td>\n      <td>196</td>\n      <td>0</td>\n      <td>[1036, 1050, 112, 159, 161, 202, 227, 253, 28,...</td>\n      <td>[[1318567 1133979, 1318567 1133979, 1318567 11...</td>\n    </tr>\n    <tr>\n      <th>276562</th>\n      <td>309475</td>\n      <td>936</td>\n      <td>0</td>\n      <td>[112, 159, 19, 202, 227, 28, 283, 364, 521, 55...</td>\n      <td>[679677, 519769, 1297729 n216.000 309206, 5884...</td>\n    </tr>\n  </tbody>\n</table>\n</div>"
     },
     "metadata": {},
     "output_type": "display_data"
    },
    {
     "name": "stdout",
     "output_type": "stream",
     "text": [
      "scores:  [0.04249578 0.04230487 0.0409303  0.04006204 0.04005549]\n"
     ]
    }
   ],
   "source": [
    "def get_random_customer_from_test_data():\n",
    "    return next(iter(test.take(1)))['visitorid'].numpy()\n",
    "\n",
    "def display_item_ids(item_ids):\n",
    "    display(item_properties[item_properties.itemid.isin(item_ids) ])\n",
    "\n",
    "def display_products_by_visitor_id(visitor_id):\n",
    "    display_item_ids(events[events.visitorid == visitor_id].itemid.tolist())\n",
    "    \n",
    "\n",
    "index = tfrs.layers.factorized_top_k.BruteForce(model.user_embedding, k=5)\n",
    "index.index_from_dataset(\n",
    "    product_ids_dataset.batch(100).map(lambda id: (id, model.product_model(id))))\n",
    "\n",
    "def predict_user(visitor_id):\n",
    "    print('predicting user: ', visitor_id)\n",
    "    print('user already bought following products: ')\n",
    "    display_products_by_visitor_id(visitor_id)\n",
    "    \n",
    "    score, predicted_product_ids = index(np.array([visitor_id]))\n",
    "    \n",
    "    print('predicted products: ')\n",
    "    display_item_ids(predicted_product_ids[0].numpy())\n",
    "    print('scores: ', score[0].numpy())\n",
    "\n",
    "\n",
    "user_id = get_random_customer_from_test_data()\n",
    "\n",
    "predict_user(user_id)"
   ],
   "metadata": {
    "collapsed": false,
    "ExecuteTime": {
     "end_time": "2023-12-02T09:01:50.946035Z",
     "start_time": "2023-12-02T09:01:50.686515Z"
    }
   },
   "id": "d8785689b14ad90"
  },
  {
   "cell_type": "code",
   "execution_count": 17,
   "outputs": [
    {
     "name": "stdout",
     "output_type": "stream",
     "text": [
      "predicting user:  1055787\n",
      "user already bought following products: \n"
     ]
    },
    {
     "data": {
      "text/plain": "Empty DataFrame\nColumns: [itemid, categoryid, available, properties, property_values]\nIndex: []",
      "text/html": "<div>\n<style scoped>\n    .dataframe tbody tr th:only-of-type {\n        vertical-align: middle;\n    }\n\n    .dataframe tbody tr th {\n        vertical-align: top;\n    }\n\n    .dataframe thead th {\n        text-align: right;\n    }\n</style>\n<table border=\"1\" class=\"dataframe\">\n  <thead>\n    <tr style=\"text-align: right;\">\n      <th></th>\n      <th>itemid</th>\n      <th>categoryid</th>\n      <th>available</th>\n      <th>properties</th>\n      <th>property_values</th>\n    </tr>\n  </thead>\n  <tbody>\n  </tbody>\n</table>\n</div>"
     },
     "metadata": {},
     "output_type": "display_data"
    },
    {
     "name": "stdout",
     "output_type": "stream",
     "text": [
      "predicted products: \n"
     ]
    },
    {
     "data": {
      "text/plain": "        itemid categoryid available  \\\n141575  158381        779         0   \n344549  385611       1542         1   \n366322  409991        487         0   \n\n                                               properties  \\\n141575  [1064, 112, 159, 202, 220, 227, 283, 364, 6, 6...   \n344549  [1036, 112, 152, 159, 202, 227, 230, 283, 348,...   \n366322  [112, 159, 19, 202, 283, 348, 364, 420, 6, 678...   \n\n                                          property_values  \n141575  [n24.000 628176 1235560 1284577 386093 1284577...  \n344549  [726612, 679677, 769062, 519769, 852251, 63383...  \n366322  [679677, 519769, 1297729 n72.000 1749 1178208 ...  ",
      "text/html": "<div>\n<style scoped>\n    .dataframe tbody tr th:only-of-type {\n        vertical-align: middle;\n    }\n\n    .dataframe tbody tr th {\n        vertical-align: top;\n    }\n\n    .dataframe thead th {\n        text-align: right;\n    }\n</style>\n<table border=\"1\" class=\"dataframe\">\n  <thead>\n    <tr style=\"text-align: right;\">\n      <th></th>\n      <th>itemid</th>\n      <th>categoryid</th>\n      <th>available</th>\n      <th>properties</th>\n      <th>property_values</th>\n    </tr>\n  </thead>\n  <tbody>\n    <tr>\n      <th>141575</th>\n      <td>158381</td>\n      <td>779</td>\n      <td>0</td>\n      <td>[1064, 112, 159, 202, 220, 227, 283, 364, 6, 6...</td>\n      <td>[n24.000 628176 1235560 1284577 386093 1284577...</td>\n    </tr>\n    <tr>\n      <th>344549</th>\n      <td>385611</td>\n      <td>1542</td>\n      <td>1</td>\n      <td>[1036, 112, 152, 159, 202, 227, 230, 283, 348,...</td>\n      <td>[726612, 679677, 769062, 519769, 852251, 63383...</td>\n    </tr>\n    <tr>\n      <th>366322</th>\n      <td>409991</td>\n      <td>487</td>\n      <td>0</td>\n      <td>[112, 159, 19, 202, 283, 348, 364, 420, 6, 678...</td>\n      <td>[679677, 519769, 1297729 n72.000 1749 1178208 ...</td>\n    </tr>\n  </tbody>\n</table>\n</div>"
     },
     "metadata": {},
     "output_type": "display_data"
    },
    {
     "name": "stdout",
     "output_type": "stream",
     "text": [
      "scores:  [0.09754381 0.06199662 0.06181492 0.05754564 0.05591531]\n"
     ]
    }
   ],
   "source": [
    "user_id = next(iter(train.take(1)))['visitorid'].numpy()\n",
    "predict_user(user_id)"
   ],
   "metadata": {
    "collapsed": false,
    "ExecuteTime": {
     "end_time": "2023-12-02T09:01:50.976706Z",
     "start_time": "2023-12-02T09:01:50.911621Z"
    }
   },
   "id": "ccdee48c0a0d68ae"
  },
  {
   "cell_type": "code",
   "execution_count": 18,
   "outputs": [],
   "source": [
    "#model.save('../../models/retailrocket/rr_tensorflow_reco_3_epochs_v1.h5')"
   ],
   "metadata": {
    "collapsed": false,
    "ExecuteTime": {
     "end_time": "2023-12-02T09:01:50.976853Z",
     "start_time": "2023-12-02T09:01:50.951381Z"
    }
   },
   "id": "eb395206e9a41cc7"
  },
  {
   "cell_type": "code",
   "execution_count": 20,
   "outputs": [
    {
     "name": "stdout",
     "output_type": "stream",
     "text": [
      "predicting user:  325780\n"
     ]
    },
    {
     "data": {
      "text/plain": "        itemid categoryid available  \\\n385170  431099        746         1   \n\n                                               properties  \\\n385170  [112, 159, 202, 227, 28, 283, 319, 364, 454, 4...   \n\n                                          property_values  \n385170  [679677, 519769, 602490 857333, 1263557 150169...  ",
      "text/html": "<div>\n<style scoped>\n    .dataframe tbody tr th:only-of-type {\n        vertical-align: middle;\n    }\n\n    .dataframe tbody tr th {\n        vertical-align: top;\n    }\n\n    .dataframe thead th {\n        text-align: right;\n    }\n</style>\n<table border=\"1\" class=\"dataframe\">\n  <thead>\n    <tr style=\"text-align: right;\">\n      <th></th>\n      <th>itemid</th>\n      <th>categoryid</th>\n      <th>available</th>\n      <th>properties</th>\n      <th>property_values</th>\n    </tr>\n  </thead>\n  <tbody>\n    <tr>\n      <th>385170</th>\n      <td>431099</td>\n      <td>746</td>\n      <td>1</td>\n      <td>[112, 159, 202, 227, 28, 283, 319, 364, 454, 4...</td>\n      <td>[679677, 519769, 602490 857333, 1263557 150169...</td>\n    </tr>\n  </tbody>\n</table>\n</div>"
     },
     "metadata": {},
     "output_type": "display_data"
    },
    {
     "name": "stdout",
     "output_type": "stream",
     "text": [
      "predicted products: \n"
     ]
    },
    {
     "data": {
      "text/plain": "        itemid categoryid available  \\\n21210    23762         84         0   \n77627    86816        342         0   \n117145  131028        333         1   \n292311  327104       1529         1   \n\n                                               properties  \\\n21210   [1036, 112, 159, 202, 227, 230, 283, 322, 327,...   \n77627   [101, 1036, 1054, 1066, 107, 112, 159, 202, 20...   \n117145  [1036, 112, 159, 202, 227, 28, 283, 328, 364, ...   \n292311  [1036, 112, 159, 202, 227, 230, 283, 327, 348,...   \n\n                                          property_values  \n21210   [1318567, 679677, 519769, 223760, 1285402 1042...  \n77627   [769062, 285933, n156.000 639502 n168.000, n18...  \n117145  [1154859, 679677, 519769, 406556, 1037547 1501...  \n292311  [1154859, 679677, 519769, 743941, 1290698, 129...  ",
      "text/html": "<div>\n<style scoped>\n    .dataframe tbody tr th:only-of-type {\n        vertical-align: middle;\n    }\n\n    .dataframe tbody tr th {\n        vertical-align: top;\n    }\n\n    .dataframe thead th {\n        text-align: right;\n    }\n</style>\n<table border=\"1\" class=\"dataframe\">\n  <thead>\n    <tr style=\"text-align: right;\">\n      <th></th>\n      <th>itemid</th>\n      <th>categoryid</th>\n      <th>available</th>\n      <th>properties</th>\n      <th>property_values</th>\n    </tr>\n  </thead>\n  <tbody>\n    <tr>\n      <th>21210</th>\n      <td>23762</td>\n      <td>84</td>\n      <td>0</td>\n      <td>[1036, 112, 159, 202, 227, 230, 283, 322, 327,...</td>\n      <td>[1318567, 679677, 519769, 223760, 1285402 1042...</td>\n    </tr>\n    <tr>\n      <th>77627</th>\n      <td>86816</td>\n      <td>342</td>\n      <td>0</td>\n      <td>[101, 1036, 1054, 1066, 107, 112, 159, 202, 20...</td>\n      <td>[769062, 285933, n156.000 639502 n168.000, n18...</td>\n    </tr>\n    <tr>\n      <th>117145</th>\n      <td>131028</td>\n      <td>333</td>\n      <td>1</td>\n      <td>[1036, 112, 159, 202, 227, 28, 283, 328, 364, ...</td>\n      <td>[1154859, 679677, 519769, 406556, 1037547 1501...</td>\n    </tr>\n    <tr>\n      <th>292311</th>\n      <td>327104</td>\n      <td>1529</td>\n      <td>1</td>\n      <td>[1036, 112, 159, 202, 227, 230, 283, 327, 348,...</td>\n      <td>[1154859, 679677, 519769, 743941, 1290698, 129...</td>\n    </tr>\n  </tbody>\n</table>\n</div>"
     },
     "metadata": {},
     "output_type": "display_data"
    },
    {
     "name": "stdout",
     "output_type": "stream",
     "text": [
      "[0.05824801 0.04726531 0.04302901 0.04188947 0.0402928 ] [ 86816 327104 331276 131028  23762]\n",
      "Minimum Score: 0.0319015234708786\n",
      "Maximum Score: 0.29660487174987793\n",
      "Average Score: 0.0743759423494339\n",
      "Catalog Coverage: 82.34% (Unique recommended items 7036 / Total catalog items 8545)\n"
     ]
    }
   ],
   "source": [
    "def calculate_coverage_and_scores(user_ids, total_items_count, example_user_id):\n",
    "    all_scores = []\n",
    "    all_predicted_product_ids = []  # Use a set to track unique recommended items\n",
    "\n",
    "    for user_id in user_ids:\n",
    "        # Call the prediction function for each user\n",
    "        score, predicted_product_ids = index(np.array([user_id]))\n",
    "        if user_id == example_user_id:\n",
    "            print('predicting user: ', user_id)\n",
    "            display_products_by_visitor_id(user_id)\n",
    "            print('predicted products: ')\n",
    "            display_item_ids(predicted_product_ids[0].numpy())\n",
    "            print(score[0].numpy(), predicted_product_ids[0].numpy())\n",
    "\n",
    "\n",
    "    # Append the scores to the all_scores list\n",
    "        all_scores.extend(score[0].numpy())\n",
    "\n",
    "        # Update the set of all unique predicted product IDs\n",
    "        all_predicted_product_ids.extend(predicted_product_ids[0].numpy())\n",
    "\n",
    "    # Calculate min, max, and average scores\n",
    "    min_score = np.min(all_scores)\n",
    "    max_score = np.max(all_scores)\n",
    "    avg_score = np.mean(all_scores)\n",
    "\n",
    "    # Calculate item coverage and catalog coverage\n",
    "    num_unique_items = len(np.unique(all_predicted_product_ids))\n",
    "    catalog_coverage = num_unique_items / total_items_count\n",
    "\n",
    "    # Print the results\n",
    "    print(f\"Minimum Score: {min_score}\")\n",
    "    print(f\"Maximum Score: {max_score}\")\n",
    "    print(f\"Average Score: {avg_score}\")\n",
    "    print(f\"Catalog Coverage: {catalog_coverage:.2%} (Unique recommended items {num_unique_items} / Total catalog items {total_items_count})\")\n",
    "\n",
    "    return min_score, max_score, avg_score, catalog_coverage, all_predicted_product_ids\n",
    "\n",
    "# Example usage\n",
    "total_items_count = len(events.itemid.unique())\n",
    "\n",
    "user_ids = events.visitorid.unique()\n",
    "test_user_id = 325780\n",
    "min_score, max_score, avg_score, catalog_coveragem, all_predicted_p_ids = calculate_coverage_and_scores(user_ids, total_items_count, test_user_id)\n"
   ],
   "metadata": {
    "collapsed": false,
    "ExecuteTime": {
     "end_time": "2023-12-02T09:05:09.943961Z",
     "start_time": "2023-12-02T09:04:40.717534Z"
    }
   },
   "id": "313096ee48653126"
  },
  {
   "cell_type": "code",
   "execution_count": 23,
   "outputs": [
    {
     "data": {
      "text/plain": "Empty DataFrame\nColumns: [itemid, categoryid, available, properties, property_values]\nIndex: []",
      "text/html": "<div>\n<style scoped>\n    .dataframe tbody tr th:only-of-type {\n        vertical-align: middle;\n    }\n\n    .dataframe tbody tr th {\n        vertical-align: top;\n    }\n\n    .dataframe thead th {\n        text-align: right;\n    }\n</style>\n<table border=\"1\" class=\"dataframe\">\n  <thead>\n    <tr style=\"text-align: right;\">\n      <th></th>\n      <th>itemid</th>\n      <th>categoryid</th>\n      <th>available</th>\n      <th>properties</th>\n      <th>property_values</th>\n    </tr>\n  </thead>\n  <tbody>\n  </tbody>\n</table>\n</div>"
     },
     "execution_count": 23,
     "metadata": {},
     "output_type": "execute_result"
    }
   ],
   "source": [
    "item_properties_all = pd.read_pickle(basepath +'item_data_extracted.pkl')\n",
    "\n",
    "item_properties_all[item_properties_all.itemid == 331276]"
   ],
   "metadata": {
    "collapsed": false,
    "ExecuteTime": {
     "end_time": "2023-12-02T09:06:37.416448Z",
     "start_time": "2023-12-02T09:06:07.122202Z"
    }
   },
   "id": "3880b2325544b7ee"
  }
 ],
 "metadata": {
  "kernelspec": {
   "display_name": "Python 3",
   "language": "python",
   "name": "python3"
  },
  "language_info": {
   "codemirror_mode": {
    "name": "ipython",
    "version": 2
   },
   "file_extension": ".py",
   "mimetype": "text/x-python",
   "name": "python",
   "nbconvert_exporter": "python",
   "pygments_lexer": "ipython2",
   "version": "2.7.6"
  }
 },
 "nbformat": 4,
 "nbformat_minor": 5
}
