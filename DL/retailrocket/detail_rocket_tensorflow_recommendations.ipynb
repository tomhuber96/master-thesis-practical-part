{
 "cells": [
  {
   "cell_type": "code",
   "execution_count": 1,
   "id": "initial_id",
   "metadata": {
    "collapsed": true,
    "ExecuteTime": {
     "end_time": "2023-12-01T18:28:52.420042Z",
     "start_time": "2023-12-01T18:28:50.212130Z"
    }
   },
   "outputs": [],
   "source": [
    "#%pip install -q tensorflow-recommenders\n",
    "import tensorflow as tf\n",
    "import pandas as pd\n",
    "from tensorflow.keras.layers import Embedding, Dense, StringLookup\n",
    "from tensorflow.keras import Sequential\n",
    "import tensorflow_recommenders as tfrs\n",
    "from tensorflow.keras.metrics import AUC\n",
    "import math\n",
    "import numpy as np\n",
    "from tensorflow.keras.preprocessing.text import Tokenizer\n",
    "from tensorflow.keras.preprocessing.sequence import pad_sequences\n",
    "\n",
    "from keras.src.layers import LSTM"
   ]
  },
  {
   "cell_type": "code",
   "execution_count": 2,
   "outputs": [
    {
     "name": "stdout",
     "output_type": "stream",
     "text": [
      "GPU is available\n"
     ]
    }
   ],
   "source": [
    "if tf.config.list_physical_devices('GPU'):\n",
    "    print(\"GPU is available\")\n",
    "else:\n",
    "    print(\"GPU is not available\")"
   ],
   "metadata": {
    "collapsed": false,
    "ExecuteTime": {
     "end_time": "2023-12-01T18:28:52.425202Z",
     "start_time": "2023-12-01T18:28:52.420937Z"
    }
   },
   "id": "89849bbf9d8a3d88"
  },
  {
   "cell_type": "code",
   "execution_count": 3,
   "outputs": [
    {
     "data": {
      "text/plain": "         visitorid  itemid  event_mapped\n2482751    1046539  373805             1\n2204101    1383579  287405             1\n1964828     474264  153625             1\n2369299    1079433  287356             1\n640471      865010  113440             1\n...            ...     ...           ...\n560807      269455  459735             1\n1158627     228194  160499             1\n2074769     435897  346429             1\n1911438    1099927  261011             1\n1975046     747991  415715             1\n\n[10000 rows x 3 columns]",
      "text/html": "<div>\n<style scoped>\n    .dataframe tbody tr th:only-of-type {\n        vertical-align: middle;\n    }\n\n    .dataframe tbody tr th {\n        vertical-align: top;\n    }\n\n    .dataframe thead th {\n        text-align: right;\n    }\n</style>\n<table border=\"1\" class=\"dataframe\">\n  <thead>\n    <tr style=\"text-align: right;\">\n      <th></th>\n      <th>visitorid</th>\n      <th>itemid</th>\n      <th>event_mapped</th>\n    </tr>\n  </thead>\n  <tbody>\n    <tr>\n      <th>2482751</th>\n      <td>1046539</td>\n      <td>373805</td>\n      <td>1</td>\n    </tr>\n    <tr>\n      <th>2204101</th>\n      <td>1383579</td>\n      <td>287405</td>\n      <td>1</td>\n    </tr>\n    <tr>\n      <th>1964828</th>\n      <td>474264</td>\n      <td>153625</td>\n      <td>1</td>\n    </tr>\n    <tr>\n      <th>2369299</th>\n      <td>1079433</td>\n      <td>287356</td>\n      <td>1</td>\n    </tr>\n    <tr>\n      <th>640471</th>\n      <td>865010</td>\n      <td>113440</td>\n      <td>1</td>\n    </tr>\n    <tr>\n      <th>...</th>\n      <td>...</td>\n      <td>...</td>\n      <td>...</td>\n    </tr>\n    <tr>\n      <th>560807</th>\n      <td>269455</td>\n      <td>459735</td>\n      <td>1</td>\n    </tr>\n    <tr>\n      <th>1158627</th>\n      <td>228194</td>\n      <td>160499</td>\n      <td>1</td>\n    </tr>\n    <tr>\n      <th>2074769</th>\n      <td>435897</td>\n      <td>346429</td>\n      <td>1</td>\n    </tr>\n    <tr>\n      <th>1911438</th>\n      <td>1099927</td>\n      <td>261011</td>\n      <td>1</td>\n    </tr>\n    <tr>\n      <th>1975046</th>\n      <td>747991</td>\n      <td>415715</td>\n      <td>1</td>\n    </tr>\n  </tbody>\n</table>\n<p>10000 rows × 3 columns</p>\n</div>"
     },
     "metadata": {},
     "output_type": "display_data"
    },
    {
     "data": {
      "text/plain": "        itemid categoryid available  \\\n6            6       1091         1   \n31          32       1173         0   \n40          42         84         1   \n137        147        646         1   \n153        163        407         0   \n...        ...        ...       ...   \n416890  466685       1400         1   \n416941  466740        967         0   \n416960  466760       1549         0   \n417047  466861       1051         0   \n417050  466864        373         1   \n\n                                               properties  \\\n6       [112, 159, 19, 202, 227, 28, 283, 364, 521, 55...   \n31      [1036, 1052, 1066, 112, 159, 202, 227, 230, 28...   \n40      [1036, 1052, 1066, 112, 159, 202, 227, 230, 28...   \n137     [1092, 112, 159, 202, 283, 348, 364, 461, 491,...   \n153     [112, 159, 202, 227, 283, 364, 376, 397, 483, ...   \n...                                                   ...   \n416890  [102, 1028, 112, 159, 202, 227, 275, 28, 283, ...   \n416941  [1008, 1036, 112, 120, 140, 159, 202, 227, 283...   \n416960  [1036, 1066, 112, 159, 202, 210, 227, 230, 283...   \n417047  [1036, 1066, 112, 159, 202, 227, 230, 283, 300...   \n417050  [1036, 112, 152, 159, 202, 227, 230, 283, 348,...   \n\n                                          property_values  \n6       [679677, 519769, 1297729 n72.000 309206, 60935...  \n31      [726612, 1116693, n973.200 424566, 679677, 519...  \n40      [726612, 1116693, n68.400 424566, 679677, 5197...  \n137     [291010, 679677, 519769, 229273 388993 1246541...  \n153     [679677, 519769, 62992 n7440.000 925243, 92933...  \n...                                                   ...  \n416890  [769062, 769062, 679677, 519769, 1109436 45934...  \n416941  [124229 n336.000 1144008, 1154859, 679677, 115...  \n416960  [1318567, n720.000 424566, 679677, 519769, 123...  \n417047  [1318567, 732011 424566, 679677, 519769, 10769...  \n417050  [1154859, 679677, 1071492, 519769, 1262739 205...  \n\n[7705 rows x 5 columns]",
      "text/html": "<div>\n<style scoped>\n    .dataframe tbody tr th:only-of-type {\n        vertical-align: middle;\n    }\n\n    .dataframe tbody tr th {\n        vertical-align: top;\n    }\n\n    .dataframe thead th {\n        text-align: right;\n    }\n</style>\n<table border=\"1\" class=\"dataframe\">\n  <thead>\n    <tr style=\"text-align: right;\">\n      <th></th>\n      <th>itemid</th>\n      <th>categoryid</th>\n      <th>available</th>\n      <th>properties</th>\n      <th>property_values</th>\n    </tr>\n  </thead>\n  <tbody>\n    <tr>\n      <th>6</th>\n      <td>6</td>\n      <td>1091</td>\n      <td>1</td>\n      <td>[112, 159, 19, 202, 227, 28, 283, 364, 521, 55...</td>\n      <td>[679677, 519769, 1297729 n72.000 309206, 60935...</td>\n    </tr>\n    <tr>\n      <th>31</th>\n      <td>32</td>\n      <td>1173</td>\n      <td>0</td>\n      <td>[1036, 1052, 1066, 112, 159, 202, 227, 230, 28...</td>\n      <td>[726612, 1116693, n973.200 424566, 679677, 519...</td>\n    </tr>\n    <tr>\n      <th>40</th>\n      <td>42</td>\n      <td>84</td>\n      <td>1</td>\n      <td>[1036, 1052, 1066, 112, 159, 202, 227, 230, 28...</td>\n      <td>[726612, 1116693, n68.400 424566, 679677, 5197...</td>\n    </tr>\n    <tr>\n      <th>137</th>\n      <td>147</td>\n      <td>646</td>\n      <td>1</td>\n      <td>[1092, 112, 159, 202, 283, 348, 364, 461, 491,...</td>\n      <td>[291010, 679677, 519769, 229273 388993 1246541...</td>\n    </tr>\n    <tr>\n      <th>153</th>\n      <td>163</td>\n      <td>407</td>\n      <td>0</td>\n      <td>[112, 159, 202, 227, 283, 364, 376, 397, 483, ...</td>\n      <td>[679677, 519769, 62992 n7440.000 925243, 92933...</td>\n    </tr>\n    <tr>\n      <th>...</th>\n      <td>...</td>\n      <td>...</td>\n      <td>...</td>\n      <td>...</td>\n      <td>...</td>\n    </tr>\n    <tr>\n      <th>416890</th>\n      <td>466685</td>\n      <td>1400</td>\n      <td>1</td>\n      <td>[102, 1028, 112, 159, 202, 227, 275, 28, 283, ...</td>\n      <td>[769062, 769062, 679677, 519769, 1109436 45934...</td>\n    </tr>\n    <tr>\n      <th>416941</th>\n      <td>466740</td>\n      <td>967</td>\n      <td>0</td>\n      <td>[1008, 1036, 112, 120, 140, 159, 202, 227, 283...</td>\n      <td>[124229 n336.000 1144008, 1154859, 679677, 115...</td>\n    </tr>\n    <tr>\n      <th>416960</th>\n      <td>466760</td>\n      <td>1549</td>\n      <td>0</td>\n      <td>[1036, 1066, 112, 159, 202, 210, 227, 230, 283...</td>\n      <td>[1318567, n720.000 424566, 679677, 519769, 123...</td>\n    </tr>\n    <tr>\n      <th>417047</th>\n      <td>466861</td>\n      <td>1051</td>\n      <td>0</td>\n      <td>[1036, 1066, 112, 159, 202, 227, 230, 283, 300...</td>\n      <td>[1318567, 732011 424566, 679677, 519769, 10769...</td>\n    </tr>\n    <tr>\n      <th>417050</th>\n      <td>466864</td>\n      <td>373</td>\n      <td>1</td>\n      <td>[1036, 112, 152, 159, 202, 227, 230, 283, 348,...</td>\n      <td>[1154859, 679677, 1071492, 519769, 1262739 205...</td>\n    </tr>\n  </tbody>\n</table>\n<p>7705 rows × 5 columns</p>\n</div>"
     },
     "metadata": {},
     "output_type": "display_data"
    }
   ],
   "source": [
    "# Load data\n",
    "def map_event(event):\n",
    "    if event == 'view':\n",
    "        return 1\n",
    "    elif event == 'addtocart':\n",
    "        return 2\n",
    "    elif event == 'transaction':\n",
    "        return 3\n",
    "    else:\n",
    "        return 0\n",
    "\n",
    "basepath = '../../datasets/preprocessed_datasets/retailrocket/'\n",
    "events = pd.read_pickle(basepath +'events_10k.pkl')\n",
    "events['event_mapped'] = events['event'].apply(map_event)\n",
    "events = events.drop(columns=['timestamp', 'event', 'transactionid', 'datetime'])\n",
    "item_properties = pd.read_pickle(basepath +'item_data_extracted.pkl')\n",
    "\n",
    "item_properties = item_properties[item_properties['itemid'].isin(events.itemid.unique())]\n",
    "\n",
    "display(events, item_properties)"
   ],
   "metadata": {
    "collapsed": false,
    "ExecuteTime": {
     "end_time": "2023-12-01T18:29:18.929085Z",
     "start_time": "2023-12-01T18:28:52.424721Z"
    }
   },
   "id": "e008bf18a8e80e4f"
  },
  {
   "cell_type": "code",
   "execution_count": 4,
   "outputs": [],
   "source": [
    "# item_properties['properties'] = item_properties['properties'].apply(lambda x: str(x))\n",
    "# item_properties['property_values'] = item_properties['property_values'].apply(lambda x: str(x))\n"
   ],
   "metadata": {
    "collapsed": false,
    "ExecuteTime": {
     "end_time": "2023-12-01T18:29:18.934230Z",
     "start_time": "2023-12-01T18:29:18.928703Z"
    }
   },
   "id": "309086c9d868b28f"
  },
  {
   "cell_type": "code",
   "execution_count": 5,
   "outputs": [],
   "source": [
    "# Create a tf.data.Dataset from the interaction data\n",
    "#todo check how to use array of ids\n",
    "interaction_dataset = tf.data.Dataset.from_tensor_slices({\n",
    "    'visitorid': events['visitorid'].values,\n",
    "    'itemid': events['itemid'].values,\n",
    "    'event': events['event_mapped'].values,\n",
    "    # 'properties': item_properties['properties'].values,\n",
    "    # 'property_values': item_properties['property_values'].values,\n",
    "})\n",
    "#variables \n",
    "dataset_len = events.shape[0]\n",
    "test_len = math.ceil(dataset_len * 0.2)\n",
    "train_len = dataset_len - test_len\n",
    "\n",
    "metrics_batchsize = 16\n",
    "train_batch_size = 128\n",
    "test_batch_size = 64\n",
    "random_seed = 27"
   ],
   "metadata": {
    "collapsed": false,
    "ExecuteTime": {
     "end_time": "2023-12-01T18:29:18.946865Z",
     "start_time": "2023-12-01T18:29:18.942811Z"
    }
   },
   "id": "c089ac7f029dc324"
  },
  {
   "cell_type": "code",
   "execution_count": 6,
   "outputs": [
    {
     "data": {
      "text/plain": "<_TensorSliceDataset element_spec={'visitorid': TensorSpec(shape=(), dtype=tf.int64, name=None), 'itemid': TensorSpec(shape=(), dtype=tf.int64, name=None), 'event': TensorSpec(shape=(), dtype=tf.int64, name=None)}>"
     },
     "execution_count": 6,
     "metadata": {},
     "output_type": "execute_result"
    }
   ],
   "source": [
    "interaction_dataset"
   ],
   "metadata": {
    "collapsed": false,
    "ExecuteTime": {
     "end_time": "2023-12-01T18:29:18.952354Z",
     "start_time": "2023-12-01T18:29:18.947724Z"
    }
   },
   "id": "1271391f90ebc74d"
  },
  {
   "cell_type": "code",
   "execution_count": 7,
   "outputs": [
    {
     "data": {
      "text/plain": "<_TakeDataset element_spec={'visitorid': TensorSpec(shape=(), dtype=tf.int64, name=None), 'itemid': TensorSpec(shape=(), dtype=tf.int64, name=None), 'event': TensorSpec(shape=(), dtype=tf.int64, name=None)}>"
     },
     "metadata": {},
     "output_type": "display_data"
    },
    {
     "data": {
      "text/plain": "<_TakeDataset element_spec={'visitorid': TensorSpec(shape=(), dtype=tf.int64, name=None), 'itemid': TensorSpec(shape=(), dtype=tf.int64, name=None), 'event': TensorSpec(shape=(), dtype=tf.int64, name=None)}>"
     },
     "metadata": {},
     "output_type": "display_data"
    }
   ],
   "source": [
    "#train test split\n",
    "tf.random.set_seed(random_seed)\n",
    "# shuffled = interaction_dataset.shuffle(len, seed=random_seed, reshuffle_each_iteration=False)\n",
    "# train = shuffled.take(train_len)\n",
    "# test = shuffled.skip(train_len).take(test_len)\n",
    "shuffled = interaction_dataset.shuffle(dataset_len, seed=random_seed, reshuffle_each_iteration=False)\n",
    "\n",
    "train = shuffled.take(train_len)\n",
    "test = shuffled.skip(train_len).take(test_len)\n",
    "display(train, test)"
   ],
   "metadata": {
    "collapsed": false,
    "ExecuteTime": {
     "end_time": "2023-12-01T18:29:19.053592Z",
     "start_time": "2023-12-01T18:29:18.953382Z"
    }
   },
   "id": "825eec174445be8c"
  },
  {
   "cell_type": "code",
   "execution_count": 8,
   "outputs": [],
   "source": [
    "# Unique customer and product identifiers\n",
    "unique_visitor_ids = np.array(events[\"visitorid\"].unique())\n",
    "unique_item_ids = np.array(events[\"itemid\"].unique())\n",
    "\n",
    "\n",
    "visitor_ids_vocabulary = tf.keras.layers.IntegerLookup(mask_token=None)\n",
    "visitor_ids_vocabulary.adapt(unique_visitor_ids)\n",
    "\n",
    "item_ids_vocabulary = tf.keras.layers.IntegerLookup(mask_token=None)\n",
    "item_ids_vocabulary.adapt(unique_item_ids)\n",
    "# print(unique_product_ids.shape[0], unique_customer_ids.shape[0], unique_product_ids, unique_product_ids)"
   ],
   "metadata": {
    "collapsed": false,
    "ExecuteTime": {
     "end_time": "2023-12-01T18:29:19.970305Z",
     "start_time": "2023-12-01T18:29:19.010632Z"
    }
   },
   "id": "2e2625e63cf53fce"
  },
  {
   "cell_type": "code",
   "execution_count": 8,
   "outputs": [],
   "source": [],
   "metadata": {
    "collapsed": false,
    "ExecuteTime": {
     "end_time": "2023-12-01T18:29:19.975872Z",
     "start_time": "2023-12-01T18:29:19.970487Z"
    }
   },
   "id": "580fc3478a356294"
  },
  {
   "cell_type": "code",
   "execution_count": 9,
   "outputs": [],
   "source": [
    "# Define a model using TensorFlow Recommenders\n",
    "product_ids_dataset = tf.data.Dataset.from_tensor_slices(unique_item_ids)\n",
    "class RetailModel(tfrs.Model):\n",
    "\n",
    "    def __init__(self, unique_item_ids_vocab, unique_visitor_ids_vocab, embedding_dimension=32):\n",
    "        super().__init__()\n",
    "        # Set up user and product representations\n",
    "        self.user_embedding = tf.keras.Sequential([\n",
    "            unique_visitor_ids_vocab,\n",
    "            Embedding(unique_visitor_ids_vocab.vocabulary_size(), embedding_dimension)\n",
    "        ])\n",
    "        self.product_embedding = tf.keras.Sequential([\n",
    "            unique_item_ids_vocab,\n",
    "            Embedding(unique_item_ids_vocab.vocabulary_size(), embedding_dimension)\n",
    "        ])\n",
    "\n",
    "        # self.property_model = tf.keras.Sequential([\n",
    "        #     Embedding(input_dim=unique_product_ids_vocab.vocabulary_size(), output_dim=embedding_dimension),\n",
    "        #     LSTM(64),\n",
    "        #     Dense(64, activation='relu')\n",
    "        # ])\n",
    "\n",
    "\n",
    "        # # Textual description model\n",
    "        # self.textual_description_model = tf.keras.Sequential([\n",
    "        #     Embedding(input_dim=unique_item_ids_vocab.vocabulary_size(), output_dim=embedding_dimension),\n",
    "        #     LSTM(64),\n",
    "        #     Dense(64, activation='relu')\n",
    "        # ])\n",
    "        # \n",
    "        # # New embeddings for color and description\n",
    "        # self.reduced_product_embeddings = Dense(64, activation='relu')\n",
    "        # self.reduced_description_embeddings = Dense(32, activation='relu')\n",
    "        # self.reduced_color_embeddings = Dense(32, activation='relu')\n",
    "        \n",
    "        # Set up a dense layer for the task.\n",
    "        self.dense_layer = Dense(128, input_shape=(256,), activation=\"relu\")\n",
    "\n",
    "        # Set up retrieval task and metrics\n",
    "        self.task = tfrs.tasks.Retrieval(\n",
    "            metrics=tfrs.metrics.FactorizedTopK(candidates=product_ids_dataset.batch(metrics_batchsize).map(self.product_model))\n",
    "        )\n",
    "        self.auc_metric = AUC(name='auc')\n",
    "        self.rmse_metric = tf.keras.metrics.RootMeanSquaredError(name='rmse')\n",
    "        self.precision = tf.keras.metrics.Precision(name='precision')\n",
    "        self.recall = tf.keras.metrics.Recall(name='recall')\n",
    "\n",
    "    def product_model(self, product_ids):\n",
    "        return self.product_embedding(product_ids)\n",
    "\n",
    "    def dot_product_score(self, user, product):\n",
    "        \"\"\"\n",
    "        Computes the dot product between user and product embeddings to get the interaction score.\n",
    "        \"\"\"\n",
    "        return tf.reduce_sum(user * product, axis=1)\n",
    "\n",
    "    def compute_loss(self, features, training=False):\n",
    "        # print(features)\n",
    "        print(list(features.keys()))\n",
    "        user_embeddings = self.user_embedding(features[\"visitorid\"])\n",
    "        product_embeddings = self.product_embedding(features[\"itemid\"])\n",
    "\n",
    "        # properterties_embeddings = self.color_embedding(features[\"properties\"])\n",
    "        # property_value_embeddings = self.textual_description_model(features[\"property_values\"])\n",
    "        # \n",
    "        # reduced_product_embeddings = self.reduced_product_embeddings(product_embeddings)\n",
    "        # reduced_property_value_embeddings = self.reduced_description_embeddings(property_value_embeddings)\n",
    "        # reduced_property_embeddings = self.reduced_color_embeddings(properterties_embeddings)\n",
    "        # \n",
    "        # \n",
    "        # # Now concatenate\n",
    "        # user_combined = tf.concat([user_embeddings, ], axis=1)  # shape will be [None, 128]\n",
    "        # product_combined = tf.concat([reduced_product_embeddings, reduced_property_embeddings, reduced_property_value_embeddings], axis=1)  # shape will be [None, 128]\n",
    "        \n",
    "\n",
    "\n",
    "        user_output = self.dense_layer(user_embeddings)\n",
    "        product_output = self.dense_layer(product_embeddings)\n",
    "        # This is a hypothetical function that returns the logits or scores\n",
    "        # This needs to be adapted based on your actual model\n",
    "        positive_logits = self.dot_product_score(user_output, product_output)\n",
    "\n",
    "        # Update RMSE\n",
    "        self.rmse_metric.update_state(y_true=features[\"event\"], y_pred=positive_logits)\n",
    "\n",
    "\n",
    "        return self.task(user_output, product_output)\n",
    "\n",
    "    def evaluate(self, validation_dataset, *args, **kwargs):\n",
    "        # Call the base class's evaluate method\n",
    "        \n",
    "    \n",
    "        # Compute additional metrics\n",
    "        for features in validation_dataset:\n",
    "            user_embeddings = self.user_embedding(features[\"visitorid\"])\n",
    "            product_embeddings = self.product_embedding(features[\"itemid\"])\n",
    "            \n",
    "            user_output = self.dense_layer(user_embeddings)\n",
    "            product_output = self.dense_layer(product_embeddings)\n",
    "            \n",
    "            positive_logits = self.dot_product_score(user_output, product_output)\n",
    "            # Assuming you have a binary \"label\" in your dataset indicating 1 for positive interaction and 0 for negative\n",
    "            self.precision.update_state(y_true=features[\"event\"], y_pred=positive_logits)\n",
    "            self.recall.update_state(y_true=features[\"event\"], y_pred=positive_logits)\n",
    "    \n",
    "        precision_result = self.precision.result().numpy()\n",
    "        recall_result = self.recall.result().numpy()\n",
    "    \n",
    "        # Calculate F1 score\n",
    "        if (precision_result + recall_result) != 0:\n",
    "            f1_score = 2 * (precision_result * recall_result) / (precision_result + recall_result)\n",
    "        else:\n",
    "            f1_score = 0.0\n",
    "    \n",
    "        # Reset the metrics for the next evaluation\n",
    "        # self.precision.reset_states()\n",
    "        # self.recall.reset_states()\n",
    "        base_results = super(RetailModel, self).evaluate(validation_dataset, *args, **kwargs)\n",
    "    \n",
    "        return base_results, [precision_result, recall_result, f1_score]  # or append additional results as needed\n",
    "\n"
   ],
   "metadata": {
    "collapsed": false,
    "ExecuteTime": {
     "end_time": "2023-12-01T18:29:19.983895Z",
     "start_time": "2023-12-01T18:29:19.978550Z"
    }
   },
   "id": "378cf58a3061ecfc"
  },
  {
   "cell_type": "code",
   "execution_count": 10,
   "outputs": [],
   "source": [
    "model = RetailModel(item_ids_vocabulary, visitor_ids_vocabulary, embedding_dimension=128)\n",
    "model.compile(optimizer=tf.keras.optimizers.legacy.Adam(learning_rate=0.001)) # using legacy instead of tf.keras.optimizers.Adagrad, because newer version is slow on m1/m2 macs"
   ],
   "metadata": {
    "collapsed": false,
    "ExecuteTime": {
     "end_time": "2023-12-01T18:29:20.105292Z",
     "start_time": "2023-12-01T18:29:19.985357Z"
    }
   },
   "id": "5ae0c3e4d7093bf1"
  },
  {
   "cell_type": "code",
   "execution_count": 11,
   "outputs": [
    {
     "name": "stdout",
     "output_type": "stream",
     "text": [
      "Epoch 1/3\n",
      "['visitorid', 'itemid', 'event']\n",
      "['visitorid', 'itemid', 'event']\n",
      "63/63 [==============================] - 86s 1s/step - auc: 0.0000e+00 - rmse: 1.0656 - precision: 0.0000e+00 - recall: 0.0000e+00 - factorized_top_k/top_1_categorical_accuracy: 0.0168 - factorized_top_k/top_5_categorical_accuracy: 0.0354 - factorized_top_k/top_10_categorical_accuracy: 0.0469 - factorized_top_k/top_50_categorical_accuracy: 0.0962 - factorized_top_k/top_100_categorical_accuracy: 0.1262 - loss: 609.9870 - regularization_loss: 0.0000e+00 - total_loss: 609.9870\n",
      "Epoch 2/3\n",
      "63/63 [==============================] - 88s 1s/step - auc: 0.0000e+00 - rmse: 0.8327 - precision: 0.0000e+00 - recall: 0.0000e+00 - factorized_top_k/top_1_categorical_accuracy: 0.9570 - factorized_top_k/top_5_categorical_accuracy: 0.9759 - factorized_top_k/top_10_categorical_accuracy: 0.9808 - factorized_top_k/top_50_categorical_accuracy: 0.9905 - factorized_top_k/top_100_categorical_accuracy: 0.9926 - loss: 601.7233 - regularization_loss: 0.0000e+00 - total_loss: 601.7233\n",
      "Epoch 3/3\n",
      "63/63 [==============================] - 92s 1s/step - auc: 0.0000e+00 - rmse: 1.6278 - precision: 0.0000e+00 - recall: 0.0000e+00 - factorized_top_k/top_1_categorical_accuracy: 1.0000 - factorized_top_k/top_5_categorical_accuracy: 1.0000 - factorized_top_k/top_10_categorical_accuracy: 1.0000 - factorized_top_k/top_50_categorical_accuracy: 1.0000 - factorized_top_k/top_100_categorical_accuracy: 1.0000 - loss: 539.4233 - regularization_loss: 0.0000e+00 - total_loss: 539.4233\n"
     ]
    },
    {
     "data": {
      "text/plain": "<keras.src.callbacks.History at 0x29cf57970>"
     },
     "execution_count": 11,
     "metadata": {},
     "output_type": "execute_result"
    }
   ],
   "source": [
    "# Shuffle, batch, and cache the data.\n",
    "cached_train = train.shuffle(dataset_len).batch(train_batch_size).cache()\n",
    "cached_test = test.batch(test_batch_size).cache()\n",
    "# Train the model\n",
    "# model.fit(cached_train, validation_data=cached_test, validation_freq=5, epochs=3) \n",
    "model.fit(cached_train, validation_freq=5, epochs=3)"
   ],
   "metadata": {
    "collapsed": false,
    "ExecuteTime": {
     "end_time": "2023-12-01T18:33:46.887642Z",
     "start_time": "2023-12-01T18:29:20.091753Z"
    }
   },
   "id": "4add146de8d83cb0"
  },
  {
   "cell_type": "code",
   "execution_count": 12,
   "outputs": [
    {
     "name": "stdout",
     "output_type": "stream",
     "text": [
      "['visitorid', 'itemid', 'event']\n",
      "63/63 [==============================] - 101s 2s/step - auc: 0.0000e+00 - rmse: 4.5012 - precision: 0.0000e+00 - recall: 0.0000e+00 - factorized_top_k/top_1_categorical_accuracy: 1.0000 - factorized_top_k/top_5_categorical_accuracy: 1.0000 - factorized_top_k/top_10_categorical_accuracy: 1.0000 - factorized_top_k/top_50_categorical_accuracy: 1.0000 - factorized_top_k/top_100_categorical_accuracy: 1.0000 - loss: 378.5981 - regularization_loss: 0.0000e+00 - total_loss: 378.5981\n"
     ]
    },
    {
     "data": {
      "text/plain": "([0.0,\n  4.501239776611328,\n  0.0,\n  0.0,\n  1.0,\n  1.0,\n  1.0,\n  1.0,\n  1.0,\n  183.98411560058594,\n  0,\n  183.98411560058594],\n [1.0, 1.0, 1.0])"
     },
     "execution_count": 12,
     "metadata": {},
     "output_type": "execute_result"
    }
   ],
   "source": [
    "# Evaluate the model\n",
    "k = 5\n",
    "result_evaluate_train = model.evaluate(cached_train)\n",
    "result_evaluate_train"
   ],
   "metadata": {
    "collapsed": false,
    "ExecuteTime": {
     "end_time": "2023-12-01T18:35:28.315327Z",
     "start_time": "2023-12-01T18:33:46.888106Z"
    }
   },
   "id": "f38fbc7489d6c8ab"
  },
  {
   "cell_type": "code",
   "execution_count": 13,
   "outputs": [
    {
     "name": "stdout",
     "output_type": "stream",
     "text": [
      "32/32 [==============================] - 45s 1s/step - auc: 0.0000e+00 - rmse: 2.3387 - precision: 0.0000e+00 - recall: 0.0000e+00 - factorized_top_k/top_1_categorical_accuracy: 1.0000 - factorized_top_k/top_5_categorical_accuracy: 1.0000 - factorized_top_k/top_10_categorical_accuracy: 1.0000 - factorized_top_k/top_50_categorical_accuracy: 1.0000 - factorized_top_k/top_100_categorical_accuracy: 1.0000 - loss: 253.6080 - regularization_loss: 0.0000e+00 - total_loss: 253.6080\n"
     ]
    },
    {
     "data": {
      "text/plain": "([0.0,\n  2.338714838027954,\n  0.0,\n  0.0,\n  1.0,\n  1.0,\n  1.0,\n  1.0,\n  1.0,\n  44.742313385009766,\n  0,\n  44.742313385009766],\n [1.0, 1.0, 1.0])"
     },
     "execution_count": 13,
     "metadata": {},
     "output_type": "execute_result"
    }
   ],
   "source": [
    "result_evaluat_test = model.evaluate(cached_test)\n",
    "result_evaluat_test"
   ],
   "metadata": {
    "collapsed": false,
    "ExecuteTime": {
     "end_time": "2023-12-01T18:36:14.155069Z",
     "start_time": "2023-12-01T18:35:28.317356Z"
    }
   },
   "id": "a90bfb5478e24540"
  },
  {
   "cell_type": "code",
   "execution_count": 14,
   "outputs": [
    {
     "name": "stdout",
     "output_type": "stream",
     "text": [
      "Name\t\tValue\n",
      "------------------------------\n",
      "auc\t\t0.0\n",
      "rmse\t\t2.338714838027954\n",
      "precision\t\t0.0\n",
      "recall\t\t0.0\n",
      "factorized_top_k/top_1_categorical_accuracy\t\t1.0\n",
      "factorized_top_k/top_5_categorical_accuracy\t\t1.0\n",
      "factorized_top_k/top_10_categorical_accuracy\t\t1.0\n",
      "factorized_top_k/top_50_categorical_accuracy\t\t1.0\n",
      "factorized_top_k/top_100_categorical_accuracy\t\t1.0\n",
      "AUC: 0.0\n"
     ]
    }
   ],
   "source": [
    "print(\"Name\\t\\tValue\")\n",
    "print(\"-\" * 30)\n",
    "for metric in model.metrics:\n",
    "    print(f\"{metric.name}\\t\\t{metric.result().numpy()}\")\n",
    "print(f\"AUC: {model.auc_metric.result().numpy()}\")"
   ],
   "metadata": {
    "collapsed": false,
    "ExecuteTime": {
     "end_time": "2023-12-01T18:36:14.177835Z",
     "start_time": "2023-12-01T18:36:14.154940Z"
    }
   },
   "id": "2dc815d6547dfefe"
  },
  {
   "cell_type": "code",
   "execution_count": 15,
   "outputs": [
    {
     "data": {
      "text/plain": "array([1164119, 1041770,  918612, 1015928, 1329704, 1397149, 1159302,\n       1290428,  194207, 1003965,  719678, 1046392, 1359141,  788230,\n        355415,  876730,  404709,  269418,  809739,   18483,  943323,\n        990272,  655614,  690498,  883080,  872837, 1282452, 1269394,\n        558272,  684514, 1195090,  745113, 1243693,  672785,  336581,\n        789542, 1135668,  441858, 1265850, 1280629,  331321,  905124,\n        315411,  245266, 1165288,  672257, 1014116,  382875,  767656,\n        946321, 1099605,  363136, 1146770, 1079746,  349053, 1095684,\n        976833,  748085, 1214199, 1115740, 1072506,  253881,  279762,\n       1295583])"
     },
     "execution_count": 15,
     "metadata": {},
     "output_type": "execute_result"
    }
   ],
   "source": [
    "sample = next(iter(cached_test.take(1)))\n",
    "\n",
    "# Extract customer_id from the sample\n",
    "visitor_id = sample['visitorid'].numpy()\n",
    "visitor_id"
   ],
   "metadata": {
    "collapsed": false,
    "ExecuteTime": {
     "end_time": "2023-12-01T18:36:14.178962Z",
     "start_time": "2023-12-01T18:36:14.171140Z"
    }
   },
   "id": "d293fa87e3fe5b52"
  },
  {
   "cell_type": "code",
   "execution_count": 16,
   "outputs": [
    {
     "name": "stdout",
     "output_type": "stream",
     "text": [
      "predicting user:  1164119\n",
      "user already bought following products: \n"
     ]
    },
    {
     "data": {
      "text/plain": "        itemid categoryid available  \\\n260067  291050       1051         0   \n\n                                               properties  \\\n260067  [1036, 1066, 112, 159, 202, 227, 230, 283, 300...   \n\n                                          property_values  \n260067  [1318567, 269011 n2400.000 424566, 679677, 519...  ",
      "text/html": "<div>\n<style scoped>\n    .dataframe tbody tr th:only-of-type {\n        vertical-align: middle;\n    }\n\n    .dataframe tbody tr th {\n        vertical-align: top;\n    }\n\n    .dataframe thead th {\n        text-align: right;\n    }\n</style>\n<table border=\"1\" class=\"dataframe\">\n  <thead>\n    <tr style=\"text-align: right;\">\n      <th></th>\n      <th>itemid</th>\n      <th>categoryid</th>\n      <th>available</th>\n      <th>properties</th>\n      <th>property_values</th>\n    </tr>\n  </thead>\n  <tbody>\n    <tr>\n      <th>260067</th>\n      <td>291050</td>\n      <td>1051</td>\n      <td>0</td>\n      <td>[1036, 1066, 112, 159, 202, 227, 230, 283, 300...</td>\n      <td>[1318567, 269011 n2400.000 424566, 679677, 519...</td>\n    </tr>\n  </tbody>\n</table>\n</div>"
     },
     "metadata": {},
     "output_type": "display_data"
    },
    {
     "name": "stdout",
     "output_type": "stream",
     "text": [
      "predicted products: \n"
     ]
    },
    {
     "data": {
      "text/plain": "        itemid categoryid available  \\\n83978    93941        451         1   \n89976   100653       1213         1   \n255985  286481        927         0   \n383223  428910        589         1   \n413696  463140        242         0   \n\n                                               properties  \\\n83978   [112, 159, 202, 227, 28, 283, 293, 30, 348, 36...   \n89976   [1036, 1066, 112, 159, 202, 227, 230, 283, 300...   \n255985  [112, 159, 19, 202, 227, 28, 283, 364, 521, 55...   \n383223  [1036, 1066, 112, 159, 202, 227, 230, 283, 327...   \n413696  [112, 159, 202, 227, 28, 283, 364, 558, 6, 678...   \n\n                                          property_values  \n83978   [679677, 519769, n171240.000, 117851 863914, 1...  \n89976   [961511, 1184253 424566, 679677, 519769, 29215...  \n255985  [679677, 519769, 1297729 n72.000 309206, 77121...  \n383223  [1154859, n64.800 424566, 679677, 519769, 1838...  \n413696  [679677, 519769, 1166900 1320761, 1322342 1115...  ",
      "text/html": "<div>\n<style scoped>\n    .dataframe tbody tr th:only-of-type {\n        vertical-align: middle;\n    }\n\n    .dataframe tbody tr th {\n        vertical-align: top;\n    }\n\n    .dataframe thead th {\n        text-align: right;\n    }\n</style>\n<table border=\"1\" class=\"dataframe\">\n  <thead>\n    <tr style=\"text-align: right;\">\n      <th></th>\n      <th>itemid</th>\n      <th>categoryid</th>\n      <th>available</th>\n      <th>properties</th>\n      <th>property_values</th>\n    </tr>\n  </thead>\n  <tbody>\n    <tr>\n      <th>83978</th>\n      <td>93941</td>\n      <td>451</td>\n      <td>1</td>\n      <td>[112, 159, 202, 227, 28, 283, 293, 30, 348, 36...</td>\n      <td>[679677, 519769, n171240.000, 117851 863914, 1...</td>\n    </tr>\n    <tr>\n      <th>89976</th>\n      <td>100653</td>\n      <td>1213</td>\n      <td>1</td>\n      <td>[1036, 1066, 112, 159, 202, 227, 230, 283, 300...</td>\n      <td>[961511, 1184253 424566, 679677, 519769, 29215...</td>\n    </tr>\n    <tr>\n      <th>255985</th>\n      <td>286481</td>\n      <td>927</td>\n      <td>0</td>\n      <td>[112, 159, 19, 202, 227, 28, 283, 364, 521, 55...</td>\n      <td>[679677, 519769, 1297729 n72.000 309206, 77121...</td>\n    </tr>\n    <tr>\n      <th>383223</th>\n      <td>428910</td>\n      <td>589</td>\n      <td>1</td>\n      <td>[1036, 1066, 112, 159, 202, 227, 230, 283, 327...</td>\n      <td>[1154859, n64.800 424566, 679677, 519769, 1838...</td>\n    </tr>\n    <tr>\n      <th>413696</th>\n      <td>463140</td>\n      <td>242</td>\n      <td>0</td>\n      <td>[112, 159, 202, 227, 28, 283, 364, 558, 6, 678...</td>\n      <td>[679677, 519769, 1166900 1320761, 1322342 1115...</td>\n    </tr>\n  </tbody>\n</table>\n</div>"
     },
     "metadata": {},
     "output_type": "display_data"
    },
    {
     "name": "stdout",
     "output_type": "stream",
     "text": [
      "scores:  [0.042489   0.04227759 0.04049877 0.03945318 0.03943277]\n"
     ]
    }
   ],
   "source": [
    "def get_random_customer_from_test_data():\n",
    "    return next(iter(test.take(1)))['visitorid'].numpy()\n",
    "\n",
    "def display_item_ids(item_ids):\n",
    "    display(item_properties[item_properties.itemid.isin(item_ids) ])\n",
    "\n",
    "def display_products_by_visitor_id(visitor_id):\n",
    "    display_item_ids(events[events.visitorid == visitor_id].itemid.tolist())\n",
    "    \n",
    "\n",
    "index = tfrs.layers.factorized_top_k.BruteForce(model.user_embedding, k=5)\n",
    "index.index_from_dataset(\n",
    "    product_ids_dataset.batch(100).map(lambda id: (id, model.product_model(id))))\n",
    "\n",
    "def predict_user(visitor_id):\n",
    "    print('predicting user: ', visitor_id)\n",
    "    print('user already bought following products: ')\n",
    "    display_products_by_visitor_id(visitor_id)\n",
    "    \n",
    "    score, predicted_product_ids = index(np.array([visitor_id]))\n",
    "    \n",
    "    print('predicted products: ')\n",
    "    display_item_ids(predicted_product_ids[0].numpy())\n",
    "    print('scores: ', score[0].numpy())\n",
    "\n",
    "\n",
    "user_id = get_random_customer_from_test_data()\n",
    "\n",
    "predict_user(user_id)"
   ],
   "metadata": {
    "collapsed": false,
    "ExecuteTime": {
     "end_time": "2023-12-01T18:36:14.379807Z",
     "start_time": "2023-12-01T18:36:14.180405Z"
    }
   },
   "id": "d8785689b14ad90"
  },
  {
   "cell_type": "code",
   "execution_count": 17,
   "outputs": [
    {
     "name": "stdout",
     "output_type": "stream",
     "text": [
      "predicting user:  1055787\n",
      "user already bought following products: \n"
     ]
    },
    {
     "data": {
      "text/plain": "Empty DataFrame\nColumns: [itemid, categoryid, available, properties, property_values]\nIndex: []",
      "text/html": "<div>\n<style scoped>\n    .dataframe tbody tr th:only-of-type {\n        vertical-align: middle;\n    }\n\n    .dataframe tbody tr th {\n        vertical-align: top;\n    }\n\n    .dataframe thead th {\n        text-align: right;\n    }\n</style>\n<table border=\"1\" class=\"dataframe\">\n  <thead>\n    <tr style=\"text-align: right;\">\n      <th></th>\n      <th>itemid</th>\n      <th>categoryid</th>\n      <th>available</th>\n      <th>properties</th>\n      <th>property_values</th>\n    </tr>\n  </thead>\n  <tbody>\n  </tbody>\n</table>\n</div>"
     },
     "metadata": {},
     "output_type": "display_data"
    },
    {
     "name": "stdout",
     "output_type": "stream",
     "text": [
      "predicted products: \n"
     ]
    },
    {
     "data": {
      "text/plain": "        itemid categoryid available  \\\n354456  396706        646         1   \n367960  411817       1349         0   \n378960  424186       1051         1   \n\n                                               properties  \\\n354456  [1092, 112, 159, 202, 283, 348, 364, 461, 491,...   \n367960  [112, 159, 202, 214, 227, 283, 364, 586, 6, 67...   \n378960  [1036, 1066, 112, 159, 202, 227, 230, 283, 300...   \n\n                                          property_values  \n354456  [291010, 679677, 519769, 439677 388150 n3624.0...  \n367960  [679677, 519769, 667659, 1298303, 1128307 1501...  \n378960  [726612, 1184253 424566, 679677, 519769, 22534...  ",
      "text/html": "<div>\n<style scoped>\n    .dataframe tbody tr th:only-of-type {\n        vertical-align: middle;\n    }\n\n    .dataframe tbody tr th {\n        vertical-align: top;\n    }\n\n    .dataframe thead th {\n        text-align: right;\n    }\n</style>\n<table border=\"1\" class=\"dataframe\">\n  <thead>\n    <tr style=\"text-align: right;\">\n      <th></th>\n      <th>itemid</th>\n      <th>categoryid</th>\n      <th>available</th>\n      <th>properties</th>\n      <th>property_values</th>\n    </tr>\n  </thead>\n  <tbody>\n    <tr>\n      <th>354456</th>\n      <td>396706</td>\n      <td>646</td>\n      <td>1</td>\n      <td>[1092, 112, 159, 202, 283, 348, 364, 461, 491,...</td>\n      <td>[291010, 679677, 519769, 439677 388150 n3624.0...</td>\n    </tr>\n    <tr>\n      <th>367960</th>\n      <td>411817</td>\n      <td>1349</td>\n      <td>0</td>\n      <td>[112, 159, 202, 214, 227, 283, 364, 586, 6, 67...</td>\n      <td>[679677, 519769, 667659, 1298303, 1128307 1501...</td>\n    </tr>\n    <tr>\n      <th>378960</th>\n      <td>424186</td>\n      <td>1051</td>\n      <td>1</td>\n      <td>[1036, 1066, 112, 159, 202, 227, 230, 283, 300...</td>\n      <td>[726612, 1184253 424566, 679677, 519769, 22534...</td>\n    </tr>\n  </tbody>\n</table>\n</div>"
     },
     "metadata": {},
     "output_type": "display_data"
    },
    {
     "name": "stdout",
     "output_type": "stream",
     "text": [
      "scores:  [0.09412722 0.06584794 0.06553267 0.06492119 0.06433295]\n"
     ]
    }
   ],
   "source": [
    "user_id = next(iter(train.take(1)))['visitorid'].numpy()\n",
    "predict_user(user_id)"
   ],
   "metadata": {
    "collapsed": false,
    "ExecuteTime": {
     "end_time": "2023-12-01T18:36:14.434876Z",
     "start_time": "2023-12-01T18:36:14.373755Z"
    }
   },
   "id": "ccdee48c0a0d68ae"
  },
  {
   "cell_type": "code",
   "execution_count": 18,
   "outputs": [],
   "source": [
    "#model.save('../../models/retailrocket/rr_tensorflow_reco_3_epochs_v1.h5')"
   ],
   "metadata": {
    "collapsed": false,
    "ExecuteTime": {
     "end_time": "2023-12-01T18:36:14.436582Z",
     "start_time": "2023-12-01T18:36:14.412389Z"
    }
   },
   "id": "eb395206e9a41cc7"
  },
  {
   "cell_type": "code",
   "execution_count": 28,
   "outputs": [
    {
     "name": "stdout",
     "output_type": "stream",
     "text": [
      "Minimum Score: 0.03171522915363312\n",
      "Maximum Score: 0.3098236918449402\n",
      "Average Score: 0.07427351176738739\n",
      "Catalog Coverage: 82.21% (Unique recommended items 7025 / Total catalog items 8545)\n"
     ]
    }
   ],
   "source": [
    "def calculate_coverage_and_scores(user_ids, total_items_count):\n",
    "    all_scores = []\n",
    "    all_predicted_product_ids = []  # Use a set to track unique recommended items\n",
    "\n",
    "    for user_id in user_ids:\n",
    "        # Call the prediction function for each user\n",
    "        score, predicted_product_ids = index(np.array([user_id]))\n",
    "\n",
    "        # Append the scores to the all_scores list\n",
    "        all_scores.extend(score[0].numpy())\n",
    "\n",
    "        # Update the set of all unique predicted product IDs\n",
    "        all_predicted_product_ids.extend(predicted_product_ids[0].numpy())\n",
    "\n",
    "    # Calculate min, max, and average scores\n",
    "    min_score = np.min(all_scores)\n",
    "    max_score = np.max(all_scores)\n",
    "    avg_score = np.mean(all_scores)\n",
    "\n",
    "    # Calculate item coverage and catalog coverage\n",
    "    num_unique_items = len(np.unique(all_predicted_product_ids))\n",
    "    catalog_coverage = num_unique_items / total_items_count\n",
    "\n",
    "    # Print the results\n",
    "    print(f\"Minimum Score: {min_score}\")\n",
    "    print(f\"Maximum Score: {max_score}\")\n",
    "    print(f\"Average Score: {avg_score}\")\n",
    "    print(f\"Catalog Coverage: {catalog_coverage:.2%} (Unique recommended items {num_unique_items} / Total catalog items {total_items_count})\")\n",
    "\n",
    "    return min_score, max_score, avg_score, catalog_coverage, all_predicted_product_ids\n",
    "\n",
    "# Example usage\n",
    "total_items_count = len(events.itemid.unique())\n",
    "\n",
    "user_ids = events.visitorid.unique()\n",
    "min_score, max_score, avg_score, catalog_coveragem, all_predicted_p_ids = calculate_coverage_and_scores(user_ids, total_items_count)\n"
   ],
   "metadata": {
    "collapsed": false,
    "ExecuteTime": {
     "end_time": "2023-12-01T18:40:21.699822Z",
     "start_time": "2023-12-01T18:39:51.843072Z"
    }
   },
   "id": "313096ee48653126"
  }
 ],
 "metadata": {
  "kernelspec": {
   "display_name": "Python 3",
   "language": "python",
   "name": "python3"
  },
  "language_info": {
   "codemirror_mode": {
    "name": "ipython",
    "version": 2
   },
   "file_extension": ".py",
   "mimetype": "text/x-python",
   "name": "python",
   "nbconvert_exporter": "python",
   "pygments_lexer": "ipython2",
   "version": "2.7.6"
  }
 },
 "nbformat": 4,
 "nbformat_minor": 5
}
