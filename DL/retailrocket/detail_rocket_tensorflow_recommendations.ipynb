{
 "cells": [
  {
   "cell_type": "code",
   "execution_count": 1,
   "id": "initial_id",
   "metadata": {
    "collapsed": true,
    "ExecuteTime": {
     "end_time": "2023-11-12T13:17:02.050373Z",
     "start_time": "2023-11-12T13:16:50.091976Z"
    }
   },
   "outputs": [],
   "source": [
    "#%pip install -q tensorflow-recommenders\n",
    "import tensorflow as tf\n",
    "import pandas as pd\n",
    "from tensorflow.keras.layers import Embedding, Dense, StringLookup\n",
    "from tensorflow.keras import Sequential\n",
    "import tensorflow_recommenders as tfrs\n",
    "from tensorflow.keras.metrics import AUC\n",
    "import math\n",
    "import numpy as np\n",
    "from tensorflow.keras.preprocessing.text import Tokenizer\n",
    "from tensorflow.keras.preprocessing.sequence import pad_sequences\n",
    "\n",
    "from keras.src.layers import LSTM"
   ]
  },
  {
   "cell_type": "code",
   "execution_count": 2,
   "outputs": [
    {
     "name": "stdout",
     "output_type": "stream",
     "text": [
      "GPU is available\n"
     ]
    }
   ],
   "source": [
    "if tf.config.list_physical_devices('GPU'):\n",
    "    print(\"GPU is available\")\n",
    "else:\n",
    "    print(\"GPU is not available\")"
   ],
   "metadata": {
    "collapsed": false,
    "ExecuteTime": {
     "end_time": "2023-11-12T13:17:02.053731Z",
     "start_time": "2023-11-12T13:17:02.050756Z"
    }
   },
   "id": "89849bbf9d8a3d88"
  },
  {
   "cell_type": "code",
   "execution_count": 3,
   "outputs": [
    {
     "data": {
      "text/plain": "         visitorid  itemid  event_mapped\n1153096     693935  213903             1\n2662469     576413  179601             1\n1640381     582544  154594             1\n2077204     952532  313448             1\n1106554     362051   96924             1\n...            ...     ...           ...\n1446444     638482  460639             1\n2010112     561735   46831             1\n2613003    1158126  101967             1\n424502     1132799  254432             1\n1689835    1100625   64747             1\n\n[10000 rows x 3 columns]",
      "text/html": "<div>\n<style scoped>\n    .dataframe tbody tr th:only-of-type {\n        vertical-align: middle;\n    }\n\n    .dataframe tbody tr th {\n        vertical-align: top;\n    }\n\n    .dataframe thead th {\n        text-align: right;\n    }\n</style>\n<table border=\"1\" class=\"dataframe\">\n  <thead>\n    <tr style=\"text-align: right;\">\n      <th></th>\n      <th>visitorid</th>\n      <th>itemid</th>\n      <th>event_mapped</th>\n    </tr>\n  </thead>\n  <tbody>\n    <tr>\n      <th>1153096</th>\n      <td>693935</td>\n      <td>213903</td>\n      <td>1</td>\n    </tr>\n    <tr>\n      <th>2662469</th>\n      <td>576413</td>\n      <td>179601</td>\n      <td>1</td>\n    </tr>\n    <tr>\n      <th>1640381</th>\n      <td>582544</td>\n      <td>154594</td>\n      <td>1</td>\n    </tr>\n    <tr>\n      <th>2077204</th>\n      <td>952532</td>\n      <td>313448</td>\n      <td>1</td>\n    </tr>\n    <tr>\n      <th>1106554</th>\n      <td>362051</td>\n      <td>96924</td>\n      <td>1</td>\n    </tr>\n    <tr>\n      <th>...</th>\n      <td>...</td>\n      <td>...</td>\n      <td>...</td>\n    </tr>\n    <tr>\n      <th>1446444</th>\n      <td>638482</td>\n      <td>460639</td>\n      <td>1</td>\n    </tr>\n    <tr>\n      <th>2010112</th>\n      <td>561735</td>\n      <td>46831</td>\n      <td>1</td>\n    </tr>\n    <tr>\n      <th>2613003</th>\n      <td>1158126</td>\n      <td>101967</td>\n      <td>1</td>\n    </tr>\n    <tr>\n      <th>424502</th>\n      <td>1132799</td>\n      <td>254432</td>\n      <td>1</td>\n    </tr>\n    <tr>\n      <th>1689835</th>\n      <td>1100625</td>\n      <td>64747</td>\n      <td>1</td>\n    </tr>\n  </tbody>\n</table>\n<p>10000 rows × 3 columns</p>\n</div>"
     },
     "metadata": {},
     "output_type": "display_data"
    },
    {
     "data": {
      "text/plain": "        itemid categoryid available  \\\n0            0        209         0   \n1            1       1114         1   \n2            2       1305         0   \n3            3       1171         0   \n4            4       1038         0   \n...        ...        ...       ...   \n417048  466862       1376         0   \n417049  466863        173         0   \n417050  466864        373         1   \n417051  466865        421         0   \n417052  466866       1164         0   \n\n                                               properties  \\\n0       [1036, 1056, 11, 112, 127, 139, 159, 177, 189,...   \n1       [0, 1036, 112, 159, 185, 202, 227, 238, 280, 2...   \n2       [1063, 112, 159, 202, 282, 283, 318, 332, 364,...   \n3       [1025, 1080, 112, 159, 202, 227, 250, 283, 30,...   \n4       [112, 115, 159, 202, 227, 28, 283, 33, 364, 59...   \n...                                                   ...   \n417048  [112, 139, 159, 186, 202, 227, 28, 283, 29, 34...   \n417049  [1014, 112, 159, 202, 227, 283, 364, 400, 47, ...   \n417050  [1036, 112, 152, 159, 202, 227, 230, 283, 348,...   \n417051  [1031, 112, 159, 202, 227, 277, 28, 283, 332, ...   \n417052  [112, 120, 128, 159, 202, 227, 28, 283, 320, 3...   \n\n                                          property_values  \n0       [1276750, n3.168 1144008, n15360.000 628176 n1...  \n1       [769062, 1154859, 679677, 519769, 769062, 1726...  \n2       [n396.000 145688, 679677, 519769, 648485 n6000...  \n3       [769062, 769062, 679677, 519769, 261419, 13057...  \n4       [679677, n24.000, 519769, 371058 71429, 588652...  \n...                                                   ...  \n417048  [679677, 769062, 519769, 575816 n432.000, 7173...  \n417049  [1075463, 679677, 519769, 1194687 550565 24255...  \n417050  [1154859, 679677, 1071492, 519769, 1262739 205...  \n417051  [1088309, 679677, 519769, 150169 780351 820477...  \n417052  [679677, 1057641, 590055 n24.000, 519769, 8924...  \n\n[417053 rows x 5 columns]",
      "text/html": "<div>\n<style scoped>\n    .dataframe tbody tr th:only-of-type {\n        vertical-align: middle;\n    }\n\n    .dataframe tbody tr th {\n        vertical-align: top;\n    }\n\n    .dataframe thead th {\n        text-align: right;\n    }\n</style>\n<table border=\"1\" class=\"dataframe\">\n  <thead>\n    <tr style=\"text-align: right;\">\n      <th></th>\n      <th>itemid</th>\n      <th>categoryid</th>\n      <th>available</th>\n      <th>properties</th>\n      <th>property_values</th>\n    </tr>\n  </thead>\n  <tbody>\n    <tr>\n      <th>0</th>\n      <td>0</td>\n      <td>209</td>\n      <td>0</td>\n      <td>[1036, 1056, 11, 112, 127, 139, 159, 177, 189,...</td>\n      <td>[1276750, n3.168 1144008, n15360.000 628176 n1...</td>\n    </tr>\n    <tr>\n      <th>1</th>\n      <td>1</td>\n      <td>1114</td>\n      <td>1</td>\n      <td>[0, 1036, 112, 159, 185, 202, 227, 238, 280, 2...</td>\n      <td>[769062, 1154859, 679677, 519769, 769062, 1726...</td>\n    </tr>\n    <tr>\n      <th>2</th>\n      <td>2</td>\n      <td>1305</td>\n      <td>0</td>\n      <td>[1063, 112, 159, 202, 282, 283, 318, 332, 364,...</td>\n      <td>[n396.000 145688, 679677, 519769, 648485 n6000...</td>\n    </tr>\n    <tr>\n      <th>3</th>\n      <td>3</td>\n      <td>1171</td>\n      <td>0</td>\n      <td>[1025, 1080, 112, 159, 202, 227, 250, 283, 30,...</td>\n      <td>[769062, 769062, 679677, 519769, 261419, 13057...</td>\n    </tr>\n    <tr>\n      <th>4</th>\n      <td>4</td>\n      <td>1038</td>\n      <td>0</td>\n      <td>[112, 115, 159, 202, 227, 28, 283, 33, 364, 59...</td>\n      <td>[679677, n24.000, 519769, 371058 71429, 588652...</td>\n    </tr>\n    <tr>\n      <th>...</th>\n      <td>...</td>\n      <td>...</td>\n      <td>...</td>\n      <td>...</td>\n      <td>...</td>\n    </tr>\n    <tr>\n      <th>417048</th>\n      <td>466862</td>\n      <td>1376</td>\n      <td>0</td>\n      <td>[112, 139, 159, 186, 202, 227, 28, 283, 29, 34...</td>\n      <td>[679677, 769062, 519769, 575816 n432.000, 7173...</td>\n    </tr>\n    <tr>\n      <th>417049</th>\n      <td>466863</td>\n      <td>173</td>\n      <td>0</td>\n      <td>[1014, 112, 159, 202, 227, 283, 364, 400, 47, ...</td>\n      <td>[1075463, 679677, 519769, 1194687 550565 24255...</td>\n    </tr>\n    <tr>\n      <th>417050</th>\n      <td>466864</td>\n      <td>373</td>\n      <td>1</td>\n      <td>[1036, 112, 152, 159, 202, 227, 230, 283, 348,...</td>\n      <td>[1154859, 679677, 1071492, 519769, 1262739 205...</td>\n    </tr>\n    <tr>\n      <th>417051</th>\n      <td>466865</td>\n      <td>421</td>\n      <td>0</td>\n      <td>[1031, 112, 159, 202, 227, 277, 28, 283, 332, ...</td>\n      <td>[1088309, 679677, 519769, 150169 780351 820477...</td>\n    </tr>\n    <tr>\n      <th>417052</th>\n      <td>466866</td>\n      <td>1164</td>\n      <td>0</td>\n      <td>[112, 120, 128, 159, 202, 227, 28, 283, 320, 3...</td>\n      <td>[679677, 1057641, 590055 n24.000, 519769, 8924...</td>\n    </tr>\n  </tbody>\n</table>\n<p>417053 rows × 5 columns</p>\n</div>"
     },
     "metadata": {},
     "output_type": "display_data"
    }
   ],
   "source": [
    "# Load data\n",
    "def map_event(event):\n",
    "    if event == 'view':\n",
    "        return 1\n",
    "    elif event == 'addtocart':\n",
    "        return 2\n",
    "    elif event == 'transaction':\n",
    "        return 3\n",
    "    else:\n",
    "        return 0\n",
    "\n",
    "basepath = '../../datasets/preprocessed_datasets/retailrocket/'\n",
    "events = pd.read_pickle(basepath +'events.pkl')\n",
    "events['event_mapped'] = events['event'].apply(map_event)\n",
    "events = events.drop(columns=['timestamp', 'event', 'transactionid', 'datetime'])\n",
    "events = events.sample(10000)\n",
    "item_properties = pd.read_pickle(basepath +'item_data_extracted.pkl')\n",
    "display(events, item_properties)"
   ],
   "metadata": {
    "collapsed": false,
    "ExecuteTime": {
     "end_time": "2023-11-12T13:17:29.900852Z",
     "start_time": "2023-11-12T13:17:02.055321Z"
    }
   },
   "id": "e008bf18a8e80e4f"
  },
  {
   "cell_type": "code",
   "execution_count": 4,
   "outputs": [
    {
     "ename": "NameError",
     "evalue": "name 'pandas_interaction_data' is not defined",
     "output_type": "error",
     "traceback": [
      "\u001B[0;31m---------------------------------------------------------------------------\u001B[0m",
      "\u001B[0;31mNameError\u001B[0m                                 Traceback (most recent call last)",
      "Cell \u001B[0;32mIn[4], line 3\u001B[0m\n\u001B[1;32m      1\u001B[0m \u001B[38;5;66;03m# Initialize tokenizer\u001B[39;00m\n\u001B[1;32m      2\u001B[0m string_lookup \u001B[38;5;241m=\u001B[39m StringLookup()\n\u001B[0;32m----> 3\u001B[0m string_lookup\u001B[38;5;241m.\u001B[39madapt(\u001B[43mpandas_interaction_data\u001B[49m[\u001B[38;5;124m'\u001B[39m\u001B[38;5;124mproductName\u001B[39m\u001B[38;5;124m'\u001B[39m])\n\u001B[1;32m      5\u001B[0m tokenizer \u001B[38;5;241m=\u001B[39m Tokenizer(num_words\u001B[38;5;241m=\u001B[39mstring_lookup\u001B[38;5;241m.\u001B[39mvocabulary_size(), oov_token\u001B[38;5;241m=\u001B[39m\u001B[38;5;124m\"\u001B[39m\u001B[38;5;124m<OOV>\u001B[39m\u001B[38;5;124m\"\u001B[39m)\n\u001B[1;32m      6\u001B[0m tokenizer\u001B[38;5;241m.\u001B[39mfit_on_texts(pandas_interaction_data[\u001B[38;5;124m'\u001B[39m\u001B[38;5;124mproductName\u001B[39m\u001B[38;5;124m'\u001B[39m])\n",
      "\u001B[0;31mNameError\u001B[0m: name 'pandas_interaction_data' is not defined"
     ]
    }
   ],
   "source": [
    "# Initialize tokenizer\n",
    "string_lookup = StringLookup()\n",
    "string_lookup.adapt(pandas_interaction_data['productName'])\n",
    "\n",
    "tokenizer = Tokenizer(num_words=string_lookup.vocabulary_size(), oov_token=\"<OOV>\")\n",
    "tokenizer.fit_on_texts(pandas_interaction_data['productName'])\n",
    "\n",
    "# Convert text to sequences\n",
    "sequences = tokenizer.texts_to_sequences(pandas_interaction_data['productName'])\n",
    "\n",
    "# Pad sequences\n",
    "padded_sequences = pad_sequences(sequences, padding='post')"
   ],
   "metadata": {
    "collapsed": false,
    "ExecuteTime": {
     "end_time": "2023-11-12T13:19:02.691408Z",
     "start_time": "2023-11-12T13:19:02.584764Z"
    }
   },
   "id": "695c10450ec522db"
  },
  {
   "cell_type": "code",
   "execution_count": 27,
   "outputs": [],
   "source": [
    "# Create a tf.data.Dataset from the interaction data\n",
    "interaction_dataset = tf.data.Dataset.from_tensor_slices({\n",
    "    'customer_id': pandas_interaction_data['customer_id'].values,\n",
    "    'main_product_id': pandas_interaction_data['main_product_id'].values,\n",
    "    'amount': pandas_interaction_data['amount'].values, \n",
    "    'product_color': pandas_interaction_data['color_mapped'].values, \n",
    "    'product_description': padded_sequences, \n",
    "})\n",
    "#variables \n",
    "dataset_len = pandas_interaction_data.shape[0]\n",
    "test_len = math.ceil(dataset_len * 0.2)\n",
    "train_len = dataset_len - test_len\n",
    "\n",
    "metrics_batchsize = 16\n",
    "train_batch_size = 128\n",
    "test_batch_size = 64\n",
    "random_seed = 27"
   ],
   "metadata": {
    "collapsed": false,
    "ExecuteTime": {
     "end_time": "2023-09-21T09:41:57.720858Z",
     "start_time": "2023-09-21T09:41:57.642327Z"
    }
   },
   "id": "c089ac7f029dc324"
  },
  {
   "cell_type": "code",
   "execution_count": 28,
   "outputs": [
    {
     "data": {
      "text/plain": "<_TensorSliceDataset element_spec={'customer_id': TensorSpec(shape=(), dtype=tf.int64, name=None), 'main_product_id': TensorSpec(shape=(), dtype=tf.int64, name=None), 'amount': TensorSpec(shape=(), dtype=tf.int64, name=None), 'product_color': TensorSpec(shape=(), dtype=tf.int64, name=None), 'product_description': TensorSpec(shape=(7,), dtype=tf.int32, name=None)}>"
     },
     "execution_count": 28,
     "metadata": {},
     "output_type": "execute_result"
    }
   ],
   "source": [
    "interaction_dataset"
   ],
   "metadata": {
    "collapsed": false,
    "ExecuteTime": {
     "end_time": "2023-09-21T09:41:57.734293Z",
     "start_time": "2023-09-21T09:41:57.646693Z"
    }
   },
   "id": "1271391f90ebc74d"
  },
  {
   "cell_type": "code",
   "execution_count": 29,
   "outputs": [
    {
     "data": {
      "text/plain": "<_TakeDataset element_spec={'customer_id': TensorSpec(shape=(), dtype=tf.int64, name=None), 'main_product_id': TensorSpec(shape=(), dtype=tf.int64, name=None), 'amount': TensorSpec(shape=(), dtype=tf.int64, name=None), 'product_color': TensorSpec(shape=(), dtype=tf.int64, name=None), 'product_description': TensorSpec(shape=(7,), dtype=tf.int32, name=None)}>"
     },
     "metadata": {},
     "output_type": "display_data"
    },
    {
     "data": {
      "text/plain": "<_TakeDataset element_spec={'customer_id': TensorSpec(shape=(), dtype=tf.int64, name=None), 'main_product_id': TensorSpec(shape=(), dtype=tf.int64, name=None), 'amount': TensorSpec(shape=(), dtype=tf.int64, name=None), 'product_color': TensorSpec(shape=(), dtype=tf.int64, name=None), 'product_description': TensorSpec(shape=(7,), dtype=tf.int32, name=None)}>"
     },
     "metadata": {},
     "output_type": "display_data"
    }
   ],
   "source": [
    "#train test split\n",
    "tf.random.set_seed(random_seed)\n",
    "# shuffled = interaction_dataset.shuffle(len, seed=random_seed, reshuffle_each_iteration=False)\n",
    "# train = shuffled.take(train_len)\n",
    "# test = shuffled.skip(train_len).take(test_len)\n",
    "shuffled = interaction_dataset.shuffle(dataset_len, seed=random_seed, reshuffle_each_iteration=False)\n",
    "\n",
    "train = shuffled.take(train_len)\n",
    "test = shuffled.skip(train_len).take(test_len)\n",
    "display(train, test)"
   ],
   "metadata": {
    "collapsed": false,
    "ExecuteTime": {
     "end_time": "2023-09-21T09:41:57.793006Z",
     "start_time": "2023-09-21T09:41:57.657291Z"
    }
   },
   "id": "825eec174445be8c"
  },
  {
   "cell_type": "code",
   "execution_count": 30,
   "outputs": [],
   "source": [
    "# Unique customer and product identifiers\n",
    "unique_customer_ids = np.array(pandas_interaction_data[\"customer_id\"].unique())\n",
    "unique_product_ids = np.array(pandas_interaction_data[\"main_product_id\"].unique())\n",
    "\n",
    "unique_colors = np.array(product_data[\"color_mapped\"].unique())\n",
    "user_ids_vocabulary = tf.keras.layers.IntegerLookup(mask_token=None)\n",
    "user_ids_vocabulary.adapt(unique_customer_ids)\n",
    "\n",
    "product_ids_vocabulary = tf.keras.layers.IntegerLookup(mask_token=None)\n",
    "product_ids_vocabulary.adapt(unique_product_ids)\n",
    "\n",
    "product_colors_vocabulary = tf.keras.layers.IntegerLookup(mask_token=None)\n",
    "product_colors_vocabulary.adapt(unique_colors)\n",
    "# print(unique_product_ids.shape[0], unique_customer_ids.shape[0], unique_product_ids, unique_product_ids)"
   ],
   "metadata": {
    "collapsed": false,
    "ExecuteTime": {
     "end_time": "2023-09-21T09:41:57.894899Z",
     "start_time": "2023-09-21T09:41:57.669548Z"
    }
   },
   "id": "2e2625e63cf53fce"
  },
  {
   "cell_type": "code",
   "execution_count": 30,
   "outputs": [],
   "source": [],
   "metadata": {
    "collapsed": false,
    "ExecuteTime": {
     "end_time": "2023-09-21T09:41:57.897014Z",
     "start_time": "2023-09-21T09:41:57.894057Z"
    }
   },
   "id": "580fc3478a356294"
  },
  {
   "cell_type": "code",
   "execution_count": 31,
   "outputs": [],
   "source": [
    "# Define a model using TensorFlow Recommenders\n",
    "product_ids_dataset = tf.data.Dataset.from_tensor_slices(unique_product_ids)\n",
    "class RetailModel(tfrs.Model):\n",
    "\n",
    "    def __init__(self, unique_product_ids_vocab, unique_customer_ids_vocab, unique_product_color_vocab, embedding_dimension=32):\n",
    "        super().__init__()\n",
    "        # Set up user and product representations\n",
    "        self.user_embedding = tf.keras.Sequential([\n",
    "            unique_customer_ids_vocab,\n",
    "            Embedding(unique_customer_ids_vocab.vocabulary_size(), embedding_dimension)\n",
    "        ])\n",
    "        self.product_embedding = tf.keras.Sequential([\n",
    "            unique_product_ids_vocab,\n",
    "            Embedding(unique_product_ids_vocab.vocabulary_size(), embedding_dimension)\n",
    "        ])\n",
    "\n",
    "        # Color embeddings\n",
    "        self.color_embedding = tf.keras.Sequential([\n",
    "            unique_product_color_vocab,\n",
    "            Embedding(unique_product_color_vocab.vocabulary_size(), embedding_dimension)\n",
    "        ]) \n",
    "\n",
    "\n",
    "        # Textual description model\n",
    "        self.textual_description_model = tf.keras.Sequential([\n",
    "            Embedding(input_dim=unique_product_ids_vocab.vocabulary_size(), output_dim=embedding_dimension),\n",
    "            LSTM(64),\n",
    "            Dense(64, activation='relu')\n",
    "        ])\n",
    "\n",
    "        # New embeddings for color and description\n",
    "        self.reduced_product_embeddings = Dense(64, activation='relu')\n",
    "        self.reduced_description_embeddings = Dense(32, activation='relu')\n",
    "        self.reduced_color_embeddings = Dense(32, activation='relu')\n",
    "        \n",
    "        # Set up a dense layer for the task.\n",
    "        self.dense_layer = Dense(128, input_shape=(256,), activation=\"relu\")\n",
    "\n",
    "        # Set up retrieval task and metrics\n",
    "        self.task = tfrs.tasks.Retrieval(\n",
    "            metrics=tfrs.metrics.FactorizedTopK(candidates=product_ids_dataset.batch(metrics_batchsize).map(self.product_model))\n",
    "        )\n",
    "        self.auc_metric = AUC(name='auc')\n",
    "        self.rmse_metric = tf.keras.metrics.RootMeanSquaredError(name='rmse')\n",
    "        self.precision = tf.keras.metrics.Precision(name='precision')\n",
    "        self.recall = tf.keras.metrics.Recall(name='recall')\n",
    "\n",
    "    def product_model(self, product_ids):\n",
    "        return self.product_embedding(product_ids)\n",
    "\n",
    "    def dot_product_score(self, user, product):\n",
    "        \"\"\"\n",
    "        Computes the dot product between user and product embeddings to get the interaction score.\n",
    "        \"\"\"\n",
    "        return tf.reduce_sum(user * product, axis=1)\n",
    "\n",
    "    def compute_loss(self, features, training=False):\n",
    "        # print(features)\n",
    "        user_embeddings = self.user_embedding(features[\"customer_id\"])\n",
    "        product_embeddings = self.product_embedding(features[\"main_product_id\"])\n",
    "\n",
    "        color_embeddings = self.color_embedding(features[\"product_color\"])\n",
    "        description_embeddings = self.textual_description_model(features[\"product_description\"])\n",
    "\n",
    "        reduced_product_embeddings = self.reduced_product_embeddings(product_embeddings)\n",
    "        reduced_description_embeddings = self.reduced_description_embeddings(description_embeddings)\n",
    "        reduced_color_embeddings = self.reduced_color_embeddings(color_embeddings)\n",
    "\n",
    "\n",
    "        # Now concatenate\n",
    "        user_combined = tf.concat([user_embeddings, ], axis=1)  # shape will be [None, 128]\n",
    "        product_combined = tf.concat([reduced_product_embeddings, reduced_color_embeddings, reduced_description_embeddings], axis=1)  # shape will be [None, 128]\n",
    "        \n",
    "\n",
    "\n",
    "        user_output = self.dense_layer(user_embeddings)\n",
    "        product_output = self.dense_layer(product_combined)\n",
    "        # This is a hypothetical function that returns the logits or scores\n",
    "        # This needs to be adapted based on your actual model\n",
    "        positive_logits = self.dot_product_score(user_output, product_output)\n",
    "\n",
    "        # Update RMSE\n",
    "        self.rmse_metric.update_state(y_true=features[\"amount\"], y_pred=positive_logits)\n",
    "\n",
    "\n",
    "        return self.task(user_output, product_output)\n",
    "\n",
    "    def evaluate(self, validation_dataset, *args, **kwargs):\n",
    "        # Call the base class's evaluate method\n",
    "        \n",
    "    \n",
    "        # Compute additional metrics\n",
    "        for features in validation_dataset:\n",
    "            user_embeddings = self.user_embedding(features[\"customer_id\"])\n",
    "            product_embeddings = self.product_embedding(features[\"main_product_id\"])\n",
    "            \n",
    "            user_output = self.dense_layer(user_embeddings)\n",
    "            product_output = self.dense_layer(product_embeddings)\n",
    "            \n",
    "            positive_logits = self.dot_product_score(user_output, product_output)\n",
    "            # Assuming you have a binary \"label\" in your dataset indicating 1 for positive interaction and 0 for negative\n",
    "            self.precision.update_state(y_true=features[\"amount\"], y_pred=positive_logits)\n",
    "            self.recall.update_state(y_true=features[\"amount\"], y_pred=positive_logits)\n",
    "    \n",
    "        precision_result = self.precision.result().numpy()\n",
    "        recall_result = self.recall.result().numpy()\n",
    "    \n",
    "        # Calculate F1 score\n",
    "        if (precision_result + recall_result) != 0:\n",
    "            f1_score = 2 * (precision_result * recall_result) / (precision_result + recall_result)\n",
    "        else:\n",
    "            f1_score = 0.0\n",
    "    \n",
    "        # Reset the metrics for the next evaluation\n",
    "        # self.precision.reset_states()\n",
    "        # self.recall.reset_states()\n",
    "        base_results = super(RetailModel, self).evaluate(validation_dataset, *args, **kwargs)\n",
    "    \n",
    "        return base_results, [precision_result, recall_result, f1_score]  # or append additional results as needed\n",
    "\n"
   ],
   "metadata": {
    "collapsed": false,
    "ExecuteTime": {
     "end_time": "2023-09-21T09:41:57.910186Z",
     "start_time": "2023-09-21T09:41:57.904858Z"
    }
   },
   "id": "378cf58a3061ecfc"
  },
  {
   "cell_type": "code",
   "execution_count": 32,
   "outputs": [],
   "source": [
    "model = RetailModel(product_ids_vocabulary, user_ids_vocabulary, product_colors_vocabulary, embedding_dimension=128)\n",
    "model.compile(optimizer=tf.keras.optimizers.legacy.Adam(learning_rate=0.001)) # using legacy instead of tf.keras.optimizers.Adagrad, because newer version is slow on m1/m2 macs"
   ],
   "metadata": {
    "collapsed": false,
    "ExecuteTime": {
     "end_time": "2023-09-21T09:41:58.146501Z",
     "start_time": "2023-09-21T09:41:57.910740Z"
    }
   },
   "id": "5ae0c3e4d7093bf1"
  },
  {
   "cell_type": "code",
   "execution_count": 33,
   "outputs": [
    {
     "name": "stdout",
     "output_type": "stream",
     "text": [
      "Epoch 1/3\n",
      "7/7 [==============================] - 4s 248ms/step - auc: 0.0000e+00 - rmse: 0.9984 - precision: 0.0000e+00 - recall: 0.0000e+00 - factorized_top_k/top_1_categorical_accuracy: 0.0388 - factorized_top_k/top_5_categorical_accuracy: 0.0812 - factorized_top_k/top_10_categorical_accuracy: 0.1100 - factorized_top_k/top_50_categorical_accuracy: 0.2450 - factorized_top_k/top_100_categorical_accuracy: 0.3288 - loss: 493.4432 - regularization_loss: 0.0000e+00 - total_loss: 493.4432\n",
      "Epoch 2/3\n",
      "7/7 [==============================] - 2s 224ms/step - auc: 0.0000e+00 - rmse: 0.9758 - precision: 0.0000e+00 - recall: 0.0000e+00 - factorized_top_k/top_1_categorical_accuracy: 0.3887 - factorized_top_k/top_5_categorical_accuracy: 0.5250 - factorized_top_k/top_10_categorical_accuracy: 0.5925 - factorized_top_k/top_50_categorical_accuracy: 0.7675 - factorized_top_k/top_100_categorical_accuracy: 0.8413 - loss: 491.5392 - regularization_loss: 0.0000e+00 - total_loss: 491.5392\n",
      "Epoch 3/3\n",
      "7/7 [==============================] - 2s 223ms/step - auc: 0.0000e+00 - rmse: 0.9366 - precision: 0.0000e+00 - recall: 0.0000e+00 - factorized_top_k/top_1_categorical_accuracy: 0.8900 - factorized_top_k/top_5_categorical_accuracy: 0.9350 - factorized_top_k/top_10_categorical_accuracy: 0.9550 - factorized_top_k/top_50_categorical_accuracy: 0.9787 - factorized_top_k/top_100_categorical_accuracy: 0.9850 - loss: 489.2163 - regularization_loss: 0.0000e+00 - total_loss: 489.2163\n"
     ]
    },
    {
     "data": {
      "text/plain": "<keras.src.callbacks.History at 0x2828c1f70>"
     },
     "execution_count": 33,
     "metadata": {},
     "output_type": "execute_result"
    }
   ],
   "source": [
    "# Shuffle, batch, and cache the data.\n",
    "cached_train = train.shuffle(dataset_len).batch(train_batch_size).cache()\n",
    "cached_test = test.batch(test_batch_size).cache()\n",
    "# Train the model\n",
    "# model.fit(cached_train, validation_data=cached_test, validation_freq=5, epochs=3) \n",
    "model.fit(cached_train, validation_freq=5, epochs=3)"
   ],
   "metadata": {
    "collapsed": false,
    "ExecuteTime": {
     "end_time": "2023-09-21T09:42:05.347482Z",
     "start_time": "2023-09-21T09:41:58.147753Z"
    }
   },
   "id": "4add146de8d83cb0"
  },
  {
   "cell_type": "code",
   "execution_count": 34,
   "outputs": [
    {
     "name": "stdout",
     "output_type": "stream",
     "text": [
      "7/7 [==============================] - 2s 234ms/step - auc: 0.0000e+00 - rmse: 0.8845 - precision: 0.0000e+00 - recall: 0.0000e+00 - factorized_top_k/top_1_categorical_accuracy: 0.9887 - factorized_top_k/top_5_categorical_accuracy: 0.9950 - factorized_top_k/top_10_categorical_accuracy: 0.9962 - factorized_top_k/top_50_categorical_accuracy: 1.0000 - factorized_top_k/top_100_categorical_accuracy: 1.0000 - loss: 486.9747 - regularization_loss: 0.0000e+00 - total_loss: 486.9747\n"
     ]
    },
    {
     "data": {
      "text/plain": "([0.0,\n  0.8844582438468933,\n  0.0,\n  0.0,\n  0.9887499809265137,\n  0.9950000047683716,\n  0.9962499737739563,\n  1.0,\n  1.0,\n  109.08023071289062,\n  0,\n  109.08023071289062],\n [0.0, 0.0, 0.0])"
     },
     "execution_count": 34,
     "metadata": {},
     "output_type": "execute_result"
    }
   ],
   "source": [
    "# Evaluate the model\n",
    "k = 5\n",
    "result_evaluate_train = model.evaluate(cached_train)\n",
    "result_evaluate_train"
   ],
   "metadata": {
    "collapsed": false,
    "ExecuteTime": {
     "end_time": "2023-09-21T09:42:07.592890Z",
     "start_time": "2023-09-21T09:42:05.346038Z"
    }
   },
   "id": "f38fbc7489d6c8ab"
  },
  {
   "cell_type": "code",
   "execution_count": 35,
   "outputs": [
    {
     "name": "stdout",
     "output_type": "stream",
     "text": [
      "4/4 [==============================] - 1s 261ms/step - auc: 0.0000e+00 - rmse: 0.9491 - precision: 0.0000e+00 - recall: 0.0000e+00 - factorized_top_k/top_1_categorical_accuracy: 0.7450 - factorized_top_k/top_5_categorical_accuracy: 0.8000 - factorized_top_k/top_10_categorical_accuracy: 0.8450 - factorized_top_k/top_50_categorical_accuracy: 0.8900 - factorized_top_k/top_100_categorical_accuracy: 0.9100 - loss: 166.3419 - regularization_loss: 0.0000e+00 - total_loss: 166.3419\n"
     ]
    },
    {
     "data": {
      "text/plain": "([0.0,\n  0.9491428136825562,\n  0.0,\n  0.0,\n  0.7450000047683716,\n  0.800000011920929,\n  0.8450000286102295,\n  0.8899999856948853,\n  0.9100000262260437,\n  16.64014434814453,\n  0,\n  16.64014434814453],\n [0.0, 0.0, 0.0])"
     },
     "execution_count": 35,
     "metadata": {},
     "output_type": "execute_result"
    }
   ],
   "source": [
    "result_evaluat_test = model.evaluate(cached_test)\n",
    "result_evaluat_test"
   ],
   "metadata": {
    "collapsed": false,
    "ExecuteTime": {
     "end_time": "2023-09-21T09:42:08.858986Z",
     "start_time": "2023-09-21T09:42:07.593950Z"
    }
   },
   "id": "a90bfb5478e24540"
  },
  {
   "cell_type": "code",
   "execution_count": 36,
   "outputs": [
    {
     "name": "stdout",
     "output_type": "stream",
     "text": [
      "Name\t\tValue\n",
      "------------------------------\n",
      "auc\t\t0.0\n",
      "rmse\t\t0.9491428136825562\n",
      "precision\t\t0.0\n",
      "recall\t\t0.0\n",
      "factorized_top_k/top_1_categorical_accuracy\t\t0.7450000047683716\n",
      "factorized_top_k/top_5_categorical_accuracy\t\t0.800000011920929\n",
      "factorized_top_k/top_10_categorical_accuracy\t\t0.8450000286102295\n",
      "factorized_top_k/top_50_categorical_accuracy\t\t0.8899999856948853\n",
      "factorized_top_k/top_100_categorical_accuracy\t\t0.9100000262260437\n",
      "AUC: 0.0\n"
     ]
    }
   ],
   "source": [
    "print(\"Name\\t\\tValue\")\n",
    "print(\"-\" * 30)\n",
    "for metric in model.metrics:\n",
    "    print(f\"{metric.name}\\t\\t{metric.result().numpy()}\")\n",
    "print(f\"AUC: {model.auc_metric.result().numpy()}\")"
   ],
   "metadata": {
    "collapsed": false,
    "ExecuteTime": {
     "end_time": "2023-09-21T09:42:08.892026Z",
     "start_time": "2023-09-21T09:42:08.859188Z"
    }
   },
   "id": "2dc815d6547dfefe"
  },
  {
   "cell_type": "code",
   "execution_count": 37,
   "outputs": [
    {
     "data": {
      "text/plain": "array([10317123,  9045476,  3583920, 10764275,  6985511,  5169066,\n        6400396,  9734712,  6101544,  7083821,  2216762,  4520433,\n        2221250, 11002672,  1960889, 10690262,  8830713, 10109551,\n        9368658,  1963512,  4660874, 10014913, 10573645,  5587005,\n        8704142, 11028047,  2177070,  2071053,  3992822,  6994391,\n        6912252,  5449778,  6416070,  1993271,  7916969,  8256388,\n        6072041, 10858367,  6520387,  4054179, 11061968,  6591921,\n        5649813, 10843008,  1960627, 10622816,  5013630,  7600040,\n        4601491,  8339910,  7741676,  4723988,  7615510,  6751909,\n        7146808,  3544851,  6403624,  7587086,  6569161,  2208487,\n        5976793,  5358389,  8375789,  2236422])"
     },
     "execution_count": 37,
     "metadata": {},
     "output_type": "execute_result"
    }
   ],
   "source": [
    "sample = next(iter(cached_test.take(1)))\n",
    "\n",
    "# Extract customer_id from the sample\n",
    "customer_id = sample['customer_id'].numpy()\n",
    "customer_id"
   ],
   "metadata": {
    "collapsed": false,
    "ExecuteTime": {
     "end_time": "2023-09-21T09:42:08.901206Z",
     "start_time": "2023-09-21T09:42:08.876726Z"
    }
   },
   "id": "d293fa87e3fe5b52"
  },
  {
   "cell_type": "code",
   "execution_count": 38,
   "outputs": [
    {
     "name": "stdout",
     "output_type": "stream",
     "text": [
      "predicting user:  10317123\n",
      "user already bought following products: \n"
     ]
    },
    {
     "data": {
      "text/plain": "   main_product_id  productNumber                        productName  \\\n1           551622  4054452768212  elegante Pumps Glattleder schwarz   \n\n  productColorName articleNumber  brand__id  mainCategory__id gender  \\\n1          schwarz     05.160.37    6590677            315573      w   \n\n  originCountry     line  ...  sizeEu sizeUk  sizeIndex  shaftLength__value  \\\n1            PT  F-S|H-W  ...    38.0    5.0        8.0                 0.0   \n\n   sole  isTransferee  isSuccessor  \\\n1   EVA           0.0          0.0   \n\n                              duplicate_product__ids  \\\n1  [551622, 551505, 551510, 551509, 552973, 55162...   \n\n                                       product_sizes color_mapped  \n1  [35.0, 35.5, 36.0, 37.0, 37.5, 38.0, 38.5, 39....            0  \n\n[1 rows x 57 columns]",
      "text/html": "<div>\n<style scoped>\n    .dataframe tbody tr th:only-of-type {\n        vertical-align: middle;\n    }\n\n    .dataframe tbody tr th {\n        vertical-align: top;\n    }\n\n    .dataframe thead th {\n        text-align: right;\n    }\n</style>\n<table border=\"1\" class=\"dataframe\">\n  <thead>\n    <tr style=\"text-align: right;\">\n      <th></th>\n      <th>main_product_id</th>\n      <th>productNumber</th>\n      <th>productName</th>\n      <th>productColorName</th>\n      <th>articleNumber</th>\n      <th>brand__id</th>\n      <th>mainCategory__id</th>\n      <th>gender</th>\n      <th>originCountry</th>\n      <th>line</th>\n      <th>...</th>\n      <th>sizeEu</th>\n      <th>sizeUk</th>\n      <th>sizeIndex</th>\n      <th>shaftLength__value</th>\n      <th>sole</th>\n      <th>isTransferee</th>\n      <th>isSuccessor</th>\n      <th>duplicate_product__ids</th>\n      <th>product_sizes</th>\n      <th>color_mapped</th>\n    </tr>\n  </thead>\n  <tbody>\n    <tr>\n      <th>1</th>\n      <td>551622</td>\n      <td>4054452768212</td>\n      <td>elegante Pumps Glattleder schwarz</td>\n      <td>schwarz</td>\n      <td>05.160.37</td>\n      <td>6590677</td>\n      <td>315573</td>\n      <td>w</td>\n      <td>PT</td>\n      <td>F-S|H-W</td>\n      <td>...</td>\n      <td>38.0</td>\n      <td>5.0</td>\n      <td>8.0</td>\n      <td>0.0</td>\n      <td>EVA</td>\n      <td>0.0</td>\n      <td>0.0</td>\n      <td>[551622, 551505, 551510, 551509, 552973, 55162...</td>\n      <td>[35.0, 35.5, 36.0, 37.0, 37.5, 38.0, 38.5, 39....</td>\n      <td>0</td>\n    </tr>\n  </tbody>\n</table>\n<p>1 rows × 57 columns</p>\n</div>"
     },
     "metadata": {},
     "output_type": "display_data"
    },
    {
     "name": "stdout",
     "output_type": "stream",
     "text": [
      "predicted products: \n"
     ]
    },
    {
     "data": {
      "text/plain": "      main_product_id  productNumber                             productName  \\\n119           3591582  4062862317623     Sportliche Ballerina Rauleder beige   \n261           3845686  4062862157472        Winterstiefel Glattleder schwarz   \n301           3846740  4060666203982                 Spangenpump Textil rosa   \n387           3696734  4062862315391       PG0460 Sneaker high Rauleder grau   \n456           4075066  4062862370765        Schnürstiefelette Lackleder blau   \n480           4093082  4062862436720  Elegante Stiefelette Lackleder schwarz   \n582           3693588  4062862032540                    Sneaker low Rauleder   \n1218          6113376  4064032454244     Biker- / Combat Boot Rauleder braun   \n1326          6114331  4064032421734    Sportlicher Stiefel Glattleder braun   \n1732          7593990  4064032142172   Keilsandalette Glattleder multicolour   \n\n     productColorName articleNumber  brand__id  mainCategory__id gender  \\\n119             beige     52.621.40    6590678            315571      w   \n261           schwarz     51.619.87    6590677            315591      w   \n301              rosa     01.363.64    6590677            315561      w   \n387              grau    0460.50.03    3692257           3692263      m   \n456              blau     52.746.26    6590678            315587      w   \n480           schwarz     52.791.87    6590678           5014852      w   \n582                       56.964.33    4997827            315567      w   \n1218            braun     72.704.41    6590678           5014852      w   \n1326            braun     72.799.24    6590678           5014850      w   \n1732      multicolour     82.759.20    6590678            315564      w   \n\n     originCountry     line  ...  sizeEu sizeUk  sizeIndex  \\\n119             SK      H-W  ...    39.0    6.0       10.0   \n261             PT      H-W  ...    37.5    4.5        7.0   \n301             PT  F-S|H-W  ...    39.0    6.0       10.0   \n387             PT      H-W  ...    45.0   10.5       12.0   \n456             SK      H-W  ...    35.0    2.5        3.0   \n480             SK      H-W  ...    43.0    9.0       16.0   \n582             VN      H-W  ...    42.0    8.0       14.0   \n1218            PT      H-W  ...    39.0    6.0       10.0   \n1326            SK      H-W  ...    36.0    3.5        5.0   \n1732            PT      F-S  ...    43.0    9.0       16.0   \n\n      shaftLength__value       sole  isTransferee  isSuccessor  \\\n119                  0.0      Gummi           0.0          0.0   \n261                 42.0         TR           0.0          1.0   \n301                  0.0        TPU           0.0          1.0   \n387                  9.0         TR           0.0          0.0   \n456                 20.0      Gummi           0.0          0.0   \n480                 17.0         TR           0.0          0.0   \n582                  0.0  Gummi-EVA           0.0          0.0   \n1218                18.0         TR           0.0          0.0   \n1326                42.0         TR           1.0          1.0   \n1732                 0.0         TR           0.0          0.0   \n\n                                 duplicate_product__ids  \\\n119   [3591582, 3591640, 3591580, 3591642, 3591581, ...   \n261   [3845686, 3849370, 3849367, 3845695, 3847291, ...   \n301   [3846740, 3846742, 3846735, 3846736, 3846741, ...   \n387   [3696734, 3695640, 3696732, 3696729, 3695634, ...   \n456   [4075066, 4075072, 4075077, 4075079, 4075076, ...   \n480   [4093082, 4093072, 4093077, 4093071, 4093080, ...   \n582   [3693588, 4846740, 3763972, 4823173, 3591778, ...   \n1218  [6113376, 6116055, 6116347, 6113377, 6113382, ...   \n1326  [6114331, 6112111, 6639919, 6112110, 6639915, ...   \n1732  [7593990, 7593991, 7593978, 7831468, 7831469, ...   \n\n                                          product_sizes color_mapped  \n119   [35.0, 35.5, 36.0, 37.0, 37.5, 38.0, 38.5, 39....            6  \n261   [35.0, 35.5, 36.0, 37.0, 37.5, 38.0, 38.5, 39....            0  \n301   [35.0, 35.5, 36.0, 37.0, 37.5, 38.0, 38.5, 39....            8  \n387   [39.0, 40.0, 40.5, 41.0, 42.0, 42.5, 43.0, 44....            4  \n456   [35.0, 35.5, 36.0, 37.0, 37.5, 38.0, 38.5, 39....            1  \n480   [35.0, 35.5, 36.0, 37.0, 38.0, 38.5, 39.0, 40....            0  \n582   [35.0, 35.5, 36.0, 37.0, 37.5, 38.0, 38.5, 39....           15  \n1218  [35.0, 35.5, 36.0, 37.0, 37.5, 38.0, 38.5, 39....            3  \n1326  [35.0, 35.5, 36.0, 37.0, 37.5, 38.0, 38.5, 39....            3  \n1732  [35.5, 36.0, 37.0, 37.5, 38.0, 38.5, 39.0, 40....           10  \n\n[10 rows x 57 columns]",
      "text/html": "<div>\n<style scoped>\n    .dataframe tbody tr th:only-of-type {\n        vertical-align: middle;\n    }\n\n    .dataframe tbody tr th {\n        vertical-align: top;\n    }\n\n    .dataframe thead th {\n        text-align: right;\n    }\n</style>\n<table border=\"1\" class=\"dataframe\">\n  <thead>\n    <tr style=\"text-align: right;\">\n      <th></th>\n      <th>main_product_id</th>\n      <th>productNumber</th>\n      <th>productName</th>\n      <th>productColorName</th>\n      <th>articleNumber</th>\n      <th>brand__id</th>\n      <th>mainCategory__id</th>\n      <th>gender</th>\n      <th>originCountry</th>\n      <th>line</th>\n      <th>...</th>\n      <th>sizeEu</th>\n      <th>sizeUk</th>\n      <th>sizeIndex</th>\n      <th>shaftLength__value</th>\n      <th>sole</th>\n      <th>isTransferee</th>\n      <th>isSuccessor</th>\n      <th>duplicate_product__ids</th>\n      <th>product_sizes</th>\n      <th>color_mapped</th>\n    </tr>\n  </thead>\n  <tbody>\n    <tr>\n      <th>119</th>\n      <td>3591582</td>\n      <td>4062862317623</td>\n      <td>Sportliche Ballerina Rauleder beige</td>\n      <td>beige</td>\n      <td>52.621.40</td>\n      <td>6590678</td>\n      <td>315571</td>\n      <td>w</td>\n      <td>SK</td>\n      <td>H-W</td>\n      <td>...</td>\n      <td>39.0</td>\n      <td>6.0</td>\n      <td>10.0</td>\n      <td>0.0</td>\n      <td>Gummi</td>\n      <td>0.0</td>\n      <td>0.0</td>\n      <td>[3591582, 3591640, 3591580, 3591642, 3591581, ...</td>\n      <td>[35.0, 35.5, 36.0, 37.0, 37.5, 38.0, 38.5, 39....</td>\n      <td>6</td>\n    </tr>\n    <tr>\n      <th>261</th>\n      <td>3845686</td>\n      <td>4062862157472</td>\n      <td>Winterstiefel Glattleder schwarz</td>\n      <td>schwarz</td>\n      <td>51.619.87</td>\n      <td>6590677</td>\n      <td>315591</td>\n      <td>w</td>\n      <td>PT</td>\n      <td>H-W</td>\n      <td>...</td>\n      <td>37.5</td>\n      <td>4.5</td>\n      <td>7.0</td>\n      <td>42.0</td>\n      <td>TR</td>\n      <td>0.0</td>\n      <td>1.0</td>\n      <td>[3845686, 3849370, 3849367, 3845695, 3847291, ...</td>\n      <td>[35.0, 35.5, 36.0, 37.0, 37.5, 38.0, 38.5, 39....</td>\n      <td>0</td>\n    </tr>\n    <tr>\n      <th>301</th>\n      <td>3846740</td>\n      <td>4060666203982</td>\n      <td>Spangenpump Textil rosa</td>\n      <td>rosa</td>\n      <td>01.363.64</td>\n      <td>6590677</td>\n      <td>315561</td>\n      <td>w</td>\n      <td>PT</td>\n      <td>F-S|H-W</td>\n      <td>...</td>\n      <td>39.0</td>\n      <td>6.0</td>\n      <td>10.0</td>\n      <td>0.0</td>\n      <td>TPU</td>\n      <td>0.0</td>\n      <td>1.0</td>\n      <td>[3846740, 3846742, 3846735, 3846736, 3846741, ...</td>\n      <td>[35.0, 35.5, 36.0, 37.0, 37.5, 38.0, 38.5, 39....</td>\n      <td>8</td>\n    </tr>\n    <tr>\n      <th>387</th>\n      <td>3696734</td>\n      <td>4062862315391</td>\n      <td>PG0460 Sneaker high Rauleder grau</td>\n      <td>grau</td>\n      <td>0460.50.03</td>\n      <td>3692257</td>\n      <td>3692263</td>\n      <td>m</td>\n      <td>PT</td>\n      <td>H-W</td>\n      <td>...</td>\n      <td>45.0</td>\n      <td>10.5</td>\n      <td>12.0</td>\n      <td>9.0</td>\n      <td>TR</td>\n      <td>0.0</td>\n      <td>0.0</td>\n      <td>[3696734, 3695640, 3696732, 3696729, 3695634, ...</td>\n      <td>[39.0, 40.0, 40.5, 41.0, 42.0, 42.5, 43.0, 44....</td>\n      <td>4</td>\n    </tr>\n    <tr>\n      <th>456</th>\n      <td>4075066</td>\n      <td>4062862370765</td>\n      <td>Schnürstiefelette Lackleder blau</td>\n      <td>blau</td>\n      <td>52.746.26</td>\n      <td>6590678</td>\n      <td>315587</td>\n      <td>w</td>\n      <td>SK</td>\n      <td>H-W</td>\n      <td>...</td>\n      <td>35.0</td>\n      <td>2.5</td>\n      <td>3.0</td>\n      <td>20.0</td>\n      <td>Gummi</td>\n      <td>0.0</td>\n      <td>0.0</td>\n      <td>[4075066, 4075072, 4075077, 4075079, 4075076, ...</td>\n      <td>[35.0, 35.5, 36.0, 37.0, 37.5, 38.0, 38.5, 39....</td>\n      <td>1</td>\n    </tr>\n    <tr>\n      <th>480</th>\n      <td>4093082</td>\n      <td>4062862436720</td>\n      <td>Elegante Stiefelette Lackleder schwarz</td>\n      <td>schwarz</td>\n      <td>52.791.87</td>\n      <td>6590678</td>\n      <td>5014852</td>\n      <td>w</td>\n      <td>SK</td>\n      <td>H-W</td>\n      <td>...</td>\n      <td>43.0</td>\n      <td>9.0</td>\n      <td>16.0</td>\n      <td>17.0</td>\n      <td>TR</td>\n      <td>0.0</td>\n      <td>0.0</td>\n      <td>[4093082, 4093072, 4093077, 4093071, 4093080, ...</td>\n      <td>[35.0, 35.5, 36.0, 37.0, 38.0, 38.5, 39.0, 40....</td>\n      <td>0</td>\n    </tr>\n    <tr>\n      <th>582</th>\n      <td>3693588</td>\n      <td>4062862032540</td>\n      <td>Sneaker low Rauleder</td>\n      <td></td>\n      <td>56.964.33</td>\n      <td>4997827</td>\n      <td>315567</td>\n      <td>w</td>\n      <td>VN</td>\n      <td>H-W</td>\n      <td>...</td>\n      <td>42.0</td>\n      <td>8.0</td>\n      <td>14.0</td>\n      <td>0.0</td>\n      <td>Gummi-EVA</td>\n      <td>0.0</td>\n      <td>0.0</td>\n      <td>[3693588, 4846740, 3763972, 4823173, 3591778, ...</td>\n      <td>[35.0, 35.5, 36.0, 37.0, 37.5, 38.0, 38.5, 39....</td>\n      <td>15</td>\n    </tr>\n    <tr>\n      <th>1218</th>\n      <td>6113376</td>\n      <td>4064032454244</td>\n      <td>Biker- / Combat Boot Rauleder braun</td>\n      <td>braun</td>\n      <td>72.704.41</td>\n      <td>6590678</td>\n      <td>5014852</td>\n      <td>w</td>\n      <td>PT</td>\n      <td>H-W</td>\n      <td>...</td>\n      <td>39.0</td>\n      <td>6.0</td>\n      <td>10.0</td>\n      <td>18.0</td>\n      <td>TR</td>\n      <td>0.0</td>\n      <td>0.0</td>\n      <td>[6113376, 6116055, 6116347, 6113377, 6113382, ...</td>\n      <td>[35.0, 35.5, 36.0, 37.0, 37.5, 38.0, 38.5, 39....</td>\n      <td>3</td>\n    </tr>\n    <tr>\n      <th>1326</th>\n      <td>6114331</td>\n      <td>4064032421734</td>\n      <td>Sportlicher Stiefel Glattleder braun</td>\n      <td>braun</td>\n      <td>72.799.24</td>\n      <td>6590678</td>\n      <td>5014850</td>\n      <td>w</td>\n      <td>SK</td>\n      <td>H-W</td>\n      <td>...</td>\n      <td>36.0</td>\n      <td>3.5</td>\n      <td>5.0</td>\n      <td>42.0</td>\n      <td>TR</td>\n      <td>1.0</td>\n      <td>1.0</td>\n      <td>[6114331, 6112111, 6639919, 6112110, 6639915, ...</td>\n      <td>[35.0, 35.5, 36.0, 37.0, 37.5, 38.0, 38.5, 39....</td>\n      <td>3</td>\n    </tr>\n    <tr>\n      <th>1732</th>\n      <td>7593990</td>\n      <td>4064032142172</td>\n      <td>Keilsandalette Glattleder multicolour</td>\n      <td>multicolour</td>\n      <td>82.759.20</td>\n      <td>6590678</td>\n      <td>315564</td>\n      <td>w</td>\n      <td>PT</td>\n      <td>F-S</td>\n      <td>...</td>\n      <td>43.0</td>\n      <td>9.0</td>\n      <td>16.0</td>\n      <td>0.0</td>\n      <td>TR</td>\n      <td>0.0</td>\n      <td>0.0</td>\n      <td>[7593990, 7593991, 7593978, 7831468, 7831469, ...</td>\n      <td>[35.5, 36.0, 37.0, 37.5, 38.0, 38.5, 39.0, 40....</td>\n      <td>10</td>\n    </tr>\n  </tbody>\n</table>\n<p>10 rows × 57 columns</p>\n</div>"
     },
     "metadata": {},
     "output_type": "display_data"
    },
    {
     "name": "stdout",
     "output_type": "stream",
     "text": [
      "scores:  [0.02560227 0.02115727 0.02111601 0.01942505 0.01909895 0.01834647\n",
      " 0.01769243 0.01744029 0.01730673 0.01647986]\n"
     ]
    }
   ],
   "source": [
    "def get_random_customer_from_test_data():\n",
    "    return next(iter(test.take(1)))['customer_id'].numpy()\n",
    "\n",
    "def display_item_ids(item_ids):\n",
    "    display(product_data[product_data.main_product_id.isin(item_ids) ])\n",
    "\n",
    "def display_products_by_customer_id(customer_id):\n",
    "    display_item_ids(pandas_interaction_data[pandas_interaction_data.customer_id ==  customer_id].main_product_id.tolist())\n",
    "    \n",
    "\n",
    "index = tfrs.layers.factorized_top_k.BruteForce(model.user_embedding)\n",
    "index.index_from_dataset(\n",
    "    product_ids_dataset.batch(100).map(lambda id: (id, model.product_model(id))))\n",
    "\n",
    "def predict_user(user_id):\n",
    "    print('predicting user: ', user_id)\n",
    "    print('user already bought following products: ')\n",
    "    display_products_by_customer_id(user_id)\n",
    "    \n",
    "    score, predicted_product_ids = index(np.array([user_id]))\n",
    "    \n",
    "    print('predicted products: ')\n",
    "    display_item_ids(predicted_product_ids[0].numpy())\n",
    "    print('scores: ', score[0].numpy())\n",
    "\n",
    "\n",
    "user_id = get_random_customer_from_test_data()\n",
    "\n",
    "predict_user(user_id)"
   ],
   "metadata": {
    "collapsed": false,
    "ExecuteTime": {
     "end_time": "2023-09-21T09:42:09.038609Z",
     "start_time": "2023-09-21T09:42:08.886767Z"
    }
   },
   "id": "d8785689b14ad90"
  },
  {
   "cell_type": "code",
   "execution_count": 39,
   "outputs": [
    {
     "name": "stdout",
     "output_type": "stream",
     "text": [
      "predicting user:  6909647\n",
      "user already bought following products: \n"
     ]
    },
    {
     "data": {
      "text/plain": "     main_product_id  productNumber                  productName  \\\n101          3504775  4062862281702  Chelsea Boot Rauleder braun   \n\n    productColorName articleNumber  brand__id  mainCategory__id gender  \\\n101            braun     56.661.32    6590678            315582      w   \n\n    originCountry line  ...  sizeEu sizeUk  sizeIndex  shaftLength__value  \\\n101            PT  H-W  ...    40.5    7.0       12.0                11.0   \n\n     sole  isTransferee  isSuccessor  \\\n101    TR           0.0          0.0   \n\n                                duplicate_product__ids  \\\n101  [3504775, 3477007, 3504771, 3478521, 3478174, ...   \n\n                                         product_sizes color_mapped  \n101  [35.0, 35.5, 36.0, 37.0, 37.5, 38.0, 38.5, 39....            3  \n\n[1 rows x 57 columns]",
      "text/html": "<div>\n<style scoped>\n    .dataframe tbody tr th:only-of-type {\n        vertical-align: middle;\n    }\n\n    .dataframe tbody tr th {\n        vertical-align: top;\n    }\n\n    .dataframe thead th {\n        text-align: right;\n    }\n</style>\n<table border=\"1\" class=\"dataframe\">\n  <thead>\n    <tr style=\"text-align: right;\">\n      <th></th>\n      <th>main_product_id</th>\n      <th>productNumber</th>\n      <th>productName</th>\n      <th>productColorName</th>\n      <th>articleNumber</th>\n      <th>brand__id</th>\n      <th>mainCategory__id</th>\n      <th>gender</th>\n      <th>originCountry</th>\n      <th>line</th>\n      <th>...</th>\n      <th>sizeEu</th>\n      <th>sizeUk</th>\n      <th>sizeIndex</th>\n      <th>shaftLength__value</th>\n      <th>sole</th>\n      <th>isTransferee</th>\n      <th>isSuccessor</th>\n      <th>duplicate_product__ids</th>\n      <th>product_sizes</th>\n      <th>color_mapped</th>\n    </tr>\n  </thead>\n  <tbody>\n    <tr>\n      <th>101</th>\n      <td>3504775</td>\n      <td>4062862281702</td>\n      <td>Chelsea Boot Rauleder braun</td>\n      <td>braun</td>\n      <td>56.661.32</td>\n      <td>6590678</td>\n      <td>315582</td>\n      <td>w</td>\n      <td>PT</td>\n      <td>H-W</td>\n      <td>...</td>\n      <td>40.5</td>\n      <td>7.0</td>\n      <td>12.0</td>\n      <td>11.0</td>\n      <td>TR</td>\n      <td>0.0</td>\n      <td>0.0</td>\n      <td>[3504775, 3477007, 3504771, 3478521, 3478174, ...</td>\n      <td>[35.0, 35.5, 36.0, 37.0, 37.5, 38.0, 38.5, 39....</td>\n      <td>3</td>\n    </tr>\n  </tbody>\n</table>\n<p>1 rows × 57 columns</p>\n</div>"
     },
     "metadata": {},
     "output_type": "display_data"
    },
    {
     "name": "stdout",
     "output_type": "stream",
     "text": [
      "predicted products: \n"
     ]
    },
    {
     "data": {
      "text/plain": "      main_product_id  productNumber                             productName  \\\n19             549066  4054452850924              Keilpumps Rauleder schwarz   \n21             407456  4054452837239               Pantoletten Rauleder grau   \n61             555008  4054452768687          Eleganter Pump Glattleder blau   \n263           3842359  4062862266945          Winterstiefel Glattleder braun   \n602           4770728  4062862889762           Riemchensandale Rauleder blau   \n730           4847355  4062862647416         Keilsandalette Glattleder braun   \n782           4822647  4062862606628                  Mokassin Rauleder grün   \n1258          6113501  4064032417799  Sportliche Stiefelette Glattleder blau   \n1312          6142500  4064032542590            Eleganter Stiefel Glattleder   \n1546          6177984  4064032598566   PG8000 Sneaker low Glattleder schwarz   \n\n     productColorName articleNumber  brand__id  mainCategory__id gender  \\\n19            schwarz     02.690.47    6590678            315588      w   \n21               grau     03.705.13    6590677            315572      w   \n61               blau     05.180.36    6590677            315573      w   \n263             braun     51.615.84    6590677            315591      w   \n602              blau     61.723.16    6590677            315563      w   \n730             braun     62.043.13    6590678            315564      w   \n782              grün     63.337.19    6590677            315590      w   \n1258             blau     72.718.66    6590678           5014851      w   \n1312                      75.628.21    6590677            315585      w   \n1546          schwarz    8000.12.05    4997827           3692261      m   \n\n     originCountry     line  ...  sizeEu sizeUk  sizeIndex  \\\n19              SK  F-S|H-W  ...    39.0    6.0       10.0   \n21              SK      F-S  ...    40.0    6.5        8.0   \n61              SK  F-S|H-W  ...    43.0    9.0       16.0   \n263             PT      H-W  ...    39.0    6.0       10.0   \n602             PT      F-S  ...    40.5    7.0       12.0   \n730             PT      F-S  ...    39.0    6.0       10.0   \n782             SK      F-S  ...    35.5    3.0        4.0   \n1258            PT      H-W  ...    43.0    9.0       16.0   \n1312            PT      H-W  ...    38.0    5.0        8.0   \n1546            CN      H-W  ...    43.0    9.0        9.0   \n\n      shaftLength__value       sole  isTransferee  isSuccessor  \\\n19                   0.0        TPU           0.0          0.0   \n21                   0.0      Gummi           0.0          0.0   \n61                   0.0        EVA           0.0          0.0   \n263                 41.0         TR           0.0          1.0   \n602                  0.0        TPU           0.0          1.0   \n730                  0.0         TR           0.0          0.0   \n782                  0.0         TR           0.0          0.0   \n1258                13.0      Gummi           1.0          1.0   \n1312                40.0        TPU           0.0          0.0   \n1546                 0.0  Gummi-EVA           0.0          0.0   \n\n                                 duplicate_product__ids  \\\n19    [549066, 549072, 549070, 549063, 549069, 54907...   \n21    [407456, 407457, 407454, 407458, 407453, 40745...   \n61    [555008, 3511789, 3511790, 3511787, 3511785, 3...   \n263   [3842359, 3866739, 3866742, 3866731, 3844022, ...   \n602   [4770728, 4777412, 4772440, 4772439, 4772442, ...   \n730   [4847355, 4777312, 4770237, 4771075, 4847356, ...   \n782   [4822647, 4822651, 4822650, 4822649, 4822648, ...   \n1258  [6113501, 6113495, 6113496, 6113490, 6113497, ...   \n1312  [6142500, 6892638, 6892634, 6902873, 6846954, ...   \n1546  [6177984, 6177982, 6177981, 6177986, 6177985, ...   \n\n                                          product_sizes color_mapped  \n19    [35.0, 35.5, 36.0, 37.0, 37.5, 38.0, 38.5, 39....            0  \n21    [36.0, 37.0, 38.0, 39.0, 40.0, 41.0, 42.0, 43....            4  \n61    [35.5, 36.0, 37.0, 37.5, 38.0, 38.5, 39.0, 40....            1  \n263   [35.0, 35.5, 36.0, 37.0, 37.5, 38.0, 38.5, 39....            3  \n602   [35.0, 35.5, 36.0, 37.0, 37.5, 38.0, 38.5, 39....            1  \n730   [35.0, 35.5, 36.0, 37.0, 37.5, 38.0, 38.5, 39....            3  \n782   [35.0, 35.5, 36.0, 37.0, 37.5, 38.0, 38.5, 39....           11  \n1258  [35.5, 36.0, 37.0, 37.5, 38.0, 38.5, 39.0, 40....            1  \n1312  [35.5, 37.0, 37.5, 38.0, 39.0, 40.0, 40.5, 41....           15  \n1546  [40.5, 41.0, 42.0, 43.0, 44.0, 44.5, 45.0, 46....            0  \n\n[10 rows x 57 columns]",
      "text/html": "<div>\n<style scoped>\n    .dataframe tbody tr th:only-of-type {\n        vertical-align: middle;\n    }\n\n    .dataframe tbody tr th {\n        vertical-align: top;\n    }\n\n    .dataframe thead th {\n        text-align: right;\n    }\n</style>\n<table border=\"1\" class=\"dataframe\">\n  <thead>\n    <tr style=\"text-align: right;\">\n      <th></th>\n      <th>main_product_id</th>\n      <th>productNumber</th>\n      <th>productName</th>\n      <th>productColorName</th>\n      <th>articleNumber</th>\n      <th>brand__id</th>\n      <th>mainCategory__id</th>\n      <th>gender</th>\n      <th>originCountry</th>\n      <th>line</th>\n      <th>...</th>\n      <th>sizeEu</th>\n      <th>sizeUk</th>\n      <th>sizeIndex</th>\n      <th>shaftLength__value</th>\n      <th>sole</th>\n      <th>isTransferee</th>\n      <th>isSuccessor</th>\n      <th>duplicate_product__ids</th>\n      <th>product_sizes</th>\n      <th>color_mapped</th>\n    </tr>\n  </thead>\n  <tbody>\n    <tr>\n      <th>19</th>\n      <td>549066</td>\n      <td>4054452850924</td>\n      <td>Keilpumps Rauleder schwarz</td>\n      <td>schwarz</td>\n      <td>02.690.47</td>\n      <td>6590678</td>\n      <td>315588</td>\n      <td>w</td>\n      <td>SK</td>\n      <td>F-S|H-W</td>\n      <td>...</td>\n      <td>39.0</td>\n      <td>6.0</td>\n      <td>10.0</td>\n      <td>0.0</td>\n      <td>TPU</td>\n      <td>0.0</td>\n      <td>0.0</td>\n      <td>[549066, 549072, 549070, 549063, 549069, 54907...</td>\n      <td>[35.0, 35.5, 36.0, 37.0, 37.5, 38.0, 38.5, 39....</td>\n      <td>0</td>\n    </tr>\n    <tr>\n      <th>21</th>\n      <td>407456</td>\n      <td>4054452837239</td>\n      <td>Pantoletten Rauleder grau</td>\n      <td>grau</td>\n      <td>03.705.13</td>\n      <td>6590677</td>\n      <td>315572</td>\n      <td>w</td>\n      <td>SK</td>\n      <td>F-S</td>\n      <td>...</td>\n      <td>40.0</td>\n      <td>6.5</td>\n      <td>8.0</td>\n      <td>0.0</td>\n      <td>Gummi</td>\n      <td>0.0</td>\n      <td>0.0</td>\n      <td>[407456, 407457, 407454, 407458, 407453, 40745...</td>\n      <td>[36.0, 37.0, 38.0, 39.0, 40.0, 41.0, 42.0, 43....</td>\n      <td>4</td>\n    </tr>\n    <tr>\n      <th>61</th>\n      <td>555008</td>\n      <td>4054452768687</td>\n      <td>Eleganter Pump Glattleder blau</td>\n      <td>blau</td>\n      <td>05.180.36</td>\n      <td>6590677</td>\n      <td>315573</td>\n      <td>w</td>\n      <td>SK</td>\n      <td>F-S|H-W</td>\n      <td>...</td>\n      <td>43.0</td>\n      <td>9.0</td>\n      <td>16.0</td>\n      <td>0.0</td>\n      <td>EVA</td>\n      <td>0.0</td>\n      <td>0.0</td>\n      <td>[555008, 3511789, 3511790, 3511787, 3511785, 3...</td>\n      <td>[35.5, 36.0, 37.0, 37.5, 38.0, 38.5, 39.0, 40....</td>\n      <td>1</td>\n    </tr>\n    <tr>\n      <th>263</th>\n      <td>3842359</td>\n      <td>4062862266945</td>\n      <td>Winterstiefel Glattleder braun</td>\n      <td>braun</td>\n      <td>51.615.84</td>\n      <td>6590677</td>\n      <td>315591</td>\n      <td>w</td>\n      <td>PT</td>\n      <td>H-W</td>\n      <td>...</td>\n      <td>39.0</td>\n      <td>6.0</td>\n      <td>10.0</td>\n      <td>41.0</td>\n      <td>TR</td>\n      <td>0.0</td>\n      <td>1.0</td>\n      <td>[3842359, 3866739, 3866742, 3866731, 3844022, ...</td>\n      <td>[35.0, 35.5, 36.0, 37.0, 37.5, 38.0, 38.5, 39....</td>\n      <td>3</td>\n    </tr>\n    <tr>\n      <th>602</th>\n      <td>4770728</td>\n      <td>4062862889762</td>\n      <td>Riemchensandale Rauleder blau</td>\n      <td>blau</td>\n      <td>61.723.16</td>\n      <td>6590677</td>\n      <td>315563</td>\n      <td>w</td>\n      <td>PT</td>\n      <td>F-S</td>\n      <td>...</td>\n      <td>40.5</td>\n      <td>7.0</td>\n      <td>12.0</td>\n      <td>0.0</td>\n      <td>TPU</td>\n      <td>0.0</td>\n      <td>1.0</td>\n      <td>[4770728, 4777412, 4772440, 4772439, 4772442, ...</td>\n      <td>[35.0, 35.5, 36.0, 37.0, 37.5, 38.0, 38.5, 39....</td>\n      <td>1</td>\n    </tr>\n    <tr>\n      <th>730</th>\n      <td>4847355</td>\n      <td>4062862647416</td>\n      <td>Keilsandalette Glattleder braun</td>\n      <td>braun</td>\n      <td>62.043.13</td>\n      <td>6590678</td>\n      <td>315564</td>\n      <td>w</td>\n      <td>PT</td>\n      <td>F-S</td>\n      <td>...</td>\n      <td>39.0</td>\n      <td>6.0</td>\n      <td>10.0</td>\n      <td>0.0</td>\n      <td>TR</td>\n      <td>0.0</td>\n      <td>0.0</td>\n      <td>[4847355, 4777312, 4770237, 4771075, 4847356, ...</td>\n      <td>[35.0, 35.5, 36.0, 37.0, 37.5, 38.0, 38.5, 39....</td>\n      <td>3</td>\n    </tr>\n    <tr>\n      <th>782</th>\n      <td>4822647</td>\n      <td>4062862606628</td>\n      <td>Mokassin Rauleder grün</td>\n      <td>grün</td>\n      <td>63.337.19</td>\n      <td>6590677</td>\n      <td>315590</td>\n      <td>w</td>\n      <td>SK</td>\n      <td>F-S</td>\n      <td>...</td>\n      <td>35.5</td>\n      <td>3.0</td>\n      <td>4.0</td>\n      <td>0.0</td>\n      <td>TR</td>\n      <td>0.0</td>\n      <td>0.0</td>\n      <td>[4822647, 4822651, 4822650, 4822649, 4822648, ...</td>\n      <td>[35.0, 35.5, 36.0, 37.0, 37.5, 38.0, 38.5, 39....</td>\n      <td>11</td>\n    </tr>\n    <tr>\n      <th>1258</th>\n      <td>6113501</td>\n      <td>4064032417799</td>\n      <td>Sportliche Stiefelette Glattleder blau</td>\n      <td>blau</td>\n      <td>72.718.66</td>\n      <td>6590678</td>\n      <td>5014851</td>\n      <td>w</td>\n      <td>PT</td>\n      <td>H-W</td>\n      <td>...</td>\n      <td>43.0</td>\n      <td>9.0</td>\n      <td>16.0</td>\n      <td>13.0</td>\n      <td>Gummi</td>\n      <td>1.0</td>\n      <td>1.0</td>\n      <td>[6113501, 6113495, 6113496, 6113490, 6113497, ...</td>\n      <td>[35.5, 36.0, 37.0, 37.5, 38.0, 38.5, 39.0, 40....</td>\n      <td>1</td>\n    </tr>\n    <tr>\n      <th>1312</th>\n      <td>6142500</td>\n      <td>4064032542590</td>\n      <td>Eleganter Stiefel Glattleder</td>\n      <td></td>\n      <td>75.628.21</td>\n      <td>6590677</td>\n      <td>315585</td>\n      <td>w</td>\n      <td>PT</td>\n      <td>H-W</td>\n      <td>...</td>\n      <td>38.0</td>\n      <td>5.0</td>\n      <td>8.0</td>\n      <td>40.0</td>\n      <td>TPU</td>\n      <td>0.0</td>\n      <td>0.0</td>\n      <td>[6142500, 6892638, 6892634, 6902873, 6846954, ...</td>\n      <td>[35.5, 37.0, 37.5, 38.0, 39.0, 40.0, 40.5, 41....</td>\n      <td>15</td>\n    </tr>\n    <tr>\n      <th>1546</th>\n      <td>6177984</td>\n      <td>4064032598566</td>\n      <td>PG8000 Sneaker low Glattleder schwarz</td>\n      <td>schwarz</td>\n      <td>8000.12.05</td>\n      <td>4997827</td>\n      <td>3692261</td>\n      <td>m</td>\n      <td>CN</td>\n      <td>H-W</td>\n      <td>...</td>\n      <td>43.0</td>\n      <td>9.0</td>\n      <td>9.0</td>\n      <td>0.0</td>\n      <td>Gummi-EVA</td>\n      <td>0.0</td>\n      <td>0.0</td>\n      <td>[6177984, 6177982, 6177981, 6177986, 6177985, ...</td>\n      <td>[40.5, 41.0, 42.0, 43.0, 44.0, 44.5, 45.0, 46....</td>\n      <td>0</td>\n    </tr>\n  </tbody>\n</table>\n<p>10 rows × 57 columns</p>\n</div>"
     },
     "metadata": {},
     "output_type": "display_data"
    },
    {
     "name": "stdout",
     "output_type": "stream",
     "text": [
      "scores:  [0.03588894 0.0326204  0.03164598 0.03030481 0.02852748 0.02564616\n",
      " 0.02534861 0.02402134 0.02290115 0.02228493]\n"
     ]
    }
   ],
   "source": [
    "user_id = next(iter(train.take(1)))['customer_id'].numpy()\n",
    "predict_user(user_id)"
   ],
   "metadata": {
    "collapsed": false,
    "ExecuteTime": {
     "end_time": "2023-09-21T09:42:09.058130Z",
     "start_time": "2023-09-21T09:42:08.986460Z"
    }
   },
   "id": "ccdee48c0a0d68ae"
  },
  {
   "cell_type": "code",
   "execution_count": 40,
   "outputs": [
    {
     "name": "stderr",
     "output_type": "stream",
     "text": [
      "/Users/thomashuber/miniconda3/envs/m1-master-thesis/lib/python3.9/site-packages/keras/src/engine/training.py:3000: UserWarning: You are saving your model as an HDF5 file via `model.save()`. This file format is considered legacy. We recommend using instead the native Keras format, e.g. `model.save('my_model.keras')`.\n",
      "  saving_api.save_model(\n"
     ]
    },
    {
     "ename": "NotImplementedError",
     "evalue": "Saving the model to HDF5 format requires the model to be a Functional model or a Sequential model. It does not work for subclassed models, because such models are defined via the body of a Python method, which isn't safely serializable. Consider saving to the Tensorflow SavedModel format (by setting save_format=\"tf\") or using `save_weights`.",
     "output_type": "error",
     "traceback": [
      "\u001B[0;31m---------------------------------------------------------------------------\u001B[0m",
      "\u001B[0;31mNotImplementedError\u001B[0m                       Traceback (most recent call last)",
      "Cell \u001B[0;32mIn[40], line 1\u001B[0m\n\u001B[0;32m----> 1\u001B[0m \u001B[43mmodel\u001B[49m\u001B[38;5;241;43m.\u001B[39;49m\u001B[43msave\u001B[49m\u001B[43m(\u001B[49m\u001B[38;5;124;43m'\u001B[39;49m\u001B[38;5;124;43m../../models/gabor/gabor_tensorflow_reco_all_data_3_epochs_v1.h5\u001B[39;49m\u001B[38;5;124;43m'\u001B[39;49m\u001B[43m)\u001B[49m\n",
      "File \u001B[0;32m~/miniconda3/envs/m1-master-thesis/lib/python3.9/site-packages/keras/src/utils/traceback_utils.py:70\u001B[0m, in \u001B[0;36mfilter_traceback.<locals>.error_handler\u001B[0;34m(*args, **kwargs)\u001B[0m\n\u001B[1;32m     67\u001B[0m     filtered_tb \u001B[38;5;241m=\u001B[39m _process_traceback_frames(e\u001B[38;5;241m.\u001B[39m__traceback__)\n\u001B[1;32m     68\u001B[0m     \u001B[38;5;66;03m# To get the full stack trace, call:\u001B[39;00m\n\u001B[1;32m     69\u001B[0m     \u001B[38;5;66;03m# `tf.debugging.disable_traceback_filtering()`\u001B[39;00m\n\u001B[0;32m---> 70\u001B[0m     \u001B[38;5;28;01mraise\u001B[39;00m e\u001B[38;5;241m.\u001B[39mwith_traceback(filtered_tb) \u001B[38;5;28;01mfrom\u001B[39;00m \u001B[38;5;28mNone\u001B[39m\n\u001B[1;32m     71\u001B[0m \u001B[38;5;28;01mfinally\u001B[39;00m:\n\u001B[1;32m     72\u001B[0m     \u001B[38;5;28;01mdel\u001B[39;00m filtered_tb\n",
      "File \u001B[0;32m~/miniconda3/envs/m1-master-thesis/lib/python3.9/site-packages/keras/src/saving/legacy/save.py:152\u001B[0m, in \u001B[0;36msave_model\u001B[0;34m(model, filepath, overwrite, include_optimizer, save_format, signatures, options, save_traces)\u001B[0m\n\u001B[1;32m    143\u001B[0m \u001B[38;5;28;01mif\u001B[39;00m (\n\u001B[1;32m    144\u001B[0m     save_format \u001B[38;5;241m==\u001B[39m \u001B[38;5;124m\"\u001B[39m\u001B[38;5;124mh5\u001B[39m\u001B[38;5;124m\"\u001B[39m\n\u001B[1;32m    145\u001B[0m     \u001B[38;5;129;01mor\u001B[39;00m (h5py \u001B[38;5;129;01mis\u001B[39;00m \u001B[38;5;129;01mnot\u001B[39;00m \u001B[38;5;28;01mNone\u001B[39;00m \u001B[38;5;129;01mand\u001B[39;00m \u001B[38;5;28misinstance\u001B[39m(filepath, h5py\u001B[38;5;241m.\u001B[39mFile))\n\u001B[1;32m    146\u001B[0m     \u001B[38;5;129;01mor\u001B[39;00m saving_utils\u001B[38;5;241m.\u001B[39mis_hdf5_filepath(filepath)\n\u001B[1;32m    147\u001B[0m ):\n\u001B[1;32m    148\u001B[0m     \u001B[38;5;66;03m# TODO(b/130258301): add utility method for detecting model type.\u001B[39;00m\n\u001B[1;32m    149\u001B[0m     \u001B[38;5;28;01mif\u001B[39;00m \u001B[38;5;129;01mnot\u001B[39;00m model\u001B[38;5;241m.\u001B[39m_is_graph_network \u001B[38;5;129;01mand\u001B[39;00m \u001B[38;5;129;01mnot\u001B[39;00m \u001B[38;5;28misinstance\u001B[39m(\n\u001B[1;32m    150\u001B[0m         model, sequential\u001B[38;5;241m.\u001B[39mSequential\n\u001B[1;32m    151\u001B[0m     ):\n\u001B[0;32m--> 152\u001B[0m         \u001B[38;5;28;01mraise\u001B[39;00m \u001B[38;5;167;01mNotImplementedError\u001B[39;00m(\n\u001B[1;32m    153\u001B[0m             \u001B[38;5;124m\"\u001B[39m\u001B[38;5;124mSaving the model to HDF5 format requires the model to be a \u001B[39m\u001B[38;5;124m\"\u001B[39m\n\u001B[1;32m    154\u001B[0m             \u001B[38;5;124m\"\u001B[39m\u001B[38;5;124mFunctional model or a Sequential model. It does not work for \u001B[39m\u001B[38;5;124m\"\u001B[39m\n\u001B[1;32m    155\u001B[0m             \u001B[38;5;124m\"\u001B[39m\u001B[38;5;124msubclassed models, because such models are defined via the \u001B[39m\u001B[38;5;124m\"\u001B[39m\n\u001B[1;32m    156\u001B[0m             \u001B[38;5;124m\"\u001B[39m\u001B[38;5;124mbody of a Python method, which isn\u001B[39m\u001B[38;5;124m'\u001B[39m\u001B[38;5;124mt safely serializable. \u001B[39m\u001B[38;5;124m\"\u001B[39m\n\u001B[1;32m    157\u001B[0m             \u001B[38;5;124m\"\u001B[39m\u001B[38;5;124mConsider saving to the Tensorflow SavedModel format (by \u001B[39m\u001B[38;5;124m\"\u001B[39m\n\u001B[1;32m    158\u001B[0m             \u001B[38;5;124m'\u001B[39m\u001B[38;5;124msetting save_format=\u001B[39m\u001B[38;5;124m\"\u001B[39m\u001B[38;5;124mtf\u001B[39m\u001B[38;5;124m\"\u001B[39m\u001B[38;5;124m) or using `save_weights`.\u001B[39m\u001B[38;5;124m'\u001B[39m\n\u001B[1;32m    159\u001B[0m         )\n\u001B[1;32m    160\u001B[0m     hdf5_format\u001B[38;5;241m.\u001B[39msave_model_to_hdf5(\n\u001B[1;32m    161\u001B[0m         model, filepath, overwrite, include_optimizer\n\u001B[1;32m    162\u001B[0m     )\n\u001B[1;32m    163\u001B[0m \u001B[38;5;28;01melse\u001B[39;00m:\n",
      "\u001B[0;31mNotImplementedError\u001B[0m: Saving the model to HDF5 format requires the model to be a Functional model or a Sequential model. It does not work for subclassed models, because such models are defined via the body of a Python method, which isn't safely serializable. Consider saving to the Tensorflow SavedModel format (by setting save_format=\"tf\") or using `save_weights`."
     ]
    }
   ],
   "source": [
    "model.save('../../models/gabor/gabor_tensorflow_reco_all_data_3_epochs_v1.h5')"
   ],
   "metadata": {
    "collapsed": false,
    "ExecuteTime": {
     "end_time": "2023-09-21T09:42:09.129956Z",
     "start_time": "2023-09-21T09:42:09.019598Z"
    }
   },
   "id": "eb395206e9a41cc7"
  },
  {
   "cell_type": "code",
   "execution_count": null,
   "outputs": [],
   "source": [],
   "metadata": {
    "collapsed": false,
    "ExecuteTime": {
     "start_time": "2023-09-21T09:42:09.041567Z"
    }
   },
   "id": "313096ee48653126"
  }
 ],
 "metadata": {
  "kernelspec": {
   "display_name": "Python 3",
   "language": "python",
   "name": "python3"
  },
  "language_info": {
   "codemirror_mode": {
    "name": "ipython",
    "version": 2
   },
   "file_extension": ".py",
   "mimetype": "text/x-python",
   "name": "python",
   "nbconvert_exporter": "python",
   "pygments_lexer": "ipython2",
   "version": "2.7.6"
  }
 },
 "nbformat": 4,
 "nbformat_minor": 5
}
