{
 "cells": [
  {
   "cell_type": "markdown",
   "source": [
    "# Detail Rocket Deep Learning Recommendation System\n",
    "\n",
    "## Imports and installs"
   ],
   "metadata": {
    "collapsed": false
   }
  },
  {
   "cell_type": "code",
   "execution_count": 1,
   "outputs": [
    {
     "name": "stdout",
     "output_type": "stream",
     "text": [
      "Requirement already satisfied: numpy in /Users/thomashuber/miniconda3/envs/m1-master-thesis/lib/python3.9/site-packages (1.24.2)\r\n",
      "Note: you may need to restart the kernel to use updated packages.\n"
     ]
    }
   ],
   "source": [
    "from sklearn.model_selection import train_test_split\n",
    "from sklearn.tree import plot_tree\n",
    "#%pip install pandas\n",
    "# %pip install seaborn\n",
    "%pip install numpy"
   ],
   "metadata": {
    "collapsed": false
   }
  },
  {
   "cell_type": "code",
   "execution_count": 2,
   "outputs": [],
   "source": [
    "import pandas as pd\n",
    "import seaborn as sns\n",
    "import numpy as np\n",
    "import matplotlib.pyplot as plt\n",
    "import operator\n",
    "from sklearn.ensemble import RandomForestClassifier\n",
    "from sklearn.metrics import mean_squared_error, mean_absolute_error, r2_score, accuracy_score, f1_score, precision_score,  recall_score"
   ],
   "metadata": {
    "collapsed": false
   }
  },
  {
   "cell_type": "markdown",
   "source": [],
   "metadata": {
    "collapsed": false
   }
  },
  {
   "cell_type": "markdown",
   "source": [
    "## Load Data\n",
    "\n",
    "Preprocessing was done in EDA notebook and stored in pickle files"
   ],
   "metadata": {
    "collapsed": false
   }
  },
  {
   "cell_type": "code",
   "execution_count": 3,
   "outputs": [
    {
     "data": {
      "text/plain": "      categoryid  parentid\n0           1016     213.0\n1            809     169.0\n2            570       9.0\n3           1691     885.0\n4            536    1691.0\n...          ...       ...\n1664          49    1125.0\n1665        1112     630.0\n1666        1336     745.0\n1667         689     207.0\n1668         761     395.0\n\n[1669 rows x 2 columns]",
      "text/html": "<div>\n<style scoped>\n    .dataframe tbody tr th:only-of-type {\n        vertical-align: middle;\n    }\n\n    .dataframe tbody tr th {\n        vertical-align: top;\n    }\n\n    .dataframe thead th {\n        text-align: right;\n    }\n</style>\n<table border=\"1\" class=\"dataframe\">\n  <thead>\n    <tr style=\"text-align: right;\">\n      <th></th>\n      <th>categoryid</th>\n      <th>parentid</th>\n    </tr>\n  </thead>\n  <tbody>\n    <tr>\n      <th>0</th>\n      <td>1016</td>\n      <td>213.0</td>\n    </tr>\n    <tr>\n      <th>1</th>\n      <td>809</td>\n      <td>169.0</td>\n    </tr>\n    <tr>\n      <th>2</th>\n      <td>570</td>\n      <td>9.0</td>\n    </tr>\n    <tr>\n      <th>3</th>\n      <td>1691</td>\n      <td>885.0</td>\n    </tr>\n    <tr>\n      <th>4</th>\n      <td>536</td>\n      <td>1691.0</td>\n    </tr>\n    <tr>\n      <th>...</th>\n      <td>...</td>\n      <td>...</td>\n    </tr>\n    <tr>\n      <th>1664</th>\n      <td>49</td>\n      <td>1125.0</td>\n    </tr>\n    <tr>\n      <th>1665</th>\n      <td>1112</td>\n      <td>630.0</td>\n    </tr>\n    <tr>\n      <th>1666</th>\n      <td>1336</td>\n      <td>745.0</td>\n    </tr>\n    <tr>\n      <th>1667</th>\n      <td>689</td>\n      <td>207.0</td>\n    </tr>\n    <tr>\n      <th>1668</th>\n      <td>761</td>\n      <td>395.0</td>\n    </tr>\n  </tbody>\n</table>\n<p>1669 rows × 2 columns</p>\n</div>"
     },
     "execution_count": 3,
     "metadata": {},
     "output_type": "execute_result"
    }
   ],
   "source": [
    "basepath = '../datasets/preprocessed_datasets/retailrocket/'\n",
    "category_tree = pd.read_pickle(basepath +'category_tree.pkl')\n",
    "category_tree"
   ],
   "metadata": {
    "collapsed": false
   }
  },
  {
   "cell_type": "code",
   "execution_count": 4,
   "outputs": [
    {
     "data": {
      "text/plain": "             timestamp  visitorid event  itemid  transactionid  \\\n0        1433221332117     257597  view  355908            NaN   \n1        1433224214164     992329  view  248676            NaN   \n2        1433221999827     111016  view  318965            NaN   \n3        1433221955914     483717  view  253185            NaN   \n4        1433221337106     951259  view  367447            NaN   \n...                ...        ...   ...     ...            ...   \n2756096  1438398785939     591435  view  261427            NaN   \n2756097  1438399813142     762376  view  115946            NaN   \n2756098  1438397820527    1251746  view   78144            NaN   \n2756099  1438398530703    1184451  view  283392            NaN   \n2756100  1438400163914     199536  view  152913            NaN   \n\n                    datetime  \n0        2015-06-02 07:02:12  \n1        2015-06-02 07:50:14  \n2        2015-06-02 07:13:19  \n3        2015-06-02 07:12:35  \n4        2015-06-02 07:02:17  \n...                      ...  \n2756096  2015-08-01 05:13:05  \n2756097  2015-08-01 05:30:13  \n2756098  2015-08-01 04:57:00  \n2756099  2015-08-01 05:08:50  \n2756100  2015-08-01 05:36:03  \n\n[2755641 rows x 6 columns]",
      "text/html": "<div>\n<style scoped>\n    .dataframe tbody tr th:only-of-type {\n        vertical-align: middle;\n    }\n\n    .dataframe tbody tr th {\n        vertical-align: top;\n    }\n\n    .dataframe thead th {\n        text-align: right;\n    }\n</style>\n<table border=\"1\" class=\"dataframe\">\n  <thead>\n    <tr style=\"text-align: right;\">\n      <th></th>\n      <th>timestamp</th>\n      <th>visitorid</th>\n      <th>event</th>\n      <th>itemid</th>\n      <th>transactionid</th>\n      <th>datetime</th>\n    </tr>\n  </thead>\n  <tbody>\n    <tr>\n      <th>0</th>\n      <td>1433221332117</td>\n      <td>257597</td>\n      <td>view</td>\n      <td>355908</td>\n      <td>NaN</td>\n      <td>2015-06-02 07:02:12</td>\n    </tr>\n    <tr>\n      <th>1</th>\n      <td>1433224214164</td>\n      <td>992329</td>\n      <td>view</td>\n      <td>248676</td>\n      <td>NaN</td>\n      <td>2015-06-02 07:50:14</td>\n    </tr>\n    <tr>\n      <th>2</th>\n      <td>1433221999827</td>\n      <td>111016</td>\n      <td>view</td>\n      <td>318965</td>\n      <td>NaN</td>\n      <td>2015-06-02 07:13:19</td>\n    </tr>\n    <tr>\n      <th>3</th>\n      <td>1433221955914</td>\n      <td>483717</td>\n      <td>view</td>\n      <td>253185</td>\n      <td>NaN</td>\n      <td>2015-06-02 07:12:35</td>\n    </tr>\n    <tr>\n      <th>4</th>\n      <td>1433221337106</td>\n      <td>951259</td>\n      <td>view</td>\n      <td>367447</td>\n      <td>NaN</td>\n      <td>2015-06-02 07:02:17</td>\n    </tr>\n    <tr>\n      <th>...</th>\n      <td>...</td>\n      <td>...</td>\n      <td>...</td>\n      <td>...</td>\n      <td>...</td>\n      <td>...</td>\n    </tr>\n    <tr>\n      <th>2756096</th>\n      <td>1438398785939</td>\n      <td>591435</td>\n      <td>view</td>\n      <td>261427</td>\n      <td>NaN</td>\n      <td>2015-08-01 05:13:05</td>\n    </tr>\n    <tr>\n      <th>2756097</th>\n      <td>1438399813142</td>\n      <td>762376</td>\n      <td>view</td>\n      <td>115946</td>\n      <td>NaN</td>\n      <td>2015-08-01 05:30:13</td>\n    </tr>\n    <tr>\n      <th>2756098</th>\n      <td>1438397820527</td>\n      <td>1251746</td>\n      <td>view</td>\n      <td>78144</td>\n      <td>NaN</td>\n      <td>2015-08-01 04:57:00</td>\n    </tr>\n    <tr>\n      <th>2756099</th>\n      <td>1438398530703</td>\n      <td>1184451</td>\n      <td>view</td>\n      <td>283392</td>\n      <td>NaN</td>\n      <td>2015-08-01 05:08:50</td>\n    </tr>\n    <tr>\n      <th>2756100</th>\n      <td>1438400163914</td>\n      <td>199536</td>\n      <td>view</td>\n      <td>152913</td>\n      <td>NaN</td>\n      <td>2015-08-01 05:36:03</td>\n    </tr>\n  </tbody>\n</table>\n<p>2755641 rows × 6 columns</p>\n</div>"
     },
     "execution_count": 4,
     "metadata": {},
     "output_type": "execute_result"
    }
   ],
   "source": [
    "events = pd.read_pickle(basepath +'events.pkl')\n",
    "events"
   ],
   "metadata": {
    "collapsed": false
   }
  },
  {
   "cell_type": "code",
   "execution_count": 5,
   "outputs": [
    {
     "data": {
      "text/plain": "             timestamp  itemid    property                             value  \\\n0        1435460400000  460429  categoryid                              1338   \n1        1441508400000  206783         888           1116713 960601 n277.200   \n2        1439089200000  395014         400   n552.000 639502 n720.000 424566   \n3        1431226800000   59481         790                        n15360.000   \n4        1431831600000  156781         917                            828513   \n...                ...     ...         ...                               ...   \n9275898  1433646000000  236931         929                           n12.000   \n9275899  1440903600000  455746           6                     150169 639134   \n9275900  1439694000000  347565         686                            610834   \n9275901  1433646000000  287231         867                            769062   \n9275902  1442113200000  275768         888  888666 n10800.000 746840 1318567   \n\n                    datetime  \n0        2015-06-28 05:00:00  \n1        2015-09-06 05:00:00  \n2        2015-08-09 05:00:00  \n3        2015-05-10 05:00:00  \n4        2015-05-17 05:00:00  \n...                      ...  \n9275898  2015-06-07 05:00:00  \n9275899  2015-08-30 05:00:00  \n9275900  2015-08-16 05:00:00  \n9275901  2015-06-07 05:00:00  \n9275902  2015-09-13 05:00:00  \n\n[20275902 rows x 5 columns]",
      "text/html": "<div>\n<style scoped>\n    .dataframe tbody tr th:only-of-type {\n        vertical-align: middle;\n    }\n\n    .dataframe tbody tr th {\n        vertical-align: top;\n    }\n\n    .dataframe thead th {\n        text-align: right;\n    }\n</style>\n<table border=\"1\" class=\"dataframe\">\n  <thead>\n    <tr style=\"text-align: right;\">\n      <th></th>\n      <th>timestamp</th>\n      <th>itemid</th>\n      <th>property</th>\n      <th>value</th>\n      <th>datetime</th>\n    </tr>\n  </thead>\n  <tbody>\n    <tr>\n      <th>0</th>\n      <td>1435460400000</td>\n      <td>460429</td>\n      <td>categoryid</td>\n      <td>1338</td>\n      <td>2015-06-28 05:00:00</td>\n    </tr>\n    <tr>\n      <th>1</th>\n      <td>1441508400000</td>\n      <td>206783</td>\n      <td>888</td>\n      <td>1116713 960601 n277.200</td>\n      <td>2015-09-06 05:00:00</td>\n    </tr>\n    <tr>\n      <th>2</th>\n      <td>1439089200000</td>\n      <td>395014</td>\n      <td>400</td>\n      <td>n552.000 639502 n720.000 424566</td>\n      <td>2015-08-09 05:00:00</td>\n    </tr>\n    <tr>\n      <th>3</th>\n      <td>1431226800000</td>\n      <td>59481</td>\n      <td>790</td>\n      <td>n15360.000</td>\n      <td>2015-05-10 05:00:00</td>\n    </tr>\n    <tr>\n      <th>4</th>\n      <td>1431831600000</td>\n      <td>156781</td>\n      <td>917</td>\n      <td>828513</td>\n      <td>2015-05-17 05:00:00</td>\n    </tr>\n    <tr>\n      <th>...</th>\n      <td>...</td>\n      <td>...</td>\n      <td>...</td>\n      <td>...</td>\n      <td>...</td>\n    </tr>\n    <tr>\n      <th>9275898</th>\n      <td>1433646000000</td>\n      <td>236931</td>\n      <td>929</td>\n      <td>n12.000</td>\n      <td>2015-06-07 05:00:00</td>\n    </tr>\n    <tr>\n      <th>9275899</th>\n      <td>1440903600000</td>\n      <td>455746</td>\n      <td>6</td>\n      <td>150169 639134</td>\n      <td>2015-08-30 05:00:00</td>\n    </tr>\n    <tr>\n      <th>9275900</th>\n      <td>1439694000000</td>\n      <td>347565</td>\n      <td>686</td>\n      <td>610834</td>\n      <td>2015-08-16 05:00:00</td>\n    </tr>\n    <tr>\n      <th>9275901</th>\n      <td>1433646000000</td>\n      <td>287231</td>\n      <td>867</td>\n      <td>769062</td>\n      <td>2015-06-07 05:00:00</td>\n    </tr>\n    <tr>\n      <th>9275902</th>\n      <td>1442113200000</td>\n      <td>275768</td>\n      <td>888</td>\n      <td>888666 n10800.000 746840 1318567</td>\n      <td>2015-09-13 05:00:00</td>\n    </tr>\n  </tbody>\n</table>\n<p>20275902 rows × 5 columns</p>\n</div>"
     },
     "execution_count": 5,
     "metadata": {},
     "output_type": "execute_result"
    }
   ],
   "source": [
    "item_properties = pd.read_pickle(basepath +'item_properties.pkl')\n",
    "item_properties"
   ],
   "metadata": {
    "collapsed": false
   }
  },
  {
   "cell_type": "code",
   "execution_count": 6,
   "outputs": [
    {
     "data": {
      "text/plain": "         visitorid  products_viewed  num_views  num_add2cart  num_transaction\n0           693516                1          1             2                0\n1           829044                1          1             0                0\n2           652699                1          1             0                0\n3          1125936                1          1             0                0\n4          1149227                1          1             0                0\n...            ...              ...        ...           ...              ...\n1407575     998517                1          1             0                0\n1407576     472345                1          1             0                0\n1407577    1207677                1          1             0                0\n1407578     255126                1          1             0                0\n1407579     622226                1          1             0                0\n\n[1407580 rows x 5 columns]",
      "text/html": "<div>\n<style scoped>\n    .dataframe tbody tr th:only-of-type {\n        vertical-align: middle;\n    }\n\n    .dataframe tbody tr th {\n        vertical-align: top;\n    }\n\n    .dataframe thead th {\n        text-align: right;\n    }\n</style>\n<table border=\"1\" class=\"dataframe\">\n  <thead>\n    <tr style=\"text-align: right;\">\n      <th></th>\n      <th>visitorid</th>\n      <th>products_viewed</th>\n      <th>num_views</th>\n      <th>num_add2cart</th>\n      <th>num_transaction</th>\n    </tr>\n  </thead>\n  <tbody>\n    <tr>\n      <th>0</th>\n      <td>693516</td>\n      <td>1</td>\n      <td>1</td>\n      <td>2</td>\n      <td>0</td>\n    </tr>\n    <tr>\n      <th>1</th>\n      <td>829044</td>\n      <td>1</td>\n      <td>1</td>\n      <td>0</td>\n      <td>0</td>\n    </tr>\n    <tr>\n      <th>2</th>\n      <td>652699</td>\n      <td>1</td>\n      <td>1</td>\n      <td>0</td>\n      <td>0</td>\n    </tr>\n    <tr>\n      <th>3</th>\n      <td>1125936</td>\n      <td>1</td>\n      <td>1</td>\n      <td>0</td>\n      <td>0</td>\n    </tr>\n    <tr>\n      <th>4</th>\n      <td>1149227</td>\n      <td>1</td>\n      <td>1</td>\n      <td>0</td>\n      <td>0</td>\n    </tr>\n    <tr>\n      <th>...</th>\n      <td>...</td>\n      <td>...</td>\n      <td>...</td>\n      <td>...</td>\n      <td>...</td>\n    </tr>\n    <tr>\n      <th>1407575</th>\n      <td>998517</td>\n      <td>1</td>\n      <td>1</td>\n      <td>0</td>\n      <td>0</td>\n    </tr>\n    <tr>\n      <th>1407576</th>\n      <td>472345</td>\n      <td>1</td>\n      <td>1</td>\n      <td>0</td>\n      <td>0</td>\n    </tr>\n    <tr>\n      <th>1407577</th>\n      <td>1207677</td>\n      <td>1</td>\n      <td>1</td>\n      <td>0</td>\n      <td>0</td>\n    </tr>\n    <tr>\n      <th>1407578</th>\n      <td>255126</td>\n      <td>1</td>\n      <td>1</td>\n      <td>0</td>\n      <td>0</td>\n    </tr>\n    <tr>\n      <th>1407579</th>\n      <td>622226</td>\n      <td>1</td>\n      <td>1</td>\n      <td>0</td>\n      <td>0</td>\n    </tr>\n  </tbody>\n</table>\n<p>1407580 rows × 5 columns</p>\n</div>"
     },
     "execution_count": 6,
     "metadata": {},
     "output_type": "execute_result"
    }
   ],
   "source": [
    "visitor_actions = pd.read_pickle(basepath +'visitor_actions.pkl')\n",
    "visitor_actions"
   ],
   "metadata": {
    "collapsed": false
   }
  },
  {
   "cell_type": "code",
   "execution_count": 7,
   "outputs": [
    {
     "data": {
      "text/plain": "         itemid  visitorid  view  addtocart  transaction\n0             3     370720   1.0          0            0\n1             3     639016   1.0          0            0\n2             4     905555   1.0          0            0\n3             4    1010132   1.0          0            0\n4             4    1042455   1.0          0            0\n...         ...        ...   ...        ...          ...\n2145174  466864    1388296   4.0          0            0\n2145175  466867     241803   1.0          0            0\n2145176  466867     450511   1.0          0            0\n2145177  466867    1001859   1.0          0            0\n2145178  466867    1117910   1.0          0            0\n\n[2145179 rows x 5 columns]",
      "text/html": "<div>\n<style scoped>\n    .dataframe tbody tr th:only-of-type {\n        vertical-align: middle;\n    }\n\n    .dataframe tbody tr th {\n        vertical-align: top;\n    }\n\n    .dataframe thead th {\n        text-align: right;\n    }\n</style>\n<table border=\"1\" class=\"dataframe\">\n  <thead>\n    <tr style=\"text-align: right;\">\n      <th></th>\n      <th>itemid</th>\n      <th>visitorid</th>\n      <th>view</th>\n      <th>addtocart</th>\n      <th>transaction</th>\n    </tr>\n  </thead>\n  <tbody>\n    <tr>\n      <th>0</th>\n      <td>3</td>\n      <td>370720</td>\n      <td>1.0</td>\n      <td>0</td>\n      <td>0</td>\n    </tr>\n    <tr>\n      <th>1</th>\n      <td>3</td>\n      <td>639016</td>\n      <td>1.0</td>\n      <td>0</td>\n      <td>0</td>\n    </tr>\n    <tr>\n      <th>2</th>\n      <td>4</td>\n      <td>905555</td>\n      <td>1.0</td>\n      <td>0</td>\n      <td>0</td>\n    </tr>\n    <tr>\n      <th>3</th>\n      <td>4</td>\n      <td>1010132</td>\n      <td>1.0</td>\n      <td>0</td>\n      <td>0</td>\n    </tr>\n    <tr>\n      <th>4</th>\n      <td>4</td>\n      <td>1042455</td>\n      <td>1.0</td>\n      <td>0</td>\n      <td>0</td>\n    </tr>\n    <tr>\n      <th>...</th>\n      <td>...</td>\n      <td>...</td>\n      <td>...</td>\n      <td>...</td>\n      <td>...</td>\n    </tr>\n    <tr>\n      <th>2145174</th>\n      <td>466864</td>\n      <td>1388296</td>\n      <td>4.0</td>\n      <td>0</td>\n      <td>0</td>\n    </tr>\n    <tr>\n      <th>2145175</th>\n      <td>466867</td>\n      <td>241803</td>\n      <td>1.0</td>\n      <td>0</td>\n      <td>0</td>\n    </tr>\n    <tr>\n      <th>2145176</th>\n      <td>466867</td>\n      <td>450511</td>\n      <td>1.0</td>\n      <td>0</td>\n      <td>0</td>\n    </tr>\n    <tr>\n      <th>2145177</th>\n      <td>466867</td>\n      <td>1001859</td>\n      <td>1.0</td>\n      <td>0</td>\n      <td>0</td>\n    </tr>\n    <tr>\n      <th>2145178</th>\n      <td>466867</td>\n      <td>1117910</td>\n      <td>1.0</td>\n      <td>0</td>\n      <td>0</td>\n    </tr>\n  </tbody>\n</table>\n<p>2145179 rows × 5 columns</p>\n</div>"
     },
     "execution_count": 7,
     "metadata": {},
     "output_type": "execute_result"
    }
   ],
   "source": [
    "product_item_df = pd.read_pickle(basepath +'product_item.pkl')\n",
    "product_item_df"
   ],
   "metadata": {
    "collapsed": false
   }
  },
  {
   "cell_type": "markdown",
   "source": [
    "# Training Stuff"
   ],
   "metadata": {
    "collapsed": false
   }
  },
  {
   "cell_type": "code",
   "execution_count": 8,
   "outputs": [],
   "source": [
    "visitor_actions['is_bought'] = (visitor_actions['num_transaction'] > 0)*1\n",
    "X = visitor_actions[['products_viewed', 'num_views', 'num_add2cart']]\n",
    "y = visitor_actions['is_bought']"
   ],
   "metadata": {
    "collapsed": false
   }
  },
  {
   "cell_type": "code",
   "execution_count": 9,
   "outputs": [],
   "source": [
    "X_train, X_test, y_train, y_test = train_test_split(X, y, random_state=5, test_size=0.3)"
   ],
   "metadata": {
    "collapsed": false
   }
  },
  {
   "cell_type": "code",
   "execution_count": 10,
   "outputs": [],
   "source": [
    "#random_forest = RandomForestClassifier(max_depth=10, min_samples_leaf=10)\n",
    "random_forest = RandomForestClassifier(n_estimators=100, random_state=42, max_depth=10, verbose=True, n_jobs=-1)\n"
   ],
   "metadata": {
    "collapsed": false
   }
  },
  {
   "cell_type": "code",
   "execution_count": 11,
   "outputs": [
    {
     "name": "stderr",
     "output_type": "stream",
     "text": [
      "[Parallel(n_jobs=-1)]: Using backend ThreadingBackend with 10 concurrent workers.\n",
      "[Parallel(n_jobs=-1)]: Done  30 tasks      | elapsed:    0.9s\n",
      "[Parallel(n_jobs=-1)]: Done 100 out of 100 | elapsed:    2.5s finished\n",
      "[Parallel(n_jobs=10)]: Using backend ThreadingBackend with 10 concurrent workers.\n",
      "[Parallel(n_jobs=10)]: Done  30 tasks      | elapsed:    0.2s\n",
      "[Parallel(n_jobs=10)]: Done 100 out of 100 | elapsed:    0.4s finished\n",
      "[Parallel(n_jobs=10)]: Using backend ThreadingBackend with 10 concurrent workers.\n",
      "[Parallel(n_jobs=10)]: Done  30 tasks      | elapsed:    0.1s\n",
      "[Parallel(n_jobs=10)]: Done 100 out of 100 | elapsed:    0.2s finished\n"
     ]
    }
   ],
   "source": [
    "random_forest.fit(X_train, y_train)\n",
    "y_train_pred = random_forest.predict(X_train)\n",
    "y_test_pred = random_forest.predict(X_test)"
   ],
   "metadata": {
    "collapsed": false
   }
  },
  {
   "cell_type": "markdown",
   "source": [],
   "metadata": {
    "collapsed": false
   }
  },
  {
   "cell_type": "code",
   "execution_count": 12,
   "outputs": [
    {
     "name": "stdout",
     "output_type": "stream",
     "text": [
      "Characteristics of random forest model: \n",
      " {'bootstrap': True, 'ccp_alpha': 0.0, 'class_weight': None, 'criterion': 'gini', 'max_depth': 10, 'max_features': 'sqrt', 'max_leaf_nodes': None, 'max_samples': None, 'min_impurity_decrease': 0.0, 'min_samples_leaf': 1, 'min_samples_split': 2, 'min_weight_fraction_leaf': 0.0, 'n_estimators': 100, 'n_jobs': -1, 'oob_score': False, 'random_state': 42, 'verbose': True, 'warm_start': False}\n",
      "\n",
      "Train Accuracy = 0.9922318548755412\n",
      "Test Accuracy = 0.9920217678568891\n"
     ]
    }
   ],
   "source": [
    "print('Characteristics of random forest model: \\n', random_forest.get_params())\n",
    "print(f\"\\nTrain Accuracy = {accuracy_score(y_train, y_train_pred)}\")\n",
    "print(f\"Test Accuracy = {accuracy_score(y_test, y_test_pred)}\")"
   ],
   "metadata": {
    "collapsed": false
   }
  },
  {
   "cell_type": "code",
   "execution_count": 13,
   "outputs": [
    {
     "name": "stdout",
     "output_type": "stream",
     "text": [
      "MSE:  0.00797823214311087\n",
      "MAE:  0.00797823214311087\n",
      "R-squared:  0.017129544237193928\n",
      "accuracy:  0.9920217678568891\n",
      "precision:  0.9892128738752711\n",
      "recall:  0.9920217678568891\n",
      "f1:  0.9889425562765475\n"
     ]
    }
   ],
   "source": [
    "mse = mean_squared_error(y_test, y_test_pred)\n",
    "mae = mean_absolute_error(y_test, y_test_pred)\n",
    "acc = accuracy_score(y_test, y_test_pred)\n",
    "f1 = f1_score(y_test, y_test_pred, average='weighted')\n",
    "precision = precision_score(y_test, y_test_pred, average='weighted')\n",
    "recall = recall_score(y_test, y_test_pred, average='weighted')\n",
    "\n",
    "\n",
    "r2 = r2_score(y_test, y_test_pred)\n",
    "print(\"MSE: \", mse)\n",
    "print(\"MAE: \", mae)\n",
    "print(\"R-squared: \", r2)\n",
    "\n",
    "print(\"accuracy: \", acc)\n",
    "print(\"precision: \", precision)\n",
    "print(\"recall: \", recall)\n",
    "print(\"f1: \", f1)"
   ],
   "metadata": {
    "collapsed": false
   }
  },
  {
   "cell_type": "code",
   "execution_count": null,
   "outputs": [],
   "source": [
    "# Lets plot the decision tree (using a random estimator) to see how predictions were made\n",
    "\n",
    "plt.figure(figsize=(80,40))\n",
    "plot_tree(random_forest.estimators_[10], feature_names=X.columns, class_names=['Bought', \"Not Bought\"],filled=True)\n",
    "plt.savefig(\"First model decision tree.svg\", format='svg', dpi='figure')"
   ],
   "metadata": {
    "collapsed": false,
    "pycharm": {
     "is_executing": true
    }
   }
  },
  {
   "cell_type": "code",
   "execution_count": null,
   "outputs": [],
   "source": [
    "# Generating output to explain predictions\n",
    "\n",
    "output_df = pd.concat([X_train, X_test])\n",
    "output_df['Target'] = pd.concat([y_train, y_test])\n",
    "output_df['Prediction'] = y_train_pred.tolist() + y_test_pred.tolist()\n",
    "\n",
    "display(output_df)"
   ],
   "metadata": {
    "collapsed": false,
    "pycharm": {
     "is_executing": true
    }
   }
  },
  {
   "cell_type": "markdown",
   "source": [
    "## Product Item Training"
   ],
   "metadata": {
    "collapsed": false
   }
  },
  {
   "cell_type": "code",
   "execution_count": null,
   "outputs": [],
   "source": [
    "X = product_item_df[['view', 'addtocart']]\n",
    "y = product_item_df['transaction']\n",
    "\n",
    "X_train, X_test, y_train, y_test = train_test_split(X, y, random_state=4, test_size=0.3)\n",
    "\n",
    "rf_classifier = RandomForestClassifier()\n",
    "rf_classifier.fit(X_train, y_train)\n",
    "\n",
    "y_train_pred = rf_classifier.predict(X_train)\n",
    "y_test_pred = rf_classifier.predict(X_test)\n",
    "\n",
    "print('Characteristics of random forest model: \\n', rf_classifier.get_params())\n",
    "print(f\"\\nTrain Accuracy = {metrics.accuracy_score(y_train, y_train_pred)}\")\n",
    "print(f\"Test Accuracy = {metrics.accuracy_score(y_test, y_test_pred)}\")"
   ],
   "metadata": {
    "collapsed": false,
    "pycharm": {
     "is_executing": true
    }
   }
  },
  {
   "cell_type": "code",
   "execution_count": null,
   "outputs": [],
   "source": [
    "output_df = pd.concat([X_train, X_test])\n",
    "output_df['Target'] = pd.concat([y_train, y_test])\n",
    "output_df['Prediction'] = y_train_pred.tolist() + y_test_pred.tolist()\n",
    "\n",
    "display(output_df)\n",
    "# print(output_df.Prediction.value_counts())\n",
    "\n"
   ],
   "metadata": {
    "collapsed": false,
    "pycharm": {
     "is_executing": true
    }
   }
  },
  {
   "cell_type": "code",
   "execution_count": null,
   "outputs": [],
   "source": [
    "# Lets plot the decision tree (using a random estimator) to see how predictions were made\n",
    "\n",
    "plt.figure(figsize=(80,40))\n",
    "plot_tree(rf_classifier.estimators_[3], feature_names=X.columns, class_names=['Bought', \"Not Bought\"],filled=True)\n"
   ],
   "metadata": {
    "collapsed": false,
    "pycharm": {
     "is_executing": true
    }
   }
  }
 ],
 "metadata": {
  "kernelspec": {
   "display_name": "Python 3",
   "language": "python",
   "name": "python3"
  },
  "language_info": {
   "codemirror_mode": {
    "name": "ipython",
    "version": 2
   },
   "file_extension": ".py",
   "mimetype": "text/x-python",
   "name": "python",
   "nbconvert_exporter": "python",
   "pygments_lexer": "ipython2",
   "version": "2.7.6"
  }
 },
 "nbformat": 4,
 "nbformat_minor": 0
}
