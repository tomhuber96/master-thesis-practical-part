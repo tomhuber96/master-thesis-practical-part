{
 "cells": [
  {
   "cell_type": "code",
   "execution_count": 1,
   "outputs": [
    {
     "name": "stderr",
     "output_type": "stream",
     "text": [
      "/Users/thomashuber/miniconda3/envs/m1-master-thesis/lib/python3.9/site-packages/lightfm/_lightfm_fast.py:9: UserWarning: LightFM was compiled without OpenMP support. Only a single thread will be used.\n",
      "  warnings.warn(\n"
     ]
    }
   ],
   "source": [
    "#%pip install lightfm\n",
    "from sklearn.preprocessing import LabelEncoder\n",
    "import numpy as np\n",
    "import pandas as pd\n",
    "\n",
    "from lightfm import LightFM\n",
    "from lightfm.data import Dataset\n",
    "from lightfm.cross_validation import random_train_test_split\n",
    "import matplotlib.pyplot as plt\n",
    "from lightfm.evaluation import precision_at_k, recall_at_k, auc_score"
   ],
   "metadata": {
    "collapsed": false,
    "ExecuteTime": {
     "end_time": "2023-11-12T13:19:32.246832Z",
     "start_time": "2023-11-12T13:19:32.080186Z"
    }
   },
   "id": "initial_id"
  },
  {
   "cell_type": "code",
   "execution_count": 2,
   "outputs": [
    {
     "data": {
      "text/plain": "         visitorid  itemid  event_mapped\n2401663     896066  454514             1\n914852      719369  322573             1\n878091      330286  309457             1\n2057153     325780  210086             1\n2084410     994917  309747             1\n...            ...     ...           ...\n2755539     871220  328467             1\n1610184     379782  211051             1\n1378131    1344604  437827             1\n850371     1243048   14349             1\n774246     1116709  330681             1\n\n[10000 rows x 3 columns]",
      "text/html": "<div>\n<style scoped>\n    .dataframe tbody tr th:only-of-type {\n        vertical-align: middle;\n    }\n\n    .dataframe tbody tr th {\n        vertical-align: top;\n    }\n\n    .dataframe thead th {\n        text-align: right;\n    }\n</style>\n<table border=\"1\" class=\"dataframe\">\n  <thead>\n    <tr style=\"text-align: right;\">\n      <th></th>\n      <th>visitorid</th>\n      <th>itemid</th>\n      <th>event_mapped</th>\n    </tr>\n  </thead>\n  <tbody>\n    <tr>\n      <th>2401663</th>\n      <td>896066</td>\n      <td>454514</td>\n      <td>1</td>\n    </tr>\n    <tr>\n      <th>914852</th>\n      <td>719369</td>\n      <td>322573</td>\n      <td>1</td>\n    </tr>\n    <tr>\n      <th>878091</th>\n      <td>330286</td>\n      <td>309457</td>\n      <td>1</td>\n    </tr>\n    <tr>\n      <th>2057153</th>\n      <td>325780</td>\n      <td>210086</td>\n      <td>1</td>\n    </tr>\n    <tr>\n      <th>2084410</th>\n      <td>994917</td>\n      <td>309747</td>\n      <td>1</td>\n    </tr>\n    <tr>\n      <th>...</th>\n      <td>...</td>\n      <td>...</td>\n      <td>...</td>\n    </tr>\n    <tr>\n      <th>2755539</th>\n      <td>871220</td>\n      <td>328467</td>\n      <td>1</td>\n    </tr>\n    <tr>\n      <th>1610184</th>\n      <td>379782</td>\n      <td>211051</td>\n      <td>1</td>\n    </tr>\n    <tr>\n      <th>1378131</th>\n      <td>1344604</td>\n      <td>437827</td>\n      <td>1</td>\n    </tr>\n    <tr>\n      <th>850371</th>\n      <td>1243048</td>\n      <td>14349</td>\n      <td>1</td>\n    </tr>\n    <tr>\n      <th>774246</th>\n      <td>1116709</td>\n      <td>330681</td>\n      <td>1</td>\n    </tr>\n  </tbody>\n</table>\n<p>10000 rows × 3 columns</p>\n</div>"
     },
     "metadata": {},
     "output_type": "display_data"
    },
    {
     "data": {
      "text/plain": "        itemid categoryid available  \\\n0            0        209         0   \n1            1       1114         1   \n2            2       1305         0   \n3            3       1171         0   \n4            4       1038         0   \n...        ...        ...       ...   \n417048  466862       1376         0   \n417049  466863        173         0   \n417050  466864        373         1   \n417051  466865        421         0   \n417052  466866       1164         0   \n\n                                               properties  \\\n0       [1036, 1056, 11, 112, 127, 139, 159, 177, 189,...   \n1       [0, 1036, 112, 159, 185, 202, 227, 238, 280, 2...   \n2       [1063, 112, 159, 202, 282, 283, 318, 332, 364,...   \n3       [1025, 1080, 112, 159, 202, 227, 250, 283, 30,...   \n4       [112, 115, 159, 202, 227, 28, 283, 33, 364, 59...   \n...                                                   ...   \n417048  [112, 139, 159, 186, 202, 227, 28, 283, 29, 34...   \n417049  [1014, 112, 159, 202, 227, 283, 364, 400, 47, ...   \n417050  [1036, 112, 152, 159, 202, 227, 230, 283, 348,...   \n417051  [1031, 112, 159, 202, 227, 277, 28, 283, 332, ...   \n417052  [112, 120, 128, 159, 202, 227, 28, 283, 320, 3...   \n\n                                          property_values  \n0       [1276750, n3.168 1144008, n15360.000 628176 n1...  \n1       [769062, 1154859, 679677, 519769, 769062, 1726...  \n2       [n396.000 145688, 679677, 519769, 648485 n6000...  \n3       [769062, 769062, 679677, 519769, 261419, 13057...  \n4       [679677, n24.000, 519769, 371058 71429, 588652...  \n...                                                   ...  \n417048  [679677, 769062, 519769, 575816 n432.000, 7173...  \n417049  [1075463, 679677, 519769, 1194687 550565 24255...  \n417050  [1154859, 679677, 1071492, 519769, 1262739 205...  \n417051  [1088309, 679677, 519769, 150169 780351 820477...  \n417052  [679677, 1057641, 590055 n24.000, 519769, 8924...  \n\n[417053 rows x 5 columns]",
      "text/html": "<div>\n<style scoped>\n    .dataframe tbody tr th:only-of-type {\n        vertical-align: middle;\n    }\n\n    .dataframe tbody tr th {\n        vertical-align: top;\n    }\n\n    .dataframe thead th {\n        text-align: right;\n    }\n</style>\n<table border=\"1\" class=\"dataframe\">\n  <thead>\n    <tr style=\"text-align: right;\">\n      <th></th>\n      <th>itemid</th>\n      <th>categoryid</th>\n      <th>available</th>\n      <th>properties</th>\n      <th>property_values</th>\n    </tr>\n  </thead>\n  <tbody>\n    <tr>\n      <th>0</th>\n      <td>0</td>\n      <td>209</td>\n      <td>0</td>\n      <td>[1036, 1056, 11, 112, 127, 139, 159, 177, 189,...</td>\n      <td>[1276750, n3.168 1144008, n15360.000 628176 n1...</td>\n    </tr>\n    <tr>\n      <th>1</th>\n      <td>1</td>\n      <td>1114</td>\n      <td>1</td>\n      <td>[0, 1036, 112, 159, 185, 202, 227, 238, 280, 2...</td>\n      <td>[769062, 1154859, 679677, 519769, 769062, 1726...</td>\n    </tr>\n    <tr>\n      <th>2</th>\n      <td>2</td>\n      <td>1305</td>\n      <td>0</td>\n      <td>[1063, 112, 159, 202, 282, 283, 318, 332, 364,...</td>\n      <td>[n396.000 145688, 679677, 519769, 648485 n6000...</td>\n    </tr>\n    <tr>\n      <th>3</th>\n      <td>3</td>\n      <td>1171</td>\n      <td>0</td>\n      <td>[1025, 1080, 112, 159, 202, 227, 250, 283, 30,...</td>\n      <td>[769062, 769062, 679677, 519769, 261419, 13057...</td>\n    </tr>\n    <tr>\n      <th>4</th>\n      <td>4</td>\n      <td>1038</td>\n      <td>0</td>\n      <td>[112, 115, 159, 202, 227, 28, 283, 33, 364, 59...</td>\n      <td>[679677, n24.000, 519769, 371058 71429, 588652...</td>\n    </tr>\n    <tr>\n      <th>...</th>\n      <td>...</td>\n      <td>...</td>\n      <td>...</td>\n      <td>...</td>\n      <td>...</td>\n    </tr>\n    <tr>\n      <th>417048</th>\n      <td>466862</td>\n      <td>1376</td>\n      <td>0</td>\n      <td>[112, 139, 159, 186, 202, 227, 28, 283, 29, 34...</td>\n      <td>[679677, 769062, 519769, 575816 n432.000, 7173...</td>\n    </tr>\n    <tr>\n      <th>417049</th>\n      <td>466863</td>\n      <td>173</td>\n      <td>0</td>\n      <td>[1014, 112, 159, 202, 227, 283, 364, 400, 47, ...</td>\n      <td>[1075463, 679677, 519769, 1194687 550565 24255...</td>\n    </tr>\n    <tr>\n      <th>417050</th>\n      <td>466864</td>\n      <td>373</td>\n      <td>1</td>\n      <td>[1036, 112, 152, 159, 202, 227, 230, 283, 348,...</td>\n      <td>[1154859, 679677, 1071492, 519769, 1262739 205...</td>\n    </tr>\n    <tr>\n      <th>417051</th>\n      <td>466865</td>\n      <td>421</td>\n      <td>0</td>\n      <td>[1031, 112, 159, 202, 227, 277, 28, 283, 332, ...</td>\n      <td>[1088309, 679677, 519769, 150169 780351 820477...</td>\n    </tr>\n    <tr>\n      <th>417052</th>\n      <td>466866</td>\n      <td>1164</td>\n      <td>0</td>\n      <td>[112, 120, 128, 159, 202, 227, 28, 283, 320, 3...</td>\n      <td>[679677, 1057641, 590055 n24.000, 519769, 8924...</td>\n    </tr>\n  </tbody>\n</table>\n<p>417053 rows × 5 columns</p>\n</div>"
     },
     "metadata": {},
     "output_type": "display_data"
    }
   ],
   "source": [
    "# Load data\n",
    "def map_event(event):\n",
    "    if event == 'view':\n",
    "        return 1\n",
    "    elif event == 'addtocart':\n",
    "        return 2\n",
    "    elif event == 'transaction':\n",
    "        return 3\n",
    "    else:\n",
    "        return 0\n",
    "\n",
    "basepath = '../../datasets/preprocessed_datasets/retailrocket/'\n",
    "events = pd.read_pickle(basepath +'events.pkl')\n",
    "events['event_mapped'] = events['event'].apply(map_event)\n",
    "events = events.drop(columns=['timestamp', 'event', 'transactionid', 'datetime'])\n",
    "events = events.sample(10000)\n",
    "item_properties = pd.read_pickle(basepath +'item_data_extracted.pkl')\n",
    "display(events, item_properties)"
   ],
   "metadata": {
    "collapsed": false,
    "ExecuteTime": {
     "end_time": "2023-11-12T13:19:59.549718Z",
     "start_time": "2023-11-12T13:19:32.248076Z"
    }
   },
   "id": "4e1075d201067a30"
  },
  {
   "cell_type": "code",
   "execution_count": 3,
   "outputs": [],
   "source": [
    "def flatten_column_and_get_unique_entries(column):\n",
    "    unique_elements = []\n",
    "\n",
    "    # Iterate through the DataFrame column\n",
    "    for int_list in column:\n",
    "        for item in list(int_list):\n",
    "            unique_elements.append(item)\n",
    "    # Convert the list to a set to remove duplicates\n",
    "    unique_integers_list = np.unique(unique_elements)\n",
    "    return unique_integers_list\n",
    "\n",
    "def flatten_column_and_get_unique_entries_for_property_values(column):\n",
    "    unique_elements = set()\n",
    "\n",
    "    # Iterate through the DataFrame column\n",
    "    for int_list in column:\n",
    "        for item in list(int_list):\n",
    "            unique_elements.update(item)\n",
    "    # Convert the list to a set to remove duplicates\n",
    "    unique_integers_list = list(unique_elements)\n",
    "    return unique_integers_list\n",
    "\n",
    "def convert_to_tuple(column):\n",
    "    return [tuple(x) for x in column]\n",
    "\n",
    "def convert_to_tuple_2(column):\n",
    "    return [tuple(str(x) for x in row) for row in column]\n",
    "\n",
    "\n",
    "all_product_ids = item_properties['itemid'].unique()\n",
    "all_categories = item_properties['categoryid'].unique()\n",
    "all_available = item_properties['available'].unique()\n",
    "all_product_properties = convert_to_tuple(item_properties['properties'])\n",
    "all_product_values = convert_to_tuple_2(item_properties['property_values'])\n",
    "\n",
    "items_that_have_an_event_but_are_not_in_all_products = [element for element in events.itemid.unique() if element not in all_product_ids]\n",
    "#drop all events with products, where no product data is available\n",
    "events.drop(events[events.itemid.isin(items_that_have_an_event_but_are_not_in_all_products)].index, inplace=True)"
   ],
   "metadata": {
    "collapsed": false,
    "ExecuteTime": {
     "end_time": "2023-11-12T13:20:49.573507Z",
     "start_time": "2023-11-12T13:19:59.551171Z"
    }
   },
   "id": "f68b609edbc8ae02"
  },
  {
   "cell_type": "code",
   "execution_count": 4,
   "outputs": [],
   "source": [
    "# all_product_properties, all_product_values"
   ],
   "metadata": {
    "collapsed": false,
    "ExecuteTime": {
     "end_time": "2023-11-12T13:20:49.575509Z",
     "start_time": "2023-11-12T13:20:49.573659Z"
    }
   },
   "id": "ae0321f7eb485d7f"
  },
  {
   "cell_type": "code",
   "execution_count": 5,
   "outputs": [],
   "source": [
    "merged_features = list(all_categories) + list(all_available)# + all_product_properties + all_product_values\n",
    "\n",
    "dataset = Dataset()\n",
    "dataset.fit(users=events['visitorid'].unique(), items=all_product_ids, item_features=merged_features)\n",
    "\n",
    "(interactions, weights) = dataset.build_interactions(\n",
    "    (row.visitorid, row.itemid, row.event_mapped)\n",
    "    for row in events.itertuples()\n",
    ")"
   ],
   "metadata": {
    "collapsed": false,
    "ExecuteTime": {
     "end_time": "2023-11-12T13:20:49.700097Z",
     "start_time": "2023-11-12T13:20:49.576576Z"
    }
   },
   "id": "e675c28aad603d82"
  },
  {
   "cell_type": "code",
   "execution_count": 6,
   "outputs": [],
   "source": [
    "# Ensure that your productNumber is in a list (making it an iterable)\n",
    "item_features = dataset.build_item_features((\n",
    "    (row.itemid, [row.categoryid, row.available])#, tuple(row.properties), tuple(str(x) for x in row.property_values)])\n",
    "    for row in item_properties.itertuples()))"
   ],
   "metadata": {
    "collapsed": false,
    "ExecuteTime": {
     "end_time": "2023-11-12T13:20:50.623509Z",
     "start_time": "2023-11-12T13:20:49.762906Z"
    }
   },
   "id": "105d4fc4805e43ed"
  },
  {
   "cell_type": "code",
   "execution_count": 7,
   "outputs": [],
   "source": [
    "random_state = 27\n",
    "num_epochs = 5\n",
    "model = LightFM(loss='bpr', random_state=random_state)\n",
    "# Split the interactions into training and testing sets\n",
    "train_interactions, test_interactions = random_train_test_split(interactions, test_percentage=0.2)"
   ],
   "metadata": {
    "collapsed": false,
    "ExecuteTime": {
     "end_time": "2023-11-12T13:20:50.631348Z",
     "start_time": "2023-11-12T13:20:50.624766Z"
    }
   },
   "id": "1be879266ca62dc3"
  },
  {
   "cell_type": "code",
   "execution_count": 8,
   "outputs": [],
   "source": [
    "plot_auc = False\n",
    "if not plot_auc:\n",
    "    model.fit(train_interactions, epochs=num_epochs, item_features=item_features, num_threads=4)\n",
    "else: \n",
    "    auc_by_epoch = []\n",
    "    epochs = []\n",
    "    \n",
    "    # Run several epochs, computing AUC after each epoch\n",
    "    for epoch in range(num_epochs):\n",
    "        model.fit_partial(train_interactions, epochs=1)\n",
    "        auc = auc_score(model, test_interactions).mean()\n",
    "        print(f\"Epoch {epoch}: AUC = {auc}\")\n",
    "    \n",
    "        epochs.append(epoch)\n",
    "        auc_by_epoch.append(auc)\n",
    "    # Plotting\n",
    "    plt.figure(figsize=(10, 5))\n",
    "    plt.plot(epochs, auc_by_epoch)\n",
    "    plt.xlabel('Epochs')\n",
    "    plt.ylabel('AUC')\n",
    "    plt.title('AUC by Epoch')\n",
    "    plt.show()"
   ],
   "metadata": {
    "collapsed": false,
    "ExecuteTime": {
     "end_time": "2023-11-12T13:20:50.732954Z",
     "start_time": "2023-11-12T13:20:50.628844Z"
    }
   },
   "id": "108bc2830f42593a"
  },
  {
   "cell_type": "markdown",
   "source": [],
   "metadata": {
    "collapsed": false
   },
   "id": "e650f2f826288c05"
  },
  {
   "cell_type": "code",
   "execution_count": 9,
   "outputs": [
    {
     "name": "stdout",
     "output_type": "stream",
     "text": [
      "train Precision: 0.0002\n",
      "train Recall: 0.0004\n",
      "train AUC: 0.5761\n"
     ]
    },
    {
     "data": {
      "text/plain": "'------'"
     },
     "metadata": {},
     "output_type": "display_data"
    },
    {
     "name": "stdout",
     "output_type": "stream",
     "text": [
      "test Precision: 0.0000\n",
      "test Recall: 0.0000\n",
      "test AUC: 0.5548\n"
     ]
    }
   ],
   "source": [
    "k_test = 2\n",
    "\n",
    "def test_model(model, interactions, k_test, item_features, prefix): \n",
    "    train_precision = precision_at_k(model, interactions, k=k_test, item_features=item_features).mean()\n",
    "    print(prefix + 'Precision: {:.4f}'.format(train_precision))\n",
    "    train_recall = recall_at_k(model, interactions, k=k_test, item_features=item_features).mean()\n",
    "    print(prefix + 'Recall: {:.4f}'.format(train_recall))\n",
    "    train_auc = auc_score(model, interactions, item_features=item_features).mean()\n",
    "    print(prefix + 'AUC: {:.4f}'.format(train_auc))\n",
    "    \n",
    "test_model(model, train_interactions, k_test, item_features, 'train ')\n",
    "display('------')\n",
    "test_model(model, test_interactions, k_test, item_features, 'test ')"
   ],
   "metadata": {
    "collapsed": false,
    "ExecuteTime": {
     "end_time": "2023-11-12T13:31:20.019291Z",
     "start_time": "2023-11-12T13:20:50.734710Z"
    }
   },
   "id": "b7ac83d356bed0b9"
  },
  {
   "cell_type": "code",
   "execution_count": 13,
   "outputs": [],
   "source": [
    "def predict_best_n_products(user_id, n = 5):\n",
    "    item_ids = events[events.visitorid ==  user_id].itemid.tolist()\n",
    "    user_mapping, _, item_mapping, _ = dataset.mapping()\n",
    "    print('user ' + str(user_id) + ' bought following items')\n",
    "    display(item_properties[item_properties.itemid.isin(item_ids) ])\n",
    "    \n",
    "    \n",
    "    # Convert the original user_id to internal user index\n",
    "    internal_user_id = user_mapping[user_id]\n",
    "    \n",
    "    all_item_ids = np.array(all_product_ids.tolist())\n",
    "    # Get the internal item indices for these IDs\n",
    "    internal_all_item_ids = np.array([item_mapping[item] for item in all_item_ids])\n",
    "    # Convert the list of item_ids that the user has already interacted with to internal item indices\n",
    "    internal_item_ids = [item_mapping[item] for item in item_ids]\n",
    "    # Remove the items the user has already interacted with\n",
    "    recommendable_item_ids = np.setdiff1d(internal_all_item_ids, internal_item_ids)\n",
    "    # Make predictions for the remaining items\n",
    "    scores = model.predict(internal_user_id, recommendable_item_ids)\n",
    "    indices = np.flip(np.argsort(scores)[-n:])\n",
    "    scores_sorted = [scores[i] for i in indices]\n",
    "    \n",
    "    top_recommended_item_internal = [recommendable_item_ids[i] for i in scores.argsort()[::-1]]\n",
    "    \n",
    "    top_recommended_items = []\n",
    "    count = 0\n",
    "    for internal_id in top_recommended_item_internal:\n",
    "        top_recommended_items.append((list(item_mapping.keys()) [list(item_mapping.values()).index(internal_id)]))\n",
    "        count += 1\n",
    "        if count > n: \n",
    "            break\n",
    "    \n",
    "    print('user got recommended following ' + str(n) + ' items: ')\n",
    "    display(item_properties[item_properties.itemid.isin(top_recommended_items)])\n",
    "    return scores_sorted, top_recommended_items\n"
   ],
   "metadata": {
    "collapsed": false,
    "ExecuteTime": {
     "end_time": "2023-11-12T13:35:22.104674Z",
     "start_time": "2023-11-12T13:35:22.088578Z"
    }
   },
   "id": "3321c415128d18c7"
  },
  {
   "cell_type": "code",
   "execution_count": 15,
   "outputs": [
    {
     "name": "stdout",
     "output_type": "stream",
     "text": [
      "user 325780 bought following items\n"
     ]
    },
    {
     "data": {
      "text/plain": "        itemid categoryid available  \\\n187747  210086        746         1   \n385170  431099        746         1   \n\n                                               properties  \\\n187747  [112, 159, 202, 227, 28, 283, 319, 364, 454, 4...   \n385170  [112, 159, 202, 227, 28, 283, 319, 364, 454, 4...   \n\n                                          property_values  \n187747  [679677, 519769, 822899, 722378 1263557 150169...  \n385170  [679677, 519769, 602490 857333, 1263557 150169...  ",
      "text/html": "<div>\n<style scoped>\n    .dataframe tbody tr th:only-of-type {\n        vertical-align: middle;\n    }\n\n    .dataframe tbody tr th {\n        vertical-align: top;\n    }\n\n    .dataframe thead th {\n        text-align: right;\n    }\n</style>\n<table border=\"1\" class=\"dataframe\">\n  <thead>\n    <tr style=\"text-align: right;\">\n      <th></th>\n      <th>itemid</th>\n      <th>categoryid</th>\n      <th>available</th>\n      <th>properties</th>\n      <th>property_values</th>\n    </tr>\n  </thead>\n  <tbody>\n    <tr>\n      <th>187747</th>\n      <td>210086</td>\n      <td>746</td>\n      <td>1</td>\n      <td>[112, 159, 202, 227, 28, 283, 319, 364, 454, 4...</td>\n      <td>[679677, 519769, 822899, 722378 1263557 150169...</td>\n    </tr>\n    <tr>\n      <th>385170</th>\n      <td>431099</td>\n      <td>746</td>\n      <td>1</td>\n      <td>[112, 159, 202, 227, 28, 283, 319, 364, 454, 4...</td>\n      <td>[679677, 519769, 602490 857333, 1263557 150169...</td>\n    </tr>\n  </tbody>\n</table>\n</div>"
     },
     "metadata": {},
     "output_type": "display_data"
    },
    {
     "name": "stdout",
     "output_type": "stream",
     "text": [
      "user got recommended following 5 items: \n"
     ]
    },
    {
     "data": {
      "text/plain": "        itemid categoryid available  \\\n10055    11279          5         1   \n59941    67045        333         1   \n232579  260317        494         0   \n303339  339464        643         1   \n329180  368403        196         1   \n362489  405676       1477         0   \n\n                                               properties  \\\n10055   [1036, 1066, 112, 159, 202, 227, 230, 283, 307...   \n59941   [1036, 112, 159, 202, 227, 28, 283, 328, 364, ...   \n232579  [1011, 1015, 1025, 1050, 112, 159, 161, 202, 2...   \n303339  [112, 159, 202, 227, 283, 348, 364, 6, 678, 76...   \n329180  [1036, 1050, 112, 159, 161, 202, 227, 253, 28,...   \n362489  [1004, 1080, 1093, 112, 144, 159, 202, 227, 24...   \n\n                                          property_values  \n10055   [726612, 1178208 n1200.000 424566, 679677, 519...  \n59941   [1154859, 679677, 519769, 439698, 1037547 1501...  \n232579  [769062, 769062, n4440.000 860720, 769062, 679...  \n303339  [679677, 519769, 1178336, 1091249 1284577 2308...  \n329180  [[726612, 726612, 726612, 726612, 726612, 7266...  \n362489  [992862 1197982, 215470 n16392.000, n72.000, 6...  ",
      "text/html": "<div>\n<style scoped>\n    .dataframe tbody tr th:only-of-type {\n        vertical-align: middle;\n    }\n\n    .dataframe tbody tr th {\n        vertical-align: top;\n    }\n\n    .dataframe thead th {\n        text-align: right;\n    }\n</style>\n<table border=\"1\" class=\"dataframe\">\n  <thead>\n    <tr style=\"text-align: right;\">\n      <th></th>\n      <th>itemid</th>\n      <th>categoryid</th>\n      <th>available</th>\n      <th>properties</th>\n      <th>property_values</th>\n    </tr>\n  </thead>\n  <tbody>\n    <tr>\n      <th>10055</th>\n      <td>11279</td>\n      <td>5</td>\n      <td>1</td>\n      <td>[1036, 1066, 112, 159, 202, 227, 230, 283, 307...</td>\n      <td>[726612, 1178208 n1200.000 424566, 679677, 519...</td>\n    </tr>\n    <tr>\n      <th>59941</th>\n      <td>67045</td>\n      <td>333</td>\n      <td>1</td>\n      <td>[1036, 112, 159, 202, 227, 28, 283, 328, 364, ...</td>\n      <td>[1154859, 679677, 519769, 439698, 1037547 1501...</td>\n    </tr>\n    <tr>\n      <th>232579</th>\n      <td>260317</td>\n      <td>494</td>\n      <td>0</td>\n      <td>[1011, 1015, 1025, 1050, 112, 159, 161, 202, 2...</td>\n      <td>[769062, 769062, n4440.000 860720, 769062, 679...</td>\n    </tr>\n    <tr>\n      <th>303339</th>\n      <td>339464</td>\n      <td>643</td>\n      <td>1</td>\n      <td>[112, 159, 202, 227, 283, 348, 364, 6, 678, 76...</td>\n      <td>[679677, 519769, 1178336, 1091249 1284577 2308...</td>\n    </tr>\n    <tr>\n      <th>329180</th>\n      <td>368403</td>\n      <td>196</td>\n      <td>1</td>\n      <td>[1036, 1050, 112, 159, 161, 202, 227, 253, 28,...</td>\n      <td>[[726612, 726612, 726612, 726612, 726612, 7266...</td>\n    </tr>\n    <tr>\n      <th>362489</th>\n      <td>405676</td>\n      <td>1477</td>\n      <td>0</td>\n      <td>[1004, 1080, 1093, 112, 144, 159, 202, 227, 24...</td>\n      <td>[992862 1197982, 215470 n16392.000, n72.000, 6...</td>\n    </tr>\n  </tbody>\n</table>\n</div>"
     },
     "metadata": {},
     "output_type": "display_data"
    },
    {
     "data": {
      "text/plain": "([-0.10675348, -0.108607516, -0.115086466, -0.121500954, -0.12364426],\n [11279, 339464, 405676, 368403, 260317, 67045])"
     },
     "metadata": {},
     "output_type": "display_data"
    }
   ],
   "source": [
    "user_id = 325780\n",
    "display(predict_best_n_products(user_id, 5))"
   ],
   "metadata": {
    "collapsed": false,
    "ExecuteTime": {
     "end_time": "2023-11-12T13:35:53.766660Z",
     "start_time": "2023-11-12T13:35:53.387128Z"
    }
   },
   "id": "7abbb7afd27af325"
  },
  {
   "cell_type": "markdown",
   "source": [],
   "metadata": {
    "collapsed": false
   },
   "id": "d19607e3cfd40724"
  },
  {
   "cell_type": "code",
   "execution_count": null,
   "outputs": [],
   "source": [],
   "metadata": {
    "collapsed": false,
    "ExecuteTime": {
     "end_time": "2023-11-12T13:31:20.123584Z",
     "start_time": "2023-11-12T13:31:20.122746Z"
    }
   },
   "id": "c4983fc31bc919a8"
  }
 ],
 "metadata": {
  "kernelspec": {
   "display_name": "Python 3",
   "language": "python",
   "name": "python3"
  },
  "language_info": {
   "codemirror_mode": {
    "name": "ipython",
    "version": 2
   },
   "file_extension": ".py",
   "mimetype": "text/x-python",
   "name": "python",
   "nbconvert_exporter": "python",
   "pygments_lexer": "ipython2",
   "version": "2.7.6"
  }
 },
 "nbformat": 4,
 "nbformat_minor": 5
}
