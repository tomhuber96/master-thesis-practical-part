{
 "cells": [
  {
   "cell_type": "code",
   "source": [
    "#%pip install lightfm\n",
    "from sklearn.preprocessing import LabelEncoder\n",
    "import numpy as np\n",
    "import pandas as pd\n",
    "\n",
    "from lightfm import LightFM\n",
    "from lightfm.data import Dataset\n",
    "from lightfm.cross_validation import random_train_test_split\n",
    "import matplotlib.pyplot as plt\n",
    "from lightfm.evaluation import precision_at_k, recall_at_k, auc_score"
   ],
   "metadata": {
    "collapsed": false,
    "ExecuteTime": {
     "end_time": "2024-05-25T10:27:24.916268Z",
     "start_time": "2024-05-25T10:27:24.914287Z"
    }
   },
   "id": "initial_id",
   "outputs": [],
   "execution_count": 18
  },
  {
   "cell_type": "code",
   "source": [
    "# Load data\n",
    "def map_event(event):\n",
    "    if event == 'view':\n",
    "        return 1\n",
    "    elif event == 'addtocart':\n",
    "        return 2\n",
    "    elif event == 'transaction':\n",
    "        return 3\n",
    "    else:\n",
    "        return 0\n",
    "\n",
    "basepath = '../../datasets/preprocessed_datasets/retailrocket/'\n",
    "events = pd.read_pickle(basepath +'events_10k.pkl')\n",
    "events['event_mapped'] = events['event'].apply(map_event)\n",
    "events = events.drop(columns=['timestamp', 'event', 'transactionid', 'datetime'])\n",
    "item_properties = pd.read_pickle(basepath +'item_data_extracted.pkl')\n",
    "item_properties = item_properties[item_properties.itemid.isin(events.itemid)]\n",
    "display(events, item_properties)"
   ],
   "metadata": {
    "collapsed": false,
    "ExecuteTime": {
     "end_time": "2024-05-25T10:27:54.465829Z",
     "start_time": "2024-05-25T10:27:24.916950Z"
    }
   },
   "id": "4e1075d201067a30",
   "outputs": [
    {
     "data": {
      "text/plain": [
       "         visitorid  itemid  event_mapped\n",
       "2482751    1046539  373805             1\n",
       "2204101    1383579  287405             1\n",
       "1964828     474264  153625             1\n",
       "2369299    1079433  287356             1\n",
       "640471      865010  113440             1\n",
       "...            ...     ...           ...\n",
       "560807      269455  459735             1\n",
       "1158627     228194  160499             1\n",
       "2074769     435897  346429             1\n",
       "1911438    1099927  261011             1\n",
       "1975046     747991  415715             1\n",
       "\n",
       "[10000 rows x 3 columns]"
      ],
      "text/html": [
       "<div>\n",
       "<style scoped>\n",
       "    .dataframe tbody tr th:only-of-type {\n",
       "        vertical-align: middle;\n",
       "    }\n",
       "\n",
       "    .dataframe tbody tr th {\n",
       "        vertical-align: top;\n",
       "    }\n",
       "\n",
       "    .dataframe thead th {\n",
       "        text-align: right;\n",
       "    }\n",
       "</style>\n",
       "<table border=\"1\" class=\"dataframe\">\n",
       "  <thead>\n",
       "    <tr style=\"text-align: right;\">\n",
       "      <th></th>\n",
       "      <th>visitorid</th>\n",
       "      <th>itemid</th>\n",
       "      <th>event_mapped</th>\n",
       "    </tr>\n",
       "  </thead>\n",
       "  <tbody>\n",
       "    <tr>\n",
       "      <th>2482751</th>\n",
       "      <td>1046539</td>\n",
       "      <td>373805</td>\n",
       "      <td>1</td>\n",
       "    </tr>\n",
       "    <tr>\n",
       "      <th>2204101</th>\n",
       "      <td>1383579</td>\n",
       "      <td>287405</td>\n",
       "      <td>1</td>\n",
       "    </tr>\n",
       "    <tr>\n",
       "      <th>1964828</th>\n",
       "      <td>474264</td>\n",
       "      <td>153625</td>\n",
       "      <td>1</td>\n",
       "    </tr>\n",
       "    <tr>\n",
       "      <th>2369299</th>\n",
       "      <td>1079433</td>\n",
       "      <td>287356</td>\n",
       "      <td>1</td>\n",
       "    </tr>\n",
       "    <tr>\n",
       "      <th>640471</th>\n",
       "      <td>865010</td>\n",
       "      <td>113440</td>\n",
       "      <td>1</td>\n",
       "    </tr>\n",
       "    <tr>\n",
       "      <th>...</th>\n",
       "      <td>...</td>\n",
       "      <td>...</td>\n",
       "      <td>...</td>\n",
       "    </tr>\n",
       "    <tr>\n",
       "      <th>560807</th>\n",
       "      <td>269455</td>\n",
       "      <td>459735</td>\n",
       "      <td>1</td>\n",
       "    </tr>\n",
       "    <tr>\n",
       "      <th>1158627</th>\n",
       "      <td>228194</td>\n",
       "      <td>160499</td>\n",
       "      <td>1</td>\n",
       "    </tr>\n",
       "    <tr>\n",
       "      <th>2074769</th>\n",
       "      <td>435897</td>\n",
       "      <td>346429</td>\n",
       "      <td>1</td>\n",
       "    </tr>\n",
       "    <tr>\n",
       "      <th>1911438</th>\n",
       "      <td>1099927</td>\n",
       "      <td>261011</td>\n",
       "      <td>1</td>\n",
       "    </tr>\n",
       "    <tr>\n",
       "      <th>1975046</th>\n",
       "      <td>747991</td>\n",
       "      <td>415715</td>\n",
       "      <td>1</td>\n",
       "    </tr>\n",
       "  </tbody>\n",
       "</table>\n",
       "<p>10000 rows × 3 columns</p>\n",
       "</div>"
      ]
     },
     "metadata": {},
     "output_type": "display_data"
    },
    {
     "data": {
      "text/plain": [
       "        itemid categoryid available  \\\n",
       "6            6       1091         1   \n",
       "31          32       1173         0   \n",
       "40          42         84         1   \n",
       "137        147        646         1   \n",
       "153        163        407         0   \n",
       "...        ...        ...       ...   \n",
       "416890  466685       1400         1   \n",
       "416941  466740        967         0   \n",
       "416960  466760       1549         0   \n",
       "417047  466861       1051         0   \n",
       "417050  466864        373         1   \n",
       "\n",
       "                                               properties  \\\n",
       "6       [112, 159, 19, 202, 227, 28, 283, 364, 521, 55...   \n",
       "31      [1036, 1052, 1066, 112, 159, 202, 227, 230, 28...   \n",
       "40      [1036, 1052, 1066, 112, 159, 202, 227, 230, 28...   \n",
       "137     [1092, 112, 159, 202, 283, 348, 364, 461, 491,...   \n",
       "153     [112, 159, 202, 227, 283, 364, 376, 397, 483, ...   \n",
       "...                                                   ...   \n",
       "416890  [102, 1028, 112, 159, 202, 227, 275, 28, 283, ...   \n",
       "416941  [1008, 1036, 112, 120, 140, 159, 202, 227, 283...   \n",
       "416960  [1036, 1066, 112, 159, 202, 210, 227, 230, 283...   \n",
       "417047  [1036, 1066, 112, 159, 202, 227, 230, 283, 300...   \n",
       "417050  [1036, 112, 152, 159, 202, 227, 230, 283, 348,...   \n",
       "\n",
       "                                          property_values  \n",
       "6       [679677, 519769, 1297729 n72.000 309206, 60935...  \n",
       "31      [726612, 1116693, n973.200 424566, 679677, 519...  \n",
       "40      [726612, 1116693, n68.400 424566, 679677, 5197...  \n",
       "137     [291010, 679677, 519769, 229273 388993 1246541...  \n",
       "153     [679677, 519769, 62992 n7440.000 925243, 92933...  \n",
       "...                                                   ...  \n",
       "416890  [769062, 769062, 679677, 519769, 1109436 45934...  \n",
       "416941  [124229 n336.000 1144008, 1154859, 679677, 115...  \n",
       "416960  [1318567, n720.000 424566, 679677, 519769, 123...  \n",
       "417047  [1318567, 732011 424566, 679677, 519769, 10769...  \n",
       "417050  [1154859, 679677, 1071492, 519769, 1262739 205...  \n",
       "\n",
       "[7705 rows x 5 columns]"
      ],
      "text/html": [
       "<div>\n",
       "<style scoped>\n",
       "    .dataframe tbody tr th:only-of-type {\n",
       "        vertical-align: middle;\n",
       "    }\n",
       "\n",
       "    .dataframe tbody tr th {\n",
       "        vertical-align: top;\n",
       "    }\n",
       "\n",
       "    .dataframe thead th {\n",
       "        text-align: right;\n",
       "    }\n",
       "</style>\n",
       "<table border=\"1\" class=\"dataframe\">\n",
       "  <thead>\n",
       "    <tr style=\"text-align: right;\">\n",
       "      <th></th>\n",
       "      <th>itemid</th>\n",
       "      <th>categoryid</th>\n",
       "      <th>available</th>\n",
       "      <th>properties</th>\n",
       "      <th>property_values</th>\n",
       "    </tr>\n",
       "  </thead>\n",
       "  <tbody>\n",
       "    <tr>\n",
       "      <th>6</th>\n",
       "      <td>6</td>\n",
       "      <td>1091</td>\n",
       "      <td>1</td>\n",
       "      <td>[112, 159, 19, 202, 227, 28, 283, 364, 521, 55...</td>\n",
       "      <td>[679677, 519769, 1297729 n72.000 309206, 60935...</td>\n",
       "    </tr>\n",
       "    <tr>\n",
       "      <th>31</th>\n",
       "      <td>32</td>\n",
       "      <td>1173</td>\n",
       "      <td>0</td>\n",
       "      <td>[1036, 1052, 1066, 112, 159, 202, 227, 230, 28...</td>\n",
       "      <td>[726612, 1116693, n973.200 424566, 679677, 519...</td>\n",
       "    </tr>\n",
       "    <tr>\n",
       "      <th>40</th>\n",
       "      <td>42</td>\n",
       "      <td>84</td>\n",
       "      <td>1</td>\n",
       "      <td>[1036, 1052, 1066, 112, 159, 202, 227, 230, 28...</td>\n",
       "      <td>[726612, 1116693, n68.400 424566, 679677, 5197...</td>\n",
       "    </tr>\n",
       "    <tr>\n",
       "      <th>137</th>\n",
       "      <td>147</td>\n",
       "      <td>646</td>\n",
       "      <td>1</td>\n",
       "      <td>[1092, 112, 159, 202, 283, 348, 364, 461, 491,...</td>\n",
       "      <td>[291010, 679677, 519769, 229273 388993 1246541...</td>\n",
       "    </tr>\n",
       "    <tr>\n",
       "      <th>153</th>\n",
       "      <td>163</td>\n",
       "      <td>407</td>\n",
       "      <td>0</td>\n",
       "      <td>[112, 159, 202, 227, 283, 364, 376, 397, 483, ...</td>\n",
       "      <td>[679677, 519769, 62992 n7440.000 925243, 92933...</td>\n",
       "    </tr>\n",
       "    <tr>\n",
       "      <th>...</th>\n",
       "      <td>...</td>\n",
       "      <td>...</td>\n",
       "      <td>...</td>\n",
       "      <td>...</td>\n",
       "      <td>...</td>\n",
       "    </tr>\n",
       "    <tr>\n",
       "      <th>416890</th>\n",
       "      <td>466685</td>\n",
       "      <td>1400</td>\n",
       "      <td>1</td>\n",
       "      <td>[102, 1028, 112, 159, 202, 227, 275, 28, 283, ...</td>\n",
       "      <td>[769062, 769062, 679677, 519769, 1109436 45934...</td>\n",
       "    </tr>\n",
       "    <tr>\n",
       "      <th>416941</th>\n",
       "      <td>466740</td>\n",
       "      <td>967</td>\n",
       "      <td>0</td>\n",
       "      <td>[1008, 1036, 112, 120, 140, 159, 202, 227, 283...</td>\n",
       "      <td>[124229 n336.000 1144008, 1154859, 679677, 115...</td>\n",
       "    </tr>\n",
       "    <tr>\n",
       "      <th>416960</th>\n",
       "      <td>466760</td>\n",
       "      <td>1549</td>\n",
       "      <td>0</td>\n",
       "      <td>[1036, 1066, 112, 159, 202, 210, 227, 230, 283...</td>\n",
       "      <td>[1318567, n720.000 424566, 679677, 519769, 123...</td>\n",
       "    </tr>\n",
       "    <tr>\n",
       "      <th>417047</th>\n",
       "      <td>466861</td>\n",
       "      <td>1051</td>\n",
       "      <td>0</td>\n",
       "      <td>[1036, 1066, 112, 159, 202, 227, 230, 283, 300...</td>\n",
       "      <td>[1318567, 732011 424566, 679677, 519769, 10769...</td>\n",
       "    </tr>\n",
       "    <tr>\n",
       "      <th>417050</th>\n",
       "      <td>466864</td>\n",
       "      <td>373</td>\n",
       "      <td>1</td>\n",
       "      <td>[1036, 112, 152, 159, 202, 227, 230, 283, 348,...</td>\n",
       "      <td>[1154859, 679677, 1071492, 519769, 1262739 205...</td>\n",
       "    </tr>\n",
       "  </tbody>\n",
       "</table>\n",
       "<p>7705 rows × 5 columns</p>\n",
       "</div>"
      ]
     },
     "metadata": {},
     "output_type": "display_data"
    }
   ],
   "execution_count": 19
  },
  {
   "cell_type": "code",
   "source": [
    "events[events['event_mapped'] == 1]"
   ],
   "metadata": {
    "collapsed": false,
    "ExecuteTime": {
     "end_time": "2024-05-25T10:27:54.471305Z",
     "start_time": "2024-05-25T10:27:54.466547Z"
    }
   },
   "id": "1e4fb125f6848c01",
   "outputs": [
    {
     "data": {
      "text/plain": [
       "         visitorid  itemid  event_mapped\n",
       "2482751    1046539  373805             1\n",
       "2204101    1383579  287405             1\n",
       "1964828     474264  153625             1\n",
       "2369299    1079433  287356             1\n",
       "640471      865010  113440             1\n",
       "...            ...     ...           ...\n",
       "560807      269455  459735             1\n",
       "1158627     228194  160499             1\n",
       "2074769     435897  346429             1\n",
       "1911438    1099927  261011             1\n",
       "1975046     747991  415715             1\n",
       "\n",
       "[9670 rows x 3 columns]"
      ],
      "text/html": [
       "<div>\n",
       "<style scoped>\n",
       "    .dataframe tbody tr th:only-of-type {\n",
       "        vertical-align: middle;\n",
       "    }\n",
       "\n",
       "    .dataframe tbody tr th {\n",
       "        vertical-align: top;\n",
       "    }\n",
       "\n",
       "    .dataframe thead th {\n",
       "        text-align: right;\n",
       "    }\n",
       "</style>\n",
       "<table border=\"1\" class=\"dataframe\">\n",
       "  <thead>\n",
       "    <tr style=\"text-align: right;\">\n",
       "      <th></th>\n",
       "      <th>visitorid</th>\n",
       "      <th>itemid</th>\n",
       "      <th>event_mapped</th>\n",
       "    </tr>\n",
       "  </thead>\n",
       "  <tbody>\n",
       "    <tr>\n",
       "      <th>2482751</th>\n",
       "      <td>1046539</td>\n",
       "      <td>373805</td>\n",
       "      <td>1</td>\n",
       "    </tr>\n",
       "    <tr>\n",
       "      <th>2204101</th>\n",
       "      <td>1383579</td>\n",
       "      <td>287405</td>\n",
       "      <td>1</td>\n",
       "    </tr>\n",
       "    <tr>\n",
       "      <th>1964828</th>\n",
       "      <td>474264</td>\n",
       "      <td>153625</td>\n",
       "      <td>1</td>\n",
       "    </tr>\n",
       "    <tr>\n",
       "      <th>2369299</th>\n",
       "      <td>1079433</td>\n",
       "      <td>287356</td>\n",
       "      <td>1</td>\n",
       "    </tr>\n",
       "    <tr>\n",
       "      <th>640471</th>\n",
       "      <td>865010</td>\n",
       "      <td>113440</td>\n",
       "      <td>1</td>\n",
       "    </tr>\n",
       "    <tr>\n",
       "      <th>...</th>\n",
       "      <td>...</td>\n",
       "      <td>...</td>\n",
       "      <td>...</td>\n",
       "    </tr>\n",
       "    <tr>\n",
       "      <th>560807</th>\n",
       "      <td>269455</td>\n",
       "      <td>459735</td>\n",
       "      <td>1</td>\n",
       "    </tr>\n",
       "    <tr>\n",
       "      <th>1158627</th>\n",
       "      <td>228194</td>\n",
       "      <td>160499</td>\n",
       "      <td>1</td>\n",
       "    </tr>\n",
       "    <tr>\n",
       "      <th>2074769</th>\n",
       "      <td>435897</td>\n",
       "      <td>346429</td>\n",
       "      <td>1</td>\n",
       "    </tr>\n",
       "    <tr>\n",
       "      <th>1911438</th>\n",
       "      <td>1099927</td>\n",
       "      <td>261011</td>\n",
       "      <td>1</td>\n",
       "    </tr>\n",
       "    <tr>\n",
       "      <th>1975046</th>\n",
       "      <td>747991</td>\n",
       "      <td>415715</td>\n",
       "      <td>1</td>\n",
       "    </tr>\n",
       "  </tbody>\n",
       "</table>\n",
       "<p>9670 rows × 3 columns</p>\n",
       "</div>"
      ]
     },
     "execution_count": 20,
     "metadata": {},
     "output_type": "execute_result"
    }
   ],
   "execution_count": 20
  },
  {
   "cell_type": "markdown",
   "source": [],
   "metadata": {
    "collapsed": false
   },
   "id": "f5039d92ab167567"
  },
  {
   "cell_type": "code",
   "source": [
    "item_properties[item_properties['itemid'].isin([363736, 420943, 174719])]"
   ],
   "metadata": {
    "collapsed": false,
    "ExecuteTime": {
     "end_time": "2024-05-25T10:27:54.478169Z",
     "start_time": "2024-05-25T10:27:54.472005Z"
    }
   },
   "id": "b69265664c41a3b9",
   "outputs": [
    {
     "data": {
      "text/plain": [
       "        itemid categoryid available  \\\n",
       "156152  174719       1073         0   \n",
       "376089  420943       1384         1   \n",
       "\n",
       "                                               properties  \\\n",
       "156152  [112, 159, 202, 283, 348, 364, 506, 551, 6, 67...   \n",
       "376089  [1009, 1025, 112, 124, 159, 202, 227, 283, 348...   \n",
       "\n",
       "                                          property_values  \n",
       "156152  [679677, 519769, 145210 182495 632043 1250065,...  \n",
       "376089  [769062, n4800.000 337002, 679677, 873905, 519...  "
      ],
      "text/html": [
       "<div>\n",
       "<style scoped>\n",
       "    .dataframe tbody tr th:only-of-type {\n",
       "        vertical-align: middle;\n",
       "    }\n",
       "\n",
       "    .dataframe tbody tr th {\n",
       "        vertical-align: top;\n",
       "    }\n",
       "\n",
       "    .dataframe thead th {\n",
       "        text-align: right;\n",
       "    }\n",
       "</style>\n",
       "<table border=\"1\" class=\"dataframe\">\n",
       "  <thead>\n",
       "    <tr style=\"text-align: right;\">\n",
       "      <th></th>\n",
       "      <th>itemid</th>\n",
       "      <th>categoryid</th>\n",
       "      <th>available</th>\n",
       "      <th>properties</th>\n",
       "      <th>property_values</th>\n",
       "    </tr>\n",
       "  </thead>\n",
       "  <tbody>\n",
       "    <tr>\n",
       "      <th>156152</th>\n",
       "      <td>174719</td>\n",
       "      <td>1073</td>\n",
       "      <td>0</td>\n",
       "      <td>[112, 159, 202, 283, 348, 364, 506, 551, 6, 67...</td>\n",
       "      <td>[679677, 519769, 145210 182495 632043 1250065,...</td>\n",
       "    </tr>\n",
       "    <tr>\n",
       "      <th>376089</th>\n",
       "      <td>420943</td>\n",
       "      <td>1384</td>\n",
       "      <td>1</td>\n",
       "      <td>[1009, 1025, 112, 124, 159, 202, 227, 283, 348...</td>\n",
       "      <td>[769062, n4800.000 337002, 679677, 873905, 519...</td>\n",
       "    </tr>\n",
       "  </tbody>\n",
       "</table>\n",
       "</div>"
      ]
     },
     "execution_count": 21,
     "metadata": {},
     "output_type": "execute_result"
    }
   ],
   "execution_count": 21
  },
  {
   "cell_type": "code",
   "source": [
    "def flatten_column_and_get_unique_entries(column):\n",
    "    unique_elements = []\n",
    "\n",
    "    # Iterate through the DataFrame column\n",
    "    for int_list in column:\n",
    "        for item in list(int_list):\n",
    "            unique_elements.append(item)\n",
    "    # Convert the list to a set to remove duplicates\n",
    "    unique_integers_list = np.unique(unique_elements)\n",
    "    return unique_integers_list\n",
    "\n",
    "def flatten_column_and_get_unique_entries_for_property_values(column):\n",
    "    unique_elements = set()\n",
    "\n",
    "    # Iterate through the DataFrame column\n",
    "    for int_list in column:\n",
    "        for item in list(int_list):\n",
    "            unique_elements.update(item)\n",
    "    # Convert the list to a set to remove duplicates\n",
    "    unique_integers_list = list(unique_elements)\n",
    "    return unique_integers_list\n",
    "\n",
    "def convert_to_tuple(column):\n",
    "    return [tuple(x) for x in column]\n",
    "\n",
    "def convert_to_tuple_2(column):\n",
    "    return [tuple(str(x) for x in row) for row in column]\n",
    "\n",
    "\n",
    "all_product_ids = item_properties['itemid'].unique()\n",
    "all_categories = item_properties['categoryid'].unique()\n",
    "all_available = item_properties['available'].unique()\n",
    "all_product_properties = convert_to_tuple(item_properties['properties'])\n",
    "all_product_values = convert_to_tuple_2(item_properties['property_values'])\n",
    "\n",
    "items_that_have_an_event_but_are_not_in_all_products = [element for element in events.itemid.unique() if element not in all_product_ids]\n",
    "#drop all events with products, where no product data is available\n",
    "events.drop(events[events.itemid.isin(items_that_have_an_event_but_are_not_in_all_products)].index, inplace=True)"
   ],
   "metadata": {
    "collapsed": false,
    "ExecuteTime": {
     "end_time": "2024-05-25T10:27:56.092289Z",
     "start_time": "2024-05-25T10:27:54.479012Z"
    }
   },
   "id": "f68b609edbc8ae02",
   "outputs": [],
   "execution_count": 22
  },
  {
   "cell_type": "code",
   "source": [
    "# all_product_properties, all_product_values"
   ],
   "metadata": {
    "collapsed": false,
    "ExecuteTime": {
     "end_time": "2024-05-25T10:27:56.095123Z",
     "start_time": "2024-05-25T10:27:56.093037Z"
    }
   },
   "id": "ae0321f7eb485d7f",
   "outputs": [],
   "execution_count": 23
  },
  {
   "cell_type": "code",
   "source": [
    "merged_features = list(all_categories) + list(all_available)# + all_product_properties + all_product_values\n",
    "\n",
    "dataset = Dataset()\n",
    "dataset.fit(users=events['visitorid'].unique(), items=all_product_ids, item_features=merged_features)\n",
    "\n",
    "(interactions, weights) = dataset.build_interactions(\n",
    "    (row.visitorid, row.itemid, row.event_mapped)\n",
    "    for row in events.itertuples()\n",
    ")"
   ],
   "metadata": {
    "collapsed": false,
    "ExecuteTime": {
     "end_time": "2024-05-25T10:27:56.118668Z",
     "start_time": "2024-05-25T10:27:56.095829Z"
    }
   },
   "id": "e675c28aad603d82",
   "outputs": [],
   "execution_count": 24
  },
  {
   "cell_type": "code",
   "source": [
    "# Ensure that your productNumber is in a list (making it an iterable)\n",
    "item_features = dataset.build_item_features((\n",
    "    (row.itemid, [row.categoryid, row.available])#, tuple(row.properties), tuple(str(x) for x in row.property_values)])\n",
    "    for row in item_properties.itertuples()))"
   ],
   "metadata": {
    "collapsed": false,
    "ExecuteTime": {
     "end_time": "2024-05-25T10:27:56.143313Z",
     "start_time": "2024-05-25T10:27:56.119760Z"
    }
   },
   "id": "105d4fc4805e43ed",
   "outputs": [],
   "execution_count": 25
  },
  {
   "cell_type": "code",
   "source": [
    "random_state = 27\n",
    "num_epochs = 10\n",
    "model = model = LightFM(loss='bpr', random_state=random_state, learning_rate=0.01, item_alpha=1e-6, user_alpha=1e-6)\n",
    "# Split the interactions into training and testing sets\n",
    "train_interactions, test_interactions = random_train_test_split(interactions, test_percentage=0.2)"
   ],
   "metadata": {
    "collapsed": false,
    "ExecuteTime": {
     "end_time": "2024-05-25T10:27:56.146787Z",
     "start_time": "2024-05-25T10:27:56.143983Z"
    }
   },
   "id": "1be879266ca62dc3",
   "outputs": [],
   "execution_count": 26
  },
  {
   "cell_type": "code",
   "source": [
    "plot_auc = False\n",
    "if not plot_auc:\n",
    "    model.fit(train_interactions, epochs=num_epochs, item_features=item_features, num_threads=4)\n",
    "else: \n",
    "    auc_by_epoch = []\n",
    "    epochs = []\n",
    "    \n",
    "    # Run several epochs, computing AUC after each epoch\n",
    "    for epoch in range(num_epochs):\n",
    "        model.fit_partial(train_interactions, epochs=1)\n",
    "        auc = auc_score(model, test_interactions).mean()\n",
    "        print(f\"Epoch {epoch}: AUC = {auc}\")\n",
    "    \n",
    "        epochs.append(epoch)\n",
    "        auc_by_epoch.append(auc)\n",
    "    # Plotting\n",
    "    plt.figure(figsize=(10, 5))\n",
    "    plt.plot(epochs, auc_by_epoch)\n",
    "    plt.xlabel('Epochs')\n",
    "    plt.ylabel('AUC')\n",
    "    plt.title('AUC by Epoch')\n",
    "    plt.show()"
   ],
   "metadata": {
    "collapsed": false,
    "ExecuteTime": {
     "end_time": "2024-05-25T10:27:56.214375Z",
     "start_time": "2024-05-25T10:27:56.147552Z"
    }
   },
   "id": "108bc2830f42593a",
   "outputs": [],
   "execution_count": 27
  },
  {
   "cell_type": "markdown",
   "source": [],
   "metadata": {
    "collapsed": false
   },
   "id": "e650f2f826288c05"
  },
  {
   "cell_type": "code",
   "source": [
    "k_test = 2\n",
    "\n",
    "def test_model(model, interactions, k_test, item_features, prefix): \n",
    "    train_precision = precision_at_k(model, interactions, k=k_test, item_features=item_features).mean()\n",
    "    print(prefix + 'Precision: {:.4f}'.format(train_precision))\n",
    "    train_recall = recall_at_k(model, interactions, k=k_test, item_features=item_features).mean()\n",
    "    print(prefix + 'Recall: {:.4f}'.format(train_recall))\n",
    "    train_auc = auc_score(model, interactions, item_features=item_features).mean()\n",
    "    print(prefix + 'AUC: {:.4f}'.format(train_auc))\n",
    "    \n",
    "# test_model(model, train_interactions, k_test, item_features, 'train ')\n",
    "# display('------')\n",
    "test_model(model, test_interactions, k_test, item_features, 'test ')"
   ],
   "metadata": {
    "collapsed": false,
    "ExecuteTime": {
     "end_time": "2024-05-25T10:27:58.767398Z",
     "start_time": "2024-05-25T10:27:56.215380Z"
    }
   },
   "id": "b7ac83d356bed0b9",
   "outputs": [
    {
     "name": "stdout",
     "output_type": "stream",
     "text": [
      "test Precision: 0.0000\n",
      "test Recall: 0.0000\n",
      "test AUC: 0.4954\n"
     ]
    }
   ],
   "execution_count": 28
  },
  {
   "cell_type": "code",
   "source": [
    "def predict_best_n_products(user_id, n = 5, no_outputs = False):\n",
    "    item_ids = events[events.visitorid ==  user_id].itemid.tolist()\n",
    "    user_mapping, _, item_mapping, _ = dataset.mapping()\n",
    "    if not no_outputs:\n",
    "        print('user ' + str(user_id) + ' bought following items')\n",
    "        display(item_properties[item_properties.itemid.isin(item_ids) ])\n",
    "    \n",
    "    \n",
    "    # Convert the original user_id to internal user index\n",
    "    internal_user_id = user_mapping[user_id]\n",
    "    \n",
    "    all_item_ids = np.array(all_product_ids.tolist())\n",
    "    # Get the internal item indices for these IDs\n",
    "    internal_all_item_ids = np.array([item_mapping[item] for item in all_item_ids])\n",
    "    # Convert the list of item_ids that the user has already interacted with to internal item indices\n",
    "    internal_item_ids = [item_mapping[item] for item in item_ids]\n",
    "    # Remove the items the user has already interacted with\n",
    "    recommendable_item_ids = np.setdiff1d(internal_all_item_ids, internal_item_ids)\n",
    "    # Make predictions for the remaining items\n",
    "    scores = model.predict(internal_user_id, recommendable_item_ids)\n",
    "    indices = np.flip(np.argsort(scores)[-n:])\n",
    "    scores_sorted = [scores[i] for i in indices]\n",
    "    \n",
    "    top_recommended_item_internal = [recommendable_item_ids[i] for i in scores.argsort()[::-1]]\n",
    "    \n",
    "    top_recommended_items = []\n",
    "    count = 0\n",
    "    for internal_id in top_recommended_item_internal:\n",
    "        top_recommended_items.append((list(item_mapping.keys()) [list(item_mapping.values()).index(internal_id)]))\n",
    "        count += 1\n",
    "        if count >= n: \n",
    "            break\n",
    "    \n",
    "    if not no_outputs:\n",
    "        print('user got recommended following ' + str(n) + ' items: ')\n",
    "        display(item_properties[item_properties.itemid.isin(top_recommended_items)])\n",
    "    return scores_sorted, top_recommended_items\n"
   ],
   "metadata": {
    "collapsed": false,
    "ExecuteTime": {
     "end_time": "2024-05-25T10:27:58.773151Z",
     "start_time": "2024-05-25T10:27:58.768250Z"
    }
   },
   "id": "3321c415128d18c7",
   "outputs": [],
   "execution_count": 29
  },
  {
   "cell_type": "code",
   "source": [
    "user_id = 325780\n",
    "display(predict_best_n_products(user_id, 5))"
   ],
   "metadata": {
    "collapsed": false,
    "ExecuteTime": {
     "end_time": "2024-05-25T10:27:58.791606Z",
     "start_time": "2024-05-25T10:27:58.774078Z"
    }
   },
   "id": "7abbb7afd27af325",
   "outputs": [
    {
     "name": "stdout",
     "output_type": "stream",
     "text": [
      "user 325780 bought following items\n"
     ]
    },
    {
     "data": {
      "text/plain": [
       "        itemid categoryid available  \\\n",
       "385170  431099        746         1   \n",
       "\n",
       "                                               properties  \\\n",
       "385170  [112, 159, 202, 227, 28, 283, 319, 364, 454, 4...   \n",
       "\n",
       "                                          property_values  \n",
       "385170  [679677, 519769, 602490 857333, 1263557 150169...  "
      ],
      "text/html": [
       "<div>\n",
       "<style scoped>\n",
       "    .dataframe tbody tr th:only-of-type {\n",
       "        vertical-align: middle;\n",
       "    }\n",
       "\n",
       "    .dataframe tbody tr th {\n",
       "        vertical-align: top;\n",
       "    }\n",
       "\n",
       "    .dataframe thead th {\n",
       "        text-align: right;\n",
       "    }\n",
       "</style>\n",
       "<table border=\"1\" class=\"dataframe\">\n",
       "  <thead>\n",
       "    <tr style=\"text-align: right;\">\n",
       "      <th></th>\n",
       "      <th>itemid</th>\n",
       "      <th>categoryid</th>\n",
       "      <th>available</th>\n",
       "      <th>properties</th>\n",
       "      <th>property_values</th>\n",
       "    </tr>\n",
       "  </thead>\n",
       "  <tbody>\n",
       "    <tr>\n",
       "      <th>385170</th>\n",
       "      <td>431099</td>\n",
       "      <td>746</td>\n",
       "      <td>1</td>\n",
       "      <td>[112, 159, 202, 227, 28, 283, 319, 364, 454, 4...</td>\n",
       "      <td>[679677, 519769, 602490 857333, 1263557 150169...</td>\n",
       "    </tr>\n",
       "  </tbody>\n",
       "</table>\n",
       "</div>"
      ]
     },
     "metadata": {},
     "output_type": "display_data"
    },
    {
     "name": "stdout",
     "output_type": "stream",
     "text": [
      "user got recommended following 5 items: \n"
     ]
    },
    {
     "data": {
      "text/plain": [
       "        itemid categoryid available  \\\n",
       "4855      5411        789         1   \n",
       "26978    30217       1228         0   \n",
       "181432  202976         56         0   \n",
       "311339  348455       1231         0   \n",
       "399106  446755        484         1   \n",
       "\n",
       "                                               properties  \\\n",
       "4855    [112, 135, 159, 193, 202, 234, 283, 336, 348, ...   \n",
       "26978   [1036, 105, 112, 159, 202, 227, 28, 283, 348, ...   \n",
       "181432  [104, 112, 123, 159, 188, 202, 227, 283, 335, ...   \n",
       "311339  [1036, 112, 159, 160, 202, 225, 227, 283, 364,...   \n",
       "399106  [112, 159, 202, 227, 28, 283, 293, 30, 348, 36...   \n",
       "\n",
       "                                          property_values  \n",
       "4855    [679677, 1116693, 519769, 1116693, 596532, 111...  \n",
       "26978   [1318567, 769062, 679677, 519769, 232403, 8051...  \n",
       "181432  [1297729 n1200.000 10317, 679677, 769062, 5197...  \n",
       "311339  [961511, 679677, 519769, 769062, 1018570 10714...  \n",
       "399106  [679677, 519769, 750871 n2592.000 1299781, 435...  "
      ],
      "text/html": [
       "<div>\n",
       "<style scoped>\n",
       "    .dataframe tbody tr th:only-of-type {\n",
       "        vertical-align: middle;\n",
       "    }\n",
       "\n",
       "    .dataframe tbody tr th {\n",
       "        vertical-align: top;\n",
       "    }\n",
       "\n",
       "    .dataframe thead th {\n",
       "        text-align: right;\n",
       "    }\n",
       "</style>\n",
       "<table border=\"1\" class=\"dataframe\">\n",
       "  <thead>\n",
       "    <tr style=\"text-align: right;\">\n",
       "      <th></th>\n",
       "      <th>itemid</th>\n",
       "      <th>categoryid</th>\n",
       "      <th>available</th>\n",
       "      <th>properties</th>\n",
       "      <th>property_values</th>\n",
       "    </tr>\n",
       "  </thead>\n",
       "  <tbody>\n",
       "    <tr>\n",
       "      <th>4855</th>\n",
       "      <td>5411</td>\n",
       "      <td>789</td>\n",
       "      <td>1</td>\n",
       "      <td>[112, 135, 159, 193, 202, 234, 283, 336, 348, ...</td>\n",
       "      <td>[679677, 1116693, 519769, 1116693, 596532, 111...</td>\n",
       "    </tr>\n",
       "    <tr>\n",
       "      <th>26978</th>\n",
       "      <td>30217</td>\n",
       "      <td>1228</td>\n",
       "      <td>0</td>\n",
       "      <td>[1036, 105, 112, 159, 202, 227, 28, 283, 348, ...</td>\n",
       "      <td>[1318567, 769062, 679677, 519769, 232403, 8051...</td>\n",
       "    </tr>\n",
       "    <tr>\n",
       "      <th>181432</th>\n",
       "      <td>202976</td>\n",
       "      <td>56</td>\n",
       "      <td>0</td>\n",
       "      <td>[104, 112, 123, 159, 188, 202, 227, 283, 335, ...</td>\n",
       "      <td>[1297729 n1200.000 10317, 679677, 769062, 5197...</td>\n",
       "    </tr>\n",
       "    <tr>\n",
       "      <th>311339</th>\n",
       "      <td>348455</td>\n",
       "      <td>1231</td>\n",
       "      <td>0</td>\n",
       "      <td>[1036, 112, 159, 160, 202, 225, 227, 283, 364,...</td>\n",
       "      <td>[961511, 679677, 519769, 769062, 1018570 10714...</td>\n",
       "    </tr>\n",
       "    <tr>\n",
       "      <th>399106</th>\n",
       "      <td>446755</td>\n",
       "      <td>484</td>\n",
       "      <td>1</td>\n",
       "      <td>[112, 159, 202, 227, 28, 283, 293, 30, 348, 36...</td>\n",
       "      <td>[679677, 519769, 750871 n2592.000 1299781, 435...</td>\n",
       "    </tr>\n",
       "  </tbody>\n",
       "</table>\n",
       "</div>"
      ]
     },
     "metadata": {},
     "output_type": "display_data"
    },
    {
     "data": {
      "text/plain": [
       "([-0.01597132, -0.017958352, -0.018576628, -0.018824417, -0.019815294],\n",
       " [5411, 446755, 348455, 202976, 30217])"
      ]
     },
     "metadata": {},
     "output_type": "display_data"
    }
   ],
   "execution_count": 30
  },
  {
   "cell_type": "markdown",
   "source": [],
   "metadata": {
    "collapsed": false
   },
   "id": "d19607e3cfd40724"
  },
  {
   "cell_type": "code",
   "source": [
    "from collections import defaultdict\n",
    "\n",
    "# Assuming 'interaction_data.customer_id.unique()' gives us a list of unique user IDs\n",
    "# and 'predict_best_n_products(user, n)' returns the top 'n' recommended product IDs for a given user\n",
    "\n",
    "# Step 1: Store Recommended Items\n",
    "recommended_products = defaultdict(list)\n",
    "print('calculating recommendations for ' + str(len(events.visitorid.unique())) + ' users')\n",
    "count = 0\n",
    "all_scores = []\n",
    "for user in events.visitorid.unique():\n",
    "    scores, top_recommended_items = predict_best_n_products(user, 5, True)\n",
    "    recommended_products[user].extend(top_recommended_items)\n",
    "    all_scores.extend(scores)\n",
    "    count += 1\n",
    "    if count % 1000 == 0:\n",
    "        print('calculated recommendations for ' + str(count) + ' users')\n"
   ],
   "metadata": {
    "collapsed": false,
    "ExecuteTime": {
     "end_time": "2024-05-25T10:28:33.814128Z",
     "start_time": "2024-05-25T10:27:58.792985Z"
    }
   },
   "id": "c4983fc31bc919a8",
   "outputs": [
    {
     "name": "stdout",
     "output_type": "stream",
     "text": [
      "calculating recommendations for 8684 users\n",
      "calculated recommendations for 1000 users\n",
      "calculated recommendations for 2000 users\n",
      "calculated recommendations for 3000 users\n",
      "calculated recommendations for 4000 users\n",
      "calculated recommendations for 5000 users\n",
      "calculated recommendations for 6000 users\n",
      "calculated recommendations for 7000 users\n",
      "calculated recommendations for 8000 users\n"
     ]
    }
   ],
   "execution_count": 31
  },
  {
   "cell_type": "code",
   "source": [
    "# Step 2: Calculate Catalog Coverage\n",
    "unique_recommended_items = set()\n",
    "for user, items in recommended_products.items():\n",
    "    unique_recommended_items.update(items)\n",
    "\n",
    "catalog_coverage = len(unique_recommended_items) / len(item_properties.itemid.unique())  # Replace with your catalog size\n",
    "\n",
    "# Step 3: Calculate Item Coverage\n",
    "item_recommendation_counts = defaultdict(int)\n",
    "for items in recommended_products.values():\n",
    "    for item in items:\n",
    "        item_recommendation_counts[item] += 1\n",
    "\n",
    "average_item_coverage = sum(item_recommendation_counts.values()) / len(recommended_products)\n",
    "\n",
    "# Print the results\n",
    "print(f\"Catalog Coverage: {catalog_coverage:.2f}\")\n",
    "print(f\"Item Coverage: {average_item_coverage:.2f}\")\n",
    "print(f\"Average Score: {np.mean(all_scores):.2f}, Min Score: {np.min(all_scores):.2f}, Max Score: {np.max(all_scores):.2f}\")"
   ],
   "metadata": {
    "collapsed": false,
    "ExecuteTime": {
     "end_time": "2024-05-25T10:28:33.828078Z",
     "start_time": "2024-05-25T10:28:33.815041Z"
    }
   },
   "id": "8d2eb989d9f29784",
   "outputs": [
    {
     "name": "stdout",
     "output_type": "stream",
     "text": [
      "Catalog Coverage: 0.03\n",
      "Item Coverage: 5.00\n",
      "Average Score: -0.01, Min Score: -0.26, Max Score: 0.03\n"
     ]
    }
   ],
   "execution_count": 32
  },
  {
   "cell_type": "code",
   "source": [
    "print(f\"recommended items {len(unique_recommended_items)}; num of items: {len(item_properties.itemid.unique())}\")"
   ],
   "metadata": {
    "collapsed": false,
    "ExecuteTime": {
     "end_time": "2024-05-25T10:28:33.830921Z",
     "start_time": "2024-05-25T10:28:33.828886Z"
    }
   },
   "id": "a89b44b9735b619a",
   "outputs": [
    {
     "name": "stdout",
     "output_type": "stream",
     "text": [
      "recommended items 219; num of items: 7705\n"
     ]
    }
   ],
   "execution_count": 33
  },
  {
   "cell_type": "code",
   "source": [
    "import pickle\n",
    "\n",
    "#with open('../../models/retailrocket/lightfm_full_dataset.pkl', 'wb') as file:\n",
    "#    pickle.dump(model, file)\n"
   ],
   "metadata": {
    "collapsed": false,
    "ExecuteTime": {
     "end_time": "2024-05-25T10:28:33.832998Z",
     "start_time": "2024-05-25T10:28:33.831447Z"
    }
   },
   "id": "bbeb9e673a1ce8df",
   "outputs": [],
   "execution_count": 34
  },
  {
   "metadata": {
    "ExecuteTime": {
     "end_time": "2024-05-25T10:28:33.834894Z",
     "start_time": "2024-05-25T10:28:33.833674Z"
    }
   },
   "cell_type": "code",
   "source": "",
   "id": "251ce8b875264e6d",
   "outputs": [],
   "execution_count": 34
  }
 ],
 "metadata": {
  "kernelspec": {
   "display_name": "Python 3",
   "language": "python",
   "name": "python3"
  },
  "language_info": {
   "codemirror_mode": {
    "name": "ipython",
    "version": 2
   },
   "file_extension": ".py",
   "mimetype": "text/x-python",
   "name": "python",
   "nbconvert_exporter": "python",
   "pygments_lexer": "ipython2",
   "version": "2.7.6"
  }
 },
 "nbformat": 4,
 "nbformat_minor": 5
}
