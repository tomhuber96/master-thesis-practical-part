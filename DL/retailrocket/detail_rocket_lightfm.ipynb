{
 "cells": [
  {
   "cell_type": "code",
   "execution_count": 1,
   "outputs": [
    {
     "name": "stderr",
     "output_type": "stream",
     "text": [
      "/Users/thomashuber/miniconda3/envs/m1-master-thesis/lib/python3.9/site-packages/lightfm/_lightfm_fast.py:9: UserWarning: LightFM was compiled without OpenMP support. Only a single thread will be used.\n",
      "  warnings.warn(\n"
     ]
    }
   ],
   "source": [
    "#%pip install lightfm\n",
    "from sklearn.preprocessing import LabelEncoder\n",
    "import numpy as np\n",
    "import pandas as pd\n",
    "\n",
    "from lightfm import LightFM\n",
    "from lightfm.data import Dataset\n",
    "from lightfm.cross_validation import random_train_test_split\n",
    "import matplotlib.pyplot as plt\n",
    "from lightfm.evaluation import precision_at_k, recall_at_k, auc_score"
   ],
   "metadata": {
    "collapsed": false,
    "ExecuteTime": {
     "end_time": "2023-11-26T13:47:01.946272Z",
     "start_time": "2023-11-26T13:47:01.724654Z"
    }
   },
   "id": "initial_id"
  },
  {
   "cell_type": "code",
   "execution_count": 2,
   "outputs": [
    {
     "data": {
      "text/plain": "         visitorid  itemid  event_mapped\n0           257597  355908             1\n1           992329  248676             1\n2           111016  318965             1\n3           483717  253185             1\n4           951259  367447             1\n...            ...     ...           ...\n2756096     591435  261427             1\n2756097     762376  115946             1\n2756098    1251746   78144             1\n2756099    1184451  283392             1\n2756100     199536  152913             1\n\n[2755641 rows x 3 columns]",
      "text/html": "<div>\n<style scoped>\n    .dataframe tbody tr th:only-of-type {\n        vertical-align: middle;\n    }\n\n    .dataframe tbody tr th {\n        vertical-align: top;\n    }\n\n    .dataframe thead th {\n        text-align: right;\n    }\n</style>\n<table border=\"1\" class=\"dataframe\">\n  <thead>\n    <tr style=\"text-align: right;\">\n      <th></th>\n      <th>visitorid</th>\n      <th>itemid</th>\n      <th>event_mapped</th>\n    </tr>\n  </thead>\n  <tbody>\n    <tr>\n      <th>0</th>\n      <td>257597</td>\n      <td>355908</td>\n      <td>1</td>\n    </tr>\n    <tr>\n      <th>1</th>\n      <td>992329</td>\n      <td>248676</td>\n      <td>1</td>\n    </tr>\n    <tr>\n      <th>2</th>\n      <td>111016</td>\n      <td>318965</td>\n      <td>1</td>\n    </tr>\n    <tr>\n      <th>3</th>\n      <td>483717</td>\n      <td>253185</td>\n      <td>1</td>\n    </tr>\n    <tr>\n      <th>4</th>\n      <td>951259</td>\n      <td>367447</td>\n      <td>1</td>\n    </tr>\n    <tr>\n      <th>...</th>\n      <td>...</td>\n      <td>...</td>\n      <td>...</td>\n    </tr>\n    <tr>\n      <th>2756096</th>\n      <td>591435</td>\n      <td>261427</td>\n      <td>1</td>\n    </tr>\n    <tr>\n      <th>2756097</th>\n      <td>762376</td>\n      <td>115946</td>\n      <td>1</td>\n    </tr>\n    <tr>\n      <th>2756098</th>\n      <td>1251746</td>\n      <td>78144</td>\n      <td>1</td>\n    </tr>\n    <tr>\n      <th>2756099</th>\n      <td>1184451</td>\n      <td>283392</td>\n      <td>1</td>\n    </tr>\n    <tr>\n      <th>2756100</th>\n      <td>199536</td>\n      <td>152913</td>\n      <td>1</td>\n    </tr>\n  </tbody>\n</table>\n<p>2755641 rows × 3 columns</p>\n</div>"
     },
     "metadata": {},
     "output_type": "display_data"
    },
    {
     "data": {
      "text/plain": "        itemid categoryid available  \\\n0            0        209         0   \n1            1       1114         1   \n2            2       1305         0   \n3            3       1171         0   \n4            4       1038         0   \n...        ...        ...       ...   \n417048  466862       1376         0   \n417049  466863        173         0   \n417050  466864        373         1   \n417051  466865        421         0   \n417052  466866       1164         0   \n\n                                               properties  \\\n0       [1036, 1056, 11, 112, 127, 139, 159, 177, 189,...   \n1       [0, 1036, 112, 159, 185, 202, 227, 238, 280, 2...   \n2       [1063, 112, 159, 202, 282, 283, 318, 332, 364,...   \n3       [1025, 1080, 112, 159, 202, 227, 250, 283, 30,...   \n4       [112, 115, 159, 202, 227, 28, 283, 33, 364, 59...   \n...                                                   ...   \n417048  [112, 139, 159, 186, 202, 227, 28, 283, 29, 34...   \n417049  [1014, 112, 159, 202, 227, 283, 364, 400, 47, ...   \n417050  [1036, 112, 152, 159, 202, 227, 230, 283, 348,...   \n417051  [1031, 112, 159, 202, 227, 277, 28, 283, 332, ...   \n417052  [112, 120, 128, 159, 202, 227, 28, 283, 320, 3...   \n\n                                          property_values  \n0       [1276750, n3.168 1144008, n15360.000 628176 n1...  \n1       [769062, 1154859, 679677, 519769, 769062, 1726...  \n2       [n396.000 145688, 679677, 519769, 648485 n6000...  \n3       [769062, 769062, 679677, 519769, 261419, 13057...  \n4       [679677, n24.000, 519769, 371058 71429, 588652...  \n...                                                   ...  \n417048  [679677, 769062, 519769, 575816 n432.000, 7173...  \n417049  [1075463, 679677, 519769, 1194687 550565 24255...  \n417050  [1154859, 679677, 1071492, 519769, 1262739 205...  \n417051  [1088309, 679677, 519769, 150169 780351 820477...  \n417052  [679677, 1057641, 590055 n24.000, 519769, 8924...  \n\n[417053 rows x 5 columns]",
      "text/html": "<div>\n<style scoped>\n    .dataframe tbody tr th:only-of-type {\n        vertical-align: middle;\n    }\n\n    .dataframe tbody tr th {\n        vertical-align: top;\n    }\n\n    .dataframe thead th {\n        text-align: right;\n    }\n</style>\n<table border=\"1\" class=\"dataframe\">\n  <thead>\n    <tr style=\"text-align: right;\">\n      <th></th>\n      <th>itemid</th>\n      <th>categoryid</th>\n      <th>available</th>\n      <th>properties</th>\n      <th>property_values</th>\n    </tr>\n  </thead>\n  <tbody>\n    <tr>\n      <th>0</th>\n      <td>0</td>\n      <td>209</td>\n      <td>0</td>\n      <td>[1036, 1056, 11, 112, 127, 139, 159, 177, 189,...</td>\n      <td>[1276750, n3.168 1144008, n15360.000 628176 n1...</td>\n    </tr>\n    <tr>\n      <th>1</th>\n      <td>1</td>\n      <td>1114</td>\n      <td>1</td>\n      <td>[0, 1036, 112, 159, 185, 202, 227, 238, 280, 2...</td>\n      <td>[769062, 1154859, 679677, 519769, 769062, 1726...</td>\n    </tr>\n    <tr>\n      <th>2</th>\n      <td>2</td>\n      <td>1305</td>\n      <td>0</td>\n      <td>[1063, 112, 159, 202, 282, 283, 318, 332, 364,...</td>\n      <td>[n396.000 145688, 679677, 519769, 648485 n6000...</td>\n    </tr>\n    <tr>\n      <th>3</th>\n      <td>3</td>\n      <td>1171</td>\n      <td>0</td>\n      <td>[1025, 1080, 112, 159, 202, 227, 250, 283, 30,...</td>\n      <td>[769062, 769062, 679677, 519769, 261419, 13057...</td>\n    </tr>\n    <tr>\n      <th>4</th>\n      <td>4</td>\n      <td>1038</td>\n      <td>0</td>\n      <td>[112, 115, 159, 202, 227, 28, 283, 33, 364, 59...</td>\n      <td>[679677, n24.000, 519769, 371058 71429, 588652...</td>\n    </tr>\n    <tr>\n      <th>...</th>\n      <td>...</td>\n      <td>...</td>\n      <td>...</td>\n      <td>...</td>\n      <td>...</td>\n    </tr>\n    <tr>\n      <th>417048</th>\n      <td>466862</td>\n      <td>1376</td>\n      <td>0</td>\n      <td>[112, 139, 159, 186, 202, 227, 28, 283, 29, 34...</td>\n      <td>[679677, 769062, 519769, 575816 n432.000, 7173...</td>\n    </tr>\n    <tr>\n      <th>417049</th>\n      <td>466863</td>\n      <td>173</td>\n      <td>0</td>\n      <td>[1014, 112, 159, 202, 227, 283, 364, 400, 47, ...</td>\n      <td>[1075463, 679677, 519769, 1194687 550565 24255...</td>\n    </tr>\n    <tr>\n      <th>417050</th>\n      <td>466864</td>\n      <td>373</td>\n      <td>1</td>\n      <td>[1036, 112, 152, 159, 202, 227, 230, 283, 348,...</td>\n      <td>[1154859, 679677, 1071492, 519769, 1262739 205...</td>\n    </tr>\n    <tr>\n      <th>417051</th>\n      <td>466865</td>\n      <td>421</td>\n      <td>0</td>\n      <td>[1031, 112, 159, 202, 227, 277, 28, 283, 332, ...</td>\n      <td>[1088309, 679677, 519769, 150169 780351 820477...</td>\n    </tr>\n    <tr>\n      <th>417052</th>\n      <td>466866</td>\n      <td>1164</td>\n      <td>0</td>\n      <td>[112, 120, 128, 159, 202, 227, 28, 283, 320, 3...</td>\n      <td>[679677, 1057641, 590055 n24.000, 519769, 8924...</td>\n    </tr>\n  </tbody>\n</table>\n<p>417053 rows × 5 columns</p>\n</div>"
     },
     "metadata": {},
     "output_type": "display_data"
    }
   ],
   "source": [
    "# Load data\n",
    "def map_event(event):\n",
    "    if event == 'view':\n",
    "        return 1\n",
    "    elif event == 'addtocart':\n",
    "        return 2\n",
    "    elif event == 'transaction':\n",
    "        return 3\n",
    "    else:\n",
    "        return 0\n",
    "\n",
    "basepath = '../../datasets/preprocessed_datasets/retailrocket/'\n",
    "events = pd.read_pickle(basepath +'events.pkl')\n",
    "events['event_mapped'] = events['event'].apply(map_event)\n",
    "events = events.drop(columns=['timestamp', 'event', 'transactionid', 'datetime'])\n",
    "item_properties = pd.read_pickle(basepath +'item_data_extracted.pkl')\n",
    "display(events, item_properties)"
   ],
   "metadata": {
    "collapsed": false,
    "ExecuteTime": {
     "end_time": "2023-11-26T13:47:28.791802Z",
     "start_time": "2023-11-26T13:47:01.868798Z"
    }
   },
   "id": "4e1075d201067a30"
  },
  {
   "cell_type": "code",
   "execution_count": 3,
   "outputs": [
    {
     "data": {
      "text/plain": "         visitorid  itemid  event_mapped\n0           257597  355908             1\n1           992329  248676             1\n2           111016  318965             1\n3           483717  253185             1\n4           951259  367447             1\n...            ...     ...           ...\n2756096     591435  261427             1\n2756097     762376  115946             1\n2756098    1251746   78144             1\n2756099    1184451  283392             1\n2756100     199536  152913             1\n\n[2664218 rows x 3 columns]",
      "text/html": "<div>\n<style scoped>\n    .dataframe tbody tr th:only-of-type {\n        vertical-align: middle;\n    }\n\n    .dataframe tbody tr th {\n        vertical-align: top;\n    }\n\n    .dataframe thead th {\n        text-align: right;\n    }\n</style>\n<table border=\"1\" class=\"dataframe\">\n  <thead>\n    <tr style=\"text-align: right;\">\n      <th></th>\n      <th>visitorid</th>\n      <th>itemid</th>\n      <th>event_mapped</th>\n    </tr>\n  </thead>\n  <tbody>\n    <tr>\n      <th>0</th>\n      <td>257597</td>\n      <td>355908</td>\n      <td>1</td>\n    </tr>\n    <tr>\n      <th>1</th>\n      <td>992329</td>\n      <td>248676</td>\n      <td>1</td>\n    </tr>\n    <tr>\n      <th>2</th>\n      <td>111016</td>\n      <td>318965</td>\n      <td>1</td>\n    </tr>\n    <tr>\n      <th>3</th>\n      <td>483717</td>\n      <td>253185</td>\n      <td>1</td>\n    </tr>\n    <tr>\n      <th>4</th>\n      <td>951259</td>\n      <td>367447</td>\n      <td>1</td>\n    </tr>\n    <tr>\n      <th>...</th>\n      <td>...</td>\n      <td>...</td>\n      <td>...</td>\n    </tr>\n    <tr>\n      <th>2756096</th>\n      <td>591435</td>\n      <td>261427</td>\n      <td>1</td>\n    </tr>\n    <tr>\n      <th>2756097</th>\n      <td>762376</td>\n      <td>115946</td>\n      <td>1</td>\n    </tr>\n    <tr>\n      <th>2756098</th>\n      <td>1251746</td>\n      <td>78144</td>\n      <td>1</td>\n    </tr>\n    <tr>\n      <th>2756099</th>\n      <td>1184451</td>\n      <td>283392</td>\n      <td>1</td>\n    </tr>\n    <tr>\n      <th>2756100</th>\n      <td>199536</td>\n      <td>152913</td>\n      <td>1</td>\n    </tr>\n  </tbody>\n</table>\n<p>2664218 rows × 3 columns</p>\n</div>"
     },
     "execution_count": 3,
     "metadata": {},
     "output_type": "execute_result"
    }
   ],
   "source": [
    "events[events['event_mapped'] == 1]"
   ],
   "metadata": {
    "collapsed": false,
    "ExecuteTime": {
     "end_time": "2023-11-26T13:47:28.886126Z",
     "start_time": "2023-11-26T13:47:28.790545Z"
    }
   },
   "id": "1e4fb125f6848c01"
  },
  {
   "cell_type": "markdown",
   "source": [],
   "metadata": {
    "collapsed": false
   },
   "id": "f5039d92ab167567"
  },
  {
   "cell_type": "code",
   "execution_count": 4,
   "outputs": [
    {
     "data": {
      "text/plain": "        itemid categoryid available  \\\n156152  174719       1073         0   \n325008  363736       1483         0   \n376089  420943       1384         1   \n\n                                               properties  \\\n156152  [112, 159, 202, 283, 348, 364, 506, 551, 6, 67...   \n325008  [1, 1016, 1032, 1036, 1037, 1079, 1090, 112, 1...   \n376089  [1009, 1025, 112, 124, 159, 202, 227, 283, 348...   \n\n                                          property_values  \n156152  [679677, 519769, 145210 182495 632043 1250065,...  \n325008  [1200832, 1086273 n1200.000 628176 n1200.000 1...  \n376089  [769062, n4800.000 337002, 679677, 873905, 519...  ",
      "text/html": "<div>\n<style scoped>\n    .dataframe tbody tr th:only-of-type {\n        vertical-align: middle;\n    }\n\n    .dataframe tbody tr th {\n        vertical-align: top;\n    }\n\n    .dataframe thead th {\n        text-align: right;\n    }\n</style>\n<table border=\"1\" class=\"dataframe\">\n  <thead>\n    <tr style=\"text-align: right;\">\n      <th></th>\n      <th>itemid</th>\n      <th>categoryid</th>\n      <th>available</th>\n      <th>properties</th>\n      <th>property_values</th>\n    </tr>\n  </thead>\n  <tbody>\n    <tr>\n      <th>156152</th>\n      <td>174719</td>\n      <td>1073</td>\n      <td>0</td>\n      <td>[112, 159, 202, 283, 348, 364, 506, 551, 6, 67...</td>\n      <td>[679677, 519769, 145210 182495 632043 1250065,...</td>\n    </tr>\n    <tr>\n      <th>325008</th>\n      <td>363736</td>\n      <td>1483</td>\n      <td>0</td>\n      <td>[1, 1016, 1032, 1036, 1037, 1079, 1090, 112, 1...</td>\n      <td>[1200832, 1086273 n1200.000 628176 n1200.000 1...</td>\n    </tr>\n    <tr>\n      <th>376089</th>\n      <td>420943</td>\n      <td>1384</td>\n      <td>1</td>\n      <td>[1009, 1025, 112, 124, 159, 202, 227, 283, 348...</td>\n      <td>[769062, n4800.000 337002, 679677, 873905, 519...</td>\n    </tr>\n  </tbody>\n</table>\n</div>"
     },
     "execution_count": 4,
     "metadata": {},
     "output_type": "execute_result"
    }
   ],
   "source": [
    "item_properties[item_properties['itemid'].isin([363736, 420943, 174719])]"
   ],
   "metadata": {
    "collapsed": false,
    "ExecuteTime": {
     "end_time": "2023-11-26T13:47:28.896644Z",
     "start_time": "2023-11-26T13:47:28.830234Z"
    }
   },
   "id": "b69265664c41a3b9"
  },
  {
   "cell_type": "code",
   "execution_count": 5,
   "outputs": [],
   "source": [
    "def flatten_column_and_get_unique_entries(column):\n",
    "    unique_elements = []\n",
    "\n",
    "    # Iterate through the DataFrame column\n",
    "    for int_list in column:\n",
    "        for item in list(int_list):\n",
    "            unique_elements.append(item)\n",
    "    # Convert the list to a set to remove duplicates\n",
    "    unique_integers_list = np.unique(unique_elements)\n",
    "    return unique_integers_list\n",
    "\n",
    "def flatten_column_and_get_unique_entries_for_property_values(column):\n",
    "    unique_elements = set()\n",
    "\n",
    "    # Iterate through the DataFrame column\n",
    "    for int_list in column:\n",
    "        for item in list(int_list):\n",
    "            unique_elements.update(item)\n",
    "    # Convert the list to a set to remove duplicates\n",
    "    unique_integers_list = list(unique_elements)\n",
    "    return unique_integers_list\n",
    "\n",
    "def convert_to_tuple(column):\n",
    "    return [tuple(x) for x in column]\n",
    "\n",
    "def convert_to_tuple_2(column):\n",
    "    return [tuple(str(x) for x in row) for row in column]\n",
    "\n",
    "\n",
    "all_product_ids = item_properties['itemid'].unique()\n",
    "all_categories = item_properties['categoryid'].unique()\n",
    "all_available = item_properties['available'].unique()\n",
    "all_product_properties = convert_to_tuple(item_properties['properties'])\n",
    "all_product_values = convert_to_tuple_2(item_properties['property_values'])\n",
    "\n",
    "items_that_have_an_event_but_are_not_in_all_products = [element for element in events.itemid.unique() if element not in all_product_ids]\n",
    "#drop all events with products, where no product data is available\n",
    "events.drop(events[events.itemid.isin(items_that_have_an_event_but_are_not_in_all_products)].index, inplace=True)"
   ],
   "metadata": {
    "collapsed": false,
    "ExecuteTime": {
     "end_time": "2023-11-26T13:48:30.222525Z",
     "start_time": "2023-11-26T13:47:28.845650Z"
    }
   },
   "id": "f68b609edbc8ae02"
  },
  {
   "cell_type": "code",
   "execution_count": 6,
   "outputs": [],
   "source": [
    "# all_product_properties, all_product_values"
   ],
   "metadata": {
    "collapsed": false,
    "ExecuteTime": {
     "end_time": "2023-11-26T13:48:30.225040Z",
     "start_time": "2023-11-26T13:48:30.222702Z"
    }
   },
   "id": "ae0321f7eb485d7f"
  },
  {
   "cell_type": "code",
   "execution_count": 7,
   "outputs": [],
   "source": [
    "merged_features = list(all_categories) + list(all_available)# + all_product_properties + all_product_values\n",
    "\n",
    "dataset = Dataset()\n",
    "dataset.fit(users=events['visitorid'].unique(), items=all_product_ids, item_features=merged_features)\n",
    "\n",
    "(interactions, weights) = dataset.build_interactions(\n",
    "    (row.visitorid, row.itemid, row.event_mapped)\n",
    "    for row in events.itertuples()\n",
    ")"
   ],
   "metadata": {
    "collapsed": false,
    "ExecuteTime": {
     "end_time": "2023-11-26T13:48:34.830398Z",
     "start_time": "2023-11-26T13:48:30.226779Z"
    }
   },
   "id": "e675c28aad603d82"
  },
  {
   "cell_type": "code",
   "execution_count": 8,
   "outputs": [],
   "source": [
    "# Ensure that your productNumber is in a list (making it an iterable)\n",
    "item_features = dataset.build_item_features((\n",
    "    (row.itemid, [row.categoryid, row.available])#, tuple(row.properties), tuple(str(x) for x in row.property_values)])\n",
    "    for row in item_properties.itertuples()))"
   ],
   "metadata": {
    "collapsed": false,
    "ExecuteTime": {
     "end_time": "2023-11-26T13:48:35.787107Z",
     "start_time": "2023-11-26T13:48:34.855212Z"
    }
   },
   "id": "105d4fc4805e43ed"
  },
  {
   "cell_type": "code",
   "execution_count": 9,
   "outputs": [],
   "source": [
    "random_state = 27\n",
    "num_epochs = 10\n",
    "model = model = LightFM(loss='bpr', random_state=random_state, learning_rate=0.01, item_alpha=1e-6, user_alpha=1e-6)\n",
    "# Split the interactions into training and testing sets\n",
    "train_interactions, test_interactions = random_train_test_split(interactions, test_percentage=0.2)"
   ],
   "metadata": {
    "collapsed": false,
    "ExecuteTime": {
     "end_time": "2023-11-26T13:48:35.852147Z",
     "start_time": "2023-11-26T13:48:35.788684Z"
    }
   },
   "id": "1be879266ca62dc3"
  },
  {
   "cell_type": "code",
   "execution_count": 10,
   "outputs": [],
   "source": [
    "plot_auc = False\n",
    "if not plot_auc:\n",
    "    model.fit(train_interactions, epochs=num_epochs, item_features=item_features, num_threads=4)\n",
    "else: \n",
    "    auc_by_epoch = []\n",
    "    epochs = []\n",
    "    \n",
    "    # Run several epochs, computing AUC after each epoch\n",
    "    for epoch in range(num_epochs):\n",
    "        model.fit_partial(train_interactions, epochs=1)\n",
    "        auc = auc_score(model, test_interactions).mean()\n",
    "        print(f\"Epoch {epoch}: AUC = {auc}\")\n",
    "    \n",
    "        epochs.append(epoch)\n",
    "        auc_by_epoch.append(auc)\n",
    "    # Plotting\n",
    "    plt.figure(figsize=(10, 5))\n",
    "    plt.plot(epochs, auc_by_epoch)\n",
    "    plt.xlabel('Epochs')\n",
    "    plt.ylabel('AUC')\n",
    "    plt.title('AUC by Epoch')\n",
    "    plt.show()"
   ],
   "metadata": {
    "collapsed": false,
    "ExecuteTime": {
     "end_time": "2023-11-26T13:49:13.504702Z",
     "start_time": "2023-11-26T13:48:35.854708Z"
    }
   },
   "id": "108bc2830f42593a"
  },
  {
   "cell_type": "markdown",
   "source": [],
   "metadata": {
    "collapsed": false
   },
   "id": "e650f2f826288c05"
  },
  {
   "cell_type": "code",
   "execution_count": 11,
   "outputs": [
    {
     "name": "stdout",
     "output_type": "stream",
     "text": [
      "test Precision: 0.0000\n",
      "test Recall: 0.0000\n",
      "test AUC: 0.5866\n"
     ]
    }
   ],
   "source": [
    "k_test = 2\n",
    "\n",
    "def test_model(model, interactions, k_test, item_features, prefix): \n",
    "    train_precision = precision_at_k(model, interactions, k=k_test, item_features=item_features).mean()\n",
    "    print(prefix + 'Precision: {:.4f}'.format(train_precision))\n",
    "    train_recall = recall_at_k(model, interactions, k=k_test, item_features=item_features).mean()\n",
    "    print(prefix + 'Recall: {:.4f}'.format(train_recall))\n",
    "    train_auc = auc_score(model, interactions, item_features=item_features).mean()\n",
    "    print(prefix + 'AUC: {:.4f}'.format(train_auc))\n",
    "    \n",
    "# test_model(model, train_interactions, k_test, item_features, 'train ')\n",
    "# display('------')\n",
    "test_model(model, test_interactions, k_test, item_features, 'test ')"
   ],
   "metadata": {
    "collapsed": false,
    "ExecuteTime": {
     "end_time": "2023-11-26T20:51:01.970034Z",
     "start_time": "2023-11-26T13:49:13.506320Z"
    }
   },
   "id": "b7ac83d356bed0b9"
  },
  {
   "cell_type": "code",
   "execution_count": 12,
   "outputs": [],
   "source": [
    "def predict_best_n_products(user_id, n = 5, no_outputs = False):\n",
    "    item_ids = events[events.visitorid ==  user_id].itemid.tolist()\n",
    "    user_mapping, _, item_mapping, _ = dataset.mapping()\n",
    "    if not no_outputs:\n",
    "        print('user ' + str(user_id) + ' bought following items')\n",
    "        display(item_properties[item_properties.itemid.isin(item_ids) ])\n",
    "    \n",
    "    \n",
    "    # Convert the original user_id to internal user index\n",
    "    internal_user_id = user_mapping[user_id]\n",
    "    \n",
    "    all_item_ids = np.array(all_product_ids.tolist())\n",
    "    # Get the internal item indices for these IDs\n",
    "    internal_all_item_ids = np.array([item_mapping[item] for item in all_item_ids])\n",
    "    # Convert the list of item_ids that the user has already interacted with to internal item indices\n",
    "    internal_item_ids = [item_mapping[item] for item in item_ids]\n",
    "    # Remove the items the user has already interacted with\n",
    "    recommendable_item_ids = np.setdiff1d(internal_all_item_ids, internal_item_ids)\n",
    "    # Make predictions for the remaining items\n",
    "    scores = model.predict(internal_user_id, recommendable_item_ids)\n",
    "    indices = np.flip(np.argsort(scores)[-n:])\n",
    "    scores_sorted = [scores[i] for i in indices]\n",
    "    \n",
    "    top_recommended_item_internal = [recommendable_item_ids[i] for i in scores.argsort()[::-1]]\n",
    "    \n",
    "    top_recommended_items = []\n",
    "    count = 0\n",
    "    for internal_id in top_recommended_item_internal:\n",
    "        top_recommended_items.append((list(item_mapping.keys()) [list(item_mapping.values()).index(internal_id)]))\n",
    "        count += 1\n",
    "        if count >= n: \n",
    "            break\n",
    "    \n",
    "    if not no_outputs:\n",
    "        print('user got recommended following ' + str(n) + ' items: ')\n",
    "        display(item_properties[item_properties.itemid.isin(top_recommended_items)])\n",
    "    return scores_sorted, top_recommended_items\n"
   ],
   "metadata": {
    "collapsed": false,
    "ExecuteTime": {
     "end_time": "2023-11-26T20:51:02.121984Z",
     "start_time": "2023-11-26T20:51:01.932091Z"
    }
   },
   "id": "3321c415128d18c7"
  },
  {
   "cell_type": "code",
   "execution_count": 13,
   "outputs": [
    {
     "name": "stdout",
     "output_type": "stream",
     "text": [
      "user 325780 bought following items\n"
     ]
    },
    {
     "data": {
      "text/plain": "        itemid categoryid available  \\\n7421      8296        746         0   \n12352    13854        746         1   \n28410    31833        746         1   \n28462    31889        746         1   \n77221    86368        746         1   \n92891   103918        746         1   \n157004  175681       1679         1   \n187747  210086        746         1   \n244279  273383        746         1   \n267576  299440       1359         0   \n310057  347014        746         1   \n318763  356764       1462         1   \n322411  360833        746         0   \n376943  421924        746         1   \n383258  428949       1462         1   \n385170  431099        746         1   \n\n                                               properties  \\\n7421    [112, 159, 202, 227, 28, 283, 319, 364, 454, 4...   \n12352   [112, 159, 202, 227, 28, 283, 319, 364, 454, 4...   \n28410   [112, 159, 202, 227, 28, 283, 319, 364, 454, 4...   \n28462   [112, 159, 202, 227, 28, 283, 319, 364, 454, 4...   \n77221   [112, 159, 202, 227, 28, 283, 319, 364, 454, 4...   \n92891   [112, 159, 202, 227, 28, 283, 319, 364, 454, 4...   \n157004  [1032, 1036, 1037, 1079, 1090, 112, 120, 159, ...   \n187747  [112, 159, 202, 227, 28, 283, 319, 364, 454, 4...   \n244279  [112, 159, 202, 227, 28, 283, 319, 364, 454, 4...   \n267576  [112, 159, 202, 227, 283, 314, 33, 364, 569, 5...   \n310057  [112, 159, 202, 227, 28, 283, 319, 364, 454, 4...   \n318763  [1032, 1036, 1037, 1079, 1090, 112, 120, 159, ...   \n322411  [112, 159, 202, 227, 28, 283, 319, 364, 454, 4...   \n376943  [112, 159, 202, 227, 28, 283, 319, 364, 454, 4...   \n383258  [1032, 1036, 1037, 1079, 1090, 112, 120, 159, ...   \n385170  [112, 159, 202, 227, 28, 283, 319, 364, 454, 4...   \n\n                                          property_values  \n7421    [679677, 519769, 839165, 722378 1263557 150169...  \n12352   [679677, 519769, 1322737, 1263557 150169 81963...  \n28410   [679677, 519769, 321534, 374540 150169 819637 ...  \n28462   [679677, 519769, 623705 1159389 952006, 126355...  \n77221   [679677, 519769, 1322737, 1263557 150169 81963...  \n92891   [679677, 519769, 38608, 1263557 150169 819637 ...  \n157004  [769062, 1154859, 769062, 769062, 769062, 6796...  \n187747  [679677, 519769, 822899, 722378 1263557 150169...  \n244279  [679677, 519769, 239875 1073381, 1263557 15016...  \n267576  [679677, 519769, 251375, 8496, 8496 357513 375...  \n310057  [679677, 519769, 822899, 722378 1263557 150169...  \n318763  [[703585 131647 98606 345918 1015535, 703585 1...  \n322411  [679677, 519769, 1174759, 1263557 150169 81963...  \n376943  [679677, 519769, 239875 1073381, 1263557 15016...  \n383258  [[98606 1015535, 98606 1015535, 98606 1015535,...  \n385170  [679677, 519769, 602490 857333, 1263557 150169...  ",
      "text/html": "<div>\n<style scoped>\n    .dataframe tbody tr th:only-of-type {\n        vertical-align: middle;\n    }\n\n    .dataframe tbody tr th {\n        vertical-align: top;\n    }\n\n    .dataframe thead th {\n        text-align: right;\n    }\n</style>\n<table border=\"1\" class=\"dataframe\">\n  <thead>\n    <tr style=\"text-align: right;\">\n      <th></th>\n      <th>itemid</th>\n      <th>categoryid</th>\n      <th>available</th>\n      <th>properties</th>\n      <th>property_values</th>\n    </tr>\n  </thead>\n  <tbody>\n    <tr>\n      <th>7421</th>\n      <td>8296</td>\n      <td>746</td>\n      <td>0</td>\n      <td>[112, 159, 202, 227, 28, 283, 319, 364, 454, 4...</td>\n      <td>[679677, 519769, 839165, 722378 1263557 150169...</td>\n    </tr>\n    <tr>\n      <th>12352</th>\n      <td>13854</td>\n      <td>746</td>\n      <td>1</td>\n      <td>[112, 159, 202, 227, 28, 283, 319, 364, 454, 4...</td>\n      <td>[679677, 519769, 1322737, 1263557 150169 81963...</td>\n    </tr>\n    <tr>\n      <th>28410</th>\n      <td>31833</td>\n      <td>746</td>\n      <td>1</td>\n      <td>[112, 159, 202, 227, 28, 283, 319, 364, 454, 4...</td>\n      <td>[679677, 519769, 321534, 374540 150169 819637 ...</td>\n    </tr>\n    <tr>\n      <th>28462</th>\n      <td>31889</td>\n      <td>746</td>\n      <td>1</td>\n      <td>[112, 159, 202, 227, 28, 283, 319, 364, 454, 4...</td>\n      <td>[679677, 519769, 623705 1159389 952006, 126355...</td>\n    </tr>\n    <tr>\n      <th>77221</th>\n      <td>86368</td>\n      <td>746</td>\n      <td>1</td>\n      <td>[112, 159, 202, 227, 28, 283, 319, 364, 454, 4...</td>\n      <td>[679677, 519769, 1322737, 1263557 150169 81963...</td>\n    </tr>\n    <tr>\n      <th>92891</th>\n      <td>103918</td>\n      <td>746</td>\n      <td>1</td>\n      <td>[112, 159, 202, 227, 28, 283, 319, 364, 454, 4...</td>\n      <td>[679677, 519769, 38608, 1263557 150169 819637 ...</td>\n    </tr>\n    <tr>\n      <th>157004</th>\n      <td>175681</td>\n      <td>1679</td>\n      <td>1</td>\n      <td>[1032, 1036, 1037, 1079, 1090, 112, 120, 159, ...</td>\n      <td>[769062, 1154859, 769062, 769062, 769062, 6796...</td>\n    </tr>\n    <tr>\n      <th>187747</th>\n      <td>210086</td>\n      <td>746</td>\n      <td>1</td>\n      <td>[112, 159, 202, 227, 28, 283, 319, 364, 454, 4...</td>\n      <td>[679677, 519769, 822899, 722378 1263557 150169...</td>\n    </tr>\n    <tr>\n      <th>244279</th>\n      <td>273383</td>\n      <td>746</td>\n      <td>1</td>\n      <td>[112, 159, 202, 227, 28, 283, 319, 364, 454, 4...</td>\n      <td>[679677, 519769, 239875 1073381, 1263557 15016...</td>\n    </tr>\n    <tr>\n      <th>267576</th>\n      <td>299440</td>\n      <td>1359</td>\n      <td>0</td>\n      <td>[112, 159, 202, 227, 283, 314, 33, 364, 569, 5...</td>\n      <td>[679677, 519769, 251375, 8496, 8496 357513 375...</td>\n    </tr>\n    <tr>\n      <th>310057</th>\n      <td>347014</td>\n      <td>746</td>\n      <td>1</td>\n      <td>[112, 159, 202, 227, 28, 283, 319, 364, 454, 4...</td>\n      <td>[679677, 519769, 822899, 722378 1263557 150169...</td>\n    </tr>\n    <tr>\n      <th>318763</th>\n      <td>356764</td>\n      <td>1462</td>\n      <td>1</td>\n      <td>[1032, 1036, 1037, 1079, 1090, 112, 120, 159, ...</td>\n      <td>[[703585 131647 98606 345918 1015535, 703585 1...</td>\n    </tr>\n    <tr>\n      <th>322411</th>\n      <td>360833</td>\n      <td>746</td>\n      <td>0</td>\n      <td>[112, 159, 202, 227, 28, 283, 319, 364, 454, 4...</td>\n      <td>[679677, 519769, 1174759, 1263557 150169 81963...</td>\n    </tr>\n    <tr>\n      <th>376943</th>\n      <td>421924</td>\n      <td>746</td>\n      <td>1</td>\n      <td>[112, 159, 202, 227, 28, 283, 319, 364, 454, 4...</td>\n      <td>[679677, 519769, 239875 1073381, 1263557 15016...</td>\n    </tr>\n    <tr>\n      <th>383258</th>\n      <td>428949</td>\n      <td>1462</td>\n      <td>1</td>\n      <td>[1032, 1036, 1037, 1079, 1090, 112, 120, 159, ...</td>\n      <td>[[98606 1015535, 98606 1015535, 98606 1015535,...</td>\n    </tr>\n    <tr>\n      <th>385170</th>\n      <td>431099</td>\n      <td>746</td>\n      <td>1</td>\n      <td>[112, 159, 202, 227, 28, 283, 319, 364, 454, 4...</td>\n      <td>[679677, 519769, 602490 857333, 1263557 150169...</td>\n    </tr>\n  </tbody>\n</table>\n</div>"
     },
     "metadata": {},
     "output_type": "display_data"
    },
    {
     "name": "stdout",
     "output_type": "stream",
     "text": [
      "user got recommended following 5 items: \n"
     ]
    },
    {
     "data": {
      "text/plain": "        itemid categoryid available  \\\n8820      9877        858         1   \n107040  119736         57         1   \n134872  150882        808         0   \n393055  439963        793         0   \n412415  461686       1037         1   \n\n                                               properties  \\\n8820    [112, 159, 19, 202, 227, 28, 283, 325, 364, 52...   \n107040  [1081, 112, 159, 202, 227, 283, 364, 470, 6, 6...   \n134872  [1081, 112, 159, 202, 227, 283, 364, 470, 6, 6...   \n393055  [1081, 112, 159, 202, 227, 283, 364, 470, 591,...   \n412415  [112, 159, 19, 202, 227, 28, 283, 364, 521, 55...   \n\n                                          property_values  \n8820    [679677, 519769, 1297729 n60.000 350726 30603 ...  \n107040  [769062, 679677, 519769, 1278980 n38496.000, 1...  \n134872  [n6000.000 739952, 679677, 519769, n40860.000,...  \n393055  [769062, 679677, 519769, 485154 162220 n363600...  \n412415  [679677, 519769, 769062, 245814 237874 171308,...  ",
      "text/html": "<div>\n<style scoped>\n    .dataframe tbody tr th:only-of-type {\n        vertical-align: middle;\n    }\n\n    .dataframe tbody tr th {\n        vertical-align: top;\n    }\n\n    .dataframe thead th {\n        text-align: right;\n    }\n</style>\n<table border=\"1\" class=\"dataframe\">\n  <thead>\n    <tr style=\"text-align: right;\">\n      <th></th>\n      <th>itemid</th>\n      <th>categoryid</th>\n      <th>available</th>\n      <th>properties</th>\n      <th>property_values</th>\n    </tr>\n  </thead>\n  <tbody>\n    <tr>\n      <th>8820</th>\n      <td>9877</td>\n      <td>858</td>\n      <td>1</td>\n      <td>[112, 159, 19, 202, 227, 28, 283, 325, 364, 52...</td>\n      <td>[679677, 519769, 1297729 n60.000 350726 30603 ...</td>\n    </tr>\n    <tr>\n      <th>107040</th>\n      <td>119736</td>\n      <td>57</td>\n      <td>1</td>\n      <td>[1081, 112, 159, 202, 227, 283, 364, 470, 6, 6...</td>\n      <td>[769062, 679677, 519769, 1278980 n38496.000, 1...</td>\n    </tr>\n    <tr>\n      <th>134872</th>\n      <td>150882</td>\n      <td>808</td>\n      <td>0</td>\n      <td>[1081, 112, 159, 202, 227, 283, 364, 470, 6, 6...</td>\n      <td>[n6000.000 739952, 679677, 519769, n40860.000,...</td>\n    </tr>\n    <tr>\n      <th>393055</th>\n      <td>439963</td>\n      <td>793</td>\n      <td>0</td>\n      <td>[1081, 112, 159, 202, 227, 283, 364, 470, 591,...</td>\n      <td>[769062, 679677, 519769, 485154 162220 n363600...</td>\n    </tr>\n    <tr>\n      <th>412415</th>\n      <td>461686</td>\n      <td>1037</td>\n      <td>1</td>\n      <td>[112, 159, 19, 202, 227, 28, 283, 364, 521, 55...</td>\n      <td>[679677, 519769, 769062, 245814 237874 171308,...</td>\n    </tr>\n  </tbody>\n</table>\n</div>"
     },
     "metadata": {},
     "output_type": "display_data"
    },
    {
     "data": {
      "text/plain": "([0.13117296, 0.055038914, -0.0021936656, -0.08592069, -0.11469769],\n [119736, 461686, 439963, 9877, 150882])"
     },
     "metadata": {},
     "output_type": "display_data"
    }
   ],
   "source": [
    "user_id = 325780\n",
    "display(predict_best_n_products(user_id, 5))"
   ],
   "metadata": {
    "collapsed": false,
    "ExecuteTime": {
     "end_time": "2023-11-26T20:51:02.543354Z",
     "start_time": "2023-11-26T20:51:01.968981Z"
    }
   },
   "id": "7abbb7afd27af325"
  },
  {
   "cell_type": "markdown",
   "source": [],
   "metadata": {
    "collapsed": false
   },
   "id": "d19607e3cfd40724"
  },
  {
   "cell_type": "code",
   "execution_count": 14,
   "outputs": [
    {
     "name": "stdout",
     "output_type": "stream",
     "text": [
      "calculating recommendations for 1236032 users\n",
      "calculated recommendations for 1000 users\n",
      "calculated recommendations for 2000 users\n",
      "calculated recommendations for 3000 users\n",
      "calculated recommendations for 4000 users\n",
      "calculated recommendations for 5000 users\n",
      "calculated recommendations for 6000 users\n",
      "calculated recommendations for 7000 users\n",
      "calculated recommendations for 8000 users\n",
      "calculated recommendations for 9000 users\n",
      "calculated recommendations for 10000 users\n",
      "calculated recommendations for 11000 users\n",
      "calculated recommendations for 12000 users\n",
      "calculated recommendations for 13000 users\n",
      "calculated recommendations for 14000 users\n",
      "calculated recommendations for 15000 users\n",
      "calculated recommendations for 16000 users\n",
      "calculated recommendations for 17000 users\n",
      "calculated recommendations for 18000 users\n",
      "calculated recommendations for 19000 users\n",
      "calculated recommendations for 20000 users\n",
      "calculated recommendations for 21000 users\n",
      "calculated recommendations for 22000 users\n",
      "calculated recommendations for 23000 users\n",
      "calculated recommendations for 24000 users\n",
      "calculated recommendations for 25000 users\n",
      "calculated recommendations for 26000 users\n",
      "calculated recommendations for 27000 users\n",
      "calculated recommendations for 28000 users\n",
      "calculated recommendations for 29000 users\n",
      "calculated recommendations for 30000 users\n",
      "calculated recommendations for 31000 users\n",
      "calculated recommendations for 32000 users\n",
      "calculated recommendations for 33000 users\n",
      "calculated recommendations for 34000 users\n",
      "calculated recommendations for 35000 users\n",
      "calculated recommendations for 36000 users\n",
      "calculated recommendations for 37000 users\n",
      "calculated recommendations for 38000 users\n",
      "calculated recommendations for 39000 users\n",
      "calculated recommendations for 40000 users\n",
      "calculated recommendations for 41000 users\n",
      "calculated recommendations for 42000 users\n",
      "calculated recommendations for 43000 users\n",
      "calculated recommendations for 44000 users\n",
      "calculated recommendations for 45000 users\n",
      "calculated recommendations for 46000 users\n",
      "calculated recommendations for 47000 users\n",
      "calculated recommendations for 48000 users\n",
      "calculated recommendations for 49000 users\n",
      "calculated recommendations for 50000 users\n",
      "calculated recommendations for 51000 users\n",
      "calculated recommendations for 52000 users\n",
      "calculated recommendations for 53000 users\n",
      "calculated recommendations for 54000 users\n",
      "calculated recommendations for 55000 users\n",
      "calculated recommendations for 56000 users\n",
      "calculated recommendations for 57000 users\n",
      "calculated recommendations for 58000 users\n",
      "calculated recommendations for 59000 users\n",
      "calculated recommendations for 60000 users\n",
      "calculated recommendations for 61000 users\n",
      "calculated recommendations for 62000 users\n",
      "calculated recommendations for 63000 users\n",
      "calculated recommendations for 64000 users\n",
      "calculated recommendations for 65000 users\n",
      "calculated recommendations for 66000 users\n",
      "calculated recommendations for 67000 users\n",
      "calculated recommendations for 68000 users\n",
      "calculated recommendations for 69000 users\n",
      "calculated recommendations for 70000 users\n",
      "calculated recommendations for 71000 users\n",
      "calculated recommendations for 72000 users\n",
      "calculated recommendations for 73000 users\n",
      "calculated recommendations for 74000 users\n",
      "calculated recommendations for 75000 users\n",
      "calculated recommendations for 76000 users\n",
      "calculated recommendations for 77000 users\n",
      "calculated recommendations for 78000 users\n",
      "calculated recommendations for 79000 users\n",
      "calculated recommendations for 80000 users\n",
      "calculated recommendations for 81000 users\n",
      "calculated recommendations for 82000 users\n",
      "calculated recommendations for 83000 users\n",
      "calculated recommendations for 84000 users\n",
      "calculated recommendations for 85000 users\n",
      "calculated recommendations for 86000 users\n",
      "calculated recommendations for 87000 users\n",
      "calculated recommendations for 88000 users\n",
      "calculated recommendations for 89000 users\n",
      "calculated recommendations for 90000 users\n",
      "calculated recommendations for 91000 users\n",
      "calculated recommendations for 92000 users\n",
      "calculated recommendations for 93000 users\n",
      "calculated recommendations for 94000 users\n",
      "calculated recommendations for 95000 users\n",
      "calculated recommendations for 96000 users\n",
      "calculated recommendations for 97000 users\n",
      "calculated recommendations for 98000 users\n",
      "calculated recommendations for 99000 users\n",
      "calculated recommendations for 100000 users\n",
      "calculated recommendations for 101000 users\n"
     ]
    },
    {
     "ename": "KeyboardInterrupt",
     "evalue": "",
     "output_type": "error",
     "traceback": [
      "\u001B[0;31m---------------------------------------------------------------------------\u001B[0m",
      "\u001B[0;31mKeyboardInterrupt\u001B[0m                         Traceback (most recent call last)",
      "Cell \u001B[0;32mIn[14], line 12\u001B[0m\n\u001B[1;32m     10\u001B[0m all_scores \u001B[38;5;241m=\u001B[39m []\n\u001B[1;32m     11\u001B[0m \u001B[38;5;28;01mfor\u001B[39;00m user \u001B[38;5;129;01min\u001B[39;00m events\u001B[38;5;241m.\u001B[39mvisitorid\u001B[38;5;241m.\u001B[39munique():\n\u001B[0;32m---> 12\u001B[0m     scores, top_recommended_items \u001B[38;5;241m=\u001B[39m \u001B[43mpredict_best_n_products\u001B[49m\u001B[43m(\u001B[49m\u001B[43muser\u001B[49m\u001B[43m,\u001B[49m\u001B[43m \u001B[49m\u001B[38;5;241;43m5\u001B[39;49m\u001B[43m,\u001B[49m\u001B[43m \u001B[49m\u001B[38;5;28;43;01mTrue\u001B[39;49;00m\u001B[43m)\u001B[49m\n\u001B[1;32m     13\u001B[0m     recommended_products[user]\u001B[38;5;241m.\u001B[39mextend(top_recommended_items)\n\u001B[1;32m     14\u001B[0m     all_scores\u001B[38;5;241m.\u001B[39mextend(scores)\n",
      "Cell \u001B[0;32mIn[12], line 24\u001B[0m, in \u001B[0;36mpredict_best_n_products\u001B[0;34m(user_id, n, no_outputs)\u001B[0m\n\u001B[1;32m     21\u001B[0m indices \u001B[38;5;241m=\u001B[39m np\u001B[38;5;241m.\u001B[39mflip(np\u001B[38;5;241m.\u001B[39margsort(scores)[\u001B[38;5;241m-\u001B[39mn:])\n\u001B[1;32m     22\u001B[0m scores_sorted \u001B[38;5;241m=\u001B[39m [scores[i] \u001B[38;5;28;01mfor\u001B[39;00m i \u001B[38;5;129;01min\u001B[39;00m indices]\n\u001B[0;32m---> 24\u001B[0m top_recommended_item_internal \u001B[38;5;241m=\u001B[39m [recommendable_item_ids[i] \u001B[38;5;28;01mfor\u001B[39;00m i \u001B[38;5;129;01min\u001B[39;00m scores\u001B[38;5;241m.\u001B[39margsort()[::\u001B[38;5;241m-\u001B[39m\u001B[38;5;241m1\u001B[39m]]\n\u001B[1;32m     26\u001B[0m top_recommended_items \u001B[38;5;241m=\u001B[39m []\n\u001B[1;32m     27\u001B[0m count \u001B[38;5;241m=\u001B[39m \u001B[38;5;241m0\u001B[39m\n",
      "Cell \u001B[0;32mIn[12], line 24\u001B[0m, in \u001B[0;36m<listcomp>\u001B[0;34m(.0)\u001B[0m\n\u001B[1;32m     21\u001B[0m indices \u001B[38;5;241m=\u001B[39m np\u001B[38;5;241m.\u001B[39mflip(np\u001B[38;5;241m.\u001B[39margsort(scores)[\u001B[38;5;241m-\u001B[39mn:])\n\u001B[1;32m     22\u001B[0m scores_sorted \u001B[38;5;241m=\u001B[39m [scores[i] \u001B[38;5;28;01mfor\u001B[39;00m i \u001B[38;5;129;01min\u001B[39;00m indices]\n\u001B[0;32m---> 24\u001B[0m top_recommended_item_internal \u001B[38;5;241m=\u001B[39m [\u001B[43mrecommendable_item_ids\u001B[49m\u001B[43m[\u001B[49m\u001B[43mi\u001B[49m\u001B[43m]\u001B[49m \u001B[38;5;28;01mfor\u001B[39;00m i \u001B[38;5;129;01min\u001B[39;00m scores\u001B[38;5;241m.\u001B[39margsort()[::\u001B[38;5;241m-\u001B[39m\u001B[38;5;241m1\u001B[39m]]\n\u001B[1;32m     26\u001B[0m top_recommended_items \u001B[38;5;241m=\u001B[39m []\n\u001B[1;32m     27\u001B[0m count \u001B[38;5;241m=\u001B[39m \u001B[38;5;241m0\u001B[39m\n",
      "\u001B[0;31mKeyboardInterrupt\u001B[0m: "
     ]
    }
   ],
   "source": [
    "from collections import defaultdict\n",
    "\n",
    "# Assuming 'interaction_data.customer_id.unique()' gives us a list of unique user IDs\n",
    "# and 'predict_best_n_products(user, n)' returns the top 'n' recommended product IDs for a given user\n",
    "\n",
    "# Step 1: Store Recommended Items\n",
    "recommended_products = defaultdict(list)\n",
    "print('calculating recommendations for ' + str(len(events.visitorid.unique())) + ' users')\n",
    "count = 0\n",
    "all_scores = []\n",
    "for user in events.visitorid.unique():\n",
    "    scores, top_recommended_items = predict_best_n_products(user, 5, True)\n",
    "    recommended_products[user].extend(top_recommended_items)\n",
    "    all_scores.extend(scores)\n",
    "    count += 1\n",
    "    if count % 1000 == 0:\n",
    "        print('calculated recommendations for ' + str(count) + ' users')\n"
   ],
   "metadata": {
    "collapsed": false,
    "ExecuteTime": {
     "end_time": "2023-11-27T06:55:27.013548Z",
     "start_time": "2023-11-26T20:51:02.458250Z"
    }
   },
   "id": "c4983fc31bc919a8"
  },
  {
   "cell_type": "code",
   "execution_count": 15,
   "outputs": [
    {
     "name": "stdout",
     "output_type": "stream",
     "text": [
      "Catalog Coverage: 0.00\n",
      "Item Coverage: 5.00\n",
      "Average Score: 0.04, Min Score: -2.27, Max Score: 0.31\n"
     ]
    }
   ],
   "source": [
    "# Step 2: Calculate Catalog Coverage\n",
    "unique_recommended_items = set()\n",
    "for user, items in recommended_products.items():\n",
    "    unique_recommended_items.update(items)\n",
    "\n",
    "catalog_coverage = len(unique_recommended_items) / len(item_properties.itemid.unique())  # Replace with your catalog size\n",
    "\n",
    "# Step 3: Calculate Item Coverage\n",
    "item_recommendation_counts = defaultdict(int)\n",
    "for items in recommended_products.values():\n",
    "    for item in items:\n",
    "        item_recommendation_counts[item] += 1\n",
    "\n",
    "average_item_coverage = sum(item_recommendation_counts.values()) / len(recommended_products)\n",
    "\n",
    "# Print the results\n",
    "print(f\"Catalog Coverage: {catalog_coverage:.2f}\")\n",
    "print(f\"Item Coverage: {average_item_coverage:.2f}\")\n",
    "print(f\"Average Score: {np.mean(all_scores):.2f}, Min Score: {np.min(all_scores):.2f}, Max Score: {np.max(all_scores):.2f}\")"
   ],
   "metadata": {
    "collapsed": false,
    "ExecuteTime": {
     "end_time": "2023-11-27T06:55:42.561538Z",
     "start_time": "2023-11-27T06:55:42.439485Z"
    }
   },
   "id": "8d2eb989d9f29784"
  },
  {
   "cell_type": "code",
   "execution_count": 16,
   "outputs": [
    {
     "name": "stdout",
     "output_type": "stream",
     "text": [
      "recommended items 55; num of items: 417053\n"
     ]
    }
   ],
   "source": [
    "print(f\"recommended items {len(unique_recommended_items)}; num of items: {len(item_properties.itemid.unique())}\")"
   ],
   "metadata": {
    "collapsed": false,
    "ExecuteTime": {
     "end_time": "2023-11-27T06:55:52.148410Z",
     "start_time": "2023-11-27T06:55:52.109102Z"
    }
   },
   "id": "a89b44b9735b619a"
  },
  {
   "cell_type": "code",
   "execution_count": 18,
   "outputs": [],
   "source": [
    "import pickle\n",
    "\n",
    "#with open('../../models/retailrocket/lightfm_full_dataset.pkl', 'wb') as file:\n",
    "#    pickle.dump(model, file)\n"
   ],
   "metadata": {
    "collapsed": false,
    "ExecuteTime": {
     "end_time": "2023-11-27T07:02:02.464239Z",
     "start_time": "2023-11-27T07:02:02.046301Z"
    }
   },
   "id": "bbeb9e673a1ce8df"
  }
 ],
 "metadata": {
  "kernelspec": {
   "display_name": "Python 3",
   "language": "python",
   "name": "python3"
  },
  "language_info": {
   "codemirror_mode": {
    "name": "ipython",
    "version": 2
   },
   "file_extension": ".py",
   "mimetype": "text/x-python",
   "name": "python",
   "nbconvert_exporter": "python",
   "pygments_lexer": "ipython2",
   "version": "2.7.6"
  }
 },
 "nbformat": 4,
 "nbformat_minor": 5
}
