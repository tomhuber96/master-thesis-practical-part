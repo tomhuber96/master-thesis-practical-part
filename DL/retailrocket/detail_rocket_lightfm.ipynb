{
 "cells": [
  {
   "cell_type": "code",
   "execution_count": 17,
   "outputs": [],
   "source": [
    "#%pip install lightfm\n",
    "from sklearn.preprocessing import LabelEncoder\n",
    "import numpy as np\n",
    "import pandas as pd\n",
    "\n",
    "from lightfm import LightFM\n",
    "from lightfm.data import Dataset\n",
    "from lightfm.cross_validation import random_train_test_split\n",
    "import matplotlib.pyplot as plt\n",
    "from lightfm.evaluation import precision_at_k, recall_at_k, auc_score"
   ],
   "metadata": {
    "collapsed": false,
    "ExecuteTime": {
     "end_time": "2023-11-25T19:53:17.702920Z",
     "start_time": "2023-11-25T19:53:17.667754Z"
    }
   },
   "id": "initial_id"
  },
  {
   "cell_type": "code",
   "execution_count": 18,
   "outputs": [
    {
     "data": {
      "text/plain": "         visitorid  itemid  event_mapped\n2482751    1046539  373805             1\n2204101    1383579  287405             1\n1964828     474264  153625             1\n2369299    1079433  287356             1\n640471      865010  113440             1\n...            ...     ...           ...\n560807      269455  459735             1\n1158627     228194  160499             1\n2074769     435897  346429             1\n1911438    1099927  261011             1\n1975046     747991  415715             1\n\n[10000 rows x 3 columns]",
      "text/html": "<div>\n<style scoped>\n    .dataframe tbody tr th:only-of-type {\n        vertical-align: middle;\n    }\n\n    .dataframe tbody tr th {\n        vertical-align: top;\n    }\n\n    .dataframe thead th {\n        text-align: right;\n    }\n</style>\n<table border=\"1\" class=\"dataframe\">\n  <thead>\n    <tr style=\"text-align: right;\">\n      <th></th>\n      <th>visitorid</th>\n      <th>itemid</th>\n      <th>event_mapped</th>\n    </tr>\n  </thead>\n  <tbody>\n    <tr>\n      <th>2482751</th>\n      <td>1046539</td>\n      <td>373805</td>\n      <td>1</td>\n    </tr>\n    <tr>\n      <th>2204101</th>\n      <td>1383579</td>\n      <td>287405</td>\n      <td>1</td>\n    </tr>\n    <tr>\n      <th>1964828</th>\n      <td>474264</td>\n      <td>153625</td>\n      <td>1</td>\n    </tr>\n    <tr>\n      <th>2369299</th>\n      <td>1079433</td>\n      <td>287356</td>\n      <td>1</td>\n    </tr>\n    <tr>\n      <th>640471</th>\n      <td>865010</td>\n      <td>113440</td>\n      <td>1</td>\n    </tr>\n    <tr>\n      <th>...</th>\n      <td>...</td>\n      <td>...</td>\n      <td>...</td>\n    </tr>\n    <tr>\n      <th>560807</th>\n      <td>269455</td>\n      <td>459735</td>\n      <td>1</td>\n    </tr>\n    <tr>\n      <th>1158627</th>\n      <td>228194</td>\n      <td>160499</td>\n      <td>1</td>\n    </tr>\n    <tr>\n      <th>2074769</th>\n      <td>435897</td>\n      <td>346429</td>\n      <td>1</td>\n    </tr>\n    <tr>\n      <th>1911438</th>\n      <td>1099927</td>\n      <td>261011</td>\n      <td>1</td>\n    </tr>\n    <tr>\n      <th>1975046</th>\n      <td>747991</td>\n      <td>415715</td>\n      <td>1</td>\n    </tr>\n  </tbody>\n</table>\n<p>10000 rows × 3 columns</p>\n</div>"
     },
     "metadata": {},
     "output_type": "display_data"
    },
    {
     "data": {
      "text/plain": "        itemid categoryid available  \\\n0            0        209         0   \n1            1       1114         1   \n2            2       1305         0   \n3            3       1171         0   \n4            4       1038         0   \n...        ...        ...       ...   \n417048  466862       1376         0   \n417049  466863        173         0   \n417050  466864        373         1   \n417051  466865        421         0   \n417052  466866       1164         0   \n\n                                               properties  \\\n0       [1036, 1056, 11, 112, 127, 139, 159, 177, 189,...   \n1       [0, 1036, 112, 159, 185, 202, 227, 238, 280, 2...   \n2       [1063, 112, 159, 202, 282, 283, 318, 332, 364,...   \n3       [1025, 1080, 112, 159, 202, 227, 250, 283, 30,...   \n4       [112, 115, 159, 202, 227, 28, 283, 33, 364, 59...   \n...                                                   ...   \n417048  [112, 139, 159, 186, 202, 227, 28, 283, 29, 34...   \n417049  [1014, 112, 159, 202, 227, 283, 364, 400, 47, ...   \n417050  [1036, 112, 152, 159, 202, 227, 230, 283, 348,...   \n417051  [1031, 112, 159, 202, 227, 277, 28, 283, 332, ...   \n417052  [112, 120, 128, 159, 202, 227, 28, 283, 320, 3...   \n\n                                          property_values  \n0       [1276750, n3.168 1144008, n15360.000 628176 n1...  \n1       [769062, 1154859, 679677, 519769, 769062, 1726...  \n2       [n396.000 145688, 679677, 519769, 648485 n6000...  \n3       [769062, 769062, 679677, 519769, 261419, 13057...  \n4       [679677, n24.000, 519769, 371058 71429, 588652...  \n...                                                   ...  \n417048  [679677, 769062, 519769, 575816 n432.000, 7173...  \n417049  [1075463, 679677, 519769, 1194687 550565 24255...  \n417050  [1154859, 679677, 1071492, 519769, 1262739 205...  \n417051  [1088309, 679677, 519769, 150169 780351 820477...  \n417052  [679677, 1057641, 590055 n24.000, 519769, 8924...  \n\n[417053 rows x 5 columns]",
      "text/html": "<div>\n<style scoped>\n    .dataframe tbody tr th:only-of-type {\n        vertical-align: middle;\n    }\n\n    .dataframe tbody tr th {\n        vertical-align: top;\n    }\n\n    .dataframe thead th {\n        text-align: right;\n    }\n</style>\n<table border=\"1\" class=\"dataframe\">\n  <thead>\n    <tr style=\"text-align: right;\">\n      <th></th>\n      <th>itemid</th>\n      <th>categoryid</th>\n      <th>available</th>\n      <th>properties</th>\n      <th>property_values</th>\n    </tr>\n  </thead>\n  <tbody>\n    <tr>\n      <th>0</th>\n      <td>0</td>\n      <td>209</td>\n      <td>0</td>\n      <td>[1036, 1056, 11, 112, 127, 139, 159, 177, 189,...</td>\n      <td>[1276750, n3.168 1144008, n15360.000 628176 n1...</td>\n    </tr>\n    <tr>\n      <th>1</th>\n      <td>1</td>\n      <td>1114</td>\n      <td>1</td>\n      <td>[0, 1036, 112, 159, 185, 202, 227, 238, 280, 2...</td>\n      <td>[769062, 1154859, 679677, 519769, 769062, 1726...</td>\n    </tr>\n    <tr>\n      <th>2</th>\n      <td>2</td>\n      <td>1305</td>\n      <td>0</td>\n      <td>[1063, 112, 159, 202, 282, 283, 318, 332, 364,...</td>\n      <td>[n396.000 145688, 679677, 519769, 648485 n6000...</td>\n    </tr>\n    <tr>\n      <th>3</th>\n      <td>3</td>\n      <td>1171</td>\n      <td>0</td>\n      <td>[1025, 1080, 112, 159, 202, 227, 250, 283, 30,...</td>\n      <td>[769062, 769062, 679677, 519769, 261419, 13057...</td>\n    </tr>\n    <tr>\n      <th>4</th>\n      <td>4</td>\n      <td>1038</td>\n      <td>0</td>\n      <td>[112, 115, 159, 202, 227, 28, 283, 33, 364, 59...</td>\n      <td>[679677, n24.000, 519769, 371058 71429, 588652...</td>\n    </tr>\n    <tr>\n      <th>...</th>\n      <td>...</td>\n      <td>...</td>\n      <td>...</td>\n      <td>...</td>\n      <td>...</td>\n    </tr>\n    <tr>\n      <th>417048</th>\n      <td>466862</td>\n      <td>1376</td>\n      <td>0</td>\n      <td>[112, 139, 159, 186, 202, 227, 28, 283, 29, 34...</td>\n      <td>[679677, 769062, 519769, 575816 n432.000, 7173...</td>\n    </tr>\n    <tr>\n      <th>417049</th>\n      <td>466863</td>\n      <td>173</td>\n      <td>0</td>\n      <td>[1014, 112, 159, 202, 227, 283, 364, 400, 47, ...</td>\n      <td>[1075463, 679677, 519769, 1194687 550565 24255...</td>\n    </tr>\n    <tr>\n      <th>417050</th>\n      <td>466864</td>\n      <td>373</td>\n      <td>1</td>\n      <td>[1036, 112, 152, 159, 202, 227, 230, 283, 348,...</td>\n      <td>[1154859, 679677, 1071492, 519769, 1262739 205...</td>\n    </tr>\n    <tr>\n      <th>417051</th>\n      <td>466865</td>\n      <td>421</td>\n      <td>0</td>\n      <td>[1031, 112, 159, 202, 227, 277, 28, 283, 332, ...</td>\n      <td>[1088309, 679677, 519769, 150169 780351 820477...</td>\n    </tr>\n    <tr>\n      <th>417052</th>\n      <td>466866</td>\n      <td>1164</td>\n      <td>0</td>\n      <td>[112, 120, 128, 159, 202, 227, 28, 283, 320, 3...</td>\n      <td>[679677, 1057641, 590055 n24.000, 519769, 8924...</td>\n    </tr>\n  </tbody>\n</table>\n<p>417053 rows × 5 columns</p>\n</div>"
     },
     "metadata": {},
     "output_type": "display_data"
    }
   ],
   "source": [
    "# Load data\n",
    "def map_event(event):\n",
    "    if event == 'view':\n",
    "        return 1\n",
    "    elif event == 'addtocart':\n",
    "        return 2\n",
    "    elif event == 'transaction':\n",
    "        return 3\n",
    "    else:\n",
    "        return 0\n",
    "\n",
    "basepath = '../../datasets/preprocessed_datasets/retailrocket/'\n",
    "events = pd.read_pickle(basepath +'events_10k.pkl')\n",
    "events['event_mapped'] = events['event'].apply(map_event)\n",
    "events = events.drop(columns=['timestamp', 'event', 'transactionid', 'datetime'])\n",
    "item_properties = pd.read_pickle(basepath +'item_data_extracted.pkl')\n",
    "display(events, item_properties)"
   ],
   "metadata": {
    "collapsed": false,
    "ExecuteTime": {
     "end_time": "2023-11-25T19:54:10.271623Z",
     "start_time": "2023-11-25T19:53:17.673046Z"
    }
   },
   "id": "4e1075d201067a30"
  },
  {
   "cell_type": "code",
   "execution_count": 19,
   "outputs": [
    {
     "data": {
      "text/plain": "         visitorid  itemid  event_mapped\n2482751    1046539  373805             1\n2204101    1383579  287405             1\n1964828     474264  153625             1\n2369299    1079433  287356             1\n640471      865010  113440             1\n...            ...     ...           ...\n560807      269455  459735             1\n1158627     228194  160499             1\n2074769     435897  346429             1\n1911438    1099927  261011             1\n1975046     747991  415715             1\n\n[9670 rows x 3 columns]",
      "text/html": "<div>\n<style scoped>\n    .dataframe tbody tr th:only-of-type {\n        vertical-align: middle;\n    }\n\n    .dataframe tbody tr th {\n        vertical-align: top;\n    }\n\n    .dataframe thead th {\n        text-align: right;\n    }\n</style>\n<table border=\"1\" class=\"dataframe\">\n  <thead>\n    <tr style=\"text-align: right;\">\n      <th></th>\n      <th>visitorid</th>\n      <th>itemid</th>\n      <th>event_mapped</th>\n    </tr>\n  </thead>\n  <tbody>\n    <tr>\n      <th>2482751</th>\n      <td>1046539</td>\n      <td>373805</td>\n      <td>1</td>\n    </tr>\n    <tr>\n      <th>2204101</th>\n      <td>1383579</td>\n      <td>287405</td>\n      <td>1</td>\n    </tr>\n    <tr>\n      <th>1964828</th>\n      <td>474264</td>\n      <td>153625</td>\n      <td>1</td>\n    </tr>\n    <tr>\n      <th>2369299</th>\n      <td>1079433</td>\n      <td>287356</td>\n      <td>1</td>\n    </tr>\n    <tr>\n      <th>640471</th>\n      <td>865010</td>\n      <td>113440</td>\n      <td>1</td>\n    </tr>\n    <tr>\n      <th>...</th>\n      <td>...</td>\n      <td>...</td>\n      <td>...</td>\n    </tr>\n    <tr>\n      <th>560807</th>\n      <td>269455</td>\n      <td>459735</td>\n      <td>1</td>\n    </tr>\n    <tr>\n      <th>1158627</th>\n      <td>228194</td>\n      <td>160499</td>\n      <td>1</td>\n    </tr>\n    <tr>\n      <th>2074769</th>\n      <td>435897</td>\n      <td>346429</td>\n      <td>1</td>\n    </tr>\n    <tr>\n      <th>1911438</th>\n      <td>1099927</td>\n      <td>261011</td>\n      <td>1</td>\n    </tr>\n    <tr>\n      <th>1975046</th>\n      <td>747991</td>\n      <td>415715</td>\n      <td>1</td>\n    </tr>\n  </tbody>\n</table>\n<p>9670 rows × 3 columns</p>\n</div>"
     },
     "execution_count": 19,
     "metadata": {},
     "output_type": "execute_result"
    }
   ],
   "source": [
    "events[events['event_mapped'] == 1]"
   ],
   "metadata": {
    "collapsed": false,
    "ExecuteTime": {
     "end_time": "2023-11-25T19:54:10.293598Z",
     "start_time": "2023-11-25T19:54:10.271760Z"
    }
   },
   "id": "1e4fb125f6848c01"
  },
  {
   "cell_type": "markdown",
   "source": [],
   "metadata": {
    "collapsed": false
   },
   "id": "f5039d92ab167567"
  },
  {
   "cell_type": "code",
   "execution_count": 20,
   "outputs": [
    {
     "data": {
      "text/plain": "        itemid categoryid available  \\\n156152  174719       1073         0   \n325008  363736       1483         0   \n376089  420943       1384         1   \n\n                                               properties  \\\n156152  [112, 159, 202, 283, 348, 364, 506, 551, 6, 67...   \n325008  [1, 1016, 1032, 1036, 1037, 1079, 1090, 112, 1...   \n376089  [1009, 1025, 112, 124, 159, 202, 227, 283, 348...   \n\n                                          property_values  \n156152  [679677, 519769, 145210 182495 632043 1250065,...  \n325008  [1200832, 1086273 n1200.000 628176 n1200.000 1...  \n376089  [769062, n4800.000 337002, 679677, 873905, 519...  ",
      "text/html": "<div>\n<style scoped>\n    .dataframe tbody tr th:only-of-type {\n        vertical-align: middle;\n    }\n\n    .dataframe tbody tr th {\n        vertical-align: top;\n    }\n\n    .dataframe thead th {\n        text-align: right;\n    }\n</style>\n<table border=\"1\" class=\"dataframe\">\n  <thead>\n    <tr style=\"text-align: right;\">\n      <th></th>\n      <th>itemid</th>\n      <th>categoryid</th>\n      <th>available</th>\n      <th>properties</th>\n      <th>property_values</th>\n    </tr>\n  </thead>\n  <tbody>\n    <tr>\n      <th>156152</th>\n      <td>174719</td>\n      <td>1073</td>\n      <td>0</td>\n      <td>[112, 159, 202, 283, 348, 364, 506, 551, 6, 67...</td>\n      <td>[679677, 519769, 145210 182495 632043 1250065,...</td>\n    </tr>\n    <tr>\n      <th>325008</th>\n      <td>363736</td>\n      <td>1483</td>\n      <td>0</td>\n      <td>[1, 1016, 1032, 1036, 1037, 1079, 1090, 112, 1...</td>\n      <td>[1200832, 1086273 n1200.000 628176 n1200.000 1...</td>\n    </tr>\n    <tr>\n      <th>376089</th>\n      <td>420943</td>\n      <td>1384</td>\n      <td>1</td>\n      <td>[1009, 1025, 112, 124, 159, 202, 227, 283, 348...</td>\n      <td>[769062, n4800.000 337002, 679677, 873905, 519...</td>\n    </tr>\n  </tbody>\n</table>\n</div>"
     },
     "execution_count": 20,
     "metadata": {},
     "output_type": "execute_result"
    }
   ],
   "source": [
    "item_properties[item_properties['itemid'].isin([363736, 420943, 174719])]"
   ],
   "metadata": {
    "collapsed": false,
    "ExecuteTime": {
     "end_time": "2023-11-25T19:54:10.293892Z",
     "start_time": "2023-11-25T19:54:10.277427Z"
    }
   },
   "id": "b69265664c41a3b9"
  },
  {
   "cell_type": "code",
   "execution_count": 21,
   "outputs": [],
   "source": [
    "def flatten_column_and_get_unique_entries(column):\n",
    "    unique_elements = []\n",
    "\n",
    "    # Iterate through the DataFrame column\n",
    "    for int_list in column:\n",
    "        for item in list(int_list):\n",
    "            unique_elements.append(item)\n",
    "    # Convert the list to a set to remove duplicates\n",
    "    unique_integers_list = np.unique(unique_elements)\n",
    "    return unique_integers_list\n",
    "\n",
    "def flatten_column_and_get_unique_entries_for_property_values(column):\n",
    "    unique_elements = set()\n",
    "\n",
    "    # Iterate through the DataFrame column\n",
    "    for int_list in column:\n",
    "        for item in list(int_list):\n",
    "            unique_elements.update(item)\n",
    "    # Convert the list to a set to remove duplicates\n",
    "    unique_integers_list = list(unique_elements)\n",
    "    return unique_integers_list\n",
    "\n",
    "def convert_to_tuple(column):\n",
    "    return [tuple(x) for x in column]\n",
    "\n",
    "def convert_to_tuple_2(column):\n",
    "    return [tuple(str(x) for x in row) for row in column]\n",
    "\n",
    "\n",
    "all_product_ids = item_properties['itemid'].unique()\n",
    "all_categories = item_properties['categoryid'].unique()\n",
    "all_available = item_properties['available'].unique()\n",
    "all_product_properties = convert_to_tuple(item_properties['properties'])\n",
    "all_product_values = convert_to_tuple_2(item_properties['property_values'])\n",
    "\n",
    "items_that_have_an_event_but_are_not_in_all_products = [element for element in events.itemid.unique() if element not in all_product_ids]\n",
    "#drop all events with products, where no product data is available\n",
    "events.drop(events[events.itemid.isin(items_that_have_an_event_but_are_not_in_all_products)].index, inplace=True)"
   ],
   "metadata": {
    "collapsed": false,
    "ExecuteTime": {
     "end_time": "2023-11-25T19:54:59.607629Z",
     "start_time": "2023-11-25T19:54:10.290226Z"
    }
   },
   "id": "f68b609edbc8ae02"
  },
  {
   "cell_type": "code",
   "execution_count": 22,
   "outputs": [],
   "source": [
    "# all_product_properties, all_product_values"
   ],
   "metadata": {
    "collapsed": false,
    "ExecuteTime": {
     "end_time": "2023-11-25T19:54:59.616915Z",
     "start_time": "2023-11-25T19:54:59.607915Z"
    }
   },
   "id": "ae0321f7eb485d7f"
  },
  {
   "cell_type": "code",
   "execution_count": 23,
   "outputs": [],
   "source": [
    "merged_features = list(all_categories) + list(all_available)# + all_product_properties + all_product_values\n",
    "\n",
    "dataset = Dataset()\n",
    "dataset.fit(users=events['visitorid'].unique(), items=all_product_ids, item_features=merged_features)\n",
    "\n",
    "(interactions, weights) = dataset.build_interactions(\n",
    "    (row.visitorid, row.itemid, row.event_mapped)\n",
    "    for row in events.itertuples()\n",
    ")"
   ],
   "metadata": {
    "collapsed": false,
    "ExecuteTime": {
     "end_time": "2023-11-25T19:54:59.742640Z",
     "start_time": "2023-11-25T19:54:59.612371Z"
    }
   },
   "id": "e675c28aad603d82"
  },
  {
   "cell_type": "code",
   "execution_count": 24,
   "outputs": [],
   "source": [
    "# Ensure that your productNumber is in a list (making it an iterable)\n",
    "item_features = dataset.build_item_features((\n",
    "    (row.itemid, [row.categoryid, row.available])#, tuple(row.properties), tuple(str(x) for x in row.property_values)])\n",
    "    for row in item_properties.itertuples()))"
   ],
   "metadata": {
    "collapsed": false,
    "ExecuteTime": {
     "end_time": "2023-11-25T19:55:00.718701Z",
     "start_time": "2023-11-25T19:54:59.798810Z"
    }
   },
   "id": "105d4fc4805e43ed"
  },
  {
   "cell_type": "code",
   "execution_count": 25,
   "outputs": [],
   "source": [
    "random_state = 27\n",
    "num_epochs = 5\n",
    "model = LightFM(loss='bpr', random_state=random_state)\n",
    "# Split the interactions into training and testing sets\n",
    "train_interactions, test_interactions = random_train_test_split(interactions, test_percentage=0.2)"
   ],
   "metadata": {
    "collapsed": false,
    "ExecuteTime": {
     "end_time": "2023-11-25T19:55:00.728093Z",
     "start_time": "2023-11-25T19:55:00.722120Z"
    }
   },
   "id": "1be879266ca62dc3"
  },
  {
   "cell_type": "code",
   "execution_count": 26,
   "outputs": [],
   "source": [
    "plot_auc = False\n",
    "if not plot_auc:\n",
    "    model.fit(train_interactions, epochs=num_epochs, item_features=item_features, num_threads=4)\n",
    "else: \n",
    "    auc_by_epoch = []\n",
    "    epochs = []\n",
    "    \n",
    "    # Run several epochs, computing AUC after each epoch\n",
    "    for epoch in range(num_epochs):\n",
    "        model.fit_partial(train_interactions, epochs=1)\n",
    "        auc = auc_score(model, test_interactions).mean()\n",
    "        print(f\"Epoch {epoch}: AUC = {auc}\")\n",
    "    \n",
    "        epochs.append(epoch)\n",
    "        auc_by_epoch.append(auc)\n",
    "    # Plotting\n",
    "    plt.figure(figsize=(10, 5))\n",
    "    plt.plot(epochs, auc_by_epoch)\n",
    "    plt.xlabel('Epochs')\n",
    "    plt.ylabel('AUC')\n",
    "    plt.title('AUC by Epoch')\n",
    "    plt.show()"
   ],
   "metadata": {
    "collapsed": false,
    "ExecuteTime": {
     "end_time": "2023-11-25T19:55:00.813451Z",
     "start_time": "2023-11-25T19:55:00.726704Z"
    }
   },
   "id": "108bc2830f42593a"
  },
  {
   "cell_type": "markdown",
   "source": [],
   "metadata": {
    "collapsed": false
   },
   "id": "e650f2f826288c05"
  },
  {
   "cell_type": "code",
   "execution_count": 27,
   "outputs": [
    {
     "name": "stdout",
     "output_type": "stream",
     "text": [
      "train Precision: 0.0004\n",
      "train Recall: 0.0007\n",
      "train AUC: 0.6624\n"
     ]
    },
    {
     "data": {
      "text/plain": "'------'"
     },
     "metadata": {},
     "output_type": "display_data"
    },
    {
     "name": "stdout",
     "output_type": "stream",
     "text": [
      "test Precision: 0.0000\n",
      "test Recall: 0.0000\n",
      "test AUC: 0.6629\n"
     ]
    }
   ],
   "source": [
    "k_test = 2\n",
    "\n",
    "def test_model(model, interactions, k_test, item_features, prefix): \n",
    "    train_precision = precision_at_k(model, interactions, k=k_test, item_features=item_features).mean()\n",
    "    print(prefix + 'Precision: {:.4f}'.format(train_precision))\n",
    "    train_recall = recall_at_k(model, interactions, k=k_test, item_features=item_features).mean()\n",
    "    print(prefix + 'Recall: {:.4f}'.format(train_recall))\n",
    "    train_auc = auc_score(model, interactions, item_features=item_features).mean()\n",
    "    print(prefix + 'AUC: {:.4f}'.format(train_auc))\n",
    "    \n",
    "test_model(model, train_interactions, k_test, item_features, 'train ')\n",
    "display('------')\n",
    "test_model(model, test_interactions, k_test, item_features, 'test ')"
   ],
   "metadata": {
    "collapsed": false,
    "ExecuteTime": {
     "end_time": "2023-11-25T20:05:09.504676Z",
     "start_time": "2023-11-25T19:55:00.815590Z"
    }
   },
   "id": "b7ac83d356bed0b9"
  },
  {
   "cell_type": "code",
   "execution_count": 32,
   "outputs": [],
   "source": [
    "def predict_best_n_products(user_id, n = 5, no_outputs = False):\n",
    "    item_ids = events[events.visitorid ==  user_id].itemid.tolist()\n",
    "    user_mapping, _, item_mapping, _ = dataset.mapping()\n",
    "    if not no_outputs:\n",
    "        print('user ' + str(user_id) + ' bought following items')\n",
    "        display(item_properties[item_properties.itemid.isin(item_ids) ])\n",
    "    \n",
    "    \n",
    "    # Convert the original user_id to internal user index\n",
    "    internal_user_id = user_mapping[user_id]\n",
    "    \n",
    "    all_item_ids = np.array(all_product_ids.tolist())\n",
    "    # Get the internal item indices for these IDs\n",
    "    internal_all_item_ids = np.array([item_mapping[item] for item in all_item_ids])\n",
    "    # Convert the list of item_ids that the user has already interacted with to internal item indices\n",
    "    internal_item_ids = [item_mapping[item] for item in item_ids]\n",
    "    # Remove the items the user has already interacted with\n",
    "    recommendable_item_ids = np.setdiff1d(internal_all_item_ids, internal_item_ids)\n",
    "    # Make predictions for the remaining items\n",
    "    scores = model.predict(internal_user_id, recommendable_item_ids)\n",
    "    indices = np.flip(np.argsort(scores)[-n:])\n",
    "    scores_sorted = [scores[i] for i in indices]\n",
    "    \n",
    "    top_recommended_item_internal = [recommendable_item_ids[i] for i in scores.argsort()[::-1]]\n",
    "    \n",
    "    top_recommended_items = []\n",
    "    count = 0\n",
    "    for internal_id in top_recommended_item_internal:\n",
    "        top_recommended_items.append((list(item_mapping.keys()) [list(item_mapping.values()).index(internal_id)]))\n",
    "        count += 1\n",
    "        if count >= n: \n",
    "            break\n",
    "    \n",
    "    if not no_outputs:\n",
    "        print('user got recommended following ' + str(n) + ' items: ')\n",
    "        display(item_properties[item_properties.itemid.isin(top_recommended_items)])\n",
    "    return scores_sorted, top_recommended_items\n"
   ],
   "metadata": {
    "collapsed": false,
    "ExecuteTime": {
     "end_time": "2023-11-26T08:46:23.981078Z",
     "start_time": "2023-11-26T08:46:23.969337Z"
    }
   },
   "id": "3321c415128d18c7"
  },
  {
   "cell_type": "code",
   "execution_count": 33,
   "outputs": [
    {
     "name": "stdout",
     "output_type": "stream",
     "text": [
      "user 325780 bought following items\n"
     ]
    },
    {
     "data": {
      "text/plain": "        itemid categoryid available  \\\n385170  431099        746         1   \n\n                                               properties  \\\n385170  [112, 159, 202, 227, 28, 283, 319, 364, 454, 4...   \n\n                                          property_values  \n385170  [679677, 519769, 602490 857333, 1263557 150169...  ",
      "text/html": "<div>\n<style scoped>\n    .dataframe tbody tr th:only-of-type {\n        vertical-align: middle;\n    }\n\n    .dataframe tbody tr th {\n        vertical-align: top;\n    }\n\n    .dataframe thead th {\n        text-align: right;\n    }\n</style>\n<table border=\"1\" class=\"dataframe\">\n  <thead>\n    <tr style=\"text-align: right;\">\n      <th></th>\n      <th>itemid</th>\n      <th>categoryid</th>\n      <th>available</th>\n      <th>properties</th>\n      <th>property_values</th>\n    </tr>\n  </thead>\n  <tbody>\n    <tr>\n      <th>385170</th>\n      <td>431099</td>\n      <td>746</td>\n      <td>1</td>\n      <td>[112, 159, 202, 227, 28, 283, 319, 364, 454, 4...</td>\n      <td>[679677, 519769, 602490 857333, 1263557 150169...</td>\n    </tr>\n  </tbody>\n</table>\n</div>"
     },
     "metadata": {},
     "output_type": "display_data"
    },
    {
     "name": "stdout",
     "output_type": "stream",
     "text": [
      "user got recommended following 5 items: \n"
     ]
    },
    {
     "data": {
      "text/plain": "        itemid categoryid available  \\\n118547  132600       1205         1   \n134366  150318       1236         1   \n168171  188171       1051         1   \n192772  215715        926         0   \n209314  234255       1051         1   \n\n                                               properties  \\\n118547  [112, 159, 202, 283, 348, 364, 506, 551, 6, 67...   \n134366  [1081, 112, 159, 202, 227, 283, 364, 470, 6, 6...   \n168171  [1036, 1066, 112, 159, 202, 227, 230, 283, 300...   \n192772  [1058, 1092, 112, 159, 202, 283, 348, 349, 364...   \n209314  [1036, 1066, 112, 159, 202, 227, 230, 283, 300...   \n\n                                          property_values  \n118547  [679677, 519769, 1084196 1328698, 668584 65390...  \n134366  [769062, 679677, 519769, 1265514 1224110 73460...  \n168171  [1318567, 732011 424566, 679677, 519769, 48023...  \n192772  [n36.000, 291010, 679677, 519769, 153900, 1325...  \n209314  [726612, 58462 424566, 679677, 519769, 351125,...  ",
      "text/html": "<div>\n<style scoped>\n    .dataframe tbody tr th:only-of-type {\n        vertical-align: middle;\n    }\n\n    .dataframe tbody tr th {\n        vertical-align: top;\n    }\n\n    .dataframe thead th {\n        text-align: right;\n    }\n</style>\n<table border=\"1\" class=\"dataframe\">\n  <thead>\n    <tr style=\"text-align: right;\">\n      <th></th>\n      <th>itemid</th>\n      <th>categoryid</th>\n      <th>available</th>\n      <th>properties</th>\n      <th>property_values</th>\n    </tr>\n  </thead>\n  <tbody>\n    <tr>\n      <th>118547</th>\n      <td>132600</td>\n      <td>1205</td>\n      <td>1</td>\n      <td>[112, 159, 202, 283, 348, 364, 506, 551, 6, 67...</td>\n      <td>[679677, 519769, 1084196 1328698, 668584 65390...</td>\n    </tr>\n    <tr>\n      <th>134366</th>\n      <td>150318</td>\n      <td>1236</td>\n      <td>1</td>\n      <td>[1081, 112, 159, 202, 227, 283, 364, 470, 6, 6...</td>\n      <td>[769062, 679677, 519769, 1265514 1224110 73460...</td>\n    </tr>\n    <tr>\n      <th>168171</th>\n      <td>188171</td>\n      <td>1051</td>\n      <td>1</td>\n      <td>[1036, 1066, 112, 159, 202, 227, 230, 283, 300...</td>\n      <td>[1318567, 732011 424566, 679677, 519769, 48023...</td>\n    </tr>\n    <tr>\n      <th>192772</th>\n      <td>215715</td>\n      <td>926</td>\n      <td>0</td>\n      <td>[1058, 1092, 112, 159, 202, 283, 348, 349, 364...</td>\n      <td>[n36.000, 291010, 679677, 519769, 153900, 1325...</td>\n    </tr>\n    <tr>\n      <th>209314</th>\n      <td>234255</td>\n      <td>1051</td>\n      <td>1</td>\n      <td>[1036, 1066, 112, 159, 202, 227, 230, 283, 300...</td>\n      <td>[726612, 58462 424566, 679677, 519769, 351125,...</td>\n    </tr>\n  </tbody>\n</table>\n</div>"
     },
     "metadata": {},
     "output_type": "display_data"
    },
    {
     "data": {
      "text/plain": "([-0.040566873, -0.041604966, -0.04223901, -0.04313784, -0.044840865],\n [188171, 150318, 234255, 215715, 132600])"
     },
     "metadata": {},
     "output_type": "display_data"
    }
   ],
   "source": [
    "user_id = 325780\n",
    "display(predict_best_n_products(user_id, 5))"
   ],
   "metadata": {
    "collapsed": false,
    "ExecuteTime": {
     "end_time": "2023-11-26T08:46:25.414491Z",
     "start_time": "2023-11-26T08:46:25.010797Z"
    }
   },
   "id": "7abbb7afd27af325"
  },
  {
   "cell_type": "markdown",
   "source": [],
   "metadata": {
    "collapsed": false
   },
   "id": "d19607e3cfd40724"
  },
  {
   "cell_type": "code",
   "execution_count": 30,
   "outputs": [
    {
     "name": "stdout",
     "output_type": "stream",
     "text": [
      "calculating recommendations for 8684 users\n",
      "calculated recommendations for 1000 users\n",
      "calculated recommendations for 2000 users\n",
      "calculated recommendations for 3000 users\n",
      "calculated recommendations for 4000 users\n",
      "calculated recommendations for 5000 users\n",
      "calculated recommendations for 6000 users\n",
      "calculated recommendations for 7000 users\n",
      "calculated recommendations for 8000 users\n",
      "Catalog Coverage: 0.00\n",
      "Item Coverage: 6.00\n",
      "Average Score: -0.02, Min Score: -0.89, Max Score: 0.07\n"
     ]
    }
   ],
   "source": [
    "from collections import defaultdict\n",
    "\n",
    "# Assuming 'interaction_data.customer_id.unique()' gives us a list of unique user IDs\n",
    "# and 'predict_best_n_products(user, n)' returns the top 'n' recommended product IDs for a given user\n",
    "\n",
    "# Step 1: Store Recommended Items\n",
    "recommended_products = defaultdict(list)\n",
    "print('calculating recommendations for ' + str(len(events.visitorid.unique())) + ' users')\n",
    "count = 0\n",
    "all_scores = []\n",
    "for user in events.visitorid.unique():\n",
    "    scores, top_recommended_items = predict_best_n_products(user, 5, True)\n",
    "    recommended_products[user].extend(top_recommended_items)\n",
    "    all_scores.extend(scores)\n",
    "    count += 1\n",
    "    if count % 1000 == 0:\n",
    "        print('calculated recommendations for ' + str(count) + ' users')\n",
    "\n",
    "\n",
    "# Step 2: Calculate Catalog Coverage\n",
    "unique_recommended_items = set()\n",
    "for user, items in recommended_products.items():\n",
    "    unique_recommended_items.update(items)\n",
    "\n",
    "catalog_coverage = len(unique_recommended_items) / len(item_properties.itemid.unique())  # Replace with your catalog size\n",
    "\n",
    "# Step 3: Calculate Item Coverage\n",
    "item_recommendation_counts = defaultdict(int)\n",
    "for items in recommended_products.values():\n",
    "    for item in items:\n",
    "        item_recommendation_counts[item] += 1\n",
    "\n",
    "average_item_coverage = sum(item_recommendation_counts.values()) / len(recommended_products)\n",
    "\n",
    "# Print the results\n",
    "print(f\"Catalog Coverage: {catalog_coverage:.2f}\")\n",
    "print(f\"Item Coverage: {average_item_coverage:.2f}\")\n",
    "print(f\"Average Score: {np.mean(all_scores):.2f}, Min Score: {np.min(all_scores):.2f}, Max Score: {np.max(all_scores):.2f}\")"
   ],
   "metadata": {
    "collapsed": false,
    "ExecuteTime": {
     "end_time": "2023-11-25T21:02:33.815829Z",
     "start_time": "2023-11-25T20:05:09.932307Z"
    }
   },
   "id": "c4983fc31bc919a8"
  },
  {
   "cell_type": "code",
   "execution_count": 31,
   "outputs": [
    {
     "name": "stdout",
     "output_type": "stream",
     "text": [
      "recommended items 17; num of items: 417053\n"
     ]
    }
   ],
   "source": [
    "print(f\"recommended items {len(unique_recommended_items)}; num of items: {len(item_properties.itemid.unique())}\")"
   ],
   "metadata": {
    "collapsed": false,
    "ExecuteTime": {
     "end_time": "2023-11-26T08:42:31.915904Z",
     "start_time": "2023-11-26T08:42:31.904959Z"
    }
   },
   "id": "a89b44b9735b619a"
  }
 ],
 "metadata": {
  "kernelspec": {
   "display_name": "Python 3",
   "language": "python",
   "name": "python3"
  },
  "language_info": {
   "codemirror_mode": {
    "name": "ipython",
    "version": 2
   },
   "file_extension": ".py",
   "mimetype": "text/x-python",
   "name": "python",
   "nbconvert_exporter": "python",
   "pygments_lexer": "ipython2",
   "version": "2.7.6"
  }
 },
 "nbformat": 4,
 "nbformat_minor": 5
}
