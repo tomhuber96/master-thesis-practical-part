{
 "cells": [
  {
   "cell_type": "markdown",
   "source": [
    "# Detail Rocket Deep Learning Recommendation System\n",
    "\n",
    "## Imports and installs"
   ],
   "metadata": {
    "collapsed": false
   }
  },
  {
   "cell_type": "code",
   "execution_count": 51,
   "outputs": [],
   "source": [
    "from sklearn.model_selection import train_test_split\n",
    "import tensorflow as tf\n",
    "#%pip install pandas\n",
    "# %pip install seaborn\n",
    "#%pip install numpy\n",
    "\n",
    "from tensorflow.python.ops.gen_array_ops import ExpandDims\n",
    "from keras.layers import RepeatVector, TimeDistributed, Layer, Reshape, BatchNormalization, Attention, Input, Embedding, LSTM, Dense, Dot, Activation, Concatenate, Flatten\n",
    "\n",
    "from keras.models import Model"
   ],
   "metadata": {
    "collapsed": false
   }
  },
  {
   "cell_type": "code",
   "execution_count": 51,
   "outputs": [],
   "source": [],
   "metadata": {
    "collapsed": false
   }
  },
  {
   "cell_type": "code",
   "execution_count": 52,
   "outputs": [],
   "source": [
    "import pandas as pd\n",
    "import seaborn as sns\n",
    "import numpy as np\n",
    "import matplotlib.pyplot as plt\n",
    "import operator\n",
    "from sklearn.ensemble import RandomForestClassifier\n",
    "from sklearn import metrics\n",
    "from keras.utils import pad_sequences\n",
    "#test"
   ],
   "metadata": {
    "collapsed": false
   }
  },
  {
   "cell_type": "markdown",
   "source": [],
   "metadata": {
    "collapsed": false
   }
  },
  {
   "cell_type": "markdown",
   "source": [
    "## Load Data\n",
    "\n",
    "Preprocessing was done in EDA notebook and stored in pickle files"
   ],
   "metadata": {
    "collapsed": false
   }
  },
  {
   "cell_type": "code",
   "execution_count": 53,
   "outputs": [
    {
     "data": {
      "text/plain": "      categoryid  parentid\n0           1016     213.0\n1            809     169.0\n2            570       9.0\n3           1691     885.0\n4            536    1691.0\n...          ...       ...\n1664          49    1125.0\n1665        1112     630.0\n1666        1336     745.0\n1667         689     207.0\n1668         761     395.0\n\n[1669 rows x 2 columns]",
      "text/html": "<div>\n<style scoped>\n    .dataframe tbody tr th:only-of-type {\n        vertical-align: middle;\n    }\n\n    .dataframe tbody tr th {\n        vertical-align: top;\n    }\n\n    .dataframe thead th {\n        text-align: right;\n    }\n</style>\n<table border=\"1\" class=\"dataframe\">\n  <thead>\n    <tr style=\"text-align: right;\">\n      <th></th>\n      <th>categoryid</th>\n      <th>parentid</th>\n    </tr>\n  </thead>\n  <tbody>\n    <tr>\n      <th>0</th>\n      <td>1016</td>\n      <td>213.0</td>\n    </tr>\n    <tr>\n      <th>1</th>\n      <td>809</td>\n      <td>169.0</td>\n    </tr>\n    <tr>\n      <th>2</th>\n      <td>570</td>\n      <td>9.0</td>\n    </tr>\n    <tr>\n      <th>3</th>\n      <td>1691</td>\n      <td>885.0</td>\n    </tr>\n    <tr>\n      <th>4</th>\n      <td>536</td>\n      <td>1691.0</td>\n    </tr>\n    <tr>\n      <th>...</th>\n      <td>...</td>\n      <td>...</td>\n    </tr>\n    <tr>\n      <th>1664</th>\n      <td>49</td>\n      <td>1125.0</td>\n    </tr>\n    <tr>\n      <th>1665</th>\n      <td>1112</td>\n      <td>630.0</td>\n    </tr>\n    <tr>\n      <th>1666</th>\n      <td>1336</td>\n      <td>745.0</td>\n    </tr>\n    <tr>\n      <th>1667</th>\n      <td>689</td>\n      <td>207.0</td>\n    </tr>\n    <tr>\n      <th>1668</th>\n      <td>761</td>\n      <td>395.0</td>\n    </tr>\n  </tbody>\n</table>\n<p>1669 rows × 2 columns</p>\n</div>"
     },
     "execution_count": 53,
     "metadata": {},
     "output_type": "execute_result"
    }
   ],
   "source": [
    "basepath = '../../datasets/preprocessed_datasets/retailrocket/'\n",
    "category_tree = pd.read_pickle(basepath +'category_tree.pkl')\n",
    "category_tree"
   ],
   "metadata": {
    "collapsed": false
   }
  },
  {
   "cell_type": "code",
   "execution_count": 54,
   "outputs": [
    {
     "data": {
      "text/plain": "             timestamp  visitorid event  itemid  transactionid  \\\n0        1433221332117     257597  view  355908            NaN   \n1        1433224214164     992329  view  248676            NaN   \n2        1433221999827     111016  view  318965            NaN   \n3        1433221955914     483717  view  253185            NaN   \n4        1433221337106     951259  view  367447            NaN   \n...                ...        ...   ...     ...            ...   \n2756096  1438398785939     591435  view  261427            NaN   \n2756097  1438399813142     762376  view  115946            NaN   \n2756098  1438397820527    1251746  view   78144            NaN   \n2756099  1438398530703    1184451  view  283392            NaN   \n2756100  1438400163914     199536  view  152913            NaN   \n\n                    datetime  \n0        2015-06-02 07:02:12  \n1        2015-06-02 07:50:14  \n2        2015-06-02 07:13:19  \n3        2015-06-02 07:12:35  \n4        2015-06-02 07:02:17  \n...                      ...  \n2756096  2015-08-01 05:13:05  \n2756097  2015-08-01 05:30:13  \n2756098  2015-08-01 04:57:00  \n2756099  2015-08-01 05:08:50  \n2756100  2015-08-01 05:36:03  \n\n[2755641 rows x 6 columns]",
      "text/html": "<div>\n<style scoped>\n    .dataframe tbody tr th:only-of-type {\n        vertical-align: middle;\n    }\n\n    .dataframe tbody tr th {\n        vertical-align: top;\n    }\n\n    .dataframe thead th {\n        text-align: right;\n    }\n</style>\n<table border=\"1\" class=\"dataframe\">\n  <thead>\n    <tr style=\"text-align: right;\">\n      <th></th>\n      <th>timestamp</th>\n      <th>visitorid</th>\n      <th>event</th>\n      <th>itemid</th>\n      <th>transactionid</th>\n      <th>datetime</th>\n    </tr>\n  </thead>\n  <tbody>\n    <tr>\n      <th>0</th>\n      <td>1433221332117</td>\n      <td>257597</td>\n      <td>view</td>\n      <td>355908</td>\n      <td>NaN</td>\n      <td>2015-06-02 07:02:12</td>\n    </tr>\n    <tr>\n      <th>1</th>\n      <td>1433224214164</td>\n      <td>992329</td>\n      <td>view</td>\n      <td>248676</td>\n      <td>NaN</td>\n      <td>2015-06-02 07:50:14</td>\n    </tr>\n    <tr>\n      <th>2</th>\n      <td>1433221999827</td>\n      <td>111016</td>\n      <td>view</td>\n      <td>318965</td>\n      <td>NaN</td>\n      <td>2015-06-02 07:13:19</td>\n    </tr>\n    <tr>\n      <th>3</th>\n      <td>1433221955914</td>\n      <td>483717</td>\n      <td>view</td>\n      <td>253185</td>\n      <td>NaN</td>\n      <td>2015-06-02 07:12:35</td>\n    </tr>\n    <tr>\n      <th>4</th>\n      <td>1433221337106</td>\n      <td>951259</td>\n      <td>view</td>\n      <td>367447</td>\n      <td>NaN</td>\n      <td>2015-06-02 07:02:17</td>\n    </tr>\n    <tr>\n      <th>...</th>\n      <td>...</td>\n      <td>...</td>\n      <td>...</td>\n      <td>...</td>\n      <td>...</td>\n      <td>...</td>\n    </tr>\n    <tr>\n      <th>2756096</th>\n      <td>1438398785939</td>\n      <td>591435</td>\n      <td>view</td>\n      <td>261427</td>\n      <td>NaN</td>\n      <td>2015-08-01 05:13:05</td>\n    </tr>\n    <tr>\n      <th>2756097</th>\n      <td>1438399813142</td>\n      <td>762376</td>\n      <td>view</td>\n      <td>115946</td>\n      <td>NaN</td>\n      <td>2015-08-01 05:30:13</td>\n    </tr>\n    <tr>\n      <th>2756098</th>\n      <td>1438397820527</td>\n      <td>1251746</td>\n      <td>view</td>\n      <td>78144</td>\n      <td>NaN</td>\n      <td>2015-08-01 04:57:00</td>\n    </tr>\n    <tr>\n      <th>2756099</th>\n      <td>1438398530703</td>\n      <td>1184451</td>\n      <td>view</td>\n      <td>283392</td>\n      <td>NaN</td>\n      <td>2015-08-01 05:08:50</td>\n    </tr>\n    <tr>\n      <th>2756100</th>\n      <td>1438400163914</td>\n      <td>199536</td>\n      <td>view</td>\n      <td>152913</td>\n      <td>NaN</td>\n      <td>2015-08-01 05:36:03</td>\n    </tr>\n  </tbody>\n</table>\n<p>2755641 rows × 6 columns</p>\n</div>"
     },
     "execution_count": 54,
     "metadata": {},
     "output_type": "execute_result"
    }
   ],
   "source": [
    "events = pd.read_pickle(basepath +'events.pkl')\n",
    "events"
   ],
   "metadata": {
    "collapsed": false
   }
  },
  {
   "cell_type": "code",
   "execution_count": 55,
   "outputs": [
    {
     "data": {
      "text/plain": "         visitorid  products_viewed  num_views  num_add2cart  num_transaction\n0           693516                1          1             2                0\n1           829044                1          1             0                0\n2           652699                1          1             0                0\n3          1125936                1          1             0                0\n4          1149227                1          1             0                0\n...            ...              ...        ...           ...              ...\n1407575     998517                1          1             0                0\n1407576     472345                1          1             0                0\n1407577    1207677                1          1             0                0\n1407578     255126                1          1             0                0\n1407579     622226                1          1             0                0\n\n[1407580 rows x 5 columns]",
      "text/html": "<div>\n<style scoped>\n    .dataframe tbody tr th:only-of-type {\n        vertical-align: middle;\n    }\n\n    .dataframe tbody tr th {\n        vertical-align: top;\n    }\n\n    .dataframe thead th {\n        text-align: right;\n    }\n</style>\n<table border=\"1\" class=\"dataframe\">\n  <thead>\n    <tr style=\"text-align: right;\">\n      <th></th>\n      <th>visitorid</th>\n      <th>products_viewed</th>\n      <th>num_views</th>\n      <th>num_add2cart</th>\n      <th>num_transaction</th>\n    </tr>\n  </thead>\n  <tbody>\n    <tr>\n      <th>0</th>\n      <td>693516</td>\n      <td>1</td>\n      <td>1</td>\n      <td>2</td>\n      <td>0</td>\n    </tr>\n    <tr>\n      <th>1</th>\n      <td>829044</td>\n      <td>1</td>\n      <td>1</td>\n      <td>0</td>\n      <td>0</td>\n    </tr>\n    <tr>\n      <th>2</th>\n      <td>652699</td>\n      <td>1</td>\n      <td>1</td>\n      <td>0</td>\n      <td>0</td>\n    </tr>\n    <tr>\n      <th>3</th>\n      <td>1125936</td>\n      <td>1</td>\n      <td>1</td>\n      <td>0</td>\n      <td>0</td>\n    </tr>\n    <tr>\n      <th>4</th>\n      <td>1149227</td>\n      <td>1</td>\n      <td>1</td>\n      <td>0</td>\n      <td>0</td>\n    </tr>\n    <tr>\n      <th>...</th>\n      <td>...</td>\n      <td>...</td>\n      <td>...</td>\n      <td>...</td>\n      <td>...</td>\n    </tr>\n    <tr>\n      <th>1407575</th>\n      <td>998517</td>\n      <td>1</td>\n      <td>1</td>\n      <td>0</td>\n      <td>0</td>\n    </tr>\n    <tr>\n      <th>1407576</th>\n      <td>472345</td>\n      <td>1</td>\n      <td>1</td>\n      <td>0</td>\n      <td>0</td>\n    </tr>\n    <tr>\n      <th>1407577</th>\n      <td>1207677</td>\n      <td>1</td>\n      <td>1</td>\n      <td>0</td>\n      <td>0</td>\n    </tr>\n    <tr>\n      <th>1407578</th>\n      <td>255126</td>\n      <td>1</td>\n      <td>1</td>\n      <td>0</td>\n      <td>0</td>\n    </tr>\n    <tr>\n      <th>1407579</th>\n      <td>622226</td>\n      <td>1</td>\n      <td>1</td>\n      <td>0</td>\n      <td>0</td>\n    </tr>\n  </tbody>\n</table>\n<p>1407580 rows × 5 columns</p>\n</div>"
     },
     "execution_count": 55,
     "metadata": {},
     "output_type": "execute_result"
    }
   ],
   "source": [
    "visitor_actions = pd.read_pickle(basepath +'visitor_actions.pkl')\n",
    "visitor_actions"
   ],
   "metadata": {
    "collapsed": false
   }
  },
  {
   "cell_type": "code",
   "execution_count": 56,
   "outputs": [
    {
     "data": {
      "text/plain": "         itemid  visitorid  view  addtocart  transaction\n0             3     370720   1.0          0            0\n1             3     639016   1.0          0            0\n2             4     905555   1.0          0            0\n3             4    1010132   1.0          0            0\n4             4    1042455   1.0          0            0\n...         ...        ...   ...        ...          ...\n2145174  466864    1388296   4.0          0            0\n2145175  466867     241803   1.0          0            0\n2145176  466867     450511   1.0          0            0\n2145177  466867    1001859   1.0          0            0\n2145178  466867    1117910   1.0          0            0\n\n[2145179 rows x 5 columns]",
      "text/html": "<div>\n<style scoped>\n    .dataframe tbody tr th:only-of-type {\n        vertical-align: middle;\n    }\n\n    .dataframe tbody tr th {\n        vertical-align: top;\n    }\n\n    .dataframe thead th {\n        text-align: right;\n    }\n</style>\n<table border=\"1\" class=\"dataframe\">\n  <thead>\n    <tr style=\"text-align: right;\">\n      <th></th>\n      <th>itemid</th>\n      <th>visitorid</th>\n      <th>view</th>\n      <th>addtocart</th>\n      <th>transaction</th>\n    </tr>\n  </thead>\n  <tbody>\n    <tr>\n      <th>0</th>\n      <td>3</td>\n      <td>370720</td>\n      <td>1.0</td>\n      <td>0</td>\n      <td>0</td>\n    </tr>\n    <tr>\n      <th>1</th>\n      <td>3</td>\n      <td>639016</td>\n      <td>1.0</td>\n      <td>0</td>\n      <td>0</td>\n    </tr>\n    <tr>\n      <th>2</th>\n      <td>4</td>\n      <td>905555</td>\n      <td>1.0</td>\n      <td>0</td>\n      <td>0</td>\n    </tr>\n    <tr>\n      <th>3</th>\n      <td>4</td>\n      <td>1010132</td>\n      <td>1.0</td>\n      <td>0</td>\n      <td>0</td>\n    </tr>\n    <tr>\n      <th>4</th>\n      <td>4</td>\n      <td>1042455</td>\n      <td>1.0</td>\n      <td>0</td>\n      <td>0</td>\n    </tr>\n    <tr>\n      <th>...</th>\n      <td>...</td>\n      <td>...</td>\n      <td>...</td>\n      <td>...</td>\n      <td>...</td>\n    </tr>\n    <tr>\n      <th>2145174</th>\n      <td>466864</td>\n      <td>1388296</td>\n      <td>4.0</td>\n      <td>0</td>\n      <td>0</td>\n    </tr>\n    <tr>\n      <th>2145175</th>\n      <td>466867</td>\n      <td>241803</td>\n      <td>1.0</td>\n      <td>0</td>\n      <td>0</td>\n    </tr>\n    <tr>\n      <th>2145176</th>\n      <td>466867</td>\n      <td>450511</td>\n      <td>1.0</td>\n      <td>0</td>\n      <td>0</td>\n    </tr>\n    <tr>\n      <th>2145177</th>\n      <td>466867</td>\n      <td>1001859</td>\n      <td>1.0</td>\n      <td>0</td>\n      <td>0</td>\n    </tr>\n    <tr>\n      <th>2145178</th>\n      <td>466867</td>\n      <td>1117910</td>\n      <td>1.0</td>\n      <td>0</td>\n      <td>0</td>\n    </tr>\n  </tbody>\n</table>\n<p>2145179 rows × 5 columns</p>\n</div>"
     },
     "execution_count": 56,
     "metadata": {},
     "output_type": "execute_result"
    }
   ],
   "source": [
    "product_item_df = pd.read_pickle(basepath +'product_item.pkl')\n",
    "product_item_df"
   ],
   "metadata": {
    "collapsed": false
   }
  },
  {
   "cell_type": "code",
   "execution_count": 57,
   "outputs": [
    {
     "data": {
      "text/plain": "         itemid  visitorid  view  addtocart  transaction\n10            6     330981   2.0          0            0\n18            6     771857   2.0          0            0\n19            6     802121   2.0          0            0\n36           15     724401   2.0          0            0\n40           15     989647   2.0          0            0\n...         ...        ...   ...        ...          ...\n2145162  466864    1076431   3.0          0            0\n2145165  466864    1183853   6.0          0            0\n2145167  466864    1224868   2.0          0            0\n2145169  466864    1265478   3.0          0            0\n2145174  466864    1388296   4.0          0            0\n\n[306548 rows x 5 columns]",
      "text/html": "<div>\n<style scoped>\n    .dataframe tbody tr th:only-of-type {\n        vertical-align: middle;\n    }\n\n    .dataframe tbody tr th {\n        vertical-align: top;\n    }\n\n    .dataframe thead th {\n        text-align: right;\n    }\n</style>\n<table border=\"1\" class=\"dataframe\">\n  <thead>\n    <tr style=\"text-align: right;\">\n      <th></th>\n      <th>itemid</th>\n      <th>visitorid</th>\n      <th>view</th>\n      <th>addtocart</th>\n      <th>transaction</th>\n    </tr>\n  </thead>\n  <tbody>\n    <tr>\n      <th>10</th>\n      <td>6</td>\n      <td>330981</td>\n      <td>2.0</td>\n      <td>0</td>\n      <td>0</td>\n    </tr>\n    <tr>\n      <th>18</th>\n      <td>6</td>\n      <td>771857</td>\n      <td>2.0</td>\n      <td>0</td>\n      <td>0</td>\n    </tr>\n    <tr>\n      <th>19</th>\n      <td>6</td>\n      <td>802121</td>\n      <td>2.0</td>\n      <td>0</td>\n      <td>0</td>\n    </tr>\n    <tr>\n      <th>36</th>\n      <td>15</td>\n      <td>724401</td>\n      <td>2.0</td>\n      <td>0</td>\n      <td>0</td>\n    </tr>\n    <tr>\n      <th>40</th>\n      <td>15</td>\n      <td>989647</td>\n      <td>2.0</td>\n      <td>0</td>\n      <td>0</td>\n    </tr>\n    <tr>\n      <th>...</th>\n      <td>...</td>\n      <td>...</td>\n      <td>...</td>\n      <td>...</td>\n      <td>...</td>\n    </tr>\n    <tr>\n      <th>2145162</th>\n      <td>466864</td>\n      <td>1076431</td>\n      <td>3.0</td>\n      <td>0</td>\n      <td>0</td>\n    </tr>\n    <tr>\n      <th>2145165</th>\n      <td>466864</td>\n      <td>1183853</td>\n      <td>6.0</td>\n      <td>0</td>\n      <td>0</td>\n    </tr>\n    <tr>\n      <th>2145167</th>\n      <td>466864</td>\n      <td>1224868</td>\n      <td>2.0</td>\n      <td>0</td>\n      <td>0</td>\n    </tr>\n    <tr>\n      <th>2145169</th>\n      <td>466864</td>\n      <td>1265478</td>\n      <td>3.0</td>\n      <td>0</td>\n      <td>0</td>\n    </tr>\n    <tr>\n      <th>2145174</th>\n      <td>466864</td>\n      <td>1388296</td>\n      <td>4.0</td>\n      <td>0</td>\n      <td>0</td>\n    </tr>\n  </tbody>\n</table>\n<p>306548 rows × 5 columns</p>\n</div>"
     },
     "execution_count": 57,
     "metadata": {},
     "output_type": "execute_result"
    }
   ],
   "source": [
    "product_item_df[product_item_df.view >= 2]"
   ],
   "metadata": {
    "collapsed": false
   }
  },
  {
   "cell_type": "code",
   "execution_count": 58,
   "outputs": [
    {
     "data": {
      "text/plain": "        itemid categoryid available  \\\n0            0        209         0   \n1            1       1114         1   \n2            2       1305         0   \n3            3       1171         0   \n4            4       1038         0   \n...        ...        ...       ...   \n417048  466862       1376         0   \n417049  466863        173         0   \n417050  466864        373         1   \n417051  466865        421         0   \n417052  466866       1164         0   \n\n                                               properties  \\\n0       [1036, 1056, 11, 112, 127, 139, 159, 177, 189,...   \n1       [0, 1036, 112, 159, 185, 202, 227, 238, 280, 2...   \n2       [1063, 112, 159, 202, 282, 283, 318, 332, 364,...   \n3       [1025, 1080, 112, 159, 202, 227, 250, 283, 30,...   \n4       [112, 115, 159, 202, 227, 28, 283, 33, 364, 59...   \n...                                                   ...   \n417048  [112, 139, 159, 186, 202, 227, 28, 283, 29, 34...   \n417049  [1014, 112, 159, 202, 227, 283, 364, 400, 47, ...   \n417050  [1036, 112, 152, 159, 202, 227, 230, 283, 348,...   \n417051  [1031, 112, 159, 202, 227, 277, 28, 283, 332, ...   \n417052  [112, 120, 128, 159, 202, 227, 28, 283, 320, 3...   \n\n                                          property_values  \n0       [1276750, n3.168 1144008, n15360.000 628176 n1...  \n1       [769062, 1154859, 679677, 519769, 769062, 1726...  \n2       [n396.000 145688, 679677, 519769, 648485 n6000...  \n3       [769062, 769062, 679677, 519769, 261419, 13057...  \n4       [679677, n24.000, 519769, 371058 71429, 588652...  \n...                                                   ...  \n417048  [679677, 769062, 519769, 575816 n432.000, 7173...  \n417049  [1075463, 679677, 519769, 1194687 550565 24255...  \n417050  [1154859, 679677, 1071492, 519769, 1262739 205...  \n417051  [1088309, 679677, 519769, 150169 780351 820477...  \n417052  [679677, 1057641, 590055 n24.000, 519769, 8924...  \n\n[417053 rows x 5 columns]",
      "text/html": "<div>\n<style scoped>\n    .dataframe tbody tr th:only-of-type {\n        vertical-align: middle;\n    }\n\n    .dataframe tbody tr th {\n        vertical-align: top;\n    }\n\n    .dataframe thead th {\n        text-align: right;\n    }\n</style>\n<table border=\"1\" class=\"dataframe\">\n  <thead>\n    <tr style=\"text-align: right;\">\n      <th></th>\n      <th>itemid</th>\n      <th>categoryid</th>\n      <th>available</th>\n      <th>properties</th>\n      <th>property_values</th>\n    </tr>\n  </thead>\n  <tbody>\n    <tr>\n      <th>0</th>\n      <td>0</td>\n      <td>209</td>\n      <td>0</td>\n      <td>[1036, 1056, 11, 112, 127, 139, 159, 177, 189,...</td>\n      <td>[1276750, n3.168 1144008, n15360.000 628176 n1...</td>\n    </tr>\n    <tr>\n      <th>1</th>\n      <td>1</td>\n      <td>1114</td>\n      <td>1</td>\n      <td>[0, 1036, 112, 159, 185, 202, 227, 238, 280, 2...</td>\n      <td>[769062, 1154859, 679677, 519769, 769062, 1726...</td>\n    </tr>\n    <tr>\n      <th>2</th>\n      <td>2</td>\n      <td>1305</td>\n      <td>0</td>\n      <td>[1063, 112, 159, 202, 282, 283, 318, 332, 364,...</td>\n      <td>[n396.000 145688, 679677, 519769, 648485 n6000...</td>\n    </tr>\n    <tr>\n      <th>3</th>\n      <td>3</td>\n      <td>1171</td>\n      <td>0</td>\n      <td>[1025, 1080, 112, 159, 202, 227, 250, 283, 30,...</td>\n      <td>[769062, 769062, 679677, 519769, 261419, 13057...</td>\n    </tr>\n    <tr>\n      <th>4</th>\n      <td>4</td>\n      <td>1038</td>\n      <td>0</td>\n      <td>[112, 115, 159, 202, 227, 28, 283, 33, 364, 59...</td>\n      <td>[679677, n24.000, 519769, 371058 71429, 588652...</td>\n    </tr>\n    <tr>\n      <th>...</th>\n      <td>...</td>\n      <td>...</td>\n      <td>...</td>\n      <td>...</td>\n      <td>...</td>\n    </tr>\n    <tr>\n      <th>417048</th>\n      <td>466862</td>\n      <td>1376</td>\n      <td>0</td>\n      <td>[112, 139, 159, 186, 202, 227, 28, 283, 29, 34...</td>\n      <td>[679677, 769062, 519769, 575816 n432.000, 7173...</td>\n    </tr>\n    <tr>\n      <th>417049</th>\n      <td>466863</td>\n      <td>173</td>\n      <td>0</td>\n      <td>[1014, 112, 159, 202, 227, 283, 364, 400, 47, ...</td>\n      <td>[1075463, 679677, 519769, 1194687 550565 24255...</td>\n    </tr>\n    <tr>\n      <th>417050</th>\n      <td>466864</td>\n      <td>373</td>\n      <td>1</td>\n      <td>[1036, 112, 152, 159, 202, 227, 230, 283, 348,...</td>\n      <td>[1154859, 679677, 1071492, 519769, 1262739 205...</td>\n    </tr>\n    <tr>\n      <th>417051</th>\n      <td>466865</td>\n      <td>421</td>\n      <td>0</td>\n      <td>[1031, 112, 159, 202, 227, 277, 28, 283, 332, ...</td>\n      <td>[1088309, 679677, 519769, 150169 780351 820477...</td>\n    </tr>\n    <tr>\n      <th>417052</th>\n      <td>466866</td>\n      <td>1164</td>\n      <td>0</td>\n      <td>[112, 120, 128, 159, 202, 227, 28, 283, 320, 3...</td>\n      <td>[679677, 1057641, 590055 n24.000, 519769, 8924...</td>\n    </tr>\n  </tbody>\n</table>\n<p>417053 rows × 5 columns</p>\n</div>"
     },
     "execution_count": 58,
     "metadata": {},
     "output_type": "execute_result"
    }
   ],
   "source": [
    "item_properties = pd.read_pickle(basepath +'item_data_extracted.pkl')\n",
    "item_properties"
   ],
   "metadata": {
    "collapsed": false
   }
  },
  {
   "cell_type": "code",
   "execution_count": 59,
   "outputs": [
    {
     "data": {
      "text/plain": "         visitorid                           itemids            categories  \\\n0                0           [67045, 285930, 357564]      [333, 1188, 256]   \n1                1                           [72028]                [1192]   \n2                2  [216305, 259884, 325215, 342816]  [299, 299, 299, 444]   \n3                3                          [385090]                [1171]   \n4                5                           [61396]                 [646]   \n...            ...                               ...                   ...   \n1236027    1407575                          [121220]                [1221]   \n1236028    1407576                          [356208]                 [175]   \n1236029    1407577                          [427784]                [1237]   \n1236030    1407578                          [188736]                [1584]   \n1236031    1407579                            [2521]                [1282]   \n\n                                                properties  \\\n0        [[1036, 112, 159, 202, 227, 28, 283, 328, 364,...   \n1        [[1036, 112, 159, 202, 227, 230, 283, 307, 364...   \n2        [[1030, 1036, 112, 159, 202, 227, 27, 283, 364...   \n3        [[1025, 1080, 112, 159, 202, 227, 250, 283, 30...   \n4        [[1092, 112, 159, 202, 283, 348, 364, 461, 506...   \n...                                                    ...   \n1236027  [[112, 159, 202, 206, 227, 28, 283, 364, 476, ...   \n1236028  [[1075, 112, 159, 202, 25, 283, 364, 6, 678, 6...   \n1236029  [[112, 159, 19, 202, 227, 28, 283, 325, 364, 5...   \n1236030  [[112, 159, 202, 227, 28, 283, 364, 6, 678, 69...   \n1236031  [[1036, 104, 112, 118, 159, 163, 202, 227, 283...   \n\n                                           property_values     available  \\\n0        [[1154859, 679677, 519769, 439698, 1037547 150...     [1, 0, 1]   \n1        [[1318567, 679677, 519769, 72800, 887448 17434...           [0]   \n2        [[140221, 961511, 679677, 519769, 961487 75577...  [1, 1, 0, 1]   \n3        [[n464.400 357845 903043, [215470 n9048.000, 2...           [0]   \n4        [[291010, 679677, 519769, 494986 789585, 72671...           [0]   \n...                                                    ...           ...   \n1236027  [[679677, 519769, 961131 584779 30834, n600.00...           [0]   \n1236028  [[[n120.000 1029109 n1200.000 1029109, n120.00...           [1]   \n1236029  [[679677, 519769, 1297729 n36.000 350726 30603...           [0]   \n1236030  [[679677, 519769, 727751 n6540.000 253573, 104...           [0]   \n1236031  [[769062 726612 769062, 769062, 679677, 769062...           [1]   \n\n                         view     addtocart   transaction  \n0             [1.0, 1.0, 1.0]     [0, 0, 0]     [0, 0, 0]  \n1                       [1.0]           [0]           [0]  \n2        [2.0, 1.0, 3.0, 2.0]  [0, 0, 0, 0]  [0, 0, 0, 0]  \n3                       [1.0]           [0]           [0]  \n4                       [1.0]           [0]           [0]  \n...                       ...           ...           ...  \n1236027                 [1.0]           [0]           [0]  \n1236028                 [1.0]           [0]           [0]  \n1236029                 [1.0]           [0]           [0]  \n1236030                 [1.0]           [0]           [0]  \n1236031                 [1.0]           [0]           [0]  \n\n[1236032 rows x 9 columns]",
      "text/html": "<div>\n<style scoped>\n    .dataframe tbody tr th:only-of-type {\n        vertical-align: middle;\n    }\n\n    .dataframe tbody tr th {\n        vertical-align: top;\n    }\n\n    .dataframe thead th {\n        text-align: right;\n    }\n</style>\n<table border=\"1\" class=\"dataframe\">\n  <thead>\n    <tr style=\"text-align: right;\">\n      <th></th>\n      <th>visitorid</th>\n      <th>itemids</th>\n      <th>categories</th>\n      <th>properties</th>\n      <th>property_values</th>\n      <th>available</th>\n      <th>view</th>\n      <th>addtocart</th>\n      <th>transaction</th>\n    </tr>\n  </thead>\n  <tbody>\n    <tr>\n      <th>0</th>\n      <td>0</td>\n      <td>[67045, 285930, 357564]</td>\n      <td>[333, 1188, 256]</td>\n      <td>[[1036, 112, 159, 202, 227, 28, 283, 328, 364,...</td>\n      <td>[[1154859, 679677, 519769, 439698, 1037547 150...</td>\n      <td>[1, 0, 1]</td>\n      <td>[1.0, 1.0, 1.0]</td>\n      <td>[0, 0, 0]</td>\n      <td>[0, 0, 0]</td>\n    </tr>\n    <tr>\n      <th>1</th>\n      <td>1</td>\n      <td>[72028]</td>\n      <td>[1192]</td>\n      <td>[[1036, 112, 159, 202, 227, 230, 283, 307, 364...</td>\n      <td>[[1318567, 679677, 519769, 72800, 887448 17434...</td>\n      <td>[0]</td>\n      <td>[1.0]</td>\n      <td>[0]</td>\n      <td>[0]</td>\n    </tr>\n    <tr>\n      <th>2</th>\n      <td>2</td>\n      <td>[216305, 259884, 325215, 342816]</td>\n      <td>[299, 299, 299, 444]</td>\n      <td>[[1030, 1036, 112, 159, 202, 227, 27, 283, 364...</td>\n      <td>[[140221, 961511, 679677, 519769, 961487 75577...</td>\n      <td>[1, 1, 0, 1]</td>\n      <td>[2.0, 1.0, 3.0, 2.0]</td>\n      <td>[0, 0, 0, 0]</td>\n      <td>[0, 0, 0, 0]</td>\n    </tr>\n    <tr>\n      <th>3</th>\n      <td>3</td>\n      <td>[385090]</td>\n      <td>[1171]</td>\n      <td>[[1025, 1080, 112, 159, 202, 227, 250, 283, 30...</td>\n      <td>[[n464.400 357845 903043, [215470 n9048.000, 2...</td>\n      <td>[0]</td>\n      <td>[1.0]</td>\n      <td>[0]</td>\n      <td>[0]</td>\n    </tr>\n    <tr>\n      <th>4</th>\n      <td>5</td>\n      <td>[61396]</td>\n      <td>[646]</td>\n      <td>[[1092, 112, 159, 202, 283, 348, 364, 461, 506...</td>\n      <td>[[291010, 679677, 519769, 494986 789585, 72671...</td>\n      <td>[0]</td>\n      <td>[1.0]</td>\n      <td>[0]</td>\n      <td>[0]</td>\n    </tr>\n    <tr>\n      <th>...</th>\n      <td>...</td>\n      <td>...</td>\n      <td>...</td>\n      <td>...</td>\n      <td>...</td>\n      <td>...</td>\n      <td>...</td>\n      <td>...</td>\n      <td>...</td>\n    </tr>\n    <tr>\n      <th>1236027</th>\n      <td>1407575</td>\n      <td>[121220]</td>\n      <td>[1221]</td>\n      <td>[[112, 159, 202, 206, 227, 28, 283, 364, 476, ...</td>\n      <td>[[679677, 519769, 961131 584779 30834, n600.00...</td>\n      <td>[0]</td>\n      <td>[1.0]</td>\n      <td>[0]</td>\n      <td>[0]</td>\n    </tr>\n    <tr>\n      <th>1236028</th>\n      <td>1407576</td>\n      <td>[356208]</td>\n      <td>[175]</td>\n      <td>[[1075, 112, 159, 202, 25, 283, 364, 6, 678, 6...</td>\n      <td>[[[n120.000 1029109 n1200.000 1029109, n120.00...</td>\n      <td>[1]</td>\n      <td>[1.0]</td>\n      <td>[0]</td>\n      <td>[0]</td>\n    </tr>\n    <tr>\n      <th>1236029</th>\n      <td>1407577</td>\n      <td>[427784]</td>\n      <td>[1237]</td>\n      <td>[[112, 159, 19, 202, 227, 28, 283, 325, 364, 5...</td>\n      <td>[[679677, 519769, 1297729 n36.000 350726 30603...</td>\n      <td>[0]</td>\n      <td>[1.0]</td>\n      <td>[0]</td>\n      <td>[0]</td>\n    </tr>\n    <tr>\n      <th>1236030</th>\n      <td>1407578</td>\n      <td>[188736]</td>\n      <td>[1584]</td>\n      <td>[[112, 159, 202, 227, 28, 283, 364, 6, 678, 69...</td>\n      <td>[[679677, 519769, 727751 n6540.000 253573, 104...</td>\n      <td>[0]</td>\n      <td>[1.0]</td>\n      <td>[0]</td>\n      <td>[0]</td>\n    </tr>\n    <tr>\n      <th>1236031</th>\n      <td>1407579</td>\n      <td>[2521]</td>\n      <td>[1282]</td>\n      <td>[[1036, 104, 112, 118, 159, 163, 202, 227, 283...</td>\n      <td>[[769062 726612 769062, 769062, 679677, 769062...</td>\n      <td>[1]</td>\n      <td>[1.0]</td>\n      <td>[0]</td>\n      <td>[0]</td>\n    </tr>\n  </tbody>\n</table>\n<p>1236032 rows × 9 columns</p>\n</div>"
     },
     "execution_count": 59,
     "metadata": {},
     "output_type": "execute_result"
    }
   ],
   "source": [
    "rebuild_grouped_df = False\n",
    "if  rebuild_grouped_df:\n",
    "    merged_df = pd.merge(item_properties, product_item_df, on='itemid')\n",
    "\n",
    "    grouped_df = merged_df.groupby('visitorid').agg({\n",
    "        'itemid': list,\n",
    "        'categoryid': list,\n",
    "        'properties': list,\n",
    "        'property_values': list,\n",
    "        'available': list,\n",
    "        'view': list,\n",
    "        'addtocart': list,\n",
    "        'transaction': list\n",
    "    }).reset_index()\n",
    "    grouped_df.columns = ['visitorid', 'itemids', 'categories', 'properties', 'property_values', 'available', 'view', 'addtocart', 'transaction']\n",
    "\n",
    "    grouped_df.to_pickle(basepath +'visitor_items.pkl')\n",
    "    visitor_items = grouped_df\n",
    "else:\n",
    "    visitor_items = pd.read_pickle(basepath +'visitor_items.pkl')\n",
    "\n",
    "visitor_items\n",
    "# Select the desired columns0"
   ],
   "metadata": {
    "collapsed": false
   }
  },
  {
   "cell_type": "markdown",
   "source": [
    "### build and train model"
   ],
   "metadata": {
    "collapsed": false
   }
  },
  {
   "cell_type": "code",
   "execution_count": 124,
   "outputs": [],
   "source": [
    "df = visitor_items.sample(n=10000)\n",
    "# df = visitor_items.copy()\n",
    "\n",
    "def convertToArray(column):\n",
    "    return column.apply(lambda x: np.array([x]))\n",
    "\n",
    "def bringToSameSizeOneDim(column, max_length = None):\n",
    "    if max_length is None:\n",
    "        max_length = max(column.apply(len))\n",
    "    return column.apply(lambda x: x + [0] * (max_length - len(x)))\n",
    "\n",
    "\n",
    "def bringToSameSizeTwoDimAndFlatten(column):\n",
    "    max_length = max(column.apply(lambda x: max(len(sublist) for sublist in x)))\n",
    "    new_column = column.apply(lambda x: [sublist + [0] * (max_length - len(sublist)) for sublist in x])\n",
    "    new_column = new_column.apply(lambda x: x + [[0] * max_length] * (max_length - len(x)))\n",
    "    return new_column.apply(lambda x: [item for sublist in x for item in sublist])\n",
    "# itemid,categoryid,available,properties,property_values\n",
    "\n",
    "def convertToSequence(column, max_length = None):\n",
    "    list = column.tolist()\n",
    "    if max_length is None:\n",
    "        max_length = max(len(x) for x in list)\n",
    "    return pad_sequences(list, maxlen=max_length, padding='post', value=0), max_length\n",
    "\n",
    "\n",
    "\n",
    "itemids,max_itemid = convertToSequence(df.itemids)\n",
    "categories,max_category = convertToSequence(df.categories)\n",
    "available,max_available = convertToSequence(df.available)\n",
    "view,max_view = convertToSequence(df.view)\n",
    "addtocart,max_addtocart = convertToSequence(df.addtocart)\n",
    "\n",
    "max_seq_length = max( max_itemid, max_category, max_available, max_view, max_addtocart)\n",
    "\n",
    "visitorids, max_visitorid = convertToSequence(bringToSameSizeOneDim(convertToArray(df.visitorid), max_seq_length+1))\n",
    "# to predict\n",
    "transaction,max_transaction = convertToSequence(bringToSameSizeOneDim(df.transaction))\n",
    "num_transactions = transaction.shape[1]\n",
    "\n",
    "max_visitorid_id = max(np.unique(df.visitorid)) + 1\n",
    "# max_visitorid = max_visitorid_id\n",
    "\n",
    "max_itemid_id = np.max(np.unique(df.itemids.apply(np.unique).apply(max))) + 1\n",
    "max_category_id = max(np.unique(df.categories.apply(np.unique).apply(max).astype(int))) + 1\n",
    "max_available_id = int(max(np.unique(df.available.apply(np.unique).apply(max)))) + 1\n",
    "max_view_id = int(max(np.unique(df.view.apply(np.unique).apply(max)))) + 1\n",
    "max_addtocart_id = int(max(np.unique(df.addtocart.apply(np.unique).apply(max)))) + 1\n",
    "max_transaction_id = int(max(np.unique(df.addtocart.apply(np.unique).apply(max)))) + 1\n",
    "\n",
    "\n"
   ],
   "metadata": {
    "collapsed": false
   }
  },
  {
   "cell_type": "code",
   "execution_count": 124,
   "outputs": [],
   "source": [],
   "metadata": {
    "collapsed": false
   }
  },
  {
   "cell_type": "code",
   "execution_count": 125,
   "outputs": [
    {
     "name": "stdout",
     "output_type": "stream",
     "text": [
      "Model: \"model_10\"\n",
      "__________________________________________________________________________________________________\n",
      " Layer (type)                   Output Shape         Param #     Connected to                     \n",
      "==================================================================================================\n",
      " visitorids (InputLayer)        [(None, 523)]        0           []                               \n",
      "                                                                                                  \n",
      " itemids (InputLayer)           [(None, 523)]        0           []                               \n",
      "                                                                                                  \n",
      " categories (InputLayer)        [(None, 523)]        0           []                               \n",
      "                                                                                                  \n",
      " available (InputLayer)         [(None, 523)]        0           []                               \n",
      "                                                                                                  \n",
      " view (InputLayer)              [(None, 523)]        0           []                               \n",
      "                                                                                                  \n",
      " addtocart (InputLayer)         [(None, 523)]        0           []                               \n",
      "                                                                                                  \n",
      " embedding_104 (Embedding)      (None, 523, 32)      45037344    ['visitorids[0][0]']             \n",
      "                                                                                                  \n",
      " embedding_105 (Embedding)      (None, 523, 32)      14939584    ['itemids[0][0]']                \n",
      "                                                                                                  \n",
      " embedding_106 (Embedding)      (None, 523, 32)      54336       ['categories[0][0]']             \n",
      "                                                                                                  \n",
      " embedding_107 (Embedding)      (None, 523, 32)      64          ['available[0][0]']              \n",
      "                                                                                                  \n",
      " embedding_108 (Embedding)      (None, 523, 32)      2240        ['view[0][0]']                   \n",
      "                                                                                                  \n",
      " embedding_109 (Embedding)      (None, 523, 32)      256         ['addtocart[0][0]']              \n",
      "                                                                                                  \n",
      " concat_embedding_input (Concat  (None, 523, 192)    0           ['embedding_104[0][0]',          \n",
      " enate)                                                           'embedding_105[0][0]',          \n",
      "                                                                  'embedding_106[0][0]',          \n",
      "                                                                  'embedding_107[0][0]',          \n",
      "                                                                  'embedding_108[0][0]',          \n",
      "                                                                  'embedding_109[0][0]']          \n",
      "                                                                                                  \n",
      " lstm_12 (LSTM)                 (None, 523, 64)      65792       ['concat_embedding_input[0][0]'] \n",
      "                                                                                                  \n",
      " tf.math.equal_18 (TFOpLambda)  (None, 523)          0           ['itemids[0][0]']                \n",
      "                                                                                                  \n",
      " batchnorm_lstm (BatchNormaliza  (None, 523, 64)     256         ['lstm_12[0][0]']                \n",
      " tion)                                                                                            \n",
      "                                                                                                  \n",
      " tf.math.logical_not_18 (TFOpLa  (None, 523)         0           ['tf.math.equal_18[0][0]']       \n",
      " mbda)                                                                                            \n",
      "                                                                                                  \n",
      " attention (Attention)          (None, 523, 64)      0           ['batchnorm_lstm[0][0]',         \n",
      "                                                                  'batchnorm_lstm[0][0]',         \n",
      "                                                                  'tf.math.logical_not_18[0][0]', \n",
      "                                                                  'tf.math.logical_not_18[0][0]'] \n",
      "                                                                                                  \n",
      " flatten_22 (Flatten)           (None, 33472)        0           ['attention[0][0]']              \n",
      "                                                                                                  \n",
      " dense_10 (Dense)               (None, 523)          17506379    ['flatten_22[0][0]']             \n",
      "                                                                                                  \n",
      "==================================================================================================\n",
      "Total params: 77,606,251\n",
      "Trainable params: 77,606,123\n",
      "Non-trainable params: 128\n",
      "__________________________________________________________________________________________________\n"
     ]
    }
   ],
   "source": [
    "# Define input layers\n",
    "input_visitorids = Input(shape=(max_visitorid,), name='visitorids')\n",
    "input_itemids = Input(shape=(max_itemid,), name='itemids')\n",
    "input_categories = Input(shape=(max_category,), name='categories')\n",
    "# input_properties = Input(shape=(max_seq_length,), name='properties')\n",
    "# input_property_values = Input(shape=(max_seq_length,), name='property_values')\n",
    "input_available = Input(shape=(max_available,), name='available')\n",
    "input_view = Input(shape=(max_view,), name='view')\n",
    "input_addtocart = Input(shape=(max_addtocart,), name='addtocart')\n",
    "# input_transaction = Input(shape=(1,), name='transaction')\n",
    "\n",
    "encoding_padding_mask = tf.math.logical_not(tf.math.equal(input_itemids, 0))\n",
    "\n",
    "# Embedding layers for categorical features\n",
    "embedding_dim = 32\n",
    "embedding_visitorids = Embedding(input_dim=max_visitorid_id, output_dim=embedding_dim)(input_visitorids)\n",
    "embedding_itemids = Embedding(input_dim=max_itemid_id, output_dim=embedding_dim)(input_itemids)\n",
    "embedding_categories = Embedding(input_dim=max_category_id, output_dim=embedding_dim)(input_categories)\n",
    "embedding_available = Embedding(input_dim=max_available_id, output_dim=embedding_dim)(input_available)\n",
    "embedding_view = Embedding(input_dim=max_view_id, output_dim=embedding_dim)(input_view)\n",
    "embedding_addtocart = Embedding(input_dim=max_addtocart_id, output_dim=embedding_dim)(input_addtocart)\n",
    "#embedding_transaction = Embedding(input_dim=max_category, output_dim=embedding_dim)(input_transaction)\n",
    "# embedding_properties = Embedding(input_dim=max_property + 1, output_dim=embedding_dim)(input_properties)\n",
    "# embedding_property_values = Embedding(input_dim=max_property_value + 1, output_dim=embedding_dim)(input_property_values)\n",
    "\n",
    "# Concatenate all embeddings\n",
    "concat_embedding_input = Concatenate(\n",
    "    axis=-1, name='concat_embedding_input')([embedding_visitorids, embedding_itemids, embedding_categories, embedding_available, embedding_view, embedding_addtocart])\n",
    "\n",
    "batchnorm_inputs = BatchNormalization(\n",
    "    name='batchnorm_inputs')(concat_embedding_input)\n",
    "# LSTM layer\n",
    "lstm = LSTM(64, return_sequences=True)(concat_embedding_input)\n",
    "lstm = BatchNormalization(name='batchnorm_lstm')(lstm)\n",
    "\n",
    "# Apply attention mechanism\n",
    "att = Attention(use_scale=False, name='attention')(inputs=[lstm, lstm],\n",
    "                                                   mask=[encoding_padding_mask, encoding_padding_mask])\n",
    "flatten = Flatten()(att)\n",
    "output = Dense(num_transactions)(flatten)\n",
    "\n",
    "model = Model(inputs=[input_visitorids, input_itemids, input_categories, input_available, input_view, input_addtocart], outputs=output)\n",
    "model.compile(loss='mean_squared_error', optimizer='adam', metrics=['mse', 'mae', 'accuracy'])\n",
    "model.summary()\n"
   ],
   "metadata": {
    "collapsed": false
   }
  },
  {
   "cell_type": "code",
   "execution_count": 127,
   "outputs": [
    {
     "name": "stdout",
     "output_type": "stream",
     "text": [
      "Epoch 1/2\n",
      "313/313 [==============================] - 134s 428ms/step - loss: 0.0574 - mse: 0.0574 - mae: 0.0407 - accuracy: 0.0529\n",
      "Epoch 2/2\n",
      "313/313 [==============================] - 126s 403ms/step - loss: 25.1039 - mse: 25.1039 - mae: 0.2718 - accuracy: 0.0118\n"
     ]
    }
   ],
   "source": [
    "epochs = 2\n",
    "batch_size = 32\n",
    "\n",
    "history = model.fit([visitorids, itemids, categories, available, view, addtocart], transaction, epochs=epochs, batch_size=batch_size)  # Adjust epochs and batch size as needed"
   ],
   "metadata": {
    "collapsed": false
   }
  },
  {
   "cell_type": "code",
   "execution_count": 128,
   "outputs": [
    {
     "data": {
      "text/plain": "{'loss': [0.05743969604372978, 25.10390853881836],\n 'mse': [0.05743969604372978, 25.10390853881836],\n 'mae': [0.040722839534282684, 0.27175173163414],\n 'accuracy': [0.05290000140666962, 0.011800000444054604]}"
     },
     "execution_count": 128,
     "metadata": {},
     "output_type": "execute_result"
    }
   ],
   "source": [
    "history.history"
   ],
   "metadata": {
    "collapsed": false
   }
  },
  {
   "cell_type": "code",
   "execution_count": 129,
   "outputs": [],
   "source": [
    "model.save('../../models/retailrocket/attention_detailrocket_v1.h5')"
   ],
   "metadata": {
    "collapsed": false
   }
  },
  {
   "cell_type": "code",
   "execution_count": 135,
   "outputs": [],
   "source": [
    "def preprocess_df(df, max_seq_length):\n",
    "    itemids,max_itemid = convertToSequence(df.itemids, max_seq_length)\n",
    "    categories,max_category = convertToSequence(df.categories, max_seq_length)\n",
    "    available,max_available = convertToSequence(df.available, max_seq_length)\n",
    "    view,max_view = convertToSequence(df.view, max_seq_length)\n",
    "    addtocart,max_addtocart = convertToSequence(df.addtocart, max_seq_length)\n",
    "    max_seq_length = max( max_itemid, max_category, max_available, max_view, max_addtocart)\n",
    "\n",
    "    visitorids, max_visitorid = convertToSequence(bringToSameSizeOneDim(convertToArray(df.visitorid), max_seq_length+1))\n",
    "\n",
    "    return visitorids, itemids, categories, available, view, addtocart"
   ],
   "metadata": {
    "collapsed": false
   }
  },
  {
   "cell_type": "code",
   "execution_count": 136,
   "outputs": [
    {
     "data": {
      "text/plain": "(array([[1184882, 1184882, 1184882, 1184882, 1184882, 1184882, 1184882,\n         1184882, 1184882, 1184882, 1184882, 1184882, 1184882, 1184882,\n         1184882, 1184882, 1184882, 1184882, 1184882, 1184882, 1184882,\n         1184882, 1184882, 1184882, 1184882, 1184882, 1184882, 1184882,\n         1184882, 1184882, 1184882, 1184882, 1184882, 1184882, 1184882,\n         1184882, 1184882, 1184882, 1184882, 1184882, 1184882, 1184882,\n         1184882, 1184882, 1184882, 1184882, 1184882, 1184882, 1184882,\n         1184882, 1184882, 1184882, 1184882, 1184882, 1184882, 1184882,\n         1184882, 1184882, 1184882, 1184882, 1184882, 1184882, 1184882,\n         1184882, 1184882, 1184882, 1184882, 1184882, 1184882, 1184882,\n         1184882, 1184882, 1184882, 1184882, 1184882, 1184882, 1184882,\n         1184882, 1184882, 1184882, 1184882, 1184882, 1184882, 1184882,\n         1184882, 1184882, 1184882, 1184882, 1184882, 1184882, 1184882,\n         1184882, 1184882, 1184882, 1184882, 1184882, 1184882, 1184882,\n         1184882, 1184882, 1184882, 1184882, 1184882, 1184882, 1184882,\n         1184882, 1184882, 1184882, 1184882, 1184882, 1184882, 1184882,\n         1184882, 1184882, 1184882, 1184882, 1184882, 1184882, 1184882,\n         1184882, 1184882, 1184882, 1184882, 1184882, 1184882, 1184882,\n         1184882, 1184882, 1184882, 1184882, 1184882, 1184882, 1184882,\n         1184882, 1184882, 1184882, 1184882, 1184882, 1184882, 1184882,\n         1184882, 1184882, 1184882, 1184882, 1184882, 1184882, 1184882,\n         1184882, 1184882, 1184882, 1184882, 1184882, 1184882, 1184882,\n         1184882, 1184882, 1184882, 1184882, 1184882, 1184882, 1184882,\n         1184882, 1184882, 1184882, 1184882, 1184882, 1184882, 1184882,\n         1184882, 1184882, 1184882, 1184882, 1184882, 1184882, 1184882,\n         1184882, 1184882, 1184882, 1184882, 1184882, 1184882, 1184882,\n         1184882, 1184882, 1184882, 1184882, 1184882, 1184882, 1184882,\n         1184882, 1184882, 1184882, 1184882, 1184882, 1184882, 1184882,\n         1184882, 1184882, 1184882, 1184882, 1184882, 1184882, 1184882,\n         1184882, 1184882, 1184882, 1184882, 1184882, 1184882, 1184882,\n         1184882, 1184882, 1184882, 1184882, 1184882, 1184882, 1184882,\n         1184882, 1184882, 1184882, 1184882, 1184882, 1184882, 1184882,\n         1184882, 1184882, 1184882, 1184882, 1184882, 1184882, 1184882,\n         1184882, 1184882, 1184882, 1184882, 1184882, 1184882, 1184882,\n         1184882, 1184882, 1184882, 1184882, 1184882, 1184882, 1184882,\n         1184882, 1184882, 1184882, 1184882, 1184882, 1184882, 1184882,\n         1184882, 1184882, 1184882, 1184882, 1184882, 1184882, 1184882,\n         1184882, 1184882, 1184882, 1184882, 1184882, 1184882, 1184882,\n         1184882, 1184882, 1184882, 1184882, 1184882, 1184882, 1184882,\n         1184882, 1184882, 1184882, 1184882, 1184882, 1184882, 1184882,\n         1184882, 1184882, 1184882, 1184882, 1184882, 1184882, 1184882,\n         1184882, 1184882, 1184882, 1184882, 1184882, 1184882, 1184882,\n         1184882, 1184882, 1184882, 1184882, 1184882, 1184882, 1184882,\n         1184882, 1184882, 1184882, 1184882, 1184882, 1184882, 1184882,\n         1184882, 1184882, 1184882, 1184882, 1184882, 1184882, 1184882,\n         1184882, 1184882, 1184882, 1184882, 1184882, 1184882, 1184882,\n         1184882, 1184882, 1184882, 1184882, 1184882, 1184882, 1184882,\n         1184882, 1184882, 1184882, 1184882, 1184882, 1184882, 1184882,\n         1184882, 1184882, 1184882, 1184882, 1184882, 1184882, 1184882,\n         1184882, 1184882, 1184882, 1184882, 1184882, 1184882, 1184882,\n         1184882, 1184882, 1184882, 1184882, 1184882, 1184882, 1184882,\n         1184882, 1184882, 1184882, 1184882, 1184882, 1184882, 1184882,\n         1184882, 1184882, 1184882, 1184882, 1184882, 1184882, 1184882,\n         1184882, 1184882, 1184882, 1184882, 1184882, 1184882, 1184882,\n         1184882, 1184882, 1184882, 1184882, 1184882, 1184882, 1184882,\n         1184882, 1184882, 1184882, 1184882, 1184882, 1184882, 1184882,\n         1184882, 1184882, 1184882, 1184882, 1184882, 1184882, 1184882,\n         1184882, 1184882, 1184882, 1184882, 1184882, 1184882, 1184882,\n         1184882, 1184882, 1184882, 1184882, 1184882, 1184882, 1184882,\n         1184882, 1184882, 1184882, 1184882, 1184882, 1184882, 1184882,\n         1184882, 1184882, 1184882, 1184882, 1184882, 1184882, 1184882,\n         1184882, 1184882, 1184882, 1184882, 1184882, 1184882, 1184882,\n         1184882, 1184882, 1184882, 1184882, 1184882, 1184882, 1184882,\n         1184882, 1184882, 1184882, 1184882, 1184882, 1184882, 1184882,\n         1184882, 1184882, 1184882, 1184882, 1184882, 1184882, 1184882,\n         1184882, 1184882, 1184882, 1184882, 1184882, 1184882, 1184882,\n         1184882, 1184882, 1184882, 1184882, 1184882, 1184882, 1184882,\n         1184882, 1184882, 1184882, 1184882, 1184882, 1184882, 1184882,\n         1184882, 1184882, 1184882, 1184882, 1184882, 1184882, 1184882,\n         1184882, 1184882, 1184882, 1184882, 1184882, 1184882, 1184882,\n         1184882, 1184882, 1184882, 1184882, 1184882, 1184882, 1184882,\n         1184882, 1184882, 1184882, 1184882, 1184882, 1184882, 1184882,\n         1184882, 1184882, 1184882, 1184882, 1184882, 1184882, 1184882,\n         1184882, 1184882, 1184882, 1184882, 1184882, 1184882, 1184882,\n         1184882, 1184882, 1184882, 1184882, 1184882]], dtype=int32),\n array([[201921, 245381, 328467,      0,      0,      0,      0,      0,\n              0,      0,      0,      0,      0,      0,      0,      0,\n              0,      0,      0,      0,      0,      0,      0,      0,\n              0,      0,      0,      0,      0,      0,      0,      0,\n              0,      0,      0,      0,      0,      0,      0,      0,\n              0,      0,      0,      0,      0,      0,      0,      0,\n              0,      0,      0,      0,      0,      0,      0,      0,\n              0,      0,      0,      0,      0,      0,      0,      0,\n              0,      0,      0,      0,      0,      0,      0,      0,\n              0,      0,      0,      0,      0,      0,      0,      0,\n              0,      0,      0,      0,      0,      0,      0,      0,\n              0,      0,      0,      0,      0,      0,      0,      0,\n              0,      0,      0,      0,      0,      0,      0,      0,\n              0,      0,      0,      0,      0,      0,      0,      0,\n              0,      0,      0,      0,      0,      0,      0,      0,\n              0,      0,      0,      0,      0,      0,      0,      0,\n              0,      0,      0,      0,      0,      0,      0,      0,\n              0,      0,      0,      0,      0,      0,      0,      0,\n              0,      0,      0,      0,      0,      0,      0,      0,\n              0,      0,      0,      0,      0,      0,      0,      0,\n              0,      0,      0,      0,      0,      0,      0,      0,\n              0,      0,      0,      0,      0,      0,      0,      0,\n              0,      0,      0,      0,      0,      0,      0,      0,\n              0,      0,      0,      0,      0,      0,      0,      0,\n              0,      0,      0,      0,      0,      0,      0,      0,\n              0,      0,      0,      0,      0,      0,      0,      0,\n              0,      0,      0,      0,      0,      0,      0,      0,\n              0,      0,      0,      0,      0,      0,      0,      0,\n              0,      0,      0,      0,      0,      0,      0,      0,\n              0,      0,      0,      0,      0,      0,      0,      0,\n              0,      0,      0,      0,      0,      0,      0,      0,\n              0,      0,      0,      0,      0,      0,      0,      0,\n              0,      0,      0,      0,      0,      0,      0,      0,\n              0,      0,      0,      0,      0,      0,      0,      0,\n              0,      0,      0,      0,      0,      0,      0,      0,\n              0,      0,      0,      0,      0,      0,      0,      0,\n              0,      0,      0,      0,      0,      0,      0,      0,\n              0,      0,      0,      0,      0,      0,      0,      0,\n              0,      0,      0,      0,      0,      0,      0,      0,\n              0,      0,      0,      0,      0,      0,      0,      0,\n              0,      0,      0,      0,      0,      0,      0,      0,\n              0,      0,      0,      0,      0,      0,      0,      0,\n              0,      0,      0,      0,      0,      0,      0,      0,\n              0,      0,      0,      0,      0,      0,      0,      0,\n              0,      0,      0,      0,      0,      0,      0,      0,\n              0,      0,      0,      0,      0,      0,      0,      0,\n              0,      0,      0,      0,      0,      0,      0,      0,\n              0,      0,      0,      0,      0,      0,      0,      0,\n              0,      0,      0,      0,      0,      0,      0,      0,\n              0,      0,      0,      0,      0,      0,      0,      0,\n              0,      0,      0,      0,      0,      0,      0,      0,\n              0,      0,      0,      0,      0,      0,      0,      0,\n              0,      0,      0,      0,      0,      0,      0,      0,\n              0,      0,      0,      0,      0,      0,      0,      0,\n              0,      0,      0,      0,      0,      0,      0,      0,\n              0,      0,      0,      0,      0,      0,      0,      0,\n              0,      0,      0,      0,      0,      0,      0,      0,\n              0,      0,      0,      0,      0,      0,      0,      0,\n              0,      0,      0,      0,      0,      0,      0,      0,\n              0,      0,      0,      0,      0,      0,      0,      0,\n              0,      0,      0,      0,      0,      0,      0,      0,\n              0,      0,      0,      0,      0,      0,      0,      0,\n              0,      0,      0,      0,      0,      0,      0,      0,\n              0,      0,      0,      0,      0,      0,      0,      0,\n              0,      0,      0,      0,      0,      0,      0,      0,\n              0,      0,      0]], dtype=int32),\n array([[1220,  535, 1220,    0,    0,    0,    0,    0,    0,    0,    0,\n            0,    0,    0,    0,    0,    0,    0,    0,    0,    0,    0,\n            0,    0,    0,    0,    0,    0,    0,    0,    0,    0,    0,\n            0,    0,    0,    0,    0,    0,    0,    0,    0,    0,    0,\n            0,    0,    0,    0,    0,    0,    0,    0,    0,    0,    0,\n            0,    0,    0,    0,    0,    0,    0,    0,    0,    0,    0,\n            0,    0,    0,    0,    0,    0,    0,    0,    0,    0,    0,\n            0,    0,    0,    0,    0,    0,    0,    0,    0,    0,    0,\n            0,    0,    0,    0,    0,    0,    0,    0,    0,    0,    0,\n            0,    0,    0,    0,    0,    0,    0,    0,    0,    0,    0,\n            0,    0,    0,    0,    0,    0,    0,    0,    0,    0,    0,\n            0,    0,    0,    0,    0,    0,    0,    0,    0,    0,    0,\n            0,    0,    0,    0,    0,    0,    0,    0,    0,    0,    0,\n            0,    0,    0,    0,    0,    0,    0,    0,    0,    0,    0,\n            0,    0,    0,    0,    0,    0,    0,    0,    0,    0,    0,\n            0,    0,    0,    0,    0,    0,    0,    0,    0,    0,    0,\n            0,    0,    0,    0,    0,    0,    0,    0,    0,    0,    0,\n            0,    0,    0,    0,    0,    0,    0,    0,    0,    0,    0,\n            0,    0,    0,    0,    0,    0,    0,    0,    0,    0,    0,\n            0,    0,    0,    0,    0,    0,    0,    0,    0,    0,    0,\n            0,    0,    0,    0,    0,    0,    0,    0,    0,    0,    0,\n            0,    0,    0,    0,    0,    0,    0,    0,    0,    0,    0,\n            0,    0,    0,    0,    0,    0,    0,    0,    0,    0,    0,\n            0,    0,    0,    0,    0,    0,    0,    0,    0,    0,    0,\n            0,    0,    0,    0,    0,    0,    0,    0,    0,    0,    0,\n            0,    0,    0,    0,    0,    0,    0,    0,    0,    0,    0,\n            0,    0,    0,    0,    0,    0,    0,    0,    0,    0,    0,\n            0,    0,    0,    0,    0,    0,    0,    0,    0,    0,    0,\n            0,    0,    0,    0,    0,    0,    0,    0,    0,    0,    0,\n            0,    0,    0,    0,    0,    0,    0,    0,    0,    0,    0,\n            0,    0,    0,    0,    0,    0,    0,    0,    0,    0,    0,\n            0,    0,    0,    0,    0,    0,    0,    0,    0,    0,    0,\n            0,    0,    0,    0,    0,    0,    0,    0,    0,    0,    0,\n            0,    0,    0,    0,    0,    0,    0,    0,    0,    0,    0,\n            0,    0,    0,    0,    0,    0,    0,    0,    0,    0,    0,\n            0,    0,    0,    0,    0,    0,    0,    0,    0,    0,    0,\n            0,    0,    0,    0,    0,    0,    0,    0,    0,    0,    0,\n            0,    0,    0,    0,    0,    0,    0,    0,    0,    0,    0,\n            0,    0,    0,    0,    0,    0,    0,    0,    0,    0,    0,\n            0,    0,    0,    0,    0,    0,    0,    0,    0,    0,    0,\n            0,    0,    0,    0,    0,    0,    0,    0,    0,    0,    0,\n            0,    0,    0,    0,    0,    0,    0,    0,    0,    0,    0,\n            0,    0,    0,    0,    0,    0,    0,    0,    0,    0,    0,\n            0,    0,    0,    0,    0,    0,    0,    0,    0,    0,    0,\n            0,    0,    0,    0,    0,    0,    0,    0,    0,    0,    0,\n            0,    0,    0,    0,    0,    0,    0,    0,    0,    0,    0,\n            0,    0,    0,    0,    0,    0,    0,    0,    0,    0,    0,\n            0,    0,    0,    0,    0,    0]], dtype=int32),\n array([[0, 1, 1, 0, 0, 0, 0, 0, 0, 0, 0, 0, 0, 0, 0, 0, 0, 0, 0, 0, 0, 0,\n         0, 0, 0, 0, 0, 0, 0, 0, 0, 0, 0, 0, 0, 0, 0, 0, 0, 0, 0, 0, 0, 0,\n         0, 0, 0, 0, 0, 0, 0, 0, 0, 0, 0, 0, 0, 0, 0, 0, 0, 0, 0, 0, 0, 0,\n         0, 0, 0, 0, 0, 0, 0, 0, 0, 0, 0, 0, 0, 0, 0, 0, 0, 0, 0, 0, 0, 0,\n         0, 0, 0, 0, 0, 0, 0, 0, 0, 0, 0, 0, 0, 0, 0, 0, 0, 0, 0, 0, 0, 0,\n         0, 0, 0, 0, 0, 0, 0, 0, 0, 0, 0, 0, 0, 0, 0, 0, 0, 0, 0, 0, 0, 0,\n         0, 0, 0, 0, 0, 0, 0, 0, 0, 0, 0, 0, 0, 0, 0, 0, 0, 0, 0, 0, 0, 0,\n         0, 0, 0, 0, 0, 0, 0, 0, 0, 0, 0, 0, 0, 0, 0, 0, 0, 0, 0, 0, 0, 0,\n         0, 0, 0, 0, 0, 0, 0, 0, 0, 0, 0, 0, 0, 0, 0, 0, 0, 0, 0, 0, 0, 0,\n         0, 0, 0, 0, 0, 0, 0, 0, 0, 0, 0, 0, 0, 0, 0, 0, 0, 0, 0, 0, 0, 0,\n         0, 0, 0, 0, 0, 0, 0, 0, 0, 0, 0, 0, 0, 0, 0, 0, 0, 0, 0, 0, 0, 0,\n         0, 0, 0, 0, 0, 0, 0, 0, 0, 0, 0, 0, 0, 0, 0, 0, 0, 0, 0, 0, 0, 0,\n         0, 0, 0, 0, 0, 0, 0, 0, 0, 0, 0, 0, 0, 0, 0, 0, 0, 0, 0, 0, 0, 0,\n         0, 0, 0, 0, 0, 0, 0, 0, 0, 0, 0, 0, 0, 0, 0, 0, 0, 0, 0, 0, 0, 0,\n         0, 0, 0, 0, 0, 0, 0, 0, 0, 0, 0, 0, 0, 0, 0, 0, 0, 0, 0, 0, 0, 0,\n         0, 0, 0, 0, 0, 0, 0, 0, 0, 0, 0, 0, 0, 0, 0, 0, 0, 0, 0, 0, 0, 0,\n         0, 0, 0, 0, 0, 0, 0, 0, 0, 0, 0, 0, 0, 0, 0, 0, 0, 0, 0, 0, 0, 0,\n         0, 0, 0, 0, 0, 0, 0, 0, 0, 0, 0, 0, 0, 0, 0, 0, 0, 0, 0, 0, 0, 0,\n         0, 0, 0, 0, 0, 0, 0, 0, 0, 0, 0, 0, 0, 0, 0, 0, 0, 0, 0, 0, 0, 0,\n         0, 0, 0, 0, 0, 0, 0, 0, 0, 0, 0, 0, 0, 0, 0, 0, 0, 0, 0, 0, 0, 0,\n         0, 0, 0, 0, 0, 0, 0, 0, 0, 0, 0, 0, 0, 0, 0, 0, 0, 0, 0, 0, 0, 0,\n         0, 0, 0, 0, 0, 0, 0, 0, 0, 0, 0, 0, 0, 0, 0, 0, 0, 0, 0, 0, 0, 0,\n         0, 0, 0, 0, 0, 0, 0, 0, 0, 0, 0, 0, 0, 0, 0, 0, 0, 0, 0, 0, 0, 0,\n         0, 0, 0, 0, 0, 0, 0, 0, 0, 0, 0, 0, 0, 0, 0, 0, 0]], dtype=int32),\n array([[2, 1, 1, 0, 0, 0, 0, 0, 0, 0, 0, 0, 0, 0, 0, 0, 0, 0, 0, 0, 0, 0,\n         0, 0, 0, 0, 0, 0, 0, 0, 0, 0, 0, 0, 0, 0, 0, 0, 0, 0, 0, 0, 0, 0,\n         0, 0, 0, 0, 0, 0, 0, 0, 0, 0, 0, 0, 0, 0, 0, 0, 0, 0, 0, 0, 0, 0,\n         0, 0, 0, 0, 0, 0, 0, 0, 0, 0, 0, 0, 0, 0, 0, 0, 0, 0, 0, 0, 0, 0,\n         0, 0, 0, 0, 0, 0, 0, 0, 0, 0, 0, 0, 0, 0, 0, 0, 0, 0, 0, 0, 0, 0,\n         0, 0, 0, 0, 0, 0, 0, 0, 0, 0, 0, 0, 0, 0, 0, 0, 0, 0, 0, 0, 0, 0,\n         0, 0, 0, 0, 0, 0, 0, 0, 0, 0, 0, 0, 0, 0, 0, 0, 0, 0, 0, 0, 0, 0,\n         0, 0, 0, 0, 0, 0, 0, 0, 0, 0, 0, 0, 0, 0, 0, 0, 0, 0, 0, 0, 0, 0,\n         0, 0, 0, 0, 0, 0, 0, 0, 0, 0, 0, 0, 0, 0, 0, 0, 0, 0, 0, 0, 0, 0,\n         0, 0, 0, 0, 0, 0, 0, 0, 0, 0, 0, 0, 0, 0, 0, 0, 0, 0, 0, 0, 0, 0,\n         0, 0, 0, 0, 0, 0, 0, 0, 0, 0, 0, 0, 0, 0, 0, 0, 0, 0, 0, 0, 0, 0,\n         0, 0, 0, 0, 0, 0, 0, 0, 0, 0, 0, 0, 0, 0, 0, 0, 0, 0, 0, 0, 0, 0,\n         0, 0, 0, 0, 0, 0, 0, 0, 0, 0, 0, 0, 0, 0, 0, 0, 0, 0, 0, 0, 0, 0,\n         0, 0, 0, 0, 0, 0, 0, 0, 0, 0, 0, 0, 0, 0, 0, 0, 0, 0, 0, 0, 0, 0,\n         0, 0, 0, 0, 0, 0, 0, 0, 0, 0, 0, 0, 0, 0, 0, 0, 0, 0, 0, 0, 0, 0,\n         0, 0, 0, 0, 0, 0, 0, 0, 0, 0, 0, 0, 0, 0, 0, 0, 0, 0, 0, 0, 0, 0,\n         0, 0, 0, 0, 0, 0, 0, 0, 0, 0, 0, 0, 0, 0, 0, 0, 0, 0, 0, 0, 0, 0,\n         0, 0, 0, 0, 0, 0, 0, 0, 0, 0, 0, 0, 0, 0, 0, 0, 0, 0, 0, 0, 0, 0,\n         0, 0, 0, 0, 0, 0, 0, 0, 0, 0, 0, 0, 0, 0, 0, 0, 0, 0, 0, 0, 0, 0,\n         0, 0, 0, 0, 0, 0, 0, 0, 0, 0, 0, 0, 0, 0, 0, 0, 0, 0, 0, 0, 0, 0,\n         0, 0, 0, 0, 0, 0, 0, 0, 0, 0, 0, 0, 0, 0, 0, 0, 0, 0, 0, 0, 0, 0,\n         0, 0, 0, 0, 0, 0, 0, 0, 0, 0, 0, 0, 0, 0, 0, 0, 0, 0, 0, 0, 0, 0,\n         0, 0, 0, 0, 0, 0, 0, 0, 0, 0, 0, 0, 0, 0, 0, 0, 0, 0, 0, 0, 0, 0,\n         0, 0, 0, 0, 0, 0, 0, 0, 0, 0, 0, 0, 0, 0, 0, 0, 0]], dtype=int32),\n array([[0, 0, 0, 0, 0, 0, 0, 0, 0, 0, 0, 0, 0, 0, 0, 0, 0, 0, 0, 0, 0, 0,\n         0, 0, 0, 0, 0, 0, 0, 0, 0, 0, 0, 0, 0, 0, 0, 0, 0, 0, 0, 0, 0, 0,\n         0, 0, 0, 0, 0, 0, 0, 0, 0, 0, 0, 0, 0, 0, 0, 0, 0, 0, 0, 0, 0, 0,\n         0, 0, 0, 0, 0, 0, 0, 0, 0, 0, 0, 0, 0, 0, 0, 0, 0, 0, 0, 0, 0, 0,\n         0, 0, 0, 0, 0, 0, 0, 0, 0, 0, 0, 0, 0, 0, 0, 0, 0, 0, 0, 0, 0, 0,\n         0, 0, 0, 0, 0, 0, 0, 0, 0, 0, 0, 0, 0, 0, 0, 0, 0, 0, 0, 0, 0, 0,\n         0, 0, 0, 0, 0, 0, 0, 0, 0, 0, 0, 0, 0, 0, 0, 0, 0, 0, 0, 0, 0, 0,\n         0, 0, 0, 0, 0, 0, 0, 0, 0, 0, 0, 0, 0, 0, 0, 0, 0, 0, 0, 0, 0, 0,\n         0, 0, 0, 0, 0, 0, 0, 0, 0, 0, 0, 0, 0, 0, 0, 0, 0, 0, 0, 0, 0, 0,\n         0, 0, 0, 0, 0, 0, 0, 0, 0, 0, 0, 0, 0, 0, 0, 0, 0, 0, 0, 0, 0, 0,\n         0, 0, 0, 0, 0, 0, 0, 0, 0, 0, 0, 0, 0, 0, 0, 0, 0, 0, 0, 0, 0, 0,\n         0, 0, 0, 0, 0, 0, 0, 0, 0, 0, 0, 0, 0, 0, 0, 0, 0, 0, 0, 0, 0, 0,\n         0, 0, 0, 0, 0, 0, 0, 0, 0, 0, 0, 0, 0, 0, 0, 0, 0, 0, 0, 0, 0, 0,\n         0, 0, 0, 0, 0, 0, 0, 0, 0, 0, 0, 0, 0, 0, 0, 0, 0, 0, 0, 0, 0, 0,\n         0, 0, 0, 0, 0, 0, 0, 0, 0, 0, 0, 0, 0, 0, 0, 0, 0, 0, 0, 0, 0, 0,\n         0, 0, 0, 0, 0, 0, 0, 0, 0, 0, 0, 0, 0, 0, 0, 0, 0, 0, 0, 0, 0, 0,\n         0, 0, 0, 0, 0, 0, 0, 0, 0, 0, 0, 0, 0, 0, 0, 0, 0, 0, 0, 0, 0, 0,\n         0, 0, 0, 0, 0, 0, 0, 0, 0, 0, 0, 0, 0, 0, 0, 0, 0, 0, 0, 0, 0, 0,\n         0, 0, 0, 0, 0, 0, 0, 0, 0, 0, 0, 0, 0, 0, 0, 0, 0, 0, 0, 0, 0, 0,\n         0, 0, 0, 0, 0, 0, 0, 0, 0, 0, 0, 0, 0, 0, 0, 0, 0, 0, 0, 0, 0, 0,\n         0, 0, 0, 0, 0, 0, 0, 0, 0, 0, 0, 0, 0, 0, 0, 0, 0, 0, 0, 0, 0, 0,\n         0, 0, 0, 0, 0, 0, 0, 0, 0, 0, 0, 0, 0, 0, 0, 0, 0, 0, 0, 0, 0, 0,\n         0, 0, 0, 0, 0, 0, 0, 0, 0, 0, 0, 0, 0, 0, 0, 0, 0, 0, 0, 0, 0, 0,\n         0, 0, 0, 0, 0, 0, 0, 0, 0, 0, 0, 0, 0, 0, 0, 0, 0]], dtype=int32))"
     },
     "execution_count": 136,
     "metadata": {},
     "output_type": "execute_result"
    }
   ],
   "source": [
    "data_predict = preprocess_df(df.sample(1), max_seq_length)\n",
    "data_predict"
   ],
   "metadata": {
    "collapsed": false
   }
  },
  {
   "cell_type": "code",
   "execution_count": 138,
   "outputs": [
    {
     "name": "stdout",
     "output_type": "stream",
     "text": [
      "1/1 [==============================] - 0s 41ms/step\n"
     ]
    },
    {
     "data": {
      "text/plain": "array([[-1.022852  , -1.0886898 ,  1.1256257 ,  1.1768901 , -1.0393275 ,\n         1.1031483 ,  1.0851078 ,  2.1013749 , -1.0069191 , -1.0533003 ,\n         1.0742866 , -1.0712855 ,  1.0894234 , -0.9403493 ,  1.0128205 ,\n        -1.0082606 ,  1.0448794 , -1.1097534 ,  1.0491636 ,  0.96531236,\n         1.0564204 ,  1.1756315 ,  1.0819259 ,  2.0747838 , -1.058313  ,\n         1.1073779 ,  1.0236592 , -1.0368581 ,  1.0930792 ,  1.0896103 ,\n         1.0689301 , -1.1804254 , -1.0304452 ,  1.0948484 ,  1.0662332 ,\n         1.016315  ,  1.3339212 ,  1.1190012 ,  1.0582678 , -1.0384842 ,\n         1.0756857 ,  1.0371089 , -1.0844923 ,  0.9906556 ,  1.0122288 ,\n         2.0667202 ,  1.0526197 ,  1.0396066 ,  1.0878049 ,  1.0447487 ,\n        -1.0840561 ,  1.1000922 ,  1.0424135 ,  1.0664696 , -1.0374798 ,\n         1.0883851 ,  1.0650017 ,  1.0661006 ,  2.0692542 , -1.0644532 ,\n        -1.0248207 ,  1.3651495 ,  1.1830636 , -1.0167512 , -1.0412135 ,\n        -1.0958662 , -1.0320467 , -1.1462679 ,  1.0481453 , -1.3536619 ,\n        -1.0762062 , -1.0038748 , -1.0490245 ,  1.0722867 ,  1.1398904 ,\n        -1.1225898 , -1.0613543 ,  1.0713857 , -1.0491854 , -1.0161235 ,\n         1.0344054 ,  1.0662477 , -2.1182144 , -1.0277704 ,  1.0156093 ,\n        -1.060428  , -0.92080665, -1.0344604 ,  1.0456212 , -1.1017385 ,\n         1.090219  ,  1.0625182 ,  1.0193865 ,  1.0173779 , -1.0223839 ,\n        -2.0836077 ,  1.060383  ,  1.1135879 ,  1.1388313 , -1.0201044 ,\n         1.0854814 ,  1.0365473 ,  1.0359209 ,  1.0431641 , -1.1546525 ,\n         1.0522715 ,  0.96171236,  1.1422672 , -1.1022032 , -1.043799  ,\n         1.2229223 ,  1.069855  ,  1.1482745 , -1.0522594 ,  1.1834238 ,\n         2.15633   ,  1.0818973 ,  1.1781166 , -1.006269  , -1.0432053 ,\n         1.0541806 ,  2.1555903 ,  1.030329  ,  1.0393033 ,  1.0546577 ,\n         1.0208656 ,  1.0608516 , -1.0387475 , -1.1161861 , -1.0578848 ,\n         1.0891482 , -1.0444205 , -1.0235505 , -1.0873079 ,  1.148037  ,\n        -1.1616727 ,  1.3710831 ,  1.0419921 ,  1.0802929 ,  1.0201863 ,\n         1.0134908 , -1.0492138 ,  1.0853179 ,  1.0386266 , -1.0415697 ,\n        -1.0418193 ,  1.0762234 ,  1.1757525 ,  1.0490515 , -1.1162356 ,\n         1.0746894 ,  1.0352864 , -1.0038476 , -1.0311065 ,  1.1453459 ,\n        -0.9676035 , -1.0308079 , -1.0645212 ,  1.0174364 , -1.0442708 ,\n        -1.0323675 ,  1.0444299 , -1.1487805 , -1.1084431 ,  1.0418247 ,\n         1.107661  ,  1.0718364 ,  1.0237097 , -1.0479822 , -1.0641731 ,\n         1.1295307 ,  1.1688316 ,  1.0482582 ,  1.0246532 ,  1.1386744 ,\n         1.1067778 , -1.0378388 ,  1.0531293 ,  1.0633255 , -1.0693346 ,\n         1.0364494 , -1.131045  , -1.0361007 , -1.0671375 ,  1.0818982 ,\n        -1.0609155 , -1.1364303 ,  1.0307233 ,  1.0953931 ,  1.0383993 ,\n        -1.0520924 ,  1.4156271 , -1.0743787 ,  1.0618793 ,  1.0692383 ,\n         1.0965657 , -1.0195435 , -1.0585113 , -1.1305714 ,  1.0850059 ,\n        -1.2719578 ,  1.0408103 ,  1.046802  , -1.0585798 ,  1.1873254 ,\n         1.0692694 ,  1.0434115 , -1.0397158 , -1.0813396 ,  1.0627389 ,\n         0.9780718 , -1.015649  ,  1.107086  ,  1.0064185 , -1.0405346 ,\n         1.0362128 , -1.0360888 ,  2.076587  ,  1.0162688 , -1.2225358 ,\n         0.96762586,  1.1115044 , -1.0862625 , -1.0844905 , -1.0271353 ,\n         1.063146  , -1.0749645 ,  1.0807868 ,  1.0361582 , -1.0420605 ,\n         1.0225614 , -1.0727526 , -1.0964091 ,  1.0521564 , -1.045489  ,\n        -1.0680231 ,  1.0145911 , -1.0315154 , -1.0553212 ,  1.0811985 ,\n         1.0545601 ,  1.1146073 ,  1.1071209 ,  1.0606532 , -0.9937512 ,\n         1.161957  ,  1.0270362 , -1.0849402 , -1.0257406 ,  1.0342162 ,\n        -1.1655146 , -1.0502101 , -1.0882107 ,  1.047599  ,  1.0683159 ,\n         1.025994  ,  1.0278474 ,  2.0996375 , -0.98273104, -1.0084047 ,\n         1.0222576 ,  1.1228505 ,  1.0138674 ,  1.04147   ,  1.0050793 ,\n        -1.0199301 , -1.0855747 ,  0.9908822 ,  1.0762419 , -1.0358058 ,\n        -1.0640483 , -1.0549047 , -1.0345355 , -1.2310265 ,  1.0816593 ,\n        -1.0078696 , -1.0248904 ,  2.1113236 ,  1.0851588 ,  0.9974161 ,\n        -1.31029   , -1.0380969 ,  1.0195115 ,  0.96111435, -1.2928452 ,\n        -1.0440849 , -1.0670934 , -1.0883993 ,  1.0791287 , -0.9800367 ,\n         1.0074761 , -1.0437293 ,  1.1489956 ,  1.0656935 , -0.9885991 ,\n         1.1760918 ,  1.0353221 , -1.07319   , -1.1348226 , -1.0349429 ,\n        -1.1134511 ,  1.027666  , -1.0632814 ,  1.0374514 ,  1.0422436 ,\n        -1.1546891 ,  1.0460591 ,  1.0565722 , -1.1213224 ,  1.0501255 ,\n         2.0860436 , -1.0468464 , -0.9979295 ,  0.9687398 ,  1.0785303 ,\n        -1.1221417 ,  1.0450562 , -1.1250403 , -1.0012782 ,  1.0420129 ,\n         1.0875647 , -1.0757117 ,  1.0156928 ,  1.1132201 ,  1.1034857 ,\n         0.9998589 , -1.0912784 , -0.96885365,  1.0738468 , -1.0471336 ,\n        -1.1175017 , -0.9767738 ,  1.0856026 ,  1.0173508 ,  1.0582719 ,\n         1.0275817 ,  1.0777652 , -1.0294997 ,  1.2676568 ,  1.0315107 ,\n         1.0160246 ,  1.036535  ,  1.0374571 ,  1.0703069 , -1.0479276 ,\n         1.0772306 ,  0.9804423 ,  1.009903  ,  1.0691285 ,  1.0662539 ,\n         1.0920602 , -1.0517805 , -1.0849237 ,  1.0543455 ,  1.0650091 ,\n         0.98505646,  1.9446061 ,  1.1158451 ,  1.1093817 ,  1.0262601 ,\n         1.0473509 , -1.0449771 ,  1.0714852 ,  1.1201936 ,  1.0402951 ,\n        -1.0523849 , -1.0870646 ,  1.0740315 , -1.106128  ,  1.2465613 ,\n         1.0285221 , -2.1244228 , -1.0416927 , -1.1051512 ,  1.0251763 ,\n         1.0687786 , -1.067803  ,  1.0593576 , -1.0516331 , -1.1108403 ,\n         2.132293  , -1.0373316 , -1.1330621 ,  1.0367849 ,  1.0569671 ,\n        -1.0394112 , -2.1691313 ,  1.0343832 ,  1.0306493 ,  1.0164258 ,\n         1.0500544 ,  1.0798666 ,  1.0615271 ,  1.0110189 , -1.0607047 ,\n        -1.1373451 ,  1.1083928 , -1.0070729 ,  1.0226101 , -1.1675899 ,\n         1.0088094 ,  1.0886483 ,  1.024202  , -1.0047743 , -1.0074809 ,\n         1.0782669 ,  1.0995243 , -1.0398159 , -1.1783596 ,  1.0375626 ,\n        -1.1684346 , -1.0690117 , -2.2187397 , -1.0481019 ,  1.0389438 ,\n        -1.0664874 ,  0.99411273, -1.073314  ,  1.0861179 , -1.052912  ,\n        -1.0589372 ,  1.1027476 ,  1.0906185 , -1.2318946 ,  1.0680071 ,\n         1.1072928 ,  1.0986264 , -1.0407468 ,  1.0292768 , -1.0636913 ,\n         1.0286689 , -1.0152172 ,  1.0178635 ,  1.0485083 ,  1.0415316 ,\n        -1.0389742 ,  1.0592316 , -1.0316608 ,  1.0329463 ,  1.1579474 ,\n        -1.0566533 ,  1.0954343 , -1.0562023 ,  1.0523129 ,  1.0346073 ,\n        -1.0285782 ,  1.0566907 , -1.033591  , -2.1214185 ,  1.0620294 ,\n        -1.0125893 , -1.0270736 ,  1.0576547 ,  1.0825851 ,  1.0297617 ,\n         2.055538  , -1.0898988 , -1.0673603 ,  1.0516653 ,  1.0937525 ,\n         1.0615613 , -1.0788764 ,  1.1335893 ,  1.116422  ,  1.0387574 ,\n        -1.1015165 ,  2.0496151 ,  1.0424036 ,  1.0549399 ,  1.2475165 ,\n         1.0200448 ,  0.9775236 ,  1.0369428 ,  1.1137339 , -1.0302342 ,\n         1.0357152 , -1.0155311 ,  1.039396  , -1.0130255 , -1.1277843 ,\n        -1.0199728 ,  1.0986867 , -1.0527841 ,  1.069043  ,  1.0688289 ,\n         1.0786746 ,  0.97360325, -1.0476512 ,  1.0698314 ,  1.1142714 ,\n        -1.0700073 ,  1.0328599 , -1.0949208 , -1.1609778 , -1.0573512 ,\n         1.1432418 , -1.0445558 , -1.0713487 , -1.0487669 ,  1.0634799 ,\n        -1.0644855 ,  1.0803545 ,  1.0093889 ,  1.0527154 , -1.1434219 ,\n        -1.0162547 ,  1.0509464 ,  1.0695934 , -1.0668979 , -1.0655954 ,\n        -1.0669398 ,  1.1796204 , -1.037884  , -1.04988   ,  1.0447745 ,\n         0.99735296,  1.055329  ,  1.0364534 , -1.110114  , -1.0662801 ,\n         1.0913625 , -1.0304214 , -1.0485023 ]], dtype=float32)"
     },
     "execution_count": 138,
     "metadata": {},
     "output_type": "execute_result"
    }
   ],
   "source": [
    "result = model.predict(data_predict)\n",
    "result"
   ],
   "metadata": {
    "collapsed": false
   }
  },
  {
   "cell_type": "markdown",
   "source": [],
   "metadata": {
    "collapsed": false
   }
  },
  {
   "cell_type": "code",
   "execution_count": null,
   "outputs": [],
   "source": [],
   "metadata": {
    "collapsed": false
   }
  },
  {
   "cell_type": "markdown",
   "source": [
    "# Prepare data for model"
   ],
   "metadata": {
    "collapsed": false
   }
  },
  {
   "cell_type": "markdown",
   "source": [],
   "metadata": {
    "collapsed": false
   }
  }
 ],
 "metadata": {
  "kernelspec": {
   "display_name": "Python 3",
   "language": "python",
   "name": "python3"
  },
  "language_info": {
   "codemirror_mode": {
    "name": "ipython",
    "version": 2
   },
   "file_extension": ".py",
   "mimetype": "text/x-python",
   "name": "python",
   "nbconvert_exporter": "python",
   "pygments_lexer": "ipython2",
   "version": "2.7.6"
  }
 },
 "nbformat": 4,
 "nbformat_minor": 0
}
