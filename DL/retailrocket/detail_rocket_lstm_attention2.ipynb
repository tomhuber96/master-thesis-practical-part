{
 "cells": [
  {
   "cell_type": "markdown",
   "source": [
    "# Detail Rocket Deep Learning Recommendation System\n",
    "\n",
    "## Imports and installs"
   ],
   "metadata": {
    "collapsed": false
   }
  },
  {
   "cell_type": "code",
   "execution_count": 51,
   "outputs": [],
   "source": [
    "from sklearn.model_selection import train_test_split\n",
    "import tensorflow as tf\n",
    "#%pip install pandas\n",
    "# %pip install seaborn\n",
    "#%pip install numpy\n",
    "\n",
    "from tensorflow.python.ops.gen_array_ops import ExpandDims\n",
    "from keras.layers import RepeatVector, TimeDistributed, Layer, Reshape, BatchNormalization, Attention, Input, Embedding, LSTM, Dense, Dot, Activation, Concatenate, Flatten\n",
    "\n",
    "from keras.models import Model"
   ],
   "metadata": {
    "collapsed": false
   }
  },
  {
   "cell_type": "code",
   "execution_count": 51,
   "outputs": [],
   "source": [],
   "metadata": {
    "collapsed": false
   }
  },
  {
   "cell_type": "code",
   "execution_count": 52,
   "outputs": [],
   "source": [
    "import pandas as pd\n",
    "import seaborn as sns\n",
    "import numpy as np\n",
    "import matplotlib.pyplot as plt\n",
    "import operator\n",
    "from sklearn.ensemble import RandomForestClassifier\n",
    "from sklearn import metrics\n",
    "from keras.utils import pad_sequences\n",
    "#test"
   ],
   "metadata": {
    "collapsed": false
   }
  },
  {
   "cell_type": "markdown",
   "source": [],
   "metadata": {
    "collapsed": false
   }
  },
  {
   "cell_type": "markdown",
   "source": [
    "## Load Data\n",
    "\n",
    "Preprocessing was done in EDA notebook and stored in pickle files"
   ],
   "metadata": {
    "collapsed": false
   }
  },
  {
   "cell_type": "code",
   "execution_count": 53,
   "outputs": [
    {
     "data": {
      "text/plain": "      categoryid  parentid\n0           1016     213.0\n1            809     169.0\n2            570       9.0\n3           1691     885.0\n4            536    1691.0\n...          ...       ...\n1664          49    1125.0\n1665        1112     630.0\n1666        1336     745.0\n1667         689     207.0\n1668         761     395.0\n\n[1669 rows x 2 columns]",
      "text/html": "<div>\n<style scoped>\n    .dataframe tbody tr th:only-of-type {\n        vertical-align: middle;\n    }\n\n    .dataframe tbody tr th {\n        vertical-align: top;\n    }\n\n    .dataframe thead th {\n        text-align: right;\n    }\n</style>\n<table border=\"1\" class=\"dataframe\">\n  <thead>\n    <tr style=\"text-align: right;\">\n      <th></th>\n      <th>categoryid</th>\n      <th>parentid</th>\n    </tr>\n  </thead>\n  <tbody>\n    <tr>\n      <th>0</th>\n      <td>1016</td>\n      <td>213.0</td>\n    </tr>\n    <tr>\n      <th>1</th>\n      <td>809</td>\n      <td>169.0</td>\n    </tr>\n    <tr>\n      <th>2</th>\n      <td>570</td>\n      <td>9.0</td>\n    </tr>\n    <tr>\n      <th>3</th>\n      <td>1691</td>\n      <td>885.0</td>\n    </tr>\n    <tr>\n      <th>4</th>\n      <td>536</td>\n      <td>1691.0</td>\n    </tr>\n    <tr>\n      <th>...</th>\n      <td>...</td>\n      <td>...</td>\n    </tr>\n    <tr>\n      <th>1664</th>\n      <td>49</td>\n      <td>1125.0</td>\n    </tr>\n    <tr>\n      <th>1665</th>\n      <td>1112</td>\n      <td>630.0</td>\n    </tr>\n    <tr>\n      <th>1666</th>\n      <td>1336</td>\n      <td>745.0</td>\n    </tr>\n    <tr>\n      <th>1667</th>\n      <td>689</td>\n      <td>207.0</td>\n    </tr>\n    <tr>\n      <th>1668</th>\n      <td>761</td>\n      <td>395.0</td>\n    </tr>\n  </tbody>\n</table>\n<p>1669 rows × 2 columns</p>\n</div>"
     },
     "execution_count": 53,
     "metadata": {},
     "output_type": "execute_result"
    }
   ],
   "source": [
    "basepath = '../../datasets/preprocessed_datasets/retailrocket/'\n",
    "category_tree = pd.read_pickle(basepath +'category_tree.pkl')\n",
    "category_tree"
   ],
   "metadata": {
    "collapsed": false
   }
  },
  {
   "cell_type": "code",
   "execution_count": 54,
   "outputs": [
    {
     "data": {
      "text/plain": "             timestamp  visitorid event  itemid  transactionid  \\\n0        1433221332117     257597  view  355908            NaN   \n1        1433224214164     992329  view  248676            NaN   \n2        1433221999827     111016  view  318965            NaN   \n3        1433221955914     483717  view  253185            NaN   \n4        1433221337106     951259  view  367447            NaN   \n...                ...        ...   ...     ...            ...   \n2756096  1438398785939     591435  view  261427            NaN   \n2756097  1438399813142     762376  view  115946            NaN   \n2756098  1438397820527    1251746  view   78144            NaN   \n2756099  1438398530703    1184451  view  283392            NaN   \n2756100  1438400163914     199536  view  152913            NaN   \n\n                    datetime  \n0        2015-06-02 07:02:12  \n1        2015-06-02 07:50:14  \n2        2015-06-02 07:13:19  \n3        2015-06-02 07:12:35  \n4        2015-06-02 07:02:17  \n...                      ...  \n2756096  2015-08-01 05:13:05  \n2756097  2015-08-01 05:30:13  \n2756098  2015-08-01 04:57:00  \n2756099  2015-08-01 05:08:50  \n2756100  2015-08-01 05:36:03  \n\n[2755641 rows x 6 columns]",
      "text/html": "<div>\n<style scoped>\n    .dataframe tbody tr th:only-of-type {\n        vertical-align: middle;\n    }\n\n    .dataframe tbody tr th {\n        vertical-align: top;\n    }\n\n    .dataframe thead th {\n        text-align: right;\n    }\n</style>\n<table border=\"1\" class=\"dataframe\">\n  <thead>\n    <tr style=\"text-align: right;\">\n      <th></th>\n      <th>timestamp</th>\n      <th>visitorid</th>\n      <th>event</th>\n      <th>itemid</th>\n      <th>transactionid</th>\n      <th>datetime</th>\n    </tr>\n  </thead>\n  <tbody>\n    <tr>\n      <th>0</th>\n      <td>1433221332117</td>\n      <td>257597</td>\n      <td>view</td>\n      <td>355908</td>\n      <td>NaN</td>\n      <td>2015-06-02 07:02:12</td>\n    </tr>\n    <tr>\n      <th>1</th>\n      <td>1433224214164</td>\n      <td>992329</td>\n      <td>view</td>\n      <td>248676</td>\n      <td>NaN</td>\n      <td>2015-06-02 07:50:14</td>\n    </tr>\n    <tr>\n      <th>2</th>\n      <td>1433221999827</td>\n      <td>111016</td>\n      <td>view</td>\n      <td>318965</td>\n      <td>NaN</td>\n      <td>2015-06-02 07:13:19</td>\n    </tr>\n    <tr>\n      <th>3</th>\n      <td>1433221955914</td>\n      <td>483717</td>\n      <td>view</td>\n      <td>253185</td>\n      <td>NaN</td>\n      <td>2015-06-02 07:12:35</td>\n    </tr>\n    <tr>\n      <th>4</th>\n      <td>1433221337106</td>\n      <td>951259</td>\n      <td>view</td>\n      <td>367447</td>\n      <td>NaN</td>\n      <td>2015-06-02 07:02:17</td>\n    </tr>\n    <tr>\n      <th>...</th>\n      <td>...</td>\n      <td>...</td>\n      <td>...</td>\n      <td>...</td>\n      <td>...</td>\n      <td>...</td>\n    </tr>\n    <tr>\n      <th>2756096</th>\n      <td>1438398785939</td>\n      <td>591435</td>\n      <td>view</td>\n      <td>261427</td>\n      <td>NaN</td>\n      <td>2015-08-01 05:13:05</td>\n    </tr>\n    <tr>\n      <th>2756097</th>\n      <td>1438399813142</td>\n      <td>762376</td>\n      <td>view</td>\n      <td>115946</td>\n      <td>NaN</td>\n      <td>2015-08-01 05:30:13</td>\n    </tr>\n    <tr>\n      <th>2756098</th>\n      <td>1438397820527</td>\n      <td>1251746</td>\n      <td>view</td>\n      <td>78144</td>\n      <td>NaN</td>\n      <td>2015-08-01 04:57:00</td>\n    </tr>\n    <tr>\n      <th>2756099</th>\n      <td>1438398530703</td>\n      <td>1184451</td>\n      <td>view</td>\n      <td>283392</td>\n      <td>NaN</td>\n      <td>2015-08-01 05:08:50</td>\n    </tr>\n    <tr>\n      <th>2756100</th>\n      <td>1438400163914</td>\n      <td>199536</td>\n      <td>view</td>\n      <td>152913</td>\n      <td>NaN</td>\n      <td>2015-08-01 05:36:03</td>\n    </tr>\n  </tbody>\n</table>\n<p>2755641 rows × 6 columns</p>\n</div>"
     },
     "execution_count": 54,
     "metadata": {},
     "output_type": "execute_result"
    }
   ],
   "source": [
    "events = pd.read_pickle(basepath +'events.pkl')\n",
    "events"
   ],
   "metadata": {
    "collapsed": false
   }
  },
  {
   "cell_type": "code",
   "execution_count": 55,
   "outputs": [
    {
     "data": {
      "text/plain": "         visitorid  products_viewed  num_views  num_add2cart  num_transaction\n0           693516                1          1             2                0\n1           829044                1          1             0                0\n2           652699                1          1             0                0\n3          1125936                1          1             0                0\n4          1149227                1          1             0                0\n...            ...              ...        ...           ...              ...\n1407575     998517                1          1             0                0\n1407576     472345                1          1             0                0\n1407577    1207677                1          1             0                0\n1407578     255126                1          1             0                0\n1407579     622226                1          1             0                0\n\n[1407580 rows x 5 columns]",
      "text/html": "<div>\n<style scoped>\n    .dataframe tbody tr th:only-of-type {\n        vertical-align: middle;\n    }\n\n    .dataframe tbody tr th {\n        vertical-align: top;\n    }\n\n    .dataframe thead th {\n        text-align: right;\n    }\n</style>\n<table border=\"1\" class=\"dataframe\">\n  <thead>\n    <tr style=\"text-align: right;\">\n      <th></th>\n      <th>visitorid</th>\n      <th>products_viewed</th>\n      <th>num_views</th>\n      <th>num_add2cart</th>\n      <th>num_transaction</th>\n    </tr>\n  </thead>\n  <tbody>\n    <tr>\n      <th>0</th>\n      <td>693516</td>\n      <td>1</td>\n      <td>1</td>\n      <td>2</td>\n      <td>0</td>\n    </tr>\n    <tr>\n      <th>1</th>\n      <td>829044</td>\n      <td>1</td>\n      <td>1</td>\n      <td>0</td>\n      <td>0</td>\n    </tr>\n    <tr>\n      <th>2</th>\n      <td>652699</td>\n      <td>1</td>\n      <td>1</td>\n      <td>0</td>\n      <td>0</td>\n    </tr>\n    <tr>\n      <th>3</th>\n      <td>1125936</td>\n      <td>1</td>\n      <td>1</td>\n      <td>0</td>\n      <td>0</td>\n    </tr>\n    <tr>\n      <th>4</th>\n      <td>1149227</td>\n      <td>1</td>\n      <td>1</td>\n      <td>0</td>\n      <td>0</td>\n    </tr>\n    <tr>\n      <th>...</th>\n      <td>...</td>\n      <td>...</td>\n      <td>...</td>\n      <td>...</td>\n      <td>...</td>\n    </tr>\n    <tr>\n      <th>1407575</th>\n      <td>998517</td>\n      <td>1</td>\n      <td>1</td>\n      <td>0</td>\n      <td>0</td>\n    </tr>\n    <tr>\n      <th>1407576</th>\n      <td>472345</td>\n      <td>1</td>\n      <td>1</td>\n      <td>0</td>\n      <td>0</td>\n    </tr>\n    <tr>\n      <th>1407577</th>\n      <td>1207677</td>\n      <td>1</td>\n      <td>1</td>\n      <td>0</td>\n      <td>0</td>\n    </tr>\n    <tr>\n      <th>1407578</th>\n      <td>255126</td>\n      <td>1</td>\n      <td>1</td>\n      <td>0</td>\n      <td>0</td>\n    </tr>\n    <tr>\n      <th>1407579</th>\n      <td>622226</td>\n      <td>1</td>\n      <td>1</td>\n      <td>0</td>\n      <td>0</td>\n    </tr>\n  </tbody>\n</table>\n<p>1407580 rows × 5 columns</p>\n</div>"
     },
     "execution_count": 55,
     "metadata": {},
     "output_type": "execute_result"
    }
   ],
   "source": [
    "visitor_actions = pd.read_pickle(basepath +'visitor_actions.pkl')\n",
    "visitor_actions"
   ],
   "metadata": {
    "collapsed": false
   }
  },
  {
   "cell_type": "code",
   "execution_count": 56,
   "outputs": [
    {
     "data": {
      "text/plain": "         itemid  visitorid  view  addtocart  transaction\n0             3     370720   1.0          0            0\n1             3     639016   1.0          0            0\n2             4     905555   1.0          0            0\n3             4    1010132   1.0          0            0\n4             4    1042455   1.0          0            0\n...         ...        ...   ...        ...          ...\n2145174  466864    1388296   4.0          0            0\n2145175  466867     241803   1.0          0            0\n2145176  466867     450511   1.0          0            0\n2145177  466867    1001859   1.0          0            0\n2145178  466867    1117910   1.0          0            0\n\n[2145179 rows x 5 columns]",
      "text/html": "<div>\n<style scoped>\n    .dataframe tbody tr th:only-of-type {\n        vertical-align: middle;\n    }\n\n    .dataframe tbody tr th {\n        vertical-align: top;\n    }\n\n    .dataframe thead th {\n        text-align: right;\n    }\n</style>\n<table border=\"1\" class=\"dataframe\">\n  <thead>\n    <tr style=\"text-align: right;\">\n      <th></th>\n      <th>itemid</th>\n      <th>visitorid</th>\n      <th>view</th>\n      <th>addtocart</th>\n      <th>transaction</th>\n    </tr>\n  </thead>\n  <tbody>\n    <tr>\n      <th>0</th>\n      <td>3</td>\n      <td>370720</td>\n      <td>1.0</td>\n      <td>0</td>\n      <td>0</td>\n    </tr>\n    <tr>\n      <th>1</th>\n      <td>3</td>\n      <td>639016</td>\n      <td>1.0</td>\n      <td>0</td>\n      <td>0</td>\n    </tr>\n    <tr>\n      <th>2</th>\n      <td>4</td>\n      <td>905555</td>\n      <td>1.0</td>\n      <td>0</td>\n      <td>0</td>\n    </tr>\n    <tr>\n      <th>3</th>\n      <td>4</td>\n      <td>1010132</td>\n      <td>1.0</td>\n      <td>0</td>\n      <td>0</td>\n    </tr>\n    <tr>\n      <th>4</th>\n      <td>4</td>\n      <td>1042455</td>\n      <td>1.0</td>\n      <td>0</td>\n      <td>0</td>\n    </tr>\n    <tr>\n      <th>...</th>\n      <td>...</td>\n      <td>...</td>\n      <td>...</td>\n      <td>...</td>\n      <td>...</td>\n    </tr>\n    <tr>\n      <th>2145174</th>\n      <td>466864</td>\n      <td>1388296</td>\n      <td>4.0</td>\n      <td>0</td>\n      <td>0</td>\n    </tr>\n    <tr>\n      <th>2145175</th>\n      <td>466867</td>\n      <td>241803</td>\n      <td>1.0</td>\n      <td>0</td>\n      <td>0</td>\n    </tr>\n    <tr>\n      <th>2145176</th>\n      <td>466867</td>\n      <td>450511</td>\n      <td>1.0</td>\n      <td>0</td>\n      <td>0</td>\n    </tr>\n    <tr>\n      <th>2145177</th>\n      <td>466867</td>\n      <td>1001859</td>\n      <td>1.0</td>\n      <td>0</td>\n      <td>0</td>\n    </tr>\n    <tr>\n      <th>2145178</th>\n      <td>466867</td>\n      <td>1117910</td>\n      <td>1.0</td>\n      <td>0</td>\n      <td>0</td>\n    </tr>\n  </tbody>\n</table>\n<p>2145179 rows × 5 columns</p>\n</div>"
     },
     "execution_count": 56,
     "metadata": {},
     "output_type": "execute_result"
    }
   ],
   "source": [
    "product_item_df = pd.read_pickle(basepath +'product_item.pkl')\n",
    "product_item_df"
   ],
   "metadata": {
    "collapsed": false
   }
  },
  {
   "cell_type": "code",
   "execution_count": 57,
   "outputs": [
    {
     "data": {
      "text/plain": "         itemid  visitorid  view  addtocart  transaction\n10            6     330981   2.0          0            0\n18            6     771857   2.0          0            0\n19            6     802121   2.0          0            0\n36           15     724401   2.0          0            0\n40           15     989647   2.0          0            0\n...         ...        ...   ...        ...          ...\n2145162  466864    1076431   3.0          0            0\n2145165  466864    1183853   6.0          0            0\n2145167  466864    1224868   2.0          0            0\n2145169  466864    1265478   3.0          0            0\n2145174  466864    1388296   4.0          0            0\n\n[306548 rows x 5 columns]",
      "text/html": "<div>\n<style scoped>\n    .dataframe tbody tr th:only-of-type {\n        vertical-align: middle;\n    }\n\n    .dataframe tbody tr th {\n        vertical-align: top;\n    }\n\n    .dataframe thead th {\n        text-align: right;\n    }\n</style>\n<table border=\"1\" class=\"dataframe\">\n  <thead>\n    <tr style=\"text-align: right;\">\n      <th></th>\n      <th>itemid</th>\n      <th>visitorid</th>\n      <th>view</th>\n      <th>addtocart</th>\n      <th>transaction</th>\n    </tr>\n  </thead>\n  <tbody>\n    <tr>\n      <th>10</th>\n      <td>6</td>\n      <td>330981</td>\n      <td>2.0</td>\n      <td>0</td>\n      <td>0</td>\n    </tr>\n    <tr>\n      <th>18</th>\n      <td>6</td>\n      <td>771857</td>\n      <td>2.0</td>\n      <td>0</td>\n      <td>0</td>\n    </tr>\n    <tr>\n      <th>19</th>\n      <td>6</td>\n      <td>802121</td>\n      <td>2.0</td>\n      <td>0</td>\n      <td>0</td>\n    </tr>\n    <tr>\n      <th>36</th>\n      <td>15</td>\n      <td>724401</td>\n      <td>2.0</td>\n      <td>0</td>\n      <td>0</td>\n    </tr>\n    <tr>\n      <th>40</th>\n      <td>15</td>\n      <td>989647</td>\n      <td>2.0</td>\n      <td>0</td>\n      <td>0</td>\n    </tr>\n    <tr>\n      <th>...</th>\n      <td>...</td>\n      <td>...</td>\n      <td>...</td>\n      <td>...</td>\n      <td>...</td>\n    </tr>\n    <tr>\n      <th>2145162</th>\n      <td>466864</td>\n      <td>1076431</td>\n      <td>3.0</td>\n      <td>0</td>\n      <td>0</td>\n    </tr>\n    <tr>\n      <th>2145165</th>\n      <td>466864</td>\n      <td>1183853</td>\n      <td>6.0</td>\n      <td>0</td>\n      <td>0</td>\n    </tr>\n    <tr>\n      <th>2145167</th>\n      <td>466864</td>\n      <td>1224868</td>\n      <td>2.0</td>\n      <td>0</td>\n      <td>0</td>\n    </tr>\n    <tr>\n      <th>2145169</th>\n      <td>466864</td>\n      <td>1265478</td>\n      <td>3.0</td>\n      <td>0</td>\n      <td>0</td>\n    </tr>\n    <tr>\n      <th>2145174</th>\n      <td>466864</td>\n      <td>1388296</td>\n      <td>4.0</td>\n      <td>0</td>\n      <td>0</td>\n    </tr>\n  </tbody>\n</table>\n<p>306548 rows × 5 columns</p>\n</div>"
     },
     "execution_count": 57,
     "metadata": {},
     "output_type": "execute_result"
    }
   ],
   "source": [
    "product_item_df[product_item_df.view >= 2]"
   ],
   "metadata": {
    "collapsed": false
   }
  },
  {
   "cell_type": "code",
   "execution_count": 58,
   "outputs": [
    {
     "data": {
      "text/plain": "        itemid categoryid available  \\\n0            0        209         0   \n1            1       1114         1   \n2            2       1305         0   \n3            3       1171         0   \n4            4       1038         0   \n...        ...        ...       ...   \n417048  466862       1376         0   \n417049  466863        173         0   \n417050  466864        373         1   \n417051  466865        421         0   \n417052  466866       1164         0   \n\n                                               properties  \\\n0       [1036, 1056, 11, 112, 127, 139, 159, 177, 189,...   \n1       [0, 1036, 112, 159, 185, 202, 227, 238, 280, 2...   \n2       [1063, 112, 159, 202, 282, 283, 318, 332, 364,...   \n3       [1025, 1080, 112, 159, 202, 227, 250, 283, 30,...   \n4       [112, 115, 159, 202, 227, 28, 283, 33, 364, 59...   \n...                                                   ...   \n417048  [112, 139, 159, 186, 202, 227, 28, 283, 29, 34...   \n417049  [1014, 112, 159, 202, 227, 283, 364, 400, 47, ...   \n417050  [1036, 112, 152, 159, 202, 227, 230, 283, 348,...   \n417051  [1031, 112, 159, 202, 227, 277, 28, 283, 332, ...   \n417052  [112, 120, 128, 159, 202, 227, 28, 283, 320, 3...   \n\n                                          property_values  \n0       [1276750, n3.168 1144008, n15360.000 628176 n1...  \n1       [769062, 1154859, 679677, 519769, 769062, 1726...  \n2       [n396.000 145688, 679677, 519769, 648485 n6000...  \n3       [769062, 769062, 679677, 519769, 261419, 13057...  \n4       [679677, n24.000, 519769, 371058 71429, 588652...  \n...                                                   ...  \n417048  [679677, 769062, 519769, 575816 n432.000, 7173...  \n417049  [1075463, 679677, 519769, 1194687 550565 24255...  \n417050  [1154859, 679677, 1071492, 519769, 1262739 205...  \n417051  [1088309, 679677, 519769, 150169 780351 820477...  \n417052  [679677, 1057641, 590055 n24.000, 519769, 8924...  \n\n[417053 rows x 5 columns]",
      "text/html": "<div>\n<style scoped>\n    .dataframe tbody tr th:only-of-type {\n        vertical-align: middle;\n    }\n\n    .dataframe tbody tr th {\n        vertical-align: top;\n    }\n\n    .dataframe thead th {\n        text-align: right;\n    }\n</style>\n<table border=\"1\" class=\"dataframe\">\n  <thead>\n    <tr style=\"text-align: right;\">\n      <th></th>\n      <th>itemid</th>\n      <th>categoryid</th>\n      <th>available</th>\n      <th>properties</th>\n      <th>property_values</th>\n    </tr>\n  </thead>\n  <tbody>\n    <tr>\n      <th>0</th>\n      <td>0</td>\n      <td>209</td>\n      <td>0</td>\n      <td>[1036, 1056, 11, 112, 127, 139, 159, 177, 189,...</td>\n      <td>[1276750, n3.168 1144008, n15360.000 628176 n1...</td>\n    </tr>\n    <tr>\n      <th>1</th>\n      <td>1</td>\n      <td>1114</td>\n      <td>1</td>\n      <td>[0, 1036, 112, 159, 185, 202, 227, 238, 280, 2...</td>\n      <td>[769062, 1154859, 679677, 519769, 769062, 1726...</td>\n    </tr>\n    <tr>\n      <th>2</th>\n      <td>2</td>\n      <td>1305</td>\n      <td>0</td>\n      <td>[1063, 112, 159, 202, 282, 283, 318, 332, 364,...</td>\n      <td>[n396.000 145688, 679677, 519769, 648485 n6000...</td>\n    </tr>\n    <tr>\n      <th>3</th>\n      <td>3</td>\n      <td>1171</td>\n      <td>0</td>\n      <td>[1025, 1080, 112, 159, 202, 227, 250, 283, 30,...</td>\n      <td>[769062, 769062, 679677, 519769, 261419, 13057...</td>\n    </tr>\n    <tr>\n      <th>4</th>\n      <td>4</td>\n      <td>1038</td>\n      <td>0</td>\n      <td>[112, 115, 159, 202, 227, 28, 283, 33, 364, 59...</td>\n      <td>[679677, n24.000, 519769, 371058 71429, 588652...</td>\n    </tr>\n    <tr>\n      <th>...</th>\n      <td>...</td>\n      <td>...</td>\n      <td>...</td>\n      <td>...</td>\n      <td>...</td>\n    </tr>\n    <tr>\n      <th>417048</th>\n      <td>466862</td>\n      <td>1376</td>\n      <td>0</td>\n      <td>[112, 139, 159, 186, 202, 227, 28, 283, 29, 34...</td>\n      <td>[679677, 769062, 519769, 575816 n432.000, 7173...</td>\n    </tr>\n    <tr>\n      <th>417049</th>\n      <td>466863</td>\n      <td>173</td>\n      <td>0</td>\n      <td>[1014, 112, 159, 202, 227, 283, 364, 400, 47, ...</td>\n      <td>[1075463, 679677, 519769, 1194687 550565 24255...</td>\n    </tr>\n    <tr>\n      <th>417050</th>\n      <td>466864</td>\n      <td>373</td>\n      <td>1</td>\n      <td>[1036, 112, 152, 159, 202, 227, 230, 283, 348,...</td>\n      <td>[1154859, 679677, 1071492, 519769, 1262739 205...</td>\n    </tr>\n    <tr>\n      <th>417051</th>\n      <td>466865</td>\n      <td>421</td>\n      <td>0</td>\n      <td>[1031, 112, 159, 202, 227, 277, 28, 283, 332, ...</td>\n      <td>[1088309, 679677, 519769, 150169 780351 820477...</td>\n    </tr>\n    <tr>\n      <th>417052</th>\n      <td>466866</td>\n      <td>1164</td>\n      <td>0</td>\n      <td>[112, 120, 128, 159, 202, 227, 28, 283, 320, 3...</td>\n      <td>[679677, 1057641, 590055 n24.000, 519769, 8924...</td>\n    </tr>\n  </tbody>\n</table>\n<p>417053 rows × 5 columns</p>\n</div>"
     },
     "execution_count": 58,
     "metadata": {},
     "output_type": "execute_result"
    }
   ],
   "source": [
    "item_properties = pd.read_pickle(basepath +'item_data_extracted.pkl')\n",
    "item_properties"
   ],
   "metadata": {
    "collapsed": false
   }
  },
  {
   "cell_type": "code",
   "execution_count": 59,
   "outputs": [
    {
     "data": {
      "text/plain": "         visitorid                           itemids            categories  \\\n0                0           [67045, 285930, 357564]      [333, 1188, 256]   \n1                1                           [72028]                [1192]   \n2                2  [216305, 259884, 325215, 342816]  [299, 299, 299, 444]   \n3                3                          [385090]                [1171]   \n4                5                           [61396]                 [646]   \n...            ...                               ...                   ...   \n1236027    1407575                          [121220]                [1221]   \n1236028    1407576                          [356208]                 [175]   \n1236029    1407577                          [427784]                [1237]   \n1236030    1407578                          [188736]                [1584]   \n1236031    1407579                            [2521]                [1282]   \n\n                                                properties  \\\n0        [[1036, 112, 159, 202, 227, 28, 283, 328, 364,...   \n1        [[1036, 112, 159, 202, 227, 230, 283, 307, 364...   \n2        [[1030, 1036, 112, 159, 202, 227, 27, 283, 364...   \n3        [[1025, 1080, 112, 159, 202, 227, 250, 283, 30...   \n4        [[1092, 112, 159, 202, 283, 348, 364, 461, 506...   \n...                                                    ...   \n1236027  [[112, 159, 202, 206, 227, 28, 283, 364, 476, ...   \n1236028  [[1075, 112, 159, 202, 25, 283, 364, 6, 678, 6...   \n1236029  [[112, 159, 19, 202, 227, 28, 283, 325, 364, 5...   \n1236030  [[112, 159, 202, 227, 28, 283, 364, 6, 678, 69...   \n1236031  [[1036, 104, 112, 118, 159, 163, 202, 227, 283...   \n\n                                           property_values     available  \\\n0        [[1154859, 679677, 519769, 439698, 1037547 150...     [1, 0, 1]   \n1        [[1318567, 679677, 519769, 72800, 887448 17434...           [0]   \n2        [[140221, 961511, 679677, 519769, 961487 75577...  [1, 1, 0, 1]   \n3        [[n464.400 357845 903043, [215470 n9048.000, 2...           [0]   \n4        [[291010, 679677, 519769, 494986 789585, 72671...           [0]   \n...                                                    ...           ...   \n1236027  [[679677, 519769, 961131 584779 30834, n600.00...           [0]   \n1236028  [[[n120.000 1029109 n1200.000 1029109, n120.00...           [1]   \n1236029  [[679677, 519769, 1297729 n36.000 350726 30603...           [0]   \n1236030  [[679677, 519769, 727751 n6540.000 253573, 104...           [0]   \n1236031  [[769062 726612 769062, 769062, 679677, 769062...           [1]   \n\n                         view     addtocart   transaction  \n0             [1.0, 1.0, 1.0]     [0, 0, 0]     [0, 0, 0]  \n1                       [1.0]           [0]           [0]  \n2        [2.0, 1.0, 3.0, 2.0]  [0, 0, 0, 0]  [0, 0, 0, 0]  \n3                       [1.0]           [0]           [0]  \n4                       [1.0]           [0]           [0]  \n...                       ...           ...           ...  \n1236027                 [1.0]           [0]           [0]  \n1236028                 [1.0]           [0]           [0]  \n1236029                 [1.0]           [0]           [0]  \n1236030                 [1.0]           [0]           [0]  \n1236031                 [1.0]           [0]           [0]  \n\n[1236032 rows x 9 columns]",
      "text/html": "<div>\n<style scoped>\n    .dataframe tbody tr th:only-of-type {\n        vertical-align: middle;\n    }\n\n    .dataframe tbody tr th {\n        vertical-align: top;\n    }\n\n    .dataframe thead th {\n        text-align: right;\n    }\n</style>\n<table border=\"1\" class=\"dataframe\">\n  <thead>\n    <tr style=\"text-align: right;\">\n      <th></th>\n      <th>visitorid</th>\n      <th>itemids</th>\n      <th>categories</th>\n      <th>properties</th>\n      <th>property_values</th>\n      <th>available</th>\n      <th>view</th>\n      <th>addtocart</th>\n      <th>transaction</th>\n    </tr>\n  </thead>\n  <tbody>\n    <tr>\n      <th>0</th>\n      <td>0</td>\n      <td>[67045, 285930, 357564]</td>\n      <td>[333, 1188, 256]</td>\n      <td>[[1036, 112, 159, 202, 227, 28, 283, 328, 364,...</td>\n      <td>[[1154859, 679677, 519769, 439698, 1037547 150...</td>\n      <td>[1, 0, 1]</td>\n      <td>[1.0, 1.0, 1.0]</td>\n      <td>[0, 0, 0]</td>\n      <td>[0, 0, 0]</td>\n    </tr>\n    <tr>\n      <th>1</th>\n      <td>1</td>\n      <td>[72028]</td>\n      <td>[1192]</td>\n      <td>[[1036, 112, 159, 202, 227, 230, 283, 307, 364...</td>\n      <td>[[1318567, 679677, 519769, 72800, 887448 17434...</td>\n      <td>[0]</td>\n      <td>[1.0]</td>\n      <td>[0]</td>\n      <td>[0]</td>\n    </tr>\n    <tr>\n      <th>2</th>\n      <td>2</td>\n      <td>[216305, 259884, 325215, 342816]</td>\n      <td>[299, 299, 299, 444]</td>\n      <td>[[1030, 1036, 112, 159, 202, 227, 27, 283, 364...</td>\n      <td>[[140221, 961511, 679677, 519769, 961487 75577...</td>\n      <td>[1, 1, 0, 1]</td>\n      <td>[2.0, 1.0, 3.0, 2.0]</td>\n      <td>[0, 0, 0, 0]</td>\n      <td>[0, 0, 0, 0]</td>\n    </tr>\n    <tr>\n      <th>3</th>\n      <td>3</td>\n      <td>[385090]</td>\n      <td>[1171]</td>\n      <td>[[1025, 1080, 112, 159, 202, 227, 250, 283, 30...</td>\n      <td>[[n464.400 357845 903043, [215470 n9048.000, 2...</td>\n      <td>[0]</td>\n      <td>[1.0]</td>\n      <td>[0]</td>\n      <td>[0]</td>\n    </tr>\n    <tr>\n      <th>4</th>\n      <td>5</td>\n      <td>[61396]</td>\n      <td>[646]</td>\n      <td>[[1092, 112, 159, 202, 283, 348, 364, 461, 506...</td>\n      <td>[[291010, 679677, 519769, 494986 789585, 72671...</td>\n      <td>[0]</td>\n      <td>[1.0]</td>\n      <td>[0]</td>\n      <td>[0]</td>\n    </tr>\n    <tr>\n      <th>...</th>\n      <td>...</td>\n      <td>...</td>\n      <td>...</td>\n      <td>...</td>\n      <td>...</td>\n      <td>...</td>\n      <td>...</td>\n      <td>...</td>\n      <td>...</td>\n    </tr>\n    <tr>\n      <th>1236027</th>\n      <td>1407575</td>\n      <td>[121220]</td>\n      <td>[1221]</td>\n      <td>[[112, 159, 202, 206, 227, 28, 283, 364, 476, ...</td>\n      <td>[[679677, 519769, 961131 584779 30834, n600.00...</td>\n      <td>[0]</td>\n      <td>[1.0]</td>\n      <td>[0]</td>\n      <td>[0]</td>\n    </tr>\n    <tr>\n      <th>1236028</th>\n      <td>1407576</td>\n      <td>[356208]</td>\n      <td>[175]</td>\n      <td>[[1075, 112, 159, 202, 25, 283, 364, 6, 678, 6...</td>\n      <td>[[[n120.000 1029109 n1200.000 1029109, n120.00...</td>\n      <td>[1]</td>\n      <td>[1.0]</td>\n      <td>[0]</td>\n      <td>[0]</td>\n    </tr>\n    <tr>\n      <th>1236029</th>\n      <td>1407577</td>\n      <td>[427784]</td>\n      <td>[1237]</td>\n      <td>[[112, 159, 19, 202, 227, 28, 283, 325, 364, 5...</td>\n      <td>[[679677, 519769, 1297729 n36.000 350726 30603...</td>\n      <td>[0]</td>\n      <td>[1.0]</td>\n      <td>[0]</td>\n      <td>[0]</td>\n    </tr>\n    <tr>\n      <th>1236030</th>\n      <td>1407578</td>\n      <td>[188736]</td>\n      <td>[1584]</td>\n      <td>[[112, 159, 202, 227, 28, 283, 364, 6, 678, 69...</td>\n      <td>[[679677, 519769, 727751 n6540.000 253573, 104...</td>\n      <td>[0]</td>\n      <td>[1.0]</td>\n      <td>[0]</td>\n      <td>[0]</td>\n    </tr>\n    <tr>\n      <th>1236031</th>\n      <td>1407579</td>\n      <td>[2521]</td>\n      <td>[1282]</td>\n      <td>[[1036, 104, 112, 118, 159, 163, 202, 227, 283...</td>\n      <td>[[769062 726612 769062, 769062, 679677, 769062...</td>\n      <td>[1]</td>\n      <td>[1.0]</td>\n      <td>[0]</td>\n      <td>[0]</td>\n    </tr>\n  </tbody>\n</table>\n<p>1236032 rows × 9 columns</p>\n</div>"
     },
     "execution_count": 59,
     "metadata": {},
     "output_type": "execute_result"
    }
   ],
   "source": [
    "rebuild_grouped_df = False\n",
    "if  rebuild_grouped_df:\n",
    "    merged_df = pd.merge(item_properties, product_item_df, on='itemid')\n",
    "\n",
    "    grouped_df = merged_df.groupby('visitorid').agg({\n",
    "        'itemid': list,\n",
    "        'categoryid': list,\n",
    "        'properties': list,\n",
    "        'property_values': list,\n",
    "        'available': list,\n",
    "        'view': list,\n",
    "        'addtocart': list,\n",
    "        'transaction': list\n",
    "    }).reset_index()\n",
    "    grouped_df.columns = ['visitorid', 'itemids', 'categories', 'properties', 'property_values', 'available', 'view', 'addtocart', 'transaction']\n",
    "\n",
    "    grouped_df.to_pickle(basepath +'visitor_items.pkl')\n",
    "    visitor_items = grouped_df\n",
    "else:\n",
    "    visitor_items = pd.read_pickle(basepath +'visitor_items.pkl')\n",
    "\n",
    "visitor_items\n",
    "# Select the desired columns0"
   ],
   "metadata": {
    "collapsed": false
   }
  },
  {
   "cell_type": "markdown",
   "source": [
    "### build and train model"
   ],
   "metadata": {
    "collapsed": false
   }
  },
  {
   "cell_type": "code",
   "execution_count": 124,
   "outputs": [],
   "source": [
    "df = visitor_items.sample(n=10000)\n",
    "# df = visitor_items.copy()\n",
    "\n",
    "def convertToArray(column):\n",
    "    return column.apply(lambda x: np.array([x]))\n",
    "\n",
    "def bringToSameSizeOneDim(column, max_length = None):\n",
    "    if max_length is None:\n",
    "        max_length = max(column.apply(len))\n",
    "    return column.apply(lambda x: x + [0] * (max_length - len(x)))\n",
    "\n",
    "\n",
    "def bringToSameSizeTwoDimAndFlatten(column):\n",
    "    max_length = max(column.apply(lambda x: max(len(sublist) for sublist in x)))\n",
    "    new_column = column.apply(lambda x: [sublist + [0] * (max_length - len(sublist)) for sublist in x])\n",
    "    new_column = new_column.apply(lambda x: x + [[0] * max_length] * (max_length - len(x)))\n",
    "    return new_column.apply(lambda x: [item for sublist in x for item in sublist])\n",
    "# itemid,categoryid,available,properties,property_values\n",
    "\n",
    "def convertToSequence(column, max_length = None):\n",
    "    list = column.tolist()\n",
    "    if max_length is None:\n",
    "        max_length = max(len(x) for x in list)\n",
    "    return pad_sequences(list, maxlen=max_length, padding='post', value=0), max_length\n",
    "\n",
    "\n",
    "\n",
    "itemids,max_itemid = convertToSequence(df.itemids)\n",
    "categories,max_category = convertToSequence(df.categories)\n",
    "available,max_available = convertToSequence(df.available)\n",
    "view,max_view = convertToSequence(df.view)\n",
    "addtocart,max_addtocart = convertToSequence(df.addtocart)\n",
    "\n",
    "max_seq_length = max( max_itemid, max_category, max_available, max_view, max_addtocart)\n",
    "\n",
    "visitorids, max_visitorid = convertToSequence(bringToSameSizeOneDim(convertToArray(df.visitorid), max_seq_length+1))\n",
    "# to predict\n",
    "transaction,max_transaction = convertToSequence(bringToSameSizeOneDim(df.transaction))\n",
    "num_transactions = transaction.shape[1]\n",
    "\n",
    "max_visitorid_id = max(np.unique(df.visitorid)) + 1\n",
    "# max_visitorid = max_visitorid_id\n",
    "\n",
    "max_itemid_id = np.max(np.unique(df.itemids.apply(np.unique).apply(max))) + 1\n",
    "max_category_id = max(np.unique(df.categories.apply(np.unique).apply(max).astype(int))) + 1\n",
    "max_available_id = int(max(np.unique(df.available.apply(np.unique).apply(max)))) + 1\n",
    "max_view_id = int(max(np.unique(df.view.apply(np.unique).apply(max)))) + 1\n",
    "max_addtocart_id = int(max(np.unique(df.addtocart.apply(np.unique).apply(max)))) + 1\n",
    "max_transaction_id = int(max(np.unique(df.addtocart.apply(np.unique).apply(max)))) + 1\n",
    "\n",
    "\n"
   ],
   "metadata": {
    "collapsed": false
   }
  },
  {
   "cell_type": "code",
   "execution_count": 124,
   "outputs": [],
   "source": [],
   "metadata": {
    "collapsed": false
   }
  },
  {
   "cell_type": "code",
   "execution_count": 140,
   "outputs": [
    {
     "name": "stdout",
     "output_type": "stream",
     "text": [
      "Model: \"model_12\"\n",
      "__________________________________________________________________________________________________\n",
      " Layer (type)                   Output Shape         Param #     Connected to                     \n",
      "==================================================================================================\n",
      " visitorids (InputLayer)        [(None, 523)]        0           []                               \n",
      "                                                                                                  \n",
      " itemids (InputLayer)           [(None, 523)]        0           []                               \n",
      "                                                                                                  \n",
      " categories (InputLayer)        [(None, 523)]        0           []                               \n",
      "                                                                                                  \n",
      " available (InputLayer)         [(None, 523)]        0           []                               \n",
      "                                                                                                  \n",
      " view (InputLayer)              [(None, 523)]        0           []                               \n",
      "                                                                                                  \n",
      " addtocart (InputLayer)         [(None, 523)]        0           []                               \n",
      "                                                                                                  \n",
      " embedding_116 (Embedding)      (None, 523, 32)      45037344    ['visitorids[0][0]']             \n",
      "                                                                                                  \n",
      " embedding_117 (Embedding)      (None, 523, 32)      14939584    ['itemids[0][0]']                \n",
      "                                                                                                  \n",
      " embedding_118 (Embedding)      (None, 523, 32)      54336       ['categories[0][0]']             \n",
      "                                                                                                  \n",
      " embedding_119 (Embedding)      (None, 523, 32)      64          ['available[0][0]']              \n",
      "                                                                                                  \n",
      " embedding_120 (Embedding)      (None, 523, 32)      2240        ['view[0][0]']                   \n",
      "                                                                                                  \n",
      " embedding_121 (Embedding)      (None, 523, 32)      256         ['addtocart[0][0]']              \n",
      "                                                                                                  \n",
      " concat_embedding_input (Concat  (None, 523, 192)    0           ['embedding_116[0][0]',          \n",
      " enate)                                                           'embedding_117[0][0]',          \n",
      "                                                                  'embedding_118[0][0]',          \n",
      "                                                                  'embedding_119[0][0]',          \n",
      "                                                                  'embedding_120[0][0]',          \n",
      "                                                                  'embedding_121[0][0]']          \n",
      "                                                                                                  \n",
      " lstm_14 (LSTM)                 (None, 523, 64)      65792       ['concat_embedding_input[0][0]'] \n",
      "                                                                                                  \n",
      " tf.math.equal_20 (TFOpLambda)  (None, 523)          0           ['itemids[0][0]']                \n",
      "                                                                                                  \n",
      " batchnorm_lstm (BatchNormaliza  (None, 523, 64)     256         ['lstm_14[0][0]']                \n",
      " tion)                                                                                            \n",
      "                                                                                                  \n",
      " tf.math.logical_not_20 (TFOpLa  (None, 523)         0           ['tf.math.equal_20[0][0]']       \n",
      " mbda)                                                                                            \n",
      "                                                                                                  \n",
      " attention (Attention)          (None, 523, 64)      0           ['batchnorm_lstm[0][0]',         \n",
      "                                                                  'batchnorm_lstm[0][0]',         \n",
      "                                                                  'tf.math.logical_not_20[0][0]', \n",
      "                                                                  'tf.math.logical_not_20[0][0]'] \n",
      "                                                                                                  \n",
      " flatten_24 (Flatten)           (None, 33472)        0           ['attention[0][0]']              \n",
      "                                                                                                  \n",
      " dense_12 (Dense)               (None, 523)          17506379    ['flatten_24[0][0]']             \n",
      "                                                                                                  \n",
      "==================================================================================================\n",
      "Total params: 77,606,251\n",
      "Trainable params: 77,606,123\n",
      "Non-trainable params: 128\n",
      "__________________________________________________________________________________________________\n"
     ]
    }
   ],
   "source": [
    "# Define input layers\n",
    "input_visitorids = Input(shape=(max_visitorid,), name='visitorids')\n",
    "input_itemids = Input(shape=(max_itemid,), name='itemids')\n",
    "input_categories = Input(shape=(max_category,), name='categories')\n",
    "# input_properties = Input(shape=(max_seq_length,), name='properties')\n",
    "# input_property_values = Input(shape=(max_seq_length,), name='property_values')\n",
    "input_available = Input(shape=(max_available,), name='available')\n",
    "input_view = Input(shape=(max_view,), name='view')\n",
    "input_addtocart = Input(shape=(max_addtocart,), name='addtocart')\n",
    "# input_transaction = Input(shape=(1,), name='transaction')\n",
    "\n",
    "encoding_padding_mask = tf.math.logical_not(tf.math.equal(input_itemids, 0))\n",
    "\n",
    "# Embedding layers for categorical features\n",
    "embedding_dim = 32\n",
    "embedding_visitorids = Embedding(input_dim=max_visitorid_id, output_dim=embedding_dim)(input_visitorids)\n",
    "embedding_itemids = Embedding(input_dim=max_itemid_id, output_dim=embedding_dim)(input_itemids)\n",
    "embedding_categories = Embedding(input_dim=max_category_id, output_dim=embedding_dim)(input_categories)\n",
    "embedding_available = Embedding(input_dim=max_available_id, output_dim=embedding_dim)(input_available)\n",
    "embedding_view = Embedding(input_dim=max_view_id, output_dim=embedding_dim)(input_view)\n",
    "embedding_addtocart = Embedding(input_dim=max_addtocart_id, output_dim=embedding_dim)(input_addtocart)\n",
    "#embedding_transaction = Embedding(input_dim=max_category, output_dim=embedding_dim)(input_transaction)\n",
    "# embedding_properties = Embedding(input_dim=max_property + 1, output_dim=embedding_dim)(input_properties)\n",
    "# embedding_property_values = Embedding(input_dim=max_property_value + 1, output_dim=embedding_dim)(input_property_values)\n",
    "\n",
    "# Concatenate all embeddings\n",
    "concat_embedding_input = Concatenate(\n",
    "    axis=-1, name='concat_embedding_input')([embedding_visitorids, embedding_itemids, embedding_categories, embedding_available, embedding_view, embedding_addtocart])\n",
    "\n",
    "batchnorm_inputs = BatchNormalization(\n",
    "    name='batchnorm_inputs')(concat_embedding_input)\n",
    "# LSTM layer\n",
    "lstm = LSTM(64, return_sequences=True)(concat_embedding_input)\n",
    "lstm = BatchNormalization(name='batchnorm_lstm')(lstm)\n",
    "\n",
    "# Apply attention mechanism\n",
    "att = Attention(use_scale=False, name='attention')(inputs=[lstm, lstm],\n",
    "                                                   mask=[encoding_padding_mask, encoding_padding_mask])\n",
    "flatten = Flatten()(att)\n",
    "output = Dense(num_transactions, activation='softmax')(flatten)\n",
    "\n",
    "model = Model(inputs=[input_visitorids, input_itemids, input_categories, input_available, input_view, input_addtocart], outputs=output)\n",
    "model.compile(loss='mean_squared_error', optimizer='adam', metrics=['mse', 'mae', 'accuracy'])\n",
    "model.summary()\n"
   ],
   "metadata": {
    "collapsed": false
   }
  },
  {
   "cell_type": "code",
   "execution_count": 141,
   "outputs": [
    {
     "name": "stdout",
     "output_type": "stream",
     "text": [
      "Epoch 1/2\n"
     ]
    },
    {
     "name": "stderr",
     "output_type": "stream",
     "text": [
      "2023-06-27 15:56:00.039763: W tensorflow/core/grappler/costs/op_level_cost_estimator.cc:690] Error in PredictCost() for the op: op: \"Softmax\" attr { key: \"T\" value { type: DT_FLOAT } } inputs { dtype: DT_FLOAT shape { unknown_rank: true } } device { type: \"CPU\" model: \"0\" num_cores: 10 environment { key: \"cpu_instruction_set\" value: \"ARM NEON\" } environment { key: \"eigen\" value: \"3.4.90\" } l1_cache_size: 16384 l2_cache_size: 524288 l3_cache_size: 524288 memory_size: 268435456 } outputs { dtype: DT_FLOAT shape { unknown_rank: true } }\n"
     ]
    },
    {
     "name": "stdout",
     "output_type": "stream",
     "text": [
      "313/313 [==============================] - 128s 403ms/step - loss: 5.2302e-05 - mse: 5.2302e-05 - mae: 0.0020 - accuracy: 0.7562\n",
      "Epoch 2/2\n",
      "313/313 [==============================] - 126s 403ms/step - loss: 5.3112e-05 - mse: 5.3112e-05 - mae: 0.0020 - accuracy: 0.4186\n"
     ]
    }
   ],
   "source": [
    "epochs = 2\n",
    "batch_size = 32\n",
    "\n",
    "history = model.fit([visitorids, itemids, categories, available, view, addtocart], transaction, epochs=epochs, batch_size=batch_size)  # Adjust epochs and batch size as needed"
   ],
   "metadata": {
    "collapsed": false
   }
  },
  {
   "cell_type": "code",
   "execution_count": 142,
   "outputs": [
    {
     "data": {
      "text/plain": "{'loss': [5.2302086260169744e-05, 5.3112180466996506e-05],\n 'mse': [5.2302086260169744e-05, 5.3112180466996506e-05],\n 'mae': [0.0019583061803132296, 0.0019579888321459293],\n 'accuracy': [0.7562000155448914, 0.4185999929904938]}"
     },
     "execution_count": 142,
     "metadata": {},
     "output_type": "execute_result"
    }
   ],
   "source": [
    "history.history"
   ],
   "metadata": {
    "collapsed": false
   }
  },
  {
   "cell_type": "code",
   "execution_count": 143,
   "outputs": [],
   "source": [
    "model.save('../../models/retailrocket/attention_detailrocket_v1.h5')"
   ],
   "metadata": {
    "collapsed": false
   }
  },
  {
   "cell_type": "code",
   "execution_count": 135,
   "outputs": [],
   "source": [
    "def preprocess_df(df, max_seq_length):\n",
    "    itemids,max_itemid = convertToSequence(df.itemids, max_seq_length)\n",
    "    categories,max_category = convertToSequence(df.categories, max_seq_length)\n",
    "    available,max_available = convertToSequence(df.available, max_seq_length)\n",
    "    view,max_view = convertToSequence(df.view, max_seq_length)\n",
    "    addtocart,max_addtocart = convertToSequence(df.addtocart, max_seq_length)\n",
    "    max_seq_length = max( max_itemid, max_category, max_available, max_view, max_addtocart)\n",
    "\n",
    "    visitorids, max_visitorid = convertToSequence(bringToSameSizeOneDim(convertToArray(df.visitorid), max_seq_length+1))\n",
    "\n",
    "    return visitorids, itemids, categories, available, view, addtocart"
   ],
   "metadata": {
    "collapsed": false
   }
  },
  {
   "cell_type": "code",
   "execution_count": 249,
   "outputs": [
    {
     "data": {
      "text/plain": "(array([[611796, 611796, 611796, 611796, 611796, 611796, 611796, 611796,\n         611796, 611796, 611796, 611796, 611796, 611796, 611796, 611796,\n         611796, 611796, 611796, 611796, 611796, 611796, 611796, 611796,\n         611796, 611796, 611796, 611796, 611796, 611796, 611796, 611796,\n         611796, 611796, 611796, 611796, 611796, 611796, 611796, 611796,\n         611796, 611796, 611796, 611796, 611796, 611796, 611796, 611796,\n         611796, 611796, 611796, 611796, 611796, 611796, 611796, 611796,\n         611796, 611796, 611796, 611796, 611796, 611796, 611796, 611796,\n         611796, 611796, 611796, 611796, 611796, 611796, 611796, 611796,\n         611796, 611796, 611796, 611796, 611796, 611796, 611796, 611796,\n         611796, 611796, 611796, 611796, 611796, 611796, 611796, 611796,\n         611796, 611796, 611796, 611796, 611796, 611796, 611796, 611796,\n         611796, 611796, 611796, 611796, 611796, 611796, 611796, 611796,\n         611796, 611796, 611796, 611796, 611796, 611796, 611796, 611796,\n         611796, 611796, 611796, 611796, 611796, 611796, 611796, 611796,\n         611796, 611796, 611796, 611796, 611796, 611796, 611796, 611796,\n         611796, 611796, 611796, 611796, 611796, 611796, 611796, 611796,\n         611796, 611796, 611796, 611796, 611796, 611796, 611796, 611796,\n         611796, 611796, 611796, 611796, 611796, 611796, 611796, 611796,\n         611796, 611796, 611796, 611796, 611796, 611796, 611796, 611796,\n         611796, 611796, 611796, 611796, 611796, 611796, 611796, 611796,\n         611796, 611796, 611796, 611796, 611796, 611796, 611796, 611796,\n         611796, 611796, 611796, 611796, 611796, 611796, 611796, 611796,\n         611796, 611796, 611796, 611796, 611796, 611796, 611796, 611796,\n         611796, 611796, 611796, 611796, 611796, 611796, 611796, 611796,\n         611796, 611796, 611796, 611796, 611796, 611796, 611796, 611796,\n         611796, 611796, 611796, 611796, 611796, 611796, 611796, 611796,\n         611796, 611796, 611796, 611796, 611796, 611796, 611796, 611796,\n         611796, 611796, 611796, 611796, 611796, 611796, 611796, 611796,\n         611796, 611796, 611796, 611796, 611796, 611796, 611796, 611796,\n         611796, 611796, 611796, 611796, 611796, 611796, 611796, 611796,\n         611796, 611796, 611796, 611796, 611796, 611796, 611796, 611796,\n         611796, 611796, 611796, 611796, 611796, 611796, 611796, 611796,\n         611796, 611796, 611796, 611796, 611796, 611796, 611796, 611796,\n         611796, 611796, 611796, 611796, 611796, 611796, 611796, 611796,\n         611796, 611796, 611796, 611796, 611796, 611796, 611796, 611796,\n         611796, 611796, 611796, 611796, 611796, 611796, 611796, 611796,\n         611796, 611796, 611796, 611796, 611796, 611796, 611796, 611796,\n         611796, 611796, 611796, 611796, 611796, 611796, 611796, 611796,\n         611796, 611796, 611796, 611796, 611796, 611796, 611796, 611796,\n         611796, 611796, 611796, 611796, 611796, 611796, 611796, 611796,\n         611796, 611796, 611796, 611796, 611796, 611796, 611796, 611796,\n         611796, 611796, 611796, 611796, 611796, 611796, 611796, 611796,\n         611796, 611796, 611796, 611796, 611796, 611796, 611796, 611796,\n         611796, 611796, 611796, 611796, 611796, 611796, 611796, 611796,\n         611796, 611796, 611796, 611796, 611796, 611796, 611796, 611796,\n         611796, 611796, 611796, 611796, 611796, 611796, 611796, 611796,\n         611796, 611796, 611796, 611796, 611796, 611796, 611796, 611796,\n         611796, 611796, 611796, 611796, 611796, 611796, 611796, 611796,\n         611796, 611796, 611796, 611796, 611796, 611796, 611796, 611796,\n         611796, 611796, 611796, 611796, 611796, 611796, 611796, 611796,\n         611796, 611796, 611796, 611796, 611796, 611796, 611796, 611796,\n         611796, 611796, 611796, 611796, 611796, 611796, 611796, 611796,\n         611796, 611796, 611796, 611796, 611796, 611796, 611796, 611796,\n         611796, 611796, 611796, 611796, 611796, 611796, 611796, 611796,\n         611796, 611796, 611796, 611796, 611796, 611796, 611796, 611796,\n         611796, 611796, 611796, 611796, 611796, 611796, 611796, 611796,\n         611796, 611796, 611796, 611796, 611796, 611796, 611796, 611796,\n         611796, 611796, 611796, 611796, 611796, 611796, 611796, 611796,\n         611796, 611796, 611796, 611796, 611796, 611796, 611796, 611796,\n         611796, 611796, 611796, 611796, 611796, 611796, 611796, 611796,\n         611796, 611796, 611796, 611796, 611796, 611796, 611796, 611796,\n         611796, 611796, 611796, 611796, 611796, 611796, 611796, 611796,\n         611796, 611796, 611796, 611796, 611796, 611796, 611796, 611796,\n         611796, 611796, 611796, 611796, 611796, 611796, 611796, 611796,\n         611796, 611796, 611796]], dtype=int32),\n array([[301925,      0,      0,      0,      0,      0,      0,      0,\n              0,      0,      0,      0,      0,      0,      0,      0,\n              0,      0,      0,      0,      0,      0,      0,      0,\n              0,      0,      0,      0,      0,      0,      0,      0,\n              0,      0,      0,      0,      0,      0,      0,      0,\n              0,      0,      0,      0,      0,      0,      0,      0,\n              0,      0,      0,      0,      0,      0,      0,      0,\n              0,      0,      0,      0,      0,      0,      0,      0,\n              0,      0,      0,      0,      0,      0,      0,      0,\n              0,      0,      0,      0,      0,      0,      0,      0,\n              0,      0,      0,      0,      0,      0,      0,      0,\n              0,      0,      0,      0,      0,      0,      0,      0,\n              0,      0,      0,      0,      0,      0,      0,      0,\n              0,      0,      0,      0,      0,      0,      0,      0,\n              0,      0,      0,      0,      0,      0,      0,      0,\n              0,      0,      0,      0,      0,      0,      0,      0,\n              0,      0,      0,      0,      0,      0,      0,      0,\n              0,      0,      0,      0,      0,      0,      0,      0,\n              0,      0,      0,      0,      0,      0,      0,      0,\n              0,      0,      0,      0,      0,      0,      0,      0,\n              0,      0,      0,      0,      0,      0,      0,      0,\n              0,      0,      0,      0,      0,      0,      0,      0,\n              0,      0,      0,      0,      0,      0,      0,      0,\n              0,      0,      0,      0,      0,      0,      0,      0,\n              0,      0,      0,      0,      0,      0,      0,      0,\n              0,      0,      0,      0,      0,      0,      0,      0,\n              0,      0,      0,      0,      0,      0,      0,      0,\n              0,      0,      0,      0,      0,      0,      0,      0,\n              0,      0,      0,      0,      0,      0,      0,      0,\n              0,      0,      0,      0,      0,      0,      0,      0,\n              0,      0,      0,      0,      0,      0,      0,      0,\n              0,      0,      0,      0,      0,      0,      0,      0,\n              0,      0,      0,      0,      0,      0,      0,      0,\n              0,      0,      0,      0,      0,      0,      0,      0,\n              0,      0,      0,      0,      0,      0,      0,      0,\n              0,      0,      0,      0,      0,      0,      0,      0,\n              0,      0,      0,      0,      0,      0,      0,      0,\n              0,      0,      0,      0,      0,      0,      0,      0,\n              0,      0,      0,      0,      0,      0,      0,      0,\n              0,      0,      0,      0,      0,      0,      0,      0,\n              0,      0,      0,      0,      0,      0,      0,      0,\n              0,      0,      0,      0,      0,      0,      0,      0,\n              0,      0,      0,      0,      0,      0,      0,      0,\n              0,      0,      0,      0,      0,      0,      0,      0,\n              0,      0,      0,      0,      0,      0,      0,      0,\n              0,      0,      0,      0,      0,      0,      0,      0,\n              0,      0,      0,      0,      0,      0,      0,      0,\n              0,      0,      0,      0,      0,      0,      0,      0,\n              0,      0,      0,      0,      0,      0,      0,      0,\n              0,      0,      0,      0,      0,      0,      0,      0,\n              0,      0,      0,      0,      0,      0,      0,      0,\n              0,      0,      0,      0,      0,      0,      0,      0,\n              0,      0,      0,      0,      0,      0,      0,      0,\n              0,      0,      0,      0,      0,      0,      0,      0,\n              0,      0,      0,      0,      0,      0,      0,      0,\n              0,      0,      0,      0,      0,      0,      0,      0,\n              0,      0,      0,      0,      0,      0,      0,      0,\n              0,      0,      0,      0,      0,      0,      0,      0,\n              0,      0,      0,      0,      0,      0,      0,      0,\n              0,      0,      0,      0,      0,      0,      0,      0,\n              0,      0,      0,      0,      0,      0,      0,      0,\n              0,      0,      0,      0,      0,      0,      0,      0,\n              0,      0,      0,      0,      0,      0,      0,      0,\n              0,      0,      0,      0,      0,      0,      0,      0,\n              0,      0,      0,      0,      0,      0,      0,      0,\n              0,      0,      0]], dtype=int32),\n array([[1387,    0,    0,    0,    0,    0,    0,    0,    0,    0,    0,\n            0,    0,    0,    0,    0,    0,    0,    0,    0,    0,    0,\n            0,    0,    0,    0,    0,    0,    0,    0,    0,    0,    0,\n            0,    0,    0,    0,    0,    0,    0,    0,    0,    0,    0,\n            0,    0,    0,    0,    0,    0,    0,    0,    0,    0,    0,\n            0,    0,    0,    0,    0,    0,    0,    0,    0,    0,    0,\n            0,    0,    0,    0,    0,    0,    0,    0,    0,    0,    0,\n            0,    0,    0,    0,    0,    0,    0,    0,    0,    0,    0,\n            0,    0,    0,    0,    0,    0,    0,    0,    0,    0,    0,\n            0,    0,    0,    0,    0,    0,    0,    0,    0,    0,    0,\n            0,    0,    0,    0,    0,    0,    0,    0,    0,    0,    0,\n            0,    0,    0,    0,    0,    0,    0,    0,    0,    0,    0,\n            0,    0,    0,    0,    0,    0,    0,    0,    0,    0,    0,\n            0,    0,    0,    0,    0,    0,    0,    0,    0,    0,    0,\n            0,    0,    0,    0,    0,    0,    0,    0,    0,    0,    0,\n            0,    0,    0,    0,    0,    0,    0,    0,    0,    0,    0,\n            0,    0,    0,    0,    0,    0,    0,    0,    0,    0,    0,\n            0,    0,    0,    0,    0,    0,    0,    0,    0,    0,    0,\n            0,    0,    0,    0,    0,    0,    0,    0,    0,    0,    0,\n            0,    0,    0,    0,    0,    0,    0,    0,    0,    0,    0,\n            0,    0,    0,    0,    0,    0,    0,    0,    0,    0,    0,\n            0,    0,    0,    0,    0,    0,    0,    0,    0,    0,    0,\n            0,    0,    0,    0,    0,    0,    0,    0,    0,    0,    0,\n            0,    0,    0,    0,    0,    0,    0,    0,    0,    0,    0,\n            0,    0,    0,    0,    0,    0,    0,    0,    0,    0,    0,\n            0,    0,    0,    0,    0,    0,    0,    0,    0,    0,    0,\n            0,    0,    0,    0,    0,    0,    0,    0,    0,    0,    0,\n            0,    0,    0,    0,    0,    0,    0,    0,    0,    0,    0,\n            0,    0,    0,    0,    0,    0,    0,    0,    0,    0,    0,\n            0,    0,    0,    0,    0,    0,    0,    0,    0,    0,    0,\n            0,    0,    0,    0,    0,    0,    0,    0,    0,    0,    0,\n            0,    0,    0,    0,    0,    0,    0,    0,    0,    0,    0,\n            0,    0,    0,    0,    0,    0,    0,    0,    0,    0,    0,\n            0,    0,    0,    0,    0,    0,    0,    0,    0,    0,    0,\n            0,    0,    0,    0,    0,    0,    0,    0,    0,    0,    0,\n            0,    0,    0,    0,    0,    0,    0,    0,    0,    0,    0,\n            0,    0,    0,    0,    0,    0,    0,    0,    0,    0,    0,\n            0,    0,    0,    0,    0,    0,    0,    0,    0,    0,    0,\n            0,    0,    0,    0,    0,    0,    0,    0,    0,    0,    0,\n            0,    0,    0,    0,    0,    0,    0,    0,    0,    0,    0,\n            0,    0,    0,    0,    0,    0,    0,    0,    0,    0,    0,\n            0,    0,    0,    0,    0,    0,    0,    0,    0,    0,    0,\n            0,    0,    0,    0,    0,    0,    0,    0,    0,    0,    0,\n            0,    0,    0,    0,    0,    0,    0,    0,    0,    0,    0,\n            0,    0,    0,    0,    0,    0,    0,    0,    0,    0,    0,\n            0,    0,    0,    0,    0,    0,    0,    0,    0,    0,    0,\n            0,    0,    0,    0,    0,    0,    0,    0,    0,    0,    0,\n            0,    0,    0,    0,    0,    0]], dtype=int32),\n array([[1, 0, 0, 0, 0, 0, 0, 0, 0, 0, 0, 0, 0, 0, 0, 0, 0, 0, 0, 0, 0, 0,\n         0, 0, 0, 0, 0, 0, 0, 0, 0, 0, 0, 0, 0, 0, 0, 0, 0, 0, 0, 0, 0, 0,\n         0, 0, 0, 0, 0, 0, 0, 0, 0, 0, 0, 0, 0, 0, 0, 0, 0, 0, 0, 0, 0, 0,\n         0, 0, 0, 0, 0, 0, 0, 0, 0, 0, 0, 0, 0, 0, 0, 0, 0, 0, 0, 0, 0, 0,\n         0, 0, 0, 0, 0, 0, 0, 0, 0, 0, 0, 0, 0, 0, 0, 0, 0, 0, 0, 0, 0, 0,\n         0, 0, 0, 0, 0, 0, 0, 0, 0, 0, 0, 0, 0, 0, 0, 0, 0, 0, 0, 0, 0, 0,\n         0, 0, 0, 0, 0, 0, 0, 0, 0, 0, 0, 0, 0, 0, 0, 0, 0, 0, 0, 0, 0, 0,\n         0, 0, 0, 0, 0, 0, 0, 0, 0, 0, 0, 0, 0, 0, 0, 0, 0, 0, 0, 0, 0, 0,\n         0, 0, 0, 0, 0, 0, 0, 0, 0, 0, 0, 0, 0, 0, 0, 0, 0, 0, 0, 0, 0, 0,\n         0, 0, 0, 0, 0, 0, 0, 0, 0, 0, 0, 0, 0, 0, 0, 0, 0, 0, 0, 0, 0, 0,\n         0, 0, 0, 0, 0, 0, 0, 0, 0, 0, 0, 0, 0, 0, 0, 0, 0, 0, 0, 0, 0, 0,\n         0, 0, 0, 0, 0, 0, 0, 0, 0, 0, 0, 0, 0, 0, 0, 0, 0, 0, 0, 0, 0, 0,\n         0, 0, 0, 0, 0, 0, 0, 0, 0, 0, 0, 0, 0, 0, 0, 0, 0, 0, 0, 0, 0, 0,\n         0, 0, 0, 0, 0, 0, 0, 0, 0, 0, 0, 0, 0, 0, 0, 0, 0, 0, 0, 0, 0, 0,\n         0, 0, 0, 0, 0, 0, 0, 0, 0, 0, 0, 0, 0, 0, 0, 0, 0, 0, 0, 0, 0, 0,\n         0, 0, 0, 0, 0, 0, 0, 0, 0, 0, 0, 0, 0, 0, 0, 0, 0, 0, 0, 0, 0, 0,\n         0, 0, 0, 0, 0, 0, 0, 0, 0, 0, 0, 0, 0, 0, 0, 0, 0, 0, 0, 0, 0, 0,\n         0, 0, 0, 0, 0, 0, 0, 0, 0, 0, 0, 0, 0, 0, 0, 0, 0, 0, 0, 0, 0, 0,\n         0, 0, 0, 0, 0, 0, 0, 0, 0, 0, 0, 0, 0, 0, 0, 0, 0, 0, 0, 0, 0, 0,\n         0, 0, 0, 0, 0, 0, 0, 0, 0, 0, 0, 0, 0, 0, 0, 0, 0, 0, 0, 0, 0, 0,\n         0, 0, 0, 0, 0, 0, 0, 0, 0, 0, 0, 0, 0, 0, 0, 0, 0, 0, 0, 0, 0, 0,\n         0, 0, 0, 0, 0, 0, 0, 0, 0, 0, 0, 0, 0, 0, 0, 0, 0, 0, 0, 0, 0, 0,\n         0, 0, 0, 0, 0, 0, 0, 0, 0, 0, 0, 0, 0, 0, 0, 0, 0, 0, 0, 0, 0, 0,\n         0, 0, 0, 0, 0, 0, 0, 0, 0, 0, 0, 0, 0, 0, 0, 0, 0]], dtype=int32),\n array([[1, 0, 0, 0, 0, 0, 0, 0, 0, 0, 0, 0, 0, 0, 0, 0, 0, 0, 0, 0, 0, 0,\n         0, 0, 0, 0, 0, 0, 0, 0, 0, 0, 0, 0, 0, 0, 0, 0, 0, 0, 0, 0, 0, 0,\n         0, 0, 0, 0, 0, 0, 0, 0, 0, 0, 0, 0, 0, 0, 0, 0, 0, 0, 0, 0, 0, 0,\n         0, 0, 0, 0, 0, 0, 0, 0, 0, 0, 0, 0, 0, 0, 0, 0, 0, 0, 0, 0, 0, 0,\n         0, 0, 0, 0, 0, 0, 0, 0, 0, 0, 0, 0, 0, 0, 0, 0, 0, 0, 0, 0, 0, 0,\n         0, 0, 0, 0, 0, 0, 0, 0, 0, 0, 0, 0, 0, 0, 0, 0, 0, 0, 0, 0, 0, 0,\n         0, 0, 0, 0, 0, 0, 0, 0, 0, 0, 0, 0, 0, 0, 0, 0, 0, 0, 0, 0, 0, 0,\n         0, 0, 0, 0, 0, 0, 0, 0, 0, 0, 0, 0, 0, 0, 0, 0, 0, 0, 0, 0, 0, 0,\n         0, 0, 0, 0, 0, 0, 0, 0, 0, 0, 0, 0, 0, 0, 0, 0, 0, 0, 0, 0, 0, 0,\n         0, 0, 0, 0, 0, 0, 0, 0, 0, 0, 0, 0, 0, 0, 0, 0, 0, 0, 0, 0, 0, 0,\n         0, 0, 0, 0, 0, 0, 0, 0, 0, 0, 0, 0, 0, 0, 0, 0, 0, 0, 0, 0, 0, 0,\n         0, 0, 0, 0, 0, 0, 0, 0, 0, 0, 0, 0, 0, 0, 0, 0, 0, 0, 0, 0, 0, 0,\n         0, 0, 0, 0, 0, 0, 0, 0, 0, 0, 0, 0, 0, 0, 0, 0, 0, 0, 0, 0, 0, 0,\n         0, 0, 0, 0, 0, 0, 0, 0, 0, 0, 0, 0, 0, 0, 0, 0, 0, 0, 0, 0, 0, 0,\n         0, 0, 0, 0, 0, 0, 0, 0, 0, 0, 0, 0, 0, 0, 0, 0, 0, 0, 0, 0, 0, 0,\n         0, 0, 0, 0, 0, 0, 0, 0, 0, 0, 0, 0, 0, 0, 0, 0, 0, 0, 0, 0, 0, 0,\n         0, 0, 0, 0, 0, 0, 0, 0, 0, 0, 0, 0, 0, 0, 0, 0, 0, 0, 0, 0, 0, 0,\n         0, 0, 0, 0, 0, 0, 0, 0, 0, 0, 0, 0, 0, 0, 0, 0, 0, 0, 0, 0, 0, 0,\n         0, 0, 0, 0, 0, 0, 0, 0, 0, 0, 0, 0, 0, 0, 0, 0, 0, 0, 0, 0, 0, 0,\n         0, 0, 0, 0, 0, 0, 0, 0, 0, 0, 0, 0, 0, 0, 0, 0, 0, 0, 0, 0, 0, 0,\n         0, 0, 0, 0, 0, 0, 0, 0, 0, 0, 0, 0, 0, 0, 0, 0, 0, 0, 0, 0, 0, 0,\n         0, 0, 0, 0, 0, 0, 0, 0, 0, 0, 0, 0, 0, 0, 0, 0, 0, 0, 0, 0, 0, 0,\n         0, 0, 0, 0, 0, 0, 0, 0, 0, 0, 0, 0, 0, 0, 0, 0, 0, 0, 0, 0, 0, 0,\n         0, 0, 0, 0, 0, 0, 0, 0, 0, 0, 0, 0, 0, 0, 0, 0, 0]], dtype=int32),\n array([[0, 0, 0, 0, 0, 0, 0, 0, 0, 0, 0, 0, 0, 0, 0, 0, 0, 0, 0, 0, 0, 0,\n         0, 0, 0, 0, 0, 0, 0, 0, 0, 0, 0, 0, 0, 0, 0, 0, 0, 0, 0, 0, 0, 0,\n         0, 0, 0, 0, 0, 0, 0, 0, 0, 0, 0, 0, 0, 0, 0, 0, 0, 0, 0, 0, 0, 0,\n         0, 0, 0, 0, 0, 0, 0, 0, 0, 0, 0, 0, 0, 0, 0, 0, 0, 0, 0, 0, 0, 0,\n         0, 0, 0, 0, 0, 0, 0, 0, 0, 0, 0, 0, 0, 0, 0, 0, 0, 0, 0, 0, 0, 0,\n         0, 0, 0, 0, 0, 0, 0, 0, 0, 0, 0, 0, 0, 0, 0, 0, 0, 0, 0, 0, 0, 0,\n         0, 0, 0, 0, 0, 0, 0, 0, 0, 0, 0, 0, 0, 0, 0, 0, 0, 0, 0, 0, 0, 0,\n         0, 0, 0, 0, 0, 0, 0, 0, 0, 0, 0, 0, 0, 0, 0, 0, 0, 0, 0, 0, 0, 0,\n         0, 0, 0, 0, 0, 0, 0, 0, 0, 0, 0, 0, 0, 0, 0, 0, 0, 0, 0, 0, 0, 0,\n         0, 0, 0, 0, 0, 0, 0, 0, 0, 0, 0, 0, 0, 0, 0, 0, 0, 0, 0, 0, 0, 0,\n         0, 0, 0, 0, 0, 0, 0, 0, 0, 0, 0, 0, 0, 0, 0, 0, 0, 0, 0, 0, 0, 0,\n         0, 0, 0, 0, 0, 0, 0, 0, 0, 0, 0, 0, 0, 0, 0, 0, 0, 0, 0, 0, 0, 0,\n         0, 0, 0, 0, 0, 0, 0, 0, 0, 0, 0, 0, 0, 0, 0, 0, 0, 0, 0, 0, 0, 0,\n         0, 0, 0, 0, 0, 0, 0, 0, 0, 0, 0, 0, 0, 0, 0, 0, 0, 0, 0, 0, 0, 0,\n         0, 0, 0, 0, 0, 0, 0, 0, 0, 0, 0, 0, 0, 0, 0, 0, 0, 0, 0, 0, 0, 0,\n         0, 0, 0, 0, 0, 0, 0, 0, 0, 0, 0, 0, 0, 0, 0, 0, 0, 0, 0, 0, 0, 0,\n         0, 0, 0, 0, 0, 0, 0, 0, 0, 0, 0, 0, 0, 0, 0, 0, 0, 0, 0, 0, 0, 0,\n         0, 0, 0, 0, 0, 0, 0, 0, 0, 0, 0, 0, 0, 0, 0, 0, 0, 0, 0, 0, 0, 0,\n         0, 0, 0, 0, 0, 0, 0, 0, 0, 0, 0, 0, 0, 0, 0, 0, 0, 0, 0, 0, 0, 0,\n         0, 0, 0, 0, 0, 0, 0, 0, 0, 0, 0, 0, 0, 0, 0, 0, 0, 0, 0, 0, 0, 0,\n         0, 0, 0, 0, 0, 0, 0, 0, 0, 0, 0, 0, 0, 0, 0, 0, 0, 0, 0, 0, 0, 0,\n         0, 0, 0, 0, 0, 0, 0, 0, 0, 0, 0, 0, 0, 0, 0, 0, 0, 0, 0, 0, 0, 0,\n         0, 0, 0, 0, 0, 0, 0, 0, 0, 0, 0, 0, 0, 0, 0, 0, 0, 0, 0, 0, 0, 0,\n         0, 0, 0, 0, 0, 0, 0, 0, 0, 0, 0, 0, 0, 0, 0, 0, 0]], dtype=int32))"
     },
     "execution_count": 249,
     "metadata": {},
     "output_type": "execute_result"
    }
   ],
   "source": [
    "data_predict = preprocess_df(df.sample(1), max_seq_length)\n",
    "data_predict"
   ],
   "metadata": {
    "collapsed": false
   }
  },
  {
   "cell_type": "code",
   "execution_count": 250,
   "outputs": [
    {
     "name": "stdout",
     "output_type": "stream",
     "text": [
      "1/1 [==============================] - 0s 41ms/step\n"
     ]
    },
    {
     "data": {
      "text/plain": "array([[0.00230644, 0.00207428, 0.00203829, 0.00200595, 0.00173183,\n        0.0019407 , 0.00190742, 0.00191339, 0.00198109, 0.00193131,\n        0.00191123, 0.00190816, 0.00186208, 0.00193225, 0.00190621,\n        0.00190533, 0.00195895, 0.00187235, 0.00190144, 0.00189999,\n        0.00191329, 0.00195614, 0.00190174, 0.00192129, 0.00174076,\n        0.00192873, 0.00184737, 0.00198644, 0.0019098 , 0.00200605,\n        0.00193878, 0.00197775, 0.00190523, 0.00191192, 0.00195073,\n        0.00192165, 0.00188051, 0.00194139, 0.00190958, 0.00197115,\n        0.00194206, 0.00184647, 0.0018888 , 0.00192026, 0.00192482,\n        0.0018933 , 0.00194204, 0.00189789, 0.00195406, 0.00191827,\n        0.00190603, 0.00190565, 0.00186836, 0.00190575, 0.00186344,\n        0.00186345, 0.00198623, 0.00189078, 0.00190092, 0.00192069,\n        0.00193096, 0.00193258, 0.00188772, 0.00191003, 0.00189181,\n        0.00189819, 0.0019532 , 0.00190059, 0.00189815, 0.00191718,\n        0.00188291, 0.00195068, 0.00194356, 0.00191212, 0.00189363,\n        0.00198993, 0.00187729, 0.00194283, 0.00199177, 0.0018796 ,\n        0.00191247, 0.0018805 , 0.00188794, 0.00190967, 0.00191143,\n        0.00191685, 0.00189565, 0.00193977, 0.00195118, 0.00191913,\n        0.001972  , 0.00188806, 0.00192125, 0.00190091, 0.00193306,\n        0.00185109, 0.00192862, 0.00189823, 0.00189462, 0.00190219,\n        0.00189527, 0.00191104, 0.00194475, 0.00196052, 0.00188898,\n        0.00192797, 0.00192621, 0.00186671, 0.00188012, 0.00194065,\n        0.00194562, 0.00187257, 0.00194868, 0.00190022, 0.00193815,\n        0.00188205, 0.00196701, 0.0018992 , 0.00179455, 0.00191276,\n        0.0019215 , 0.0017866 , 0.00191191, 0.00186043, 0.00190418,\n        0.00190109, 0.00186521, 0.00193354, 0.00190712, 0.00193207,\n        0.00189922, 0.0018438 , 0.00191491, 0.00192612, 0.00196593,\n        0.0019039 , 0.00190572, 0.00189491, 0.00194482, 0.00193799,\n        0.00193019, 0.00188903, 0.00190523, 0.00189318, 0.00190771,\n        0.00194804, 0.00189887, 0.00192712, 0.00192498, 0.00189831,\n        0.00194415, 0.00192248, 0.00195498, 0.00190682, 0.00191582,\n        0.00193256, 0.00191005, 0.00194582, 0.00190695, 0.00192716,\n        0.00189705, 0.00189744, 0.0018855 , 0.001868  , 0.00190892,\n        0.00190125, 0.00192119, 0.00193672, 0.0018933 , 0.0019426 ,\n        0.00192764, 0.00187657, 0.00187449, 0.00188106, 0.00190226,\n        0.00189722, 0.00195336, 0.00192879, 0.001932  , 0.00189704,\n        0.00194204, 0.0018539 , 0.00189916, 0.00193603, 0.00188631,\n        0.00193453, 0.00190406, 0.00191365, 0.00193955, 0.00191625,\n        0.0018995 , 0.00193027, 0.00194691, 0.00195862, 0.001895  ,\n        0.00188258, 0.00190678, 0.0019022 , 0.00188776, 0.00188331,\n        0.00188576, 0.0019644 , 0.00193853, 0.00191742, 0.00188436,\n        0.00195972, 0.00189468, 0.00191809, 0.0019369 , 0.00192214,\n        0.00191024, 0.00189209, 0.0019402 , 0.001861  , 0.00195806,\n        0.00189011, 0.00190798, 0.00195264, 0.00191394, 0.00186593,\n        0.00186261, 0.00197808, 0.00190996, 0.00186016, 0.00190998,\n        0.00191014, 0.00193985, 0.00191498, 0.00191094, 0.00191012,\n        0.00191336, 0.00191492, 0.00192635, 0.00193623, 0.00193858,\n        0.00189487, 0.00191189, 0.0018848 , 0.00188302, 0.00191119,\n        0.00188102, 0.0018932 , 0.00192648, 0.00187614, 0.00188642,\n        0.00190161, 0.00193072, 0.00189741, 0.00192467, 0.0019526 ,\n        0.00195603, 0.00185889, 0.0018745 , 0.00189259, 0.00188254,\n        0.00191321, 0.00195596, 0.00203313, 0.00191866, 0.00193041,\n        0.00190526, 0.00193307, 0.00192592, 0.00189497, 0.00189408,\n        0.00192125, 0.00192531, 0.00188198, 0.0019462 , 0.00188384,\n        0.00192527, 0.00189886, 0.00191529, 0.00188371, 0.00189633,\n        0.00188962, 0.0019166 , 0.00190562, 0.00194834, 0.00191655,\n        0.00186847, 0.00193658, 0.00191117, 0.00194405, 0.00191217,\n        0.0018862 , 0.00187637, 0.00187036, 0.0018985 , 0.00192898,\n        0.00188293, 0.00189928, 0.00194412, 0.00189429, 0.00190966,\n        0.00193   , 0.00192599, 0.00191494, 0.00191721, 0.00195351,\n        0.00194165, 0.00191596, 0.00191122, 0.00192082, 0.00190506,\n        0.00186594, 0.00191132, 0.00191962, 0.00189651, 0.00193422,\n        0.0018934 , 0.00190285, 0.001889  , 0.00187018, 0.00190784,\n        0.0019211 , 0.00197699, 0.00189177, 0.00188873, 0.00194213,\n        0.00190962, 0.0019134 , 0.00192609, 0.00190481, 0.00192347,\n        0.0019064 , 0.00188634, 0.00190271, 0.00194685, 0.00194114,\n        0.0019009 , 0.00191856, 0.00192954, 0.00189168, 0.00185882,\n        0.00194342, 0.00189099, 0.00192662, 0.00191077, 0.00189304,\n        0.00193588, 0.00189065, 0.00188385, 0.00187833, 0.00188012,\n        0.00190032, 0.00195913, 0.00192945, 0.00185096, 0.00195479,\n        0.00191068, 0.00197484, 0.00184773, 0.00187936, 0.00193368,\n        0.00192355, 0.00192948, 0.0019244 , 0.00194998, 0.00187674,\n        0.00192563, 0.00188099, 0.0018962 , 0.00190571, 0.00192449,\n        0.00189921, 0.0019603 , 0.00190182, 0.00186669, 0.00191484,\n        0.00190647, 0.00187024, 0.00193358, 0.00192141, 0.00189378,\n        0.00192093, 0.00188479, 0.00190691, 0.00192035, 0.0019078 ,\n        0.00190141, 0.00193032, 0.00194068, 0.00192061, 0.00192792,\n        0.00188092, 0.00190864, 0.00191331, 0.00193189, 0.00192704,\n        0.00190719, 0.0018905 , 0.00194688, 0.00188536, 0.00188311,\n        0.0018785 , 0.00189661, 0.00192872, 0.00194193, 0.00186784,\n        0.00189881, 0.00187818, 0.00191162, 0.00186458, 0.00191289,\n        0.00189975, 0.0018906 , 0.00190565, 0.00187972, 0.00193926,\n        0.00188536, 0.00193545, 0.00196191, 0.00194954, 0.00188775,\n        0.00190253, 0.00189301, 0.00190707, 0.00189906, 0.00190141,\n        0.00188636, 0.0019384 , 0.00185638, 0.00190493, 0.00194307,\n        0.001929  , 0.00192697, 0.0019364 , 0.00192729, 0.00191644,\n        0.0018882 , 0.00190769, 0.00195354, 0.00187996, 0.00194153,\n        0.00191259, 0.00193593, 0.0019137 , 0.0019307 , 0.00190769,\n        0.00195353, 0.00190151, 0.00188601, 0.00191278, 0.0019034 ,\n        0.00189381, 0.00195485, 0.00189223, 0.00187506, 0.00190273,\n        0.00191283, 0.00191011, 0.00192141, 0.00194264, 0.00190866,\n        0.00192537, 0.00188011, 0.00187883, 0.00192356, 0.00192718,\n        0.00187138, 0.00185194, 0.00185423, 0.00192971, 0.00198422,\n        0.00191689, 0.00189996, 0.00189288, 0.00190463, 0.00191904,\n        0.00191608, 0.00194886, 0.00192726, 0.00187578, 0.00192594,\n        0.00190376, 0.00190687, 0.00190029, 0.00190949, 0.0019281 ,\n        0.00195224, 0.0019156 , 0.00191528, 0.00192777, 0.00189739,\n        0.00190953, 0.00188677, 0.00189813, 0.00189828, 0.00191231,\n        0.00186144, 0.00186351, 0.00188946, 0.00190221, 0.00189911,\n        0.0018839 , 0.00187353, 0.00185574, 0.00193024, 0.00188745,\n        0.0019309 , 0.00193425, 0.0019304 , 0.00191041, 0.00194143,\n        0.00192879, 0.00185671, 0.00193433, 0.00189117, 0.00185757,\n        0.001915  , 0.00190106, 0.00185958, 0.00188016, 0.00192294,\n        0.00189671, 0.00192375, 0.00194125, 0.00192796, 0.00192118,\n        0.00191114, 0.00189532, 0.00193925]], dtype=float32)"
     },
     "execution_count": 250,
     "metadata": {},
     "output_type": "execute_result"
    }
   ],
   "source": [
    "result = model.predict(data_predict)\n",
    "result"
   ],
   "metadata": {
    "collapsed": false
   }
  },
  {
   "cell_type": "markdown",
   "source": [],
   "metadata": {
    "collapsed": false
   }
  },
  {
   "cell_type": "code",
   "execution_count": 247,
   "outputs": [],
   "source": [
    "\n",
    "def getTopNItems(itemids_ordered, prediction, top_n = 5):\n",
    "    top_n_idx = np.flip(np.argsort(prediction, axis=1)[:,-top_n:][0])\n",
    "    top_item_ids = []\n",
    "    for idx in top_n_idx:\n",
    "        top_item_ids.append([itemids_ordered[idx][0], prediction[0][idx]])\n",
    "    # Select the top-k indices and retrieve the corresponding item IDs\n",
    "    return top_item_ids\n",
    "\n",
    "def getItemDataByTopN(top_n, df):\n",
    "    itemids = [int(sublist[0]) for sublist in top_n]\n",
    "    return df[df.itemid.isin(itemids)]"
   ],
   "metadata": {
    "collapsed": false
   }
  },
  {
   "cell_type": "code",
   "execution_count": 217,
   "outputs": [
    {
     "data": {
      "text/plain": "[[306526, 0.0022774735],\n [393393, 0.00208364],\n [429248, 0.0020629214],\n [325170, 0.0020606958],\n [180684, 0.0020348902]]"
     },
     "execution_count": 217,
     "metadata": {},
     "output_type": "execute_result"
    }
   ],
   "source": [
    "top_n = getTopNItems(itemids, result, 5)\n",
    "top_n"
   ],
   "metadata": {
    "collapsed": false
   }
  },
  {
   "cell_type": "code",
   "execution_count": 251,
   "outputs": [
    {
     "data": {
      "text/plain": "        itemid categoryid available  \\\n161456  180684        374         1   \n273934  306526       1007         0   \n290583  325170        928         1   \n351499  393393         35         0   \n383523  429248       1221         1   \n\n                                               properties  \\\n161456  [102, 1028, 112, 159, 202, 227, 275, 28, 283, ...   \n273934  [1036, 108, 112, 159, 202, 283, 348, 364, 398,...   \n290583  [1066, 112, 159, 202, 227, 283, 364, 418, 460,...   \n351499  [1066, 112, 159, 189, 202, 227, 283, 364, 400,...   \n383523  [112, 159, 19, 202, 227, 28, 283, 364, 521, 55...   \n\n                                          property_values  \n161456  [769062, 769062, 679677, 519769, 1197762, 4909...  \n273934  [1169318, 1116693, 679677, 519769, 240471, 452...  \n290583  [325971 625511 484436 325971 n3840.000 1144008...  \n351499  [n303.600 424566, 679677, 519769, 952750, 3732...  \n383523  [679677, 519769, 1297729 n36.000 350726 30603 ...  ",
      "text/html": "<div>\n<style scoped>\n    .dataframe tbody tr th:only-of-type {\n        vertical-align: middle;\n    }\n\n    .dataframe tbody tr th {\n        vertical-align: top;\n    }\n\n    .dataframe thead th {\n        text-align: right;\n    }\n</style>\n<table border=\"1\" class=\"dataframe\">\n  <thead>\n    <tr style=\"text-align: right;\">\n      <th></th>\n      <th>itemid</th>\n      <th>categoryid</th>\n      <th>available</th>\n      <th>properties</th>\n      <th>property_values</th>\n    </tr>\n  </thead>\n  <tbody>\n    <tr>\n      <th>161456</th>\n      <td>180684</td>\n      <td>374</td>\n      <td>1</td>\n      <td>[102, 1028, 112, 159, 202, 227, 275, 28, 283, ...</td>\n      <td>[769062, 769062, 679677, 519769, 1197762, 4909...</td>\n    </tr>\n    <tr>\n      <th>273934</th>\n      <td>306526</td>\n      <td>1007</td>\n      <td>0</td>\n      <td>[1036, 108, 112, 159, 202, 283, 348, 364, 398,...</td>\n      <td>[1169318, 1116693, 679677, 519769, 240471, 452...</td>\n    </tr>\n    <tr>\n      <th>290583</th>\n      <td>325170</td>\n      <td>928</td>\n      <td>1</td>\n      <td>[1066, 112, 159, 202, 227, 283, 364, 418, 460,...</td>\n      <td>[325971 625511 484436 325971 n3840.000 1144008...</td>\n    </tr>\n    <tr>\n      <th>351499</th>\n      <td>393393</td>\n      <td>35</td>\n      <td>0</td>\n      <td>[1066, 112, 159, 189, 202, 227, 283, 364, 400,...</td>\n      <td>[n303.600 424566, 679677, 519769, 952750, 3732...</td>\n    </tr>\n    <tr>\n      <th>383523</th>\n      <td>429248</td>\n      <td>1221</td>\n      <td>1</td>\n      <td>[112, 159, 19, 202, 227, 28, 283, 364, 521, 55...</td>\n      <td>[679677, 519769, 1297729 n36.000 350726 30603 ...</td>\n    </tr>\n  </tbody>\n</table>\n</div>"
     },
     "execution_count": 251,
     "metadata": {},
     "output_type": "execute_result"
    }
   ],
   "source": [
    "getItemDataByTopN(top_n, item_properties)"
   ],
   "metadata": {
    "collapsed": false
   }
  },
  {
   "cell_type": "markdown",
   "source": [
    "# Prepare data for model"
   ],
   "metadata": {
    "collapsed": false
   }
  },
  {
   "cell_type": "markdown",
   "source": [],
   "metadata": {
    "collapsed": false
   }
  }
 ],
 "metadata": {
  "kernelspec": {
   "display_name": "Python 3",
   "language": "python",
   "name": "python3"
  },
  "language_info": {
   "codemirror_mode": {
    "name": "ipython",
    "version": 2
   },
   "file_extension": ".py",
   "mimetype": "text/x-python",
   "name": "python",
   "nbconvert_exporter": "python",
   "pygments_lexer": "ipython2",
   "version": "2.7.6"
  }
 },
 "nbformat": 4,
 "nbformat_minor": 0
}
