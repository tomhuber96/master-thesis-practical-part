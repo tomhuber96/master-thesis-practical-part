{
 "cells": [
  {
   "cell_type": "code",
   "execution_count": 29,
   "metadata": {
    "collapsed": true,
    "ExecuteTime": {
     "end_time": "2023-07-27T08:32:07.738124Z",
     "start_time": "2023-07-27T08:32:07.685469Z"
    }
   },
   "outputs": [],
   "source": [
    "#set openai key in .env.local\n",
    "import os\n",
    "import pandas as pd\n",
    "import openai\n",
    "import numpy as np\n",
    "#from openai.embeddings_utils import get_embedding"
   ]
  },
  {
   "cell_type": "code",
   "execution_count": 30,
   "outputs": [],
   "source": [
    "def estimate_price(n):\n",
    "    num_tokens = 100 * n\n",
    "    # per thousend tokens 0.0001 $\n",
    "    price_per_thousend = 0.0001\n",
    "    price = round(num_tokens/1000 * price_per_thousend, 5)\n",
    "\n",
    "    response = input(f\"Estimated price {price} $\\nProceed? (y/n): \")\n",
    "    if response.lower() == 'y':\n",
    "        print(\"Price accepted...\")\n",
    "        # Continue with your notebook code here\n",
    "\n",
    "    elif response.lower() == 'n':\n",
    "        print(\"Price declined, interrupting...\")\n",
    "        raise KeyboardInterrupt  # Raises a KeyboardInterrupt to stop execution\n",
    "\n",
    "    else:\n",
    "        print(\"Invalid input. interrupting...\")\n",
    "        raise KeyboardInterrupt\n",
    "        # Prompt the user again or take appropriate action\n"
   ],
   "metadata": {
    "collapsed": false,
    "ExecuteTime": {
     "end_time": "2023-07-27T08:32:07.738356Z",
     "start_time": "2023-07-27T08:32:07.691646Z"
    }
   }
  },
  {
   "cell_type": "code",
   "execution_count": 31,
   "outputs": [],
   "source": [
    "def set_environment_variables_from_file(file_path):\n",
    "    with open(file_path, 'r') as f:\n",
    "        lines = f.readlines()\n",
    "\n",
    "    for line in lines:\n",
    "        line = line.strip()\n",
    "        if line and not line.startswith('#'):  # Ignore empty lines and comments\n",
    "            key, value = line.split('=', 1)\n",
    "            os.environ[key.strip()] = value.strip()\n",
    "file_path = '../../.env.local'\n",
    "set_environment_variables_from_file(file_path)\n",
    "openai.api_key = os.getenv('OPENAI_KEY')"
   ],
   "metadata": {
    "collapsed": false,
    "ExecuteTime": {
     "end_time": "2023-07-27T08:32:07.738422Z",
     "start_time": "2023-07-27T08:32:07.696107Z"
    }
   }
  },
  {
   "cell_type": "code",
   "execution_count": 32,
   "outputs": [],
   "source": [
    "# embedding model parameters\n",
    "embedding_model = \"text-embedding-ada-002\"\n",
    "embedding_encoding = \"cl100k_base\"  # this the encoding for text-embedding-ada-002\n",
    "max_tokens = 8000  # the maximum for text-embedding-ada-002 is 8191"
   ],
   "metadata": {
    "collapsed": false,
    "ExecuteTime": {
     "end_time": "2023-07-27T08:32:07.744115Z",
     "start_time": "2023-07-27T08:32:07.699759Z"
    }
   }
  },
  {
   "cell_type": "code",
   "execution_count": 33,
   "outputs": [
    {
     "data": {
      "text/plain": "      product__id  productNumber                                productName  \\\n0         3696208  4062862013129  Sneaker low Materialmix Leder/Textil grau   \n1        10310967  4065171998385                   Slingpumps Rauleder Lila   \n2         3479727  4062862475613            Schnürstiefelette Rauleder gelb   \n3         7593992  4064032904039    Plateau Sandale Materialmix Leder braun   \n4         8504015  4065171432780       Enkellaarsjes op plateau Suède grijs   \n...           ...            ...                                        ...   \n1995      7595163  4064032261774           Riemchensandale Glattleder braun   \n1996      4770623  4062862808909                   Plateau Sandale Rauleder   \n1997      9218621  4065171587046                Plüschhausschuh Textil rosa   \n1998      8666377  4065171660602               Lage sneaker Glad leer bruin   \n1999      8963039  4065171231659              Eleganter Pump Glattleder rot   \n\n     productSizeEu productColorName articleNumber  brand__id  \\\n0             42.0             grau    1007.10.03    3692257   \n1             38.5             Lila     21.521.13    6590677   \n2             42.0             gelb     52.076.30    6590678   \n3             35.0            braun     82.736.52    6590678   \n4             44.0            grijs     94.780.13    6590677   \n...            ...              ...           ...        ...   \n1995          44.0            braun     82.773.51    6590678   \n1996          42.0                      64.614.17    6590677   \n1997          38.0             rosa     93.060.10    6590677   \n1998          35.0            bruin     93.334.24    6590677   \n1999          39.0              rot     92.160.28    6590678   \n\n      mainCategory__id gender originCountry  ...     shoeStyle  productType_y  \\\n0              3692261      m            CN  ...       Sneaker   Herrenschuhe   \n1               315565      w            PT  ...         Pumps    Damenschuhe   \n2               315587      w            SK  ...  Stiefeletten    Damenschuhe   \n3               315568      w            VN  ...      Sandalen    Damenschuhe   \n4               315595      w            SK  ...  Stiefeletten    Damenschuhe   \n...                ...    ...           ...  ...           ...            ...   \n1995            315564      w            PT  ...      Sandalen    Damenschuhe   \n1996            315563      w            SK  ...      Sandalen    Damenschuhe   \n1997           8487167      w            PT  ...    Hausschuhe    Damenschuhe   \n1998            315567      w            SK  ...       Sneaker    Damenschuhe   \n1999            315573      w            PT  ...         Pumps    Damenschuhe   \n\n     heelHeightGroup  sizeEu  sizeUk  sizeIndex  shaftLength__value  \\\n0        3 cm - 5 cm    42.0     8.0        7.0                 0.0   \n1        3 cm - 5 cm    38.5     5.5        9.0                 0.0   \n2           bis 3 cm    42.0     8.0       14.0                14.0   \n3        5 cm - 8 cm    35.0     2.5        3.0                 0.0   \n4        5 cm - 8 cm    44.0     9.5       17.0                14.0   \n...              ...     ...     ...        ...                 ...   \n1995     3 cm - 5 cm    44.0     9.5       17.0                 0.0   \n1996     5 cm - 8 cm    42.0     8.0       14.0                 0.0   \n1997        bis 3 cm    38.0     5.0        6.0                 0.0   \n1998     3 cm - 5 cm    35.0     2.5        3.0                 0.0   \n1999     5 cm - 8 cm    39.0     6.0       10.0                 0.0   \n\n           sole isTransferee isSuccessor  \n0     Gummi-EVA          0.0         0.0  \n1           TPU          0.0         0.0  \n2            TR          0.0         0.0  \n3         Gummi          1.0         1.0  \n4            TR          1.0         1.0  \n...         ...          ...         ...  \n1995         TR          0.0         0.0  \n1996     PU-TPU          0.0         1.0  \n1997        EVA          0.0         0.0  \n1998         TR          1.0         1.0  \n1999        TPU          0.0         0.0  \n\n[2000 rows x 55 columns]",
      "text/html": "<div>\n<style scoped>\n    .dataframe tbody tr th:only-of-type {\n        vertical-align: middle;\n    }\n\n    .dataframe tbody tr th {\n        vertical-align: top;\n    }\n\n    .dataframe thead th {\n        text-align: right;\n    }\n</style>\n<table border=\"1\" class=\"dataframe\">\n  <thead>\n    <tr style=\"text-align: right;\">\n      <th></th>\n      <th>product__id</th>\n      <th>productNumber</th>\n      <th>productName</th>\n      <th>productSizeEu</th>\n      <th>productColorName</th>\n      <th>articleNumber</th>\n      <th>brand__id</th>\n      <th>mainCategory__id</th>\n      <th>gender</th>\n      <th>originCountry</th>\n      <th>...</th>\n      <th>shoeStyle</th>\n      <th>productType_y</th>\n      <th>heelHeightGroup</th>\n      <th>sizeEu</th>\n      <th>sizeUk</th>\n      <th>sizeIndex</th>\n      <th>shaftLength__value</th>\n      <th>sole</th>\n      <th>isTransferee</th>\n      <th>isSuccessor</th>\n    </tr>\n  </thead>\n  <tbody>\n    <tr>\n      <th>0</th>\n      <td>3696208</td>\n      <td>4062862013129</td>\n      <td>Sneaker low Materialmix Leder/Textil grau</td>\n      <td>42.0</td>\n      <td>grau</td>\n      <td>1007.10.03</td>\n      <td>3692257</td>\n      <td>3692261</td>\n      <td>m</td>\n      <td>CN</td>\n      <td>...</td>\n      <td>Sneaker</td>\n      <td>Herrenschuhe</td>\n      <td>3 cm - 5 cm</td>\n      <td>42.0</td>\n      <td>8.0</td>\n      <td>7.0</td>\n      <td>0.0</td>\n      <td>Gummi-EVA</td>\n      <td>0.0</td>\n      <td>0.0</td>\n    </tr>\n    <tr>\n      <th>1</th>\n      <td>10310967</td>\n      <td>4065171998385</td>\n      <td>Slingpumps Rauleder Lila</td>\n      <td>38.5</td>\n      <td>Lila</td>\n      <td>21.521.13</td>\n      <td>6590677</td>\n      <td>315565</td>\n      <td>w</td>\n      <td>PT</td>\n      <td>...</td>\n      <td>Pumps</td>\n      <td>Damenschuhe</td>\n      <td>3 cm - 5 cm</td>\n      <td>38.5</td>\n      <td>5.5</td>\n      <td>9.0</td>\n      <td>0.0</td>\n      <td>TPU</td>\n      <td>0.0</td>\n      <td>0.0</td>\n    </tr>\n    <tr>\n      <th>2</th>\n      <td>3479727</td>\n      <td>4062862475613</td>\n      <td>Schnürstiefelette Rauleder gelb</td>\n      <td>42.0</td>\n      <td>gelb</td>\n      <td>52.076.30</td>\n      <td>6590678</td>\n      <td>315587</td>\n      <td>w</td>\n      <td>SK</td>\n      <td>...</td>\n      <td>Stiefeletten</td>\n      <td>Damenschuhe</td>\n      <td>bis 3 cm</td>\n      <td>42.0</td>\n      <td>8.0</td>\n      <td>14.0</td>\n      <td>14.0</td>\n      <td>TR</td>\n      <td>0.0</td>\n      <td>0.0</td>\n    </tr>\n    <tr>\n      <th>3</th>\n      <td>7593992</td>\n      <td>4064032904039</td>\n      <td>Plateau Sandale Materialmix Leder braun</td>\n      <td>35.0</td>\n      <td>braun</td>\n      <td>82.736.52</td>\n      <td>6590678</td>\n      <td>315568</td>\n      <td>w</td>\n      <td>VN</td>\n      <td>...</td>\n      <td>Sandalen</td>\n      <td>Damenschuhe</td>\n      <td>5 cm - 8 cm</td>\n      <td>35.0</td>\n      <td>2.5</td>\n      <td>3.0</td>\n      <td>0.0</td>\n      <td>Gummi</td>\n      <td>1.0</td>\n      <td>1.0</td>\n    </tr>\n    <tr>\n      <th>4</th>\n      <td>8504015</td>\n      <td>4065171432780</td>\n      <td>Enkellaarsjes op plateau Suède grijs</td>\n      <td>44.0</td>\n      <td>grijs</td>\n      <td>94.780.13</td>\n      <td>6590677</td>\n      <td>315595</td>\n      <td>w</td>\n      <td>SK</td>\n      <td>...</td>\n      <td>Stiefeletten</td>\n      <td>Damenschuhe</td>\n      <td>5 cm - 8 cm</td>\n      <td>44.0</td>\n      <td>9.5</td>\n      <td>17.0</td>\n      <td>14.0</td>\n      <td>TR</td>\n      <td>1.0</td>\n      <td>1.0</td>\n    </tr>\n    <tr>\n      <th>...</th>\n      <td>...</td>\n      <td>...</td>\n      <td>...</td>\n      <td>...</td>\n      <td>...</td>\n      <td>...</td>\n      <td>...</td>\n      <td>...</td>\n      <td>...</td>\n      <td>...</td>\n      <td>...</td>\n      <td>...</td>\n      <td>...</td>\n      <td>...</td>\n      <td>...</td>\n      <td>...</td>\n      <td>...</td>\n      <td>...</td>\n      <td>...</td>\n      <td>...</td>\n      <td>...</td>\n    </tr>\n    <tr>\n      <th>1995</th>\n      <td>7595163</td>\n      <td>4064032261774</td>\n      <td>Riemchensandale Glattleder braun</td>\n      <td>44.0</td>\n      <td>braun</td>\n      <td>82.773.51</td>\n      <td>6590678</td>\n      <td>315564</td>\n      <td>w</td>\n      <td>PT</td>\n      <td>...</td>\n      <td>Sandalen</td>\n      <td>Damenschuhe</td>\n      <td>3 cm - 5 cm</td>\n      <td>44.0</td>\n      <td>9.5</td>\n      <td>17.0</td>\n      <td>0.0</td>\n      <td>TR</td>\n      <td>0.0</td>\n      <td>0.0</td>\n    </tr>\n    <tr>\n      <th>1996</th>\n      <td>4770623</td>\n      <td>4062862808909</td>\n      <td>Plateau Sandale Rauleder</td>\n      <td>42.0</td>\n      <td></td>\n      <td>64.614.17</td>\n      <td>6590677</td>\n      <td>315563</td>\n      <td>w</td>\n      <td>SK</td>\n      <td>...</td>\n      <td>Sandalen</td>\n      <td>Damenschuhe</td>\n      <td>5 cm - 8 cm</td>\n      <td>42.0</td>\n      <td>8.0</td>\n      <td>14.0</td>\n      <td>0.0</td>\n      <td>PU-TPU</td>\n      <td>0.0</td>\n      <td>1.0</td>\n    </tr>\n    <tr>\n      <th>1997</th>\n      <td>9218621</td>\n      <td>4065171587046</td>\n      <td>Plüschhausschuh Textil rosa</td>\n      <td>38.0</td>\n      <td>rosa</td>\n      <td>93.060.10</td>\n      <td>6590677</td>\n      <td>8487167</td>\n      <td>w</td>\n      <td>PT</td>\n      <td>...</td>\n      <td>Hausschuhe</td>\n      <td>Damenschuhe</td>\n      <td>bis 3 cm</td>\n      <td>38.0</td>\n      <td>5.0</td>\n      <td>6.0</td>\n      <td>0.0</td>\n      <td>EVA</td>\n      <td>0.0</td>\n      <td>0.0</td>\n    </tr>\n    <tr>\n      <th>1998</th>\n      <td>8666377</td>\n      <td>4065171660602</td>\n      <td>Lage sneaker Glad leer bruin</td>\n      <td>35.0</td>\n      <td>bruin</td>\n      <td>93.334.24</td>\n      <td>6590677</td>\n      <td>315567</td>\n      <td>w</td>\n      <td>SK</td>\n      <td>...</td>\n      <td>Sneaker</td>\n      <td>Damenschuhe</td>\n      <td>3 cm - 5 cm</td>\n      <td>35.0</td>\n      <td>2.5</td>\n      <td>3.0</td>\n      <td>0.0</td>\n      <td>TR</td>\n      <td>1.0</td>\n      <td>1.0</td>\n    </tr>\n    <tr>\n      <th>1999</th>\n      <td>8963039</td>\n      <td>4065171231659</td>\n      <td>Eleganter Pump Glattleder rot</td>\n      <td>39.0</td>\n      <td>rot</td>\n      <td>92.160.28</td>\n      <td>6590678</td>\n      <td>315573</td>\n      <td>w</td>\n      <td>PT</td>\n      <td>...</td>\n      <td>Pumps</td>\n      <td>Damenschuhe</td>\n      <td>5 cm - 8 cm</td>\n      <td>39.0</td>\n      <td>6.0</td>\n      <td>10.0</td>\n      <td>0.0</td>\n      <td>TPU</td>\n      <td>0.0</td>\n      <td>0.0</td>\n    </tr>\n  </tbody>\n</table>\n<p>2000 rows × 55 columns</p>\n</div>"
     },
     "metadata": {},
     "output_type": "display_data"
    }
   ],
   "source": [
    "basepath = '../../datasets/preprocessed_datasets/gabor/'\n",
    "product_data = pd.read_pickle(basepath +'no_product_variants.pkl')\n",
    "product_data = product_data.reset_index(drop=True)\n",
    "product_data = product_data.sample(n=2000, random_state=2).reset_index(drop=True)\n",
    "display(product_data)"
   ],
   "metadata": {
    "collapsed": false,
    "ExecuteTime": {
     "end_time": "2023-07-27T08:32:07.744654Z",
     "start_time": "2023-07-27T08:32:07.703001Z"
    }
   }
  },
  {
   "cell_type": "code",
   "execution_count": 34,
   "outputs": [],
   "source": [
    "def combine_columns(row):\n",
    "    return (\n",
    "            \"ID: \" + str(row.product__id) + \"; \" +\n",
    "            \"product_number: \" + str(row.productNumber) + \"; \" +\n",
    "            \"product_name: \" + row.productName + \"; \" +\n",
    "            # \"size: \" + str(row.productSizeEu) + \"; \" +\n",
    "            \"color: \" + str(row.productColorName) + \"; \" +\n",
    "            \"article number: \" + str(row.articleNumber) + \"; \" +\n",
    "            \"brand: \" + str(row.brand__id) + \"; \" +\n",
    "            \"main category: \" + str(row.mainCategory__id) + \"; \" +\n",
    "            \"gender: \" + str(row.gender) + \"; \" +\n",
    "            \"line: \" + str(row.line) + \"; \" +\n",
    "            \"price: \" + str(row.b2cPrice) + \"; \" +\n",
    "            \"material: \" + str(row.material) + \"; \" +\n",
    "            \"material PM: \" + str(row.materialPm) + \"; \"\n",
    "    )\n",
    "\n",
    "def get_embedding(text, model=\"text-embedding-ada-002\"):\n",
    "    text = text.replace(\"\\n\", \" \")\n",
    "    return openai.Embedding.create(input = [text], model=model)['data'][0]['embedding']\n",
    "\n",
    "def get_embeddings(texts, model=\"text-embedding-ada-002\"):\n",
    "    return openai.Embedding.create(input=texts, model=model).data\n",
    "\n",
    "def get_list_from_embeddings(embedding_result):\n",
    "    list = []\n",
    "    for entry in embedding_result:\n",
    "        list.append(entry.embedding)\n",
    "    return list"
   ],
   "metadata": {
    "collapsed": false,
    "ExecuteTime": {
     "end_time": "2023-07-27T08:32:07.744755Z",
     "start_time": "2023-07-27T08:32:07.728266Z"
    }
   }
  },
  {
   "cell_type": "code",
   "execution_count": 35,
   "outputs": [
    {
     "name": "stdout",
     "output_type": "stream",
     "text": [
      "Price accepted...\n"
     ]
    },
    {
     "data": {
      "text/plain": "      product__id                                           combined  \\\n0         3696208  ID: 3696208; product_number: 4062862013129; pr...   \n1        10310967  ID: 10310967; product_number: 4065171998385; p...   \n2         3479727  ID: 3479727; product_number: 4062862475613; pr...   \n3         7593992  ID: 7593992; product_number: 4064032904039; pr...   \n4         8504015  ID: 8504015; product_number: 4065171432780; pr...   \n...           ...                                                ...   \n1995      7595163  ID: 7595163; product_number: 4064032261774; pr...   \n1996      4770623  ID: 4770623; product_number: 4062862808909; pr...   \n1997      9218621  ID: 9218621; product_number: 4065171587046; pr...   \n1998      8666377  ID: 8666377; product_number: 4065171660602; pr...   \n1999      8963039  ID: 8963039; product_number: 4065171231659; pr...   \n\n                                              embedding  \n0     [0.013865606859326363, 0.0059647392481565475, ...  \n1     [0.008594418875873089, 0.018468571826815605, -...  \n2     [0.0033649103716015816, -0.0010019299807026982...  \n3     [0.008496461436152458, -0.00178595632314682, -...  \n4     [0.01740363799035549, -0.01851450838148594, -0...  \n...                                                 ...  \n1995  [0.006299823988229036, 0.009966087527573109, -...  \n1996  [0.006249087397009134, -0.0014839477371424437,...  \n1997  [0.006515574641525745, 0.005344858393073082, -...  \n1998  [-0.0006240483489818871, -0.001225750078447163...  \n1999  [-0.011083659715950489, -0.000380583485821262,...  \n\n[2000 rows x 3 columns]",
      "text/html": "<div>\n<style scoped>\n    .dataframe tbody tr th:only-of-type {\n        vertical-align: middle;\n    }\n\n    .dataframe tbody tr th {\n        vertical-align: top;\n    }\n\n    .dataframe thead th {\n        text-align: right;\n    }\n</style>\n<table border=\"1\" class=\"dataframe\">\n  <thead>\n    <tr style=\"text-align: right;\">\n      <th></th>\n      <th>product__id</th>\n      <th>combined</th>\n      <th>embedding</th>\n    </tr>\n  </thead>\n  <tbody>\n    <tr>\n      <th>0</th>\n      <td>3696208</td>\n      <td>ID: 3696208; product_number: 4062862013129; pr...</td>\n      <td>[0.013865606859326363, 0.0059647392481565475, ...</td>\n    </tr>\n    <tr>\n      <th>1</th>\n      <td>10310967</td>\n      <td>ID: 10310967; product_number: 4065171998385; p...</td>\n      <td>[0.008594418875873089, 0.018468571826815605, -...</td>\n    </tr>\n    <tr>\n      <th>2</th>\n      <td>3479727</td>\n      <td>ID: 3479727; product_number: 4062862475613; pr...</td>\n      <td>[0.0033649103716015816, -0.0010019299807026982...</td>\n    </tr>\n    <tr>\n      <th>3</th>\n      <td>7593992</td>\n      <td>ID: 7593992; product_number: 4064032904039; pr...</td>\n      <td>[0.008496461436152458, -0.00178595632314682, -...</td>\n    </tr>\n    <tr>\n      <th>4</th>\n      <td>8504015</td>\n      <td>ID: 8504015; product_number: 4065171432780; pr...</td>\n      <td>[0.01740363799035549, -0.01851450838148594, -0...</td>\n    </tr>\n    <tr>\n      <th>...</th>\n      <td>...</td>\n      <td>...</td>\n      <td>...</td>\n    </tr>\n    <tr>\n      <th>1995</th>\n      <td>7595163</td>\n      <td>ID: 7595163; product_number: 4064032261774; pr...</td>\n      <td>[0.006299823988229036, 0.009966087527573109, -...</td>\n    </tr>\n    <tr>\n      <th>1996</th>\n      <td>4770623</td>\n      <td>ID: 4770623; product_number: 4062862808909; pr...</td>\n      <td>[0.006249087397009134, -0.0014839477371424437,...</td>\n    </tr>\n    <tr>\n      <th>1997</th>\n      <td>9218621</td>\n      <td>ID: 9218621; product_number: 4065171587046; pr...</td>\n      <td>[0.006515574641525745, 0.005344858393073082, -...</td>\n    </tr>\n    <tr>\n      <th>1998</th>\n      <td>8666377</td>\n      <td>ID: 8666377; product_number: 4065171660602; pr...</td>\n      <td>[-0.0006240483489818871, -0.001225750078447163...</td>\n    </tr>\n    <tr>\n      <th>1999</th>\n      <td>8963039</td>\n      <td>ID: 8963039; product_number: 4065171231659; pr...</td>\n      <td>[-0.011083659715950489, -0.000380583485821262,...</td>\n    </tr>\n  </tbody>\n</table>\n<p>2000 rows × 3 columns</p>\n</div>"
     },
     "metadata": {},
     "output_type": "display_data"
    }
   ],
   "source": [
    "product_embeddings_path = \"openai/product_embeddings.pkl\"\n",
    "recreate_embeddings = True\n",
    "if not os.path.exists(basepath + product_embeddings_path) or recreate_embeddings:\n",
    "    product_data_embeddings = product_data[['product__id']].copy()\n",
    "    product_data_embeddings[\"combined\"] = product_data.apply(lambda row: combine_columns(row), axis=1)\n",
    "    # print(product_data_embeddings.combined.tolist())\n",
    "    estimate_price(product_data_embeddings.shape[0])\n",
    "    # embed each row separately\n",
    "    # product_data_embeddings['embedding'] = product_data_embeddings.combined.apply(lambda x: get_embedding(x, model='text-embedding-ada-002'))\n",
    "    # batch embed\n",
    "    product_data_embeddings['embedding'] = get_list_from_embeddings(get_embeddings(product_data_embeddings.combined.tolist()))\n",
    "    product_data_embeddings.to_pickle(basepath + product_embeddings_path)\n",
    "else:\n",
    "    product_data_embeddings = pd.read_pickle(basepath + product_embeddings_path)\n",
    "display(product_data_embeddings)"
   ],
   "metadata": {
    "collapsed": false,
    "ExecuteTime": {
     "end_time": "2023-07-27T08:32:15.425341Z",
     "start_time": "2023-07-27T08:32:07.732759Z"
    }
   }
  },
  {
   "cell_type": "code",
   "execution_count": 36,
   "outputs": [
    {
     "data": {
      "text/plain": "array([   0, 1450, 1027,   11,  762])"
     },
     "metadata": {},
     "output_type": "display_data"
    },
    {
     "data": {
      "text/plain": "[1.0,\n 0.9885263210629753,\n 0.9866243723324932,\n 0.9831100128526201,\n 0.9819263753691818]"
     },
     "metadata": {},
     "output_type": "display_data"
    }
   ],
   "source": [
    "def cosine_similarity(a, b):\n",
    "    return np.dot(a, b) / (np.linalg.norm(a) * np.linalg.norm(b))\n",
    "\n",
    "def get_n_nearest_neighbors(query_embedding, neighbors_embedding, n = 5):\n",
    "    similarities = [cosine_similarity(query_embedding, neighbor) for neighbor in neighbors_embedding]\n",
    "    indices = np.flip(np.argsort(similarities)[-n:])\n",
    "    scores = [similarities[i] for i in indices]\n",
    "    # Get the n neighbors with the highest similarity values\n",
    "    n_neighbors = [neighbors_embedding[i] for i in indices]\n",
    "\n",
    "    return indices, scores\n",
    "\n",
    "\n",
    "indices, scores = get_n_nearest_neighbors(product_data_embeddings.embedding[0], product_data_embeddings.embedding)\n",
    "display(indices, scores)"
   ],
   "metadata": {
    "collapsed": false,
    "ExecuteTime": {
     "end_time": "2023-07-27T08:32:15.760191Z",
     "start_time": "2023-07-27T08:32:15.560295Z"
    }
   }
  },
  {
   "cell_type": "code",
   "execution_count": 37,
   "outputs": [
    {
     "data": {
      "text/plain": "0       ID: 3696208; product_number: 4062862013129; pr...\n1450    ID: 7594042; product_number: 4064032158098; pr...\n1027    ID: 3845441; product_number: 4060666975391; pr...\n11      ID: 3696172; product_number: 4062862012818; pr...\n762     ID: 3695399; product_number: 4062862138150; pr...\nName: combined, dtype: object"
     },
     "execution_count": 37,
     "metadata": {},
     "output_type": "execute_result"
    }
   ],
   "source": [
    "product_data_embeddings.iloc[indices].combined"
   ],
   "metadata": {
    "collapsed": false,
    "ExecuteTime": {
     "end_time": "2023-07-27T08:32:15.765824Z",
     "start_time": "2023-07-27T08:32:15.761417Z"
    }
   }
  },
  {
   "cell_type": "code",
   "execution_count": 37,
   "outputs": [],
   "source": [],
   "metadata": {
    "collapsed": false,
    "ExecuteTime": {
     "end_time": "2023-07-27T08:32:15.765935Z",
     "start_time": "2023-07-27T08:32:15.763701Z"
    }
   }
  }
 ],
 "metadata": {
  "kernelspec": {
   "display_name": "Python 3",
   "language": "python",
   "name": "python3"
  },
  "language_info": {
   "codemirror_mode": {
    "name": "ipython",
    "version": 2
   },
   "file_extension": ".py",
   "mimetype": "text/x-python",
   "name": "python",
   "nbconvert_exporter": "python",
   "pygments_lexer": "ipython2",
   "version": "2.7.6"
  }
 },
 "nbformat": 4,
 "nbformat_minor": 0
}
