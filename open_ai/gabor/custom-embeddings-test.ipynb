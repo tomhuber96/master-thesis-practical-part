{
 "cells": [
  {
   "cell_type": "code",
   "execution_count": 40,
   "metadata": {
    "collapsed": true,
    "ExecuteTime": {
     "end_time": "2023-07-28T09:22:35.710376Z",
     "start_time": "2023-07-28T09:22:35.658484Z"
    }
   },
   "outputs": [],
   "source": [
    "#set openai key in .env.local\n",
    "import os\n",
    "import pandas as pd\n",
    "import openai\n",
    "import numpy as np\n",
    "import tensorflow as tf\n",
    "import regex as re\n",
    "from tensorflow.keras.layers import TextVectorization\n",
    "from tensorflow.keras.layers import Embedding\n",
    "\n",
    "#from openai.embeddings_utils import get_embedding"
   ]
  },
  {
   "cell_type": "code",
   "execution_count": 41,
   "outputs": [
    {
     "data": {
      "text/plain": "      product__id  productNumber  \\\n0          557559  4058394021466   \n1          551622  4054452768212   \n2          547193  4054452768427   \n3          549776  4059701687894   \n4          550726  4054452851594   \n...           ...            ...   \n3292     10603553  4066558951733   \n3293     10442948  4065171827272   \n3294     10782704  4251234499207   \n3295     10679703  4066558303617   \n3296     10496278  4065171812513   \n\n                                            productName productSizeEu  \\\n0              sportliche Ballerinas Glattleder schwarz          40.0   \n1                     elegante Pumps Glattleder schwarz          38.0   \n2                            Slipper Glattleder schwarz          42.0   \n3                             Sneaker low Rauleder blau          39.0   \n4     elegante Ballerinas Materialmix Lederimitat sc...          37.5   \n...                                                 ...           ...   \n3292                Sandale met plateauzool Suède blauw          35.0   \n3293                    Mokassin Materialmix Leder pink          40.5   \n3294                                 Shopper ANDIE blau                 \n3295                       Elegante pumps Glad leer wit          35.0   \n3296                       Sandale compensée Daim beige          38.0   \n\n     productColorName articleNumber  brand__id  mainCategory__id gender  \\\n0             schwarz     02.643.57    6590678            315571      w   \n1             schwarz     05.160.37    6590677            315573      w   \n2             schwarz     04.443.27    6590677            315576      w   \n3                blau     06.968.46    4997827            315567      w   \n4             schwarz     06.102.67    6590678            315574      w   \n...               ...           ...        ...               ...    ...   \n3292            blauw     24.764.36    6590677            315568      w   \n3293             pink     26.090.21    6590678            315590      w   \n3294             blau        921453     363013            363017      w   \n3295              wit     21.450.60    6590677            315573      w   \n3296            beige     24.645.14    6590677            315564      w   \n\n     originCountry  ...   shoeStyle  productType_y heelHeightGroup  sizeEu  \\\n0               PT  ...  Ballerinas    Damenschuhe        bis 3 cm    40.0   \n1               PT  ...       Pumps    Damenschuhe     3 cm - 5 cm    38.0   \n2               SK  ...  Halbschuhe    Damenschuhe     3 cm - 5 cm    42.0   \n3               VN  ...     Sneaker    Damenschuhe     3 cm - 5 cm    39.0   \n4               SK  ...  Ballerinas    Damenschuhe        bis 3 cm    37.5   \n...            ...  ...         ...            ...             ...     ...   \n3292            SK  ...    Sandalen    Damenschuhe     5 cm - 8 cm    35.0   \n3293            PT  ...  Halbschuhe    Damenschuhe        bis 3 cm    40.5   \n3294            DE  ...         NaN            NaN             NaN     NaN   \n3295            PT  ...       Pumps    Damenschuhe     5 cm - 8 cm    35.0   \n3296            PT  ...    Sandalen    Damenschuhe     5 cm - 8 cm    38.0   \n\n      sizeUk  sizeIndex  shaftLength__value       sole isTransferee  \\\n0        6.5       11.0                 0.0      Gummi          0.0   \n1        5.0        8.0                 0.0        EVA          0.0   \n2        8.0       14.0                 0.0     PU-TPU          0.0   \n3        6.0       10.0                 0.0  Gummi-EVA          0.0   \n4        4.5        7.0                 0.0        EVA          0.0   \n...      ...        ...                 ...        ...          ...   \n3292     2.5        3.0                 0.0     PU-TPU          0.0   \n3293     7.0       12.0                 0.0      Gummi          0.0   \n3294     NaN        NaN                 NaN        NaN          NaN   \n3295     2.5        3.0                 0.0        TPU          0.0   \n3296     5.0        8.0                 0.0         TR          0.0   \n\n     isSuccessor  \n0            0.0  \n1            0.0  \n2            0.0  \n3            0.0  \n4            0.0  \n...          ...  \n3292         0.0  \n3293         0.0  \n3294         NaN  \n3295         0.0  \n3296         0.0  \n\n[3297 rows x 55 columns]",
      "text/html": "<div>\n<style scoped>\n    .dataframe tbody tr th:only-of-type {\n        vertical-align: middle;\n    }\n\n    .dataframe tbody tr th {\n        vertical-align: top;\n    }\n\n    .dataframe thead th {\n        text-align: right;\n    }\n</style>\n<table border=\"1\" class=\"dataframe\">\n  <thead>\n    <tr style=\"text-align: right;\">\n      <th></th>\n      <th>product__id</th>\n      <th>productNumber</th>\n      <th>productName</th>\n      <th>productSizeEu</th>\n      <th>productColorName</th>\n      <th>articleNumber</th>\n      <th>brand__id</th>\n      <th>mainCategory__id</th>\n      <th>gender</th>\n      <th>originCountry</th>\n      <th>...</th>\n      <th>shoeStyle</th>\n      <th>productType_y</th>\n      <th>heelHeightGroup</th>\n      <th>sizeEu</th>\n      <th>sizeUk</th>\n      <th>sizeIndex</th>\n      <th>shaftLength__value</th>\n      <th>sole</th>\n      <th>isTransferee</th>\n      <th>isSuccessor</th>\n    </tr>\n  </thead>\n  <tbody>\n    <tr>\n      <th>0</th>\n      <td>557559</td>\n      <td>4058394021466</td>\n      <td>sportliche Ballerinas Glattleder schwarz</td>\n      <td>40.0</td>\n      <td>schwarz</td>\n      <td>02.643.57</td>\n      <td>6590678</td>\n      <td>315571</td>\n      <td>w</td>\n      <td>PT</td>\n      <td>...</td>\n      <td>Ballerinas</td>\n      <td>Damenschuhe</td>\n      <td>bis 3 cm</td>\n      <td>40.0</td>\n      <td>6.5</td>\n      <td>11.0</td>\n      <td>0.0</td>\n      <td>Gummi</td>\n      <td>0.0</td>\n      <td>0.0</td>\n    </tr>\n    <tr>\n      <th>1</th>\n      <td>551622</td>\n      <td>4054452768212</td>\n      <td>elegante Pumps Glattleder schwarz</td>\n      <td>38.0</td>\n      <td>schwarz</td>\n      <td>05.160.37</td>\n      <td>6590677</td>\n      <td>315573</td>\n      <td>w</td>\n      <td>PT</td>\n      <td>...</td>\n      <td>Pumps</td>\n      <td>Damenschuhe</td>\n      <td>3 cm - 5 cm</td>\n      <td>38.0</td>\n      <td>5.0</td>\n      <td>8.0</td>\n      <td>0.0</td>\n      <td>EVA</td>\n      <td>0.0</td>\n      <td>0.0</td>\n    </tr>\n    <tr>\n      <th>2</th>\n      <td>547193</td>\n      <td>4054452768427</td>\n      <td>Slipper Glattleder schwarz</td>\n      <td>42.0</td>\n      <td>schwarz</td>\n      <td>04.443.27</td>\n      <td>6590677</td>\n      <td>315576</td>\n      <td>w</td>\n      <td>SK</td>\n      <td>...</td>\n      <td>Halbschuhe</td>\n      <td>Damenschuhe</td>\n      <td>3 cm - 5 cm</td>\n      <td>42.0</td>\n      <td>8.0</td>\n      <td>14.0</td>\n      <td>0.0</td>\n      <td>PU-TPU</td>\n      <td>0.0</td>\n      <td>0.0</td>\n    </tr>\n    <tr>\n      <th>3</th>\n      <td>549776</td>\n      <td>4059701687894</td>\n      <td>Sneaker low Rauleder blau</td>\n      <td>39.0</td>\n      <td>blau</td>\n      <td>06.968.46</td>\n      <td>4997827</td>\n      <td>315567</td>\n      <td>w</td>\n      <td>VN</td>\n      <td>...</td>\n      <td>Sneaker</td>\n      <td>Damenschuhe</td>\n      <td>3 cm - 5 cm</td>\n      <td>39.0</td>\n      <td>6.0</td>\n      <td>10.0</td>\n      <td>0.0</td>\n      <td>Gummi-EVA</td>\n      <td>0.0</td>\n      <td>0.0</td>\n    </tr>\n    <tr>\n      <th>4</th>\n      <td>550726</td>\n      <td>4054452851594</td>\n      <td>elegante Ballerinas Materialmix Lederimitat sc...</td>\n      <td>37.5</td>\n      <td>schwarz</td>\n      <td>06.102.67</td>\n      <td>6590678</td>\n      <td>315574</td>\n      <td>w</td>\n      <td>SK</td>\n      <td>...</td>\n      <td>Ballerinas</td>\n      <td>Damenschuhe</td>\n      <td>bis 3 cm</td>\n      <td>37.5</td>\n      <td>4.5</td>\n      <td>7.0</td>\n      <td>0.0</td>\n      <td>EVA</td>\n      <td>0.0</td>\n      <td>0.0</td>\n    </tr>\n    <tr>\n      <th>...</th>\n      <td>...</td>\n      <td>...</td>\n      <td>...</td>\n      <td>...</td>\n      <td>...</td>\n      <td>...</td>\n      <td>...</td>\n      <td>...</td>\n      <td>...</td>\n      <td>...</td>\n      <td>...</td>\n      <td>...</td>\n      <td>...</td>\n      <td>...</td>\n      <td>...</td>\n      <td>...</td>\n      <td>...</td>\n      <td>...</td>\n      <td>...</td>\n      <td>...</td>\n      <td>...</td>\n    </tr>\n    <tr>\n      <th>3292</th>\n      <td>10603553</td>\n      <td>4066558951733</td>\n      <td>Sandale met plateauzool Suède blauw</td>\n      <td>35.0</td>\n      <td>blauw</td>\n      <td>24.764.36</td>\n      <td>6590677</td>\n      <td>315568</td>\n      <td>w</td>\n      <td>SK</td>\n      <td>...</td>\n      <td>Sandalen</td>\n      <td>Damenschuhe</td>\n      <td>5 cm - 8 cm</td>\n      <td>35.0</td>\n      <td>2.5</td>\n      <td>3.0</td>\n      <td>0.0</td>\n      <td>PU-TPU</td>\n      <td>0.0</td>\n      <td>0.0</td>\n    </tr>\n    <tr>\n      <th>3293</th>\n      <td>10442948</td>\n      <td>4065171827272</td>\n      <td>Mokassin Materialmix Leder pink</td>\n      <td>40.5</td>\n      <td>pink</td>\n      <td>26.090.21</td>\n      <td>6590678</td>\n      <td>315590</td>\n      <td>w</td>\n      <td>PT</td>\n      <td>...</td>\n      <td>Halbschuhe</td>\n      <td>Damenschuhe</td>\n      <td>bis 3 cm</td>\n      <td>40.5</td>\n      <td>7.0</td>\n      <td>12.0</td>\n      <td>0.0</td>\n      <td>Gummi</td>\n      <td>0.0</td>\n      <td>0.0</td>\n    </tr>\n    <tr>\n      <th>3294</th>\n      <td>10782704</td>\n      <td>4251234499207</td>\n      <td>Shopper ANDIE blau</td>\n      <td></td>\n      <td>blau</td>\n      <td>921453</td>\n      <td>363013</td>\n      <td>363017</td>\n      <td>w</td>\n      <td>DE</td>\n      <td>...</td>\n      <td>NaN</td>\n      <td>NaN</td>\n      <td>NaN</td>\n      <td>NaN</td>\n      <td>NaN</td>\n      <td>NaN</td>\n      <td>NaN</td>\n      <td>NaN</td>\n      <td>NaN</td>\n      <td>NaN</td>\n    </tr>\n    <tr>\n      <th>3295</th>\n      <td>10679703</td>\n      <td>4066558303617</td>\n      <td>Elegante pumps Glad leer wit</td>\n      <td>35.0</td>\n      <td>wit</td>\n      <td>21.450.60</td>\n      <td>6590677</td>\n      <td>315573</td>\n      <td>w</td>\n      <td>PT</td>\n      <td>...</td>\n      <td>Pumps</td>\n      <td>Damenschuhe</td>\n      <td>5 cm - 8 cm</td>\n      <td>35.0</td>\n      <td>2.5</td>\n      <td>3.0</td>\n      <td>0.0</td>\n      <td>TPU</td>\n      <td>0.0</td>\n      <td>0.0</td>\n    </tr>\n    <tr>\n      <th>3296</th>\n      <td>10496278</td>\n      <td>4065171812513</td>\n      <td>Sandale compensée Daim beige</td>\n      <td>38.0</td>\n      <td>beige</td>\n      <td>24.645.14</td>\n      <td>6590677</td>\n      <td>315564</td>\n      <td>w</td>\n      <td>PT</td>\n      <td>...</td>\n      <td>Sandalen</td>\n      <td>Damenschuhe</td>\n      <td>5 cm - 8 cm</td>\n      <td>38.0</td>\n      <td>5.0</td>\n      <td>8.0</td>\n      <td>0.0</td>\n      <td>TR</td>\n      <td>0.0</td>\n      <td>0.0</td>\n    </tr>\n  </tbody>\n</table>\n<p>3297 rows × 55 columns</p>\n</div>"
     },
     "metadata": {},
     "output_type": "display_data"
    }
   ],
   "source": [
    "basepath = '../../datasets/preprocessed_datasets/gabor/'\n",
    "product_data = pd.read_pickle(basepath +'no_product_variants.pkl')\n",
    "product_data = product_data.reset_index(drop=True)\n",
    "# product_data = product_data.sample(n=10, random_state=2).reset_index(drop=True)\n",
    "display(product_data)"
   ],
   "metadata": {
    "collapsed": false,
    "ExecuteTime": {
     "end_time": "2023-07-28T09:22:35.718677Z",
     "start_time": "2023-07-28T09:22:35.662947Z"
    }
   }
  },
  {
   "cell_type": "code",
   "execution_count": 42,
   "outputs": [
    {
     "data": {
      "text/plain": "      product__id                                           combined\n0          557559  id 557559 product_number 4058394021466 product...\n1          551622  id 551622 product_number 4054452768212 product...\n2          547193  id 547193 product_number 4054452768427 product...\n3          549776  id 549776 product_number 4059701687894 product...\n4          550726  id 550726 product_number 4054452851594 product...\n...           ...                                                ...\n3292     10603553  id 10603553 product_number 4066558951733 produ...\n3293     10442948  id 10442948 product_number 4065171827272 produ...\n3294     10782704  id 10782704 product_number 4251234499207 produ...\n3295     10679703  id 10679703 product_number 4066558303617 produ...\n3296     10496278  id 10496278 product_number 4065171812513 produ...\n\n[3297 rows x 2 columns]",
      "text/html": "<div>\n<style scoped>\n    .dataframe tbody tr th:only-of-type {\n        vertical-align: middle;\n    }\n\n    .dataframe tbody tr th {\n        vertical-align: top;\n    }\n\n    .dataframe thead th {\n        text-align: right;\n    }\n</style>\n<table border=\"1\" class=\"dataframe\">\n  <thead>\n    <tr style=\"text-align: right;\">\n      <th></th>\n      <th>product__id</th>\n      <th>combined</th>\n    </tr>\n  </thead>\n  <tbody>\n    <tr>\n      <th>0</th>\n      <td>557559</td>\n      <td>id 557559 product_number 4058394021466 product...</td>\n    </tr>\n    <tr>\n      <th>1</th>\n      <td>551622</td>\n      <td>id 551622 product_number 4054452768212 product...</td>\n    </tr>\n    <tr>\n      <th>2</th>\n      <td>547193</td>\n      <td>id 547193 product_number 4054452768427 product...</td>\n    </tr>\n    <tr>\n      <th>3</th>\n      <td>549776</td>\n      <td>id 549776 product_number 4059701687894 product...</td>\n    </tr>\n    <tr>\n      <th>4</th>\n      <td>550726</td>\n      <td>id 550726 product_number 4054452851594 product...</td>\n    </tr>\n    <tr>\n      <th>...</th>\n      <td>...</td>\n      <td>...</td>\n    </tr>\n    <tr>\n      <th>3292</th>\n      <td>10603553</td>\n      <td>id 10603553 product_number 4066558951733 produ...</td>\n    </tr>\n    <tr>\n      <th>3293</th>\n      <td>10442948</td>\n      <td>id 10442948 product_number 4065171827272 produ...</td>\n    </tr>\n    <tr>\n      <th>3294</th>\n      <td>10782704</td>\n      <td>id 10782704 product_number 4251234499207 produ...</td>\n    </tr>\n    <tr>\n      <th>3295</th>\n      <td>10679703</td>\n      <td>id 10679703 product_number 4066558303617 produ...</td>\n    </tr>\n    <tr>\n      <th>3296</th>\n      <td>10496278</td>\n      <td>id 10496278 product_number 4065171812513 produ...</td>\n    </tr>\n  </tbody>\n</table>\n<p>3297 rows × 2 columns</p>\n</div>"
     },
     "metadata": {},
     "output_type": "display_data"
    }
   ],
   "source": [
    "def preprocess_text(text):\n",
    "    # Convert to lowercase and remove special characters\n",
    "    text = text.lower()\n",
    "    text = re.sub(r'[^\\w\\s]', '', text)\n",
    "    return text\n",
    "\n",
    "def combine_columns(row):\n",
    "    return preprocess_text (\n",
    "            \"ID: \" + str(row.product__id) + \"; \" +\n",
    "            \"product_number: \" + str(row.productNumber) + \"; \" +\n",
    "            \"product_name: \" + row.productName + \"; \" +\n",
    "            # \"size: \" + str(row.productSizeEu) + \"; \" +\n",
    "            \"color: \" + str(row.productColorName) + \"; \" +\n",
    "            \"article number: \" + str(row.articleNumber) + \"; \" +\n",
    "            \"brand: \" + str(row.brand__id) + \"; \" +\n",
    "            \"main category: \" + str(row.mainCategory__id) + \"; \" +\n",
    "            \"gender: \" + str(row.gender) + \"; \" +\n",
    "            \"line: \" + str(row.line) + \"; \" +\n",
    "            \"price: \" + str(row.b2cPrice) + \"; \" +\n",
    "            \"material: \" + str(row.material) + \"; \" +\n",
    "            \"material PM: \" + str(row.materialPm) + \"; \"\n",
    "    )\n",
    "\n",
    "\n",
    "product_data_embeddings = product_data[['product__id']].copy()\n",
    "product_data_embeddings[\"combined\"] = product_data.apply(lambda row: combine_columns(row), axis=1)\n",
    "display(product_data_embeddings)"
   ],
   "metadata": {
    "collapsed": false,
    "ExecuteTime": {
     "end_time": "2023-07-28T09:22:35.850177Z",
     "start_time": "2023-07-28T09:22:35.688768Z"
    }
   }
  },
  {
   "cell_type": "code",
   "execution_count": 43,
   "outputs": [],
   "source": [
    "vectorizer = TextVectorization(output_mode='int', output_sequence_length=10)\n",
    "\n",
    "# Apply the custom preprocessing function to the 'comb\n",
    "# Update the vocabulary based on the preprocessed text\n",
    "vectorizer.adapt(product_data_embeddings['combined'].values)"
   ],
   "metadata": {
    "collapsed": false,
    "ExecuteTime": {
     "end_time": "2023-07-28T09:22:35.941425Z",
     "start_time": "2023-07-28T09:22:35.847751Z"
    }
   }
  },
  {
   "cell_type": "code",
   "execution_count": 44,
   "outputs": [],
   "source": [
    "import os\n",
    "import requests\n",
    "import zipfile\n",
    "import numpy as np\n",
    "\n",
    "def download_and_extract_glove(glove_url, save_dir):\n",
    "    if not os.path.exists(save_dir):\n",
    "        os.makedirs(save_dir)\n",
    "\n",
    "    glove_zip = os.path.join(save_dir, 'glove.6B.zip')\n",
    "    glove_txt = os.path.join(save_dir, 'glove.6B.100d.txt')\n",
    "\n",
    "    if not os.path.exists(glove_txt):\n",
    "        print(\"Downloading GloVe embeddings...\")\n",
    "        response = requests.get(glove_url, stream=True)\n",
    "        with open(glove_zip, 'wb') as f:\n",
    "            f.write(response.content)\n",
    "\n",
    "        print(\"Extracting GloVe embeddings...\")\n",
    "        with zipfile.ZipFile(glove_zip, 'r') as zip_ref:\n",
    "            zip_ref.extractall(save_dir)\n",
    "\n",
    "        os.remove(glove_zip)\n",
    "\n",
    "# Replace 'save_directory' with the path to the directory where you want to save the embeddings\n",
    "save_directory = '.'\n",
    "glove_url = 'https://nlp.stanford.edu/data/glove.6B.zip'\n",
    "download_and_extract_glove(glove_url, save_directory)"
   ],
   "metadata": {
    "collapsed": false,
    "ExecuteTime": {
     "end_time": "2023-07-28T09:22:35.942912Z",
     "start_time": "2023-07-28T09:22:35.937352Z"
    }
   }
  },
  {
   "cell_type": "code",
   "execution_count": 45,
   "outputs": [],
   "source": [
    "glove_txt = os.path.join(save_directory, 'glove.6B.100d.txt')\n",
    "embeddings_index = {}\n",
    "with open(glove_txt, encoding='utf-8') as f:\n",
    "    for line in f:\n",
    "        values = line.split()\n",
    "        word = values[0]\n",
    "        coefs = np.asarray(values[1:], dtype='float32')\n",
    "        embeddings_index[word] = coefs\n",
    "\n",
    "# Define the Embedding layer using the pre-trained GloVe embeddings\n",
    "vocab_size = len(vectorizer.get_vocabulary())\n",
    "embedding_dim = 100  # You can choose the desired embedding dimension\n",
    "embedding_matrix = np.zeros((vocab_size, embedding_dim))\n",
    "word_index = {word: index for index, word in enumerate(vectorizer.get_vocabulary())}\n",
    "\n",
    "for word, i in word_index.items():\n",
    "    embedding_vector = embeddings_index.get(word)\n",
    "    if embedding_vector is not None:\n",
    "        embedding_matrix[i] = embedding_vector\n",
    "\n",
    "embedding_layer = Embedding(\n",
    "    vocab_size,\n",
    "    embedding_dim,\n",
    "    embeddings_initializer=tf.keras.initializers.Constant(embedding_matrix),\n",
    "    trainable=False\n",
    ")\n",
    "\n"
   ],
   "metadata": {
    "collapsed": false,
    "ExecuteTime": {
     "end_time": "2023-07-28T09:22:40.144850Z",
     "start_time": "2023-07-28T09:22:36.007690Z"
    }
   }
  },
  {
   "cell_type": "code",
   "execution_count": 46,
   "outputs": [
    {
     "data": {
      "text/plain": "(<tf.Tensor: shape=(3297, 10, 100), dtype=float32, numpy=\n array([[[-0.22458  , -0.58967  ,  0.43007  , ..., -0.63613  ,\n           0.31284  , -0.82294  ],\n         [ 0.       ,  0.       ,  0.       , ...,  0.       ,\n           0.       ,  0.       ],\n         [ 0.       ,  0.       ,  0.       , ...,  0.       ,\n           0.       ,  0.       ],\n         ...,\n         [ 0.       ,  0.       ,  0.       , ...,  0.       ,\n           0.       ,  0.       ],\n         [ 0.53366  ,  0.0085679, -0.85512  , ...,  0.21118  ,\n           0.22603  ,  0.18089  ],\n         [-0.52516  ,  0.44118  , -0.1273   , ..., -0.88581  ,\n           0.075446 ,  0.040447 ]],\n \n        [[-0.22458  , -0.58967  ,  0.43007  , ..., -0.63613  ,\n           0.31284  , -0.82294  ],\n         [ 0.       ,  0.       ,  0.       , ...,  0.       ,\n           0.       ,  0.       ],\n         [ 0.       ,  0.       ,  0.       , ...,  0.       ,\n           0.       ,  0.       ],\n         ...,\n         [ 0.       ,  0.       ,  0.       , ...,  0.       ,\n           0.       ,  0.       ],\n         [ 0.53366  ,  0.0085679, -0.85512  , ...,  0.21118  ,\n           0.22603  ,  0.18089  ],\n         [-0.52516  ,  0.44118  , -0.1273   , ..., -0.88581  ,\n           0.075446 ,  0.040447 ]],\n \n        [[-0.22458  , -0.58967  ,  0.43007  , ..., -0.63613  ,\n           0.31284  , -0.82294  ],\n         [ 0.       ,  0.       ,  0.       , ...,  0.       ,\n           0.       ,  0.       ],\n         [ 0.       ,  0.       ,  0.       , ...,  0.       ,\n           0.       ,  0.       ],\n         ...,\n         [ 0.53366  ,  0.0085679, -0.85512  , ...,  0.21118  ,\n           0.22603  ,  0.18089  ],\n         [-0.52516  ,  0.44118  , -0.1273   , ..., -0.88581  ,\n           0.075446 ,  0.040447 ],\n         [ 0.53366  ,  0.0085679, -0.85512  , ...,  0.21118  ,\n           0.22603  ,  0.18089  ]],\n \n        ...,\n \n        [[-0.22458  , -0.58967  ,  0.43007  , ..., -0.63613  ,\n           0.31284  , -0.82294  ],\n         [ 0.       ,  0.       ,  0.       , ...,  0.       ,\n           0.       ,  0.       ],\n         [ 0.       ,  0.       ,  0.       , ...,  0.       ,\n           0.       ,  0.       ],\n         ...,\n         [ 0.18383  , -0.051814 , -1.121    , ...,  0.31239  ,\n          -0.59087  ,  0.50118  ],\n         [-0.52516  ,  0.44118  , -0.1273   , ..., -0.88581  ,\n           0.075446 ,  0.040447 ],\n         [ 0.18383  , -0.051814 , -1.121    , ...,  0.31239  ,\n          -0.59087  ,  0.50118  ]],\n \n        [[-0.22458  , -0.58967  ,  0.43007  , ..., -0.63613  ,\n           0.31284  , -0.82294  ],\n         [ 0.       ,  0.       ,  0.       , ...,  0.       ,\n           0.       ,  0.       ],\n         [ 0.       ,  0.       ,  0.       , ...,  0.       ,\n           0.       ,  0.       ],\n         ...,\n         [-0.016447 ,  0.31059  ,  0.3636   , ...,  0.22772  ,\n          -0.52605  ,  0.74876  ],\n         [ 0.32037  , -0.79635  , -0.35096  , ...,  0.01105  ,\n          -0.022445 , -0.0027455],\n         [-0.086301 , -0.34057  ,  0.87351  , ..., -1.0531   ,\n          -0.20141  ,  1.4113   ]],\n \n        [[-0.22458  , -0.58967  ,  0.43007  , ..., -0.63613  ,\n           0.31284  , -0.82294  ],\n         [ 0.       ,  0.       ,  0.       , ...,  0.       ,\n           0.       ,  0.       ],\n         [ 0.       ,  0.       ,  0.       , ...,  0.       ,\n           0.       ,  0.       ],\n         ...,\n         [-0.91886  , -0.71241  , -0.61259  , ...,  0.064601 ,\n          -1.121    , -0.092081 ],\n         [-0.67049  ,  0.26066  ,  0.1065   , ..., -0.33835  ,\n          -0.43663  , -0.13896  ],\n         [-0.52516  ,  0.44118  , -0.1273   , ..., -0.88581  ,\n           0.075446 ,  0.040447 ]]], dtype=float32)>,\n TensorShape([3297, 10, 100]))"
     },
     "execution_count": 46,
     "metadata": {},
     "output_type": "execute_result"
    }
   ],
   "source": [
    "# Convert the preprocessed text to numeric vectors\n",
    "numeric_vectors = vectorizer(product_data_embeddings['combined'].values)\n",
    "\n",
    "# Get word embeddings\n",
    "word_embeddings = embedding_layer(numeric_vectors)\n",
    "word_embeddings, word_embeddings.shape"
   ],
   "metadata": {
    "collapsed": false,
    "ExecuteTime": {
     "end_time": "2023-07-28T09:22:40.168323Z",
     "start_time": "2023-07-28T09:22:40.146373Z"
    }
   }
  },
  {
   "cell_type": "code",
   "execution_count": 47,
   "outputs": [
    {
     "data": {
      "text/plain": "(array([  0,   8, 298,  35,  50]), [1.0, 1.0, 0.9378928, 0.9378928, 0.9378928])"
     },
     "metadata": {},
     "output_type": "display_data"
    }
   ],
   "source": [
    "# def cosine_similarity(a, b):\n",
    "#     return np.dot(a, b) / (np.linalg.norm(a) * np.linalg.norm(b))\n",
    "from sklearn.metrics.pairwise import cosine_similarity\n",
    "\n",
    "def get_n_nearest_neighbors(query_embedding, neighbors_embedding, n = 5):\n",
    "    input_embedding_flat = query_embedding.numpy().reshape(1, -1)\n",
    "    word_embeddings_flat = neighbors_embedding.numpy().reshape(word_embeddings.shape[0], -1)\n",
    "\n",
    "    # Calculate the cosine similarity between the input embedding and all other word embeddings\n",
    "    similarities = cosine_similarity(input_embedding_flat, word_embeddings_flat)\n",
    "    # Get the indices of the most similar neighbors\n",
    "    neighbor_indices = np.argsort(similarities[0])[::-1][:n]\n",
    "\n",
    "    scores = [similarities[0][i] for i in neighbor_indices]\n",
    "   \n",
    "    return neighbor_indices, scores\n",
    "\n",
    "\n",
    "\n",
    "indices = get_n_nearest_neighbors(word_embeddings[0], word_embeddings)\n",
    "display(indices)"
   ],
   "metadata": {
    "collapsed": false,
    "ExecuteTime": {
     "end_time": "2023-07-28T09:22:40.179329Z",
     "start_time": "2023-07-28T09:22:40.169796Z"
    }
   }
  },
  {
   "cell_type": "code",
   "execution_count": 48,
   "outputs": [
    {
     "data": {
      "text/plain": "                                              combined  \\\n0    id 557559 product_number 4058394021466 product...   \n8    id 548618 product_number 4058394180835 product...   \n298  id 3844889 product_number 4060666972710 produc...   \n35   id 549918 product_number 4054452741932 product...   \n50   id 407474 product_number 4054452837635 product...   \n\n                                              combined  \n0    id 557559 product_number 4058394021466 product...  \n8    id 548618 product_number 4058394180835 product...  \n298  id 3844889 product_number 4060666972710 produc...  \n35   id 549918 product_number 4054452741932 product...  \n50   id 407474 product_number 4054452837635 product...  ",
      "text/html": "<div>\n<style scoped>\n    .dataframe tbody tr th:only-of-type {\n        vertical-align: middle;\n    }\n\n    .dataframe tbody tr th {\n        vertical-align: top;\n    }\n\n    .dataframe thead th {\n        text-align: right;\n    }\n</style>\n<table border=\"1\" class=\"dataframe\">\n  <thead>\n    <tr style=\"text-align: right;\">\n      <th></th>\n      <th>combined</th>\n      <th>combined</th>\n    </tr>\n  </thead>\n  <tbody>\n    <tr>\n      <th>0</th>\n      <td>id 557559 product_number 4058394021466 product...</td>\n      <td>id 557559 product_number 4058394021466 product...</td>\n    </tr>\n    <tr>\n      <th>8</th>\n      <td>id 548618 product_number 4058394180835 product...</td>\n      <td>id 548618 product_number 4058394180835 product...</td>\n    </tr>\n    <tr>\n      <th>298</th>\n      <td>id 3844889 product_number 4060666972710 produc...</td>\n      <td>id 3844889 product_number 4060666972710 produc...</td>\n    </tr>\n    <tr>\n      <th>35</th>\n      <td>id 549918 product_number 4054452741932 product...</td>\n      <td>id 549918 product_number 4054452741932 product...</td>\n    </tr>\n    <tr>\n      <th>50</th>\n      <td>id 407474 product_number 4054452837635 product...</td>\n      <td>id 407474 product_number 4054452837635 product...</td>\n    </tr>\n  </tbody>\n</table>\n</div>"
     },
     "execution_count": 48,
     "metadata": {},
     "output_type": "execute_result"
    }
   ],
   "source": [
    "product_data_embeddings.iloc[indices].combined"
   ],
   "metadata": {
    "collapsed": false,
    "ExecuteTime": {
     "end_time": "2023-07-28T09:22:40.185549Z",
     "start_time": "2023-07-28T09:22:40.180497Z"
    }
   }
  },
  {
   "cell_type": "code",
   "execution_count": 49,
   "outputs": [
    {
     "data": {
      "text/plain": "     productNumber  productNumber  product__id  product__id  product__id\n0    4058394021466  4058394021466       557559       557559       557559\n8    4058394180835  4058394180835       548618       548618       548618\n298  4060666972710  4060666972710      3844889      3844889      3844889\n35   4054452741932  4054452741932       549918       549918       549918\n50   4054452837635  4054452837635       407474       407474       407474",
      "text/html": "<div>\n<style scoped>\n    .dataframe tbody tr th:only-of-type {\n        vertical-align: middle;\n    }\n\n    .dataframe tbody tr th {\n        vertical-align: top;\n    }\n\n    .dataframe thead th {\n        text-align: right;\n    }\n</style>\n<table border=\"1\" class=\"dataframe\">\n  <thead>\n    <tr style=\"text-align: right;\">\n      <th></th>\n      <th>productNumber</th>\n      <th>productNumber</th>\n      <th>product__id</th>\n      <th>product__id</th>\n      <th>product__id</th>\n    </tr>\n  </thead>\n  <tbody>\n    <tr>\n      <th>0</th>\n      <td>4058394021466</td>\n      <td>4058394021466</td>\n      <td>557559</td>\n      <td>557559</td>\n      <td>557559</td>\n    </tr>\n    <tr>\n      <th>8</th>\n      <td>4058394180835</td>\n      <td>4058394180835</td>\n      <td>548618</td>\n      <td>548618</td>\n      <td>548618</td>\n    </tr>\n    <tr>\n      <th>298</th>\n      <td>4060666972710</td>\n      <td>4060666972710</td>\n      <td>3844889</td>\n      <td>3844889</td>\n      <td>3844889</td>\n    </tr>\n    <tr>\n      <th>35</th>\n      <td>4054452741932</td>\n      <td>4054452741932</td>\n      <td>549918</td>\n      <td>549918</td>\n      <td>549918</td>\n    </tr>\n    <tr>\n      <th>50</th>\n      <td>4054452837635</td>\n      <td>4054452837635</td>\n      <td>407474</td>\n      <td>407474</td>\n      <td>407474</td>\n    </tr>\n  </tbody>\n</table>\n</div>"
     },
     "execution_count": 49,
     "metadata": {},
     "output_type": "execute_result"
    }
   ],
   "source": [
    "product_data.iloc[indices]"
   ],
   "metadata": {
    "collapsed": false,
    "ExecuteTime": {
     "end_time": "2023-07-28T09:22:40.204808Z",
     "start_time": "2023-07-28T09:22:40.187463Z"
    }
   }
  },
  {
   "cell_type": "code",
   "execution_count": 64,
   "outputs": [
    {
     "name": "stdout",
     "output_type": "stream",
     "text": [
      "{0: 1.0, 8: 1.0, 1: 0.99999994, 298: 0.9378928, 35: 0.9378928}\n"
     ]
    }
   ],
   "source": [
    "\n",
    "def get_best_recommendations_multiple(query_embeddings, neighbors_embeddings, n = 5):\n",
    "    all_results = {}\n",
    "    for query_embedding in query_embeddings:\n",
    "        indices, scores = get_n_nearest_neighbors(query_embedding, neighbors_embeddings, n)\n",
    "        result_dict = {index: score for index, score in zip(indices, scores)}\n",
    "        for key, value in result_dict.items():\n",
    "            if key in all_results:\n",
    "                all_results[key] = max(all_results[key], value)\n",
    "            else: \n",
    "                all_results[key] = value\n",
    "    return dict(sorted(all_results.items(), key=lambda item: item[1], reverse=True)[:n])\n",
    "\n",
    "\n",
    "best_items = get_best_recommendations_multiple([word_embeddings[0], word_embeddings[1]], word_embeddings)\n",
    "            \n",
    "print(best_items)"
   ],
   "metadata": {
    "collapsed": false,
    "ExecuteTime": {
     "end_time": "2023-07-30T08:56:44.218377Z",
     "start_time": "2023-07-30T08:56:44.201073Z"
    }
   }
  }
 ],
 "metadata": {
  "kernelspec": {
   "display_name": "Python 3",
   "language": "python",
   "name": "python3"
  },
  "language_info": {
   "codemirror_mode": {
    "name": "ipython",
    "version": 2
   },
   "file_extension": ".py",
   "mimetype": "text/x-python",
   "name": "python",
   "nbconvert_exporter": "python",
   "pygments_lexer": "ipython2",
   "version": "2.7.6"
  }
 },
 "nbformat": 4,
 "nbformat_minor": 0
}
